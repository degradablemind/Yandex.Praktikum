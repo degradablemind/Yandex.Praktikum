{
 "cells": [
  {
   "cell_type": "markdown",
   "metadata": {},
   "source": [
    "# Определение стоимости автомобилей"
   ]
  },
  {
   "cell_type": "markdown",
   "metadata": {},
   "source": [
    "# Цель: \n",
    "Построить модель для определения стоимости автомобиля на продажу\n"
   ]
  },
  {
   "cell_type": "markdown",
   "metadata": {},
   "source": [
    "# Задачи:\n",
    "- Найти лучшее качество предсказания;\n",
    "- Найти лучшуюю скорость скорость предсказания;\n",
    "- Определить минимальное время обучения модели."
   ]
  },
  {
   "cell_type": "markdown",
   "metadata": {},
   "source": [
    "Установим предварительно необходимые модули для работы"
   ]
  },
  {
   "cell_type": "code",
   "execution_count": 1,
   "metadata": {
    "scrolled": true
   },
   "outputs": [
    {
     "name": "stdout",
     "output_type": "stream",
     "text": [
      "Requirement already satisfied: xgboost in /opt/conda/lib/python3.9/site-packages (1.5.1)\n",
      "Requirement already satisfied: scipy in /opt/conda/lib/python3.9/site-packages (from xgboost) (1.8.0)\n",
      "Requirement already satisfied: numpy in /opt/conda/lib/python3.9/site-packages (from xgboost) (1.21.1)\n",
      "Requirement already satisfied: lightgbm in /opt/conda/lib/python3.9/site-packages (3.3.1)\n",
      "Requirement already satisfied: scipy in /opt/conda/lib/python3.9/site-packages (from lightgbm) (1.8.0)\n",
      "Requirement already satisfied: wheel in /opt/conda/lib/python3.9/site-packages (from lightgbm) (0.36.2)\n",
      "Requirement already satisfied: numpy in /opt/conda/lib/python3.9/site-packages (from lightgbm) (1.21.1)\n",
      "Requirement already satisfied: scikit-learn!=0.22.0 in /opt/conda/lib/python3.9/site-packages (from lightgbm) (0.24.1)\n",
      "Requirement already satisfied: joblib>=0.11 in /opt/conda/lib/python3.9/site-packages (from scikit-learn!=0.22.0->lightgbm) (1.1.0)\n",
      "Requirement already satisfied: threadpoolctl>=2.0.0 in /opt/conda/lib/python3.9/site-packages (from scikit-learn!=0.22.0->lightgbm) (3.1.0)\n",
      "Requirement already satisfied: catboost in /opt/conda/lib/python3.9/site-packages (1.0.3)\n",
      "Requirement already satisfied: graphviz in /opt/conda/lib/python3.9/site-packages (from catboost) (0.20)\n",
      "Requirement already satisfied: pandas>=0.24.0 in /opt/conda/lib/python3.9/site-packages (from catboost) (1.2.4)\n",
      "Requirement already satisfied: numpy>=1.16.0 in /opt/conda/lib/python3.9/site-packages (from catboost) (1.21.1)\n",
      "Requirement already satisfied: plotly in /opt/conda/lib/python3.9/site-packages (from catboost) (5.4.0)\n",
      "Requirement already satisfied: matplotlib in /opt/conda/lib/python3.9/site-packages (from catboost) (3.3.4)\n",
      "Requirement already satisfied: scipy in /opt/conda/lib/python3.9/site-packages (from catboost) (1.8.0)\n",
      "Requirement already satisfied: six in /opt/conda/lib/python3.9/site-packages (from catboost) (1.16.0)\n",
      "Requirement already satisfied: python-dateutil>=2.7.3 in /opt/conda/lib/python3.9/site-packages (from pandas>=0.24.0->catboost) (2.8.1)\n",
      "Requirement already satisfied: pytz>=2017.3 in /opt/conda/lib/python3.9/site-packages (from pandas>=0.24.0->catboost) (2021.1)\n",
      "Requirement already satisfied: kiwisolver>=1.0.1 in /opt/conda/lib/python3.9/site-packages (from matplotlib->catboost) (1.4.2)\n",
      "Requirement already satisfied: cycler>=0.10 in /opt/conda/lib/python3.9/site-packages (from matplotlib->catboost) (0.11.0)\n",
      "Requirement already satisfied: pillow>=6.2.0 in /opt/conda/lib/python3.9/site-packages (from matplotlib->catboost) (8.4.0)\n",
      "Requirement already satisfied: pyparsing!=2.0.4,!=2.1.2,!=2.1.6,>=2.0.3 in /opt/conda/lib/python3.9/site-packages (from matplotlib->catboost) (2.4.7)\n",
      "Requirement already satisfied: tenacity>=6.2.0 in /opt/conda/lib/python3.9/site-packages (from plotly->catboost) (8.0.1)\n"
     ]
    }
   ],
   "source": [
    "!pip3 install xgboost\n",
    "!pip3 install lightgbm\n",
    "!pip install catboost"
   ]
  },
  {
   "cell_type": "markdown",
   "metadata": {},
   "source": [
    "Импортируем необходимые библиотеки"
   ]
  },
  {
   "cell_type": "code",
   "execution_count": 2,
   "metadata": {},
   "outputs": [],
   "source": [
    "import pandas as pd\n",
    "import numpy as np\n",
    "import matplotlib.pyplot as plt\n",
    "import seaborn as sns\n",
    "from sklearn.preprocessing import StandardScaler\n",
    "from sklearn.preprocessing import OrdinalEncoder\n",
    "from sklearn.model_selection import train_test_split\n",
    "from sklearn.model_selection import GridSearchCV\n",
    "from xgboost import XGBRegressor\n",
    "from catboost import CatBoostRegressor\n",
    "from catboost import CatBoostClassifier\n",
    "from lightgbm import LGBMRegressor\n",
    "from sklearn.metrics import mean_squared_error\n",
    "from timeit import default_timer as timer"
   ]
  },
  {
   "cell_type": "markdown",
   "metadata": {},
   "source": [
    "Создадим функцию для быстрого анализа таблицы"
   ]
  },
  {
   "cell_type": "code",
   "execution_count": 3,
   "metadata": {},
   "outputs": [],
   "source": [
    "def df_info(dataframe):\n",
    "    column = dataframe.columns.values.tolist() # список наименований столбцов таблицы\n",
    "    print('Общая информация о таблице:\\n')\n",
    "    dataframe.info() # общая иноформация о таблице\n",
    "    print('\\nВнешний вид таблицы:')\n",
    "    display(dataframe.head()) # внешний вид первых 5 строк таблицы\n",
    "\n",
    "    # далее выводим все интересующие нас особенности таблицы, соответствнно, обозначенные в функции print()\n",
    "    print('Столбцы таблицы: {}\\n'.format(column),\n",
    "          '\\n\\nОбщее количество уникальных значений столбцов {}:\\n\\n{}'.\n",
    "          format(column, dataframe.nunique()),\n",
    "          '\\n\\nКоличество пропущенных значений столбцов {}:\\n\\n{}'.\n",
    "          format(column, dataframe.isna().sum()))\n",
    "    \n",
    "    for i in column: # создадим цикл для перебора значений столбцов для отдельного примнения к ним любой функции\n",
    "          print('\\n\\nКоличество дубликатов столбца:\\n{}\\t   {}'.format(i, dataframe[i].duplicated().sum()))\n",
    "    print('\\nОбщее количество явных дубликтов: {}'.format(dataframe.duplicated().sum()))\n",
    "    print('\\n\\nТаблица корреляций значений столбцов {}:\\n\\n{}'.format(column, dataframe.corr()), '\\n',\n",
    "          '\\n\\nТаблица распределений значений столбцов {}:\\n\\n{}'.format(column, dataframe.describe()), '\\n')\n",
    "    print('Гистограммы распределений значений столбцов {}'.format(column))\n",
    "    dataframe.hist(bins=50, figsize=(15, 7), edgecolor = 'k')"
   ]
  },
  {
   "cell_type": "markdown",
   "metadata": {},
   "source": [
    "Создадим константную переменную"
   ]
  },
  {
   "cell_type": "code",
   "execution_count": 4,
   "metadata": {},
   "outputs": [],
   "source": [
    "RS = 12345"
   ]
  },
  {
   "cell_type": "markdown",
   "metadata": {},
   "source": [
    "## Подготовка данных"
   ]
  },
  {
   "cell_type": "code",
   "execution_count": 5,
   "metadata": {},
   "outputs": [],
   "source": [
    "df = pd.read_csv('/datasets/autos.csv')"
   ]
  },
  {
   "cell_type": "code",
   "execution_count": 6,
   "metadata": {
    "scrolled": true
   },
   "outputs": [
    {
     "name": "stdout",
     "output_type": "stream",
     "text": [
      "Общая информация о таблице:\n",
      "\n",
      "<class 'pandas.core.frame.DataFrame'>\n",
      "RangeIndex: 354369 entries, 0 to 354368\n",
      "Data columns (total 16 columns):\n",
      " #   Column             Non-Null Count   Dtype \n",
      "---  ------             --------------   ----- \n",
      " 0   DateCrawled        354369 non-null  object\n",
      " 1   Price              354369 non-null  int64 \n",
      " 2   VehicleType        316879 non-null  object\n",
      " 3   RegistrationYear   354369 non-null  int64 \n",
      " 4   Gearbox            334536 non-null  object\n",
      " 5   Power              354369 non-null  int64 \n",
      " 6   Model              334664 non-null  object\n",
      " 7   Kilometer          354369 non-null  int64 \n",
      " 8   RegistrationMonth  354369 non-null  int64 \n",
      " 9   FuelType           321474 non-null  object\n",
      " 10  Brand              354369 non-null  object\n",
      " 11  NotRepaired        283215 non-null  object\n",
      " 12  DateCreated        354369 non-null  object\n",
      " 13  NumberOfPictures   354369 non-null  int64 \n",
      " 14  PostalCode         354369 non-null  int64 \n",
      " 15  LastSeen           354369 non-null  object\n",
      "dtypes: int64(7), object(9)\n",
      "memory usage: 43.3+ MB\n",
      "\n",
      "Внешний вид таблицы:\n"
     ]
    },
    {
     "data": {
      "text/html": [
       "<div>\n",
       "<style scoped>\n",
       "    .dataframe tbody tr th:only-of-type {\n",
       "        vertical-align: middle;\n",
       "    }\n",
       "\n",
       "    .dataframe tbody tr th {\n",
       "        vertical-align: top;\n",
       "    }\n",
       "\n",
       "    .dataframe thead th {\n",
       "        text-align: right;\n",
       "    }\n",
       "</style>\n",
       "<table border=\"1\" class=\"dataframe\">\n",
       "  <thead>\n",
       "    <tr style=\"text-align: right;\">\n",
       "      <th></th>\n",
       "      <th>DateCrawled</th>\n",
       "      <th>Price</th>\n",
       "      <th>VehicleType</th>\n",
       "      <th>RegistrationYear</th>\n",
       "      <th>Gearbox</th>\n",
       "      <th>Power</th>\n",
       "      <th>Model</th>\n",
       "      <th>Kilometer</th>\n",
       "      <th>RegistrationMonth</th>\n",
       "      <th>FuelType</th>\n",
       "      <th>Brand</th>\n",
       "      <th>NotRepaired</th>\n",
       "      <th>DateCreated</th>\n",
       "      <th>NumberOfPictures</th>\n",
       "      <th>PostalCode</th>\n",
       "      <th>LastSeen</th>\n",
       "    </tr>\n",
       "  </thead>\n",
       "  <tbody>\n",
       "    <tr>\n",
       "      <th>0</th>\n",
       "      <td>2016-03-24 11:52:17</td>\n",
       "      <td>480</td>\n",
       "      <td>NaN</td>\n",
       "      <td>1993</td>\n",
       "      <td>manual</td>\n",
       "      <td>0</td>\n",
       "      <td>golf</td>\n",
       "      <td>150000</td>\n",
       "      <td>0</td>\n",
       "      <td>petrol</td>\n",
       "      <td>volkswagen</td>\n",
       "      <td>NaN</td>\n",
       "      <td>2016-03-24 00:00:00</td>\n",
       "      <td>0</td>\n",
       "      <td>70435</td>\n",
       "      <td>2016-04-07 03:16:57</td>\n",
       "    </tr>\n",
       "    <tr>\n",
       "      <th>1</th>\n",
       "      <td>2016-03-24 10:58:45</td>\n",
       "      <td>18300</td>\n",
       "      <td>coupe</td>\n",
       "      <td>2011</td>\n",
       "      <td>manual</td>\n",
       "      <td>190</td>\n",
       "      <td>NaN</td>\n",
       "      <td>125000</td>\n",
       "      <td>5</td>\n",
       "      <td>gasoline</td>\n",
       "      <td>audi</td>\n",
       "      <td>yes</td>\n",
       "      <td>2016-03-24 00:00:00</td>\n",
       "      <td>0</td>\n",
       "      <td>66954</td>\n",
       "      <td>2016-04-07 01:46:50</td>\n",
       "    </tr>\n",
       "    <tr>\n",
       "      <th>2</th>\n",
       "      <td>2016-03-14 12:52:21</td>\n",
       "      <td>9800</td>\n",
       "      <td>suv</td>\n",
       "      <td>2004</td>\n",
       "      <td>auto</td>\n",
       "      <td>163</td>\n",
       "      <td>grand</td>\n",
       "      <td>125000</td>\n",
       "      <td>8</td>\n",
       "      <td>gasoline</td>\n",
       "      <td>jeep</td>\n",
       "      <td>NaN</td>\n",
       "      <td>2016-03-14 00:00:00</td>\n",
       "      <td>0</td>\n",
       "      <td>90480</td>\n",
       "      <td>2016-04-05 12:47:46</td>\n",
       "    </tr>\n",
       "    <tr>\n",
       "      <th>3</th>\n",
       "      <td>2016-03-17 16:54:04</td>\n",
       "      <td>1500</td>\n",
       "      <td>small</td>\n",
       "      <td>2001</td>\n",
       "      <td>manual</td>\n",
       "      <td>75</td>\n",
       "      <td>golf</td>\n",
       "      <td>150000</td>\n",
       "      <td>6</td>\n",
       "      <td>petrol</td>\n",
       "      <td>volkswagen</td>\n",
       "      <td>no</td>\n",
       "      <td>2016-03-17 00:00:00</td>\n",
       "      <td>0</td>\n",
       "      <td>91074</td>\n",
       "      <td>2016-03-17 17:40:17</td>\n",
       "    </tr>\n",
       "    <tr>\n",
       "      <th>4</th>\n",
       "      <td>2016-03-31 17:25:20</td>\n",
       "      <td>3600</td>\n",
       "      <td>small</td>\n",
       "      <td>2008</td>\n",
       "      <td>manual</td>\n",
       "      <td>69</td>\n",
       "      <td>fabia</td>\n",
       "      <td>90000</td>\n",
       "      <td>7</td>\n",
       "      <td>gasoline</td>\n",
       "      <td>skoda</td>\n",
       "      <td>no</td>\n",
       "      <td>2016-03-31 00:00:00</td>\n",
       "      <td>0</td>\n",
       "      <td>60437</td>\n",
       "      <td>2016-04-06 10:17:21</td>\n",
       "    </tr>\n",
       "  </tbody>\n",
       "</table>\n",
       "</div>"
      ],
      "text/plain": [
       "           DateCrawled  Price VehicleType  RegistrationYear Gearbox  Power  \\\n",
       "0  2016-03-24 11:52:17    480         NaN              1993  manual      0   \n",
       "1  2016-03-24 10:58:45  18300       coupe              2011  manual    190   \n",
       "2  2016-03-14 12:52:21   9800         suv              2004    auto    163   \n",
       "3  2016-03-17 16:54:04   1500       small              2001  manual     75   \n",
       "4  2016-03-31 17:25:20   3600       small              2008  manual     69   \n",
       "\n",
       "   Model  Kilometer  RegistrationMonth  FuelType       Brand NotRepaired  \\\n",
       "0   golf     150000                  0    petrol  volkswagen         NaN   \n",
       "1    NaN     125000                  5  gasoline        audi         yes   \n",
       "2  grand     125000                  8  gasoline        jeep         NaN   \n",
       "3   golf     150000                  6    petrol  volkswagen          no   \n",
       "4  fabia      90000                  7  gasoline       skoda          no   \n",
       "\n",
       "           DateCreated  NumberOfPictures  PostalCode             LastSeen  \n",
       "0  2016-03-24 00:00:00                 0       70435  2016-04-07 03:16:57  \n",
       "1  2016-03-24 00:00:00                 0       66954  2016-04-07 01:46:50  \n",
       "2  2016-03-14 00:00:00                 0       90480  2016-04-05 12:47:46  \n",
       "3  2016-03-17 00:00:00                 0       91074  2016-03-17 17:40:17  \n",
       "4  2016-03-31 00:00:00                 0       60437  2016-04-06 10:17:21  "
      ]
     },
     "metadata": {},
     "output_type": "display_data"
    },
    {
     "name": "stdout",
     "output_type": "stream",
     "text": [
      "Столбцы таблицы: ['DateCrawled', 'Price', 'VehicleType', 'RegistrationYear', 'Gearbox', 'Power', 'Model', 'Kilometer', 'RegistrationMonth', 'FuelType', 'Brand', 'NotRepaired', 'DateCreated', 'NumberOfPictures', 'PostalCode', 'LastSeen']\n",
      " \n",
      "\n",
      "Общее количество уникальных значений столбцов ['DateCrawled', 'Price', 'VehicleType', 'RegistrationYear', 'Gearbox', 'Power', 'Model', 'Kilometer', 'RegistrationMonth', 'FuelType', 'Brand', 'NotRepaired', 'DateCreated', 'NumberOfPictures', 'PostalCode', 'LastSeen']:\n",
      "\n",
      "DateCrawled          271174\n",
      "Price                  3731\n",
      "VehicleType               8\n",
      "RegistrationYear        151\n",
      "Gearbox                   2\n",
      "Power                   712\n",
      "Model                   250\n",
      "Kilometer                13\n",
      "RegistrationMonth        13\n",
      "FuelType                  7\n",
      "Brand                    40\n",
      "NotRepaired               2\n",
      "DateCreated             109\n",
      "NumberOfPictures          1\n",
      "PostalCode             8143\n",
      "LastSeen             179150\n",
      "dtype: int64 \n",
      "\n",
      "Количество пропущенных значений столбцов ['DateCrawled', 'Price', 'VehicleType', 'RegistrationYear', 'Gearbox', 'Power', 'Model', 'Kilometer', 'RegistrationMonth', 'FuelType', 'Brand', 'NotRepaired', 'DateCreated', 'NumberOfPictures', 'PostalCode', 'LastSeen']:\n",
      "\n",
      "DateCrawled              0\n",
      "Price                    0\n",
      "VehicleType          37490\n",
      "RegistrationYear         0\n",
      "Gearbox              19833\n",
      "Power                    0\n",
      "Model                19705\n",
      "Kilometer                0\n",
      "RegistrationMonth        0\n",
      "FuelType             32895\n",
      "Brand                    0\n",
      "NotRepaired          71154\n",
      "DateCreated              0\n",
      "NumberOfPictures         0\n",
      "PostalCode               0\n",
      "LastSeen                 0\n",
      "dtype: int64\n",
      "\n",
      "\n",
      "Количество дубликатов столбца:\n",
      "DateCrawled\t   83195\n",
      "\n",
      "\n",
      "Количество дубликатов столбца:\n",
      "Price\t   350638\n",
      "\n",
      "\n",
      "Количество дубликатов столбца:\n",
      "VehicleType\t   354360\n",
      "\n",
      "\n",
      "Количество дубликатов столбца:\n",
      "RegistrationYear\t   354218\n",
      "\n",
      "\n",
      "Количество дубликатов столбца:\n",
      "Gearbox\t   354366\n",
      "\n",
      "\n",
      "Количество дубликатов столбца:\n",
      "Power\t   353657\n",
      "\n",
      "\n",
      "Количество дубликатов столбца:\n",
      "Model\t   354118\n",
      "\n",
      "\n",
      "Количество дубликатов столбца:\n",
      "Kilometer\t   354356\n",
      "\n",
      "\n",
      "Количество дубликатов столбца:\n",
      "RegistrationMonth\t   354356\n",
      "\n",
      "\n",
      "Количество дубликатов столбца:\n",
      "FuelType\t   354361\n",
      "\n",
      "\n",
      "Количество дубликатов столбца:\n",
      "Brand\t   354329\n",
      "\n",
      "\n",
      "Количество дубликатов столбца:\n",
      "NotRepaired\t   354366\n",
      "\n",
      "\n",
      "Количество дубликатов столбца:\n",
      "DateCreated\t   354260\n",
      "\n",
      "\n",
      "Количество дубликатов столбца:\n",
      "NumberOfPictures\t   354368\n",
      "\n",
      "\n",
      "Количество дубликатов столбца:\n",
      "PostalCode\t   346226\n",
      "\n",
      "\n",
      "Количество дубликатов столбца:\n",
      "LastSeen\t   175219\n",
      "\n",
      "Общее количество явных дубликтов: 4\n",
      "\n",
      "\n",
      "Таблица корреляций значений столбцов ['DateCrawled', 'Price', 'VehicleType', 'RegistrationYear', 'Gearbox', 'Power', 'Model', 'Kilometer', 'RegistrationMonth', 'FuelType', 'Brand', 'NotRepaired', 'DateCreated', 'NumberOfPictures', 'PostalCode', 'LastSeen']:\n",
      "\n",
      "                      Price  RegistrationYear     Power  Kilometer  \\\n",
      "Price              1.000000          0.026916  0.158872  -0.333199   \n",
      "RegistrationYear   0.026916          1.000000 -0.000828  -0.053447   \n",
      "Power              0.158872         -0.000828  1.000000   0.024002   \n",
      "Kilometer         -0.333199         -0.053447  0.024002   1.000000   \n",
      "RegistrationMonth  0.110581         -0.011619  0.043380   0.009571   \n",
      "NumberOfPictures        NaN               NaN       NaN        NaN   \n",
      "PostalCode         0.076055         -0.003459  0.021665  -0.007698   \n",
      "\n",
      "                   RegistrationMonth  NumberOfPictures  PostalCode  \n",
      "Price                       0.110581               NaN    0.076055  \n",
      "RegistrationYear           -0.011619               NaN   -0.003459  \n",
      "Power                       0.043380               NaN    0.021665  \n",
      "Kilometer                   0.009571               NaN   -0.007698  \n",
      "RegistrationMonth           1.000000               NaN    0.013995  \n",
      "NumberOfPictures                 NaN               NaN         NaN  \n",
      "PostalCode                  0.013995               NaN    1.000000   \n",
      " \n",
      "\n",
      "Таблица распределений значений столбцов ['DateCrawled', 'Price', 'VehicleType', 'RegistrationYear', 'Gearbox', 'Power', 'Model', 'Kilometer', 'RegistrationMonth', 'FuelType', 'Brand', 'NotRepaired', 'DateCreated', 'NumberOfPictures', 'PostalCode', 'LastSeen']:\n",
      "\n",
      "               Price  RegistrationYear          Power      Kilometer  \\\n",
      "count  354369.000000     354369.000000  354369.000000  354369.000000   \n",
      "mean     4416.656776       2004.234448     110.094337  128211.172535   \n",
      "std      4514.158514         90.227958     189.850405   37905.341530   \n",
      "min         0.000000       1000.000000       0.000000    5000.000000   \n",
      "25%      1050.000000       1999.000000      69.000000  125000.000000   \n",
      "50%      2700.000000       2003.000000     105.000000  150000.000000   \n",
      "75%      6400.000000       2008.000000     143.000000  150000.000000   \n",
      "max     20000.000000       9999.000000   20000.000000  150000.000000   \n",
      "\n",
      "       RegistrationMonth  NumberOfPictures     PostalCode  \n",
      "count      354369.000000          354369.0  354369.000000  \n",
      "mean            5.714645               0.0   50508.689087  \n",
      "std             3.726421               0.0   25783.096248  \n",
      "min             0.000000               0.0    1067.000000  \n",
      "25%             3.000000               0.0   30165.000000  \n",
      "50%             6.000000               0.0   49413.000000  \n",
      "75%             9.000000               0.0   71083.000000  \n",
      "max            12.000000               0.0   99998.000000   \n",
      "\n",
      "Гистограммы распределений значений столбцов ['DateCrawled', 'Price', 'VehicleType', 'RegistrationYear', 'Gearbox', 'Power', 'Model', 'Kilometer', 'RegistrationMonth', 'FuelType', 'Brand', 'NotRepaired', 'DateCreated', 'NumberOfPictures', 'PostalCode', 'LastSeen']\n"
     ]
    },
    {
     "data": {
      "image/png": "[encoded data removed]",
      "text/plain": [
       "<Figure size 1080x504 with 9 Axes>"
      ]
     },
     "metadata": {
      "needs_background": "light"
     },
     "output_type": "display_data"
    }
   ],
   "source": [
    "df_info(df)"
   ]
  },
  {
   "cell_type": "markdown",
   "metadata": {},
   "source": [
    "Удалим явные дубликаты"
   ]
  },
  {
   "cell_type": "code",
   "execution_count": 7,
   "metadata": {},
   "outputs": [],
   "source": [
    "df = df.drop_duplicates()"
   ]
  },
  {
   "cell_type": "markdown",
   "metadata": {},
   "source": [
    "Работа с пропусками"
   ]
  },
  {
   "cell_type": "markdown",
   "metadata": {},
   "source": [
    "Для замены пропущенных значений в таблице попытаемся заменить значения NaN в категории `VehicleType` на основе модели и брена автомобиля"
   ]
  },
  {
   "cell_type": "code",
   "execution_count": 8,
   "metadata": {},
   "outputs": [
    {
     "data": {
      "text/html": [
       "<div>\n",
       "<style scoped>\n",
       "    .dataframe tbody tr th:only-of-type {\n",
       "        vertical-align: middle;\n",
       "    }\n",
       "\n",
       "    .dataframe tbody tr th {\n",
       "        vertical-align: top;\n",
       "    }\n",
       "\n",
       "    .dataframe thead th {\n",
       "        text-align: right;\n",
       "    }\n",
       "</style>\n",
       "<table border=\"1\" class=\"dataframe\">\n",
       "  <thead>\n",
       "    <tr style=\"text-align: right;\">\n",
       "      <th></th>\n",
       "      <th></th>\n",
       "      <th>VehicleType</th>\n",
       "    </tr>\n",
       "    <tr>\n",
       "      <th>Brand</th>\n",
       "      <th>Model</th>\n",
       "      <th></th>\n",
       "    </tr>\n",
       "  </thead>\n",
       "  <tbody>\n",
       "    <tr>\n",
       "      <th rowspan=\"5\" valign=\"top\">alfa_romeo</th>\n",
       "      <th>145</th>\n",
       "      <td>small</td>\n",
       "    </tr>\n",
       "    <tr>\n",
       "      <th>147</th>\n",
       "      <td>sedan</td>\n",
       "    </tr>\n",
       "    <tr>\n",
       "      <th>156</th>\n",
       "      <td>wagon</td>\n",
       "    </tr>\n",
       "    <tr>\n",
       "      <th>159</th>\n",
       "      <td>sedan</td>\n",
       "    </tr>\n",
       "    <tr>\n",
       "      <th>other</th>\n",
       "      <td>coupe</td>\n",
       "    </tr>\n",
       "    <tr>\n",
       "      <th>...</th>\n",
       "      <th>...</th>\n",
       "      <td>...</td>\n",
       "    </tr>\n",
       "    <tr>\n",
       "      <th rowspan=\"5\" valign=\"top\">volvo</th>\n",
       "      <th>v40</th>\n",
       "      <td>wagon</td>\n",
       "    </tr>\n",
       "    <tr>\n",
       "      <th>v50</th>\n",
       "      <td>wagon</td>\n",
       "    </tr>\n",
       "    <tr>\n",
       "      <th>v60</th>\n",
       "      <td>wagon</td>\n",
       "    </tr>\n",
       "    <tr>\n",
       "      <th>v70</th>\n",
       "      <td>wagon</td>\n",
       "    </tr>\n",
       "    <tr>\n",
       "      <th>xc_reihe</th>\n",
       "      <td>suv</td>\n",
       "    </tr>\n",
       "  </tbody>\n",
       "</table>\n",
       "<p>297 rows × 1 columns</p>\n",
       "</div>"
      ],
      "text/plain": [
       "                    VehicleType\n",
       "Brand      Model               \n",
       "alfa_romeo 145            small\n",
       "           147            sedan\n",
       "           156            wagon\n",
       "           159            sedan\n",
       "           other          coupe\n",
       "...                         ...\n",
       "volvo      v40            wagon\n",
       "           v50            wagon\n",
       "           v60            wagon\n",
       "           v70            wagon\n",
       "           xc_reihe         suv\n",
       "\n",
       "[297 rows x 1 columns]"
      ]
     },
     "execution_count": 8,
     "metadata": {},
     "output_type": "execute_result"
    }
   ],
   "source": [
    "# создадим сводную таблицу наших категорий\n",
    "vehicle_type = df.pivot_table(index=['Brand', 'Model'],  values='VehicleType', aggfunc='first')\n",
    "vehicle_type"
   ]
  },
  {
   "cell_type": "markdown",
   "metadata": {},
   "source": [
    "Далее напишем функцию для замены значений по двум столбцам и добавим новый столбец в исходную таблицу."
   ]
  },
  {
   "cell_type": "code",
   "execution_count": 9,
   "metadata": {},
   "outputs": [
    {
     "data": {
      "text/plain": [
       "DateCrawled              0\n",
       "Price                    0\n",
       "VehicleType              0\n",
       "RegistrationYear         0\n",
       "Gearbox              19833\n",
       "Power                    0\n",
       "Model                19705\n",
       "Kilometer                0\n",
       "RegistrationMonth        0\n",
       "FuelType             32895\n",
       "Brand                    0\n",
       "NotRepaired          71154\n",
       "DateCreated              0\n",
       "NumberOfPictures         0\n",
       "PostalCode               0\n",
       "LastSeen                 0\n",
       "vehicle_type             0\n",
       "dtype: int64"
      ]
     },
     "execution_count": 9,
     "metadata": {},
     "output_type": "execute_result"
    }
   ],
   "source": [
    "# напишем и применим функцию к данным по несколькиv группам для поиска медианных значений\n",
    "def fillnan(brand, model):\n",
    "    try:\n",
    "        return vehicle_type[model][brand]\n",
    "    except:\n",
    "        return 'unknown'\n",
    "# запишем данные результаты в новый столбец исходного датафрейма\n",
    "df['vehicle_type'] = df.apply(lambda row: fillnan(row['Brand'], row['Model']), axis=1)\n",
    "# заменим пропуски в столбце 'total_income' из нового столбца полученных медаин\n",
    "df['VehicleType'] = df['VehicleType'].fillna(df['vehicle_type']) \n",
    "# проверим результат пропусков\n",
    "df.isna().sum()"
   ]
  },
  {
   "cell_type": "markdown",
   "metadata": {},
   "source": [
    "Заменим пропуски в остальных категориях на значения `unknown`в силу невозможности заполнить их релевантным значением, а также не будем удалять их полностью, чтобы не лишаться большого объема информации."
   ]
  },
  {
   "cell_type": "code",
   "execution_count": 10,
   "metadata": {},
   "outputs": [],
   "source": [
    "df[['NotRepaired', 'Gearbox', 'FuelType', 'Model']] = df[['NotRepaired', 'Gearbox', 'FuelType', 'Model']].fillna('unknown')"
   ]
  },
  {
   "cell_type": "markdown",
   "metadata": {},
   "source": [
    "Проверим значения пропусков после обработки"
   ]
  },
  {
   "cell_type": "code",
   "execution_count": 11,
   "metadata": {},
   "outputs": [
    {
     "data": {
      "text/plain": [
       "DateCrawled          0\n",
       "Price                0\n",
       "VehicleType          0\n",
       "RegistrationYear     0\n",
       "Gearbox              0\n",
       "Power                0\n",
       "Model                0\n",
       "Kilometer            0\n",
       "RegistrationMonth    0\n",
       "FuelType             0\n",
       "Brand                0\n",
       "NotRepaired          0\n",
       "DateCreated          0\n",
       "NumberOfPictures     0\n",
       "PostalCode           0\n",
       "LastSeen             0\n",
       "vehicle_type         0\n",
       "dtype: int64"
      ]
     },
     "execution_count": 11,
     "metadata": {},
     "output_type": "execute_result"
    }
   ],
   "source": [
    "df.isna().sum()"
   ]
  },
  {
   "cell_type": "markdown",
   "metadata": {},
   "source": [
    "Проверим нулевые значения в столбце `price`, так как это наш целевой признак"
   ]
  },
  {
   "cell_type": "code",
   "execution_count": 12,
   "metadata": {
    "scrolled": false
   },
   "outputs": [
    {
     "data": {
      "text/plain": [
       "<AxesSubplot:>"
      ]
     },
     "execution_count": 12,
     "metadata": {},
     "output_type": "execute_result"
    },
    {
     "data": {
      "image/png": "[encoded data removed]",
      "text/plain": [
       "<Figure size 432x288 with 1 Axes>"
      ]
     },
     "metadata": {
      "needs_background": "light"
     },
     "output_type": "display_data"
    }
   ],
   "source": [
    "df['Price'].hist(bins=100)"
   ]
  },
  {
   "cell_type": "code",
   "execution_count": 13,
   "metadata": {
    "scrolled": true
   },
   "outputs": [
    {
     "data": {
      "text/plain": [
       "DateCrawled          10772\n",
       "Price                10772\n",
       "VehicleType          10772\n",
       "RegistrationYear     10772\n",
       "Gearbox              10772\n",
       "Power                10772\n",
       "Model                10772\n",
       "Kilometer            10772\n",
       "RegistrationMonth    10772\n",
       "FuelType             10772\n",
       "Brand                10772\n",
       "NotRepaired          10772\n",
       "DateCreated          10772\n",
       "NumberOfPictures     10772\n",
       "PostalCode           10772\n",
       "LastSeen             10772\n",
       "vehicle_type         10772\n",
       "dtype: int64"
      ]
     },
     "execution_count": 13,
     "metadata": {},
     "output_type": "execute_result"
    }
   ],
   "source": [
    "df[df['Price'] == 0].count()\n"
   ]
  },
  {
   "cell_type": "markdown",
   "metadata": {},
   "source": [
    "Избавимся от нулей в цене, видимо это договорная цена, но она будет мешать нам для обучения ценообразования, соответственно нужно их исключить, к тому же их количество относительно мало."
   ]
  },
  {
   "cell_type": "code",
   "execution_count": 14,
   "metadata": {},
   "outputs": [],
   "source": [
    "df = df[df['Price'] != 0]"
   ]
  },
  {
   "cell_type": "markdown",
   "metadata": {},
   "source": [
    "Проверим другие столбцы с количественными значениями (`Power`, `Kilometer`) на наличие выборосов и аномалий."
   ]
  },
  {
   "cell_type": "code",
   "execution_count": 15,
   "metadata": {
    "scrolled": false
   },
   "outputs": [
    {
     "data": {
      "text/plain": [
       "<AxesSubplot:>"
      ]
     },
     "execution_count": 15,
     "metadata": {},
     "output_type": "execute_result"
    },
    {
     "data": {
      "image/png": "[encoded data removed]",
      "text/plain": [
       "<Figure size 432x288 with 1 Axes>"
      ]
     },
     "metadata": {
      "needs_background": "light"
     },
     "output_type": "display_data"
    }
   ],
   "source": [
    "df.boxplot(column='Power')"
   ]
  },
  {
   "cell_type": "code",
   "execution_count": 16,
   "metadata": {
    "scrolled": false
   },
   "outputs": [
    {
     "name": "stderr",
     "output_type": "stream",
     "text": [
      "/opt/conda/lib/python3.9/site-packages/seaborn/distributions.py:2557: FutureWarning: `distplot` is a deprecated function and will be removed in a future version. Please adapt your code to use either `displot` (a figure-level function with similar flexibility) or `histplot` (an axes-level function for histograms).\n",
      "  warnings.warn(msg, FutureWarning)\n"
     ]
    },
    {
     "data": {
      "text/plain": [
       "<AxesSubplot:xlabel='Power', ylabel='Density'>"
      ]
     },
     "execution_count": 16,
     "metadata": {},
     "output_type": "execute_result"
    },
    {
     "data": {
      "image/png": "[encoded data removed]",
      "text/plain": [
       "<Figure size 432x288 with 1 Axes>"
      ]
     },
     "metadata": {
      "needs_background": "light"
     },
     "output_type": "display_data"
    }
   ],
   "source": [
    "sns.distplot(df['Power'])"
   ]
  },
  {
   "cell_type": "markdown",
   "metadata": {},
   "source": [
    "Из графиков можно видеть, что имеются довольно большие разбросы в столбце `Power`, надо их убрать для высеивания нормы распределения"
   ]
  },
  {
   "cell_type": "code",
   "execution_count": 17,
   "metadata": {},
   "outputs": [
    {
     "data": {
      "text/plain": [
       "<AxesSubplot:>"
      ]
     },
     "execution_count": 17,
     "metadata": {},
     "output_type": "execute_result"
    },
    {
     "data": {
      "image/png": "[encoded data removed]",
      "text/plain": [
       "<Figure size 432x288 with 1 Axes>"
      ]
     },
     "metadata": {
      "needs_background": "light"
     },
     "output_type": "display_data"
    }
   ],
   "source": [
    "df.boxplot(column='Kilometer')"
   ]
  },
  {
   "cell_type": "code",
   "execution_count": 18,
   "metadata": {
    "scrolled": true
   },
   "outputs": [
    {
     "name": "stderr",
     "output_type": "stream",
     "text": [
      "/opt/conda/lib/python3.9/site-packages/seaborn/distributions.py:2557: FutureWarning: `distplot` is a deprecated function and will be removed in a future version. Please adapt your code to use either `displot` (a figure-level function with similar flexibility) or `histplot` (an axes-level function for histograms).\n",
      "  warnings.warn(msg, FutureWarning)\n"
     ]
    },
    {
     "data": {
      "text/plain": [
       "<AxesSubplot:xlabel='Kilometer', ylabel='Density'>"
      ]
     },
     "execution_count": 18,
     "metadata": {},
     "output_type": "execute_result"
    },
    {
     "data": {
      "image/png": "[encoded data removed]",
      "text/plain": [
       "<Figure size 432x288 with 1 Axes>"
      ]
     },
     "metadata": {
      "needs_background": "light"
     },
     "output_type": "display_data"
    }
   ],
   "source": [
    "sns.distplot(df['Kilometer'])"
   ]
  },
  {
   "cell_type": "markdown",
   "metadata": {},
   "source": [
    "В столбце `Kilometer` также имеются выборсы значений. Отсечем их и еще раз проверим результат."
   ]
  },
  {
   "cell_type": "code",
   "execution_count": 19,
   "metadata": {},
   "outputs": [],
   "source": [
    "numeric = ['Power', 'Kilometer'] # создадим список необходимых количественных признаков"
   ]
  },
  {
   "cell_type": "markdown",
   "metadata": {},
   "source": [
    "Создадим цикл для отсеивания выборосов"
   ]
  },
  {
   "cell_type": "code",
   "execution_count": 20,
   "metadata": {},
   "outputs": [],
   "source": [
    "for column in numeric:\n",
    "    q1 = df[column].quantile(0.25)\n",
    "    q3 = df[column].quantile(0.75)\n",
    "    iqr = q3-q1 # межквантильный размах\n",
    "    fence_low  = q1 - 3 * iqr\n",
    "    fence_high = q3 + 3 * iqr\n",
    "    df = df.loc[(df[column] > fence_low) & (df[column] < fence_high)]"
   ]
  },
  {
   "cell_type": "markdown",
   "metadata": {},
   "source": [
    "Проверим результат"
   ]
  },
  {
   "cell_type": "code",
   "execution_count": 21,
   "metadata": {},
   "outputs": [
    {
     "data": {
      "text/plain": [
       "<AxesSubplot:>"
      ]
     },
     "execution_count": 21,
     "metadata": {},
     "output_type": "execute_result"
    },
    {
     "data": {
      "image/png": "[encoded data removed]",
      "text/plain": [
       "<Figure size 432x288 with 1 Axes>"
      ]
     },
     "metadata": {
      "needs_background": "light"
     },
     "output_type": "display_data"
    }
   ],
   "source": [
    "df.boxplot(column='Power')"
   ]
  },
  {
   "cell_type": "code",
   "execution_count": 22,
   "metadata": {
    "scrolled": true
   },
   "outputs": [
    {
     "name": "stderr",
     "output_type": "stream",
     "text": [
      "/opt/conda/lib/python3.9/site-packages/seaborn/distributions.py:2557: FutureWarning: `distplot` is a deprecated function and will be removed in a future version. Please adapt your code to use either `displot` (a figure-level function with similar flexibility) or `histplot` (an axes-level function for histograms).\n",
      "  warnings.warn(msg, FutureWarning)\n"
     ]
    },
    {
     "data": {
      "text/plain": [
       "<AxesSubplot:xlabel='Power', ylabel='Density'>"
      ]
     },
     "execution_count": 22,
     "metadata": {},
     "output_type": "execute_result"
    },
    {
     "data": {
      "image/png": "[encoded data removed]",
      "text/plain": [
       "<Figure size 432x288 with 1 Axes>"
      ]
     },
     "metadata": {
      "needs_background": "light"
     },
     "output_type": "display_data"
    }
   ],
   "source": [
    "sns.distplot(df['Power'])"
   ]
  },
  {
   "cell_type": "markdown",
   "metadata": {},
   "source": [
    "Стало лучше, но имеются нули в столбце значений лошадинных сил (`Power`). Интуитивно это кажется важным параметром при выборе машины. Проверим, сколько таких значений в таблице."
   ]
  },
  {
   "cell_type": "code",
   "execution_count": 23,
   "metadata": {},
   "outputs": [
    {
     "data": {
      "text/plain": [
       "0      32578\n",
       "75     22006\n",
       "60     14375\n",
       "150    13615\n",
       "101    12396\n",
       "140    11973\n",
       "90     11453\n",
       "116    11253\n",
       "170     9602\n",
       "105     9089\n",
       "125     6350\n",
       "136     6268\n",
       "102     6028\n",
       "163     5813\n",
       "54      5349\n",
       "Name: Power, dtype: int64"
      ]
     },
     "execution_count": 23,
     "metadata": {},
     "output_type": "execute_result"
    }
   ],
   "source": [
    "df['Power'].value_counts().head(15)"
   ]
  },
  {
   "cell_type": "markdown",
   "metadata": {},
   "source": [
    "Нулевых значений столбца `Power` не значительно много относительно общего числа строк, потому можем избавиться от нулевых значений."
   ]
  },
  {
   "cell_type": "code",
   "execution_count": 24,
   "metadata": {},
   "outputs": [],
   "source": [
    "df = df[df['Power'] != 0]"
   ]
  },
  {
   "cell_type": "code",
   "execution_count": 25,
   "metadata": {},
   "outputs": [
    {
     "name": "stderr",
     "output_type": "stream",
     "text": [
      "/opt/conda/lib/python3.9/site-packages/seaborn/distributions.py:2557: FutureWarning: `distplot` is a deprecated function and will be removed in a future version. Please adapt your code to use either `displot` (a figure-level function with similar flexibility) or `histplot` (an axes-level function for histograms).\n",
      "  warnings.warn(msg, FutureWarning)\n"
     ]
    },
    {
     "data": {
      "text/plain": [
       "<AxesSubplot:xlabel='Power', ylabel='Density'>"
      ]
     },
     "execution_count": 25,
     "metadata": {},
     "output_type": "execute_result"
    },
    {
     "data": {
      "image/png": "[encoded data removed]",
      "text/plain": [
       "<Figure size 432x288 with 1 Axes>"
      ]
     },
     "metadata": {
      "needs_background": "light"
     },
     "output_type": "display_data"
    }
   ],
   "source": [
    "sns.distplot(df['Power'])"
   ]
  },
  {
   "cell_type": "markdown",
   "metadata": {},
   "source": [
    "Отлично, \"нули\" выбросили, пошли дальше."
   ]
  },
  {
   "cell_type": "markdown",
   "metadata": {},
   "source": [
    "Посмотрим, как выглядит распределение значений столбца пробега автомобилей"
   ]
  },
  {
   "cell_type": "code",
   "execution_count": 26,
   "metadata": {},
   "outputs": [
    {
     "data": {
      "text/plain": [
       "<AxesSubplot:>"
      ]
     },
     "execution_count": 26,
     "metadata": {},
     "output_type": "execute_result"
    },
    {
     "data": {
      "image/png": "[encoded data removed]",
      "text/plain": [
       "<Figure size 432x288 with 1 Axes>"
      ]
     },
     "metadata": {
      "needs_background": "light"
     },
     "output_type": "display_data"
    }
   ],
   "source": [
    "df.boxplot(column='Kilometer')"
   ]
  },
  {
   "cell_type": "code",
   "execution_count": 27,
   "metadata": {},
   "outputs": [
    {
     "name": "stderr",
     "output_type": "stream",
     "text": [
      "/opt/conda/lib/python3.9/site-packages/seaborn/distributions.py:2557: FutureWarning: `distplot` is a deprecated function and will be removed in a future version. Please adapt your code to use either `displot` (a figure-level function with similar flexibility) or `histplot` (an axes-level function for histograms).\n",
      "  warnings.warn(msg, FutureWarning)\n"
     ]
    },
    {
     "data": {
      "text/plain": [
       "<AxesSubplot:xlabel='Kilometer', ylabel='Density'>"
      ]
     },
     "execution_count": 27,
     "metadata": {},
     "output_type": "execute_result"
    },
    {
     "data": {
      "image/png": "[encoded data removed]",
      "text/plain": [
       "<Figure size 432x288 with 1 Axes>"
      ]
     },
     "metadata": {
      "needs_background": "light"
     },
     "output_type": "display_data"
    }
   ],
   "source": [
    "sns.distplot(df['Kilometer'])"
   ]
  },
  {
   "cell_type": "code",
   "execution_count": 28,
   "metadata": {},
   "outputs": [
    {
     "data": {
      "text/plain": [
       "count    284421.000000\n",
       "mean     135843.555856\n",
       "std       25666.533744\n",
       "min       60000.000000\n",
       "25%      125000.000000\n",
       "50%      150000.000000\n",
       "75%      150000.000000\n",
       "max      150000.000000\n",
       "Name: Kilometer, dtype: float64"
      ]
     },
     "execution_count": 28,
     "metadata": {},
     "output_type": "execute_result"
    }
   ],
   "source": [
    "df['Kilometer'].describe()"
   ]
  },
  {
   "cell_type": "markdown",
   "metadata": {},
   "source": [
    "В целом можно сказать, что распределение выглядит достаточно реалистично, имеется преобладание одного значения (150 000 км), и редкие значения (60 000 км), что вполне может встречаться и в жизни."
   ]
  },
  {
   "cell_type": "markdown",
   "metadata": {},
   "source": [
    "**Промежуточные выводы**: таблицу обработали, изабвились от пропусков и аномалий, теперь можно приступить к подготовке таблциы для обучения моделей, разделения ее на выборки."
   ]
  },
  {
   "cell_type": "markdown",
   "metadata": {},
   "source": [
    "Разделим данные на нужные нам признаки и целевые признаки. Заметим, что сразу отбросил лишние значения, которые не отражают прямых характеристик автомобиля. После чего сравним размеры получившихся групп."
   ]
  },
  {
   "cell_type": "code",
   "execution_count": 29,
   "metadata": {
    "scrolled": true
   },
   "outputs": [
    {
     "name": "stdout",
     "output_type": "stream",
     "text": [
      "Размер выборки featuers: (284421, 9) \n",
      "Размер выборки target: (284421,)\n"
     ]
    }
   ],
   "source": [
    "features = df[['VehicleType', 'RegistrationYear', 'Gearbox', 'Power', 'Model','Kilometer', 'FuelType', 'Brand', 'NotRepaired']]\n",
    "target = df['Price']\n",
    "print('Размер выборки featuers:', features.shape,'\\nРазмер выборки target:', target.shape)"
   ]
  },
  {
   "cell_type": "markdown",
   "metadata": {},
   "source": [
    "Теперь разобьем данные на обучающие и тестовые выборки"
   ]
  },
  {
   "cell_type": "code",
   "execution_count": 30,
   "metadata": {},
   "outputs": [],
   "source": [
    "features_train, features_test, target_train, target_test = train_test_split(\n",
    "    features, target, test_size=0.25, random_state=RS)"
   ]
  },
  {
   "cell_type": "markdown",
   "metadata": {},
   "source": [
    "Сравним их размеры после разбивки"
   ]
  },
  {
   "cell_type": "code",
   "execution_count": 31,
   "metadata": {},
   "outputs": [
    {
     "name": "stdout",
     "output_type": "stream",
     "text": [
      "\n",
      "Размер выборки features_train: (213315, 9) \n",
      "Размер выборки features_test: (71106, 9) \n",
      "Размер выборки target_train: (213315,) \n",
      "Размер выборки target_test: (71106,)\n"
     ]
    }
   ],
   "source": [
    "print('\\nРазмер выборки features_train:', features_train.shape, '\\nРазмер выборки features_test:', features_test.shape, '\\nРазмер выборки target_train:', target_train.shape, '\\nРазмер выборки target_test:', target_test.shape, )"
   ]
  },
  {
   "cell_type": "markdown",
   "metadata": {},
   "source": [
    "Посмотрим таблицу обучающей выборки после всех преобразований"
   ]
  },
  {
   "cell_type": "code",
   "execution_count": 32,
   "metadata": {
    "scrolled": true
   },
   "outputs": [
    {
     "data": {
      "text/html": [
       "<div>\n",
       "<style scoped>\n",
       "    .dataframe tbody tr th:only-of-type {\n",
       "        vertical-align: middle;\n",
       "    }\n",
       "\n",
       "    .dataframe tbody tr th {\n",
       "        vertical-align: top;\n",
       "    }\n",
       "\n",
       "    .dataframe thead th {\n",
       "        text-align: right;\n",
       "    }\n",
       "</style>\n",
       "<table border=\"1\" class=\"dataframe\">\n",
       "  <thead>\n",
       "    <tr style=\"text-align: right;\">\n",
       "      <th></th>\n",
       "      <th>VehicleType</th>\n",
       "      <th>RegistrationYear</th>\n",
       "      <th>Gearbox</th>\n",
       "      <th>Power</th>\n",
       "      <th>Model</th>\n",
       "      <th>Kilometer</th>\n",
       "      <th>FuelType</th>\n",
       "      <th>Brand</th>\n",
       "      <th>NotRepaired</th>\n",
       "    </tr>\n",
       "  </thead>\n",
       "  <tbody>\n",
       "    <tr>\n",
       "      <th>160326</th>\n",
       "      <td>small</td>\n",
       "      <td>2001</td>\n",
       "      <td>manual</td>\n",
       "      <td>50</td>\n",
       "      <td>unknown</td>\n",
       "      <td>150000</td>\n",
       "      <td>petrol</td>\n",
       "      <td>ford</td>\n",
       "      <td>no</td>\n",
       "    </tr>\n",
       "    <tr>\n",
       "      <th>263875</th>\n",
       "      <td>small</td>\n",
       "      <td>2007</td>\n",
       "      <td>manual</td>\n",
       "      <td>150</td>\n",
       "      <td>polo</td>\n",
       "      <td>150000</td>\n",
       "      <td>petrol</td>\n",
       "      <td>volkswagen</td>\n",
       "      <td>no</td>\n",
       "    </tr>\n",
       "    <tr>\n",
       "      <th>115161</th>\n",
       "      <td>wagon</td>\n",
       "      <td>2000</td>\n",
       "      <td>manual</td>\n",
       "      <td>150</td>\n",
       "      <td>passat</td>\n",
       "      <td>150000</td>\n",
       "      <td>petrol</td>\n",
       "      <td>volkswagen</td>\n",
       "      <td>unknown</td>\n",
       "    </tr>\n",
       "    <tr>\n",
       "      <th>11611</th>\n",
       "      <td>sedan</td>\n",
       "      <td>1994</td>\n",
       "      <td>manual</td>\n",
       "      <td>150</td>\n",
       "      <td>5er</td>\n",
       "      <td>150000</td>\n",
       "      <td>petrol</td>\n",
       "      <td>bmw</td>\n",
       "      <td>yes</td>\n",
       "    </tr>\n",
       "    <tr>\n",
       "      <th>31430</th>\n",
       "      <td>wagon</td>\n",
       "      <td>2004</td>\n",
       "      <td>manual</td>\n",
       "      <td>101</td>\n",
       "      <td>focus</td>\n",
       "      <td>150000</td>\n",
       "      <td>petrol</td>\n",
       "      <td>ford</td>\n",
       "      <td>no</td>\n",
       "    </tr>\n",
       "    <tr>\n",
       "      <th>...</th>\n",
       "      <td>...</td>\n",
       "      <td>...</td>\n",
       "      <td>...</td>\n",
       "      <td>...</td>\n",
       "      <td>...</td>\n",
       "      <td>...</td>\n",
       "      <td>...</td>\n",
       "      <td>...</td>\n",
       "      <td>...</td>\n",
       "    </tr>\n",
       "    <tr>\n",
       "      <th>197985</th>\n",
       "      <td>wagon</td>\n",
       "      <td>2000</td>\n",
       "      <td>auto</td>\n",
       "      <td>170</td>\n",
       "      <td>e_klasse</td>\n",
       "      <td>150000</td>\n",
       "      <td>lpg</td>\n",
       "      <td>mercedes_benz</td>\n",
       "      <td>no</td>\n",
       "    </tr>\n",
       "    <tr>\n",
       "      <th>59900</th>\n",
       "      <td>small</td>\n",
       "      <td>2007</td>\n",
       "      <td>manual</td>\n",
       "      <td>65</td>\n",
       "      <td>other</td>\n",
       "      <td>125000</td>\n",
       "      <td>petrol</td>\n",
       "      <td>fiat</td>\n",
       "      <td>no</td>\n",
       "    </tr>\n",
       "    <tr>\n",
       "      <th>107843</th>\n",
       "      <td>bus</td>\n",
       "      <td>2006</td>\n",
       "      <td>manual</td>\n",
       "      <td>170</td>\n",
       "      <td>touran</td>\n",
       "      <td>150000</td>\n",
       "      <td>gasoline</td>\n",
       "      <td>volkswagen</td>\n",
       "      <td>no</td>\n",
       "    </tr>\n",
       "    <tr>\n",
       "      <th>96520</th>\n",
       "      <td>small</td>\n",
       "      <td>1998</td>\n",
       "      <td>manual</td>\n",
       "      <td>60</td>\n",
       "      <td>polo</td>\n",
       "      <td>150000</td>\n",
       "      <td>petrol</td>\n",
       "      <td>volkswagen</td>\n",
       "      <td>no</td>\n",
       "    </tr>\n",
       "    <tr>\n",
       "      <th>271137</th>\n",
       "      <td>sedan</td>\n",
       "      <td>2009</td>\n",
       "      <td>manual</td>\n",
       "      <td>90</td>\n",
       "      <td>meriva</td>\n",
       "      <td>150000</td>\n",
       "      <td>petrol</td>\n",
       "      <td>opel</td>\n",
       "      <td>unknown</td>\n",
       "    </tr>\n",
       "  </tbody>\n",
       "</table>\n",
       "<p>213315 rows × 9 columns</p>\n",
       "</div>"
      ],
      "text/plain": [
       "       VehicleType  RegistrationYear Gearbox  Power     Model  Kilometer  \\\n",
       "160326       small              2001  manual     50   unknown     150000   \n",
       "263875       small              2007  manual    150      polo     150000   \n",
       "115161       wagon              2000  manual    150    passat     150000   \n",
       "11611        sedan              1994  manual    150       5er     150000   \n",
       "31430        wagon              2004  manual    101     focus     150000   \n",
       "...            ...               ...     ...    ...       ...        ...   \n",
       "197985       wagon              2000    auto    170  e_klasse     150000   \n",
       "59900        small              2007  manual     65     other     125000   \n",
       "107843         bus              2006  manual    170    touran     150000   \n",
       "96520        small              1998  manual     60      polo     150000   \n",
       "271137       sedan              2009  manual     90    meriva     150000   \n",
       "\n",
       "        FuelType          Brand NotRepaired  \n",
       "160326    petrol           ford          no  \n",
       "263875    petrol     volkswagen          no  \n",
       "115161    petrol     volkswagen     unknown  \n",
       "11611     petrol            bmw         yes  \n",
       "31430     petrol           ford          no  \n",
       "...          ...            ...         ...  \n",
       "197985       lpg  mercedes_benz          no  \n",
       "59900     petrol           fiat          no  \n",
       "107843  gasoline     volkswagen          no  \n",
       "96520     petrol     volkswagen          no  \n",
       "271137    petrol           opel     unknown  \n",
       "\n",
       "[213315 rows x 9 columns]"
      ]
     },
     "execution_count": 32,
     "metadata": {},
     "output_type": "execute_result"
    }
   ],
   "source": [
    "features_train"
   ]
  },
  {
   "cell_type": "markdown",
   "metadata": {},
   "source": [
    "Стандартизуем непрерывные переменные с помощью метода `StandardScaler`"
   ]
  },
  {
   "cell_type": "code",
   "execution_count": 33,
   "metadata": {},
   "outputs": [],
   "source": [
    "numeric = ['Power', 'Kilometer'] # список нужных признаков для стандартизации\n",
    "\n",
    "scaler = StandardScaler() # создадим модель стандартизации\n",
    "\n",
    "scaler.fit(features_train[numeric]) # и обучим ее на необходимых признаках\n",
    "\n",
    "pd.options.mode.chained_assignment = None # избавимся от типового предупреждения\n",
    "\n",
    "# заменим исходные значения признаков на стандартизированные\n",
    "features_train[numeric] = scaler.transform(features_train[numeric]) \n",
    "features_test[numeric] = scaler.transform(features_test[numeric])"
   ]
  },
  {
   "cell_type": "code",
   "execution_count": 34,
   "metadata": {},
   "outputs": [
    {
     "data": {
      "text/html": [
       "<div>\n",
       "<style scoped>\n",
       "    .dataframe tbody tr th:only-of-type {\n",
       "        vertical-align: middle;\n",
       "    }\n",
       "\n",
       "    .dataframe tbody tr th {\n",
       "        vertical-align: top;\n",
       "    }\n",
       "\n",
       "    .dataframe thead th {\n",
       "        text-align: right;\n",
       "    }\n",
       "</style>\n",
       "<table border=\"1\" class=\"dataframe\">\n",
       "  <thead>\n",
       "    <tr style=\"text-align: right;\">\n",
       "      <th></th>\n",
       "      <th>VehicleType</th>\n",
       "      <th>RegistrationYear</th>\n",
       "      <th>Gearbox</th>\n",
       "      <th>Power</th>\n",
       "      <th>Model</th>\n",
       "      <th>Kilometer</th>\n",
       "      <th>FuelType</th>\n",
       "      <th>Brand</th>\n",
       "      <th>NotRepaired</th>\n",
       "    </tr>\n",
       "  </thead>\n",
       "  <tbody>\n",
       "    <tr>\n",
       "      <th>160326</th>\n",
       "      <td>small</td>\n",
       "      <td>2001</td>\n",
       "      <td>manual</td>\n",
       "      <td>-1.352734</td>\n",
       "      <td>unknown</td>\n",
       "      <td>0.551885</td>\n",
       "      <td>petrol</td>\n",
       "      <td>ford</td>\n",
       "      <td>no</td>\n",
       "    </tr>\n",
       "    <tr>\n",
       "      <th>263875</th>\n",
       "      <td>small</td>\n",
       "      <td>2007</td>\n",
       "      <td>manual</td>\n",
       "      <td>0.563459</td>\n",
       "      <td>polo</td>\n",
       "      <td>0.551885</td>\n",
       "      <td>petrol</td>\n",
       "      <td>volkswagen</td>\n",
       "      <td>no</td>\n",
       "    </tr>\n",
       "    <tr>\n",
       "      <th>115161</th>\n",
       "      <td>wagon</td>\n",
       "      <td>2000</td>\n",
       "      <td>manual</td>\n",
       "      <td>0.563459</td>\n",
       "      <td>passat</td>\n",
       "      <td>0.551885</td>\n",
       "      <td>petrol</td>\n",
       "      <td>volkswagen</td>\n",
       "      <td>unknown</td>\n",
       "    </tr>\n",
       "    <tr>\n",
       "      <th>11611</th>\n",
       "      <td>sedan</td>\n",
       "      <td>1994</td>\n",
       "      <td>manual</td>\n",
       "      <td>0.563459</td>\n",
       "      <td>5er</td>\n",
       "      <td>0.551885</td>\n",
       "      <td>petrol</td>\n",
       "      <td>bmw</td>\n",
       "      <td>yes</td>\n",
       "    </tr>\n",
       "    <tr>\n",
       "      <th>31430</th>\n",
       "      <td>wagon</td>\n",
       "      <td>2004</td>\n",
       "      <td>manual</td>\n",
       "      <td>-0.375476</td>\n",
       "      <td>focus</td>\n",
       "      <td>0.551885</td>\n",
       "      <td>petrol</td>\n",
       "      <td>ford</td>\n",
       "      <td>no</td>\n",
       "    </tr>\n",
       "    <tr>\n",
       "      <th>...</th>\n",
       "      <td>...</td>\n",
       "      <td>...</td>\n",
       "      <td>...</td>\n",
       "      <td>...</td>\n",
       "      <td>...</td>\n",
       "      <td>...</td>\n",
       "      <td>...</td>\n",
       "      <td>...</td>\n",
       "      <td>...</td>\n",
       "    </tr>\n",
       "    <tr>\n",
       "      <th>197985</th>\n",
       "      <td>wagon</td>\n",
       "      <td>2000</td>\n",
       "      <td>auto</td>\n",
       "      <td>0.946697</td>\n",
       "      <td>e_klasse</td>\n",
       "      <td>0.551885</td>\n",
       "      <td>lpg</td>\n",
       "      <td>mercedes_benz</td>\n",
       "      <td>no</td>\n",
       "    </tr>\n",
       "    <tr>\n",
       "      <th>59900</th>\n",
       "      <td>small</td>\n",
       "      <td>2007</td>\n",
       "      <td>manual</td>\n",
       "      <td>-1.065305</td>\n",
       "      <td>other</td>\n",
       "      <td>-0.422520</td>\n",
       "      <td>petrol</td>\n",
       "      <td>fiat</td>\n",
       "      <td>no</td>\n",
       "    </tr>\n",
       "    <tr>\n",
       "      <th>107843</th>\n",
       "      <td>bus</td>\n",
       "      <td>2006</td>\n",
       "      <td>manual</td>\n",
       "      <td>0.946697</td>\n",
       "      <td>touran</td>\n",
       "      <td>0.551885</td>\n",
       "      <td>gasoline</td>\n",
       "      <td>volkswagen</td>\n",
       "      <td>no</td>\n",
       "    </tr>\n",
       "    <tr>\n",
       "      <th>96520</th>\n",
       "      <td>small</td>\n",
       "      <td>1998</td>\n",
       "      <td>manual</td>\n",
       "      <td>-1.161115</td>\n",
       "      <td>polo</td>\n",
       "      <td>0.551885</td>\n",
       "      <td>petrol</td>\n",
       "      <td>volkswagen</td>\n",
       "      <td>no</td>\n",
       "    </tr>\n",
       "    <tr>\n",
       "      <th>271137</th>\n",
       "      <td>sedan</td>\n",
       "      <td>2009</td>\n",
       "      <td>manual</td>\n",
       "      <td>-0.586257</td>\n",
       "      <td>meriva</td>\n",
       "      <td>0.551885</td>\n",
       "      <td>petrol</td>\n",
       "      <td>opel</td>\n",
       "      <td>unknown</td>\n",
       "    </tr>\n",
       "  </tbody>\n",
       "</table>\n",
       "<p>213315 rows × 9 columns</p>\n",
       "</div>"
      ],
      "text/plain": [
       "       VehicleType  RegistrationYear Gearbox     Power     Model  Kilometer  \\\n",
       "160326       small              2001  manual -1.352734   unknown   0.551885   \n",
       "263875       small              2007  manual  0.563459      polo   0.551885   \n",
       "115161       wagon              2000  manual  0.563459    passat   0.551885   \n",
       "11611        sedan              1994  manual  0.563459       5er   0.551885   \n",
       "31430        wagon              2004  manual -0.375476     focus   0.551885   \n",
       "...            ...               ...     ...       ...       ...        ...   \n",
       "197985       wagon              2000    auto  0.946697  e_klasse   0.551885   \n",
       "59900        small              2007  manual -1.065305     other  -0.422520   \n",
       "107843         bus              2006  manual  0.946697    touran   0.551885   \n",
       "96520        small              1998  manual -1.161115      polo   0.551885   \n",
       "271137       sedan              2009  manual -0.586257    meriva   0.551885   \n",
       "\n",
       "        FuelType          Brand NotRepaired  \n",
       "160326    petrol           ford          no  \n",
       "263875    petrol     volkswagen          no  \n",
       "115161    petrol     volkswagen     unknown  \n",
       "11611     petrol            bmw         yes  \n",
       "31430     petrol           ford          no  \n",
       "...          ...            ...         ...  \n",
       "197985       lpg  mercedes_benz          no  \n",
       "59900     petrol           fiat          no  \n",
       "107843  gasoline     volkswagen          no  \n",
       "96520     petrol     volkswagen          no  \n",
       "271137    petrol           opel     unknown  \n",
       "\n",
       "[213315 rows x 9 columns]"
      ]
     },
     "execution_count": 34,
     "metadata": {},
     "output_type": "execute_result"
    }
   ],
   "source": [
    "features_train"
   ]
  },
  {
   "cell_type": "markdown",
   "metadata": {},
   "source": [
    "Создадим отдельную копию таблицы для модели XGBoost"
   ]
  },
  {
   "cell_type": "code",
   "execution_count": 35,
   "metadata": {},
   "outputs": [],
   "source": [
    "features_train_encodered = features_train.copy()\n",
    "features_test_encodered = features_test.copy()"
   ]
  },
  {
   "cell_type": "markdown",
   "metadata": {},
   "source": [
    "Стандартизируем категориальные значения с помощью метода `OrdinalEncoder`"
   ]
  },
  {
   "cell_type": "code",
   "execution_count": 36,
   "metadata": {},
   "outputs": [],
   "source": [
    "# создадим список нужных признаков для стандартизации\n",
    "cat_features = features_train.columns[np.where(features_train.dtypes != float)].values.tolist()"
   ]
  },
  {
   "cell_type": "code",
   "execution_count": 37,
   "metadata": {},
   "outputs": [
    {
     "data": {
      "text/plain": [
       "['VehicleType',\n",
       " 'RegistrationYear',\n",
       " 'Gearbox',\n",
       " 'Model',\n",
       " 'FuelType',\n",
       " 'Brand',\n",
       " 'NotRepaired']"
      ]
     },
     "execution_count": 37,
     "metadata": {},
     "output_type": "execute_result"
    }
   ],
   "source": [
    "cat_features"
   ]
  },
  {
   "cell_type": "code",
   "execution_count": 38,
   "metadata": {},
   "outputs": [],
   "source": [
    "encoder = OrdinalEncoder() # создадим модель стандартизации\n",
    "encoder.fit(features_train_encodered[cat_features]) # и обучим ее на необходимых признаках\n",
    "\n",
    "# заменим исходные значения признаков на стандартизированные\n",
    "features_train_encodered[cat_features] = encoder.transform(features_train_encodered[cat_features])\n",
    "\n",
    "encoder.fit(features_test_encodered[cat_features])\n",
    "features_test_encodered[cat_features] = encoder.transform(features_test_encodered[cat_features])"
   ]
  },
  {
   "cell_type": "markdown",
   "metadata": {},
   "source": [
    "Данные подготовлены, можно приступать к обучению моделей."
   ]
  },
  {
   "cell_type": "markdown",
   "metadata": {},
   "source": [
    "## Обучение моделей"
   ]
  },
  {
   "cell_type": "markdown",
   "metadata": {},
   "source": [
    "Для обучения выберем три модели: `XGBRegressor`, `LGBMRegressor`, `CatBoostRegressor`."
   ]
  },
  {
   "cell_type": "markdown",
   "metadata": {},
   "source": [
    "#### Модель XGBRegressor"
   ]
  },
  {
   "cell_type": "code",
   "execution_count": 39,
   "metadata": {
    "scrolled": true
   },
   "outputs": [],
   "source": [
    "model_xgb = XGBRegressor(random_state=RS)"
   ]
  },
  {
   "cell_type": "markdown",
   "metadata": {},
   "source": [
    "Необходимо подобрать гиперпараметры для модели, потому создадим словарь параметров."
   ]
  },
  {
   "cell_type": "code",
   "execution_count": 40,
   "metadata": {},
   "outputs": [],
   "source": [
    "params_xgb = {'n_estimators': [400],\n",
    "              'colsample_bytree': [0.7, 0.8],\n",
    "              'max_depth': [15,20],\n",
    "              'reg_alpha': [1.1, 1.3],\n",
    "              'reg_lambda': [1.1, 1.3],\n",
    "              'subsample': [0.7, 0.9]}"
   ]
  },
  {
   "cell_type": "markdown",
   "metadata": {},
   "source": [
    "Займемся поиском гиперпараметров с помощью модуля `GridSearchCV`"
   ]
  },
  {
   "cell_type": "raw",
   "metadata": {
    "scrolled": true
   },
   "source": [
    "clf_xgb = GridSearchCV(model_xgb, params_xgb, cv=3, n_jobs=-1)\n",
    "clf_xgb.fit(features_train_encodered, target_train)"
   ]
  },
  {
   "cell_type": "markdown",
   "metadata": {},
   "source": [
    "Проверим лучшие гиперпараметры"
   ]
  },
  {
   "cell_type": "raw",
   "metadata": {
    "scrolled": true
   },
   "source": [
    "print('Лучшие гиперпараметры для модели XGBoost Regressor:', clf_xgb.best_params_)"
   ]
  },
  {
   "cell_type": "markdown",
   "metadata": {},
   "source": [
    "И сохраним их в отдельную переменную, чтобы не искать их в случае проверки модели"
   ]
  },
  {
   "cell_type": "code",
   "execution_count": 41,
   "metadata": {},
   "outputs": [],
   "source": [
    "best_params_xgb = {'colsample_bytree': 0.7, \n",
    "                   'max_depth': 15, \n",
    "                   'n_estimators': 400, \n",
    "                   'reg_alpha': 1.3, \n",
    "                   'reg_lambda': 1.3, \n",
    "                   'subsample': 0.9,\n",
    "                   'scoring': 'rmse'}"
   ]
  },
  {
   "cell_type": "raw",
   "metadata": {},
   "source": [
    "best_params_xgb = clf_xgb.best_params_"
   ]
  },
  {
   "cell_type": "markdown",
   "metadata": {},
   "source": [
    "Обучим нашу модель на лучших гиперпараметрах и замерим время обучения"
   ]
  },
  {
   "cell_type": "code",
   "execution_count": 42,
   "metadata": {
    "scrolled": true
   },
   "outputs": [
    {
     "name": "stdout",
     "output_type": "stream",
     "text": [
      "[11:43:12] WARNING: ../src/learner.cc:576: \n",
      "Parameters: { \"scoring\" } might not be used.\n",
      "\n",
      "  This could be a false alarm, with some parameters getting used by language bindings but\n",
      "  then being mistakenly passed down to XGBoost core, or some parameter actually being used\n",
      "  but getting flagged wrongly here. Please open an issue if you find any such cases.\n",
      "\n",
      "\n"
     ]
    }
   ],
   "source": [
    "start = timer()\n",
    "\n",
    "model_xgb = XGBRegressor(random_state=RS, **best_params_xgb)\n",
    "model_xgb.fit(features_train_encodered, target_train)\n",
    "\n",
    "end = timer()\n",
    "time_xgb_fit = end - start"
   ]
  },
  {
   "cell_type": "markdown",
   "metadata": {},
   "source": [
    "Выполним предсказание нашей модели, замерим скорость предсказания и оценим значение метрики `RMSE`"
   ]
  },
  {
   "cell_type": "code",
   "execution_count": 43,
   "metadata": {},
   "outputs": [],
   "source": [
    "start = timer()\n",
    "\n",
    "pred_xgb = model_xgb.predict(features_test_encodered)\n",
    "\n",
    "end = timer()\n",
    "time_xgb_pred = end - start"
   ]
  },
  {
   "cell_type": "code",
   "execution_count": 44,
   "metadata": {},
   "outputs": [
    {
     "name": "stdout",
     "output_type": "stream",
     "text": [
      "Значение метрики RMSE модели XGBRegressor: 2238.1696628533095\n"
     ]
    }
   ],
   "source": [
    "rmse_xgb = np.sqrt(mean_squared_error(target_test, pred_xgb))\n",
    "print('Значение метрики RMSE модели XGBRegressor:', rmse_xgb)"
   ]
  },
  {
   "cell_type": "markdown",
   "metadata": {},
   "source": [
    "#### Модель LGBMRegressor"
   ]
  },
  {
   "cell_type": "markdown",
   "metadata": {},
   "source": [
    "Повторим те же шаги для модели `LGBMRegressor`"
   ]
  },
  {
   "cell_type": "markdown",
   "metadata": {},
   "source": [
    "Создадим копию исходных признаков для модели LGBMRegressor"
   ]
  },
  {
   "cell_type": "code",
   "execution_count": 45,
   "metadata": {},
   "outputs": [],
   "source": [
    "features_train_lgb = features_train.copy()\n",
    "features_test_lgb = features_test.copy()"
   ]
  },
  {
   "cell_type": "markdown",
   "metadata": {},
   "source": [
    "Преобразуем столбцы для собственной обработки моделью категориальных признаков"
   ]
  },
  {
   "cell_type": "code",
   "execution_count": 46,
   "metadata": {},
   "outputs": [],
   "source": [
    "for header in cat_features:\n",
    "    features_train_lgb[header] = features_train_lgb[header].astype('category')\n",
    "    features_test_lgb[header] = features_test_lgb[header].astype('category')"
   ]
  },
  {
   "cell_type": "code",
   "execution_count": 47,
   "metadata": {
    "scrolled": true
   },
   "outputs": [],
   "source": [
    "model_lgb = LGBMRegressor(random_state=RS)"
   ]
  },
  {
   "cell_type": "code",
   "execution_count": 48,
   "metadata": {},
   "outputs": [],
   "source": [
    "params_lgb = {\n",
    "    'n_estimators': [400, 700],\n",
    "    'colsample_bytree': [0.7, 0.8],\n",
    "    'max_depth': [15,25],\n",
    "    'num_leaves': [50, 100],\n",
    "    'reg_alpha': [1.1, 1.3],\n",
    "    'reg_lambda': [1.1, 1.3],\n",
    "    'min_split_gain': [0.3, 0.4],\n",
    "    'subsample': [0.7, 0.9],\n",
    "    'subsample_freq': [20],\n",
    "    'metric': ['rmse']\n",
    "}"
   ]
  },
  {
   "cell_type": "raw",
   "metadata": {},
   "source": [
    "clf_lgb = GridSearchCV(model_lgb, params_lgb, cv=5, n_jobs=-1)\n",
    "clf_lgb.fit(features_train_lgb, target_train)"
   ]
  },
  {
   "cell_type": "raw",
   "metadata": {
    "scrolled": true
   },
   "source": [
    "print('Лучшие гиперпараметры для модели LGBM Regressor:', clf_lgb.best_params_)"
   ]
  },
  {
   "cell_type": "code",
   "execution_count": 49,
   "metadata": {},
   "outputs": [],
   "source": [
    "best_params_lgb = {'colsample_bytree': 0.7, \n",
    "                   'max_depth': 25, \n",
    "                   'metric': 'rmse', \n",
    "                   'min_split_gain': 0.3, \n",
    "                   'n_estimators': 700, \n",
    "                   'num_leaves': 100, \n",
    "                   'reg_alpha': 1.3, \n",
    "                   'reg_lambda': 1.1, \n",
    "                   'subsample': 0.9,\n",
    "                   'subsample_freq': 20}"
   ]
  },
  {
   "cell_type": "raw",
   "metadata": {},
   "source": [
    "best_params_lgb = clf_lgb.best_params_"
   ]
  },
  {
   "cell_type": "code",
   "execution_count": 50,
   "metadata": {},
   "outputs": [],
   "source": [
    "start = timer()\n",
    "\n",
    "model_lgb = LGBMRegressor(random_state=RS, **best_params_lgb)\n",
    "model_lgb.fit(features_train_lgb, target_train)\n",
    "\n",
    "end = timer()\n",
    "time_lgb_fit = end - start"
   ]
  },
  {
   "cell_type": "code",
   "execution_count": 51,
   "metadata": {},
   "outputs": [],
   "source": [
    "start = timer()\n",
    "\n",
    "pred_lgb = model_lgb.predict(features_test_lgb)\n",
    "\n",
    "end = timer()\n",
    "time_lgb_pred = end - start"
   ]
  },
  {
   "cell_type": "code",
   "execution_count": 52,
   "metadata": {},
   "outputs": [
    {
     "name": "stdout",
     "output_type": "stream",
     "text": [
      "Значение метрики RMSE модели LGBMRegressor: 1456.3995145462782\n"
     ]
    }
   ],
   "source": [
    "rmse_lgb = np.sqrt(mean_squared_error(target_test, pred_lgb))\n",
    "print('Значение метрики RMSE модели LGBMRegressor:', rmse_lgb)"
   ]
  },
  {
   "cell_type": "markdown",
   "metadata": {},
   "source": [
    "#### Модель CatBoostRegressor"
   ]
  },
  {
   "cell_type": "markdown",
   "metadata": {},
   "source": [
    "Повторим те же шаги для модели `CatBoostRegressor`"
   ]
  },
  {
   "cell_type": "code",
   "execution_count": 53,
   "metadata": {},
   "outputs": [],
   "source": [
    "model_cat = CatBoostRegressor(random_state=RS)"
   ]
  },
  {
   "cell_type": "code",
   "execution_count": 54,
   "metadata": {},
   "outputs": [],
   "source": [
    "params_cat = {'depth':[3, 6, 10],\n",
    "              'iterations':[100, 50],\n",
    "              'learning_rate':[0.03, 0.3], \n",
    "              'l2_leaf_reg':[3, 10],\n",
    "              'border_count':[15, 5]}"
   ]
  },
  {
   "cell_type": "raw",
   "metadata": {
    "scrolled": true
   },
   "source": [
    "clf_cat = GridSearchCV(estimator=model_cat, param_grid = params_cat, cv = 5, n_jobs=-1)\n",
    "clf_cat.fit(features_train, target_train, cat_features=cat_features)"
   ]
  },
  {
   "cell_type": "raw",
   "metadata": {},
   "source": [
    "print('Лучшие гиперпараметры для модели CatBoost Regressor:', clf_cat.best_params_)"
   ]
  },
  {
   "cell_type": "code",
   "execution_count": 55,
   "metadata": {},
   "outputs": [],
   "source": [
    "best_params_cat =  {'border_count': 15, \n",
    "                    'depth': 10,\n",
    "                    'iterations': 100,\n",
    "                    'l2_leaf_reg': 3, \n",
    "                    'learning_rate': 0.3}"
   ]
  },
  {
   "cell_type": "raw",
   "metadata": {},
   "source": [
    "best_params_cat = clf_cat.best_params_"
   ]
  },
  {
   "cell_type": "code",
   "execution_count": 56,
   "metadata": {
    "scrolled": false
   },
   "outputs": [
    {
     "name": "stdout",
     "output_type": "stream",
     "text": [
      "0:\tlearn: 3427.7173466\ttotal: 216ms\tremaining: 21.4s\n",
      "10:\tlearn: 1710.5516481\ttotal: 1.7s\tremaining: 13.7s\n",
      "20:\tlearn: 1621.9806751\ttotal: 3.2s\tremaining: 12s\n",
      "30:\tlearn: 1573.3382851\ttotal: 4.68s\tremaining: 10.4s\n",
      "40:\tlearn: 1540.7582468\ttotal: 6.24s\tremaining: 8.98s\n",
      "50:\tlearn: 1518.0565077\ttotal: 7.84s\tremaining: 7.53s\n",
      "60:\tlearn: 1499.8375782\ttotal: 9.34s\tremaining: 5.97s\n",
      "70:\tlearn: 1479.9743819\ttotal: 10.9s\tremaining: 4.43s\n",
      "80:\tlearn: 1467.9713827\ttotal: 12.4s\tremaining: 2.9s\n",
      "90:\tlearn: 1454.7920031\ttotal: 14s\tremaining: 1.39s\n",
      "99:\tlearn: 1443.3868210\ttotal: 15.4s\tremaining: 0us\n"
     ]
    }
   ],
   "source": [
    "start = timer()\n",
    "\n",
    "model_cat = CatBoostRegressor(random_state=RS, loss_function=\"RMSE\", **best_params_cat)\n",
    "model_cat.fit(features_train, target_train, cat_features=cat_features,  verbose=10)\n",
    "\n",
    "end = timer()\n",
    "time_cat_fit = end - start"
   ]
  },
  {
   "cell_type": "code",
   "execution_count": 57,
   "metadata": {
    "scrolled": true
   },
   "outputs": [],
   "source": [
    "start = timer()\n",
    "\n",
    "pred_cat = model_cat.predict(features_test)\n",
    "\n",
    "end = timer()\n",
    "time_cat_pred = end - start"
   ]
  },
  {
   "cell_type": "code",
   "execution_count": 58,
   "metadata": {},
   "outputs": [
    {
     "name": "stdout",
     "output_type": "stream",
     "text": [
      "Значение метрики RMSE модели CatBoostRegressor: 1557.695287103988\n"
     ]
    }
   ],
   "source": [
    "rmse_cat = np.sqrt(mean_squared_error(target_test, pred_cat)) \n",
    "print('Значение метрики RMSE модели CatBoostRegressor:', rmse_cat)"
   ]
  },
  {
   "cell_type": "markdown",
   "metadata": {},
   "source": [
    "## Анализ моделей"
   ]
  },
  {
   "cell_type": "code",
   "execution_count": 59,
   "metadata": {},
   "outputs": [
    {
     "data": {
      "text/plain": [
       "'Таблица значений RMSE для различных моделей'"
      ]
     },
     "metadata": {},
     "output_type": "display_data"
    },
    {
     "data": {
      "text/html": [
       "<div>\n",
       "<style scoped>\n",
       "    .dataframe tbody tr th:only-of-type {\n",
       "        vertical-align: middle;\n",
       "    }\n",
       "\n",
       "    .dataframe tbody tr th {\n",
       "        vertical-align: top;\n",
       "    }\n",
       "\n",
       "    .dataframe thead th {\n",
       "        text-align: right;\n",
       "    }\n",
       "</style>\n",
       "<table border=\"1\" class=\"dataframe\">\n",
       "  <thead>\n",
       "    <tr style=\"text-align: right;\">\n",
       "      <th></th>\n",
       "      <th>Модели</th>\n",
       "      <th>Значение RMSE</th>\n",
       "      <th>Время обучения, с</th>\n",
       "      <th>Скорость предсказания</th>\n",
       "      <th>Параметры модели</th>\n",
       "    </tr>\n",
       "  </thead>\n",
       "  <tbody>\n",
       "    <tr>\n",
       "      <th>0</th>\n",
       "      <td>LGBMRegressor</td>\n",
       "      <td>1456.399515</td>\n",
       "      <td>5825.001966</td>\n",
       "      <td>13.117237</td>\n",
       "      <td>{'colsample_bytree': 0.7, 'max_depth': 25, 'me...</td>\n",
       "    </tr>\n",
       "    <tr>\n",
       "      <th>1</th>\n",
       "      <td>CatBoostRegressor</td>\n",
       "      <td>1557.695287</td>\n",
       "      <td>17.374285</td>\n",
       "      <td>0.151190</td>\n",
       "      <td>{'border_count': 15, 'depth': 10, 'iterations'...</td>\n",
       "    </tr>\n",
       "    <tr>\n",
       "      <th>2</th>\n",
       "      <td>XGBRegressor</td>\n",
       "      <td>2238.169663</td>\n",
       "      <td>2370.005381</td>\n",
       "      <td>13.888033</td>\n",
       "      <td>{'colsample_bytree': 0.7, 'max_depth': 15, 'n_...</td>\n",
       "    </tr>\n",
       "  </tbody>\n",
       "</table>\n",
       "</div>"
      ],
      "text/plain": [
       "              Модели  Значение RMSE  Время обучения, с  Скорость предсказания  \\\n",
       "0      LGBMRegressor    1456.399515        5825.001966              13.117237   \n",
       "1  CatBoostRegressor    1557.695287          17.374285               0.151190   \n",
       "2       XGBRegressor    2238.169663        2370.005381              13.888033   \n",
       "\n",
       "                                    Параметры модели  \n",
       "0  {'colsample_bytree': 0.7, 'max_depth': 25, 'me...  \n",
       "1  {'border_count': 15, 'depth': 10, 'iterations'...  \n",
       "2  {'colsample_bytree': 0.7, 'max_depth': 15, 'n_...  "
      ]
     },
     "metadata": {},
     "output_type": "display_data"
    },
    {
     "name": "stdout",
     "output_type": "stream",
     "text": [
      "Лучший результат у модели LGBMRegressor со значением RMSE: 1456.4. \n",
      "Время обучения: 5825.001966145122. \n",
      "Скорость предсказания: 13.117236752994359.\n",
      "\n",
      "Лучшие параметры модели LGBMRegressor:\n"
     ]
    },
    {
     "data": {
      "text/plain": [
       "{'colsample_bytree': 0.7,\n",
       " 'max_depth': 25,\n",
       " 'metric': 'rmse',\n",
       " 'min_split_gain': 0.3,\n",
       " 'n_estimators': 700,\n",
       " 'num_leaves': 100,\n",
       " 'reg_alpha': 1.3,\n",
       " 'reg_lambda': 1.1,\n",
       " 'subsample': 0.9,\n",
       " 'subsample_freq': 20}"
      ]
     },
     "metadata": {},
     "output_type": "display_data"
    }
   ],
   "source": [
    "# создаем таблицу, в которую занесем значения AUC-ROC различных лучших моделей\n",
    "final_score_table = pd.DataFrame({'Модели': ['XGBRegressor', 'LGBMRegressor', 'CatBoostRegressor'],\n",
    "                                  'Значение RMSE':         [rmse_xgb, rmse_lgb, rmse_cat],\n",
    "                                  'Время обучения, с':     [time_xgb_fit, \n",
    "                                                            time_lgb_fit, \n",
    "                                                            time_cat_fit],\n",
    "                                  'Скорость предсказания': [time_xgb_pred, \n",
    "                                                            time_lgb_pred,\n",
    "                                                            time_cat_pred],\n",
    "                                  'Параметры модели':      [best_params_xgb, \n",
    "                                                            best_params_lgb, \n",
    "                                                            best_params_cat]}).sort_values(\n",
    "                               by='Значение RMSE').reset_index(drop=True)\n",
    "\n",
    "# обозначим лучший результат и сохраним его в переменную\n",
    "best_rmse_result = final_score_table['Значение RMSE'].min()\n",
    "\n",
    "# выведем таблицу и вывод на экран\n",
    "display('Таблица значений RMSE для различных моделей', final_score_table)\n",
    "print('Лучший результат у модели {} со значением RMSE: {}. \\nВремя обучения: {}. \\\n",
    "\\nСкорость предсказания: {}.\\n\\nЛучшие параметры модели {}:'.\n",
    "      format(final_score_table['Модели'][0], round(best_rmse_result, 3), \n",
    "             final_score_table['Время обучения, с'][0], \n",
    "             final_score_table['Скорость предсказания'][0],\n",
    "             final_score_table['Модели'][0]))\n",
    "display(final_score_table['Параметры модели'][0])"
   ]
  },
  {
   "cell_type": "markdown",
   "metadata": {},
   "source": [
    "# Общий вывод:\n",
    "\n",
    "В ходе работы были обработаны данные исходной таблицы: \n",
    "- проработаны пропуски;\n",
    "- удалены дубликаты;\n",
    "- отобранны необходимые признаки;\n",
    "- признаки стандартизованы и масштабированы;\n",
    "- признаки разделены на обучающую и тестовую выборки. \n",
    "\n",
    "Обучены три модели машинного обучения: \n",
    "- XGBRegressor\n",
    "- LGBMRegressor\n",
    "- CatBoostRegressor\n",
    "\n",
    "Для каждой модели найдены лучшие гиперпараметры с помощью модуля `GridSearchCV`, которые сохранены в соответствующие переменные.\n",
    "\n",
    "В ходе работы получены следующие результаты:\n",
    "\n",
    "Наиболее точной моделью является модель `LGBMRegressor` для которой:\n",
    "- значение метрики RMSE равное 1456.39;\n",
    "- время обучения модели: 5825 с;\n",
    "- скорость предсказания модели: 13.0 с.\n",
    "\n",
    "Однако более быстрая скорость предсказания у модели `CatBoostRegressor`: 0.15 с. Более быстрое время обучения (17 с) и незначительно ниже точность предсказания (RMSE: 1557.69)\n",
    "\n",
    "Наиболее медленной моделью и наименее точной является модель `XGBRegressor`: RMSE = 2368.22, время обучения\t- 2370 с, скорость предсказания - 13 с."
   ]
  }
 ],
 "metadata": {
  "ExecuteTimeLog": [
   {
    "duration": 1449,
    "start_time": "2022-03-28T09:56:17.312Z"
   },
   {
    "duration": 9,
    "start_time": "2022-03-28T09:56:18.764Z"
   },
   {
    "duration": 1010,
    "start_time": "2022-03-28T09:56:48.147Z"
   },
   {
    "duration": 4553,
    "start_time": "2022-03-28T09:57:03.174Z"
   },
   {
    "duration": 797,
    "start_time": "2022-03-28T10:15:44.155Z"
   },
   {
    "duration": 373,
    "start_time": "2022-03-28T10:22:20.228Z"
   },
   {
    "duration": 285,
    "start_time": "2022-03-28T10:22:45.734Z"
   },
   {
    "duration": 289,
    "start_time": "2022-03-28T10:23:32.631Z"
   },
   {
    "duration": 34,
    "start_time": "2022-03-28T10:23:52.198Z"
   },
   {
    "duration": 139,
    "start_time": "2022-03-28T10:24:15.192Z"
   },
   {
    "duration": 152,
    "start_time": "2022-03-28T10:24:18.846Z"
   },
   {
    "duration": 23,
    "start_time": "2022-03-28T10:24:51.940Z"
   },
   {
    "duration": 66,
    "start_time": "2022-03-28T10:25:03.677Z"
   },
   {
    "duration": 27,
    "start_time": "2022-03-28T10:25:50.293Z"
   },
   {
    "duration": 157,
    "start_time": "2022-03-28T10:26:08.277Z"
   },
   {
    "duration": 25,
    "start_time": "2022-03-28T10:26:14.130Z"
   },
   {
    "duration": 166,
    "start_time": "2022-03-28T10:26:15.208Z"
   },
   {
    "duration": 65,
    "start_time": "2022-03-28T10:26:44.478Z"
   },
   {
    "duration": 148,
    "start_time": "2022-03-28T10:26:45.793Z"
   },
   {
    "duration": 74,
    "start_time": "2022-03-28T10:28:14.995Z"
   },
   {
    "duration": 143,
    "start_time": "2022-03-28T10:28:15.507Z"
   },
   {
    "duration": 205,
    "start_time": "2022-03-28T10:29:00.754Z"
   },
   {
    "duration": 116,
    "start_time": "2022-03-28T10:29:01.650Z"
   },
   {
    "duration": 46,
    "start_time": "2022-03-28T10:29:09.225Z"
   },
   {
    "duration": 1415,
    "start_time": "2022-03-28T10:33:22.529Z"
   },
   {
    "duration": 10,
    "start_time": "2022-03-28T10:33:23.947Z"
   },
   {
    "duration": 1082,
    "start_time": "2022-03-28T10:33:23.959Z"
   },
   {
    "duration": 4964,
    "start_time": "2022-03-28T10:33:25.044Z"
   },
   {
    "duration": 1021,
    "start_time": "2022-03-28T10:33:30.011Z"
   },
   {
    "duration": 3,
    "start_time": "2022-03-28T10:33:31.035Z"
   },
   {
    "duration": 271,
    "start_time": "2022-03-28T10:33:31.041Z"
   },
   {
    "duration": 48,
    "start_time": "2022-03-28T10:33:31.315Z"
   },
   {
    "duration": 6897,
    "start_time": "2022-04-02T10:35:28.481Z"
   },
   {
    "duration": 2246,
    "start_time": "2022-04-02T10:35:35.382Z"
   },
   {
    "duration": 9,
    "start_time": "2022-04-02T10:35:37.631Z"
   },
   {
    "duration": 9,
    "start_time": "2022-04-02T10:35:37.642Z"
   },
   {
    "duration": 1047,
    "start_time": "2022-04-02T10:35:37.654Z"
   },
   {
    "duration": 3912,
    "start_time": "2022-04-02T10:35:38.703Z"
   },
   {
    "duration": 843,
    "start_time": "2022-04-02T10:35:42.617Z"
   },
   {
    "duration": 169,
    "start_time": "2022-04-02T10:35:43.462Z"
   },
   {
    "duration": 11285,
    "start_time": "2022-04-02T10:35:43.633Z"
   },
   {
    "duration": 237,
    "start_time": "2022-04-02T10:35:54.920Z"
   },
   {
    "duration": 170,
    "start_time": "2022-04-02T10:35:55.159Z"
   },
   {
    "duration": 404,
    "start_time": "2022-04-02T10:35:55.331Z"
   },
   {
    "duration": 44,
    "start_time": "2022-04-02T10:35:55.737Z"
   },
   {
    "duration": 99,
    "start_time": "2022-04-02T10:35:55.788Z"
   },
   {
    "duration": 5,
    "start_time": "2022-04-02T10:35:55.889Z"
   },
   {
    "duration": 32,
    "start_time": "2022-04-02T10:35:55.896Z"
   },
   {
    "duration": 164,
    "start_time": "2022-04-02T10:35:55.930Z"
   },
   {
    "duration": 8,
    "start_time": "2022-04-02T10:35:56.096Z"
   },
   {
    "duration": 24,
    "start_time": "2022-04-02T10:35:56.106Z"
   },
   {
    "duration": 188,
    "start_time": "2022-04-02T10:35:56.132Z"
   },
   {
    "duration": 1338,
    "start_time": "2022-04-02T10:35:56.322Z"
   },
   {
    "duration": 0,
    "start_time": "2022-04-02T10:35:57.663Z"
   },
   {
    "duration": 0,
    "start_time": "2022-04-02T10:35:57.664Z"
   },
   {
    "duration": 0,
    "start_time": "2022-04-02T10:35:57.674Z"
   },
   {
    "duration": 0,
    "start_time": "2022-04-02T10:35:57.675Z"
   },
   {
    "duration": 0,
    "start_time": "2022-04-02T10:35:57.677Z"
   },
   {
    "duration": 0,
    "start_time": "2022-04-02T10:35:57.678Z"
   },
   {
    "duration": 0,
    "start_time": "2022-04-02T10:35:57.680Z"
   },
   {
    "duration": 0,
    "start_time": "2022-04-02T10:35:57.681Z"
   },
   {
    "duration": 0,
    "start_time": "2022-04-02T10:35:57.683Z"
   },
   {
    "duration": 0,
    "start_time": "2022-04-02T10:35:57.684Z"
   },
   {
    "duration": 0,
    "start_time": "2022-04-02T10:35:57.685Z"
   },
   {
    "duration": 0,
    "start_time": "2022-04-02T10:35:57.687Z"
   },
   {
    "duration": 0,
    "start_time": "2022-04-02T10:35:57.689Z"
   },
   {
    "duration": 0,
    "start_time": "2022-04-02T10:35:57.690Z"
   },
   {
    "duration": 0,
    "start_time": "2022-04-02T10:35:57.692Z"
   },
   {
    "duration": 0,
    "start_time": "2022-04-02T10:35:57.693Z"
   },
   {
    "duration": 0,
    "start_time": "2022-04-02T10:35:57.694Z"
   },
   {
    "duration": 0,
    "start_time": "2022-04-02T10:35:57.696Z"
   },
   {
    "duration": 0,
    "start_time": "2022-04-02T10:35:57.697Z"
   },
   {
    "duration": 0,
    "start_time": "2022-04-02T10:35:57.699Z"
   },
   {
    "duration": 0,
    "start_time": "2022-04-02T10:35:57.700Z"
   },
   {
    "duration": 0,
    "start_time": "2022-04-02T10:35:57.701Z"
   },
   {
    "duration": 0,
    "start_time": "2022-04-02T10:35:57.703Z"
   },
   {
    "duration": 0,
    "start_time": "2022-04-02T10:35:57.704Z"
   },
   {
    "duration": 0,
    "start_time": "2022-04-02T10:35:57.706Z"
   },
   {
    "duration": 0,
    "start_time": "2022-04-02T10:35:57.707Z"
   },
   {
    "duration": 6640,
    "start_time": "2022-04-02T10:37:10.576Z"
   },
   {
    "duration": 2078,
    "start_time": "2022-04-02T10:37:17.219Z"
   },
   {
    "duration": 9,
    "start_time": "2022-04-02T10:37:19.299Z"
   },
   {
    "duration": 9,
    "start_time": "2022-04-02T10:37:19.310Z"
   },
   {
    "duration": 1028,
    "start_time": "2022-04-02T10:37:19.323Z"
   },
   {
    "duration": 4006,
    "start_time": "2022-04-02T10:37:20.353Z"
   },
   {
    "duration": 694,
    "start_time": "2022-04-02T10:37:24.361Z"
   },
   {
    "duration": 143,
    "start_time": "2022-04-02T10:37:25.058Z"
   },
   {
    "duration": 9607,
    "start_time": "2022-04-02T10:37:25.204Z"
   },
   {
    "duration": 238,
    "start_time": "2022-04-02T10:37:34.813Z"
   },
   {
    "duration": 177,
    "start_time": "2022-04-02T10:37:35.053Z"
   },
   {
    "duration": 418,
    "start_time": "2022-04-02T10:37:35.232Z"
   },
   {
    "duration": 40,
    "start_time": "2022-04-02T10:37:35.652Z"
   },
   {
    "duration": 103,
    "start_time": "2022-04-02T10:37:35.696Z"
   },
   {
    "duration": 5,
    "start_time": "2022-04-02T10:37:35.801Z"
   },
   {
    "duration": 33,
    "start_time": "2022-04-02T10:37:35.808Z"
   },
   {
    "duration": 167,
    "start_time": "2022-04-02T10:37:35.843Z"
   },
   {
    "duration": 7,
    "start_time": "2022-04-02T10:37:36.012Z"
   },
   {
    "duration": 28,
    "start_time": "2022-04-02T10:37:36.021Z"
   },
   {
    "duration": 186,
    "start_time": "2022-04-02T10:37:36.051Z"
   },
   {
    "duration": 1434,
    "start_time": "2022-04-02T10:37:36.239Z"
   },
   {
    "duration": 0,
    "start_time": "2022-04-02T10:37:37.676Z"
   },
   {
    "duration": 0,
    "start_time": "2022-04-02T10:37:37.677Z"
   },
   {
    "duration": 0,
    "start_time": "2022-04-02T10:37:37.679Z"
   },
   {
    "duration": 0,
    "start_time": "2022-04-02T10:37:37.680Z"
   },
   {
    "duration": 0,
    "start_time": "2022-04-02T10:37:37.682Z"
   },
   {
    "duration": 0,
    "start_time": "2022-04-02T10:37:37.683Z"
   },
   {
    "duration": 0,
    "start_time": "2022-04-02T10:37:37.685Z"
   },
   {
    "duration": 0,
    "start_time": "2022-04-02T10:37:37.686Z"
   },
   {
    "duration": 1,
    "start_time": "2022-04-02T10:37:37.687Z"
   },
   {
    "duration": 0,
    "start_time": "2022-04-02T10:37:37.689Z"
   },
   {
    "duration": 0,
    "start_time": "2022-04-02T10:37:37.690Z"
   },
   {
    "duration": 0,
    "start_time": "2022-04-02T10:37:37.691Z"
   },
   {
    "duration": 0,
    "start_time": "2022-04-02T10:37:37.693Z"
   },
   {
    "duration": 0,
    "start_time": "2022-04-02T10:37:37.694Z"
   },
   {
    "duration": 0,
    "start_time": "2022-04-02T10:37:37.696Z"
   },
   {
    "duration": 0,
    "start_time": "2022-04-02T10:37:37.698Z"
   },
   {
    "duration": 0,
    "start_time": "2022-04-02T10:37:37.699Z"
   },
   {
    "duration": 0,
    "start_time": "2022-04-02T10:37:37.700Z"
   },
   {
    "duration": 0,
    "start_time": "2022-04-02T10:37:37.702Z"
   },
   {
    "duration": 0,
    "start_time": "2022-04-02T10:37:37.703Z"
   },
   {
    "duration": 0,
    "start_time": "2022-04-02T10:37:37.704Z"
   },
   {
    "duration": 0,
    "start_time": "2022-04-02T10:37:37.706Z"
   },
   {
    "duration": 0,
    "start_time": "2022-04-02T10:37:37.707Z"
   },
   {
    "duration": 0,
    "start_time": "2022-04-02T10:37:37.708Z"
   },
   {
    "duration": 0,
    "start_time": "2022-04-02T10:37:37.709Z"
   },
   {
    "duration": 0,
    "start_time": "2022-04-02T10:37:37.711Z"
   },
   {
    "duration": 27,
    "start_time": "2022-04-02T10:38:23.764Z"
   },
   {
    "duration": 28,
    "start_time": "2022-04-02T10:39:24.255Z"
   },
   {
    "duration": 6530,
    "start_time": "2022-04-02T10:39:30.561Z"
   },
   {
    "duration": 1976,
    "start_time": "2022-04-02T10:39:37.095Z"
   },
   {
    "duration": 8,
    "start_time": "2022-04-02T10:39:39.073Z"
   },
   {
    "duration": 35,
    "start_time": "2022-04-02T10:39:39.084Z"
   },
   {
    "duration": 1052,
    "start_time": "2022-04-02T10:39:39.122Z"
   },
   {
    "duration": 3903,
    "start_time": "2022-04-02T10:39:40.177Z"
   },
   {
    "duration": 721,
    "start_time": "2022-04-02T10:39:44.082Z"
   },
   {
    "duration": 148,
    "start_time": "2022-04-02T10:39:44.805Z"
   },
   {
    "duration": 9820,
    "start_time": "2022-04-02T10:39:44.955Z"
   },
   {
    "duration": 238,
    "start_time": "2022-04-02T10:39:54.779Z"
   },
   {
    "duration": 177,
    "start_time": "2022-04-02T10:39:55.019Z"
   },
   {
    "duration": 426,
    "start_time": "2022-04-02T10:39:55.198Z"
   },
   {
    "duration": 30,
    "start_time": "2022-04-02T10:39:55.626Z"
   },
   {
    "duration": 101,
    "start_time": "2022-04-02T10:39:55.673Z"
   },
   {
    "duration": 6,
    "start_time": "2022-04-02T10:39:55.776Z"
   },
   {
    "duration": 28,
    "start_time": "2022-04-02T10:39:55.784Z"
   },
   {
    "duration": 170,
    "start_time": "2022-04-02T10:39:55.814Z"
   },
   {
    "duration": 6,
    "start_time": "2022-04-02T10:39:55.987Z"
   },
   {
    "duration": 31,
    "start_time": "2022-04-02T10:39:55.995Z"
   },
   {
    "duration": 188,
    "start_time": "2022-04-02T10:39:56.029Z"
   },
   {
    "duration": 31,
    "start_time": "2022-04-02T10:39:56.219Z"
   },
   {
    "duration": 1447,
    "start_time": "2022-04-02T10:39:56.252Z"
   },
   {
    "duration": 0,
    "start_time": "2022-04-02T10:39:57.704Z"
   },
   {
    "duration": 0,
    "start_time": "2022-04-02T10:39:57.705Z"
   },
   {
    "duration": 0,
    "start_time": "2022-04-02T10:39:57.708Z"
   },
   {
    "duration": 0,
    "start_time": "2022-04-02T10:39:57.710Z"
   },
   {
    "duration": 0,
    "start_time": "2022-04-02T10:39:57.712Z"
   },
   {
    "duration": 0,
    "start_time": "2022-04-02T10:39:57.714Z"
   },
   {
    "duration": 0,
    "start_time": "2022-04-02T10:39:57.717Z"
   },
   {
    "duration": 0,
    "start_time": "2022-04-02T10:39:57.719Z"
   },
   {
    "duration": 0,
    "start_time": "2022-04-02T10:39:57.721Z"
   },
   {
    "duration": 0,
    "start_time": "2022-04-02T10:39:57.722Z"
   },
   {
    "duration": 0,
    "start_time": "2022-04-02T10:39:57.724Z"
   },
   {
    "duration": 0,
    "start_time": "2022-04-02T10:39:57.725Z"
   },
   {
    "duration": 0,
    "start_time": "2022-04-02T10:39:57.727Z"
   },
   {
    "duration": 0,
    "start_time": "2022-04-02T10:39:57.728Z"
   },
   {
    "duration": 0,
    "start_time": "2022-04-02T10:39:57.773Z"
   },
   {
    "duration": 0,
    "start_time": "2022-04-02T10:39:57.775Z"
   },
   {
    "duration": 0,
    "start_time": "2022-04-02T10:39:57.777Z"
   },
   {
    "duration": 0,
    "start_time": "2022-04-02T10:39:57.778Z"
   },
   {
    "duration": 0,
    "start_time": "2022-04-02T10:39:57.780Z"
   },
   {
    "duration": 0,
    "start_time": "2022-04-02T10:39:57.781Z"
   },
   {
    "duration": 0,
    "start_time": "2022-04-02T10:39:57.782Z"
   },
   {
    "duration": 0,
    "start_time": "2022-04-02T10:39:57.783Z"
   },
   {
    "duration": 0,
    "start_time": "2022-04-02T10:39:57.784Z"
   },
   {
    "duration": 0,
    "start_time": "2022-04-02T10:39:57.786Z"
   },
   {
    "duration": 0,
    "start_time": "2022-04-02T10:39:57.787Z"
   },
   {
    "duration": 0,
    "start_time": "2022-04-02T10:39:57.788Z"
   },
   {
    "duration": 4,
    "start_time": "2022-04-02T10:41:14.453Z"
   },
   {
    "duration": 12,
    "start_time": "2022-04-02T10:41:14.461Z"
   },
   {
    "duration": 56375,
    "start_time": "2022-04-02T10:41:14.476Z"
   },
   {
    "duration": 0,
    "start_time": "2022-04-02T10:42:10.856Z"
   },
   {
    "duration": 0,
    "start_time": "2022-04-02T10:42:10.858Z"
   },
   {
    "duration": 0,
    "start_time": "2022-04-02T10:42:10.861Z"
   },
   {
    "duration": 0,
    "start_time": "2022-04-02T10:42:10.862Z"
   },
   {
    "duration": 0,
    "start_time": "2022-04-02T10:42:10.864Z"
   },
   {
    "duration": 0,
    "start_time": "2022-04-02T10:42:10.866Z"
   },
   {
    "duration": 0,
    "start_time": "2022-04-02T10:42:10.868Z"
   },
   {
    "duration": 0,
    "start_time": "2022-04-02T10:42:10.871Z"
   },
   {
    "duration": 0,
    "start_time": "2022-04-02T10:42:10.873Z"
   },
   {
    "duration": 0,
    "start_time": "2022-04-02T10:42:10.875Z"
   },
   {
    "duration": 0,
    "start_time": "2022-04-02T10:42:10.877Z"
   },
   {
    "duration": 1,
    "start_time": "2022-04-02T10:42:10.879Z"
   },
   {
    "duration": 0,
    "start_time": "2022-04-02T10:42:10.881Z"
   },
   {
    "duration": 0,
    "start_time": "2022-04-02T10:42:10.883Z"
   },
   {
    "duration": 0,
    "start_time": "2022-04-02T10:42:10.886Z"
   },
   {
    "duration": 0,
    "start_time": "2022-04-02T10:42:10.887Z"
   },
   {
    "duration": 0,
    "start_time": "2022-04-02T10:42:10.890Z"
   },
   {
    "duration": 0,
    "start_time": "2022-04-02T10:42:10.892Z"
   },
   {
    "duration": 0,
    "start_time": "2022-04-02T10:42:10.895Z"
   },
   {
    "duration": 0,
    "start_time": "2022-04-02T10:42:10.897Z"
   },
   {
    "duration": 0,
    "start_time": "2022-04-02T10:42:10.898Z"
   },
   {
    "duration": 0,
    "start_time": "2022-04-02T10:42:10.900Z"
   },
   {
    "duration": 0,
    "start_time": "2022-04-02T10:42:10.902Z"
   },
   {
    "duration": 5,
    "start_time": "2022-04-02T10:42:19.141Z"
   },
   {
    "duration": 122,
    "start_time": "2022-04-02T10:42:20.639Z"
   },
   {
    "duration": 4,
    "start_time": "2022-04-02T10:42:34.055Z"
   },
   {
    "duration": 173,
    "start_time": "2022-04-02T10:42:35.144Z"
   },
   {
    "duration": 4,
    "start_time": "2022-04-02T10:42:56.811Z"
   },
   {
    "duration": 0,
    "start_time": "2022-04-02T10:43:26.950Z"
   },
   {
    "duration": 0,
    "start_time": "2022-04-02T10:43:26.953Z"
   },
   {
    "duration": 4,
    "start_time": "2022-04-02T10:43:33.321Z"
   },
   {
    "duration": 22,
    "start_time": "2022-04-02T10:43:33.327Z"
   },
   {
    "duration": 10253,
    "start_time": "2022-04-02T11:05:15.243Z"
   },
   {
    "duration": 2089,
    "start_time": "2022-04-02T11:05:25.499Z"
   },
   {
    "duration": 9,
    "start_time": "2022-04-02T11:05:27.590Z"
   },
   {
    "duration": 10,
    "start_time": "2022-04-02T11:05:27.601Z"
   },
   {
    "duration": 1056,
    "start_time": "2022-04-02T11:05:27.614Z"
   },
   {
    "duration": 4096,
    "start_time": "2022-04-02T11:05:28.674Z"
   },
   {
    "duration": 746,
    "start_time": "2022-04-02T11:05:32.774Z"
   },
   {
    "duration": 152,
    "start_time": "2022-04-02T11:05:33.523Z"
   },
   {
    "duration": 9596,
    "start_time": "2022-04-02T11:05:33.677Z"
   },
   {
    "duration": 247,
    "start_time": "2022-04-02T11:05:43.275Z"
   },
   {
    "duration": 185,
    "start_time": "2022-04-02T11:05:43.525Z"
   },
   {
    "duration": 440,
    "start_time": "2022-04-02T11:05:43.713Z"
   },
   {
    "duration": 39,
    "start_time": "2022-04-02T11:05:44.157Z"
   },
   {
    "duration": 120,
    "start_time": "2022-04-02T11:05:44.202Z"
   },
   {
    "duration": 7,
    "start_time": "2022-04-02T11:05:44.324Z"
   },
   {
    "duration": 48,
    "start_time": "2022-04-02T11:05:44.334Z"
   },
   {
    "duration": 150,
    "start_time": "2022-04-02T11:05:44.384Z"
   },
   {
    "duration": 6,
    "start_time": "2022-04-02T11:05:44.536Z"
   },
   {
    "duration": 48,
    "start_time": "2022-04-02T11:05:44.544Z"
   },
   {
    "duration": 203,
    "start_time": "2022-04-02T11:05:44.594Z"
   },
   {
    "duration": 27,
    "start_time": "2022-04-02T11:05:44.799Z"
   },
   {
    "duration": 35,
    "start_time": "2022-04-02T11:05:44.828Z"
   },
   {
    "duration": 1640,
    "start_time": "2022-04-02T11:05:44.866Z"
   },
   {
    "duration": 4,
    "start_time": "2022-04-02T11:05:46.509Z"
   },
   {
    "duration": 7,
    "start_time": "2022-04-02T11:05:46.515Z"
   },
   {
    "duration": 41004,
    "start_time": "2022-07-04T11:39:49.651Z"
   },
   {
    "duration": 7300,
    "start_time": "2022-07-04T11:40:30.657Z"
   },
   {
    "duration": 99,
    "start_time": "2022-07-04T11:40:37.959Z"
   },
   {
    "duration": 89,
    "start_time": "2022-07-04T11:40:38.063Z"
   },
   {
    "duration": 9693,
    "start_time": "2022-07-04T11:40:38.158Z"
   },
   {
    "duration": 21309,
    "start_time": "2022-07-04T11:40:47.853Z"
   },
   {
    "duration": 4594,
    "start_time": "2022-07-04T11:41:09.163Z"
   },
   {
    "duration": 894,
    "start_time": "2022-07-04T11:41:13.759Z"
   },
   {
    "duration": 49295,
    "start_time": "2022-07-04T11:41:14.655Z"
   },
   {
    "duration": 1102,
    "start_time": "2022-07-04T11:42:03.953Z"
   },
   {
    "duration": 806,
    "start_time": "2022-07-04T11:42:05.060Z"
   },
   {
    "duration": 1708,
    "start_time": "2022-07-04T11:42:05.953Z"
   },
   {
    "duration": 287,
    "start_time": "2022-07-04T11:42:07.663Z"
   },
   {
    "duration": 808,
    "start_time": "2022-07-04T11:42:07.954Z"
   },
   {
    "duration": 2595,
    "start_time": "2022-07-04T11:42:08.764Z"
   },
   {
    "duration": 8007,
    "start_time": "2022-07-04T11:42:11.451Z"
   },
   {
    "duration": 2904,
    "start_time": "2022-07-04T11:42:19.550Z"
   },
   {
    "duration": 9500,
    "start_time": "2022-07-04T11:42:22.455Z"
   },
   {
    "duration": 4,
    "start_time": "2022-07-04T11:42:31.959Z"
   },
   {
    "duration": 793,
    "start_time": "2022-07-04T11:42:31.964Z"
   },
   {
    "duration": 2590,
    "start_time": "2022-07-04T11:42:32.762Z"
   },
   {
    "duration": 8598,
    "start_time": "2022-07-04T11:42:35.356Z"
   },
   {
    "duration": 92,
    "start_time": "2022-07-04T11:42:43.962Z"
   },
   {
    "duration": 292,
    "start_time": "2022-07-04T11:42:44.060Z"
   },
   {
    "duration": 7595,
    "start_time": "2022-07-04T11:42:44.357Z"
   },
   {
    "duration": 2397,
    "start_time": "2022-07-04T11:42:51.960Z"
   },
   {
    "duration": 7990,
    "start_time": "2022-07-04T11:42:54.362Z"
   },
   {
    "duration": 104,
    "start_time": "2022-07-04T11:43:02.358Z"
   },
   {
    "duration": 194,
    "start_time": "2022-07-04T11:43:02.467Z"
   },
   {
    "duration": 703,
    "start_time": "2022-07-04T11:43:02.666Z"
   },
   {
    "duration": 6,
    "start_time": "2022-07-04T11:43:03.452Z"
   },
   {
    "duration": 290,
    "start_time": "2022-07-04T11:43:03.461Z"
   },
   {
    "duration": 595,
    "start_time": "2022-07-04T11:43:03.757Z"
   },
   {
    "duration": 112,
    "start_time": "2022-07-04T11:43:04.356Z"
   },
   {
    "duration": 12,
    "start_time": "2022-07-04T11:43:04.551Z"
   },
   {
    "duration": 86,
    "start_time": "2022-07-04T11:43:04.565Z"
   },
   {
    "duration": 100,
    "start_time": "2022-07-04T11:43:04.656Z"
   },
   {
    "duration": 6705,
    "start_time": "2022-07-04T11:43:04.757Z"
   },
   {
    "duration": 4,
    "start_time": "2022-07-04T11:43:11.464Z"
   },
   {
    "duration": 194,
    "start_time": "2022-07-04T11:43:11.558Z"
   },
   {
    "duration": 300,
    "start_time": "2022-07-04T11:43:11.756Z"
   },
   {
    "duration": 2370101,
    "start_time": "2022-07-04T11:43:12.058Z"
   },
   {
    "duration": 13892,
    "start_time": "2022-07-04T12:22:42.160Z"
   },
   {
    "duration": 93,
    "start_time": "2022-07-04T12:22:56.057Z"
   },
   {
    "duration": 108,
    "start_time": "2022-07-04T12:22:56.152Z"
   },
   {
    "duration": 1296,
    "start_time": "2022-07-04T12:22:56.265Z"
   },
   {
    "duration": 4,
    "start_time": "2022-07-04T12:22:57.651Z"
   },
   {
    "duration": 290,
    "start_time": "2022-07-04T12:22:57.663Z"
   },
   {
    "duration": 211,
    "start_time": "2022-07-04T12:22:57.954Z"
   },
   {
    "duration": 5826403,
    "start_time": "2022-07-04T12:22:58.166Z"
   },
   {
    "duration": 13122,
    "start_time": "2022-07-04T14:00:04.572Z"
   },
   {
    "duration": 54,
    "start_time": "2022-07-04T14:00:17.695Z"
   },
   {
    "duration": 25,
    "start_time": "2022-07-04T14:00:17.751Z"
   },
   {
    "duration": 7,
    "start_time": "2022-07-04T14:00:17.778Z"
   },
   {
    "duration": 7,
    "start_time": "2022-07-04T14:00:17.786Z"
   },
   {
    "duration": 17380,
    "start_time": "2022-07-04T14:00:17.794Z"
   },
   {
    "duration": 154,
    "start_time": "2022-07-04T14:00:35.176Z"
   },
   {
    "duration": 5,
    "start_time": "2022-07-04T14:00:35.331Z"
   },
   {
    "duration": 35,
    "start_time": "2022-07-04T14:00:35.337Z"
   }
  ],
  "kernelspec": {
   "display_name": "Python 3 (ipykernel)",
   "language": "python",
   "name": "python3"
  },
  "language_info": {
   "codemirror_mode": {
    "name": "ipython",
    "version": 3
   },
   "file_extension": ".py",
   "mimetype": "text/x-python",
   "name": "python",
   "nbconvert_exporter": "python",
   "pygments_lexer": "ipython3",
   "version": "3.9.13"
  },
  "toc": {
   "base_numbering": 1,
   "nav_menu": {},
   "number_sections": true,
   "sideBar": true,
   "skip_h1_title": true,
   "title_cell": "Table of Contents",
   "title_sidebar": "Contents",
   "toc_cell": false,
   "toc_position": {},
   "toc_section_display": true,
   "toc_window_display": false
  }
 },
 "nbformat": 4,
 "nbformat_minor": 2
}
