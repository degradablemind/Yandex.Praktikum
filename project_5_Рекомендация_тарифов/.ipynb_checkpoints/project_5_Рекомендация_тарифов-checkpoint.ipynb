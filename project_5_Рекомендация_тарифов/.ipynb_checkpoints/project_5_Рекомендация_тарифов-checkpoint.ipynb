{
 "cells": [
  {
   "cell_type": "markdown",
   "metadata": {
    "cellId": "g8h3fpetobtu6gushmcht"
   },
   "source": [
    "# Цель работы"
   ]
  },
  {
   "cell_type": "markdown",
   "metadata": {
    "cellId": "ty6m3e9f4fnh26zzcggqua"
   },
   "source": [
    "Построить модель для задачи классификации, которая выберет подходящий тариф."
   ]
  },
  {
   "cell_type": "markdown",
   "metadata": {},
   "source": [
    "## Задача"
   ]
  },
  {
   "cell_type": "markdown",
   "metadata": {},
   "source": [
    "Пострить модель с максимально большим значением `accuracy`."
   ]
  },
  {
   "cell_type": "markdown",
   "metadata": {
    "cellId": "627sx14h20wopxnn8kcofc"
   },
   "source": [
    "Импотрируем все необходимые библиотеки"
   ]
  },
  {
   "cell_type": "code",
   "execution_count": 3,
   "metadata": {},
   "outputs": [],
   "source": [
    "import pandas as pd\n",
    "from sklearn.model_selection import train_test_split\n",
    "from sklearn.tree import DecisionTreeClassifier\n",
    "from sklearn.ensemble import RandomForestClassifier\n",
    "from sklearn.linear_model import LogisticRegression\n",
    "from sklearn.model_selection import GridSearchCV\n",
    "from sklearn.dummy import DummyClassifier\n",
    "from sklearn.metrics import accuracy_score"
   ]
  },
  {
   "cell_type": "markdown",
   "metadata": {
    "cellId": "tk7rf1t515s0xfpysflpnta"
   },
   "source": [
    "## Изучение предоставленных данных"
   ]
  },
  {
   "cell_type": "markdown",
   "metadata": {
    "cellId": "34krb8b5kxelnyhalo6xvj"
   },
   "source": [
    "Выведем общую информацию о таблице"
   ]
  },
  {
   "cell_type": "code",
   "execution_count": 4,
   "metadata": {
    "cellId": "9vz6x6z258jkt9g01oegh9"
   },
   "outputs": [
    {
     "name": "stdout",
     "output_type": "stream",
     "text": [
      "<class 'pandas.core.frame.DataFrame'>\n",
      "RangeIndex: 3214 entries, 0 to 3213\n",
      "Data columns (total 5 columns):\n",
      "calls       3214 non-null float64\n",
      "minutes     3214 non-null float64\n",
      "messages    3214 non-null float64\n",
      "mb_used     3214 non-null float64\n",
      "is_ultra    3214 non-null int64\n",
      "dtypes: float64(4), int64(1)\n",
      "memory usage: 125.7 KB\n"
     ]
    }
   ],
   "source": [
    "df = pd.read_csv('/datasets/users_behavior.csv')\n",
    "df.info()"
   ]
  },
  {
   "cell_type": "markdown",
   "metadata": {
    "cellId": "8z7pmykf4durbh4dgghjl"
   },
   "source": [
    "**Промежуточные выводы**: в таблице 5 столбцов, 3214 строк. Столбцы предствленны данными типов float и int. Названия столбцов с нижним регистром и нижним подчеркиванием."
   ]
  },
  {
   "cell_type": "markdown",
   "metadata": {
    "cellId": "k4a75vk3n98t0220x469z"
   },
   "source": [
    "Просмотрим общий вид таблицы"
   ]
  },
  {
   "cell_type": "code",
   "execution_count": 5,
   "metadata": {
    "cellId": "jb1oj6yyulq96pfodvgvzp"
   },
   "outputs": [
    {
     "data": {
      "text/html": [
       "<div>\n",
       "<style scoped>\n",
       "    .dataframe tbody tr th:only-of-type {\n",
       "        vertical-align: middle;\n",
       "    }\n",
       "\n",
       "    .dataframe tbody tr th {\n",
       "        vertical-align: top;\n",
       "    }\n",
       "\n",
       "    .dataframe thead th {\n",
       "        text-align: right;\n",
       "    }\n",
       "</style>\n",
       "<table border=\"1\" class=\"dataframe\">\n",
       "  <thead>\n",
       "    <tr style=\"text-align: right;\">\n",
       "      <th></th>\n",
       "      <th>calls</th>\n",
       "      <th>minutes</th>\n",
       "      <th>messages</th>\n",
       "      <th>mb_used</th>\n",
       "      <th>is_ultra</th>\n",
       "    </tr>\n",
       "  </thead>\n",
       "  <tbody>\n",
       "    <tr>\n",
       "      <td>0</td>\n",
       "      <td>40.0</td>\n",
       "      <td>311.90</td>\n",
       "      <td>83.0</td>\n",
       "      <td>19915.42</td>\n",
       "      <td>0</td>\n",
       "    </tr>\n",
       "    <tr>\n",
       "      <td>1</td>\n",
       "      <td>85.0</td>\n",
       "      <td>516.75</td>\n",
       "      <td>56.0</td>\n",
       "      <td>22696.96</td>\n",
       "      <td>0</td>\n",
       "    </tr>\n",
       "    <tr>\n",
       "      <td>2</td>\n",
       "      <td>77.0</td>\n",
       "      <td>467.66</td>\n",
       "      <td>86.0</td>\n",
       "      <td>21060.45</td>\n",
       "      <td>0</td>\n",
       "    </tr>\n",
       "    <tr>\n",
       "      <td>3</td>\n",
       "      <td>106.0</td>\n",
       "      <td>745.53</td>\n",
       "      <td>81.0</td>\n",
       "      <td>8437.39</td>\n",
       "      <td>1</td>\n",
       "    </tr>\n",
       "    <tr>\n",
       "      <td>4</td>\n",
       "      <td>66.0</td>\n",
       "      <td>418.74</td>\n",
       "      <td>1.0</td>\n",
       "      <td>14502.75</td>\n",
       "      <td>0</td>\n",
       "    </tr>\n",
       "    <tr>\n",
       "      <td>5</td>\n",
       "      <td>58.0</td>\n",
       "      <td>344.56</td>\n",
       "      <td>21.0</td>\n",
       "      <td>15823.37</td>\n",
       "      <td>0</td>\n",
       "    </tr>\n",
       "    <tr>\n",
       "      <td>6</td>\n",
       "      <td>57.0</td>\n",
       "      <td>431.64</td>\n",
       "      <td>20.0</td>\n",
       "      <td>3738.90</td>\n",
       "      <td>1</td>\n",
       "    </tr>\n",
       "    <tr>\n",
       "      <td>7</td>\n",
       "      <td>15.0</td>\n",
       "      <td>132.40</td>\n",
       "      <td>6.0</td>\n",
       "      <td>21911.60</td>\n",
       "      <td>0</td>\n",
       "    </tr>\n",
       "    <tr>\n",
       "      <td>8</td>\n",
       "      <td>7.0</td>\n",
       "      <td>43.39</td>\n",
       "      <td>3.0</td>\n",
       "      <td>2538.67</td>\n",
       "      <td>1</td>\n",
       "    </tr>\n",
       "    <tr>\n",
       "      <td>9</td>\n",
       "      <td>90.0</td>\n",
       "      <td>665.41</td>\n",
       "      <td>38.0</td>\n",
       "      <td>17358.61</td>\n",
       "      <td>0</td>\n",
       "    </tr>\n",
       "  </tbody>\n",
       "</table>\n",
       "</div>"
      ],
      "text/plain": [
       "   calls  minutes  messages   mb_used  is_ultra\n",
       "0   40.0   311.90      83.0  19915.42         0\n",
       "1   85.0   516.75      56.0  22696.96         0\n",
       "2   77.0   467.66      86.0  21060.45         0\n",
       "3  106.0   745.53      81.0   8437.39         1\n",
       "4   66.0   418.74       1.0  14502.75         0\n",
       "5   58.0   344.56      21.0  15823.37         0\n",
       "6   57.0   431.64      20.0   3738.90         1\n",
       "7   15.0   132.40       6.0  21911.60         0\n",
       "8    7.0    43.39       3.0   2538.67         1\n",
       "9   90.0   665.41      38.0  17358.61         0"
      ]
     },
     "execution_count": 5,
     "metadata": {},
     "output_type": "execute_result"
    }
   ],
   "source": [
    "df.head(10)"
   ]
  },
  {
   "cell_type": "markdown",
   "metadata": {
    "cellId": "eqahea9hy760wgqvb2he628"
   },
   "source": [
    "Просмотрим уникальные значения каждого столбца, количество и распределение уникальных значений"
   ]
  },
  {
   "cell_type": "code",
   "execution_count": 6,
   "metadata": {
    "cellId": "ea8yzj3mnztam3f2roydjs",
    "scrolled": true
   },
   "outputs": [
    {
     "name": "stdout",
     "output_type": "stream",
     "text": [
      "Уникальные значения столбца calls\n",
      "\n",
      " [ 40.  85.  77. 106.  66.  58.  57.  15.   7.  90.  82.  45.  51.  56.\n",
      " 108.   6.   2.  26.  79.  49.  93.  48.  11.  53.  81. 154.  37.  50.\n",
      "  41.  10.  71.  65. 110. 120.  76.  64.  23.  34.  98.  35.   5.  70.\n",
      " 124. 129.  67.   0.  13.  68.  91. 121. 114. 125.  80.  33. 138.  84.\n",
      "  78.  69.  63.  72.  73.   1.  43. 118.  74.  83. 141. 117.  54. 101.\n",
      "  29.   3. 107.  55.  47. 158.  87.  28.  59.  52.  44.  17. 111. 109.\n",
      "  14.  92.  94.  46. 133.  75.  38.  60. 100.  31.  61.  89.  27. 196.\n",
      "  24.  99.  62. 162. 116. 123.  18.  21.  12.  86.  32.  95.  39.  30.\n",
      "  25.  36.  42. 113.   9. 183. 156. 127.  96.  16.   4. 102.  97.  20.\n",
      " 104. 144.  19. 132. 131. 136.  88. 115. 176. 160. 164. 169.  22. 105.\n",
      " 152. 177. 161. 112.   8. 126. 178. 103. 130. 198. 119. 137. 150. 122.\n",
      " 146. 151. 157. 203. 143. 148. 128. 185. 167. 181. 184. 171. 153. 140.\n",
      " 159. 188. 134. 189. 182. 173. 172. 145. 180. 155. 174. 244. 165. 163.\n",
      " 142. 168.] \n",
      " \n",
      "Общее количество уникальных значений столбца calls\n",
      "\n",
      " 184 \n",
      " \n",
      "Количество уникальных значений столбца calls\n",
      "\n",
      "69.0     60\n",
      "68.0     49\n",
      "64.0     48\n",
      "65.0     47\n",
      "77.0     47\n",
      "         ..\n",
      "178.0     1\n",
      "162.0     1\n",
      "151.0     1\n",
      "203.0     1\n",
      "165.0     1\n",
      "Name: calls, Length: 184, dtype: int64 \n",
      " \n",
      "Таблица распределения значений столбца calls\n",
      "\n",
      "count    3214.000000\n",
      "mean       63.038892\n",
      "std        33.236368\n",
      "min         0.000000\n",
      "25%        40.000000\n",
      "50%        62.000000\n",
      "75%        82.000000\n",
      "max       244.000000\n",
      "Name: calls, dtype: float64 \n",
      "\n"
     ]
    }
   ],
   "source": [
    "# просмотрим уникальные значений в столбце calls\n",
    "print('Уникальные значения столбца {}\\n'.format('calls\\n'), \n",
    "      df['calls'].unique(), '\\n',\n",
    "      '\\nОбщее количество уникальных значений столбца {}\\n'.format('calls\\n'), \n",
    "      df['calls'].nunique(), '\\n',\n",
    "      '\\nКоличество уникальных значений столбца {}\\n{}'.\n",
    "      format('calls\\n', df['calls'].value_counts()), '\\n',\n",
    "     '\\nТаблица распределения значений столбца {}\\n{}'.\n",
    "      format('calls\\n', df['calls'].describe()), '\\n') "
   ]
  },
  {
   "cell_type": "markdown",
   "metadata": {
    "cellId": "fo80xm16u9h7wxlroubbp3"
   },
   "source": [
    "**Промежуточные выводы**: видно, что значений 'NaN' нет, в целом, все значения готовы для дальнейшей работы."
   ]
  },
  {
   "cell_type": "code",
   "execution_count": 7,
   "metadata": {
    "cellId": "ra9a9svbazfngx3m1r9nwd"
   },
   "outputs": [
    {
     "name": "stdout",
     "output_type": "stream",
     "text": [
      "Уникальные значения столбца minutes\n",
      "\n",
      " [311.9  516.75 467.66 ... 634.44 462.32 566.09] \n",
      " \n",
      "Общее количество уникальных значений столбца minutes\n",
      "\n",
      " 3142 \n",
      " \n",
      "Количество уникальных значений столбца minutes\n",
      "\n",
      "0.00      40\n",
      "1.00       3\n",
      "2.00       3\n",
      "564.01     3\n",
      "260.94     2\n",
      "          ..\n",
      "81.29      1\n",
      "105.01     1\n",
      "523.84     1\n",
      "507.52     1\n",
      "185.18     1\n",
      "Name: minutes, Length: 3142, dtype: int64 \n",
      " \n",
      "Таблица распределения значений столбца minutes\n",
      "\n",
      "count    3214.000000\n",
      "mean      438.208787\n",
      "std       234.569872\n",
      "min         0.000000\n",
      "25%       274.575000\n",
      "50%       430.600000\n",
      "75%       571.927500\n",
      "max      1632.060000\n",
      "Name: minutes, dtype: float64 \n",
      "\n"
     ]
    }
   ],
   "source": [
    "# просмотрим уникальные значений в столбце minutes\n",
    "print('Уникальные значения столбца {}\\n'.format('minutes\\n'), \n",
    "      df['minutes'].unique(), '\\n',\n",
    "      '\\nОбщее количество уникальных значений столбца {}\\n'.format('minutes\\n'), \n",
    "      df['minutes'].nunique(), '\\n',\n",
    "      '\\nКоличество уникальных значений столбца {}\\n{}'.\n",
    "      format('minutes\\n', df['minutes'].value_counts()), '\\n',\n",
    "     '\\nТаблица распределения значений столбца {}\\n{}'.\n",
    "      format('minutes\\n', df['minutes'].describe()), '\\n') "
   ]
  },
  {
   "cell_type": "markdown",
   "metadata": {
    "cellId": "9da5rw7azfv7fe1rzafs1p"
   },
   "source": [
    "**Промежуточные выводы**: видно, что значений 'NaN' нет, в целом, все значения готовы для дальнейшей работы."
   ]
  },
  {
   "cell_type": "code",
   "execution_count": 8,
   "metadata": {
    "cellId": "lxspkp97peq0zwfos0at95"
   },
   "outputs": [
    {
     "name": "stdout",
     "output_type": "stream",
     "text": [
      "Уникальные значения столбца messages\n",
      "\n",
      " [ 83.  56.  86.  81.   1.  21.  20.   6.   3.  38.  13.  61.  16.   0.\n",
      "   4.  90.  31.  97.  66.  19.  30.  52.  48.  44.  27.   7.   9.  43.\n",
      "  33.  34.  10. 106.  65.  17.  11.  29.  75.  47.  49.  64. 144.  99.\n",
      "  46.  24.  22.  55.   8.  93. 153.  37.  69.  18.  78.  42.  82.  62.\n",
      "  40.  57.  60.  58. 123.  26.  51. 109.   5.  39.  35.  79.  12. 182.\n",
      "  36. 126.  59. 102.  14. 133. 110.  54.  72. 103.  23. 108.  92.  73.\n",
      "  15.  25.  91. 113. 105.  85. 191.  32.  50. 145.  41. 150.  53. 171.\n",
      " 176.  68.  28.  76.  71. 118.  63. 132.  84.   2.  67. 111. 101.  96.\n",
      " 112.  95.  89. 143.  45.  70.  77.  94. 137. 107.  98. 141. 124. 129.\n",
      " 114.  87.  80. 117. 138. 142. 134. 128. 180. 115. 154.  74. 185. 121.\n",
      " 127. 116.  88. 140. 201. 100. 169. 155. 135. 151. 139. 131. 188. 157.\n",
      " 148. 104. 224. 158. 211. 120. 149. 190. 173. 172. 146. 162. 119. 178.\n",
      " 223. 130. 122. 159. 181. 125. 152. 197. 136. 165. 183. 170.] \n",
      " \n",
      "Общее количество уникальных значений столбца messages\n",
      "\n",
      " 180 \n",
      " \n",
      "Количество уникальных значений столбца messages\n",
      "\n",
      "0.0      497\n",
      "20.0      52\n",
      "6.0       46\n",
      "16.0      45\n",
      "17.0      44\n",
      "        ... \n",
      "110.0      1\n",
      "132.0      1\n",
      "180.0      1\n",
      "188.0      1\n",
      "197.0      1\n",
      "Name: messages, Length: 180, dtype: int64 \n",
      " \n",
      "Таблица распределения значений столбца messages\n",
      "\n",
      "count    3214.000000\n",
      "mean       38.281269\n",
      "std        36.148326\n",
      "min         0.000000\n",
      "25%         9.000000\n",
      "50%        30.000000\n",
      "75%        57.000000\n",
      "max       224.000000\n",
      "Name: messages, dtype: float64 \n",
      "\n"
     ]
    }
   ],
   "source": [
    "# просмотрим уникальные значений в столбце messages\n",
    "print('Уникальные значения столбца {}\\n'.format('messages\\n'), \n",
    "      df['messages'].unique(), '\\n',\n",
    "      '\\nОбщее количество уникальных значений столбца {}\\n'.format('messages\\n'), \n",
    "      df['messages'].nunique(), '\\n',\n",
    "      '\\nКоличество уникальных значений столбца {}\\n{}'.\n",
    "      format('messages\\n', df['messages'].value_counts()), '\\n',\n",
    "     '\\nТаблица распределения значений столбца {}\\n{}'.\n",
    "      format('messages\\n', df['messages'].describe()), '\\n') "
   ]
  },
  {
   "cell_type": "markdown",
   "metadata": {
    "cellId": "tqobxxtgxpurplj3tjcr"
   },
   "source": [
    "**Промежуточные выводы**: видно, что значений 'NaN' нет, в целом, все значения готовы для дальнейшей работы."
   ]
  },
  {
   "cell_type": "code",
   "execution_count": 9,
   "metadata": {
    "cellId": "k79j7bv6gvcs9goak8ji1b"
   },
   "outputs": [
    {
     "name": "stdout",
     "output_type": "stream",
     "text": [
      "Уникальные значения столбца mb_used\n",
      "\n",
      " [19915.42 22696.96 21060.45 ... 13974.06 31239.78 29480.52] \n",
      " \n",
      "Общее количество уникальных значений столбца mb_used\n",
      "\n",
      " 3203 \n",
      " \n",
      "Количество уникальных значений столбца mb_used\n",
      "\n",
      "0.00        11\n",
      "0.01         2\n",
      "15578.67     1\n",
      "30671.00     1\n",
      "14586.92     1\n",
      "            ..\n",
      "14515.45     1\n",
      "9031.85      1\n",
      "13560.15     1\n",
      "17190.83     1\n",
      "17969.15     1\n",
      "Name: mb_used, Length: 3203, dtype: int64 \n",
      " \n",
      "Таблица распределения значений столбца mb_used\n",
      "\n",
      "count     3214.000000\n",
      "mean     17207.673836\n",
      "std       7570.968246\n",
      "min          0.000000\n",
      "25%      12491.902500\n",
      "50%      16943.235000\n",
      "75%      21424.700000\n",
      "max      49745.730000\n",
      "Name: mb_used, dtype: float64 \n",
      "\n"
     ]
    }
   ],
   "source": [
    "# просмотрим уникальные значений в столбце mb_used\n",
    "print('Уникальные значения столбца {}\\n'.format('mb_used\\n'), \n",
    "      df['mb_used'].unique(), '\\n',\n",
    "      '\\nОбщее количество уникальных значений столбца {}\\n'.format('mb_used\\n'), \n",
    "      df['mb_used'].nunique(), '\\n',\n",
    "      '\\nКоличество уникальных значений столбца {}\\n{}'.\n",
    "      format('mb_used\\n', df['mb_used'].value_counts()), '\\n',\n",
    "     '\\nТаблица распределения значений столбца {}\\n{}'.\n",
    "      format('mb_used\\n', df['mb_used'].describe()), '\\n') "
   ]
  },
  {
   "cell_type": "markdown",
   "metadata": {
    "cellId": "ybztlsqm8an40y28us89go"
   },
   "source": [
    "**Промежуточные выводы**: видно, что значений 'NaN' нет, в целом, все значения готовы для дальнейшей работы."
   ]
  },
  {
   "cell_type": "code",
   "execution_count": 10,
   "metadata": {
    "cellId": "lx9gyaeoj9od9l86nqoubl"
   },
   "outputs": [
    {
     "name": "stdout",
     "output_type": "stream",
     "text": [
      "Уникальные значения столбца is_ultra\n",
      "\n",
      " [0 1] \n",
      " \n",
      "Общее количество уникальных значений столбца is_ultra\n",
      "\n",
      " 2 \n",
      " \n",
      "Количество уникальных значений столбца is_ultra\n",
      "\n",
      "0    2229\n",
      "1     985\n",
      "Name: is_ultra, dtype: int64 \n",
      " \n",
      "Таблица распределения значений столбца is_ultra\n",
      "\n",
      "count    3214.000000\n",
      "mean        0.306472\n",
      "std         0.461100\n",
      "min         0.000000\n",
      "25%         0.000000\n",
      "50%         0.000000\n",
      "75%         1.000000\n",
      "max         1.000000\n",
      "Name: is_ultra, dtype: float64 \n",
      "\n"
     ]
    }
   ],
   "source": [
    "# просмотрим уникальные значений в столбце is_ultra\n",
    "print('Уникальные значения столбца {}\\n'.format('is_ultra\\n'), \n",
    "      df['is_ultra'].unique(), '\\n',\n",
    "      '\\nОбщее количество уникальных значений столбца {}\\n'.format('is_ultra\\n'), \n",
    "      df['is_ultra'].nunique(), '\\n',\n",
    "      '\\nКоличество уникальных значений столбца {}\\n{}'.\n",
    "      format('is_ultra\\n', df['is_ultra'].value_counts()), '\\n',\n",
    "     '\\nТаблица распределения значений столбца {}\\n{}'.\n",
    "      format('is_ultra\\n', df['is_ultra'].describe()), '\\n') "
   ]
  },
  {
   "cell_type": "markdown",
   "metadata": {
    "cellId": "6vx76akrwth6d9kt739vw6"
   },
   "source": [
    "**Промежуточные выводы**: видно, что значений 'NaN' нет, в целом, все значения готовы для дальнейшей работы. Значения столбца стнадартизированы и не требуют коррекции"
   ]
  },
  {
   "cell_type": "markdown",
   "metadata": {},
   "source": [
    "Проверим таблицу на предмет пропущенных значений"
   ]
  },
  {
   "cell_type": "code",
   "execution_count": 11,
   "metadata": {},
   "outputs": [
    {
     "data": {
      "text/plain": [
       "calls       0\n",
       "minutes     0\n",
       "messages    0\n",
       "mb_used     0\n",
       "is_ultra    0\n",
       "dtype: int64"
      ]
     },
     "execution_count": 11,
     "metadata": {},
     "output_type": "execute_result"
    }
   ],
   "source": [
    "df.isna().sum()"
   ]
  },
  {
   "cell_type": "markdown",
   "metadata": {
    "cellId": "v811cq27ard9qeg2w39nkg"
   },
   "source": [
    "**Выводы**: таблица готова для дальнейшей работы, типы данных менять не нужно, отсуствуют значения 'NaN', пропущенных значений нет. Можно приступать."
   ]
  },
  {
   "cell_type": "markdown",
   "metadata": {
    "cellId": "7fgnqg7x44tg6kwzudv79o"
   },
   "source": [
    "## Разбиение данных на выборки"
   ]
  },
  {
   "cell_type": "markdown",
   "metadata": {
    "cellId": "80vay7abearxa07gw1ou4"
   },
   "source": [
    "Разобьем таблицу на различные выборки: обучающую, валидационную и тестовую."
   ]
  },
  {
   "cell_type": "markdown",
   "metadata": {},
   "source": [
    "Для начала выделим целевой признак 'target' и вторичные признаки 'features'."
   ]
  },
  {
   "cell_type": "code",
   "execution_count": 12,
   "metadata": {
    "cellId": "7w87ftd1ncovccnezfgm7"
   },
   "outputs": [],
   "source": [
    "features = df.drop(['is_ultra'], axis=1)\n",
    "target = df['is_ultra']"
   ]
  },
  {
   "cell_type": "markdown",
   "metadata": {},
   "source": [
    "Далее создадим валидаицонную выборку в объеме 25% от исходных данных."
   ]
  },
  {
   "cell_type": "code",
   "execution_count": 13,
   "metadata": {
    "cellId": "1aibk5h84ibis2ifcjsafe"
   },
   "outputs": [],
   "source": [
    "features_train_test, features_valid, target_train_test, target_valid = train_test_split(\n",
    "    features, target, test_size=0.25, random_state=1425)"
   ]
  },
  {
   "cell_type": "markdown",
   "metadata": {},
   "source": [
    "Затем из оставшихся данных выделим тестовую выборку в объеме 25% от оставшихся данных после разбиение на валидационную."
   ]
  },
  {
   "cell_type": "code",
   "execution_count": 14,
   "metadata": {
    "cellId": "eo917b47ziesezc9mql7s"
   },
   "outputs": [],
   "source": [
    "features_train, features_test, target_train, target_test = train_test_split(\n",
    "    features_train_test, target_train_test, test_size=0.25, random_state=1425)"
   ]
  },
  {
   "cell_type": "markdown",
   "metadata": {},
   "source": [
    "Проверим, какие таблицы получились. Выведем их на экран."
   ]
  },
  {
   "cell_type": "code",
   "execution_count": 15,
   "metadata": {
    "cellId": "rozebaq3hjjigaqeg06v7"
   },
   "outputs": [
    {
     "data": {
      "text/plain": [
       "'Обучающия таблица features_train:'"
      ]
     },
     "metadata": {},
     "output_type": "display_data"
    },
    {
     "data": {
      "text/html": [
       "<div>\n",
       "<style scoped>\n",
       "    .dataframe tbody tr th:only-of-type {\n",
       "        vertical-align: middle;\n",
       "    }\n",
       "\n",
       "    .dataframe tbody tr th {\n",
       "        vertical-align: top;\n",
       "    }\n",
       "\n",
       "    .dataframe thead th {\n",
       "        text-align: right;\n",
       "    }\n",
       "</style>\n",
       "<table border=\"1\" class=\"dataframe\">\n",
       "  <thead>\n",
       "    <tr style=\"text-align: right;\">\n",
       "      <th></th>\n",
       "      <th>calls</th>\n",
       "      <th>minutes</th>\n",
       "      <th>messages</th>\n",
       "      <th>mb_used</th>\n",
       "    </tr>\n",
       "  </thead>\n",
       "  <tbody>\n",
       "    <tr>\n",
       "      <td>1178</td>\n",
       "      <td>72.0</td>\n",
       "      <td>599.30</td>\n",
       "      <td>25.0</td>\n",
       "      <td>11759.84</td>\n",
       "    </tr>\n",
       "    <tr>\n",
       "      <td>823</td>\n",
       "      <td>42.0</td>\n",
       "      <td>290.69</td>\n",
       "      <td>77.0</td>\n",
       "      <td>21507.03</td>\n",
       "    </tr>\n",
       "    <tr>\n",
       "      <td>2379</td>\n",
       "      <td>51.0</td>\n",
       "      <td>318.70</td>\n",
       "      <td>3.0</td>\n",
       "      <td>18659.17</td>\n",
       "    </tr>\n",
       "    <tr>\n",
       "      <td>1723</td>\n",
       "      <td>63.0</td>\n",
       "      <td>377.43</td>\n",
       "      <td>0.0</td>\n",
       "      <td>16663.48</td>\n",
       "    </tr>\n",
       "    <tr>\n",
       "      <td>2277</td>\n",
       "      <td>49.0</td>\n",
       "      <td>336.33</td>\n",
       "      <td>130.0</td>\n",
       "      <td>9777.89</td>\n",
       "    </tr>\n",
       "    <tr>\n",
       "      <td>...</td>\n",
       "      <td>...</td>\n",
       "      <td>...</td>\n",
       "      <td>...</td>\n",
       "      <td>...</td>\n",
       "    </tr>\n",
       "    <tr>\n",
       "      <td>1120</td>\n",
       "      <td>24.0</td>\n",
       "      <td>191.97</td>\n",
       "      <td>77.0</td>\n",
       "      <td>13292.23</td>\n",
       "    </tr>\n",
       "    <tr>\n",
       "      <td>783</td>\n",
       "      <td>83.0</td>\n",
       "      <td>554.07</td>\n",
       "      <td>44.0</td>\n",
       "      <td>19300.04</td>\n",
       "    </tr>\n",
       "    <tr>\n",
       "      <td>1164</td>\n",
       "      <td>37.0</td>\n",
       "      <td>267.39</td>\n",
       "      <td>0.0</td>\n",
       "      <td>15195.95</td>\n",
       "    </tr>\n",
       "    <tr>\n",
       "      <td>629</td>\n",
       "      <td>123.0</td>\n",
       "      <td>947.71</td>\n",
       "      <td>57.0</td>\n",
       "      <td>24046.86</td>\n",
       "    </tr>\n",
       "    <tr>\n",
       "      <td>583</td>\n",
       "      <td>41.0</td>\n",
       "      <td>227.58</td>\n",
       "      <td>0.0</td>\n",
       "      <td>20292.33</td>\n",
       "    </tr>\n",
       "  </tbody>\n",
       "</table>\n",
       "<p>1807 rows × 4 columns</p>\n",
       "</div>"
      ],
      "text/plain": [
       "      calls  minutes  messages   mb_used\n",
       "1178   72.0   599.30      25.0  11759.84\n",
       "823    42.0   290.69      77.0  21507.03\n",
       "2379   51.0   318.70       3.0  18659.17\n",
       "1723   63.0   377.43       0.0  16663.48\n",
       "2277   49.0   336.33     130.0   9777.89\n",
       "...     ...      ...       ...       ...\n",
       "1120   24.0   191.97      77.0  13292.23\n",
       "783    83.0   554.07      44.0  19300.04\n",
       "1164   37.0   267.39       0.0  15195.95\n",
       "629   123.0   947.71      57.0  24046.86\n",
       "583    41.0   227.58       0.0  20292.33\n",
       "\n",
       "[1807 rows x 4 columns]"
      ]
     },
     "metadata": {},
     "output_type": "display_data"
    },
    {
     "data": {
      "text/plain": [
       "'Обучающия таблица features_valid:'"
      ]
     },
     "metadata": {},
     "output_type": "display_data"
    },
    {
     "data": {
      "text/html": [
       "<div>\n",
       "<style scoped>\n",
       "    .dataframe tbody tr th:only-of-type {\n",
       "        vertical-align: middle;\n",
       "    }\n",
       "\n",
       "    .dataframe tbody tr th {\n",
       "        vertical-align: top;\n",
       "    }\n",
       "\n",
       "    .dataframe thead th {\n",
       "        text-align: right;\n",
       "    }\n",
       "</style>\n",
       "<table border=\"1\" class=\"dataframe\">\n",
       "  <thead>\n",
       "    <tr style=\"text-align: right;\">\n",
       "      <th></th>\n",
       "      <th>calls</th>\n",
       "      <th>minutes</th>\n",
       "      <th>messages</th>\n",
       "      <th>mb_used</th>\n",
       "    </tr>\n",
       "  </thead>\n",
       "  <tbody>\n",
       "    <tr>\n",
       "      <td>2397</td>\n",
       "      <td>51.0</td>\n",
       "      <td>375.07</td>\n",
       "      <td>117.0</td>\n",
       "      <td>6967.00</td>\n",
       "    </tr>\n",
       "    <tr>\n",
       "      <td>2967</td>\n",
       "      <td>80.0</td>\n",
       "      <td>583.37</td>\n",
       "      <td>58.0</td>\n",
       "      <td>20898.57</td>\n",
       "    </tr>\n",
       "    <tr>\n",
       "      <td>2393</td>\n",
       "      <td>51.0</td>\n",
       "      <td>360.56</td>\n",
       "      <td>53.0</td>\n",
       "      <td>19683.68</td>\n",
       "    </tr>\n",
       "    <tr>\n",
       "      <td>1827</td>\n",
       "      <td>78.0</td>\n",
       "      <td>569.16</td>\n",
       "      <td>19.0</td>\n",
       "      <td>16795.58</td>\n",
       "    </tr>\n",
       "    <tr>\n",
       "      <td>2624</td>\n",
       "      <td>58.0</td>\n",
       "      <td>373.66</td>\n",
       "      <td>22.0</td>\n",
       "      <td>19410.70</td>\n",
       "    </tr>\n",
       "    <tr>\n",
       "      <td>...</td>\n",
       "      <td>...</td>\n",
       "      <td>...</td>\n",
       "      <td>...</td>\n",
       "      <td>...</td>\n",
       "    </tr>\n",
       "    <tr>\n",
       "      <td>836</td>\n",
       "      <td>113.0</td>\n",
       "      <td>707.79</td>\n",
       "      <td>0.0</td>\n",
       "      <td>21008.04</td>\n",
       "    </tr>\n",
       "    <tr>\n",
       "      <td>770</td>\n",
       "      <td>49.0</td>\n",
       "      <td>301.37</td>\n",
       "      <td>65.0</td>\n",
       "      <td>17393.94</td>\n",
       "    </tr>\n",
       "    <tr>\n",
       "      <td>2394</td>\n",
       "      <td>92.0</td>\n",
       "      <td>662.15</td>\n",
       "      <td>32.0</td>\n",
       "      <td>27426.21</td>\n",
       "    </tr>\n",
       "    <tr>\n",
       "      <td>437</td>\n",
       "      <td>71.0</td>\n",
       "      <td>501.94</td>\n",
       "      <td>33.0</td>\n",
       "      <td>16853.73</td>\n",
       "    </tr>\n",
       "    <tr>\n",
       "      <td>3154</td>\n",
       "      <td>69.0</td>\n",
       "      <td>488.40</td>\n",
       "      <td>36.0</td>\n",
       "      <td>14165.05</td>\n",
       "    </tr>\n",
       "  </tbody>\n",
       "</table>\n",
       "<p>804 rows × 4 columns</p>\n",
       "</div>"
      ],
      "text/plain": [
       "      calls  minutes  messages   mb_used\n",
       "2397   51.0   375.07     117.0   6967.00\n",
       "2967   80.0   583.37      58.0  20898.57\n",
       "2393   51.0   360.56      53.0  19683.68\n",
       "1827   78.0   569.16      19.0  16795.58\n",
       "2624   58.0   373.66      22.0  19410.70\n",
       "...     ...      ...       ...       ...\n",
       "836   113.0   707.79       0.0  21008.04\n",
       "770    49.0   301.37      65.0  17393.94\n",
       "2394   92.0   662.15      32.0  27426.21\n",
       "437    71.0   501.94      33.0  16853.73\n",
       "3154   69.0   488.40      36.0  14165.05\n",
       "\n",
       "[804 rows x 4 columns]"
      ]
     },
     "metadata": {},
     "output_type": "display_data"
    },
    {
     "data": {
      "text/plain": [
       "'Обучающия таблица features_test:'"
      ]
     },
     "metadata": {},
     "output_type": "display_data"
    },
    {
     "data": {
      "text/html": [
       "<div>\n",
       "<style scoped>\n",
       "    .dataframe tbody tr th:only-of-type {\n",
       "        vertical-align: middle;\n",
       "    }\n",
       "\n",
       "    .dataframe tbody tr th {\n",
       "        vertical-align: top;\n",
       "    }\n",
       "\n",
       "    .dataframe thead th {\n",
       "        text-align: right;\n",
       "    }\n",
       "</style>\n",
       "<table border=\"1\" class=\"dataframe\">\n",
       "  <thead>\n",
       "    <tr style=\"text-align: right;\">\n",
       "      <th></th>\n",
       "      <th>calls</th>\n",
       "      <th>minutes</th>\n",
       "      <th>messages</th>\n",
       "      <th>mb_used</th>\n",
       "    </tr>\n",
       "  </thead>\n",
       "  <tbody>\n",
       "    <tr>\n",
       "      <td>1911</td>\n",
       "      <td>62.0</td>\n",
       "      <td>423.82</td>\n",
       "      <td>16.0</td>\n",
       "      <td>8378.35</td>\n",
       "    </tr>\n",
       "    <tr>\n",
       "      <td>97</td>\n",
       "      <td>83.0</td>\n",
       "      <td>538.83</td>\n",
       "      <td>60.0</td>\n",
       "      <td>13721.94</td>\n",
       "    </tr>\n",
       "    <tr>\n",
       "      <td>2795</td>\n",
       "      <td>143.0</td>\n",
       "      <td>1155.95</td>\n",
       "      <td>171.0</td>\n",
       "      <td>15790.19</td>\n",
       "    </tr>\n",
       "    <tr>\n",
       "      <td>2550</td>\n",
       "      <td>83.0</td>\n",
       "      <td>543.77</td>\n",
       "      <td>0.0</td>\n",
       "      <td>14035.87</td>\n",
       "    </tr>\n",
       "    <tr>\n",
       "      <td>989</td>\n",
       "      <td>58.0</td>\n",
       "      <td>373.58</td>\n",
       "      <td>63.0</td>\n",
       "      <td>14802.42</td>\n",
       "    </tr>\n",
       "    <tr>\n",
       "      <td>...</td>\n",
       "      <td>...</td>\n",
       "      <td>...</td>\n",
       "      <td>...</td>\n",
       "      <td>...</td>\n",
       "    </tr>\n",
       "    <tr>\n",
       "      <td>543</td>\n",
       "      <td>66.0</td>\n",
       "      <td>432.02</td>\n",
       "      <td>54.0</td>\n",
       "      <td>24008.36</td>\n",
       "    </tr>\n",
       "    <tr>\n",
       "      <td>1168</td>\n",
       "      <td>54.0</td>\n",
       "      <td>374.45</td>\n",
       "      <td>13.0</td>\n",
       "      <td>19344.75</td>\n",
       "    </tr>\n",
       "    <tr>\n",
       "      <td>42</td>\n",
       "      <td>48.0</td>\n",
       "      <td>392.04</td>\n",
       "      <td>0.0</td>\n",
       "      <td>19122.13</td>\n",
       "    </tr>\n",
       "    <tr>\n",
       "      <td>2308</td>\n",
       "      <td>62.0</td>\n",
       "      <td>396.29</td>\n",
       "      <td>0.0</td>\n",
       "      <td>17621.26</td>\n",
       "    </tr>\n",
       "    <tr>\n",
       "      <td>2254</td>\n",
       "      <td>61.0</td>\n",
       "      <td>402.45</td>\n",
       "      <td>30.0</td>\n",
       "      <td>23445.31</td>\n",
       "    </tr>\n",
       "  </tbody>\n",
       "</table>\n",
       "<p>603 rows × 4 columns</p>\n",
       "</div>"
      ],
      "text/plain": [
       "      calls  minutes  messages   mb_used\n",
       "1911   62.0   423.82      16.0   8378.35\n",
       "97     83.0   538.83      60.0  13721.94\n",
       "2795  143.0  1155.95     171.0  15790.19\n",
       "2550   83.0   543.77       0.0  14035.87\n",
       "989    58.0   373.58      63.0  14802.42\n",
       "...     ...      ...       ...       ...\n",
       "543    66.0   432.02      54.0  24008.36\n",
       "1168   54.0   374.45      13.0  19344.75\n",
       "42     48.0   392.04       0.0  19122.13\n",
       "2308   62.0   396.29       0.0  17621.26\n",
       "2254   61.0   402.45      30.0  23445.31\n",
       "\n",
       "[603 rows x 4 columns]"
      ]
     },
     "metadata": {},
     "output_type": "display_data"
    }
   ],
   "source": [
    "display('Обучающия таблица features_train:', features_train)\n",
    "display('Обучающия таблица features_valid:', features_valid)\n",
    "display('Обучающия таблица features_test:', features_test)"
   ]
  },
  {
   "cell_type": "markdown",
   "metadata": {},
   "source": [
    "Вывод: таблицы разделены пропоционально - по 25% от общей таблицы отведены для валидационной и тестовой, оставшаяся часть около 50% отведена для обучения моделей."
   ]
  },
  {
   "cell_type": "markdown",
   "metadata": {
    "cellId": "ue380iw2qv8fx2ceup9myk"
   },
   "source": [
    "## Исследование моделей"
   ]
  },
  {
   "cell_type": "markdown",
   "metadata": {},
   "source": [
    "Выберем три модели машинного обучения из курса (расположим в порядке увеличения скорости обучения): \n",
    "\n",
    "- \"Случайный лес\" - RandomForestClassifier;\n",
    "- Дерево решений - DecisionTreeClassifier;\n",
    "- Логистическая регрессия - LogisticRegression."
   ]
  },
  {
   "cell_type": "markdown",
   "metadata": {},
   "source": [
    "Обучим модель \"случайного леса\""
   ]
  },
  {
   "cell_type": "code",
   "execution_count": 16,
   "metadata": {
    "cellId": "byvyq5um4cr1k15pyk66"
   },
   "outputs": [],
   "source": [
    "clf = RandomForestClassifier(random_state=1425)"
   ]
  },
  {
   "cell_type": "markdown",
   "metadata": {},
   "source": [
    "Зададим словарь гипермараметров, которые будет перебирать модуль `GridSearchCV` для нахождения лучших из них"
   ]
  },
  {
   "cell_type": "code",
   "execution_count": 17,
   "metadata": {
    "cellId": "zyc4z5ujpvju5uds3nvjem"
   },
   "outputs": [],
   "source": [
    "parametrs = {'n_estimators': range (10, 51, 10),\n",
    "             'max_depth': range (1, 13, 2),\n",
    "             'min_samples_leaf': range (1, 8),\n",
    "             'min_samples_split': range (2, 10, 2)}"
   ]
  },
  {
   "cell_type": "markdown",
   "metadata": {},
   "source": [
    "Запустим модуль `GridSearchCV` для перебора гиперпараметров"
   ]
  },
  {
   "cell_type": "code",
   "execution_count": 18,
   "metadata": {
    "cellId": "vg82njdkgtqo9mhzg5wbo",
    "execution_id": "5ece5d83-576e-432f-925d-a2f0ae853819",
    "pycharm": {
     "is_executing": true
    },
    "scrolled": true
   },
   "outputs": [],
   "source": [
    "grid = GridSearchCV(clf, parametrs, cv=5)"
   ]
  },
  {
   "cell_type": "code",
   "execution_count": 19,
   "metadata": {},
   "outputs": [
    {
     "name": "stdout",
     "output_type": "stream",
     "text": [
      "4min 31s ± 3.76 s per loop (mean ± std. dev. of 5 runs, 1 loop each)\n"
     ]
    }
   ],
   "source": [
    "%%timeit -n 1 -r 5 # отразим время выполнения поиска лучших гиперпараметров\n",
    "grid.fit(features_train, target_train)"
   ]
  },
  {
   "cell_type": "markdown",
   "metadata": {},
   "source": [
    "Посмотрим, какие гиперпараметры являются лучшими для нашей обученной модели"
   ]
  },
  {
   "cell_type": "code",
   "execution_count": 20,
   "metadata": {
    "cellId": "1k2oj9nqzwpc9fvw9zly3q",
    "execution_id": "a465846d-a070-4a06-8c91-cf18597bdc89",
    "scrolled": true
   },
   "outputs": [
    {
     "name": "stdout",
     "output_type": "stream",
     "text": [
      "Лучшие гиперпараметры для модели \"случаного леса\" {'max_depth': 11, 'min_samples_leaf': 1, 'min_samples_split': 6, 'n_estimators': 40}\n"
     ]
    }
   ],
   "source": [
    "print('Лучшие гиперпараметры для модели \"случаного леса\"', grid.best_params_)"
   ]
  },
  {
   "cell_type": "code",
   "execution_count": 21,
   "metadata": {},
   "outputs": [
    {
     "data": {
      "text/plain": [
       "0.8057467746131831"
      ]
     },
     "execution_count": 21,
     "metadata": {},
     "output_type": "execute_result"
    }
   ],
   "source": [
    "grid.best_score_\n"
   ]
  },
  {
   "cell_type": "markdown",
   "metadata": {},
   "source": [
    "Используем найденные гиперпараметры в нашей модели"
   ]
  },
  {
   "cell_type": "code",
   "execution_count": 22,
   "metadata": {
    "cellId": "52t49icc1p3w4krghsuaar",
    "execution_id": "1eebc43b-cea8-4812-b2e7-a3756999588e"
   },
   "outputs": [],
   "source": [
    "clf_rand_forest = RandomForestClassifier(random_state=1425, \n",
    "                                         n_estimators=grid.best_params_['n_estimators'],\n",
    "                                         max_depth=grid.best_params_['max_depth'], \n",
    "                                         min_samples_leaf=grid.best_params_['min_samples_leaf'],\n",
    "                                         min_samples_split=grid.best_params_['min_samples_split'])"
   ]
  },
  {
   "cell_type": "markdown",
   "metadata": {},
   "source": [
    "И обучим ее на тренировочных данных"
   ]
  },
  {
   "cell_type": "code",
   "execution_count": 23,
   "metadata": {
    "scrolled": true
   },
   "outputs": [
    {
     "name": "stdout",
     "output_type": "stream",
     "text": [
      "110 ms ± 2.45 ms per loop (mean ± std. dev. of 5 runs, 1 loop each)\n"
     ]
    }
   ],
   "source": [
    "%%timeit -n 1 -r 5 # замерим время выполнения обучения\n",
    "clf_rand_forest.fit(features_train, target_train)"
   ]
  },
  {
   "cell_type": "markdown",
   "metadata": {},
   "source": [
    "Проверим модель на валидационной выборке"
   ]
  },
  {
   "cell_type": "code",
   "execution_count": 24,
   "metadata": {},
   "outputs": [
    {
     "name": "stdout",
     "output_type": "stream",
     "text": [
      "Точность модели случайного леса на валидационной выборке: 0.8208955223880597\n"
     ]
    }
   ],
   "source": [
    "rand_forest_valid_score = clf_rand_forest.score(features_valid, target_valid)\n",
    "print('Точность модели случайного леса на валидационной выборке:', rand_forest_valid_score)"
   ]
  },
  {
   "cell_type": "markdown",
   "metadata": {},
   "source": [
    "**Выводы**: подобранные гиперпараметры позволили достичь точность обученной модели \"случайного леса\" 0.82, что соответствует минимальным требованиям задачи."
   ]
  },
  {
   "cell_type": "markdown",
   "metadata": {
    "cellId": "phzqtsa06qxr0r5ivc7x"
   },
   "source": [
    "Обучим модель дерева решений."
   ]
  },
  {
   "cell_type": "code",
   "execution_count": 25,
   "metadata": {
    "cellId": "w0hb03lt188faldb1wdqe4",
    "execution_id": "ab27b36f-1dee-4870-91ad-92598bcab586"
   },
   "outputs": [],
   "source": [
    "clf_tree = DecisionTreeClassifier(random_state=1425)"
   ]
  },
  {
   "cell_type": "markdown",
   "metadata": {},
   "source": [
    "Применим также модуль `GridSearchCV` для перебора гиперпараметров, предварительно собранных в словаре параметров."
   ]
  },
  {
   "cell_type": "code",
   "execution_count": 26,
   "metadata": {
    "cellId": "6l496wxzs6ux7bs8u4h3k",
    "execution_id": "81354fc7-4334-4a72-94bb-ed4425d71a2a"
   },
   "outputs": [],
   "source": [
    "parametrs_tree = {'max_depth': range (1, 13, 2),\n",
    "                  'min_samples_leaf': range (1, 8),\n",
    "                  'min_samples_split': range (2, 10, 2) }\n",
    "grid_tree = GridSearchCV(clf_tree, parametrs_tree, cv=5)"
   ]
  },
  {
   "cell_type": "code",
   "execution_count": 27,
   "metadata": {},
   "outputs": [
    {
     "name": "stdout",
     "output_type": "stream",
     "text": [
      "4.37 s ± 147 ms per loop (mean ± std. dev. of 5 runs, 1 loop each)\n"
     ]
    }
   ],
   "source": [
    "%%timeit -n 1 -r 5 # замерим время обучения на подобранных модулем гиперпараметров\n",
    "grid_tree.fit(features_train, target_train)"
   ]
  },
  {
   "cell_type": "markdown",
   "metadata": {},
   "source": [
    "Выведем полученные гиперпараметры"
   ]
  },
  {
   "cell_type": "code",
   "execution_count": 28,
   "metadata": {
    "cellId": "guryvx1e2opr4sz69katk7",
    "execution_id": "09599035-427d-43db-8408-abfee16e1062"
   },
   "outputs": [
    {
     "data": {
      "text/plain": [
       "{'max_depth': 7, 'min_samples_leaf': 7, 'min_samples_split': 2}"
      ]
     },
     "execution_count": 28,
     "metadata": {},
     "output_type": "execute_result"
    }
   ],
   "source": [
    "grid_tree.best_params_"
   ]
  },
  {
   "cell_type": "markdown",
   "metadata": {},
   "source": [
    "Используем данные гиперпараметры в нашей модели обучения дерева"
   ]
  },
  {
   "cell_type": "code",
   "execution_count": 29,
   "metadata": {},
   "outputs": [],
   "source": [
    "clf_tree = DecisionTreeClassifier(random_state=1425,\n",
    "                                  max_depth=grid_tree.best_params_['max_depth'], \n",
    "                                  min_samples_leaf=grid_tree.best_params_['min_samples_leaf'], \n",
    "                                  min_samples_split=grid_tree.best_params_['min_samples_split'])"
   ]
  },
  {
   "cell_type": "code",
   "execution_count": 30,
   "metadata": {},
   "outputs": [
    {
     "name": "stdout",
     "output_type": "stream",
     "text": [
      "4.36 ms ± 249 µs per loop (mean ± std. dev. of 5 runs, 1 loop each)\n"
     ]
    }
   ],
   "source": [
    "%%timeit -n 1 -r 5 # замерим время выполнения обучения на тренировочных данных\n",
    "clf_tree.fit(features_train, target_train)"
   ]
  },
  {
   "cell_type": "markdown",
   "metadata": {},
   "source": [
    "Проверим обученную модель на валидационной выборке"
   ]
  },
  {
   "cell_type": "code",
   "execution_count": 31,
   "metadata": {},
   "outputs": [
    {
     "name": "stdout",
     "output_type": "stream",
     "text": [
      "Точность модели дерева решений на валидационной выборке: 0.8022388059701493\n"
     ]
    }
   ],
   "source": [
    "tree_valid_score = clf_tree.score(features_valid, target_valid)\n",
    "print('Точность модели дерева решений на валидационной выборке:', tree_valid_score)"
   ]
  },
  {
   "cell_type": "markdown",
   "metadata": {},
   "source": [
    "**Выводы**: подобранные гиперпараметры позволили достичь точность обученной модели дерева решений 0.80, что соответствует минимальным требованиям задачи."
   ]
  },
  {
   "cell_type": "markdown",
   "metadata": {},
   "source": [
    "Обучим модель линейной регерессии"
   ]
  },
  {
   "cell_type": "code",
   "execution_count": 32,
   "metadata": {},
   "outputs": [],
   "source": [
    "clf_log = LogisticRegression(random_state=1425)"
   ]
  },
  {
   "cell_type": "code",
   "execution_count": 33,
   "metadata": {},
   "outputs": [
    {
     "name": "stdout",
     "output_type": "stream",
     "text": [
      "26.3 ms ± 11.8 ms per loop (mean ± std. dev. of 5 runs, 1 loop each)\n"
     ]
    }
   ],
   "source": [
    "%%timeit -n 1 -r 5 # замерим время выполнения обучения на тренировочных данных\n",
    "clf_log.fit(features_train, target_train)"
   ]
  },
  {
   "cell_type": "markdown",
   "metadata": {},
   "source": [
    "Проверим модель логистической регрессии на валидационной выборке"
   ]
  },
  {
   "cell_type": "code",
   "execution_count": 34,
   "metadata": {},
   "outputs": [
    {
     "name": "stdout",
     "output_type": "stream",
     "text": [
      "Точность модели логистической на валидационной выборке: 0.746268656716418\n"
     ]
    }
   ],
   "source": [
    "log_valid_score = clf_log.score(features_valid, target_valid)\n",
    "print('Точность модели логистической на валидационной выборке:', log_valid_score)"
   ]
  },
  {
   "cell_type": "markdown",
   "metadata": {},
   "source": [
    "**Вывод**: видно, что точность предсказания модели логистической регрессии ниже требуемых: 0.75."
   ]
  },
  {
   "cell_type": "markdown",
   "metadata": {
    "cellId": "i1zsftfh1rbb8ve6lxjkew"
   },
   "source": [
    "## Проверка моделей на тестовой выборке"
   ]
  },
  {
   "cell_type": "markdown",
   "metadata": {},
   "source": [
    "Проверим точность модели \"случайного леса\" на тестовой выборке"
   ]
  },
  {
   "cell_type": "code",
   "execution_count": 35,
   "metadata": {},
   "outputs": [
    {
     "name": "stdout",
     "output_type": "stream",
     "text": [
      "Точность модели \"случайного леса\" на тестовой выборке: 0.8126036484245439\n"
     ]
    }
   ],
   "source": [
    "rand_forest_test_score = clf_rand_forest.score(features_test, target_test)\n",
    "print('Точность модели \"случайного леса\" на тестовой выборке:', rand_forest_test_score)"
   ]
  },
  {
   "cell_type": "markdown",
   "metadata": {
    "cellId": "2lfzhmm4ssijpe2iffqv6i"
   },
   "source": [
    "Точность на дереве решений"
   ]
  },
  {
   "cell_type": "code",
   "execution_count": 36,
   "metadata": {},
   "outputs": [
    {
     "name": "stdout",
     "output_type": "stream",
     "text": [
      "Точность модели дерева решений на тестовой выборке: 0.7976782752902156\n"
     ]
    }
   ],
   "source": [
    "tree_test_score = clf_tree.score(features_test, target_test)\n",
    "print('Точность модели дерева решений на тестовой выборке:', tree_test_score)"
   ]
  },
  {
   "cell_type": "markdown",
   "metadata": {},
   "source": [
    "Точность модели логистической регрессии"
   ]
  },
  {
   "cell_type": "code",
   "execution_count": 37,
   "metadata": {},
   "outputs": [
    {
     "name": "stdout",
     "output_type": "stream",
     "text": [
      "Точность модели логистической регрессии на тестовой выборке: 0.7562189054726368\n"
     ]
    }
   ],
   "source": [
    "log_test_score = clf_log.score(features_test, target_test)\n",
    "print('Точность модели логистической регрессии на тестовой выборке:', log_test_score)"
   ]
  },
  {
   "cell_type": "markdown",
   "metadata": {},
   "source": [
    "## (бонус) Проверим модели на адекватность"
   ]
  },
  {
   "cell_type": "markdown",
   "metadata": {},
   "source": [
    "Для проверки на \"вменяемость\" моделей используем классификатор `DummyClassifier` и далее сравним значение его точности с точностью наших моделей"
   ]
  },
  {
   "cell_type": "code",
   "execution_count": 38,
   "metadata": {},
   "outputs": [],
   "source": [
    "dummy_clf = DummyClassifier(strategy=\"most_frequent\")"
   ]
  },
  {
   "cell_type": "code",
   "execution_count": 39,
   "metadata": {},
   "outputs": [
    {
     "data": {
      "text/plain": [
       "DummyClassifier(constant=None, random_state=None, strategy='most_frequent')"
      ]
     },
     "execution_count": 39,
     "metadata": {},
     "output_type": "execute_result"
    }
   ],
   "source": [
    "dummy_clf.fit(features_train, target_train) # обучим модель на тренировочных данных"
   ]
  },
  {
   "cell_type": "markdown",
   "metadata": {},
   "source": [
    "Проверим на валидационных данных"
   ]
  },
  {
   "cell_type": "code",
   "execution_count": 40,
   "metadata": {},
   "outputs": [
    {
     "name": "stdout",
     "output_type": "stream",
     "text": [
      "Точность \"невменяемой\" модели на валидационной выборке: 0.6890547263681592\n"
     ]
    }
   ],
   "source": [
    "dummy_valid_score = dummy_clf.score(features_valid, target_valid)\n",
    "print('Точность \"невменяемой\" модели на валидационной выборке:', dummy_valid_score)"
   ]
  },
  {
   "cell_type": "markdown",
   "metadata": {},
   "source": [
    "Сравним точность работы обученных моделей с невменяемой моделью и отбросим те, которые не будут эффективней \"невменяемой\" модели, либо ниже требуемой точности по задаче"
   ]
  },
  {
   "cell_type": "code",
   "execution_count": 41,
   "metadata": {},
   "outputs": [
    {
     "name": "stdout",
     "output_type": "stream",
     "text": [
      "Модель \"случайного леса\" успешно проходит проверку на валидационных данных\n",
      "Модель дерева решений успешно проходит проверку на валидационных данных\n",
      "Отбрасываем модель логистической регрессии, точность предсказания которой ниже требуемой (0.75) на валидационной выборке\n"
     ]
    }
   ],
   "source": [
    "valid_scores = {'\"случайного леса\"': rand_forest_valid_score, \n",
    "                'дерева решений': tree_valid_score, \n",
    "                'логистической регрессии': log_valid_score}\n",
    "for i in valid_scores:\n",
    "    if valid_scores[i] <= dummy_valid_score:\n",
    "        print('Отбрасываем модель {}, которая хуже или соответствует случайной модели предсказания на валидационной выборке'.format(i))\n",
    "    if valid_scores[i] < 0.75:\n",
    "        print('Отбрасываем модель {}, точность предсказания которой ниже требуемой (0.75) на валидационной выборке'.format(i))\n",
    "    else:\n",
    "        print('Модель {} успешно проходит проверку на валидационных данных'.format(i))\n",
    "\n"
   ]
  },
  {
   "cell_type": "markdown",
   "metadata": {},
   "source": [
    "И проверим на тестовых данных"
   ]
  },
  {
   "cell_type": "code",
   "execution_count": 42,
   "metadata": {
    "cellId": "s6q71ji8ltm5aya1pv5rt"
   },
   "outputs": [
    {
     "name": "stdout",
     "output_type": "stream",
     "text": [
      "Точность \"невменяемой\" модели на тестовой выборке: 0.7014925373134329\n"
     ]
    }
   ],
   "source": [
    "dummy_test_score = dummy_clf.score(features_test, target_test)\n",
    "print('Точность \"невменяемой\" модели на тестовой выборке:', dummy_test_score)"
   ]
  },
  {
   "cell_type": "markdown",
   "metadata": {},
   "source": [
    "Сравним точность работы обученных моделей с невменяемой моделью и отбросим те, которые не будут эффективней \"невменяемой\" модели"
   ]
  },
  {
   "cell_type": "code",
   "execution_count": 43,
   "metadata": {},
   "outputs": [
    {
     "name": "stdout",
     "output_type": "stream",
     "text": [
      "Модель \"случайного леса\" успешно проходит проверку на тестовых данных\n",
      "Модель дерева решений успешно проходит проверку на тестовых данных\n",
      "Модель логистической регрессии успешно проходит проверку на тестовых данных\n"
     ]
    }
   ],
   "source": [
    "test_scores = {'\"случайного леса\"': rand_forest_test_score, \n",
    "               'дерева решений': tree_test_score, \n",
    "               'логистической регрессии': log_test_score}\n",
    "for i in test_scores:\n",
    "    if test_scores[i] <= dummy_test_score:\n",
    "        print('Отбрасываем модель {}, которая хуже или соответствует случайной модели предсказания'.format(i))\n",
    "    if test_scores[i] < 0.75:\n",
    "        print('Отбрасываем модель {}, точность предсказания которой ниже требуемой (0.75)'.format(i))\n",
    "    else:\n",
    "        print('Модель {} успешно проходит проверку на тестовых данных'.format(i))"
   ]
  },
  {
   "cell_type": "markdown",
   "metadata": {},
   "source": [
    "**Выводы**: обученные нами модели все же лучше \"предсказывают\", чем простой, случайный перебор данных. Однако, предсказания модели логистической регрессии все же ниже требуемых 0.75. Следовательно, она нам не подходит в данном случае."
   ]
  },
  {
   "cell_type": "markdown",
   "metadata": {},
   "source": [
    "# Общие выводы"
   ]
  },
  {
   "cell_type": "markdown",
   "metadata": {},
   "source": [
    "В ходе работы над проектом были выполнены следующие шаги:\n",
    "1. Просмотрена общая информация таблицы исходных данных, проверены уникальные значения, пропуски, количество `NaN` значений.\n",
    "2. Выбраны случайным образом данные для обучения будущих моделей, отобраны валидационные и тестовые данные в соответственном пропорции 50/25/25\n",
    "3. Проверены три модели обучения, где было возможным был использован метод автоматического подбора гиперпараметров (`GridSearchCV`).\n",
    "4. Обученые модели были проверены на валидационной и тестовой выборках.\n",
    "5. Обученные модели проверены \"на вменяемость\" методом `DummyClassifier`, в ходе которой мы отбросили плохо обученные модели.\n",
    "6. Было замерено время выполнения обучения каждой модели.\n",
    "\n",
    "\n",
    "Можно сделать следующие выводы:\n",
    "- наиболее высокая точность прогноза была представлена моделью \"случайный лес\"\n",
    "- плохо обученной моделью оказалась модель логистической регрессией\n",
    "\n",
    "- скорость выполнения обучения выше у модели дерева решений с оптимально подобранными гиперпараметрами\n",
    "- наиболее долгое время обучения заняло у модели \"случайного леса\"\n",
    "\n",
    "- подбор гиперпараметров модулем `GridSearchCV` был наиболее длителен у модели обчения \"случайный лес\" (ввиду их большего количества)"
   ]
  }
 ],
 "metadata": {
  "ExecuteTimeLog": [
   {
    "duration": 497,
    "start_time": "2022-01-16T15:22:16.555Z"
   },
   {
    "duration": 30,
    "start_time": "2022-01-16T15:23:03.899Z"
   },
   {
    "duration": 489,
    "start_time": "2022-01-16T17:40:53.248Z"
   },
   {
    "duration": 258,
    "start_time": "2022-01-16T18:00:23.986Z"
   },
   {
    "duration": 10,
    "start_time": "2022-01-16T18:00:42.849Z"
   },
   {
    "duration": 19,
    "start_time": "2022-01-16T18:04:04.786Z"
   },
   {
    "duration": 12,
    "start_time": "2022-01-16T18:09:21.743Z"
   },
   {
    "duration": 12,
    "start_time": "2022-01-16T18:10:35.331Z"
   },
   {
    "duration": 937,
    "start_time": "2022-01-16T18:16:24.275Z"
   },
   {
    "duration": 19,
    "start_time": "2022-01-16T18:16:25.213Z"
   },
   {
    "duration": 12,
    "start_time": "2022-01-16T18:16:25.233Z"
   },
   {
    "duration": 8,
    "start_time": "2022-01-16T18:16:25.247Z"
   },
   {
    "duration": 9,
    "start_time": "2022-01-16T18:16:25.257Z"
   },
   {
    "duration": 9,
    "start_time": "2022-01-16T18:16:25.268Z"
   },
   {
    "duration": 41,
    "start_time": "2022-01-16T18:16:25.278Z"
   },
   {
    "duration": 16,
    "start_time": "2022-01-16T18:18:01.315Z"
   },
   {
    "duration": 110,
    "start_time": "2022-01-18T03:05:15.023Z"
   },
   {
    "duration": 348,
    "start_time": "2022-01-18T03:07:30.857Z"
   },
   {
    "duration": 1272,
    "start_time": "2022-01-18T03:08:25.875Z"
   },
   {
    "duration": 26,
    "start_time": "2022-01-18T03:08:27.149Z"
   },
   {
    "duration": 23,
    "start_time": "2022-01-18T03:08:27.178Z"
   },
   {
    "duration": 32,
    "start_time": "2022-01-18T03:08:27.204Z"
   },
   {
    "duration": 15,
    "start_time": "2022-01-18T03:08:27.238Z"
   },
   {
    "duration": 16,
    "start_time": "2022-01-18T03:08:27.255Z"
   },
   {
    "duration": 51,
    "start_time": "2022-01-18T03:08:27.273Z"
   },
   {
    "duration": 14,
    "start_time": "2022-01-18T03:08:27.327Z"
   },
   {
    "duration": 9,
    "start_time": "2022-01-18T03:08:27.344Z"
   },
   {
    "duration": 13,
    "start_time": "2022-01-18T03:08:27.355Z"
   },
   {
    "duration": 23,
    "start_time": "2022-01-18T03:08:27.370Z"
   },
   {
    "duration": 28,
    "start_time": "2022-01-18T03:08:27.396Z"
   },
   {
    "duration": 5,
    "start_time": "2022-01-18T03:10:44.135Z"
   },
   {
    "duration": 5,
    "start_time": "2022-01-18T03:10:46.835Z"
   },
   {
    "duration": 16,
    "start_time": "2022-01-18T03:10:52.834Z"
   },
   {
    "duration": 4,
    "start_time": "2022-01-18T04:42:07.172Z"
   },
   {
    "duration": 3,
    "start_time": "2022-01-18T04:43:12.876Z"
   },
   {
    "duration": 4,
    "start_time": "2022-01-18T04:43:47.840Z"
   },
   {
    "duration": 1363,
    "start_time": "2022-01-18T04:45:01.122Z"
   },
   {
    "duration": 24,
    "start_time": "2022-01-18T04:45:02.488Z"
   },
   {
    "duration": 26,
    "start_time": "2022-01-18T04:45:02.515Z"
   },
   {
    "duration": 16,
    "start_time": "2022-01-18T04:45:02.544Z"
   },
   {
    "duration": 13,
    "start_time": "2022-01-18T04:45:02.563Z"
   },
   {
    "duration": 51,
    "start_time": "2022-01-18T04:45:02.578Z"
   },
   {
    "duration": 15,
    "start_time": "2022-01-18T04:45:02.632Z"
   },
   {
    "duration": 13,
    "start_time": "2022-01-18T04:45:02.650Z"
   },
   {
    "duration": 10,
    "start_time": "2022-01-18T04:45:02.665Z"
   },
   {
    "duration": 11,
    "start_time": "2022-01-18T04:45:02.677Z"
   },
   {
    "duration": 46,
    "start_time": "2022-01-18T04:45:02.690Z"
   },
   {
    "duration": 5,
    "start_time": "2022-01-18T04:45:02.738Z"
   },
   {
    "duration": 5,
    "start_time": "2022-01-18T04:45:02.745Z"
   },
   {
    "duration": 12,
    "start_time": "2022-01-18T04:45:02.752Z"
   },
   {
    "duration": 370029,
    "start_time": "2022-01-18T04:45:02.766Z"
   },
   {
    "duration": 6,
    "start_time": "2022-01-18T04:53:52.454Z"
   },
   {
    "duration": 103,
    "start_time": "2022-01-18T05:06:14.017Z"
   },
   {
    "duration": 424,
    "start_time": "2022-01-18T05:06:21.170Z"
   },
   {
    "duration": 4,
    "start_time": "2022-01-18T05:06:45.524Z"
   },
   {
    "duration": 290,
    "start_time": "2022-01-18T05:09:10.464Z"
   },
   {
    "duration": 401,
    "start_time": "2022-01-18T05:10:30.142Z"
   },
   {
    "duration": 114,
    "start_time": "2022-01-18T05:10:38.842Z"
   },
   {
    "duration": 381,
    "start_time": "2022-01-18T05:10:42.997Z"
   },
   {
    "duration": 293,
    "start_time": "2022-01-18T05:11:45.348Z"
   },
   {
    "duration": 310,
    "start_time": "2022-01-18T05:12:12.304Z"
   },
   {
    "duration": 1309,
    "start_time": "2022-01-18T05:29:07.326Z"
   },
   {
    "duration": 24,
    "start_time": "2022-01-18T05:29:08.638Z"
   },
   {
    "duration": 23,
    "start_time": "2022-01-18T05:29:08.665Z"
   },
   {
    "duration": 37,
    "start_time": "2022-01-18T05:29:08.691Z"
   },
   {
    "duration": 15,
    "start_time": "2022-01-18T05:29:08.731Z"
   },
   {
    "duration": 18,
    "start_time": "2022-01-18T05:29:08.749Z"
   },
   {
    "duration": 16,
    "start_time": "2022-01-18T05:29:08.770Z"
   },
   {
    "duration": 16,
    "start_time": "2022-01-18T05:29:08.825Z"
   },
   {
    "duration": 6,
    "start_time": "2022-01-18T05:29:08.844Z"
   },
   {
    "duration": 7,
    "start_time": "2022-01-18T05:29:08.852Z"
   },
   {
    "duration": 23,
    "start_time": "2022-01-18T05:29:08.861Z"
   },
   {
    "duration": 5,
    "start_time": "2022-01-18T05:29:08.924Z"
   },
   {
    "duration": 7,
    "start_time": "2022-01-18T05:29:08.931Z"
   },
   {
    "duration": 5,
    "start_time": "2022-01-18T05:29:08.940Z"
   },
   {
    "duration": 5,
    "start_time": "2022-01-18T05:29:08.948Z"
   },
   {
    "duration": 396,
    "start_time": "2022-01-18T05:29:08.956Z"
   },
   {
    "duration": -115,
    "start_time": "2022-01-18T05:29:09.470Z"
   },
   {
    "duration": -121,
    "start_time": "2022-01-18T05:29:09.477Z"
   },
   {
    "duration": 102,
    "start_time": "2022-01-18T05:29:32.580Z"
   },
   {
    "duration": 178,
    "start_time": "2022-01-18T05:29:38.775Z"
   },
   {
    "duration": 420,
    "start_time": "2022-01-18T05:29:43.035Z"
   },
   {
    "duration": 113,
    "start_time": "2022-01-18T05:30:02.439Z"
   },
   {
    "duration": 469,
    "start_time": "2022-01-18T05:30:05.194Z"
   },
   {
    "duration": 6,
    "start_time": "2022-01-18T05:33:43.921Z"
   },
   {
    "duration": 282,
    "start_time": "2022-01-18T05:33:51.797Z"
   },
   {
    "duration": 1281,
    "start_time": "2022-01-18T05:33:59.056Z"
   },
   {
    "duration": 24,
    "start_time": "2022-01-18T05:34:00.340Z"
   },
   {
    "duration": 23,
    "start_time": "2022-01-18T05:34:00.367Z"
   },
   {
    "duration": 37,
    "start_time": "2022-01-18T05:34:00.393Z"
   },
   {
    "duration": 14,
    "start_time": "2022-01-18T05:34:00.432Z"
   },
   {
    "duration": 27,
    "start_time": "2022-01-18T05:34:00.448Z"
   },
   {
    "duration": 18,
    "start_time": "2022-01-18T05:34:00.478Z"
   },
   {
    "duration": 15,
    "start_time": "2022-01-18T05:34:00.527Z"
   },
   {
    "duration": 16,
    "start_time": "2022-01-18T05:34:00.545Z"
   },
   {
    "duration": 31,
    "start_time": "2022-01-18T05:34:00.563Z"
   },
   {
    "duration": 38,
    "start_time": "2022-01-18T05:34:00.596Z"
   },
   {
    "duration": 22,
    "start_time": "2022-01-18T05:34:00.636Z"
   },
   {
    "duration": 18,
    "start_time": "2022-01-18T05:34:00.660Z"
   },
   {
    "duration": 26,
    "start_time": "2022-01-18T05:34:00.680Z"
   },
   {
    "duration": 14,
    "start_time": "2022-01-18T05:34:00.708Z"
   },
   {
    "duration": 18,
    "start_time": "2022-01-18T05:34:00.724Z"
   },
   {
    "duration": 185,
    "start_time": "2022-01-18T05:34:00.745Z"
   },
   {
    "duration": 426,
    "start_time": "2022-01-18T05:34:00.932Z"
   },
   {
    "duration": 1288,
    "start_time": "2022-01-18T05:40:02.958Z"
   },
   {
    "duration": 27,
    "start_time": "2022-01-18T05:40:04.249Z"
   },
   {
    "duration": 23,
    "start_time": "2022-01-18T05:40:04.280Z"
   },
   {
    "duration": 18,
    "start_time": "2022-01-18T05:40:04.324Z"
   },
   {
    "duration": 18,
    "start_time": "2022-01-18T05:40:04.345Z"
   },
   {
    "duration": 58,
    "start_time": "2022-01-18T05:40:04.366Z"
   },
   {
    "duration": 18,
    "start_time": "2022-01-18T05:40:04.427Z"
   },
   {
    "duration": 15,
    "start_time": "2022-01-18T05:40:04.450Z"
   },
   {
    "duration": 7,
    "start_time": "2022-01-18T05:40:04.468Z"
   },
   {
    "duration": 51,
    "start_time": "2022-01-18T05:40:04.478Z"
   },
   {
    "duration": 23,
    "start_time": "2022-01-18T05:40:04.532Z"
   },
   {
    "duration": 7,
    "start_time": "2022-01-18T05:40:04.558Z"
   },
   {
    "duration": 14,
    "start_time": "2022-01-18T05:40:04.568Z"
   },
   {
    "duration": 9,
    "start_time": "2022-01-18T05:40:04.585Z"
   },
   {
    "duration": 4,
    "start_time": "2022-01-18T05:40:04.623Z"
   },
   {
    "duration": 9,
    "start_time": "2022-01-18T05:40:04.629Z"
   },
   {
    "duration": 196,
    "start_time": "2022-01-18T05:40:04.640Z"
   },
   {
    "duration": 549,
    "start_time": "2022-01-18T05:40:04.838Z"
   },
   {
    "duration": 5,
    "start_time": "2022-01-18T05:46:26.070Z"
   },
   {
    "duration": 5,
    "start_time": "2022-01-18T05:46:30.150Z"
   },
   {
    "duration": 7,
    "start_time": "2022-01-18T05:48:02.283Z"
   },
   {
    "duration": 7,
    "start_time": "2022-01-18T05:49:10.336Z"
   },
   {
    "duration": 1356,
    "start_time": "2022-01-18T05:50:09.799Z"
   },
   {
    "duration": 25,
    "start_time": "2022-01-18T05:50:11.157Z"
   },
   {
    "duration": 39,
    "start_time": "2022-01-18T05:50:11.186Z"
   },
   {
    "duration": 22,
    "start_time": "2022-01-18T05:50:11.229Z"
   },
   {
    "duration": 20,
    "start_time": "2022-01-18T05:50:11.254Z"
   },
   {
    "duration": 48,
    "start_time": "2022-01-18T05:50:11.277Z"
   },
   {
    "duration": 15,
    "start_time": "2022-01-18T05:50:11.327Z"
   },
   {
    "duration": 14,
    "start_time": "2022-01-18T05:50:11.345Z"
   },
   {
    "duration": 5,
    "start_time": "2022-01-18T05:50:11.361Z"
   },
   {
    "duration": 9,
    "start_time": "2022-01-18T05:50:11.369Z"
   },
   {
    "duration": 49,
    "start_time": "2022-01-18T05:50:11.380Z"
   },
   {
    "duration": 4,
    "start_time": "2022-01-18T05:50:11.432Z"
   },
   {
    "duration": 6,
    "start_time": "2022-01-18T05:50:11.439Z"
   },
   {
    "duration": 25,
    "start_time": "2022-01-18T05:50:11.448Z"
   },
   {
    "duration": 11,
    "start_time": "2022-01-18T05:50:11.475Z"
   },
   {
    "duration": 7,
    "start_time": "2022-01-18T05:50:11.489Z"
   },
   {
    "duration": 4,
    "start_time": "2022-01-18T05:50:11.524Z"
   },
   {
    "duration": 6,
    "start_time": "2022-01-18T05:50:11.531Z"
   },
   {
    "duration": 10,
    "start_time": "2022-01-18T05:50:11.539Z"
   },
   {
    "duration": 194,
    "start_time": "2022-01-18T05:50:11.552Z"
   },
   {
    "duration": 429,
    "start_time": "2022-01-18T05:50:11.749Z"
   },
   {
    "duration": 12,
    "start_time": "2022-01-18T05:51:06.816Z"
   },
   {
    "duration": 15,
    "start_time": "2022-01-18T05:51:12.650Z"
   },
   {
    "duration": 4,
    "start_time": "2022-01-18T05:59:11.772Z"
   },
   {
    "duration": 1437,
    "start_time": "2022-01-18T06:02:59.337Z"
   },
   {
    "duration": 25,
    "start_time": "2022-01-18T06:03:00.777Z"
   },
   {
    "duration": 33,
    "start_time": "2022-01-18T06:03:00.805Z"
   },
   {
    "duration": 34,
    "start_time": "2022-01-18T06:03:00.841Z"
   },
   {
    "duration": 26,
    "start_time": "2022-01-18T06:03:00.878Z"
   },
   {
    "duration": 24,
    "start_time": "2022-01-18T06:03:00.907Z"
   },
   {
    "duration": 16,
    "start_time": "2022-01-18T06:03:00.934Z"
   },
   {
    "duration": 15,
    "start_time": "2022-01-18T06:03:00.954Z"
   },
   {
    "duration": 25,
    "start_time": "2022-01-18T06:03:00.972Z"
   },
   {
    "duration": 26,
    "start_time": "2022-01-18T06:03:01.000Z"
   },
   {
    "duration": 9,
    "start_time": "2022-01-18T06:03:01.029Z"
   },
   {
    "duration": 11,
    "start_time": "2022-01-18T06:03:01.041Z"
   },
   {
    "duration": 14,
    "start_time": "2022-01-18T06:03:01.055Z"
   },
   {
    "duration": 25,
    "start_time": "2022-01-18T06:03:01.071Z"
   },
   {
    "duration": 19,
    "start_time": "2022-01-18T06:03:01.099Z"
   },
   {
    "duration": 17,
    "start_time": "2022-01-18T06:03:01.124Z"
   },
   {
    "duration": 16,
    "start_time": "2022-01-18T06:03:01.143Z"
   },
   {
    "duration": 31,
    "start_time": "2022-01-18T06:03:01.161Z"
   },
   {
    "duration": 139,
    "start_time": "2022-01-18T06:03:01.195Z"
   },
   {
    "duration": 16,
    "start_time": "2022-01-18T06:03:01.336Z"
   },
   {
    "duration": 538,
    "start_time": "2022-01-18T06:03:01.354Z"
   },
   {
    "duration": 12,
    "start_time": "2022-01-18T06:03:14.185Z"
   },
   {
    "duration": 291,
    "start_time": "2022-01-18T06:03:25.879Z"
   },
   {
    "duration": 277,
    "start_time": "2022-01-18T06:03:34.809Z"
   },
   {
    "duration": 410,
    "start_time": "2022-01-18T06:03:43.208Z"
   },
   {
    "duration": 4,
    "start_time": "2022-01-18T06:03:51.322Z"
   },
   {
    "duration": 7,
    "start_time": "2022-01-18T06:03:57.102Z"
   },
   {
    "duration": 320,
    "start_time": "2022-01-18T06:05:47.659Z"
   },
   {
    "duration": 285,
    "start_time": "2022-01-18T06:06:48.053Z"
   },
   {
    "duration": 1286,
    "start_time": "2022-01-18T06:06:56.658Z"
   },
   {
    "duration": 24,
    "start_time": "2022-01-18T06:06:57.946Z"
   },
   {
    "duration": 20,
    "start_time": "2022-01-18T06:06:57.973Z"
   },
   {
    "duration": 36,
    "start_time": "2022-01-18T06:06:57.996Z"
   },
   {
    "duration": 14,
    "start_time": "2022-01-18T06:06:58.034Z"
   },
   {
    "duration": 15,
    "start_time": "2022-01-18T06:06:58.050Z"
   },
   {
    "duration": 14,
    "start_time": "2022-01-18T06:06:58.067Z"
   },
   {
    "duration": 48,
    "start_time": "2022-01-18T06:06:58.085Z"
   },
   {
    "duration": 5,
    "start_time": "2022-01-18T06:06:58.136Z"
   },
   {
    "duration": 11,
    "start_time": "2022-01-18T06:06:58.143Z"
   },
   {
    "duration": 9,
    "start_time": "2022-01-18T06:06:58.157Z"
   },
   {
    "duration": 5,
    "start_time": "2022-01-18T06:06:58.168Z"
   },
   {
    "duration": 15,
    "start_time": "2022-01-18T06:06:58.176Z"
   },
   {
    "duration": 44,
    "start_time": "2022-01-18T06:06:58.193Z"
   },
   {
    "duration": 5,
    "start_time": "2022-01-18T06:06:58.241Z"
   },
   {
    "duration": 7,
    "start_time": "2022-01-18T06:06:58.249Z"
   },
   {
    "duration": 1339,
    "start_time": "2022-01-18T06:17:15.296Z"
   },
   {
    "duration": 26,
    "start_time": "2022-01-18T06:17:16.637Z"
   },
   {
    "duration": 23,
    "start_time": "2022-01-18T06:17:16.665Z"
   },
   {
    "duration": 34,
    "start_time": "2022-01-18T06:17:16.691Z"
   },
   {
    "duration": 16,
    "start_time": "2022-01-18T06:17:16.728Z"
   },
   {
    "duration": 16,
    "start_time": "2022-01-18T06:17:16.746Z"
   },
   {
    "duration": 17,
    "start_time": "2022-01-18T06:17:16.764Z"
   },
   {
    "duration": 14,
    "start_time": "2022-01-18T06:17:16.824Z"
   },
   {
    "duration": 5,
    "start_time": "2022-01-18T06:17:16.841Z"
   },
   {
    "duration": 8,
    "start_time": "2022-01-18T06:17:16.848Z"
   },
   {
    "duration": 6,
    "start_time": "2022-01-18T06:17:16.859Z"
   },
   {
    "duration": 6,
    "start_time": "2022-01-18T06:17:16.867Z"
   },
   {
    "duration": 8,
    "start_time": "2022-01-18T06:17:16.875Z"
   },
   {
    "duration": 19,
    "start_time": "2022-01-18T06:17:16.924Z"
   },
   {
    "duration": 8,
    "start_time": "2022-01-18T06:17:16.945Z"
   },
   {
    "duration": 9,
    "start_time": "2022-01-18T06:17:16.955Z"
   },
   {
    "duration": 1388,
    "start_time": "2022-01-18T13:34:27.584Z"
   },
   {
    "duration": 24,
    "start_time": "2022-01-18T13:34:28.975Z"
   },
   {
    "duration": 41,
    "start_time": "2022-01-18T13:34:29.006Z"
   },
   {
    "duration": 19,
    "start_time": "2022-01-18T13:34:29.049Z"
   },
   {
    "duration": 56,
    "start_time": "2022-01-18T13:34:29.071Z"
   },
   {
    "duration": 23,
    "start_time": "2022-01-18T13:34:29.134Z"
   },
   {
    "duration": 15,
    "start_time": "2022-01-18T13:34:29.160Z"
   },
   {
    "duration": 54,
    "start_time": "2022-01-18T13:34:29.178Z"
   },
   {
    "duration": 12,
    "start_time": "2022-01-18T13:34:29.235Z"
   },
   {
    "duration": 10,
    "start_time": "2022-01-18T13:34:29.249Z"
   },
   {
    "duration": 8,
    "start_time": "2022-01-18T13:34:29.261Z"
   },
   {
    "duration": 4,
    "start_time": "2022-01-18T13:34:29.271Z"
   },
   {
    "duration": 4,
    "start_time": "2022-01-18T13:34:29.324Z"
   },
   {
    "duration": 33,
    "start_time": "2022-01-18T13:34:29.331Z"
   },
   {
    "duration": 3,
    "start_time": "2022-01-18T13:34:29.366Z"
   },
   {
    "duration": 9,
    "start_time": "2022-01-18T13:34:29.371Z"
   },
   {
    "duration": 409949,
    "start_time": "2022-01-18T13:34:29.382Z"
   },
   {
    "duration": 5,
    "start_time": "2022-01-18T13:41:19.334Z"
   },
   {
    "duration": 154,
    "start_time": "2022-01-18T13:41:19.342Z"
   },
   {
    "duration": 51,
    "start_time": "2022-01-18T13:41:19.499Z"
   },
   {
    "duration": 8,
    "start_time": "2022-01-18T13:41:19.553Z"
   },
   {
    "duration": 8,
    "start_time": "2022-01-18T13:41:19.566Z"
   },
   {
    "duration": 1420,
    "start_time": "2022-01-18T14:56:09.403Z"
   },
   {
    "duration": 26,
    "start_time": "2022-01-18T14:56:10.827Z"
   },
   {
    "duration": 22,
    "start_time": "2022-01-18T14:56:10.857Z"
   },
   {
    "duration": 50,
    "start_time": "2022-01-18T14:56:10.882Z"
   },
   {
    "duration": 23,
    "start_time": "2022-01-18T14:56:10.935Z"
   },
   {
    "duration": 17,
    "start_time": "2022-01-18T14:56:10.961Z"
   },
   {
    "duration": 22,
    "start_time": "2022-01-18T14:56:11.028Z"
   },
   {
    "duration": 15,
    "start_time": "2022-01-18T14:56:11.054Z"
   },
   {
    "duration": 4,
    "start_time": "2022-01-18T14:56:11.073Z"
   },
   {
    "duration": 9,
    "start_time": "2022-01-18T14:56:11.123Z"
   },
   {
    "duration": 22,
    "start_time": "2022-01-18T14:56:11.135Z"
   },
   {
    "duration": 4,
    "start_time": "2022-01-18T14:56:11.160Z"
   },
   {
    "duration": 6,
    "start_time": "2022-01-18T14:56:11.167Z"
   },
   {
    "duration": 65,
    "start_time": "2022-01-18T14:56:11.176Z"
   },
   {
    "duration": 7,
    "start_time": "2022-01-18T14:56:11.244Z"
   },
   {
    "duration": 13,
    "start_time": "2022-01-18T14:56:11.253Z"
   },
   {
    "duration": 327,
    "start_time": "2022-01-21T08:40:16.282Z"
   },
   {
    "duration": 4,
    "start_time": "2022-01-21T08:40:27.943Z"
   },
   {
    "duration": 5154,
    "start_time": "2022-01-21T08:40:27.954Z"
   },
   {
    "duration": 1095,
    "start_time": "2022-01-21T08:40:33.110Z"
   },
   {
    "duration": 23,
    "start_time": "2022-01-21T08:40:34.207Z"
   },
   {
    "duration": 51,
    "start_time": "2022-01-21T08:40:34.231Z"
   },
   {
    "duration": 39,
    "start_time": "2022-01-21T08:40:34.284Z"
   },
   {
    "duration": 42,
    "start_time": "2022-01-21T08:40:34.325Z"
   },
   {
    "duration": 45,
    "start_time": "2022-01-21T08:40:34.369Z"
   },
   {
    "duration": 38,
    "start_time": "2022-01-21T08:40:34.416Z"
   },
   {
    "duration": 35,
    "start_time": "2022-01-21T08:40:34.457Z"
   },
   {
    "duration": 27,
    "start_time": "2022-01-21T08:40:34.494Z"
   },
   {
    "duration": 43,
    "start_time": "2022-01-21T08:40:34.523Z"
   },
   {
    "duration": 26,
    "start_time": "2022-01-21T08:40:34.568Z"
   },
   {
    "duration": 31,
    "start_time": "2022-01-21T08:40:34.596Z"
   },
   {
    "duration": 57,
    "start_time": "2022-01-21T08:40:34.629Z"
   },
   {
    "duration": 3,
    "start_time": "2022-01-21T08:40:34.687Z"
   },
   {
    "duration": 25,
    "start_time": "2022-01-21T08:40:34.693Z"
   },
   {
    "duration": 19,
    "start_time": "2022-01-21T08:40:34.719Z"
   },
   {
    "duration": 1359285,
    "start_time": "2022-01-21T08:40:34.740Z"
   },
   {
    "duration": 13,
    "start_time": "2022-01-21T09:03:14.029Z"
   },
   {
    "duration": 15,
    "start_time": "2022-01-21T09:03:14.044Z"
   },
   {
    "duration": 5,
    "start_time": "2022-01-21T09:03:14.061Z"
   },
   {
    "duration": 560,
    "start_time": "2022-01-21T09:03:14.067Z"
   },
   {
    "duration": 17,
    "start_time": "2022-01-21T09:03:14.629Z"
   },
   {
    "duration": 7,
    "start_time": "2022-01-21T09:03:14.650Z"
   },
   {
    "duration": 5,
    "start_time": "2022-01-21T09:03:14.659Z"
   },
   {
    "duration": 21867,
    "start_time": "2022-01-21T09:03:14.665Z"
   },
   {
    "duration": 13,
    "start_time": "2022-01-21T09:03:36.534Z"
   },
   {
    "duration": 9,
    "start_time": "2022-01-21T09:03:36.550Z"
   },
   {
    "duration": 30,
    "start_time": "2022-01-21T09:03:36.561Z"
   },
   {
    "duration": 5,
    "start_time": "2022-01-21T09:03:36.593Z"
   },
   {
    "duration": 4,
    "start_time": "2022-01-21T09:03:36.599Z"
   },
   {
    "duration": 139,
    "start_time": "2022-01-21T09:03:36.605Z"
   },
   {
    "duration": 6,
    "start_time": "2022-01-21T09:03:36.746Z"
   },
   {
    "duration": 21,
    "start_time": "2022-01-21T09:03:36.754Z"
   },
   {
    "duration": 6,
    "start_time": "2022-01-21T09:03:36.777Z"
   },
   {
    "duration": 7,
    "start_time": "2022-01-21T09:03:36.785Z"
   },
   {
    "duration": 3,
    "start_time": "2022-01-21T09:03:36.794Z"
   },
   {
    "duration": 6,
    "start_time": "2022-01-21T09:03:36.799Z"
   },
   {
    "duration": 37,
    "start_time": "2022-01-21T09:03:36.807Z"
   },
   {
    "duration": 21,
    "start_time": "2022-01-21T09:03:36.847Z"
   },
   {
    "duration": 6,
    "start_time": "2022-01-21T09:03:36.870Z"
   },
   {
    "duration": 10,
    "start_time": "2022-01-21T09:03:36.878Z"
   }
  ],
  "kernelspec": {
   "display_name": "Python 3 (ipykernel)",
   "language": "python",
   "name": "python3"
  },
  "language_info": {
   "codemirror_mode": {
    "name": "ipython",
    "version": 3
   },
   "file_extension": ".py",
   "mimetype": "text/x-python",
   "name": "python",
   "nbconvert_exporter": "python",
   "pygments_lexer": "ipython3",
   "version": "3.9.13"
  },
  "notebookId": "89249d96-6a15-4ffc-9f8b-29b831e62d7d",
  "notebookPath": "21b82a64-892c-4edf-9bbf-e0ac079614b5.ipynb",
  "toc": {
   "base_numbering": 1,
   "nav_menu": {},
   "number_sections": true,
   "sideBar": true,
   "skip_h1_title": true,
   "title_cell": "Table of Contents",
   "title_sidebar": "Contents",
   "toc_cell": false,
   "toc_position": {},
   "toc_section_display": true,
   "toc_window_display": false
  }
 },
 "nbformat": 4,
 "nbformat_minor": 4
}
