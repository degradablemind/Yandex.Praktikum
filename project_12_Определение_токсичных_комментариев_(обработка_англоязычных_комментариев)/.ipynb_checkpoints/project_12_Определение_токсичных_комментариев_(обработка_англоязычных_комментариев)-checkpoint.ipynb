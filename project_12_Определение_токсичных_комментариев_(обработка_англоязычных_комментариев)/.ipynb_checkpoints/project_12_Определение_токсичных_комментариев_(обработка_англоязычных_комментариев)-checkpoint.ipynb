{
 "cells": [
  {
   "cell_type": "markdown",
   "metadata": {},
   "source": [
    "# Проект для интернет-магазина"
   ]
  },
  {
   "cell_type": "markdown",
   "metadata": {},
   "source": [
    "# Цель: "
   ]
  },
  {
   "cell_type": "markdown",
   "metadata": {},
   "source": [
    "Создать инструмент интернет-магазину, который будет искать \"токсичные\" комментарии"
   ]
  },
  {
   "cell_type": "markdown",
   "metadata": {},
   "source": [
    "## Подготовка"
   ]
  },
  {
   "cell_type": "code",
   "execution_count": 75,
   "metadata": {},
   "outputs": [],
   "source": [
    "import pandas as pd\n",
    "import numpy as np\n",
    "import matplotlib.pyplot as plt\n",
    "\n",
    "from sklearn.metrics import f1_score, precision_score, recall_score, accuracy_score, precision_recall_curve, roc_curve\n",
    "import en_core_web_sm\n",
    "from tqdm import tqdm, tqdm_notebook, notebook\n",
    "from sklearn.model_selection import train_test_split, cross_val_score, GridSearchCV\n",
    "import re\n",
    "import transformers\n",
    "from sklearn.linear_model import LogisticRegression\n",
    "from sklearn.tree import DecisionTreeClassifier\n",
    "from catboost import CatBoostClassifier\n",
    "import nltk\n",
    "from nltk.corpus import stopwords as nltk_stopwords\n",
    "from sklearn.feature_extraction.text import TfidfVectorizer\n",
    "import warnings\n",
    "warnings.filterwarnings('ignore')"
   ]
  },
  {
   "cell_type": "code",
   "execution_count": 3,
   "metadata": {},
   "outputs": [],
   "source": [
    "RS = 12345\n",
    "DF_FINAL = 'df_final'"
   ]
  },
  {
   "cell_type": "markdown",
   "metadata": {},
   "source": [
    "Создадим функцию для быстро просмотра данных"
   ]
  },
  {
   "cell_type": "code",
   "execution_count": 4,
   "metadata": {},
   "outputs": [],
   "source": [
    "def df_info(dataframe):\n",
    "    column = dataframe.columns.values.tolist() # список наименований столбцов таблицы\n",
    "    print('Общая информация о таблице:\\n')\n",
    "    dataframe.info() # общая иноформация о таблице\n",
    "    print('\\nВнешний вид таблицы (5 случайных строк):')\n",
    "    display(dataframe.sample(5)) # внешний вид первых 5 строк таблицы\n",
    "\n",
    "    # далее выводим все интересующие нас особенности таблицы, соответствнно, обозначенные в функции print()\n",
    "    print('Столбцы таблицы: {}\\n'.format(column),\n",
    "          '\\n\\nОбщее количество уникальных значений столбцов {}:\\n\\n{}'.\n",
    "          format(column, dataframe.nunique()),\n",
    "          '\\n\\nКоличество пропущенных значений столбцов {}:\\n\\n{}'.\n",
    "          format(column, dataframe.isna().sum()))\n",
    "    \n",
    "    for i in column: # создадим цикл для перебора значений столбцов для отдельного примнения к ним любой функции\n",
    "          print('\\n\\nСоотношение дубликатов столбца {} ко всем строкам:\\t {}'.format(i, dataframe[i].duplicated().mean()/len(dataframe)))\n",
    "    print('\\nСоотношение явных дубликтов ко всем строкам: {}'.format((dataframe.duplicated().mean()/len(dataframe))))\n",
    "    print('\\n\\nТаблица корреляций значений столбцов {}:\\n\\n{}'.format(column, dataframe.corr()), '\\n',\n",
    "          '\\n\\nТаблица распределений значений столбцов {}:\\n\\n{}'.format(column, dataframe.describe()), '\\n')\n",
    "    print('Гистограммы распределений значений столбцов {}'.format(column))\n",
    "    dataframe.hist(bins=50, figsize=(15, 7), edgecolor = 'k')"
   ]
  },
  {
   "cell_type": "code",
   "execution_count": 5,
   "metadata": {},
   "outputs": [],
   "source": [
    "df = pd.read_csv('/datasets/toxic_comments.csv')"
   ]
  },
  {
   "cell_type": "code",
   "execution_count": 6,
   "metadata": {
    "scrolled": true
   },
   "outputs": [
    {
     "name": "stdout",
     "output_type": "stream",
     "text": [
      "Общая информация о таблице:\n",
      "\n",
      "<class 'pandas.core.frame.DataFrame'>\n",
      "RangeIndex: 159571 entries, 0 to 159570\n",
      "Data columns (total 2 columns):\n",
      " #   Column  Non-Null Count   Dtype \n",
      "---  ------  --------------   ----- \n",
      " 0   text    159571 non-null  object\n",
      " 1   toxic   159571 non-null  int64 \n",
      "dtypes: int64(1), object(1)\n",
      "memory usage: 2.4+ MB\n",
      "\n",
      "Внешний вид таблицы (5 случайных строк):\n"
     ]
    },
    {
     "data": {
      "text/html": [
       "<div>\n",
       "<style scoped>\n",
       "    .dataframe tbody tr th:only-of-type {\n",
       "        vertical-align: middle;\n",
       "    }\n",
       "\n",
       "    .dataframe tbody tr th {\n",
       "        vertical-align: top;\n",
       "    }\n",
       "\n",
       "    .dataframe thead th {\n",
       "        text-align: right;\n",
       "    }\n",
       "</style>\n",
       "<table border=\"1\" class=\"dataframe\">\n",
       "  <thead>\n",
       "    <tr style=\"text-align: right;\">\n",
       "      <th></th>\n",
       "      <th>text</th>\n",
       "      <th>toxic</th>\n",
       "    </tr>\n",
       "  </thead>\n",
       "  <tbody>\n",
       "    <tr>\n",
       "      <th>96030</th>\n",
       "      <td>Redirect reason lost \\n\\nWhile eliminating a d...</td>\n",
       "      <td>0</td>\n",
       "    </tr>\n",
       "    <tr>\n",
       "      <th>103478</th>\n",
       "      <td>Cool. I made a semi-serious proposal at Wikipe...</td>\n",
       "      <td>0</td>\n",
       "    </tr>\n",
       "    <tr>\n",
       "      <th>141764</th>\n",
       "      <td>\"\\n\\nDon't worry, I read with great care when ...</td>\n",
       "      <td>0</td>\n",
       "    </tr>\n",
       "    <tr>\n",
       "      <th>94916</th>\n",
       "      <td>\":::::::::::::No, sorry, you are still very wr...</td>\n",
       "      <td>0</td>\n",
       "    </tr>\n",
       "    <tr>\n",
       "      <th>53298</th>\n",
       "      <td>New Page Triage engagement strategy released\\n...</td>\n",
       "      <td>0</td>\n",
       "    </tr>\n",
       "  </tbody>\n",
       "</table>\n",
       "</div>"
      ],
      "text/plain": [
       "                                                     text  toxic\n",
       "96030   Redirect reason lost \\n\\nWhile eliminating a d...      0\n",
       "103478  Cool. I made a semi-serious proposal at Wikipe...      0\n",
       "141764  \"\\n\\nDon't worry, I read with great care when ...      0\n",
       "94916   \":::::::::::::No, sorry, you are still very wr...      0\n",
       "53298   New Page Triage engagement strategy released\\n...      0"
      ]
     },
     "metadata": {},
     "output_type": "display_data"
    },
    {
     "name": "stdout",
     "output_type": "stream",
     "text": [
      "Столбцы таблицы: ['text', 'toxic']\n",
      " \n",
      "\n",
      "Общее количество уникальных значений столбцов ['text', 'toxic']:\n",
      "\n",
      "text     159571\n",
      "toxic         2\n",
      "dtype: int64 \n",
      "\n",
      "Количество пропущенных значений столбцов ['text', 'toxic']:\n",
      "\n",
      "text     0\n",
      "toxic    0\n",
      "dtype: int64\n",
      "\n",
      "\n",
      "Соотношение дубликатов столбца text ко всем строкам:\t 0.0\n",
      "\n",
      "\n",
      "Соотношение дубликатов столбца toxic ко всем строкам:\t 6.266724319545968e-06\n",
      "\n",
      "Соотношение явных дубликтов ко всем строкам: 0.0\n",
      "\n",
      "\n",
      "Таблица корреляций значений столбцов ['text', 'toxic']:\n",
      "\n",
      "       toxic\n",
      "toxic    1.0 \n",
      " \n",
      "\n",
      "Таблица распределений значений столбцов ['text', 'toxic']:\n",
      "\n",
      "               toxic\n",
      "count  159571.000000\n",
      "mean        0.101679\n",
      "std         0.302226\n",
      "min         0.000000\n",
      "25%         0.000000\n",
      "50%         0.000000\n",
      "75%         0.000000\n",
      "max         1.000000 \n",
      "\n",
      "Гистограммы распределений значений столбцов ['text', 'toxic']\n"
     ]
    },
    {
     "data": {
      "image/png": "[encoded data removed]",
      "text/plain": [
       "<Figure size 1080x504 with 1 Axes>"
      ]
     },
     "metadata": {
      "needs_background": "light"
     },
     "output_type": "display_data"
    }
   ],
   "source": [
    "df_info(df)"
   ]
  },
  {
   "cell_type": "markdown",
   "metadata": {},
   "source": [
    "**Краткие выводы**: количество значений токсичных комментарием отличается от нетоксичных, налицо дисбаланс признаков. Таблица в целом представлена комментариями, написанными людьми в свободной форме со множеством различных символов и сокращений. Треубется обработка по типу лемматизации."
   ]
  },
  {
   "cell_type": "markdown",
   "metadata": {},
   "source": [
    "Более детально рассмотрим дисбаланс признаков"
   ]
  },
  {
   "cell_type": "code",
   "execution_count": 7,
   "metadata": {},
   "outputs": [
    {
     "data": {
      "text/plain": [
       "0    143346\n",
       "1     16225\n",
       "Name: toxic, dtype: int64"
      ]
     },
     "metadata": {},
     "output_type": "display_data"
    },
    {
     "name": "stdout",
     "output_type": "stream",
     "text": [
      "Соотношение целевых признаков 8.834884437596301\n"
     ]
    }
   ],
   "source": [
    "display(df['toxic'].value_counts())\n",
    "\n",
    "class_ratio = df['toxic'].value_counts()[0] / df['toxic'].value_counts()[1]\n",
    "print('Соотношение целевых признаков', class_ratio)"
   ]
  },
  {
   "cell_type": "markdown",
   "metadata": {},
   "source": [
    "Проверим соотношение признаков"
   ]
  },
  {
   "cell_type": "code",
   "execution_count": 8,
   "metadata": {},
   "outputs": [
    {
     "data": {
      "text/plain": [
       "0    0.898321\n",
       "1    0.101679\n",
       "Name: toxic, dtype: float64"
      ]
     },
     "execution_count": 8,
     "metadata": {},
     "output_type": "execute_result"
    }
   ],
   "source": [
    "df['toxic'].value_counts(normalize=True)"
   ]
  },
  {
   "cell_type": "markdown",
   "metadata": {},
   "source": [
    "**Краткие выводы**: в дальнейшем проведем балансировку целевого признака"
   ]
  },
  {
   "cell_type": "markdown",
   "metadata": {},
   "source": [
    "Для начала очистим наш текст от лишних символов"
   ]
  },
  {
   "cell_type": "code",
   "execution_count": 9,
   "metadata": {},
   "outputs": [],
   "source": [
    "def clean(text):\n",
    "    \n",
    "    text = text.lower()    \n",
    "    text = re.sub(r'(?:\\n|\\r)', ' ', text)\n",
    "    text = re.sub(r'[^a-zA-Z ]+', '', text).strip()\n",
    "    \n",
    "    return text"
   ]
  },
  {
   "cell_type": "markdown",
   "metadata": {},
   "source": [
    "Далее применим эту функцию к каждой строчке"
   ]
  },
  {
   "cell_type": "code",
   "execution_count": 10,
   "metadata": {},
   "outputs": [
    {
     "name": "stderr",
     "output_type": "stream",
     "text": [
      "100%|██████████| 159571/159571 [00:02<00:00, 66577.80it/s]\n"
     ]
    },
    {
     "data": {
      "text/html": [
       "<div>\n",
       "<style scoped>\n",
       "    .dataframe tbody tr th:only-of-type {\n",
       "        vertical-align: middle;\n",
       "    }\n",
       "\n",
       "    .dataframe tbody tr th {\n",
       "        vertical-align: top;\n",
       "    }\n",
       "\n",
       "    .dataframe thead th {\n",
       "        text-align: right;\n",
       "    }\n",
       "</style>\n",
       "<table border=\"1\" class=\"dataframe\">\n",
       "  <thead>\n",
       "    <tr style=\"text-align: right;\">\n",
       "      <th></th>\n",
       "      <th>text</th>\n",
       "      <th>text_clean</th>\n",
       "    </tr>\n",
       "  </thead>\n",
       "  <tbody>\n",
       "    <tr>\n",
       "      <th>146790</th>\n",
       "      <td>Ahh shut the fuck up you douchebag sand nigger...</td>\n",
       "      <td>ahh shut the fuck up you douchebag sand nigger...</td>\n",
       "    </tr>\n",
       "    <tr>\n",
       "      <th>2941</th>\n",
       "      <td>\"\\n\\nREPLY: There is no such thing as Texas Co...</td>\n",
       "      <td>reply there is no such thing as texas commerce...</td>\n",
       "    </tr>\n",
       "    <tr>\n",
       "      <th>115087</th>\n",
       "      <td>Reply\\nHey, you could at least mention Jasenov...</td>\n",
       "      <td>reply hey you could at least mention jasenovac...</td>\n",
       "    </tr>\n",
       "    <tr>\n",
       "      <th>48830</th>\n",
       "      <td>Thats fine, there is no deadline )   chi?</td>\n",
       "      <td>thats fine there is no deadline    chi</td>\n",
       "    </tr>\n",
       "    <tr>\n",
       "      <th>136034</th>\n",
       "      <td>\"\\n\\nDYK nomination of Mustarabim\\n Hello! You...</td>\n",
       "      <td>dyk nomination of mustarabim  hello your submi...</td>\n",
       "    </tr>\n",
       "  </tbody>\n",
       "</table>\n",
       "</div>"
      ],
      "text/plain": [
       "                                                     text  \\\n",
       "146790  Ahh shut the fuck up you douchebag sand nigger...   \n",
       "2941    \"\\n\\nREPLY: There is no such thing as Texas Co...   \n",
       "115087  Reply\\nHey, you could at least mention Jasenov...   \n",
       "48830           Thats fine, there is no deadline )   chi?   \n",
       "136034  \"\\n\\nDYK nomination of Mustarabim\\n Hello! You...   \n",
       "\n",
       "                                               text_clean  \n",
       "146790  ahh shut the fuck up you douchebag sand nigger...  \n",
       "2941    reply there is no such thing as texas commerce...  \n",
       "115087  reply hey you could at least mention jasenovac...  \n",
       "48830              thats fine there is no deadline    chi  \n",
       "136034  dyk nomination of mustarabim  hello your submi...  "
      ]
     },
     "execution_count": 10,
     "metadata": {},
     "output_type": "execute_result"
    }
   ],
   "source": [
    "tqdm.pandas()\n",
    "df['text_clean'] = df['text'].progress_apply(clean)\n",
    "\n",
    "# просмотрим результат работы\n",
    "df[['text', 'text_clean']].sample(5, random_state=RS)"
   ]
  },
  {
   "cell_type": "markdown",
   "metadata": {},
   "source": [
    "Займемся теперь лемматизацией английских слов, предвартиельно загрузив их библиотеку"
   ]
  },
  {
   "cell_type": "code",
   "execution_count": 11,
   "metadata": {},
   "outputs": [],
   "source": [
    "nlp = en_core_web_sm.load()"
   ]
  },
  {
   "cell_type": "markdown",
   "metadata": {},
   "source": [
    "Создадим функцию лемматизации"
   ]
  },
  {
   "cell_type": "code",
   "execution_count": 12,
   "metadata": {},
   "outputs": [],
   "source": [
    "def lemmatize(text):\n",
    "    temp = []\n",
    "    for token in nlp(text):\n",
    "        if token.is_stop == False:\n",
    "            temp.append(token.lemma_)\n",
    "    return ' '.join(temp)"
   ]
  },
  {
   "cell_type": "markdown",
   "metadata": {},
   "source": [
    "Применим к каждой строке \"очещенного текста\" лемматизацию (на всякий случай посмотрим прогресс выполнения задачи, так как он слишком долог)"
   ]
  },
  {
   "cell_type": "code",
   "execution_count": 13,
   "metadata": {},
   "outputs": [
    {
     "name": "stderr",
     "output_type": "stream",
     "text": [
      "100%|██████████| 159571/159571 [34:17<00:00, 77.56it/s] \n"
     ]
    }
   ],
   "source": [
    "tqdm.pandas()\n",
    "df['text_lemma'] = df['text_clean'].progress_apply(lemmatize)"
   ]
  },
  {
   "cell_type": "code",
   "execution_count": 14,
   "metadata": {},
   "outputs": [
    {
     "data": {
      "text/html": [
       "<div>\n",
       "<style scoped>\n",
       "    .dataframe tbody tr th:only-of-type {\n",
       "        vertical-align: middle;\n",
       "    }\n",
       "\n",
       "    .dataframe tbody tr th {\n",
       "        vertical-align: top;\n",
       "    }\n",
       "\n",
       "    .dataframe thead th {\n",
       "        text-align: right;\n",
       "    }\n",
       "</style>\n",
       "<table border=\"1\" class=\"dataframe\">\n",
       "  <thead>\n",
       "    <tr style=\"text-align: right;\">\n",
       "      <th></th>\n",
       "      <th>text</th>\n",
       "      <th>toxic</th>\n",
       "      <th>text_clean</th>\n",
       "      <th>text_lemma</th>\n",
       "    </tr>\n",
       "  </thead>\n",
       "  <tbody>\n",
       "    <tr>\n",
       "      <th>146790</th>\n",
       "      <td>Ahh shut the fuck up you douchebag sand nigger...</td>\n",
       "      <td>1</td>\n",
       "      <td>ahh shut the fuck up you douchebag sand nigger...</td>\n",
       "      <td>ahh shut fuck douchebag sand nigg    blow peop...</td>\n",
       "    </tr>\n",
       "    <tr>\n",
       "      <th>2941</th>\n",
       "      <td>\"\\n\\nREPLY: There is no such thing as Texas Co...</td>\n",
       "      <td>0</td>\n",
       "      <td>reply there is no such thing as texas commerce...</td>\n",
       "      <td>reply thing texas commerce bank chicago   like...</td>\n",
       "    </tr>\n",
       "    <tr>\n",
       "      <th>115087</th>\n",
       "      <td>Reply\\nHey, you could at least mention Jasenov...</td>\n",
       "      <td>0</td>\n",
       "      <td>reply hey you could at least mention jasenovac...</td>\n",
       "      <td>reply hey mention jasenovac    kill serb bs va...</td>\n",
       "    </tr>\n",
       "    <tr>\n",
       "      <th>48830</th>\n",
       "      <td>Thats fine, there is no deadline )   chi?</td>\n",
       "      <td>0</td>\n",
       "      <td>thats fine there is no deadline    chi</td>\n",
       "      <td>s fine deadline     chi</td>\n",
       "    </tr>\n",
       "    <tr>\n",
       "      <th>136034</th>\n",
       "      <td>\"\\n\\nDYK nomination of Mustarabim\\n Hello! You...</td>\n",
       "      <td>0</td>\n",
       "      <td>dyk nomination of mustarabim  hello your submi...</td>\n",
       "      <td>dyk nomination mustarabim   hello submission m...</td>\n",
       "    </tr>\n",
       "  </tbody>\n",
       "</table>\n",
       "</div>"
      ],
      "text/plain": [
       "                                                     text  toxic  \\\n",
       "146790  Ahh shut the fuck up you douchebag sand nigger...      1   \n",
       "2941    \"\\n\\nREPLY: There is no such thing as Texas Co...      0   \n",
       "115087  Reply\\nHey, you could at least mention Jasenov...      0   \n",
       "48830           Thats fine, there is no deadline )   chi?      0   \n",
       "136034  \"\\n\\nDYK nomination of Mustarabim\\n Hello! You...      0   \n",
       "\n",
       "                                               text_clean  \\\n",
       "146790  ahh shut the fuck up you douchebag sand nigger...   \n",
       "2941    reply there is no such thing as texas commerce...   \n",
       "115087  reply hey you could at least mention jasenovac...   \n",
       "48830              thats fine there is no deadline    chi   \n",
       "136034  dyk nomination of mustarabim  hello your submi...   \n",
       "\n",
       "                                               text_lemma  \n",
       "146790  ahh shut fuck douchebag sand nigg    blow peop...  \n",
       "2941    reply thing texas commerce bank chicago   like...  \n",
       "115087  reply hey mention jasenovac    kill serb bs va...  \n",
       "48830                             s fine deadline     chi  \n",
       "136034  dyk nomination mustarabim   hello submission m...  "
      ]
     },
     "execution_count": 14,
     "metadata": {},
     "output_type": "execute_result"
    }
   ],
   "source": [
    "df.sample(5, random_state=RS)"
   ]
  },
  {
   "cell_type": "markdown",
   "metadata": {},
   "source": [
    "Теперь разобьем выборку по отношению 60/20/20, уменьшив число кросс-валидизации до 3."
   ]
  },
  {
   "cell_type": "code",
   "execution_count": 15,
   "metadata": {},
   "outputs": [
    {
     "name": "stdout",
     "output_type": "stream",
     "text": [
      "CPU times: total: 78.1 ms\n",
      "Wall time: 70 ms\n"
     ]
    }
   ],
   "source": [
    "%%time\n",
    "target = df['toxic']\n",
    "features = df.drop(['toxic'], axis=1)\n",
    "\n",
    "features_train, features_valid, target_train, target_valid = train_test_split(features, \n",
    "                                                                              target, \n",
    "                                                                              test_size=0.4, \n",
    "                                                                              random_state=RS)\n",
    "features_valid, features_test, target_valid, target_test = train_test_split(features_valid, \n",
    "                                                                            target_valid, \n",
    "                                                                            test_size=0.5,\n",
    "                                                                            random_state=RS  )"
   ]
  },
  {
   "cell_type": "code",
   "execution_count": 16,
   "metadata": {},
   "outputs": [
    {
     "name": "stderr",
     "output_type": "stream",
     "text": [
      "[nltk_data] Downloading package stopwords to\n",
      "[nltk_data]     C:\\Users\\inpsychologycis\\AppData\\Roaming\\nltk_data...\n",
      "[nltk_data]   Package stopwords is already up-to-date!\n"
     ]
    },
    {
     "name": "stdout",
     "output_type": "stream",
     "text": [
      "CPU times: total: 5.41 s\n",
      "Wall time: 5.66 s\n"
     ]
    }
   ],
   "source": [
    "%%time\n",
    "nltk.download('stopwords')\n",
    "stopwords = set(nltk_stopwords.words('english'))\n",
    "\n",
    "count_tf_idf = TfidfVectorizer(stop_words=stopwords)\n",
    "\n",
    "# features_train = count_tf_idf.fit_transform(features_train['text_lemma'].values.astype('U'))\n",
    "# features_valid = count_tf_idf.transform(features_valid['text_lemma'].values.astype('U'))\n",
    "# features_test = count_tf_idf.transform(features_test['text_lemma'].values.astype('U'))\n",
    "\n",
    "features_train = count_tf_idf.fit_transform(features_train['text_lemma'].values)\n",
    "features_valid = count_tf_idf.transform(features_valid['text_lemma'].values)\n",
    "features_test = count_tf_idf.transform(features_test['text_lemma'].values)\n",
    "\n",
    "cv = 3"
   ]
  },
  {
   "cell_type": "markdown",
   "metadata": {},
   "source": [
    "Посмотрим, что у нас получилось, проверим размеры выборок"
   ]
  },
  {
   "cell_type": "code",
   "execution_count": 17,
   "metadata": {},
   "outputs": [
    {
     "name": "stdout",
     "output_type": "stream",
     "text": [
      "Размер обучающей выборки: \n",
      "(95742, 145443)\n",
      "Размер валидационной выборки: \n",
      "(31914, 145443)\n",
      "Размер тестовой выборки: \n",
      "(31915, 145443)\n"
     ]
    }
   ],
   "source": [
    "print('Размер обучающей выборки: ', features_train.shape, \n",
    "      'Размер валидационной выборки: ', features_valid.shape, \n",
    "      'Размер тестовой выборки: ', features_test.shape, sep='\\n')"
   ]
  },
  {
   "cell_type": "code",
   "execution_count": 18,
   "metadata": {},
   "outputs": [
    {
     "name": "stdout",
     "output_type": "stream",
     "text": [
      "Размер обучающего целевого признака: \n",
      "(95742,)\n",
      "Размер валидационного целевого признака: \n",
      "(31914,)\n",
      "Размер тестового целевого признака: \n",
      "(31915,)\n"
     ]
    }
   ],
   "source": [
    "print('Размер обучающего целевого признака: ', target_train.shape, \n",
    "      'Размер валидационного целевого признака: ', target_valid.shape, \n",
    "      'Размер тестового целевого признака: ', target_test.shape, sep='\\n')"
   ]
  },
  {
   "cell_type": "markdown",
   "metadata": {},
   "source": [
    "Так как признаки несбалансированны, попробуем их уравнять. Применим также кросс-валидацию для посика лучшего значения метрики."
   ]
  },
  {
   "cell_type": "code",
   "execution_count": 19,
   "metadata": {},
   "outputs": [],
   "source": [
    "dict_classes={0:1, 1:class_ratio}"
   ]
  },
  {
   "cell_type": "code",
   "execution_count": 20,
   "metadata": {
    "scrolled": true
   },
   "outputs": [
    {
     "name": "stdout",
     "output_type": "stream",
     "text": [
      "Значение F1 на нашем балансировании классов 0.7567167611442033\n"
     ]
    }
   ],
   "source": [
    "classificator = LogisticRegression(class_weight=dict_classes)\n",
    "train_f1 = cross_val_score(classificator, \n",
    "                      features_train, \n",
    "                      target_train, \n",
    "                      cv=cv, \n",
    "                      scoring='f1').mean()\n",
    "print('Значение F1 на нашем балансировании классов', train_f1)"
   ]
  },
  {
   "cell_type": "markdown",
   "metadata": {},
   "source": [
    " Сравним его с балансом класса по типу встроенного балансирования `balanced`"
   ]
  },
  {
   "cell_type": "code",
   "execution_count": 21,
   "metadata": {},
   "outputs": [
    {
     "name": "stdout",
     "output_type": "stream",
     "text": [
      "Значение F1 на встроенном балансировании классов 0.7508188322681496\n"
     ]
    }
   ],
   "source": [
    "classificator = LogisticRegression(class_weight='balanced')\n",
    "train_f1 = cross_val_score(classificator, \n",
    "                      features_train, \n",
    "                      target_train, \n",
    "                      cv=cv, \n",
    "                      scoring='f1').mean()\n",
    "print('Значение F1 на встроенном балансировании классов', train_f1)"
   ]
  },
  {
   "cell_type": "markdown",
   "metadata": {},
   "source": [
    "Таким образом, будем использовать собственный баланс классов, так как различия несущественны."
   ]
  },
  {
   "cell_type": "markdown",
   "metadata": {},
   "source": [
    "## Обучение"
   ]
  },
  {
   "cell_type": "markdown",
   "metadata": {},
   "source": [
    "LogisticRegression"
   ]
  },
  {
   "cell_type": "markdown",
   "metadata": {},
   "source": [
    "Будем использвать подбор гиперпараметров через `GridSearchCV`, применяя кросс-валидацию, проверяя через перебор значения и выделяя наибольшее значение метрики"
   ]
  },
  {
   "cell_type": "code",
   "execution_count": 22,
   "metadata": {
    "scrolled": false
   },
   "outputs": [
    {
     "name": "stdout",
     "output_type": "stream",
     "text": [
      "Лучшие гиперпараметры:\n",
      "\n",
      "{'C': 10, 'class_weight': {0: 1, 1: 8.834884437596301}, 'solver': 'lbfgs'} \n",
      "\n"
     ]
    }
   ],
   "source": [
    "model_log = LogisticRegression()\n",
    "log_params = [{'solver':['newton-cg', 'lbfgs', 'liblinear'],\n",
    "                'C':[0.1, 1, 10],\n",
    "                'class_weight':[dict_classes]}]\n",
    "\n",
    "clf_log = GridSearchCV(model_log, log_params, scoring='f1',cv=cv, refit=True, n_jobs=-1)\n",
    "clf_log.fit(features_train, target_train)\n",
    "print(\"Лучшие гиперпараметры:\\n\")\n",
    "log_best_params = clf_log.best_params_\n",
    "print(log_best_params, '\\n')\n",
    "\n",
    "cv_f1_log = max(clf_log.cv_results_['mean_test_score'])"
   ]
  },
  {
   "cell_type": "markdown",
   "metadata": {},
   "source": [
    "Найдя гиперапараметры, применим их к нашей модели"
   ]
  },
  {
   "cell_type": "code",
   "execution_count": 23,
   "metadata": {},
   "outputs": [
    {
     "name": "stdout",
     "output_type": "stream",
     "text": [
      "Значение F1 на валидационной выборке 0.7614317019722425\n"
     ]
    }
   ],
   "source": [
    "model_log = clf_log.best_estimator_\n",
    "model_log.fit(features_train, target_train)\n",
    "target_predict = model_log.predict(features_valid)\n",
    "f1_log_valid = f1_score(target_valid, target_predict)\n",
    "print('Значение F1 на валидационной выборке', f1_log_valid)"
   ]
  },
  {
   "cell_type": "markdown",
   "metadata": {},
   "source": [
    "Проделаем то же самое и для других моделей"
   ]
  },
  {
   "cell_type": "markdown",
   "metadata": {},
   "source": [
    "DecisionTreeClassifier"
   ]
  },
  {
   "cell_type": "code",
   "execution_count": 24,
   "metadata": {
    "scrolled": true
   },
   "outputs": [
    {
     "name": "stdout",
     "output_type": "stream",
     "text": [
      "Лучшие гиперпараметры:\n",
      "\n",
      "{'max_depth': 50, 'random_state': 12345} \n",
      "\n"
     ]
    }
   ],
   "source": [
    "model_tree = DecisionTreeClassifier()\n",
    "params_tree = [{'max_depth':[x for x in range(30,51,2)],\n",
    "                'random_state':[RS]}]\n",
    "\n",
    "clf_tree = GridSearchCV(model_tree, params_tree, scoring='f1',cv=cv, refit=True, n_jobs=-1)\n",
    "clf_tree.fit(features_train, target_train)\n",
    "print(\"Лучшие гиперпараметры:\\n\")\n",
    "\n",
    "tree_best_params = clf_tree.best_params_\n",
    "print(tree_best_params, '\\n')\n",
    "\n",
    "cv_f1_tree = max(clf_tree.cv_results_['mean_test_score'])"
   ]
  },
  {
   "cell_type": "code",
   "execution_count": 25,
   "metadata": {},
   "outputs": [
    {
     "name": "stdout",
     "output_type": "stream",
     "text": [
      "Значение F1 на валидационной выборке 0.6982374933238384\n"
     ]
    }
   ],
   "source": [
    "model_tree = clf_tree.best_estimator_\n",
    "model_tree.fit(features_train, target_train)\n",
    "target_predict = model_tree.predict(features_valid)\n",
    "f1_tree_valid = f1_score(target_valid, target_predict)\n",
    "print('Значение F1 на валидационной выборке', f1_tree_valid)"
   ]
  },
  {
   "cell_type": "markdown",
   "metadata": {},
   "source": [
    "CatBoostClassifier"
   ]
  },
  {
   "cell_type": "code",
   "execution_count": 26,
   "metadata": {},
   "outputs": [
    {
     "name": "stdout",
     "output_type": "stream",
     "text": [
      "Лучшие гиперпараметры:\n",
      "\n",
      "{'depth': 5, 'iterations': 10, 'verbose': False} \n",
      "\n"
     ]
    }
   ],
   "source": [
    "model_cat = CatBoostClassifier()\n",
    "params_cat = {'verbose': [False],\n",
    "              'depth':[3, 5],\n",
    "              'iterations':[10, 5]}\n",
    "clf_cat = GridSearchCV(model_cat, params_cat, scoring='f1', cv=cv, refit=True, n_jobs=-1)\n",
    "clf_cat.fit(features_train, target_train)\n",
    "print(\"Лучшие гиперпараметры:\\n\")\n",
    "\n",
    "cat_best_params = clf_cat.best_params_\n",
    "print(cat_best_params, '\\n')\n",
    "\n",
    "cv_f1_cat = max(clf_cat.cv_results_['mean_test_score'])"
   ]
  },
  {
   "cell_type": "code",
   "execution_count": 27,
   "metadata": {},
   "outputs": [
    {
     "name": "stdout",
     "output_type": "stream",
     "text": [
      "Значение F1 на валидационной выборке 0.6067369291175863\n"
     ]
    }
   ],
   "source": [
    "model_cat = clf_cat.best_estimator_\n",
    "model_cat.fit(features_train, target_train)\n",
    "target_predict = model_cat.predict(features_valid)\n",
    "cv_f1_cat = cross_val_score(classificator,\n",
    "                            features_train, \n",
    "                            target_train, \n",
    "                            cv=cv, \n",
    "                            scoring='f1').mean()\n",
    "f1_cat_valid = f1_score(target_valid, target_predict)\n",
    "print('Значение F1 на валидационной выборке', f1_cat_valid)"
   ]
  },
  {
   "cell_type": "markdown",
   "metadata": {},
   "source": [
    "Создадим таблицу значений метрики `F1` на валиадационных выборках"
   ]
  },
  {
   "cell_type": "code",
   "execution_count": 31,
   "metadata": {},
   "outputs": [
    {
     "data": {
      "text/plain": [
       "'Таблица значений F1 для различных моделей'"
      ]
     },
     "metadata": {},
     "output_type": "display_data"
    },
    {
     "data": {
      "text/html": [
       "<div>\n",
       "<style scoped>\n",
       "    .dataframe tbody tr th:only-of-type {\n",
       "        vertical-align: middle;\n",
       "    }\n",
       "\n",
       "    .dataframe tbody tr th {\n",
       "        vertical-align: top;\n",
       "    }\n",
       "\n",
       "    .dataframe thead th {\n",
       "        text-align: right;\n",
       "    }\n",
       "</style>\n",
       "<table border=\"1\" class=\"dataframe\">\n",
       "  <thead>\n",
       "    <tr style=\"text-align: right;\">\n",
       "      <th></th>\n",
       "      <th>Модели</th>\n",
       "      <th>Значение метрики F1</th>\n",
       "      <th>Параметры модели</th>\n",
       "    </tr>\n",
       "  </thead>\n",
       "  <tbody>\n",
       "    <tr>\n",
       "      <th>0</th>\n",
       "      <td>LogisticRegression</td>\n",
       "      <td>0.761432</td>\n",
       "      <td>{'C': 10, 'class_weight': {0: 1, 1: 8.83488443...</td>\n",
       "    </tr>\n",
       "    <tr>\n",
       "      <th>1</th>\n",
       "      <td>DecisionTreeClassifier</td>\n",
       "      <td>0.698237</td>\n",
       "      <td>{'max_depth': 50, 'random_state': 12345}</td>\n",
       "    </tr>\n",
       "    <tr>\n",
       "      <th>2</th>\n",
       "      <td>CatBoostClassifier</td>\n",
       "      <td>0.606737</td>\n",
       "      <td>{'depth': 5, 'iterations': 10, 'verbose': False}</td>\n",
       "    </tr>\n",
       "  </tbody>\n",
       "</table>\n",
       "</div>"
      ],
      "text/plain": [
       "                   Модели  Значение метрики F1  \\\n",
       "0      LogisticRegression             0.761432   \n",
       "1  DecisionTreeClassifier             0.698237   \n",
       "2      CatBoostClassifier             0.606737   \n",
       "\n",
       "                                    Параметры модели  \n",
       "0  {'C': 10, 'class_weight': {0: 1, 1: 8.83488443...  \n",
       "1           {'max_depth': 50, 'random_state': 12345}  \n",
       "2   {'depth': 5, 'iterations': 10, 'verbose': False}  "
      ]
     },
     "metadata": {},
     "output_type": "display_data"
    },
    {
     "name": "stdout",
     "output_type": "stream",
     "text": [
      "Лучший результат у модели LogisticRegression со значением F1: 0.761.\n",
      "\n",
      "Лучшие параметры модели 0.7614317019722425:\n"
     ]
    },
    {
     "data": {
      "text/plain": [
       "{'C': 10, 'class_weight': {0: 1, 1: 8.834884437596301}, 'solver': 'lbfgs'}"
      ]
     },
     "metadata": {},
     "output_type": "display_data"
    }
   ],
   "source": [
    "# создаем таблицу, в которую занесем значения AUC-ROC различных лучших моделей\n",
    "final_score_table = pd.DataFrame({'Модели': ['LogisticRegression', 'DecisionTreeClassifier','CatBoostClassifier'],\n",
    "                                  'Значение метрики F1': [f1_log_valid, f1_tree_valid, f1_cat_valid],\n",
    "                                  'Параметры модели':    [log_best_params, \n",
    "                                                          tree_best_params, \n",
    "                                                          cat_best_params]}).sort_values(\n",
    "                               by='Значение метрики F1', ascending=False).reset_index(drop=True)\n",
    "\n",
    "# обозначим лучший результат и сохраним его в переменную\n",
    "best_f1_result = final_score_table['Значение метрики F1'].max()\n",
    "\n",
    "# выведем таблицу и вывод на экран\n",
    "display('Таблица значений F1 для различных моделей', final_score_table)\n",
    "print('Лучший результат у модели {} со значением F1: {}.\\n\\nЛучшие параметры модели {}:'.\n",
    "      format(final_score_table['Модели'][0], round(best_f1_result, 3), \n",
    "             final_score_table['Значение метрики F1'][0]))\n",
    "display(final_score_table['Параметры модели'][0])"
   ]
  },
  {
   "cell_type": "markdown",
   "metadata": {},
   "source": [
    "Теперь проверим значение метрики лучшей модели на тестовой выборке, а также дополним другими метриками `Precision`, `Recall`, `Accuracy`."
   ]
  },
  {
   "cell_type": "code",
   "execution_count": 91,
   "metadata": {
    "scrolled": true
   },
   "outputs": [],
   "source": [
    "best_model = eval(final_score_table['Модели'][0])(**final_score_table['Параметры модели'][0])\n",
    "best_model.fit(features_train, target_train)\n",
    "predict_test = best_model.predict(features_test)\n",
    "f1_best_model = f1_score(target_test, predict_test)\n",
    "\n",
    "probabilities_test = best_model.predict_proba(features_test)\n",
    "probabilities_one_test = probabilities_test[:, 1]\n",
    "\n",
    "precision_best_model = precision_score(target_test, predict_test)\n",
    "recall_best_model = recall_score(target_test, predict_test)\n",
    "accuracy_best_model = accuracy_score(target_test, predict_test)"
   ]
  },
  {
   "cell_type": "code",
   "execution_count": 92,
   "metadata": {},
   "outputs": [
    {
     "data": {
      "text/html": [
       "<div>\n",
       "<style scoped>\n",
       "    .dataframe tbody tr th:only-of-type {\n",
       "        vertical-align: middle;\n",
       "    }\n",
       "\n",
       "    .dataframe tbody tr th {\n",
       "        vertical-align: top;\n",
       "    }\n",
       "\n",
       "    .dataframe thead th {\n",
       "        text-align: right;\n",
       "    }\n",
       "</style>\n",
       "<table border=\"1\" class=\"dataframe\">\n",
       "  <thead>\n",
       "    <tr style=\"text-align: right;\">\n",
       "      <th></th>\n",
       "      <th>0</th>\n",
       "      <th>1</th>\n",
       "      <th>2</th>\n",
       "      <th>3</th>\n",
       "    </tr>\n",
       "  </thead>\n",
       "  <tbody>\n",
       "    <tr>\n",
       "      <th>Метрики</th>\n",
       "      <td>Precision</td>\n",
       "      <td>Recall</td>\n",
       "      <td>Accuracy</td>\n",
       "      <td>F1</td>\n",
       "    </tr>\n",
       "    <tr>\n",
       "      <th>Значение метрик</th>\n",
       "      <td>0.727273</td>\n",
       "      <td>0.802492</td>\n",
       "      <td>0.949867</td>\n",
       "      <td>0.763033</td>\n",
       "    </tr>\n",
       "  </tbody>\n",
       "</table>\n",
       "</div>"
      ],
      "text/plain": [
       "                         0         1         2         3\n",
       "Метрики          Precision    Recall  Accuracy        F1\n",
       "Значение метрик   0.727273  0.802492  0.949867  0.763033"
      ]
     },
     "execution_count": 92,
     "metadata": {},
     "output_type": "execute_result"
    }
   ],
   "source": [
    "final_metric_table = pd.DataFrame({'Метрики': ['Precision', 'Recall','Accuracy', 'F1'],\n",
    "                                  'Значение метрик': [precision_best_model, \n",
    "                                                      recall_best_model, \n",
    "                                                      accuracy_best_model, \n",
    "                                                      f1_best_model]}).T\n",
    "final_metric_table"
   ]
  },
  {
   "cell_type": "markdown",
   "metadata": {},
   "source": [
    "Попробуем отыскать пороги и соответствующее изменение знчения всех метрик"
   ]
  },
  {
   "cell_type": "code",
   "execution_count": 64,
   "metadata": {},
   "outputs": [
    {
     "name": "stdout",
     "output_type": "stream",
     "text": [
      "Threshold = 0.00 | Precision  = 0.101, Recall = 1.000, F1 = 0.183\n",
      "Threshold = 0.02 | Precision  = 0.235, Recall = 1.000, F1 = 0.381\n",
      "Threshold = 0.04 | Precision  = 0.325, Recall = 1.000, F1 = 0.491\n",
      "Threshold = 0.06 | Precision  = 0.403, Recall = 0.999, F1 = 0.574\n",
      "Threshold = 0.08 | Precision  = 0.470, Recall = 0.999, F1 = 0.639\n",
      "Threshold = 0.10 | Precision  = 0.520, Recall = 0.999, F1 = 0.684\n",
      "Threshold = 0.12 | Precision  = 0.565, Recall = 0.999, F1 = 0.722\n",
      "Threshold = 0.14 | Precision  = 0.605, Recall = 0.999, F1 = 0.754\n",
      "Threshold = 0.16 | Precision  = 0.642, Recall = 0.999, F1 = 0.782\n",
      "Threshold = 0.18 | Precision  = 0.675, Recall = 0.999, F1 = 0.806\n",
      "Threshold = 0.20 | Precision  = 0.706, Recall = 0.999, F1 = 0.827\n",
      "Threshold = 0.22 | Precision  = 0.732, Recall = 0.999, F1 = 0.845\n",
      "Threshold = 0.24 | Precision  = 0.757, Recall = 0.999, F1 = 0.861\n",
      "Threshold = 0.26 | Precision  = 0.781, Recall = 0.999, F1 = 0.877\n",
      "Threshold = 0.28 | Precision  = 0.799, Recall = 0.999, F1 = 0.888\n",
      "Threshold = 0.30 | Precision  = 0.815, Recall = 0.999, F1 = 0.897\n",
      "Threshold = 0.32 | Precision  = 0.829, Recall = 0.999, F1 = 0.906\n",
      "Threshold = 0.34 | Precision  = 0.845, Recall = 0.999, F1 = 0.915\n",
      "Threshold = 0.36 | Precision  = 0.858, Recall = 0.999, F1 = 0.923\n",
      "Threshold = 0.38 | Precision  = 0.871, Recall = 0.999, F1 = 0.930\n",
      "Threshold = 0.40 | Precision  = 0.882, Recall = 0.999, F1 = 0.937\n",
      "Threshold = 0.42 | Precision  = 0.893, Recall = 0.999, F1 = 0.943\n",
      "Threshold = 0.44 | Precision  = 0.898, Recall = 0.999, F1 = 0.946\n",
      "Threshold = 0.46 | Precision  = 0.905, Recall = 0.998, F1 = 0.949\n",
      "Threshold = 0.48 | Precision  = 0.914, Recall = 0.998, F1 = 0.955\n",
      "Threshold = 0.50 | Precision  = 0.922, Recall = 0.998, F1 = 0.959\n",
      "Threshold = 0.52 | Precision  = 0.928, Recall = 0.997, F1 = 0.962\n",
      "Threshold = 0.54 | Precision  = 0.932, Recall = 0.997, F1 = 0.963\n",
      "Threshold = 0.56 | Precision  = 0.939, Recall = 0.997, F1 = 0.967\n",
      "Threshold = 0.58 | Precision  = 0.946, Recall = 0.997, F1 = 0.971\n",
      "Threshold = 0.60 | Precision  = 0.950, Recall = 0.996, F1 = 0.972\n",
      "Threshold = 0.62 | Precision  = 0.954, Recall = 0.996, F1 = 0.975\n",
      "Threshold = 0.64 | Precision  = 0.957, Recall = 0.996, F1 = 0.976\n",
      "Threshold = 0.66 | Precision  = 0.959, Recall = 0.995, F1 = 0.977\n",
      "Threshold = 0.68 | Precision  = 0.962, Recall = 0.994, F1 = 0.978\n",
      "Threshold = 0.70 | Precision  = 0.966, Recall = 0.993, F1 = 0.979\n",
      "Threshold = 0.72 | Precision  = 0.967, Recall = 0.992, F1 = 0.979\n",
      "Threshold = 0.74 | Precision  = 0.971, Recall = 0.990, F1 = 0.980\n",
      "Threshold = 0.76 | Precision  = 0.972, Recall = 0.989, F1 = 0.980\n",
      "Threshold = 0.78 | Precision  = 0.975, Recall = 0.985, F1 = 0.980\n",
      "Threshold = 0.80 | Precision  = 0.979, Recall = 0.979, F1 = 0.979\n",
      "Threshold = 0.82 | Precision  = 0.981, Recall = 0.972, F1 = 0.976\n",
      "Threshold = 0.84 | Precision  = 0.983, Recall = 0.963, F1 = 0.973\n",
      "Threshold = 0.86 | Precision  = 0.986, Recall = 0.951, F1 = 0.968\n",
      "Threshold = 0.88 | Precision  = 0.988, Recall = 0.921, F1 = 0.953\n",
      "Threshold = 0.90 | Precision  = 0.990, Recall = 0.883, F1 = 0.933\n",
      "Threshold = 0.92 | Precision  = 0.989, Recall = 0.815, F1 = 0.894\n",
      "Threshold = 0.94 | Precision  = 0.991, Recall = 0.729, F1 = 0.840\n",
      "Threshold = 0.96 | Precision  = 0.992, Recall = 0.626, F1 = 0.768\n",
      "Threshold = 0.98 | Precision  = 0.994, Recall = 0.510, F1 = 0.674\n"
     ]
    }
   ],
   "source": [
    "best_model.fit(features_test, target_test)\n",
    "predict_test = best_model.predict(features_test)\n",
    "probabilities_test = best_model.predict_proba(features_test)\n",
    "probabilities_one_test = probabilities_test[:, 1]\n",
    "\n",
    "for threshold in np.arange(0, 1, 0.02):\n",
    "    predict_test = probabilities_one_test > threshold\n",
    "    precision = precision_score(target_test, predict_test) \n",
    "    recall = recall_score(target_test, predict_test)\n",
    "    f1 = f1_score(target_test, predict_test)\n",
    "    print(\"Threshold = {:.2f} | Precision  = {:.3f}, Recall = {:.3f}, F1 = {:.3f}\".format(\n",
    "        threshold, precision, recall, f1))"
   ]
  },
  {
   "cell_type": "code",
   "execution_count": 82,
   "metadata": {},
   "outputs": [
    {
     "data": {
      "image/png": "[encoded data removed]",
      "text/plain": [
       "<Figure size 864x432 with 1 Axes>"
      ]
     },
     "metadata": {
      "needs_background": "light"
     },
     "output_type": "display_data"
    }
   ],
   "source": [
    "precision, recall, thresholds = precision_recall_curve(target_test, probabilities_test[:, 1])\n",
    "\n",
    "plt.figure(figsize=(12, 6))\n",
    "plt.step(recall, precision)\n",
    "plt.grid()\n",
    "plt.xlabel('Recall')\n",
    "plt.ylabel('Precision')\n",
    "plt.title('Кривая Precision-Recall')\n",
    "plt.show() \n"
   ]
  },
  {
   "cell_type": "markdown",
   "metadata": {},
   "source": [
    "## Выводы"
   ]
  },
  {
   "cell_type": "markdown",
   "metadata": {},
   "source": [
    "В ходе работы было выполнено:\n",
    "- считывание первоначальных данных;\n",
    "- первичный осмотр данных;\n",
    "- очистка комментариев в соответствии со словарем английских слов и выражений;\n",
    "- лемматизация слов;\n",
    "- была проведеня балансировка признfков;\n",
    "- произведено разделение на тренировочную, валидационную и тестовую выборку;\n",
    "- обучены различные модели машинного обучения;\n",
    "- результы работы различных моделей на валидационных выборка вынесены в отдельную таблицу;\n",
    "- выбрана лучшая модель обучения и произведено тестирование модели на тестовой выборке.\n",
    "\n",
    "В результате выяснилось, что лучшей моделью обучения оказалась модель `LogisticRegression` со значением метрики F1 равнй 0.763, что соответствует минимальным требованиям условий задачи."
   ]
  }
 ],
 "metadata": {
  "ExecuteTimeLog": [
   {
    "duration": 10,
    "start_time": "2022-05-01T10:49:55.714Z"
   },
   {
    "duration": 49,
    "start_time": "2022-05-01T10:49:57.249Z"
   },
   {
    "duration": 6,
    "start_time": "2022-05-01T10:49:58.195Z"
   },
   {
    "duration": 0,
    "start_time": "2022-05-01T10:50:12.851Z"
   },
   {
    "duration": 0,
    "start_time": "2022-05-01T10:50:12.851Z"
   },
   {
    "duration": 0,
    "start_time": "2022-05-01T11:01:52.103Z"
   },
   {
    "duration": 0,
    "start_time": "2022-05-01T11:01:52.105Z"
   },
   {
    "duration": 0,
    "start_time": "2022-05-01T11:01:52.106Z"
   },
   {
    "duration": 0,
    "start_time": "2022-05-01T11:01:52.108Z"
   },
   {
    "duration": 0,
    "start_time": "2022-05-01T11:01:52.109Z"
   },
   {
    "duration": 0,
    "start_time": "2022-05-01T11:01:52.110Z"
   },
   {
    "duration": 430034,
    "start_time": "2022-05-01T11:01:56.366Z"
   },
   {
    "duration": 308918,
    "start_time": "2022-05-01T11:11:21.480Z"
   },
   {
    "duration": 6,
    "start_time": "2022-05-01T11:16:30.401Z"
   },
   {
    "duration": 14,
    "start_time": "2022-05-01T11:16:30.409Z"
   },
   {
    "duration": 11,
    "start_time": "2022-05-01T11:16:30.427Z"
   },
   {
    "duration": 840,
    "start_time": "2022-05-01T11:16:30.440Z"
   },
   {
    "duration": 1309,
    "start_time": "2022-05-01T11:16:31.282Z"
   },
   {
    "duration": 146,
    "start_time": "2022-05-01T11:25:54.147Z"
   },
   {
    "duration": 876,
    "start_time": "2022-05-01T11:25:54.901Z"
   },
   {
    "duration": 862,
    "start_time": "2022-05-01T11:25:55.780Z"
   },
   {
    "duration": 163,
    "start_time": "2022-05-01T11:26:16.139Z"
   },
   {
    "duration": 7,
    "start_time": "2022-05-01T11:26:59.824Z"
   },
   {
    "duration": 879,
    "start_time": "2022-05-01T11:27:01.065Z"
   },
   {
    "duration": 918,
    "start_time": "2022-05-01T11:27:01.947Z"
   },
   {
    "duration": 13,
    "start_time": "2022-05-01T11:27:46.772Z"
   },
   {
    "duration": 820,
    "start_time": "2022-05-01T11:27:47.831Z"
   },
   {
    "duration": 600,
    "start_time": "2022-05-01T11:27:48.655Z"
   },
   {
    "duration": 159,
    "start_time": "2022-05-01T11:28:41.043Z"
   },
   {
    "duration": 6,
    "start_time": "2022-05-01T11:29:00.687Z"
   },
   {
    "duration": 813,
    "start_time": "2022-05-01T11:29:01.557Z"
   },
   {
    "duration": 889,
    "start_time": "2022-05-01T11:29:02.374Z"
   },
   {
    "duration": 7,
    "start_time": "2022-05-01T11:30:09.064Z"
   },
   {
    "duration": 821,
    "start_time": "2022-05-01T11:30:10.009Z"
   },
   {
    "duration": 883,
    "start_time": "2022-05-01T11:30:10.834Z"
   },
   {
    "duration": 9,
    "start_time": "2022-05-01T11:31:49.220Z"
   },
   {
    "duration": 7,
    "start_time": "2022-05-01T11:32:03.967Z"
   },
   {
    "duration": 11,
    "start_time": "2022-05-01T11:34:08.613Z"
   },
   {
    "duration": 12,
    "start_time": "2022-05-01T11:34:11.181Z"
   },
   {
    "duration": 3,
    "start_time": "2022-05-01T11:34:13.758Z"
   },
   {
    "duration": 36,
    "start_time": "2022-05-01T11:34:16.249Z"
   },
   {
    "duration": 3150,
    "start_time": "2022-05-01T11:34:28.506Z"
   },
   {
    "duration": 582,
    "start_time": "2022-05-01T11:35:20.297Z"
   },
   {
    "duration": 3,
    "start_time": "2022-05-01T11:35:31.129Z"
   },
   {
    "duration": 43903,
    "start_time": "2022-05-01T11:35:32.620Z"
   },
   {
    "duration": 0,
    "start_time": "2022-05-01T11:36:16.528Z"
   },
   {
    "duration": 94759,
    "start_time": "2022-05-01T11:36:28.654Z"
   },
   {
    "duration": 5,
    "start_time": "2022-05-01T11:38:03.416Z"
   },
   {
    "duration": 23,
    "start_time": "2022-05-01T11:38:03.423Z"
   },
   {
    "duration": 8,
    "start_time": "2022-05-01T11:38:03.448Z"
   },
   {
    "duration": 872,
    "start_time": "2022-05-01T11:38:03.458Z"
   },
   {
    "duration": 852,
    "start_time": "2022-05-01T11:38:04.331Z"
   },
   {
    "duration": 14,
    "start_time": "2022-05-01T11:38:05.185Z"
   },
   {
    "duration": 13,
    "start_time": "2022-05-01T11:38:05.203Z"
   },
   {
    "duration": 3,
    "start_time": "2022-05-01T11:38:05.218Z"
   },
   {
    "duration": 3293,
    "start_time": "2022-05-01T11:38:05.222Z"
   },
   {
    "duration": 479,
    "start_time": "2022-05-01T11:38:08.517Z"
   },
   {
    "duration": 5,
    "start_time": "2022-05-01T11:38:08.998Z"
   },
   {
    "duration": 2397334,
    "start_time": "2022-05-01T11:38:09.005Z"
   },
   {
    "duration": 63,
    "start_time": "2022-05-01T12:18:06.341Z"
   },
   {
    "duration": 14,
    "start_time": "2022-05-01T12:18:18.119Z"
   }
  ],
  "kernelspec": {
   "display_name": "Python 3 (ipykernel)",
   "language": "python",
   "name": "python3"
  },
  "language_info": {
   "codemirror_mode": {
    "name": "ipython",
    "version": 3
   },
   "file_extension": ".py",
   "mimetype": "text/x-python",
   "name": "python",
   "nbconvert_exporter": "python",
   "pygments_lexer": "ipython3",
   "version": "3.9.13"
  },
  "toc": {
   "base_numbering": 1,
   "nav_menu": {},
   "number_sections": true,
   "sideBar": true,
   "skip_h1_title": true,
   "title_cell": "Содержание",
   "title_sidebar": "Contents",
   "toc_cell": true,
   "toc_position": {
    "height": "calc(100% - 180px)",
    "left": "10px",
    "top": "150px",
    "width": "302.391px"
   },
   "toc_section_display": true,
   "toc_window_display": false
  }
 },
 "nbformat": 4,
 "nbformat_minor": 2
}
