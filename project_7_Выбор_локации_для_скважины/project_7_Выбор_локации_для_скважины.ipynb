{
 "cells": [
  {
   "cell_type": "markdown",
   "metadata": {},
   "source": [
    "# Выбор локации для скважины"
   ]
  },
  {
   "cell_type": "markdown",
   "metadata": {},
   "source": [
    "# Подготовка"
   ]
  },
  {
   "cell_type": "markdown",
   "metadata": {},
   "source": [
    "Для начала импортируем необходимые для работы библиотеки"
   ]
  },
  {
   "cell_type": "code",
   "execution_count": 1,
   "metadata": {},
   "outputs": [],
   "source": [
    "import pandas as pd\n",
    "from sklearn.preprocessing import MinMaxScaler\n",
    "from sklearn.model_selection import train_test_split\n",
    "from sklearn.linear_model import LinearRegression\n",
    "from sklearn.metrics import mean_squared_error\n",
    "import numpy as np\n",
    "from collections import defaultdict\n",
    "import matplotlib.pyplot as plt\n",
    "import seaborn as sns"
   ]
  },
  {
   "cell_type": "markdown",
   "metadata": {},
   "source": [
    "Создадим для удобства константы, которые будут общими и неизменяемыми для всего кода"
   ]
  },
  {
   "cell_type": "code",
   "execution_count": 2,
   "metadata": {},
   "outputs": [],
   "source": [
    "RS = 12345 # значение random_state для моделей обучения и разбиени выборок\n",
    "STATE = np.random.RandomState(RS) # значение boostrep\n",
    "\n",
    "ONE_BARREL_COST = 450 # стоимость одного барреля сырья\n",
    "ONE_GOOD_PROFIT = 450e3 # стоимость единицы продукта\n",
    "BUDGET = 10e9 # бюджет на разработу скважин в регионе\n",
    "WELL_COUNTS = 500 # количество скважин для исследования региона\n",
    "BEST_WELL_COUNTS = 200 # количество лучших скважин для разработки\n",
    "CONF_INTERVAL = .95 # доверительный интервал\n",
    "LOSS_PROBABILITY = .025 # процент вероятности убытков"
   ]
  },
  {
   "cell_type": "markdown",
   "metadata": {},
   "source": [
    "## Загрузка и подготовка данных"
   ]
  },
  {
   "cell_type": "markdown",
   "metadata": {},
   "source": [
    "Для начала и для простоты пропишем функцию для получения первичных данных о таблице"
   ]
  },
  {
   "cell_type": "code",
   "execution_count": 3,
   "metadata": {},
   "outputs": [],
   "source": [
    "def first_step_info(dataframe):\n",
    "    column = dataframe.columns.values.tolist() # список наименований столбцов таблицы\n",
    "    print('Общая информация о таблице:\\n')\n",
    "    dataframe.info() # общая иноформация о таблице\n",
    "    print('\\nВнешний вид таблицы:')\n",
    "    display(dataframe.head()) # внешний вид первых 5 строк таблицы\n",
    "\n",
    "    # далее выводим все интересующие нас особенности таблицы, соответствнно, обозначенные в функции print()\n",
    "    print('Столбцы таблицы: {}\\n'.format(column),\n",
    "          '\\n\\nОбщее количество уникальных значений столбцов {}:\\n\\n{}'.\n",
    "          format(column, dataframe.nunique()),\n",
    "          '\\n\\nКоличество пропущенных значений столбцов {}:\\n\\n{}'.\n",
    "          format(column, dataframe.isna().sum()))\n",
    "    \n",
    "    for i in column: # создадим цикл для перебора значений столбцов для отдельного примнения к ним любой функции\n",
    "          print('\\n\\nКоличество явных дубликатов столбца:\\n{}\\t   {}'.format(i, dataframe[i].duplicated().sum()))\n",
    "    \n",
    "    print('\\n\\nТаблица корреляций значений столбцов {}:\\n\\n{}'.format(column, dataframe.corr()), '\\n',\n",
    "          '\\n\\nТаблица распределений значений столбцов {}:\\n\\n{}'.format(column, dataframe.describe()), '\\n')\n",
    "    print('Гистограммы распределений значений столбцов {}'.format(column))\n",
    "    dataframe.hist(bins=50, figsize=(15, 7), edgecolor = 'k')"
   ]
  },
  {
   "cell_type": "markdown",
   "metadata": {},
   "source": [
    "Можно приступить к знакомству с каджой таблицей отдельно"
   ]
  },
  {
   "cell_type": "code",
   "execution_count": 4,
   "metadata": {},
   "outputs": [],
   "source": [
    "gd0 = pd.read_csv('/datasets/geo_data_0.csv')"
   ]
  },
  {
   "cell_type": "code",
   "execution_count": 5,
   "metadata": {
    "scrolled": true
   },
   "outputs": [
    {
     "name": "stdout",
     "output_type": "stream",
     "text": [
      "Общая информация о таблице:\n",
      "\n",
      "<class 'pandas.core.frame.DataFrame'>\n",
      "RangeIndex: 100000 entries, 0 to 99999\n",
      "Data columns (total 5 columns):\n",
      "id         100000 non-null object\n",
      "f0         100000 non-null float64\n",
      "f1         100000 non-null float64\n",
      "f2         100000 non-null float64\n",
      "product    100000 non-null float64\n",
      "dtypes: float64(4), object(1)\n",
      "memory usage: 3.8+ MB\n",
      "\n",
      "Внешний вид таблицы:\n"
     ]
    },
    {
     "data": {
      "text/html": [
       "<div>\n",
       "<style scoped>\n",
       "    .dataframe tbody tr th:only-of-type {\n",
       "        vertical-align: middle;\n",
       "    }\n",
       "\n",
       "    .dataframe tbody tr th {\n",
       "        vertical-align: top;\n",
       "    }\n",
       "\n",
       "    .dataframe thead th {\n",
       "        text-align: right;\n",
       "    }\n",
       "</style>\n",
       "<table border=\"1\" class=\"dataframe\">\n",
       "  <thead>\n",
       "    <tr style=\"text-align: right;\">\n",
       "      <th></th>\n",
       "      <th>id</th>\n",
       "      <th>f0</th>\n",
       "      <th>f1</th>\n",
       "      <th>f2</th>\n",
       "      <th>product</th>\n",
       "    </tr>\n",
       "  </thead>\n",
       "  <tbody>\n",
       "    <tr>\n",
       "      <td>0</td>\n",
       "      <td>txEyH</td>\n",
       "      <td>0.705745</td>\n",
       "      <td>-0.497823</td>\n",
       "      <td>1.221170</td>\n",
       "      <td>105.280062</td>\n",
       "    </tr>\n",
       "    <tr>\n",
       "      <td>1</td>\n",
       "      <td>2acmU</td>\n",
       "      <td>1.334711</td>\n",
       "      <td>-0.340164</td>\n",
       "      <td>4.365080</td>\n",
       "      <td>73.037750</td>\n",
       "    </tr>\n",
       "    <tr>\n",
       "      <td>2</td>\n",
       "      <td>409Wp</td>\n",
       "      <td>1.022732</td>\n",
       "      <td>0.151990</td>\n",
       "      <td>1.419926</td>\n",
       "      <td>85.265647</td>\n",
       "    </tr>\n",
       "    <tr>\n",
       "      <td>3</td>\n",
       "      <td>iJLyR</td>\n",
       "      <td>-0.032172</td>\n",
       "      <td>0.139033</td>\n",
       "      <td>2.978566</td>\n",
       "      <td>168.620776</td>\n",
       "    </tr>\n",
       "    <tr>\n",
       "      <td>4</td>\n",
       "      <td>Xdl7t</td>\n",
       "      <td>1.988431</td>\n",
       "      <td>0.155413</td>\n",
       "      <td>4.751769</td>\n",
       "      <td>154.036647</td>\n",
       "    </tr>\n",
       "  </tbody>\n",
       "</table>\n",
       "</div>"
      ],
      "text/plain": [
       "      id        f0        f1        f2     product\n",
       "0  txEyH  0.705745 -0.497823  1.221170  105.280062\n",
       "1  2acmU  1.334711 -0.340164  4.365080   73.037750\n",
       "2  409Wp  1.022732  0.151990  1.419926   85.265647\n",
       "3  iJLyR -0.032172  0.139033  2.978566  168.620776\n",
       "4  Xdl7t  1.988431  0.155413  4.751769  154.036647"
      ]
     },
     "metadata": {},
     "output_type": "display_data"
    },
    {
     "name": "stdout",
     "output_type": "stream",
     "text": [
      "Столбцы таблицы: ['id', 'f0', 'f1', 'f2', 'product']\n",
      " \n",
      "\n",
      "Общее количество уникальных значений столбцов ['id', 'f0', 'f1', 'f2', 'product']:\n",
      "\n",
      "id          99990\n",
      "f0         100000\n",
      "f1         100000\n",
      "f2         100000\n",
      "product    100000\n",
      "dtype: int64 \n",
      "\n",
      "Количество пропущенных значений столбцов ['id', 'f0', 'f1', 'f2', 'product']:\n",
      "\n",
      "id         0\n",
      "f0         0\n",
      "f1         0\n",
      "f2         0\n",
      "product    0\n",
      "dtype: int64\n",
      "\n",
      "\n",
      "Количество явных дубликатов столбца:\n",
      "id\t   10\n",
      "\n",
      "\n",
      "Количество явных дубликатов столбца:\n",
      "f0\t   0\n",
      "\n",
      "\n",
      "Количество явных дубликатов столбца:\n",
      "f1\t   0\n",
      "\n",
      "\n",
      "Количество явных дубликатов столбца:\n",
      "f2\t   0\n",
      "\n",
      "\n",
      "Количество явных дубликатов столбца:\n",
      "product\t   0\n",
      "\n",
      "\n",
      "Таблица корреляций значений столбцов ['id', 'f0', 'f1', 'f2', 'product']:\n",
      "\n",
      "               f0        f1        f2   product\n",
      "f0       1.000000 -0.440723 -0.003153  0.143536\n",
      "f1      -0.440723  1.000000  0.001724 -0.192356\n",
      "f2      -0.003153  0.001724  1.000000  0.483663\n",
      "product  0.143536 -0.192356  0.483663  1.000000 \n",
      " \n",
      "\n",
      "Таблица распределений значений столбцов ['id', 'f0', 'f1', 'f2', 'product']:\n",
      "\n",
      "                  f0             f1             f2        product\n",
      "count  100000.000000  100000.000000  100000.000000  100000.000000\n",
      "mean        0.500419       0.250143       2.502647      92.500000\n",
      "std         0.871832       0.504433       3.248248      44.288691\n",
      "min        -1.408605      -0.848218     -12.088328       0.000000\n",
      "25%        -0.072580      -0.200881       0.287748      56.497507\n",
      "50%         0.502360       0.250252       2.515969      91.849972\n",
      "75%         1.073581       0.700646       4.715088     128.564089\n",
      "max         2.362331       1.343769      16.003790     185.364347 \n",
      "\n",
      "Гистограммы распределений значений столбцов ['id', 'f0', 'f1', 'f2', 'product']\n"
     ]
    },
    {
     "data": {
      "image/png": "[encoded data removed]",
      "text/plain": [
       "<Figure size 1080x504 with 4 Axes>"
      ]
     },
     "metadata": {
      "needs_background": "light"
     },
     "output_type": "display_data"
    }
   ],
   "source": [
    "first_step_info(gd0) # применяем нашу функцию"
   ]
  },
  {
   "cell_type": "markdown",
   "metadata": {},
   "source": [
    "**Промежуточные выводы**:  первая таблица состоит из 100 000 строк и 5 столбцов. В ней содержатся столбцы `id`, `f0`, `f1`, `f2`, `product`. Данные представленны типами object (`id`) и float (все остальные). Значения столбца `id` представляют собой случайный набор символов. По количеству уникальных значений столбца `id` можно отметить, что среди них имеются дубликаты названий (10 значений), что подтверждается далее. По таблице корреляций можно отметить некоторую связь столбца `f2` со стобцом `product`. По таблицам распределения и их гистограмам можно отметить отличающиеся от нормального распределения графики и значения."
   ]
  },
  {
   "cell_type": "code",
   "execution_count": 6,
   "metadata": {},
   "outputs": [],
   "source": [
    "gd1 = pd.read_csv('/datasets/geo_data_1.csv')"
   ]
  },
  {
   "cell_type": "code",
   "execution_count": 7,
   "metadata": {
    "scrolled": true
   },
   "outputs": [
    {
     "name": "stdout",
     "output_type": "stream",
     "text": [
      "Общая информация о таблице:\n",
      "\n",
      "<class 'pandas.core.frame.DataFrame'>\n",
      "RangeIndex: 100000 entries, 0 to 99999\n",
      "Data columns (total 5 columns):\n",
      "id         100000 non-null object\n",
      "f0         100000 non-null float64\n",
      "f1         100000 non-null float64\n",
      "f2         100000 non-null float64\n",
      "product    100000 non-null float64\n",
      "dtypes: float64(4), object(1)\n",
      "memory usage: 3.8+ MB\n",
      "\n",
      "Внешний вид таблицы:\n"
     ]
    },
    {
     "data": {
      "text/html": [
       "<div>\n",
       "<style scoped>\n",
       "    .dataframe tbody tr th:only-of-type {\n",
       "        vertical-align: middle;\n",
       "    }\n",
       "\n",
       "    .dataframe tbody tr th {\n",
       "        vertical-align: top;\n",
       "    }\n",
       "\n",
       "    .dataframe thead th {\n",
       "        text-align: right;\n",
       "    }\n",
       "</style>\n",
       "<table border=\"1\" class=\"dataframe\">\n",
       "  <thead>\n",
       "    <tr style=\"text-align: right;\">\n",
       "      <th></th>\n",
       "      <th>id</th>\n",
       "      <th>f0</th>\n",
       "      <th>f1</th>\n",
       "      <th>f2</th>\n",
       "      <th>product</th>\n",
       "    </tr>\n",
       "  </thead>\n",
       "  <tbody>\n",
       "    <tr>\n",
       "      <td>0</td>\n",
       "      <td>kBEdx</td>\n",
       "      <td>-15.001348</td>\n",
       "      <td>-8.276000</td>\n",
       "      <td>-0.005876</td>\n",
       "      <td>3.179103</td>\n",
       "    </tr>\n",
       "    <tr>\n",
       "      <td>1</td>\n",
       "      <td>62mP7</td>\n",
       "      <td>14.272088</td>\n",
       "      <td>-3.475083</td>\n",
       "      <td>0.999183</td>\n",
       "      <td>26.953261</td>\n",
       "    </tr>\n",
       "    <tr>\n",
       "      <td>2</td>\n",
       "      <td>vyE1P</td>\n",
       "      <td>6.263187</td>\n",
       "      <td>-5.948386</td>\n",
       "      <td>5.001160</td>\n",
       "      <td>134.766305</td>\n",
       "    </tr>\n",
       "    <tr>\n",
       "      <td>3</td>\n",
       "      <td>KcrkZ</td>\n",
       "      <td>-13.081196</td>\n",
       "      <td>-11.506057</td>\n",
       "      <td>4.999415</td>\n",
       "      <td>137.945408</td>\n",
       "    </tr>\n",
       "    <tr>\n",
       "      <td>4</td>\n",
       "      <td>AHL4O</td>\n",
       "      <td>12.702195</td>\n",
       "      <td>-8.147433</td>\n",
       "      <td>5.004363</td>\n",
       "      <td>134.766305</td>\n",
       "    </tr>\n",
       "  </tbody>\n",
       "</table>\n",
       "</div>"
      ],
      "text/plain": [
       "      id         f0         f1        f2     product\n",
       "0  kBEdx -15.001348  -8.276000 -0.005876    3.179103\n",
       "1  62mP7  14.272088  -3.475083  0.999183   26.953261\n",
       "2  vyE1P   6.263187  -5.948386  5.001160  134.766305\n",
       "3  KcrkZ -13.081196 -11.506057  4.999415  137.945408\n",
       "4  AHL4O  12.702195  -8.147433  5.004363  134.766305"
      ]
     },
     "metadata": {},
     "output_type": "display_data"
    },
    {
     "name": "stdout",
     "output_type": "stream",
     "text": [
      "Столбцы таблицы: ['id', 'f0', 'f1', 'f2', 'product']\n",
      " \n",
      "\n",
      "Общее количество уникальных значений столбцов ['id', 'f0', 'f1', 'f2', 'product']:\n",
      "\n",
      "id          99996\n",
      "f0         100000\n",
      "f1         100000\n",
      "f2         100000\n",
      "product        12\n",
      "dtype: int64 \n",
      "\n",
      "Количество пропущенных значений столбцов ['id', 'f0', 'f1', 'f2', 'product']:\n",
      "\n",
      "id         0\n",
      "f0         0\n",
      "f1         0\n",
      "f2         0\n",
      "product    0\n",
      "dtype: int64\n",
      "\n",
      "\n",
      "Количество явных дубликатов столбца:\n",
      "id\t   4\n",
      "\n",
      "\n",
      "Количество явных дубликатов столбца:\n",
      "f0\t   0\n",
      "\n",
      "\n",
      "Количество явных дубликатов столбца:\n",
      "f1\t   0\n",
      "\n",
      "\n",
      "Количество явных дубликатов столбца:\n",
      "f2\t   0\n",
      "\n",
      "\n",
      "Количество явных дубликатов столбца:\n",
      "product\t   99988\n",
      "\n",
      "\n",
      "Таблица корреляций значений столбцов ['id', 'f0', 'f1', 'f2', 'product']:\n",
      "\n",
      "               f0        f1        f2   product\n",
      "f0       1.000000  0.182287 -0.001777 -0.030491\n",
      "f1       0.182287  1.000000 -0.002595 -0.010155\n",
      "f2      -0.001777 -0.002595  1.000000  0.999397\n",
      "product -0.030491 -0.010155  0.999397  1.000000 \n",
      " \n",
      "\n",
      "Таблица распределений значений столбцов ['id', 'f0', 'f1', 'f2', 'product']:\n",
      "\n",
      "                  f0             f1             f2        product\n",
      "count  100000.000000  100000.000000  100000.000000  100000.000000\n",
      "mean        1.141296      -4.796579       2.494541      68.825000\n",
      "std         8.965932       5.119872       1.703572      45.944423\n",
      "min       -31.609576     -26.358598      -0.018144       0.000000\n",
      "25%        -6.298551      -8.267985       1.000021      26.953261\n",
      "50%         1.153055      -4.813172       2.011479      57.085625\n",
      "75%         8.621015      -1.332816       3.999904     107.813044\n",
      "max        29.421755      18.734063       5.019721     137.945408 \n",
      "\n",
      "Гистограммы распределений значений столбцов ['id', 'f0', 'f1', 'f2', 'product']\n"
     ]
    },
    {
     "data": {
      "image/png": "[encoded data removed]",
      "text/plain": [
       "<Figure size 1080x504 with 4 Axes>"
      ]
     },
     "metadata": {
      "needs_background": "light"
     },
     "output_type": "display_data"
    }
   ],
   "source": [
    "first_step_info(gd1)"
   ]
  },
  {
   "cell_type": "markdown",
   "metadata": {},
   "source": [
    "**Промежуточные выводы**:  вторая таблица состоит из 100 000 строк и 5 столбцов. В ней содержатся столбцы `id`, `f0`, `f1`, `f2`, `product`. Данные представленны типами object (`id`) и float (все остальные). Значения столбца 'id' представляют собой случайный набор символов. По количеству уникальных значений столбца `id` можно отметить, что среди них имеются дубликаты названий (4 значения), что подтверждается далее. По таблице корреляций можно отметить прямую связь столбца `f2` со стобцом `product`. По таблицам распределения и их гистограмам можно отметить отличающиеся от нормального распределения графики и значения."
   ]
  },
  {
   "cell_type": "code",
   "execution_count": 8,
   "metadata": {},
   "outputs": [],
   "source": [
    "gd2 = pd.read_csv('/datasets/geo_data_2.csv')"
   ]
  },
  {
   "cell_type": "code",
   "execution_count": 9,
   "metadata": {
    "scrolled": true
   },
   "outputs": [
    {
     "name": "stdout",
     "output_type": "stream",
     "text": [
      "Общая информация о таблице:\n",
      "\n",
      "<class 'pandas.core.frame.DataFrame'>\n",
      "RangeIndex: 100000 entries, 0 to 99999\n",
      "Data columns (total 5 columns):\n",
      "id         100000 non-null object\n",
      "f0         100000 non-null float64\n",
      "f1         100000 non-null float64\n",
      "f2         100000 non-null float64\n",
      "product    100000 non-null float64\n",
      "dtypes: float64(4), object(1)\n",
      "memory usage: 3.8+ MB\n",
      "\n",
      "Внешний вид таблицы:\n"
     ]
    },
    {
     "data": {
      "text/html": [
       "<div>\n",
       "<style scoped>\n",
       "    .dataframe tbody tr th:only-of-type {\n",
       "        vertical-align: middle;\n",
       "    }\n",
       "\n",
       "    .dataframe tbody tr th {\n",
       "        vertical-align: top;\n",
       "    }\n",
       "\n",
       "    .dataframe thead th {\n",
       "        text-align: right;\n",
       "    }\n",
       "</style>\n",
       "<table border=\"1\" class=\"dataframe\">\n",
       "  <thead>\n",
       "    <tr style=\"text-align: right;\">\n",
       "      <th></th>\n",
       "      <th>id</th>\n",
       "      <th>f0</th>\n",
       "      <th>f1</th>\n",
       "      <th>f2</th>\n",
       "      <th>product</th>\n",
       "    </tr>\n",
       "  </thead>\n",
       "  <tbody>\n",
       "    <tr>\n",
       "      <td>0</td>\n",
       "      <td>fwXo0</td>\n",
       "      <td>-1.146987</td>\n",
       "      <td>0.963328</td>\n",
       "      <td>-0.828965</td>\n",
       "      <td>27.758673</td>\n",
       "    </tr>\n",
       "    <tr>\n",
       "      <td>1</td>\n",
       "      <td>WJtFt</td>\n",
       "      <td>0.262778</td>\n",
       "      <td>0.269839</td>\n",
       "      <td>-2.530187</td>\n",
       "      <td>56.069697</td>\n",
       "    </tr>\n",
       "    <tr>\n",
       "      <td>2</td>\n",
       "      <td>ovLUW</td>\n",
       "      <td>0.194587</td>\n",
       "      <td>0.289035</td>\n",
       "      <td>-5.586433</td>\n",
       "      <td>62.871910</td>\n",
       "    </tr>\n",
       "    <tr>\n",
       "      <td>3</td>\n",
       "      <td>q6cA6</td>\n",
       "      <td>2.236060</td>\n",
       "      <td>-0.553760</td>\n",
       "      <td>0.930038</td>\n",
       "      <td>114.572842</td>\n",
       "    </tr>\n",
       "    <tr>\n",
       "      <td>4</td>\n",
       "      <td>WPMUX</td>\n",
       "      <td>-0.515993</td>\n",
       "      <td>1.716266</td>\n",
       "      <td>5.899011</td>\n",
       "      <td>149.600746</td>\n",
       "    </tr>\n",
       "  </tbody>\n",
       "</table>\n",
       "</div>"
      ],
      "text/plain": [
       "      id        f0        f1        f2     product\n",
       "0  fwXo0 -1.146987  0.963328 -0.828965   27.758673\n",
       "1  WJtFt  0.262778  0.269839 -2.530187   56.069697\n",
       "2  ovLUW  0.194587  0.289035 -5.586433   62.871910\n",
       "3  q6cA6  2.236060 -0.553760  0.930038  114.572842\n",
       "4  WPMUX -0.515993  1.716266  5.899011  149.600746"
      ]
     },
     "metadata": {},
     "output_type": "display_data"
    },
    {
     "name": "stdout",
     "output_type": "stream",
     "text": [
      "Столбцы таблицы: ['id', 'f0', 'f1', 'f2', 'product']\n",
      " \n",
      "\n",
      "Общее количество уникальных значений столбцов ['id', 'f0', 'f1', 'f2', 'product']:\n",
      "\n",
      "id          99996\n",
      "f0         100000\n",
      "f1         100000\n",
      "f2         100000\n",
      "product    100000\n",
      "dtype: int64 \n",
      "\n",
      "Количество пропущенных значений столбцов ['id', 'f0', 'f1', 'f2', 'product']:\n",
      "\n",
      "id         0\n",
      "f0         0\n",
      "f1         0\n",
      "f2         0\n",
      "product    0\n",
      "dtype: int64\n",
      "\n",
      "\n",
      "Количество явных дубликатов столбца:\n",
      "id\t   4\n",
      "\n",
      "\n",
      "Количество явных дубликатов столбца:\n",
      "f0\t   0\n",
      "\n",
      "\n",
      "Количество явных дубликатов столбца:\n",
      "f1\t   0\n",
      "\n",
      "\n",
      "Количество явных дубликатов столбца:\n",
      "f2\t   0\n",
      "\n",
      "\n",
      "Количество явных дубликатов столбца:\n",
      "product\t   0\n",
      "\n",
      "\n",
      "Таблица корреляций значений столбцов ['id', 'f0', 'f1', 'f2', 'product']:\n",
      "\n",
      "               f0        f1        f2   product\n",
      "f0       1.000000  0.000528 -0.000448 -0.001987\n",
      "f1       0.000528  1.000000  0.000779 -0.001012\n",
      "f2      -0.000448  0.000779  1.000000  0.445871\n",
      "product -0.001987 -0.001012  0.445871  1.000000 \n",
      " \n",
      "\n",
      "Таблица распределений значений столбцов ['id', 'f0', 'f1', 'f2', 'product']:\n",
      "\n",
      "                  f0             f1             f2        product\n",
      "count  100000.000000  100000.000000  100000.000000  100000.000000\n",
      "mean        0.002023      -0.002081       2.495128      95.000000\n",
      "std         1.732045       1.730417       3.473445      44.749921\n",
      "min        -8.760004      -7.084020     -11.970335       0.000000\n",
      "25%        -1.162288      -1.174820       0.130359      59.450441\n",
      "50%         0.009424      -0.009482       2.484236      94.925613\n",
      "75%         1.158535       1.163678       4.858794     130.595027\n",
      "max         7.238262       7.844801      16.739402     190.029838 \n",
      "\n",
      "Гистограммы распределений значений столбцов ['id', 'f0', 'f1', 'f2', 'product']\n"
     ]
    },
    {
     "data": {
      "image/png": "[encoded data removed]",
      "text/plain": [
       "<Figure size 1080x504 with 4 Axes>"
      ]
     },
     "metadata": {
      "needs_background": "light"
     },
     "output_type": "display_data"
    }
   ],
   "source": [
    "first_step_info(gd2)"
   ]
  },
  {
   "cell_type": "markdown",
   "metadata": {},
   "source": [
    "**Промежуточные выводы**:  третья таблица также состоит из 100 000 строк и 5 столбцов. В ней содержатся столбцы `id`, `f0`, `f1`, `f2`, `product`. Данные представленны типами object (`id`) и float (все остальные). Значения столбца 'id' представляют собой случайный набор символов. По количеству уникальных значений столбца 'id' можно отметить, что среди них имеются дубликаты названий (4 значения), что подтверждается далее. По таблице корреляций можно отметить слабую, но все же более заметную связь столбца `f2` со стобцом `product`. По таблицам распределения и их гистограмам можно отметить преобладание нормального распределения для трех столбцов, кроме столбца `product`."
   ]
  },
  {
   "cell_type": "markdown",
   "metadata": {},
   "source": [
    "**Выводы**: на первый взгляд по таблицам видно, что есть дубликаты названий скважин в таблице, но строчки явно не дублируются - избавляться от них не стоит, явных пропусков не имеется, отсутствуют значения NaN. Помимо этого, видно, что имеется разброс значений в каждом столбце, что треубет применения масштабирования признаков в будущем."
   ]
  },
  {
   "cell_type": "markdown",
   "metadata": {},
   "source": [
    "## Обучение и проверка модели"
   ]
  },
  {
   "cell_type": "markdown",
   "metadata": {},
   "source": [
    "Перед применением масштабирования данных, необходимо создать фильтрованную выборку."
   ]
  },
  {
   "cell_type": "code",
   "execution_count": 10,
   "metadata": {},
   "outputs": [],
   "source": [
    "gd0_filtered = gd0[['f0', 'f1', 'f2', 'product']]\n",
    "gd1_filtered = gd1[['f0', 'f1', 'f2', 'product']]\n",
    "gd2_filtered = gd2[['f0', 'f1', 'f2', 'product']]"
   ]
  },
  {
   "cell_type": "markdown",
   "metadata": {},
   "source": [
    "Разделим таблицы на целевой признак и признаки для обучения"
   ]
  },
  {
   "cell_type": "code",
   "execution_count": 11,
   "metadata": {},
   "outputs": [],
   "source": [
    "features_0 = gd0_filtered.drop('product', axis=1)\n",
    "target_0 = gd0_filtered['product']\n",
    "\n",
    "features_1 = gd1_filtered.drop('product', axis=1)\n",
    "target_1 = gd1_filtered['product']\n",
    "\n",
    "features_2 = gd2_filtered.drop('product', axis=1)\n",
    "target_2 = gd2_filtered['product']"
   ]
  },
  {
   "cell_type": "markdown",
   "metadata": {},
   "source": [
    "Разбиваем выборки на валидационную и обучающую."
   ]
  },
  {
   "cell_type": "code",
   "execution_count": 12,
   "metadata": {},
   "outputs": [],
   "source": [
    "features_train_0, features_valid_0, target_train_0, target_valid_0 = train_test_split(\n",
    "    features_0, target_0, test_size=0.25, random_state=RS)\n",
    "\n",
    "features_train_1, features_valid_1, target_train_1, target_valid_1 = train_test_split(\n",
    "    features_1, target_1, test_size=0.25, random_state=RS)\n",
    "\n",
    "features_train_2, features_valid_2, target_train_2, target_valid_2 = train_test_split(\n",
    "    features_2, target_2, test_size=0.25, random_state=RS)"
   ]
  },
  {
   "cell_type": "markdown",
   "metadata": {},
   "source": [
    "Применим нормализацию признаков"
   ]
  },
  {
   "cell_type": "code",
   "execution_count": 13,
   "metadata": {
    "scrolled": true
   },
   "outputs": [],
   "source": [
    "scaler = MinMaxScaler(feature_range=(0, 1))\n",
    "scaler.fit(features_train_0)\n",
    "\n",
    "features_train_0_scaled = scaler.transform(features_train_0)\n",
    "features_valid_0_scaled = scaler.transform(features_valid_0)\n",
    "\n",
    "scaler.fit(features_train_1)\n",
    "\n",
    "features_train_1_scaled = scaler.transform(features_train_1)\n",
    "features_valid_1_scaled = scaler.transform(features_valid_1)\n",
    "\n",
    "scaler.fit(features_train_2)\n",
    "\n",
    "features_train_2_scaled = scaler.transform(features_train_2)\n",
    "features_valid_2_scaled = scaler.transform(features_valid_2)\n"
   ]
  },
  {
   "cell_type": "markdown",
   "metadata": {},
   "source": [
    "Создадим список выборок для дальнейшего применения в функции подсчета значений RMSE, создания предсказания и получения средних значений предсказанной модели"
   ]
  },
  {
   "cell_type": "code",
   "execution_count": 14,
   "metadata": {},
   "outputs": [],
   "source": [
    "# списки выборок для обучения\n",
    "params_to_fit_0 = [features_train_0_scaled, target_train_0,\n",
    "                   features_valid_0_scaled, target_valid_0]\n",
    "params_to_fit_1 = [features_train_1_scaled, target_train_1,\n",
    "                   features_valid_1_scaled, target_valid_1]\n",
    "params_to_fit_2 = [features_train_2_scaled, target_train_2,\n",
    "                   features_valid_2_scaled, target_valid_2]"
   ]
  },
  {
   "cell_type": "markdown",
   "metadata": {},
   "source": [
    "Создадим две функции: для подсчета среднеквадратичной ошибки и функцию, которая принимает на вход модель для обучения и параметры выборок (`params_to_fit`), которая на выходе отдаст нам два результата. Первый результат это таблица значений RMSE и средних значений предсказаний; второй - сами предсказания для региона выборки"
   ]
  },
  {
   "cell_type": "code",
   "execution_count": 15,
   "metadata": {},
   "outputs": [],
   "source": [
    "# функция для подсчета значения RMSE\n",
    "def rmse(y_true, y_pred):\n",
    "    return np.sqrt(mean_squared_error(y_true, y_pred))\n",
    "\n",
    "# функция подсчета значений RMSE и средних предсказаний\n",
    "def fit_and_evaluate(model, param_list):\n",
    "    # созадим пустой словарь, в который будем записывать \n",
    "    # значения, полученные в ходе вычислений\n",
    "    \n",
    "    rmse_mean_table = defaultdict(list)\n",
    "    \n",
    "    # обучаем модель\n",
    "    model.fit(param_list[0], param_list[1])\n",
    "    \n",
    "    # создание предсказаний модели и подсчет ошибки\n",
    "    model_pred = model.predict(param_list[2])\n",
    "    model_rmse = rmse(param_list[3], model_pred)\n",
    "    \n",
    "    # создание Series предсказаний для удобства подсчета\n",
    "    model_pred = pd.Series(model_pred)\n",
    "    \n",
    "    # добавление в пустой словарь важных для нас значений:\n",
    "    \n",
    "    # среднего значения предсказаний модели\n",
    "    rmse_mean_table['mean_predictions'].append(model_pred.mean())\n",
    "    \n",
    "    # значений среднеквадратичной ошибки\n",
    "    rmse_mean_table['rmse'].append(model_rmse)\n",
    "\n",
    "    # return the performance metric\n",
    "    return pd.DataFrame(rmse_mean_table), model_pred"
   ]
  },
  {
   "cell_type": "markdown",
   "metadata": {},
   "source": [
    "После создания функции для подсчета необходимых нам значений, применим их. Для работы используем модель линейной регрессии с параметром `n_jobs=-1`, для ускорения подсчета."
   ]
  },
  {
   "cell_type": "code",
   "execution_count": 16,
   "metadata": {},
   "outputs": [],
   "source": [
    "model = LinearRegression(n_jobs=-1)\n",
    "\n",
    "result_predict_0 = fit_and_evaluate(model, params_to_fit_0)\n",
    "result_predict_1 = fit_and_evaluate(model, params_to_fit_1)\n",
    "result_predict_2 = fit_and_evaluate(model, params_to_fit_2)\n",
    "\n",
    "# запишем сразу все значения работы модели в таблицу\n",
    "rmse_mean_results_table = pd.concat([result_predict_0[0],\n",
    "                                     result_predict_1[0],\n",
    "                                     result_predict_2[0]]).reset_index(drop=True)\n",
    "\n",
    "# добавим пояснения к таблице\n",
    "rmse_mean_results_table['region'] = ['first_region', \n",
    "                                     'second_region', \n",
    "                                     'third_region']"
   ]
  },
  {
   "cell_type": "markdown",
   "metadata": {},
   "source": [
    "Запишем предсказания работы модели в соотвествующих переменных"
   ]
  },
  {
   "cell_type": "code",
   "execution_count": 17,
   "metadata": {
    "scrolled": true
   },
   "outputs": [],
   "source": [
    "predictions_0 = result_predict_0[1]\n",
    "predictions_1 = result_predict_1[1]\n",
    "predictions_2 = result_predict_2[1]"
   ]
  },
  {
   "cell_type": "markdown",
   "metadata": {},
   "source": [
    "А также запишем их средние значения в соответствующих переменных для удобства сравнения их с другими параметрами в будущем"
   ]
  },
  {
   "cell_type": "code",
   "execution_count": 18,
   "metadata": {},
   "outputs": [],
   "source": [
    "predictions_0_mean = round(predictions_0.mean(), 2)\n",
    "predictions_1_mean = round(predictions_1.mean(), 2)\n",
    "predictions_2_mean = round(predictions_2.mean(), 2)"
   ]
  },
  {
   "cell_type": "markdown",
   "metadata": {},
   "source": [
    "Выведем результат работы нашей модели в виде таблицы"
   ]
  },
  {
   "cell_type": "code",
   "execution_count": 19,
   "metadata": {},
   "outputs": [
    {
     "data": {
      "text/plain": [
       "'Таблица средних значений предсказаний и RMSE'"
      ]
     },
     "metadata": {},
     "output_type": "display_data"
    },
    {
     "data": {
      "text/html": [
       "<div>\n",
       "<style scoped>\n",
       "    .dataframe tbody tr th:only-of-type {\n",
       "        vertical-align: middle;\n",
       "    }\n",
       "\n",
       "    .dataframe tbody tr th {\n",
       "        vertical-align: top;\n",
       "    }\n",
       "\n",
       "    .dataframe thead th {\n",
       "        text-align: right;\n",
       "    }\n",
       "</style>\n",
       "<table border=\"1\" class=\"dataframe\">\n",
       "  <thead>\n",
       "    <tr style=\"text-align: right;\">\n",
       "      <th></th>\n",
       "      <th>mean_predictions</th>\n",
       "      <th>rmse</th>\n",
       "      <th>region</th>\n",
       "    </tr>\n",
       "  </thead>\n",
       "  <tbody>\n",
       "    <tr>\n",
       "      <td>0</td>\n",
       "      <td>92.592568</td>\n",
       "      <td>37.579422</td>\n",
       "      <td>first_region</td>\n",
       "    </tr>\n",
       "    <tr>\n",
       "      <td>1</td>\n",
       "      <td>68.728547</td>\n",
       "      <td>0.893099</td>\n",
       "      <td>second_region</td>\n",
       "    </tr>\n",
       "    <tr>\n",
       "      <td>2</td>\n",
       "      <td>94.965046</td>\n",
       "      <td>40.029709</td>\n",
       "      <td>third_region</td>\n",
       "    </tr>\n",
       "  </tbody>\n",
       "</table>\n",
       "</div>"
      ],
      "text/plain": [
       "   mean_predictions       rmse         region\n",
       "0         92.592568  37.579422   first_region\n",
       "1         68.728547   0.893099  second_region\n",
       "2         94.965046  40.029709   third_region"
      ]
     },
     "metadata": {},
     "output_type": "display_data"
    }
   ],
   "source": [
    " display('Таблица средних значений предсказаний и RMSE', \n",
    "         rmse_mean_results_table)"
   ]
  },
  {
   "cell_type": "markdown",
   "metadata": {},
   "source": [
    "**Выводы**: как видим, в связи с высокой (практически равной единице) корреляции значаний параметра `f2` со значением `product` в таблице второго региона (`second region`) (см. выше предвартительный анализ таблиц), получилось очень низкое значение ошибки для предсказания. И в то же время, видно, что среднее значение предсказаний объема запасов второго региона ниже, чем в двух других регионах."
   ]
  },
  {
   "cell_type": "markdown",
   "metadata": {},
   "source": [
    "## Подготовка к расчёту прибыли"
   ]
  },
  {
   "cell_type": "markdown",
   "metadata": {},
   "source": [
    "Рассчитаем объем сырья для разработки в регионе"
   ]
  },
  {
   "cell_type": "code",
   "execution_count": 20,
   "metadata": {},
   "outputs": [
    {
     "name": "stdout",
     "output_type": "stream",
     "text": [
      "Минимальный объем сырья для разработки: 22222.22\n"
     ]
    }
   ],
   "source": [
    "min_well_counts = round(BUDGET / ONE_GOOD_PROFIT, 2)\n",
    "print('Минимальный объем сырья для разработки:', min_well_counts)"
   ]
  },
  {
   "cell_type": "markdown",
   "metadata": {},
   "source": [
    "С учетом определенного минимального объема сырья для разработки необходимо определеть наиболее выгодный район для разработки с учетом разработки 200 скважин. Для этого определим среднее значением 200 максимально насыщенных сырьем скважин в каждом регионе."
   ]
  },
  {
   "cell_type": "code",
   "execution_count": 21,
   "metadata": {},
   "outputs": [
    {
     "data": {
      "text/html": [
       "<div>\n",
       "<style scoped>\n",
       "    .dataframe tbody tr th:only-of-type {\n",
       "        vertical-align: middle;\n",
       "    }\n",
       "\n",
       "    .dataframe tbody tr th {\n",
       "        vertical-align: top;\n",
       "    }\n",
       "\n",
       "    .dataframe thead th {\n",
       "        text-align: right;\n",
       "    }\n",
       "</style>\n",
       "<table border=\"1\" class=\"dataframe\">\n",
       "  <thead>\n",
       "    <tr style=\"text-align: right;\">\n",
       "      <th></th>\n",
       "      <th>regions</th>\n",
       "      <th>top_predictions_mean</th>\n",
       "      <th>minimal_barrels</th>\n",
       "      <th>mean_delta</th>\n",
       "    </tr>\n",
       "  </thead>\n",
       "  <tbody>\n",
       "    <tr>\n",
       "      <td>0</td>\n",
       "      <td>first_region</td>\n",
       "      <td>18500.0</td>\n",
       "      <td>22222.22</td>\n",
       "      <td>-3722.22</td>\n",
       "    </tr>\n",
       "    <tr>\n",
       "      <td>1</td>\n",
       "      <td>second_region</td>\n",
       "      <td>13765.0</td>\n",
       "      <td>22222.22</td>\n",
       "      <td>-8457.22</td>\n",
       "    </tr>\n",
       "    <tr>\n",
       "      <td>2</td>\n",
       "      <td>third_region</td>\n",
       "      <td>19000.0</td>\n",
       "      <td>22222.22</td>\n",
       "      <td>-3222.22</td>\n",
       "    </tr>\n",
       "  </tbody>\n",
       "</table>\n",
       "</div>"
      ],
      "text/plain": [
       "         regions  top_predictions_mean  minimal_barrels  mean_delta\n",
       "0   first_region               18500.0         22222.22    -3722.22\n",
       "1  second_region               13765.0         22222.22    -8457.22\n",
       "2   third_region               19000.0         22222.22    -3222.22"
      ]
     },
     "execution_count": 21,
     "metadata": {},
     "output_type": "execute_result"
    }
   ],
   "source": [
    "top_predictions_mean = pd.DataFrame({'regions': ['first_region', 'second_region', 'third_region'], \n",
    "                                     'top_predictions_mean': [target_0.mean() * 200,\n",
    "                                                              target_1.mean() * 200,\n",
    "                                                              target_2.mean() * 200],\n",
    "                                     'minimal_barrels': min_well_counts,\n",
    "                                     'mean_delta': [target_0.mean() * 200 - min_well_counts,\n",
    "                                                    target_1.mean() * 200 - min_well_counts,\n",
    "                                                    target_2.mean() * 200 - min_well_counts]})\n",
    "\n",
    "top_predictions_mean"
   ]
  },
  {
   "cell_type": "markdown",
   "metadata": {},
   "source": [
    "**Промежуточный вывод**: наиболее богатый регион по содержанию сырья - третий регион"
   ]
  },
  {
   "cell_type": "markdown",
   "metadata": {},
   "source": [
    "Напишем функцию для подсчета прибыли с учетом требований и исходных данных"
   ]
  },
  {
   "cell_type": "code",
   "execution_count": 22,
   "metadata": {},
   "outputs": [],
   "source": [
    "# функция для посчета выручки, принимающая на вход\n",
    "# значения целевого признака валиадционной выборки,\n",
    "# предсказания модели и значения количества исследований\n",
    "def profit(target, probabilities, count):\n",
    "    probs_sorted = probabilities.sort_values(ascending=False)\n",
    "    # сумма подсчета выручки\n",
    "    profit = ((target.loc[probs_sorted.index][:count] * \n",
    "               ONE_BARREL_COST * 1000).sum() -\n",
    "               BUDGET)\n",
    "    return profit"
   ]
  },
  {
   "cell_type": "code",
   "execution_count": 23,
   "metadata": {},
   "outputs": [],
   "source": [
    "target_valid_0 = target_valid_0.reset_index(drop=True)\n",
    "target_valid_1 = target_valid_1.reset_index(drop=True)\n",
    "target_valid_2 = target_valid_2.reset_index(drop=True)"
   ]
  },
  {
   "cell_type": "markdown",
   "metadata": {},
   "source": [
    "**Выводы**: минимальный объем сырья для безубыточной разработки новой скважины меньше средних значений объема сырья для каждого региона. Таким образом, все регионы для разработки безубыточны, согласно предсказаниям модели. Создана функция для подсчета общей выручки. Данные подготовлены для дальнейших подсчетов.\n"
   ]
  },
  {
   "cell_type": "markdown",
   "metadata": {},
   "source": [
    "## Расчёт прибыли и рисков "
   ]
  },
  {
   "cell_type": "markdown",
   "metadata": {},
   "source": [
    "Для рассчета прибыли и рисков для каждого региона пропишем функцию `boots`, в которой применим метод `bootstrep`, многократно (`1000` раз) проверив выборку из 500 точек (`WELL_COUNTS`) скважин, отобрав лучшие 200 (`BEST_WELL_COUNTS`). Помимо этого выберем результаты наших подсчетов в требуемом доверительном интервале (`CONF_INTERVAL`). Результаты работы функции также поместим в таблицу (`results`) и выведем значения подсчетов подбора лучших значений каждой скважины каждого региона (`values`)."
   ]
  },
  {
   "cell_type": "code",
   "execution_count": 24,
   "metadata": {},
   "outputs": [],
   "source": [
    "# функия подсчета прибыли для каждого региона и \n",
    "# извлечения значений прибыли для каждого региона\n",
    "def boots(target, probabilities):\n",
    "    \n",
    "    # созадим пустой словарь, в который будем записывать \n",
    "    # значения, полученные в ходе вычислений\n",
    "    results = defaultdict(list)\n",
    "    \n",
    "    #создадим пустой список для зeаполнения значениями прибыли\n",
    "    values = []\n",
    "    \n",
    "    # цикл перебора значений для bootstrep подсчета прибыли\n",
    "    for i in range(1000):\n",
    "        target_subsample = target.sample(n=WELL_COUNTS, replace=True, random_state=STATE)\n",
    "        probs_subsample = probabilities.loc[target_subsample.index]\n",
    "        values.append(round(profit(target_subsample, probs_subsample, BEST_WELL_COUNTS), 2))\n",
    "\n",
    "    values = pd.Series(values)\n",
    "    \n",
    "    # сформируем довертиельный интервал\n",
    "    lower = (1 - CONF_INTERVAL) / 2\n",
    "    upper = (1 + CONF_INTERVAL) / 2\n",
    "    \n",
    "    # переменная средних значений прибыли с каждого перебора\n",
    "    mean = round(values.mean(), 2)\n",
    "    \n",
    "    # добавление в словарь интересующие нас значения:\n",
    "    \n",
    "    # средних значений прибыли\n",
    "    results['mean_value'].append(mean)\n",
    "    \n",
    "    # доверительного интервала\n",
    "    results['lower_upper_interval'].append((values.quantile(lower),\n",
    "                                            values.quantile(upper)))\n",
    "    # среднего стандартного отклонения\n",
    "    results['std'].append(values.std())\n",
    "    \n",
    "    # подсчет убыточных значений при разработке скважин\n",
    "    less_zero = 0\n",
    "    for i in values:\n",
    "        if i < 0:\n",
    "            less_zero += 1\n",
    "            \n",
    "    results['negative profit'].append(less_zero/len(values))\n",
    "    \n",
    "    # возвращаем таблицу результатов и список значений прибыли\n",
    "    return (pd.DataFrame(results), values)\n"
   ]
  },
  {
   "cell_type": "markdown",
   "metadata": {},
   "source": [
    "Применим нашу функцию подсчета прибыли к для каждого региона и сохраним их в отдельной переменной с дальнейшим занесением их результутов в таблицу"
   ]
  },
  {
   "cell_type": "code",
   "execution_count": 25,
   "metadata": {},
   "outputs": [
    {
     "data": {
      "text/html": [
       "<div>\n",
       "<style scoped>\n",
       "    .dataframe tbody tr th:only-of-type {\n",
       "        vertical-align: middle;\n",
       "    }\n",
       "\n",
       "    .dataframe tbody tr th {\n",
       "        vertical-align: top;\n",
       "    }\n",
       "\n",
       "    .dataframe thead th {\n",
       "        text-align: right;\n",
       "    }\n",
       "</style>\n",
       "<table border=\"1\" class=\"dataframe\">\n",
       "  <thead>\n",
       "    <tr style=\"text-align: right;\">\n",
       "      <th></th>\n",
       "      <th>mean_value</th>\n",
       "      <th>lower_upper_interval</th>\n",
       "      <th>std</th>\n",
       "      <th>negative profit</th>\n",
       "      <th>region</th>\n",
       "    </tr>\n",
       "  </thead>\n",
       "  <tbody>\n",
       "    <tr>\n",
       "      <td>0</td>\n",
       "      <td>4.259385e+08</td>\n",
       "      <td>(-102090094.84224996, 947976353.3625)</td>\n",
       "      <td>2.772767e+08</td>\n",
       "      <td>0.060</td>\n",
       "      <td>first_region</td>\n",
       "    </tr>\n",
       "    <tr>\n",
       "      <td>1</td>\n",
       "      <td>5.182595e+08</td>\n",
       "      <td>(128123231.43, 953612982.0642499)</td>\n",
       "      <td>2.096475e+08</td>\n",
       "      <td>0.003</td>\n",
       "      <td>second_region</td>\n",
       "    </tr>\n",
       "    <tr>\n",
       "      <td>2</td>\n",
       "      <td>4.201940e+08</td>\n",
       "      <td>(-115852609.1557499, 989629939.84725)</td>\n",
       "      <td>2.846731e+08</td>\n",
       "      <td>0.062</td>\n",
       "      <td>third_region</td>\n",
       "    </tr>\n",
       "  </tbody>\n",
       "</table>\n",
       "</div>"
      ],
      "text/plain": [
       "     mean_value                   lower_upper_interval           std  \\\n",
       "0  4.259385e+08  (-102090094.84224996, 947976353.3625)  2.772767e+08   \n",
       "1  5.182595e+08      (128123231.43, 953612982.0642499)  2.096475e+08   \n",
       "2  4.201940e+08  (-115852609.1557499, 989629939.84725)  2.846731e+08   \n",
       "\n",
       "   negative profit         region  \n",
       "0            0.060   first_region  \n",
       "1            0.003  second_region  \n",
       "2            0.062   third_region  "
      ]
     },
     "execution_count": 25,
     "metadata": {},
     "output_type": "execute_result"
    }
   ],
   "source": [
    "profit_0 = boots(target_valid_0, predictions_0)\n",
    "profit_1 = boots(target_valid_1, predictions_1)\n",
    "profit_2 = boots(target_valid_2, predictions_2)\n",
    "\n",
    "# создадим таблицу из полученных значений\n",
    "final_results_table = (pd.concat([profit_0[0], \n",
    "                                 profit_1[0], \n",
    "                                 profit_2[0]]).\n",
    "                       reset_index(drop=True))\n",
    "final_results_table['region'] = ['first_region', \n",
    "                                 'second_region', \n",
    "                                 'third_region']\n",
    "\n",
    "# и выведем таблицу на экран\n",
    "final_results_table"
   ]
  },
  {
   "cell_type": "markdown",
   "metadata": {},
   "source": [
    "**Промежуточные выводы**: как видим, средний разброс значений прибыли у каждого региона схож, однако у третьего региона он меньше всех, что более предпочтительно и выгодней. Помимо этого, среднее значение выручки в третеьм регионе выше остальных."
   ]
  },
  {
   "cell_type": "markdown",
   "metadata": {},
   "source": [
    "Запишем значения прибыли каждого региона в соответствующую переменную"
   ]
  },
  {
   "cell_type": "code",
   "execution_count": 26,
   "metadata": {},
   "outputs": [],
   "source": [
    "reg0 = profit_0[1]\n",
    "reg1 = profit_1[1]\n",
    "reg2 = profit_2[1]"
   ]
  },
  {
   "cell_type": "markdown",
   "metadata": {},
   "source": [
    "Посторим гистограммы распределния прибыли по каждому региону"
   ]
  },
  {
   "cell_type": "code",
   "execution_count": 27,
   "metadata": {},
   "outputs": [
    {
     "data": {
      "image/png": "[encoded data removed]",
      "text/plain": [
       "<Figure size 1080x504 with 1 Axes>"
      ]
     },
     "metadata": {
      "needs_background": "light"
     },
     "output_type": "display_data"
    }
   ],
   "source": [
    "reg0.plot(kind='hist', bins=50, figsize=(15, 7), label='Первый регион', alpha=0.8)\n",
    "reg1.plot(kind='hist', bins=50, figsize=(15, 7), label='Второй регион', alpha=0.5)\n",
    "reg2.plot(kind='hist', bins=50, figsize=(15, 7), label='Третий регион', alpha=0.4)\n",
    "\n",
    "plt.grid(True)\n",
    "plt.legend()\n",
    "plt.title('Распределение суммы средней выручки при разработке каждого региона', fontsize=16)\n",
    "plt.ylabel('Частота признака', fontsize=14)\n",
    "plt.xlabel('Общая выручка от разработки региона', fontsize=14)\n",
    "plt.show()\n"
   ]
  },
  {
   "cell_type": "markdown",
   "metadata": {},
   "source": [
    "Гистограммы оказались не очень наглядны, воспользуемся другой визуализацией проверки распределения, где можно увидеть \"колокол\" распределения прибили регионов"
   ]
  },
  {
   "cell_type": "code",
   "execution_count": 28,
   "metadata": {},
   "outputs": [
    {
     "data": {
      "image/png": "[encoded data removed]",
      "text/plain": [
       "<Figure size 1040x800 with 1 Axes>"
      ]
     },
     "metadata": {
      "needs_background": "light"
     },
     "output_type": "display_data"
    }
   ],
   "source": [
    "plt.figure(figsize=(13,10), dpi= 80)\n",
    "sns.distplot(reg0, color='blue', label='Первый регион', hist_kws={'alpha':.7}, kde_kws={'linewidth':3})\n",
    "sns.distplot(reg1, color='orange', label='Второй регион', hist_kws={'alpha':.7}, kde_kws={'linewidth':3})\n",
    "sns.distplot(reg2, color='g', label='Третий регион', hist_kws={'alpha':.7}, kde_kws={'linewidth':3})\n",
    "\n",
    "plt.grid(True)\n",
    "plt.title('Распределение суммы средней выручки при разработке каждого региона', fontsize=14)\n",
    "plt.xlabel('Общая выручка от разработки региона', fontsize=14)\n",
    "plt.legend()\n",
    "plt.show()\n"
   ]
  },
  {
   "cell_type": "markdown",
   "metadata": {},
   "source": [
    "**Выводы**: графики схожи, но здесь также видно, что график 2 региона имеет большую прибыль по сравнению со первым и третьим регионом. При этом можно отметить, что самый узкий разброс средних значений соответствует распределению прибыли 1 региона. Таким образом, предпочтительным регионом для разработки следует выбрать второй регион с точки зрения прибыли."
   ]
  },
  {
   "cell_type": "markdown",
   "metadata": {},
   "source": [
    "# Общие выводы"
   ]
  },
  {
   "cell_type": "markdown",
   "metadata": {},
   "source": [
    "В ходе работы было проделано следующее.\n",
    "\n",
    "1. Ознакомеление с данными (для удобства была создана функция извлечения общей информации о данных):\n",
    " - данные представляют собой схожие таблицы, в которых каждая состоит из 100 000 строк и 5 столбцов, в них содержатся столбцы `id`, `f0`, `f1`, `f2`, `product`. Данные представленны типами object (`id`) и float (все остальные). Значения столбца 'id' представляют собой случайный набор символов.\n",
    " - во второй таблице отмечена прямая корреляция параметра `f2` и `product`\n",
    " - в таблицах не выявлено явных дубликатов, явных пропусков, отсутствуют значения NaN\n",
    " - выявлен разброс значений в каждом столбце, на основании чего было принято решение применения масштабирования признаков, а именно нормализации\n",
    " \n",
    "2. Было выполнено фильтрование таблиц для нормализация значений столбцов, произведено деление на тренировочную и валидационную выборку, произведена нормализация признаков, произведено обучение модели с выделением средних значений объемов сырья в каждом регионе, с подсчетом значений RMSE. Было выяснено следующее:\n",
    " - в таблице второго региона (`second region`) модель обучения имеет очень низкое значение ошибки для предсказания. \n",
    " - среднее значение предсказаний объема запасов второго региона ниже, чем в двух других регионах\n",
    " - наибольшее значение объемов сырья имеет третий регион, но значение ошибки предсказания модели также наиболее велико\n",
    " \n",
    "3. Произведерн подсчет наименьшего  объема сырья для безубыточной разработки, который соответствует 49.38 тыс. баррелей, из чего слеудет, что безубыточная разработка может идти в каждом регионе. \n",
    "\n",
    "4. Произведен подсчет прибыли для каждого региона с учетом подсчета рисков и доверительного интервала 95%-значения. Выявлено:\n",
    " - наименьший разброс значений прибыли соответсвует разработке во втором регионе;\n",
    " - наибольшая прибыль возможна во регионе;\n",
    " - наиболее точные предсказания модели для получения прибыли соответствует второму региону.\n",
    " "
   ]
  }
 ],
 "metadata": {
  "ExecuteTimeLog": [
   {
    "duration": 1813,
    "start_time": "2022-02-13T13:40:49.252Z"
   },
   {
    "duration": -69,
    "start_time": "2022-02-13T13:40:51.137Z"
   },
   {
    "duration": 4643,
    "start_time": "2022-02-13T13:40:57.221Z"
   },
   {
    "duration": 969,
    "start_time": "2022-02-13T13:41:01.867Z"
   },
   {
    "duration": 3555,
    "start_time": "2022-02-13T14:08:24.140Z"
   },
   {
    "duration": 8,
    "start_time": "2022-02-13T14:08:31.029Z"
   },
   {
    "duration": 170,
    "start_time": "2022-02-13T16:55:49.970Z"
   },
   {
    "duration": 254,
    "start_time": "2022-02-13T16:56:24.150Z"
   },
   {
    "duration": 171,
    "start_time": "2022-02-13T16:57:59.943Z"
   },
   {
    "duration": 72,
    "start_time": "2022-02-13T17:00:41.416Z"
   },
   {
    "duration": 306,
    "start_time": "2022-02-13T17:11:29.565Z"
   },
   {
    "duration": 70,
    "start_time": "2022-02-13T17:11:41.953Z"
   },
   {
    "duration": 72,
    "start_time": "2022-02-13T17:11:53.456Z"
   },
   {
    "duration": 71,
    "start_time": "2022-02-13T17:12:21.661Z"
   },
   {
    "duration": 253,
    "start_time": "2022-02-13T17:17:52.541Z"
   },
   {
    "duration": 780,
    "start_time": "2022-02-13T17:18:05.415Z"
   },
   {
    "duration": 1708,
    "start_time": "2022-02-13T17:18:15.524Z"
   },
   {
    "duration": 252,
    "start_time": "2022-02-13T17:19:12.002Z"
   },
   {
    "duration": 88,
    "start_time": "2022-02-13T17:19:23.380Z"
   },
   {
    "duration": 1731,
    "start_time": "2022-02-13T17:19:31.801Z"
   },
   {
    "duration": 262,
    "start_time": "2022-02-13T17:22:00.536Z"
   },
   {
    "duration": 279,
    "start_time": "2022-02-13T17:22:19.983Z"
   },
   {
    "duration": 266,
    "start_time": "2022-02-13T17:22:40.715Z"
   },
   {
    "duration": 1916,
    "start_time": "2022-02-13T17:23:00.956Z"
   },
   {
    "duration": 1789,
    "start_time": "2022-02-13T17:23:17.018Z"
   },
   {
    "duration": 2389,
    "start_time": "2022-02-13T17:26:00.091Z"
   },
   {
    "duration": 245,
    "start_time": "2022-02-13T17:26:23.109Z"
   },
   {
    "duration": 259,
    "start_time": "2022-02-13T17:26:45.255Z"
   },
   {
    "duration": 93,
    "start_time": "2022-02-13T17:26:53.495Z"
   },
   {
    "duration": 272,
    "start_time": "2022-02-13T17:26:58.856Z"
   },
   {
    "duration": 287,
    "start_time": "2022-02-13T17:27:15.639Z"
   },
   {
    "duration": 1860,
    "start_time": "2022-02-13T17:27:24.309Z"
   },
   {
    "duration": 3001,
    "start_time": "2022-02-13T17:27:58.488Z"
   },
   {
    "duration": 1971,
    "start_time": "2022-02-13T17:28:20.387Z"
   },
   {
    "duration": 1819,
    "start_time": "2022-02-13T17:28:47.280Z"
   },
   {
    "duration": 1764,
    "start_time": "2022-02-13T17:28:57.220Z"
   },
   {
    "duration": 704,
    "start_time": "2022-02-13T17:29:36.310Z"
   },
   {
    "duration": 2057,
    "start_time": "2022-02-13T17:29:42.926Z"
   },
   {
    "duration": 1746,
    "start_time": "2022-02-13T17:30:14.619Z"
   },
   {
    "duration": 1769,
    "start_time": "2022-02-13T17:30:23.988Z"
   },
   {
    "duration": 1753,
    "start_time": "2022-02-13T17:30:33.145Z"
   },
   {
    "duration": 2056,
    "start_time": "2022-02-13T17:30:57.433Z"
   },
   {
    "duration": 1758,
    "start_time": "2022-02-13T17:31:08.107Z"
   },
   {
    "duration": 2873,
    "start_time": "2022-02-13T17:31:53.494Z"
   },
   {
    "duration": 98,
    "start_time": "2022-02-13T17:33:02.316Z"
   },
   {
    "duration": 1958,
    "start_time": "2022-02-13T17:33:06.670Z"
   },
   {
    "duration": 2348,
    "start_time": "2022-02-13T17:33:18.203Z"
   },
   {
    "duration": 2356,
    "start_time": "2022-02-13T17:33:28.776Z"
   },
   {
    "duration": 3214,
    "start_time": "2022-02-13T17:33:50.499Z"
   },
   {
    "duration": 3121,
    "start_time": "2022-02-13T17:34:01.099Z"
   },
   {
    "duration": 3110,
    "start_time": "2022-02-13T17:34:20.866Z"
   },
   {
    "duration": 2671,
    "start_time": "2022-02-13T17:34:35.996Z"
   },
   {
    "duration": 259,
    "start_time": "2022-02-13T17:34:54.838Z"
   },
   {
    "duration": 2748,
    "start_time": "2022-02-13T17:35:17.009Z"
   },
   {
    "duration": 799,
    "start_time": "2022-02-13T17:35:58.095Z"
   },
   {
    "duration": 1649,
    "start_time": "2022-02-13T17:36:05.157Z"
   },
   {
    "duration": 3291,
    "start_time": "2022-02-13T17:36:46.714Z"
   },
   {
    "duration": 2672,
    "start_time": "2022-02-13T17:38:50.924Z"
   },
   {
    "duration": 2639,
    "start_time": "2022-02-13T17:39:06.309Z"
   },
   {
    "duration": 2805,
    "start_time": "2022-02-13T17:39:25.598Z"
   },
   {
    "duration": 3114,
    "start_time": "2022-02-13T17:40:08.209Z"
   },
   {
    "duration": 2766,
    "start_time": "2022-02-13T17:40:17.330Z"
   },
   {
    "duration": 2813,
    "start_time": "2022-02-13T17:41:26.129Z"
   },
   {
    "duration": 2675,
    "start_time": "2022-02-13T17:41:36.739Z"
   },
   {
    "duration": 225,
    "start_time": "2022-02-13T17:41:47.996Z"
   },
   {
    "duration": 3262,
    "start_time": "2022-02-13T17:42:10.186Z"
   },
   {
    "duration": 232,
    "start_time": "2022-02-13T17:42:26.309Z"
   },
   {
    "duration": 973,
    "start_time": "2022-02-13T17:42:36.056Z"
   },
   {
    "duration": 99,
    "start_time": "2022-02-13T17:43:00.407Z"
   },
   {
    "duration": 5,
    "start_time": "2022-02-13T17:43:05.743Z"
   },
   {
    "duration": 2684,
    "start_time": "2022-02-13T17:43:28.604Z"
   },
   {
    "duration": 2712,
    "start_time": "2022-02-13T17:43:39.904Z"
   },
   {
    "duration": 3587,
    "start_time": "2022-02-13T17:44:29.675Z"
   },
   {
    "duration": 3181,
    "start_time": "2022-02-13T17:44:52.556Z"
   },
   {
    "duration": 145,
    "start_time": "2022-02-13T17:45:07.728Z"
   },
   {
    "duration": 2596,
    "start_time": "2022-02-13T17:45:08.198Z"
   },
   {
    "duration": 2139,
    "start_time": "2022-02-13T17:46:37.637Z"
   },
   {
    "duration": 2034,
    "start_time": "2022-02-13T17:46:47.430Z"
   },
   {
    "duration": 2069,
    "start_time": "2022-02-13T17:47:08.039Z"
   },
   {
    "duration": 2123,
    "start_time": "2022-02-13T17:47:59.331Z"
   },
   {
    "duration": 2153,
    "start_time": "2022-02-13T17:48:42.136Z"
   },
   {
    "duration": 2429,
    "start_time": "2022-02-13T17:49:41.942Z"
   },
   {
    "duration": 2218,
    "start_time": "2022-02-13T17:49:48.497Z"
   },
   {
    "duration": 2459,
    "start_time": "2022-02-13T17:50:00.928Z"
   },
   {
    "duration": 2822,
    "start_time": "2022-02-13T17:50:26.686Z"
   },
   {
    "duration": 2090,
    "start_time": "2022-02-13T17:50:56.921Z"
   },
   {
    "duration": 2129,
    "start_time": "2022-02-13T17:51:25.229Z"
   },
   {
    "duration": 19,
    "start_time": "2022-02-13T17:52:00.142Z"
   },
   {
    "duration": 97,
    "start_time": "2022-02-13T17:56:50.473Z"
   },
   {
    "duration": 2179,
    "start_time": "2022-02-13T17:56:57.308Z"
   },
   {
    "duration": 2118,
    "start_time": "2022-02-13T17:57:06.393Z"
   },
   {
    "duration": 2101,
    "start_time": "2022-02-13T17:59:06.383Z"
   },
   {
    "duration": 1966,
    "start_time": "2022-02-13T17:59:23.930Z"
   },
   {
    "duration": 249,
    "start_time": "2022-02-13T18:00:31.272Z"
   },
   {
    "duration": 239,
    "start_time": "2022-02-13T18:00:35.506Z"
   },
   {
    "duration": 24,
    "start_time": "2022-02-13T18:00:39.880Z"
   },
   {
    "duration": 21,
    "start_time": "2022-02-13T18:00:49.651Z"
   },
   {
    "duration": 2066,
    "start_time": "2022-02-13T18:02:32.397Z"
   },
   {
    "duration": 676,
    "start_time": "2022-02-13T18:03:03.804Z"
   },
   {
    "duration": 727,
    "start_time": "2022-02-13T18:03:19.377Z"
   },
   {
    "duration": 832,
    "start_time": "2022-02-13T18:03:27.091Z"
   },
   {
    "duration": 86,
    "start_time": "2022-02-13T18:03:36.940Z"
   },
   {
    "duration": 1079,
    "start_time": "2022-02-13T18:04:04.118Z"
   },
   {
    "duration": 1246,
    "start_time": "2022-02-13T18:04:11.957Z"
   },
   {
    "duration": 667,
    "start_time": "2022-02-13T18:04:20.490Z"
   },
   {
    "duration": 828,
    "start_time": "2022-02-13T18:04:28.890Z"
   },
   {
    "duration": 667,
    "start_time": "2022-02-13T18:04:40.587Z"
   },
   {
    "duration": 2019,
    "start_time": "2022-02-13T18:04:55.269Z"
   },
   {
    "duration": 24,
    "start_time": "2022-02-13T18:08:25.660Z"
   },
   {
    "duration": 266,
    "start_time": "2022-02-13T18:08:36.839Z"
   },
   {
    "duration": 6465,
    "start_time": "2022-02-13T18:08:48.815Z"
   },
   {
    "duration": 7,
    "start_time": "2022-02-13T18:09:27.771Z"
   },
   {
    "duration": 2214,
    "start_time": "2022-02-13T18:12:03.598Z"
   },
   {
    "duration": 721,
    "start_time": "2022-02-13T18:12:19.556Z"
   },
   {
    "duration": 1989,
    "start_time": "2022-02-13T18:12:36.194Z"
   },
   {
    "duration": 2080,
    "start_time": "2022-02-13T18:12:59.255Z"
   },
   {
    "duration": 2029,
    "start_time": "2022-02-13T18:13:12.829Z"
   },
   {
    "duration": 2078,
    "start_time": "2022-02-13T18:16:31.132Z"
   },
   {
    "duration": 3066,
    "start_time": "2022-02-13T18:18:11.589Z"
   },
   {
    "duration": 2028,
    "start_time": "2022-02-13T18:18:28.272Z"
   },
   {
    "duration": 654,
    "start_time": "2022-02-13T18:19:35.152Z"
   },
   {
    "duration": 746,
    "start_time": "2022-02-13T18:19:48.279Z"
   },
   {
    "duration": 87,
    "start_time": "2022-02-13T18:19:59.021Z"
   },
   {
    "duration": 2100,
    "start_time": "2022-02-13T18:20:05.624Z"
   },
   {
    "duration": 1988,
    "start_time": "2022-02-13T18:20:19.319Z"
   },
   {
    "duration": 1100,
    "start_time": "2022-02-13T18:23:54.605Z"
   },
   {
    "duration": 691,
    "start_time": "2022-02-13T18:24:15.183Z"
   },
   {
    "duration": 697,
    "start_time": "2022-02-13T18:25:25.421Z"
   },
   {
    "duration": 736,
    "start_time": "2022-02-13T18:27:50.235Z"
   },
   {
    "duration": 702,
    "start_time": "2022-02-13T18:27:58.366Z"
   },
   {
    "duration": 695,
    "start_time": "2022-02-13T18:28:14.950Z"
   },
   {
    "duration": 654,
    "start_time": "2022-02-13T18:28:43.497Z"
   },
   {
    "duration": 157,
    "start_time": "2022-02-13T18:28:50.685Z"
   },
   {
    "duration": 690,
    "start_time": "2022-02-13T18:28:51.029Z"
   },
   {
    "duration": 786,
    "start_time": "2022-02-13T18:29:57.379Z"
   },
   {
    "duration": 265,
    "start_time": "2022-02-13T18:30:21.037Z"
   },
   {
    "duration": 5,
    "start_time": "2022-02-13T18:32:58.815Z"
   },
   {
    "duration": 40,
    "start_time": "2022-02-13T18:33:10.964Z"
   },
   {
    "duration": 35,
    "start_time": "2022-02-13T18:33:16.458Z"
   },
   {
    "duration": 502,
    "start_time": "2022-02-13T18:33:44.314Z"
   },
   {
    "duration": 470,
    "start_time": "2022-02-13T18:34:01.409Z"
   },
   {
    "duration": 76,
    "start_time": "2022-02-13T18:37:09.129Z"
   },
   {
    "duration": 106,
    "start_time": "2022-02-13T18:37:27.254Z"
   },
   {
    "duration": 90,
    "start_time": "2022-02-13T18:37:31.501Z"
   },
   {
    "duration": 78,
    "start_time": "2022-02-13T18:37:56.411Z"
   },
   {
    "duration": 76,
    "start_time": "2022-02-13T18:38:12.066Z"
   },
   {
    "duration": 87,
    "start_time": "2022-02-13T18:39:35.956Z"
   },
   {
    "duration": 82,
    "start_time": "2022-02-13T18:39:51.963Z"
   },
   {
    "duration": 82,
    "start_time": "2022-02-13T18:40:55.602Z"
   },
   {
    "duration": 99,
    "start_time": "2022-02-13T18:41:03.487Z"
   },
   {
    "duration": 99,
    "start_time": "2022-02-13T18:41:13.895Z"
   },
   {
    "duration": 80,
    "start_time": "2022-02-13T18:43:15.920Z"
   },
   {
    "duration": 83,
    "start_time": "2022-02-13T18:44:51.944Z"
   },
   {
    "duration": 92,
    "start_time": "2022-02-13T18:45:45.802Z"
   },
   {
    "duration": 749,
    "start_time": "2022-02-13T18:45:48.613Z"
   },
   {
    "duration": 88,
    "start_time": "2022-02-13T18:49:03.075Z"
   },
   {
    "duration": 147,
    "start_time": "2022-02-13T18:49:30.091Z"
   },
   {
    "duration": 448,
    "start_time": "2022-02-13T18:49:40.401Z"
   },
   {
    "duration": 476,
    "start_time": "2022-02-13T18:50:30.362Z"
   },
   {
    "duration": 479,
    "start_time": "2022-02-13T18:50:40.214Z"
   },
   {
    "duration": 435,
    "start_time": "2022-02-13T18:50:48.084Z"
   },
   {
    "duration": 439,
    "start_time": "2022-02-13T18:51:39.320Z"
   },
   {
    "duration": 2156,
    "start_time": "2022-02-13T18:52:24.325Z"
   },
   {
    "duration": 459,
    "start_time": "2022-02-13T18:52:43.622Z"
   },
   {
    "duration": 2689,
    "start_time": "2022-02-13T18:53:57.058Z"
   },
   {
    "duration": 480,
    "start_time": "2022-02-13T18:54:05.413Z"
   },
   {
    "duration": 103,
    "start_time": "2022-02-13T18:55:20.656Z"
   },
   {
    "duration": 2349,
    "start_time": "2022-02-13T18:55:25.542Z"
   },
   {
    "duration": 2151,
    "start_time": "2022-02-13T18:56:32.371Z"
   },
   {
    "duration": 2718,
    "start_time": "2022-02-13T18:57:00.081Z"
   },
   {
    "duration": 86,
    "start_time": "2022-02-13T18:57:19.244Z"
   },
   {
    "duration": 2115,
    "start_time": "2022-02-13T18:57:22.512Z"
   },
   {
    "duration": 2212,
    "start_time": "2022-02-13T18:58:10.885Z"
   },
   {
    "duration": 461,
    "start_time": "2022-02-13T18:58:27.942Z"
   },
   {
    "duration": 464,
    "start_time": "2022-02-13T18:58:35.003Z"
   },
   {
    "duration": 14,
    "start_time": "2022-02-13T18:59:10.665Z"
   },
   {
    "duration": 14,
    "start_time": "2022-02-13T18:59:24.601Z"
   },
   {
    "duration": 4,
    "start_time": "2022-02-13T19:00:11.459Z"
   },
   {
    "duration": 2171,
    "start_time": "2022-02-13T19:00:11.465Z"
   },
   {
    "duration": 4,
    "start_time": "2022-02-13T19:00:13.641Z"
   },
   {
    "duration": 176,
    "start_time": "2022-02-13T19:00:13.649Z"
   },
   {
    "duration": 17,
    "start_time": "2022-02-13T19:00:13.828Z"
   },
   {
    "duration": 31,
    "start_time": "2022-02-13T19:00:13.848Z"
   },
   {
    "duration": 952,
    "start_time": "2022-02-13T19:00:13.882Z"
   },
   {
    "duration": -56,
    "start_time": "2022-02-13T19:00:14.893Z"
   },
   {
    "duration": -60,
    "start_time": "2022-02-13T19:00:14.899Z"
   },
   {
    "duration": -61,
    "start_time": "2022-02-13T19:00:14.902Z"
   },
   {
    "duration": -64,
    "start_time": "2022-02-13T19:00:14.906Z"
   },
   {
    "duration": -67,
    "start_time": "2022-02-13T19:00:14.911Z"
   },
   {
    "duration": -67,
    "start_time": "2022-02-13T19:00:14.913Z"
   },
   {
    "duration": -68,
    "start_time": "2022-02-13T19:00:14.916Z"
   },
   {
    "duration": -69,
    "start_time": "2022-02-13T19:00:14.919Z"
   },
   {
    "duration": 14,
    "start_time": "2022-02-13T19:01:03.508Z"
   },
   {
    "duration": 2608,
    "start_time": "2022-02-13T19:01:03.678Z"
   },
   {
    "duration": 174,
    "start_time": "2022-02-13T19:01:06.288Z"
   },
   {
    "duration": 14,
    "start_time": "2022-02-13T19:01:06.465Z"
   },
   {
    "duration": 20,
    "start_time": "2022-02-13T19:01:06.483Z"
   },
   {
    "duration": 519,
    "start_time": "2022-02-13T19:01:06.506Z"
   },
   {
    "duration": 164,
    "start_time": "2022-02-13T19:01:07.028Z"
   },
   {
    "duration": 15,
    "start_time": "2022-02-13T19:01:07.195Z"
   },
   {
    "duration": 26,
    "start_time": "2022-02-13T19:01:07.215Z"
   },
   {
    "duration": 2250,
    "start_time": "2022-02-13T19:01:07.244Z"
   },
   {
    "duration": 3067,
    "start_time": "2022-02-13T19:01:50.253Z"
   },
   {
    "duration": 6,
    "start_time": "2022-02-13T19:01:53.324Z"
   },
   {
    "duration": 5,
    "start_time": "2022-02-13T19:01:58.554Z"
   },
   {
    "duration": 158,
    "start_time": "2022-02-13T19:01:58.892Z"
   },
   {
    "duration": 16,
    "start_time": "2022-02-13T19:01:59.058Z"
   },
   {
    "duration": 16,
    "start_time": "2022-02-13T19:01:59.239Z"
   },
   {
    "duration": 3402,
    "start_time": "2022-02-13T19:01:59.400Z"
   },
   {
    "duration": 224,
    "start_time": "2022-02-13T19:02:02.805Z"
   },
   {
    "duration": 20,
    "start_time": "2022-02-13T19:02:03.034Z"
   },
   {
    "duration": 21,
    "start_time": "2022-02-13T19:02:03.058Z"
   },
   {
    "duration": 796,
    "start_time": "2022-02-13T19:02:03.082Z"
   },
   {
    "duration": 231,
    "start_time": "2022-02-13T19:02:03.881Z"
   },
   {
    "duration": 27,
    "start_time": "2022-02-13T19:02:04.115Z"
   },
   {
    "duration": 24,
    "start_time": "2022-02-13T19:02:04.146Z"
   },
   {
    "duration": 3478,
    "start_time": "2022-02-13T19:02:04.180Z"
   },
   {
    "duration": 3066,
    "start_time": "2022-02-13T19:02:18.307Z"
   },
   {
    "duration": 25325,
    "start_time": "2022-02-14T06:25:43.887Z"
   },
   {
    "duration": 1680,
    "start_time": "2022-02-14T06:26:09.214Z"
   },
   {
    "duration": -12,
    "start_time": "2022-02-14T06:26:10.909Z"
   },
   {
    "duration": -16,
    "start_time": "2022-02-14T06:26:10.914Z"
   },
   {
    "duration": -18,
    "start_time": "2022-02-14T06:26:10.917Z"
   },
   {
    "duration": -20,
    "start_time": "2022-02-14T06:26:10.920Z"
   },
   {
    "duration": -22,
    "start_time": "2022-02-14T06:26:10.923Z"
   },
   {
    "duration": -24,
    "start_time": "2022-02-14T06:26:10.926Z"
   },
   {
    "duration": -26,
    "start_time": "2022-02-14T06:26:10.929Z"
   },
   {
    "duration": -27,
    "start_time": "2022-02-14T06:26:10.931Z"
   },
   {
    "duration": -29,
    "start_time": "2022-02-14T06:26:10.934Z"
   },
   {
    "duration": -30,
    "start_time": "2022-02-14T06:26:10.936Z"
   },
   {
    "duration": -31,
    "start_time": "2022-02-14T06:26:10.938Z"
   },
   {
    "duration": -32,
    "start_time": "2022-02-14T06:26:10.940Z"
   },
   {
    "duration": -33,
    "start_time": "2022-02-14T06:26:10.942Z"
   },
   {
    "duration": 3,
    "start_time": "2022-02-14T06:27:04.742Z"
   },
   {
    "duration": 1333,
    "start_time": "2022-02-14T06:27:04.748Z"
   },
   {
    "duration": -15,
    "start_time": "2022-02-14T06:27:06.099Z"
   },
   {
    "duration": -18,
    "start_time": "2022-02-14T06:27:06.103Z"
   },
   {
    "duration": -20,
    "start_time": "2022-02-14T06:27:06.106Z"
   },
   {
    "duration": -22,
    "start_time": "2022-02-14T06:27:06.109Z"
   },
   {
    "duration": -25,
    "start_time": "2022-02-14T06:27:06.113Z"
   },
   {
    "duration": -26,
    "start_time": "2022-02-14T06:27:06.116Z"
   },
   {
    "duration": -27,
    "start_time": "2022-02-14T06:27:06.118Z"
   },
   {
    "duration": -28,
    "start_time": "2022-02-14T06:27:06.120Z"
   },
   {
    "duration": -30,
    "start_time": "2022-02-14T06:27:06.123Z"
   },
   {
    "duration": -31,
    "start_time": "2022-02-14T06:27:06.125Z"
   },
   {
    "duration": -32,
    "start_time": "2022-02-14T06:27:06.127Z"
   },
   {
    "duration": -34,
    "start_time": "2022-02-14T06:27:06.130Z"
   },
   {
    "duration": -35,
    "start_time": "2022-02-14T06:27:06.132Z"
   },
   {
    "duration": 2,
    "start_time": "2022-02-14T06:27:28.582Z"
   },
   {
    "duration": 1141,
    "start_time": "2022-02-14T06:27:28.586Z"
   },
   {
    "duration": 2,
    "start_time": "2022-02-14T06:27:29.729Z"
   },
   {
    "duration": 132,
    "start_time": "2022-02-14T06:27:29.733Z"
   },
   {
    "duration": 11,
    "start_time": "2022-02-14T06:27:29.866Z"
   },
   {
    "duration": 12,
    "start_time": "2022-02-14T06:27:29.879Z"
   },
   {
    "duration": 1486,
    "start_time": "2022-02-14T06:27:29.913Z"
   },
   {
    "duration": 131,
    "start_time": "2022-02-14T06:27:31.401Z"
   },
   {
    "duration": 12,
    "start_time": "2022-02-14T06:27:31.534Z"
   },
   {
    "duration": 9,
    "start_time": "2022-02-14T06:27:31.547Z"
   },
   {
    "duration": 1468,
    "start_time": "2022-02-14T06:27:31.558Z"
   },
   {
    "duration": 126,
    "start_time": "2022-02-14T06:27:33.028Z"
   },
   {
    "duration": 10,
    "start_time": "2022-02-14T06:27:33.156Z"
   },
   {
    "duration": 9,
    "start_time": "2022-02-14T06:27:33.168Z"
   },
   {
    "duration": 1463,
    "start_time": "2022-02-14T06:27:33.179Z"
   },
   {
    "duration": 5341,
    "start_time": "2022-02-14T14:59:23.701Z"
   },
   {
    "duration": 2417,
    "start_time": "2022-02-14T14:59:29.045Z"
   },
   {
    "duration": 12,
    "start_time": "2022-02-14T15:13:00.328Z"
   },
   {
    "duration": 7,
    "start_time": "2022-02-14T15:13:34.538Z"
   },
   {
    "duration": 555,
    "start_time": "2022-02-14T15:14:07.126Z"
   },
   {
    "duration": 278,
    "start_time": "2022-02-14T15:14:11.736Z"
   },
   {
    "duration": 1280,
    "start_time": "2022-02-14T15:14:12.120Z"
   },
   {
    "duration": 7,
    "start_time": "2022-02-14T15:15:00.489Z"
   },
   {
    "duration": 8,
    "start_time": "2022-02-14T15:16:22.142Z"
   },
   {
    "duration": 167,
    "start_time": "2022-02-14T15:16:23.234Z"
   },
   {
    "duration": 2182,
    "start_time": "2022-02-14T15:16:23.628Z"
   },
   {
    "duration": 8,
    "start_time": "2022-02-14T15:17:17.063Z"
   },
   {
    "duration": 156,
    "start_time": "2022-02-14T15:17:18.097Z"
   },
   {
    "duration": 2216,
    "start_time": "2022-02-14T15:17:18.471Z"
   },
   {
    "duration": 7,
    "start_time": "2022-02-14T15:17:55.539Z"
   },
   {
    "duration": 150,
    "start_time": "2022-02-14T15:17:56.937Z"
   },
   {
    "duration": 2132,
    "start_time": "2022-02-14T15:17:57.848Z"
   },
   {
    "duration": 8,
    "start_time": "2022-02-14T15:18:35.177Z"
   },
   {
    "duration": 153,
    "start_time": "2022-02-14T15:18:35.771Z"
   },
   {
    "duration": 2355,
    "start_time": "2022-02-14T15:18:36.179Z"
   },
   {
    "duration": 8,
    "start_time": "2022-02-14T15:19:06.887Z"
   },
   {
    "duration": 152,
    "start_time": "2022-02-14T15:19:07.453Z"
   },
   {
    "duration": 2266,
    "start_time": "2022-02-14T15:19:07.893Z"
   },
   {
    "duration": 11,
    "start_time": "2022-02-14T15:19:16.392Z"
   },
   {
    "duration": 8,
    "start_time": "2022-02-14T15:19:35.280Z"
   },
   {
    "duration": 151,
    "start_time": "2022-02-14T15:19:36.476Z"
   },
   {
    "duration": 2246,
    "start_time": "2022-02-14T15:19:36.881Z"
   },
   {
    "duration": 161,
    "start_time": "2022-02-14T19:10:44.326Z"
   },
   {
    "duration": 3440,
    "start_time": "2022-02-14T19:10:48.721Z"
   },
   {
    "duration": 6,
    "start_time": "2022-02-14T19:10:52.165Z"
   },
   {
    "duration": 5,
    "start_time": "2022-02-14T19:10:52.173Z"
   },
   {
    "duration": 9,
    "start_time": "2022-02-14T19:10:52.181Z"
   },
   {
    "duration": 157,
    "start_time": "2022-02-14T19:10:57.049Z"
   },
   {
    "duration": 2172,
    "start_time": "2022-02-14T19:10:57.475Z"
   },
   {
    "duration": 132,
    "start_time": "2022-02-14T19:20:54.403Z"
   },
   {
    "duration": 123,
    "start_time": "2022-02-14T19:21:18.931Z"
   },
   {
    "duration": 5,
    "start_time": "2022-02-14T19:21:22.015Z"
   },
   {
    "duration": 3,
    "start_time": "2022-02-14T19:21:22.407Z"
   },
   {
    "duration": 8,
    "start_time": "2022-02-14T19:21:22.586Z"
   },
   {
    "duration": 145,
    "start_time": "2022-02-14T19:21:22.972Z"
   },
   {
    "duration": 2060,
    "start_time": "2022-02-14T19:21:23.156Z"
   },
   {
    "duration": 14,
    "start_time": "2022-02-14T19:21:25.218Z"
   },
   {
    "duration": 32,
    "start_time": "2022-02-14T19:21:25.234Z"
   },
   {
    "duration": 114,
    "start_time": "2022-02-14T19:21:25.269Z"
   },
   {
    "duration": 134,
    "start_time": "2022-02-14T19:21:30.339Z"
   },
   {
    "duration": 11,
    "start_time": "2022-02-14T19:22:24.088Z"
   },
   {
    "duration": 8,
    "start_time": "2022-02-14T19:23:52.076Z"
   },
   {
    "duration": 163,
    "start_time": "2022-02-14T19:23:53.170Z"
   },
   {
    "duration": 7,
    "start_time": "2022-02-14T19:24:33.792Z"
   },
   {
    "duration": 165,
    "start_time": "2022-02-14T19:24:34.929Z"
   },
   {
    "duration": 2228,
    "start_time": "2022-02-14T19:24:35.451Z"
   },
   {
    "duration": 8,
    "start_time": "2022-02-14T19:25:12.028Z"
   },
   {
    "duration": 156,
    "start_time": "2022-02-14T19:25:12.985Z"
   },
   {
    "duration": 9,
    "start_time": "2022-02-14T19:26:20.669Z"
   },
   {
    "duration": 156,
    "start_time": "2022-02-14T19:26:21.090Z"
   },
   {
    "duration": 2059,
    "start_time": "2022-02-14T19:26:21.293Z"
   },
   {
    "duration": 7,
    "start_time": "2022-02-14T19:27:00.688Z"
   },
   {
    "duration": 157,
    "start_time": "2022-02-14T19:27:01.293Z"
   },
   {
    "duration": 2094,
    "start_time": "2022-02-14T19:27:01.615Z"
   },
   {
    "duration": 7,
    "start_time": "2022-02-14T19:27:18.642Z"
   },
   {
    "duration": 164,
    "start_time": "2022-02-14T19:27:19.013Z"
   },
   {
    "duration": 2515,
    "start_time": "2022-02-14T19:27:19.460Z"
   },
   {
    "duration": 7,
    "start_time": "2022-02-14T19:27:40.305Z"
   },
   {
    "duration": 163,
    "start_time": "2022-02-14T19:27:40.896Z"
   },
   {
    "duration": 2229,
    "start_time": "2022-02-14T19:27:41.349Z"
   },
   {
    "duration": 7,
    "start_time": "2022-02-14T19:27:52.044Z"
   },
   {
    "duration": 149,
    "start_time": "2022-02-14T19:27:56.329Z"
   },
   {
    "duration": 2084,
    "start_time": "2022-02-14T19:27:56.558Z"
   },
   {
    "duration": 8,
    "start_time": "2022-02-14T19:28:35.108Z"
   },
   {
    "duration": 155,
    "start_time": "2022-02-14T19:28:36.715Z"
   },
   {
    "duration": 2244,
    "start_time": "2022-02-14T19:28:40.804Z"
   },
   {
    "duration": 11,
    "start_time": "2022-02-14T19:29:11.692Z"
   },
   {
    "duration": 154,
    "start_time": "2022-02-14T19:29:12.308Z"
   },
   {
    "duration": 2103,
    "start_time": "2022-02-14T19:29:12.684Z"
   },
   {
    "duration": 7,
    "start_time": "2022-02-14T19:29:51.874Z"
   },
   {
    "duration": 160,
    "start_time": "2022-02-14T19:29:52.507Z"
   },
   {
    "duration": 2103,
    "start_time": "2022-02-14T19:29:52.756Z"
   },
   {
    "duration": 7,
    "start_time": "2022-02-14T19:30:04.080Z"
   },
   {
    "duration": 155,
    "start_time": "2022-02-14T19:30:04.466Z"
   },
   {
    "duration": 2394,
    "start_time": "2022-02-14T19:30:04.660Z"
   },
   {
    "duration": 8,
    "start_time": "2022-02-14T19:30:32.913Z"
   },
   {
    "duration": 154,
    "start_time": "2022-02-14T19:30:33.450Z"
   },
   {
    "duration": 2147,
    "start_time": "2022-02-14T19:30:33.691Z"
   },
   {
    "duration": 7,
    "start_time": "2022-02-14T19:32:25.389Z"
   },
   {
    "duration": 163,
    "start_time": "2022-02-14T19:32:25.930Z"
   },
   {
    "duration": 2269,
    "start_time": "2022-02-14T19:32:26.156Z"
   },
   {
    "duration": 8,
    "start_time": "2022-02-14T19:35:03.180Z"
   },
   {
    "duration": 145,
    "start_time": "2022-02-14T19:35:03.762Z"
   },
   {
    "duration": 2108,
    "start_time": "2022-02-14T19:35:04.328Z"
   },
   {
    "duration": 8,
    "start_time": "2022-02-14T19:38:43.416Z"
   },
   {
    "duration": 152,
    "start_time": "2022-02-14T19:38:44.113Z"
   },
   {
    "duration": 2259,
    "start_time": "2022-02-14T19:38:44.566Z"
   },
   {
    "duration": 11,
    "start_time": "2022-02-14T19:38:55.628Z"
   },
   {
    "duration": 170,
    "start_time": "2022-02-14T19:38:56.089Z"
   },
   {
    "duration": 2360,
    "start_time": "2022-02-14T19:38:56.294Z"
   },
   {
    "duration": 7,
    "start_time": "2022-02-14T19:39:17.819Z"
   },
   {
    "duration": 146,
    "start_time": "2022-02-14T19:39:18.329Z"
   },
   {
    "duration": 2123,
    "start_time": "2022-02-14T19:39:18.653Z"
   },
   {
    "duration": 8,
    "start_time": "2022-02-14T19:39:32.068Z"
   },
   {
    "duration": 166,
    "start_time": "2022-02-14T19:39:32.506Z"
   },
   {
    "duration": 2197,
    "start_time": "2022-02-14T19:39:32.718Z"
   },
   {
    "duration": 8,
    "start_time": "2022-02-14T19:39:54.935Z"
   },
   {
    "duration": 151,
    "start_time": "2022-02-14T19:39:55.294Z"
   },
   {
    "duration": 2267,
    "start_time": "2022-02-14T19:39:55.509Z"
   },
   {
    "duration": 9,
    "start_time": "2022-02-14T19:42:27.479Z"
   },
   {
    "duration": 7,
    "start_time": "2022-02-14T19:42:47.460Z"
   },
   {
    "duration": 7,
    "start_time": "2022-02-14T19:45:10.346Z"
   },
   {
    "duration": 163,
    "start_time": "2022-02-14T19:45:10.986Z"
   },
   {
    "duration": 1250,
    "start_time": "2022-02-14T19:45:11.239Z"
   },
   {
    "duration": 9,
    "start_time": "2022-02-14T19:45:22.140Z"
   },
   {
    "duration": 147,
    "start_time": "2022-02-14T19:45:22.477Z"
   },
   {
    "duration": 2121,
    "start_time": "2022-02-14T19:45:22.646Z"
   },
   {
    "duration": 13,
    "start_time": "2022-02-14T19:45:24.770Z"
   },
   {
    "duration": 158,
    "start_time": "2022-02-14T19:57:36.563Z"
   },
   {
    "duration": 2207,
    "start_time": "2022-02-14T19:57:36.758Z"
   },
   {
    "duration": 9,
    "start_time": "2022-02-14T19:58:44.707Z"
   },
   {
    "duration": 158,
    "start_time": "2022-02-14T19:58:45.262Z"
   },
   {
    "duration": 2433,
    "start_time": "2022-02-14T19:58:45.544Z"
   },
   {
    "duration": 8,
    "start_time": "2022-02-14T19:59:27.510Z"
   },
   {
    "duration": 211,
    "start_time": "2022-02-14T19:59:28.045Z"
   },
   {
    "duration": 2437,
    "start_time": "2022-02-14T19:59:28.258Z"
   },
   {
    "duration": 152,
    "start_time": "2022-02-14T19:59:30.698Z"
   },
   {
    "duration": 2488,
    "start_time": "2022-02-14T19:59:38.129Z"
   },
   {
    "duration": 8,
    "start_time": "2022-02-14T19:59:59.980Z"
   },
   {
    "duration": 158,
    "start_time": "2022-02-14T20:00:00.364Z"
   },
   {
    "duration": 2496,
    "start_time": "2022-02-14T20:00:00.563Z"
   },
   {
    "duration": 157,
    "start_time": "2022-02-14T20:00:03.062Z"
   },
   {
    "duration": 2107,
    "start_time": "2022-02-14T20:00:03.222Z"
   },
   {
    "duration": 151,
    "start_time": "2022-02-14T20:00:22.922Z"
   },
   {
    "duration": 2478,
    "start_time": "2022-02-14T20:00:23.118Z"
   },
   {
    "duration": 11,
    "start_time": "2022-02-14T20:01:39.443Z"
   },
   {
    "duration": 179,
    "start_time": "2022-02-14T20:01:39.940Z"
   },
   {
    "duration": 2522,
    "start_time": "2022-02-14T20:01:40.192Z"
   },
   {
    "duration": 178,
    "start_time": "2022-02-14T20:01:42.717Z"
   },
   {
    "duration": 2066,
    "start_time": "2022-02-14T20:01:42.898Z"
   },
   {
    "duration": 162,
    "start_time": "2022-02-14T20:01:44.967Z"
   },
   {
    "duration": 2446,
    "start_time": "2022-02-14T20:01:45.132Z"
   },
   {
    "duration": 8,
    "start_time": "2022-02-16T17:54:57.936Z"
   },
   {
    "duration": 287,
    "start_time": "2022-02-16T17:54:59.073Z"
   },
   {
    "duration": 243,
    "start_time": "2022-02-16T17:55:05.505Z"
   },
   {
    "duration": 1552,
    "start_time": "2022-02-16T17:55:09.185Z"
   },
   {
    "duration": -97,
    "start_time": "2022-02-16T17:55:10.836Z"
   },
   {
    "duration": 6,
    "start_time": "2022-02-16T17:55:10.772Z"
   },
   {
    "duration": 132,
    "start_time": "2022-02-16T17:55:12.370Z"
   },
   {
    "duration": 1586,
    "start_time": "2022-02-16T17:55:13.154Z"
   },
   {
    "duration": 8,
    "start_time": "2022-02-16T17:55:41.055Z"
   },
   {
    "duration": 133,
    "start_time": "2022-02-16T17:55:41.903Z"
   },
   {
    "duration": 1353,
    "start_time": "2022-02-16T17:55:42.109Z"
   },
   {
    "duration": 138,
    "start_time": "2022-02-16T17:55:43.465Z"
   },
   {
    "duration": 1152,
    "start_time": "2022-02-16T17:55:43.935Z"
   },
   {
    "duration": 6,
    "start_time": "2022-02-16T17:56:41.151Z"
   },
   {
    "duration": 128,
    "start_time": "2022-02-16T17:56:42.037Z"
   },
   {
    "duration": 939,
    "start_time": "2022-02-16T17:56:42.424Z"
   },
   {
    "duration": 7,
    "start_time": "2022-02-16T17:57:10.809Z"
   },
   {
    "duration": 133,
    "start_time": "2022-02-16T17:57:11.489Z"
   },
   {
    "duration": 933,
    "start_time": "2022-02-16T17:57:11.844Z"
   },
   {
    "duration": 6,
    "start_time": "2022-02-16T17:57:37.332Z"
   },
   {
    "duration": 124,
    "start_time": "2022-02-16T17:57:38.760Z"
   },
   {
    "duration": 1013,
    "start_time": "2022-02-16T17:57:39.059Z"
   },
   {
    "duration": 6,
    "start_time": "2022-02-16T17:57:53.865Z"
   },
   {
    "duration": 130,
    "start_time": "2022-02-16T17:57:54.878Z"
   },
   {
    "duration": 1538,
    "start_time": "2022-02-16T17:57:55.040Z"
   },
   {
    "duration": 6,
    "start_time": "2022-02-16T17:58:39.104Z"
   },
   {
    "duration": 129,
    "start_time": "2022-02-16T17:58:39.576Z"
   },
   {
    "duration": 948,
    "start_time": "2022-02-16T17:58:40.027Z"
   },
   {
    "duration": 7,
    "start_time": "2022-02-16T17:59:12.184Z"
   },
   {
    "duration": 136,
    "start_time": "2022-02-16T17:59:13.481Z"
   },
   {
    "duration": 924,
    "start_time": "2022-02-16T17:59:14.085Z"
   },
   {
    "duration": 6,
    "start_time": "2022-02-16T17:59:34.861Z"
   },
   {
    "duration": 5,
    "start_time": "2022-02-16T17:59:35.453Z"
   },
   {
    "duration": 6,
    "start_time": "2022-02-16T17:59:36.123Z"
   },
   {
    "duration": 6,
    "start_time": "2022-02-16T17:59:36.548Z"
   },
   {
    "duration": 128,
    "start_time": "2022-02-16T17:59:37.116Z"
   },
   {
    "duration": 1556,
    "start_time": "2022-02-16T17:59:38.359Z"
   },
   {
    "duration": 6,
    "start_time": "2022-02-16T18:00:37.639Z"
   },
   {
    "duration": 126,
    "start_time": "2022-02-16T18:00:38.783Z"
   },
   {
    "duration": 986,
    "start_time": "2022-02-16T18:00:39.093Z"
   },
   {
    "duration": 7,
    "start_time": "2022-02-16T18:01:14.634Z"
   },
   {
    "duration": 125,
    "start_time": "2022-02-16T18:01:15.460Z"
   },
   {
    "duration": 933,
    "start_time": "2022-02-16T18:01:15.973Z"
   },
   {
    "duration": 7,
    "start_time": "2022-02-16T18:01:29.944Z"
   },
   {
    "duration": 131,
    "start_time": "2022-02-16T18:01:30.539Z"
   },
   {
    "duration": 1354,
    "start_time": "2022-02-16T18:01:30.929Z"
   },
   {
    "duration": 6,
    "start_time": "2022-02-16T18:08:05.599Z"
   },
   {
    "duration": 131,
    "start_time": "2022-02-16T18:08:06.624Z"
   },
   {
    "duration": 497,
    "start_time": "2022-02-16T18:08:07.010Z"
   },
   {
    "duration": 10,
    "start_time": "2022-02-16T18:08:20.285Z"
   },
   {
    "duration": 124,
    "start_time": "2022-02-16T18:08:21.148Z"
   },
   {
    "duration": 489,
    "start_time": "2022-02-16T18:08:22.346Z"
   },
   {
    "duration": 7,
    "start_time": "2022-02-16T18:08:29.696Z"
   },
   {
    "duration": 121,
    "start_time": "2022-02-16T18:08:30.230Z"
   },
   {
    "duration": 13258,
    "start_time": "2022-02-16T18:08:30.496Z"
   },
   {
    "duration": 6,
    "start_time": "2022-02-16T18:10:12.846Z"
   },
   {
    "duration": 139,
    "start_time": "2022-02-16T18:10:13.673Z"
   },
   {
    "duration": 12915,
    "start_time": "2022-02-16T18:10:14.764Z"
   },
   {
    "duration": 11,
    "start_time": "2022-02-16T18:10:50.633Z"
   },
   {
    "duration": 128,
    "start_time": "2022-02-16T18:10:51.273Z"
   },
   {
    "duration": 13116,
    "start_time": "2022-02-16T18:10:51.764Z"
   },
   {
    "duration": 7,
    "start_time": "2022-02-16T18:11:25.557Z"
   },
   {
    "duration": 127,
    "start_time": "2022-02-16T18:11:26.735Z"
   },
   {
    "duration": 13331,
    "start_time": "2022-02-16T18:11:27.232Z"
   },
   {
    "duration": 6,
    "start_time": "2022-02-16T18:12:32.868Z"
   },
   {
    "duration": 148,
    "start_time": "2022-02-16T18:12:34.007Z"
   },
   {
    "duration": 14000,
    "start_time": "2022-02-16T18:12:34.531Z"
   },
   {
    "duration": 6,
    "start_time": "2022-02-16T18:13:16.961Z"
   },
   {
    "duration": 123,
    "start_time": "2022-02-16T18:13:17.815Z"
   },
   {
    "duration": 1683,
    "start_time": "2022-02-16T18:13:18.149Z"
   },
   {
    "duration": 125,
    "start_time": "2022-02-16T18:18:27.144Z"
   },
   {
    "duration": 1463,
    "start_time": "2022-02-16T18:18:27.472Z"
   },
   {
    "duration": 7,
    "start_time": "2022-02-16T18:26:32.349Z"
   },
   {
    "duration": 123,
    "start_time": "2022-02-16T18:26:39.422Z"
   },
   {
    "duration": 1644,
    "start_time": "2022-02-16T18:26:39.615Z"
   },
   {
    "duration": 120,
    "start_time": "2022-02-16T18:31:08.295Z"
   },
   {
    "duration": 1655,
    "start_time": "2022-02-16T18:31:08.856Z"
   },
   {
    "duration": 136,
    "start_time": "2022-02-16T18:31:13.962Z"
   },
   {
    "duration": 1756,
    "start_time": "2022-02-16T18:31:14.100Z"
   },
   {
    "duration": 3898,
    "start_time": "2022-02-16T18:33:21.169Z"
   },
   {
    "duration": 745,
    "start_time": "2022-02-16T18:33:25.070Z"
   },
   {
    "duration": 4,
    "start_time": "2022-02-16T18:33:25.817Z"
   },
   {
    "duration": 8,
    "start_time": "2022-02-16T18:35:25.204Z"
   },
   {
    "duration": 7,
    "start_time": "2022-02-16T18:35:45.735Z"
   },
   {
    "duration": 134,
    "start_time": "2022-02-16T18:35:47.086Z"
   },
   {
    "duration": 1704,
    "start_time": "2022-02-16T18:35:47.486Z"
   },
   {
    "duration": 128,
    "start_time": "2022-02-16T18:38:23.392Z"
   },
   {
    "duration": 1548,
    "start_time": "2022-02-16T18:38:23.627Z"
   },
   {
    "duration": 131,
    "start_time": "2022-02-16T18:39:20.524Z"
   },
   {
    "duration": 1708,
    "start_time": "2022-02-16T18:39:20.733Z"
   },
   {
    "duration": 7,
    "start_time": "2022-02-16T18:39:45.023Z"
   },
   {
    "duration": 199,
    "start_time": "2022-02-17T04:03:50.968Z"
   },
   {
    "duration": 104174,
    "start_time": "2022-02-17T04:04:51.698Z"
   },
   {
    "duration": 1349,
    "start_time": "2022-02-17T04:06:35.874Z"
   },
   {
    "duration": -46,
    "start_time": "2022-02-17T04:06:37.273Z"
   },
   {
    "duration": -52,
    "start_time": "2022-02-17T04:06:37.280Z"
   },
   {
    "duration": -57,
    "start_time": "2022-02-17T04:06:37.286Z"
   },
   {
    "duration": -59,
    "start_time": "2022-02-17T04:06:37.289Z"
   },
   {
    "duration": -61,
    "start_time": "2022-02-17T04:06:37.291Z"
   },
   {
    "duration": -63,
    "start_time": "2022-02-17T04:06:37.294Z"
   },
   {
    "duration": -67,
    "start_time": "2022-02-17T04:06:37.299Z"
   },
   {
    "duration": -70,
    "start_time": "2022-02-17T04:06:37.303Z"
   },
   {
    "duration": -72,
    "start_time": "2022-02-17T04:06:37.306Z"
   },
   {
    "duration": 23082,
    "start_time": "2022-02-17T04:18:56.216Z"
   },
   {
    "duration": 374,
    "start_time": "2022-02-17T04:19:19.300Z"
   },
   {
    "duration": 3,
    "start_time": "2022-02-17T04:19:19.676Z"
   },
   {
    "duration": 9,
    "start_time": "2022-02-17T04:19:19.681Z"
   },
   {
    "duration": 133,
    "start_time": "2022-02-17T04:19:19.691Z"
   },
   {
    "duration": 1387,
    "start_time": "2022-02-17T04:19:19.825Z"
   },
   {
    "duration": 123,
    "start_time": "2022-02-17T04:19:21.214Z"
   },
   {
    "duration": 1231,
    "start_time": "2022-02-17T04:19:21.340Z"
   },
   {
    "duration": 137,
    "start_time": "2022-02-17T04:19:22.573Z"
   },
   {
    "duration": 1300,
    "start_time": "2022-02-17T04:19:22.712Z"
   },
   {
    "duration": 126,
    "start_time": "2022-02-17T04:19:24.014Z"
   },
   {
    "duration": 1403,
    "start_time": "2022-02-17T04:19:35.763Z"
   },
   {
    "duration": 117,
    "start_time": "2022-02-17T04:20:50.826Z"
   },
   {
    "duration": 1320,
    "start_time": "2022-02-17T04:21:00.224Z"
   },
   {
    "duration": 110,
    "start_time": "2022-02-17T04:21:52.871Z"
   },
   {
    "duration": 1324,
    "start_time": "2022-02-17T04:21:58.251Z"
   },
   {
    "duration": 1334,
    "start_time": "2022-02-17T04:22:33.985Z"
   },
   {
    "duration": 1311,
    "start_time": "2022-02-17T04:22:43.503Z"
   },
   {
    "duration": 39,
    "start_time": "2022-02-17T04:26:52.961Z"
   },
   {
    "duration": 109,
    "start_time": "2022-02-17T04:28:32.956Z"
   },
   {
    "duration": 7047,
    "start_time": "2022-02-17T04:28:40.151Z"
   },
   {
    "duration": 1405,
    "start_time": "2022-02-17T04:28:47.200Z"
   },
   {
    "duration": 3,
    "start_time": "2022-02-17T04:28:48.607Z"
   },
   {
    "duration": 14,
    "start_time": "2022-02-17T04:28:48.612Z"
   },
   {
    "duration": 135,
    "start_time": "2022-02-17T04:28:48.628Z"
   },
   {
    "duration": 1367,
    "start_time": "2022-02-17T04:28:48.765Z"
   },
   {
    "duration": 43,
    "start_time": "2022-02-17T04:28:50.133Z"
   },
   {
    "duration": 123,
    "start_time": "2022-02-17T04:28:50.178Z"
   },
   {
    "duration": 1231,
    "start_time": "2022-02-17T04:28:50.303Z"
   },
   {
    "duration": 120,
    "start_time": "2022-02-17T04:28:51.536Z"
   },
   {
    "duration": 1374,
    "start_time": "2022-02-17T04:28:51.658Z"
   },
   {
    "duration": 111,
    "start_time": "2022-02-17T04:28:53.034Z"
   },
   {
    "duration": 1425,
    "start_time": "2022-02-17T04:31:37.930Z"
   },
   {
    "duration": 83,
    "start_time": "2022-02-17T04:32:57.798Z"
   },
   {
    "duration": 1286,
    "start_time": "2022-02-17T04:33:03.022Z"
   },
   {
    "duration": 6999,
    "start_time": "2022-02-17T04:33:33.688Z"
   },
   {
    "duration": 1388,
    "start_time": "2022-02-17T04:33:40.689Z"
   },
   {
    "duration": 2,
    "start_time": "2022-02-17T04:33:42.079Z"
   },
   {
    "duration": 6,
    "start_time": "2022-02-17T04:33:42.083Z"
   },
   {
    "duration": 130,
    "start_time": "2022-02-17T04:33:42.091Z"
   },
   {
    "duration": 1376,
    "start_time": "2022-02-17T04:33:42.223Z"
   },
   {
    "duration": 49,
    "start_time": "2022-02-17T04:33:43.601Z"
   },
   {
    "duration": 120,
    "start_time": "2022-02-17T04:33:43.652Z"
   },
   {
    "duration": 1226,
    "start_time": "2022-02-17T04:33:43.774Z"
   },
   {
    "duration": 124,
    "start_time": "2022-02-17T04:33:45.001Z"
   },
   {
    "duration": 1294,
    "start_time": "2022-02-17T04:33:45.126Z"
   },
   {
    "duration": 8,
    "start_time": "2022-02-17T04:33:46.422Z"
   },
   {
    "duration": 7052,
    "start_time": "2022-02-17T04:55:52.312Z"
   },
   {
    "duration": 1550,
    "start_time": "2022-02-17T04:55:59.366Z"
   },
   {
    "duration": 3,
    "start_time": "2022-02-17T04:56:00.918Z"
   },
   {
    "duration": 7,
    "start_time": "2022-02-17T04:56:00.923Z"
   },
   {
    "duration": 131,
    "start_time": "2022-02-17T04:56:00.931Z"
   },
   {
    "duration": 1387,
    "start_time": "2022-02-17T04:56:01.063Z"
   },
   {
    "duration": 128,
    "start_time": "2022-02-17T04:56:02.451Z"
   },
   {
    "duration": 1213,
    "start_time": "2022-02-17T04:56:02.581Z"
   },
   {
    "duration": 121,
    "start_time": "2022-02-17T04:56:03.795Z"
   },
   {
    "duration": 1332,
    "start_time": "2022-02-17T04:56:03.917Z"
   },
   {
    "duration": 231,
    "start_time": "2022-02-17T04:56:48.084Z"
   },
   {
    "duration": 7028,
    "start_time": "2022-02-17T04:56:55.263Z"
   },
   {
    "duration": 1501,
    "start_time": "2022-02-17T04:57:02.293Z"
   },
   {
    "duration": 2,
    "start_time": "2022-02-17T04:57:03.796Z"
   },
   {
    "duration": 5,
    "start_time": "2022-02-17T04:57:03.800Z"
   },
   {
    "duration": 126,
    "start_time": "2022-02-17T04:57:03.807Z"
   },
   {
    "duration": 1388,
    "start_time": "2022-02-17T04:57:03.934Z"
   },
   {
    "duration": 128,
    "start_time": "2022-02-17T04:57:05.324Z"
   },
   {
    "duration": 1233,
    "start_time": "2022-02-17T04:57:05.454Z"
   },
   {
    "duration": 113,
    "start_time": "2022-02-17T04:57:06.689Z"
   },
   {
    "duration": 1319,
    "start_time": "2022-02-17T04:57:06.804Z"
   },
   {
    "duration": 281,
    "start_time": "2022-02-17T05:06:35.321Z"
   },
   {
    "duration": 1929,
    "start_time": "2022-02-17T05:06:45.218Z"
   },
   {
    "duration": 3,
    "start_time": "2022-02-17T05:06:47.149Z"
   },
   {
    "duration": 5,
    "start_time": "2022-02-17T05:06:47.654Z"
   },
   {
    "duration": 259,
    "start_time": "2022-02-17T05:06:53.051Z"
   },
   {
    "duration": 177,
    "start_time": "2022-02-17T05:07:00.078Z"
   },
   {
    "duration": 175,
    "start_time": "2022-02-17T05:07:05.570Z"
   },
   {
    "duration": 2329,
    "start_time": "2022-02-17T05:07:14.972Z"
   },
   {
    "duration": 1477,
    "start_time": "2022-02-17T05:07:17.303Z"
   },
   {
    "duration": 4,
    "start_time": "2022-02-17T05:07:18.782Z"
   },
   {
    "duration": 10,
    "start_time": "2022-02-17T05:07:18.788Z"
   },
   {
    "duration": 132,
    "start_time": "2022-02-17T05:07:18.801Z"
   },
   {
    "duration": 1429,
    "start_time": "2022-02-17T05:07:18.935Z"
   },
   {
    "duration": 123,
    "start_time": "2022-02-17T05:07:20.365Z"
   },
   {
    "duration": 1263,
    "start_time": "2022-02-17T05:07:20.490Z"
   },
   {
    "duration": 118,
    "start_time": "2022-02-17T05:07:21.755Z"
   },
   {
    "duration": 1341,
    "start_time": "2022-02-17T05:07:21.874Z"
   },
   {
    "duration": 283,
    "start_time": "2022-02-17T05:07:23.217Z"
   },
   {
    "duration": -87,
    "start_time": "2022-02-17T05:07:23.589Z"
   },
   {
    "duration": -96,
    "start_time": "2022-02-17T05:07:23.599Z"
   },
   {
    "duration": 18,
    "start_time": "2022-02-17T05:08:04.491Z"
   },
   {
    "duration": 204,
    "start_time": "2022-02-17T06:20:52.694Z"
   },
   {
    "duration": 405,
    "start_time": "2022-02-17T19:54:39.782Z"
   },
   {
    "duration": 5331,
    "start_time": "2022-02-17T19:57:16.092Z"
   },
   {
    "duration": 2504,
    "start_time": "2022-02-17T19:57:21.427Z"
   },
   {
    "duration": 3,
    "start_time": "2022-02-17T19:57:23.934Z"
   },
   {
    "duration": 8,
    "start_time": "2022-02-17T19:57:23.940Z"
   },
   {
    "duration": 169,
    "start_time": "2022-02-17T19:57:23.961Z"
   },
   {
    "duration": 2234,
    "start_time": "2022-02-17T19:57:24.132Z"
   },
   {
    "duration": 174,
    "start_time": "2022-02-17T19:57:26.369Z"
   },
   {
    "duration": 2090,
    "start_time": "2022-02-17T19:57:26.548Z"
   },
   {
    "duration": 163,
    "start_time": "2022-02-17T19:57:28.641Z"
   },
   {
    "duration": 2278,
    "start_time": "2022-02-17T19:57:28.806Z"
   },
   {
    "duration": 13,
    "start_time": "2022-02-17T19:57:31.086Z"
   },
   {
    "duration": 65,
    "start_time": "2022-02-17T19:57:31.102Z"
   },
   {
    "duration": 419,
    "start_time": "2022-02-17T19:57:31.170Z"
   },
   {
    "duration": 275,
    "start_time": "2022-02-17T19:58:54.226Z"
   },
   {
    "duration": 1230,
    "start_time": "2022-02-20T17:57:46.968Z"
   },
   {
    "duration": 4,
    "start_time": "2022-02-20T17:57:48.200Z"
   },
   {
    "duration": 6,
    "start_time": "2022-02-20T17:57:48.207Z"
   },
   {
    "duration": 154,
    "start_time": "2022-02-20T17:57:48.215Z"
   },
   {
    "duration": 1628,
    "start_time": "2022-02-20T17:57:48.371Z"
   },
   {
    "duration": 137,
    "start_time": "2022-02-20T17:57:50.001Z"
   },
   {
    "duration": 1577,
    "start_time": "2022-02-20T17:57:50.140Z"
   },
   {
    "duration": 126,
    "start_time": "2022-02-20T17:57:51.720Z"
   },
   {
    "duration": 1633,
    "start_time": "2022-02-20T17:57:51.849Z"
   },
   {
    "duration": 10,
    "start_time": "2022-02-20T17:57:53.484Z"
   },
   {
    "duration": 12,
    "start_time": "2022-02-20T17:57:53.497Z"
   },
   {
    "duration": 61,
    "start_time": "2022-02-20T17:57:53.511Z"
   },
   {
    "duration": 20,
    "start_time": "2022-02-20T17:57:53.574Z"
   },
   {
    "duration": 3,
    "start_time": "2022-02-20T17:57:53.596Z"
   },
   {
    "duration": 9,
    "start_time": "2022-02-20T17:57:53.600Z"
   },
   {
    "duration": 360,
    "start_time": "2022-02-20T17:57:53.610Z"
   },
   {
    "duration": 3,
    "start_time": "2022-02-20T17:57:53.973Z"
   },
   {
    "duration": 98,
    "start_time": "2022-02-20T17:57:53.979Z"
   },
   {
    "duration": 11,
    "start_time": "2022-02-20T17:57:54.079Z"
   },
   {
    "duration": 4,
    "start_time": "2022-02-20T17:57:54.092Z"
   },
   {
    "duration": 8,
    "start_time": "2022-02-20T17:57:54.097Z"
   },
   {
    "duration": 6,
    "start_time": "2022-02-20T17:57:54.107Z"
   },
   {
    "duration": 10916,
    "start_time": "2022-02-20T17:57:54.117Z"
   },
   {
    "duration": 2,
    "start_time": "2022-02-20T17:58:05.036Z"
   },
   {
    "duration": 776,
    "start_time": "2022-02-20T17:58:05.040Z"
   },
   {
    "duration": 782,
    "start_time": "2022-02-20T17:58:05.817Z"
   },
   {
    "duration": 648,
    "start_time": "2022-02-20T17:59:15.902Z"
   },
   {
    "duration": 659,
    "start_time": "2022-02-20T18:00:48.987Z"
   },
   {
    "duration": 9,
    "start_time": "2022-02-20T18:01:28.116Z"
   },
   {
    "duration": 9,
    "start_time": "2022-02-20T18:01:47.880Z"
   },
   {
    "duration": 9,
    "start_time": "2022-02-20T18:02:05.305Z"
   },
   {
    "duration": 1235,
    "start_time": "2022-02-21T11:26:57.671Z"
   },
   {
    "duration": 4,
    "start_time": "2022-02-21T11:26:58.908Z"
   },
   {
    "duration": 9,
    "start_time": "2022-02-21T11:26:58.914Z"
   },
   {
    "duration": 486,
    "start_time": "2022-02-21T11:26:58.925Z"
   },
   {
    "duration": 1647,
    "start_time": "2022-02-21T11:26:59.413Z"
   },
   {
    "duration": 255,
    "start_time": "2022-02-21T11:27:01.063Z"
   },
   {
    "duration": 1583,
    "start_time": "2022-02-21T11:27:01.320Z"
   },
   {
    "duration": 199,
    "start_time": "2022-02-21T11:27:02.907Z"
   },
   {
    "duration": 1450,
    "start_time": "2022-02-21T11:27:03.109Z"
   },
   {
    "duration": 11,
    "start_time": "2022-02-21T11:27:04.561Z"
   },
   {
    "duration": 13,
    "start_time": "2022-02-21T11:27:04.574Z"
   },
   {
    "duration": 63,
    "start_time": "2022-02-21T11:27:04.589Z"
   },
   {
    "duration": 19,
    "start_time": "2022-02-21T11:27:04.654Z"
   },
   {
    "duration": 4,
    "start_time": "2022-02-21T11:27:04.675Z"
   },
   {
    "duration": 7,
    "start_time": "2022-02-21T11:27:04.681Z"
   },
   {
    "duration": 329,
    "start_time": "2022-02-21T11:27:04.690Z"
   },
   {
    "duration": 4,
    "start_time": "2022-02-21T11:27:05.022Z"
   },
   {
    "duration": 92,
    "start_time": "2022-02-21T11:27:05.028Z"
   },
   {
    "duration": 9,
    "start_time": "2022-02-21T11:27:05.122Z"
   },
   {
    "duration": 5,
    "start_time": "2022-02-21T11:27:05.132Z"
   },
   {
    "duration": 8,
    "start_time": "2022-02-21T11:27:05.139Z"
   },
   {
    "duration": 7,
    "start_time": "2022-02-21T11:27:05.149Z"
   },
   {
    "duration": 10464,
    "start_time": "2022-02-21T11:27:05.158Z"
   },
   {
    "duration": 3,
    "start_time": "2022-02-21T11:27:15.624Z"
   },
   {
    "duration": 663,
    "start_time": "2022-02-21T11:27:15.629Z"
   },
   {
    "duration": 678,
    "start_time": "2022-02-21T11:27:16.294Z"
   },
   {
    "duration": 3,
    "start_time": "2022-02-21T11:56:32.745Z"
   },
   {
    "duration": 7,
    "start_time": "2022-02-21T11:56:37.079Z"
   },
   {
    "duration": 10599,
    "start_time": "2022-02-21T11:56:41.097Z"
   },
   {
    "duration": 6,
    "start_time": "2022-02-21T11:59:49.269Z"
   },
   {
    "duration": 9575,
    "start_time": "2022-02-21T11:59:49.975Z"
   },
   {
    "duration": 3,
    "start_time": "2022-02-21T11:59:59.552Z"
   },
   {
    "duration": 688,
    "start_time": "2022-02-21T11:59:59.557Z"
   },
   {
    "duration": 617,
    "start_time": "2022-02-21T12:00:00.247Z"
   },
   {
    "duration": 6,
    "start_time": "2022-02-21T12:00:53.196Z"
   },
   {
    "duration": 6,
    "start_time": "2022-02-21T12:01:42.771Z"
   },
   {
    "duration": 11291,
    "start_time": "2022-02-21T12:01:44.556Z"
   },
   {
    "duration": 3,
    "start_time": "2022-02-21T12:01:55.849Z"
   },
   {
    "duration": 802,
    "start_time": "2022-02-21T12:01:55.854Z"
   },
   {
    "duration": 579,
    "start_time": "2022-02-21T12:01:56.658Z"
   },
   {
    "duration": 4,
    "start_time": "2022-02-21T12:02:45.099Z"
   },
   {
    "duration": 114,
    "start_time": "2022-02-21T12:02:47.881Z"
   },
   {
    "duration": 9969,
    "start_time": "2022-02-21T12:02:49.091Z"
   },
   {
    "duration": 3,
    "start_time": "2022-02-21T12:02:59.062Z"
   },
   {
    "duration": 700,
    "start_time": "2022-02-21T12:02:59.067Z"
   },
   {
    "duration": 4,
    "start_time": "2022-02-21T12:35:34.506Z"
   },
   {
    "duration": 3,
    "start_time": "2022-02-21T12:41:24.526Z"
   },
   {
    "duration": 4,
    "start_time": "2022-02-21T12:41:29.596Z"
   },
   {
    "duration": 4,
    "start_time": "2022-02-21T12:41:31.572Z"
   },
   {
    "duration": 14,
    "start_time": "2022-02-21T12:42:04.044Z"
   },
   {
    "duration": 4,
    "start_time": "2022-02-21T12:45:13.986Z"
   },
   {
    "duration": 7,
    "start_time": "2022-02-21T12:47:23.313Z"
   },
   {
    "duration": 9377,
    "start_time": "2022-02-21T12:47:24.514Z"
   },
   {
    "duration": 3,
    "start_time": "2022-02-21T12:47:33.893Z"
   },
   {
    "duration": 648,
    "start_time": "2022-02-21T12:47:33.897Z"
   },
   {
    "duration": 657,
    "start_time": "2022-02-21T12:47:34.547Z"
   },
   {
    "duration": 4,
    "start_time": "2022-02-21T12:48:36.767Z"
   },
   {
    "duration": 1287,
    "start_time": "2022-02-21T12:48:46.202Z"
   },
   {
    "duration": 4,
    "start_time": "2022-02-21T12:48:47.491Z"
   },
   {
    "duration": 6,
    "start_time": "2022-02-21T12:48:47.497Z"
   },
   {
    "duration": 144,
    "start_time": "2022-02-21T12:48:47.505Z"
   },
   {
    "duration": 1643,
    "start_time": "2022-02-21T12:48:47.651Z"
   },
   {
    "duration": 130,
    "start_time": "2022-02-21T12:48:49.296Z"
   },
   {
    "duration": 1695,
    "start_time": "2022-02-21T12:48:49.428Z"
   },
   {
    "duration": 127,
    "start_time": "2022-02-21T12:48:51.126Z"
   },
   {
    "duration": 1449,
    "start_time": "2022-02-21T12:48:51.256Z"
   },
   {
    "duration": 14,
    "start_time": "2022-02-21T12:48:52.706Z"
   },
   {
    "duration": 18,
    "start_time": "2022-02-21T12:48:52.722Z"
   },
   {
    "duration": 44,
    "start_time": "2022-02-21T12:48:52.741Z"
   },
   {
    "duration": 31,
    "start_time": "2022-02-21T12:48:52.787Z"
   },
   {
    "duration": 3,
    "start_time": "2022-02-21T12:48:52.820Z"
   },
   {
    "duration": 6,
    "start_time": "2022-02-21T12:48:52.825Z"
   },
   {
    "duration": 386,
    "start_time": "2022-02-21T12:48:52.833Z"
   },
   {
    "duration": 4,
    "start_time": "2022-02-21T12:48:53.222Z"
   },
   {
    "duration": 93,
    "start_time": "2022-02-21T12:48:53.228Z"
   },
   {
    "duration": 12,
    "start_time": "2022-02-21T12:48:53.323Z"
   },
   {
    "duration": 4,
    "start_time": "2022-02-21T12:48:53.336Z"
   },
   {
    "duration": 7,
    "start_time": "2022-02-21T12:48:53.341Z"
   },
   {
    "duration": 6,
    "start_time": "2022-02-21T12:48:53.349Z"
   },
   {
    "duration": 25,
    "start_time": "2022-02-21T12:48:53.358Z"
   },
   {
    "duration": 7,
    "start_time": "2022-02-21T12:48:53.385Z"
   },
   {
    "duration": 9071,
    "start_time": "2022-02-21T12:48:53.393Z"
   },
   {
    "duration": 3,
    "start_time": "2022-02-21T12:49:02.466Z"
   },
   {
    "duration": 651,
    "start_time": "2022-02-21T12:49:02.470Z"
   },
   {
    "duration": 663,
    "start_time": "2022-02-21T12:49:03.123Z"
   },
   {
    "duration": 4,
    "start_time": "2022-02-21T13:44:58.280Z"
   },
   {
    "duration": 3,
    "start_time": "2022-02-21T13:46:23.589Z"
   },
   {
    "duration": 4,
    "start_time": "2022-02-21T13:47:37.581Z"
   },
   {
    "duration": 8,
    "start_time": "2022-02-21T13:48:50.786Z"
   },
   {
    "duration": 9449,
    "start_time": "2022-02-21T13:48:53.931Z"
   },
   {
    "duration": 3,
    "start_time": "2022-02-21T13:49:03.382Z"
   },
   {
    "duration": 761,
    "start_time": "2022-02-21T13:49:03.387Z"
   },
   {
    "duration": 4,
    "start_time": "2022-02-21T13:52:25.286Z"
   },
   {
    "duration": 7,
    "start_time": "2022-02-21T13:52:29.106Z"
   },
   {
    "duration": 3796,
    "start_time": "2022-02-21T13:52:31.955Z"
   },
   {
    "duration": 4,
    "start_time": "2022-02-21T13:53:26.345Z"
   },
   {
    "duration": 6,
    "start_time": "2022-02-21T13:53:29.193Z"
   },
   {
    "duration": 6,
    "start_time": "2022-02-21T13:53:37.572Z"
   },
   {
    "duration": 3823,
    "start_time": "2022-02-21T13:53:40.244Z"
   },
   {
    "duration": 4,
    "start_time": "2022-02-21T13:54:59.757Z"
   },
   {
    "duration": 8,
    "start_time": "2022-02-21T13:55:05.916Z"
   },
   {
    "duration": 3409,
    "start_time": "2022-02-21T13:55:19.891Z"
   },
   {
    "duration": 80,
    "start_time": "2022-02-21T13:55:58.209Z"
   },
   {
    "duration": 4,
    "start_time": "2022-02-21T13:56:07.687Z"
   },
   {
    "duration": 6,
    "start_time": "2022-02-21T13:56:11.446Z"
   },
   {
    "duration": 7535,
    "start_time": "2022-02-21T13:56:14.337Z"
   },
   {
    "duration": 8,
    "start_time": "2022-02-21T13:56:57.963Z"
   },
   {
    "duration": 8523,
    "start_time": "2022-02-21T13:57:00.732Z"
   },
   {
    "duration": 1315,
    "start_time": "2022-02-21T14:31:04.231Z"
   },
   {
    "duration": 4,
    "start_time": "2022-02-21T14:31:05.548Z"
   },
   {
    "duration": 12,
    "start_time": "2022-02-21T14:31:05.554Z"
   },
   {
    "duration": 151,
    "start_time": "2022-02-21T14:31:05.568Z"
   },
   {
    "duration": 1560,
    "start_time": "2022-02-21T14:31:05.721Z"
   },
   {
    "duration": 135,
    "start_time": "2022-02-21T14:31:07.283Z"
   },
   {
    "duration": 1454,
    "start_time": "2022-02-21T14:31:07.420Z"
   },
   {
    "duration": 135,
    "start_time": "2022-02-21T14:31:08.877Z"
   },
   {
    "duration": 1512,
    "start_time": "2022-02-21T14:31:09.014Z"
   },
   {
    "duration": 11,
    "start_time": "2022-02-21T14:31:10.528Z"
   },
   {
    "duration": 18,
    "start_time": "2022-02-21T14:31:10.542Z"
   },
   {
    "duration": 64,
    "start_time": "2022-02-21T14:31:10.562Z"
   },
   {
    "duration": 3,
    "start_time": "2022-02-21T14:31:10.628Z"
   },
   {
    "duration": 375,
    "start_time": "2022-02-21T14:31:10.633Z"
   },
   {
    "duration": -53,
    "start_time": "2022-02-21T14:31:11.064Z"
   },
   {
    "duration": -55,
    "start_time": "2022-02-21T14:31:11.068Z"
   },
   {
    "duration": -58,
    "start_time": "2022-02-21T14:31:11.072Z"
   },
   {
    "duration": -59,
    "start_time": "2022-02-21T14:31:11.075Z"
   },
   {
    "duration": -60,
    "start_time": "2022-02-21T14:31:11.078Z"
   },
   {
    "duration": -62,
    "start_time": "2022-02-21T14:31:11.081Z"
   },
   {
    "duration": -62,
    "start_time": "2022-02-21T14:31:11.083Z"
   },
   {
    "duration": -64,
    "start_time": "2022-02-21T14:31:11.086Z"
   },
   {
    "duration": -64,
    "start_time": "2022-02-21T14:31:11.088Z"
   },
   {
    "duration": -65,
    "start_time": "2022-02-21T14:31:11.091Z"
   },
   {
    "duration": -66,
    "start_time": "2022-02-21T14:31:11.093Z"
   },
   {
    "duration": -67,
    "start_time": "2022-02-21T14:31:11.096Z"
   },
   {
    "duration": 4,
    "start_time": "2022-02-21T14:33:21.659Z"
   },
   {
    "duration": 6,
    "start_time": "2022-02-21T14:33:26.339Z"
   },
   {
    "duration": 278,
    "start_time": "2022-02-21T14:33:26.347Z"
   },
   {
    "duration": 91,
    "start_time": "2022-02-21T14:33:26.628Z"
   },
   {
    "duration": 5,
    "start_time": "2022-02-21T14:33:26.722Z"
   },
   {
    "duration": 10,
    "start_time": "2022-02-21T14:33:26.729Z"
   },
   {
    "duration": 4,
    "start_time": "2022-02-21T14:33:26.741Z"
   },
   {
    "duration": 7,
    "start_time": "2022-02-21T14:33:26.746Z"
   },
   {
    "duration": 7,
    "start_time": "2022-02-21T14:33:26.754Z"
   },
   {
    "duration": 7784,
    "start_time": "2022-02-21T14:33:26.763Z"
   },
   {
    "duration": 2,
    "start_time": "2022-02-21T14:33:34.550Z"
   },
   {
    "duration": 718,
    "start_time": "2022-02-21T14:33:34.554Z"
   },
   {
    "duration": 710,
    "start_time": "2022-02-21T14:33:35.275Z"
   },
   {
    "duration": 3,
    "start_time": "2022-02-21T14:34:16.439Z"
   },
   {
    "duration": 6,
    "start_time": "2022-02-21T14:34:20.864Z"
   },
   {
    "duration": 7825,
    "start_time": "2022-02-21T14:34:22.643Z"
   },
   {
    "duration": 3,
    "start_time": "2022-02-21T14:34:36.233Z"
   },
   {
    "duration": 644,
    "start_time": "2022-02-21T14:34:36.588Z"
   },
   {
    "duration": 1273,
    "start_time": "2022-02-21T14:35:10.837Z"
   },
   {
    "duration": 8,
    "start_time": "2022-02-21T14:35:12.112Z"
   },
   {
    "duration": 8,
    "start_time": "2022-02-21T14:35:12.122Z"
   },
   {
    "duration": 152,
    "start_time": "2022-02-21T14:35:12.132Z"
   },
   {
    "duration": 1483,
    "start_time": "2022-02-21T14:35:12.286Z"
   },
   {
    "duration": 136,
    "start_time": "2022-02-21T14:35:13.771Z"
   },
   {
    "duration": 1651,
    "start_time": "2022-02-21T14:35:13.909Z"
   },
   {
    "duration": 138,
    "start_time": "2022-02-21T14:35:15.562Z"
   },
   {
    "duration": 1564,
    "start_time": "2022-02-21T14:35:15.703Z"
   },
   {
    "duration": 9,
    "start_time": "2022-02-21T14:35:17.269Z"
   },
   {
    "duration": 14,
    "start_time": "2022-02-21T14:35:17.280Z"
   },
   {
    "duration": 56,
    "start_time": "2022-02-21T14:35:17.296Z"
   },
   {
    "duration": 2,
    "start_time": "2022-02-21T14:35:17.354Z"
   },
   {
    "duration": 10,
    "start_time": "2022-02-21T14:35:17.358Z"
   },
   {
    "duration": 12,
    "start_time": "2022-02-21T14:35:17.370Z"
   },
   {
    "duration": 12,
    "start_time": "2022-02-21T14:35:17.384Z"
   },
   {
    "duration": 421,
    "start_time": "2022-02-21T14:35:17.398Z"
   },
   {
    "duration": 3,
    "start_time": "2022-02-21T14:35:17.822Z"
   },
   {
    "duration": 10,
    "start_time": "2022-02-21T14:35:17.827Z"
   },
   {
    "duration": 11,
    "start_time": "2022-02-21T14:35:17.918Z"
   },
   {
    "duration": 4,
    "start_time": "2022-02-21T14:35:17.931Z"
   },
   {
    "duration": 15,
    "start_time": "2022-02-21T14:35:17.937Z"
   },
   {
    "duration": 15,
    "start_time": "2022-02-21T14:35:17.956Z"
   },
   {
    "duration": 7790,
    "start_time": "2022-02-21T14:35:17.973Z"
   },
   {
    "duration": 3,
    "start_time": "2022-02-21T14:35:25.765Z"
   },
   {
    "duration": 676,
    "start_time": "2022-02-21T14:35:25.770Z"
   },
   {
    "duration": 687,
    "start_time": "2022-02-21T14:35:26.448Z"
   },
   {
    "duration": 1264,
    "start_time": "2022-02-21T16:21:36.290Z"
   },
   {
    "duration": 4,
    "start_time": "2022-02-21T16:21:37.556Z"
   },
   {
    "duration": 11,
    "start_time": "2022-02-21T16:21:37.563Z"
   },
   {
    "duration": 146,
    "start_time": "2022-02-21T16:21:37.576Z"
   },
   {
    "duration": 1573,
    "start_time": "2022-02-21T16:21:37.724Z"
   },
   {
    "duration": 131,
    "start_time": "2022-02-21T16:21:39.299Z"
   },
   {
    "duration": 1516,
    "start_time": "2022-02-21T16:21:39.432Z"
   },
   {
    "duration": 139,
    "start_time": "2022-02-21T16:21:40.952Z"
   },
   {
    "duration": 1531,
    "start_time": "2022-02-21T16:21:41.094Z"
   },
   {
    "duration": 10,
    "start_time": "2022-02-21T16:21:42.627Z"
   },
   {
    "duration": 13,
    "start_time": "2022-02-21T16:21:42.639Z"
   },
   {
    "duration": 45,
    "start_time": "2022-02-21T16:21:42.654Z"
   },
   {
    "duration": 2,
    "start_time": "2022-02-21T16:21:42.701Z"
   },
   {
    "duration": 15,
    "start_time": "2022-02-21T16:21:42.705Z"
   },
   {
    "duration": 6,
    "start_time": "2022-02-21T16:21:42.722Z"
   },
   {
    "duration": 12,
    "start_time": "2022-02-21T16:21:42.730Z"
   },
   {
    "duration": 374,
    "start_time": "2022-02-21T16:21:42.744Z"
   },
   {
    "duration": 4,
    "start_time": "2022-02-21T16:21:43.121Z"
   },
   {
    "duration": 95,
    "start_time": "2022-02-21T16:21:43.127Z"
   },
   {
    "duration": 12,
    "start_time": "2022-02-21T16:21:43.224Z"
   },
   {
    "duration": 3,
    "start_time": "2022-02-21T16:21:43.238Z"
   },
   {
    "duration": 5,
    "start_time": "2022-02-21T16:21:43.243Z"
   },
   {
    "duration": 7,
    "start_time": "2022-02-21T16:21:43.252Z"
   },
   {
    "duration": 7949,
    "start_time": "2022-02-21T16:21:43.261Z"
   },
   {
    "duration": 3,
    "start_time": "2022-02-21T16:21:51.218Z"
   },
   {
    "duration": 651,
    "start_time": "2022-02-21T16:21:51.222Z"
   },
   {
    "duration": 692,
    "start_time": "2022-02-21T16:21:51.874Z"
   },
   {
    "duration": 287,
    "start_time": "2022-02-21T16:23:26.139Z"
   },
   {
    "duration": 5,
    "start_time": "2022-02-21T16:24:57.782Z"
   },
   {
    "duration": 215,
    "start_time": "2022-02-21T16:24:59.012Z"
   },
   {
    "duration": 3,
    "start_time": "2022-02-21T16:25:00.135Z"
   },
   {
    "duration": 6,
    "start_time": "2022-02-21T16:25:01.006Z"
   },
   {
    "duration": 9,
    "start_time": "2022-02-21T16:25:01.858Z"
   },
   {
    "duration": 3,
    "start_time": "2022-02-21T16:25:03.647Z"
   },
   {
    "duration": 3,
    "start_time": "2022-02-21T16:25:04.703Z"
   },
   {
    "duration": 6,
    "start_time": "2022-02-21T16:25:07.438Z"
   },
   {
    "duration": 7919,
    "start_time": "2022-02-21T16:25:09.233Z"
   },
   {
    "duration": 3,
    "start_time": "2022-02-21T16:32:37.327Z"
   },
   {
    "duration": 6,
    "start_time": "2022-02-21T16:32:44.604Z"
   },
   {
    "duration": 8335,
    "start_time": "2022-02-21T16:32:46.753Z"
   },
   {
    "duration": 3,
    "start_time": "2022-02-21T16:32:55.091Z"
   },
   {
    "duration": 764,
    "start_time": "2022-02-21T16:32:55.096Z"
   },
   {
    "duration": 548,
    "start_time": "2022-02-21T16:32:55.862Z"
   },
   {
    "duration": 18,
    "start_time": "2022-02-21T16:33:56.527Z"
   },
   {
    "duration": 79,
    "start_time": "2022-02-21T16:33:57.235Z"
   },
   {
    "duration": 3,
    "start_time": "2022-02-21T16:34:11.222Z"
   },
   {
    "duration": 3,
    "start_time": "2022-02-21T16:34:32.014Z"
   },
   {
    "duration": 6,
    "start_time": "2022-02-21T16:34:35.469Z"
   },
   {
    "duration": 7843,
    "start_time": "2022-02-21T16:34:36.798Z"
   },
   {
    "duration": 4,
    "start_time": "2022-02-21T16:38:22.067Z"
   },
   {
    "duration": 6,
    "start_time": "2022-02-21T16:38:24.256Z"
   },
   {
    "duration": 8937,
    "start_time": "2022-02-21T16:38:24.964Z"
   },
   {
    "duration": 3,
    "start_time": "2022-02-21T16:38:33.903Z"
   },
   {
    "duration": 1194,
    "start_time": "2022-02-21T16:38:33.909Z"
   },
   {
    "duration": 917,
    "start_time": "2022-02-21T16:38:35.106Z"
   },
   {
    "duration": 10,
    "start_time": "2022-02-21T16:42:18.025Z"
   },
   {
    "duration": 8157,
    "start_time": "2022-02-21T16:42:19.229Z"
   },
   {
    "duration": 9,
    "start_time": "2022-02-21T16:45:53.282Z"
   },
   {
    "duration": 8438,
    "start_time": "2022-02-21T16:45:55.083Z"
   },
   {
    "duration": 3,
    "start_time": "2022-02-21T16:48:51.675Z"
   },
   {
    "duration": 1265,
    "start_time": "2022-02-21T16:48:58.522Z"
   },
   {
    "duration": 3,
    "start_time": "2022-02-21T16:48:59.789Z"
   },
   {
    "duration": 9,
    "start_time": "2022-02-21T16:48:59.794Z"
   },
   {
    "duration": 134,
    "start_time": "2022-02-21T16:48:59.804Z"
   },
   {
    "duration": 1503,
    "start_time": "2022-02-21T16:48:59.939Z"
   },
   {
    "duration": 140,
    "start_time": "2022-02-21T16:49:01.444Z"
   },
   {
    "duration": 1472,
    "start_time": "2022-02-21T16:49:01.586Z"
   },
   {
    "duration": 135,
    "start_time": "2022-02-21T16:49:03.061Z"
   },
   {
    "duration": 2246,
    "start_time": "2022-02-21T16:49:03.198Z"
   },
   {
    "duration": 12,
    "start_time": "2022-02-21T16:49:05.447Z"
   },
   {
    "duration": 16,
    "start_time": "2022-02-21T16:49:05.460Z"
   },
   {
    "duration": 51,
    "start_time": "2022-02-21T16:49:05.478Z"
   },
   {
    "duration": 19,
    "start_time": "2022-02-21T16:49:05.531Z"
   },
   {
    "duration": 4,
    "start_time": "2022-02-21T16:49:05.552Z"
   },
   {
    "duration": 6,
    "start_time": "2022-02-21T16:49:05.558Z"
   },
   {
    "duration": 153,
    "start_time": "2022-02-21T16:49:05.565Z"
   },
   {
    "duration": 6,
    "start_time": "2022-02-21T16:49:05.720Z"
   },
   {
    "duration": 98,
    "start_time": "2022-02-21T16:49:05.734Z"
   },
   {
    "duration": 18,
    "start_time": "2022-02-21T16:49:05.834Z"
   },
   {
    "duration": 4,
    "start_time": "2022-02-21T16:49:05.854Z"
   },
   {
    "duration": 5,
    "start_time": "2022-02-21T16:49:05.860Z"
   },
   {
    "duration": 15,
    "start_time": "2022-02-21T16:49:05.867Z"
   },
   {
    "duration": 8201,
    "start_time": "2022-02-21T16:49:05.886Z"
   },
   {
    "duration": 4,
    "start_time": "2022-02-21T16:49:14.089Z"
   },
   {
    "duration": 798,
    "start_time": "2022-02-21T16:49:14.095Z"
   },
   {
    "duration": 1041,
    "start_time": "2022-02-21T16:49:14.896Z"
   },
   {
    "duration": 4,
    "start_time": "2022-02-21T16:54:26.646Z"
   },
   {
    "duration": 6,
    "start_time": "2022-02-21T16:54:47.519Z"
   },
   {
    "duration": 8585,
    "start_time": "2022-02-21T16:54:49.734Z"
   },
   {
    "duration": 4,
    "start_time": "2022-02-21T16:55:11.791Z"
   },
   {
    "duration": 8460,
    "start_time": "2022-02-21T16:57:25.112Z"
   },
   {
    "duration": 4,
    "start_time": "2022-02-21T16:57:33.574Z"
   },
   {
    "duration": 697,
    "start_time": "2022-02-21T16:57:33.580Z"
   },
   {
    "duration": 574,
    "start_time": "2022-02-21T16:57:34.279Z"
   },
   {
    "duration": 648,
    "start_time": "2022-02-21T16:58:52.830Z"
   },
   {
    "duration": 555,
    "start_time": "2022-02-21T16:58:53.513Z"
   },
   {
    "duration": 1278,
    "start_time": "2022-02-21T17:07:15.922Z"
   },
   {
    "duration": 4,
    "start_time": "2022-02-21T17:07:17.203Z"
   },
   {
    "duration": 11,
    "start_time": "2022-02-21T17:07:17.209Z"
   },
   {
    "duration": 148,
    "start_time": "2022-02-21T17:07:17.222Z"
   },
   {
    "duration": 1475,
    "start_time": "2022-02-21T17:07:17.372Z"
   },
   {
    "duration": 131,
    "start_time": "2022-02-21T17:07:18.848Z"
   },
   {
    "duration": 1467,
    "start_time": "2022-02-21T17:07:18.981Z"
   },
   {
    "duration": 128,
    "start_time": "2022-02-21T17:07:20.450Z"
   },
   {
    "duration": 1514,
    "start_time": "2022-02-21T17:07:20.581Z"
   },
   {
    "duration": 9,
    "start_time": "2022-02-21T17:07:22.097Z"
   },
   {
    "duration": 19,
    "start_time": "2022-02-21T17:07:22.108Z"
   },
   {
    "duration": 43,
    "start_time": "2022-02-21T17:07:22.129Z"
   },
   {
    "duration": 20,
    "start_time": "2022-02-21T17:07:22.174Z"
   },
   {
    "duration": 23,
    "start_time": "2022-02-21T17:07:22.195Z"
   },
   {
    "duration": 9,
    "start_time": "2022-02-21T17:07:22.220Z"
   },
   {
    "duration": 100,
    "start_time": "2022-02-21T17:07:22.230Z"
   },
   {
    "duration": 5,
    "start_time": "2022-02-21T17:07:22.418Z"
   },
   {
    "duration": 94,
    "start_time": "2022-02-21T17:07:22.425Z"
   },
   {
    "duration": 15,
    "start_time": "2022-02-21T17:07:22.521Z"
   },
   {
    "duration": 4,
    "start_time": "2022-02-21T17:07:22.538Z"
   },
   {
    "duration": 7,
    "start_time": "2022-02-21T17:07:22.544Z"
   },
   {
    "duration": 11,
    "start_time": "2022-02-21T17:07:22.552Z"
   },
   {
    "duration": 7774,
    "start_time": "2022-02-21T17:07:22.565Z"
   },
   {
    "duration": 4,
    "start_time": "2022-02-21T17:07:30.341Z"
   },
   {
    "duration": 644,
    "start_time": "2022-02-21T17:07:30.347Z"
   },
   {
    "duration": 675,
    "start_time": "2022-02-21T17:07:30.993Z"
   },
   {
    "duration": 353,
    "start_time": "2022-02-22T07:16:59.669Z"
   },
   {
    "duration": 1616,
    "start_time": "2022-02-22T07:17:31.459Z"
   },
   {
    "duration": 7,
    "start_time": "2022-02-22T07:17:33.078Z"
   },
   {
    "duration": 37,
    "start_time": "2022-02-22T07:17:33.089Z"
   },
   {
    "duration": 298,
    "start_time": "2022-02-22T07:17:33.129Z"
   },
   {
    "duration": 2641,
    "start_time": "2022-02-22T07:17:33.430Z"
   },
   {
    "duration": 661,
    "start_time": "2022-02-22T07:17:36.073Z"
   },
   {
    "duration": 2183,
    "start_time": "2022-02-22T07:17:36.737Z"
   },
   {
    "duration": 532,
    "start_time": "2022-02-22T07:17:38.927Z"
   },
   {
    "duration": 2299,
    "start_time": "2022-02-22T07:17:39.463Z"
   },
   {
    "duration": 14,
    "start_time": "2022-02-22T07:17:41.764Z"
   },
   {
    "duration": 22,
    "start_time": "2022-02-22T07:17:41.780Z"
   },
   {
    "duration": 76,
    "start_time": "2022-02-22T07:17:41.804Z"
   },
   {
    "duration": 26,
    "start_time": "2022-02-22T07:17:41.883Z"
   },
   {
    "duration": 4,
    "start_time": "2022-02-22T07:17:41.911Z"
   },
   {
    "duration": 7,
    "start_time": "2022-02-22T07:17:41.926Z"
   },
   {
    "duration": 292,
    "start_time": "2022-02-22T07:17:41.935Z"
   },
   {
    "duration": 4,
    "start_time": "2022-02-22T07:17:42.231Z"
   },
   {
    "duration": 8,
    "start_time": "2022-02-22T07:17:42.327Z"
   },
   {
    "duration": 14,
    "start_time": "2022-02-22T07:17:42.337Z"
   },
   {
    "duration": 5,
    "start_time": "2022-02-22T07:17:42.354Z"
   },
   {
    "duration": 19,
    "start_time": "2022-02-22T07:17:42.361Z"
   },
   {
    "duration": 7,
    "start_time": "2022-02-22T07:17:42.382Z"
   },
   {
    "duration": 4,
    "start_time": "2022-02-22T07:17:42.426Z"
   },
   {
    "duration": 10,
    "start_time": "2022-02-22T07:17:42.433Z"
   },
   {
    "duration": 10,
    "start_time": "2022-02-22T07:17:42.446Z"
   },
   {
    "duration": 12690,
    "start_time": "2022-02-22T07:17:42.458Z"
   },
   {
    "duration": 4,
    "start_time": "2022-02-22T07:17:55.151Z"
   },
   {
    "duration": 1035,
    "start_time": "2022-02-22T07:17:55.157Z"
   },
   {
    "duration": 1048,
    "start_time": "2022-02-22T07:17:56.194Z"
   },
   {
    "duration": 5,
    "start_time": "2022-02-22T07:19:08.955Z"
   },
   {
    "duration": 7,
    "start_time": "2022-02-22T07:20:39.019Z"
   },
   {
    "duration": 220,
    "start_time": "2022-02-22T07:20:39.906Z"
   },
   {
    "duration": 4,
    "start_time": "2022-02-22T07:20:41.546Z"
   },
   {
    "duration": 6,
    "start_time": "2022-02-22T07:20:43.787Z"
   },
   {
    "duration": 13,
    "start_time": "2022-02-22T07:20:44.210Z"
   },
   {
    "duration": 5,
    "start_time": "2022-02-22T07:20:47.762Z"
   },
   {
    "duration": 4,
    "start_time": "2022-02-22T07:20:52.530Z"
   },
   {
    "duration": 3,
    "start_time": "2022-02-22T07:20:52.690Z"
   },
   {
    "duration": 4,
    "start_time": "2022-02-22T07:20:52.850Z"
   },
   {
    "duration": 877,
    "start_time": "2022-02-22T07:21:52.459Z"
   },
   {
    "duration": 15523,
    "start_time": "2022-02-22T07:21:37.817Z"
   },
   {
    "duration": 15517,
    "start_time": "2022-02-22T07:21:37.825Z"
   },
   {
    "duration": 15506,
    "start_time": "2022-02-22T07:21:37.838Z"
   },
   {
    "duration": 8,
    "start_time": "2022-02-22T07:23:14.592Z"
   },
   {
    "duration": 255,
    "start_time": "2022-02-22T07:23:15.472Z"
   },
   {
    "duration": 4,
    "start_time": "2022-02-22T07:23:17.201Z"
   },
   {
    "duration": 7,
    "start_time": "2022-02-22T07:23:18.248Z"
   },
   {
    "duration": 12,
    "start_time": "2022-02-22T07:23:20.051Z"
   },
   {
    "duration": 4,
    "start_time": "2022-02-22T07:23:24.144Z"
   },
   {
    "duration": 263,
    "start_time": "2022-02-22T07:23:25.304Z"
   },
   {
    "duration": 344,
    "start_time": "2022-02-22T07:23:25.584Z"
   },
   {
    "duration": 632,
    "start_time": "2022-02-22T07:23:25.995Z"
   },
   {
    "duration": 15518,
    "start_time": "2022-02-22T07:23:11.111Z"
   },
   {
    "duration": 1879,
    "start_time": "2022-02-22T09:37:48.211Z"
   },
   {
    "duration": 6,
    "start_time": "2022-02-22T09:37:50.094Z"
   },
   {
    "duration": 18,
    "start_time": "2022-02-22T09:37:50.104Z"
   },
   {
    "duration": 282,
    "start_time": "2022-02-22T09:37:50.125Z"
   },
   {
    "duration": 2318,
    "start_time": "2022-02-22T09:37:50.410Z"
   },
   {
    "duration": 539,
    "start_time": "2022-02-22T09:37:52.732Z"
   },
   {
    "duration": 2240,
    "start_time": "2022-02-22T09:37:53.274Z"
   },
   {
    "duration": 545,
    "start_time": "2022-02-22T09:37:55.520Z"
   },
   {
    "duration": 2493,
    "start_time": "2022-02-22T09:37:56.068Z"
   },
   {
    "duration": 13,
    "start_time": "2022-02-22T09:37:58.563Z"
   },
   {
    "duration": 16,
    "start_time": "2022-02-22T09:37:58.595Z"
   },
   {
    "duration": 57,
    "start_time": "2022-02-22T09:37:58.614Z"
   },
   {
    "duration": 41,
    "start_time": "2022-02-22T09:37:58.673Z"
   },
   {
    "duration": 5,
    "start_time": "2022-02-22T09:37:58.716Z"
   },
   {
    "duration": 8,
    "start_time": "2022-02-22T09:37:58.724Z"
   },
   {
    "duration": 371,
    "start_time": "2022-02-22T09:37:58.735Z"
   },
   {
    "duration": 4,
    "start_time": "2022-02-22T09:37:59.194Z"
   },
   {
    "duration": 11,
    "start_time": "2022-02-22T09:37:59.201Z"
   },
   {
    "duration": 13,
    "start_time": "2022-02-22T09:37:59.214Z"
   },
   {
    "duration": 6,
    "start_time": "2022-02-22T09:37:59.230Z"
   },
   {
    "duration": 472,
    "start_time": "2022-02-22T09:37:59.239Z"
   },
   {
    "duration": 15402,
    "start_time": "2022-02-22T09:37:44.312Z"
   },
   {
    "duration": 15397,
    "start_time": "2022-02-22T09:37:44.319Z"
   },
   {
    "duration": 15392,
    "start_time": "2022-02-22T09:37:44.326Z"
   },
   {
    "duration": 15383,
    "start_time": "2022-02-22T09:37:44.337Z"
   },
   {
    "duration": 15379,
    "start_time": "2022-02-22T09:37:44.343Z"
   },
   {
    "duration": 15374,
    "start_time": "2022-02-22T09:37:44.350Z"
   },
   {
    "duration": 15364,
    "start_time": "2022-02-22T09:37:44.362Z"
   },
   {
    "duration": 15354,
    "start_time": "2022-02-22T09:37:44.374Z"
   },
   {
    "duration": 15349,
    "start_time": "2022-02-22T09:37:44.381Z"
   },
   {
    "duration": 13,
    "start_time": "2022-02-22T09:38:03.113Z"
   },
   {
    "duration": 9,
    "start_time": "2022-02-22T09:38:20.191Z"
   },
   {
    "duration": 279,
    "start_time": "2022-02-22T09:38:20.862Z"
   },
   {
    "duration": 10,
    "start_time": "2022-02-22T09:38:23.079Z"
   },
   {
    "duration": 9,
    "start_time": "2022-02-22T09:38:23.273Z"
   },
   {
    "duration": 9,
    "start_time": "2022-02-22T09:38:23.463Z"
   },
   {
    "duration": 13,
    "start_time": "2022-02-22T09:38:42.463Z"
   },
   {
    "duration": 12,
    "start_time": "2022-02-22T09:38:43.783Z"
   },
   {
    "duration": 253,
    "start_time": "2022-02-22T09:45:07.478Z"
   },
   {
    "duration": 20,
    "start_time": "2022-02-22T09:45:11.052Z"
   },
   {
    "duration": 5,
    "start_time": "2022-02-22T09:45:11.469Z"
   },
   {
    "duration": 89,
    "start_time": "2022-02-22T09:50:25.290Z"
   },
   {
    "duration": 393,
    "start_time": "2022-02-22T09:50:53.882Z"
   },
   {
    "duration": 32,
    "start_time": "2022-02-22T09:52:00.036Z"
   },
   {
    "duration": 28,
    "start_time": "2022-02-22T09:53:39.025Z"
   },
   {
    "duration": 78,
    "start_time": "2022-02-22T09:55:24.439Z"
   },
   {
    "duration": 262,
    "start_time": "2022-02-22T09:55:48.487Z"
   },
   {
    "duration": 30,
    "start_time": "2022-02-22T09:56:02.495Z"
   },
   {
    "duration": 7,
    "start_time": "2022-02-22T09:57:34.877Z"
   },
   {
    "duration": 194,
    "start_time": "2022-02-22T09:57:35.708Z"
   },
   {
    "duration": 4,
    "start_time": "2022-02-22T09:57:36.124Z"
   },
   {
    "duration": 6,
    "start_time": "2022-02-22T09:57:36.524Z"
   },
   {
    "duration": 14,
    "start_time": "2022-02-22T09:57:36.927Z"
   },
   {
    "duration": 5,
    "start_time": "2022-02-22T09:57:38.046Z"
   },
   {
    "duration": 31,
    "start_time": "2022-02-22T09:57:41.117Z"
   },
   {
    "duration": 5,
    "start_time": "2022-02-22T09:57:42.421Z"
   },
   {
    "duration": 5,
    "start_time": "2022-02-22T09:58:00.509Z"
   },
   {
    "duration": 10,
    "start_time": "2022-02-22T09:58:13.973Z"
   },
   {
    "duration": 12852,
    "start_time": "2022-02-22T09:58:16.243Z"
   },
   {
    "duration": 4,
    "start_time": "2022-02-22T09:58:35.636Z"
   },
   {
    "duration": 1050,
    "start_time": "2022-02-22T09:58:36.147Z"
   },
   {
    "duration": 1026,
    "start_time": "2022-02-22T09:58:38.308Z"
   },
   {
    "duration": 9,
    "start_time": "2022-02-22T10:02:55.888Z"
   },
   {
    "duration": 12285,
    "start_time": "2022-02-22T10:02:58.066Z"
   },
   {
    "duration": 5,
    "start_time": "2022-02-22T10:05:18.599Z"
   },
   {
    "duration": 9,
    "start_time": "2022-02-22T10:05:34.910Z"
   },
   {
    "duration": 7,
    "start_time": "2022-02-22T10:05:49.223Z"
   },
   {
    "duration": 9,
    "start_time": "2022-02-22T10:07:29.541Z"
   },
   {
    "duration": 38,
    "start_time": "2022-02-22T10:17:14.986Z"
   },
   {
    "duration": 29,
    "start_time": "2022-02-22T10:18:05.865Z"
   },
   {
    "duration": 32,
    "start_time": "2022-02-22T10:18:13.024Z"
   },
   {
    "duration": 291,
    "start_time": "2022-02-22T10:19:15.102Z"
   },
   {
    "duration": 9,
    "start_time": "2022-02-22T10:20:05.047Z"
   },
   {
    "duration": 11,
    "start_time": "2022-02-22T10:20:11.133Z"
   },
   {
    "duration": 8,
    "start_time": "2022-02-22T10:20:17.326Z"
   },
   {
    "duration": 112,
    "start_time": "2022-02-22T10:21:34.789Z"
   },
   {
    "duration": 11,
    "start_time": "2022-02-22T10:23:02.095Z"
   },
   {
    "duration": 21,
    "start_time": "2022-02-22T10:23:30.169Z"
   },
   {
    "duration": 12,
    "start_time": "2022-02-22T10:24:14.071Z"
   },
   {
    "duration": 10,
    "start_time": "2022-02-22T10:24:43.399Z"
   },
   {
    "duration": 9,
    "start_time": "2022-02-22T10:24:45.495Z"
   },
   {
    "duration": 13,
    "start_time": "2022-02-22T10:24:47.150Z"
   },
   {
    "duration": 1684,
    "start_time": "2022-02-22T10:24:57.861Z"
   },
   {
    "duration": 5,
    "start_time": "2022-02-22T10:24:59.548Z"
   },
   {
    "duration": 9,
    "start_time": "2022-02-22T10:24:59.556Z"
   },
   {
    "duration": 183,
    "start_time": "2022-02-22T10:24:59.569Z"
   },
   {
    "duration": 2554,
    "start_time": "2022-02-22T10:24:59.754Z"
   },
   {
    "duration": 191,
    "start_time": "2022-02-22T10:25:02.313Z"
   },
   {
    "duration": 2302,
    "start_time": "2022-02-22T10:25:02.506Z"
   },
   {
    "duration": 171,
    "start_time": "2022-02-22T10:25:04.814Z"
   },
   {
    "duration": 2365,
    "start_time": "2022-02-22T10:25:04.989Z"
   },
   {
    "duration": 11,
    "start_time": "2022-02-22T10:25:07.357Z"
   },
   {
    "duration": 35,
    "start_time": "2022-02-22T10:25:07.371Z"
   },
   {
    "duration": 84,
    "start_time": "2022-02-22T10:25:07.410Z"
   },
   {
    "duration": 36,
    "start_time": "2022-02-22T10:25:07.498Z"
   },
   {
    "duration": 5,
    "start_time": "2022-02-22T10:25:07.538Z"
   },
   {
    "duration": 7,
    "start_time": "2022-02-22T10:25:07.545Z"
   },
   {
    "duration": 246,
    "start_time": "2022-02-22T10:25:07.555Z"
   },
   {
    "duration": 90,
    "start_time": "2022-02-22T10:25:07.804Z"
   },
   {
    "duration": 10,
    "start_time": "2022-02-22T10:25:07.899Z"
   },
   {
    "duration": 14,
    "start_time": "2022-02-22T10:25:07.913Z"
   },
   {
    "duration": 67,
    "start_time": "2022-02-22T10:25:07.929Z"
   },
   {
    "duration": 426,
    "start_time": "2022-02-22T10:25:07.999Z"
   },
   {
    "duration": 15343,
    "start_time": "2022-02-22T10:24:53.084Z"
   },
   {
    "duration": 15333,
    "start_time": "2022-02-22T10:24:53.096Z"
   },
   {
    "duration": 15327,
    "start_time": "2022-02-22T10:24:53.104Z"
   },
   {
    "duration": 15321,
    "start_time": "2022-02-22T10:24:53.112Z"
   },
   {
    "duration": 15309,
    "start_time": "2022-02-22T10:24:53.126Z"
   },
   {
    "duration": 15295,
    "start_time": "2022-02-22T10:24:53.141Z"
   },
   {
    "duration": 15285,
    "start_time": "2022-02-22T10:24:53.153Z"
   },
   {
    "duration": 15278,
    "start_time": "2022-02-22T10:24:53.162Z"
   },
   {
    "duration": 15266,
    "start_time": "2022-02-22T10:24:53.175Z"
   },
   {
    "duration": 33,
    "start_time": "2022-02-22T10:25:32.142Z"
   },
   {
    "duration": 5,
    "start_time": "2022-02-22T10:25:35.346Z"
   },
   {
    "duration": 17,
    "start_time": "2022-02-22T10:25:38.586Z"
   },
   {
    "duration": 9,
    "start_time": "2022-02-22T10:25:41.491Z"
   },
   {
    "duration": 8,
    "start_time": "2022-02-22T10:25:44.210Z"
   },
   {
    "duration": 12,
    "start_time": "2022-02-22T10:25:50.881Z"
   },
   {
    "duration": 21027,
    "start_time": "2022-02-22T10:26:00.651Z"
   },
   {
    "duration": 9,
    "start_time": "2022-02-22T10:27:10.946Z"
   },
   {
    "duration": 7,
    "start_time": "2022-02-22T10:27:12.410Z"
   },
   {
    "duration": 13,
    "start_time": "2022-02-22T10:27:12.834Z"
   },
   {
    "duration": 13165,
    "start_time": "2022-02-22T10:27:20.908Z"
   },
   {
    "duration": 4,
    "start_time": "2022-02-22T10:28:07.672Z"
   },
   {
    "duration": 1609,
    "start_time": "2022-02-22T10:28:13.081Z"
   },
   {
    "duration": 998,
    "start_time": "2022-02-22T10:28:28.144Z"
   },
   {
    "duration": 6,
    "start_time": "2022-02-22T10:30:02.392Z"
   },
   {
    "duration": 2008,
    "start_time": "2022-02-22T10:31:00.441Z"
   },
   {
    "duration": 7,
    "start_time": "2022-02-22T10:31:02.453Z"
   },
   {
    "duration": 65,
    "start_time": "2022-02-22T10:31:02.464Z"
   },
   {
    "duration": 174,
    "start_time": "2022-02-22T10:31:02.533Z"
   },
   {
    "duration": 3488,
    "start_time": "2022-02-22T10:31:02.710Z"
   },
   {
    "duration": 158,
    "start_time": "2022-02-22T10:31:06.201Z"
   },
   {
    "duration": 2343,
    "start_time": "2022-02-22T10:31:06.362Z"
   },
   {
    "duration": 164,
    "start_time": "2022-02-22T10:31:08.709Z"
   },
   {
    "duration": 2841,
    "start_time": "2022-02-22T10:31:08.877Z"
   },
   {
    "duration": 14,
    "start_time": "2022-02-22T10:31:11.721Z"
   },
   {
    "duration": 20,
    "start_time": "2022-02-22T10:31:11.738Z"
   },
   {
    "duration": 70,
    "start_time": "2022-02-22T10:31:11.760Z"
   },
   {
    "duration": 24,
    "start_time": "2022-02-22T10:31:11.833Z"
   },
   {
    "duration": 6,
    "start_time": "2022-02-22T10:31:11.860Z"
   },
   {
    "duration": 31,
    "start_time": "2022-02-22T10:31:11.869Z"
   },
   {
    "duration": 191,
    "start_time": "2022-02-22T10:31:11.903Z"
   },
   {
    "duration": 10,
    "start_time": "2022-02-22T10:31:12.097Z"
   },
   {
    "duration": 88,
    "start_time": "2022-02-22T10:31:12.109Z"
   },
   {
    "duration": 18,
    "start_time": "2022-02-22T10:31:12.200Z"
   },
   {
    "duration": 17,
    "start_time": "2022-02-22T10:31:12.221Z"
   },
   {
    "duration": 67,
    "start_time": "2022-02-22T10:31:12.242Z"
   },
   {
    "duration": 7,
    "start_time": "2022-02-22T10:31:12.313Z"
   },
   {
    "duration": 35,
    "start_time": "2022-02-22T10:31:12.326Z"
   },
   {
    "duration": 29,
    "start_time": "2022-02-22T10:31:12.365Z"
   },
   {
    "duration": 13077,
    "start_time": "2022-02-22T10:31:12.398Z"
   },
   {
    "duration": 3,
    "start_time": "2022-02-22T10:31:25.478Z"
   },
   {
    "duration": 1192,
    "start_time": "2022-02-22T10:31:25.495Z"
   },
   {
    "duration": 1127,
    "start_time": "2022-02-22T10:31:26.690Z"
   },
   {
    "duration": 1320,
    "start_time": "2022-02-22T10:32:46.369Z"
   },
   {
    "duration": 1657,
    "start_time": "2022-02-22T10:32:57.436Z"
   },
   {
    "duration": 1762,
    "start_time": "2022-02-22T10:33:32.209Z"
   },
   {
    "duration": 1630,
    "start_time": "2022-02-22T10:33:40.368Z"
   },
   {
    "duration": 1211,
    "start_time": "2022-02-22T10:33:44.145Z"
   },
   {
    "duration": 1097,
    "start_time": "2022-02-22T10:34:03.002Z"
   },
   {
    "duration": 6,
    "start_time": "2022-02-22T10:35:16.126Z"
   },
   {
    "duration": 1668,
    "start_time": "2022-02-22T10:35:20.748Z"
   },
   {
    "duration": 5,
    "start_time": "2022-02-22T10:35:22.419Z"
   },
   {
    "duration": 10,
    "start_time": "2022-02-22T10:35:22.428Z"
   },
   {
    "duration": 283,
    "start_time": "2022-02-22T10:35:22.441Z"
   },
   {
    "duration": 3223,
    "start_time": "2022-02-22T10:35:22.727Z"
   },
   {
    "duration": 261,
    "start_time": "2022-02-22T10:35:25.954Z"
   },
   {
    "duration": 3975,
    "start_time": "2022-02-22T10:35:26.218Z"
   },
   {
    "duration": 169,
    "start_time": "2022-02-22T10:35:30.197Z"
   },
   {
    "duration": 2400,
    "start_time": "2022-02-22T10:35:30.369Z"
   },
   {
    "duration": 21,
    "start_time": "2022-02-22T10:35:32.773Z"
   },
   {
    "duration": 19,
    "start_time": "2022-02-22T10:35:32.797Z"
   },
   {
    "duration": 52,
    "start_time": "2022-02-22T10:35:32.819Z"
   },
   {
    "duration": 25,
    "start_time": "2022-02-22T10:35:32.894Z"
   },
   {
    "duration": 4,
    "start_time": "2022-02-22T10:35:32.921Z"
   },
   {
    "duration": 12,
    "start_time": "2022-02-22T10:35:32.928Z"
   },
   {
    "duration": 250,
    "start_time": "2022-02-22T10:35:32.943Z"
   },
   {
    "duration": 6,
    "start_time": "2022-02-22T10:35:33.197Z"
   },
   {
    "duration": 98,
    "start_time": "2022-02-22T10:35:33.206Z"
   },
   {
    "duration": 15,
    "start_time": "2022-02-22T10:35:33.306Z"
   },
   {
    "duration": 7,
    "start_time": "2022-02-22T10:35:33.324Z"
   },
   {
    "duration": 73,
    "start_time": "2022-02-22T10:35:33.335Z"
   },
   {
    "duration": 6,
    "start_time": "2022-02-22T10:35:33.410Z"
   },
   {
    "duration": 5,
    "start_time": "2022-02-22T10:35:33.424Z"
   },
   {
    "duration": 10,
    "start_time": "2022-02-22T10:35:33.432Z"
   },
   {
    "duration": 17960,
    "start_time": "2022-02-22T10:35:33.445Z"
   },
   {
    "duration": 4,
    "start_time": "2022-02-22T10:35:51.408Z"
   },
   {
    "duration": 1523,
    "start_time": "2022-02-22T10:35:51.415Z"
   },
   {
    "duration": 989,
    "start_time": "2022-02-22T10:35:52.941Z"
   },
   {
    "duration": 7,
    "start_time": "2022-02-22T10:42:25.548Z"
   },
   {
    "duration": 3,
    "start_time": "2022-02-22T10:42:28.243Z"
   },
   {
    "duration": 11,
    "start_time": "2022-02-22T10:42:29.035Z"
   },
   {
    "duration": 13721,
    "start_time": "2022-02-22T10:42:29.916Z"
   },
   {
    "duration": 9,
    "start_time": "2022-02-22T10:45:54.202Z"
   },
   {
    "duration": 5,
    "start_time": "2022-02-22T10:45:57.176Z"
   },
   {
    "duration": 23679,
    "start_time": "2022-02-22T10:46:01.130Z"
   },
   {
    "duration": 1663,
    "start_time": "2022-02-22T10:46:33.391Z"
   },
   {
    "duration": 7,
    "start_time": "2022-02-22T10:46:35.058Z"
   },
   {
    "duration": 25,
    "start_time": "2022-02-22T10:46:35.069Z"
   },
   {
    "duration": 190,
    "start_time": "2022-02-22T10:46:35.098Z"
   },
   {
    "duration": 2329,
    "start_time": "2022-02-22T10:46:35.293Z"
   },
   {
    "duration": 178,
    "start_time": "2022-02-22T10:46:37.624Z"
   },
   {
    "duration": 2327,
    "start_time": "2022-02-22T10:46:37.805Z"
   },
   {
    "duration": 175,
    "start_time": "2022-02-22T10:46:40.136Z"
   },
   {
    "duration": 2399,
    "start_time": "2022-02-22T10:46:40.314Z"
   },
   {
    "duration": 24,
    "start_time": "2022-02-22T10:46:42.716Z"
   },
   {
    "duration": 25,
    "start_time": "2022-02-22T10:46:42.743Z"
   },
   {
    "duration": 84,
    "start_time": "2022-02-22T10:46:42.771Z"
   },
   {
    "duration": 25,
    "start_time": "2022-02-22T10:46:42.858Z"
   },
   {
    "duration": 10,
    "start_time": "2022-02-22T10:46:42.885Z"
   },
   {
    "duration": 23,
    "start_time": "2022-02-22T10:46:42.899Z"
   },
   {
    "duration": 181,
    "start_time": "2022-02-22T10:46:42.925Z"
   },
   {
    "duration": 83,
    "start_time": "2022-02-22T10:46:43.111Z"
   },
   {
    "duration": 105,
    "start_time": "2022-02-22T10:46:43.198Z"
   },
   {
    "duration": 15,
    "start_time": "2022-02-22T10:46:43.306Z"
   },
   {
    "duration": 5,
    "start_time": "2022-02-22T10:46:43.323Z"
   },
   {
    "duration": 63,
    "start_time": "2022-02-22T10:46:43.330Z"
   },
   {
    "duration": 5,
    "start_time": "2022-02-22T10:46:43.396Z"
   },
   {
    "duration": 10,
    "start_time": "2022-02-22T10:46:43.407Z"
   },
   {
    "duration": 15,
    "start_time": "2022-02-22T10:46:43.421Z"
   },
   {
    "duration": 18845,
    "start_time": "2022-02-22T10:46:43.439Z"
   },
   {
    "duration": 5,
    "start_time": "2022-02-22T10:47:02.294Z"
   },
   {
    "duration": 1983,
    "start_time": "2022-02-22T10:47:02.302Z"
   },
   {
    "duration": 1177,
    "start_time": "2022-02-22T10:47:04.292Z"
   },
   {
    "duration": 8,
    "start_time": "2022-02-22T10:48:15.512Z"
   },
   {
    "duration": 11,
    "start_time": "2022-02-22T10:48:26.835Z"
   },
   {
    "duration": 977,
    "start_time": "2022-02-22T10:48:29.400Z"
   },
   {
    "duration": 17,
    "start_time": "2022-02-22T10:49:39.708Z"
   },
   {
    "duration": 5,
    "start_time": "2022-02-22T10:49:43.772Z"
   },
   {
    "duration": 14,
    "start_time": "2022-02-22T10:49:49.878Z"
   },
   {
    "duration": 13306,
    "start_time": "2022-02-22T10:49:51.310Z"
   },
   {
    "duration": 4,
    "start_time": "2022-02-22T10:50:04.619Z"
   },
   {
    "duration": 9,
    "start_time": "2022-02-22T10:50:47.276Z"
   },
   {
    "duration": 12473,
    "start_time": "2022-02-22T10:50:49.859Z"
   },
   {
    "duration": 13,
    "start_time": "2022-02-22T10:51:28.292Z"
   },
   {
    "duration": 9,
    "start_time": "2022-02-22T10:51:30.426Z"
   },
   {
    "duration": 13310,
    "start_time": "2022-02-22T10:51:31.215Z"
   },
   {
    "duration": 8,
    "start_time": "2022-02-22T10:52:04.936Z"
   },
   {
    "duration": 8,
    "start_time": "2022-02-22T10:55:32.969Z"
   },
   {
    "duration": 6,
    "start_time": "2022-02-22T10:55:47.165Z"
   },
   {
    "duration": 6,
    "start_time": "2022-02-22T10:55:47.179Z"
   },
   {
    "duration": 10,
    "start_time": "2022-02-22T10:55:47.187Z"
   },
   {
    "duration": 223,
    "start_time": "2022-02-22T10:55:47.200Z"
   },
   {
    "duration": 2504,
    "start_time": "2022-02-22T10:55:47.426Z"
   },
   {
    "duration": 169,
    "start_time": "2022-02-22T10:55:49.934Z"
   },
   {
    "duration": 2223,
    "start_time": "2022-02-22T10:55:50.107Z"
   },
   {
    "duration": 159,
    "start_time": "2022-02-22T10:55:52.333Z"
   },
   {
    "duration": 2645,
    "start_time": "2022-02-22T10:55:52.495Z"
   },
   {
    "duration": 15,
    "start_time": "2022-02-22T10:55:55.143Z"
   },
   {
    "duration": 32,
    "start_time": "2022-02-22T10:55:55.162Z"
   },
   {
    "duration": 50,
    "start_time": "2022-02-22T10:55:55.198Z"
   },
   {
    "duration": 44,
    "start_time": "2022-02-22T10:55:55.251Z"
   },
   {
    "duration": 5,
    "start_time": "2022-02-22T10:55:55.298Z"
   },
   {
    "duration": 8,
    "start_time": "2022-02-22T10:55:55.306Z"
   },
   {
    "duration": 193,
    "start_time": "2022-02-22T10:55:55.317Z"
   },
   {
    "duration": 99,
    "start_time": "2022-02-22T10:55:55.596Z"
   },
   {
    "duration": 10,
    "start_time": "2022-02-22T10:55:55.698Z"
   },
   {
    "duration": 19,
    "start_time": "2022-02-22T10:55:55.711Z"
   },
   {
    "duration": 7,
    "start_time": "2022-02-22T10:55:55.733Z"
   },
   {
    "duration": 74,
    "start_time": "2022-02-22T10:55:55.742Z"
   },
   {
    "duration": 5,
    "start_time": "2022-02-22T10:55:55.819Z"
   },
   {
    "duration": 10,
    "start_time": "2022-02-22T10:55:55.827Z"
   },
   {
    "duration": 26,
    "start_time": "2022-02-22T10:55:55.840Z"
   },
   {
    "duration": 10,
    "start_time": "2022-02-22T10:59:59.995Z"
   },
   {
    "duration": 8904,
    "start_time": "2022-02-22T11:00:01.561Z"
   },
   {
    "duration": 8,
    "start_time": "2022-02-22T11:00:22.989Z"
   },
   {
    "duration": 83,
    "start_time": "2022-02-22T11:02:36.130Z"
   },
   {
    "duration": 92,
    "start_time": "2022-02-22T11:02:51.091Z"
   },
   {
    "duration": 91,
    "start_time": "2022-02-22T11:03:04.364Z"
   },
   {
    "duration": 17,
    "start_time": "2022-02-22T11:03:14.899Z"
   },
   {
    "duration": 11,
    "start_time": "2022-02-22T11:03:26.252Z"
   },
   {
    "duration": 5,
    "start_time": "2022-02-22T11:03:30.069Z"
   },
   {
    "duration": 8,
    "start_time": "2022-02-22T11:03:36.809Z"
   },
   {
    "duration": 8,
    "start_time": "2022-02-22T11:03:48.378Z"
   },
   {
    "duration": 7,
    "start_time": "2022-02-22T11:03:56.091Z"
   },
   {
    "duration": 17,
    "start_time": "2022-02-22T11:04:26.741Z"
   },
   {
    "duration": 10,
    "start_time": "2022-02-22T11:04:29.053Z"
   },
   {
    "duration": 7,
    "start_time": "2022-02-22T11:04:54.393Z"
   },
   {
    "duration": 7,
    "start_time": "2022-02-22T11:05:03.232Z"
   },
   {
    "duration": 8,
    "start_time": "2022-02-22T11:05:07.250Z"
   },
   {
    "duration": 11,
    "start_time": "2022-02-22T11:36:50.710Z"
   },
   {
    "duration": 6,
    "start_time": "2022-02-22T11:36:59.074Z"
   },
   {
    "duration": 10,
    "start_time": "2022-02-22T11:44:06.951Z"
   },
   {
    "duration": 14,
    "start_time": "2022-02-22T11:44:31.494Z"
   },
   {
    "duration": 15,
    "start_time": "2022-02-22T11:47:57.587Z"
   },
   {
    "duration": 7,
    "start_time": "2022-02-22T11:49:51.697Z"
   },
   {
    "duration": 14,
    "start_time": "2022-02-22T11:53:32.786Z"
   },
   {
    "duration": 9,
    "start_time": "2022-02-22T11:53:33.101Z"
   },
   {
    "duration": 9,
    "start_time": "2022-02-22T11:53:33.837Z"
   },
   {
    "duration": 14,
    "start_time": "2022-02-22T11:53:41.924Z"
   },
   {
    "duration": 8,
    "start_time": "2022-02-22T11:53:42.325Z"
   },
   {
    "duration": 7,
    "start_time": "2022-02-22T11:53:42.717Z"
   },
   {
    "duration": 10,
    "start_time": "2022-02-22T11:54:01.277Z"
   },
   {
    "duration": 10,
    "start_time": "2022-02-22T11:54:02.108Z"
   },
   {
    "duration": 10,
    "start_time": "2022-02-22T11:54:02.580Z"
   },
   {
    "duration": 14504,
    "start_time": "2022-02-22T11:54:36.637Z"
   },
   {
    "duration": 1591,
    "start_time": "2022-02-22T11:55:06.512Z"
   },
   {
    "duration": 6,
    "start_time": "2022-02-22T11:55:08.106Z"
   },
   {
    "duration": 28,
    "start_time": "2022-02-22T11:55:08.116Z"
   },
   {
    "duration": 278,
    "start_time": "2022-02-22T11:55:08.149Z"
   },
   {
    "duration": 2308,
    "start_time": "2022-02-22T11:55:08.430Z"
   },
   {
    "duration": 172,
    "start_time": "2022-02-22T11:55:10.742Z"
   },
   {
    "duration": 2381,
    "start_time": "2022-02-22T11:55:10.916Z"
   },
   {
    "duration": 170,
    "start_time": "2022-02-22T11:55:13.301Z"
   },
   {
    "duration": 2319,
    "start_time": "2022-02-22T11:55:13.474Z"
   },
   {
    "duration": 12,
    "start_time": "2022-02-22T11:55:15.796Z"
   },
   {
    "duration": 17,
    "start_time": "2022-02-22T11:55:15.811Z"
   },
   {
    "duration": 101,
    "start_time": "2022-02-22T11:55:15.831Z"
   },
   {
    "duration": 61,
    "start_time": "2022-02-22T11:55:15.935Z"
   },
   {
    "duration": 4,
    "start_time": "2022-02-22T11:55:15.999Z"
   },
   {
    "duration": 6,
    "start_time": "2022-02-22T11:55:16.006Z"
   },
   {
    "duration": 579,
    "start_time": "2022-02-22T11:55:16.015Z"
   },
   {
    "duration": 3,
    "start_time": "2022-02-22T11:55:16.597Z"
   },
   {
    "duration": 10,
    "start_time": "2022-02-22T11:55:16.603Z"
   },
   {
    "duration": 16,
    "start_time": "2022-02-22T11:55:16.618Z"
   },
   {
    "duration": 57,
    "start_time": "2022-02-22T11:55:16.637Z"
   },
   {
    "duration": 50,
    "start_time": "2022-02-22T11:55:16.698Z"
   },
   {
    "duration": 5,
    "start_time": "2022-02-22T11:55:16.750Z"
   },
   {
    "duration": 15,
    "start_time": "2022-02-22T11:55:16.795Z"
   },
   {
    "duration": 11,
    "start_time": "2022-02-22T11:55:16.814Z"
   },
   {
    "duration": 11,
    "start_time": "2022-02-22T11:55:16.829Z"
   },
   {
    "duration": 7,
    "start_time": "2022-02-22T11:55:16.843Z"
   },
   {
    "duration": 45,
    "start_time": "2022-02-22T11:55:16.853Z"
   },
   {
    "duration": 16,
    "start_time": "2022-02-22T11:55:16.901Z"
   },
   {
    "duration": 12267,
    "start_time": "2022-02-22T11:55:16.921Z"
   },
   {
    "duration": 4,
    "start_time": "2022-02-22T11:55:29.195Z"
   },
   {
    "duration": 1304,
    "start_time": "2022-02-22T11:55:29.202Z"
   },
   {
    "duration": 1089,
    "start_time": "2022-02-22T11:55:30.509Z"
   },
   {
    "duration": 14,
    "start_time": "2022-02-22T11:55:58.355Z"
   },
   {
    "duration": 11776,
    "start_time": "2022-02-22T11:55:59.499Z"
   },
   {
    "duration": 1112,
    "start_time": "2022-02-22T11:56:37.143Z"
   },
   {
    "duration": 875,
    "start_time": "2022-02-22T11:56:38.513Z"
   },
   {
    "duration": 13,
    "start_time": "2022-02-22T11:57:24.933Z"
   },
   {
    "duration": 9,
    "start_time": "2022-02-22T11:57:25.181Z"
   },
   {
    "duration": 8,
    "start_time": "2022-02-22T11:57:25.415Z"
   },
   {
    "duration": 1689,
    "start_time": "2022-02-22T11:59:25.033Z"
   },
   {
    "duration": 6,
    "start_time": "2022-02-22T11:59:26.725Z"
   },
   {
    "duration": 14,
    "start_time": "2022-02-22T11:59:26.735Z"
   },
   {
    "duration": 199,
    "start_time": "2022-02-22T11:59:26.752Z"
   },
   {
    "duration": 2563,
    "start_time": "2022-02-22T11:59:26.955Z"
   },
   {
    "duration": 173,
    "start_time": "2022-02-22T11:59:29.521Z"
   },
   {
    "duration": 2193,
    "start_time": "2022-02-22T11:59:29.697Z"
   },
   {
    "duration": 162,
    "start_time": "2022-02-22T11:59:31.897Z"
   },
   {
    "duration": 3275,
    "start_time": "2022-02-22T11:59:32.063Z"
   },
   {
    "duration": 16,
    "start_time": "2022-02-22T11:59:35.341Z"
   },
   {
    "duration": 40,
    "start_time": "2022-02-22T11:59:35.360Z"
   },
   {
    "duration": 48,
    "start_time": "2022-02-22T11:59:35.403Z"
   },
   {
    "duration": 43,
    "start_time": "2022-02-22T11:59:35.453Z"
   },
   {
    "duration": 4,
    "start_time": "2022-02-22T11:59:35.499Z"
   },
   {
    "duration": 7,
    "start_time": "2022-02-22T11:59:35.506Z"
   },
   {
    "duration": 11,
    "start_time": "2022-02-22T11:59:35.515Z"
   },
   {
    "duration": 174,
    "start_time": "2022-02-22T11:59:35.528Z"
   },
   {
    "duration": 89,
    "start_time": "2022-02-22T11:59:35.705Z"
   },
   {
    "duration": 8,
    "start_time": "2022-02-22T11:59:35.798Z"
   },
   {
    "duration": 17,
    "start_time": "2022-02-22T11:59:35.892Z"
   },
   {
    "duration": 5,
    "start_time": "2022-02-22T11:59:35.911Z"
   },
   {
    "duration": 65,
    "start_time": "2022-02-22T11:59:35.919Z"
   },
   {
    "duration": 5,
    "start_time": "2022-02-22T11:59:35.988Z"
   },
   {
    "duration": 12,
    "start_time": "2022-02-22T11:59:35.996Z"
   },
   {
    "duration": 8,
    "start_time": "2022-02-22T11:59:36.011Z"
   },
   {
    "duration": 13,
    "start_time": "2022-02-22T11:59:36.021Z"
   },
   {
    "duration": 7,
    "start_time": "2022-02-22T11:59:36.037Z"
   },
   {
    "duration": 47,
    "start_time": "2022-02-22T11:59:36.047Z"
   },
   {
    "duration": 11,
    "start_time": "2022-02-22T11:59:36.096Z"
   },
   {
    "duration": 8540,
    "start_time": "2022-02-22T11:59:36.110Z"
   },
   {
    "duration": 4,
    "start_time": "2022-02-22T11:59:44.652Z"
   },
   {
    "duration": 1097,
    "start_time": "2022-02-22T11:59:44.658Z"
   },
   {
    "duration": 1054,
    "start_time": "2022-02-22T11:59:45.758Z"
   },
   {
    "duration": 10,
    "start_time": "2022-02-22T12:00:30.881Z"
   },
   {
    "duration": 12030,
    "start_time": "2022-02-22T12:00:33.755Z"
   },
   {
    "duration": 7,
    "start_time": "2022-02-22T12:00:45.788Z"
   },
   {
    "duration": 1079,
    "start_time": "2022-02-22T12:00:45.798Z"
   },
   {
    "duration": 1401,
    "start_time": "2022-02-22T12:00:46.880Z"
   },
   {
    "duration": 6,
    "start_time": "2022-02-22T12:05:47.886Z"
   },
   {
    "duration": 7,
    "start_time": "2022-02-22T12:05:48.719Z"
   },
   {
    "duration": 11,
    "start_time": "2022-02-22T12:05:52.207Z"
   },
   {
    "duration": 10689,
    "start_time": "2022-02-22T12:05:54.147Z"
   },
   {
    "duration": 5,
    "start_time": "2022-02-22T12:06:04.839Z"
   },
   {
    "duration": 1144,
    "start_time": "2022-02-22T12:06:04.848Z"
   },
   {
    "duration": 926,
    "start_time": "2022-02-22T12:06:14.467Z"
   },
   {
    "duration": 6,
    "start_time": "2022-02-22T12:07:14.127Z"
   },
   {
    "duration": 30,
    "start_time": "2022-02-22T12:07:56.848Z"
   },
   {
    "duration": 9,
    "start_time": "2022-02-22T12:08:01.334Z"
   },
   {
    "duration": 5,
    "start_time": "2022-02-22T12:08:04.343Z"
   },
   {
    "duration": 509,
    "start_time": "2022-02-22T12:11:20.372Z"
   },
   {
    "duration": 13,
    "start_time": "2022-02-22T12:11:33.973Z"
   },
   {
    "duration": 274,
    "start_time": "2022-02-22T12:11:56.036Z"
   },
   {
    "duration": 13,
    "start_time": "2022-02-22T12:12:06.341Z"
   },
   {
    "duration": 1801,
    "start_time": "2022-02-22T12:12:16.121Z"
   },
   {
    "duration": 6,
    "start_time": "2022-02-22T12:12:17.925Z"
   },
   {
    "duration": 12,
    "start_time": "2022-02-22T12:12:17.935Z"
   },
   {
    "duration": 192,
    "start_time": "2022-02-22T12:12:17.951Z"
   },
   {
    "duration": 3979,
    "start_time": "2022-02-22T12:12:18.146Z"
   },
   {
    "duration": 181,
    "start_time": "2022-02-22T12:12:22.129Z"
   },
   {
    "duration": 3245,
    "start_time": "2022-02-22T12:12:22.313Z"
   },
   {
    "duration": 240,
    "start_time": "2022-02-22T12:12:25.564Z"
   },
   {
    "duration": 2334,
    "start_time": "2022-02-22T12:12:25.809Z"
   },
   {
    "duration": 13,
    "start_time": "2022-02-22T12:12:28.146Z"
   },
   {
    "duration": 41,
    "start_time": "2022-02-22T12:12:28.162Z"
   },
   {
    "duration": 53,
    "start_time": "2022-02-22T12:12:28.206Z"
   },
   {
    "duration": 46,
    "start_time": "2022-02-22T12:12:28.262Z"
   },
   {
    "duration": 4,
    "start_time": "2022-02-22T12:12:28.310Z"
   },
   {
    "duration": 15,
    "start_time": "2022-02-22T12:12:28.318Z"
   },
   {
    "duration": 15,
    "start_time": "2022-02-22T12:12:28.335Z"
   },
   {
    "duration": 344,
    "start_time": "2022-02-22T12:12:28.353Z"
   },
   {
    "duration": 7,
    "start_time": "2022-02-22T12:12:28.701Z"
   },
   {
    "duration": 94,
    "start_time": "2022-02-22T12:12:28.712Z"
   },
   {
    "duration": 15,
    "start_time": "2022-02-22T12:12:28.809Z"
   },
   {
    "duration": 5,
    "start_time": "2022-02-22T12:12:28.826Z"
   },
   {
    "duration": 71,
    "start_time": "2022-02-22T12:12:28.833Z"
   },
   {
    "duration": 4,
    "start_time": "2022-02-22T12:12:28.909Z"
   },
   {
    "duration": 15,
    "start_time": "2022-02-22T12:12:28.916Z"
   },
   {
    "duration": 10,
    "start_time": "2022-02-22T12:12:28.933Z"
   },
   {
    "duration": 48,
    "start_time": "2022-02-22T12:12:28.946Z"
   },
   {
    "duration": 8,
    "start_time": "2022-02-22T12:12:28.997Z"
   },
   {
    "duration": 9,
    "start_time": "2022-02-22T12:12:29.008Z"
   },
   {
    "duration": 9144,
    "start_time": "2022-02-22T12:12:29.020Z"
   },
   {
    "duration": 4,
    "start_time": "2022-02-22T12:12:38.167Z"
   },
   {
    "duration": 1819,
    "start_time": "2022-02-22T12:12:38.174Z"
   },
   {
    "duration": 1076,
    "start_time": "2022-02-22T12:12:39.995Z"
   },
   {
    "duration": 6,
    "start_time": "2022-02-22T12:17:57.879Z"
   },
   {
    "duration": 6,
    "start_time": "2022-02-22T12:19:32.716Z"
   },
   {
    "duration": 9,
    "start_time": "2022-02-22T12:19:33.048Z"
   },
   {
    "duration": 10,
    "start_time": "2022-02-22T12:19:33.581Z"
   },
   {
    "duration": 9766,
    "start_time": "2022-02-22T12:19:34.295Z"
   },
   {
    "duration": 4,
    "start_time": "2022-02-22T12:19:44.064Z"
   },
   {
    "duration": 3,
    "start_time": "2022-02-22T12:20:53.678Z"
   },
   {
    "duration": 1175,
    "start_time": "2022-02-22T12:20:54.039Z"
   },
   {
    "duration": 936,
    "start_time": "2022-02-22T12:20:55.217Z"
   },
   {
    "duration": 90,
    "start_time": "2022-02-22T12:21:29.134Z"
   },
   {
    "duration": 1103,
    "start_time": "2022-02-22T12:23:07.437Z"
   },
   {
    "duration": 1237,
    "start_time": "2022-02-22T12:23:19.055Z"
   },
   {
    "duration": 1264,
    "start_time": "2022-02-22T12:23:39.556Z"
   },
   {
    "duration": 986,
    "start_time": "2022-02-22T12:24:57.419Z"
   },
   {
    "duration": 815,
    "start_time": "2022-02-22T12:25:03.533Z"
   },
   {
    "duration": 1199,
    "start_time": "2022-02-22T12:25:08.511Z"
   },
   {
    "duration": 1075,
    "start_time": "2022-02-22T12:25:17.794Z"
   },
   {
    "duration": 1201,
    "start_time": "2022-02-22T12:25:25.106Z"
   },
   {
    "duration": 1049,
    "start_time": "2022-02-22T12:25:31.173Z"
   },
   {
    "duration": 1071,
    "start_time": "2022-02-22T12:25:55.823Z"
   },
   {
    "duration": 1104,
    "start_time": "2022-02-22T12:26:07.336Z"
   },
   {
    "duration": 2013,
    "start_time": "2022-02-22T12:26:12.374Z"
   },
   {
    "duration": 1834,
    "start_time": "2022-02-22T12:26:20.540Z"
   },
   {
    "duration": 1117,
    "start_time": "2022-02-22T12:26:28.356Z"
   },
   {
    "duration": 1210,
    "start_time": "2022-02-22T12:26:38.004Z"
   },
   {
    "duration": 2139,
    "start_time": "2022-02-22T12:28:29.349Z"
   },
   {
    "duration": 8,
    "start_time": "2022-02-22T12:28:31.492Z"
   },
   {
    "duration": 13,
    "start_time": "2022-02-22T12:28:31.504Z"
   },
   {
    "duration": 197,
    "start_time": "2022-02-22T12:28:31.519Z"
   },
   {
    "duration": 2284,
    "start_time": "2022-02-22T12:28:31.719Z"
   },
   {
    "duration": 174,
    "start_time": "2022-02-22T12:28:34.006Z"
   },
   {
    "duration": 2230,
    "start_time": "2022-02-22T12:28:34.182Z"
   },
   {
    "duration": 181,
    "start_time": "2022-02-22T12:28:36.416Z"
   },
   {
    "duration": 2796,
    "start_time": "2022-02-22T12:28:36.601Z"
   },
   {
    "duration": 13,
    "start_time": "2022-02-22T12:28:39.400Z"
   },
   {
    "duration": 15,
    "start_time": "2022-02-22T12:28:39.416Z"
   },
   {
    "duration": 79,
    "start_time": "2022-02-22T12:28:39.434Z"
   },
   {
    "duration": 26,
    "start_time": "2022-02-22T12:28:39.516Z"
   },
   {
    "duration": 3,
    "start_time": "2022-02-22T12:28:39.545Z"
   },
   {
    "duration": 7,
    "start_time": "2022-02-22T12:28:39.551Z"
   },
   {
    "duration": 34,
    "start_time": "2022-02-22T12:28:39.560Z"
   },
   {
    "duration": 406,
    "start_time": "2022-02-22T12:28:39.596Z"
   },
   {
    "duration": 90,
    "start_time": "2022-02-22T12:28:40.005Z"
   },
   {
    "duration": 11,
    "start_time": "2022-02-22T12:28:40.098Z"
   },
   {
    "duration": 16,
    "start_time": "2022-02-22T12:28:40.111Z"
   },
   {
    "duration": 7,
    "start_time": "2022-02-22T12:28:40.130Z"
   },
   {
    "duration": 68,
    "start_time": "2022-02-22T12:28:40.140Z"
   },
   {
    "duration": 5,
    "start_time": "2022-02-22T12:28:40.212Z"
   },
   {
    "duration": 6,
    "start_time": "2022-02-22T12:28:40.220Z"
   },
   {
    "duration": 9,
    "start_time": "2022-02-22T12:28:40.228Z"
   },
   {
    "duration": 13,
    "start_time": "2022-02-22T12:28:40.239Z"
   },
   {
    "duration": 9075,
    "start_time": "2022-02-22T12:28:40.255Z"
   },
   {
    "duration": 5,
    "start_time": "2022-02-22T12:28:49.333Z"
   },
   {
    "duration": 1056,
    "start_time": "2022-02-22T12:28:49.341Z"
   },
   {
    "duration": 1010,
    "start_time": "2022-02-22T12:28:50.399Z"
   },
   {
    "duration": 2223,
    "start_time": "2022-02-22T12:32:36.849Z"
   },
   {
    "duration": 8,
    "start_time": "2022-02-22T12:32:39.076Z"
   },
   {
    "duration": 13,
    "start_time": "2022-02-22T12:32:39.093Z"
   },
   {
    "duration": 181,
    "start_time": "2022-02-22T12:32:39.109Z"
   },
   {
    "duration": 4073,
    "start_time": "2022-02-22T12:32:39.295Z"
   },
   {
    "duration": 172,
    "start_time": "2022-02-22T12:32:43.371Z"
   },
   {
    "duration": 2272,
    "start_time": "2022-02-22T12:32:43.545Z"
   },
   {
    "duration": 174,
    "start_time": "2022-02-22T12:32:45.821Z"
   },
   {
    "duration": 2260,
    "start_time": "2022-02-22T12:32:45.998Z"
   },
   {
    "duration": 13,
    "start_time": "2022-02-22T12:32:48.260Z"
   },
   {
    "duration": 31,
    "start_time": "2022-02-22T12:32:48.276Z"
   },
   {
    "duration": 56,
    "start_time": "2022-02-22T12:32:48.310Z"
   },
   {
    "duration": 41,
    "start_time": "2022-02-22T12:32:48.369Z"
   },
   {
    "duration": 4,
    "start_time": "2022-02-22T12:32:48.412Z"
   },
   {
    "duration": 10,
    "start_time": "2022-02-22T12:32:48.419Z"
   },
   {
    "duration": 12,
    "start_time": "2022-02-22T12:32:48.431Z"
   },
   {
    "duration": 358,
    "start_time": "2022-02-22T12:32:48.446Z"
   },
   {
    "duration": 90,
    "start_time": "2022-02-22T12:32:48.807Z"
   },
   {
    "duration": 8,
    "start_time": "2022-02-22T12:32:48.901Z"
   },
   {
    "duration": 23,
    "start_time": "2022-02-22T12:32:48.912Z"
   },
   {
    "duration": 61,
    "start_time": "2022-02-22T12:32:48.937Z"
   },
   {
    "duration": 47,
    "start_time": "2022-02-22T12:32:49.000Z"
   },
   {
    "duration": 6,
    "start_time": "2022-02-22T12:32:49.053Z"
   },
   {
    "duration": 38,
    "start_time": "2022-02-22T12:32:49.062Z"
   },
   {
    "duration": 10,
    "start_time": "2022-02-22T12:32:49.102Z"
   },
   {
    "duration": 9497,
    "start_time": "2022-02-22T12:32:49.115Z"
   },
   {
    "duration": 3,
    "start_time": "2022-02-22T12:32:58.615Z"
   },
   {
    "duration": 1123,
    "start_time": "2022-02-22T12:32:58.621Z"
   },
   {
    "duration": 1661,
    "start_time": "2022-02-22T12:32:59.747Z"
   },
   {
    "duration": 416,
    "start_time": "2022-02-23T10:30:17.300Z"
   },
   {
    "duration": 1789,
    "start_time": "2022-02-23T10:30:25.463Z"
   },
   {
    "duration": 7,
    "start_time": "2022-02-23T10:30:27.255Z"
   },
   {
    "duration": 21,
    "start_time": "2022-02-23T10:30:27.265Z"
   },
   {
    "duration": 170,
    "start_time": "2022-02-23T10:30:27.295Z"
   },
   {
    "duration": 2296,
    "start_time": "2022-02-23T10:30:27.468Z"
   },
   {
    "duration": 161,
    "start_time": "2022-02-23T10:30:29.767Z"
   },
   {
    "duration": 2153,
    "start_time": "2022-02-23T10:30:29.931Z"
   },
   {
    "duration": 163,
    "start_time": "2022-02-23T10:30:32.097Z"
   },
   {
    "duration": 4021,
    "start_time": "2022-02-23T10:30:32.264Z"
   },
   {
    "duration": 17,
    "start_time": "2022-02-23T10:30:36.292Z"
   },
   {
    "duration": 17,
    "start_time": "2022-02-23T10:30:36.312Z"
   },
   {
    "duration": 73,
    "start_time": "2022-02-23T10:30:36.331Z"
   },
   {
    "duration": 24,
    "start_time": "2022-02-23T10:30:36.407Z"
   },
   {
    "duration": 4,
    "start_time": "2022-02-23T10:30:36.433Z"
   },
   {
    "duration": 19,
    "start_time": "2022-02-23T10:30:36.440Z"
   },
   {
    "duration": 239,
    "start_time": "2022-02-23T10:30:36.462Z"
   },
   {
    "duration": 91,
    "start_time": "2022-02-23T10:30:36.704Z"
   },
   {
    "duration": 8,
    "start_time": "2022-02-23T10:30:36.799Z"
   },
   {
    "duration": 13,
    "start_time": "2022-02-23T10:30:36.810Z"
   },
   {
    "duration": 5,
    "start_time": "2022-02-23T10:30:36.893Z"
   },
   {
    "duration": 22,
    "start_time": "2022-02-23T10:30:36.900Z"
   },
   {
    "duration": 6,
    "start_time": "2022-02-23T10:30:36.925Z"
   },
   {
    "duration": 5,
    "start_time": "2022-02-23T10:30:36.937Z"
   },
   {
    "duration": 49,
    "start_time": "2022-02-23T10:30:36.945Z"
   },
   {
    "duration": 10438,
    "start_time": "2022-02-23T10:30:36.997Z"
   },
   {
    "duration": 4,
    "start_time": "2022-02-23T10:30:47.438Z"
   },
   {
    "duration": 1711,
    "start_time": "2022-02-23T10:30:47.445Z"
   },
   {
    "duration": 1528,
    "start_time": "2022-02-23T10:30:49.160Z"
   },
   {
    "duration": 17,
    "start_time": "2022-02-23T10:31:35.275Z"
   },
   {
    "duration": 20,
    "start_time": "2022-02-23T10:33:32.331Z"
   },
   {
    "duration": 1532,
    "start_time": "2022-02-23T10:38:08.545Z"
   },
   {
    "duration": 5,
    "start_time": "2022-02-23T10:38:10.080Z"
   },
   {
    "duration": 17,
    "start_time": "2022-02-23T10:38:10.095Z"
   },
   {
    "duration": 261,
    "start_time": "2022-02-23T10:38:10.115Z"
   },
   {
    "duration": 3518,
    "start_time": "2022-02-23T10:38:10.379Z"
   },
   {
    "duration": 171,
    "start_time": "2022-02-23T10:38:13.900Z"
   },
   {
    "duration": 2652,
    "start_time": "2022-02-23T10:38:14.073Z"
   },
   {
    "duration": 254,
    "start_time": "2022-02-23T10:38:16.731Z"
   },
   {
    "duration": 2337,
    "start_time": "2022-02-23T10:38:16.989Z"
   },
   {
    "duration": 12,
    "start_time": "2022-02-23T10:38:19.330Z"
   },
   {
    "duration": 16,
    "start_time": "2022-02-23T10:38:19.345Z"
   },
   {
    "duration": 75,
    "start_time": "2022-02-23T10:38:19.363Z"
   },
   {
    "duration": 27,
    "start_time": "2022-02-23T10:38:19.441Z"
   },
   {
    "duration": 26,
    "start_time": "2022-02-23T10:38:19.471Z"
   },
   {
    "duration": 7,
    "start_time": "2022-02-23T10:38:19.500Z"
   },
   {
    "duration": 190,
    "start_time": "2022-02-23T10:38:19.510Z"
   },
   {
    "duration": 91,
    "start_time": "2022-02-23T10:38:19.704Z"
   },
   {
    "duration": 10,
    "start_time": "2022-02-23T10:38:19.797Z"
   },
   {
    "duration": 18,
    "start_time": "2022-02-23T10:38:19.809Z"
   },
   {
    "duration": 5,
    "start_time": "2022-02-23T10:38:19.830Z"
   },
   {
    "duration": 28,
    "start_time": "2022-02-23T10:38:19.895Z"
   },
   {
    "duration": 7,
    "start_time": "2022-02-23T10:38:19.926Z"
   },
   {
    "duration": 6,
    "start_time": "2022-02-23T10:38:19.939Z"
   },
   {
    "duration": 50,
    "start_time": "2022-02-23T10:38:19.948Z"
   },
   {
    "duration": 10626,
    "start_time": "2022-02-23T10:38:20.001Z"
   },
   {
    "duration": 3,
    "start_time": "2022-02-23T10:38:30.630Z"
   },
   {
    "duration": 1768,
    "start_time": "2022-02-23T10:38:30.636Z"
   },
   {
    "duration": 1626,
    "start_time": "2022-02-23T10:38:32.407Z"
   }
  ],
  "kernelspec": {
   "display_name": "Python 3 (ipykernel)",
   "language": "python",
   "name": "python3"
  },
  "language_info": {
   "codemirror_mode": {
    "name": "ipython",
    "version": 3
   },
   "file_extension": ".py",
   "mimetype": "text/x-python",
   "name": "python",
   "nbconvert_exporter": "python",
   "pygments_lexer": "ipython3",
   "version": "3.9.13"
  },
  "toc": {
   "base_numbering": 1,
   "nav_menu": {},
   "number_sections": true,
   "sideBar": true,
   "skip_h1_title": true,
   "title_cell": "Table of Contents",
   "title_sidebar": "Contents",
   "toc_cell": false,
   "toc_position": {},
   "toc_section_display": true,
   "toc_window_display": false
  }
 },
 "nbformat": 4,
 "nbformat_minor": 2
}
