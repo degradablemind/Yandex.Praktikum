{
 "cells": [
  {
   "cell_type": "markdown",
   "metadata": {},
   "source": [
    "# Основная задача"
   ]
  },
  {
   "cell_type": "markdown",
   "metadata": {},
   "source": [
    "Необходимо защитить данные клиентов страховой компании, разработать метод преобразования данных, чтобы по ним было сложно восстановить персональную информацию, после преоборазования которых, качество моделей машинного обучения не ухудшилось."
   ]
  },
  {
   "cell_type": "markdown",
   "metadata": {},
   "source": [
    "Импортируем необходимые модули"
   ]
  },
  {
   "cell_type": "code",
   "execution_count": 1,
   "metadata": {},
   "outputs": [],
   "source": [
    "import pandas as pd\n",
    "import numpy as np\n",
    "from sklearn.metrics import r2_score\n",
    "from sklearn.model_selection import train_test_split"
   ]
  },
  {
   "cell_type": "markdown",
   "metadata": {},
   "source": [
    "Создадим функцию, которая позволяет собрать всю необходимую информацю для первого просмотра таблицы."
   ]
  },
  {
   "cell_type": "code",
   "execution_count": 2,
   "metadata": {},
   "outputs": [],
   "source": [
    "def df_info(dataframe):\n",
    "    column = dataframe.columns.values.tolist() # список наименований столбцов таблицы\n",
    "    print('Общая информация о таблице:\\n')\n",
    "    dataframe.info() # общая иноформация о таблице\n",
    "    print('\\nВнешний вид таблицы:')\n",
    "    display(dataframe.head()) # внешний вид первых 5 строк таблицы\n",
    "\n",
    "    # далее выводим все интересующие нас особенности таблицы, соответствнно, обозначенные в функции print()\n",
    "    print('Столбцы таблицы: {}\\n'.format(column),\n",
    "          '\\n\\nОбщее количество уникальных значений столбцов {}:\\n\\n{}'.\n",
    "          format(column, dataframe.nunique()),\n",
    "          '\\n\\nКоличество пропущенных значений столбцов {}:\\n\\n{}'.\n",
    "          format(column, dataframe.isna().sum()))\n",
    "    \n",
    "    for i in column: # создадим цикл для перебора значений столбцов для отдельного примнения к ним любой функции\n",
    "          print('\\n\\nКоличество дубликатов столбца:\\n{}\\t   {}'.format(i, dataframe[i].duplicated().sum()))\n",
    "    print('\\nОбщее количество явных дубликтов: {}'.format(dataframe.duplicated().sum()))\n",
    "    print('\\n\\nТаблица корреляций значений столбцов {}:\\n\\n{}'.format(column, dataframe.corr()), '\\n',\n",
    "          '\\n\\nТаблица распределений значений столбцов {}:\\n\\n{}'.format(column, dataframe.describe()), '\\n')\n",
    "    print('Гистограммы распределений значений столбцов {}'.format(column))\n",
    "    dataframe.hist(bins=50, figsize=(15, 7), edgecolor = 'k')"
   ]
  },
  {
   "cell_type": "code",
   "execution_count": 3,
   "metadata": {},
   "outputs": [],
   "source": [
    "RS = 12345"
   ]
  },
  {
   "cell_type": "markdown",
   "metadata": {},
   "source": [
    "## Загрузка данных"
   ]
  },
  {
   "cell_type": "code",
   "execution_count": 4,
   "metadata": {},
   "outputs": [],
   "source": [
    "df = pd.read_csv('/datasets/insurance.csv')"
   ]
  },
  {
   "cell_type": "markdown",
   "metadata": {},
   "source": [
    "Просмотрим общую информацию о таблице с помощью функции выше."
   ]
  },
  {
   "cell_type": "code",
   "execution_count": 5,
   "metadata": {
    "scrolled": false
   },
   "outputs": [
    {
     "name": "stdout",
     "output_type": "stream",
     "text": [
      "Общая информация о таблице:\n",
      "\n",
      "<class 'pandas.core.frame.DataFrame'>\n",
      "RangeIndex: 5000 entries, 0 to 4999\n",
      "Data columns (total 5 columns):\n",
      " #   Column             Non-Null Count  Dtype  \n",
      "---  ------             --------------  -----  \n",
      " 0   Пол                5000 non-null   int64  \n",
      " 1   Возраст            5000 non-null   float64\n",
      " 2   Зарплата           5000 non-null   float64\n",
      " 3   Члены семьи        5000 non-null   int64  \n",
      " 4   Страховые выплаты  5000 non-null   int64  \n",
      "dtypes: float64(2), int64(3)\n",
      "memory usage: 195.4 KB\n",
      "\n",
      "Внешний вид таблицы:\n"
     ]
    },
    {
     "data": {
      "text/html": [
       "<div>\n",
       "<style scoped>\n",
       "    .dataframe tbody tr th:only-of-type {\n",
       "        vertical-align: middle;\n",
       "    }\n",
       "\n",
       "    .dataframe tbody tr th {\n",
       "        vertical-align: top;\n",
       "    }\n",
       "\n",
       "    .dataframe thead th {\n",
       "        text-align: right;\n",
       "    }\n",
       "</style>\n",
       "<table border=\"1\" class=\"dataframe\">\n",
       "  <thead>\n",
       "    <tr style=\"text-align: right;\">\n",
       "      <th></th>\n",
       "      <th>Пол</th>\n",
       "      <th>Возраст</th>\n",
       "      <th>Зарплата</th>\n",
       "      <th>Члены семьи</th>\n",
       "      <th>Страховые выплаты</th>\n",
       "    </tr>\n",
       "  </thead>\n",
       "  <tbody>\n",
       "    <tr>\n",
       "      <th>0</th>\n",
       "      <td>1</td>\n",
       "      <td>41.0</td>\n",
       "      <td>49600.0</td>\n",
       "      <td>1</td>\n",
       "      <td>0</td>\n",
       "    </tr>\n",
       "    <tr>\n",
       "      <th>1</th>\n",
       "      <td>0</td>\n",
       "      <td>46.0</td>\n",
       "      <td>38000.0</td>\n",
       "      <td>1</td>\n",
       "      <td>1</td>\n",
       "    </tr>\n",
       "    <tr>\n",
       "      <th>2</th>\n",
       "      <td>0</td>\n",
       "      <td>29.0</td>\n",
       "      <td>21000.0</td>\n",
       "      <td>0</td>\n",
       "      <td>0</td>\n",
       "    </tr>\n",
       "    <tr>\n",
       "      <th>3</th>\n",
       "      <td>0</td>\n",
       "      <td>21.0</td>\n",
       "      <td>41700.0</td>\n",
       "      <td>2</td>\n",
       "      <td>0</td>\n",
       "    </tr>\n",
       "    <tr>\n",
       "      <th>4</th>\n",
       "      <td>1</td>\n",
       "      <td>28.0</td>\n",
       "      <td>26100.0</td>\n",
       "      <td>0</td>\n",
       "      <td>0</td>\n",
       "    </tr>\n",
       "  </tbody>\n",
       "</table>\n",
       "</div>"
      ],
      "text/plain": [
       "   Пол  Возраст  Зарплата  Члены семьи  Страховые выплаты\n",
       "0    1     41.0   49600.0            1                  0\n",
       "1    0     46.0   38000.0            1                  1\n",
       "2    0     29.0   21000.0            0                  0\n",
       "3    0     21.0   41700.0            2                  0\n",
       "4    1     28.0   26100.0            0                  0"
      ]
     },
     "metadata": {},
     "output_type": "display_data"
    },
    {
     "name": "stdout",
     "output_type": "stream",
     "text": [
      "Столбцы таблицы: ['Пол', 'Возраст', 'Зарплата', 'Члены семьи', 'Страховые выплаты']\n",
      " \n",
      "\n",
      "Общее количество уникальных значений столбцов ['Пол', 'Возраст', 'Зарплата', 'Члены семьи', 'Страховые выплаты']:\n",
      "\n",
      "Пол                    2\n",
      "Возраст               46\n",
      "Зарплата             524\n",
      "Члены семьи            7\n",
      "Страховые выплаты      6\n",
      "dtype: int64 \n",
      "\n",
      "Количество пропущенных значений столбцов ['Пол', 'Возраст', 'Зарплата', 'Члены семьи', 'Страховые выплаты']:\n",
      "\n",
      "Пол                  0\n",
      "Возраст              0\n",
      "Зарплата             0\n",
      "Члены семьи          0\n",
      "Страховые выплаты    0\n",
      "dtype: int64\n",
      "\n",
      "\n",
      "Количество дубликатов столбца:\n",
      "Пол\t   4998\n",
      "\n",
      "\n",
      "Количество дубликатов столбца:\n",
      "Возраст\t   4954\n",
      "\n",
      "\n",
      "Количество дубликатов столбца:\n",
      "Зарплата\t   4476\n",
      "\n",
      "\n",
      "Количество дубликатов столбца:\n",
      "Члены семьи\t   4993\n",
      "\n",
      "\n",
      "Количество дубликатов столбца:\n",
      "Страховые выплаты\t   4994\n",
      "\n",
      "Общее количество явных дубликтов: 153\n",
      "\n",
      "\n",
      "Таблица корреляций значений столбцов ['Пол', 'Возраст', 'Зарплата', 'Члены семьи', 'Страховые выплаты']:\n",
      "\n",
      "                        Пол   Возраст  Зарплата  Члены семьи  \\\n",
      "Пол                1.000000  0.002074  0.014910    -0.008991   \n",
      "Возраст            0.002074  1.000000 -0.019093    -0.006692   \n",
      "Зарплата           0.014910 -0.019093  1.000000    -0.030296   \n",
      "Члены семьи       -0.008991 -0.006692 -0.030296     1.000000   \n",
      "Страховые выплаты  0.010140  0.651030 -0.014963    -0.036290   \n",
      "\n",
      "                   Страховые выплаты  \n",
      "Пол                         0.010140  \n",
      "Возраст                     0.651030  \n",
      "Зарплата                   -0.014963  \n",
      "Члены семьи                -0.036290  \n",
      "Страховые выплаты           1.000000   \n",
      " \n",
      "\n",
      "Таблица распределений значений столбцов ['Пол', 'Возраст', 'Зарплата', 'Члены семьи', 'Страховые выплаты']:\n",
      "\n",
      "               Пол      Возраст      Зарплата  Члены семьи  Страховые выплаты\n",
      "count  5000.000000  5000.000000   5000.000000  5000.000000        5000.000000\n",
      "mean      0.499000    30.952800  39916.360000     1.194200           0.148000\n",
      "std       0.500049     8.440807   9900.083569     1.091387           0.463183\n",
      "min       0.000000    18.000000   5300.000000     0.000000           0.000000\n",
      "25%       0.000000    24.000000  33300.000000     0.000000           0.000000\n",
      "50%       0.000000    30.000000  40200.000000     1.000000           0.000000\n",
      "75%       1.000000    37.000000  46600.000000     2.000000           0.000000\n",
      "max       1.000000    65.000000  79000.000000     6.000000           5.000000 \n",
      "\n",
      "Гистограммы распределений значений столбцов ['Пол', 'Возраст', 'Зарплата', 'Члены семьи', 'Страховые выплаты']\n"
     ]
    },
    {
     "data": {
      "image/png": "[encoded data removed]",
      "text/plain": [
       "<Figure size 1080x504 with 6 Axes>"
      ]
     },
     "metadata": {
      "needs_background": "light"
     },
     "output_type": "display_data"
    }
   ],
   "source": [
    "df_info(df)"
   ]
  },
  {
   "cell_type": "markdown",
   "metadata": {},
   "source": [
    "Удалим явные дубликаты"
   ]
  },
  {
   "cell_type": "code",
   "execution_count": 6,
   "metadata": {},
   "outputs": [],
   "source": [
    "df = df.drop_duplicates()"
   ]
  },
  {
   "cell_type": "markdown",
   "metadata": {},
   "source": [
    "Проверим, нет ли дубликатов"
   ]
  },
  {
   "cell_type": "code",
   "execution_count": 7,
   "metadata": {},
   "outputs": [
    {
     "data": {
      "text/plain": [
       "0"
      ]
     },
     "execution_count": 7,
     "metadata": {},
     "output_type": "execute_result"
    }
   ],
   "source": [
    "df.duplicated().sum()"
   ]
  },
  {
   "cell_type": "markdown",
   "metadata": {},
   "source": [
    "## Умножение матриц"
   ]
  },
  {
   "cell_type": "markdown",
   "metadata": {},
   "source": [
    "Обозначения:\n",
    "\n",
    "- $X$ — матрица признаков (нулевой столбец состоит из единиц)\n",
    "\n",
    "- $y$ — вектор целевого признака\n",
    "\n",
    "- $P$ — матрица, на которую умножаются признаки\n",
    "\n",
    "- $w$ — вектор весов линейной регрессии (нулевой элемент равен сдвигу)"
   ]
  },
  {
   "cell_type": "markdown",
   "metadata": {},
   "source": [
    "Предсказания:\n",
    "\n",
    "$$\n",
    "a = Xw\n",
    "$$\n",
    "\n",
    "Задача обучения:\n",
    "\n",
    "$$\n",
    "w = \\arg\\min_w MSE(Xw, y)\n",
    "$$\n",
    "\n",
    "Формула обучения:\n",
    "\n",
    "$$\n",
    "w = (X^T X)^{-1} X^T y\n",
    "$$"
   ]
  },
  {
   "cell_type": "markdown",
   "metadata": {},
   "source": [
    "**Ответ:** качество линейной регрессии не изменится при условии, если исходная матрица невырожденная и квадратная, так как только для квадратной матрицы может существовать обратная ей.\n",
    "\n",
    "**Обоснование:** допустим, существует некое $w`$, которе равно $((XP)^TXP)^{-1}(XP)^Ty$\n",
    "\n",
    "Тогда:\n",
    "$$\n",
    "w` =  ((XP)^T XP)^{-1} (XP)^Ty = (P^TX^TXP)^{-1} P^TX^Ty  = P^{-1} (X^TX)^{-1} (P^T)^{-1} P^TX^Ty = P^{-1}(X^TX)^{-1} X^Ty = P^{-1} w \n",
    "$$\n",
    "\n",
    "И далее окажется, что предсказание по новой матрице равно следующему:\n",
    "$$\n",
    "a` = XPw` = XPP^{-1}w = Xw = a\n",
    "$$\n",
    "\n",
    "Следовательно, качество обучения линейной регрессии не изменится.\n"
   ]
  },
  {
   "cell_type": "markdown",
   "metadata": {},
   "source": [
    "## Алгоритм преобразования"
   ]
  },
  {
   "cell_type": "markdown",
   "metadata": {},
   "source": [
    "**Алгоритм**\n",
    "\n",
    "По аналогии с вышеуказанным доказательством создадим такой же алгоритм, а именно: создаем обратимые матрицы соответствующего размера нашим исходным матрицам, умножаем обратимую матрицу на матрицу наших исходных признаков. После этого проверим значение метрик перед преобразованием исходной матрицы и после преобразавания."
   ]
  },
  {
   "cell_type": "markdown",
   "metadata": {},
   "source": [
    "**Обоснование**\n",
    "\n",
    "Качество линейной регрессии не изменится при условии, если исходная матрица невырожденная и квадратная (определитель не равен нулю), так как только для квадратной матрицы может существовать обратная ей."
   ]
  },
  {
   "cell_type": "markdown",
   "metadata": {},
   "source": [
    "## Проверка алгоритма"
   ]
  },
  {
   "cell_type": "markdown",
   "metadata": {},
   "source": [
    "Создадим выборки треиновочную и тестовую."
   ]
  },
  {
   "cell_type": "code",
   "execution_count": 8,
   "metadata": {},
   "outputs": [],
   "source": [
    "df_train, df_test = train_test_split(df, random_state=RS)"
   ]
  },
  {
   "cell_type": "markdown",
   "metadata": {},
   "source": [
    "Создадим класс линейной регресси, дополнив ее функцией измерения метрики R2."
   ]
  },
  {
   "cell_type": "code",
   "execution_count": 9,
   "metadata": {},
   "outputs": [],
   "source": [
    "# Создадим класс модели обучения\n",
    "class Linear_Regression:\n",
    "    def fit(self, features_train, target_train):\n",
    "        X = np.concatenate((np.ones((features_train.shape[0], 1)), features_train), axis=1)\n",
    "        y = target_train\n",
    "        w = np.linalg.inv(X.T.dot(X)).dot(X.T).dot(y)\n",
    "        self.w = w[1:]\n",
    "        self.w0 = w[0]\n",
    "    def predict(self, features_test):\n",
    "        return features_test @ self.w + self.w0\n",
    "    def score(self, features, target, set_name):\n",
    "        print('Значение метрики R2 на {} выборке: {:.3f}'.format(set_name, r2_score(target, self.predict(features))))"
   ]
  },
  {
   "cell_type": "code",
   "execution_count": 10,
   "metadata": {},
   "outputs": [
    {
     "name": "stdout",
     "output_type": "stream",
     "text": [
      "Значение метрики R2 на тренировочной выборке: 0.432\n",
      "Значение метрики R2 на тестовой выборке: 0.423\n"
     ]
    }
   ],
   "source": [
    "# Создадим переменную модели обучения до преобразования обратимой матрицей\n",
    "model_before = Linear_Regression()\n",
    "\n",
    "# Выделим призники и цели\n",
    "features_train = df_train.drop('Страховые выплаты', axis=1)\n",
    "target_train = df_train['Страховые выплаты']\n",
    "features_test = df_test.drop('Страховые выплаты', axis=1)\n",
    "target_test = df_test['Страховые выплаты']\n",
    "\n",
    "model_before.fit(features_train,target_train)\n",
    "model_before.score(features_train, target_train, 'тренировочной')\n",
    "model_before.score(features_test, target_test, 'тестовой')"
   ]
  },
  {
   "cell_type": "markdown",
   "metadata": {},
   "source": [
    "Реализуем умножение обучающих признаков на обратимую матрицу `Р`"
   ]
  },
  {
   "cell_type": "code",
   "execution_count": 11,
   "metadata": {},
   "outputs": [],
   "source": [
    "# Создаём случайную матрицу тех же размеров, что и матрица исходных признков\n",
    "P_matrix = np.array([])\n",
    "while True:\n",
    "    # Создаём случайную матрицу\n",
    "    P_matrix = np.random.random((features_train.shape[1], features_train.shape[1]))\n",
    "    # Проверяем наличие обратной матрицы:\n",
    "    try:\n",
    "        # Если матрица обратима, то выходим из цикла\n",
    "        np.linalg.inv(P_matrix)\n",
    "        break\n",
    "    except:\n",
    "        continue"
   ]
  },
  {
   "cell_type": "markdown",
   "metadata": {},
   "source": [
    "Теперь проверим, работает ли наша гипотеза"
   ]
  },
  {
   "cell_type": "code",
   "execution_count": 12,
   "metadata": {},
   "outputs": [
    {
     "name": "stdout",
     "output_type": "stream",
     "text": [
      "Значение метрики R2 на тренировочной выборке: 0.432\n",
      "Значение метрики R2 на тестовой выборке: 0.423\n"
     ]
    }
   ],
   "source": [
    "# Модель линейной регрессии с изменёнными признаками после умножения на обратимую матрицу\n",
    "model_after=Linear_Regression()\n",
    "\n",
    "features_train_changed = features_train @ P_matrix\n",
    "features_test_changed = features_test @ P_matrix\n",
    "\n",
    "model_after = Linear_Regression()\n",
    "model_after.fit(features_train_changed, target_train)\n",
    "\n",
    "model_after.score(features_train_changed, target_train, 'тренировочной')\n",
    "model_after.score(features_test_changed, target_test, 'тестовой')"
   ]
  },
  {
   "cell_type": "markdown",
   "metadata": {},
   "source": [
    "# Выводы"
   ]
  },
  {
   "cell_type": "markdown",
   "metadata": {},
   "source": [
    "Таким образом видно, что при умножении исходных признаков на обратимую матрицу можно увидеть, что исходная матрица меняется, однако работа алгоритма линейной регрессии не меняется. Следовательно, использование умножения исходных матриц на обратимую позволяет зашифровать исходные данные."
   ]
  }
 ],
 "metadata": {
  "ExecuteTimeLog": [
   {
    "duration": 49,
    "start_time": "2022-03-21T10:40:11.222Z"
   },
   {
    "duration": 406,
    "start_time": "2022-03-21T10:40:19.707Z"
   },
   {
    "duration": 12,
    "start_time": "2022-03-21T10:40:20.115Z"
   },
   {
    "duration": 20,
    "start_time": "2022-03-21T10:40:20.211Z"
   },
   {
    "duration": 6,
    "start_time": "2022-03-21T10:55:11.310Z"
   },
   {
    "duration": 1186,
    "start_time": "2022-03-21T10:55:39.430Z"
   },
   {
    "duration": 8,
    "start_time": "2022-03-21T12:05:06.139Z"
   },
   {
    "duration": 6,
    "start_time": "2022-03-21T12:05:13.049Z"
   },
   {
    "duration": 5,
    "start_time": "2022-03-21T12:06:42.282Z"
   },
   {
    "duration": 13,
    "start_time": "2022-03-21T12:06:43.687Z"
   },
   {
    "duration": 6,
    "start_time": "2022-03-21T12:06:43.866Z"
   },
   {
    "duration": 768,
    "start_time": "2022-03-21T12:06:44.401Z"
   },
   {
    "duration": 6,
    "start_time": "2022-03-21T12:06:59.763Z"
   },
   {
    "duration": 5,
    "start_time": "2022-03-21T12:07:01.508Z"
   },
   {
    "duration": 13,
    "start_time": "2022-03-21T12:07:04.077Z"
   },
   {
    "duration": 6,
    "start_time": "2022-03-21T12:07:04.250Z"
   },
   {
    "duration": 890,
    "start_time": "2022-03-21T12:07:09.536Z"
   },
   {
    "duration": 8,
    "start_time": "2022-03-21T13:15:48.736Z"
   },
   {
    "duration": 754,
    "start_time": "2022-03-21T13:15:53.960Z"
   },
   {
    "duration": 5,
    "start_time": "2022-03-21T13:16:26.560Z"
   },
   {
    "duration": 3,
    "start_time": "2022-03-21T13:17:54.133Z"
   },
   {
    "duration": 3,
    "start_time": "2022-03-21T13:18:06.819Z"
   },
   {
    "duration": 4,
    "start_time": "2022-03-21T13:18:11.384Z"
   },
   {
    "duration": 4,
    "start_time": "2022-03-21T13:18:17.456Z"
   },
   {
    "duration": 2255,
    "start_time": "2022-03-22T09:17:25.659Z"
   },
   {
    "duration": 8,
    "start_time": "2022-03-22T09:17:27.917Z"
   },
   {
    "duration": 3,
    "start_time": "2022-03-22T09:17:30.572Z"
   },
   {
    "duration": 14,
    "start_time": "2022-03-22T09:17:32.303Z"
   },
   {
    "duration": 2145,
    "start_time": "2022-03-22T09:17:32.498Z"
   },
   {
    "duration": 7,
    "start_time": "2022-03-22T09:55:56.676Z"
   },
   {
    "duration": 9,
    "start_time": "2022-03-22T09:56:08.193Z"
   },
   {
    "duration": 7,
    "start_time": "2022-03-22T10:00:34.378Z"
   },
   {
    "duration": 6,
    "start_time": "2022-03-22T10:00:34.721Z"
   },
   {
    "duration": 236,
    "start_time": "2022-03-22T10:00:35.079Z"
   },
   {
    "duration": 5439,
    "start_time": "2022-03-22T10:01:15.344Z"
   },
   {
    "duration": 7,
    "start_time": "2022-03-22T10:02:04.031Z"
   },
   {
    "duration": 6,
    "start_time": "2022-03-22T10:02:04.937Z"
   },
   {
    "duration": 5231,
    "start_time": "2022-03-22T10:02:06.294Z"
   },
   {
    "duration": 9,
    "start_time": "2022-03-22T10:03:02.933Z"
   },
   {
    "duration": 7,
    "start_time": "2022-03-22T10:03:22.059Z"
   },
   {
    "duration": 7,
    "start_time": "2022-03-22T10:03:22.243Z"
   },
   {
    "duration": 167,
    "start_time": "2022-03-22T10:03:22.445Z"
   },
   {
    "duration": 1752,
    "start_time": "2022-03-22T10:03:36.948Z"
   },
   {
    "duration": 9,
    "start_time": "2022-03-22T10:03:38.703Z"
   },
   {
    "duration": 54,
    "start_time": "2022-03-22T10:03:38.714Z"
   },
   {
    "duration": 56,
    "start_time": "2022-03-22T10:03:38.771Z"
   },
   {
    "duration": 1854,
    "start_time": "2022-03-22T10:03:38.830Z"
   },
   {
    "duration": 8,
    "start_time": "2022-03-22T10:03:40.687Z"
   },
   {
    "duration": 59,
    "start_time": "2022-03-22T10:03:40.697Z"
   },
   {
    "duration": 206,
    "start_time": "2022-03-22T10:03:40.763Z"
   },
   {
    "duration": 8,
    "start_time": "2022-03-22T10:08:06.798Z"
   },
   {
    "duration": 7,
    "start_time": "2022-03-22T10:09:33.774Z"
   },
   {
    "duration": 9,
    "start_time": "2022-03-22T10:09:33.993Z"
   },
   {
    "duration": 122,
    "start_time": "2022-03-22T10:09:34.462Z"
   },
   {
    "duration": 73,
    "start_time": "2022-03-22T10:10:06.827Z"
   },
   {
    "duration": 13,
    "start_time": "2022-03-22T10:10:51.538Z"
   },
   {
    "duration": 6,
    "start_time": "2022-03-22T10:11:07.899Z"
   },
   {
    "duration": 5,
    "start_time": "2022-03-22T10:11:50.097Z"
   },
   {
    "duration": 15,
    "start_time": "2022-03-22T10:13:56.140Z"
   },
   {
    "duration": 6,
    "start_time": "2022-03-22T10:14:02.184Z"
   },
   {
    "duration": 28,
    "start_time": "2022-03-22T10:14:02.471Z"
   },
   {
    "duration": 2820,
    "start_time": "2022-03-22T10:15:32.116Z"
   },
   {
    "duration": 12,
    "start_time": "2022-03-22T10:15:34.940Z"
   },
   {
    "duration": 10,
    "start_time": "2022-03-22T10:15:34.956Z"
   },
   {
    "duration": 29,
    "start_time": "2022-03-22T10:15:34.969Z"
   },
   {
    "duration": 2018,
    "start_time": "2022-03-22T10:15:35.002Z"
   },
   {
    "duration": 7,
    "start_time": "2022-03-22T10:15:37.024Z"
   },
   {
    "duration": 11,
    "start_time": "2022-03-22T10:15:37.034Z"
   },
   {
    "duration": 46,
    "start_time": "2022-03-22T10:15:37.048Z"
   },
   {
    "duration": 2041,
    "start_time": "2022-03-22T10:16:38.060Z"
   },
   {
    "duration": 11,
    "start_time": "2022-03-22T10:16:40.105Z"
   },
   {
    "duration": 38,
    "start_time": "2022-03-22T10:16:40.118Z"
   },
   {
    "duration": 22,
    "start_time": "2022-03-22T10:16:40.159Z"
   },
   {
    "duration": 2257,
    "start_time": "2022-03-22T10:16:40.183Z"
   },
   {
    "duration": 7,
    "start_time": "2022-03-22T10:16:42.443Z"
   },
   {
    "duration": 31,
    "start_time": "2022-03-22T10:16:42.452Z"
   },
   {
    "duration": 101,
    "start_time": "2022-03-22T10:16:42.487Z"
   },
   {
    "duration": 102,
    "start_time": "2022-03-22T10:16:42.592Z"
   },
   {
    "duration": 100,
    "start_time": "2022-03-22T10:16:42.699Z"
   },
   {
    "duration": 7,
    "start_time": "2022-03-22T10:21:39.312Z"
   },
   {
    "duration": 335,
    "start_time": "2022-03-22T10:21:40.776Z"
   },
   {
    "duration": 9,
    "start_time": "2022-03-22T10:22:52.031Z"
   },
   {
    "duration": 17,
    "start_time": "2022-03-22T10:22:52.328Z"
   },
   {
    "duration": 6,
    "start_time": "2022-03-22T10:23:00.304Z"
   },
   {
    "duration": 13,
    "start_time": "2022-03-22T10:23:00.809Z"
   },
   {
    "duration": 7,
    "start_time": "2022-03-22T10:45:59.094Z"
   },
   {
    "duration": 25,
    "start_time": "2022-03-22T10:48:30.074Z"
   },
   {
    "duration": 6,
    "start_time": "2022-03-22T10:48:36.750Z"
   },
   {
    "duration": 17,
    "start_time": "2022-03-22T10:48:36.923Z"
   },
   {
    "duration": 109,
    "start_time": "2022-03-22T10:50:50.575Z"
   },
   {
    "duration": 8,
    "start_time": "2022-03-22T11:00:41.916Z"
   },
   {
    "duration": 9,
    "start_time": "2022-03-22T11:00:57.289Z"
   },
   {
    "duration": 2360,
    "start_time": "2022-03-22T11:01:40.722Z"
   },
   {
    "duration": 18,
    "start_time": "2022-03-22T11:01:43.085Z"
   },
   {
    "duration": 11,
    "start_time": "2022-03-22T11:01:43.106Z"
   },
   {
    "duration": 23,
    "start_time": "2022-03-22T11:01:43.119Z"
   },
   {
    "duration": 2273,
    "start_time": "2022-03-22T11:01:43.146Z"
   },
   {
    "duration": 10,
    "start_time": "2022-03-22T11:01:45.422Z"
   },
   {
    "duration": 15,
    "start_time": "2022-03-22T11:01:45.435Z"
   },
   {
    "duration": 17,
    "start_time": "2022-03-22T11:01:45.453Z"
   },
   {
    "duration": 18,
    "start_time": "2022-03-22T11:01:45.472Z"
   },
   {
    "duration": 95,
    "start_time": "2022-03-22T11:01:45.493Z"
   },
   {
    "duration": 117,
    "start_time": "2022-03-22T11:01:45.591Z"
   },
   {
    "duration": 92,
    "start_time": "2022-03-22T11:01:45.713Z"
   },
   {
    "duration": 16,
    "start_time": "2022-03-22T11:03:01.138Z"
   },
   {
    "duration": 1507,
    "start_time": "2022-03-22T19:44:34.153Z"
   },
   {
    "duration": 40,
    "start_time": "2022-03-22T19:44:35.663Z"
   },
   {
    "duration": 21,
    "start_time": "2022-03-22T19:44:35.705Z"
   },
   {
    "duration": 15,
    "start_time": "2022-03-22T19:44:35.730Z"
   },
   {
    "duration": 3258,
    "start_time": "2022-03-22T19:44:35.747Z"
   },
   {
    "duration": 6,
    "start_time": "2022-03-22T19:44:39.007Z"
   },
   {
    "duration": 10,
    "start_time": "2022-03-22T19:44:39.015Z"
   },
   {
    "duration": 10,
    "start_time": "2022-03-22T19:44:39.027Z"
   },
   {
    "duration": 6,
    "start_time": "2022-03-22T19:44:39.039Z"
   },
   {
    "duration": 61,
    "start_time": "2022-03-22T19:44:39.047Z"
   },
   {
    "duration": 6,
    "start_time": "2022-03-22T19:44:39.200Z"
   },
   {
    "duration": 100,
    "start_time": "2022-03-22T19:44:39.209Z"
   }
  ],
  "kernelspec": {
   "display_name": "Python 3 (ipykernel)",
   "language": "python",
   "name": "python3"
  },
  "language_info": {
   "codemirror_mode": {
    "name": "ipython",
    "version": 3
   },
   "file_extension": ".py",
   "mimetype": "text/x-python",
   "name": "python",
   "nbconvert_exporter": "python",
   "pygments_lexer": "ipython3",
   "version": "3.9.13"
  },
  "toc": {
   "base_numbering": 1,
   "nav_menu": {},
   "number_sections": true,
   "sideBar": true,
   "skip_h1_title": true,
   "title_cell": "Содержание",
   "title_sidebar": "Contents",
   "toc_cell": true,
   "toc_position": {},
   "toc_section_display": true,
   "toc_window_display": false
  }
 },
 "nbformat": 4,
 "nbformat_minor": 2
}
