{
 "cells": [
  {
   "cell_type": "markdown",
   "metadata": {
    "cellId": "y3osnwzsmpskt11avx3o"
   },
   "source": [
    "# Отток клиентов"
   ]
  },
  {
   "cell_type": "markdown",
   "metadata": {},
   "source": [
    "**Цель работы**: пострить модель предсказания ухода клиента из банка."
   ]
  },
  {
   "cell_type": "markdown",
   "metadata": {},
   "source": [
    "**Задачи**: пострить модель с предельно большим значением *F1*-меры, измерить значение *AUC-ROC*"
   ]
  },
  {
   "cell_type": "markdown",
   "metadata": {},
   "source": [
    "До начала работы импортируем все необходимые библиотеки"
   ]
  },
  {
   "cell_type": "code",
   "execution_count": 3,
   "metadata": {
    "cellId": "xvjj1aw658tr9zqdks5k"
   },
   "outputs": [],
   "source": [
    "import pandas as pd\n",
    "import matplotlib.pyplot as plt\n",
    "from sklearn.model_selection import train_test_split\n",
    "from sklearn.tree import DecisionTreeClassifier\n",
    "from sklearn.ensemble import RandomForestClassifier\n",
    "from sklearn.linear_model import LogisticRegression\n",
    "from sklearn.model_selection import GridSearchCV\n",
    "from sklearn.utils import shuffle\n",
    "from sklearn.preprocessing import StandardScaler\n",
    "from sklearn.preprocessing import OrdinalEncoder\n",
    "from sklearn.metrics import f1_score\n",
    "from sklearn.metrics import roc_auc_score\n",
    "from sklearn.metrics import roc_curve\n",
    "import numpy as np\n",
    "import eli5\n",
    "from eli5.sklearn import PermutationImportance\n",
    "from sklearn.metrics import precision_recall_curve"
   ]
  },
  {
   "cell_type": "markdown",
   "metadata": {},
   "source": [
    "Создадим для удобства неизменяемую переменную, которая будет единой для всех, равной значению random_state"
   ]
  },
  {
   "cell_type": "code",
   "execution_count": 4,
   "metadata": {},
   "outputs": [],
   "source": [
    "RS = 12345"
   ]
  },
  {
   "cell_type": "markdown",
   "metadata": {
    "cellId": "52vjz5cr6e4nye0p8igsl"
   },
   "source": [
    "## Подготовка данных"
   ]
  },
  {
   "cell_type": "markdown",
   "metadata": {
    "cellId": "hbpy2z3iel1rauhojhkwe"
   },
   "source": [
    "Загрузим датасет и просмотрим основную информацию о таблице"
   ]
  },
  {
   "cell_type": "code",
   "execution_count": 5,
   "metadata": {
    "cellId": "2clmqzrezxwvvpy2qaini8"
   },
   "outputs": [],
   "source": [
    "data = pd.read_csv('/datasets/Churn.csv')"
   ]
  },
  {
   "cell_type": "code",
   "execution_count": 6,
   "metadata": {
    "cellId": "rju1ixul7siw289zkggy1a"
   },
   "outputs": [
    {
     "name": "stdout",
     "output_type": "stream",
     "text": [
      "<class 'pandas.core.frame.DataFrame'>\n",
      "RangeIndex: 10000 entries, 0 to 9999\n",
      "Data columns (total 14 columns):\n",
      "RowNumber          10000 non-null int64\n",
      "CustomerId         10000 non-null int64\n",
      "Surname            10000 non-null object\n",
      "CreditScore        10000 non-null int64\n",
      "Geography          10000 non-null object\n",
      "Gender             10000 non-null object\n",
      "Age                10000 non-null int64\n",
      "Tenure             9091 non-null float64\n",
      "Balance            10000 non-null float64\n",
      "NumOfProducts      10000 non-null int64\n",
      "HasCrCard          10000 non-null int64\n",
      "IsActiveMember     10000 non-null int64\n",
      "EstimatedSalary    10000 non-null float64\n",
      "Exited             10000 non-null int64\n",
      "dtypes: float64(3), int64(8), object(3)\n",
      "memory usage: 1.1+ MB\n"
     ]
    }
   ],
   "source": [
    "data.info()"
   ]
  },
  {
   "cell_type": "markdown",
   "metadata": {
    "cellId": "zg4le2c1rdh306qx3nxu4r"
   },
   "source": [
    "Посмотрим, как выглядит таблица."
   ]
  },
  {
   "cell_type": "code",
   "execution_count": 7,
   "metadata": {
    "cellId": "y9a9qmxoo3lc8hdmmr11"
   },
   "outputs": [
    {
     "data": {
      "text/html": [
       "<div>\n",
       "<style scoped>\n",
       "    .dataframe tbody tr th:only-of-type {\n",
       "        vertical-align: middle;\n",
       "    }\n",
       "\n",
       "    .dataframe tbody tr th {\n",
       "        vertical-align: top;\n",
       "    }\n",
       "\n",
       "    .dataframe thead th {\n",
       "        text-align: right;\n",
       "    }\n",
       "</style>\n",
       "<table border=\"1\" class=\"dataframe\">\n",
       "  <thead>\n",
       "    <tr style=\"text-align: right;\">\n",
       "      <th></th>\n",
       "      <th>RowNumber</th>\n",
       "      <th>CustomerId</th>\n",
       "      <th>Surname</th>\n",
       "      <th>CreditScore</th>\n",
       "      <th>Geography</th>\n",
       "      <th>Gender</th>\n",
       "      <th>Age</th>\n",
       "      <th>Tenure</th>\n",
       "      <th>Balance</th>\n",
       "      <th>NumOfProducts</th>\n",
       "      <th>HasCrCard</th>\n",
       "      <th>IsActiveMember</th>\n",
       "      <th>EstimatedSalary</th>\n",
       "      <th>Exited</th>\n",
       "    </tr>\n",
       "  </thead>\n",
       "  <tbody>\n",
       "    <tr>\n",
       "      <td>0</td>\n",
       "      <td>1</td>\n",
       "      <td>15634602</td>\n",
       "      <td>Hargrave</td>\n",
       "      <td>619</td>\n",
       "      <td>France</td>\n",
       "      <td>Female</td>\n",
       "      <td>42</td>\n",
       "      <td>2.0</td>\n",
       "      <td>0.00</td>\n",
       "      <td>1</td>\n",
       "      <td>1</td>\n",
       "      <td>1</td>\n",
       "      <td>101348.88</td>\n",
       "      <td>1</td>\n",
       "    </tr>\n",
       "    <tr>\n",
       "      <td>1</td>\n",
       "      <td>2</td>\n",
       "      <td>15647311</td>\n",
       "      <td>Hill</td>\n",
       "      <td>608</td>\n",
       "      <td>Spain</td>\n",
       "      <td>Female</td>\n",
       "      <td>41</td>\n",
       "      <td>1.0</td>\n",
       "      <td>83807.86</td>\n",
       "      <td>1</td>\n",
       "      <td>0</td>\n",
       "      <td>1</td>\n",
       "      <td>112542.58</td>\n",
       "      <td>0</td>\n",
       "    </tr>\n",
       "    <tr>\n",
       "      <td>2</td>\n",
       "      <td>3</td>\n",
       "      <td>15619304</td>\n",
       "      <td>Onio</td>\n",
       "      <td>502</td>\n",
       "      <td>France</td>\n",
       "      <td>Female</td>\n",
       "      <td>42</td>\n",
       "      <td>8.0</td>\n",
       "      <td>159660.80</td>\n",
       "      <td>3</td>\n",
       "      <td>1</td>\n",
       "      <td>0</td>\n",
       "      <td>113931.57</td>\n",
       "      <td>1</td>\n",
       "    </tr>\n",
       "    <tr>\n",
       "      <td>3</td>\n",
       "      <td>4</td>\n",
       "      <td>15701354</td>\n",
       "      <td>Boni</td>\n",
       "      <td>699</td>\n",
       "      <td>France</td>\n",
       "      <td>Female</td>\n",
       "      <td>39</td>\n",
       "      <td>1.0</td>\n",
       "      <td>0.00</td>\n",
       "      <td>2</td>\n",
       "      <td>0</td>\n",
       "      <td>0</td>\n",
       "      <td>93826.63</td>\n",
       "      <td>0</td>\n",
       "    </tr>\n",
       "    <tr>\n",
       "      <td>4</td>\n",
       "      <td>5</td>\n",
       "      <td>15737888</td>\n",
       "      <td>Mitchell</td>\n",
       "      <td>850</td>\n",
       "      <td>Spain</td>\n",
       "      <td>Female</td>\n",
       "      <td>43</td>\n",
       "      <td>2.0</td>\n",
       "      <td>125510.82</td>\n",
       "      <td>1</td>\n",
       "      <td>1</td>\n",
       "      <td>1</td>\n",
       "      <td>79084.10</td>\n",
       "      <td>0</td>\n",
       "    </tr>\n",
       "    <tr>\n",
       "      <td>5</td>\n",
       "      <td>6</td>\n",
       "      <td>15574012</td>\n",
       "      <td>Chu</td>\n",
       "      <td>645</td>\n",
       "      <td>Spain</td>\n",
       "      <td>Male</td>\n",
       "      <td>44</td>\n",
       "      <td>8.0</td>\n",
       "      <td>113755.78</td>\n",
       "      <td>2</td>\n",
       "      <td>1</td>\n",
       "      <td>0</td>\n",
       "      <td>149756.71</td>\n",
       "      <td>1</td>\n",
       "    </tr>\n",
       "    <tr>\n",
       "      <td>6</td>\n",
       "      <td>7</td>\n",
       "      <td>15592531</td>\n",
       "      <td>Bartlett</td>\n",
       "      <td>822</td>\n",
       "      <td>France</td>\n",
       "      <td>Male</td>\n",
       "      <td>50</td>\n",
       "      <td>7.0</td>\n",
       "      <td>0.00</td>\n",
       "      <td>2</td>\n",
       "      <td>1</td>\n",
       "      <td>1</td>\n",
       "      <td>10062.80</td>\n",
       "      <td>0</td>\n",
       "    </tr>\n",
       "    <tr>\n",
       "      <td>7</td>\n",
       "      <td>8</td>\n",
       "      <td>15656148</td>\n",
       "      <td>Obinna</td>\n",
       "      <td>376</td>\n",
       "      <td>Germany</td>\n",
       "      <td>Female</td>\n",
       "      <td>29</td>\n",
       "      <td>4.0</td>\n",
       "      <td>115046.74</td>\n",
       "      <td>4</td>\n",
       "      <td>1</td>\n",
       "      <td>0</td>\n",
       "      <td>119346.88</td>\n",
       "      <td>1</td>\n",
       "    </tr>\n",
       "    <tr>\n",
       "      <td>8</td>\n",
       "      <td>9</td>\n",
       "      <td>15792365</td>\n",
       "      <td>He</td>\n",
       "      <td>501</td>\n",
       "      <td>France</td>\n",
       "      <td>Male</td>\n",
       "      <td>44</td>\n",
       "      <td>4.0</td>\n",
       "      <td>142051.07</td>\n",
       "      <td>2</td>\n",
       "      <td>0</td>\n",
       "      <td>1</td>\n",
       "      <td>74940.50</td>\n",
       "      <td>0</td>\n",
       "    </tr>\n",
       "    <tr>\n",
       "      <td>9</td>\n",
       "      <td>10</td>\n",
       "      <td>15592389</td>\n",
       "      <td>H?</td>\n",
       "      <td>684</td>\n",
       "      <td>France</td>\n",
       "      <td>Male</td>\n",
       "      <td>27</td>\n",
       "      <td>2.0</td>\n",
       "      <td>134603.88</td>\n",
       "      <td>1</td>\n",
       "      <td>1</td>\n",
       "      <td>1</td>\n",
       "      <td>71725.73</td>\n",
       "      <td>0</td>\n",
       "    </tr>\n",
       "  </tbody>\n",
       "</table>\n",
       "</div>"
      ],
      "text/plain": [
       "   RowNumber  CustomerId   Surname  CreditScore Geography  Gender  Age  \\\n",
       "0          1    15634602  Hargrave          619    France  Female   42   \n",
       "1          2    15647311      Hill          608     Spain  Female   41   \n",
       "2          3    15619304      Onio          502    France  Female   42   \n",
       "3          4    15701354      Boni          699    France  Female   39   \n",
       "4          5    15737888  Mitchell          850     Spain  Female   43   \n",
       "5          6    15574012       Chu          645     Spain    Male   44   \n",
       "6          7    15592531  Bartlett          822    France    Male   50   \n",
       "7          8    15656148    Obinna          376   Germany  Female   29   \n",
       "8          9    15792365        He          501    France    Male   44   \n",
       "9         10    15592389        H?          684    France    Male   27   \n",
       "\n",
       "   Tenure    Balance  NumOfProducts  HasCrCard  IsActiveMember  \\\n",
       "0     2.0       0.00              1          1               1   \n",
       "1     1.0   83807.86              1          0               1   \n",
       "2     8.0  159660.80              3          1               0   \n",
       "3     1.0       0.00              2          0               0   \n",
       "4     2.0  125510.82              1          1               1   \n",
       "5     8.0  113755.78              2          1               0   \n",
       "6     7.0       0.00              2          1               1   \n",
       "7     4.0  115046.74              4          1               0   \n",
       "8     4.0  142051.07              2          0               1   \n",
       "9     2.0  134603.88              1          1               1   \n",
       "\n",
       "   EstimatedSalary  Exited  \n",
       "0        101348.88       1  \n",
       "1        112542.58       0  \n",
       "2        113931.57       1  \n",
       "3         93826.63       0  \n",
       "4         79084.10       0  \n",
       "5        149756.71       1  \n",
       "6         10062.80       0  \n",
       "7        119346.88       1  \n",
       "8         74940.50       0  \n",
       "9         71725.73       0  "
      ]
     },
     "execution_count": 7,
     "metadata": {},
     "output_type": "execute_result"
    }
   ],
   "source": [
    "data.head(10)"
   ]
  },
  {
   "cell_type": "markdown",
   "metadata": {
    "cellId": "un4md3tzzn6yf14q4qffw"
   },
   "source": [
    "Из описания данных:\n",
    "\n",
    "Признаки\n",
    "\n",
    "    RowNumber — индекс строки в данных\n",
    "    CustomerId — уникальный идентификатор клиента\n",
    "    Surname — фамилия\n",
    "    CreditScore — кредитный рейтинг\n",
    "    Geography — страна проживания\n",
    "    Gender — пол\n",
    "    Age — возраст\n",
    "    Tenure — сколько лет человек является клиентом банка\n",
    "    Balance — баланс на счёте\n",
    "    NumOfProducts — количество продуктов банка, используемых клиентом\n",
    "    HasCrCard — наличие кредитной карты\n",
    "    IsActiveMember — активность клиента\n",
    "    EstimatedSalary — предполагаемая зарплата\n",
    "\n",
    "Целевой признак\n",
    "\n",
    "    Exited — факт ухода клиента"
   ]
  },
  {
   "cell_type": "markdown",
   "metadata": {
    "cellId": "yddjp6nmo3s7kh27sfd63b"
   },
   "source": [
    "**Промежуточные выводы**: таблица исходных данных состоит из 14 столбцов и 10 000 строк, в которой содержатся данные типов float, object, int. Можно увидеть, что в столбце 'Tenure' содержатся пропуски. Названия столбцов с \"верблюжьим оформлением\", но в целом. все выполнено в одном стиле, можно оставить их как есть."
   ]
  },
  {
   "cell_type": "markdown",
   "metadata": {
    "cellId": "a0uhlm63x4zxoam730z2"
   },
   "source": [
    "Проверим таблицу на пропуски"
   ]
  },
  {
   "cell_type": "code",
   "execution_count": 8,
   "metadata": {
    "cellId": "f2tobxans2r1zadatguwb"
   },
   "outputs": [
    {
     "data": {
      "text/plain": [
       "RowNumber            0\n",
       "CustomerId           0\n",
       "Surname              0\n",
       "CreditScore          0\n",
       "Geography            0\n",
       "Gender               0\n",
       "Age                  0\n",
       "Tenure             909\n",
       "Balance              0\n",
       "NumOfProducts        0\n",
       "HasCrCard            0\n",
       "IsActiveMember       0\n",
       "EstimatedSalary      0\n",
       "Exited               0\n",
       "dtype: int64"
      ]
     },
     "execution_count": 8,
     "metadata": {},
     "output_type": "execute_result"
    }
   ],
   "source": [
    "data.isna().sum()"
   ]
  },
  {
   "cell_type": "markdown",
   "metadata": {
    "cellId": "a7ns5f44z3qi0f4lq641"
   },
   "source": [
    "**Промежуточные выводы**: в столбце 'Tenure', как и ожидалось, имеются пропуски значений (909). Стоблец 'Tenure' соответствует количеству лет использования услуг банка клиентом. Скорее всего их можно заменить средним значением. Для этого нужно посмотреть их распределение."
   ]
  },
  {
   "cell_type": "markdown",
   "metadata": {},
   "source": [
    "Проверим таблицу на наличие явных дубликатов"
   ]
  },
  {
   "cell_type": "code",
   "execution_count": 9,
   "metadata": {},
   "outputs": [
    {
     "name": "stdout",
     "output_type": "stream",
     "text": [
      "Явных дубликатов в таблице: 0\n"
     ]
    }
   ],
   "source": [
    "print('Явных дубликатов в таблице:', data.duplicated().sum())"
   ]
  },
  {
   "cell_type": "code",
   "execution_count": 10,
   "metadata": {},
   "outputs": [
    {
     "name": "stdout",
     "output_type": "stream",
     "text": [
      "Уникальные значения столбца CreditScore:\n",
      " [619 608 502 699 850 645 822 376 501 684 528 497 476 549 635 616 653 587\n",
      " 726 732 636 510 669 846 577 756 571 574 411 591 533 553 520 722 475 490\n",
      " 804 582 472 465 556 834 660 776 829 637 550 698 585 788 655 601 656 725\n",
      " 511 614 742 687 555 603 751 581 735 661 675 738 813 657 604 519 664 678\n",
      " 757 416 665 777 543 506 493 652 750 729 646 647 808 524 769 730 515 773\n",
      " 814 710 413 623 670 622 785 605 479 685 538 562 721 628 668 828 674 625\n",
      " 432 770 758 795 686 789 589 461 584 579 663 682 793 691 485 650 754 535\n",
      " 716 539 706 586 631 717 800 683 704 615 667 484 480 578 512 606 597 778\n",
      " 514 525 715 580 807 521 759 516 711 618 643 671 689 620 676 572 695 592\n",
      " 567 694 547 594 673 610 767 763 712 703 662 659 523 772 545 634 739 771\n",
      " 681 544 696 766 727 693 557 531 498 651 791 733 811 707 714 782 775 799\n",
      " 602 744 588 747 583 627 731 629 438 642 806 474 559 429 680 749 734 644\n",
      " 626 649 805 718 840 630 654 762 568 613 522 737 648 443 640 540 460 593\n",
      " 801 611 802 745 483 690 492 709 705 560 752 701 537 487 596 702 486 724\n",
      " 548 464 790 534 748 494 590 468 509 818 816 536 753 774 621 569 658 798\n",
      " 641 542 692 639 765 570 638 599 632 779 527 564 833 504 842 508 417 598\n",
      " 741 607 761 848 546 439 755 760 526 713 700 666 566 495 688 612 477 427\n",
      " 839 819 720 459 503 624 529 563 482 796 445 746 786 554 672 787 499 844\n",
      " 450 815 838 803 736 633 600 679 517 792 743 488 421 841 708 507 505 456\n",
      " 435 561 518 565 728 784 552 609 764 697 723 551 444 719 496 541 830 812\n",
      " 677 420 595 617 809 500 826 434 513 478 797 363 399 463 780 452 575 837\n",
      " 794 824 428 823 781 849 489 431 457 768 831 359 820 573 576 558 817 449\n",
      " 440 415 821 530 350 446 425 740 481 783 358 845 451 458 469 423 404 836\n",
      " 473 835 466 491 351 827 843 365 532 414 453 471 401 810 832 470 447 422\n",
      " 825 430 436 426 408 847 418 437 410 454 407 455 462 386 405 383 395 467\n",
      " 433 442 424 448 441 367 412 382 373 419] \n",
      " \n",
      "Общее количество уникальных значений столбца CreditScore:\n",
      " 460 \n",
      " \n",
      "Количество уникальных значений столбца CreditScore:\n",
      "850    233\n",
      "678     63\n",
      "655     54\n",
      "705     53\n",
      "667     53\n",
      "      ... \n",
      "419      1\n",
      "417      1\n",
      "373      1\n",
      "365      1\n",
      "401      1\n",
      "Name: CreditScore, Length: 460, dtype: int64 \n",
      " \n",
      "Таблица распределения значений столбца CreditScore:\n",
      "count    10000.000000\n",
      "mean       650.528800\n",
      "std         96.653299\n",
      "min        350.000000\n",
      "25%        584.000000\n",
      "50%        652.000000\n",
      "75%        718.000000\n",
      "max        850.000000\n",
      "Name: CreditScore, dtype: float64 \n",
      "\n"
     ]
    },
    {
     "data": {
      "text/plain": [
       "<matplotlib.axes._subplots.AxesSubplot at 0x7fcfd45a3450>"
      ]
     },
     "execution_count": 10,
     "metadata": {},
     "output_type": "execute_result"
    },
    {
     "data": {
      "image/png": "[encoded data removed]",
      "text/plain": [
       "<Figure size 432x288 with 1 Axes>"
      ]
     },
     "metadata": {
      "needs_background": "light"
     },
     "output_type": "display_data"
    }
   ],
   "source": [
    "# просмотрим уникальные значений в столбце Surname\n",
    "x = 'CreditScore'\n",
    "print('Уникальные значения столбца {}:\\n'.format(x), \n",
    "      data[x].unique(), '\\n',\n",
    "      '\\nОбщее количество уникальных значений столбца {}:\\n'.format(x), \n",
    "      data[x].nunique(), '\\n',\n",
    "      '\\nКоличество уникальных значений столбца {}:\\n{}'.\n",
    "      format(x, data[x].value_counts()), '\\n',\n",
    "     '\\nТаблица распределения значений столбца {}:\\n{}'.\n",
    "      format(x, data[x].describe()), '\\n') \n",
    "data[x].hist(bins=50)"
   ]
  },
  {
   "cell_type": "code",
   "execution_count": 11,
   "metadata": {},
   "outputs": [
    {
     "name": "stdout",
     "output_type": "stream",
     "text": [
      "Уникальные значения столбца NumOfProducts:\n",
      " [1 3 2 4] \n",
      " \n",
      "Общее количество уникальных значений столбца NumOfProducts:\n",
      " 4 \n",
      " \n",
      "Количество уникальных значений столбца NumOfProducts:\n",
      "1    5084\n",
      "2    4590\n",
      "3     266\n",
      "4      60\n",
      "Name: NumOfProducts, dtype: int64 \n",
      " \n",
      "Таблица распределения значений столбца NumOfProducts:\n",
      "count    10000.000000\n",
      "mean         1.530200\n",
      "std          0.581654\n",
      "min          1.000000\n",
      "25%          1.000000\n",
      "50%          1.000000\n",
      "75%          2.000000\n",
      "max          4.000000\n",
      "Name: NumOfProducts, dtype: float64 \n",
      "\n"
     ]
    }
   ],
   "source": [
    "# просмотрим уникальные значений в столбце Surname\n",
    "x = 'NumOfProducts'\n",
    "print('Уникальные значения столбца {}:\\n'.format(x), \n",
    "      data[x].unique(), '\\n',\n",
    "      '\\nОбщее количество уникальных значений столбца {}:\\n'.format(x), \n",
    "      data[x].nunique(), '\\n',\n",
    "      '\\nКоличество уникальных значений столбца {}:\\n{}'.\n",
    "      format(x, data[x].value_counts()), '\\n',\n",
    "     '\\nТаблица распределения значений столбца {}:\\n{}'.\n",
    "      format(x, data[x].describe()), '\\n') "
   ]
  },
  {
   "cell_type": "markdown",
   "metadata": {
    "cellId": "ynjzy7b9ix9n4mwaj2www"
   },
   "source": [
    "Продолжим изучение таблицы. \n",
    "\n",
    "Проверим уникальные значения нужных нам столбцов\n"
   ]
  },
  {
   "cell_type": "code",
   "execution_count": 12,
   "metadata": {
    "cellId": "ua7twlpj90do5ndtxsl4y"
   },
   "outputs": [
    {
     "name": "stdout",
     "output_type": "stream",
     "text": [
      "Уникальные значения столбца Surname:\n",
      " ['Hargrave' 'Hill' 'Onio' ... 'Kashiwagi' 'Aldridge' 'Burbidge'] \n",
      " \n",
      "Общее количество уникальных значений столбца Surname:\n",
      " 2932 \n",
      " \n",
      "Количество уникальных значений столбца Surname:\n",
      "Smith       32\n",
      "Martin      29\n",
      "Scott       29\n",
      "Walker      28\n",
      "Brown       26\n",
      "            ..\n",
      "Inman        1\n",
      "Septimus     1\n",
      "Locke        1\n",
      "Clifton      1\n",
      "Rooke        1\n",
      "Name: Surname, Length: 2932, dtype: int64 \n",
      " \n",
      "Таблица распределения значений столбца Surname:\n",
      "count     10000\n",
      "unique     2932\n",
      "top       Smith\n",
      "freq         32\n",
      "Name: Surname, dtype: object \n",
      "\n"
     ]
    }
   ],
   "source": [
    "# просмотрим уникальные значений в столбце Surname\n",
    "x = 'Surname'\n",
    "print('Уникальные значения столбца {}:\\n'.format(x), \n",
    "      data[x].unique(), '\\n',\n",
    "      '\\nОбщее количество уникальных значений столбца {}:\\n'.format(x), \n",
    "      data[x].nunique(), '\\n',\n",
    "      '\\nКоличество уникальных значений столбца {}:\\n{}'.\n",
    "      format(x, data[x].value_counts()), '\\n',\n",
    "     '\\nТаблица распределения значений столбца {}:\\n{}'.\n",
    "      format(x, data[x].describe()), '\\n') "
   ]
  },
  {
   "cell_type": "markdown",
   "metadata": {
    "cellId": "f2r6z6eq3zot6gv4c7pr4h"
   },
   "source": [
    "**Промежуточные выводы**: в столбце есть множество повторяющихся фамилий клиентов, есть риск появления дубликатов, поэтому нужно проверить на явные дубликаты таблицу."
   ]
  },
  {
   "cell_type": "code",
   "execution_count": 13,
   "metadata": {
    "cellId": "dw7fgo3eybrvrf5xwtpo"
   },
   "outputs": [
    {
     "name": "stdout",
     "output_type": "stream",
     "text": [
      "Уникальные значения столбца Geography:\n",
      " ['France' 'Spain' 'Germany'] \n",
      " \n",
      "Общее количество уникальных значений столбца Geography:\n",
      " 3 \n",
      " \n",
      "Количество уникальных значений столбца Geography:\n",
      "France     5014\n",
      "Germany    2509\n",
      "Spain      2477\n",
      "Name: Geography, dtype: int64 \n",
      " \n",
      "Таблица распределения значений столбца Geography:\n",
      "count      10000\n",
      "unique         3\n",
      "top       France\n",
      "freq        5014\n",
      "Name: Geography, dtype: object \n",
      "\n"
     ]
    }
   ],
   "source": [
    "# просмотрим уникальные значений в столбце Geography\n",
    "x = 'Geography'\n",
    "print('Уникальные значения столбца {}:\\n'.format(x), \n",
    "      data[x].unique(), '\\n',\n",
    "      '\\nОбщее количество уникальных значений столбца {}:\\n'.format(x), \n",
    "      data[x].nunique(), '\\n',\n",
    "      '\\nКоличество уникальных значений столбца {}:\\n{}'.\n",
    "      format(x, data[x].value_counts()), '\\n',\n",
    "     '\\nТаблица распределения значений столбца {}:\\n{}'.\n",
    "      format(x, data[x].describe()), '\\n') "
   ]
  },
  {
   "cell_type": "markdown",
   "metadata": {
    "cellId": "9roids20v0ofeqn5qfozzk"
   },
   "source": [
    "**Промежуточные выводы**: распределение по странам небольшое, всего три страны, преимущественно клиенты из Франции, количество клиентов других стран распределно равномерно."
   ]
  },
  {
   "cell_type": "code",
   "execution_count": 14,
   "metadata": {
    "cellId": "hrt28oyn9de5wcky5scqjg"
   },
   "outputs": [
    {
     "name": "stdout",
     "output_type": "stream",
     "text": [
      "Уникальные значения столбца Gender:\n",
      " ['Female' 'Male'] \n",
      " \n",
      "Общее количество уникальных значений столбца Gender:\n",
      " 2 \n",
      " \n",
      "Количество уникальных значений столбца Gender:\n",
      "Male      5457\n",
      "Female    4543\n",
      "Name: Gender, dtype: int64 \n",
      " \n",
      "Таблица распределения значений столбца Gender:\n",
      "count     10000\n",
      "unique        2\n",
      "top        Male\n",
      "freq       5457\n",
      "Name: Gender, dtype: object \n",
      "\n"
     ]
    }
   ],
   "source": [
    "# просмотрим уникальные значений в столбце Gender\n",
    "x = 'Gender'\n",
    "print('Уникальные значения столбца {}:\\n'.format(x), \n",
    "      data[x].unique(), '\\n',\n",
    "      '\\nОбщее количество уникальных значений столбца {}:\\n'.format(x), \n",
    "      data[x].nunique(), '\\n',\n",
    "      '\\nКоличество уникальных значений столбца {}:\\n{}'.\n",
    "      format(x, data[x].value_counts()), '\\n',\n",
    "     '\\nТаблица распределения значений столбца {}:\\n{}'.\n",
    "      format(x, data[x].describe()), '\\n') "
   ]
  },
  {
   "cell_type": "markdown",
   "metadata": {
    "cellId": "0xqxlqfwod3nokpcus74tg9"
   },
   "source": [
    "**Промежуточные выводы**: столбец пола предствлен двумя значениями, распредление полов примерно одинаково."
   ]
  },
  {
   "cell_type": "code",
   "execution_count": 15,
   "metadata": {
    "cellId": "1uwrjc2elitsv14vzjhtp"
   },
   "outputs": [
    {
     "name": "stdout",
     "output_type": "stream",
     "text": [
      "Уникальные значения столбца Tenure:\n",
      " [ 2.  1.  8.  7.  4.  6.  3. 10.  5.  9.  0. nan] \n",
      " \n",
      "Общее количество уникальных значений столбца Tenure:\n",
      " 11 \n",
      " \n",
      "Количество уникальных значений столбца Tenure:\n",
      "1.0     952\n",
      "2.0     950\n",
      "8.0     933\n",
      "3.0     928\n",
      "5.0     927\n",
      "7.0     925\n",
      "4.0     885\n",
      "9.0     882\n",
      "6.0     881\n",
      "10.0    446\n",
      "0.0     382\n",
      "Name: Tenure, dtype: int64 \n",
      " \n",
      "Таблица распределения значений столбца Tenure:\n",
      "count    9091.000000\n",
      "mean        4.997690\n",
      "std         2.894723\n",
      "min         0.000000\n",
      "25%         2.000000\n",
      "50%         5.000000\n",
      "75%         7.000000\n",
      "max        10.000000\n",
      "Name: Tenure, dtype: float64 \n",
      "\n"
     ]
    }
   ],
   "source": [
    "# просмотрим уникальные значений в столбце Tenure\n",
    "x = 'Tenure'\n",
    "print('Уникальные значения столбца {}:\\n'.format(x), \n",
    "      data[x].unique(), '\\n',\n",
    "      '\\nОбщее количество уникальных значений столбца {}:\\n'.format(x), \n",
    "      data[x].nunique(), '\\n',\n",
    "      '\\nКоличество уникальных значений столбца {}:\\n{}'.\n",
    "      format(x, data[x].value_counts()), '\\n',\n",
    "     '\\nТаблица распределения значений столбца {}:\\n{}'.\n",
    "      format(x, data[x].describe()), '\\n') "
   ]
  },
  {
   "cell_type": "markdown",
   "metadata": {},
   "source": [
    "Можно отметить, что среднее значение данного столбца соотносится с медианой, а значит, можно попробовать заменить пропущенные значения средним. Вероятно, пропуски были совершены случайно. Таким образом, заменим пропуски медианой."
   ]
  },
  {
   "cell_type": "code",
   "execution_count": 16,
   "metadata": {},
   "outputs": [],
   "source": [
    "data['Tenure'] = data['Tenure'].fillna(np.random.randint(0, 10))"
   ]
  },
  {
   "cell_type": "markdown",
   "metadata": {
    "cellId": "5gz68unwoooo3lo4m62kx"
   },
   "source": [
    "**Промежуточные выводы**: имеющиеся пропуски столбца `Tenure` заменены на средние значения для дальнейшго обучения моделей."
   ]
  },
  {
   "cell_type": "code",
   "execution_count": 17,
   "metadata": {
    "cellId": "r39x8jzo3477pg68cgv"
   },
   "outputs": [
    {
     "name": "stdout",
     "output_type": "stream",
     "text": [
      "Уникальные значения столбца Exited:\n",
      " [1 0] \n",
      " \n",
      "Общее количество уникальных значений столбца Exited:\n",
      " 2 \n",
      " \n",
      "Количество уникальных значений столбца Exited:\n",
      "0    7963\n",
      "1    2037\n",
      "Name: Exited, dtype: int64 \n",
      " \n",
      "Таблица распределения значений столбца Exited:\n",
      "count    10000.000000\n",
      "mean         0.203700\n",
      "std          0.402769\n",
      "min          0.000000\n",
      "25%          0.000000\n",
      "50%          0.000000\n",
      "75%          0.000000\n",
      "max          1.000000\n",
      "Name: Exited, dtype: float64 \n",
      "\n"
     ]
    }
   ],
   "source": [
    "# просмотрим уникальные значений в столбце Exited\n",
    "x = 'Exited'\n",
    "print('Уникальные значения столбца {}:\\n'.format(x), \n",
    "      data[x].unique(), '\\n',\n",
    "      '\\nОбщее количество уникальных значений столбца {}:\\n'.format(x), \n",
    "      data[x].nunique(), '\\n',\n",
    "      '\\nКоличество уникальных значений столбца {}:\\n{}'.\n",
    "      format(x, data[x].value_counts()), '\\n',\n",
    "     '\\nТаблица распределения значений столбца {}:\\n{}'.\n",
    "      format(x, data[x].describe()), '\\n') "
   ]
  },
  {
   "cell_type": "markdown",
   "metadata": {
    "cellId": "cuhpx361znffic0m4wz2ic"
   },
   "source": [
    "**Промежуточные выводы**: всего два значения в целевом столбце. Это хорошо. Но видно, распределены они примерно как 1/3, что потребует различных подходов для уравновешения различий в выборке (взвешивание, укрупнение выборок, уменьшение преобладающей)."
   ]
  },
  {
   "cell_type": "markdown",
   "metadata": {
    "cellId": "9qwzsyfb1sj890qm0sok5u"
   },
   "source": [
    "**Выводы**: . Значения целевого стобца готово для использования в обучении (имеется всего два значения 1 и 0), однако распределение этих значений неравномерно, что требует работы с их балансированием.Пропущенные значения заменены на средние значения соответствующего столбца. Таблица не имеет явных дубликатов. Готовность к дальнейшей работы - полная!"
   ]
  },
  {
   "cell_type": "markdown",
   "metadata": {
    "cellId": "ib2ifbercdbepcfg0pi8oa"
   },
   "source": [
    "## Исследование задачи"
   ]
  },
  {
   "cell_type": "markdown",
   "metadata": {},
   "source": [
    "Соберем новую таблицу из исходной, поместив в нее лишь нужные и информативные для нашей задачи столбцы."
   ]
  },
  {
   "cell_type": "code",
   "execution_count": 18,
   "metadata": {},
   "outputs": [],
   "source": [
    "data_target = data.drop(['Surname', 'CustomerId', 'RowNumber'], axis=1) # создаем целевую таблицу"
   ]
  },
  {
   "cell_type": "code",
   "execution_count": 19,
   "metadata": {},
   "outputs": [
    {
     "data": {
      "text/html": [
       "<div>\n",
       "<style scoped>\n",
       "    .dataframe tbody tr th:only-of-type {\n",
       "        vertical-align: middle;\n",
       "    }\n",
       "\n",
       "    .dataframe tbody tr th {\n",
       "        vertical-align: top;\n",
       "    }\n",
       "\n",
       "    .dataframe thead th {\n",
       "        text-align: right;\n",
       "    }\n",
       "</style>\n",
       "<table border=\"1\" class=\"dataframe\">\n",
       "  <thead>\n",
       "    <tr style=\"text-align: right;\">\n",
       "      <th></th>\n",
       "      <th>CreditScore</th>\n",
       "      <th>Geography</th>\n",
       "      <th>Gender</th>\n",
       "      <th>Age</th>\n",
       "      <th>Tenure</th>\n",
       "      <th>Balance</th>\n",
       "      <th>NumOfProducts</th>\n",
       "      <th>HasCrCard</th>\n",
       "      <th>IsActiveMember</th>\n",
       "      <th>EstimatedSalary</th>\n",
       "      <th>Exited</th>\n",
       "    </tr>\n",
       "  </thead>\n",
       "  <tbody>\n",
       "    <tr>\n",
       "      <td>0</td>\n",
       "      <td>619</td>\n",
       "      <td>France</td>\n",
       "      <td>Female</td>\n",
       "      <td>42</td>\n",
       "      <td>2.0</td>\n",
       "      <td>0.00</td>\n",
       "      <td>1</td>\n",
       "      <td>1</td>\n",
       "      <td>1</td>\n",
       "      <td>101348.88</td>\n",
       "      <td>1</td>\n",
       "    </tr>\n",
       "    <tr>\n",
       "      <td>1</td>\n",
       "      <td>608</td>\n",
       "      <td>Spain</td>\n",
       "      <td>Female</td>\n",
       "      <td>41</td>\n",
       "      <td>1.0</td>\n",
       "      <td>83807.86</td>\n",
       "      <td>1</td>\n",
       "      <td>0</td>\n",
       "      <td>1</td>\n",
       "      <td>112542.58</td>\n",
       "      <td>0</td>\n",
       "    </tr>\n",
       "    <tr>\n",
       "      <td>2</td>\n",
       "      <td>502</td>\n",
       "      <td>France</td>\n",
       "      <td>Female</td>\n",
       "      <td>42</td>\n",
       "      <td>8.0</td>\n",
       "      <td>159660.80</td>\n",
       "      <td>3</td>\n",
       "      <td>1</td>\n",
       "      <td>0</td>\n",
       "      <td>113931.57</td>\n",
       "      <td>1</td>\n",
       "    </tr>\n",
       "    <tr>\n",
       "      <td>3</td>\n",
       "      <td>699</td>\n",
       "      <td>France</td>\n",
       "      <td>Female</td>\n",
       "      <td>39</td>\n",
       "      <td>1.0</td>\n",
       "      <td>0.00</td>\n",
       "      <td>2</td>\n",
       "      <td>0</td>\n",
       "      <td>0</td>\n",
       "      <td>93826.63</td>\n",
       "      <td>0</td>\n",
       "    </tr>\n",
       "    <tr>\n",
       "      <td>4</td>\n",
       "      <td>850</td>\n",
       "      <td>Spain</td>\n",
       "      <td>Female</td>\n",
       "      <td>43</td>\n",
       "      <td>2.0</td>\n",
       "      <td>125510.82</td>\n",
       "      <td>1</td>\n",
       "      <td>1</td>\n",
       "      <td>1</td>\n",
       "      <td>79084.10</td>\n",
       "      <td>0</td>\n",
       "    </tr>\n",
       "    <tr>\n",
       "      <td>...</td>\n",
       "      <td>...</td>\n",
       "      <td>...</td>\n",
       "      <td>...</td>\n",
       "      <td>...</td>\n",
       "      <td>...</td>\n",
       "      <td>...</td>\n",
       "      <td>...</td>\n",
       "      <td>...</td>\n",
       "      <td>...</td>\n",
       "      <td>...</td>\n",
       "      <td>...</td>\n",
       "    </tr>\n",
       "    <tr>\n",
       "      <td>9995</td>\n",
       "      <td>771</td>\n",
       "      <td>France</td>\n",
       "      <td>Male</td>\n",
       "      <td>39</td>\n",
       "      <td>5.0</td>\n",
       "      <td>0.00</td>\n",
       "      <td>2</td>\n",
       "      <td>1</td>\n",
       "      <td>0</td>\n",
       "      <td>96270.64</td>\n",
       "      <td>0</td>\n",
       "    </tr>\n",
       "    <tr>\n",
       "      <td>9996</td>\n",
       "      <td>516</td>\n",
       "      <td>France</td>\n",
       "      <td>Male</td>\n",
       "      <td>35</td>\n",
       "      <td>10.0</td>\n",
       "      <td>57369.61</td>\n",
       "      <td>1</td>\n",
       "      <td>1</td>\n",
       "      <td>1</td>\n",
       "      <td>101699.77</td>\n",
       "      <td>0</td>\n",
       "    </tr>\n",
       "    <tr>\n",
       "      <td>9997</td>\n",
       "      <td>709</td>\n",
       "      <td>France</td>\n",
       "      <td>Female</td>\n",
       "      <td>36</td>\n",
       "      <td>7.0</td>\n",
       "      <td>0.00</td>\n",
       "      <td>1</td>\n",
       "      <td>0</td>\n",
       "      <td>1</td>\n",
       "      <td>42085.58</td>\n",
       "      <td>1</td>\n",
       "    </tr>\n",
       "    <tr>\n",
       "      <td>9998</td>\n",
       "      <td>772</td>\n",
       "      <td>Germany</td>\n",
       "      <td>Male</td>\n",
       "      <td>42</td>\n",
       "      <td>3.0</td>\n",
       "      <td>75075.31</td>\n",
       "      <td>2</td>\n",
       "      <td>1</td>\n",
       "      <td>0</td>\n",
       "      <td>92888.52</td>\n",
       "      <td>1</td>\n",
       "    </tr>\n",
       "    <tr>\n",
       "      <td>9999</td>\n",
       "      <td>792</td>\n",
       "      <td>France</td>\n",
       "      <td>Female</td>\n",
       "      <td>28</td>\n",
       "      <td>7.0</td>\n",
       "      <td>130142.79</td>\n",
       "      <td>1</td>\n",
       "      <td>1</td>\n",
       "      <td>0</td>\n",
       "      <td>38190.78</td>\n",
       "      <td>0</td>\n",
       "    </tr>\n",
       "  </tbody>\n",
       "</table>\n",
       "<p>10000 rows × 11 columns</p>\n",
       "</div>"
      ],
      "text/plain": [
       "      CreditScore Geography  Gender  Age  Tenure    Balance  NumOfProducts  \\\n",
       "0             619    France  Female   42     2.0       0.00              1   \n",
       "1             608     Spain  Female   41     1.0   83807.86              1   \n",
       "2             502    France  Female   42     8.0  159660.80              3   \n",
       "3             699    France  Female   39     1.0       0.00              2   \n",
       "4             850     Spain  Female   43     2.0  125510.82              1   \n",
       "...           ...       ...     ...  ...     ...        ...            ...   \n",
       "9995          771    France    Male   39     5.0       0.00              2   \n",
       "9996          516    France    Male   35    10.0   57369.61              1   \n",
       "9997          709    France  Female   36     7.0       0.00              1   \n",
       "9998          772   Germany    Male   42     3.0   75075.31              2   \n",
       "9999          792    France  Female   28     7.0  130142.79              1   \n",
       "\n",
       "      HasCrCard  IsActiveMember  EstimatedSalary  Exited  \n",
       "0             1               1        101348.88       1  \n",
       "1             0               1        112542.58       0  \n",
       "2             1               0        113931.57       1  \n",
       "3             0               0         93826.63       0  \n",
       "4             1               1         79084.10       0  \n",
       "...         ...             ...              ...     ...  \n",
       "9995          1               0         96270.64       0  \n",
       "9996          1               1        101699.77       0  \n",
       "9997          0               1         42085.58       1  \n",
       "9998          1               0         92888.52       1  \n",
       "9999          1               0         38190.78       0  \n",
       "\n",
       "[10000 rows x 11 columns]"
      ]
     },
     "execution_count": 19,
     "metadata": {},
     "output_type": "execute_result"
    }
   ],
   "source": [
    "data_target # посмотрим, какой она получилась"
   ]
  },
  {
   "cell_type": "markdown",
   "metadata": {},
   "source": [
    "В таблице есть много значений, необходимо от них избавиться и не попасть в дамми-ловушку. Так, нам необходимо убрать категориальные признаки географиеческого расположения пользователя (столбец `Geography`), а также разделить значения столбца пола (`Gender`). При этом надо помнить, чтобы мы не попали в избыточные данные (дамми), для этого избавимся от одного из стобцов, имплицитно обучая будущую модель методом \"исключения\" необозначенного признака."
   ]
  },
  {
   "cell_type": "code",
   "execution_count": 20,
   "metadata": {},
   "outputs": [],
   "source": [
    "data_ohe = pd.get_dummies(data_target, drop_first=True) # прямое кодирование категориальных признаков"
   ]
  },
  {
   "cell_type": "markdown",
   "metadata": {},
   "source": [
    "Разделим полученную кодированную таблицу на целевой признак и признаки для обучения."
   ]
  },
  {
   "cell_type": "code",
   "execution_count": 21,
   "metadata": {},
   "outputs": [],
   "source": [
    "features = data_ohe.drop(['Exited'], axis=1)\n",
    "target = data_ohe['Exited']"
   ]
  },
  {
   "cell_type": "markdown",
   "metadata": {
    "cellId": "ztjggduu89pstz6cbf8bq"
   },
   "source": [
    "Разбиваем выборки на тестовую и валидационную и обучающую."
   ]
  },
  {
   "cell_type": "code",
   "execution_count": 22,
   "metadata": {
    "cellId": "yzcnrql61a0mc71tqreqae"
   },
   "outputs": [],
   "source": [
    "features_train_test, features_valid, target_train_test, target_valid = train_test_split(\n",
    "    features, target, test_size=0.25, random_state=RS)"
   ]
  },
  {
   "cell_type": "code",
   "execution_count": 23,
   "metadata": {
    "cellId": "hkou0gv9ygk78go1fhc1jn"
   },
   "outputs": [],
   "source": [
    "features_train, features_test, target_train, target_test = train_test_split(\n",
    "    features_train_test, target_train_test, test_size=0.25, random_state=RS)"
   ]
  },
  {
   "cell_type": "markdown",
   "metadata": {
    "cellId": "4tpn7ubluzrd9wnhy1vtng"
   },
   "source": [
    "Проверим размеры получившихся выборок"
   ]
  },
  {
   "cell_type": "code",
   "execution_count": 24,
   "metadata": {
    "cellId": "io735ajtfpadjio76dt7f",
    "scrolled": true
   },
   "outputs": [
    {
     "name": "stdout",
     "output_type": "stream",
     "text": [
      "Размер обучающей выборки: \n",
      "(5625, 11)\n",
      "Размер валидационной выборки: \n",
      "(2500, 11)\n",
      "Размер тестовой выборки: \n",
      "(1875, 11)\n"
     ]
    }
   ],
   "source": [
    "print('Размер обучающей выборки: ', features_train.shape, \n",
    "      'Размер валидационной выборки: ', features_valid.shape, \n",
    "      'Размер тестовой выборки: ', features_test.shape, sep='\\n')"
   ]
  },
  {
   "cell_type": "markdown",
   "metadata": {},
   "source": [
    "Посмотрим для самоконтроля на полученную тренировочную выборку"
   ]
  },
  {
   "cell_type": "code",
   "execution_count": 25,
   "metadata": {},
   "outputs": [
    {
     "data": {
      "text/html": [
       "<div>\n",
       "<style scoped>\n",
       "    .dataframe tbody tr th:only-of-type {\n",
       "        vertical-align: middle;\n",
       "    }\n",
       "\n",
       "    .dataframe tbody tr th {\n",
       "        vertical-align: top;\n",
       "    }\n",
       "\n",
       "    .dataframe thead th {\n",
       "        text-align: right;\n",
       "    }\n",
       "</style>\n",
       "<table border=\"1\" class=\"dataframe\">\n",
       "  <thead>\n",
       "    <tr style=\"text-align: right;\">\n",
       "      <th></th>\n",
       "      <th>CreditScore</th>\n",
       "      <th>Age</th>\n",
       "      <th>Tenure</th>\n",
       "      <th>Balance</th>\n",
       "      <th>NumOfProducts</th>\n",
       "      <th>HasCrCard</th>\n",
       "      <th>IsActiveMember</th>\n",
       "      <th>EstimatedSalary</th>\n",
       "      <th>Geography_Germany</th>\n",
       "      <th>Geography_Spain</th>\n",
       "      <th>Gender_Male</th>\n",
       "    </tr>\n",
       "  </thead>\n",
       "  <tbody>\n",
       "    <tr>\n",
       "      <td>9315</td>\n",
       "      <td>694</td>\n",
       "      <td>42</td>\n",
       "      <td>8.0</td>\n",
       "      <td>133767.19</td>\n",
       "      <td>1</td>\n",
       "      <td>1</td>\n",
       "      <td>0</td>\n",
       "      <td>36405.21</td>\n",
       "      <td>0</td>\n",
       "      <td>0</td>\n",
       "      <td>1</td>\n",
       "    </tr>\n",
       "    <tr>\n",
       "      <td>58</td>\n",
       "      <td>511</td>\n",
       "      <td>66</td>\n",
       "      <td>4.0</td>\n",
       "      <td>0.00</td>\n",
       "      <td>1</td>\n",
       "      <td>1</td>\n",
       "      <td>0</td>\n",
       "      <td>1643.11</td>\n",
       "      <td>0</td>\n",
       "      <td>1</td>\n",
       "      <td>0</td>\n",
       "    </tr>\n",
       "    <tr>\n",
       "      <td>4609</td>\n",
       "      <td>581</td>\n",
       "      <td>34</td>\n",
       "      <td>1.0</td>\n",
       "      <td>0.00</td>\n",
       "      <td>2</td>\n",
       "      <td>0</td>\n",
       "      <td>1</td>\n",
       "      <td>81175.25</td>\n",
       "      <td>0</td>\n",
       "      <td>1</td>\n",
       "      <td>1</td>\n",
       "    </tr>\n",
       "    <tr>\n",
       "      <td>9958</td>\n",
       "      <td>537</td>\n",
       "      <td>37</td>\n",
       "      <td>6.0</td>\n",
       "      <td>0.00</td>\n",
       "      <td>1</td>\n",
       "      <td>1</td>\n",
       "      <td>1</td>\n",
       "      <td>17802.42</td>\n",
       "      <td>0</td>\n",
       "      <td>0</td>\n",
       "      <td>1</td>\n",
       "    </tr>\n",
       "    <tr>\n",
       "      <td>16</td>\n",
       "      <td>653</td>\n",
       "      <td>58</td>\n",
       "      <td>1.0</td>\n",
       "      <td>132602.88</td>\n",
       "      <td>1</td>\n",
       "      <td>1</td>\n",
       "      <td>0</td>\n",
       "      <td>5097.67</td>\n",
       "      <td>1</td>\n",
       "      <td>0</td>\n",
       "      <td>1</td>\n",
       "    </tr>\n",
       "    <tr>\n",
       "      <td>...</td>\n",
       "      <td>...</td>\n",
       "      <td>...</td>\n",
       "      <td>...</td>\n",
       "      <td>...</td>\n",
       "      <td>...</td>\n",
       "      <td>...</td>\n",
       "      <td>...</td>\n",
       "      <td>...</td>\n",
       "      <td>...</td>\n",
       "      <td>...</td>\n",
       "      <td>...</td>\n",
       "    </tr>\n",
       "    <tr>\n",
       "      <td>1661</td>\n",
       "      <td>690</td>\n",
       "      <td>32</td>\n",
       "      <td>0.0</td>\n",
       "      <td>106683.52</td>\n",
       "      <td>2</td>\n",
       "      <td>1</td>\n",
       "      <td>1</td>\n",
       "      <td>137916.49</td>\n",
       "      <td>1</td>\n",
       "      <td>0</td>\n",
       "      <td>1</td>\n",
       "    </tr>\n",
       "    <tr>\n",
       "      <td>3419</td>\n",
       "      <td>674</td>\n",
       "      <td>26</td>\n",
       "      <td>10.0</td>\n",
       "      <td>0.00</td>\n",
       "      <td>2</td>\n",
       "      <td>1</td>\n",
       "      <td>1</td>\n",
       "      <td>138423.10</td>\n",
       "      <td>0</td>\n",
       "      <td>0</td>\n",
       "      <td>0</td>\n",
       "    </tr>\n",
       "    <tr>\n",
       "      <td>3148</td>\n",
       "      <td>648</td>\n",
       "      <td>39</td>\n",
       "      <td>6.0</td>\n",
       "      <td>130694.89</td>\n",
       "      <td>2</td>\n",
       "      <td>1</td>\n",
       "      <td>1</td>\n",
       "      <td>153955.38</td>\n",
       "      <td>0</td>\n",
       "      <td>0</td>\n",
       "      <td>0</td>\n",
       "    </tr>\n",
       "    <tr>\n",
       "      <td>5617</td>\n",
       "      <td>626</td>\n",
       "      <td>43</td>\n",
       "      <td>4.0</td>\n",
       "      <td>137638.69</td>\n",
       "      <td>1</td>\n",
       "      <td>1</td>\n",
       "      <td>0</td>\n",
       "      <td>130442.08</td>\n",
       "      <td>0</td>\n",
       "      <td>0</td>\n",
       "      <td>1</td>\n",
       "    </tr>\n",
       "    <tr>\n",
       "      <td>480</td>\n",
       "      <td>788</td>\n",
       "      <td>34</td>\n",
       "      <td>6.0</td>\n",
       "      <td>156478.62</td>\n",
       "      <td>1</td>\n",
       "      <td>0</td>\n",
       "      <td>1</td>\n",
       "      <td>181196.76</td>\n",
       "      <td>0</td>\n",
       "      <td>1</td>\n",
       "      <td>1</td>\n",
       "    </tr>\n",
       "  </tbody>\n",
       "</table>\n",
       "<p>5625 rows × 11 columns</p>\n",
       "</div>"
      ],
      "text/plain": [
       "      CreditScore  Age  Tenure    Balance  NumOfProducts  HasCrCard  \\\n",
       "9315          694   42     8.0  133767.19              1          1   \n",
       "58            511   66     4.0       0.00              1          1   \n",
       "4609          581   34     1.0       0.00              2          0   \n",
       "9958          537   37     6.0       0.00              1          1   \n",
       "16            653   58     1.0  132602.88              1          1   \n",
       "...           ...  ...     ...        ...            ...        ...   \n",
       "1661          690   32     0.0  106683.52              2          1   \n",
       "3419          674   26    10.0       0.00              2          1   \n",
       "3148          648   39     6.0  130694.89              2          1   \n",
       "5617          626   43     4.0  137638.69              1          1   \n",
       "480           788   34     6.0  156478.62              1          0   \n",
       "\n",
       "      IsActiveMember  EstimatedSalary  Geography_Germany  Geography_Spain  \\\n",
       "9315               0         36405.21                  0                0   \n",
       "58                 0          1643.11                  0                1   \n",
       "4609               1         81175.25                  0                1   \n",
       "9958               1         17802.42                  0                0   \n",
       "16                 0          5097.67                  1                0   \n",
       "...              ...              ...                ...              ...   \n",
       "1661               1        137916.49                  1                0   \n",
       "3419               1        138423.10                  0                0   \n",
       "3148               1        153955.38                  0                0   \n",
       "5617               0        130442.08                  0                0   \n",
       "480                1        181196.76                  0                1   \n",
       "\n",
       "      Gender_Male  \n",
       "9315            1  \n",
       "58              0  \n",
       "4609            1  \n",
       "9958            1  \n",
       "16              1  \n",
       "...           ...  \n",
       "1661            1  \n",
       "3419            0  \n",
       "3148            0  \n",
       "5617            1  \n",
       "480             1  \n",
       "\n",
       "[5625 rows x 11 columns]"
      ]
     },
     "execution_count": 25,
     "metadata": {},
     "output_type": "execute_result"
    }
   ],
   "source": [
    "features_train"
   ]
  },
  {
   "cell_type": "markdown",
   "metadata": {},
   "source": [
    "Чтобы избежать ошибки разномасштабных признаков, необходимо применить стандартизацию данных нужных нам столбцов."
   ]
  },
  {
   "cell_type": "code",
   "execution_count": 26,
   "metadata": {},
   "outputs": [],
   "source": [
    "numeric = ['CreditScore', 'Age', 'Balance', 'Tenure','EstimatedSalary'] # список нужных признаков для стандартизации\n",
    "\n",
    "scaler = StandardScaler() # создадим модель стандартизации\n",
    "scaler.fit(features_train[numeric]) # и обучим ее на тренировочных признаках\n",
    "\n",
    "pd.options.mode.chained_assignment = None # избавимся от типового предупреждения\n",
    "\n",
    "# заменим значения тренировочных, валидных и тестовых признаков на стандартизированные\n",
    "features_train[numeric] = scaler.transform(features_train[numeric]) \n",
    "features_valid[numeric] = scaler.transform(features_valid[numeric])\n",
    "features_test[numeric] = scaler.transform(features_test[numeric])"
   ]
  },
  {
   "cell_type": "markdown",
   "metadata": {},
   "source": [
    "Опять же посмотрим, как стала выглядеть таблица после стандартизации признаков"
   ]
  },
  {
   "cell_type": "code",
   "execution_count": 27,
   "metadata": {},
   "outputs": [
    {
     "data": {
      "text/html": [
       "<div>\n",
       "<style scoped>\n",
       "    .dataframe tbody tr th:only-of-type {\n",
       "        vertical-align: middle;\n",
       "    }\n",
       "\n",
       "    .dataframe tbody tr th {\n",
       "        vertical-align: top;\n",
       "    }\n",
       "\n",
       "    .dataframe thead th {\n",
       "        text-align: right;\n",
       "    }\n",
       "</style>\n",
       "<table border=\"1\" class=\"dataframe\">\n",
       "  <thead>\n",
       "    <tr style=\"text-align: right;\">\n",
       "      <th></th>\n",
       "      <th>CreditScore</th>\n",
       "      <th>Age</th>\n",
       "      <th>Tenure</th>\n",
       "      <th>Balance</th>\n",
       "      <th>NumOfProducts</th>\n",
       "      <th>HasCrCard</th>\n",
       "      <th>IsActiveMember</th>\n",
       "      <th>EstimatedSalary</th>\n",
       "      <th>Geography_Germany</th>\n",
       "      <th>Geography_Spain</th>\n",
       "      <th>Gender_Male</th>\n",
       "    </tr>\n",
       "  </thead>\n",
       "  <tbody>\n",
       "    <tr>\n",
       "      <td>9315</td>\n",
       "      <td>0.436123</td>\n",
       "      <td>0.302839</td>\n",
       "      <td>0.982637</td>\n",
       "      <td>0.932262</td>\n",
       "      <td>1</td>\n",
       "      <td>1</td>\n",
       "      <td>0</td>\n",
       "      <td>-1.121738</td>\n",
       "      <td>0</td>\n",
       "      <td>0</td>\n",
       "      <td>1</td>\n",
       "    </tr>\n",
       "    <tr>\n",
       "      <td>58</td>\n",
       "      <td>-1.458825</td>\n",
       "      <td>2.563332</td>\n",
       "      <td>-0.437359</td>\n",
       "      <td>-1.217770</td>\n",
       "      <td>1</td>\n",
       "      <td>1</td>\n",
       "      <td>0</td>\n",
       "      <td>-1.724514</td>\n",
       "      <td>0</td>\n",
       "      <td>1</td>\n",
       "      <td>0</td>\n",
       "    </tr>\n",
       "    <tr>\n",
       "      <td>4609</td>\n",
       "      <td>-0.733981</td>\n",
       "      <td>-0.450659</td>\n",
       "      <td>-1.502356</td>\n",
       "      <td>-1.217770</td>\n",
       "      <td>2</td>\n",
       "      <td>0</td>\n",
       "      <td>1</td>\n",
       "      <td>-0.345423</td>\n",
       "      <td>0</td>\n",
       "      <td>1</td>\n",
       "      <td>1</td>\n",
       "    </tr>\n",
       "    <tr>\n",
       "      <td>9958</td>\n",
       "      <td>-1.189597</td>\n",
       "      <td>-0.168097</td>\n",
       "      <td>0.272639</td>\n",
       "      <td>-1.217770</td>\n",
       "      <td>1</td>\n",
       "      <td>1</td>\n",
       "      <td>1</td>\n",
       "      <td>-1.444311</td>\n",
       "      <td>0</td>\n",
       "      <td>0</td>\n",
       "      <td>1</td>\n",
       "    </tr>\n",
       "    <tr>\n",
       "      <td>16</td>\n",
       "      <td>0.011572</td>\n",
       "      <td>1.809834</td>\n",
       "      <td>-1.502356</td>\n",
       "      <td>0.913549</td>\n",
       "      <td>1</td>\n",
       "      <td>1</td>\n",
       "      <td>0</td>\n",
       "      <td>-1.664612</td>\n",
       "      <td>1</td>\n",
       "      <td>0</td>\n",
       "      <td>1</td>\n",
       "    </tr>\n",
       "    <tr>\n",
       "      <td>3983</td>\n",
       "      <td>-0.268011</td>\n",
       "      <td>0.491213</td>\n",
       "      <td>-1.147357</td>\n",
       "      <td>-1.217770</td>\n",
       "      <td>1</td>\n",
       "      <td>0</td>\n",
       "      <td>1</td>\n",
       "      <td>1.248854</td>\n",
       "      <td>0</td>\n",
       "      <td>0</td>\n",
       "      <td>0</td>\n",
       "    </tr>\n",
       "    <tr>\n",
       "      <td>5408</td>\n",
       "      <td>0.311864</td>\n",
       "      <td>1.433085</td>\n",
       "      <td>-1.857355</td>\n",
       "      <td>0.117935</td>\n",
       "      <td>2</td>\n",
       "      <td>1</td>\n",
       "      <td>1</td>\n",
       "      <td>-0.814338</td>\n",
       "      <td>0</td>\n",
       "      <td>1</td>\n",
       "      <td>0</td>\n",
       "    </tr>\n",
       "    <tr>\n",
       "      <td>5218</td>\n",
       "      <td>0.342929</td>\n",
       "      <td>-1.769279</td>\n",
       "      <td>-0.437359</td>\n",
       "      <td>0.465388</td>\n",
       "      <td>2</td>\n",
       "      <td>1</td>\n",
       "      <td>0</td>\n",
       "      <td>-1.082096</td>\n",
       "      <td>0</td>\n",
       "      <td>0</td>\n",
       "      <td>1</td>\n",
       "    </tr>\n",
       "    <tr>\n",
       "      <td>1494</td>\n",
       "      <td>-2.100829</td>\n",
       "      <td>1.244711</td>\n",
       "      <td>0.627638</td>\n",
       "      <td>-1.217770</td>\n",
       "      <td>2</td>\n",
       "      <td>0</td>\n",
       "      <td>1</td>\n",
       "      <td>0.390605</td>\n",
       "      <td>0</td>\n",
       "      <td>0</td>\n",
       "      <td>1</td>\n",
       "    </tr>\n",
       "    <tr>\n",
       "      <td>8853</td>\n",
       "      <td>0.301509</td>\n",
       "      <td>0.397026</td>\n",
       "      <td>0.627638</td>\n",
       "      <td>-0.151512</td>\n",
       "      <td>1</td>\n",
       "      <td>1</td>\n",
       "      <td>1</td>\n",
       "      <td>-1.427489</td>\n",
       "      <td>0</td>\n",
       "      <td>0</td>\n",
       "      <td>1</td>\n",
       "    </tr>\n",
       "  </tbody>\n",
       "</table>\n",
       "</div>"
      ],
      "text/plain": [
       "      CreditScore       Age    Tenure   Balance  NumOfProducts  HasCrCard  \\\n",
       "9315     0.436123  0.302839  0.982637  0.932262              1          1   \n",
       "58      -1.458825  2.563332 -0.437359 -1.217770              1          1   \n",
       "4609    -0.733981 -0.450659 -1.502356 -1.217770              2          0   \n",
       "9958    -1.189597 -0.168097  0.272639 -1.217770              1          1   \n",
       "16       0.011572  1.809834 -1.502356  0.913549              1          1   \n",
       "3983    -0.268011  0.491213 -1.147357 -1.217770              1          0   \n",
       "5408     0.311864  1.433085 -1.857355  0.117935              2          1   \n",
       "5218     0.342929 -1.769279 -0.437359  0.465388              2          1   \n",
       "1494    -2.100829  1.244711  0.627638 -1.217770              2          0   \n",
       "8853     0.301509  0.397026  0.627638 -0.151512              1          1   \n",
       "\n",
       "      IsActiveMember  EstimatedSalary  Geography_Germany  Geography_Spain  \\\n",
       "9315               0        -1.121738                  0                0   \n",
       "58                 0        -1.724514                  0                1   \n",
       "4609               1        -0.345423                  0                1   \n",
       "9958               1        -1.444311                  0                0   \n",
       "16                 0        -1.664612                  1                0   \n",
       "3983               1         1.248854                  0                0   \n",
       "5408               1        -0.814338                  0                1   \n",
       "5218               0        -1.082096                  0                0   \n",
       "1494               1         0.390605                  0                0   \n",
       "8853               1        -1.427489                  0                0   \n",
       "\n",
       "      Gender_Male  \n",
       "9315            1  \n",
       "58              0  \n",
       "4609            1  \n",
       "9958            1  \n",
       "16              1  \n",
       "3983            0  \n",
       "5408            0  \n",
       "5218            1  \n",
       "1494            1  \n",
       "8853            1  "
      ]
     },
     "execution_count": 27,
     "metadata": {},
     "output_type": "execute_result"
    }
   ],
   "source": [
    "features_train.head(10)"
   ]
  },
  {
   "cell_type": "markdown",
   "metadata": {},
   "source": [
    "**Выводы**: исходная таблица кодирована прямой кодировкой с избавлением от дамми-ловушки, разбита на три выборки (тренировочную, валидационную, тестовую), выжные для нас признаки стандартизированы для каждой выборки. Теперь можно приступать к обучению моделей."
   ]
  },
  {
   "cell_type": "markdown",
   "metadata": {
    "cellId": "fgx0jfjxz17s8fa19g7rca"
   },
   "source": [
    "### Рассмотрим три модели из курса: \n",
    "- \"Случайный лес\" - RandomForestClassifier;\n",
    "- Дерево решений - DecisionTreeClassifier;\n",
    "- Логистическая регрессия - LogisticRegression."
   ]
  },
  {
   "cell_type": "markdown",
   "metadata": {
    "cellId": "p07xclgm6g6heu025bgy"
   },
   "source": [
    "### Модель \"случайный лес\""
   ]
  },
  {
   "cell_type": "markdown",
   "metadata": {},
   "source": [
    "Вначале проведем обучение моделей без дополнительной балансироваки целевого признака и без дополнительных гиперпараметров."
   ]
  },
  {
   "cell_type": "code",
   "execution_count": 28,
   "metadata": {
    "cellId": "kldey8x0thbz2zd1zoasi"
   },
   "outputs": [],
   "source": [
    "model_rfc = RandomForestClassifier(random_state=RS)"
   ]
  },
  {
   "cell_type": "code",
   "execution_count": 29,
   "metadata": {
    "cellId": "poz6cvxhlzn37958bzyza"
   },
   "outputs": [
    {
     "name": "stderr",
     "output_type": "stream",
     "text": [
      "/opt/conda/lib/python3.7/site-packages/sklearn/ensemble/forest.py:245: FutureWarning: The default value of n_estimators will change from 10 in version 0.20 to 100 in 0.22.\n",
      "  \"10 in version 0.20 to 100 in 0.22.\", FutureWarning)\n"
     ]
    },
    {
     "data": {
      "text/plain": [
       "RandomForestClassifier(bootstrap=True, class_weight=None, criterion='gini',\n",
       "                       max_depth=None, max_features='auto', max_leaf_nodes=None,\n",
       "                       min_impurity_decrease=0.0, min_impurity_split=None,\n",
       "                       min_samples_leaf=1, min_samples_split=2,\n",
       "                       min_weight_fraction_leaf=0.0, n_estimators=10,\n",
       "                       n_jobs=None, oob_score=False, random_state=12345,\n",
       "                       verbose=0, warm_start=False)"
      ]
     },
     "execution_count": 29,
     "metadata": {},
     "output_type": "execute_result"
    }
   ],
   "source": [
    "model_rfc.fit(features_train, target_train)"
   ]
  },
  {
   "cell_type": "markdown",
   "metadata": {},
   "source": [
    "Выведем значение соотношения полноты и точности прогноза модели (F1-score) для модели с гиперпараметрами *по умолчанию*"
   ]
  },
  {
   "cell_type": "code",
   "execution_count": 30,
   "metadata": {
    "cellId": "28t9id6wz12zkvxzrft53d"
   },
   "outputs": [],
   "source": [
    "predicted_valid = model_rfc.predict(features_valid)\n",
    "f1_rfc_default = f1_score(target_valid, predicted_valid)"
   ]
  },
  {
   "cell_type": "code",
   "execution_count": 31,
   "metadata": {
    "cellId": "eyd6gvqccib32vlylz4nsv"
   },
   "outputs": [
    {
     "name": "stdout",
     "output_type": "stream",
     "text": [
      "F1-score \"случайного леса\" без подбора гиперпараметров: 0.5333333333333333\n"
     ]
    }
   ],
   "source": [
    "print('F1-score \"случайного леса\" без подбора гиперпараметров:', f1_rfc_default)"
   ]
  },
  {
   "cell_type": "markdown",
   "metadata": {},
   "source": [
    "**Промежуточные выводы**: значение соотношения неплохое (исходя из условий задачи), но попробуем его увеличить до необходимого значения с помощью подбора гиперпараметров."
   ]
  },
  {
   "cell_type": "markdown",
   "metadata": {},
   "source": [
    "#### Подберем гиперпараметры для нашей модели."
   ]
  },
  {
   "cell_type": "code",
   "execution_count": 32,
   "metadata": {
    "cellId": "syc82ep1yyo9pxhcl1tb6"
   },
   "outputs": [],
   "source": [
    "# Создадим словарь гиперпараметров для использования его в \"сеточном переборе\"\n",
    "parameters_rfc = {'n_estimators': range (10, 200, 10), 'max_depth': range (1, 13, 2)}"
   ]
  },
  {
   "cell_type": "code",
   "execution_count": 33,
   "metadata": {
    "cellId": "k1xup7774m9s4lhegzz3x"
   },
   "outputs": [],
   "source": [
    "grid_rfc = GridSearchCV(model_rfc, parameters_rfc, cv=5, n_jobs=-1)"
   ]
  },
  {
   "cell_type": "code",
   "execution_count": 34,
   "metadata": {
    "cellId": "fjr9hi33bv6ng7uzeqsdgr"
   },
   "outputs": [
    {
     "data": {
      "text/plain": [
       "GridSearchCV(cv=5, error_score='raise-deprecating',\n",
       "             estimator=RandomForestClassifier(bootstrap=True, class_weight=None,\n",
       "                                              criterion='gini', max_depth=None,\n",
       "                                              max_features='auto',\n",
       "                                              max_leaf_nodes=None,\n",
       "                                              min_impurity_decrease=0.0,\n",
       "                                              min_impurity_split=None,\n",
       "                                              min_samples_leaf=1,\n",
       "                                              min_samples_split=2,\n",
       "                                              min_weight_fraction_leaf=0.0,\n",
       "                                              n_estimators=10, n_jobs=None,\n",
       "                                              oob_score=False,\n",
       "                                              random_state=12345, verbose=0,\n",
       "                                              warm_start=False),\n",
       "             iid='warn', n_jobs=-1,\n",
       "             param_grid={'max_depth': range(1, 13, 2),\n",
       "                         'n_estimators': range(10, 200, 10)},\n",
       "             pre_dispatch='2*n_jobs', refit=True, return_train_score=False,\n",
       "             scoring=None, verbose=0)"
      ]
     },
     "execution_count": 34,
     "metadata": {},
     "output_type": "execute_result"
    }
   ],
   "source": [
    "grid_rfc.fit(features_train, target_train)"
   ]
  },
  {
   "cell_type": "code",
   "execution_count": 35,
   "metadata": {
    "cellId": "s5dqiztugq96n7jxmd2a8k"
   },
   "outputs": [
    {
     "name": "stdout",
     "output_type": "stream",
     "text": [
      "Лучшие гиперпараметры для модели \"случаного леса\": {'max_depth': 11, 'n_estimators': 160}\n"
     ]
    }
   ],
   "source": [
    "print('Лучшие гиперпараметры для модели \"случаного леса\":', grid_rfc.best_params_)"
   ]
  },
  {
   "cell_type": "markdown",
   "metadata": {},
   "source": [
    "Для тестирования запишем лучшие гиперпараметры для модели \"случаного леса\" в этой ячейке: {'max_depth': 11, 'n_estimators': 40}"
   ]
  },
  {
   "cell_type": "markdown",
   "metadata": {},
   "source": [
    "Применим полученные гиперпараметры в нашей модели"
   ]
  },
  {
   "cell_type": "code",
   "execution_count": 36,
   "metadata": {
    "cellId": "rbenl3zdfy5o9lcrmmky8"
   },
   "outputs": [
    {
     "name": "stdout",
     "output_type": "stream",
     "text": [
      "773 ms ± 10.9 ms per loop (mean ± std. dev. of 7 runs, 1 loop each)\n"
     ]
    }
   ],
   "source": [
    "%%timeit\n",
    "model_rfc = RandomForestClassifier(random_state=RS, \n",
    "                                   n_estimators=grid_rfc.best_params_['n_estimators'],\n",
    "                                   max_depth=grid_rfc.best_params_['max_depth'], n_jobs=-1)\n",
    "model_rfc.fit(features_train, target_train) # обучим модель"
   ]
  },
  {
   "cell_type": "code",
   "execution_count": 37,
   "metadata": {
    "cellId": "fzdxp4nq80450ocv20eey"
   },
   "outputs": [],
   "source": [
    "predicted_valid = model_rfc.predict(features_valid) # сделаем предсказание на валиадционных данных\n",
    "f1_rfc_hyper = f1_score(target_valid, predicted_valid)"
   ]
  },
  {
   "cell_type": "code",
   "execution_count": 38,
   "metadata": {
    "cellId": "7q6cskf8jtcsan5rkgkg5o"
   },
   "outputs": [
    {
     "name": "stdout",
     "output_type": "stream",
     "text": [
      "F1-score \"случайного леса\" с лучшими гиперпараметрами: 0.5333333333333333\n"
     ]
    }
   ],
   "source": [
    "print('F1-score \"случайного леса\" с лучшими гиперпараметрами:', f1_rfc_hyper)"
   ]
  },
  {
   "cell_type": "markdown",
   "metadata": {},
   "source": [
    "**Промежуточные выводы**: видно, что качество модели не улучшилось. Значит, дело в балансе признаков."
   ]
  },
  {
   "cell_type": "markdown",
   "metadata": {
    "cellId": "w7efdoq6zgin5p1n77dpj"
   },
   "source": [
    "### Проверим другую модель - дерево решений"
   ]
  },
  {
   "cell_type": "code",
   "execution_count": 39,
   "metadata": {
    "cellId": "zrmbb5l5etnvz3ns8mr4o"
   },
   "outputs": [],
   "source": [
    "model_tree = DecisionTreeClassifier(random_state=RS)"
   ]
  },
  {
   "cell_type": "code",
   "execution_count": 40,
   "metadata": {
    "cellId": "j59mriz9tzesdkh9dc9z2j"
   },
   "outputs": [
    {
     "data": {
      "text/plain": [
       "DecisionTreeClassifier(class_weight=None, criterion='gini', max_depth=None,\n",
       "                       max_features=None, max_leaf_nodes=None,\n",
       "                       min_impurity_decrease=0.0, min_impurity_split=None,\n",
       "                       min_samples_leaf=1, min_samples_split=2,\n",
       "                       min_weight_fraction_leaf=0.0, presort=False,\n",
       "                       random_state=12345, splitter='best')"
      ]
     },
     "execution_count": 40,
     "metadata": {},
     "output_type": "execute_result"
    }
   ],
   "source": [
    "model_tree.fit(features_train, target_train)"
   ]
  },
  {
   "cell_type": "markdown",
   "metadata": {},
   "source": [
    "Выведем значение соотношения полноты и точности прогноза модели (F1-score) для модели с гиперпараметрами *по умолчанию*"
   ]
  },
  {
   "cell_type": "code",
   "execution_count": 41,
   "metadata": {
    "cellId": "s2zvshuh4roagppx7pjoeh"
   },
   "outputs": [],
   "source": [
    "predicted_tree_valid = model_tree.predict(features_valid)\n",
    "f1_tree_default = f1_score(target_valid, predicted_tree_valid)"
   ]
  },
  {
   "cell_type": "code",
   "execution_count": 42,
   "metadata": {
    "cellId": "9fba1a09u6g7wzms5uk0sx"
   },
   "outputs": [
    {
     "name": "stdout",
     "output_type": "stream",
     "text": [
      "F1-score дерева решений без подбора гиперпараметров: 0.4779080252479711\n"
     ]
    }
   ],
   "source": [
    "print('F1-score дерева решений без подбора гиперпараметров:', f1_tree_default)"
   ]
  },
  {
   "cell_type": "markdown",
   "metadata": {},
   "source": [
    "**Промежуточные выводы**: значение соотношения ниже модели \"случайного леса\", попробуем его увеличить до необходимого значения с помощью подбора гиперпараметров."
   ]
  },
  {
   "cell_type": "markdown",
   "metadata": {
    "cellId": "diwl304w9sk14g9ak0jaund"
   },
   "source": [
    "### Подберем теперь гиперпараметры для модели дерева решений"
   ]
  },
  {
   "cell_type": "code",
   "execution_count": 43,
   "metadata": {
    "cellId": "tem6lk9egni3f8arkb07pw"
   },
   "outputs": [],
   "source": [
    "parameters_tree = {'max_depth': range (1, 100, 2)} # вновь создадим словарь параметров"
   ]
  },
  {
   "cell_type": "code",
   "execution_count": 44,
   "metadata": {
    "cellId": "1i2ahg3soakh15txi8tjjt"
   },
   "outputs": [],
   "source": [
    "grid_tree = GridSearchCV(model_tree, parameters_tree, cv=5,  n_jobs=-1)"
   ]
  },
  {
   "cell_type": "code",
   "execution_count": 45,
   "metadata": {
    "cellId": "apcs6qntwbmuhk54aq2j1"
   },
   "outputs": [
    {
     "data": {
      "text/plain": [
       "GridSearchCV(cv=5, error_score='raise-deprecating',\n",
       "             estimator=DecisionTreeClassifier(class_weight=None,\n",
       "                                              criterion='gini', max_depth=None,\n",
       "                                              max_features=None,\n",
       "                                              max_leaf_nodes=None,\n",
       "                                              min_impurity_decrease=0.0,\n",
       "                                              min_impurity_split=None,\n",
       "                                              min_samples_leaf=1,\n",
       "                                              min_samples_split=2,\n",
       "                                              min_weight_fraction_leaf=0.0,\n",
       "                                              presort=False, random_state=12345,\n",
       "                                              splitter='best'),\n",
       "             iid='warn', n_jobs=-1, param_grid={'max_depth': range(1, 100, 2)},\n",
       "             pre_dispatch='2*n_jobs', refit=True, return_train_score=False,\n",
       "             scoring=None, verbose=0)"
      ]
     },
     "execution_count": 45,
     "metadata": {},
     "output_type": "execute_result"
    }
   ],
   "source": [
    "grid_tree.fit(features_train, target_train)"
   ]
  },
  {
   "cell_type": "code",
   "execution_count": 46,
   "metadata": {
    "cellId": "fal2423er9vnd27biev9n"
   },
   "outputs": [
    {
     "name": "stdout",
     "output_type": "stream",
     "text": [
      "Лучшие гиперпараметры для модели дерева решений {'max_depth': 5}\n"
     ]
    }
   ],
   "source": [
    "print('Лучшие гиперпараметры для модели дерева решений', grid_tree.best_params_)"
   ]
  },
  {
   "cell_type": "markdown",
   "metadata": {},
   "source": [
    "Оставим лучшие гиперпараметры для модели дерева решений для тестирования: {'max_depth': 5}"
   ]
  },
  {
   "cell_type": "markdown",
   "metadata": {
    "cellId": "zyrpxiu1i48wa61s0409l"
   },
   "source": [
    "Используем найденные гиперпараметры в нашей модели."
   ]
  },
  {
   "cell_type": "code",
   "execution_count": 47,
   "metadata": {
    "cellId": "akczpiapyjtdyhzay9cnyo"
   },
   "outputs": [],
   "source": [
    "model_tree = DecisionTreeClassifier(random_state=RS,\n",
    "                                    max_depth=grid_tree.best_params_['max_depth'])"
   ]
  },
  {
   "cell_type": "code",
   "execution_count": 48,
   "metadata": {
    "cellId": "ab09iqs8ynevdgy3f37u7h"
   },
   "outputs": [
    {
     "data": {
      "text/plain": [
       "DecisionTreeClassifier(class_weight=None, criterion='gini', max_depth=5,\n",
       "                       max_features=None, max_leaf_nodes=None,\n",
       "                       min_impurity_decrease=0.0, min_impurity_split=None,\n",
       "                       min_samples_leaf=1, min_samples_split=2,\n",
       "                       min_weight_fraction_leaf=0.0, presort=False,\n",
       "                       random_state=12345, splitter='best')"
      ]
     },
     "execution_count": 48,
     "metadata": {},
     "output_type": "execute_result"
    }
   ],
   "source": [
    "model_tree.fit(features_train, target_train)"
   ]
  },
  {
   "cell_type": "code",
   "execution_count": 49,
   "metadata": {
    "cellId": "zwcv6r16jzbz4tihd5p9h"
   },
   "outputs": [],
   "source": [
    "predicted_tree_valid = model_tree.predict(features_valid)\n",
    "f1_tree_hyper = f1_score(target_valid, predicted_tree_valid)"
   ]
  },
  {
   "cell_type": "code",
   "execution_count": 50,
   "metadata": {
    "cellId": "zzeo2ucp0oc056julav7pb8"
   },
   "outputs": [
    {
     "name": "stdout",
     "output_type": "stream",
     "text": [
      "F1-score дерева решений с лучшими гиперпараметрами: 0.5531914893617023\n"
     ]
    }
   ],
   "source": [
    "print('F1-score дерева решений с лучшими гиперпараметрами:', f1_score(target_valid, predicted_tree_valid))"
   ]
  },
  {
   "cell_type": "markdown",
   "metadata": {},
   "source": [
    "**Промежуточные выводы**: значение соотношения стало значительно лучше и приблизилось к значению модели \"случайного леса\"."
   ]
  },
  {
   "cell_type": "markdown",
   "metadata": {
    "cellId": "12ssugjngdla5avtl38npt"
   },
   "source": [
    "### Проверим модель логистической регрессии"
   ]
  },
  {
   "cell_type": "code",
   "execution_count": 51,
   "metadata": {
    "cellId": "jo4jdfuparkddu57dygfgi"
   },
   "outputs": [],
   "source": [
    "model_log = LogisticRegression(random_state=RS, solver='liblinear')"
   ]
  },
  {
   "cell_type": "code",
   "execution_count": 52,
   "metadata": {
    "cellId": "d0ccj9d4s8w3s6bfioebin"
   },
   "outputs": [
    {
     "data": {
      "text/plain": [
       "LogisticRegression(C=1.0, class_weight=None, dual=False, fit_intercept=True,\n",
       "                   intercept_scaling=1, l1_ratio=None, max_iter=100,\n",
       "                   multi_class='warn', n_jobs=None, penalty='l2',\n",
       "                   random_state=12345, solver='liblinear', tol=0.0001,\n",
       "                   verbose=0, warm_start=False)"
      ]
     },
     "execution_count": 52,
     "metadata": {},
     "output_type": "execute_result"
    }
   ],
   "source": [
    "model_log.fit(features_train, target_train)"
   ]
  },
  {
   "cell_type": "code",
   "execution_count": 53,
   "metadata": {
    "cellId": "vxg89jgtsijt3mxia89irf"
   },
   "outputs": [],
   "source": [
    "predicted_log = model_log.predict(features_valid)\n",
    "f1_log = f1_score(target_valid, predicted_log)"
   ]
  },
  {
   "cell_type": "code",
   "execution_count": 54,
   "metadata": {
    "cellId": "ge10vbte7whsb4xapes1te"
   },
   "outputs": [
    {
     "name": "stdout",
     "output_type": "stream",
     "text": [
      "F1-score модели линейной регрессии: 0.28449502133712656\n"
     ]
    }
   ],
   "source": [
    "print('F1-score модели линейной регрессии:', f1_log)"
   ]
  },
  {
   "cell_type": "markdown",
   "metadata": {},
   "source": [
    "**Промежуточные выводы**: значение соотношения весьма отстает от \"деревянных моделей\" - здесь точно нужен баланс признаков."
   ]
  },
  {
   "cell_type": "code",
   "execution_count": 55,
   "metadata": {},
   "outputs": [
    {
     "data": {
      "text/plain": [
       "'Таблица сравнения значений F1-score разных моделей на несбалансированных данных'"
      ]
     },
     "metadata": {},
     "output_type": "display_data"
    },
    {
     "data": {
      "text/html": [
       "<div>\n",
       "<style scoped>\n",
       "    .dataframe tbody tr th:only-of-type {\n",
       "        vertical-align: middle;\n",
       "    }\n",
       "\n",
       "    .dataframe tbody tr th {\n",
       "        vertical-align: top;\n",
       "    }\n",
       "\n",
       "    .dataframe thead th {\n",
       "        text-align: right;\n",
       "    }\n",
       "</style>\n",
       "<table border=\"1\" class=\"dataframe\">\n",
       "  <thead>\n",
       "    <tr style=\"text-align: right;\">\n",
       "      <th></th>\n",
       "      <th>Вариация обучающей выборки</th>\n",
       "      <th>F1-score</th>\n",
       "    </tr>\n",
       "  </thead>\n",
       "  <tbody>\n",
       "    <tr>\n",
       "      <td>0</td>\n",
       "      <td>Дерево решений с гиперпараметрами</td>\n",
       "      <td>0.553191</td>\n",
       "    </tr>\n",
       "    <tr>\n",
       "      <td>1</td>\n",
       "      <td>Случайное дерево без гиперпараметров</td>\n",
       "      <td>0.533333</td>\n",
       "    </tr>\n",
       "    <tr>\n",
       "      <td>2</td>\n",
       "      <td>Случайное дерево с гиперпараметрами</td>\n",
       "      <td>0.533333</td>\n",
       "    </tr>\n",
       "    <tr>\n",
       "      <td>3</td>\n",
       "      <td>Дерево решений без гиперпараметров</td>\n",
       "      <td>0.477908</td>\n",
       "    </tr>\n",
       "    <tr>\n",
       "      <td>4</td>\n",
       "      <td>Логистическая регрессия</td>\n",
       "      <td>0.284495</td>\n",
       "    </tr>\n",
       "  </tbody>\n",
       "</table>\n",
       "</div>"
      ],
      "text/plain": [
       "             Вариация обучающей выборки  F1-score\n",
       "0     Дерево решений с гиперпараметрами  0.553191\n",
       "1  Случайное дерево без гиперпараметров  0.533333\n",
       "2   Случайное дерево с гиперпараметрами  0.533333\n",
       "3    Дерево решений без гиперпараметров  0.477908\n",
       "4               Логистическая регрессия  0.284495"
      ]
     },
     "metadata": {},
     "output_type": "display_data"
    }
   ],
   "source": [
    "# создадим таблицу значений F1-score для каждой обученной модели\n",
    "results_default = pd.DataFrame({'Вариация обучающей выборки': ['Случайное дерево без гиперпараметров', \n",
    "                                                               'Случайное дерево с гиперпараметрами', \n",
    "                                                               'Дерево решений без гиперпараметров', \n",
    "                                                               'Дерево решений с гиперпараметрами',\n",
    "                                                               'Логистическая регрессия'\n",
    "                                                              ],\n",
    "                                'F1-score': [f1_rfc_default, f1_rfc_hyper, f1_tree_default, f1_tree_hyper, f1_log]}).sort_values(\n",
    "                                       by='F1-score', ascending=False).reset_index(drop=True)\n",
    "display('Таблица сравнения значений F1-score разных моделей на несбалансированных данных', results_default)"
   ]
  },
  {
   "cell_type": "markdown",
   "metadata": {},
   "source": [
    "**Выводы**: как видно из финальной таблицы, лучшей моделью, обученой на несбалансированной выборке, оказалась модель дерева решений с подобранными гиперпарамтрами, от значений F1-score которой незначительно отстают модели \"случайного леса. Модель логистической регрессии обучена плохо."
   ]
  },
  {
   "cell_type": "markdown",
   "metadata": {
    "cellId": "cru5g6c0je75er6d6wwtai"
   },
   "source": [
    "## Борьба с дисбалансом"
   ]
  },
  {
   "cell_type": "markdown",
   "metadata": {
    "cellId": "16jnpjfgjji85qre902ufj"
   },
   "source": [
    "Применим различные методы работы с дисбалансом классов."
   ]
  },
  {
   "cell_type": "markdown",
   "metadata": {
    "cellId": "vx933n6lud0emggvbf8of8"
   },
   "source": [
    "## а) Взвешивание классов."
   ]
  },
  {
   "cell_type": "markdown",
   "metadata": {
    "cellId": "s7fcl4x19mj4usk74xc03"
   },
   "source": [
    "### Модель \"случайного леса\" со взвешиванием"
   ]
  },
  {
   "cell_type": "code",
   "execution_count": 56,
   "metadata": {
    "cellId": "sq6e3e18hgqvv07xed5vfd"
   },
   "outputs": [],
   "source": [
    "# создадим отдельную модель с новыми условиями значений весов\n",
    "model_rfc_balanced = RandomForestClassifier(random_state=RS, \n",
    "                                            n_estimators=grid_rfc.best_params_['n_estimators'],\n",
    "                                            max_depth=grid_rfc.best_params_['max_depth'],\n",
    "                                            class_weight='balanced')"
   ]
  },
  {
   "cell_type": "code",
   "execution_count": 57,
   "metadata": {
    "cellId": "z7ah865olrwgxfqw913al"
   },
   "outputs": [
    {
     "data": {
      "text/plain": [
       "RandomForestClassifier(bootstrap=True, class_weight='balanced',\n",
       "                       criterion='gini', max_depth=11, max_features='auto',\n",
       "                       max_leaf_nodes=None, min_impurity_decrease=0.0,\n",
       "                       min_impurity_split=None, min_samples_leaf=1,\n",
       "                       min_samples_split=2, min_weight_fraction_leaf=0.0,\n",
       "                       n_estimators=160, n_jobs=None, oob_score=False,\n",
       "                       random_state=12345, verbose=0, warm_start=False)"
      ]
     },
     "execution_count": 57,
     "metadata": {},
     "output_type": "execute_result"
    }
   ],
   "source": [
    "model_rfc_balanced.fit(features_train, target_train)"
   ]
  },
  {
   "cell_type": "code",
   "execution_count": 58,
   "metadata": {
    "cellId": "4nobdouaypjgxxi73jichq"
   },
   "outputs": [],
   "source": [
    "predicted_rfc_valid = model_rfc_balanced.predict(features_valid)"
   ]
  },
  {
   "cell_type": "code",
   "execution_count": 59,
   "metadata": {
    "cellId": "0vmp97ab86ymez340ajpjz5"
   },
   "outputs": [
    {
     "name": "stdout",
     "output_type": "stream",
     "text": [
      "F1-score \"случайного леса\" со взвешенной обучающей выборкой: 0.6195761856710394\n"
     ]
    }
   ],
   "source": [
    "print('F1-score \"случайного леса\" со взвешенной обучающей выборкой:', f1_score(target_valid, predicted_rfc_valid))"
   ]
  },
  {
   "cell_type": "markdown",
   "metadata": {},
   "source": [
    "**Промежуточные выводы**: значение F1 гораздо лучше и выше необходимого."
   ]
  },
  {
   "cell_type": "markdown",
   "metadata": {
    "cellId": "9lha007sfutbe5c74n104t"
   },
   "source": [
    "### Модель дерева решений со взвешиванием"
   ]
  },
  {
   "cell_type": "code",
   "execution_count": 60,
   "metadata": {
    "cellId": "dkar6858vqv0p6td7kxb"
   },
   "outputs": [],
   "source": [
    "# создадим отдельную модель и для дерева решений с новыми условиями значений весов\n",
    "model_tree_balanced = DecisionTreeClassifier(random_state=RS,\n",
    "                                             max_depth=grid_tree.best_params_['max_depth'],\n",
    "                                             class_weight='balanced')"
   ]
  },
  {
   "cell_type": "code",
   "execution_count": 61,
   "metadata": {
    "cellId": "2nxykx7ujnxf2zqzytdmjc"
   },
   "outputs": [
    {
     "data": {
      "text/plain": [
       "DecisionTreeClassifier(class_weight='balanced', criterion='gini', max_depth=5,\n",
       "                       max_features=None, max_leaf_nodes=None,\n",
       "                       min_impurity_decrease=0.0, min_impurity_split=None,\n",
       "                       min_samples_leaf=1, min_samples_split=2,\n",
       "                       min_weight_fraction_leaf=0.0, presort=False,\n",
       "                       random_state=12345, splitter='best')"
      ]
     },
     "execution_count": 61,
     "metadata": {},
     "output_type": "execute_result"
    }
   ],
   "source": [
    "model_tree_balanced.fit(features_train, target_train)"
   ]
  },
  {
   "cell_type": "code",
   "execution_count": 62,
   "metadata": {
    "cellId": "sr519zz0l10hgrjn6j9wzu"
   },
   "outputs": [],
   "source": [
    "predicted_tree_valid = model_tree_balanced.predict(features_valid)"
   ]
  },
  {
   "cell_type": "code",
   "execution_count": 63,
   "metadata": {
    "cellId": "fllibdzhwwa8yqcd93i7n4"
   },
   "outputs": [
    {
     "name": "stdout",
     "output_type": "stream",
     "text": [
      "F1-score модели дерева решений со взвешенной обучающей выборкой: 0.5818908122503329\n"
     ]
    }
   ],
   "source": [
    "print('F1-score модели дерева решений со взвешенной обучающей выборкой:', f1_score(target_valid, predicted_tree_valid))"
   ]
  },
  {
   "cell_type": "markdown",
   "metadata": {},
   "source": [
    "**Промежуточные выводы**: значение F1 гораздо лучше и приблизилось к необходимому по задаче, но уступает модели \"случайного леса\"."
   ]
  },
  {
   "cell_type": "markdown",
   "metadata": {
    "cellId": "v28ub3r2i2oxzq7qge6u9"
   },
   "source": [
    "### Модель логистической регрессии со взвешиванием"
   ]
  },
  {
   "cell_type": "code",
   "execution_count": 64,
   "metadata": {
    "cellId": "76echmuqrnc70g73af5kzj"
   },
   "outputs": [],
   "source": [
    "model_log_balanced = LogisticRegression(random_state=RS, solver='liblinear', class_weight='balanced')"
   ]
  },
  {
   "cell_type": "code",
   "execution_count": 65,
   "metadata": {
    "cellId": "18ac3vc3fs7hjcqdwag52"
   },
   "outputs": [
    {
     "data": {
      "text/plain": [
       "LogisticRegression(C=1.0, class_weight='balanced', dual=False,\n",
       "                   fit_intercept=True, intercept_scaling=1, l1_ratio=None,\n",
       "                   max_iter=100, multi_class='warn', n_jobs=None, penalty='l2',\n",
       "                   random_state=12345, solver='liblinear', tol=0.0001,\n",
       "                   verbose=0, warm_start=False)"
      ]
     },
     "execution_count": 65,
     "metadata": {},
     "output_type": "execute_result"
    }
   ],
   "source": [
    "model_log_balanced.fit(features_train, target_train)"
   ]
  },
  {
   "cell_type": "code",
   "execution_count": 66,
   "metadata": {
    "cellId": "etu0zd53jpvv1dagkvoqs"
   },
   "outputs": [],
   "source": [
    "predicted_log = model_log_balanced.predict(features_valid)"
   ]
  },
  {
   "cell_type": "code",
   "execution_count": 67,
   "metadata": {
    "cellId": "097nq3kai3o5hixaqzal1rv"
   },
   "outputs": [
    {
     "name": "stdout",
     "output_type": "stream",
     "text": [
      "F1-score модели линейной регрессии со взвешенной обучающей выборкой: 0.507343124165554\n"
     ]
    }
   ],
   "source": [
    "print('F1-score модели линейной регрессии со взвешенной обучающей выборкой:', f1_score(target_valid, predicted_log))"
   ]
  },
  {
   "cell_type": "markdown",
   "metadata": {},
   "source": [
    "**Промежуточные выводы**: значение F1 достаточно сильно увеличилось у модели логистической регресси - видимо, взвешивание признаков существенно повышает точность предсказания."
   ]
  },
  {
   "cell_type": "markdown",
   "metadata": {
    "cellId": "b63oiebpv8kafq2wf05"
   },
   "source": [
    "## б) Укрупнение выборки."
   ]
  },
  {
   "cell_type": "markdown",
   "metadata": {},
   "source": [
    "Для укрупнения выборки воспользуемся подходом upsampling."
   ]
  },
  {
   "cell_type": "code",
   "execution_count": 68,
   "metadata": {
    "cellId": "j8v0b740iq1t1dvf25ow"
   },
   "outputs": [],
   "source": [
    "# функция для отсеивания и укрупнения каждого признака на произвольное значение repeat\n",
    "def upsample(features, target, repeat):\n",
    "    features_zeros = features[target == 0]\n",
    "    features_ones = features[target == 1]\n",
    "    target_zeros = target[target == 0]\n",
    "    target_ones = target[target == 1]\n",
    "\n",
    "    features_upsampled = pd.concat([features_zeros] + [features_ones] * repeat)\n",
    "    target_upsampled = pd.concat([target_zeros] + [target_ones] * repeat)\n",
    "    \n",
    "    features_upsampled, target_upsampled = shuffle(\n",
    "        features_upsampled, target_upsampled, random_state=RS)\n",
    "    \n",
    "    return features_upsampled, target_upsampled"
   ]
  },
  {
   "cell_type": "markdown",
   "metadata": {},
   "source": [
    "Применим функцию укрупнения признаков к нашей тренировочной (обучающей) выборке и создадим новые увеличенные по размеру признаки"
   ]
  },
  {
   "cell_type": "code",
   "execution_count": 69,
   "metadata": {
    "cellId": "d16q96y4wmaktx2t00w9o"
   },
   "outputs": [],
   "source": [
    "features_upsampled, target_upsampled = upsample(features_train, target_train, 10)"
   ]
  },
  {
   "cell_type": "markdown",
   "metadata": {},
   "source": [
    "Полученные укрупненные признаки будем применять к различным моделям обучения."
   ]
  },
  {
   "cell_type": "markdown",
   "metadata": {
    "cellId": "f1kur5libnstksw8o0b1"
   },
   "source": [
    "### Проверка на случайных деревьях"
   ]
  },
  {
   "cell_type": "code",
   "execution_count": 70,
   "metadata": {
    "cellId": "yraiaey5pd8sxic4st8yh"
   },
   "outputs": [
    {
     "name": "stdout",
     "output_type": "stream",
     "text": [
      "F1-score \"случайного леса\" с увеличением обучающей выборки: 0.5819444444444445\n"
     ]
    }
   ],
   "source": [
    "model_rfc_up = RandomForestClassifier(random_state=RS, \n",
    "                                   n_estimators=grid_rfc.best_params_['n_estimators'],\n",
    "                                   max_depth=grid_rfc.best_params_['max_depth'])\n",
    "model_rfc_up.fit(features_upsampled, target_upsampled)\n",
    "predicted_rfc_valid = model_rfc_up.predict(features_valid)\n",
    "print('F1-score \"случайного леса\" с увеличением обучающей выборки:', f1_score(target_valid, predicted_rfc_valid))"
   ]
  },
  {
   "cell_type": "markdown",
   "metadata": {},
   "source": [
    "**Промежуточные выводы**: значение F1 не увеличилось по сравнению с подходом взвешивания классов."
   ]
  },
  {
   "cell_type": "markdown",
   "metadata": {
    "cellId": "gh0yj8zu9kj7xjdxy0ewc5"
   },
   "source": [
    "### Проверка дерева решений"
   ]
  },
  {
   "cell_type": "code",
   "execution_count": 71,
   "metadata": {
    "cellId": "isrn24ld6akgue9a6q3rgw"
   },
   "outputs": [
    {
     "name": "stdout",
     "output_type": "stream",
     "text": [
      "F1-score дерева решений с увеличением обучающей выборки: 0.5205479452054794\n"
     ]
    }
   ],
   "source": [
    "model_tree_up = DecisionTreeClassifier(random_state=RS,\n",
    "                                    max_depth=grid_tree.best_params_['max_depth'])\n",
    "model_tree_up.fit(features_upsampled, target_upsampled)\n",
    "predicted_tree_valid = model_tree_up.predict(features_valid)\n",
    "print('F1-score дерева решений с увеличением обучающей выборки:', f1_score(target_valid, predicted_tree_valid))"
   ]
  },
  {
   "cell_type": "markdown",
   "metadata": {},
   "source": [
    "**Промежуточные выводы**: значение F1 уменьшилось в сравнении со взвешенными признаками."
   ]
  },
  {
   "cell_type": "markdown",
   "metadata": {
    "cellId": "j5b24uw7xi6pbk2y9atd7"
   },
   "source": [
    "### Проверка логистической регрессии"
   ]
  },
  {
   "cell_type": "code",
   "execution_count": 72,
   "metadata": {
    "cellId": "320alg51pmrsvp7zmjwr3"
   },
   "outputs": [
    {
     "name": "stdout",
     "output_type": "stream",
     "text": [
      "F1-score модели линейной регрессии с увеличением обучающей выборки: 0.42213642213642216\n"
     ]
    }
   ],
   "source": [
    "model_log_up = LogisticRegression(random_state=RS, solver='liblinear')\n",
    "model_log_up.fit(features_upsampled, target_upsampled)\n",
    "predicted_log_valid = model_log_up.predict(features_valid)\n",
    "print('F1-score модели линейной регрессии с увеличением обучающей выборки:', f1_score(target_valid, predicted_log_valid))"
   ]
  },
  {
   "cell_type": "markdown",
   "metadata": {},
   "source": [
    "**Промежуточные выводы**: значение F1 также упало."
   ]
  },
  {
   "cell_type": "markdown",
   "metadata": {
    "cellId": "kdbamwawu4z0csaxjejb"
   },
   "source": [
    "## в) Уменьшение выборки."
   ]
  },
  {
   "cell_type": "markdown",
   "metadata": {},
   "source": [
    "Для уменьшения преобладающего признака выборки воспользуемся подходом downsampling."
   ]
  },
  {
   "cell_type": "code",
   "execution_count": 73,
   "metadata": {
    "cellId": "1iu51l3crzsmbtkihtz8e"
   },
   "outputs": [],
   "source": [
    "# функция для уменьшения избыточного признака на произвольное значение fraction\n",
    "\n",
    "def downsample(features, target, fraction):\n",
    "    features_zeros = features[target == 0]\n",
    "    features_ones = features[target == 1]\n",
    "    target_zeros = target[target == 0]\n",
    "    target_ones = target[target == 1]\n",
    "\n",
    "    features_downsampled = pd.concat(\n",
    "        [features_zeros.sample(frac=fraction, random_state=RS)] + [features_ones])\n",
    "    target_downsampled = pd.concat(\n",
    "        [target_zeros.sample(frac=fraction, random_state=RS)] + [target_ones])\n",
    "    \n",
    "    features_downsampled, target_downsampled = shuffle(\n",
    "        features_downsampled, target_downsampled, random_state=RS)\n",
    "    \n",
    "    return features_downsampled, target_downsampled"
   ]
  },
  {
   "cell_type": "code",
   "execution_count": 74,
   "metadata": {
    "cellId": "3fzu1grr0dmccnte6wiwfa"
   },
   "outputs": [],
   "source": [
    "features_downsampled, target_downsampled = downsample(features_train, target_train, 0.1)"
   ]
  },
  {
   "cell_type": "markdown",
   "metadata": {},
   "source": [
    "Полученные уменьшенные преобладающие признаки будем применять к различным моделям обучения."
   ]
  },
  {
   "cell_type": "markdown",
   "metadata": {
    "cellId": "dst86ioasr86853gkfxze7"
   },
   "source": [
    "### Проверка на случайных деревьях"
   ]
  },
  {
   "cell_type": "code",
   "execution_count": 75,
   "metadata": {
    "cellId": "wxy6071ngsmcc8prvbb48"
   },
   "outputs": [
    {
     "name": "stdout",
     "output_type": "stream",
     "text": [
      "F1-score \"случайного леса\" с уменьшением обучающей выборки: 0.48496796451453916\n"
     ]
    }
   ],
   "source": [
    "model_rfc_dwn = RandomForestClassifier(random_state=RS, \n",
    "                                   n_estimators=grid_rfc.best_params_['n_estimators'],\n",
    "                                   max_depth=grid_rfc.best_params_['max_depth'])\n",
    "model_rfc_dwn.fit(features_downsampled, target_downsampled)\n",
    "predicted_rfc_valid = model_rfc_dwn.predict(features_valid)\n",
    "print('F1-score \"случайного леса\" с уменьшением обучающей выборки:', f1_score(target_valid, predicted_rfc_valid))"
   ]
  },
  {
   "cell_type": "markdown",
   "metadata": {},
   "source": [
    "**Промежуточные выводы**: значение F1 сильно снизилось по сравнению с подходом взвешивания классов."
   ]
  },
  {
   "cell_type": "markdown",
   "metadata": {
    "cellId": "03ucsi17i3g25zmajijn6o"
   },
   "source": [
    "### Проверка на дереве решений"
   ]
  },
  {
   "cell_type": "code",
   "execution_count": 76,
   "metadata": {
    "cellId": "6htbod5nt7xr48v0beb19"
   },
   "outputs": [
    {
     "name": "stdout",
     "output_type": "stream",
     "text": [
      "F1-score дерева решений с уменьшением обучающей выборки: 0.5045045045045046\n"
     ]
    }
   ],
   "source": [
    "model_tree_dwn = DecisionTreeClassifier(random_state=RS,\n",
    "                                    max_depth=grid_tree.best_params_['max_depth'])\n",
    "model_tree_dwn.fit(features_downsampled, target_downsampled)\n",
    "predicted_tree_valid = model_tree_dwn.predict(features_valid)\n",
    "print('F1-score дерева решений с уменьшением обучающей выборки:', f1_score(target_valid, predicted_tree_valid))"
   ]
  },
  {
   "cell_type": "markdown",
   "metadata": {},
   "source": [
    "**Промежуточные выводы**: значение F1 также снизилось по сравнению с подходом взвешивания классов."
   ]
  },
  {
   "cell_type": "markdown",
   "metadata": {
    "cellId": "v275ebxmjpgp1vkwi04ewo"
   },
   "source": [
    "### Проверка логистической регрессии"
   ]
  },
  {
   "cell_type": "code",
   "execution_count": 77,
   "metadata": {
    "cellId": "9rampdtmidnl9r29vabq"
   },
   "outputs": [
    {
     "name": "stdout",
     "output_type": "stream",
     "text": [
      "F1-score модели линейной регрессии с уменьшением обучающей выборки: 0.42567858681602755\n"
     ]
    }
   ],
   "source": [
    "model_log_dwn = LogisticRegression(random_state=RS, solver='liblinear')\n",
    "model_log_dwn.fit(features_downsampled, target_downsampled)\n",
    "predicted_log_valid = model_log_dwn.predict(features_valid)\n",
    "print('F1-score модели линейной регрессии с уменьшением обучающей выборки:', f1_score(target_valid, predicted_log_valid))"
   ]
  },
  {
   "cell_type": "markdown",
   "metadata": {},
   "source": [
    "**Промежуточные выводы**: значение F1 также не увеличилось по сравнению с подходом взвешивания классов и в логистической регрессии."
   ]
  },
  {
   "cell_type": "markdown",
   "metadata": {},
   "source": [
    "**Выводы**: получены различные значения F1-score с применением различных методов борьбы с дисбалансом признаков. Лучшие результаты показывал метод взвешивания классов. Однако, проверим, какие из обученных моделей справятся лучше с тестовыми данными."
   ]
  },
  {
   "cell_type": "markdown",
   "metadata": {
    "cellId": "cbn3p3xwvpepfp7wqkckl"
   },
   "source": [
    "# Тестирование модели"
   ]
  },
  {
   "cell_type": "markdown",
   "metadata": {
    "cellId": "q5scjmuy79fnykva1h9bq"
   },
   "source": [
    "Найдем лучшую вариацию модели \"случайного леса\" на тестовой выборке"
   ]
  },
  {
   "cell_type": "markdown",
   "metadata": {},
   "source": [
    "Для более наглядного сравнения создадим таблицу всех ранее изученных моделей при работе с тестовой выборкой, определим лучшую из них для каждого вида модели и сравним их значения AUC-ROC между собой. Ну а затем изобразим их  ROC-кривые на одном графике для наглядного сравнения."
   ]
  },
  {
   "cell_type": "markdown",
   "metadata": {},
   "source": [
    "### Сравнение работы всех моделей \"случайного леса\" на тестовой выборке"
   ]
  },
  {
   "cell_type": "code",
   "execution_count": 78,
   "metadata": {
    "cellId": "gsbr78wrusqnu5enc26jwj",
    "scrolled": true
   },
   "outputs": [
    {
     "data": {
      "text/plain": [
       "'Таблица значений модели случайного леса на различных выборках'"
      ]
     },
     "metadata": {},
     "output_type": "display_data"
    },
    {
     "data": {
      "text/html": [
       "<div>\n",
       "<style scoped>\n",
       "    .dataframe tbody tr th:only-of-type {\n",
       "        vertical-align: middle;\n",
       "    }\n",
       "\n",
       "    .dataframe tbody tr th {\n",
       "        vertical-align: top;\n",
       "    }\n",
       "\n",
       "    .dataframe thead th {\n",
       "        text-align: right;\n",
       "    }\n",
       "</style>\n",
       "<table border=\"1\" class=\"dataframe\">\n",
       "  <thead>\n",
       "    <tr style=\"text-align: right;\">\n",
       "      <th></th>\n",
       "      <th>Вариация обучающей выборки</th>\n",
       "      <th>F1-score</th>\n",
       "    </tr>\n",
       "  </thead>\n",
       "  <tbody>\n",
       "    <tr>\n",
       "      <td>0</td>\n",
       "      <td>balanced</td>\n",
       "      <td>0.602778</td>\n",
       "    </tr>\n",
       "    <tr>\n",
       "      <td>1</td>\n",
       "      <td>upsampled</td>\n",
       "      <td>0.590693</td>\n",
       "    </tr>\n",
       "    <tr>\n",
       "      <td>2</td>\n",
       "      <td>default</td>\n",
       "      <td>0.549918</td>\n",
       "    </tr>\n",
       "    <tr>\n",
       "      <td>3</td>\n",
       "      <td>downsampled</td>\n",
       "      <td>0.465969</td>\n",
       "    </tr>\n",
       "  </tbody>\n",
       "</table>\n",
       "</div>"
      ],
      "text/plain": [
       "  Вариация обучающей выборки  F1-score\n",
       "0                   balanced  0.602778\n",
       "1                  upsampled  0.590693\n",
       "2                    default  0.549918\n",
       "3                downsampled  0.465969"
      ]
     },
     "metadata": {},
     "output_type": "display_data"
    },
    {
     "name": "stdout",
     "output_type": "stream",
     "text": [
      "Вывод - лучшая модель \"случайного дерева\" со значением F1-score 0.6027777777777777 обучена на выборке: balanced\n"
     ]
    }
   ],
   "source": [
    "# запишем все предсказания каждой модели, обученной выше\n",
    "predicted_rfc_test_disbalanced = model_rfc.predict(features_test)\n",
    "predicted_rfc_test_balanced = model_rfc_balanced.predict(features_test)\n",
    "predicted_rfc_test_up = model_rfc_up.predict(features_test)\n",
    "predicted_rfc_test_dwn = model_rfc_dwn.predict(features_test)\n",
    "\n",
    "# создадим таблицу значений F1-score для каждой обученной модели\n",
    "rfc_score = pd.DataFrame({'Вариация обучающей выборки': ['default', 'balanced', 'upsampled', 'downsampled'],\n",
    "                          'F1-score': [f1_score(target_test, predicted_rfc_test_disbalanced),\n",
    "                                       f1_score(target_test, predicted_rfc_test_balanced),\n",
    "                                       f1_score(target_test, predicted_rfc_test_up),\n",
    "                                       f1_score(target_test, predicted_rfc_test_dwn)]}).sort_values(\n",
    "                                       by='F1-score', ascending=False).reset_index(drop=True)\n",
    "# выделим лучший результат значения F1-score\n",
    "best_rfc_result = rfc_score['F1-score'].max()\n",
    "\n",
    "# выведем полученные результаты на экран\n",
    "display('Таблица значений модели случайного леса на различных выборках', rfc_score)\n",
    "print('Вывод - лучшая модель \"случайного дерева\" со значением F1-score {} обучена на выборке: {}'.format(\n",
    "      best_rfc_result, rfc_score['Вариация обучающей выборки'][0]))"
   ]
  },
  {
   "cell_type": "markdown",
   "metadata": {},
   "source": [
    "**Промежуточные выводы**: модель \"случайного леса\", обученная на взвешенной выборке `balanced` и с подобранными гиперпараметрами выдает необходимую по условиям задачи предсказательную силу - модель достаточно обучена."
   ]
  },
  {
   "cell_type": "code",
   "execution_count": 79,
   "metadata": {},
   "outputs": [],
   "source": [
    "# создадим словарь соответствия значений F1-score и соответствующей модели для вычленения лучшей обученной модели\n",
    "rfc_score_dict = {f1_score(target_test, predicted_rfc_test_disbalanced): model_rfc,\n",
    "                   f1_score(target_test, predicted_rfc_test_balanced): model_rfc_balanced,\n",
    "                   f1_score(target_test, predicted_rfc_test_up): model_rfc_up,\n",
    "                   f1_score(target_test, predicted_rfc_test_dwn): model_rfc_dwn}\n",
    "\n",
    "# сохраним лучшую обученную модель в качестве финальной в переменную\n",
    "final_rfc_model = rfc_score_dict[best_rfc_result]"
   ]
  },
  {
   "cell_type": "markdown",
   "metadata": {
    "cellId": "exqubkecs2jaufu1luwb5r"
   },
   "source": [
    "### Проверим значение AUC-ROC для лучшей модели \"случайного дерева\""
   ]
  },
  {
   "cell_type": "code",
   "execution_count": 80,
   "metadata": {
    "cellId": "c0xbcqnpdd78u2mj2x6zf"
   },
   "outputs": [
    {
     "name": "stdout",
     "output_type": "stream",
     "text": [
      "Значение AUC-ROC лучшей вариации модели \"случайного леса\" на тестовой выборке: 0.8667840168984333\n"
     ]
    }
   ],
   "source": [
    "# проверим значения AUC-ROC для лучшей модели \"случайного дерева\"\n",
    "probabilities_test = final_rfc_model.predict_proba(features_test)\n",
    "probabilities_one_rfc_test = probabilities_test[:, 1]\n",
    "auc_roc_rfc = roc_auc_score(target_test, probabilities_one_rfc_test)\n",
    "\n",
    "# выведем полученные результаты на экран\n",
    "print('Значение AUC-ROC лучшей вариации модели \"случайного леса\" на тестовой выборке:', auc_roc_rfc)"
   ]
  },
  {
   "cell_type": "markdown",
   "metadata": {},
   "source": [
    "**Промежуточные выводы**: значение AUC-ROC (соотношения истинно положительных и ложно отрицательных значений) довольно высокое - модель хорошо обучена."
   ]
  },
  {
   "cell_type": "markdown",
   "metadata": {
    "cellId": "yxur1pyfw86mzsp6e5tzw"
   },
   "source": [
    "### Проверка точности дерева решений на тестовой выборке"
   ]
  },
  {
   "cell_type": "code",
   "execution_count": 81,
   "metadata": {},
   "outputs": [
    {
     "data": {
      "text/plain": [
       "'Таблица значений модели \"дерево решений\" на различных выборках'"
      ]
     },
     "metadata": {},
     "output_type": "display_data"
    },
    {
     "data": {
      "text/html": [
       "<div>\n",
       "<style scoped>\n",
       "    .dataframe tbody tr th:only-of-type {\n",
       "        vertical-align: middle;\n",
       "    }\n",
       "\n",
       "    .dataframe tbody tr th {\n",
       "        vertical-align: top;\n",
       "    }\n",
       "\n",
       "    .dataframe thead th {\n",
       "        text-align: right;\n",
       "    }\n",
       "</style>\n",
       "<table border=\"1\" class=\"dataframe\">\n",
       "  <thead>\n",
       "    <tr style=\"text-align: right;\">\n",
       "      <th></th>\n",
       "      <th>Вариация обучающей выборки</th>\n",
       "      <th>F1-score</th>\n",
       "    </tr>\n",
       "  </thead>\n",
       "  <tbody>\n",
       "    <tr>\n",
       "      <td>0</td>\n",
       "      <td>default</td>\n",
       "      <td>0.558442</td>\n",
       "    </tr>\n",
       "    <tr>\n",
       "      <td>1</td>\n",
       "      <td>balanced</td>\n",
       "      <td>0.556940</td>\n",
       "    </tr>\n",
       "    <tr>\n",
       "      <td>2</td>\n",
       "      <td>upsampled</td>\n",
       "      <td>0.503391</td>\n",
       "    </tr>\n",
       "    <tr>\n",
       "      <td>3</td>\n",
       "      <td>downsampled</td>\n",
       "      <td>0.497101</td>\n",
       "    </tr>\n",
       "  </tbody>\n",
       "</table>\n",
       "</div>"
      ],
      "text/plain": [
       "  Вариация обучающей выборки  F1-score\n",
       "0                    default  0.558442\n",
       "1                   balanced  0.556940\n",
       "2                  upsampled  0.503391\n",
       "3                downsampled  0.497101"
      ]
     },
     "metadata": {},
     "output_type": "display_data"
    },
    {
     "name": "stdout",
     "output_type": "stream",
     "text": [
      "Лучшая модель дерева решений со значением F1-score 0.5584415584415585 обучена на выборке: default\n"
     ]
    }
   ],
   "source": [
    "# запишем все предсказания каждой модели, обученной выше\n",
    "predicted_tree_disbalanced_test = model_tree.predict(features_test)\n",
    "predicted_tree_balanced_test = model_tree_balanced.predict(features_test)\n",
    "predicted_tree_up_test = model_tree_up.predict(features_test)\n",
    "predicted_tree_dwn_test = model_tree_dwn.predict(features_test)\n",
    "\n",
    "# создадим таблицу значений F1-score для каждой обученной модели\n",
    "tree_score = pd.DataFrame({'Вариация обучающей выборки': ['default', 'balanced', 'upsampled', 'downsampled'],\n",
    "                          'F1-score': [f1_score(target_test, predicted_tree_disbalanced_test),\n",
    "                                       f1_score(target_test, predicted_tree_balanced_test),\n",
    "                                       f1_score(target_test, predicted_tree_up_test),\n",
    "                                       f1_score(target_test, predicted_tree_dwn_test)]}).sort_values(\n",
    "                                       by='F1-score', ascending=False).reset_index(drop=True)\n",
    "\n",
    "# выделим лучший результат значения F1-score\n",
    "best_tree_result = tree_score['F1-score'].max()\n",
    "\n",
    "# выведем полученные результаты на экран\n",
    "display('Таблица значений модели \"дерево решений\" на различных выборках', tree_score)\n",
    "print('Лучшая модель дерева решений со значением F1-score {} обучена на выборке: {}'.format(\n",
    "      best_tree_result, tree_score['Вариация обучающей выборки'][0]))"
   ]
  },
  {
   "cell_type": "markdown",
   "metadata": {},
   "source": [
    "**Промежуточные выводы**: модель дерева решений, обученная на несбалансированной выборке `default` с подобранными гиперпараметрами выдает недостаточную предсказательную силу по условиям задачи  - модель недостаточно обучена."
   ]
  },
  {
   "cell_type": "code",
   "execution_count": 82,
   "metadata": {},
   "outputs": [],
   "source": [
    "# создадим словарь соответствия значений F1-score и соответствующей модели для вычленения лучшей обученной модели\n",
    "tree_score_dict = {f1_score(target_test, predicted_tree_disbalanced_test): model_tree,\n",
    "                   f1_score(target_test, predicted_tree_balanced_test): model_tree_balanced,\n",
    "                   f1_score(target_test, predicted_tree_up_test): model_tree_up,\n",
    "                   f1_score(target_test, predicted_tree_dwn_test): model_tree_dwn}\n",
    "\n",
    "# сохраним лучшую обученную модель в качестве финальной в переменную\n",
    "final_tree_model = tree_score_dict[best_tree_result]"
   ]
  },
  {
   "cell_type": "markdown",
   "metadata": {
    "cellId": "trlkteb4wdcqjqj0ao9lh"
   },
   "source": [
    "### Проверим значение AUC-ROC на лучшей вариации модели \"Дерева решений\""
   ]
  },
  {
   "cell_type": "code",
   "execution_count": 83,
   "metadata": {
    "cellId": "khmbhdqx0y1s2tdj7ic9t"
   },
   "outputs": [
    {
     "name": "stdout",
     "output_type": "stream",
     "text": [
      "AUC-ROC лучшей вариации модели дерева решений на тестовой выборке 0.8386085196268263\n"
     ]
    }
   ],
   "source": [
    "# проверим значения AUC-ROC для лучшей модели дерева решений\n",
    "probabilities_test = final_tree_model.predict_proba(features_test)\n",
    "probabilities_one_tree_test = probabilities_test[:, 1]\n",
    "auc_roc_tree = roc_auc_score(target_test, probabilities_one_tree_test)\n",
    "\n",
    "# выведем полученные результаты на экран\n",
    "print('AUC-ROC лучшей вариации модели дерева решений на тестовой выборке', auc_roc_tree)"
   ]
  },
  {
   "cell_type": "markdown",
   "metadata": {},
   "source": [
    "**Промежуточные выводы**: значение AUC-ROC (соотношения истинно положительных и ложно отрицательных значений) довольно высокое, однако модель обучена хуже, чем модель \"случайного леса\"."
   ]
  },
  {
   "cell_type": "markdown",
   "metadata": {
    "cellId": "5p3zmp11eoiaw7tm7z3de"
   },
   "source": [
    "### Проверка логистической регрессии на тестовой выборке"
   ]
  },
  {
   "cell_type": "code",
   "execution_count": 84,
   "metadata": {},
   "outputs": [
    {
     "data": {
      "text/plain": [
       "'Таблица значений модели логистической регрессии на различных выборках'"
      ]
     },
     "metadata": {},
     "output_type": "display_data"
    },
    {
     "data": {
      "text/html": [
       "<div>\n",
       "<style scoped>\n",
       "    .dataframe tbody tr th:only-of-type {\n",
       "        vertical-align: middle;\n",
       "    }\n",
       "\n",
       "    .dataframe tbody tr th {\n",
       "        vertical-align: top;\n",
       "    }\n",
       "\n",
       "    .dataframe thead th {\n",
       "        text-align: right;\n",
       "    }\n",
       "</style>\n",
       "<table border=\"1\" class=\"dataframe\">\n",
       "  <thead>\n",
       "    <tr style=\"text-align: right;\">\n",
       "      <th></th>\n",
       "      <th>Вариация обучающей выборки</th>\n",
       "      <th>F1-score</th>\n",
       "    </tr>\n",
       "  </thead>\n",
       "  <tbody>\n",
       "    <tr>\n",
       "      <td>0</td>\n",
       "      <td>balanced</td>\n",
       "      <td>0.522233</td>\n",
       "    </tr>\n",
       "    <tr>\n",
       "      <td>1</td>\n",
       "      <td>downsampled</td>\n",
       "      <td>0.421053</td>\n",
       "    </tr>\n",
       "    <tr>\n",
       "      <td>2</td>\n",
       "      <td>upsampled</td>\n",
       "      <td>0.419597</td>\n",
       "    </tr>\n",
       "    <tr>\n",
       "      <td>3</td>\n",
       "      <td>default</td>\n",
       "      <td>0.309804</td>\n",
       "    </tr>\n",
       "  </tbody>\n",
       "</table>\n",
       "</div>"
      ],
      "text/plain": [
       "  Вариация обучающей выборки  F1-score\n",
       "0                   balanced  0.522233\n",
       "1                downsampled  0.421053\n",
       "2                  upsampled  0.419597\n",
       "3                    default  0.309804"
      ]
     },
     "metadata": {},
     "output_type": "display_data"
    },
    {
     "name": "stdout",
     "output_type": "stream",
     "text": [
      "Лучшая модель логистической регрессии со значением F1-score 0.5222327341532639 обучена на выборке: balanced\n"
     ]
    }
   ],
   "source": [
    "# запишем все предсказания каждой модели, обученной выше\n",
    "predicted_log_disbalanced_test = model_log.predict(features_test)\n",
    "predicted_log_balanced_test = model_log_balanced.predict(features_test)\n",
    "predicted_log_up_test = model_log_up.predict(features_test)\n",
    "predicted_log_dwn_test = model_log_dwn.predict(features_test)\n",
    "\n",
    "# создадим таблицу значений F1-score для каждой обученной модели\n",
    "log_score = pd.DataFrame({'Вариация обучающей выборки': ['default', 'balanced', 'upsampled', 'downsampled'],\n",
    "                          'F1-score': [f1_score(target_test, predicted_log_disbalanced_test),\n",
    "                                       f1_score(target_test, predicted_log_balanced_test),\n",
    "                                       f1_score(target_test, predicted_log_up_test),\n",
    "                                       f1_score(target_test, predicted_log_dwn_test)]}).sort_values(\n",
    "                                       by='F1-score', ascending=False).reset_index(drop=True)\n",
    "\n",
    "# выделим лучший результат значения F1-score\n",
    "best_log_result = log_score['F1-score'].max()\n",
    "\n",
    "# выведем полученные результаты на экран\n",
    "display('Таблица значений модели логистической регрессии на различных выборках', log_score)\n",
    "print('Лучшая модель логистической регрессии со значением F1-score {} обучена на выборке: {}'.format(\n",
    "      best_log_result, log_score['Вариация обучающей выборки'][0]))\n"
   ]
  },
  {
   "cell_type": "markdown",
   "metadata": {},
   "source": [
    "**Промежуточные выводы**: модель логистической регрессии, обученная на взвешенной выборке `balanced` показывает недостаточную предсказательную силу по условиям задачи - модель недостаточно обучена."
   ]
  },
  {
   "cell_type": "code",
   "execution_count": 85,
   "metadata": {},
   "outputs": [],
   "source": [
    "# создадим словарь соответствия значений F1-score и соответствующей модели для вычленения лучшей обученной модели\n",
    "log_score_dict = {f1_score(target_test, predicted_log_disbalanced_test): model_log,\n",
    "                   f1_score(target_test, predicted_log_balanced_test): model_log_balanced,\n",
    "                   f1_score(target_test, predicted_log_up_test): model_log_up,\n",
    "                   f1_score(target_test, predicted_log_dwn_test): model_log_dwn}\n",
    "\n",
    "# сохраним лучшую обученную модель в качестве финальной в переменную\n",
    "final_log_model = log_score_dict[best_log_result]"
   ]
  },
  {
   "cell_type": "markdown",
   "metadata": {
    "cellId": "xso6r1x62hssh71e6l2w"
   },
   "source": [
    "### Проверим значение AUC-ROC на лучшей вариации модели линейной регрессии"
   ]
  },
  {
   "cell_type": "code",
   "execution_count": 86,
   "metadata": {
    "cellId": "gwud56m0u0k34zdbvny0wt"
   },
   "outputs": [
    {
     "name": "stdout",
     "output_type": "stream",
     "text": [
      "AUC-ROC лучшей вариации модели логистической регрессии на тестовой выборке 0.7943249427917619\n"
     ]
    }
   ],
   "source": [
    "# проверим значения AUC-ROC для лучшей модели логистической регрессии\n",
    "probabilities_test = final_log_model.predict_proba(features_test)\n",
    "probabilities_one_log_test = probabilities_test[:, 1]\n",
    "auc_roc_log = roc_auc_score(target_test, probabilities_one_log_test)\n",
    "\n",
    "# выведем полученные результаты на экран\n",
    "print('AUC-ROC лучшей вариации модели логистической регрессии на тестовой выборке', auc_roc_log)"
   ]
  },
  {
   "cell_type": "markdown",
   "metadata": {},
   "source": [
    "**Промежуточные выводы**: значение AUC-ROC (соотношения истинно положительных и ложно отрицательных значений) ниже, чем у моделей \"случайного леса\" и дерева решений."
   ]
  },
  {
   "cell_type": "markdown",
   "metadata": {
    "cellId": "s2hqfyqe7scv922zs7i5n"
   },
   "source": [
    "### Создадим таблицу соотношений значений AUC-ROC различных лучших моделей на тестовой выборке"
   ]
  },
  {
   "cell_type": "code",
   "execution_count": 87,
   "metadata": {},
   "outputs": [
    {
     "data": {
      "text/plain": [
       "'Таблица значений кривой ошибок (AUC-ROC) для различных моделей'"
      ]
     },
     "metadata": {},
     "output_type": "display_data"
    },
    {
     "data": {
      "text/html": [
       "<div>\n",
       "<style scoped>\n",
       "    .dataframe tbody tr th:only-of-type {\n",
       "        vertical-align: middle;\n",
       "    }\n",
       "\n",
       "    .dataframe tbody tr th {\n",
       "        vertical-align: top;\n",
       "    }\n",
       "\n",
       "    .dataframe thead th {\n",
       "        text-align: right;\n",
       "    }\n",
       "</style>\n",
       "<table border=\"1\" class=\"dataframe\">\n",
       "  <thead>\n",
       "    <tr style=\"text-align: right;\">\n",
       "      <th></th>\n",
       "      <th>Модели</th>\n",
       "      <th>Значение AUC-ROC</th>\n",
       "    </tr>\n",
       "  </thead>\n",
       "  <tbody>\n",
       "    <tr>\n",
       "      <td>0</td>\n",
       "      <td>\"случайное дерево\"</td>\n",
       "      <td>0.866784</td>\n",
       "    </tr>\n",
       "    <tr>\n",
       "      <td>1</td>\n",
       "      <td>дерево решений</td>\n",
       "      <td>0.838609</td>\n",
       "    </tr>\n",
       "    <tr>\n",
       "      <td>2</td>\n",
       "      <td>логистическая регрессия</td>\n",
       "      <td>0.794325</td>\n",
       "    </tr>\n",
       "  </tbody>\n",
       "</table>\n",
       "</div>"
      ],
      "text/plain": [
       "                    Модели  Значение AUC-ROC\n",
       "0       \"случайное дерево\"          0.866784\n",
       "1           дерево решений          0.838609\n",
       "2  логистическая регрессия          0.794325"
      ]
     },
     "metadata": {},
     "output_type": "display_data"
    },
    {
     "name": "stdout",
     "output_type": "stream",
     "text": [
      "Лучший результат у модели \"случайное дерево\" со значением AUC-ROC: 0.8667840168984333\n"
     ]
    }
   ],
   "source": [
    "# создаем таблицу, в которую занесем значения AUC-ROC различных лучших моделей\n",
    "auc_roc_score = pd.DataFrame({'Модели': ['\"случайное дерево\"', 'дерево решений', 'логистическая регрессия'],\n",
    "                          'Значение AUC-ROC': [auc_roc_rfc, auc_roc_tree, auc_roc_log]}).sort_values(\n",
    "                                       by='Значение AUC-ROC', ascending=False).reset_index(drop=True)\n",
    "\n",
    "# обозначим лучший результат и сохраним его в переменную\n",
    "best_auc_roc_result = auc_roc_score['Значение AUC-ROC'].max()\n",
    "\n",
    "# выведем таблицу и вывод на экран\n",
    "display('Таблица значений кривой ошибок (AUC-ROC) для различных моделей', auc_roc_score)\n",
    "print('Лучший результат у модели {} со значением AUC-ROC: {}'.format(auc_roc_score['Модели'][0], \n",
    "                                                                     best_auc_roc_result))\n",
    "\n"
   ]
  },
  {
   "cell_type": "markdown",
   "metadata": {},
   "source": [
    "### Построим кривые ROC работы каждой модели обучения на тестовой выборке на одном графике\n"
   ]
  },
  {
   "cell_type": "code",
   "execution_count": 88,
   "metadata": {},
   "outputs": [
    {
     "data": {
      "text/plain": [
       "<matplotlib.legend.Legend at 0x7fcf28e258d0>"
      ]
     },
     "execution_count": 88,
     "metadata": {},
     "output_type": "execute_result"
    },
    {
     "data": {
      "image/png": "[encoded data removed]",
      "text/plain": [
       "<Figure size 864x504 with 1 Axes>"
      ]
     },
     "metadata": {
      "needs_background": "light"
     },
     "output_type": "display_data"
    }
   ],
   "source": [
    "fpr_rfc, tpr_rfc, thresholds = roc_curve(target_test, probabilities_one_rfc_test)\n",
    "fpr_tree, tpr_tree, thresholds = roc_curve(target_test, probabilities_one_tree_test)\n",
    "fpr_log, tpr_log, thresholds = roc_curve(target_test, probabilities_one_log_test)\n",
    "\n",
    "fig, ax = plt.subplots(figsize=(12, 7))                                           \n",
    "ax.plot(fpr_rfc, tpr_rfc, label='Random Forest Classifier') \n",
    "ax.plot(fpr_tree, tpr_tree, label='Decision Tree Classifier') \n",
    "ax.plot(fpr_log, tpr_log, label='Logistic Regression')\n",
    "ax.plot([0, 1], [0, 1], linestyle='--')\n",
    "\n",
    "ax.grid()\n",
    "plt.xlabel('False Positive Rate')\n",
    "plt.ylabel('True Positive Rate')\n",
    "plt.title('Соотношение ROC-кривых различных моделей на тестовой выборке')\n",
    "ax.legend()"
   ]
  },
  {
   "cell_type": "markdown",
   "metadata": {},
   "source": [
    "**Выводы**: исходя из приведенных выше таблиц и графиков видно, что лучшей моделью является модель \"случайного леса\", обученная на взвешенных признаках с подобранными гиперпараметрами. Далее следует модель дерева решений, которая лучше отработала на невзвешенных признаках с подобранными гиперпараметрами. Хуже всего справлялась модель логистической регрессии с предсказаниями как на валидационной выборке, так и на тестовой."
   ]
  },
  {
   "cell_type": "markdown",
   "metadata": {},
   "source": [
    "# Общие выводы"
   ]
  },
  {
   "cell_type": "markdown",
   "metadata": {},
   "source": [
    "В ходе работы над проектом были выполнены следующие шаги:\n",
    "1. Просмотрена общая информация таблицы исходных данных, проверены уникальные значения, пропуски, количество `NaN` значений.\n",
    "2. Были заменены пропуски в столбце `Tenure` с заменой на среднее значение.\n",
    "3. Была создана *целевая таблица* с нужными признаками, проведена обработка значений методом прямой кодировки с избеганием дамми-ловушки, случайным образом отобраны три выборки (тренировочная, валидационная, тестовая) в соотношении 50/25/25, признаки в которых были стандартизованы.\n",
    "4. Проверены три модели обучения как без подбора гиперпараметров, так и с их перебором, где было возможно методом автоматического подбора гиперпараметров (`GridSearchCV`).\n",
    "5. Обученые модели были проверены на валидационной и тестовой выборках.\n",
    "6. Были изучены метрики F1-score на каждом этапе проверки работоспособности моделей (как на валидационных, так и на тестовых выборках)\n",
    "7. Были изучены значения AUC-ROC всех рассматриваемых моделей на тестовой выборке.\n",
    "8. Все значения (F1-score, AUC-ROC) были занесены в таблицы для удобства сравнения.\n",
    "9. Были отражены ROC-кривые для различных моделей, отработавших на тестовой выборке, на одном графике для удобства сравнения.\n",
    "10. На каждом этапе были сделаны промежуточные выводы, где это было необходимо, а также были подведены краткие выводы в крупных модулях проекта.\n",
    "\n",
    "По результатам работы над проектом можно сделать следующие выводы:\n",
    "- наиболее высокая точность прогноза была представлена моделью \"случайный лес\", которая достигла необходимых по задаче (с небольшим превышением от требуемых);\n",
    "- плохо обученной моделью оказалась модель логистической регрессией;\n",
    "- значение AUC-ROC также было выше у модели \"случайного леса\" по сравнению с остальными моделями.\n",
    "\n",
    "Возможные идеи улучшения обучения моделей:\n",
    "- представляется вероятным улучшение модели обучения за счет увеличения изначальных данных;\n",
    "- также, вероятно, модель будет показывать разлчиную точность обучения в зависимости от соотношения тренировочной и валидационной выборки;\n",
    "- улучшение предсказательной силы, вероятно, будет тем выше, чем более равномерно распределены целевые признаки в соответствии с обучающими."
   ]
  },
  {
   "cell_type": "markdown",
   "metadata": {},
   "source": [
    "## Альтернативная работа по улучшению значения метрик"
   ]
  },
  {
   "cell_type": "markdown",
   "metadata": {},
   "source": [
    "### Проверка финальной модели на большей выборке"
   ]
  },
  {
   "cell_type": "markdown",
   "metadata": {},
   "source": [
    "Проведем тестирование различных моделей случайного дерева на тестовой выборке, обученной на бОльших данных, а именно, до разделения на валидационную. "
   ]
  },
  {
   "cell_type": "code",
   "execution_count": 89,
   "metadata": {},
   "outputs": [],
   "source": [
    "features_train_alternate = pd.concat([features_train, features_valid], ignore_index=True)\n",
    "target_train_alternate = pd.concat([target_train, target_valid], ignore_index=True)"
   ]
  },
  {
   "cell_type": "code",
   "execution_count": 90,
   "metadata": {},
   "outputs": [
    {
     "data": {
      "text/plain": [
       "'Сравнение значений финальной модели случайного леса на различных размерах обучающих данных'"
      ]
     },
     "metadata": {},
     "output_type": "display_data"
    },
    {
     "data": {
      "text/html": [
       "<div>\n",
       "<style scoped>\n",
       "    .dataframe tbody tr th:only-of-type {\n",
       "        vertical-align: middle;\n",
       "    }\n",
       "\n",
       "    .dataframe tbody tr th {\n",
       "        vertical-align: top;\n",
       "    }\n",
       "\n",
       "    .dataframe thead th {\n",
       "        text-align: right;\n",
       "    }\n",
       "</style>\n",
       "<table border=\"1\" class=\"dataframe\">\n",
       "  <thead>\n",
       "    <tr style=\"text-align: right;\">\n",
       "      <th></th>\n",
       "      <th>Вариация обучающей выборки</th>\n",
       "      <th>Размер обучающей выборки</th>\n",
       "      <th>F1-score</th>\n",
       "    </tr>\n",
       "  </thead>\n",
       "  <tbody>\n",
       "    <tr>\n",
       "      <td>0</td>\n",
       "      <td>Финальная модель \"случайного леса\"</td>\n",
       "      <td>8125</td>\n",
       "      <td>0.620506</td>\n",
       "    </tr>\n",
       "    <tr>\n",
       "      <td>1</td>\n",
       "      <td>Финальная модель \"случайного леса\"</td>\n",
       "      <td>5625</td>\n",
       "      <td>0.602778</td>\n",
       "    </tr>\n",
       "  </tbody>\n",
       "</table>\n",
       "</div>"
      ],
      "text/plain": [
       "           Вариация обучающей выборки  Размер обучающей выборки  F1-score\n",
       "0  Финальная модель \"случайного леса\"                      8125  0.620506\n",
       "1  Финальная модель \"случайного леса\"                      5625  0.602778"
      ]
     },
     "metadata": {},
     "output_type": "display_data"
    }
   ],
   "source": [
    "model_rfc_balanced_alternate = RandomForestClassifier(random_state=RS, \n",
    "                                            n_estimators=grid_rfc.best_params_['n_estimators'],\n",
    "                                            max_depth=grid_rfc.best_params_['max_depth'],\n",
    "                                            class_weight='balanced')\n",
    "model_rfc_balanced_alternate.fit(features_train_alternate, target_train_alternate)\n",
    "\n",
    "# запишем предсказания финальной модели, обученной выше\n",
    "predicted_rfc_test_balanced_alternate = model_rfc_balanced_alternate.predict(features_test)\n",
    "\n",
    "# создадим таблицу значений F1-score для финальной модели\n",
    "rfc_score_alternate = pd.DataFrame({'Вариация обучающей выборки': ['Финальная модель \"случайного леса\"', \n",
    "                                                                   'Финальная модель \"случайного леса\"'],\n",
    "                                    'Размер обучающей выборки': [features_train_alternate.shape[0],\n",
    "                                                                 features_train.shape[0]],\n",
    "                                    'F1-score': [f1_score(target_test, predicted_rfc_test_balanced_alternate), \n",
    "                                                 f1_score(target_test, predicted_rfc_test_balanced)]})\n",
    "# выделим лучший результат значения F1-score\n",
    "alternate_result_model_result = rfc_score_alternate['F1-score'].max()\n",
    "\n",
    "# выведем полученные результаты на экран\n",
    "display('Сравнение значений финальной модели случайного леса на различных размерах обучающих данных', \n",
    "        rfc_score_alternate)\n"
   ]
  },
  {
   "cell_type": "markdown",
   "metadata": {},
   "source": [
    "**Промежуточный вывод**: финальная модель показывает лучшие предсказания на тестовой выборке при увеличении обучающей выборки."
   ]
  },
  {
   "cell_type": "markdown",
   "metadata": {},
   "source": [
    "Проверим значения AUC-ROC для финальной модели с различным размером обучаеющей выборки"
   ]
  },
  {
   "cell_type": "code",
   "execution_count": 91,
   "metadata": {
    "scrolled": true
   },
   "outputs": [
    {
     "data": {
      "text/plain": [
       "'Таблица значений кривой ошибок (AUC-ROC) с различным размером обучающих выборок финальной модели'"
      ]
     },
     "metadata": {},
     "output_type": "display_data"
    },
    {
     "data": {
      "text/html": [
       "<div>\n",
       "<style scoped>\n",
       "    .dataframe tbody tr th:only-of-type {\n",
       "        vertical-align: middle;\n",
       "    }\n",
       "\n",
       "    .dataframe tbody tr th {\n",
       "        vertical-align: top;\n",
       "    }\n",
       "\n",
       "    .dataframe thead th {\n",
       "        text-align: right;\n",
       "    }\n",
       "</style>\n",
       "<table border=\"1\" class=\"dataframe\">\n",
       "  <thead>\n",
       "    <tr style=\"text-align: right;\">\n",
       "      <th></th>\n",
       "      <th>Размер выборки</th>\n",
       "      <th>Значение AUC-ROC</th>\n",
       "    </tr>\n",
       "  </thead>\n",
       "  <tbody>\n",
       "    <tr>\n",
       "      <td>0</td>\n",
       "      <td>Большая обучающая выборка</td>\n",
       "      <td>0.872855</td>\n",
       "    </tr>\n",
       "    <tr>\n",
       "      <td>1</td>\n",
       "      <td>Малая обучающая выборка</td>\n",
       "      <td>0.866784</td>\n",
       "    </tr>\n",
       "  </tbody>\n",
       "</table>\n",
       "</div>"
      ],
      "text/plain": [
       "              Размер выборки  Значение AUC-ROC\n",
       "0  Большая обучающая выборка          0.872855\n",
       "1    Малая обучающая выборка          0.866784"
      ]
     },
     "metadata": {},
     "output_type": "display_data"
    },
    {
     "name": "stdout",
     "output_type": "stream",
     "text": [
      "Лучший результат у модели с выборокой: Большая обучающая выборка. Значение AUC-ROC: 0.8667840168984333\n"
     ]
    }
   ],
   "source": [
    "probabilities_test_alternate = model_rfc_balanced_alternate.predict_proba(features_test)\n",
    "probabilities_one_alternate_test = probabilities_test_alternate[:, 1]\n",
    "auc_roc_alternate = roc_auc_score(target_test, probabilities_one_alternate_test)\n",
    "\n",
    "\n",
    "# создаем таблицу, в которую занесем значения AUC-ROC различных лучших моделей\n",
    "auc_roc_score_final = pd.DataFrame({'Размер выборки': ['Большая обучающая выборка', 'Малая обучающая выборка'],\n",
    "                                    'Значение AUC-ROC': [auc_roc_alternate, auc_roc_rfc]}).sort_values(\n",
    "    by='Значение AUC-ROC', ascending=False).reset_index(drop=True).reset_index(drop=True)\n",
    "\n",
    "# обозначим лучший результат и сохраним его в переменную\n",
    "best_auc_roc = auc_roc_score_final['Значение AUC-ROC'].max()\n",
    "\n",
    "# выведем таблицу и вывод на экран\n",
    "display('Таблица значений кривой ошибок (AUC-ROC) с различным размером обучающих выборок финальной модели', \n",
    "        auc_roc_score_final)\n",
    "print('Лучший результат у модели с выборокой: {}. Значение AUC-ROC: {}'.format(\n",
    "       auc_roc_score_final['Размер выборки'][0], best_auc_roc_result))\n",
    "\n"
   ]
  },
  {
   "cell_type": "code",
   "execution_count": 92,
   "metadata": {
    "scrolled": false
   },
   "outputs": [
    {
     "data": {
      "text/plain": [
       "<matplotlib.legend.Legend at 0x7fcf28d9ef50>"
      ]
     },
     "execution_count": 92,
     "metadata": {},
     "output_type": "execute_result"
    },
    {
     "data": {
      "image/png": "[encoded data removed]",
      "text/plain": [
       "<Figure size 864x504 with 1 Axes>"
      ]
     },
     "metadata": {
      "needs_background": "light"
     },
     "output_type": "display_data"
    }
   ],
   "source": [
    "fpr_rfc, tpr_rfc, thresholds = roc_curve(target_test, probabilities_one_rfc_test)\n",
    "fpr_rfc_alternate, tpr_rfc_alternate, thresholds = roc_curve(target_test, probabilities_one_alternate_test)\n",
    "\n",
    "fig, ax = plt.subplots(figsize=(12, 7))                                           \n",
    "ax.plot(fpr_rfc, tpr_rfc, label='Малая обучающая выборка') \n",
    "ax.plot(fpr_rfc_alternate, tpr_rfc_alternate, label='Большая обучающая выборка') \n",
    "ax.plot([0, 1], [0, 1], linestyle='--')\n",
    "\n",
    "ax.grid()\n",
    "plt.xlabel('False Positive Rate')\n",
    "plt.ylabel('True Positive Rate')\n",
    "plt.title('Соотношение ROC-кривых финальной модели на различных тренировочных выборках (тестовая выборке)')\n",
    "ax.legend()"
   ]
  },
  {
   "cell_type": "markdown",
   "metadata": {},
   "source": [
    "**Промежуточные выводы**: финальня модель \"случайного леса\" имеет незначительные, но все же более высокие значения AUC-ROC, значит модель с большей обучающей выборкой более точно предсказываает результаты. "
   ]
  },
  {
   "cell_type": "markdown",
   "metadata": {},
   "source": [
    "**Выводы**: "
   ]
  },
  {
   "cell_type": "markdown",
   "metadata": {},
   "source": [
    "### Проверим значимость каждого фактора на результат\n"
   ]
  },
  {
   "cell_type": "markdown",
   "metadata": {},
   "source": [
    "Попробуем оценить значимость каждого фактора, на который \"обращала внимание\" модель при работе с валидационной выборке."
   ]
  },
  {
   "cell_type": "code",
   "execution_count": 93,
   "metadata": {},
   "outputs": [
    {
     "data": {
      "text/html": [
       "\n",
       "    <style>\n",
       "    table.eli5-weights tr:hover {\n",
       "        filter: brightness(85%);\n",
       "    }\n",
       "</style>\n",
       "\n",
       "\n",
       "\n",
       "    \n",
       "\n",
       "    \n",
       "\n",
       "    \n",
       "\n",
       "    \n",
       "\n",
       "    \n",
       "\n",
       "    \n",
       "\n",
       "\n",
       "    \n",
       "\n",
       "    \n",
       "\n",
       "    \n",
       "\n",
       "    \n",
       "\n",
       "    \n",
       "\n",
       "    \n",
       "\n",
       "\n",
       "    \n",
       "\n",
       "    \n",
       "\n",
       "    \n",
       "\n",
       "    \n",
       "\n",
       "    \n",
       "        <table class=\"eli5-weights eli5-feature-importances\" style=\"border-collapse: collapse; border: none; margin-top: 0em; table-layout: auto;\">\n",
       "    <thead>\n",
       "    <tr style=\"border: none;\">\n",
       "        <th style=\"padding: 0 1em 0 0.5em; text-align: right; border: none;\">Weight</th>\n",
       "        <th style=\"padding: 0 0.5em 0 0.5em; text-align: left; border: none;\">Feature</th>\n",
       "    </tr>\n",
       "    </thead>\n",
       "    <tbody>\n",
       "    \n",
       "        <tr style=\"background-color: hsl(120, 100.00%, 80.00%); border: none;\">\n",
       "            <td style=\"padding: 0 1em 0 0.5em; text-align: right; border: none;\">\n",
       "                0.0846\n",
       "                \n",
       "                    &plusmn; 0.0056\n",
       "                \n",
       "            </td>\n",
       "            <td style=\"padding: 0 0.5em 0 0.5em; text-align: left; border: none;\">\n",
       "                Age\n",
       "            </td>\n",
       "        </tr>\n",
       "    \n",
       "        <tr style=\"background-color: hsl(120, 100.00%, 83.77%); border: none;\">\n",
       "            <td style=\"padding: 0 1em 0 0.5em; text-align: right; border: none;\">\n",
       "                0.0627\n",
       "                \n",
       "                    &plusmn; 0.0073\n",
       "                \n",
       "            </td>\n",
       "            <td style=\"padding: 0 0.5em 0 0.5em; text-align: left; border: none;\">\n",
       "                NumOfProducts\n",
       "            </td>\n",
       "        </tr>\n",
       "    \n",
       "        <tr style=\"background-color: hsl(120, 100.00%, 91.28%); border: none;\">\n",
       "            <td style=\"padding: 0 1em 0 0.5em; text-align: right; border: none;\">\n",
       "                0.0258\n",
       "                \n",
       "                    &plusmn; 0.0040\n",
       "                \n",
       "            </td>\n",
       "            <td style=\"padding: 0 0.5em 0 0.5em; text-align: left; border: none;\">\n",
       "                IsActiveMember\n",
       "            </td>\n",
       "        </tr>\n",
       "    \n",
       "        <tr style=\"background-color: hsl(120, 100.00%, 93.17%); border: none;\">\n",
       "            <td style=\"padding: 0 1em 0 0.5em; text-align: right; border: none;\">\n",
       "                0.0182\n",
       "                \n",
       "                    &plusmn; 0.0055\n",
       "                \n",
       "            </td>\n",
       "            <td style=\"padding: 0 0.5em 0 0.5em; text-align: left; border: none;\">\n",
       "                Balance\n",
       "            </td>\n",
       "        </tr>\n",
       "    \n",
       "        <tr style=\"background-color: hsl(120, 100.00%, 93.79%); border: none;\">\n",
       "            <td style=\"padding: 0 1em 0 0.5em; text-align: right; border: none;\">\n",
       "                0.0159\n",
       "                \n",
       "                    &plusmn; 0.0026\n",
       "                \n",
       "            </td>\n",
       "            <td style=\"padding: 0 0.5em 0 0.5em; text-align: left; border: none;\">\n",
       "                Geography_Germany\n",
       "            </td>\n",
       "        </tr>\n",
       "    \n",
       "        <tr style=\"background-color: hsl(120, 100.00%, 98.20%); border: none;\">\n",
       "            <td style=\"padding: 0 1em 0 0.5em; text-align: right; border: none;\">\n",
       "                0.0027\n",
       "                \n",
       "                    &plusmn; 0.0016\n",
       "                \n",
       "            </td>\n",
       "            <td style=\"padding: 0 0.5em 0 0.5em; text-align: left; border: none;\">\n",
       "                Gender_Male\n",
       "            </td>\n",
       "        </tr>\n",
       "    \n",
       "        <tr style=\"background-color: hsl(120, 100.00%, 99.85%); border: none;\">\n",
       "            <td style=\"padding: 0 1em 0 0.5em; text-align: right; border: none;\">\n",
       "                0.0001\n",
       "                \n",
       "                    &plusmn; 0.0016\n",
       "                \n",
       "            </td>\n",
       "            <td style=\"padding: 0 0.5em 0 0.5em; text-align: left; border: none;\">\n",
       "                HasCrCard\n",
       "            </td>\n",
       "        </tr>\n",
       "    \n",
       "        <tr style=\"background-color: hsl(0, 100.00%, 99.13%); border: none;\">\n",
       "            <td style=\"padding: 0 1em 0 0.5em; text-align: right; border: none;\">\n",
       "                -0.0010\n",
       "                \n",
       "                    &plusmn; 0.0015\n",
       "                \n",
       "            </td>\n",
       "            <td style=\"padding: 0 0.5em 0 0.5em; text-align: left; border: none;\">\n",
       "                Geography_Spain\n",
       "            </td>\n",
       "        </tr>\n",
       "    \n",
       "        <tr style=\"background-color: hsl(0, 100.00%, 98.84%); border: none;\">\n",
       "            <td style=\"padding: 0 1em 0 0.5em; text-align: right; border: none;\">\n",
       "                -0.0014\n",
       "                \n",
       "                    &plusmn; 0.0030\n",
       "                \n",
       "            </td>\n",
       "            <td style=\"padding: 0 0.5em 0 0.5em; text-align: left; border: none;\">\n",
       "                EstimatedSalary\n",
       "            </td>\n",
       "        </tr>\n",
       "    \n",
       "        <tr style=\"background-color: hsl(0, 100.00%, 98.27%); border: none;\">\n",
       "            <td style=\"padding: 0 1em 0 0.5em; text-align: right; border: none;\">\n",
       "                -0.0026\n",
       "                \n",
       "                    &plusmn; 0.0038\n",
       "                \n",
       "            </td>\n",
       "            <td style=\"padding: 0 0.5em 0 0.5em; text-align: left; border: none;\">\n",
       "                Tenure\n",
       "            </td>\n",
       "        </tr>\n",
       "    \n",
       "        <tr style=\"background-color: hsl(0, 100.00%, 98.20%); border: none;\">\n",
       "            <td style=\"padding: 0 1em 0 0.5em; text-align: right; border: none;\">\n",
       "                -0.0027\n",
       "                \n",
       "                    &plusmn; 0.0022\n",
       "                \n",
       "            </td>\n",
       "            <td style=\"padding: 0 0.5em 0 0.5em; text-align: left; border: none;\">\n",
       "                CreditScore\n",
       "            </td>\n",
       "        </tr>\n",
       "    \n",
       "    \n",
       "    </tbody>\n",
       "</table>\n",
       "    \n",
       "\n",
       "    \n",
       "\n",
       "\n",
       "    \n",
       "\n",
       "    \n",
       "\n",
       "    \n",
       "\n",
       "    \n",
       "\n",
       "    \n",
       "\n",
       "    \n",
       "\n",
       "\n",
       "\n"
      ],
      "text/plain": [
       "<IPython.core.display.HTML object>"
      ]
     },
     "execution_count": 93,
     "metadata": {},
     "output_type": "execute_result"
    }
   ],
   "source": [
    "perm = PermutationImportance(final_rfc_model, random_state=RS).fit(features_valid, target_valid)\n",
    "eli5.show_weights(perm, feature_names = features_valid.columns.tolist())"
   ]
  },
  {
   "cell_type": "markdown",
   "metadata": {},
   "source": [
    "**Выводы**: как оказалось, наиболее значимыми для прогноза модель \"выбрала\" возрасть клиента, количество продуктов в у клиента в банке, активность клиентского счета и баланс на счету. Менее значимыми оказались предполагаемая зарплата, кредитный рейтинг и время пользования клиентом услуг банка."
   ]
  },
  {
   "cell_type": "markdown",
   "metadata": {},
   "source": [
    "### Вычиление метрик полноты и точности на альтернативной финальной модели"
   ]
  },
  {
   "cell_type": "code",
   "execution_count": 94,
   "metadata": {},
   "outputs": [
    {
     "data": {
      "image/png": "[encoded data removed]",
      "text/plain": [
       "<Figure size 864x504 with 1 Axes>"
      ]
     },
     "metadata": {
      "needs_background": "light"
     },
     "output_type": "display_data"
    }
   ],
   "source": [
    "probabilities_test = model_rfc_balanced_alternate.predict_proba(features_test)\n",
    "precision, recall, thresholds = precision_recall_curve(target_test, probabilities_test[:, 1])\n",
    "\n",
    "plt.figure(figsize=(12, 7))\n",
    "plt.step(recall, precision, where='post')\n",
    "plt.grid()\n",
    "plt.xlabel('Recall')\n",
    "plt.ylabel('Precision')\n",
    "plt.ylim([0.0, 1.05])\n",
    "plt.xlim([0.0, 1.0])\n",
    "plt.title('Кривая Precision-Recall на тестовой выбрке альтернативной финальной модели')\n",
    "plt.show() "
   ]
  },
  {
   "cell_type": "markdown",
   "metadata": {},
   "source": [
    "**Выводы**: как видим, кривая соотношения полноты и точности достаточно высока, что говорит о достаточно хорошо обученной финальной модели.\n"
   ]
  },
  {
   "cell_type": "markdown",
   "metadata": {},
   "source": [
    "## Дополнительные выводы"
   ]
  },
  {
   "cell_type": "markdown",
   "metadata": {},
   "source": [
    "1. При обучении модели на большей выборке ее точность повышается.\n",
    "2. Была определна значимость некоторых признаков, на которые опиралась модель для прогноза. Ими оказались возраст клиента, количество продуктов у клиента в банке, активность клиентского счета и баланс на счету. Менее значимыми оказались предполагаемая зарплата клиента, его кредитный рейтинг и время пользования клиентом услуг банка.\n",
    "3. Кривая соотношения полноты и точности обученной модели достаточно высока, что говорит о хорошо обученой модели."
   ]
  }
 ],
 "metadata": {
  "ExecuteTimeLog": [
   {
    "duration": 3,
    "start_time": "2022-01-31T13:20:16.471Z"
   },
   {
    "duration": 1122,
    "start_time": "2022-01-31T13:20:16.477Z"
   },
   {
    "duration": 3,
    "start_time": "2022-01-31T13:20:17.601Z"
   },
   {
    "duration": 1005,
    "start_time": "2022-01-31T13:20:17.605Z"
   },
   {
    "duration": -388,
    "start_time": "2022-01-31T13:20:19.002Z"
   },
   {
    "duration": -396,
    "start_time": "2022-01-31T13:20:19.011Z"
   },
   {
    "duration": -404,
    "start_time": "2022-01-31T13:20:19.020Z"
   },
   {
    "duration": -411,
    "start_time": "2022-01-31T13:20:19.028Z"
   },
   {
    "duration": -421,
    "start_time": "2022-01-31T13:20:19.039Z"
   },
   {
    "duration": -435,
    "start_time": "2022-01-31T13:20:19.054Z"
   },
   {
    "duration": -445,
    "start_time": "2022-01-31T13:20:19.065Z"
   },
   {
    "duration": -454,
    "start_time": "2022-01-31T13:20:19.075Z"
   },
   {
    "duration": -484,
    "start_time": "2022-01-31T13:20:19.105Z"
   },
   {
    "duration": -491,
    "start_time": "2022-01-31T13:20:19.113Z"
   },
   {
    "duration": -501,
    "start_time": "2022-01-31T13:20:19.124Z"
   },
   {
    "duration": -508,
    "start_time": "2022-01-31T13:20:19.132Z"
   },
   {
    "duration": -517,
    "start_time": "2022-01-31T13:20:19.142Z"
   },
   {
    "duration": -524,
    "start_time": "2022-01-31T13:20:19.150Z"
   },
   {
    "duration": -533,
    "start_time": "2022-01-31T13:20:19.160Z"
   },
   {
    "duration": -540,
    "start_time": "2022-01-31T13:20:19.168Z"
   },
   {
    "duration": -549,
    "start_time": "2022-01-31T13:20:19.178Z"
   },
   {
    "duration": -556,
    "start_time": "2022-01-31T13:20:19.186Z"
   },
   {
    "duration": -564,
    "start_time": "2022-01-31T13:20:19.195Z"
   },
   {
    "duration": -589,
    "start_time": "2022-01-31T13:20:19.220Z"
   },
   {
    "duration": -596,
    "start_time": "2022-01-31T13:20:19.229Z"
   },
   {
    "duration": -604,
    "start_time": "2022-01-31T13:20:19.237Z"
   },
   {
    "duration": -613,
    "start_time": "2022-01-31T13:20:19.247Z"
   },
   {
    "duration": -619,
    "start_time": "2022-01-31T13:20:19.254Z"
   },
   {
    "duration": -627,
    "start_time": "2022-01-31T13:20:19.263Z"
   },
   {
    "duration": -634,
    "start_time": "2022-01-31T13:20:19.271Z"
   },
   {
    "duration": -642,
    "start_time": "2022-01-31T13:20:19.280Z"
   },
   {
    "duration": -650,
    "start_time": "2022-01-31T13:20:19.289Z"
   },
   {
    "duration": -658,
    "start_time": "2022-01-31T13:20:19.298Z"
   },
   {
    "duration": -665,
    "start_time": "2022-01-31T13:20:19.306Z"
   },
   {
    "duration": -672,
    "start_time": "2022-01-31T13:20:19.314Z"
   },
   {
    "duration": -696,
    "start_time": "2022-01-31T13:20:19.338Z"
   },
   {
    "duration": -704,
    "start_time": "2022-01-31T13:20:19.347Z"
   },
   {
    "duration": -712,
    "start_time": "2022-01-31T13:20:19.356Z"
   },
   {
    "duration": -719,
    "start_time": "2022-01-31T13:20:19.364Z"
   },
   {
    "duration": -726,
    "start_time": "2022-01-31T13:20:19.372Z"
   },
   {
    "duration": -734,
    "start_time": "2022-01-31T13:20:19.381Z"
   },
   {
    "duration": -743,
    "start_time": "2022-01-31T13:20:19.391Z"
   },
   {
    "duration": -751,
    "start_time": "2022-01-31T13:20:19.400Z"
   },
   {
    "duration": -758,
    "start_time": "2022-01-31T13:20:19.408Z"
   },
   {
    "duration": -766,
    "start_time": "2022-01-31T13:20:19.417Z"
   },
   {
    "duration": -775,
    "start_time": "2022-01-31T13:20:19.426Z"
   },
   {
    "duration": -783,
    "start_time": "2022-01-31T13:20:19.435Z"
   },
   {
    "duration": -807,
    "start_time": "2022-01-31T13:20:19.459Z"
   },
   {
    "duration": -815,
    "start_time": "2022-01-31T13:20:19.468Z"
   },
   {
    "duration": -823,
    "start_time": "2022-01-31T13:20:19.477Z"
   },
   {
    "duration": -828,
    "start_time": "2022-01-31T13:20:19.486Z"
   },
   {
    "duration": -835,
    "start_time": "2022-01-31T13:20:19.494Z"
   },
   {
    "duration": -843,
    "start_time": "2022-01-31T13:20:19.503Z"
   },
   {
    "duration": -850,
    "start_time": "2022-01-31T13:20:19.511Z"
   },
   {
    "duration": -859,
    "start_time": "2022-01-31T13:20:19.521Z"
   },
   {
    "duration": -866,
    "start_time": "2022-01-31T13:20:19.529Z"
   },
   {
    "duration": -875,
    "start_time": "2022-01-31T13:20:19.539Z"
   },
   {
    "duration": -882,
    "start_time": "2022-01-31T13:20:19.547Z"
   },
   {
    "duration": -890,
    "start_time": "2022-01-31T13:20:19.556Z"
   },
   {
    "duration": -912,
    "start_time": "2022-01-31T13:20:19.579Z"
   },
   {
    "duration": -922,
    "start_time": "2022-01-31T13:20:19.590Z"
   },
   {
    "duration": -928,
    "start_time": "2022-01-31T13:20:19.597Z"
   },
   {
    "duration": -936,
    "start_time": "2022-01-31T13:20:19.606Z"
   },
   {
    "duration": -944,
    "start_time": "2022-01-31T13:20:19.615Z"
   },
   {
    "duration": -953,
    "start_time": "2022-01-31T13:20:19.625Z"
   },
   {
    "duration": -960,
    "start_time": "2022-01-31T13:20:19.633Z"
   },
   {
    "duration": -969,
    "start_time": "2022-01-31T13:20:19.643Z"
   },
   {
    "duration": -977,
    "start_time": "2022-01-31T13:20:19.651Z"
   },
   {
    "duration": -984,
    "start_time": "2022-01-31T13:20:19.660Z"
   },
   {
    "duration": -991,
    "start_time": "2022-01-31T13:20:19.668Z"
   },
   {
    "duration": -999,
    "start_time": "2022-01-31T13:20:19.677Z"
   },
   {
    "duration": -1022,
    "start_time": "2022-01-31T13:20:19.701Z"
   },
   {
    "duration": -1031,
    "start_time": "2022-01-31T13:20:19.711Z"
   },
   {
    "duration": -1039,
    "start_time": "2022-01-31T13:20:19.719Z"
   },
   {
    "duration": -1046,
    "start_time": "2022-01-31T13:20:19.728Z"
   },
   {
    "duration": -1054,
    "start_time": "2022-01-31T13:20:19.736Z"
   },
   {
    "duration": -1062,
    "start_time": "2022-01-31T13:20:19.745Z"
   },
   {
    "duration": -1070,
    "start_time": "2022-01-31T13:20:19.754Z"
   },
   {
    "duration": -1078,
    "start_time": "2022-01-31T13:20:19.763Z"
   },
   {
    "duration": -1086,
    "start_time": "2022-01-31T13:20:19.772Z"
   },
   {
    "duration": -1094,
    "start_time": "2022-01-31T13:20:19.781Z"
   },
   {
    "duration": -1102,
    "start_time": "2022-01-31T13:20:19.790Z"
   },
   {
    "duration": -1126,
    "start_time": "2022-01-31T13:20:19.815Z"
   },
   {
    "duration": -1135,
    "start_time": "2022-01-31T13:20:19.825Z"
   },
   {
    "duration": -1142,
    "start_time": "2022-01-31T13:20:19.833Z"
   },
   {
    "duration": -1149,
    "start_time": "2022-01-31T13:20:19.841Z"
   },
   {
    "duration": -1157,
    "start_time": "2022-01-31T13:20:19.850Z"
   },
   {
    "duration": -1165,
    "start_time": "2022-01-31T13:20:19.859Z"
   },
   {
    "duration": -1173,
    "start_time": "2022-01-31T13:20:19.868Z"
   },
   {
    "duration": -1181,
    "start_time": "2022-01-31T13:20:19.877Z"
   },
   {
    "duration": -1189,
    "start_time": "2022-01-31T13:20:19.886Z"
   },
   {
    "duration": -1137,
    "start_time": "2022-01-31T13:20:19.895Z"
   },
   {
    "duration": -1144,
    "start_time": "2022-01-31T13:20:19.904Z"
   },
   {
    "duration": -1152,
    "start_time": "2022-01-31T13:20:19.912Z"
   },
   {
    "duration": 30,
    "start_time": "2022-01-31T13:21:36.582Z"
   },
   {
    "duration": 3,
    "start_time": "2022-01-31T13:21:44.100Z"
   },
   {
    "duration": 1079,
    "start_time": "2022-01-31T13:21:44.107Z"
   },
   {
    "duration": 2,
    "start_time": "2022-01-31T13:21:45.188Z"
   },
   {
    "duration": 35,
    "start_time": "2022-01-31T13:21:45.192Z"
   },
   {
    "duration": 8,
    "start_time": "2022-01-31T13:21:45.229Z"
   },
   {
    "duration": 22,
    "start_time": "2022-01-31T13:21:45.238Z"
   },
   {
    "duration": 7,
    "start_time": "2022-01-31T13:21:45.262Z"
   },
   {
    "duration": 17,
    "start_time": "2022-01-31T13:21:45.271Z"
   },
   {
    "duration": 11,
    "start_time": "2022-01-31T13:21:45.291Z"
   },
   {
    "duration": 11,
    "start_time": "2022-01-31T13:21:45.305Z"
   },
   {
    "duration": 57,
    "start_time": "2022-01-31T13:21:45.317Z"
   },
   {
    "duration": 12,
    "start_time": "2022-01-31T13:21:45.376Z"
   },
   {
    "duration": 10,
    "start_time": "2022-01-31T13:21:45.390Z"
   },
   {
    "duration": 10,
    "start_time": "2022-01-31T13:21:45.402Z"
   },
   {
    "duration": 3,
    "start_time": "2022-01-31T13:21:45.414Z"
   },
   {
    "duration": 43,
    "start_time": "2022-01-31T13:21:45.418Z"
   },
   {
    "duration": 8,
    "start_time": "2022-01-31T13:21:45.462Z"
   },
   {
    "duration": 22,
    "start_time": "2022-01-31T13:21:45.472Z"
   },
   {
    "duration": 2,
    "start_time": "2022-01-31T13:21:45.495Z"
   },
   {
    "duration": 7,
    "start_time": "2022-01-31T13:21:45.499Z"
   },
   {
    "duration": 15,
    "start_time": "2022-01-31T13:21:45.507Z"
   },
   {
    "duration": 4,
    "start_time": "2022-01-31T13:21:45.524Z"
   },
   {
    "duration": 32,
    "start_time": "2022-01-31T13:21:45.530Z"
   },
   {
    "duration": 5,
    "start_time": "2022-01-31T13:21:45.565Z"
   },
   {
    "duration": 5,
    "start_time": "2022-01-31T13:21:45.572Z"
   },
   {
    "duration": 17,
    "start_time": "2022-01-31T13:21:45.578Z"
   },
   {
    "duration": 19,
    "start_time": "2022-01-31T13:21:45.597Z"
   },
   {
    "duration": 14,
    "start_time": "2022-01-31T13:21:45.618Z"
   },
   {
    "duration": 3,
    "start_time": "2022-01-31T13:21:45.659Z"
   },
   {
    "duration": 70,
    "start_time": "2022-01-31T13:21:45.663Z"
   },
   {
    "duration": 24,
    "start_time": "2022-01-31T13:21:45.735Z"
   },
   {
    "duration": 5,
    "start_time": "2022-01-31T13:21:45.761Z"
   },
   {
    "duration": 5,
    "start_time": "2022-01-31T13:21:45.768Z"
   },
   {
    "duration": 5,
    "start_time": "2022-01-31T13:21:45.774Z"
   },
   {
    "duration": 879633,
    "start_time": "2022-01-31T13:21:45.781Z"
   },
   {
    "duration": 3,
    "start_time": "2022-01-31T13:36:25.416Z"
   },
   {
    "duration": 6,
    "start_time": "2022-01-31T13:36:25.421Z"
   },
   {
    "duration": 219,
    "start_time": "2022-01-31T13:36:25.428Z"
   },
   {
    "duration": 498,
    "start_time": "2022-01-31T13:36:25.648Z"
   },
   {
    "duration": -348,
    "start_time": "2022-01-31T13:36:26.497Z"
   },
   {
    "duration": -356,
    "start_time": "2022-01-31T13:36:26.506Z"
   },
   {
    "duration": -363,
    "start_time": "2022-01-31T13:36:26.514Z"
   },
   {
    "duration": -372,
    "start_time": "2022-01-31T13:36:26.524Z"
   },
   {
    "duration": -379,
    "start_time": "2022-01-31T13:36:26.532Z"
   },
   {
    "duration": -389,
    "start_time": "2022-01-31T13:36:26.542Z"
   },
   {
    "duration": -397,
    "start_time": "2022-01-31T13:36:26.551Z"
   },
   {
    "duration": -406,
    "start_time": "2022-01-31T13:36:26.561Z"
   },
   {
    "duration": -414,
    "start_time": "2022-01-31T13:36:26.570Z"
   },
   {
    "duration": -473,
    "start_time": "2022-01-31T13:36:26.630Z"
   },
   {
    "duration": -483,
    "start_time": "2022-01-31T13:36:26.641Z"
   },
   {
    "duration": -493,
    "start_time": "2022-01-31T13:36:26.652Z"
   },
   {
    "duration": -499,
    "start_time": "2022-01-31T13:36:26.660Z"
   },
   {
    "duration": -508,
    "start_time": "2022-01-31T13:36:26.670Z"
   },
   {
    "duration": -514,
    "start_time": "2022-01-31T13:36:26.677Z"
   },
   {
    "duration": -523,
    "start_time": "2022-01-31T13:36:26.687Z"
   },
   {
    "duration": -529,
    "start_time": "2022-01-31T13:36:26.694Z"
   },
   {
    "duration": -537,
    "start_time": "2022-01-31T13:36:26.703Z"
   },
   {
    "duration": -545,
    "start_time": "2022-01-31T13:36:26.712Z"
   },
   {
    "duration": -553,
    "start_time": "2022-01-31T13:36:26.721Z"
   },
   {
    "duration": -576,
    "start_time": "2022-01-31T13:36:26.745Z"
   },
   {
    "duration": -583,
    "start_time": "2022-01-31T13:36:26.754Z"
   },
   {
    "duration": -590,
    "start_time": "2022-01-31T13:36:26.762Z"
   },
   {
    "duration": -599,
    "start_time": "2022-01-31T13:36:26.772Z"
   },
   {
    "duration": -606,
    "start_time": "2022-01-31T13:36:26.780Z"
   },
   {
    "duration": -614,
    "start_time": "2022-01-31T13:36:26.789Z"
   },
   {
    "duration": -623,
    "start_time": "2022-01-31T13:36:26.798Z"
   },
   {
    "duration": -631,
    "start_time": "2022-01-31T13:36:26.807Z"
   },
   {
    "duration": -637,
    "start_time": "2022-01-31T13:36:26.815Z"
   },
   {
    "duration": -646,
    "start_time": "2022-01-31T13:36:26.825Z"
   },
   {
    "duration": -654,
    "start_time": "2022-01-31T13:36:26.833Z"
   },
   {
    "duration": -663,
    "start_time": "2022-01-31T13:36:26.843Z"
   },
   {
    "duration": -693,
    "start_time": "2022-01-31T13:36:26.874Z"
   },
   {
    "duration": -702,
    "start_time": "2022-01-31T13:36:26.884Z"
   },
   {
    "duration": -709,
    "start_time": "2022-01-31T13:36:26.892Z"
   },
   {
    "duration": -717,
    "start_time": "2022-01-31T13:36:26.901Z"
   },
   {
    "duration": -724,
    "start_time": "2022-01-31T13:36:26.909Z"
   },
   {
    "duration": -733,
    "start_time": "2022-01-31T13:36:26.919Z"
   },
   {
    "duration": -741,
    "start_time": "2022-01-31T13:36:26.928Z"
   },
   {
    "duration": -757,
    "start_time": "2022-01-31T13:36:26.945Z"
   },
   {
    "duration": -819,
    "start_time": "2022-01-31T13:36:27.008Z"
   },
   {
    "duration": -828,
    "start_time": "2022-01-31T13:36:27.018Z"
   },
   {
    "duration": -866,
    "start_time": "2022-01-31T13:36:27.057Z"
   },
   {
    "duration": -1004,
    "start_time": "2022-01-31T13:36:27.196Z"
   },
   {
    "duration": -1011,
    "start_time": "2022-01-31T13:36:27.204Z"
   },
   {
    "duration": -1020,
    "start_time": "2022-01-31T13:36:27.214Z"
   },
   {
    "duration": -1028,
    "start_time": "2022-01-31T13:36:27.223Z"
   },
   {
    "duration": -1036,
    "start_time": "2022-01-31T13:36:27.232Z"
   },
   {
    "duration": -1059,
    "start_time": "2022-01-31T13:36:27.256Z"
   },
   {
    "duration": -1068,
    "start_time": "2022-01-31T13:36:27.266Z"
   },
   {
    "duration": -1015,
    "start_time": "2022-01-31T13:36:27.274Z"
   },
   {
    "duration": -1024,
    "start_time": "2022-01-31T13:36:27.284Z"
   },
   {
    "duration": -1032,
    "start_time": "2022-01-31T13:36:27.293Z"
   },
   {
    "duration": -1040,
    "start_time": "2022-01-31T13:36:27.302Z"
   },
   {
    "duration": -1046,
    "start_time": "2022-01-31T13:36:27.310Z"
   },
   {
    "duration": -1054,
    "start_time": "2022-01-31T13:36:27.319Z"
   },
   {
    "duration": 243,
    "start_time": "2022-01-31T13:37:37.030Z"
   },
   {
    "duration": 2,
    "start_time": "2022-01-31T13:37:37.275Z"
   },
   {
    "duration": 21,
    "start_time": "2022-01-31T13:37:37.279Z"
   },
   {
    "duration": 6,
    "start_time": "2022-01-31T13:37:37.302Z"
   },
   {
    "duration": 13,
    "start_time": "2022-01-31T13:37:37.309Z"
   },
   {
    "duration": 10,
    "start_time": "2022-01-31T13:37:37.324Z"
   },
   {
    "duration": 161,
    "start_time": "2022-01-31T13:37:37.336Z"
   },
   {
    "duration": 4,
    "start_time": "2022-01-31T13:37:37.500Z"
   },
   {
    "duration": 18,
    "start_time": "2022-01-31T13:37:37.506Z"
   },
   {
    "duration": 4,
    "start_time": "2022-01-31T13:37:37.526Z"
   },
   {
    "duration": 6,
    "start_time": "2022-01-31T13:37:37.532Z"
   },
   {
    "duration": 26890,
    "start_time": "2022-01-31T13:37:37.539Z"
   },
   {
    "duration": 3,
    "start_time": "2022-01-31T13:38:04.431Z"
   },
   {
    "duration": 8,
    "start_time": "2022-01-31T13:38:04.436Z"
   },
   {
    "duration": 71,
    "start_time": "2022-01-31T13:38:04.446Z"
   },
   {
    "duration": 4,
    "start_time": "2022-01-31T13:38:04.519Z"
   },
   {
    "duration": 9,
    "start_time": "2022-01-31T13:38:04.525Z"
   },
   {
    "duration": 5,
    "start_time": "2022-01-31T13:38:04.536Z"
   },
   {
    "duration": 11045,
    "start_time": "2022-01-31T13:38:04.543Z"
   },
   {
    "duration": 72,
    "start_time": "2022-01-31T13:38:15.590Z"
   },
   {
    "duration": 97,
    "start_time": "2022-01-31T13:38:15.665Z"
   },
   {
    "duration": 3,
    "start_time": "2022-01-31T13:38:15.764Z"
   },
   {
    "duration": 1065,
    "start_time": "2022-01-31T13:38:15.771Z"
   },
   {
    "duration": 28,
    "start_time": "2022-01-31T13:38:16.838Z"
   },
   {
    "duration": 6,
    "start_time": "2022-01-31T13:38:16.867Z"
   },
   {
    "duration": 5,
    "start_time": "2022-01-31T13:38:16.874Z"
   },
   {
    "duration": 80,
    "start_time": "2022-01-31T13:38:16.881Z"
   },
   {
    "duration": 4,
    "start_time": "2022-01-31T13:38:16.963Z"
   },
   {
    "duration": 11,
    "start_time": "2022-01-31T13:38:16.969Z"
   },
   {
    "duration": 3,
    "start_time": "2022-01-31T13:38:16.981Z"
   },
   {
    "duration": 10618,
    "start_time": "2022-01-31T13:38:16.986Z"
   },
   {
    "duration": 54,
    "start_time": "2022-01-31T13:38:27.606Z"
   },
   {
    "duration": 100,
    "start_time": "2022-01-31T13:38:27.663Z"
   },
   {
    "duration": 6,
    "start_time": "2022-01-31T13:38:27.765Z"
   },
   {
    "duration": 16,
    "start_time": "2022-01-31T13:38:27.773Z"
   },
   {
    "duration": 458,
    "start_time": "2022-01-31T13:38:27.791Z"
   },
   {
    "duration": 38,
    "start_time": "2022-01-31T13:38:28.251Z"
   },
   {
    "duration": 70,
    "start_time": "2022-01-31T13:38:28.290Z"
   },
   {
    "duration": 7,
    "start_time": "2022-01-31T13:38:28.363Z"
   },
   {
    "duration": 10,
    "start_time": "2022-01-31T13:38:28.461Z"
   },
   {
    "duration": 136,
    "start_time": "2022-01-31T13:38:28.473Z"
   },
   {
    "duration": 12,
    "start_time": "2022-01-31T13:38:28.611Z"
   },
   {
    "duration": 37,
    "start_time": "2022-01-31T13:38:28.625Z"
   },
   {
    "duration": 197,
    "start_time": "2022-01-31T13:38:28.665Z"
   },
   {
    "duration": 10,
    "start_time": "2022-01-31T13:38:28.864Z"
   },
   {
    "duration": 19,
    "start_time": "2022-01-31T13:38:28.876Z"
   },
   {
    "duration": 289,
    "start_time": "2022-01-31T13:38:28.897Z"
   },
   {
    "duration": 22,
    "start_time": "2022-01-31T13:38:29.188Z"
   },
   {
    "duration": 9,
    "start_time": "2022-01-31T13:38:29.212Z"
   },
   {
    "duration": 18,
    "start_time": "2022-01-31T13:38:29.223Z"
   },
   {
    "duration": 270,
    "start_time": "2022-01-31T13:38:29.259Z"
   },
   {
    "duration": 236,
    "start_time": "2022-01-31T13:38:29.531Z"
   },
   {
    "duration": 10,
    "start_time": "2022-01-31T13:38:29.769Z"
   },
   {
    "duration": 12,
    "start_time": "2022-01-31T13:38:29.781Z"
   },
   {
    "duration": 361,
    "start_time": "2022-01-31T13:38:29.861Z"
   },
   {
    "duration": 63,
    "start_time": "2022-01-31T13:38:30.224Z"
   },
   {
    "duration": -396,
    "start_time": "2022-01-31T13:38:30.685Z"
   },
   {
    "duration": -406,
    "start_time": "2022-01-31T13:38:30.696Z"
   },
   {
    "duration": 11,
    "start_time": "2022-01-31T13:44:27.989Z"
   },
   {
    "duration": 13,
    "start_time": "2022-01-31T13:45:37.276Z"
   },
   {
    "duration": 253,
    "start_time": "2022-01-31T13:45:47.100Z"
   },
   {
    "duration": 253,
    "start_time": "2022-01-31T13:46:27.260Z"
   },
   {
    "duration": 332,
    "start_time": "2022-01-31T13:46:34.890Z"
   },
   {
    "duration": 254,
    "start_time": "2022-01-31T13:46:46.054Z"
   },
   {
    "duration": 276,
    "start_time": "2022-01-31T13:47:20.260Z"
   },
   {
    "duration": 261,
    "start_time": "2022-01-31T13:47:34.770Z"
   },
   {
    "duration": 264,
    "start_time": "2022-01-31T13:47:39.953Z"
   },
   {
    "duration": 442,
    "start_time": "2022-01-31T13:48:09.355Z"
   },
   {
    "duration": 263,
    "start_time": "2022-01-31T13:48:15.333Z"
   },
   {
    "duration": 285,
    "start_time": "2022-01-31T13:48:29.699Z"
   },
   {
    "duration": 448,
    "start_time": "2022-01-31T13:48:38.380Z"
   },
   {
    "duration": 288,
    "start_time": "2022-01-31T13:48:48.673Z"
   },
   {
    "duration": 307,
    "start_time": "2022-01-31T13:49:03.352Z"
   },
   {
    "duration": 369,
    "start_time": "2022-01-31T13:49:15.665Z"
   },
   {
    "duration": 446,
    "start_time": "2022-01-31T13:50:35.424Z"
   },
   {
    "duration": 425,
    "start_time": "2022-01-31T13:50:55.895Z"
   },
   {
    "duration": 429,
    "start_time": "2022-01-31T13:51:03.630Z"
   },
   {
    "duration": 580,
    "start_time": "2022-01-31T13:51:25.779Z"
   },
   {
    "duration": 342,
    "start_time": "2022-01-31T13:51:31.111Z"
   },
   {
    "duration": 542,
    "start_time": "2022-01-31T13:51:50.358Z"
   },
   {
    "duration": 519,
    "start_time": "2022-01-31T13:52:06.702Z"
   },
   {
    "duration": 436,
    "start_time": "2022-01-31T13:52:22.280Z"
   },
   {
    "duration": 414,
    "start_time": "2022-01-31T13:52:33.647Z"
   },
   {
    "duration": 425,
    "start_time": "2022-01-31T13:52:46.479Z"
   },
   {
    "duration": 702,
    "start_time": "2022-01-31T13:53:27.957Z"
   },
   {
    "duration": 654,
    "start_time": "2022-01-31T13:53:42.621Z"
   },
   {
    "duration": 455,
    "start_time": "2022-01-31T13:53:54.475Z"
   },
   {
    "duration": 453,
    "start_time": "2022-01-31T13:54:08.315Z"
   },
   {
    "duration": 269,
    "start_time": "2022-01-31T13:54:19.011Z"
   },
   {
    "duration": 382,
    "start_time": "2022-01-31T13:54:44.731Z"
   },
   {
    "duration": 277,
    "start_time": "2022-01-31T13:54:49.212Z"
   },
   {
    "duration": 306,
    "start_time": "2022-01-31T13:55:42.580Z"
   },
   {
    "duration": 313,
    "start_time": "2022-01-31T13:55:49.558Z"
   },
   {
    "duration": 495,
    "start_time": "2022-01-31T13:55:58.387Z"
   },
   {
    "duration": 474,
    "start_time": "2022-01-31T13:57:46.434Z"
   },
   {
    "duration": 390,
    "start_time": "2022-01-31T13:58:04.810Z"
   },
   {
    "duration": 513,
    "start_time": "2022-01-31T13:59:45.017Z"
   },
   {
    "duration": 463,
    "start_time": "2022-01-31T14:01:09.239Z"
   },
   {
    "duration": 245,
    "start_time": "2022-01-31T14:01:20.167Z"
   },
   {
    "duration": 259,
    "start_time": "2022-01-31T14:01:24.365Z"
   },
   {
    "duration": 250,
    "start_time": "2022-01-31T14:01:34.654Z"
   },
   {
    "duration": 264,
    "start_time": "2022-01-31T14:01:44.761Z"
   },
   {
    "duration": 239,
    "start_time": "2022-01-31T14:02:04.311Z"
   },
   {
    "duration": 294,
    "start_time": "2022-01-31T14:07:01.165Z"
   },
   {
    "duration": 468,
    "start_time": "2022-01-31T14:08:01.802Z"
   },
   {
    "duration": 289,
    "start_time": "2022-01-31T14:08:31.960Z"
   },
   {
    "duration": 5,
    "start_time": "2022-01-31T14:12:17.011Z"
   },
   {
    "duration": 6,
    "start_time": "2022-01-31T14:15:33.609Z"
   },
   {
    "duration": 5,
    "start_time": "2022-01-31T14:15:42.969Z"
   },
   {
    "duration": 1390,
    "start_time": "2022-01-31T22:59:22.363Z"
   },
   {
    "duration": 4,
    "start_time": "2022-01-31T22:59:23.756Z"
   },
   {
    "duration": 35,
    "start_time": "2022-01-31T22:59:24.579Z"
   },
   {
    "duration": 13,
    "start_time": "2022-01-31T22:59:26.091Z"
   },
   {
    "duration": 24,
    "start_time": "2022-01-31T22:59:28.024Z"
   },
   {
    "duration": 10,
    "start_time": "2022-01-31T23:00:08.565Z"
   },
   {
    "duration": 17,
    "start_time": "2022-01-31T23:00:16.429Z"
   },
   {
    "duration": 16,
    "start_time": "2022-01-31T23:00:16.885Z"
   },
   {
    "duration": 20,
    "start_time": "2022-01-31T23:00:20.191Z"
   },
   {
    "duration": 17,
    "start_time": "2022-01-31T23:00:21.642Z"
   },
   {
    "duration": 17,
    "start_time": "2022-01-31T23:00:22.873Z"
   },
   {
    "duration": 16,
    "start_time": "2022-01-31T23:00:24.730Z"
   },
   {
    "duration": 16,
    "start_time": "2022-01-31T23:01:48.153Z"
   },
   {
    "duration": 6,
    "start_time": "2022-01-31T23:01:53.940Z"
   },
   {
    "duration": 6,
    "start_time": "2022-01-31T23:03:14.980Z"
   },
   {
    "duration": 21,
    "start_time": "2022-01-31T23:04:19.141Z"
   },
   {
    "duration": 8,
    "start_time": "2022-01-31T23:04:34.081Z"
   },
   {
    "duration": 8,
    "start_time": "2022-01-31T23:04:35.389Z"
   },
   {
    "duration": 12,
    "start_time": "2022-01-31T23:04:35.890Z"
   },
   {
    "duration": 9,
    "start_time": "2022-01-31T23:04:36.460Z"
   },
   {
    "duration": 24,
    "start_time": "2022-01-31T23:05:08.714Z"
   },
   {
    "duration": 31,
    "start_time": "2022-01-31T23:05:10.947Z"
   },
   {
    "duration": 18,
    "start_time": "2022-01-31T23:05:13.033Z"
   },
   {
    "duration": 18,
    "start_time": "2022-01-31T23:05:40.968Z"
   },
   {
    "duration": 4,
    "start_time": "2022-01-31T23:05:45.533Z"
   },
   {
    "duration": 98,
    "start_time": "2022-01-31T23:05:45.938Z"
   },
   {
    "duration": 14,
    "start_time": "2022-01-31T23:05:46.251Z"
   },
   {
    "duration": 10,
    "start_time": "2022-01-31T23:05:46.415Z"
   },
   {
    "duration": 4,
    "start_time": "2022-01-31T23:05:47.282Z"
   },
   {
    "duration": 4,
    "start_time": "2022-01-31T23:05:47.462Z"
   },
   {
    "duration": 263472,
    "start_time": "2022-01-31T23:05:47.640Z"
   },
   {
    "duration": 12,
    "start_time": "2022-01-31T23:10:11.114Z"
   },
   {
    "duration": 318,
    "start_time": "2022-01-31T23:10:11.129Z"
   },
   {
    "duration": 27,
    "start_time": "2022-01-31T23:10:11.450Z"
   },
   {
    "duration": 8,
    "start_time": "2022-01-31T23:10:11.479Z"
   },
   {
    "duration": 34,
    "start_time": "2022-01-31T23:10:11.490Z"
   },
   {
    "duration": 49,
    "start_time": "2022-01-31T23:10:11.527Z"
   },
   {
    "duration": 5,
    "start_time": "2022-01-31T23:10:11.580Z"
   },
   {
    "duration": 9,
    "start_time": "2022-01-31T23:10:11.588Z"
   },
   {
    "duration": 25,
    "start_time": "2022-01-31T23:10:11.599Z"
   },
   {
    "duration": 7,
    "start_time": "2022-01-31T23:10:11.626Z"
   },
   {
    "duration": 6917,
    "start_time": "2022-01-31T23:10:11.635Z"
   },
   {
    "duration": 4,
    "start_time": "2022-01-31T23:10:18.554Z"
   },
   {
    "duration": 8,
    "start_time": "2022-01-31T23:10:18.560Z"
   },
   {
    "duration": 23,
    "start_time": "2022-01-31T23:10:18.570Z"
   },
   {
    "duration": 30,
    "start_time": "2022-01-31T23:10:18.595Z"
   },
   {
    "duration": 9,
    "start_time": "2022-01-31T23:10:18.627Z"
   },
   {
    "duration": 4,
    "start_time": "2022-01-31T23:10:18.639Z"
   },
   {
    "duration": 32,
    "start_time": "2022-01-31T23:10:18.645Z"
   },
   {
    "duration": 53,
    "start_time": "2022-01-31T23:10:18.679Z"
   },
   {
    "duration": 97,
    "start_time": "2022-01-31T23:10:18.735Z"
   },
   {
    "duration": 2699,
    "start_time": "2022-02-01T21:17:13.899Z"
   },
   {
    "duration": 1616,
    "start_time": "2022-02-01T21:17:16.602Z"
   },
   {
    "duration": 4,
    "start_time": "2022-02-01T21:17:18.221Z"
   },
   {
    "duration": 58,
    "start_time": "2022-02-01T21:17:18.227Z"
   },
   {
    "duration": 13,
    "start_time": "2022-02-01T21:17:18.288Z"
   },
   {
    "duration": 26,
    "start_time": "2022-02-01T21:17:18.304Z"
   },
   {
    "duration": 10,
    "start_time": "2022-02-01T21:17:18.332Z"
   },
   {
    "duration": 15,
    "start_time": "2022-02-01T21:17:18.346Z"
   },
   {
    "duration": 18,
    "start_time": "2022-02-01T21:17:18.365Z"
   },
   {
    "duration": 27,
    "start_time": "2022-02-01T21:17:18.385Z"
   },
   {
    "duration": 35,
    "start_time": "2022-02-01T21:17:18.415Z"
   },
   {
    "duration": 19,
    "start_time": "2022-02-01T21:17:18.456Z"
   },
   {
    "duration": 17,
    "start_time": "2022-02-01T21:17:18.477Z"
   },
   {
    "duration": 5,
    "start_time": "2022-02-01T21:17:18.496Z"
   },
   {
    "duration": 15,
    "start_time": "2022-02-01T21:17:18.504Z"
   },
   {
    "duration": 6,
    "start_time": "2022-02-01T21:17:18.522Z"
   },
   {
    "duration": 37,
    "start_time": "2022-02-01T21:17:18.531Z"
   },
   {
    "duration": 19,
    "start_time": "2022-02-01T21:17:18.571Z"
   },
   {
    "duration": 73,
    "start_time": "2022-02-01T21:17:18.592Z"
   },
   {
    "duration": 8,
    "start_time": "2022-02-01T21:17:18.667Z"
   },
   {
    "duration": 19,
    "start_time": "2022-02-01T21:17:18.677Z"
   },
   {
    "duration": 51,
    "start_time": "2022-02-01T21:17:18.699Z"
   },
   {
    "duration": 30,
    "start_time": "2022-02-01T21:17:18.755Z"
   },
   {
    "duration": 31,
    "start_time": "2022-02-01T21:17:18.788Z"
   },
   {
    "duration": 36,
    "start_time": "2022-02-01T21:17:18.822Z"
   },
   {
    "duration": 5,
    "start_time": "2022-02-01T21:17:18.861Z"
   },
   {
    "duration": 210,
    "start_time": "2022-02-01T21:17:18.868Z"
   },
   {
    "duration": 13,
    "start_time": "2022-02-01T21:17:19.080Z"
   },
   {
    "duration": 11,
    "start_time": "2022-02-01T21:17:19.149Z"
   },
   {
    "duration": 5,
    "start_time": "2022-02-01T21:17:19.163Z"
   },
   {
    "duration": 1227,
    "start_time": "2022-02-01T21:17:19.171Z"
   },
   {
    "duration": 1119,
    "start_time": "2022-02-01T21:17:20.401Z"
   },
   {
    "duration": 1160,
    "start_time": "2022-02-01T21:17:40.238Z"
   },
   {
    "duration": 6657,
    "start_time": "2022-02-01T21:17:51.542Z"
   },
   {
    "duration": 738,
    "start_time": "2022-02-01T21:17:58.202Z"
   },
   {
    "duration": 677,
    "start_time": "2022-02-01T21:18:26.249Z"
   },
   {
    "duration": 2417,
    "start_time": "2022-02-01T21:19:46.775Z"
   },
   {
    "duration": 1408,
    "start_time": "2022-02-01T21:19:49.195Z"
   },
   {
    "duration": 3,
    "start_time": "2022-02-01T21:19:50.607Z"
   },
   {
    "duration": 43,
    "start_time": "2022-02-01T21:19:50.612Z"
   },
   {
    "duration": 12,
    "start_time": "2022-02-01T21:19:50.658Z"
   },
   {
    "duration": 23,
    "start_time": "2022-02-01T21:19:50.673Z"
   },
   {
    "duration": 49,
    "start_time": "2022-02-01T21:19:50.699Z"
   },
   {
    "duration": 16,
    "start_time": "2022-02-01T21:19:50.752Z"
   },
   {
    "duration": 16,
    "start_time": "2022-02-01T21:19:50.771Z"
   },
   {
    "duration": 60,
    "start_time": "2022-02-01T21:19:50.790Z"
   },
   {
    "duration": 17,
    "start_time": "2022-02-01T21:19:50.853Z"
   },
   {
    "duration": 16,
    "start_time": "2022-02-01T21:19:50.872Z"
   },
   {
    "duration": 15,
    "start_time": "2022-02-01T21:19:50.890Z"
   },
   {
    "duration": 6,
    "start_time": "2022-02-01T21:19:50.948Z"
   },
   {
    "duration": 21,
    "start_time": "2022-02-01T21:19:50.956Z"
   },
   {
    "duration": 11,
    "start_time": "2022-02-01T21:19:50.979Z"
   },
   {
    "duration": 31,
    "start_time": "2022-02-01T21:19:50.992Z"
   },
   {
    "duration": 19,
    "start_time": "2022-02-01T21:19:51.049Z"
   },
   {
    "duration": 7,
    "start_time": "2022-02-01T21:19:51.070Z"
   },
   {
    "duration": 13,
    "start_time": "2022-02-01T21:19:51.080Z"
   },
   {
    "duration": 9,
    "start_time": "2022-02-01T21:19:51.096Z"
   },
   {
    "duration": 42,
    "start_time": "2022-02-01T21:19:51.108Z"
   },
   {
    "duration": 25,
    "start_time": "2022-02-01T21:19:51.157Z"
   },
   {
    "duration": 32,
    "start_time": "2022-02-01T21:19:51.186Z"
   },
   {
    "duration": 44,
    "start_time": "2022-02-01T21:19:51.221Z"
   },
   {
    "duration": 5,
    "start_time": "2022-02-01T21:19:51.268Z"
   },
   {
    "duration": 120,
    "start_time": "2022-02-01T21:19:51.276Z"
   },
   {
    "duration": 12,
    "start_time": "2022-02-01T21:19:51.398Z"
   },
   {
    "duration": 11,
    "start_time": "2022-02-01T21:19:51.413Z"
   },
   {
    "duration": 24,
    "start_time": "2022-02-01T21:19:51.426Z"
   },
   {
    "duration": 6563,
    "start_time": "2022-02-01T21:19:51.453Z"
   },
   {
    "duration": 960,
    "start_time": "2022-02-01T21:19:58.019Z"
   },
   {
    "duration": -125,
    "start_time": "2022-02-01T21:19:59.108Z"
   },
   {
    "duration": -135,
    "start_time": "2022-02-01T21:19:59.119Z"
   },
   {
    "duration": -140,
    "start_time": "2022-02-01T21:19:59.126Z"
   },
   {
    "duration": -150,
    "start_time": "2022-02-01T21:19:59.138Z"
   },
   {
    "duration": -157,
    "start_time": "2022-02-01T21:19:59.146Z"
   },
   {
    "duration": -167,
    "start_time": "2022-02-01T21:19:59.157Z"
   },
   {
    "duration": -176,
    "start_time": "2022-02-01T21:19:59.170Z"
   },
   {
    "duration": -184,
    "start_time": "2022-02-01T21:19:59.179Z"
   },
   {
    "duration": -193,
    "start_time": "2022-02-01T21:19:59.190Z"
   },
   {
    "duration": -205,
    "start_time": "2022-02-01T21:19:59.203Z"
   },
   {
    "duration": -211,
    "start_time": "2022-02-01T21:19:59.211Z"
   },
   {
    "duration": -223,
    "start_time": "2022-02-01T21:19:59.224Z"
   },
   {
    "duration": -233,
    "start_time": "2022-02-01T21:19:59.236Z"
   },
   {
    "duration": -300,
    "start_time": "2022-02-01T21:19:59.304Z"
   },
   {
    "duration": -308,
    "start_time": "2022-02-01T21:19:59.313Z"
   },
   {
    "duration": -319,
    "start_time": "2022-02-01T21:19:59.326Z"
   },
   {
    "duration": -329,
    "start_time": "2022-02-01T21:19:59.337Z"
   },
   {
    "duration": -336,
    "start_time": "2022-02-01T21:19:59.346Z"
   },
   {
    "duration": -347,
    "start_time": "2022-02-01T21:19:59.358Z"
   },
   {
    "duration": -358,
    "start_time": "2022-02-01T21:19:59.370Z"
   },
   {
    "duration": -365,
    "start_time": "2022-02-01T21:19:59.379Z"
   },
   {
    "duration": -376,
    "start_time": "2022-02-01T21:19:59.391Z"
   },
   {
    "duration": -386,
    "start_time": "2022-02-01T21:19:59.403Z"
   },
   {
    "duration": -363,
    "start_time": "2022-02-01T21:19:59.411Z"
   },
   {
    "duration": -373,
    "start_time": "2022-02-01T21:19:59.422Z"
   },
   {
    "duration": -385,
    "start_time": "2022-02-01T21:19:59.436Z"
   },
   {
    "duration": -391,
    "start_time": "2022-02-01T21:19:59.443Z"
   },
   {
    "duration": -401,
    "start_time": "2022-02-01T21:19:59.455Z"
   },
   {
    "duration": -408,
    "start_time": "2022-02-01T21:19:59.464Z"
   },
   {
    "duration": -419,
    "start_time": "2022-02-01T21:19:59.476Z"
   },
   {
    "duration": -429,
    "start_time": "2022-02-01T21:19:59.488Z"
   },
   {
    "duration": -437,
    "start_time": "2022-02-01T21:19:59.497Z"
   },
   {
    "duration": -447,
    "start_time": "2022-02-01T21:19:59.509Z"
   },
   {
    "duration": -458,
    "start_time": "2022-02-01T21:19:59.522Z"
   },
   {
    "duration": -465,
    "start_time": "2022-02-01T21:19:59.530Z"
   },
   {
    "duration": -475,
    "start_time": "2022-02-01T21:19:59.542Z"
   },
   {
    "duration": -486,
    "start_time": "2022-02-01T21:19:59.554Z"
   },
   {
    "duration": -493,
    "start_time": "2022-02-01T21:19:59.562Z"
   },
   {
    "duration": -503,
    "start_time": "2022-02-01T21:19:59.574Z"
   },
   {
    "duration": -515,
    "start_time": "2022-02-01T21:19:59.587Z"
   },
   {
    "duration": -520,
    "start_time": "2022-02-01T21:19:59.594Z"
   },
   {
    "duration": -531,
    "start_time": "2022-02-01T21:19:59.606Z"
   },
   {
    "duration": -542,
    "start_time": "2022-02-01T21:19:59.618Z"
   },
   {
    "duration": -547,
    "start_time": "2022-02-01T21:19:59.625Z"
   },
   {
    "duration": -558,
    "start_time": "2022-02-01T21:19:59.637Z"
   },
   {
    "duration": -565,
    "start_time": "2022-02-01T21:19:59.645Z"
   },
   {
    "duration": -574,
    "start_time": "2022-02-01T21:19:59.656Z"
   },
   {
    "duration": -585,
    "start_time": "2022-02-01T21:19:59.668Z"
   },
   {
    "duration": -592,
    "start_time": "2022-02-01T21:19:59.676Z"
   },
   {
    "duration": -537,
    "start_time": "2022-02-01T21:19:59.688Z"
   },
   {
    "duration": -543,
    "start_time": "2022-02-01T21:19:59.696Z"
   },
   {
    "duration": -555,
    "start_time": "2022-02-01T21:19:59.710Z"
   },
   {
    "duration": -565,
    "start_time": "2022-02-01T21:19:59.722Z"
   },
   {
    "duration": 5,
    "start_time": "2022-02-01T21:20:19.165Z"
   },
   {
    "duration": 6558,
    "start_time": "2022-02-01T21:20:19.497Z"
   },
   {
    "duration": 750,
    "start_time": "2022-02-01T21:20:26.058Z"
   },
   {
    "duration": 293,
    "start_time": "2022-02-01T21:20:26.833Z"
   },
   {
    "duration": 283,
    "start_time": "2022-02-01T21:22:28.598Z"
   },
   {
    "duration": 5,
    "start_time": "2022-02-01T21:22:33.969Z"
   },
   {
    "duration": 23753,
    "start_time": "2022-02-01T21:22:35.186Z"
   },
   {
    "duration": -209,
    "start_time": "2022-02-01T21:22:59.152Z"
   },
   {
    "duration": 2445554,
    "start_time": "2022-02-01T21:23:09.811Z"
   },
   {
    "duration": 6503,
    "start_time": "2022-02-02T05:10:27.996Z"
   },
   {
    "duration": 6346,
    "start_time": "2022-02-02T05:10:43.958Z"
   },
   {
    "duration": 679,
    "start_time": "2022-02-02T05:11:09.732Z"
   },
   {
    "duration": 2357,
    "start_time": "2022-02-02T05:12:15.819Z"
   },
   {
    "duration": 2356,
    "start_time": "2022-02-02T05:12:30.567Z"
   },
   {
    "duration": 3590,
    "start_time": "2022-02-02T05:12:45.787Z"
   },
   {
    "duration": 4533,
    "start_time": "2022-02-02T05:12:55.221Z"
   },
   {
    "duration": 2379,
    "start_time": "2022-02-02T05:13:04.917Z"
   },
   {
    "duration": 2421,
    "start_time": "2022-02-02T05:13:16.193Z"
   },
   {
    "duration": 2353,
    "start_time": "2022-02-02T05:13:26.206Z"
   },
   {
    "duration": 2366,
    "start_time": "2022-02-02T05:13:31.794Z"
   },
   {
    "duration": 2323,
    "start_time": "2022-02-02T05:13:34.911Z"
   },
   {
    "duration": 2337,
    "start_time": "2022-02-02T05:13:37.832Z"
   },
   {
    "duration": 2301,
    "start_time": "2022-02-02T05:13:40.767Z"
   },
   {
    "duration": 2346,
    "start_time": "2022-02-02T05:13:43.602Z"
   },
   {
    "duration": 2320,
    "start_time": "2022-02-02T05:13:50.659Z"
   },
   {
    "duration": 2337,
    "start_time": "2022-02-02T05:13:56.436Z"
   },
   {
    "duration": 2354,
    "start_time": "2022-02-02T05:13:59.721Z"
   },
   {
    "duration": 2780,
    "start_time": "2022-02-02T05:14:20.351Z"
   },
   {
    "duration": 2819,
    "start_time": "2022-02-02T05:14:30.292Z"
   },
   {
    "duration": 2780,
    "start_time": "2022-02-02T05:14:34.626Z"
   },
   {
    "duration": 6130,
    "start_time": "2022-02-02T05:15:22.709Z"
   },
   {
    "duration": 2264633,
    "start_time": "2022-02-02T05:15:28.849Z"
   },
   {
    "duration": 6462,
    "start_time": "2022-02-02T06:01:10.980Z"
   },
   {
    "duration": 2804,
    "start_time": "2022-02-03T03:17:09.022Z"
   },
   {
    "duration": 1411,
    "start_time": "2022-02-03T03:17:11.829Z"
   },
   {
    "duration": 4,
    "start_time": "2022-02-03T03:17:13.244Z"
   },
   {
    "duration": 34,
    "start_time": "2022-02-03T03:17:13.251Z"
   },
   {
    "duration": 11,
    "start_time": "2022-02-03T03:17:13.288Z"
   },
   {
    "duration": 40,
    "start_time": "2022-02-03T03:17:13.301Z"
   },
   {
    "duration": 15,
    "start_time": "2022-02-03T03:17:13.343Z"
   },
   {
    "duration": 14,
    "start_time": "2022-02-03T03:17:13.362Z"
   },
   {
    "duration": 50,
    "start_time": "2022-02-03T03:17:13.379Z"
   },
   {
    "duration": 19,
    "start_time": "2022-02-03T03:17:13.432Z"
   },
   {
    "duration": 15,
    "start_time": "2022-02-03T03:17:13.454Z"
   },
   {
    "duration": 15,
    "start_time": "2022-02-03T03:17:13.471Z"
   },
   {
    "duration": 47,
    "start_time": "2022-02-03T03:17:13.488Z"
   },
   {
    "duration": 5,
    "start_time": "2022-02-03T03:17:13.538Z"
   },
   {
    "duration": 13,
    "start_time": "2022-02-03T03:17:13.545Z"
   },
   {
    "duration": 5,
    "start_time": "2022-02-03T03:17:13.560Z"
   },
   {
    "duration": 66,
    "start_time": "2022-02-03T03:17:13.568Z"
   },
   {
    "duration": 20,
    "start_time": "2022-02-03T03:17:13.636Z"
   },
   {
    "duration": 7,
    "start_time": "2022-02-03T03:17:13.658Z"
   },
   {
    "duration": 8,
    "start_time": "2022-02-03T03:17:13.667Z"
   },
   {
    "duration": 8,
    "start_time": "2022-02-03T03:17:13.677Z"
   },
   {
    "duration": 39,
    "start_time": "2022-02-03T03:17:13.687Z"
   },
   {
    "duration": 24,
    "start_time": "2022-02-03T03:17:13.730Z"
   },
   {
    "duration": 31,
    "start_time": "2022-02-03T03:17:13.757Z"
   },
   {
    "duration": 47,
    "start_time": "2022-02-03T03:17:13.790Z"
   },
   {
    "duration": 4,
    "start_time": "2022-02-03T03:17:13.840Z"
   },
   {
    "duration": 115,
    "start_time": "2022-02-03T03:17:13.846Z"
   },
   {
    "duration": 13,
    "start_time": "2022-02-03T03:17:13.964Z"
   },
   {
    "duration": 8,
    "start_time": "2022-02-03T03:17:13.979Z"
   },
   {
    "duration": 34,
    "start_time": "2022-02-03T03:17:13.989Z"
   },
   {
    "duration": 6121,
    "start_time": "2022-02-03T03:17:14.025Z"
   },
   {
    "duration": 6003,
    "start_time": "2022-02-03T03:17:49.899Z"
   },
   {
    "duration": 815,
    "start_time": "2022-02-03T03:17:55.905Z"
   },
   {
    "duration": 324,
    "start_time": "2022-02-03T03:18:09.218Z"
   },
   {
    "duration": 1990,
    "start_time": "2022-02-03T03:18:29.874Z"
   },
   {
    "duration": 1377,
    "start_time": "2022-02-03T03:18:31.868Z"
   },
   {
    "duration": 4,
    "start_time": "2022-02-03T03:18:33.248Z"
   },
   {
    "duration": 38,
    "start_time": "2022-02-03T03:18:33.254Z"
   },
   {
    "duration": 11,
    "start_time": "2022-02-03T03:18:33.294Z"
   },
   {
    "duration": 29,
    "start_time": "2022-02-03T03:18:33.324Z"
   },
   {
    "duration": 10,
    "start_time": "2022-02-03T03:18:33.355Z"
   },
   {
    "duration": 16,
    "start_time": "2022-02-03T03:18:33.368Z"
   },
   {
    "duration": 51,
    "start_time": "2022-02-03T03:18:33.388Z"
   },
   {
    "duration": 23,
    "start_time": "2022-02-03T03:18:33.442Z"
   },
   {
    "duration": 58,
    "start_time": "2022-02-03T03:18:33.468Z"
   },
   {
    "duration": 18,
    "start_time": "2022-02-03T03:18:33.529Z"
   },
   {
    "duration": 18,
    "start_time": "2022-02-03T03:18:33.550Z"
   },
   {
    "duration": 6,
    "start_time": "2022-02-03T03:18:33.570Z"
   },
   {
    "duration": 16,
    "start_time": "2022-02-03T03:18:33.623Z"
   },
   {
    "duration": 5,
    "start_time": "2022-02-03T03:18:33.642Z"
   },
   {
    "duration": 26,
    "start_time": "2022-02-03T03:18:33.650Z"
   },
   {
    "duration": 63,
    "start_time": "2022-02-03T03:18:33.679Z"
   },
   {
    "duration": 8,
    "start_time": "2022-02-03T03:18:33.744Z"
   },
   {
    "duration": 10,
    "start_time": "2022-02-03T03:18:33.755Z"
   },
   {
    "duration": 9,
    "start_time": "2022-02-03T03:18:33.767Z"
   },
   {
    "duration": 47,
    "start_time": "2022-02-03T03:18:33.779Z"
   },
   {
    "duration": 23,
    "start_time": "2022-02-03T03:18:33.833Z"
   },
   {
    "duration": 30,
    "start_time": "2022-02-03T03:18:33.860Z"
   },
   {
    "duration": 46,
    "start_time": "2022-02-03T03:18:33.892Z"
   },
   {
    "duration": 8,
    "start_time": "2022-02-03T03:18:33.940Z"
   },
   {
    "duration": 115,
    "start_time": "2022-02-03T03:18:33.950Z"
   },
   {
    "duration": 11,
    "start_time": "2022-02-03T03:18:34.068Z"
   },
   {
    "duration": 7,
    "start_time": "2022-02-03T03:18:34.082Z"
   },
   {
    "duration": 32,
    "start_time": "2022-02-03T03:18:34.091Z"
   },
   {
    "duration": 6251,
    "start_time": "2022-02-03T03:18:34.125Z"
   },
   {
    "duration": 419,
    "start_time": "2022-02-03T03:18:40.378Z"
   },
   {
    "duration": -45,
    "start_time": "2022-02-03T03:18:40.845Z"
   },
   {
    "duration": -61,
    "start_time": "2022-02-03T03:18:40.862Z"
   },
   {
    "duration": -71,
    "start_time": "2022-02-03T03:18:40.874Z"
   },
   {
    "duration": -88,
    "start_time": "2022-02-03T03:18:40.892Z"
   },
   {
    "duration": -116,
    "start_time": "2022-02-03T03:18:40.921Z"
   },
   {
    "duration": -132,
    "start_time": "2022-02-03T03:18:40.939Z"
   },
   {
    "duration": -150,
    "start_time": "2022-02-03T03:18:40.958Z"
   },
   {
    "duration": -166,
    "start_time": "2022-02-03T03:18:40.975Z"
   },
   {
    "duration": -180,
    "start_time": "2022-02-03T03:18:40.991Z"
   },
   {
    "duration": -197,
    "start_time": "2022-02-03T03:18:41.009Z"
   },
   {
    "duration": -212,
    "start_time": "2022-02-03T03:18:41.025Z"
   },
   {
    "duration": -226,
    "start_time": "2022-02-03T03:18:41.041Z"
   },
   {
    "duration": -240,
    "start_time": "2022-02-03T03:18:41.057Z"
   },
   {
    "duration": -254,
    "start_time": "2022-02-03T03:18:41.073Z"
   },
   {
    "duration": -267,
    "start_time": "2022-02-03T03:18:41.087Z"
   },
   {
    "duration": -282,
    "start_time": "2022-02-03T03:18:41.103Z"
   },
   {
    "duration": -295,
    "start_time": "2022-02-03T03:18:41.117Z"
   },
   {
    "duration": -309,
    "start_time": "2022-02-03T03:18:41.133Z"
   },
   {
    "duration": -316,
    "start_time": "2022-02-03T03:18:41.141Z"
   },
   {
    "duration": -330,
    "start_time": "2022-02-03T03:18:41.156Z"
   },
   {
    "duration": -345,
    "start_time": "2022-02-03T03:18:41.172Z"
   },
   {
    "duration": -358,
    "start_time": "2022-02-03T03:18:41.186Z"
   },
   {
    "duration": -371,
    "start_time": "2022-02-03T03:18:41.201Z"
   },
   {
    "duration": -379,
    "start_time": "2022-02-03T03:18:41.210Z"
   },
   {
    "duration": -391,
    "start_time": "2022-02-03T03:18:41.224Z"
   },
   {
    "duration": -405,
    "start_time": "2022-02-03T03:18:41.239Z"
   },
   {
    "duration": -417,
    "start_time": "2022-02-03T03:18:41.252Z"
   },
   {
    "duration": -429,
    "start_time": "2022-02-03T03:18:41.266Z"
   },
   {
    "duration": -437,
    "start_time": "2022-02-03T03:18:41.275Z"
   },
   {
    "duration": -498,
    "start_time": "2022-02-03T03:18:41.337Z"
   },
   {
    "duration": -509,
    "start_time": "2022-02-03T03:18:41.350Z"
   },
   {
    "duration": -514,
    "start_time": "2022-02-03T03:18:41.356Z"
   },
   {
    "duration": -525,
    "start_time": "2022-02-03T03:18:41.369Z"
   },
   {
    "duration": -539,
    "start_time": "2022-02-03T03:18:41.384Z"
   },
   {
    "duration": -546,
    "start_time": "2022-02-03T03:18:41.392Z"
   },
   {
    "duration": -559,
    "start_time": "2022-02-03T03:18:41.406Z"
   },
   {
    "duration": -571,
    "start_time": "2022-02-03T03:18:41.420Z"
   },
   {
    "duration": -583,
    "start_time": "2022-02-03T03:18:41.433Z"
   },
   {
    "duration": -591,
    "start_time": "2022-02-03T03:18:41.442Z"
   },
   {
    "duration": -603,
    "start_time": "2022-02-03T03:18:41.455Z"
   },
   {
    "duration": -618,
    "start_time": "2022-02-03T03:18:41.471Z"
   },
   {
    "duration": -630,
    "start_time": "2022-02-03T03:18:41.485Z"
   },
   {
    "duration": -644,
    "start_time": "2022-02-03T03:18:41.500Z"
   },
   {
    "duration": -651,
    "start_time": "2022-02-03T03:18:41.509Z"
   },
   {
    "duration": -667,
    "start_time": "2022-02-03T03:18:41.526Z"
   },
   {
    "duration": -682,
    "start_time": "2022-02-03T03:18:41.543Z"
   },
   {
    "duration": -699,
    "start_time": "2022-02-03T03:18:41.561Z"
   },
   {
    "duration": -715,
    "start_time": "2022-02-03T03:18:41.579Z"
   },
   {
    "duration": -667,
    "start_time": "2022-02-03T03:18:41.590Z"
   },
   {
    "duration": -682,
    "start_time": "2022-02-03T03:18:41.607Z"
   },
   {
    "duration": -699,
    "start_time": "2022-02-03T03:18:41.625Z"
   },
   {
    "duration": -716,
    "start_time": "2022-02-03T03:18:41.643Z"
   },
   {
    "duration": -731,
    "start_time": "2022-02-03T03:18:41.660Z"
   },
   {
    "duration": 3,
    "start_time": "2022-02-03T03:19:07.199Z"
   },
   {
    "duration": 260021,
    "start_time": "2022-02-03T03:19:07.471Z"
   },
   {
    "duration": 2082839,
    "start_time": "2022-02-03T03:24:14.797Z"
   },
   {
    "duration": 6185,
    "start_time": "2022-02-03T03:58:57.639Z"
   },
   {
    "duration": 16,
    "start_time": "2022-02-03T03:59:03.828Z"
   },
   {
    "duration": 5,
    "start_time": "2022-02-03T03:59:03.848Z"
   },
   {
    "duration": -75,
    "start_time": "2022-02-03T03:59:04.320Z"
   },
   {
    "duration": -91,
    "start_time": "2022-02-03T03:59:04.338Z"
   },
   {
    "duration": -100,
    "start_time": "2022-02-03T03:59:04.349Z"
   },
   {
    "duration": -106,
    "start_time": "2022-02-03T03:59:04.357Z"
   },
   {
    "duration": -110,
    "start_time": "2022-02-03T03:59:04.363Z"
   },
   {
    "duration": -113,
    "start_time": "2022-02-03T03:59:04.369Z"
   },
   {
    "duration": -118,
    "start_time": "2022-02-03T03:59:04.376Z"
   },
   {
    "duration": -122,
    "start_time": "2022-02-03T03:59:04.382Z"
   },
   {
    "duration": -123,
    "start_time": "2022-02-03T03:59:04.386Z"
   },
   {
    "duration": -127,
    "start_time": "2022-02-03T03:59:04.392Z"
   },
   {
    "duration": -131,
    "start_time": "2022-02-03T03:59:04.398Z"
   },
   {
    "duration": -135,
    "start_time": "2022-02-03T03:59:04.404Z"
   },
   {
    "duration": -138,
    "start_time": "2022-02-03T03:59:04.409Z"
   },
   {
    "duration": -142,
    "start_time": "2022-02-03T03:59:04.415Z"
   },
   {
    "duration": -145,
    "start_time": "2022-02-03T03:59:04.421Z"
   },
   {
    "duration": -148,
    "start_time": "2022-02-03T03:59:04.426Z"
   },
   {
    "duration": -151,
    "start_time": "2022-02-03T03:59:04.431Z"
   },
   {
    "duration": -154,
    "start_time": "2022-02-03T03:59:04.436Z"
   },
   {
    "duration": -159,
    "start_time": "2022-02-03T03:59:04.442Z"
   },
   {
    "duration": -124,
    "start_time": "2022-02-03T03:59:04.447Z"
   },
   {
    "duration": -126,
    "start_time": "2022-02-03T03:59:04.452Z"
   },
   {
    "duration": 10,
    "start_time": "2022-02-03T04:20:37.556Z"
   },
   {
    "duration": 9,
    "start_time": "2022-02-03T04:20:38.766Z"
   },
   {
    "duration": 5,
    "start_time": "2022-02-03T04:20:48.571Z"
   },
   {
    "duration": 5,
    "start_time": "2022-02-03T04:30:21.361Z"
   },
   {
    "duration": 10,
    "start_time": "2022-02-03T04:30:22.530Z"
   },
   {
    "duration": 8,
    "start_time": "2022-02-03T04:30:23.313Z"
   },
   {
    "duration": 5,
    "start_time": "2022-02-03T04:30:24.827Z"
   },
   {
    "duration": 8,
    "start_time": "2022-02-03T04:31:33.595Z"
   },
   {
    "duration": 8,
    "start_time": "2022-02-03T04:31:34.184Z"
   },
   {
    "duration": 6,
    "start_time": "2022-02-03T04:31:34.752Z"
   },
   {
    "duration": 24,
    "start_time": "2022-02-03T04:32:02.008Z"
   },
   {
    "duration": 9,
    "start_time": "2022-02-03T04:33:43.204Z"
   },
   {
    "duration": 8,
    "start_time": "2022-02-03T04:33:43.549Z"
   },
   {
    "duration": 6,
    "start_time": "2022-02-03T04:33:44.981Z"
   },
   {
    "duration": 24,
    "start_time": "2022-02-03T04:33:58.418Z"
   },
   {
    "duration": 9,
    "start_time": "2022-02-03T04:35:33.052Z"
   },
   {
    "duration": 28,
    "start_time": "2022-02-03T04:35:33.302Z"
   },
   {
    "duration": 8,
    "start_time": "2022-02-03T04:35:34.503Z"
   },
   {
    "duration": 6,
    "start_time": "2022-02-03T04:35:35.292Z"
   },
   {
    "duration": 8,
    "start_time": "2022-02-03T04:37:22.504Z"
   },
   {
    "duration": 27,
    "start_time": "2022-02-03T04:37:28.053Z"
   },
   {
    "duration": 289,
    "start_time": "2022-02-03T04:45:01.073Z"
   },
   {
    "duration": 357,
    "start_time": "2022-02-03T04:45:48.215Z"
   },
   {
    "duration": 92,
    "start_time": "2022-02-03T04:45:55.351Z"
   },
   {
    "duration": 8,
    "start_time": "2022-02-03T04:46:06.802Z"
   },
   {
    "duration": 425,
    "start_time": "2022-02-03T04:46:07.633Z"
   },
   {
    "duration": 434,
    "start_time": "2022-02-03T04:47:10.316Z"
   },
   {
    "duration": 454,
    "start_time": "2022-02-03T04:47:42.306Z"
   },
   {
    "duration": 511,
    "start_time": "2022-02-03T04:48:21.574Z"
   },
   {
    "duration": 4,
    "start_time": "2022-02-03T04:48:37.726Z"
   },
   {
    "duration": 365,
    "start_time": "2022-02-03T04:48:37.940Z"
   },
   {
    "duration": 34,
    "start_time": "2022-02-03T04:48:38.308Z"
   },
   {
    "duration": 9,
    "start_time": "2022-02-03T04:48:38.424Z"
   },
   {
    "duration": 633,
    "start_time": "2022-02-03T04:48:39.145Z"
   },
   {
    "duration": -50,
    "start_time": "2022-02-03T04:48:39.830Z"
   },
   {
    "duration": -60,
    "start_time": "2022-02-03T04:48:39.842Z"
   },
   {
    "duration": -66,
    "start_time": "2022-02-03T04:48:39.849Z"
   },
   {
    "duration": 4,
    "start_time": "2022-02-03T04:48:40.244Z"
   },
   {
    "duration": 3,
    "start_time": "2022-02-03T04:48:47.874Z"
   },
   {
    "duration": 717,
    "start_time": "2022-02-03T04:48:48.080Z"
   },
   {
    "duration": -75,
    "start_time": "2022-02-03T04:48:48.874Z"
   },
   {
    "duration": -80,
    "start_time": "2022-02-03T04:48:48.881Z"
   },
   {
    "duration": 503,
    "start_time": "2022-02-03T04:48:48.814Z"
   },
   {
    "duration": -127,
    "start_time": "2022-02-03T04:48:49.446Z"
   },
   {
    "duration": -138,
    "start_time": "2022-02-03T04:48:49.459Z"
   },
   {
    "duration": 626,
    "start_time": "2022-02-03T04:48:49.368Z"
   },
   {
    "duration": -61,
    "start_time": "2022-02-03T04:48:50.058Z"
   },
   {
    "duration": 520,
    "start_time": "2022-02-03T04:48:50.100Z"
   },
   {
    "duration": -142,
    "start_time": "2022-02-03T04:48:50.765Z"
   },
   {
    "duration": -154,
    "start_time": "2022-02-03T04:48:50.778Z"
   },
   {
    "duration": 607,
    "start_time": "2022-02-03T04:48:58.433Z"
   },
   {
    "duration": 5,
    "start_time": "2022-02-03T04:49:25.166Z"
   },
   {
    "duration": 2567,
    "start_time": "2022-02-03T04:49:29.029Z"
   },
   {
    "duration": 30,
    "start_time": "2022-02-03T04:49:31.599Z"
   },
   {
    "duration": 4,
    "start_time": "2022-02-03T04:49:31.632Z"
   },
   {
    "duration": 5,
    "start_time": "2022-02-03T04:49:34.494Z"
   },
   {
    "duration": 42,
    "start_time": "2022-02-03T04:49:34.784Z"
   },
   {
    "duration": 9,
    "start_time": "2022-02-03T04:49:35.650Z"
   },
   {
    "duration": 4,
    "start_time": "2022-02-03T04:49:35.949Z"
   },
   {
    "duration": 5,
    "start_time": "2022-02-03T04:49:36.959Z"
   },
   {
    "duration": 4,
    "start_time": "2022-02-03T04:49:37.348Z"
   },
   {
    "duration": 7460,
    "start_time": "2022-02-03T04:49:37.932Z"
   },
   {
    "duration": 5,
    "start_time": "2022-02-03T04:49:45.395Z"
   },
   {
    "duration": 2162,
    "start_time": "2022-02-03T04:49:45.404Z"
   },
   {
    "duration": 651,
    "start_time": "2022-02-03T04:49:47.569Z"
   },
   {
    "duration": 533,
    "start_time": "2022-02-03T04:49:48.223Z"
   },
   {
    "duration": 1065,
    "start_time": "2022-02-03T04:49:48.759Z"
   },
   {
    "duration": 968,
    "start_time": "2022-02-03T04:49:49.826Z"
   },
   {
    "duration": 460,
    "start_time": "2022-02-03T04:49:50.798Z"
   },
   {
    "duration": 69,
    "start_time": "2022-02-03T04:49:51.262Z"
   },
   {
    "duration": 98,
    "start_time": "2022-02-03T04:49:51.333Z"
   },
   {
    "duration": 12,
    "start_time": "2022-02-03T04:49:51.434Z"
   },
   {
    "duration": 12,
    "start_time": "2022-02-03T04:49:51.448Z"
   },
   {
    "duration": 326,
    "start_time": "2022-02-03T04:49:51.463Z"
   },
   {
    "duration": 39,
    "start_time": "2022-02-03T04:49:51.792Z"
   },
   {
    "duration": 9,
    "start_time": "2022-02-03T04:49:51.834Z"
   },
   {
    "duration": 4,
    "start_time": "2022-02-03T04:49:51.845Z"
   },
   {
    "duration": 27,
    "start_time": "2022-02-03T04:49:51.851Z"
   },
   {
    "duration": 5,
    "start_time": "2022-02-03T04:49:51.881Z"
   },
   {
    "duration": 39,
    "start_time": "2022-02-03T04:49:51.889Z"
   },
   {
    "duration": 3,
    "start_time": "2022-02-03T04:49:51.931Z"
   },
   {
    "duration": 59,
    "start_time": "2022-02-03T04:49:51.936Z"
   },
   {
    "duration": 13,
    "start_time": "2022-02-03T04:49:52.023Z"
   },
   {
    "duration": 97,
    "start_time": "2022-02-03T04:49:52.134Z"
   },
   {
    "duration": 5,
    "start_time": "2022-02-03T04:49:52.234Z"
   },
   {
    "duration": 28,
    "start_time": "2022-02-03T04:49:52.241Z"
   },
   {
    "duration": 739,
    "start_time": "2022-02-03T04:49:53.189Z"
   },
   {
    "duration": 45,
    "start_time": "2022-02-03T04:49:53.930Z"
   },
   {
    "duration": 136,
    "start_time": "2022-02-03T04:49:54.497Z"
   },
   {
    "duration": 7,
    "start_time": "2022-02-03T04:49:55.317Z"
   },
   {
    "duration": 15,
    "start_time": "2022-02-03T04:49:55.510Z"
   },
   {
    "duration": 163,
    "start_time": "2022-02-03T04:49:56.144Z"
   },
   {
    "duration": 17,
    "start_time": "2022-02-03T04:49:56.750Z"
   },
   {
    "duration": 31,
    "start_time": "2022-02-03T04:49:57.388Z"
   },
   {
    "duration": 87,
    "start_time": "2022-02-03T04:49:58.850Z"
   },
   {
    "duration": 13,
    "start_time": "2022-02-03T04:49:59.897Z"
   },
   {
    "duration": 28,
    "start_time": "2022-02-03T04:50:00.354Z"
   },
   {
    "duration": 31,
    "start_time": "2022-02-03T04:50:01.007Z"
   },
   {
    "duration": 14,
    "start_time": "2022-02-03T04:50:01.437Z"
   },
   {
    "duration": 9,
    "start_time": "2022-02-03T04:50:01.864Z"
   },
   {
    "duration": 234,
    "start_time": "2022-02-03T04:50:02.489Z"
   },
   {
    "duration": 13,
    "start_time": "2022-02-03T04:50:02.909Z"
   },
   {
    "duration": 59,
    "start_time": "2022-02-03T04:50:03.364Z"
   },
   {
    "duration": 17,
    "start_time": "2022-02-03T04:50:04.020Z"
   },
   {
    "duration": 468,
    "start_time": "2022-02-03T04:50:04.457Z"
   },
   {
    "duration": 8,
    "start_time": "2022-02-03T04:50:11.860Z"
   },
   {
    "duration": 453,
    "start_time": "2022-02-03T04:50:12.412Z"
   },
   {
    "duration": 441,
    "start_time": "2022-02-03T04:51:05.416Z"
   },
   {
    "duration": 465,
    "start_time": "2022-02-03T04:51:53.245Z"
   },
   {
    "duration": 144,
    "start_time": "2022-02-03T04:53:16.923Z"
   },
   {
    "duration": 430,
    "start_time": "2022-02-03T04:53:22.962Z"
   },
   {
    "duration": 440,
    "start_time": "2022-02-03T04:55:15.816Z"
   },
   {
    "duration": 427,
    "start_time": "2022-02-03T04:56:11.052Z"
   },
   {
    "duration": 438,
    "start_time": "2022-02-03T04:58:16.529Z"
   },
   {
    "duration": 94,
    "start_time": "2022-02-03T05:07:16.140Z"
   },
   {
    "duration": 7223,
    "start_time": "2022-02-03T05:07:21.703Z"
   },
   {
    "duration": 7828,
    "start_time": "2022-02-03T05:07:58.074Z"
   },
   {
    "duration": 7075,
    "start_time": "2022-02-03T05:08:42.135Z"
   },
   {
    "duration": 36,
    "start_time": "2022-02-03T05:08:52.951Z"
   },
   {
    "duration": 40,
    "start_time": "2022-02-03T05:09:48.291Z"
   },
   {
    "duration": 445,
    "start_time": "2022-02-03T05:13:06.254Z"
   },
   {
    "duration": 24,
    "start_time": "2022-02-03T05:20:19.364Z"
   },
   {
    "duration": 46,
    "start_time": "2022-02-03T05:22:17.211Z"
   },
   {
    "duration": 8,
    "start_time": "2022-02-03T05:22:18.849Z"
   },
   {
    "duration": 430,
    "start_time": "2022-02-03T05:22:18.865Z"
   },
   {
    "duration": 5,
    "start_time": "2022-02-03T05:24:48.729Z"
   },
   {
    "duration": 42,
    "start_time": "2022-02-03T05:28:03.803Z"
   },
   {
    "duration": 5,
    "start_time": "2022-02-03T05:28:04.524Z"
   },
   {
    "duration": 8,
    "start_time": "2022-02-03T05:28:05.153Z"
   },
   {
    "duration": 434,
    "start_time": "2022-02-03T05:28:06.293Z"
   },
   {
    "duration": 43,
    "start_time": "2022-02-03T05:29:22.858Z"
   },
   {
    "duration": 22,
    "start_time": "2022-02-03T05:29:23.521Z"
   },
   {
    "duration": 8,
    "start_time": "2022-02-03T05:29:23.943Z"
   },
   {
    "duration": 296,
    "start_time": "2022-02-03T05:29:25.612Z"
   },
   {
    "duration": 285,
    "start_time": "2022-02-03T05:29:55.612Z"
   },
   {
    "duration": 22,
    "start_time": "2022-02-03T05:29:56.016Z"
   },
   {
    "duration": 99,
    "start_time": "2022-02-03T05:30:38.332Z"
   },
   {
    "duration": 317,
    "start_time": "2022-02-03T05:30:49.798Z"
   },
   {
    "duration": 95,
    "start_time": "2022-02-03T05:31:05.371Z"
   },
   {
    "duration": 550,
    "start_time": "2022-02-03T05:33:11.276Z"
   },
   {
    "duration": 92,
    "start_time": "2022-02-03T05:33:52.160Z"
   },
   {
    "duration": 93,
    "start_time": "2022-02-03T05:34:35.562Z"
   },
   {
    "duration": 45,
    "start_time": "2022-02-03T05:35:15.297Z"
   },
   {
    "duration": 5,
    "start_time": "2022-02-03T05:35:17.066Z"
   },
   {
    "duration": 45,
    "start_time": "2022-02-03T05:35:30.292Z"
   },
   {
    "duration": 494,
    "start_time": "2022-02-03T05:35:54.963Z"
   },
   {
    "duration": 47,
    "start_time": "2022-02-03T05:36:08.512Z"
   },
   {
    "duration": 5,
    "start_time": "2022-02-03T05:36:10.580Z"
   },
   {
    "duration": 46,
    "start_time": "2022-02-03T05:36:27.424Z"
   },
   {
    "duration": 6,
    "start_time": "2022-02-03T05:36:29.130Z"
   },
   {
    "duration": 309,
    "start_time": "2022-02-03T05:38:14.136Z"
   },
   {
    "duration": 283,
    "start_time": "2022-02-03T05:38:18.978Z"
   },
   {
    "duration": 300,
    "start_time": "2022-02-03T05:38:29.102Z"
   },
   {
    "duration": 6,
    "start_time": "2022-02-03T05:38:33.796Z"
   },
   {
    "duration": 10,
    "start_time": "2022-02-03T05:38:44.857Z"
   },
   {
    "duration": 434,
    "start_time": "2022-02-03T05:38:45.200Z"
   },
   {
    "duration": 37,
    "start_time": "2022-02-03T05:38:45.790Z"
   },
   {
    "duration": 428,
    "start_time": "2022-02-03T05:38:46.031Z"
   },
   {
    "duration": 25,
    "start_time": "2022-02-03T05:38:46.794Z"
   },
   {
    "duration": 48,
    "start_time": "2022-02-03T05:38:48.724Z"
   },
   {
    "duration": 6,
    "start_time": "2022-02-03T05:38:49.760Z"
   },
   {
    "duration": 8,
    "start_time": "2022-02-03T05:38:50.355Z"
   },
   {
    "duration": 6,
    "start_time": "2022-02-03T05:38:58.168Z"
   },
   {
    "duration": 45,
    "start_time": "2022-02-03T05:39:27.595Z"
   },
   {
    "duration": 6,
    "start_time": "2022-02-03T05:39:28.036Z"
   },
   {
    "duration": 7,
    "start_time": "2022-02-03T05:39:36.590Z"
   },
   {
    "duration": 457,
    "start_time": "2022-02-03T05:39:36.712Z"
   },
   {
    "duration": 38,
    "start_time": "2022-02-03T05:39:37.202Z"
   },
   {
    "duration": 435,
    "start_time": "2022-02-03T05:39:37.337Z"
   },
   {
    "duration": 25,
    "start_time": "2022-02-03T05:39:38.066Z"
   },
   {
    "duration": 14812,
    "start_time": "2022-02-03T05:39:39.080Z"
   },
   {
    "duration": -147,
    "start_time": "2022-02-03T05:39:54.042Z"
   },
   {
    "duration": 138,
    "start_time": "2022-02-03T05:40:22.511Z"
   },
   {
    "duration": 5,
    "start_time": "2022-02-03T05:40:23.563Z"
   },
   {
    "duration": 25,
    "start_time": "2022-02-03T05:40:37.838Z"
   },
   {
    "duration": 6,
    "start_time": "2022-02-03T05:40:51.810Z"
   },
   {
    "duration": 5,
    "start_time": "2022-02-03T05:41:01.123Z"
   },
   {
    "duration": 134,
    "start_time": "2022-02-03T05:41:12.604Z"
   },
   {
    "duration": 5,
    "start_time": "2022-02-03T05:41:14.545Z"
   },
   {
    "duration": 132,
    "start_time": "2022-02-03T05:41:20.650Z"
   },
   {
    "duration": 5,
    "start_time": "2022-02-03T05:41:22.116Z"
   },
   {
    "duration": 11,
    "start_time": "2022-02-03T05:41:24.130Z"
   },
   {
    "duration": 428,
    "start_time": "2022-02-03T05:41:24.684Z"
   },
   {
    "duration": 8,
    "start_time": "2022-02-03T05:42:10.423Z"
   },
   {
    "duration": 11,
    "start_time": "2022-02-03T05:48:00.843Z"
   },
   {
    "duration": 11,
    "start_time": "2022-02-03T05:48:04.577Z"
   },
   {
    "duration": 13,
    "start_time": "2022-02-03T05:48:08.726Z"
   },
   {
    "duration": 5,
    "start_time": "2022-02-03T05:48:28.452Z"
   },
   {
    "duration": 466,
    "start_time": "2022-02-03T05:48:39.612Z"
   },
   {
    "duration": 436,
    "start_time": "2022-02-03T05:48:55.268Z"
   },
   {
    "duration": 13,
    "start_time": "2022-02-03T05:49:51.365Z"
   },
   {
    "duration": 11,
    "start_time": "2022-02-03T05:50:06.322Z"
   },
   {
    "duration": 451,
    "start_time": "2022-02-03T05:50:10.342Z"
   },
   {
    "duration": 7396,
    "start_time": "2022-02-03T05:50:31.978Z"
   },
   {
    "duration": 7317,
    "start_time": "2022-02-03T05:50:47.004Z"
   },
   {
    "duration": 8,
    "start_time": "2022-02-03T05:52:19.879Z"
   },
   {
    "duration": 452,
    "start_time": "2022-02-03T05:52:20.081Z"
   },
   {
    "duration": 53,
    "start_time": "2022-02-03T05:52:20.717Z"
   },
   {
    "duration": 433,
    "start_time": "2022-02-03T05:52:20.910Z"
   },
   {
    "duration": 6,
    "start_time": "2022-02-03T05:52:21.345Z"
   },
   {
    "duration": 7094,
    "start_time": "2022-02-03T05:52:21.739Z"
   },
   {
    "duration": -78,
    "start_time": "2022-02-03T05:52:28.914Z"
   },
   {
    "duration": -89,
    "start_time": "2022-02-03T05:52:28.926Z"
   },
   {
    "duration": -101,
    "start_time": "2022-02-03T05:52:28.940Z"
   },
   {
    "duration": -110,
    "start_time": "2022-02-03T05:52:28.950Z"
   },
   {
    "duration": 7120,
    "start_time": "2022-02-03T05:52:44.249Z"
   },
   {
    "duration": 12,
    "start_time": "2022-02-03T05:53:09.620Z"
   },
   {
    "duration": 6,
    "start_time": "2022-02-03T05:53:12.689Z"
   },
   {
    "duration": 3,
    "start_time": "2022-02-03T05:53:12.916Z"
   },
   {
    "duration": 440,
    "start_time": "2022-02-03T05:53:13.690Z"
   },
   {
    "duration": 2485,
    "start_time": "2022-02-04T20:01:42.428Z"
   },
   {
    "duration": 1475,
    "start_time": "2022-02-04T20:01:44.916Z"
   },
   {
    "duration": 3,
    "start_time": "2022-02-04T20:01:46.394Z"
   },
   {
    "duration": 44,
    "start_time": "2022-02-04T20:01:46.400Z"
   },
   {
    "duration": 12,
    "start_time": "2022-02-04T20:01:46.446Z"
   },
   {
    "duration": 24,
    "start_time": "2022-02-04T20:01:46.460Z"
   },
   {
    "duration": 13,
    "start_time": "2022-02-04T20:01:46.487Z"
   },
   {
    "duration": 17,
    "start_time": "2022-02-04T20:01:46.533Z"
   },
   {
    "duration": 16,
    "start_time": "2022-02-04T20:01:46.553Z"
   },
   {
    "duration": 20,
    "start_time": "2022-02-04T20:01:46.572Z"
   },
   {
    "duration": 54,
    "start_time": "2022-02-04T20:01:46.594Z"
   },
   {
    "duration": 17,
    "start_time": "2022-02-04T20:01:46.650Z"
   },
   {
    "duration": 17,
    "start_time": "2022-02-04T20:01:46.670Z"
   },
   {
    "duration": 5,
    "start_time": "2022-02-04T20:01:46.690Z"
   },
   {
    "duration": 48,
    "start_time": "2022-02-04T20:01:46.697Z"
   },
   {
    "duration": 6,
    "start_time": "2022-02-04T20:01:46.747Z"
   },
   {
    "duration": 29,
    "start_time": "2022-02-04T20:01:46.755Z"
   },
   {
    "duration": 60,
    "start_time": "2022-02-04T20:01:46.787Z"
   },
   {
    "duration": 9,
    "start_time": "2022-02-04T20:01:46.849Z"
   },
   {
    "duration": 10,
    "start_time": "2022-02-04T20:01:46.860Z"
   },
   {
    "duration": 402,
    "start_time": "2022-02-04T20:01:46.873Z"
   },
   {
    "duration": -205,
    "start_time": "2022-02-04T20:01:47.486Z"
   },
   {
    "duration": -215,
    "start_time": "2022-02-04T20:01:47.497Z"
   },
   {
    "duration": -221,
    "start_time": "2022-02-04T20:01:47.505Z"
   },
   {
    "duration": -230,
    "start_time": "2022-02-04T20:01:47.515Z"
   },
   {
    "duration": -240,
    "start_time": "2022-02-04T20:01:47.527Z"
   },
   {
    "duration": -247,
    "start_time": "2022-02-04T20:01:47.535Z"
   },
   {
    "duration": -258,
    "start_time": "2022-02-04T20:01:47.547Z"
   },
   {
    "duration": -264,
    "start_time": "2022-02-04T20:01:47.555Z"
   },
   {
    "duration": -273,
    "start_time": "2022-02-04T20:01:47.566Z"
   },
   {
    "duration": -282,
    "start_time": "2022-02-04T20:01:47.577Z"
   },
   {
    "duration": -288,
    "start_time": "2022-02-04T20:01:47.585Z"
   },
   {
    "duration": -299,
    "start_time": "2022-02-04T20:01:47.598Z"
   },
   {
    "duration": -304,
    "start_time": "2022-02-04T20:01:47.605Z"
   },
   {
    "duration": -314,
    "start_time": "2022-02-04T20:01:47.617Z"
   },
   {
    "duration": -324,
    "start_time": "2022-02-04T20:01:47.629Z"
   },
   {
    "duration": -397,
    "start_time": "2022-02-04T20:01:47.704Z"
   },
   {
    "duration": -407,
    "start_time": "2022-02-04T20:01:47.716Z"
   },
   {
    "duration": -439,
    "start_time": "2022-02-04T20:01:47.750Z"
   },
   {
    "duration": -449,
    "start_time": "2022-02-04T20:01:47.762Z"
   },
   {
    "duration": -456,
    "start_time": "2022-02-04T20:01:47.770Z"
   },
   {
    "duration": -449,
    "start_time": "2022-02-04T20:01:47.781Z"
   },
   {
    "duration": -459,
    "start_time": "2022-02-04T20:01:47.794Z"
   },
   {
    "duration": -465,
    "start_time": "2022-02-04T20:01:47.802Z"
   },
   {
    "duration": -473,
    "start_time": "2022-02-04T20:01:47.813Z"
   },
   {
    "duration": -480,
    "start_time": "2022-02-04T20:01:47.822Z"
   },
   {
    "duration": -490,
    "start_time": "2022-02-04T20:01:47.834Z"
   },
   {
    "duration": -501,
    "start_time": "2022-02-04T20:01:47.847Z"
   },
   {
    "duration": -506,
    "start_time": "2022-02-04T20:01:47.855Z"
   },
   {
    "duration": -518,
    "start_time": "2022-02-04T20:01:47.869Z"
   },
   {
    "duration": -527,
    "start_time": "2022-02-04T20:01:47.881Z"
   },
   {
    "duration": -538,
    "start_time": "2022-02-04T20:01:47.894Z"
   },
   {
    "duration": -545,
    "start_time": "2022-02-04T20:01:47.903Z"
   },
   {
    "duration": -555,
    "start_time": "2022-02-04T20:01:47.915Z"
   },
   {
    "duration": -566,
    "start_time": "2022-02-04T20:01:47.929Z"
   },
   {
    "duration": -572,
    "start_time": "2022-02-04T20:01:47.937Z"
   },
   {
    "duration": -584,
    "start_time": "2022-02-04T20:01:47.951Z"
   },
   {
    "duration": -595,
    "start_time": "2022-02-04T20:01:47.964Z"
   },
   {
    "duration": -546,
    "start_time": "2022-02-04T20:01:47.979Z"
   },
   {
    "duration": -552,
    "start_time": "2022-02-04T20:01:47.987Z"
   },
   {
    "duration": -563,
    "start_time": "2022-02-04T20:01:48.000Z"
   },
   {
    "duration": -573,
    "start_time": "2022-02-04T20:01:48.013Z"
   },
   {
    "duration": -587,
    "start_time": "2022-02-04T20:01:48.028Z"
   },
   {
    "duration": -592,
    "start_time": "2022-02-04T20:01:48.037Z"
   },
   {
    "duration": -603,
    "start_time": "2022-02-04T20:01:48.050Z"
   },
   {
    "duration": -613,
    "start_time": "2022-02-04T20:01:48.063Z"
   },
   {
    "duration": -620,
    "start_time": "2022-02-04T20:01:48.072Z"
   },
   {
    "duration": -632,
    "start_time": "2022-02-04T20:01:48.085Z"
   },
   {
    "duration": -642,
    "start_time": "2022-02-04T20:01:48.097Z"
   },
   {
    "duration": -653,
    "start_time": "2022-02-04T20:01:48.110Z"
   },
   {
    "duration": -659,
    "start_time": "2022-02-04T20:01:48.117Z"
   },
   {
    "duration": -670,
    "start_time": "2022-02-04T20:01:48.130Z"
   },
   {
    "duration": -677,
    "start_time": "2022-02-04T20:01:48.138Z"
   },
   {
    "duration": -687,
    "start_time": "2022-02-04T20:01:48.150Z"
   },
   {
    "duration": -699,
    "start_time": "2022-02-04T20:01:48.163Z"
   },
   {
    "duration": -706,
    "start_time": "2022-02-04T20:01:48.172Z"
   },
   {
    "duration": -717,
    "start_time": "2022-02-04T20:01:48.184Z"
   },
   {
    "duration": -726,
    "start_time": "2022-02-04T20:01:48.195Z"
   },
   {
    "duration": -671,
    "start_time": "2022-02-04T20:01:48.203Z"
   },
   {
    "duration": -681,
    "start_time": "2022-02-04T20:01:48.215Z"
   },
   {
    "duration": -692,
    "start_time": "2022-02-04T20:01:48.227Z"
   },
   {
    "duration": -697,
    "start_time": "2022-02-04T20:01:48.234Z"
   },
   {
    "duration": -709,
    "start_time": "2022-02-04T20:01:48.247Z"
   },
   {
    "duration": -714,
    "start_time": "2022-02-04T20:01:48.254Z"
   },
   {
    "duration": -725,
    "start_time": "2022-02-04T20:01:48.267Z"
   },
   {
    "duration": -734,
    "start_time": "2022-02-04T20:01:48.278Z"
   },
   {
    "duration": -742,
    "start_time": "2022-02-04T20:01:48.287Z"
   },
   {
    "duration": -751,
    "start_time": "2022-02-04T20:01:48.298Z"
   },
   {
    "duration": -762,
    "start_time": "2022-02-04T20:01:48.310Z"
   },
   {
    "duration": -769,
    "start_time": "2022-02-04T20:01:48.319Z"
   },
   {
    "duration": -781,
    "start_time": "2022-02-04T20:01:48.332Z"
   },
   {
    "duration": -791,
    "start_time": "2022-02-04T20:01:48.344Z"
   },
   {
    "duration": -797,
    "start_time": "2022-02-04T20:01:48.351Z"
   },
   {
    "duration": -813,
    "start_time": "2022-02-04T20:01:48.368Z"
   },
   {
    "duration": -827,
    "start_time": "2022-02-04T20:01:48.384Z"
   },
   {
    "duration": -838,
    "start_time": "2022-02-04T20:01:48.396Z"
   },
   {
    "duration": 9,
    "start_time": "2022-02-04T20:02:23.225Z"
   },
   {
    "duration": 9,
    "start_time": "2022-02-04T20:02:23.237Z"
   },
   {
    "duration": 6,
    "start_time": "2022-02-04T20:02:23.249Z"
   },
   {
    "duration": 24,
    "start_time": "2022-02-04T20:02:23.258Z"
   },
   {
    "duration": 75,
    "start_time": "2022-02-04T20:02:23.285Z"
   },
   {
    "duration": 18,
    "start_time": "2022-02-04T20:02:23.362Z"
   },
   {
    "duration": 6,
    "start_time": "2022-02-04T20:02:23.383Z"
   },
   {
    "duration": 123,
    "start_time": "2022-02-04T20:02:23.433Z"
   },
   {
    "duration": 15,
    "start_time": "2022-02-04T20:02:23.558Z"
   },
   {
    "duration": 3,
    "start_time": "2022-02-04T20:02:23.576Z"
   },
   {
    "duration": 8,
    "start_time": "2022-02-04T20:02:23.581Z"
   },
   {
    "duration": 7088,
    "start_time": "2022-02-04T20:02:23.592Z"
   },
   {
    "duration": 631,
    "start_time": "2022-02-04T20:02:30.683Z"
   },
   {
    "duration": -38,
    "start_time": "2022-02-04T20:02:31.358Z"
   },
   {
    "duration": -45,
    "start_time": "2022-02-04T20:02:31.367Z"
   },
   {
    "duration": -56,
    "start_time": "2022-02-04T20:02:31.380Z"
   },
   {
    "duration": -67,
    "start_time": "2022-02-04T20:02:31.394Z"
   },
   {
    "duration": -78,
    "start_time": "2022-02-04T20:02:31.407Z"
   },
   {
    "duration": -83,
    "start_time": "2022-02-04T20:02:31.414Z"
   },
   {
    "duration": -94,
    "start_time": "2022-02-04T20:02:31.427Z"
   },
   {
    "duration": -103,
    "start_time": "2022-02-04T20:02:31.439Z"
   },
   {
    "duration": -109,
    "start_time": "2022-02-04T20:02:31.447Z"
   },
   {
    "duration": -120,
    "start_time": "2022-02-04T20:02:31.460Z"
   },
   {
    "duration": -130,
    "start_time": "2022-02-04T20:02:31.472Z"
   },
   {
    "duration": -134,
    "start_time": "2022-02-04T20:02:31.479Z"
   },
   {
    "duration": -145,
    "start_time": "2022-02-04T20:02:31.492Z"
   },
   {
    "duration": -153,
    "start_time": "2022-02-04T20:02:31.503Z"
   },
   {
    "duration": -160,
    "start_time": "2022-02-04T20:02:31.512Z"
   },
   {
    "duration": -244,
    "start_time": "2022-02-04T20:02:31.598Z"
   },
   {
    "duration": -255,
    "start_time": "2022-02-04T20:02:31.612Z"
   },
   {
    "duration": -266,
    "start_time": "2022-02-04T20:02:31.625Z"
   },
   {
    "duration": -278,
    "start_time": "2022-02-04T20:02:31.639Z"
   },
   {
    "duration": -285,
    "start_time": "2022-02-04T20:02:31.648Z"
   },
   {
    "duration": -296,
    "start_time": "2022-02-04T20:02:31.661Z"
   },
   {
    "duration": -306,
    "start_time": "2022-02-04T20:02:31.674Z"
   },
   {
    "duration": -313,
    "start_time": "2022-02-04T20:02:31.683Z"
   },
   {
    "duration": -263,
    "start_time": "2022-02-04T20:02:31.695Z"
   },
   {
    "duration": -272,
    "start_time": "2022-02-04T20:02:31.707Z"
   },
   {
    "duration": -278,
    "start_time": "2022-02-04T20:02:31.715Z"
   },
   {
    "duration": -289,
    "start_time": "2022-02-04T20:02:31.728Z"
   },
   {
    "duration": -300,
    "start_time": "2022-02-04T20:02:31.740Z"
   },
   {
    "duration": -305,
    "start_time": "2022-02-04T20:02:31.747Z"
   },
   {
    "duration": -316,
    "start_time": "2022-02-04T20:02:31.759Z"
   },
   {
    "duration": -326,
    "start_time": "2022-02-04T20:02:31.771Z"
   },
   {
    "duration": -333,
    "start_time": "2022-02-04T20:02:31.779Z"
   },
   {
    "duration": -389,
    "start_time": "2022-02-04T20:02:31.836Z"
   },
   {
    "duration": -400,
    "start_time": "2022-02-04T20:02:31.849Z"
   },
   {
    "duration": -410,
    "start_time": "2022-02-04T20:02:31.860Z"
   },
   {
    "duration": -427,
    "start_time": "2022-02-04T20:02:31.879Z"
   },
   {
    "duration": -438,
    "start_time": "2022-02-04T20:02:31.891Z"
   },
   {
    "duration": -449,
    "start_time": "2022-02-04T20:02:31.904Z"
   },
   {
    "duration": -456,
    "start_time": "2022-02-04T20:02:31.912Z"
   },
   {
    "duration": -466,
    "start_time": "2022-02-04T20:02:31.924Z"
   },
   {
    "duration": -473,
    "start_time": "2022-02-04T20:02:31.932Z"
   },
   {
    "duration": -484,
    "start_time": "2022-02-04T20:02:31.944Z"
   },
   {
    "duration": -494,
    "start_time": "2022-02-04T20:02:31.956Z"
   },
   {
    "duration": -501,
    "start_time": "2022-02-04T20:02:31.964Z"
   },
   {
    "duration": -512,
    "start_time": "2022-02-04T20:02:31.977Z"
   },
   {
    "duration": -525,
    "start_time": "2022-02-04T20:02:31.991Z"
   },
   {
    "duration": -531,
    "start_time": "2022-02-04T20:02:31.998Z"
   },
   {
    "duration": -542,
    "start_time": "2022-02-04T20:02:32.011Z"
   },
   {
    "duration": -553,
    "start_time": "2022-02-04T20:02:32.023Z"
   },
   {
    "duration": -501,
    "start_time": "2022-02-04T20:02:32.032Z"
   },
   {
    "duration": -512,
    "start_time": "2022-02-04T20:02:32.045Z"
   },
   {
    "duration": -522,
    "start_time": "2022-02-04T20:02:32.057Z"
   },
   {
    "duration": -528,
    "start_time": "2022-02-04T20:02:32.065Z"
   },
   {
    "duration": -540,
    "start_time": "2022-02-04T20:02:32.078Z"
   },
   {
    "duration": -562,
    "start_time": "2022-02-04T20:02:32.102Z"
   },
   {
    "duration": -569,
    "start_time": "2022-02-04T20:02:32.110Z"
   },
   {
    "duration": -582,
    "start_time": "2022-02-04T20:02:32.124Z"
   },
   {
    "duration": -588,
    "start_time": "2022-02-04T20:02:32.132Z"
   },
   {
    "duration": -599,
    "start_time": "2022-02-04T20:02:32.144Z"
   },
   {
    "duration": -611,
    "start_time": "2022-02-04T20:02:32.157Z"
   },
   {
    "duration": -616,
    "start_time": "2022-02-04T20:02:32.164Z"
   },
   {
    "duration": -627,
    "start_time": "2022-02-04T20:02:32.177Z"
   },
   {
    "duration": -637,
    "start_time": "2022-02-04T20:02:32.189Z"
   },
   {
    "duration": 4,
    "start_time": "2022-02-04T20:02:41.314Z"
   },
   {
    "duration": 278335,
    "start_time": "2022-02-04T20:02:41.324Z"
   },
   {
    "duration": 5,
    "start_time": "2022-02-04T20:07:19.662Z"
   },
   {
    "duration": 2482,
    "start_time": "2022-02-04T20:07:19.669Z"
   },
   {
    "duration": 16,
    "start_time": "2022-02-04T20:07:22.154Z"
   },
   {
    "duration": 4,
    "start_time": "2022-02-04T20:07:22.172Z"
   },
   {
    "duration": 11,
    "start_time": "2022-02-04T20:07:22.178Z"
   },
   {
    "duration": 67,
    "start_time": "2022-02-04T20:07:22.191Z"
   },
   {
    "duration": 7,
    "start_time": "2022-02-04T20:07:22.262Z"
   },
   {
    "duration": 6,
    "start_time": "2022-02-04T20:07:22.272Z"
   },
   {
    "duration": 16,
    "start_time": "2022-02-04T20:07:22.281Z"
   },
   {
    "duration": 13,
    "start_time": "2022-02-04T20:07:22.299Z"
   },
   {
    "duration": 7373,
    "start_time": "2022-02-04T20:07:22.314Z"
   },
   {
    "duration": 6,
    "start_time": "2022-02-04T20:07:29.690Z"
   },
   {
    "duration": 6,
    "start_time": "2022-02-04T20:07:29.699Z"
   },
   {
    "duration": 46,
    "start_time": "2022-02-04T20:07:29.708Z"
   },
   {
    "duration": 7,
    "start_time": "2022-02-04T20:07:29.757Z"
   },
   {
    "duration": 9,
    "start_time": "2022-02-04T20:07:29.766Z"
   },
   {
    "duration": 5,
    "start_time": "2022-02-04T20:07:29.778Z"
   },
   {
    "duration": 71,
    "start_time": "2022-02-04T20:07:29.785Z"
   },
   {
    "duration": 79,
    "start_time": "2022-02-04T20:07:29.859Z"
   },
   {
    "duration": 108,
    "start_time": "2022-02-04T20:07:29.942Z"
   },
   {
    "duration": 16,
    "start_time": "2022-02-04T20:07:30.053Z"
   },
   {
    "duration": 11,
    "start_time": "2022-02-04T20:07:30.074Z"
   },
   {
    "duration": 443,
    "start_time": "2022-02-04T20:07:30.089Z"
   },
   {
    "duration": 28,
    "start_time": "2022-02-04T20:07:30.535Z"
   },
   {
    "duration": 8,
    "start_time": "2022-02-04T20:07:30.565Z"
   },
   {
    "duration": 13,
    "start_time": "2022-02-04T20:07:30.575Z"
   },
   {
    "duration": 50,
    "start_time": "2022-02-04T20:07:30.590Z"
   },
   {
    "duration": 5,
    "start_time": "2022-02-04T20:07:30.643Z"
   },
   {
    "duration": 22,
    "start_time": "2022-02-04T20:07:30.650Z"
   },
   {
    "duration": 15,
    "start_time": "2022-02-04T20:07:30.674Z"
   },
   {
    "duration": 41,
    "start_time": "2022-02-04T20:07:30.691Z"
   },
   {
    "duration": 14,
    "start_time": "2022-02-04T20:07:30.734Z"
   },
   {
    "duration": 104,
    "start_time": "2022-02-04T20:07:30.834Z"
   },
   {
    "duration": 7,
    "start_time": "2022-02-04T20:07:30.940Z"
   },
   {
    "duration": 27,
    "start_time": "2022-02-04T20:07:30.949Z"
   },
   {
    "duration": 710,
    "start_time": "2022-02-04T20:07:30.979Z"
   },
   {
    "duration": 57,
    "start_time": "2022-02-04T20:07:31.692Z"
   },
   {
    "duration": 83,
    "start_time": "2022-02-04T20:07:31.751Z"
   },
   {
    "duration": 96,
    "start_time": "2022-02-04T20:07:31.837Z"
   },
   {
    "duration": 106,
    "start_time": "2022-02-04T20:07:31.936Z"
   },
   {
    "duration": 177,
    "start_time": "2022-02-04T20:07:32.045Z"
   },
   {
    "duration": 17,
    "start_time": "2022-02-04T20:07:32.232Z"
   },
   {
    "duration": 85,
    "start_time": "2022-02-04T20:07:32.251Z"
   },
   {
    "duration": 194,
    "start_time": "2022-02-04T20:07:32.340Z"
   },
   {
    "duration": 14,
    "start_time": "2022-02-04T20:07:32.536Z"
   },
   {
    "duration": 27,
    "start_time": "2022-02-04T20:07:32.552Z"
   },
   {
    "duration": 66,
    "start_time": "2022-02-04T20:07:32.582Z"
   },
   {
    "duration": 13,
    "start_time": "2022-02-04T20:07:32.650Z"
   },
   {
    "duration": 9,
    "start_time": "2022-02-04T20:07:32.665Z"
   },
   {
    "duration": 266,
    "start_time": "2022-02-04T20:07:32.676Z"
   },
   {
    "duration": 14,
    "start_time": "2022-02-04T20:07:32.944Z"
   },
   {
    "duration": 76,
    "start_time": "2022-02-04T20:07:32.961Z"
   },
   {
    "duration": 110,
    "start_time": "2022-02-04T20:07:33.040Z"
   },
   {
    "duration": 479,
    "start_time": "2022-02-04T20:07:33.153Z"
   },
   {
    "duration": 8,
    "start_time": "2022-02-04T20:07:33.634Z"
   },
   {
    "duration": 477,
    "start_time": "2022-02-04T20:07:33.644Z"
   },
   {
    "duration": 44,
    "start_time": "2022-02-04T20:07:34.123Z"
   },
   {
    "duration": 467,
    "start_time": "2022-02-04T20:07:34.169Z"
   },
   {
    "duration": 11,
    "start_time": "2022-02-04T20:07:34.638Z"
   },
   {
    "duration": 2,
    "start_time": "2022-02-04T20:07:34.652Z"
   },
   {
    "duration": 8,
    "start_time": "2022-02-04T20:07:34.656Z"
   },
   {
    "duration": 3,
    "start_time": "2022-02-04T20:07:34.667Z"
   },
   {
    "duration": 555,
    "start_time": "2022-02-04T20:07:34.672Z"
   },
   {
    "duration": 263,
    "start_time": "2022-02-04T20:13:03.235Z"
   },
   {
    "duration": 266,
    "start_time": "2022-02-04T20:13:14.061Z"
   },
   {
    "duration": 4567,
    "start_time": "2022-02-04T20:14:55.687Z"
   },
   {
    "duration": 713,
    "start_time": "2022-02-04T20:15:10.146Z"
   },
   {
    "duration": 1977,
    "start_time": "2022-02-04T20:15:25.331Z"
   },
   {
    "duration": 3590,
    "start_time": "2022-02-04T20:15:27.311Z"
   },
   {
    "duration": 2022,
    "start_time": "2022-02-04T20:15:30.904Z"
   },
   {
    "duration": 4,
    "start_time": "2022-02-04T20:15:32.929Z"
   },
   {
    "duration": 40,
    "start_time": "2022-02-04T20:15:32.936Z"
   },
   {
    "duration": 14,
    "start_time": "2022-02-04T20:15:32.979Z"
   },
   {
    "duration": 45,
    "start_time": "2022-02-04T20:15:32.995Z"
   },
   {
    "duration": 11,
    "start_time": "2022-02-04T20:15:33.043Z"
   },
   {
    "duration": 16,
    "start_time": "2022-02-04T20:15:33.060Z"
   },
   {
    "duration": 58,
    "start_time": "2022-02-04T20:15:33.080Z"
   },
   {
    "duration": 22,
    "start_time": "2022-02-04T20:15:33.140Z"
   },
   {
    "duration": 17,
    "start_time": "2022-02-04T20:15:33.165Z"
   },
   {
    "duration": 57,
    "start_time": "2022-02-04T20:15:33.184Z"
   },
   {
    "duration": 16,
    "start_time": "2022-02-04T20:15:33.244Z"
   },
   {
    "duration": 6,
    "start_time": "2022-02-04T20:15:33.263Z"
   },
   {
    "duration": 16,
    "start_time": "2022-02-04T20:15:33.272Z"
   },
   {
    "duration": 44,
    "start_time": "2022-02-04T20:15:33.290Z"
   },
   {
    "duration": 30,
    "start_time": "2022-02-04T20:15:33.337Z"
   },
   {
    "duration": 23,
    "start_time": "2022-02-04T20:15:33.370Z"
   },
   {
    "duration": 36,
    "start_time": "2022-02-04T20:15:33.396Z"
   },
   {
    "duration": 10,
    "start_time": "2022-02-04T20:15:33.434Z"
   },
   {
    "duration": 13,
    "start_time": "2022-02-04T20:15:33.446Z"
   },
   {
    "duration": 9,
    "start_time": "2022-02-04T20:15:33.461Z"
   },
   {
    "duration": 27,
    "start_time": "2022-02-04T20:15:33.472Z"
   },
   {
    "duration": 62,
    "start_time": "2022-02-04T20:15:33.502Z"
   },
   {
    "duration": 19,
    "start_time": "2022-02-04T20:15:33.566Z"
   },
   {
    "duration": 4,
    "start_time": "2022-02-04T20:15:33.592Z"
   },
   {
    "duration": 109,
    "start_time": "2022-02-04T20:15:33.633Z"
   },
   {
    "duration": 16,
    "start_time": "2022-02-04T20:15:33.745Z"
   },
   {
    "duration": 4,
    "start_time": "2022-02-04T20:15:33.763Z"
   },
   {
    "duration": 10,
    "start_time": "2022-02-04T20:15:33.769Z"
   },
   {
    "duration": 7,
    "start_time": "2022-02-04T20:15:33.781Z"
   },
   {
    "duration": 278007,
    "start_time": "2022-02-04T20:15:33.790Z"
   },
   {
    "duration": 4,
    "start_time": "2022-02-04T20:20:11.800Z"
   },
   {
    "duration": 2544,
    "start_time": "2022-02-04T20:20:11.807Z"
   },
   {
    "duration": 14,
    "start_time": "2022-02-04T20:20:14.353Z"
   },
   {
    "duration": 4,
    "start_time": "2022-02-04T20:20:14.370Z"
   },
   {
    "duration": 5,
    "start_time": "2022-02-04T20:20:14.376Z"
   },
   {
    "duration": 68,
    "start_time": "2022-02-04T20:20:14.384Z"
   },
   {
    "duration": 7,
    "start_time": "2022-02-04T20:20:14.455Z"
   },
   {
    "duration": 5,
    "start_time": "2022-02-04T20:20:14.465Z"
   },
   {
    "duration": 5,
    "start_time": "2022-02-04T20:20:14.472Z"
   },
   {
    "duration": 6,
    "start_time": "2022-02-04T20:20:14.479Z"
   },
   {
    "duration": 7224,
    "start_time": "2022-02-04T20:20:14.487Z"
   },
   {
    "duration": 5,
    "start_time": "2022-02-04T20:20:21.713Z"
   },
   {
    "duration": 14,
    "start_time": "2022-02-04T20:20:21.720Z"
   },
   {
    "duration": 25,
    "start_time": "2022-02-04T20:20:21.736Z"
   },
   {
    "duration": 7,
    "start_time": "2022-02-04T20:20:21.764Z"
   },
   {
    "duration": 11,
    "start_time": "2022-02-04T20:20:21.774Z"
   },
   {
    "duration": 4,
    "start_time": "2022-02-04T20:20:21.788Z"
   },
   {
    "duration": 62,
    "start_time": "2022-02-04T20:20:21.794Z"
   },
   {
    "duration": 77,
    "start_time": "2022-02-04T20:20:21.858Z"
   },
   {
    "duration": 96,
    "start_time": "2022-02-04T20:20:21.939Z"
   },
   {
    "duration": 13,
    "start_time": "2022-02-04T20:20:22.037Z"
   },
   {
    "duration": 8,
    "start_time": "2022-02-04T20:20:22.052Z"
   },
   {
    "duration": 327,
    "start_time": "2022-02-04T20:20:22.062Z"
   },
   {
    "duration": 27,
    "start_time": "2022-02-04T20:20:22.391Z"
   },
   {
    "duration": 7,
    "start_time": "2022-02-04T20:20:22.433Z"
   },
   {
    "duration": 7,
    "start_time": "2022-02-04T20:20:22.442Z"
   },
   {
    "duration": 26,
    "start_time": "2022-02-04T20:20:22.452Z"
   },
   {
    "duration": 6,
    "start_time": "2022-02-04T20:20:22.481Z"
   },
   {
    "duration": 43,
    "start_time": "2022-02-04T20:20:22.490Z"
   },
   {
    "duration": 4,
    "start_time": "2022-02-04T20:20:22.537Z"
   },
   {
    "duration": 32,
    "start_time": "2022-02-04T20:20:22.544Z"
   },
   {
    "duration": 55,
    "start_time": "2022-02-04T20:20:22.578Z"
   },
   {
    "duration": 99,
    "start_time": "2022-02-04T20:20:22.637Z"
   },
   {
    "duration": 6,
    "start_time": "2022-02-04T20:20:22.739Z"
   },
   {
    "duration": 21,
    "start_time": "2022-02-04T20:20:22.748Z"
   },
   {
    "duration": 730,
    "start_time": "2022-02-04T20:20:22.772Z"
   },
   {
    "duration": 58,
    "start_time": "2022-02-04T20:20:23.504Z"
   },
   {
    "duration": 77,
    "start_time": "2022-02-04T20:20:23.564Z"
   },
   {
    "duration": 96,
    "start_time": "2022-02-04T20:20:23.644Z"
   },
   {
    "duration": 21,
    "start_time": "2022-02-04T20:20:23.833Z"
   },
   {
    "duration": 176,
    "start_time": "2022-02-04T20:20:23.857Z"
   },
   {
    "duration": 17,
    "start_time": "2022-02-04T20:20:24.035Z"
   },
   {
    "duration": 78,
    "start_time": "2022-02-04T20:20:24.055Z"
   },
   {
    "duration": 194,
    "start_time": "2022-02-04T20:20:24.138Z"
   },
   {
    "duration": 13,
    "start_time": "2022-02-04T20:20:24.335Z"
   },
   {
    "duration": 27,
    "start_time": "2022-02-04T20:20:24.350Z"
   },
   {
    "duration": 71,
    "start_time": "2022-02-04T20:20:24.379Z"
   },
   {
    "duration": 18,
    "start_time": "2022-02-04T20:20:24.458Z"
   },
   {
    "duration": 9,
    "start_time": "2022-02-04T20:20:24.479Z"
   },
   {
    "duration": 256,
    "start_time": "2022-02-04T20:20:24.490Z"
   },
   {
    "duration": 14,
    "start_time": "2022-02-04T20:20:24.748Z"
   },
   {
    "duration": 69,
    "start_time": "2022-02-04T20:20:24.765Z"
   },
   {
    "duration": 110,
    "start_time": "2022-02-04T20:20:24.838Z"
   },
   {
    "duration": 484,
    "start_time": "2022-02-04T20:20:24.950Z"
   },
   {
    "duration": 6,
    "start_time": "2022-02-04T20:20:25.437Z"
   },
   {
    "duration": 475,
    "start_time": "2022-02-04T20:20:25.446Z"
   },
   {
    "duration": 39,
    "start_time": "2022-02-04T20:20:25.931Z"
   },
   {
    "duration": 465,
    "start_time": "2022-02-04T20:20:25.972Z"
   },
   {
    "duration": 416,
    "start_time": "2022-02-04T20:20:26.440Z"
   },
   {
    "duration": 1253,
    "start_time": "2022-02-04T20:21:15.767Z"
   },
   {
    "duration": 2344,
    "start_time": "2022-02-04T20:25:04.422Z"
   },
   {
    "duration": 1071,
    "start_time": "2022-02-04T20:26:38.917Z"
   },
   {
    "duration": 1276,
    "start_time": "2022-02-04T20:26:54.566Z"
   },
   {
    "duration": 5,
    "start_time": "2022-02-04T20:34:10.734Z"
   },
   {
    "duration": 315,
    "start_time": "2022-02-04T20:37:56.241Z"
   },
   {
    "duration": 385,
    "start_time": "2022-02-04T20:38:07.438Z"
   },
   {
    "duration": 431,
    "start_time": "2022-02-04T20:38:56.767Z"
   },
   {
    "duration": 6,
    "start_time": "2022-02-04T20:50:26.844Z"
   },
   {
    "duration": 260,
    "start_time": "2022-02-04T20:51:07.732Z"
   },
   {
    "duration": 268,
    "start_time": "2022-02-04T20:52:59.546Z"
   },
   {
    "duration": 2714,
    "start_time": "2022-02-04T20:56:10.986Z"
   },
   {
    "duration": 2044,
    "start_time": "2022-02-04T20:56:26.024Z"
   },
   {
    "duration": 3016,
    "start_time": "2022-02-04T20:56:28.072Z"
   },
   {
    "duration": 2201,
    "start_time": "2022-02-04T20:56:31.092Z"
   },
   {
    "duration": 4,
    "start_time": "2022-02-04T20:56:33.296Z"
   },
   {
    "duration": 57,
    "start_time": "2022-02-04T20:56:33.303Z"
   },
   {
    "duration": 13,
    "start_time": "2022-02-04T20:56:33.363Z"
   },
   {
    "duration": 80,
    "start_time": "2022-02-04T20:56:33.378Z"
   },
   {
    "duration": 10,
    "start_time": "2022-02-04T20:56:33.461Z"
   },
   {
    "duration": 68,
    "start_time": "2022-02-04T20:56:33.474Z"
   },
   {
    "duration": 15,
    "start_time": "2022-02-04T20:56:33.545Z"
   },
   {
    "duration": 79,
    "start_time": "2022-02-04T20:56:33.562Z"
   },
   {
    "duration": 17,
    "start_time": "2022-02-04T20:56:33.644Z"
   },
   {
    "duration": 75,
    "start_time": "2022-02-04T20:56:33.664Z"
   },
   {
    "duration": 21,
    "start_time": "2022-02-04T20:56:33.742Z"
   },
   {
    "duration": 3025,
    "start_time": "2022-02-04T20:56:33.766Z"
   },
   {
    "duration": -173,
    "start_time": "2022-02-04T20:56:36.971Z"
   },
   {
    "duration": -190,
    "start_time": "2022-02-04T20:56:36.989Z"
   },
   {
    "duration": -205,
    "start_time": "2022-02-04T20:56:37.006Z"
   },
   {
    "duration": -221,
    "start_time": "2022-02-04T20:56:37.023Z"
   },
   {
    "duration": -236,
    "start_time": "2022-02-04T20:56:37.040Z"
   },
   {
    "duration": -250,
    "start_time": "2022-02-04T20:56:37.055Z"
   },
   {
    "duration": -264,
    "start_time": "2022-02-04T20:56:37.070Z"
   },
   {
    "duration": -278,
    "start_time": "2022-02-04T20:56:37.086Z"
   },
   {
    "duration": -286,
    "start_time": "2022-02-04T20:56:37.095Z"
   },
   {
    "duration": -300,
    "start_time": "2022-02-04T20:56:37.111Z"
   },
   {
    "duration": -313,
    "start_time": "2022-02-04T20:56:37.126Z"
   },
   {
    "duration": -328,
    "start_time": "2022-02-04T20:56:37.142Z"
   },
   {
    "duration": -343,
    "start_time": "2022-02-04T20:56:37.159Z"
   },
   {
    "duration": -357,
    "start_time": "2022-02-04T20:56:37.174Z"
   },
   {
    "duration": -371,
    "start_time": "2022-02-04T20:56:37.190Z"
   },
   {
    "duration": -387,
    "start_time": "2022-02-04T20:56:37.208Z"
   },
   {
    "duration": -402,
    "start_time": "2022-02-04T20:56:37.224Z"
   },
   {
    "duration": -417,
    "start_time": "2022-02-04T20:56:37.241Z"
   },
   {
    "duration": -430,
    "start_time": "2022-02-04T20:56:37.256Z"
   },
   {
    "duration": -445,
    "start_time": "2022-02-04T20:56:37.272Z"
   },
   {
    "duration": -457,
    "start_time": "2022-02-04T20:56:37.286Z"
   },
   {
    "duration": -471,
    "start_time": "2022-02-04T20:56:37.301Z"
   },
   {
    "duration": -478,
    "start_time": "2022-02-04T20:56:37.310Z"
   },
   {
    "duration": -492,
    "start_time": "2022-02-04T20:56:37.326Z"
   },
   {
    "duration": -505,
    "start_time": "2022-02-04T20:56:37.340Z"
   },
   {
    "duration": -519,
    "start_time": "2022-02-04T20:56:37.356Z"
   },
   {
    "duration": -535,
    "start_time": "2022-02-04T20:56:37.373Z"
   },
   {
    "duration": -550,
    "start_time": "2022-02-04T20:56:37.390Z"
   },
   {
    "duration": -563,
    "start_time": "2022-02-04T20:56:37.404Z"
   },
   {
    "duration": -576,
    "start_time": "2022-02-04T20:56:37.419Z"
   },
   {
    "duration": -582,
    "start_time": "2022-02-04T20:56:37.427Z"
   },
   {
    "duration": -596,
    "start_time": "2022-02-04T20:56:37.442Z"
   },
   {
    "duration": -705,
    "start_time": "2022-02-04T20:56:37.553Z"
   },
   {
    "duration": -714,
    "start_time": "2022-02-04T20:56:37.564Z"
   },
   {
    "duration": -722,
    "start_time": "2022-02-04T20:56:37.574Z"
   },
   {
    "duration": -737,
    "start_time": "2022-02-04T20:56:37.590Z"
   },
   {
    "duration": -748,
    "start_time": "2022-02-04T20:56:37.605Z"
   },
   {
    "duration": -763,
    "start_time": "2022-02-04T20:56:37.622Z"
   },
   {
    "duration": -773,
    "start_time": "2022-02-04T20:56:37.637Z"
   },
   {
    "duration": -788,
    "start_time": "2022-02-04T20:56:37.653Z"
   },
   {
    "duration": -801,
    "start_time": "2022-02-04T20:56:37.668Z"
   },
   {
    "duration": -816,
    "start_time": "2022-02-04T20:56:37.684Z"
   },
   {
    "duration": -824,
    "start_time": "2022-02-04T20:56:37.694Z"
   },
   {
    "duration": -838,
    "start_time": "2022-02-04T20:56:37.709Z"
   },
   {
    "duration": -852,
    "start_time": "2022-02-04T20:56:37.725Z"
   },
   {
    "duration": -866,
    "start_time": "2022-02-04T20:56:37.740Z"
   },
   {
    "duration": -882,
    "start_time": "2022-02-04T20:56:37.757Z"
   },
   {
    "duration": -898,
    "start_time": "2022-02-04T20:56:37.774Z"
   },
   {
    "duration": -910,
    "start_time": "2022-02-04T20:56:37.787Z"
   },
   {
    "duration": -923,
    "start_time": "2022-02-04T20:56:37.801Z"
   },
   {
    "duration": -878,
    "start_time": "2022-02-04T20:56:37.810Z"
   },
   {
    "duration": -892,
    "start_time": "2022-02-04T20:56:37.825Z"
   },
   {
    "duration": -906,
    "start_time": "2022-02-04T20:56:37.840Z"
   },
   {
    "duration": -919,
    "start_time": "2022-02-04T20:56:37.855Z"
   },
   {
    "duration": -933,
    "start_time": "2022-02-04T20:56:37.870Z"
   },
   {
    "duration": -948,
    "start_time": "2022-02-04T20:56:37.886Z"
   },
   {
    "duration": -956,
    "start_time": "2022-02-04T20:56:37.895Z"
   },
   {
    "duration": -970,
    "start_time": "2022-02-04T20:56:37.911Z"
   },
   {
    "duration": -984,
    "start_time": "2022-02-04T20:56:37.926Z"
   },
   {
    "duration": -999,
    "start_time": "2022-02-04T20:56:37.942Z"
   },
   {
    "duration": -1014,
    "start_time": "2022-02-04T20:56:37.959Z"
   },
   {
    "duration": -1030,
    "start_time": "2022-02-04T20:56:37.976Z"
   },
   {
    "duration": -1045,
    "start_time": "2022-02-04T20:56:37.992Z"
   },
   {
    "duration": -1059,
    "start_time": "2022-02-04T20:56:38.008Z"
   },
   {
    "duration": -1077,
    "start_time": "2022-02-04T20:56:38.027Z"
   },
   {
    "duration": -1093,
    "start_time": "2022-02-04T20:56:38.044Z"
   },
   {
    "duration": -1107,
    "start_time": "2022-02-04T20:56:38.060Z"
   },
   {
    "duration": -1122,
    "start_time": "2022-02-04T20:56:38.076Z"
   },
   {
    "duration": -1138,
    "start_time": "2022-02-04T20:56:38.093Z"
   },
   {
    "duration": -1154,
    "start_time": "2022-02-04T20:56:38.110Z"
   },
   {
    "duration": -1168,
    "start_time": "2022-02-04T20:56:38.126Z"
   },
   {
    "duration": -1184,
    "start_time": "2022-02-04T20:56:38.143Z"
   },
   {
    "duration": -1199,
    "start_time": "2022-02-04T20:56:38.159Z"
   },
   {
    "duration": -1214,
    "start_time": "2022-02-04T20:56:38.176Z"
   },
   {
    "duration": -1231,
    "start_time": "2022-02-04T20:56:38.194Z"
   },
   {
    "duration": -1246,
    "start_time": "2022-02-04T20:56:38.210Z"
   },
   {
    "duration": -1260,
    "start_time": "2022-02-04T20:56:38.226Z"
   },
   {
    "duration": -1275,
    "start_time": "2022-02-04T20:56:38.242Z"
   },
   {
    "duration": 2511,
    "start_time": "2022-02-04T20:57:18.870Z"
   },
   {
    "duration": 297,
    "start_time": "2022-02-04T20:59:00.893Z"
   },
   {
    "duration": 5,
    "start_time": "2022-02-04T20:59:12.000Z"
   },
   {
    "duration": 16,
    "start_time": "2022-02-04T20:59:34.351Z"
   },
   {
    "duration": 10,
    "start_time": "2022-02-04T20:59:55.821Z"
   },
   {
    "duration": 17,
    "start_time": "2022-02-04T21:00:36.060Z"
   },
   {
    "duration": 20,
    "start_time": "2022-02-04T21:00:36.080Z"
   },
   {
    "duration": 41,
    "start_time": "2022-02-04T21:00:36.103Z"
   },
   {
    "duration": 27,
    "start_time": "2022-02-04T21:00:36.147Z"
   },
   {
    "duration": 6,
    "start_time": "2022-02-04T21:00:36.177Z"
   },
   {
    "duration": 16,
    "start_time": "2022-02-04T21:00:36.186Z"
   },
   {
    "duration": 33,
    "start_time": "2022-02-04T21:00:36.204Z"
   },
   {
    "duration": 7,
    "start_time": "2022-02-04T21:00:36.241Z"
   },
   {
    "duration": 34,
    "start_time": "2022-02-04T21:00:36.252Z"
   },
   {
    "duration": 73,
    "start_time": "2022-02-04T21:00:36.289Z"
   },
   {
    "duration": 21,
    "start_time": "2022-02-04T21:00:36.365Z"
   },
   {
    "duration": 43,
    "start_time": "2022-02-04T21:00:36.389Z"
   },
   {
    "duration": 129,
    "start_time": "2022-02-04T21:00:36.435Z"
   },
   {
    "duration": 17,
    "start_time": "2022-02-04T21:00:36.567Z"
   },
   {
    "duration": 8,
    "start_time": "2022-02-04T21:00:36.586Z"
   },
   {
    "duration": 13,
    "start_time": "2022-02-04T21:00:36.596Z"
   },
   {
    "duration": 5,
    "start_time": "2022-02-04T21:00:36.633Z"
   },
   {
    "duration": 299317,
    "start_time": "2022-02-04T21:00:36.640Z"
   },
   {
    "duration": 5,
    "start_time": "2022-02-04T21:05:35.959Z"
   },
   {
    "duration": 10646,
    "start_time": "2022-02-04T21:05:35.966Z"
   },
   {
    "duration": 22,
    "start_time": "2022-02-04T21:05:46.615Z"
   },
   {
    "duration": 4,
    "start_time": "2022-02-04T21:05:46.639Z"
   },
   {
    "duration": 3,
    "start_time": "2022-02-04T21:05:46.649Z"
   },
   {
    "duration": 40,
    "start_time": "2022-02-04T21:05:46.656Z"
   },
   {
    "duration": 36,
    "start_time": "2022-02-04T21:05:46.698Z"
   },
   {
    "duration": 4,
    "start_time": "2022-02-04T21:05:46.737Z"
   },
   {
    "duration": 7,
    "start_time": "2022-02-04T21:05:46.743Z"
   },
   {
    "duration": 8,
    "start_time": "2022-02-04T21:05:46.752Z"
   },
   {
    "duration": 7309,
    "start_time": "2022-02-04T21:05:46.762Z"
   },
   {
    "duration": 5,
    "start_time": "2022-02-04T21:05:54.074Z"
   },
   {
    "duration": 10,
    "start_time": "2022-02-04T21:05:54.081Z"
   },
   {
    "duration": 44,
    "start_time": "2022-02-04T21:05:54.094Z"
   },
   {
    "duration": 8,
    "start_time": "2022-02-04T21:05:54.141Z"
   },
   {
    "duration": 15,
    "start_time": "2022-02-04T21:05:54.152Z"
   },
   {
    "duration": 7,
    "start_time": "2022-02-04T21:05:54.169Z"
   },
   {
    "duration": 55,
    "start_time": "2022-02-04T21:05:54.178Z"
   },
   {
    "duration": 96,
    "start_time": "2022-02-04T21:05:54.236Z"
   },
   {
    "duration": 89,
    "start_time": "2022-02-04T21:05:54.346Z"
   },
   {
    "duration": 16,
    "start_time": "2022-02-04T21:05:54.438Z"
   },
   {
    "duration": 12,
    "start_time": "2022-02-04T21:05:54.457Z"
   },
   {
    "duration": 1370,
    "start_time": "2022-02-04T21:05:54.472Z"
   },
   {
    "duration": 112,
    "start_time": "2022-02-04T21:05:55.844Z"
   },
   {
    "duration": 8,
    "start_time": "2022-02-04T21:05:55.959Z"
   },
   {
    "duration": 4,
    "start_time": "2022-02-04T21:05:55.969Z"
   },
   {
    "duration": 30,
    "start_time": "2022-02-04T21:05:55.975Z"
   },
   {
    "duration": 26,
    "start_time": "2022-02-04T21:05:56.007Z"
   },
   {
    "duration": 7,
    "start_time": "2022-02-04T21:05:56.035Z"
   },
   {
    "duration": 4,
    "start_time": "2022-02-04T21:05:56.044Z"
   },
   {
    "duration": 31,
    "start_time": "2022-02-04T21:05:56.050Z"
   },
   {
    "duration": 57,
    "start_time": "2022-02-04T21:05:56.084Z"
   },
   {
    "duration": 100,
    "start_time": "2022-02-04T21:05:56.144Z"
   },
   {
    "duration": 6,
    "start_time": "2022-02-04T21:05:56.247Z"
   },
   {
    "duration": 26,
    "start_time": "2022-02-04T21:05:56.256Z"
   },
   {
    "duration": 3139,
    "start_time": "2022-02-04T21:05:56.285Z"
   },
   {
    "duration": 54,
    "start_time": "2022-02-04T21:05:59.426Z"
   },
   {
    "duration": 151,
    "start_time": "2022-02-04T21:05:59.482Z"
   },
   {
    "duration": 96,
    "start_time": "2022-02-04T21:05:59.637Z"
   },
   {
    "duration": 20,
    "start_time": "2022-02-04T21:05:59.736Z"
   },
   {
    "duration": 695,
    "start_time": "2022-02-04T21:05:59.758Z"
   },
   {
    "duration": 19,
    "start_time": "2022-02-04T21:06:00.455Z"
   },
   {
    "duration": 67,
    "start_time": "2022-02-04T21:06:00.477Z"
   },
   {
    "duration": 326,
    "start_time": "2022-02-04T21:06:00.632Z"
   },
   {
    "duration": 14,
    "start_time": "2022-02-04T21:06:00.961Z"
   },
   {
    "duration": 112,
    "start_time": "2022-02-04T21:06:00.977Z"
   },
   {
    "duration": 44,
    "start_time": "2022-02-04T21:06:01.091Z"
   },
   {
    "duration": 14,
    "start_time": "2022-02-04T21:06:01.138Z"
   },
   {
    "duration": 11,
    "start_time": "2022-02-04T21:06:01.154Z"
   },
   {
    "duration": 259,
    "start_time": "2022-02-04T21:06:01.173Z"
   },
   {
    "duration": 17,
    "start_time": "2022-02-04T21:06:01.436Z"
   },
   {
    "duration": 79,
    "start_time": "2022-02-04T21:06:01.455Z"
   },
   {
    "duration": 117,
    "start_time": "2022-02-04T21:06:01.538Z"
   },
   {
    "duration": 510,
    "start_time": "2022-02-04T21:06:01.658Z"
   },
   {
    "duration": 8,
    "start_time": "2022-02-04T21:06:02.170Z"
   },
   {
    "duration": 2024,
    "start_time": "2022-02-04T21:06:02.180Z"
   },
   {
    "duration": 116,
    "start_time": "2022-02-04T21:06:04.206Z"
   },
   {
    "duration": 471,
    "start_time": "2022-02-04T21:06:04.331Z"
   },
   {
    "duration": 5828,
    "start_time": "2022-02-04T21:06:04.805Z"
   },
   {
    "duration": 711,
    "start_time": "2022-02-04T21:06:10.636Z"
   },
   {
    "duration": 14,
    "start_time": "2022-02-04T21:06:42.941Z"
   },
   {
    "duration": 19,
    "start_time": "2022-02-04T21:11:52.373Z"
   },
   {
    "duration": 6496,
    "start_time": "2022-02-04T21:12:50.911Z"
   },
   {
    "duration": 272,
    "start_time": "2022-02-04T21:13:21.885Z"
   },
   {
    "duration": 6508,
    "start_time": "2022-02-04T21:13:47.872Z"
   },
   {
    "duration": 270,
    "start_time": "2022-02-04T21:14:00.465Z"
   },
   {
    "duration": 1924,
    "start_time": "2022-02-04T21:16:30.418Z"
   },
   {
    "duration": 1967,
    "start_time": "2022-02-04T21:50:15.118Z"
   },
   {
    "duration": 86,
    "start_time": "2022-02-04T21:50:17.088Z"
   },
   {
    "duration": -175,
    "start_time": "2022-02-04T21:50:17.356Z"
   },
   {
    "duration": -185,
    "start_time": "2022-02-04T21:50:17.367Z"
   },
   {
    "duration": -194,
    "start_time": "2022-02-04T21:50:17.377Z"
   },
   {
    "duration": -201,
    "start_time": "2022-02-04T21:50:17.386Z"
   },
   {
    "duration": -214,
    "start_time": "2022-02-04T21:50:17.400Z"
   },
   {
    "duration": -227,
    "start_time": "2022-02-04T21:50:17.415Z"
   },
   {
    "duration": -235,
    "start_time": "2022-02-04T21:50:17.424Z"
   },
   {
    "duration": -249,
    "start_time": "2022-02-04T21:50:17.439Z"
   },
   {
    "duration": -262,
    "start_time": "2022-02-04T21:50:17.454Z"
   },
   {
    "duration": -277,
    "start_time": "2022-02-04T21:50:17.470Z"
   },
   {
    "duration": -290,
    "start_time": "2022-02-04T21:50:17.484Z"
   },
   {
    "duration": -303,
    "start_time": "2022-02-04T21:50:17.499Z"
   },
   {
    "duration": -318,
    "start_time": "2022-02-04T21:50:17.515Z"
   },
   {
    "duration": -327,
    "start_time": "2022-02-04T21:50:17.525Z"
   },
   {
    "duration": -340,
    "start_time": "2022-02-04T21:50:17.540Z"
   },
   {
    "duration": -356,
    "start_time": "2022-02-04T21:50:17.557Z"
   },
   {
    "duration": -371,
    "start_time": "2022-02-04T21:50:17.573Z"
   },
   {
    "duration": -385,
    "start_time": "2022-02-04T21:50:17.589Z"
   },
   {
    "duration": -399,
    "start_time": "2022-02-04T21:50:17.604Z"
   },
   {
    "duration": -414,
    "start_time": "2022-02-04T21:50:17.620Z"
   },
   {
    "duration": -427,
    "start_time": "2022-02-04T21:50:17.635Z"
   },
   {
    "duration": -441,
    "start_time": "2022-02-04T21:50:17.650Z"
   },
   {
    "duration": -455,
    "start_time": "2022-02-04T21:50:17.665Z"
   },
   {
    "duration": -463,
    "start_time": "2022-02-04T21:50:17.675Z"
   },
   {
    "duration": -477,
    "start_time": "2022-02-04T21:50:17.690Z"
   },
   {
    "duration": -491,
    "start_time": "2022-02-04T21:50:17.705Z"
   },
   {
    "duration": -507,
    "start_time": "2022-02-04T21:50:17.722Z"
   },
   {
    "duration": -520,
    "start_time": "2022-02-04T21:50:17.737Z"
   },
   {
    "duration": -520,
    "start_time": "2022-02-04T21:50:17.753Z"
   },
   {
    "duration": -534,
    "start_time": "2022-02-04T21:50:17.768Z"
   },
   {
    "duration": -547,
    "start_time": "2022-02-04T21:50:17.783Z"
   },
   {
    "duration": -561,
    "start_time": "2022-02-04T21:50:17.798Z"
   },
   {
    "duration": -569,
    "start_time": "2022-02-04T21:50:17.808Z"
   },
   {
    "duration": -583,
    "start_time": "2022-02-04T21:50:17.823Z"
   },
   {
    "duration": -598,
    "start_time": "2022-02-04T21:50:17.839Z"
   },
   {
    "duration": -611,
    "start_time": "2022-02-04T21:50:17.854Z"
   },
   {
    "duration": -626,
    "start_time": "2022-02-04T21:50:17.871Z"
   },
   {
    "duration": -716,
    "start_time": "2022-02-04T21:50:17.962Z"
   },
   {
    "duration": -723,
    "start_time": "2022-02-04T21:50:17.970Z"
   },
   {
    "duration": -732,
    "start_time": "2022-02-04T21:50:17.981Z"
   },
   {
    "duration": -738,
    "start_time": "2022-02-04T21:50:17.988Z"
   },
   {
    "duration": -749,
    "start_time": "2022-02-04T21:50:18.001Z"
   },
   {
    "duration": -763,
    "start_time": "2022-02-04T21:50:18.016Z"
   },
   {
    "duration": -776,
    "start_time": "2022-02-04T21:50:18.031Z"
   },
   {
    "duration": -785,
    "start_time": "2022-02-04T21:50:18.041Z"
   },
   {
    "duration": -799,
    "start_time": "2022-02-04T21:50:18.057Z"
   },
   {
    "duration": -812,
    "start_time": "2022-02-04T21:50:18.072Z"
   },
   {
    "duration": -827,
    "start_time": "2022-02-04T21:50:18.088Z"
   },
   {
    "duration": -840,
    "start_time": "2022-02-04T21:50:18.103Z"
   },
   {
    "duration": -855,
    "start_time": "2022-02-04T21:50:18.119Z"
   },
   {
    "duration": -868,
    "start_time": "2022-02-04T21:50:18.134Z"
   },
   {
    "duration": -880,
    "start_time": "2022-02-04T21:50:18.148Z"
   },
   {
    "duration": -826,
    "start_time": "2022-02-04T21:50:18.158Z"
   },
   {
    "duration": -838,
    "start_time": "2022-02-04T21:50:18.172Z"
   },
   {
    "duration": -852,
    "start_time": "2022-02-04T21:50:18.187Z"
   },
   {
    "duration": -865,
    "start_time": "2022-02-04T21:50:18.202Z"
   },
   {
    "duration": -878,
    "start_time": "2022-02-04T21:50:18.216Z"
   },
   {
    "duration": -890,
    "start_time": "2022-02-04T21:50:18.230Z"
   },
   {
    "duration": -899,
    "start_time": "2022-02-04T21:50:18.240Z"
   },
   {
    "duration": -912,
    "start_time": "2022-02-04T21:50:18.254Z"
   },
   {
    "duration": -927,
    "start_time": "2022-02-04T21:50:18.270Z"
   },
   {
    "duration": -939,
    "start_time": "2022-02-04T21:50:18.284Z"
   },
   {
    "duration": -953,
    "start_time": "2022-02-04T21:50:18.299Z"
   },
   {
    "duration": -960,
    "start_time": "2022-02-04T21:50:18.308Z"
   },
   {
    "duration": -973,
    "start_time": "2022-02-04T21:50:18.323Z"
   },
   {
    "duration": -986,
    "start_time": "2022-02-04T21:50:18.337Z"
   },
   {
    "duration": -1000,
    "start_time": "2022-02-04T21:50:18.353Z"
   },
   {
    "duration": -1013,
    "start_time": "2022-02-04T21:50:18.367Z"
   },
   {
    "duration": -1026,
    "start_time": "2022-02-04T21:50:18.381Z"
   },
   {
    "duration": -1033,
    "start_time": "2022-02-04T21:50:18.390Z"
   },
   {
    "duration": -1047,
    "start_time": "2022-02-04T21:50:18.405Z"
   },
   {
    "duration": -1062,
    "start_time": "2022-02-04T21:50:18.421Z"
   },
   {
    "duration": -1074,
    "start_time": "2022-02-04T21:50:18.435Z"
   },
   {
    "duration": -1088,
    "start_time": "2022-02-04T21:50:18.450Z"
   },
   {
    "duration": -1102,
    "start_time": "2022-02-04T21:50:18.465Z"
   },
   {
    "duration": -1110,
    "start_time": "2022-02-04T21:50:18.475Z"
   },
   {
    "duration": -1124,
    "start_time": "2022-02-04T21:50:18.490Z"
   },
   {
    "duration": -1136,
    "start_time": "2022-02-04T21:50:18.504Z"
   },
   {
    "duration": -1086,
    "start_time": "2022-02-04T21:50:18.518Z"
   },
   {
    "duration": -1098,
    "start_time": "2022-02-04T21:50:18.532Z"
   },
   {
    "duration": -1112,
    "start_time": "2022-02-04T21:50:18.548Z"
   },
   {
    "duration": -1119,
    "start_time": "2022-02-04T21:50:18.557Z"
   },
   {
    "duration": -1132,
    "start_time": "2022-02-04T21:50:18.571Z"
   },
   {
    "duration": -1146,
    "start_time": "2022-02-04T21:50:18.587Z"
   },
   {
    "duration": -1159,
    "start_time": "2022-02-04T21:50:18.602Z"
   },
   {
    "duration": -1172,
    "start_time": "2022-02-04T21:50:18.616Z"
   },
   {
    "duration": -1185,
    "start_time": "2022-02-04T21:50:18.631Z"
   },
   {
    "duration": -1195,
    "start_time": "2022-02-04T21:50:18.642Z"
   },
   {
    "duration": -1208,
    "start_time": "2022-02-04T21:50:18.656Z"
   },
   {
    "duration": -1221,
    "start_time": "2022-02-04T21:50:18.671Z"
   },
   {
    "duration": -1234,
    "start_time": "2022-02-04T21:50:18.686Z"
   },
   {
    "duration": 2430,
    "start_time": "2022-02-04T21:53:49.265Z"
   },
   {
    "duration": 113,
    "start_time": "2022-02-04T21:53:51.699Z"
   },
   {
    "duration": 3962,
    "start_time": "2022-02-04T21:53:59.200Z"
   },
   {
    "duration": 2403,
    "start_time": "2022-02-04T21:54:08.384Z"
   },
   {
    "duration": 3785,
    "start_time": "2022-02-04T21:54:10.790Z"
   },
   {
    "duration": 2407,
    "start_time": "2022-02-04T21:54:14.579Z"
   },
   {
    "duration": 4,
    "start_time": "2022-02-04T21:54:16.989Z"
   },
   {
    "duration": 38,
    "start_time": "2022-02-04T21:54:16.995Z"
   },
   {
    "duration": 12,
    "start_time": "2022-02-04T21:54:17.036Z"
   },
   {
    "duration": 32,
    "start_time": "2022-02-04T21:54:17.050Z"
   },
   {
    "duration": 9,
    "start_time": "2022-02-04T21:54:17.086Z"
   },
   {
    "duration": 47,
    "start_time": "2022-02-04T21:54:17.097Z"
   },
   {
    "duration": 20,
    "start_time": "2022-02-04T21:54:17.147Z"
   },
   {
    "duration": 23,
    "start_time": "2022-02-04T21:54:17.170Z"
   },
   {
    "duration": 54,
    "start_time": "2022-02-04T21:54:17.196Z"
   },
   {
    "duration": 21,
    "start_time": "2022-02-04T21:54:17.253Z"
   },
   {
    "duration": 57,
    "start_time": "2022-02-04T21:54:17.277Z"
   },
   {
    "duration": 5,
    "start_time": "2022-02-04T21:54:17.337Z"
   },
   {
    "duration": 14,
    "start_time": "2022-02-04T21:54:17.344Z"
   },
   {
    "duration": 5,
    "start_time": "2022-02-04T21:54:17.361Z"
   },
   {
    "duration": 64,
    "start_time": "2022-02-04T21:54:17.368Z"
   },
   {
    "duration": 21,
    "start_time": "2022-02-04T21:54:17.435Z"
   },
   {
    "duration": 7,
    "start_time": "2022-02-04T21:54:17.458Z"
   },
   {
    "duration": 8,
    "start_time": "2022-02-04T21:54:17.467Z"
   },
   {
    "duration": 7,
    "start_time": "2022-02-04T21:54:17.477Z"
   },
   {
    "duration": 41,
    "start_time": "2022-02-04T21:54:17.492Z"
   },
   {
    "duration": 26,
    "start_time": "2022-02-04T21:54:17.539Z"
   },
   {
    "duration": 30,
    "start_time": "2022-02-04T21:54:17.567Z"
   },
   {
    "duration": 49,
    "start_time": "2022-02-04T21:54:17.600Z"
   },
   {
    "duration": 5,
    "start_time": "2022-02-04T21:54:17.652Z"
   },
   {
    "duration": 152,
    "start_time": "2022-02-04T21:54:17.659Z"
   },
   {
    "duration": 26,
    "start_time": "2022-02-04T21:54:17.814Z"
   },
   {
    "duration": 4,
    "start_time": "2022-02-04T21:54:17.843Z"
   },
   {
    "duration": 9,
    "start_time": "2022-02-04T21:54:17.849Z"
   },
   {
    "duration": 9,
    "start_time": "2022-02-04T21:54:17.861Z"
   },
   {
    "duration": 271691,
    "start_time": "2022-02-04T21:54:17.873Z"
   },
   {
    "duration": 5,
    "start_time": "2022-02-04T21:58:49.567Z"
   },
   {
    "duration": 10233,
    "start_time": "2022-02-04T21:58:49.575Z"
   },
   {
    "duration": 26,
    "start_time": "2022-02-04T21:58:59.810Z"
   },
   {
    "duration": 5,
    "start_time": "2022-02-04T21:58:59.839Z"
   },
   {
    "duration": 7,
    "start_time": "2022-02-04T21:58:59.846Z"
   },
   {
    "duration": 41,
    "start_time": "2022-02-04T21:58:59.855Z"
   },
   {
    "duration": 38,
    "start_time": "2022-02-04T21:58:59.898Z"
   },
   {
    "duration": 6,
    "start_time": "2022-02-04T21:58:59.938Z"
   },
   {
    "duration": 5,
    "start_time": "2022-02-04T21:58:59.946Z"
   },
   {
    "duration": 5,
    "start_time": "2022-02-04T21:58:59.954Z"
   },
   {
    "duration": 7180,
    "start_time": "2022-02-04T21:58:59.962Z"
   },
   {
    "duration": 5,
    "start_time": "2022-02-04T21:59:07.144Z"
   },
   {
    "duration": 10,
    "start_time": "2022-02-04T21:59:07.151Z"
   },
   {
    "duration": 29,
    "start_time": "2022-02-04T21:59:07.163Z"
   },
   {
    "duration": 8,
    "start_time": "2022-02-04T21:59:07.194Z"
   },
   {
    "duration": 35,
    "start_time": "2022-02-04T21:59:07.204Z"
   },
   {
    "duration": 4,
    "start_time": "2022-02-04T21:59:07.242Z"
   },
   {
    "duration": 33,
    "start_time": "2022-02-04T21:59:07.248Z"
   },
   {
    "duration": 60,
    "start_time": "2022-02-04T21:59:07.283Z"
   },
   {
    "duration": 5,
    "start_time": "2022-02-04T21:59:07.434Z"
   },
   {
    "duration": 24,
    "start_time": "2022-02-04T21:59:07.441Z"
   },
   {
    "duration": 6,
    "start_time": "2022-02-04T21:59:07.467Z"
   },
   {
    "duration": 1267,
    "start_time": "2022-02-04T21:59:07.476Z"
   },
   {
    "duration": 106,
    "start_time": "2022-02-04T21:59:08.745Z"
   },
   {
    "duration": 11,
    "start_time": "2022-02-04T21:59:08.854Z"
   },
   {
    "duration": 4,
    "start_time": "2022-02-04T21:59:08.868Z"
   },
   {
    "duration": 60,
    "start_time": "2022-02-04T21:59:08.875Z"
   },
   {
    "duration": 7,
    "start_time": "2022-02-04T21:59:08.938Z"
   },
   {
    "duration": 9,
    "start_time": "2022-02-04T21:59:08.948Z"
   },
   {
    "duration": 3,
    "start_time": "2022-02-04T21:59:08.960Z"
   },
   {
    "duration": 29,
    "start_time": "2022-02-04T21:59:08.965Z"
   },
   {
    "duration": 7,
    "start_time": "2022-02-04T21:59:09.033Z"
   },
   {
    "duration": 185,
    "start_time": "2022-02-04T21:59:09.048Z"
   },
   {
    "duration": 6,
    "start_time": "2022-02-04T21:59:09.235Z"
   },
   {
    "duration": 24,
    "start_time": "2022-02-04T21:59:09.249Z"
   },
   {
    "duration": 2965,
    "start_time": "2022-02-04T21:59:09.276Z"
   },
   {
    "duration": 46,
    "start_time": "2022-02-04T21:59:12.244Z"
   },
   {
    "duration": 141,
    "start_time": "2022-02-04T21:59:12.292Z"
   },
   {
    "duration": 93,
    "start_time": "2022-02-04T21:59:12.440Z"
   },
   {
    "duration": 17,
    "start_time": "2022-02-04T21:59:12.536Z"
   },
   {
    "duration": 641,
    "start_time": "2022-02-04T21:59:12.556Z"
   },
   {
    "duration": 15,
    "start_time": "2022-02-04T21:59:13.200Z"
   },
   {
    "duration": 19,
    "start_time": "2022-02-04T21:59:13.233Z"
   },
   {
    "duration": 425,
    "start_time": "2022-02-04T21:59:13.255Z"
   },
   {
    "duration": 15,
    "start_time": "2022-02-04T21:59:13.683Z"
   },
   {
    "duration": 113,
    "start_time": "2022-02-04T21:59:13.700Z"
   },
   {
    "duration": 42,
    "start_time": "2022-02-04T21:59:13.816Z"
   },
   {
    "duration": 14,
    "start_time": "2022-02-04T21:59:13.860Z"
   },
   {
    "duration": 10,
    "start_time": "2022-02-04T21:59:13.876Z"
   },
   {
    "duration": 354,
    "start_time": "2022-02-04T21:59:13.888Z"
   },
   {
    "duration": 14,
    "start_time": "2022-02-04T21:59:14.244Z"
   },
   {
    "duration": 78,
    "start_time": "2022-02-04T21:59:14.260Z"
   },
   {
    "duration": 114,
    "start_time": "2022-02-04T21:59:14.342Z"
   },
   {
    "duration": 589,
    "start_time": "2022-02-04T21:59:14.459Z"
   },
   {
    "duration": 7,
    "start_time": "2022-02-04T21:59:15.051Z"
   },
   {
    "duration": 1873,
    "start_time": "2022-02-04T21:59:15.060Z"
   },
   {
    "duration": 109,
    "start_time": "2022-02-04T21:59:16.936Z"
   },
   {
    "duration": 464,
    "start_time": "2022-02-04T21:59:17.047Z"
   },
   {
    "duration": 5071,
    "start_time": "2022-02-04T21:59:17.514Z"
   },
   {
    "duration": 482,
    "start_time": "2022-02-04T21:59:22.588Z"
   },
   {
    "duration": 5004,
    "start_time": "2022-02-04T22:02:40.994Z"
   },
   {
    "duration": 1790,
    "start_time": "2022-02-07T21:57:45.853Z"
   },
   {
    "duration": 3510,
    "start_time": "2022-02-07T21:57:47.645Z"
   },
   {
    "duration": 2879,
    "start_time": "2022-02-07T21:57:51.157Z"
   },
   {
    "duration": 2,
    "start_time": "2022-02-07T21:57:54.038Z"
   },
   {
    "duration": 32,
    "start_time": "2022-02-07T21:57:54.042Z"
   },
   {
    "duration": 8,
    "start_time": "2022-02-07T21:57:54.076Z"
   },
   {
    "duration": 14,
    "start_time": "2022-02-07T21:57:54.086Z"
   },
   {
    "duration": 6,
    "start_time": "2022-02-07T21:57:54.103Z"
   },
   {
    "duration": 22,
    "start_time": "2022-02-07T21:57:54.110Z"
   },
   {
    "duration": 11,
    "start_time": "2022-02-07T21:58:07.234Z"
   },
   {
    "duration": 172,
    "start_time": "2022-02-07T21:59:28.377Z"
   },
   {
    "duration": 408,
    "start_time": "2022-02-07T22:02:26.924Z"
   },
   {
    "duration": 341,
    "start_time": "2022-02-07T22:02:30.452Z"
   },
   {
    "duration": 126,
    "start_time": "2022-02-07T22:02:38.440Z"
   },
   {
    "duration": 278,
    "start_time": "2022-02-07T22:03:56.158Z"
   },
   {
    "duration": 6665,
    "start_time": "2022-02-14T06:52:23.276Z"
   },
   {
    "duration": 8083,
    "start_time": "2022-02-14T06:52:38.539Z"
   },
   {
    "duration": 6388,
    "start_time": "2022-02-14T06:52:48.547Z"
   },
   {
    "duration": 6987,
    "start_time": "2022-02-14T06:52:54.937Z"
   },
   {
    "duration": 1492,
    "start_time": "2022-02-14T06:53:01.927Z"
   },
   {
    "duration": 3,
    "start_time": "2022-02-14T06:53:03.421Z"
   },
   {
    "duration": 30,
    "start_time": "2022-02-14T06:53:03.425Z"
   },
   {
    "duration": 10,
    "start_time": "2022-02-14T06:53:03.456Z"
   },
   {
    "duration": 16,
    "start_time": "2022-02-14T06:53:03.468Z"
   },
   {
    "duration": 6,
    "start_time": "2022-02-14T06:53:03.486Z"
   },
   {
    "duration": 21,
    "start_time": "2022-02-14T06:53:03.494Z"
   },
   {
    "duration": 306,
    "start_time": "2022-02-14T06:53:03.517Z"
   },
   {
    "duration": 10,
    "start_time": "2022-02-14T06:53:03.824Z"
   },
   {
    "duration": 16,
    "start_time": "2022-02-14T06:53:03.836Z"
   },
   {
    "duration": 11,
    "start_time": "2022-02-14T06:53:03.853Z"
   },
   {
    "duration": 11,
    "start_time": "2022-02-14T06:53:03.865Z"
   },
   {
    "duration": 46,
    "start_time": "2022-02-14T06:53:03.877Z"
   },
   {
    "duration": 4,
    "start_time": "2022-02-14T06:53:03.924Z"
   },
   {
    "duration": 11,
    "start_time": "2022-02-14T06:53:03.929Z"
   },
   {
    "duration": 4,
    "start_time": "2022-02-14T06:53:03.941Z"
   },
   {
    "duration": 22,
    "start_time": "2022-02-14T06:53:03.946Z"
   },
   {
    "duration": 42,
    "start_time": "2022-02-14T06:53:03.970Z"
   },
   {
    "duration": 5,
    "start_time": "2022-02-14T06:53:04.014Z"
   },
   {
    "duration": 10,
    "start_time": "2022-02-14T06:53:04.021Z"
   },
   {
    "duration": 6,
    "start_time": "2022-02-14T06:53:04.033Z"
   },
   {
    "duration": 6,
    "start_time": "2022-02-14T06:53:04.041Z"
   },
   {
    "duration": 17,
    "start_time": "2022-02-14T06:53:04.049Z"
   },
   {
    "duration": 51,
    "start_time": "2022-02-14T06:53:04.068Z"
   },
   {
    "duration": 13,
    "start_time": "2022-02-14T06:53:04.125Z"
   },
   {
    "duration": 3,
    "start_time": "2022-02-14T06:53:04.141Z"
   },
   {
    "duration": 95,
    "start_time": "2022-02-14T06:53:04.146Z"
   },
   {
    "duration": 13,
    "start_time": "2022-02-14T06:53:04.243Z"
   },
   {
    "duration": 4,
    "start_time": "2022-02-14T06:53:04.257Z"
   },
   {
    "duration": 4,
    "start_time": "2022-02-14T06:53:04.263Z"
   },
   {
    "duration": 4,
    "start_time": "2022-02-14T06:53:04.269Z"
   },
   {
    "duration": 6641,
    "start_time": "2022-02-14T06:58:00.107Z"
   },
   {
    "duration": 7046,
    "start_time": "2022-02-14T06:58:06.750Z"
   },
   {
    "duration": 1469,
    "start_time": "2022-02-14T06:58:13.799Z"
   },
   {
    "duration": 3,
    "start_time": "2022-02-14T06:58:15.270Z"
   },
   {
    "duration": 26,
    "start_time": "2022-02-14T06:58:15.274Z"
   },
   {
    "duration": 12,
    "start_time": "2022-02-14T06:58:15.302Z"
   },
   {
    "duration": 16,
    "start_time": "2022-02-14T06:58:15.316Z"
   },
   {
    "duration": 7,
    "start_time": "2022-02-14T06:58:15.334Z"
   },
   {
    "duration": 10,
    "start_time": "2022-02-14T06:58:15.343Z"
   },
   {
    "duration": 290,
    "start_time": "2022-02-14T06:58:15.355Z"
   },
   {
    "duration": 11,
    "start_time": "2022-02-14T06:58:15.647Z"
   },
   {
    "duration": 13,
    "start_time": "2022-02-14T06:58:15.660Z"
   },
   {
    "duration": 11,
    "start_time": "2022-02-14T06:58:15.675Z"
   },
   {
    "duration": 11,
    "start_time": "2022-02-14T06:58:15.712Z"
   },
   {
    "duration": 11,
    "start_time": "2022-02-14T06:58:15.724Z"
   },
   {
    "duration": 4,
    "start_time": "2022-02-14T06:58:15.736Z"
   },
   {
    "duration": 11,
    "start_time": "2022-02-14T06:58:15.742Z"
   },
   {
    "duration": 4,
    "start_time": "2022-02-14T06:58:15.754Z"
   },
   {
    "duration": 51,
    "start_time": "2022-02-14T06:58:15.760Z"
   },
   {
    "duration": 14,
    "start_time": "2022-02-14T06:58:15.813Z"
   },
   {
    "duration": 5,
    "start_time": "2022-02-14T06:58:15.828Z"
   },
   {
    "duration": 5,
    "start_time": "2022-02-14T06:58:15.835Z"
   },
   {
    "duration": 5,
    "start_time": "2022-02-14T06:58:15.844Z"
   },
   {
    "duration": 4,
    "start_time": "2022-02-14T06:58:15.851Z"
   },
   {
    "duration": 16,
    "start_time": "2022-02-14T06:58:15.856Z"
   },
   {
    "duration": 55,
    "start_time": "2022-02-14T06:58:15.874Z"
   },
   {
    "duration": 11,
    "start_time": "2022-02-14T06:58:15.931Z"
   },
   {
    "duration": 5,
    "start_time": "2022-02-14T06:58:15.944Z"
   },
   {
    "duration": 80,
    "start_time": "2022-02-14T06:58:15.950Z"
   },
   {
    "duration": 11,
    "start_time": "2022-02-14T06:58:16.031Z"
   },
   {
    "duration": 3,
    "start_time": "2022-02-14T06:58:16.043Z"
   },
   {
    "duration": 5,
    "start_time": "2022-02-14T06:58:16.048Z"
   },
   {
    "duration": 4,
    "start_time": "2022-02-14T06:58:16.054Z"
   },
   {
    "duration": 172329,
    "start_time": "2022-02-14T06:58:16.060Z"
   },
   {
    "duration": 3,
    "start_time": "2022-02-14T07:01:08.390Z"
   },
   {
    "duration": 6241,
    "start_time": "2022-02-14T07:01:08.395Z"
   },
   {
    "duration": 10,
    "start_time": "2022-02-14T07:01:14.638Z"
   },
   {
    "duration": 3,
    "start_time": "2022-02-14T07:01:14.650Z"
   },
   {
    "duration": 5,
    "start_time": "2022-02-14T07:01:14.654Z"
   },
   {
    "duration": 33,
    "start_time": "2022-02-14T07:01:14.660Z"
   },
   {
    "duration": 18,
    "start_time": "2022-02-14T07:01:14.695Z"
   },
   {
    "duration": 4,
    "start_time": "2022-02-14T07:01:14.715Z"
   },
   {
    "duration": 7,
    "start_time": "2022-02-14T07:01:14.720Z"
   },
   {
    "duration": 6,
    "start_time": "2022-02-14T07:01:14.729Z"
   },
   {
    "duration": 4939,
    "start_time": "2022-02-14T07:01:14.736Z"
   },
   {
    "duration": 3,
    "start_time": "2022-02-14T07:01:19.676Z"
   },
   {
    "duration": 7,
    "start_time": "2022-02-14T07:01:19.681Z"
   },
   {
    "duration": 26,
    "start_time": "2022-02-14T07:01:19.690Z"
   },
   {
    "duration": 6,
    "start_time": "2022-02-14T07:01:19.717Z"
   },
   {
    "duration": 5,
    "start_time": "2022-02-14T07:01:19.724Z"
   },
   {
    "duration": 2,
    "start_time": "2022-02-14T07:01:19.731Z"
   },
   {
    "duration": 17,
    "start_time": "2022-02-14T07:01:19.735Z"
   },
   {
    "duration": 63,
    "start_time": "2022-02-14T07:01:19.754Z"
   },
   {
    "duration": 4,
    "start_time": "2022-02-14T07:01:19.819Z"
   },
   {
    "duration": 11,
    "start_time": "2022-02-14T07:01:19.912Z"
   },
   {
    "duration": 2,
    "start_time": "2022-02-14T07:01:19.925Z"
   },
   {
    "duration": 788,
    "start_time": "2022-02-14T07:01:19.929Z"
   },
   {
    "duration": 57,
    "start_time": "2022-02-14T07:01:20.718Z"
   },
   {
    "duration": 5,
    "start_time": "2022-02-14T07:01:20.777Z"
   },
   {
    "duration": 3,
    "start_time": "2022-02-14T07:01:20.783Z"
   },
   {
    "duration": 32,
    "start_time": "2022-02-14T07:01:20.788Z"
   },
   {
    "duration": 3,
    "start_time": "2022-02-14T07:01:20.822Z"
   },
   {
    "duration": 8,
    "start_time": "2022-02-14T07:01:20.827Z"
   },
   {
    "duration": 3,
    "start_time": "2022-02-14T07:01:20.837Z"
   },
   {
    "duration": 18,
    "start_time": "2022-02-14T07:01:20.841Z"
   },
   {
    "duration": 4,
    "start_time": "2022-02-14T07:01:20.861Z"
   },
   {
    "duration": 145,
    "start_time": "2022-02-14T07:01:20.867Z"
   },
   {
    "duration": 5,
    "start_time": "2022-02-14T07:01:21.017Z"
   },
   {
    "duration": 14,
    "start_time": "2022-02-14T07:01:21.024Z"
   },
   {
    "duration": 1583,
    "start_time": "2022-02-14T07:01:21.040Z"
   },
   {
    "duration": 31,
    "start_time": "2022-02-14T07:01:22.625Z"
   },
   {
    "duration": 56,
    "start_time": "2022-02-14T07:01:22.657Z"
   },
   {
    "duration": 6,
    "start_time": "2022-02-14T07:01:22.716Z"
   },
   {
    "duration": 16,
    "start_time": "2022-02-14T07:01:22.813Z"
   },
   {
    "duration": 459,
    "start_time": "2022-02-14T07:01:22.830Z"
   },
   {
    "duration": 11,
    "start_time": "2022-02-14T07:01:23.291Z"
   },
   {
    "duration": 18,
    "start_time": "2022-02-14T07:01:23.303Z"
   },
   {
    "duration": 345,
    "start_time": "2022-02-14T07:01:23.324Z"
   },
   {
    "duration": 10,
    "start_time": "2022-02-14T07:01:23.670Z"
   },
   {
    "duration": 59,
    "start_time": "2022-02-14T07:01:23.681Z"
   },
   {
    "duration": 20,
    "start_time": "2022-02-14T07:01:23.742Z"
   },
   {
    "duration": 9,
    "start_time": "2022-02-14T07:01:23.764Z"
   },
   {
    "duration": 6,
    "start_time": "2022-02-14T07:01:23.775Z"
   },
   {
    "duration": 230,
    "start_time": "2022-02-14T07:01:23.783Z"
   },
   {
    "duration": 9,
    "start_time": "2022-02-14T07:01:24.015Z"
   },
   {
    "duration": 10,
    "start_time": "2022-02-14T07:01:24.026Z"
   },
   {
    "duration": 101,
    "start_time": "2022-02-14T07:01:24.113Z"
   },
   {
    "duration": 297,
    "start_time": "2022-02-14T07:01:24.216Z"
   },
   {
    "duration": 4,
    "start_time": "2022-02-14T07:01:24.515Z"
   },
   {
    "duration": 1103,
    "start_time": "2022-02-14T07:01:24.521Z"
   },
   {
    "duration": 58,
    "start_time": "2022-02-14T07:01:25.626Z"
   },
   {
    "duration": 294,
    "start_time": "2022-02-14T07:01:25.686Z"
   },
   {
    "duration": 3076,
    "start_time": "2022-02-14T07:01:25.982Z"
   },
   {
    "duration": 277,
    "start_time": "2022-02-14T07:01:29.059Z"
   }
  ],
  "kernelspec": {
   "display_name": "Python 3 (ipykernel)",
   "language": "python",
   "name": "python3"
  },
  "language_info": {
   "codemirror_mode": {
    "name": "ipython",
    "version": 3
   },
   "file_extension": ".py",
   "mimetype": "text/x-python",
   "name": "python",
   "nbconvert_exporter": "python",
   "pygments_lexer": "ipython3",
   "version": "3.9.13"
  },
  "notebookId": "b8c1042b-9b41-47bb-8fea-6ba58ece1c26",
  "notebookPath": "ds-supervised-learning.ipynb",
  "toc": {
   "base_numbering": 1,
   "nav_menu": {},
   "number_sections": true,
   "sideBar": true,
   "skip_h1_title": true,
   "title_cell": "Содержание",
   "title_sidebar": "Contents",
   "toc_cell": true,
   "toc_position": {},
   "toc_section_display": true,
   "toc_window_display": false
  }
 },
 "nbformat": 4,
 "nbformat_minor": 4
}
