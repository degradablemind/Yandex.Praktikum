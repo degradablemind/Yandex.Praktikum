{
 "cells": [
  {
   "cell_type": "markdown",
   "metadata": {
    "cellId": "nb8cpqzn1b4dfdiz3qlwe"
   },
   "source": [
    "# Формулирование задачи"
   ]
  },
  {
   "cell_type": "markdown",
   "metadata": {},
   "source": [
    "## Определение перспективного тарифа для телеком-компании"
   ]
  },
  {
   "cell_type": "markdown",
   "metadata": {
    "cellId": "sk4hdlyh1flqbn4y2evabl"
   },
   "source": [
    "### Цель\n",
    "Определить лучший из двух тарифов с точки зрения финансовой выгоды"
   ]
  },
  {
   "cell_type": "markdown",
   "metadata": {
    "cellId": "xu47cnzj4zhez4hysjoe26"
   },
   "source": [
    "### Задачи\n",
    "1. Проанализировать поведение клиентов\n",
    "2. Проанализировать потребности пользователей каждого тарифного плана в месяц:\n",
    "  - количество минут разговора\n",
    "  - количество сообщений\n",
    "  - объём интернет-трафика \n",
    "3. Сформулировать и проверить гипотезы:\n",
    "  - о различении средней выручки пользователей тарифов \"Ультра\" и \"Смарт\"\n",
    "  - о различении средней выручки пользователей регионов и Москвы тарифов \"Ультра\" и \"Смарт\""
   ]
  },
  {
   "cell_type": "markdown",
   "metadata": {
    "cellId": "r5jm86qsx7r8kw4p904w9"
   },
   "source": [
    "**Описание тарифов**:\n",
    "\n",
    "Тариф «Смарт»\n",
    "\n",
    "Ежемесячная плата: 550 рублей\n",
    "Включено 500 минут разговора, 50 сообщений и 15 Гб интернет-трафика\n",
    "Стоимость услуг сверх тарифного пакета: \n",
    "1. минута разговора: 3 рубля («Мегалайн» всегда округляет вверх значения минут и мегабайтов. Если пользователь проговорил всего 1 секунду, в тарифе засчитывается целая минута); \n",
    "2. сообщение: 3 рубля; \n",
    "3. 1 Гб интернет-трафика: 200 рублей.\n",
    "\n",
    "Тариф «Ультра»\n",
    "\n",
    "Ежемесячная плата: 1950 рублей\n",
    "Включено 3000 минут разговора, 1000 сообщений и 30 Гб интернет-трафика\n",
    "Стоимость услуг сверх тарифного пакета: \n",
    "1. минута разговора: 1 рубль; \n",
    "2. сообщение: 1 рубль; \n",
    "3. 1 Гб интернет-трафика: 150 рублей."
   ]
  },
  {
   "cell_type": "markdown",
   "metadata": {
    "cellId": "cxibqr2vtldherjp3l465l"
   },
   "source": [
    "**Примечение**: всегда округление секунды до минут, а мегабайты — до гигабайт. Каждый звонок округляется отдельно: даже если он длился всего 1 секунду, будет засчитан как 1 минута. Для веб-трафика отдельные сессии не считаются. Вместо этого общая сумма за месяц округляется в бо́льшую сторону. Если абонент использует 1025 мегабайт в этом месяце, с него возьмут плату за 2 гигабайта."
   ]
  },
  {
   "cell_type": "code",
   "execution_count": 2,
   "metadata": {
    "cellId": "dvlnci0tswhzh56ap87e"
   },
   "outputs": [],
   "source": [
    "# импотртируем необходимые библиотеки до начала работы с кодом\n",
    "import pandas as pd\n",
    "from IPython.display import display\n",
    "import matplotlib.pyplot as plt\n",
    "import numpy as np\n",
    "from scipy import stats as st\n",
    "from math import factorial\n",
    "import seaborn as sns\n",
    "from numpy import mean"
   ]
  },
  {
   "cell_type": "markdown",
   "metadata": {
    "cellId": "wf4jl4dkbif9i1m8t8mrlo"
   },
   "source": [
    "# Обзор данных"
   ]
  },
  {
   "cell_type": "code",
   "execution_count": 3,
   "metadata": {
    "cellId": "4qquplj85nitq0pa3b3c2a"
   },
   "outputs": [],
   "source": [
    "# откроем таблицы и посмотрим из чего они состоят\n",
    "calls_data = pd.read_csv('/datasets/calls.csv')\n",
    "internet_data = pd.read_csv('/datasets/internet.csv')\n",
    "messages_data = pd.read_csv('/datasets/messages.csv')\n",
    "tariffs_data = pd.read_csv('/datasets/tariffs.csv')\n",
    "users_data = pd.read_csv('/datasets/users.csv')\n",
    "# и далее просмотрим наименования столбцов и уникальные значения"
   ]
  },
  {
   "cell_type": "code",
   "execution_count": 4,
   "metadata": {
    "cellId": "24kujb4ll8gm9tfrx01brh",
    "scrolled": false
   },
   "outputs": [
    {
     "name": "stdout",
     "output_type": "stream",
     "text": [
      "<class 'pandas.core.frame.DataFrame'>\n",
      "RangeIndex: 202607 entries, 0 to 202606\n",
      "Data columns (total 4 columns):\n",
      "id           202607 non-null object\n",
      "call_date    202607 non-null object\n",
      "duration     202607 non-null float64\n",
      "user_id      202607 non-null int64\n",
      "dtypes: float64(1), int64(1), object(2)\n",
      "memory usage: 6.2+ MB\n"
     ]
    },
    {
     "data": {
      "text/html": [
       "<div>\n",
       "<style scoped>\n",
       "    .dataframe tbody tr th:only-of-type {\n",
       "        vertical-align: middle;\n",
       "    }\n",
       "\n",
       "    .dataframe tbody tr th {\n",
       "        vertical-align: top;\n",
       "    }\n",
       "\n",
       "    .dataframe thead th {\n",
       "        text-align: right;\n",
       "    }\n",
       "</style>\n",
       "<table border=\"1\" class=\"dataframe\">\n",
       "  <thead>\n",
       "    <tr style=\"text-align: right;\">\n",
       "      <th></th>\n",
       "      <th>id</th>\n",
       "      <th>call_date</th>\n",
       "      <th>duration</th>\n",
       "      <th>user_id</th>\n",
       "    </tr>\n",
       "  </thead>\n",
       "  <tbody>\n",
       "    <tr>\n",
       "      <td>0</td>\n",
       "      <td>1000_0</td>\n",
       "      <td>2018-07-25</td>\n",
       "      <td>0.00</td>\n",
       "      <td>1000</td>\n",
       "    </tr>\n",
       "    <tr>\n",
       "      <td>1</td>\n",
       "      <td>1000_1</td>\n",
       "      <td>2018-08-17</td>\n",
       "      <td>0.00</td>\n",
       "      <td>1000</td>\n",
       "    </tr>\n",
       "    <tr>\n",
       "      <td>2</td>\n",
       "      <td>1000_2</td>\n",
       "      <td>2018-06-11</td>\n",
       "      <td>2.85</td>\n",
       "      <td>1000</td>\n",
       "    </tr>\n",
       "    <tr>\n",
       "      <td>3</td>\n",
       "      <td>1000_3</td>\n",
       "      <td>2018-09-21</td>\n",
       "      <td>13.80</td>\n",
       "      <td>1000</td>\n",
       "    </tr>\n",
       "    <tr>\n",
       "      <td>4</td>\n",
       "      <td>1000_4</td>\n",
       "      <td>2018-12-15</td>\n",
       "      <td>5.18</td>\n",
       "      <td>1000</td>\n",
       "    </tr>\n",
       "    <tr>\n",
       "      <td>5</td>\n",
       "      <td>1000_5</td>\n",
       "      <td>2018-11-02</td>\n",
       "      <td>0.00</td>\n",
       "      <td>1000</td>\n",
       "    </tr>\n",
       "    <tr>\n",
       "      <td>6</td>\n",
       "      <td>1000_6</td>\n",
       "      <td>2018-10-18</td>\n",
       "      <td>0.00</td>\n",
       "      <td>1000</td>\n",
       "    </tr>\n",
       "    <tr>\n",
       "      <td>7</td>\n",
       "      <td>1000_7</td>\n",
       "      <td>2018-08-22</td>\n",
       "      <td>18.31</td>\n",
       "      <td>1000</td>\n",
       "    </tr>\n",
       "    <tr>\n",
       "      <td>8</td>\n",
       "      <td>1000_8</td>\n",
       "      <td>2018-09-15</td>\n",
       "      <td>18.44</td>\n",
       "      <td>1000</td>\n",
       "    </tr>\n",
       "    <tr>\n",
       "      <td>9</td>\n",
       "      <td>1000_9</td>\n",
       "      <td>2018-08-15</td>\n",
       "      <td>0.00</td>\n",
       "      <td>1000</td>\n",
       "    </tr>\n",
       "  </tbody>\n",
       "</table>\n",
       "</div>"
      ],
      "text/plain": [
       "       id   call_date  duration  user_id\n",
       "0  1000_0  2018-07-25      0.00     1000\n",
       "1  1000_1  2018-08-17      0.00     1000\n",
       "2  1000_2  2018-06-11      2.85     1000\n",
       "3  1000_3  2018-09-21     13.80     1000\n",
       "4  1000_4  2018-12-15      5.18     1000\n",
       "5  1000_5  2018-11-02      0.00     1000\n",
       "6  1000_6  2018-10-18      0.00     1000\n",
       "7  1000_7  2018-08-22     18.31     1000\n",
       "8  1000_8  2018-09-15     18.44     1000\n",
       "9  1000_9  2018-08-15      0.00     1000"
      ]
     },
     "metadata": {},
     "output_type": "display_data"
    },
    {
     "data": {
      "text/plain": [
       "Index(['id', 'call_date', 'duration', 'user_id'], dtype='object')"
      ]
     },
     "execution_count": 4,
     "metadata": {},
     "output_type": "execute_result"
    }
   ],
   "source": [
    "calls_data.info() # общая информация о датафрейме (здесь и далее)\n",
    "display(calls_data.head(10)) # просмотрим внешний вид таблицы (здесь и далее)\n",
    "calls_data.columns # изучим наименования столбцов (здесь и далее)\n",
    "\n",
    "# для проверки уникальных значений раскомментируем функцию ниже\n",
    "# for column in calls_data:\n",
    "#     print(calls_data[column].unique())\n",
    "#     print()\n",
    "# по результатам проверки оказалось, что значения, в целом, в порядке"
   ]
  },
  {
   "cell_type": "code",
   "execution_count": 5,
   "metadata": {},
   "outputs": [
    {
     "name": "stdout",
     "output_type": "stream",
     "text": [
      "Таблица распределения продолжительности вызовов\n",
      " count    202607.000000\n",
      "mean          6.755887\n",
      "std           5.843365\n",
      "min           0.000000\n",
      "25%           1.300000\n",
      "50%           6.000000\n",
      "75%          10.700000\n",
      "max          38.000000\n",
      "Name: duration, dtype: float64\n"
     ]
    },
    {
     "data": {
      "text/plain": [
       "Text(0.5, 1.0, 'Распределение продолжительности исходящего вызова')"
      ]
     },
     "execution_count": 5,
     "metadata": {},
     "output_type": "execute_result"
    },
    {
     "data": {
      "image/png": "[encoded data removed]",
      "text/plain": [
       "<Figure size 432x288 with 1 Axes>"
      ]
     },
     "metadata": {
      "needs_background": "light"
     },
     "output_type": "display_data"
    }
   ],
   "source": [
    "# проверим данные столбцы на \"выбросы\"\n",
    "print('Таблица распределения продолжительности вызовов\\n',calls_data['duration'].describe())\n",
    "calls_data['duration'].value_counts()\n",
    "calls_data.boxplot('duration')\n",
    "plt.ylabel('Продолжительность звонка')\n",
    "plt.title('Распределение продолжительности исходящего вызова')\n"
   ]
  },
  {
   "cell_type": "code",
   "execution_count": 6,
   "metadata": {},
   "outputs": [
    {
     "data": {
      "text/plain": [
       "Text(0.5, 1.0, 'Гисторамма распределения продолжительности исходящего вызова')"
      ]
     },
     "execution_count": 6,
     "metadata": {},
     "output_type": "execute_result"
    },
    {
     "data": {
      "image/png": "[encoded data removed]",
      "text/plain": [
       "<Figure size 864x360 with 1 Axes>"
      ]
     },
     "metadata": {
      "needs_background": "light"
     },
     "output_type": "display_data"
    }
   ],
   "source": [
    "# посторим гистограмму распределения значений\n",
    "calls_data['duration'].hist(bins=50, figsize=(12, 5))\n",
    "plt.xlabel('Продолжительность звонка')\n",
    "plt.ylabel('Частота встречаемости')\n",
    "plt.title('Гисторамма распределения продолжительности исходящего вызова')"
   ]
  },
  {
   "cell_type": "code",
   "execution_count": 7,
   "metadata": {
    "cellId": "6a06v4h34771vo0bluo8fd",
    "scrolled": false
   },
   "outputs": [
    {
     "name": "stdout",
     "output_type": "stream",
     "text": [
      "<class 'pandas.core.frame.DataFrame'>\n",
      "RangeIndex: 149396 entries, 0 to 149395\n",
      "Data columns (total 5 columns):\n",
      "Unnamed: 0      149396 non-null int64\n",
      "id              149396 non-null object\n",
      "mb_used         149396 non-null float64\n",
      "session_date    149396 non-null object\n",
      "user_id         149396 non-null int64\n",
      "dtypes: float64(1), int64(2), object(2)\n",
      "memory usage: 5.7+ MB\n"
     ]
    },
    {
     "data": {
      "text/html": [
       "<div>\n",
       "<style scoped>\n",
       "    .dataframe tbody tr th:only-of-type {\n",
       "        vertical-align: middle;\n",
       "    }\n",
       "\n",
       "    .dataframe tbody tr th {\n",
       "        vertical-align: top;\n",
       "    }\n",
       "\n",
       "    .dataframe thead th {\n",
       "        text-align: right;\n",
       "    }\n",
       "</style>\n",
       "<table border=\"1\" class=\"dataframe\">\n",
       "  <thead>\n",
       "    <tr style=\"text-align: right;\">\n",
       "      <th></th>\n",
       "      <th>Unnamed: 0</th>\n",
       "      <th>id</th>\n",
       "      <th>mb_used</th>\n",
       "      <th>session_date</th>\n",
       "      <th>user_id</th>\n",
       "    </tr>\n",
       "  </thead>\n",
       "  <tbody>\n",
       "    <tr>\n",
       "      <td>0</td>\n",
       "      <td>0</td>\n",
       "      <td>1000_0</td>\n",
       "      <td>112.95</td>\n",
       "      <td>2018-11-25</td>\n",
       "      <td>1000</td>\n",
       "    </tr>\n",
       "    <tr>\n",
       "      <td>1</td>\n",
       "      <td>1</td>\n",
       "      <td>1000_1</td>\n",
       "      <td>1052.81</td>\n",
       "      <td>2018-09-07</td>\n",
       "      <td>1000</td>\n",
       "    </tr>\n",
       "    <tr>\n",
       "      <td>2</td>\n",
       "      <td>2</td>\n",
       "      <td>1000_2</td>\n",
       "      <td>1197.26</td>\n",
       "      <td>2018-06-25</td>\n",
       "      <td>1000</td>\n",
       "    </tr>\n",
       "    <tr>\n",
       "      <td>3</td>\n",
       "      <td>3</td>\n",
       "      <td>1000_3</td>\n",
       "      <td>550.27</td>\n",
       "      <td>2018-08-22</td>\n",
       "      <td>1000</td>\n",
       "    </tr>\n",
       "    <tr>\n",
       "      <td>4</td>\n",
       "      <td>4</td>\n",
       "      <td>1000_4</td>\n",
       "      <td>302.56</td>\n",
       "      <td>2018-09-24</td>\n",
       "      <td>1000</td>\n",
       "    </tr>\n",
       "    <tr>\n",
       "      <td>5</td>\n",
       "      <td>5</td>\n",
       "      <td>1000_5</td>\n",
       "      <td>399.97</td>\n",
       "      <td>2018-10-02</td>\n",
       "      <td>1000</td>\n",
       "    </tr>\n",
       "    <tr>\n",
       "      <td>6</td>\n",
       "      <td>6</td>\n",
       "      <td>1000_6</td>\n",
       "      <td>540.08</td>\n",
       "      <td>2018-09-07</td>\n",
       "      <td>1000</td>\n",
       "    </tr>\n",
       "    <tr>\n",
       "      <td>7</td>\n",
       "      <td>7</td>\n",
       "      <td>1000_7</td>\n",
       "      <td>415.70</td>\n",
       "      <td>2018-07-11</td>\n",
       "      <td>1000</td>\n",
       "    </tr>\n",
       "    <tr>\n",
       "      <td>8</td>\n",
       "      <td>8</td>\n",
       "      <td>1000_8</td>\n",
       "      <td>505.40</td>\n",
       "      <td>2018-10-08</td>\n",
       "      <td>1000</td>\n",
       "    </tr>\n",
       "    <tr>\n",
       "      <td>9</td>\n",
       "      <td>9</td>\n",
       "      <td>1000_9</td>\n",
       "      <td>345.54</td>\n",
       "      <td>2018-09-03</td>\n",
       "      <td>1000</td>\n",
       "    </tr>\n",
       "  </tbody>\n",
       "</table>\n",
       "</div>"
      ],
      "text/plain": [
       "   Unnamed: 0      id  mb_used session_date  user_id\n",
       "0           0  1000_0   112.95   2018-11-25     1000\n",
       "1           1  1000_1  1052.81   2018-09-07     1000\n",
       "2           2  1000_2  1197.26   2018-06-25     1000\n",
       "3           3  1000_3   550.27   2018-08-22     1000\n",
       "4           4  1000_4   302.56   2018-09-24     1000\n",
       "5           5  1000_5   399.97   2018-10-02     1000\n",
       "6           6  1000_6   540.08   2018-09-07     1000\n",
       "7           7  1000_7   415.70   2018-07-11     1000\n",
       "8           8  1000_8   505.40   2018-10-08     1000\n",
       "9           9  1000_9   345.54   2018-09-03     1000"
      ]
     },
     "metadata": {},
     "output_type": "display_data"
    },
    {
     "data": {
      "text/html": [
       "<div>\n",
       "<style scoped>\n",
       "    .dataframe tbody tr th:only-of-type {\n",
       "        vertical-align: middle;\n",
       "    }\n",
       "\n",
       "    .dataframe tbody tr th {\n",
       "        vertical-align: top;\n",
       "    }\n",
       "\n",
       "    .dataframe thead th {\n",
       "        text-align: right;\n",
       "    }\n",
       "</style>\n",
       "<table border=\"1\" class=\"dataframe\">\n",
       "  <thead>\n",
       "    <tr style=\"text-align: right;\">\n",
       "      <th></th>\n",
       "      <th>Unnamed: 0</th>\n",
       "      <th>id</th>\n",
       "      <th>mb_used</th>\n",
       "      <th>session_date</th>\n",
       "      <th>user_id</th>\n",
       "    </tr>\n",
       "  </thead>\n",
       "  <tbody>\n",
       "    <tr>\n",
       "      <td>116616</td>\n",
       "      <td>116616</td>\n",
       "      <td>1393_102</td>\n",
       "      <td>0.00</td>\n",
       "      <td>2018-06-03</td>\n",
       "      <td>1393</td>\n",
       "    </tr>\n",
       "    <tr>\n",
       "      <td>53410</td>\n",
       "      <td>53410</td>\n",
       "      <td>1179_272</td>\n",
       "      <td>0.00</td>\n",
       "      <td>2018-08-11</td>\n",
       "      <td>1179</td>\n",
       "    </tr>\n",
       "    <tr>\n",
       "      <td>104303</td>\n",
       "      <td>104303</td>\n",
       "      <td>1353_239</td>\n",
       "      <td>0.00</td>\n",
       "      <td>2018-10-26</td>\n",
       "      <td>1353</td>\n",
       "    </tr>\n",
       "    <tr>\n",
       "      <td>19438</td>\n",
       "      <td>19438</td>\n",
       "      <td>1065_583</td>\n",
       "      <td>0.00</td>\n",
       "      <td>2018-03-26</td>\n",
       "      <td>1065</td>\n",
       "    </tr>\n",
       "    <tr>\n",
       "      <td>19437</td>\n",
       "      <td>19437</td>\n",
       "      <td>1065_582</td>\n",
       "      <td>0.00</td>\n",
       "      <td>2018-07-14</td>\n",
       "      <td>1065</td>\n",
       "    </tr>\n",
       "    <tr>\n",
       "      <td>...</td>\n",
       "      <td>...</td>\n",
       "      <td>...</td>\n",
       "      <td>...</td>\n",
       "      <td>...</td>\n",
       "      <td>...</td>\n",
       "    </tr>\n",
       "    <tr>\n",
       "      <td>140299</td>\n",
       "      <td>140299</td>\n",
       "      <td>1471_182</td>\n",
       "      <td>1623.92</td>\n",
       "      <td>2018-07-29</td>\n",
       "      <td>1471</td>\n",
       "    </tr>\n",
       "    <tr>\n",
       "      <td>103480</td>\n",
       "      <td>103480</td>\n",
       "      <td>1348_138</td>\n",
       "      <td>1651.25</td>\n",
       "      <td>2018-10-31</td>\n",
       "      <td>1348</td>\n",
       "    </tr>\n",
       "    <tr>\n",
       "      <td>7063</td>\n",
       "      <td>7063</td>\n",
       "      <td>1024_118</td>\n",
       "      <td>1651.55</td>\n",
       "      <td>2018-11-15</td>\n",
       "      <td>1024</td>\n",
       "    </tr>\n",
       "    <tr>\n",
       "      <td>119156</td>\n",
       "      <td>119156</td>\n",
       "      <td>1402_191</td>\n",
       "      <td>1702.75</td>\n",
       "      <td>2018-10-26</td>\n",
       "      <td>1402</td>\n",
       "    </tr>\n",
       "    <tr>\n",
       "      <td>137493</td>\n",
       "      <td>137493</td>\n",
       "      <td>1461_9</td>\n",
       "      <td>1724.83</td>\n",
       "      <td>2018-11-28</td>\n",
       "      <td>1461</td>\n",
       "    </tr>\n",
       "  </tbody>\n",
       "</table>\n",
       "<p>149396 rows × 5 columns</p>\n",
       "</div>"
      ],
      "text/plain": [
       "        Unnamed: 0        id  mb_used session_date  user_id\n",
       "116616      116616  1393_102     0.00   2018-06-03     1393\n",
       "53410        53410  1179_272     0.00   2018-08-11     1179\n",
       "104303      104303  1353_239     0.00   2018-10-26     1353\n",
       "19438        19438  1065_583     0.00   2018-03-26     1065\n",
       "19437        19437  1065_582     0.00   2018-07-14     1065\n",
       "...            ...       ...      ...          ...      ...\n",
       "140299      140299  1471_182  1623.92   2018-07-29     1471\n",
       "103480      103480  1348_138  1651.25   2018-10-31     1348\n",
       "7063          7063  1024_118  1651.55   2018-11-15     1024\n",
       "119156      119156  1402_191  1702.75   2018-10-26     1402\n",
       "137493      137493    1461_9  1724.83   2018-11-28     1461\n",
       "\n",
       "[149396 rows x 5 columns]"
      ]
     },
     "execution_count": 7,
     "metadata": {},
     "output_type": "execute_result"
    }
   ],
   "source": [
    "internet_data.info()\n",
    "display(internet_data.head(10))\n",
    "internet_data.columns\n",
    "\n",
    "# для проверки уникальных значений раскомментируем функцию ниже\n",
    "# for column in internet_data:\n",
    "#     print(internet_data[column].unique())\n",
    "#     print()\n",
    "# по результатам проверки оказалось, что значения, в целом, в порядке\n",
    "internet_data = internet_data.sort_values(by='mb_used', ascending=True)\n",
    "# df['count']=df.groupby(['A'])['B'].isnull().transform('sum')\n",
    "internet_data"
   ]
  },
  {
   "cell_type": "code",
   "execution_count": 8,
   "metadata": {
    "scrolled": false
   },
   "outputs": [
    {
     "name": "stdout",
     "output_type": "stream",
     "text": [
      "Таблица распределния использованног интернет-трафика\n",
      " count    149396.000000\n",
      "mean        370.192426\n",
      "std         278.300951\n",
      "min           0.000000\n",
      "25%         138.187500\n",
      "50%         348.015000\n",
      "75%         559.552500\n",
      "max        1724.830000\n",
      "Name: mb_used, dtype: float64\n"
     ]
    },
    {
     "data": {
      "text/plain": [
       "Text(0.5, 1.0, 'Распределение объема интернет-трафика')"
      ]
     },
     "execution_count": 8,
     "metadata": {},
     "output_type": "execute_result"
    },
    {
     "data": {
      "image/png": "[encoded data removed]",
      "text/plain": [
       "<Figure size 432x288 with 1 Axes>"
      ]
     },
     "metadata": {
      "needs_background": "light"
     },
     "output_type": "display_data"
    }
   ],
   "source": [
    "# проверим данные столбцы на \"выбросы\"\n",
    "print('Таблица распределния использованног интернет-трафика\\n',\n",
    "        internet_data['mb_used'].describe())\n",
    "internet_data.boxplot('mb_used')\n",
    "plt.ylabel('Объем трафика, Мб')\n",
    "plt.title('Распределение объема интернет-трафика')"
   ]
  },
  {
   "cell_type": "code",
   "execution_count": 9,
   "metadata": {},
   "outputs": [
    {
     "data": {
      "text/plain": [
       "Text(0.5, 1.0, 'Гисторамма распределения объема интернет-трафика')"
      ]
     },
     "execution_count": 9,
     "metadata": {},
     "output_type": "execute_result"
    },
    {
     "data": {
      "image/png": "[encoded data removed]",
      "text/plain": [
       "<Figure size 864x360 with 1 Axes>"
      ]
     },
     "metadata": {
      "needs_background": "light"
     },
     "output_type": "display_data"
    }
   ],
   "source": [
    "# посторим гистограмму распределения значений\n",
    "internet_data['mb_used'].hist(bins=50, figsize=(12, 5))\n",
    "plt.ylabel('Частота встречаемости')\n",
    "plt.xlabel('Объем трафика, Мб')\n",
    "plt.title('Гисторамма распределения объема интернет-трафика')"
   ]
  },
  {
   "cell_type": "code",
   "execution_count": 10,
   "metadata": {
    "cellId": "v7iuxga8jjqydf14fyhb",
    "scrolled": true
   },
   "outputs": [
    {
     "name": "stdout",
     "output_type": "stream",
     "text": [
      "<class 'pandas.core.frame.DataFrame'>\n",
      "RangeIndex: 123036 entries, 0 to 123035\n",
      "Data columns (total 3 columns):\n",
      "id              123036 non-null object\n",
      "message_date    123036 non-null object\n",
      "user_id         123036 non-null int64\n",
      "dtypes: int64(1), object(2)\n",
      "memory usage: 2.8+ MB\n"
     ]
    },
    {
     "data": {
      "text/html": [
       "<div>\n",
       "<style scoped>\n",
       "    .dataframe tbody tr th:only-of-type {\n",
       "        vertical-align: middle;\n",
       "    }\n",
       "\n",
       "    .dataframe tbody tr th {\n",
       "        vertical-align: top;\n",
       "    }\n",
       "\n",
       "    .dataframe thead th {\n",
       "        text-align: right;\n",
       "    }\n",
       "</style>\n",
       "<table border=\"1\" class=\"dataframe\">\n",
       "  <thead>\n",
       "    <tr style=\"text-align: right;\">\n",
       "      <th></th>\n",
       "      <th>id</th>\n",
       "      <th>message_date</th>\n",
       "      <th>user_id</th>\n",
       "    </tr>\n",
       "  </thead>\n",
       "  <tbody>\n",
       "    <tr>\n",
       "      <td>0</td>\n",
       "      <td>1000_0</td>\n",
       "      <td>2018-06-27</td>\n",
       "      <td>1000</td>\n",
       "    </tr>\n",
       "    <tr>\n",
       "      <td>1</td>\n",
       "      <td>1000_1</td>\n",
       "      <td>2018-10-08</td>\n",
       "      <td>1000</td>\n",
       "    </tr>\n",
       "    <tr>\n",
       "      <td>2</td>\n",
       "      <td>1000_2</td>\n",
       "      <td>2018-08-04</td>\n",
       "      <td>1000</td>\n",
       "    </tr>\n",
       "    <tr>\n",
       "      <td>3</td>\n",
       "      <td>1000_3</td>\n",
       "      <td>2018-06-16</td>\n",
       "      <td>1000</td>\n",
       "    </tr>\n",
       "    <tr>\n",
       "      <td>4</td>\n",
       "      <td>1000_4</td>\n",
       "      <td>2018-12-05</td>\n",
       "      <td>1000</td>\n",
       "    </tr>\n",
       "  </tbody>\n",
       "</table>\n",
       "</div>"
      ],
      "text/plain": [
       "       id message_date  user_id\n",
       "0  1000_0   2018-06-27     1000\n",
       "1  1000_1   2018-10-08     1000\n",
       "2  1000_2   2018-08-04     1000\n",
       "3  1000_3   2018-06-16     1000\n",
       "4  1000_4   2018-12-05     1000"
      ]
     },
     "metadata": {},
     "output_type": "display_data"
    },
    {
     "data": {
      "text/plain": [
       "Index(['id', 'message_date', 'user_id'], dtype='object')"
      ]
     },
     "execution_count": 10,
     "metadata": {},
     "output_type": "execute_result"
    }
   ],
   "source": [
    "messages_data.info()\n",
    "display(messages_data.head())\n",
    "messages_data.columns\n",
    "\n",
    "# для проверки уникальных значений раскомментируем функцию ниже\n",
    "# for column in messages_data:\n",
    "#     print(messages_data[column].unique())\n",
    "#     print()\n",
    "# по результатам проверки оказалось, что значения, в целом, в порядке"
   ]
  },
  {
   "cell_type": "code",
   "execution_count": 11,
   "metadata": {
    "cellId": "i3d6o9qsh6uk7qehc7o3d"
   },
   "outputs": [
    {
     "name": "stdout",
     "output_type": "stream",
     "text": [
      "<class 'pandas.core.frame.DataFrame'>\n",
      "RangeIndex: 2 entries, 0 to 1\n",
      "Data columns (total 8 columns):\n",
      "messages_included        2 non-null int64\n",
      "mb_per_month_included    2 non-null int64\n",
      "minutes_included         2 non-null int64\n",
      "rub_monthly_fee          2 non-null int64\n",
      "rub_per_gb               2 non-null int64\n",
      "rub_per_message          2 non-null int64\n",
      "rub_per_minute           2 non-null int64\n",
      "tariff_name              2 non-null object\n",
      "dtypes: int64(7), object(1)\n",
      "memory usage: 256.0+ bytes\n"
     ]
    },
    {
     "data": {
      "text/html": [
       "<div>\n",
       "<style scoped>\n",
       "    .dataframe tbody tr th:only-of-type {\n",
       "        vertical-align: middle;\n",
       "    }\n",
       "\n",
       "    .dataframe tbody tr th {\n",
       "        vertical-align: top;\n",
       "    }\n",
       "\n",
       "    .dataframe thead th {\n",
       "        text-align: right;\n",
       "    }\n",
       "</style>\n",
       "<table border=\"1\" class=\"dataframe\">\n",
       "  <thead>\n",
       "    <tr style=\"text-align: right;\">\n",
       "      <th></th>\n",
       "      <th>messages_included</th>\n",
       "      <th>mb_per_month_included</th>\n",
       "      <th>minutes_included</th>\n",
       "      <th>rub_monthly_fee</th>\n",
       "      <th>rub_per_gb</th>\n",
       "      <th>rub_per_message</th>\n",
       "      <th>rub_per_minute</th>\n",
       "      <th>tariff_name</th>\n",
       "    </tr>\n",
       "  </thead>\n",
       "  <tbody>\n",
       "    <tr>\n",
       "      <td>0</td>\n",
       "      <td>50</td>\n",
       "      <td>15360</td>\n",
       "      <td>500</td>\n",
       "      <td>550</td>\n",
       "      <td>200</td>\n",
       "      <td>3</td>\n",
       "      <td>3</td>\n",
       "      <td>smart</td>\n",
       "    </tr>\n",
       "    <tr>\n",
       "      <td>1</td>\n",
       "      <td>1000</td>\n",
       "      <td>30720</td>\n",
       "      <td>3000</td>\n",
       "      <td>1950</td>\n",
       "      <td>150</td>\n",
       "      <td>1</td>\n",
       "      <td>1</td>\n",
       "      <td>ultra</td>\n",
       "    </tr>\n",
       "  </tbody>\n",
       "</table>\n",
       "</div>"
      ],
      "text/plain": [
       "   messages_included  mb_per_month_included  minutes_included  \\\n",
       "0                 50                  15360               500   \n",
       "1               1000                  30720              3000   \n",
       "\n",
       "   rub_monthly_fee  rub_per_gb  rub_per_message  rub_per_minute tariff_name  \n",
       "0              550         200                3               3       smart  \n",
       "1             1950         150                1               1       ultra  "
      ]
     },
     "metadata": {},
     "output_type": "display_data"
    },
    {
     "data": {
      "text/plain": [
       "Index(['messages_included', 'mb_per_month_included', 'minutes_included',\n",
       "       'rub_monthly_fee', 'rub_per_gb', 'rub_per_message', 'rub_per_minute',\n",
       "       'tariff_name'],\n",
       "      dtype='object')"
      ]
     },
     "execution_count": 11,
     "metadata": {},
     "output_type": "execute_result"
    }
   ],
   "source": [
    "tariffs_data.info()\n",
    "display(tariffs_data.head())\n",
    "tariffs_data.columns\n",
    "# для проверки уникальных значений раскомментируем функцию ниже\n",
    "# for column in tariffs_data:\n",
    "#     print(tariffs_data[column].unique())\n",
    "#     print()\n",
    "# по результатам проверки оказалось, что значения, в целом, в порядке"
   ]
  },
  {
   "cell_type": "code",
   "execution_count": 12,
   "metadata": {
    "cellId": "rzvgipgxrddqw9ps3iy0ll"
   },
   "outputs": [
    {
     "name": "stdout",
     "output_type": "stream",
     "text": [
      "<class 'pandas.core.frame.DataFrame'>\n",
      "RangeIndex: 500 entries, 0 to 499\n",
      "Data columns (total 8 columns):\n",
      "user_id       500 non-null int64\n",
      "age           500 non-null int64\n",
      "churn_date    38 non-null object\n",
      "city          500 non-null object\n",
      "first_name    500 non-null object\n",
      "last_name     500 non-null object\n",
      "reg_date      500 non-null object\n",
      "tariff        500 non-null object\n",
      "dtypes: int64(2), object(6)\n",
      "memory usage: 31.4+ KB\n"
     ]
    },
    {
     "data": {
      "text/html": [
       "<div>\n",
       "<style scoped>\n",
       "    .dataframe tbody tr th:only-of-type {\n",
       "        vertical-align: middle;\n",
       "    }\n",
       "\n",
       "    .dataframe tbody tr th {\n",
       "        vertical-align: top;\n",
       "    }\n",
       "\n",
       "    .dataframe thead th {\n",
       "        text-align: right;\n",
       "    }\n",
       "</style>\n",
       "<table border=\"1\" class=\"dataframe\">\n",
       "  <thead>\n",
       "    <tr style=\"text-align: right;\">\n",
       "      <th></th>\n",
       "      <th>user_id</th>\n",
       "      <th>age</th>\n",
       "      <th>churn_date</th>\n",
       "      <th>city</th>\n",
       "      <th>first_name</th>\n",
       "      <th>last_name</th>\n",
       "      <th>reg_date</th>\n",
       "      <th>tariff</th>\n",
       "    </tr>\n",
       "  </thead>\n",
       "  <tbody>\n",
       "    <tr>\n",
       "      <td>0</td>\n",
       "      <td>1000</td>\n",
       "      <td>52</td>\n",
       "      <td>NaN</td>\n",
       "      <td>Краснодар</td>\n",
       "      <td>Рафаил</td>\n",
       "      <td>Верещагин</td>\n",
       "      <td>2018-05-25</td>\n",
       "      <td>ultra</td>\n",
       "    </tr>\n",
       "    <tr>\n",
       "      <td>1</td>\n",
       "      <td>1001</td>\n",
       "      <td>41</td>\n",
       "      <td>NaN</td>\n",
       "      <td>Москва</td>\n",
       "      <td>Иван</td>\n",
       "      <td>Ежов</td>\n",
       "      <td>2018-11-01</td>\n",
       "      <td>smart</td>\n",
       "    </tr>\n",
       "    <tr>\n",
       "      <td>2</td>\n",
       "      <td>1002</td>\n",
       "      <td>59</td>\n",
       "      <td>NaN</td>\n",
       "      <td>Стерлитамак</td>\n",
       "      <td>Евгений</td>\n",
       "      <td>Абрамович</td>\n",
       "      <td>2018-06-17</td>\n",
       "      <td>smart</td>\n",
       "    </tr>\n",
       "    <tr>\n",
       "      <td>3</td>\n",
       "      <td>1003</td>\n",
       "      <td>23</td>\n",
       "      <td>NaN</td>\n",
       "      <td>Москва</td>\n",
       "      <td>Белла</td>\n",
       "      <td>Белякова</td>\n",
       "      <td>2018-08-17</td>\n",
       "      <td>ultra</td>\n",
       "    </tr>\n",
       "    <tr>\n",
       "      <td>4</td>\n",
       "      <td>1004</td>\n",
       "      <td>68</td>\n",
       "      <td>NaN</td>\n",
       "      <td>Новокузнецк</td>\n",
       "      <td>Татьяна</td>\n",
       "      <td>Авдеенко</td>\n",
       "      <td>2018-05-14</td>\n",
       "      <td>ultra</td>\n",
       "    </tr>\n",
       "  </tbody>\n",
       "</table>\n",
       "</div>"
      ],
      "text/plain": [
       "   user_id  age churn_date         city first_name  last_name    reg_date  \\\n",
       "0     1000   52        NaN    Краснодар     Рафаил  Верещагин  2018-05-25   \n",
       "1     1001   41        NaN       Москва       Иван       Ежов  2018-11-01   \n",
       "2     1002   59        NaN  Стерлитамак    Евгений  Абрамович  2018-06-17   \n",
       "3     1003   23        NaN       Москва      Белла   Белякова  2018-08-17   \n",
       "4     1004   68        NaN  Новокузнецк    Татьяна   Авдеенко  2018-05-14   \n",
       "\n",
       "  tariff  \n",
       "0  ultra  \n",
       "1  smart  \n",
       "2  smart  \n",
       "3  ultra  \n",
       "4  ultra  "
      ]
     },
     "metadata": {},
     "output_type": "display_data"
    },
    {
     "data": {
      "text/plain": [
       "Index(['user_id', 'age', 'churn_date', 'city', 'first_name', 'last_name',\n",
       "       'reg_date', 'tariff'],\n",
       "      dtype='object')"
      ]
     },
     "execution_count": 12,
     "metadata": {},
     "output_type": "execute_result"
    }
   ],
   "source": [
    "users_data.info()\n",
    "display(users_data.head())\n",
    "users_data.columns \n",
    "\n",
    "# для проверки уникальных значений раскомментируем функцию ниже\n",
    "# for column in users_data:\n",
    "#     print(users_data[column].unique())\n",
    "#     print()\n",
    "# по результатам проверки оказалось, что значения, в целом, в порядке"
   ]
  },
  {
   "cell_type": "markdown",
   "metadata": {
    "cellId": "nyqohaq6y7lsoekdo4qmb"
   },
   "source": [
    "## **Вывод**\n",
    "\n",
    "1. Названия столбцов корректны в каждой таблице; \n",
    "2. В таблицах присутствуют следующие типы данных: object, int64, float64\n",
    "3. Большое количество нулевых значений совершаемых звонков - 39613 значений: можно предположить, что это связано с использованием тарифного плана в качестве способа выход в интернет, а также с общением с помощью \"дозвонов\", примемом исключительно входящих вызовов. \n",
    "4. Нулевые значения использования интернет-трафика - 19598 значений: можно предположить, что пользователи покупали sim-карту исключительно для звонков, веротяно, это пользователи более экономного тарифного плана."
   ]
  },
  {
   "cell_type": "markdown",
   "metadata": {
    "cellId": "d0jhy4rjyd9tvztvgym0v"
   },
   "source": [
    "# Подготовка данных"
   ]
  },
  {
   "cell_type": "markdown",
   "metadata": {
    "cellId": "rnf76bq7mo7knayfxqpty"
   },
   "source": [
    "Проверим таблицы на наличие пропусков и явных дубликатов"
   ]
  },
  {
   "cell_type": "code",
   "execution_count": 13,
   "metadata": {
    "cellId": "im135al4lye153tyowele"
   },
   "outputs": [
    {
     "name": "stdout",
     "output_type": "stream",
     "text": [
      "Количество пропусков в столбцах:\n",
      " id           0\n",
      "call_date    0\n",
      "duration     0\n",
      "user_id      0\n",
      "dtype: int64\n",
      "\n",
      "Количество явных дубликатов: 0\n"
     ]
    }
   ],
   "source": [
    "print('Количество пропусков в столбцах:\\n', calls_data.isna().sum())\n",
    "print()\n",
    "print('Количество явных дубликатов:', calls_data.duplicated().sum())"
   ]
  },
  {
   "cell_type": "code",
   "execution_count": 14,
   "metadata": {
    "cellId": "kgfzv7eyw8t2m3jqjgflf"
   },
   "outputs": [
    {
     "name": "stdout",
     "output_type": "stream",
     "text": [
      "Количество пропусков в столбцах: Unnamed: 0      0\n",
      "id              0\n",
      "mb_used         0\n",
      "session_date    0\n",
      "user_id         0\n",
      "dtype: int64\n",
      "\n",
      "Количество явных дубликатов: 0\n"
     ]
    }
   ],
   "source": [
    "print('Количество пропусков в столбцах:', internet_data.isna().sum())\n",
    "print()\n",
    "print('Количество явных дубликатов:', internet_data.duplicated().sum())\n"
   ]
  },
  {
   "cell_type": "code",
   "execution_count": 15,
   "metadata": {
    "cellId": "6310p4trfplyi6jrl235gk"
   },
   "outputs": [
    {
     "name": "stdout",
     "output_type": "stream",
     "text": [
      "Количество пропусков в столбцах:\n",
      " id              0\n",
      "message_date    0\n",
      "user_id         0\n",
      "dtype: int64\n",
      "\n",
      "Количество явных дубликатов: 0\n"
     ]
    }
   ],
   "source": [
    "print('Количество пропусков в столбцах:\\n', messages_data.isna().sum())\n",
    "print()\n",
    "print('Количество явных дубликатов:', messages_data.duplicated().sum())"
   ]
  },
  {
   "cell_type": "code",
   "execution_count": 16,
   "metadata": {
    "cellId": "7vg0pwzfgwh4gmleptwn1p"
   },
   "outputs": [
    {
     "name": "stdout",
     "output_type": "stream",
     "text": [
      "Количество пропусков в столбцах:\n",
      " messages_included        0\n",
      "mb_per_month_included    0\n",
      "minutes_included         0\n",
      "rub_monthly_fee          0\n",
      "rub_per_gb               0\n",
      "rub_per_message          0\n",
      "rub_per_minute           0\n",
      "tariff_name              0\n",
      "dtype: int64\n",
      "\n",
      "Количество явных дубликатов: 0\n"
     ]
    }
   ],
   "source": [
    "tariffs_data.isna().sum()\n",
    "print('Количество пропусков в столбцах:\\n', tariffs_data.isna().sum())\n",
    "print()\n",
    "print('Количество явных дубликатов:', tariffs_data.duplicated().sum())"
   ]
  },
  {
   "cell_type": "code",
   "execution_count": 17,
   "metadata": {
    "cellId": "q1p8rzyxaiiarpgfxf7ief",
    "scrolled": false
   },
   "outputs": [
    {
     "name": "stdout",
     "output_type": "stream",
     "text": [
      "Количество пропусков в столбцах:\n",
      " user_id         0\n",
      "age             0\n",
      "churn_date    462\n",
      "city            0\n",
      "first_name      0\n",
      "last_name       0\n",
      "reg_date        0\n",
      "tariff          0\n",
      "dtype: int64\n",
      "\n",
      "Количество явных дубликатов: 0\n"
     ]
    }
   ],
   "source": [
    "users_data.isna().sum()\n",
    "print('Количество пропусков в столбцах:\\n', users_data.isna().sum())\n",
    "print()\n",
    "print('Количество явных дубликатов:', users_data.duplicated().sum())"
   ]
  },
  {
   "cell_type": "markdown",
   "metadata": {
    "cellId": "a0rfzmaefwbddnhemjsput"
   },
   "source": [
    "## Изменение типов данных"
   ]
  },
  {
   "cell_type": "markdown",
   "metadata": {
    "cellId": "yrhay1l663rxy5wt40n99b"
   },
   "source": [
    "Для приведения типов данных float в int, необходимо также округлить значения продолжительности звонков и потребления трафика интернета с учетом особенности округления оператора\n"
   ]
  },
  {
   "cell_type": "code",
   "execution_count": 18,
   "metadata": {
    "cellId": "ez4xbzkjblmaupwhkxilhj"
   },
   "outputs": [
    {
     "data": {
      "text/html": [
       "<div>\n",
       "<style scoped>\n",
       "    .dataframe tbody tr th:only-of-type {\n",
       "        vertical-align: middle;\n",
       "    }\n",
       "\n",
       "    .dataframe tbody tr th {\n",
       "        vertical-align: top;\n",
       "    }\n",
       "\n",
       "    .dataframe thead th {\n",
       "        text-align: right;\n",
       "    }\n",
       "</style>\n",
       "<table border=\"1\" class=\"dataframe\">\n",
       "  <thead>\n",
       "    <tr style=\"text-align: right;\">\n",
       "      <th></th>\n",
       "      <th>id</th>\n",
       "      <th>call_date</th>\n",
       "      <th>duration</th>\n",
       "      <th>user_id</th>\n",
       "    </tr>\n",
       "  </thead>\n",
       "  <tbody>\n",
       "    <tr>\n",
       "      <td>0</td>\n",
       "      <td>1000_0</td>\n",
       "      <td>2018-07-25</td>\n",
       "      <td>0</td>\n",
       "      <td>1000</td>\n",
       "    </tr>\n",
       "    <tr>\n",
       "      <td>1</td>\n",
       "      <td>1000_1</td>\n",
       "      <td>2018-08-17</td>\n",
       "      <td>0</td>\n",
       "      <td>1000</td>\n",
       "    </tr>\n",
       "    <tr>\n",
       "      <td>2</td>\n",
       "      <td>1000_2</td>\n",
       "      <td>2018-06-11</td>\n",
       "      <td>3</td>\n",
       "      <td>1000</td>\n",
       "    </tr>\n",
       "    <tr>\n",
       "      <td>3</td>\n",
       "      <td>1000_3</td>\n",
       "      <td>2018-09-21</td>\n",
       "      <td>14</td>\n",
       "      <td>1000</td>\n",
       "    </tr>\n",
       "    <tr>\n",
       "      <td>4</td>\n",
       "      <td>1000_4</td>\n",
       "      <td>2018-12-15</td>\n",
       "      <td>6</td>\n",
       "      <td>1000</td>\n",
       "    </tr>\n",
       "    <tr>\n",
       "      <td>5</td>\n",
       "      <td>1000_5</td>\n",
       "      <td>2018-11-02</td>\n",
       "      <td>0</td>\n",
       "      <td>1000</td>\n",
       "    </tr>\n",
       "    <tr>\n",
       "      <td>6</td>\n",
       "      <td>1000_6</td>\n",
       "      <td>2018-10-18</td>\n",
       "      <td>0</td>\n",
       "      <td>1000</td>\n",
       "    </tr>\n",
       "    <tr>\n",
       "      <td>7</td>\n",
       "      <td>1000_7</td>\n",
       "      <td>2018-08-22</td>\n",
       "      <td>19</td>\n",
       "      <td>1000</td>\n",
       "    </tr>\n",
       "    <tr>\n",
       "      <td>8</td>\n",
       "      <td>1000_8</td>\n",
       "      <td>2018-09-15</td>\n",
       "      <td>19</td>\n",
       "      <td>1000</td>\n",
       "    </tr>\n",
       "    <tr>\n",
       "      <td>9</td>\n",
       "      <td>1000_9</td>\n",
       "      <td>2018-08-15</td>\n",
       "      <td>0</td>\n",
       "      <td>1000</td>\n",
       "    </tr>\n",
       "  </tbody>\n",
       "</table>\n",
       "</div>"
      ],
      "text/plain": [
       "       id   call_date  duration  user_id\n",
       "0  1000_0  2018-07-25         0     1000\n",
       "1  1000_1  2018-08-17         0     1000\n",
       "2  1000_2  2018-06-11         3     1000\n",
       "3  1000_3  2018-09-21        14     1000\n",
       "4  1000_4  2018-12-15         6     1000\n",
       "5  1000_5  2018-11-02         0     1000\n",
       "6  1000_6  2018-10-18         0     1000\n",
       "7  1000_7  2018-08-22        19     1000\n",
       "8  1000_8  2018-09-15        19     1000\n",
       "9  1000_9  2018-08-15         0     1000"
      ]
     },
     "execution_count": 18,
     "metadata": {},
     "output_type": "execute_result"
    }
   ],
   "source": [
    "calls_data['duration'] = calls_data['duration'].apply(np.ceil).astype('int64')\n",
    "calls_data.head(10)"
   ]
  },
  {
   "cell_type": "code",
   "execution_count": 19,
   "metadata": {
    "cellId": "cavzyo308mho91rkpmpxs"
   },
   "outputs": [
    {
     "data": {
      "text/html": [
       "<div>\n",
       "<style scoped>\n",
       "    .dataframe tbody tr th:only-of-type {\n",
       "        vertical-align: middle;\n",
       "    }\n",
       "\n",
       "    .dataframe tbody tr th {\n",
       "        vertical-align: top;\n",
       "    }\n",
       "\n",
       "    .dataframe thead th {\n",
       "        text-align: right;\n",
       "    }\n",
       "</style>\n",
       "<table border=\"1\" class=\"dataframe\">\n",
       "  <thead>\n",
       "    <tr style=\"text-align: right;\">\n",
       "      <th></th>\n",
       "      <th>Unnamed: 0</th>\n",
       "      <th>id</th>\n",
       "      <th>mb_used</th>\n",
       "      <th>session_date</th>\n",
       "      <th>user_id</th>\n",
       "    </tr>\n",
       "  </thead>\n",
       "  <tbody>\n",
       "    <tr>\n",
       "      <td>116616</td>\n",
       "      <td>116616</td>\n",
       "      <td>1393_102</td>\n",
       "      <td>0</td>\n",
       "      <td>2018-06-03</td>\n",
       "      <td>1393</td>\n",
       "    </tr>\n",
       "    <tr>\n",
       "      <td>53410</td>\n",
       "      <td>53410</td>\n",
       "      <td>1179_272</td>\n",
       "      <td>0</td>\n",
       "      <td>2018-08-11</td>\n",
       "      <td>1179</td>\n",
       "    </tr>\n",
       "    <tr>\n",
       "      <td>104303</td>\n",
       "      <td>104303</td>\n",
       "      <td>1353_239</td>\n",
       "      <td>0</td>\n",
       "      <td>2018-10-26</td>\n",
       "      <td>1353</td>\n",
       "    </tr>\n",
       "    <tr>\n",
       "      <td>19438</td>\n",
       "      <td>19438</td>\n",
       "      <td>1065_583</td>\n",
       "      <td>0</td>\n",
       "      <td>2018-03-26</td>\n",
       "      <td>1065</td>\n",
       "    </tr>\n",
       "    <tr>\n",
       "      <td>19437</td>\n",
       "      <td>19437</td>\n",
       "      <td>1065_582</td>\n",
       "      <td>0</td>\n",
       "      <td>2018-07-14</td>\n",
       "      <td>1065</td>\n",
       "    </tr>\n",
       "    <tr>\n",
       "      <td>...</td>\n",
       "      <td>...</td>\n",
       "      <td>...</td>\n",
       "      <td>...</td>\n",
       "      <td>...</td>\n",
       "      <td>...</td>\n",
       "    </tr>\n",
       "    <tr>\n",
       "      <td>140299</td>\n",
       "      <td>140299</td>\n",
       "      <td>1471_182</td>\n",
       "      <td>1623</td>\n",
       "      <td>2018-07-29</td>\n",
       "      <td>1471</td>\n",
       "    </tr>\n",
       "    <tr>\n",
       "      <td>103480</td>\n",
       "      <td>103480</td>\n",
       "      <td>1348_138</td>\n",
       "      <td>1651</td>\n",
       "      <td>2018-10-31</td>\n",
       "      <td>1348</td>\n",
       "    </tr>\n",
       "    <tr>\n",
       "      <td>7063</td>\n",
       "      <td>7063</td>\n",
       "      <td>1024_118</td>\n",
       "      <td>1651</td>\n",
       "      <td>2018-11-15</td>\n",
       "      <td>1024</td>\n",
       "    </tr>\n",
       "    <tr>\n",
       "      <td>119156</td>\n",
       "      <td>119156</td>\n",
       "      <td>1402_191</td>\n",
       "      <td>1702</td>\n",
       "      <td>2018-10-26</td>\n",
       "      <td>1402</td>\n",
       "    </tr>\n",
       "    <tr>\n",
       "      <td>137493</td>\n",
       "      <td>137493</td>\n",
       "      <td>1461_9</td>\n",
       "      <td>1724</td>\n",
       "      <td>2018-11-28</td>\n",
       "      <td>1461</td>\n",
       "    </tr>\n",
       "  </tbody>\n",
       "</table>\n",
       "<p>149396 rows × 5 columns</p>\n",
       "</div>"
      ],
      "text/plain": [
       "        Unnamed: 0        id  mb_used session_date  user_id\n",
       "116616      116616  1393_102        0   2018-06-03     1393\n",
       "53410        53410  1179_272        0   2018-08-11     1179\n",
       "104303      104303  1353_239        0   2018-10-26     1353\n",
       "19438        19438  1065_583        0   2018-03-26     1065\n",
       "19437        19437  1065_582        0   2018-07-14     1065\n",
       "...            ...       ...      ...          ...      ...\n",
       "140299      140299  1471_182     1623   2018-07-29     1471\n",
       "103480      103480  1348_138     1651   2018-10-31     1348\n",
       "7063          7063  1024_118     1651   2018-11-15     1024\n",
       "119156      119156  1402_191     1702   2018-10-26     1402\n",
       "137493      137493    1461_9     1724   2018-11-28     1461\n",
       "\n",
       "[149396 rows x 5 columns]"
      ]
     },
     "execution_count": 19,
     "metadata": {},
     "output_type": "execute_result"
    }
   ],
   "source": [
    "internet_data['mb_used'] = internet_data['mb_used'].astype('int64')\n",
    "internet_data"
   ]
  },
  {
   "cell_type": "markdown",
   "metadata": {},
   "source": [
    "### **Вывод**\n",
    "Изменили типы данных тех значений таблиц, с которыми будем работать дальше (`calls_data`, `internet_data`) на значения `int`.  \n",
    "В таблицах отсутствуют явные дубликаты.\n",
    "Имеются пропуски в столбце `churn_date`, которые обозначают действующий тарифный план.\n"
   ]
  },
  {
   "cell_type": "markdown",
   "metadata": {
    "cellId": "8z6omgpd84cstubdbd9bkj"
   },
   "source": [
    "# Анализ данных"
   ]
  },
  {
   "cell_type": "markdown",
   "metadata": {
    "cellId": "8amgm2zhlaecnx0nl5soch"
   },
   "source": [
    "Добавим в соответствующую таблицу информацию о пользователях, а именно, информацию о количестве звонков и израсходованных минут, количестве сообщений, объем интернет-трафика по месяцам."
   ]
  },
  {
   "cell_type": "code",
   "execution_count": 20,
   "metadata": {
    "cellId": "i8pfv625qv8z6qn0eqia3"
   },
   "outputs": [],
   "source": [
    "calls_data['month'] = pd.DatetimeIndex(calls_data['call_date']).month"
   ]
  },
  {
   "cell_type": "markdown",
   "metadata": {
    "cellId": "o8otoo2ikttiiwc7v5xxe"
   },
   "source": [
    "## Количество сделанных звонков и израсходованных минут разговора по месяцам"
   ]
  },
  {
   "cell_type": "code",
   "execution_count": 21,
   "metadata": {
    "cellId": "lctstpx39bhig8ujr2hkfc",
    "scrolled": false
   },
   "outputs": [
    {
     "data": {
      "text/plain": [
       "'Сводная таблица для подчсета количетсва звонков и их продолжительности'"
      ]
     },
     "metadata": {},
     "output_type": "display_data"
    },
    {
     "data": {
      "text/html": [
       "<div>\n",
       "<style scoped>\n",
       "    .dataframe tbody tr th:only-of-type {\n",
       "        vertical-align: middle;\n",
       "    }\n",
       "\n",
       "    .dataframe tbody tr th {\n",
       "        vertical-align: top;\n",
       "    }\n",
       "\n",
       "    .dataframe thead th {\n",
       "        text-align: right;\n",
       "    }\n",
       "</style>\n",
       "<table border=\"1\" class=\"dataframe\">\n",
       "  <thead>\n",
       "    <tr style=\"text-align: right;\">\n",
       "      <th></th>\n",
       "      <th>user_id</th>\n",
       "      <th>month</th>\n",
       "      <th>calls_count</th>\n",
       "      <th>duration</th>\n",
       "    </tr>\n",
       "  </thead>\n",
       "  <tbody>\n",
       "    <tr>\n",
       "      <td>0</td>\n",
       "      <td>1000</td>\n",
       "      <td>5</td>\n",
       "      <td>22</td>\n",
       "      <td>159</td>\n",
       "    </tr>\n",
       "    <tr>\n",
       "      <td>1</td>\n",
       "      <td>1000</td>\n",
       "      <td>6</td>\n",
       "      <td>43</td>\n",
       "      <td>172</td>\n",
       "    </tr>\n",
       "    <tr>\n",
       "      <td>2</td>\n",
       "      <td>1000</td>\n",
       "      <td>7</td>\n",
       "      <td>47</td>\n",
       "      <td>340</td>\n",
       "    </tr>\n",
       "    <tr>\n",
       "      <td>3</td>\n",
       "      <td>1000</td>\n",
       "      <td>8</td>\n",
       "      <td>52</td>\n",
       "      <td>408</td>\n",
       "    </tr>\n",
       "    <tr>\n",
       "      <td>4</td>\n",
       "      <td>1000</td>\n",
       "      <td>9</td>\n",
       "      <td>58</td>\n",
       "      <td>466</td>\n",
       "    </tr>\n",
       "    <tr>\n",
       "      <td>...</td>\n",
       "      <td>...</td>\n",
       "      <td>...</td>\n",
       "      <td>...</td>\n",
       "      <td>...</td>\n",
       "    </tr>\n",
       "    <tr>\n",
       "      <td>3169</td>\n",
       "      <td>1498</td>\n",
       "      <td>10</td>\n",
       "      <td>41</td>\n",
       "      <td>247</td>\n",
       "    </tr>\n",
       "    <tr>\n",
       "      <td>3170</td>\n",
       "      <td>1499</td>\n",
       "      <td>9</td>\n",
       "      <td>9</td>\n",
       "      <td>70</td>\n",
       "    </tr>\n",
       "    <tr>\n",
       "      <td>3171</td>\n",
       "      <td>1499</td>\n",
       "      <td>10</td>\n",
       "      <td>68</td>\n",
       "      <td>449</td>\n",
       "    </tr>\n",
       "    <tr>\n",
       "      <td>3172</td>\n",
       "      <td>1499</td>\n",
       "      <td>11</td>\n",
       "      <td>74</td>\n",
       "      <td>612</td>\n",
       "    </tr>\n",
       "    <tr>\n",
       "      <td>3173</td>\n",
       "      <td>1499</td>\n",
       "      <td>12</td>\n",
       "      <td>69</td>\n",
       "      <td>492</td>\n",
       "    </tr>\n",
       "  </tbody>\n",
       "</table>\n",
       "<p>3174 rows × 4 columns</p>\n",
       "</div>"
      ],
      "text/plain": [
       "      user_id  month  calls_count  duration\n",
       "0        1000      5           22       159\n",
       "1        1000      6           43       172\n",
       "2        1000      7           47       340\n",
       "3        1000      8           52       408\n",
       "4        1000      9           58       466\n",
       "...       ...    ...          ...       ...\n",
       "3169     1498     10           41       247\n",
       "3170     1499      9            9        70\n",
       "3171     1499     10           68       449\n",
       "3172     1499     11           74       612\n",
       "3173     1499     12           69       492\n",
       "\n",
       "[3174 rows x 4 columns]"
      ]
     },
     "metadata": {},
     "output_type": "display_data"
    }
   ],
   "source": [
    "# создадим сводную таблицу для подсчета количества звонков и продолжительности\n",
    "# звонков в месяц\n",
    "calls_pivot_count = calls_data.pivot_table(index=['user_id', 'month'], \n",
    "                                     values='duration', \n",
    "                                     aggfunc=('count', 'sum'))\n",
    "# переименуем столбцы для удобства понимания\n",
    "calls_pivot_count.rename(columns=\n",
    "                         {'sum': 'duration', 'count': 'calls_count'}, inplace=True)\n",
    "calls_pivot_count = calls_pivot_count.reset_index()\n",
    "# и выведем ее на экран\n",
    "display('Сводная таблица для подчсета количетсва звонков и их продолжительности', calls_pivot_count)"
   ]
  },
  {
   "cell_type": "markdown",
   "metadata": {
    "cellId": "vygubre1cdyn04x8g4nc"
   },
   "source": [
    "## Количество отправленных сообщений по месяцам"
   ]
  },
  {
   "cell_type": "code",
   "execution_count": 22,
   "metadata": {
    "cellId": "n6zkifwz12dlz8w7wlrjt"
   },
   "outputs": [],
   "source": [
    "# добавим в таблицу столбец с месяцем использования сообщений\n",
    "messages_data['month'] = pd.DatetimeIndex(messages_data['message_date']).month\n"
   ]
  },
  {
   "cell_type": "code",
   "execution_count": 23,
   "metadata": {
    "cellId": "83h3xfl2gii00kttwt3x8iwc"
   },
   "outputs": [
    {
     "data": {
      "text/plain": [
       "'Сводная таблица для подчсета количетсва сообщений'"
      ]
     },
     "metadata": {},
     "output_type": "display_data"
    },
    {
     "data": {
      "text/html": [
       "<div>\n",
       "<style scoped>\n",
       "    .dataframe tbody tr th:only-of-type {\n",
       "        vertical-align: middle;\n",
       "    }\n",
       "\n",
       "    .dataframe tbody tr th {\n",
       "        vertical-align: top;\n",
       "    }\n",
       "\n",
       "    .dataframe thead th {\n",
       "        text-align: right;\n",
       "    }\n",
       "</style>\n",
       "<table border=\"1\" class=\"dataframe\">\n",
       "  <thead>\n",
       "    <tr style=\"text-align: right;\">\n",
       "      <th></th>\n",
       "      <th>user_id</th>\n",
       "      <th>month</th>\n",
       "      <th>messages_count</th>\n",
       "    </tr>\n",
       "  </thead>\n",
       "  <tbody>\n",
       "    <tr>\n",
       "      <td>0</td>\n",
       "      <td>1000</td>\n",
       "      <td>5</td>\n",
       "      <td>22</td>\n",
       "    </tr>\n",
       "    <tr>\n",
       "      <td>1</td>\n",
       "      <td>1000</td>\n",
       "      <td>6</td>\n",
       "      <td>60</td>\n",
       "    </tr>\n",
       "    <tr>\n",
       "      <td>2</td>\n",
       "      <td>1000</td>\n",
       "      <td>7</td>\n",
       "      <td>75</td>\n",
       "    </tr>\n",
       "    <tr>\n",
       "      <td>3</td>\n",
       "      <td>1000</td>\n",
       "      <td>8</td>\n",
       "      <td>81</td>\n",
       "    </tr>\n",
       "    <tr>\n",
       "      <td>4</td>\n",
       "      <td>1000</td>\n",
       "      <td>9</td>\n",
       "      <td>57</td>\n",
       "    </tr>\n",
       "    <tr>\n",
       "      <td>...</td>\n",
       "      <td>...</td>\n",
       "      <td>...</td>\n",
       "      <td>...</td>\n",
       "    </tr>\n",
       "    <tr>\n",
       "      <td>2712</td>\n",
       "      <td>1498</td>\n",
       "      <td>10</td>\n",
       "      <td>42</td>\n",
       "    </tr>\n",
       "    <tr>\n",
       "      <td>2713</td>\n",
       "      <td>1499</td>\n",
       "      <td>9</td>\n",
       "      <td>11</td>\n",
       "    </tr>\n",
       "    <tr>\n",
       "      <td>2714</td>\n",
       "      <td>1499</td>\n",
       "      <td>10</td>\n",
       "      <td>48</td>\n",
       "    </tr>\n",
       "    <tr>\n",
       "      <td>2715</td>\n",
       "      <td>1499</td>\n",
       "      <td>11</td>\n",
       "      <td>59</td>\n",
       "    </tr>\n",
       "    <tr>\n",
       "      <td>2716</td>\n",
       "      <td>1499</td>\n",
       "      <td>12</td>\n",
       "      <td>66</td>\n",
       "    </tr>\n",
       "  </tbody>\n",
       "</table>\n",
       "<p>2717 rows × 3 columns</p>\n",
       "</div>"
      ],
      "text/plain": [
       "      user_id  month  messages_count\n",
       "0        1000      5              22\n",
       "1        1000      6              60\n",
       "2        1000      7              75\n",
       "3        1000      8              81\n",
       "4        1000      9              57\n",
       "...       ...    ...             ...\n",
       "2712     1498     10              42\n",
       "2713     1499      9              11\n",
       "2714     1499     10              48\n",
       "2715     1499     11              59\n",
       "2716     1499     12              66\n",
       "\n",
       "[2717 rows x 3 columns]"
      ]
     },
     "metadata": {},
     "output_type": "display_data"
    }
   ],
   "source": [
    "# создадим сводную таблицу для подсчета количества сообщений в месяц\n",
    "messages_pivot = messages_data.pivot_table(index=['user_id', 'month'],\n",
    "                                           values='message_date',\n",
    "                                           aggfunc=('count'))\n",
    "messages_pivot.rename(columns={'message_date': 'messages_count'}, inplace=True)\n",
    "messages_pivot = messages_pivot.reset_index()\n",
    "# выведем ее на экран\n",
    "display('Сводная таблица для подчсета количетсва сообщений', messages_pivot)"
   ]
  },
  {
   "cell_type": "markdown",
   "metadata": {
    "cellId": "00qu13mizgn5ek7266hkh5qq"
   },
   "source": [
    "## Объем израсходованного интернет-трафика по месяцам:"
   ]
  },
  {
   "cell_type": "code",
   "execution_count": 24,
   "metadata": {
    "cellId": "0xmmeo2n61o9r9ij0r6xs4p"
   },
   "outputs": [],
   "source": [
    "# добавим в таблицу столбец с месяцем использования интернет-трафика\n",
    "internet_data['month'] = pd.DatetimeIndex(internet_data['session_date']).month"
   ]
  },
  {
   "cell_type": "code",
   "execution_count": 25,
   "metadata": {
    "cellId": "7vsavmx7fcx7id3eybeyq",
    "scrolled": false
   },
   "outputs": [
    {
     "data": {
      "text/plain": [
       "'Сводная таблица для подчсета объема интернет-трафика в месяц'"
      ]
     },
     "metadata": {},
     "output_type": "display_data"
    },
    {
     "data": {
      "text/html": [
       "<div>\n",
       "<style scoped>\n",
       "    .dataframe tbody tr th:only-of-type {\n",
       "        vertical-align: middle;\n",
       "    }\n",
       "\n",
       "    .dataframe tbody tr th {\n",
       "        vertical-align: top;\n",
       "    }\n",
       "\n",
       "    .dataframe thead th {\n",
       "        text-align: right;\n",
       "    }\n",
       "</style>\n",
       "<table border=\"1\" class=\"dataframe\">\n",
       "  <thead>\n",
       "    <tr style=\"text-align: right;\">\n",
       "      <th></th>\n",
       "      <th>user_id</th>\n",
       "      <th>month</th>\n",
       "      <th>mb_used</th>\n",
       "      <th>gb_used</th>\n",
       "    </tr>\n",
       "  </thead>\n",
       "  <tbody>\n",
       "    <tr>\n",
       "      <td>0</td>\n",
       "      <td>1000</td>\n",
       "      <td>5</td>\n",
       "      <td>2252</td>\n",
       "      <td>3</td>\n",
       "    </tr>\n",
       "    <tr>\n",
       "      <td>1</td>\n",
       "      <td>1000</td>\n",
       "      <td>6</td>\n",
       "      <td>23213</td>\n",
       "      <td>24</td>\n",
       "    </tr>\n",
       "    <tr>\n",
       "      <td>2</td>\n",
       "      <td>1000</td>\n",
       "      <td>7</td>\n",
       "      <td>13988</td>\n",
       "      <td>14</td>\n",
       "    </tr>\n",
       "    <tr>\n",
       "      <td>3</td>\n",
       "      <td>1000</td>\n",
       "      <td>8</td>\n",
       "      <td>14043</td>\n",
       "      <td>15</td>\n",
       "    </tr>\n",
       "    <tr>\n",
       "      <td>4</td>\n",
       "      <td>1000</td>\n",
       "      <td>9</td>\n",
       "      <td>14556</td>\n",
       "      <td>15</td>\n",
       "    </tr>\n",
       "    <tr>\n",
       "      <td>...</td>\n",
       "      <td>...</td>\n",
       "      <td>...</td>\n",
       "      <td>...</td>\n",
       "      <td>...</td>\n",
       "    </tr>\n",
       "    <tr>\n",
       "      <td>3198</td>\n",
       "      <td>1498</td>\n",
       "      <td>10</td>\n",
       "      <td>20555</td>\n",
       "      <td>21</td>\n",
       "    </tr>\n",
       "    <tr>\n",
       "      <td>3199</td>\n",
       "      <td>1499</td>\n",
       "      <td>9</td>\n",
       "      <td>1844</td>\n",
       "      <td>2</td>\n",
       "    </tr>\n",
       "    <tr>\n",
       "      <td>3200</td>\n",
       "      <td>1499</td>\n",
       "      <td>10</td>\n",
       "      <td>17766</td>\n",
       "      <td>18</td>\n",
       "    </tr>\n",
       "    <tr>\n",
       "      <td>3201</td>\n",
       "      <td>1499</td>\n",
       "      <td>11</td>\n",
       "      <td>17945</td>\n",
       "      <td>18</td>\n",
       "    </tr>\n",
       "    <tr>\n",
       "      <td>3202</td>\n",
       "      <td>1499</td>\n",
       "      <td>12</td>\n",
       "      <td>13037</td>\n",
       "      <td>14</td>\n",
       "    </tr>\n",
       "  </tbody>\n",
       "</table>\n",
       "<p>3203 rows × 4 columns</p>\n",
       "</div>"
      ],
      "text/plain": [
       "      user_id  month  mb_used  gb_used\n",
       "0        1000      5     2252        3\n",
       "1        1000      6    23213       24\n",
       "2        1000      7    13988       14\n",
       "3        1000      8    14043       15\n",
       "4        1000      9    14556       15\n",
       "...       ...    ...      ...      ...\n",
       "3198     1498     10    20555       21\n",
       "3199     1499      9     1844        2\n",
       "3200     1499     10    17766       18\n",
       "3201     1499     11    17945       18\n",
       "3202     1499     12    13037       14\n",
       "\n",
       "[3203 rows x 4 columns]"
      ]
     },
     "metadata": {},
     "output_type": "display_data"
    }
   ],
   "source": [
    "# создадим сводную таблицу суммированных данных интернет-трафика помесячно\n",
    "inter_traff_pivot = internet_data.pivot_table(index=['user_id', 'month'], values='mb_used', aggfunc='sum')\n",
    "inter_traff_pivot = inter_traff_pivot.reset_index()\n",
    "\n",
    "# добавим в таблицу столбец с переводом объема трафика в Гб\n",
    "inter_traff_pivot['gb_used'] = (inter_traff_pivot['mb_used']/1000).apply(np.ceil).astype('int')\n",
    "\n",
    "# выведем ее на экран\n",
    "display('Сводная таблица для подчсета объема интернет-трафика в месяц', inter_traff_pivot)"
   ]
  },
  {
   "cell_type": "code",
   "execution_count": 26,
   "metadata": {
    "cellId": "amjr5e7pcvwylhst600r2q"
   },
   "outputs": [
    {
     "data": {
      "text/plain": [
       "'Общая таблица данных пользователей с отфильтрованным столбацами'"
      ]
     },
     "metadata": {},
     "output_type": "display_data"
    },
    {
     "data": {
      "text/html": [
       "<div>\n",
       "<style scoped>\n",
       "    .dataframe tbody tr th:only-of-type {\n",
       "        vertical-align: middle;\n",
       "    }\n",
       "\n",
       "    .dataframe tbody tr th {\n",
       "        vertical-align: top;\n",
       "    }\n",
       "\n",
       "    .dataframe thead th {\n",
       "        text-align: right;\n",
       "    }\n",
       "</style>\n",
       "<table border=\"1\" class=\"dataframe\">\n",
       "  <thead>\n",
       "    <tr style=\"text-align: right;\">\n",
       "      <th></th>\n",
       "      <th>user_id</th>\n",
       "      <th>tariff</th>\n",
       "      <th>city</th>\n",
       "      <th>month</th>\n",
       "      <th>mb_used</th>\n",
       "      <th>gb_used</th>\n",
       "      <th>messages_count</th>\n",
       "      <th>duration</th>\n",
       "      <th>calls_count</th>\n",
       "    </tr>\n",
       "  </thead>\n",
       "  <tbody>\n",
       "    <tr>\n",
       "      <td>0</td>\n",
       "      <td>1000</td>\n",
       "      <td>ultra</td>\n",
       "      <td>Краснодар</td>\n",
       "      <td>5.0</td>\n",
       "      <td>2252.0</td>\n",
       "      <td>3.0</td>\n",
       "      <td>22.0</td>\n",
       "      <td>159.0</td>\n",
       "      <td>22.0</td>\n",
       "    </tr>\n",
       "    <tr>\n",
       "      <td>1</td>\n",
       "      <td>1000</td>\n",
       "      <td>ultra</td>\n",
       "      <td>Краснодар</td>\n",
       "      <td>6.0</td>\n",
       "      <td>23213.0</td>\n",
       "      <td>24.0</td>\n",
       "      <td>60.0</td>\n",
       "      <td>172.0</td>\n",
       "      <td>43.0</td>\n",
       "    </tr>\n",
       "    <tr>\n",
       "      <td>2</td>\n",
       "      <td>1000</td>\n",
       "      <td>ultra</td>\n",
       "      <td>Краснодар</td>\n",
       "      <td>7.0</td>\n",
       "      <td>13988.0</td>\n",
       "      <td>14.0</td>\n",
       "      <td>75.0</td>\n",
       "      <td>340.0</td>\n",
       "      <td>47.0</td>\n",
       "    </tr>\n",
       "    <tr>\n",
       "      <td>3</td>\n",
       "      <td>1000</td>\n",
       "      <td>ultra</td>\n",
       "      <td>Краснодар</td>\n",
       "      <td>8.0</td>\n",
       "      <td>14043.0</td>\n",
       "      <td>15.0</td>\n",
       "      <td>81.0</td>\n",
       "      <td>408.0</td>\n",
       "      <td>52.0</td>\n",
       "    </tr>\n",
       "    <tr>\n",
       "      <td>4</td>\n",
       "      <td>1000</td>\n",
       "      <td>ultra</td>\n",
       "      <td>Краснодар</td>\n",
       "      <td>9.0</td>\n",
       "      <td>14556.0</td>\n",
       "      <td>15.0</td>\n",
       "      <td>57.0</td>\n",
       "      <td>466.0</td>\n",
       "      <td>58.0</td>\n",
       "    </tr>\n",
       "    <tr>\n",
       "      <td>...</td>\n",
       "      <td>...</td>\n",
       "      <td>...</td>\n",
       "      <td>...</td>\n",
       "      <td>...</td>\n",
       "      <td>...</td>\n",
       "      <td>...</td>\n",
       "      <td>...</td>\n",
       "      <td>...</td>\n",
       "      <td>...</td>\n",
       "    </tr>\n",
       "    <tr>\n",
       "      <td>3201</td>\n",
       "      <td>1498</td>\n",
       "      <td>smart</td>\n",
       "      <td>Владикавказ</td>\n",
       "      <td>10.0</td>\n",
       "      <td>20555.0</td>\n",
       "      <td>21.0</td>\n",
       "      <td>NaN</td>\n",
       "      <td>NaN</td>\n",
       "      <td>NaN</td>\n",
       "    </tr>\n",
       "    <tr>\n",
       "      <td>3202</td>\n",
       "      <td>1499</td>\n",
       "      <td>smart</td>\n",
       "      <td>Пермь</td>\n",
       "      <td>9.0</td>\n",
       "      <td>1844.0</td>\n",
       "      <td>2.0</td>\n",
       "      <td>NaN</td>\n",
       "      <td>NaN</td>\n",
       "      <td>NaN</td>\n",
       "    </tr>\n",
       "    <tr>\n",
       "      <td>3203</td>\n",
       "      <td>1499</td>\n",
       "      <td>smart</td>\n",
       "      <td>Пермь</td>\n",
       "      <td>10.0</td>\n",
       "      <td>17766.0</td>\n",
       "      <td>18.0</td>\n",
       "      <td>NaN</td>\n",
       "      <td>NaN</td>\n",
       "      <td>NaN</td>\n",
       "    </tr>\n",
       "    <tr>\n",
       "      <td>3204</td>\n",
       "      <td>1499</td>\n",
       "      <td>smart</td>\n",
       "      <td>Пермь</td>\n",
       "      <td>11.0</td>\n",
       "      <td>17945.0</td>\n",
       "      <td>18.0</td>\n",
       "      <td>NaN</td>\n",
       "      <td>NaN</td>\n",
       "      <td>NaN</td>\n",
       "    </tr>\n",
       "    <tr>\n",
       "      <td>3205</td>\n",
       "      <td>1499</td>\n",
       "      <td>smart</td>\n",
       "      <td>Пермь</td>\n",
       "      <td>12.0</td>\n",
       "      <td>13037.0</td>\n",
       "      <td>14.0</td>\n",
       "      <td>NaN</td>\n",
       "      <td>NaN</td>\n",
       "      <td>NaN</td>\n",
       "    </tr>\n",
       "  </tbody>\n",
       "</table>\n",
       "<p>3206 rows × 9 columns</p>\n",
       "</div>"
      ],
      "text/plain": [
       "      user_id tariff         city  month  mb_used  gb_used  messages_count  \\\n",
       "0        1000  ultra    Краснодар    5.0   2252.0      3.0            22.0   \n",
       "1        1000  ultra    Краснодар    6.0  23213.0     24.0            60.0   \n",
       "2        1000  ultra    Краснодар    7.0  13988.0     14.0            75.0   \n",
       "3        1000  ultra    Краснодар    8.0  14043.0     15.0            81.0   \n",
       "4        1000  ultra    Краснодар    9.0  14556.0     15.0            57.0   \n",
       "...       ...    ...          ...    ...      ...      ...             ...   \n",
       "3201     1498  smart  Владикавказ   10.0  20555.0     21.0             NaN   \n",
       "3202     1499  smart        Пермь    9.0   1844.0      2.0             NaN   \n",
       "3203     1499  smart        Пермь   10.0  17766.0     18.0             NaN   \n",
       "3204     1499  smart        Пермь   11.0  17945.0     18.0             NaN   \n",
       "3205     1499  smart        Пермь   12.0  13037.0     14.0             NaN   \n",
       "\n",
       "      duration  calls_count  \n",
       "0        159.0         22.0  \n",
       "1        172.0         43.0  \n",
       "2        340.0         47.0  \n",
       "3        408.0         52.0  \n",
       "4        466.0         58.0  \n",
       "...        ...          ...  \n",
       "3201       NaN          NaN  \n",
       "3202       NaN          NaN  \n",
       "3203       NaN          NaN  \n",
       "3204       NaN          NaN  \n",
       "3205       NaN          NaN  \n",
       "\n",
       "[3206 rows x 9 columns]"
      ]
     },
     "metadata": {},
     "output_type": "display_data"
    }
   ],
   "source": [
    "# для создания общей таблицы необходимых нам данных от пользователей отсортируем\n",
    "# данные исходной таблицы пользователей\n",
    "user_clean = users_data[['user_id', 'tariff', 'city']]\n",
    "\n",
    "# далее создадим таблицы количества сообщений,..\n",
    "users_mess = user_clean.merge(messages_pivot, on=['user_id'], how='outer')\n",
    "\n",
    "\n",
    "# ...использованного трафика интернта в месяц,..\n",
    "users_inet = user_clean.merge(inter_traff_pivot, on=['user_id'], how='outer')\n",
    "\n",
    "# ...с информацией звонков пользователей\n",
    "users_calls = user_clean.merge(calls_pivot_count, on=['user_id'], how='outer')\n",
    "\n",
    "# после объединим все полученные сведения в общую таблицу нужных нам данных\n",
    "#users_all_data = pd.concat([users_with_calls, users_mess], sort=False, axis=0)\n",
    "# выведем ее на экран\n",
    "\n",
    "users_all_data = pd.concat([users_inet, users_mess['messages_count'], \n",
    "                            users_calls['duration'], users_calls['calls_count']], \n",
    "                           axis=1)\n",
    "display('Общая таблица данных пользователей с отфильтрованным столбацами', users_all_data)"
   ]
  },
  {
   "cell_type": "markdown",
   "metadata": {
    "cellId": "lfygwxyg0bk51n7np848p"
   },
   "source": [
    "## Помесячная выручка с каждого пользователя."
   ]
  },
  {
   "cell_type": "markdown",
   "metadata": {
    "cellId": "7qoqdjfkrv8zgudaf1u0ii"
   },
   "source": [
    "Создадим функцию подсчета выручки с каждого пользователя каждого месяца и добавим их в новый столбец в таблицу users_all_data"
   ]
  },
  {
   "cell_type": "code",
   "execution_count": 27,
   "metadata": {
    "cellId": "vqfpd3q2k1jzwe9xiqubm"
   },
   "outputs": [],
   "source": [
    "# функция подсчета выручки для таблицы users_all_data\n",
    "def money_spell(i): \n",
    "    tariff = i['tariff']\n",
    "    duration = i['duration']\n",
    "    messages_count = i['messages_count']\n",
    "    gb_used = i['gb_used']\n",
    "    if tariff == 'ultra':\n",
    "        i = 1\n",
    "        money_spell = tariffs_data['rub_monthly_fee'][i]\n",
    "        if duration > tariffs_data['minutes_included'][i]:\n",
    "            money_spell += (duration - tariffs_data['minutes_included'][i]) * tariffs_data['rub_per_minute'][i]\n",
    "        if messages_count > tariffs_data['messages_included'][i]:\n",
    "            money_spell += (messages_count - tariffs_data['messages_included'][i]) * tariffs_data['rub_per_message'][i]\n",
    "        if gb_used > (tariffs_data['mb_per_month_included'][i]/1000):\n",
    "            money_spell += (gb_used - (tariffs_data['mb_per_month_included'][i]/1000)) * tariffs_data['rub_per_gb'][i]\n",
    "        return money_spell       \n",
    "    if tariff == 'smart':\n",
    "        i = 0\n",
    "        money_spell = tariffs_data['rub_monthly_fee'][i]\n",
    "        if duration > tariffs_data['minutes_included'][i]:\n",
    "            money_spell += (duration - tariffs_data['minutes_included'][i]) * tariffs_data['rub_per_minute'][i]\n",
    "        if messages_count > tariffs_data['messages_included'][i]:\n",
    "            money_spell += (messages_count - tariffs_data['messages_included'][i]) * tariffs_data['rub_per_message'][i]\n",
    "        if gb_used > (tariffs_data['mb_per_month_included'][i]/1000):\n",
    "            money_spell += (gb_used - (tariffs_data['mb_per_month_included'][i]/1000)) * tariffs_data['rub_per_gb'][i]\n",
    "        return money_spell"
   ]
  },
  {
   "cell_type": "code",
   "execution_count": 28,
   "metadata": {
    "cellId": "04t95pwzjf25zffknvmsidq",
    "scrolled": true
   },
   "outputs": [
    {
     "data": {
      "text/html": [
       "<div>\n",
       "<style scoped>\n",
       "    .dataframe tbody tr th:only-of-type {\n",
       "        vertical-align: middle;\n",
       "    }\n",
       "\n",
       "    .dataframe tbody tr th {\n",
       "        vertical-align: top;\n",
       "    }\n",
       "\n",
       "    .dataframe thead th {\n",
       "        text-align: right;\n",
       "    }\n",
       "</style>\n",
       "<table border=\"1\" class=\"dataframe\">\n",
       "  <thead>\n",
       "    <tr style=\"text-align: right;\">\n",
       "      <th></th>\n",
       "      <th>user_id</th>\n",
       "      <th>tariff</th>\n",
       "      <th>city</th>\n",
       "      <th>month</th>\n",
       "      <th>mb_used</th>\n",
       "      <th>gb_used</th>\n",
       "      <th>messages_count</th>\n",
       "      <th>duration</th>\n",
       "      <th>calls_count</th>\n",
       "      <th>money_spell</th>\n",
       "    </tr>\n",
       "  </thead>\n",
       "  <tbody>\n",
       "    <tr>\n",
       "      <td>0</td>\n",
       "      <td>1000</td>\n",
       "      <td>ultra</td>\n",
       "      <td>Краснодар</td>\n",
       "      <td>5.0</td>\n",
       "      <td>2252.0</td>\n",
       "      <td>3.0</td>\n",
       "      <td>22.0</td>\n",
       "      <td>159.0</td>\n",
       "      <td>22.0</td>\n",
       "      <td>1950.0</td>\n",
       "    </tr>\n",
       "    <tr>\n",
       "      <td>1</td>\n",
       "      <td>1000</td>\n",
       "      <td>ultra</td>\n",
       "      <td>Краснодар</td>\n",
       "      <td>6.0</td>\n",
       "      <td>23213.0</td>\n",
       "      <td>24.0</td>\n",
       "      <td>60.0</td>\n",
       "      <td>172.0</td>\n",
       "      <td>43.0</td>\n",
       "      <td>1950.0</td>\n",
       "    </tr>\n",
       "    <tr>\n",
       "      <td>2</td>\n",
       "      <td>1000</td>\n",
       "      <td>ultra</td>\n",
       "      <td>Краснодар</td>\n",
       "      <td>7.0</td>\n",
       "      <td>13988.0</td>\n",
       "      <td>14.0</td>\n",
       "      <td>75.0</td>\n",
       "      <td>340.0</td>\n",
       "      <td>47.0</td>\n",
       "      <td>1950.0</td>\n",
       "    </tr>\n",
       "    <tr>\n",
       "      <td>3</td>\n",
       "      <td>1000</td>\n",
       "      <td>ultra</td>\n",
       "      <td>Краснодар</td>\n",
       "      <td>8.0</td>\n",
       "      <td>14043.0</td>\n",
       "      <td>15.0</td>\n",
       "      <td>81.0</td>\n",
       "      <td>408.0</td>\n",
       "      <td>52.0</td>\n",
       "      <td>1950.0</td>\n",
       "    </tr>\n",
       "    <tr>\n",
       "      <td>4</td>\n",
       "      <td>1000</td>\n",
       "      <td>ultra</td>\n",
       "      <td>Краснодар</td>\n",
       "      <td>9.0</td>\n",
       "      <td>14556.0</td>\n",
       "      <td>15.0</td>\n",
       "      <td>57.0</td>\n",
       "      <td>466.0</td>\n",
       "      <td>58.0</td>\n",
       "      <td>1950.0</td>\n",
       "    </tr>\n",
       "    <tr>\n",
       "      <td>5</td>\n",
       "      <td>1000</td>\n",
       "      <td>ultra</td>\n",
       "      <td>Краснодар</td>\n",
       "      <td>10.0</td>\n",
       "      <td>14690.0</td>\n",
       "      <td>15.0</td>\n",
       "      <td>73.0</td>\n",
       "      <td>350.0</td>\n",
       "      <td>57.0</td>\n",
       "      <td>1950.0</td>\n",
       "    </tr>\n",
       "    <tr>\n",
       "      <td>6</td>\n",
       "      <td>1000</td>\n",
       "      <td>ultra</td>\n",
       "      <td>Краснодар</td>\n",
       "      <td>11.0</td>\n",
       "      <td>14745.0</td>\n",
       "      <td>15.0</td>\n",
       "      <td>58.0</td>\n",
       "      <td>338.0</td>\n",
       "      <td>43.0</td>\n",
       "      <td>1950.0</td>\n",
       "    </tr>\n",
       "    <tr>\n",
       "      <td>7</td>\n",
       "      <td>1000</td>\n",
       "      <td>ultra</td>\n",
       "      <td>Краснодар</td>\n",
       "      <td>12.0</td>\n",
       "      <td>9808.0</td>\n",
       "      <td>10.0</td>\n",
       "      <td>70.0</td>\n",
       "      <td>333.0</td>\n",
       "      <td>46.0</td>\n",
       "      <td>1950.0</td>\n",
       "    </tr>\n",
       "    <tr>\n",
       "      <td>8</td>\n",
       "      <td>1001</td>\n",
       "      <td>smart</td>\n",
       "      <td>Москва</td>\n",
       "      <td>11.0</td>\n",
       "      <td>18405.0</td>\n",
       "      <td>19.0</td>\n",
       "      <td>NaN</td>\n",
       "      <td>430.0</td>\n",
       "      <td>59.0</td>\n",
       "      <td>1278.0</td>\n",
       "    </tr>\n",
       "    <tr>\n",
       "      <td>9</td>\n",
       "      <td>1001</td>\n",
       "      <td>smart</td>\n",
       "      <td>Москва</td>\n",
       "      <td>12.0</td>\n",
       "      <td>14018.0</td>\n",
       "      <td>15.0</td>\n",
       "      <td>4.0</td>\n",
       "      <td>414.0</td>\n",
       "      <td>63.0</td>\n",
       "      <td>550.0</td>\n",
       "    </tr>\n",
       "  </tbody>\n",
       "</table>\n",
       "</div>"
      ],
      "text/plain": [
       "   user_id tariff       city  month  mb_used  gb_used  messages_count  \\\n",
       "0     1000  ultra  Краснодар    5.0   2252.0      3.0            22.0   \n",
       "1     1000  ultra  Краснодар    6.0  23213.0     24.0            60.0   \n",
       "2     1000  ultra  Краснодар    7.0  13988.0     14.0            75.0   \n",
       "3     1000  ultra  Краснодар    8.0  14043.0     15.0            81.0   \n",
       "4     1000  ultra  Краснодар    9.0  14556.0     15.0            57.0   \n",
       "5     1000  ultra  Краснодар   10.0  14690.0     15.0            73.0   \n",
       "6     1000  ultra  Краснодар   11.0  14745.0     15.0            58.0   \n",
       "7     1000  ultra  Краснодар   12.0   9808.0     10.0            70.0   \n",
       "8     1001  smart     Москва   11.0  18405.0     19.0             NaN   \n",
       "9     1001  smart     Москва   12.0  14018.0     15.0             4.0   \n",
       "\n",
       "   duration  calls_count  money_spell  \n",
       "0     159.0         22.0       1950.0  \n",
       "1     172.0         43.0       1950.0  \n",
       "2     340.0         47.0       1950.0  \n",
       "3     408.0         52.0       1950.0  \n",
       "4     466.0         58.0       1950.0  \n",
       "5     350.0         57.0       1950.0  \n",
       "6     338.0         43.0       1950.0  \n",
       "7     333.0         46.0       1950.0  \n",
       "8     430.0         59.0       1278.0  \n",
       "9     414.0         63.0        550.0  "
      ]
     },
     "execution_count": 28,
     "metadata": {},
     "output_type": "execute_result"
    }
   ],
   "source": [
    "# применим нашу функцию для таблицы и запишем ее результаты \n",
    "# в новый столбец money_spell\n",
    "users_all_data['money_spell'] = users_all_data.apply(money_spell, axis=1)\n",
    "users_all_data.head(10)"
   ]
  },
  {
   "cell_type": "markdown",
   "metadata": {
    "cellId": "2wycwb4y8mvhtws28qglvk"
   },
   "source": [
    "Цель: описать поведение клиентов оператора, исходя из выборок. \n",
    "Задачи:\n",
    "- определить сколько минут разговора, сколько сообщений и какой объём интернет-трафика требуется пользователям каждого тарифа в месяц\n",
    "- определить среднее количество, дисперсию и стандартное отклонение\n",
    "- построить гистограммы, описать распределения"
   ]
  },
  {
   "cell_type": "markdown",
   "metadata": {
    "cellId": "dfzlnoac44orn5x1yuvv"
   },
   "source": [
    "## Определение количества минут разговора пользователями в месяц каждого тарифного плана"
   ]
  },
  {
   "cell_type": "markdown",
   "metadata": {
    "cellId": "iz6azb3q1ic22pwzoajlc"
   },
   "source": [
    "Для начала отделим пользователей каждого тарифного плана друг от друга"
   ]
  },
  {
   "cell_type": "code",
   "execution_count": 29,
   "metadata": {
    "cellId": "bfk3bpr5eo888yec9c0c5n"
   },
   "outputs": [
    {
     "data": {
      "text/plain": [
       "'Таблица пользователей тарифа \"Smart\"'"
      ]
     },
     "metadata": {},
     "output_type": "display_data"
    },
    {
     "data": {
      "text/html": [
       "<div>\n",
       "<style scoped>\n",
       "    .dataframe tbody tr th:only-of-type {\n",
       "        vertical-align: middle;\n",
       "    }\n",
       "\n",
       "    .dataframe tbody tr th {\n",
       "        vertical-align: top;\n",
       "    }\n",
       "\n",
       "    .dataframe thead th {\n",
       "        text-align: right;\n",
       "    }\n",
       "</style>\n",
       "<table border=\"1\" class=\"dataframe\">\n",
       "  <thead>\n",
       "    <tr style=\"text-align: right;\">\n",
       "      <th></th>\n",
       "      <th>user_id</th>\n",
       "      <th>tariff</th>\n",
       "      <th>city</th>\n",
       "      <th>month</th>\n",
       "      <th>mb_used</th>\n",
       "      <th>gb_used</th>\n",
       "      <th>messages_count</th>\n",
       "      <th>duration</th>\n",
       "      <th>calls_count</th>\n",
       "      <th>money_spell</th>\n",
       "    </tr>\n",
       "  </thead>\n",
       "  <tbody>\n",
       "    <tr>\n",
       "      <td>8</td>\n",
       "      <td>1001</td>\n",
       "      <td>smart</td>\n",
       "      <td>Москва</td>\n",
       "      <td>11.0</td>\n",
       "      <td>18405.0</td>\n",
       "      <td>19.0</td>\n",
       "      <td>NaN</td>\n",
       "      <td>430.0</td>\n",
       "      <td>59.0</td>\n",
       "      <td>1278.0</td>\n",
       "    </tr>\n",
       "    <tr>\n",
       "      <td>9</td>\n",
       "      <td>1001</td>\n",
       "      <td>smart</td>\n",
       "      <td>Москва</td>\n",
       "      <td>12.0</td>\n",
       "      <td>14018.0</td>\n",
       "      <td>15.0</td>\n",
       "      <td>4.0</td>\n",
       "      <td>414.0</td>\n",
       "      <td>63.0</td>\n",
       "      <td>550.0</td>\n",
       "    </tr>\n",
       "    <tr>\n",
       "      <td>10</td>\n",
       "      <td>1002</td>\n",
       "      <td>smart</td>\n",
       "      <td>Стерлитамак</td>\n",
       "      <td>6.0</td>\n",
       "      <td>10844.0</td>\n",
       "      <td>11.0</td>\n",
       "      <td>11.0</td>\n",
       "      <td>117.0</td>\n",
       "      <td>15.0</td>\n",
       "      <td>550.0</td>\n",
       "    </tr>\n",
       "    <tr>\n",
       "      <td>11</td>\n",
       "      <td>1002</td>\n",
       "      <td>smart</td>\n",
       "      <td>Стерлитамак</td>\n",
       "      <td>7.0</td>\n",
       "      <td>17557.0</td>\n",
       "      <td>18.0</td>\n",
       "      <td>13.0</td>\n",
       "      <td>214.0</td>\n",
       "      <td>26.0</td>\n",
       "      <td>1078.0</td>\n",
       "    </tr>\n",
       "    <tr>\n",
       "      <td>12</td>\n",
       "      <td>1002</td>\n",
       "      <td>smart</td>\n",
       "      <td>Стерлитамак</td>\n",
       "      <td>8.0</td>\n",
       "      <td>20298.0</td>\n",
       "      <td>21.0</td>\n",
       "      <td>4.0</td>\n",
       "      <td>289.0</td>\n",
       "      <td>42.0</td>\n",
       "      <td>1678.0</td>\n",
       "    </tr>\n",
       "    <tr>\n",
       "      <td>...</td>\n",
       "      <td>...</td>\n",
       "      <td>...</td>\n",
       "      <td>...</td>\n",
       "      <td>...</td>\n",
       "      <td>...</td>\n",
       "      <td>...</td>\n",
       "      <td>...</td>\n",
       "      <td>...</td>\n",
       "      <td>...</td>\n",
       "      <td>...</td>\n",
       "    </tr>\n",
       "    <tr>\n",
       "      <td>3201</td>\n",
       "      <td>1498</td>\n",
       "      <td>smart</td>\n",
       "      <td>Владикавказ</td>\n",
       "      <td>10.0</td>\n",
       "      <td>20555.0</td>\n",
       "      <td>21.0</td>\n",
       "      <td>NaN</td>\n",
       "      <td>NaN</td>\n",
       "      <td>NaN</td>\n",
       "      <td>1678.0</td>\n",
       "    </tr>\n",
       "    <tr>\n",
       "      <td>3202</td>\n",
       "      <td>1499</td>\n",
       "      <td>smart</td>\n",
       "      <td>Пермь</td>\n",
       "      <td>9.0</td>\n",
       "      <td>1844.0</td>\n",
       "      <td>2.0</td>\n",
       "      <td>NaN</td>\n",
       "      <td>NaN</td>\n",
       "      <td>NaN</td>\n",
       "      <td>550.0</td>\n",
       "    </tr>\n",
       "    <tr>\n",
       "      <td>3203</td>\n",
       "      <td>1499</td>\n",
       "      <td>smart</td>\n",
       "      <td>Пермь</td>\n",
       "      <td>10.0</td>\n",
       "      <td>17766.0</td>\n",
       "      <td>18.0</td>\n",
       "      <td>NaN</td>\n",
       "      <td>NaN</td>\n",
       "      <td>NaN</td>\n",
       "      <td>1078.0</td>\n",
       "    </tr>\n",
       "    <tr>\n",
       "      <td>3204</td>\n",
       "      <td>1499</td>\n",
       "      <td>smart</td>\n",
       "      <td>Пермь</td>\n",
       "      <td>11.0</td>\n",
       "      <td>17945.0</td>\n",
       "      <td>18.0</td>\n",
       "      <td>NaN</td>\n",
       "      <td>NaN</td>\n",
       "      <td>NaN</td>\n",
       "      <td>1078.0</td>\n",
       "    </tr>\n",
       "    <tr>\n",
       "      <td>3205</td>\n",
       "      <td>1499</td>\n",
       "      <td>smart</td>\n",
       "      <td>Пермь</td>\n",
       "      <td>12.0</td>\n",
       "      <td>13037.0</td>\n",
       "      <td>14.0</td>\n",
       "      <td>NaN</td>\n",
       "      <td>NaN</td>\n",
       "      <td>NaN</td>\n",
       "      <td>550.0</td>\n",
       "    </tr>\n",
       "  </tbody>\n",
       "</table>\n",
       "<p>2229 rows × 10 columns</p>\n",
       "</div>"
      ],
      "text/plain": [
       "      user_id tariff         city  month  mb_used  gb_used  messages_count  \\\n",
       "8        1001  smart       Москва   11.0  18405.0     19.0             NaN   \n",
       "9        1001  smart       Москва   12.0  14018.0     15.0             4.0   \n",
       "10       1002  smart  Стерлитамак    6.0  10844.0     11.0            11.0   \n",
       "11       1002  smart  Стерлитамак    7.0  17557.0     18.0            13.0   \n",
       "12       1002  smart  Стерлитамак    8.0  20298.0     21.0             4.0   \n",
       "...       ...    ...          ...    ...      ...      ...             ...   \n",
       "3201     1498  smart  Владикавказ   10.0  20555.0     21.0             NaN   \n",
       "3202     1499  smart        Пермь    9.0   1844.0      2.0             NaN   \n",
       "3203     1499  smart        Пермь   10.0  17766.0     18.0             NaN   \n",
       "3204     1499  smart        Пермь   11.0  17945.0     18.0             NaN   \n",
       "3205     1499  smart        Пермь   12.0  13037.0     14.0             NaN   \n",
       "\n",
       "      duration  calls_count  money_spell  \n",
       "8        430.0         59.0       1278.0  \n",
       "9        414.0         63.0        550.0  \n",
       "10       117.0         15.0        550.0  \n",
       "11       214.0         26.0       1078.0  \n",
       "12       289.0         42.0       1678.0  \n",
       "...        ...          ...          ...  \n",
       "3201       NaN          NaN       1678.0  \n",
       "3202       NaN          NaN        550.0  \n",
       "3203       NaN          NaN       1078.0  \n",
       "3204       NaN          NaN       1078.0  \n",
       "3205       NaN          NaN        550.0  \n",
       "\n",
       "[2229 rows x 10 columns]"
      ]
     },
     "metadata": {},
     "output_type": "display_data"
    },
    {
     "data": {
      "text/plain": [
       "'Таблица пользователей тарифа \"Ultra\"'"
      ]
     },
     "metadata": {},
     "output_type": "display_data"
    },
    {
     "data": {
      "text/html": [
       "<div>\n",
       "<style scoped>\n",
       "    .dataframe tbody tr th:only-of-type {\n",
       "        vertical-align: middle;\n",
       "    }\n",
       "\n",
       "    .dataframe tbody tr th {\n",
       "        vertical-align: top;\n",
       "    }\n",
       "\n",
       "    .dataframe thead th {\n",
       "        text-align: right;\n",
       "    }\n",
       "</style>\n",
       "<table border=\"1\" class=\"dataframe\">\n",
       "  <thead>\n",
       "    <tr style=\"text-align: right;\">\n",
       "      <th></th>\n",
       "      <th>user_id</th>\n",
       "      <th>tariff</th>\n",
       "      <th>city</th>\n",
       "      <th>month</th>\n",
       "      <th>mb_used</th>\n",
       "      <th>gb_used</th>\n",
       "      <th>messages_count</th>\n",
       "      <th>duration</th>\n",
       "      <th>calls_count</th>\n",
       "      <th>money_spell</th>\n",
       "    </tr>\n",
       "  </thead>\n",
       "  <tbody>\n",
       "    <tr>\n",
       "      <td>0</td>\n",
       "      <td>1000</td>\n",
       "      <td>ultra</td>\n",
       "      <td>Краснодар</td>\n",
       "      <td>5.0</td>\n",
       "      <td>2252.0</td>\n",
       "      <td>3.0</td>\n",
       "      <td>22.0</td>\n",
       "      <td>159.0</td>\n",
       "      <td>22.0</td>\n",
       "      <td>1950.0</td>\n",
       "    </tr>\n",
       "    <tr>\n",
       "      <td>1</td>\n",
       "      <td>1000</td>\n",
       "      <td>ultra</td>\n",
       "      <td>Краснодар</td>\n",
       "      <td>6.0</td>\n",
       "      <td>23213.0</td>\n",
       "      <td>24.0</td>\n",
       "      <td>60.0</td>\n",
       "      <td>172.0</td>\n",
       "      <td>43.0</td>\n",
       "      <td>1950.0</td>\n",
       "    </tr>\n",
       "    <tr>\n",
       "      <td>2</td>\n",
       "      <td>1000</td>\n",
       "      <td>ultra</td>\n",
       "      <td>Краснодар</td>\n",
       "      <td>7.0</td>\n",
       "      <td>13988.0</td>\n",
       "      <td>14.0</td>\n",
       "      <td>75.0</td>\n",
       "      <td>340.0</td>\n",
       "      <td>47.0</td>\n",
       "      <td>1950.0</td>\n",
       "    </tr>\n",
       "    <tr>\n",
       "      <td>3</td>\n",
       "      <td>1000</td>\n",
       "      <td>ultra</td>\n",
       "      <td>Краснодар</td>\n",
       "      <td>8.0</td>\n",
       "      <td>14043.0</td>\n",
       "      <td>15.0</td>\n",
       "      <td>81.0</td>\n",
       "      <td>408.0</td>\n",
       "      <td>52.0</td>\n",
       "      <td>1950.0</td>\n",
       "    </tr>\n",
       "    <tr>\n",
       "      <td>4</td>\n",
       "      <td>1000</td>\n",
       "      <td>ultra</td>\n",
       "      <td>Краснодар</td>\n",
       "      <td>9.0</td>\n",
       "      <td>14556.0</td>\n",
       "      <td>15.0</td>\n",
       "      <td>57.0</td>\n",
       "      <td>466.0</td>\n",
       "      <td>58.0</td>\n",
       "      <td>1950.0</td>\n",
       "    </tr>\n",
       "    <tr>\n",
       "      <td>...</td>\n",
       "      <td>...</td>\n",
       "      <td>...</td>\n",
       "      <td>...</td>\n",
       "      <td>...</td>\n",
       "      <td>...</td>\n",
       "      <td>...</td>\n",
       "      <td>...</td>\n",
       "      <td>...</td>\n",
       "      <td>...</td>\n",
       "      <td>...</td>\n",
       "    </tr>\n",
       "    <tr>\n",
       "      <td>3178</td>\n",
       "      <td>1495</td>\n",
       "      <td>ultra</td>\n",
       "      <td>Иркутск</td>\n",
       "      <td>8.0</td>\n",
       "      <td>2612.0</td>\n",
       "      <td>3.0</td>\n",
       "      <td>NaN</td>\n",
       "      <td>70.0</td>\n",
       "      <td>9.0</td>\n",
       "      <td>1950.0</td>\n",
       "    </tr>\n",
       "    <tr>\n",
       "      <td>3179</td>\n",
       "      <td>1495</td>\n",
       "      <td>ultra</td>\n",
       "      <td>Иркутск</td>\n",
       "      <td>9.0</td>\n",
       "      <td>33040.0</td>\n",
       "      <td>34.0</td>\n",
       "      <td>NaN</td>\n",
       "      <td>449.0</td>\n",
       "      <td>68.0</td>\n",
       "      <td>2442.0</td>\n",
       "    </tr>\n",
       "    <tr>\n",
       "      <td>3180</td>\n",
       "      <td>1495</td>\n",
       "      <td>ultra</td>\n",
       "      <td>Иркутск</td>\n",
       "      <td>10.0</td>\n",
       "      <td>29336.0</td>\n",
       "      <td>30.0</td>\n",
       "      <td>NaN</td>\n",
       "      <td>612.0</td>\n",
       "      <td>74.0</td>\n",
       "      <td>1950.0</td>\n",
       "    </tr>\n",
       "    <tr>\n",
       "      <td>3181</td>\n",
       "      <td>1495</td>\n",
       "      <td>ultra</td>\n",
       "      <td>Иркутск</td>\n",
       "      <td>11.0</td>\n",
       "      <td>38903.0</td>\n",
       "      <td>39.0</td>\n",
       "      <td>NaN</td>\n",
       "      <td>492.0</td>\n",
       "      <td>69.0</td>\n",
       "      <td>3192.0</td>\n",
       "    </tr>\n",
       "    <tr>\n",
       "      <td>3182</td>\n",
       "      <td>1495</td>\n",
       "      <td>ultra</td>\n",
       "      <td>Иркутск</td>\n",
       "      <td>12.0</td>\n",
       "      <td>23404.0</td>\n",
       "      <td>24.0</td>\n",
       "      <td>NaN</td>\n",
       "      <td>NaN</td>\n",
       "      <td>NaN</td>\n",
       "      <td>1950.0</td>\n",
       "    </tr>\n",
       "  </tbody>\n",
       "</table>\n",
       "<p>977 rows × 10 columns</p>\n",
       "</div>"
      ],
      "text/plain": [
       "      user_id tariff       city  month  mb_used  gb_used  messages_count  \\\n",
       "0        1000  ultra  Краснодар    5.0   2252.0      3.0            22.0   \n",
       "1        1000  ultra  Краснодар    6.0  23213.0     24.0            60.0   \n",
       "2        1000  ultra  Краснодар    7.0  13988.0     14.0            75.0   \n",
       "3        1000  ultra  Краснодар    8.0  14043.0     15.0            81.0   \n",
       "4        1000  ultra  Краснодар    9.0  14556.0     15.0            57.0   \n",
       "...       ...    ...        ...    ...      ...      ...             ...   \n",
       "3178     1495  ultra    Иркутск    8.0   2612.0      3.0             NaN   \n",
       "3179     1495  ultra    Иркутск    9.0  33040.0     34.0             NaN   \n",
       "3180     1495  ultra    Иркутск   10.0  29336.0     30.0             NaN   \n",
       "3181     1495  ultra    Иркутск   11.0  38903.0     39.0             NaN   \n",
       "3182     1495  ultra    Иркутск   12.0  23404.0     24.0             NaN   \n",
       "\n",
       "      duration  calls_count  money_spell  \n",
       "0        159.0         22.0       1950.0  \n",
       "1        172.0         43.0       1950.0  \n",
       "2        340.0         47.0       1950.0  \n",
       "3        408.0         52.0       1950.0  \n",
       "4        466.0         58.0       1950.0  \n",
       "...        ...          ...          ...  \n",
       "3178      70.0          9.0       1950.0  \n",
       "3179     449.0         68.0       2442.0  \n",
       "3180     612.0         74.0       1950.0  \n",
       "3181     492.0         69.0       3192.0  \n",
       "3182       NaN          NaN       1950.0  \n",
       "\n",
       "[977 rows x 10 columns]"
      ]
     },
     "metadata": {},
     "output_type": "display_data"
    }
   ],
   "source": [
    "# отделим пользоваталей различных тарифных планов друг от друга\n",
    "smart_users = users_all_data.query('tariff == \"smart\"')\n",
    "ultra_users = users_all_data.query('tariff == \"ultra\"')\n",
    "\n",
    "# выведем таблицы на экран\n",
    "display('Таблица пользователей тарифа \"Smart\"', smart_users)\n",
    "display('Таблица пользователей тарифа \"Ultra\"', ultra_users)"
   ]
  },
  {
   "cell_type": "markdown",
   "metadata": {
    "cellId": "o6cjvohg39hzxq4ly2qby"
   },
   "source": [
    "Далее найдем соотношение среднего времени продолжительности звонков по месяцам для каждого пользователя каждого тарифа и посторим соответвующие графики"
   ]
  },
  {
   "cell_type": "code",
   "execution_count": 30,
   "metadata": {
    "cellId": "j5go1qeblhbz5zjmnijt5h"
   },
   "outputs": [
    {
     "data": {
      "text/plain": [
       "'Таблица распределения средней продолжительности звонков пользователей тарифа Smart'"
      ]
     },
     "metadata": {},
     "output_type": "display_data"
    },
    {
     "data": {
      "text/html": [
       "<div>\n",
       "<style scoped>\n",
       "    .dataframe tbody tr th:only-of-type {\n",
       "        vertical-align: middle;\n",
       "    }\n",
       "\n",
       "    .dataframe tbody tr th {\n",
       "        vertical-align: top;\n",
       "    }\n",
       "\n",
       "    .dataframe thead th {\n",
       "        text-align: right;\n",
       "    }\n",
       "</style>\n",
       "<table border=\"1\" class=\"dataframe\">\n",
       "  <thead>\n",
       "    <tr style=\"text-align: right;\">\n",
       "      <th></th>\n",
       "      <th>month</th>\n",
       "      <th>duration</th>\n",
       "    </tr>\n",
       "  </thead>\n",
       "  <tbody>\n",
       "    <tr>\n",
       "      <td>count</td>\n",
       "      <td>12.0</td>\n",
       "      <td>12.0</td>\n",
       "    </tr>\n",
       "    <tr>\n",
       "      <td>mean</td>\n",
       "      <td>6.0</td>\n",
       "      <td>435.0</td>\n",
       "    </tr>\n",
       "    <tr>\n",
       "      <td>std</td>\n",
       "      <td>4.0</td>\n",
       "      <td>26.0</td>\n",
       "    </tr>\n",
       "    <tr>\n",
       "      <td>min</td>\n",
       "      <td>1.0</td>\n",
       "      <td>378.0</td>\n",
       "    </tr>\n",
       "    <tr>\n",
       "      <td>25%</td>\n",
       "      <td>4.0</td>\n",
       "      <td>417.0</td>\n",
       "    </tr>\n",
       "    <tr>\n",
       "      <td>50%</td>\n",
       "      <td>6.0</td>\n",
       "      <td>446.0</td>\n",
       "    </tr>\n",
       "    <tr>\n",
       "      <td>75%</td>\n",
       "      <td>9.0</td>\n",
       "      <td>452.0</td>\n",
       "    </tr>\n",
       "    <tr>\n",
       "      <td>max</td>\n",
       "      <td>12.0</td>\n",
       "      <td>465.0</td>\n",
       "    </tr>\n",
       "  </tbody>\n",
       "</table>\n",
       "</div>"
      ],
      "text/plain": [
       "       month  duration\n",
       "count   12.0      12.0\n",
       "mean     6.0     435.0\n",
       "std      4.0      26.0\n",
       "min      1.0     378.0\n",
       "25%      4.0     417.0\n",
       "50%      6.0     446.0\n",
       "75%      9.0     452.0\n",
       "max     12.0     465.0"
      ]
     },
     "metadata": {},
     "output_type": "display_data"
    },
    {
     "name": "stdout",
     "output_type": "stream",
     "text": [
      "Дисперсия распределения продолжительности звонков пользователей тарифа Smart равна: 676.5\n",
      "Стандартное отклонение продолжительности звонков пользователей тарифа Smart равно: 26.0\n"
     ]
    },
    {
     "data": {
      "image/png": "[encoded data removed]",
      "text/plain": [
       "<Figure size 576x576 with 1 Axes>"
      ]
     },
     "metadata": {
      "needs_background": "light"
     },
     "output_type": "display_data"
    }
   ],
   "source": [
    "# создадим сводную таблицу продолжительности вызовов пользователей тарифа Smart\n",
    "smart_duration_mean_calls = smart_users.pivot_table(index='month', values='duration').reset_index()\n",
    "\n",
    "# построим график распределения полученных данных из сводной таблицы\n",
    "plt.figure(figsize=(8, 8))\n",
    "ax = sns.barplot(x=\"month\", y=\"duration\", data=smart_duration_mean_calls, \n",
    "                 ci=None, color='steelblue')\n",
    "ax.set_title(\"Соотношение среднего времени звонка по месяцам пользователей тарифа Smart\")\n",
    "ax.set_ylabel(\"Средняя продолжительность звонка, сек\")\n",
    "ax.set_xlabel(\"Месяц\")\n",
    "\n",
    "# дополнительно посмотрим подробную таблицу распределения продолжительности звонков\n",
    "display('Таблица распределения средней продолжительности звонков пользователей тарифа Smart', \n",
    "      round(smart_duration_mean_calls.describe()))\n",
    "\n",
    "# выведем значения дисперсии и стандартного отклонения выборки пользователей тарифа\n",
    "# Smart\n",
    "print('Дисперсия распределения продолжительности звонков пользователей тарифа Smart равна:', \n",
    "      round(np.var(smart_duration_mean_calls['duration'], ddof=1), 1)\n",
    ")\n",
    "print('Стандартное отклонение продолжительности звонков пользователей тарифа Smart равно:', \n",
    "      round(np.std(smart_duration_mean_calls['duration'], ddof=1), 1)\n",
    ")"
   ]
  },
  {
   "cell_type": "code",
   "execution_count": 31,
   "metadata": {
    "cellId": "42rw5ev9grcvfj1eaktgz"
   },
   "outputs": [
    {
     "data": {
      "text/plain": [
       "'Таблица распределения средней продолжительности звонков пользователей тарифа Ultra'"
      ]
     },
     "metadata": {},
     "output_type": "display_data"
    },
    {
     "data": {
      "text/html": [
       "<div>\n",
       "<style scoped>\n",
       "    .dataframe tbody tr th:only-of-type {\n",
       "        vertical-align: middle;\n",
       "    }\n",
       "\n",
       "    .dataframe tbody tr th {\n",
       "        vertical-align: top;\n",
       "    }\n",
       "\n",
       "    .dataframe thead th {\n",
       "        text-align: right;\n",
       "    }\n",
       "</style>\n",
       "<table border=\"1\" class=\"dataframe\">\n",
       "  <thead>\n",
       "    <tr style=\"text-align: right;\">\n",
       "      <th></th>\n",
       "      <th>month</th>\n",
       "      <th>duration</th>\n",
       "    </tr>\n",
       "  </thead>\n",
       "  <tbody>\n",
       "    <tr>\n",
       "      <td>count</td>\n",
       "      <td>12.0</td>\n",
       "      <td>12.0</td>\n",
       "    </tr>\n",
       "    <tr>\n",
       "      <td>mean</td>\n",
       "      <td>6.0</td>\n",
       "      <td>458.0</td>\n",
       "    </tr>\n",
       "    <tr>\n",
       "      <td>std</td>\n",
       "      <td>4.0</td>\n",
       "      <td>59.0</td>\n",
       "    </tr>\n",
       "    <tr>\n",
       "      <td>min</td>\n",
       "      <td>1.0</td>\n",
       "      <td>350.0</td>\n",
       "    </tr>\n",
       "    <tr>\n",
       "      <td>25%</td>\n",
       "      <td>4.0</td>\n",
       "      <td>430.0</td>\n",
       "    </tr>\n",
       "    <tr>\n",
       "      <td>50%</td>\n",
       "      <td>6.0</td>\n",
       "      <td>467.0</td>\n",
       "    </tr>\n",
       "    <tr>\n",
       "      <td>75%</td>\n",
       "      <td>9.0</td>\n",
       "      <td>508.0</td>\n",
       "    </tr>\n",
       "    <tr>\n",
       "      <td>max</td>\n",
       "      <td>12.0</td>\n",
       "      <td>532.0</td>\n",
       "    </tr>\n",
       "  </tbody>\n",
       "</table>\n",
       "</div>"
      ],
      "text/plain": [
       "       month  duration\n",
       "count   12.0      12.0\n",
       "mean     6.0     458.0\n",
       "std      4.0      59.0\n",
       "min      1.0     350.0\n",
       "25%      4.0     430.0\n",
       "50%      6.0     467.0\n",
       "75%      9.0     508.0\n",
       "max     12.0     532.0"
      ]
     },
     "metadata": {},
     "output_type": "display_data"
    },
    {
     "name": "stdout",
     "output_type": "stream",
     "text": [
      "Дисперсия распределения продолжительности звонков пользователей тарифа Ultra равна: 3536.1\n",
      "\n",
      "Стандартное отклонение продолжительности звонков пользователей тарифа Ultra равно: 59.5\n",
      "\n"
     ]
    },
    {
     "data": {
      "image/png": "[encoded data removed]",
      "text/plain": [
       "<Figure size 576x576 with 1 Axes>"
      ]
     },
     "metadata": {
      "needs_background": "light"
     },
     "output_type": "display_data"
    }
   ],
   "source": [
    "# создадим сводную таблицу продолжительности вызовов пользователей тарифа Ultra\n",
    "ultra_duration_mean_calls = ultra_users.pivot_table(\n",
    "    index='month', values='duration').reset_index()\n",
    "\n",
    "# построим график распределения полученных данных из сводной таблицы\n",
    "plt.figure(figsize=(8, 8))\n",
    "ax = sns.barplot(x=\"month\", y=\"duration\", data=ultra_duration_mean_calls, \n",
    "                 ci=None, color='orange')\n",
    "ax.set_title(\"Соотношение среднего времени звонка по месяцам пользователей тарифа Ultra\")\n",
    "ax.set_ylabel(\"Средняя продолжительность звонка, сек\")\n",
    "ax.set_xlabel(\"Месяц\")\n",
    "\n",
    "# дополнительно посмотрим подробную таблицу распределения продолжительности звонков\n",
    "display('Таблица распределения средней продолжительности звонков пользователей тарифа Ultra', \n",
    "      round(ultra_duration_mean_calls.describe()))\n",
    "\n",
    "# выведем значения дисперсии и стандартного отклонения выборки пользователей тарифа\n",
    "# Ultra\n",
    "print('Дисперсия распределения продолжительности звонков пользователей тарифа Ultra равна:', \n",
    "      round(np.var(ultra_duration_mean_calls['duration'], ddof=1), 1)\n",
    ")\n",
    "print()\n",
    "print('Стандартное отклонение продолжительности звонков пользователей тарифа Ultra равно:', \n",
    "      round(np.std(ultra_duration_mean_calls['duration'], ddof=1), 1)\n",
    ")\n",
    "print()"
   ]
  },
  {
   "cell_type": "code",
   "execution_count": 32,
   "metadata": {
    "cellId": "ij29qy8y81s5ybxzvq69me"
   },
   "outputs": [
    {
     "data": {
      "text/plain": [
       "'Таблица различий средних значений продолжительности звонков'"
      ]
     },
     "metadata": {},
     "output_type": "display_data"
    },
    {
     "data": {
      "text/html": [
       "<div>\n",
       "<style scoped>\n",
       "    .dataframe tbody tr th:only-of-type {\n",
       "        vertical-align: middle;\n",
       "    }\n",
       "\n",
       "    .dataframe tbody tr th {\n",
       "        vertical-align: top;\n",
       "    }\n",
       "\n",
       "    .dataframe thead th {\n",
       "        text-align: right;\n",
       "    }\n",
       "</style>\n",
       "<table border=\"1\" class=\"dataframe\">\n",
       "  <thead>\n",
       "    <tr style=\"text-align: right;\">\n",
       "      <th></th>\n",
       "      <th>Smart</th>\n",
       "      <th>Ultra</th>\n",
       "    </tr>\n",
       "  </thead>\n",
       "  <tbody>\n",
       "    <tr>\n",
       "      <td>count</td>\n",
       "      <td>12.0</td>\n",
       "      <td>12.0</td>\n",
       "    </tr>\n",
       "    <tr>\n",
       "      <td>mean</td>\n",
       "      <td>435.0</td>\n",
       "      <td>458.0</td>\n",
       "    </tr>\n",
       "    <tr>\n",
       "      <td>std</td>\n",
       "      <td>26.0</td>\n",
       "      <td>59.0</td>\n",
       "    </tr>\n",
       "    <tr>\n",
       "      <td>min</td>\n",
       "      <td>378.0</td>\n",
       "      <td>350.0</td>\n",
       "    </tr>\n",
       "    <tr>\n",
       "      <td>25%</td>\n",
       "      <td>417.0</td>\n",
       "      <td>430.0</td>\n",
       "    </tr>\n",
       "    <tr>\n",
       "      <td>50%</td>\n",
       "      <td>446.0</td>\n",
       "      <td>467.0</td>\n",
       "    </tr>\n",
       "    <tr>\n",
       "      <td>75%</td>\n",
       "      <td>452.0</td>\n",
       "      <td>508.0</td>\n",
       "    </tr>\n",
       "    <tr>\n",
       "      <td>max</td>\n",
       "      <td>465.0</td>\n",
       "      <td>532.0</td>\n",
       "    </tr>\n",
       "  </tbody>\n",
       "</table>\n",
       "</div>"
      ],
      "text/plain": [
       "       Smart  Ultra\n",
       "count   12.0   12.0\n",
       "mean   435.0  458.0\n",
       "std     26.0   59.0\n",
       "min    378.0  350.0\n",
       "25%    417.0  430.0\n",
       "50%    446.0  467.0\n",
       "75%    452.0  508.0\n",
       "max    465.0  532.0"
      ]
     },
     "metadata": {},
     "output_type": "display_data"
    },
    {
     "data": {
      "image/png": "[encoded data removed]",
      "text/plain": [
       "<Figure size 432x288 with 1 Axes>"
      ]
     },
     "metadata": {
      "needs_background": "light"
     },
     "output_type": "display_data"
    }
   ],
   "source": [
    "# создаем новый датафрейм для наглядного сравнения продолжительности звонков\n",
    "# пользователей двух тарифных планов\n",
    "smart_calls_mean_ultra = pd.DataFrame({'Smart': smart_duration_mean_calls['duration'], \n",
    "                   'Ultra': ultra_duration_mean_calls['duration']})\n",
    "\n",
    "# дополнительно покажем подробную таблицу различий распределений между ними\n",
    "display('Таблица различий средних значений продолжительности звонков', \n",
    "    round(smart_calls_mean_ultra.describe()))\n",
    "\n",
    "# и отрисуем их на графиках в виде \"ящиков с усами\"\n",
    "sns.boxplot(data=smart_calls_mean_ultra)\n",
    "sns.stripplot(data=smart_calls_mean_ultra, color=\"b\", jitter=0.2, size=2.5)\n",
    "\n",
    "\n",
    "plt.title('Сравнение средних значений продолжительности звонков')\n",
    "plt.ylabel('Время звонка, сек')\n",
    "plt.xlabel('Тариф')\n",
    "plt.show()"
   ]
  },
  {
   "cell_type": "markdown",
   "metadata": {
    "cellId": "p121b8ozg7sgh34mfa89h9"
   },
   "source": [
    "**Выводы**: пользователи различных тарифных планов заметно отличаются в продолжительности совершаемых вызовов. Наибольший разброс продолжитльности звонка отмечается у пользователей тарифа Ultra: среднее значение продолжительности звонка превышает максимальное значение пользователей тарифа Smart.  Дисперсии различных тарифных планов также заметно различается: преобладает дисперсия тарифного плана Ultra\n",
    "\n",
    "Таким образом, по данным графиков и таблиц распределения можно сделать следующие выводы о продолжительности звонков в месяц:\n",
    "- для тарифного плана Smart - среднее значение продолжительности звонков в месяц равно 446 минут при разбросе от 417 до 452 минут\n",
    "- для тарифного плана Ultra - среднее значение продолжительности звонков в месяц равно 466 минут при разбросе от 430 до 508 минут"
   ]
  },
  {
   "cell_type": "markdown",
   "metadata": {
    "cellId": "btky9n1hlb4h4lxdviwf6"
   },
   "source": [
    "## Определение количества сообщений в месяц пользователей каждого тарифного плана"
   ]
  },
  {
   "cell_type": "code",
   "execution_count": 33,
   "metadata": {
    "cellId": "vqh0p91l5d6fteagyou5c"
   },
   "outputs": [
    {
     "data": {
      "text/plain": [
       "'Таблица распределения количества пользователей тарифа Smart'"
      ]
     },
     "metadata": {},
     "output_type": "display_data"
    },
    {
     "data": {
      "text/html": [
       "<div>\n",
       "<style scoped>\n",
       "    .dataframe tbody tr th:only-of-type {\n",
       "        vertical-align: middle;\n",
       "    }\n",
       "\n",
       "    .dataframe tbody tr th {\n",
       "        vertical-align: top;\n",
       "    }\n",
       "\n",
       "    .dataframe thead th {\n",
       "        text-align: right;\n",
       "    }\n",
       "</style>\n",
       "<table border=\"1\" class=\"dataframe\">\n",
       "  <thead>\n",
       "    <tr style=\"text-align: right;\">\n",
       "      <th></th>\n",
       "      <th>month</th>\n",
       "      <th>messages_count</th>\n",
       "    </tr>\n",
       "  </thead>\n",
       "  <tbody>\n",
       "    <tr>\n",
       "      <td>count</td>\n",
       "      <td>12.0</td>\n",
       "      <td>12.0</td>\n",
       "    </tr>\n",
       "    <tr>\n",
       "      <td>mean</td>\n",
       "      <td>6.0</td>\n",
       "      <td>24.0</td>\n",
       "    </tr>\n",
       "    <tr>\n",
       "      <td>std</td>\n",
       "      <td>4.0</td>\n",
       "      <td>19.0</td>\n",
       "    </tr>\n",
       "    <tr>\n",
       "      <td>min</td>\n",
       "      <td>1.0</td>\n",
       "      <td>4.0</td>\n",
       "    </tr>\n",
       "    <tr>\n",
       "      <td>25%</td>\n",
       "      <td>4.0</td>\n",
       "      <td>11.0</td>\n",
       "    </tr>\n",
       "    <tr>\n",
       "      <td>50%</td>\n",
       "      <td>6.0</td>\n",
       "      <td>14.0</td>\n",
       "    </tr>\n",
       "    <tr>\n",
       "      <td>75%</td>\n",
       "      <td>9.0</td>\n",
       "      <td>41.0</td>\n",
       "    </tr>\n",
       "    <tr>\n",
       "      <td>max</td>\n",
       "      <td>12.0</td>\n",
       "      <td>56.0</td>\n",
       "    </tr>\n",
       "  </tbody>\n",
       "</table>\n",
       "</div>"
      ],
      "text/plain": [
       "       month  messages_count\n",
       "count   12.0            12.0\n",
       "mean     6.0            24.0\n",
       "std      4.0            19.0\n",
       "min      1.0             4.0\n",
       "25%      4.0            11.0\n",
       "50%      6.0            14.0\n",
       "75%      9.0            41.0\n",
       "max     12.0            56.0"
      ]
     },
     "metadata": {},
     "output_type": "display_data"
    },
    {
     "name": "stdout",
     "output_type": "stream",
     "text": [
      "Дисперсия распределения количества сообщений пользователей тарифа Smart равна: 350.3\n",
      "Стандартное отклонение распределения количества сообщений пользователей тарифа Smart равно: 18.7\n"
     ]
    },
    {
     "data": {
      "image/png": "[encoded data removed]",
      "text/plain": [
       "<Figure size 576x576 with 1 Axes>"
      ]
     },
     "metadata": {
      "needs_background": "light"
     },
     "output_type": "display_data"
    }
   ],
   "source": [
    "# создадим сводную таблицу количества сообщений пользователей тарифа Smart\n",
    "smart_messages_mean_count = (\n",
    "    round(smart_users.pivot_table(index='month', values='messages_count', aggfunc='first').reset_index()))\n",
    "\n",
    "# построим график распределения полученных данных из сводной таблицы\n",
    "plt.figure(figsize=(8, 8))\n",
    "ax = sns.barplot(x=\"month\", y=\"messages_count\", data=smart_messages_mean_count, \n",
    "                 ci=None, color='steelblue')\n",
    "ax.set_title(\"Соотношение среднего количества сообщений по месяцам пользователей тарифа Smart\")\n",
    "ax.set_ylabel(\"Количество сообщений, шт.\")\n",
    "ax.set_xlabel(\"Месяц\")\n",
    "\n",
    "# дополнительно посмотрим подробную таблицу распределения среднего количества сообщений\n",
    "display('Таблица распределения количества пользователей тарифа Smart', \n",
    "      round(smart_messages_mean_count.describe()))\n",
    "\n",
    "# выведем значения дисперсии и стандартного отклонения выборки пользователей тарифа\n",
    "# Smart\n",
    "print('Дисперсия распределения количества сообщений пользователей тарифа Smart равна:', \n",
    "      round(np.var(smart_messages_mean_count['messages_count'], ddof=1), 1)\n",
    ")\n",
    "print('Стандартное отклонение распределения количества сообщений пользователей тарифа Smart равно:', \n",
    "      round(np.std(smart_messages_mean_count['messages_count'], ddof=1), 1)\n",
    ")"
   ]
  },
  {
   "cell_type": "code",
   "execution_count": 34,
   "metadata": {
    "cellId": "clhvm0z78w6w7dtwmt2ju"
   },
   "outputs": [
    {
     "data": {
      "text/plain": [
       "'Таблица распределения среднего количества сообщений пользователей тарифа Ultra'"
      ]
     },
     "metadata": {},
     "output_type": "display_data"
    },
    {
     "data": {
      "text/html": [
       "<div>\n",
       "<style scoped>\n",
       "    .dataframe tbody tr th:only-of-type {\n",
       "        vertical-align: middle;\n",
       "    }\n",
       "\n",
       "    .dataframe tbody tr th {\n",
       "        vertical-align: top;\n",
       "    }\n",
       "\n",
       "    .dataframe thead th {\n",
       "        text-align: right;\n",
       "    }\n",
       "</style>\n",
       "<table border=\"1\" class=\"dataframe\">\n",
       "  <thead>\n",
       "    <tr style=\"text-align: right;\">\n",
       "      <th></th>\n",
       "      <th>month</th>\n",
       "      <th>messages_count</th>\n",
       "    </tr>\n",
       "  </thead>\n",
       "  <tbody>\n",
       "    <tr>\n",
       "      <td>count</td>\n",
       "      <td>12.0</td>\n",
       "      <td>12.0</td>\n",
       "    </tr>\n",
       "    <tr>\n",
       "      <td>mean</td>\n",
       "      <td>6.0</td>\n",
       "      <td>58.0</td>\n",
       "    </tr>\n",
       "    <tr>\n",
       "      <td>std</td>\n",
       "      <td>4.0</td>\n",
       "      <td>23.0</td>\n",
       "    </tr>\n",
       "    <tr>\n",
       "      <td>min</td>\n",
       "      <td>1.0</td>\n",
       "      <td>20.0</td>\n",
       "    </tr>\n",
       "    <tr>\n",
       "      <td>25%</td>\n",
       "      <td>4.0</td>\n",
       "      <td>44.0</td>\n",
       "    </tr>\n",
       "    <tr>\n",
       "      <td>50%</td>\n",
       "      <td>6.0</td>\n",
       "      <td>59.0</td>\n",
       "    </tr>\n",
       "    <tr>\n",
       "      <td>75%</td>\n",
       "      <td>9.0</td>\n",
       "      <td>74.0</td>\n",
       "    </tr>\n",
       "    <tr>\n",
       "      <td>max</td>\n",
       "      <td>12.0</td>\n",
       "      <td>93.0</td>\n",
       "    </tr>\n",
       "  </tbody>\n",
       "</table>\n",
       "</div>"
      ],
      "text/plain": [
       "       month  messages_count\n",
       "count   12.0            12.0\n",
       "mean     6.0            58.0\n",
       "std      4.0            23.0\n",
       "min      1.0            20.0\n",
       "25%      4.0            44.0\n",
       "50%      6.0            59.0\n",
       "75%      9.0            74.0\n",
       "max     12.0            93.0"
      ]
     },
     "metadata": {},
     "output_type": "display_data"
    },
    {
     "name": "stdout",
     "output_type": "stream",
     "text": [
      "Дисперсия распределения количества сообщений пользователей тарифа Ultra равна: 525.7\n",
      "\n",
      "Стандартное отклонение распределения количества сообщений пользователей тарифа Ultra равно: 22.9\n",
      "\n"
     ]
    },
    {
     "data": {
      "image/png": "[encoded data removed]",
      "text/plain": [
       "<Figure size 576x576 with 1 Axes>"
      ]
     },
     "metadata": {
      "needs_background": "light"
     },
     "output_type": "display_data"
    }
   ],
   "source": [
    "# создадим сводную таблицу количества сообщений пользователей тарифа Ultra\n",
    "ultra_messages_mean_count = (\n",
    "    round(ultra_users.pivot_table(index='month', values='messages_count', aggfunc='first').reset_index()))\n",
    "\n",
    "# построим график распределения полученных данных из сводной таблицы\n",
    "plt.figure(figsize=(8, 8))\n",
    "ax = sns.barplot(x=\"month\", y=\"messages_count\", data=ultra_messages_mean_count, \n",
    "                 ci=None, color='orange')\n",
    "ax.set_title(\"Соотношение среднего количества сообщений по месяцам пользователей тарифа Ultra\")\n",
    "ax.set_ylabel(\"Количество сообщений, шт.\")\n",
    "ax.set_xlabel(\"Месяц\")\n",
    "\n",
    "# дополнительно посмотрим подробную таблицу распределения среднего количества сообщений\n",
    "display('Таблица распределения среднего количества сообщений пользователей тарифа Ultra', \n",
    "      round(ultra_messages_mean_count.describe()))\n",
    "\n",
    "# выведем значения дисперсии и стандартного отклонения выборки пользователей тарифа\n",
    "# Ultra\n",
    "print('Дисперсия распределения количества сообщений пользователей тарифа Ultra равна:', \n",
    "      round(np.var(ultra_messages_mean_count['messages_count'], ddof=1), 1)\n",
    ")\n",
    "print()\n",
    "print('Стандартное отклонение распределения количества сообщений пользователей тарифа Ultra равно:', \n",
    "      round(np.std(ultra_messages_mean_count['messages_count'], ddof=1), 1)\n",
    ")\n",
    "print()"
   ]
  },
  {
   "cell_type": "code",
   "execution_count": 35,
   "metadata": {
    "cellId": "cmsxfqbytzb39pyo8cl4sa"
   },
   "outputs": [
    {
     "data": {
      "text/plain": [
       "'Таблица различий средних значений количества сообщений'"
      ]
     },
     "metadata": {},
     "output_type": "display_data"
    },
    {
     "data": {
      "text/html": [
       "<div>\n",
       "<style scoped>\n",
       "    .dataframe tbody tr th:only-of-type {\n",
       "        vertical-align: middle;\n",
       "    }\n",
       "\n",
       "    .dataframe tbody tr th {\n",
       "        vertical-align: top;\n",
       "    }\n",
       "\n",
       "    .dataframe thead th {\n",
       "        text-align: right;\n",
       "    }\n",
       "</style>\n",
       "<table border=\"1\" class=\"dataframe\">\n",
       "  <thead>\n",
       "    <tr style=\"text-align: right;\">\n",
       "      <th></th>\n",
       "      <th>Smart</th>\n",
       "      <th>Ultra</th>\n",
       "    </tr>\n",
       "  </thead>\n",
       "  <tbody>\n",
       "    <tr>\n",
       "      <td>count</td>\n",
       "      <td>12.0</td>\n",
       "      <td>12.0</td>\n",
       "    </tr>\n",
       "    <tr>\n",
       "      <td>mean</td>\n",
       "      <td>24.0</td>\n",
       "      <td>58.0</td>\n",
       "    </tr>\n",
       "    <tr>\n",
       "      <td>std</td>\n",
       "      <td>19.0</td>\n",
       "      <td>23.0</td>\n",
       "    </tr>\n",
       "    <tr>\n",
       "      <td>min</td>\n",
       "      <td>4.0</td>\n",
       "      <td>20.0</td>\n",
       "    </tr>\n",
       "    <tr>\n",
       "      <td>25%</td>\n",
       "      <td>11.0</td>\n",
       "      <td>44.0</td>\n",
       "    </tr>\n",
       "    <tr>\n",
       "      <td>50%</td>\n",
       "      <td>14.0</td>\n",
       "      <td>59.0</td>\n",
       "    </tr>\n",
       "    <tr>\n",
       "      <td>75%</td>\n",
       "      <td>41.0</td>\n",
       "      <td>74.0</td>\n",
       "    </tr>\n",
       "    <tr>\n",
       "      <td>max</td>\n",
       "      <td>56.0</td>\n",
       "      <td>93.0</td>\n",
       "    </tr>\n",
       "  </tbody>\n",
       "</table>\n",
       "</div>"
      ],
      "text/plain": [
       "       Smart  Ultra\n",
       "count   12.0   12.0\n",
       "mean    24.0   58.0\n",
       "std     19.0   23.0\n",
       "min      4.0   20.0\n",
       "25%     11.0   44.0\n",
       "50%     14.0   59.0\n",
       "75%     41.0   74.0\n",
       "max     56.0   93.0"
      ]
     },
     "metadata": {},
     "output_type": "display_data"
    },
    {
     "data": {
      "image/png": "[encoded data removed]",
      "text/plain": [
       "<Figure size 432x288 with 1 Axes>"
      ]
     },
     "metadata": {
      "needs_background": "light"
     },
     "output_type": "display_data"
    }
   ],
   "source": [
    "# создаем новый датафрейм для наглядного сравнения среднего количества сообщений\n",
    "# пользователей двух тарифных планов\n",
    "smart_mess_mean_ultra = pd.DataFrame({'Smart': smart_messages_mean_count['messages_count'], \n",
    "                   'Ultra': ultra_messages_mean_count['messages_count']})\n",
    "\n",
    "# дополнительно покажем подробную таблицу различий распределений между ними\n",
    "display('Таблица различий средних значений количества сообщений', \n",
    "        round(smart_mess_mean_ultra.describe()))\n",
    "\n",
    "# и отрисуем их на графиках в виде \"ящиков с усами\"\n",
    "sns.boxplot(data=smart_mess_mean_ultra)\n",
    "sns.stripplot(data=smart_mess_mean_ultra, color=\"b\", jitter=0.2, size=2.5)\n",
    "plt.title('Сравнение среднего количества сообщений в месяц для каждого тарифа')\n",
    "plt.ylabel('Количество сообщений, шт.')\n",
    "plt.xlabel('Тариф')\n",
    "plt.show()"
   ]
  },
  {
   "cell_type": "markdown",
   "metadata": {
    "cellId": "9mtdfo7vula9y0h7w3d0iv"
   },
   "source": [
    "**Выводы**: пользователи различных тарифных планов заметно отличаются в количестве отосланных сообщений. Наибольший разброс отправленных сообщений отмечается у пользователей тарифа Ultra: среднее значение продолжительности звонка превышает максимальное значение пользователей тарифа Smart. Дисперсии различных тарифных планов также заметно различается: преобладает дисперсия тарифного плана Ultra.\n",
    "\n",
    "Таким образом, по данным графиков и таблиц распределения можно сделать следующие выводы о количестве сообщений в месяц:\n",
    "- для тарифного плана Smart - среднее значение количетсва сообщений в месяц равно 44 сообщения при разбросе от 43 до 45 сообщений\n",
    "- для тарифного плана Ultra - среднее значение количетсва сообщений в месяц равно 48 сообщений при разбросе от 45 до 50 сообщений"
   ]
  },
  {
   "cell_type": "markdown",
   "metadata": {
    "cellId": "m0wh0wbmdvvdp7w6okc9e"
   },
   "source": [
    "## Определение объема интернет-трафика пользователями каждого тарифного плана в месяц"
   ]
  },
  {
   "cell_type": "code",
   "execution_count": 36,
   "metadata": {
    "cellId": "xsc9cd9abxaqiop59mohuo"
   },
   "outputs": [
    {
     "data": {
      "text/plain": [
       "'Таблица распределения объема интернет-трафика в месяц пользователей тарифа Smart'"
      ]
     },
     "metadata": {},
     "output_type": "display_data"
    },
    {
     "data": {
      "text/html": [
       "<div>\n",
       "<style scoped>\n",
       "    .dataframe tbody tr th:only-of-type {\n",
       "        vertical-align: middle;\n",
       "    }\n",
       "\n",
       "    .dataframe tbody tr th {\n",
       "        vertical-align: top;\n",
       "    }\n",
       "\n",
       "    .dataframe thead th {\n",
       "        text-align: right;\n",
       "    }\n",
       "</style>\n",
       "<table border=\"1\" class=\"dataframe\">\n",
       "  <thead>\n",
       "    <tr style=\"text-align: right;\">\n",
       "      <th></th>\n",
       "      <th>month</th>\n",
       "      <th>gb_used</th>\n",
       "    </tr>\n",
       "  </thead>\n",
       "  <tbody>\n",
       "    <tr>\n",
       "      <td>count</td>\n",
       "      <td>12.0</td>\n",
       "      <td>12.0</td>\n",
       "    </tr>\n",
       "    <tr>\n",
       "      <td>mean</td>\n",
       "      <td>6.0</td>\n",
       "      <td>13.0</td>\n",
       "    </tr>\n",
       "    <tr>\n",
       "      <td>std</td>\n",
       "      <td>4.0</td>\n",
       "      <td>5.0</td>\n",
       "    </tr>\n",
       "    <tr>\n",
       "      <td>min</td>\n",
       "      <td>1.0</td>\n",
       "      <td>3.0</td>\n",
       "    </tr>\n",
       "    <tr>\n",
       "      <td>25%</td>\n",
       "      <td>4.0</td>\n",
       "      <td>10.0</td>\n",
       "    </tr>\n",
       "    <tr>\n",
       "      <td>50%</td>\n",
       "      <td>6.0</td>\n",
       "      <td>13.0</td>\n",
       "    </tr>\n",
       "    <tr>\n",
       "      <td>75%</td>\n",
       "      <td>9.0</td>\n",
       "      <td>17.0</td>\n",
       "    </tr>\n",
       "    <tr>\n",
       "      <td>max</td>\n",
       "      <td>12.0</td>\n",
       "      <td>21.0</td>\n",
       "    </tr>\n",
       "  </tbody>\n",
       "</table>\n",
       "</div>"
      ],
      "text/plain": [
       "       month  gb_used\n",
       "count   12.0     12.0\n",
       "mean     6.0     13.0\n",
       "std      4.0      5.0\n",
       "min      1.0      3.0\n",
       "25%      4.0     10.0\n",
       "50%      6.0     13.0\n",
       "75%      9.0     17.0\n",
       "max     12.0     21.0"
      ]
     },
     "metadata": {},
     "output_type": "display_data"
    },
    {
     "name": "stdout",
     "output_type": "stream",
     "text": [
      "Дисперсия распределения объема трафика пользователей тарифа Smart равна: 28.2\n",
      "Стандартное отклонение распределения объема трафика пользователей тарифа Smart равна: 5.3\n"
     ]
    },
    {
     "data": {
      "image/png": "[encoded data removed]",
      "text/plain": [
       "<Figure size 576x576 with 1 Axes>"
      ]
     },
     "metadata": {
      "needs_background": "light"
     },
     "output_type": "display_data"
    }
   ],
   "source": [
    "# создадим сводную таблицу количества сообщений пользователей тарифа Smart\n",
    "smart_mean_inet = (\n",
    "    round(smart_users.pivot_table(index='month', values='gb_used', aggfunc='first').reset_index()))\n",
    "\n",
    "# дополнительно посмотрим подробную таблицу распределения среднего объема\n",
    "# интернет-трафика\n",
    "display('Таблица распределения объема интернет-трафика в месяц пользователей тарифа Smart', \n",
    "      round(smart_mean_inet.describe()))\n",
    "\n",
    "# построим график распределения полученных данных из сводной таблицы\n",
    "plt.figure(figsize=(8, 8))\n",
    "ax = sns.barplot(x=\"month\", y=\"gb_used\", data=smart_mean_inet, \n",
    "                 ci=None, color='steelblue')\n",
    "ax.set_title(\n",
    "    'Соотношение средних значений объема интернет-трафика в месяц пользователей тарифа Smart')\n",
    "ax.set_ylabel(\"Объем трафика, Гб\")\n",
    "ax.set_xlabel(\"Месяц\")\n",
    "\n",
    "# выведем значения дисперсии и стандартного отклонения объема интернет-трафика \n",
    "# пользователей тарифа Smart\n",
    "print('Дисперсия распределения объема трафика пользователей тарифа Smart равна:', \n",
    "      round(np.var(smart_mean_inet['gb_used'], ddof=1), 1)\n",
    ")\n",
    "print('Стандартное отклонение распределения объема трафика пользователей тарифа Smart равна:', \n",
    "      round(np.std(smart_mean_inet['gb_used'], ddof=1), 1)\n",
    ")"
   ]
  },
  {
   "cell_type": "code",
   "execution_count": 37,
   "metadata": {
    "cellId": "cjpl08xxe0h27yo546le5z"
   },
   "outputs": [
    {
     "data": {
      "text/plain": [
       "'Таблица распределения объема интернет-трафика в месяц пользователей тарифа Ultra'"
      ]
     },
     "metadata": {},
     "output_type": "display_data"
    },
    {
     "data": {
      "text/html": [
       "<div>\n",
       "<style scoped>\n",
       "    .dataframe tbody tr th:only-of-type {\n",
       "        vertical-align: middle;\n",
       "    }\n",
       "\n",
       "    .dataframe tbody tr th {\n",
       "        vertical-align: top;\n",
       "    }\n",
       "\n",
       "    .dataframe thead th {\n",
       "        text-align: right;\n",
       "    }\n",
       "</style>\n",
       "<table border=\"1\" class=\"dataframe\">\n",
       "  <thead>\n",
       "    <tr style=\"text-align: right;\">\n",
       "      <th></th>\n",
       "      <th>month</th>\n",
       "      <th>gb_used</th>\n",
       "    </tr>\n",
       "  </thead>\n",
       "  <tbody>\n",
       "    <tr>\n",
       "      <td>count</td>\n",
       "      <td>12.0</td>\n",
       "      <td>12.0</td>\n",
       "    </tr>\n",
       "    <tr>\n",
       "      <td>mean</td>\n",
       "      <td>6.0</td>\n",
       "      <td>11.0</td>\n",
       "    </tr>\n",
       "    <tr>\n",
       "      <td>std</td>\n",
       "      <td>4.0</td>\n",
       "      <td>7.0</td>\n",
       "    </tr>\n",
       "    <tr>\n",
       "      <td>min</td>\n",
       "      <td>1.0</td>\n",
       "      <td>1.0</td>\n",
       "    </tr>\n",
       "    <tr>\n",
       "      <td>25%</td>\n",
       "      <td>4.0</td>\n",
       "      <td>5.0</td>\n",
       "    </tr>\n",
       "    <tr>\n",
       "      <td>50%</td>\n",
       "      <td>6.0</td>\n",
       "      <td>12.0</td>\n",
       "    </tr>\n",
       "    <tr>\n",
       "      <td>75%</td>\n",
       "      <td>9.0</td>\n",
       "      <td>15.0</td>\n",
       "    </tr>\n",
       "    <tr>\n",
       "      <td>max</td>\n",
       "      <td>12.0</td>\n",
       "      <td>24.0</td>\n",
       "    </tr>\n",
       "  </tbody>\n",
       "</table>\n",
       "</div>"
      ],
      "text/plain": [
       "       month  gb_used\n",
       "count   12.0     12.0\n",
       "mean     6.0     11.0\n",
       "std      4.0      7.0\n",
       "min      1.0      1.0\n",
       "25%      4.0      5.0\n",
       "50%      6.0     12.0\n",
       "75%      9.0     15.0\n",
       "max     12.0     24.0"
      ]
     },
     "metadata": {},
     "output_type": "display_data"
    },
    {
     "name": "stdout",
     "output_type": "stream",
     "text": [
      "Дисперсия распределения объема трафика пользователей тарифа Ultra равна: 46.4\n",
      "\n",
      "Стандартное отклонение распределения объема трафика пользователей тарифа Ultra равно: 6.8\n",
      "\n"
     ]
    },
    {
     "data": {
      "image/png": "[encoded data removed]",
      "text/plain": [
       "<Figure size 576x576 with 1 Axes>"
      ]
     },
     "metadata": {
      "needs_background": "light"
     },
     "output_type": "display_data"
    }
   ],
   "source": [
    "# создадим сводную таблицу количества сообщений пользователей тарифа Ultra\n",
    "ultra_mean_inet = (\n",
    "    round(ultra_users.pivot_table(index='month', values='gb_used', aggfunc='first').reset_index()))\n",
    "\n",
    "# дополнительно посмотрим подробную таблицу распределения среднего объема\n",
    "# интернет-трафика\n",
    "display('Таблица распределения объема интернет-трафика в месяц пользователей тарифа Ultra', \n",
    "      round(ultra_mean_inet.describe()))\n",
    "\n",
    "# построим график распределения полученных данных из сводной таблицы\n",
    "plt.figure(figsize=(8, 8))\n",
    "ax = sns.barplot(x=\"month\", y=\"gb_used\", data=ultra_mean_inet, \n",
    "                 ci=None, color='orange')\n",
    "ax.set_title(\n",
    "    'Соотношение средних значений объема интернет-трафика в месяц пользователей тарифа Ultra')\n",
    "ax.set_ylabel(\"Объем трафика, Гб\")\n",
    "ax.set_xlabel(\"Месяц\")\n",
    "\n",
    "# выведем значения дисперсии и стандартного отклонения объема интернет-трафика \n",
    "# пользователей тарифа Ultra\n",
    "print('Дисперсия распределения объема трафика пользователей тарифа Ultra равна:', \n",
    "      round(np.var(ultra_mean_inet['gb_used'], ddof=1), 1)\n",
    ")\n",
    "print()\n",
    "print('Стандартное отклонение распределения объема трафика пользователей тарифа Ultra равно:', \n",
    "      round(np.std(ultra_mean_inet['gb_used'], ddof=1), 1)\n",
    ")\n",
    "print()"
   ]
  },
  {
   "cell_type": "code",
   "execution_count": 38,
   "metadata": {
    "cellId": "vrciirvi78feh59fz5oog7"
   },
   "outputs": [
    {
     "data": {
      "text/plain": [
       "'Таблица различий средних значений количества сообщений'"
      ]
     },
     "metadata": {},
     "output_type": "display_data"
    },
    {
     "data": {
      "text/html": [
       "<div>\n",
       "<style scoped>\n",
       "    .dataframe tbody tr th:only-of-type {\n",
       "        vertical-align: middle;\n",
       "    }\n",
       "\n",
       "    .dataframe tbody tr th {\n",
       "        vertical-align: top;\n",
       "    }\n",
       "\n",
       "    .dataframe thead th {\n",
       "        text-align: right;\n",
       "    }\n",
       "</style>\n",
       "<table border=\"1\" class=\"dataframe\">\n",
       "  <thead>\n",
       "    <tr style=\"text-align: right;\">\n",
       "      <th></th>\n",
       "      <th>Smart</th>\n",
       "      <th>Ultra</th>\n",
       "    </tr>\n",
       "  </thead>\n",
       "  <tbody>\n",
       "    <tr>\n",
       "      <td>count</td>\n",
       "      <td>12.0</td>\n",
       "      <td>12.0</td>\n",
       "    </tr>\n",
       "    <tr>\n",
       "      <td>mean</td>\n",
       "      <td>13.0</td>\n",
       "      <td>11.0</td>\n",
       "    </tr>\n",
       "    <tr>\n",
       "      <td>std</td>\n",
       "      <td>5.0</td>\n",
       "      <td>7.0</td>\n",
       "    </tr>\n",
       "    <tr>\n",
       "      <td>min</td>\n",
       "      <td>3.0</td>\n",
       "      <td>1.0</td>\n",
       "    </tr>\n",
       "    <tr>\n",
       "      <td>25%</td>\n",
       "      <td>10.0</td>\n",
       "      <td>5.0</td>\n",
       "    </tr>\n",
       "    <tr>\n",
       "      <td>50%</td>\n",
       "      <td>13.0</td>\n",
       "      <td>12.0</td>\n",
       "    </tr>\n",
       "    <tr>\n",
       "      <td>75%</td>\n",
       "      <td>17.0</td>\n",
       "      <td>15.0</td>\n",
       "    </tr>\n",
       "    <tr>\n",
       "      <td>max</td>\n",
       "      <td>21.0</td>\n",
       "      <td>24.0</td>\n",
       "    </tr>\n",
       "  </tbody>\n",
       "</table>\n",
       "</div>"
      ],
      "text/plain": [
       "       Smart  Ultra\n",
       "count   12.0   12.0\n",
       "mean    13.0   11.0\n",
       "std      5.0    7.0\n",
       "min      3.0    1.0\n",
       "25%     10.0    5.0\n",
       "50%     13.0   12.0\n",
       "75%     17.0   15.0\n",
       "max     21.0   24.0"
      ]
     },
     "metadata": {},
     "output_type": "display_data"
    },
    {
     "data": {
      "image/png": "[encoded data removed]",
      "text/plain": [
       "<Figure size 432x288 with 1 Axes>"
      ]
     },
     "metadata": {
      "needs_background": "light"
     },
     "output_type": "display_data"
    }
   ],
   "source": [
    "# создаем новый датафрейм для наглядного сравнения среднего объема интернет-трафика\n",
    "# пользователей двух тарифных планов\n",
    "smart_inet_mean_ultra = pd.DataFrame({'Smart': smart_mean_inet['gb_used'], \n",
    "                   'Ultra': ultra_mean_inet['gb_used']})\n",
    "\n",
    "# дополнительно покажем подробную таблицу различий распределений между ними\n",
    "display('Таблица различий средних значений количества сообщений', \n",
    "        round(smart_inet_mean_ultra.describe()))\n",
    "\n",
    "# и отрисуем их на графиках в виде \"ящиков с усами\"\n",
    "sns.boxplot(data=smart_inet_mean_ultra)\n",
    "sns.stripplot(data=smart_inet_mean_ultra, color=\"b\", jitter=0.2, size=2.5)\n",
    "plt.title('Сравнение средних объемов интернет-трафика в месяц для каждого тарифа')\n",
    "plt.ylabel('Объем трафика, Гб')\n",
    "plt.xlabel('Тариф')\n",
    "plt.show()"
   ]
  },
  {
   "cell_type": "markdown",
   "metadata": {},
   "source": [
    "**Выводы**: пользователи различных тарифных планов заметно отличаются в использовании интернет-трафика. Больший объем трафика отмечен у пользователей тарифа Ultra. Дисперсии различных тарифных планов несильно различны.\n",
    "\n",
    "Таким образом, по данным графиков и таблиц распределения можно сделать следующие выводы об объеме интернет-трафика  в месяц:\n",
    "- для тарифного плана Smart - среднее значение объема трафика в месяц равно 16 Гб при разбросе от 16 Гб до 17 Гб\n",
    "- для тарифного плана Ultra - среднее значение количетсва сообщений в месяц равно 20 Гб при разбросе от 18 Гб до 20 Гб"
   ]
  },
  {
   "cell_type": "markdown",
   "metadata": {},
   "source": [
    "<a class=\"anchor\" id=\"21-bullet\">"
   ]
  },
  {
   "cell_type": "markdown",
   "metadata": {},
   "source": [
    "## **Выводы** \n",
    "По данным графиков и таблиц распределения можно сделать следующие выводы:\n",
    "1. Продолжительность звонков в месяц:\n",
    "- для тарифного плана Smart - среднее значение продолжительности звонков в месяц равно 446 минут при разбросе от 417 до 452 минут\n",
    "- для тарифного плана Ultra - среднее значение продолжительности звонков в месяц равно 466 минут при разбросе от 430 до 508 минут\n",
    "\n",
    "2. Количество сообщений в месяц:\n",
    "- для тарифного плана Smart - среднее значение количетсва сообщений в месяц равно 44 сообщения при разбросе от 43 до 45 сообщений\n",
    "- для тарифного плана Ultra - среднее значение количетсва сообщений в месяц равно 48 сообщений при разбросе от 45 до 50 сообщений\n",
    "\n",
    "3. Объем интернет-трафика в месяц:\n",
    "- для тарифного плана Smart - среднее значение объема трафика в месяц равно 16 Гб при разбросе от 16 Гб до 17 Гб\n",
    "- для тарифного плана Ultra - среднее значение количетсва сообщений в месяц равно 20 Гб при разбросе от 18 Гб до 20 Гб\n"
   ]
  },
  {
   "cell_type": "markdown",
   "metadata": {
    "cellId": "itkurvwudvg0e03fxymx478"
   },
   "source": [
    "# Проверка гипотез"
   ]
  },
  {
   "cell_type": "markdown",
   "metadata": {
    "cellId": "solmxicn5jmsdycnewp4ik"
   },
   "source": [
    "## Гипотеза о различении средней выручки пользователей тарифов \"Ultra\" и \"Smart\""
   ]
  },
  {
   "cell_type": "markdown",
   "metadata": {
    "cellId": "2brudg3hcfctq521n0zdgo"
   },
   "source": [
    "**Определим гипотезы**\n",
    "\n",
    "***Нулевая гипотеза***: выручка между пользователями различных тарифных планов не отличается.\n",
    "\n",
    "***Альтернативная гипотеза***: выручка с пользователей тарифного плана Ultra существенно отличается от выручки тарифа Smart\n",
    "\n",
    "Для выбора метода сравнения доходов от пользователей различных тарифов выведем дисперсии и стандартное отклонение каждого тарифного плана"
   ]
  },
  {
   "cell_type": "code",
   "execution_count": 39,
   "metadata": {
    "cellId": "gxct1qaj1nt209romzgxvd"
   },
   "outputs": [
    {
     "name": "stdout",
     "output_type": "stream",
     "text": [
      "Дисперсия дохода от пользователей тарифа Smart равна: 707772.8\n",
      "Стандартное отклонение доходов от пользователей тарифа Smart равна: 841.3\n"
     ]
    }
   ],
   "source": [
    "# Найдем стандартное отклонение и дисперсию выручки от пользователей тарифа Smart\n",
    "print('Дисперсия дохода от пользователей тарифа Smart равна:', \n",
    "      round(np.var(smart_users['money_spell'], ddof=1), 1)\n",
    ")\n",
    "print('Стандартное отклонение доходов от пользователей тарифа Smart равна:', \n",
    "      round(np.std(smart_users['money_spell'], ddof=1), 1)\n",
    ")"
   ]
  },
  {
   "cell_type": "code",
   "execution_count": 40,
   "metadata": {
    "cellId": "j0xxxuvmpqpz71z0jbxkpj"
   },
   "outputs": [
    {
     "name": "stdout",
     "output_type": "stream",
     "text": [
      "Дисперсия дохода от пользователей тарифа Ultra равна: 147297.5\n",
      "Стандартное отклонение доходов от пользователей тарифа Ultra равна: 383.8\n"
     ]
    }
   ],
   "source": [
    "# Найдем стандартное отклонение и дисперсию выручки от пользователей тарифа Ultra\n",
    "print('Дисперсия дохода от пользователей тарифа Ultra равна:', \n",
    "      round(np.var(ultra_users['money_spell'], ddof=1), 1)\n",
    ")\n",
    "print('Стандартное отклонение доходов от пользователей тарифа Ultra равна:', \n",
    "      round(np.std(ultra_users['money_spell'], ddof=1), 1)\n",
    ")"
   ]
  },
  {
   "cell_type": "markdown",
   "metadata": {
    "cellId": "6369jiqt0litbqkcnol98g"
   },
   "source": [
    "**Промежуточный вывод**: диспресии доходов различных тарифов заметно отличаются, следовательно для нахождения различий между тарифами установим занчение `equal_var`, равное `False`"
   ]
  },
  {
   "cell_type": "code",
   "execution_count": 41,
   "metadata": {
    "cellId": "pjbvdgtt27ikpnuyn8tuip",
    "scrolled": false
   },
   "outputs": [
    {
     "name": "stdout",
     "output_type": "stream",
     "text": [
      "p-значение:  4.086213846398409e-198\n",
      "Отклоняем нулевую гипотезу\n"
     ]
    }
   ],
   "source": [
    "# Проверяем гипотезу о различиях средней выручки пользователей \n",
    "# тарифов Smart и Ultra\n",
    "\n",
    "# установим статистически значимый криетрий\n",
    "alpha = 0.05\n",
    "\n",
    "# определим различия между выборками с помощью метода т-Стьюдента для независимых выборок\n",
    "money_diff = st.ttest_ind(ultra_users['money_spell'],smart_users['money_spell'], \n",
    "                          equal_var = False)\n",
    "print('p-значение: ', money_diff.pvalue)\n",
    "if money_diff.pvalue < alpha:\n",
    "    print('Отклоняем нулевую гипотезу')\n",
    "else:\n",
    "    print('Нулевую гипотезу нельзя отвергнуть')"
   ]
  },
  {
   "cell_type": "code",
   "execution_count": 42,
   "metadata": {},
   "outputs": [
    {
     "data": {
      "text/html": [
       "<div>\n",
       "<style scoped>\n",
       "    .dataframe tbody tr th:only-of-type {\n",
       "        vertical-align: middle;\n",
       "    }\n",
       "\n",
       "    .dataframe tbody tr th {\n",
       "        vertical-align: top;\n",
       "    }\n",
       "\n",
       "    .dataframe thead th {\n",
       "        text-align: right;\n",
       "    }\n",
       "</style>\n",
       "<table border=\"1\" class=\"dataframe\">\n",
       "  <thead>\n",
       "    <tr style=\"text-align: right;\">\n",
       "      <th></th>\n",
       "      <th>Smart</th>\n",
       "      <th>Ultra</th>\n",
       "    </tr>\n",
       "  </thead>\n",
       "  <tbody>\n",
       "    <tr>\n",
       "      <td>count</td>\n",
       "      <td>2229.0</td>\n",
       "      <td>977.0</td>\n",
       "    </tr>\n",
       "    <tr>\n",
       "      <td>mean</td>\n",
       "      <td>1375.0</td>\n",
       "      <td>2074.0</td>\n",
       "    </tr>\n",
       "    <tr>\n",
       "      <td>std</td>\n",
       "      <td>841.0</td>\n",
       "      <td>384.0</td>\n",
       "    </tr>\n",
       "    <tr>\n",
       "      <td>min</td>\n",
       "      <td>550.0</td>\n",
       "      <td>1950.0</td>\n",
       "    </tr>\n",
       "    <tr>\n",
       "      <td>25%</td>\n",
       "      <td>676.0</td>\n",
       "      <td>1950.0</td>\n",
       "    </tr>\n",
       "    <tr>\n",
       "      <td>50%</td>\n",
       "      <td>1138.0</td>\n",
       "      <td>1950.0</td>\n",
       "    </tr>\n",
       "    <tr>\n",
       "      <td>75%</td>\n",
       "      <td>1878.0</td>\n",
       "      <td>1950.0</td>\n",
       "    </tr>\n",
       "    <tr>\n",
       "      <td>max</td>\n",
       "      <td>5810.0</td>\n",
       "      <td>4842.0</td>\n",
       "    </tr>\n",
       "  </tbody>\n",
       "</table>\n",
       "</div>"
      ],
      "text/plain": [
       "        Smart   Ultra\n",
       "count  2229.0   977.0\n",
       "mean   1375.0  2074.0\n",
       "std     841.0   384.0\n",
       "min     550.0  1950.0\n",
       "25%     676.0  1950.0\n",
       "50%    1138.0  1950.0\n",
       "75%    1878.0  1950.0\n",
       "max    5810.0  4842.0"
      ]
     },
     "execution_count": 42,
     "metadata": {},
     "output_type": "execute_result"
    }
   ],
   "source": [
    "# проверим этот результат сравнением средних значений выручки\n",
    "\n",
    "money = pd.DataFrame({'Smart': smart_users['money_spell'], \n",
    "                    'Ultra': ultra_users['money_spell']})\n",
    "round(money.describe())"
   ]
  },
  {
   "cell_type": "markdown",
   "metadata": {},
   "source": [
    "Действительно, значения средней выручки различных тарифных планов отличаются"
   ]
  },
  {
   "cell_type": "markdown",
   "metadata": {
    "cellId": "yslfvxfdnek18kpc5oazl"
   },
   "source": [
    "### **Вывод**\n",
    "\n",
    "В соответствии с полученными значениями **отвергаем нулевую гипотезу**. Таким образом, выручка от пользователей различных тарифных планов - значимо отличается. Выручка от пользователей тарифного плана Ultra больше, чем с пользователей тарифного плана Smart"
   ]
  },
  {
   "cell_type": "markdown",
   "metadata": {
    "cellId": "y9j1dm7ri3hesi891ylnrd"
   },
   "source": [
    "## Гипотеза об отличии средней выручки пользователей из Москвы от выручки пользователей других регионов?"
   ]
  },
  {
   "cell_type": "markdown",
   "metadata": {
    "cellId": "ulbhjp8ho7s3floy3ne94f"
   },
   "source": [
    "***Нулевая гипотеза***: выручка пользователей Москвы не отличается от выручки в других регионах\n",
    "\n",
    "***Альтернативная гипотеза***: выручка пользователей Москвы сущесвтенно отличается от выручки в других регионах"
   ]
  },
  {
   "cell_type": "code",
   "execution_count": 43,
   "metadata": {
    "cellId": "5z7ddmyt7inka8n7ntg4p8"
   },
   "outputs": [
    {
     "name": "stdout",
     "output_type": "stream",
     "text": [
      "Дисперсия дохода от пользователей тарифа Smart в Москве равна: 642497.3\n",
      "Стандартное отклонение доходов от пользователей тарифа Smart в Москве равна: 801.6\n",
      "Дисперсия дохода от пользователей тарифа Smart в других регионах равна: 721147.7\n",
      "Стандартное отклонение доходов от пользователей тарифа Smart в других регионах равна: 849.2\n"
     ]
    }
   ],
   "source": [
    "# для начала отфильтруем пользователей различных регинов\n",
    "smart_moscow = smart_users.query('city == \"Москва\"')\n",
    "smart_others = smart_users.query('city != \"Москва\"')\n",
    "\n",
    "# установим их дисперсию и стандартное отклонение\n",
    "print('Дисперсия дохода от пользователей тарифа Smart в Москве равна:', \n",
    "      round(np.var(smart_moscow['money_spell'], ddof=1), 1)\n",
    ")\n",
    "print('Стандартное отклонение доходов от пользователей тарифа Smart в Москве равна:', \n",
    "      round(np.std(smart_moscow['money_spell'], ddof=1), 1)\n",
    ")\n",
    "print('Дисперсия дохода от пользователей тарифа Smart в других регионах равна:', \n",
    "      round(np.var(smart_others['money_spell'], ddof=1), 1)\n",
    ")\n",
    "print('Стандартное отклонение доходов от пользователей тарифа Smart в других регионах равна:', \n",
    "      round(np.std(smart_others['money_spell'], ddof=1), 1)\n",
    ")"
   ]
  },
  {
   "cell_type": "markdown",
   "metadata": {
    "cellId": "nysccwk31xfp9qv8d1efz"
   },
   "source": [
    "**Промежуточный вывод**: диспресии доходов различных тарифов отличаются, следовательно для нахождения различий между тарифами установим занчение `equal_var`, равное `False`"
   ]
  },
  {
   "cell_type": "code",
   "execution_count": 44,
   "metadata": {
    "cellId": "z3yrmkm80pbdtirvcnut2b"
   },
   "outputs": [
    {
     "name": "stdout",
     "output_type": "stream",
     "text": [
      "p-значение:  0.17636151031753497\n",
      "Нулевую гипотезу нельзя отвергнуть\n"
     ]
    }
   ],
   "source": [
    "# Проверяем гипотезу о различиях в доходе между регионами тарифов Smart и Ultra\n",
    "\n",
    "# установим статистически значимый криетрий\n",
    "alpha = 0.05\n",
    "\n",
    "# проверяем значения\n",
    "money_region_diff_smart = st.ttest_ind(smart_moscow['money_spell'], \n",
    "                                 smart_others['money_spell'], equal_var = False)\n",
    "print('p-значение: ', money_region_diff_smart.pvalue)\n",
    "if money_region_diff_smart.pvalue < alpha:\n",
    "    print('Отклоняем нулевую гипотезу')\n",
    "else:\n",
    "    print('Нулевую гипотезу нельзя отвергнуть')"
   ]
  },
  {
   "cell_type": "markdown",
   "metadata": {
    "cellId": "mgtygfusqnddq6ao6tjyg"
   },
   "source": [
    "### **Вывод по тарифу Smart**\n",
    "Нулевую гипотезу отвергнуть нельзя. Доход пользователей тарифа Smart между регионами и Москвой не отличается статистически значимо"
   ]
  },
  {
   "cell_type": "code",
   "execution_count": 45,
   "metadata": {
    "cellId": "eey3adzmp540z1ixwqug5h"
   },
   "outputs": [
    {
     "name": "stdout",
     "output_type": "stream",
     "text": [
      "Дисперсия дохода от пользователей тарифа Ultra в Москве равна: 128155.9\n",
      "Стандартное отклонение доходов от пользователей тарифа Ultra в Москве равна: 358.0\n",
      "Дисперсия дохода от пользователей тарифа Ultra в других регионах равна: 153194.9\n",
      "Стандартное отклонение доходов от пользователей тарифа Ultra в других регионах равна: 391.4\n"
     ]
    }
   ],
   "source": [
    "# для начала отфильтруем пользователей различных регинов\n",
    "\n",
    "ultra_moscow = ultra_users.query('city == \"Москва\"')\n",
    "ultra_others = ultra_users.query('city != \"Москва\"')\n",
    "\n",
    "# установим их дисперсию и стандартное отклонение\n",
    "print('Дисперсия дохода от пользователей тарифа Ultra в Москве равна:', \n",
    "      round(np.var(ultra_moscow['money_spell'], ddof=1), 1)\n",
    ")\n",
    "print('Стандартное отклонение доходов от пользователей тарифа Ultra в Москве равна:', \n",
    "      round(np.std(ultra_moscow['money_spell'], ddof=1), 1)\n",
    ")\n",
    "print('Дисперсия дохода от пользователей тарифа Ultra в других регионах равна:', \n",
    "      round(np.var(ultra_others['money_spell'], ddof=1), 1)\n",
    ")\n",
    "print('Стандартное отклонение доходов от пользователей тарифа Ultra в других регионах равна:', \n",
    "      round(np.std(ultra_others['money_spell'], ddof=1), 1)\n",
    ")"
   ]
  },
  {
   "cell_type": "markdown",
   "metadata": {
    "cellId": "uw3z4rhp6cnhigrmxba15j"
   },
   "source": [
    "**Промежуточный вывод**: диспресии доходов различных тарифов заметно отличаются, следовательно для нахождения различий между тарифами установим занчение `equal_var`, равное `False`"
   ]
  },
  {
   "cell_type": "code",
   "execution_count": 46,
   "metadata": {
    "cellId": "jyki3dxmm7we1fl7gjzwg"
   },
   "outputs": [
    {
     "name": "stdout",
     "output_type": "stream",
     "text": [
      "p-значение:  0.8316517798427749\n",
      "Нулевую гипотезу нельзя отвергнуть\n"
     ]
    }
   ],
   "source": [
    "# Проверяем гипотезу о различиях в доходе между регионами тарифов Smart и Ultra\n",
    "\n",
    "# установим статистически значимый криетрий\n",
    "alpha = 0.05\n",
    "money_region_diff_ultra = st.ttest_ind(ultra_moscow['money_spell'], \n",
    "                                 ultra_others['money_spell'], equal_var = False)\n",
    "\n",
    "print('p-значение: ', money_region_diff_ultra.pvalue)\n",
    "if money_region_diff_ultra.pvalue < alpha:\n",
    "    print('Отклоняем нулевую гипотезу')\n",
    "else:\n",
    "    print('Нулевую гипотезу нельзя отвергнуть')"
   ]
  },
  {
   "cell_type": "markdown",
   "metadata": {
    "cellId": "4w0f5ox4uxhfax9m6pqhj6"
   },
   "source": [
    "### **Вывод по тарифу Ultra** \n",
    "\n",
    "Нулевую гипотезу отвергнуть нельзя. Доход пользователей тарифа Ultra между регионами и Москвой не отличается статистически значимо"
   ]
  },
  {
   "cell_type": "markdown",
   "metadata": {
    "cellId": "o7jg9ijzgjt6wpbljtir"
   },
   "source": [
    "# Общие выводы"
   ]
  },
  {
   "cell_type": "markdown",
   "metadata": {
    "cellId": "camjvo8tgqqb3k216exfyd"
   },
   "source": [
    "**Таким образом, в ходе данного анализа выявлено следующее**:\n",
    "1. Пользователи различных тарифных планов заметно отличаются в продолжительности совершаемых вызовов. Наибольший разброс продолжитльности звонка отмечается у пользователей тарифа Ultra: среднее значение продолжительности звонка превышает максимальное значение пользователей тарифа Smart\n",
    "2. Пользователи различных тарифных планов заметно отличаются в количестве отосланных сообщений. Наибольший разброс отправленных сообщений отмечается у пользователей тарифа Ultra: среднее значение \n",
    "3. Продолжительности звонка превышает максимальное значение пользователей тарифа Smart\n",
    "4. Выручка между различными тарифными планами статистически значимо отличается: выручка от пользователей тарифного плана Ultra больше, чем с пользователей тарифного плана Smart\n",
    "5. Не выявлено статистически значимых различий между выручкой от пользователей обоих тарифных планов между регионами и Москвой\n",
    "\n",
    "Выявлены следующие потребности пользователей тарифных планов:\n",
    "1. Продолжительность звонков в месяц:\n",
    "- для тарифного плана Smart - среднее значение продолжительности звонков в месяц равно 446 минут при разбросе от 417 до 452 минут\n",
    "- для тарифного плана Ultra - среднее значение продолжительности звонков в месяц равно 466 минут при разбросе от 430 до 508 минут\n",
    "\n",
    "2. Количество сообщений в месяц:\n",
    "- для тарифного плана Smart - среднее значение количетсва сообщений в месяц равно 44 сообщения при разбросе от 43 до 45 сообщений\n",
    "- для тарифного плана Ultra - среднее значение количетсва сообщений в месяц равно 48 сообщений при разбросе от 45 до 50 сообщений\n",
    "\n",
    "3. Объем интернет-трафика в месяц:\n",
    "- для тарифного плана Smart - среднее значение объема трафика в месяц равно 16 Гб при разбросе от 16 Гб до 17 Гб\n",
    "- для тарифного плана Ultra - среднее значение количетсва сообщений в месяц равно 20 Гб при разбросе от 18 Гб до 20 Гб"
   ]
  }
 ],
 "metadata": {
  "ExecuteTimeLog": [
   {
    "duration": 100127,
    "start_time": "2021-12-21T04:01:04.669Z"
   },
   {
    "duration": 1477,
    "start_time": "2021-12-21T04:02:44.800Z"
   },
   {
    "duration": 517,
    "start_time": "2021-12-21T04:02:46.281Z"
   },
   {
    "duration": 45,
    "start_time": "2021-12-21T04:02:46.801Z"
   },
   {
    "duration": 33,
    "start_time": "2021-12-21T04:02:46.849Z"
   },
   {
    "duration": 28,
    "start_time": "2021-12-21T04:02:46.884Z"
   },
   {
    "duration": 57,
    "start_time": "2021-12-21T04:02:46.915Z"
   },
   {
    "duration": 24,
    "start_time": "2021-12-21T04:02:46.976Z"
   },
   {
    "duration": 193,
    "start_time": "2021-12-21T04:02:47.004Z"
   },
   {
    "duration": 136,
    "start_time": "2021-12-21T04:02:47.201Z"
   },
   {
    "duration": 88,
    "start_time": "2021-12-21T04:02:47.340Z"
   },
   {
    "duration": 35,
    "start_time": "2021-12-21T04:02:47.431Z"
   },
   {
    "duration": 16,
    "start_time": "2021-12-21T04:02:47.469Z"
   },
   {
    "duration": 19,
    "start_time": "2021-12-21T04:02:47.489Z"
   },
   {
    "duration": 54,
    "start_time": "2021-12-21T04:02:47.511Z"
   },
   {
    "duration": 71,
    "start_time": "2021-12-21T04:02:47.568Z"
   },
   {
    "duration": 87,
    "start_time": "2021-12-21T04:02:47.641Z"
   },
   {
    "duration": 63,
    "start_time": "2021-12-21T04:02:47.731Z"
   },
   {
    "duration": 44,
    "start_time": "2021-12-21T04:02:47.796Z"
   },
   {
    "duration": 69,
    "start_time": "2021-12-21T04:02:47.843Z"
   },
   {
    "duration": 60,
    "start_time": "2021-12-21T04:02:47.914Z"
   },
   {
    "duration": 44,
    "start_time": "2021-12-21T04:02:47.977Z"
   },
   {
    "duration": 8,
    "start_time": "2021-12-21T04:02:48.026Z"
   },
   {
    "duration": 179,
    "start_time": "2021-12-21T04:02:48.064Z"
   },
   {
    "duration": 35,
    "start_time": "2021-12-21T04:02:48.245Z"
   },
   {
    "duration": 47,
    "start_time": "2021-12-21T04:02:48.282Z"
   },
   {
    "duration": 460,
    "start_time": "2021-12-21T04:02:48.331Z"
   },
   {
    "duration": 437,
    "start_time": "2021-12-21T04:02:48.793Z"
   },
   {
    "duration": 579,
    "start_time": "2021-12-21T04:02:49.233Z"
   },
   {
    "duration": 447,
    "start_time": "2021-12-21T04:02:49.815Z"
   },
   {
    "duration": 456,
    "start_time": "2021-12-21T04:02:50.265Z"
   },
   {
    "duration": 430,
    "start_time": "2021-12-21T04:02:50.724Z"
   },
   {
    "duration": 470,
    "start_time": "2021-12-21T04:02:51.157Z"
   },
   {
    "duration": 515,
    "start_time": "2021-12-21T04:02:51.630Z"
   },
   {
    "duration": 399,
    "start_time": "2021-12-21T04:02:52.147Z"
   },
   {
    "duration": 14,
    "start_time": "2021-12-21T04:02:52.549Z"
   },
   {
    "duration": 8,
    "start_time": "2021-12-21T04:02:52.566Z"
   },
   {
    "duration": 8,
    "start_time": "2021-12-21T04:02:52.576Z"
   },
   {
    "duration": 17,
    "start_time": "2021-12-21T04:02:52.587Z"
   },
   {
    "duration": 7,
    "start_time": "2021-12-21T04:02:52.606Z"
   },
   {
    "duration": 18,
    "start_time": "2021-12-21T04:02:52.663Z"
   },
   {
    "duration": 8,
    "start_time": "2021-12-21T04:02:52.684Z"
   },
   {
    "duration": 23,
    "start_time": "2021-12-21T04:10:11.922Z"
   },
   {
    "duration": 445,
    "start_time": "2021-12-21T04:11:00.852Z"
   },
   {
    "duration": 552,
    "start_time": "2021-12-21T04:11:21.278Z"
   },
   {
    "duration": 16,
    "start_time": "2021-12-21T04:11:25.916Z"
   },
   {
    "duration": 303,
    "start_time": "2021-12-21T04:11:47.381Z"
   },
   {
    "duration": 27,
    "start_time": "2021-12-21T04:12:00.529Z"
   },
   {
    "duration": 51,
    "start_time": "2021-12-21T04:12:12.973Z"
   },
   {
    "duration": 34,
    "start_time": "2021-12-21T04:38:34.988Z"
   },
   {
    "duration": 302,
    "start_time": "2021-12-21T04:52:53.539Z"
   },
   {
    "duration": 6381,
    "start_time": "2021-12-21T04:57:38.108Z"
   },
   {
    "duration": 1599,
    "start_time": "2021-12-21T04:57:44.492Z"
   },
   {
    "duration": 514,
    "start_time": "2021-12-21T04:57:46.094Z"
   },
   {
    "duration": 42,
    "start_time": "2021-12-21T04:57:46.611Z"
   },
   {
    "duration": 34,
    "start_time": "2021-12-21T04:57:46.656Z"
   },
   {
    "duration": 28,
    "start_time": "2021-12-21T04:57:46.718Z"
   },
   {
    "duration": 18,
    "start_time": "2021-12-21T04:57:46.749Z"
   },
   {
    "duration": 56,
    "start_time": "2021-12-21T04:57:46.771Z"
   },
   {
    "duration": 176,
    "start_time": "2021-12-21T04:57:46.830Z"
   },
   {
    "duration": 141,
    "start_time": "2021-12-21T04:57:47.009Z"
   },
   {
    "duration": 85,
    "start_time": "2021-12-21T04:57:47.152Z"
   },
   {
    "duration": 11,
    "start_time": "2021-12-21T04:57:47.240Z"
   },
   {
    "duration": 13,
    "start_time": "2021-12-21T04:57:47.254Z"
   },
   {
    "duration": 49,
    "start_time": "2021-12-21T04:57:47.270Z"
   },
   {
    "duration": 11,
    "start_time": "2021-12-21T04:57:47.322Z"
   },
   {
    "duration": 93,
    "start_time": "2021-12-21T04:57:47.335Z"
   },
   {
    "duration": 63,
    "start_time": "2021-12-21T04:57:47.430Z"
   },
   {
    "duration": 56,
    "start_time": "2021-12-21T04:57:47.495Z"
   },
   {
    "duration": 66,
    "start_time": "2021-12-21T04:57:47.554Z"
   },
   {
    "duration": 53,
    "start_time": "2021-12-21T04:57:47.622Z"
   },
   {
    "duration": 84,
    "start_time": "2021-12-21T04:57:47.678Z"
   },
   {
    "duration": 65,
    "start_time": "2021-12-21T04:57:47.765Z"
   },
   {
    "duration": 7,
    "start_time": "2021-12-21T04:57:47.837Z"
   },
   {
    "duration": 197,
    "start_time": "2021-12-21T04:57:47.848Z"
   },
   {
    "duration": 28,
    "start_time": "2021-12-21T04:57:48.048Z"
   },
   {
    "duration": 82,
    "start_time": "2021-12-21T04:57:48.079Z"
   },
   {
    "duration": 456,
    "start_time": "2021-12-21T04:57:48.164Z"
   },
   {
    "duration": 459,
    "start_time": "2021-12-21T04:57:48.623Z"
   },
   {
    "duration": 402,
    "start_time": "2021-12-21T04:57:49.085Z"
   },
   {
    "duration": 432,
    "start_time": "2021-12-21T04:57:49.490Z"
   },
   {
    "duration": 454,
    "start_time": "2021-12-21T04:57:49.924Z"
   },
   {
    "duration": 403,
    "start_time": "2021-12-21T04:57:50.380Z"
   },
   {
    "duration": 463,
    "start_time": "2021-12-21T04:57:50.785Z"
   },
   {
    "duration": 519,
    "start_time": "2021-12-21T04:57:51.250Z"
   },
   {
    "duration": 407,
    "start_time": "2021-12-21T04:57:51.771Z"
   },
   {
    "duration": 8,
    "start_time": "2021-12-21T04:57:52.181Z"
   },
   {
    "duration": 29,
    "start_time": "2021-12-21T04:57:52.191Z"
   },
   {
    "duration": 14,
    "start_time": "2021-12-21T04:57:52.222Z"
   },
   {
    "duration": 18,
    "start_time": "2021-12-21T04:57:52.238Z"
   },
   {
    "duration": 9,
    "start_time": "2021-12-21T04:57:52.259Z"
   },
   {
    "duration": 52,
    "start_time": "2021-12-21T04:57:52.271Z"
   },
   {
    "duration": 18,
    "start_time": "2021-12-21T04:57:52.326Z"
   },
   {
    "duration": 11,
    "start_time": "2021-12-21T05:03:50.708Z"
   },
   {
    "duration": 106,
    "start_time": "2021-12-21T05:08:03.989Z"
   },
   {
    "duration": 10,
    "start_time": "2021-12-21T05:08:09.728Z"
   },
   {
    "duration": 500,
    "start_time": "2021-12-21T05:08:15.901Z"
   },
   {
    "duration": 15,
    "start_time": "2021-12-21T05:12:12.247Z"
   },
   {
    "duration": 3052,
    "start_time": "2021-12-21T05:12:18.929Z"
   },
   {
    "duration": 1525,
    "start_time": "2021-12-21T05:12:21.985Z"
   },
   {
    "duration": 551,
    "start_time": "2021-12-21T05:12:23.513Z"
   },
   {
    "duration": 44,
    "start_time": "2021-12-21T05:12:24.066Z"
   },
   {
    "duration": 35,
    "start_time": "2021-12-21T05:12:24.112Z"
   },
   {
    "duration": 29,
    "start_time": "2021-12-21T05:12:24.149Z"
   },
   {
    "duration": 47,
    "start_time": "2021-12-21T05:12:24.180Z"
   },
   {
    "duration": 23,
    "start_time": "2021-12-21T05:12:24.231Z"
   },
   {
    "duration": 198,
    "start_time": "2021-12-21T05:12:24.257Z"
   },
   {
    "duration": 147,
    "start_time": "2021-12-21T05:12:24.458Z"
   },
   {
    "duration": 93,
    "start_time": "2021-12-21T05:12:24.607Z"
   },
   {
    "duration": 24,
    "start_time": "2021-12-21T05:12:24.702Z"
   },
   {
    "duration": 13,
    "start_time": "2021-12-21T05:12:24.729Z"
   },
   {
    "duration": 17,
    "start_time": "2021-12-21T05:12:24.745Z"
   },
   {
    "duration": 55,
    "start_time": "2021-12-21T05:12:24.764Z"
   },
   {
    "duration": 75,
    "start_time": "2021-12-21T05:12:24.821Z"
   },
   {
    "duration": 84,
    "start_time": "2021-12-21T05:12:24.898Z"
   },
   {
    "duration": 62,
    "start_time": "2021-12-21T05:12:24.984Z"
   },
   {
    "duration": 47,
    "start_time": "2021-12-21T05:12:25.049Z"
   },
   {
    "duration": 55,
    "start_time": "2021-12-21T05:12:25.117Z"
   },
   {
    "duration": 75,
    "start_time": "2021-12-21T05:12:25.174Z"
   },
   {
    "duration": 43,
    "start_time": "2021-12-21T05:12:25.252Z"
   },
   {
    "duration": 23,
    "start_time": "2021-12-21T05:12:25.300Z"
   },
   {
    "duration": 10,
    "start_time": "2021-12-21T05:12:25.327Z"
   },
   {
    "duration": 541,
    "start_time": "2021-12-21T05:12:25.340Z"
   },
   {
    "duration": 43,
    "start_time": "2021-12-21T05:12:25.885Z"
   },
   {
    "duration": 52,
    "start_time": "2021-12-21T05:12:25.931Z"
   },
   {
    "duration": 464,
    "start_time": "2021-12-21T05:12:25.985Z"
   },
   {
    "duration": 439,
    "start_time": "2021-12-21T05:12:26.451Z"
   },
   {
    "duration": 384,
    "start_time": "2021-12-21T05:12:26.892Z"
   },
   {
    "duration": 439,
    "start_time": "2021-12-21T05:12:27.278Z"
   },
   {
    "duration": 456,
    "start_time": "2021-12-21T05:12:27.720Z"
   },
   {
    "duration": 438,
    "start_time": "2021-12-21T05:12:28.179Z"
   },
   {
    "duration": 470,
    "start_time": "2021-12-21T05:12:28.619Z"
   },
   {
    "duration": 529,
    "start_time": "2021-12-21T05:12:29.091Z"
   },
   {
    "duration": 447,
    "start_time": "2021-12-21T05:12:29.622Z"
   },
   {
    "duration": 7,
    "start_time": "2021-12-21T05:12:30.071Z"
   },
   {
    "duration": 9,
    "start_time": "2021-12-21T05:12:30.081Z"
   },
   {
    "duration": 28,
    "start_time": "2021-12-21T05:12:30.093Z"
   },
   {
    "duration": 22,
    "start_time": "2021-12-21T05:12:30.123Z"
   },
   {
    "duration": 22,
    "start_time": "2021-12-21T05:12:30.148Z"
   },
   {
    "duration": 19,
    "start_time": "2021-12-21T05:12:30.172Z"
   },
   {
    "duration": 27,
    "start_time": "2021-12-21T05:12:30.194Z"
   },
   {
    "duration": 130,
    "start_time": "2021-12-21T05:13:04.770Z"
   },
   {
    "duration": 92,
    "start_time": "2021-12-21T05:14:02.190Z"
   },
   {
    "duration": 475,
    "start_time": "2021-12-21T05:15:06.650Z"
   },
   {
    "duration": 44,
    "start_time": "2021-12-21T05:15:12.237Z"
   },
   {
    "duration": 55,
    "start_time": "2021-12-21T05:15:29.457Z"
   },
   {
    "duration": 43,
    "start_time": "2021-12-21T05:16:33.661Z"
   },
   {
    "duration": 306,
    "start_time": "2021-12-21T05:18:59.709Z"
   },
   {
    "duration": 36,
    "start_time": "2021-12-21T05:19:07.810Z"
   },
   {
    "duration": 51,
    "start_time": "2021-12-21T05:19:14.717Z"
   },
   {
    "duration": 100,
    "start_time": "2021-12-21T05:20:00.790Z"
   },
   {
    "duration": 91,
    "start_time": "2021-12-21T05:20:23.569Z"
   },
   {
    "duration": 88,
    "start_time": "2021-12-21T05:20:45.029Z"
   },
   {
    "duration": 712,
    "start_time": "2021-12-21T07:31:41.503Z"
   },
   {
    "duration": 7495,
    "start_time": "2021-12-21T07:31:49.426Z"
   },
   {
    "duration": 1609,
    "start_time": "2021-12-21T07:31:56.924Z"
   },
   {
    "duration": 678,
    "start_time": "2021-12-21T07:31:58.536Z"
   },
   {
    "duration": 671,
    "start_time": "2021-12-21T07:31:59.217Z"
   },
   {
    "duration": 1782,
    "start_time": "2021-12-21T07:31:58.117Z"
   },
   {
    "duration": 1771,
    "start_time": "2021-12-21T07:31:58.129Z"
   },
   {
    "duration": 1766,
    "start_time": "2021-12-21T07:31:58.137Z"
   },
   {
    "duration": 1757,
    "start_time": "2021-12-21T07:31:58.147Z"
   },
   {
    "duration": 1753,
    "start_time": "2021-12-21T07:31:58.152Z"
   },
   {
    "duration": 1746,
    "start_time": "2021-12-21T07:31:58.161Z"
   },
   {
    "duration": 1737,
    "start_time": "2021-12-21T07:31:58.171Z"
   },
   {
    "duration": 1733,
    "start_time": "2021-12-21T07:31:58.177Z"
   },
   {
    "duration": 1725,
    "start_time": "2021-12-21T07:31:58.186Z"
   },
   {
    "duration": 1721,
    "start_time": "2021-12-21T07:31:58.192Z"
   },
   {
    "duration": 1713,
    "start_time": "2021-12-21T07:31:58.201Z"
   },
   {
    "duration": 1704,
    "start_time": "2021-12-21T07:31:58.211Z"
   },
   {
    "duration": 1696,
    "start_time": "2021-12-21T07:31:58.221Z"
   },
   {
    "duration": 1691,
    "start_time": "2021-12-21T07:31:58.227Z"
   },
   {
    "duration": 1686,
    "start_time": "2021-12-21T07:31:58.233Z"
   },
   {
    "duration": 1678,
    "start_time": "2021-12-21T07:31:58.242Z"
   },
   {
    "duration": 1674,
    "start_time": "2021-12-21T07:31:58.248Z"
   },
   {
    "duration": 1665,
    "start_time": "2021-12-21T07:31:58.259Z"
   },
   {
    "duration": 1658,
    "start_time": "2021-12-21T07:31:58.267Z"
   },
   {
    "duration": 1650,
    "start_time": "2021-12-21T07:31:58.277Z"
   },
   {
    "duration": 1645,
    "start_time": "2021-12-21T07:31:58.283Z"
   },
   {
    "duration": 1637,
    "start_time": "2021-12-21T07:31:58.292Z"
   },
   {
    "duration": 1630,
    "start_time": "2021-12-21T07:31:58.301Z"
   },
   {
    "duration": 1607,
    "start_time": "2021-12-21T07:31:58.325Z"
   },
   {
    "duration": 1601,
    "start_time": "2021-12-21T07:31:58.332Z"
   },
   {
    "duration": 1628,
    "start_time": "2021-12-21T07:31:58.340Z"
   },
   {
    "duration": 1624,
    "start_time": "2021-12-21T07:31:58.346Z"
   },
   {
    "duration": 1620,
    "start_time": "2021-12-21T07:31:58.351Z"
   },
   {
    "duration": 1613,
    "start_time": "2021-12-21T07:31:58.360Z"
   },
   {
    "duration": 1618,
    "start_time": "2021-12-21T07:31:58.366Z"
   },
   {
    "duration": 1613,
    "start_time": "2021-12-21T07:31:58.372Z"
   },
   {
    "duration": 1609,
    "start_time": "2021-12-21T07:31:58.377Z"
   },
   {
    "duration": 1606,
    "start_time": "2021-12-21T07:31:58.383Z"
   },
   {
    "duration": 1599,
    "start_time": "2021-12-21T07:31:58.391Z"
   },
   {
    "duration": 1595,
    "start_time": "2021-12-21T07:31:58.397Z"
   },
   {
    "duration": 1591,
    "start_time": "2021-12-21T07:31:58.403Z"
   },
   {
    "duration": 1585,
    "start_time": "2021-12-21T07:31:58.411Z"
   },
   {
    "duration": 1578,
    "start_time": "2021-12-21T07:31:58.419Z"
   },
   {
    "duration": 1574,
    "start_time": "2021-12-21T07:31:58.425Z"
   },
   {
    "duration": 399,
    "start_time": "2021-12-21T07:34:52.363Z"
   },
   {
    "duration": 682,
    "start_time": "2021-12-21T07:46:36.183Z"
   },
   {
    "duration": 3595,
    "start_time": "2021-12-21T07:46:49.344Z"
   },
   {
    "duration": 1625,
    "start_time": "2021-12-21T07:46:52.942Z"
   },
   {
    "duration": 588,
    "start_time": "2021-12-21T07:46:54.570Z"
   },
   {
    "duration": 173,
    "start_time": "2021-12-21T07:46:55.162Z"
   },
   {
    "duration": 131,
    "start_time": "2021-12-21T07:46:55.338Z"
   },
   {
    "duration": 34,
    "start_time": "2021-12-21T07:46:55.472Z"
   },
   {
    "duration": 21,
    "start_time": "2021-12-21T07:46:55.508Z"
   },
   {
    "duration": 64,
    "start_time": "2021-12-21T07:46:55.534Z"
   },
   {
    "duration": 229,
    "start_time": "2021-12-21T07:46:55.602Z"
   },
   {
    "duration": 201,
    "start_time": "2021-12-21T07:46:55.833Z"
   },
   {
    "duration": 97,
    "start_time": "2021-12-21T07:46:56.037Z"
   },
   {
    "duration": 34,
    "start_time": "2021-12-21T07:46:56.136Z"
   },
   {
    "duration": 15,
    "start_time": "2021-12-21T07:46:56.174Z"
   },
   {
    "duration": 17,
    "start_time": "2021-12-21T07:46:56.195Z"
   },
   {
    "duration": 52,
    "start_time": "2021-12-21T07:46:56.215Z"
   },
   {
    "duration": 113,
    "start_time": "2021-12-21T07:46:56.271Z"
   },
   {
    "duration": 64,
    "start_time": "2021-12-21T07:46:56.387Z"
   },
   {
    "duration": 71,
    "start_time": "2021-12-21T07:46:56.454Z"
   },
   {
    "duration": 80,
    "start_time": "2021-12-21T07:46:56.527Z"
   },
   {
    "duration": 82,
    "start_time": "2021-12-21T07:46:56.610Z"
   },
   {
    "duration": 53,
    "start_time": "2021-12-21T07:46:56.694Z"
   },
   {
    "duration": 65,
    "start_time": "2021-12-21T07:46:56.749Z"
   },
   {
    "duration": 12,
    "start_time": "2021-12-21T07:46:56.819Z"
   },
   {
    "duration": 41,
    "start_time": "2021-12-21T07:46:56.834Z"
   },
   {
    "duration": 582,
    "start_time": "2021-12-21T07:46:56.878Z"
   },
   {
    "duration": 32,
    "start_time": "2021-12-21T07:46:57.462Z"
   },
   {
    "duration": 98,
    "start_time": "2021-12-21T07:46:57.497Z"
   },
   {
    "duration": 499,
    "start_time": "2021-12-21T07:46:57.597Z"
   },
   {
    "duration": 509,
    "start_time": "2021-12-21T07:46:58.099Z"
   },
   {
    "duration": 448,
    "start_time": "2021-12-21T07:46:58.611Z"
   },
   {
    "duration": 491,
    "start_time": "2021-12-21T07:46:59.067Z"
   },
   {
    "duration": 489,
    "start_time": "2021-12-21T07:46:59.561Z"
   },
   {
    "duration": 526,
    "start_time": "2021-12-21T07:47:00.054Z"
   },
   {
    "duration": 517,
    "start_time": "2021-12-21T07:47:00.584Z"
   },
   {
    "duration": 587,
    "start_time": "2021-12-21T07:47:01.104Z"
   },
   {
    "duration": 458,
    "start_time": "2021-12-21T07:47:01.694Z"
   },
   {
    "duration": 13,
    "start_time": "2021-12-21T07:47:02.154Z"
   },
   {
    "duration": 18,
    "start_time": "2021-12-21T07:47:02.170Z"
   },
   {
    "duration": 26,
    "start_time": "2021-12-21T07:47:02.191Z"
   },
   {
    "duration": 26,
    "start_time": "2021-12-21T07:47:02.220Z"
   },
   {
    "duration": 20,
    "start_time": "2021-12-21T07:47:02.249Z"
   },
   {
    "duration": 18,
    "start_time": "2021-12-21T07:47:02.276Z"
   },
   {
    "duration": 57,
    "start_time": "2021-12-21T07:47:02.296Z"
   },
   {
    "duration": 452,
    "start_time": "2021-12-21T11:13:27.128Z"
   },
   {
    "duration": 7644,
    "start_time": "2021-12-21T11:13:39.679Z"
   },
   {
    "duration": 1575,
    "start_time": "2021-12-21T11:13:47.326Z"
   },
   {
    "duration": 557,
    "start_time": "2021-12-21T11:13:48.904Z"
   },
   {
    "duration": 163,
    "start_time": "2021-12-21T11:13:49.464Z"
   },
   {
    "duration": 350,
    "start_time": "2021-12-21T11:13:49.630Z"
   },
   {
    "duration": 119,
    "start_time": "2021-12-21T11:13:49.983Z"
   },
   {
    "duration": 60,
    "start_time": "2021-12-21T11:13:50.104Z"
   },
   {
    "duration": 22,
    "start_time": "2021-12-21T11:13:50.170Z"
   },
   {
    "duration": 25,
    "start_time": "2021-12-21T11:13:50.195Z"
   },
   {
    "duration": 223,
    "start_time": "2021-12-21T11:13:50.222Z"
   },
   {
    "duration": 273,
    "start_time": "2021-12-21T11:13:50.448Z"
   },
   {
    "duration": 135,
    "start_time": "2021-12-21T11:13:50.724Z"
   },
   {
    "duration": 20,
    "start_time": "2021-12-21T11:13:50.862Z"
   },
   {
    "duration": 12,
    "start_time": "2021-12-21T11:13:50.885Z"
   },
   {
    "duration": 15,
    "start_time": "2021-12-21T11:13:50.900Z"
   },
   {
    "duration": 50,
    "start_time": "2021-12-21T11:13:50.918Z"
   },
   {
    "duration": 90,
    "start_time": "2021-12-21T11:13:50.971Z"
   },
   {
    "duration": 65,
    "start_time": "2021-12-21T11:13:51.063Z"
   },
   {
    "duration": 68,
    "start_time": "2021-12-21T11:13:51.130Z"
   },
   {
    "duration": 65,
    "start_time": "2021-12-21T11:13:51.200Z"
   },
   {
    "duration": 67,
    "start_time": "2021-12-21T11:13:51.268Z"
   },
   {
    "duration": 83,
    "start_time": "2021-12-21T11:13:51.338Z"
   },
   {
    "duration": 81,
    "start_time": "2021-12-21T11:13:51.430Z"
   },
   {
    "duration": 12,
    "start_time": "2021-12-21T11:13:51.514Z"
   },
   {
    "duration": 33,
    "start_time": "2021-12-21T11:13:51.529Z"
   },
   {
    "duration": 510,
    "start_time": "2021-12-21T11:13:51.564Z"
   },
   {
    "duration": 28,
    "start_time": "2021-12-21T11:13:52.077Z"
   },
   {
    "duration": 82,
    "start_time": "2021-12-21T11:13:52.107Z"
   },
   {
    "duration": 458,
    "start_time": "2021-12-21T11:13:52.192Z"
   },
   {
    "duration": 466,
    "start_time": "2021-12-21T11:13:52.652Z"
   },
   {
    "duration": 428,
    "start_time": "2021-12-21T11:13:53.120Z"
   },
   {
    "duration": 477,
    "start_time": "2021-12-21T11:13:53.551Z"
   },
   {
    "duration": 510,
    "start_time": "2021-12-21T11:13:54.031Z"
   },
   {
    "duration": 547,
    "start_time": "2021-12-21T11:13:54.544Z"
   },
   {
    "duration": 516,
    "start_time": "2021-12-21T11:13:55.093Z"
   },
   {
    "duration": 495,
    "start_time": "2021-12-21T11:13:55.612Z"
   },
   {
    "duration": 442,
    "start_time": "2021-12-21T11:13:56.110Z"
   },
   {
    "duration": 7,
    "start_time": "2021-12-21T11:13:56.555Z"
   },
   {
    "duration": 9,
    "start_time": "2021-12-21T11:13:56.565Z"
   },
   {
    "duration": 19,
    "start_time": "2021-12-21T11:13:56.577Z"
   },
   {
    "duration": 18,
    "start_time": "2021-12-21T11:13:56.598Z"
   },
   {
    "duration": 8,
    "start_time": "2021-12-21T11:13:56.660Z"
   },
   {
    "duration": 20,
    "start_time": "2021-12-21T11:13:56.670Z"
   },
   {
    "duration": 17,
    "start_time": "2021-12-21T11:13:56.693Z"
   },
   {
    "duration": 25,
    "start_time": "2021-12-21T11:14:18.720Z"
   },
   {
    "duration": 114,
    "start_time": "2021-12-21T11:15:29.578Z"
   },
   {
    "duration": 458,
    "start_time": "2021-12-21T11:31:26.417Z"
   },
   {
    "duration": 403,
    "start_time": "2021-12-21T11:31:47.308Z"
   },
   {
    "duration": 447,
    "start_time": "2021-12-21T11:32:32.676Z"
   },
   {
    "duration": 738,
    "start_time": "2021-12-21T11:33:06.160Z"
   },
   {
    "duration": 793,
    "start_time": "2021-12-21T11:33:21.862Z"
   },
   {
    "duration": 476,
    "start_time": "2021-12-21T11:33:35.217Z"
   },
   {
    "duration": 381,
    "start_time": "2021-12-21T11:38:35.371Z"
   },
   {
    "duration": 395,
    "start_time": "2021-12-21T11:40:07.602Z"
   },
   {
    "duration": 317,
    "start_time": "2021-12-21T11:40:52.647Z"
   },
   {
    "duration": 240,
    "start_time": "2021-12-21T11:45:08.096Z"
   },
   {
    "duration": 805,
    "start_time": "2021-12-21T12:01:30.233Z"
   },
   {
    "duration": 1033,
    "start_time": "2021-12-21T12:02:17.662Z"
   },
   {
    "duration": 14,
    "start_time": "2021-12-21T12:04:51.424Z"
   },
   {
    "duration": 237,
    "start_time": "2021-12-21T12:05:49.412Z"
   },
   {
    "duration": 230,
    "start_time": "2021-12-21T12:06:01.924Z"
   },
   {
    "duration": 378,
    "start_time": "2021-12-21T12:06:47.109Z"
   },
   {
    "duration": 333,
    "start_time": "2021-12-21T12:06:58.368Z"
   },
   {
    "duration": 414,
    "start_time": "2021-12-21T12:07:07.335Z"
   },
   {
    "duration": 480,
    "start_time": "2021-12-21T12:07:24.052Z"
   },
   {
    "duration": 484,
    "start_time": "2021-12-21T12:07:43.611Z"
   },
   {
    "duration": 340,
    "start_time": "2021-12-21T12:09:37.302Z"
   },
   {
    "duration": 243,
    "start_time": "2021-12-21T12:09:41.605Z"
   },
   {
    "duration": 272,
    "start_time": "2021-12-21T12:09:48.518Z"
   },
   {
    "duration": 2662,
    "start_time": "2021-12-21T12:10:10.044Z"
   },
   {
    "duration": 262,
    "start_time": "2021-12-21T12:10:16.557Z"
   },
   {
    "duration": 199,
    "start_time": "2021-12-21T12:12:07.971Z"
   },
   {
    "duration": 1141,
    "start_time": "2021-12-21T12:12:15.321Z"
   },
   {
    "duration": 517,
    "start_time": "2021-12-21T12:12:33.404Z"
   },
   {
    "duration": 533,
    "start_time": "2021-12-21T12:13:23.473Z"
   },
   {
    "duration": 126,
    "start_time": "2021-12-21T12:17:41.271Z"
   },
   {
    "duration": 7,
    "start_time": "2021-12-21T12:19:40.955Z"
   },
   {
    "duration": 8,
    "start_time": "2021-12-21T12:25:48.845Z"
   },
   {
    "duration": 10,
    "start_time": "2021-12-21T12:26:08.158Z"
   },
   {
    "duration": 9,
    "start_time": "2021-12-21T12:27:56.145Z"
   },
   {
    "duration": 248,
    "start_time": "2021-12-21T12:37:45.761Z"
   },
   {
    "duration": 1391,
    "start_time": "2021-12-21T12:38:01.304Z"
   },
   {
    "duration": 255,
    "start_time": "2021-12-21T12:38:07.855Z"
   },
   {
    "duration": 341,
    "start_time": "2021-12-21T12:38:54.110Z"
   },
   {
    "duration": 493,
    "start_time": "2021-12-21T12:39:01.159Z"
   },
   {
    "duration": 3738,
    "start_time": "2021-12-21T13:17:07.316Z"
   },
   {
    "duration": 2251,
    "start_time": "2021-12-21T13:17:11.059Z"
   },
   {
    "duration": 559,
    "start_time": "2021-12-21T13:17:13.315Z"
   },
   {
    "duration": 152,
    "start_time": "2021-12-21T13:17:13.877Z"
   },
   {
    "duration": 285,
    "start_time": "2021-12-21T13:17:14.032Z"
   },
   {
    "duration": 424,
    "start_time": "2021-12-21T13:17:14.319Z"
   },
   {
    "duration": 139,
    "start_time": "2021-12-21T13:17:14.746Z"
   },
   {
    "duration": 46,
    "start_time": "2021-12-21T13:17:14.891Z"
   },
   {
    "duration": 29,
    "start_time": "2021-12-21T13:17:14.962Z"
   },
   {
    "duration": 69,
    "start_time": "2021-12-21T13:17:14.994Z"
   },
   {
    "duration": 304,
    "start_time": "2021-12-21T13:17:15.067Z"
   },
   {
    "duration": 219,
    "start_time": "2021-12-21T13:17:15.374Z"
   },
   {
    "duration": 98,
    "start_time": "2021-12-21T13:17:15.595Z"
   },
   {
    "duration": 11,
    "start_time": "2021-12-21T13:17:15.696Z"
   },
   {
    "duration": 21,
    "start_time": "2021-12-21T13:17:15.710Z"
   },
   {
    "duration": 35,
    "start_time": "2021-12-21T13:17:15.734Z"
   },
   {
    "duration": 13,
    "start_time": "2021-12-21T13:17:15.771Z"
   },
   {
    "duration": 288,
    "start_time": "2021-12-21T13:17:15.788Z"
   },
   {
    "duration": 796,
    "start_time": "2021-12-21T13:17:16.079Z"
   },
   {
    "duration": 125,
    "start_time": "2021-12-21T13:17:16.879Z"
   },
   {
    "duration": 111,
    "start_time": "2021-12-21T13:17:17.007Z"
   },
   {
    "duration": 78,
    "start_time": "2021-12-21T13:17:17.121Z"
   },
   {
    "duration": 93,
    "start_time": "2021-12-21T13:17:17.208Z"
   },
   {
    "duration": 80,
    "start_time": "2021-12-21T13:17:17.305Z"
   },
   {
    "duration": 54,
    "start_time": "2021-12-21T13:17:17.388Z"
   },
   {
    "duration": 50,
    "start_time": "2021-12-21T13:17:17.460Z"
   },
   {
    "duration": 10,
    "start_time": "2021-12-21T13:17:17.513Z"
   },
   {
    "duration": 535,
    "start_time": "2021-12-21T13:17:17.526Z"
   },
   {
    "duration": 65,
    "start_time": "2021-12-21T13:17:18.063Z"
   },
   {
    "duration": 703,
    "start_time": "2021-12-21T13:17:18.131Z"
   },
   {
    "duration": 500,
    "start_time": "2021-12-21T13:17:18.837Z"
   },
   {
    "duration": 496,
    "start_time": "2021-12-21T13:17:19.339Z"
   },
   {
    "duration": 541,
    "start_time": "2021-12-21T13:17:19.838Z"
   },
   {
    "duration": 558,
    "start_time": "2021-12-21T13:17:20.382Z"
   },
   {
    "duration": 544,
    "start_time": "2021-12-21T13:17:20.943Z"
   },
   {
    "duration": 508,
    "start_time": "2021-12-21T13:17:21.491Z"
   },
   {
    "duration": 491,
    "start_time": "2021-12-21T13:17:22.002Z"
   },
   {
    "duration": 507,
    "start_time": "2021-12-21T13:17:22.496Z"
   },
   {
    "duration": 12,
    "start_time": "2021-12-21T13:17:23.006Z"
   },
   {
    "duration": 11,
    "start_time": "2021-12-21T13:17:23.021Z"
   },
   {
    "duration": 30,
    "start_time": "2021-12-21T13:17:23.036Z"
   },
   {
    "duration": 27,
    "start_time": "2021-12-21T13:17:23.070Z"
   },
   {
    "duration": 12,
    "start_time": "2021-12-21T13:17:23.101Z"
   },
   {
    "duration": 62,
    "start_time": "2021-12-21T13:17:23.117Z"
   },
   {
    "duration": 12,
    "start_time": "2021-12-21T13:17:23.183Z"
   },
   {
    "duration": 514,
    "start_time": "2021-12-21T13:18:15.698Z"
   },
   {
    "duration": 686,
    "start_time": "2021-12-21T13:18:27.151Z"
   },
   {
    "duration": 483,
    "start_time": "2021-12-21T13:18:37.218Z"
   },
   {
    "duration": 425,
    "start_time": "2021-12-21T13:18:44.816Z"
   },
   {
    "duration": 817,
    "start_time": "2021-12-21T13:18:52.985Z"
   },
   {
    "duration": 66,
    "start_time": "2021-12-21T13:19:12.861Z"
   },
   {
    "duration": 5485,
    "start_time": "2021-12-21T13:22:26.888Z"
   },
   {
    "duration": 1765,
    "start_time": "2021-12-21T13:22:32.377Z"
   },
   {
    "duration": 595,
    "start_time": "2021-12-21T13:22:34.145Z"
   },
   {
    "duration": 64,
    "start_time": "2021-12-21T13:22:34.744Z"
   },
   {
    "duration": 339,
    "start_time": "2021-12-21T13:22:34.811Z"
   },
   {
    "duration": 588,
    "start_time": "2021-12-21T13:22:35.153Z"
   },
   {
    "duration": 120,
    "start_time": "2021-12-21T13:22:35.744Z"
   },
   {
    "duration": 31,
    "start_time": "2021-12-21T13:22:35.868Z"
   },
   {
    "duration": 59,
    "start_time": "2021-12-21T13:22:35.902Z"
   },
   {
    "duration": 33,
    "start_time": "2021-12-21T13:22:35.965Z"
   },
   {
    "duration": 263,
    "start_time": "2021-12-21T13:22:36.002Z"
   },
   {
    "duration": 230,
    "start_time": "2021-12-21T13:22:36.269Z"
   },
   {
    "duration": 98,
    "start_time": "2021-12-21T13:22:36.502Z"
   },
   {
    "duration": 15,
    "start_time": "2021-12-21T13:22:36.603Z"
   },
   {
    "duration": 42,
    "start_time": "2021-12-21T13:22:36.621Z"
   },
   {
    "duration": 22,
    "start_time": "2021-12-21T13:22:36.666Z"
   },
   {
    "duration": 20,
    "start_time": "2021-12-21T13:22:36.691Z"
   },
   {
    "duration": 379,
    "start_time": "2021-12-21T13:22:36.714Z"
   },
   {
    "duration": 852,
    "start_time": "2021-12-21T13:22:37.097Z"
   },
   {
    "duration": 79,
    "start_time": "2021-12-21T13:22:37.959Z"
   },
   {
    "duration": 77,
    "start_time": "2021-12-21T13:22:38.041Z"
   },
   {
    "duration": 91,
    "start_time": "2021-12-21T13:22:38.121Z"
   },
   {
    "duration": 92,
    "start_time": "2021-12-21T13:22:38.221Z"
   },
   {
    "duration": 99,
    "start_time": "2021-12-21T13:22:38.317Z"
   },
   {
    "duration": 102,
    "start_time": "2021-12-21T13:22:38.419Z"
   },
   {
    "duration": 95,
    "start_time": "2021-12-21T13:22:38.525Z"
   },
   {
    "duration": 15,
    "start_time": "2021-12-21T13:22:38.623Z"
   },
   {
    "duration": 1028,
    "start_time": "2021-12-21T13:22:38.641Z"
   },
   {
    "duration": 57,
    "start_time": "2021-12-21T13:22:39.673Z"
   },
   {
    "duration": 474,
    "start_time": "2021-12-21T13:22:39.760Z"
   },
   {
    "duration": 462,
    "start_time": "2021-12-21T13:22:40.236Z"
   },
   {
    "duration": 491,
    "start_time": "2021-12-21T13:22:40.702Z"
   },
   {
    "duration": 547,
    "start_time": "2021-12-21T13:22:41.196Z"
   },
   {
    "duration": 467,
    "start_time": "2021-12-21T13:22:41.745Z"
   },
   {
    "duration": 652,
    "start_time": "2021-12-21T13:22:42.215Z"
   },
   {
    "duration": 688,
    "start_time": "2021-12-21T13:22:42.871Z"
   },
   {
    "duration": 605,
    "start_time": "2021-12-21T13:22:43.562Z"
   },
   {
    "duration": 565,
    "start_time": "2021-12-21T13:22:44.170Z"
   },
   {
    "duration": 7,
    "start_time": "2021-12-21T13:22:44.738Z"
   },
   {
    "duration": 18,
    "start_time": "2021-12-21T13:22:44.748Z"
   },
   {
    "duration": 12,
    "start_time": "2021-12-21T13:22:44.769Z"
   },
   {
    "duration": 19,
    "start_time": "2021-12-21T13:22:44.784Z"
   },
   {
    "duration": 58,
    "start_time": "2021-12-21T13:22:44.806Z"
   },
   {
    "duration": 23,
    "start_time": "2021-12-21T13:22:44.867Z"
   },
   {
    "duration": 9,
    "start_time": "2021-12-21T13:22:44.893Z"
   },
   {
    "duration": 449,
    "start_time": "2021-12-21T16:01:28.795Z"
   },
   {
    "duration": 7476,
    "start_time": "2021-12-21T16:07:50.136Z"
   },
   {
    "duration": 1426,
    "start_time": "2021-12-21T16:07:57.615Z"
   },
   {
    "duration": 545,
    "start_time": "2021-12-21T16:07:59.044Z"
   },
   {
    "duration": 46,
    "start_time": "2021-12-21T16:07:59.592Z"
   },
   {
    "duration": 277,
    "start_time": "2021-12-21T16:07:59.641Z"
   },
   {
    "duration": 524,
    "start_time": "2021-12-21T16:07:59.921Z"
   },
   {
    "duration": 117,
    "start_time": "2021-12-21T16:08:00.447Z"
   },
   {
    "duration": 254,
    "start_time": "2021-12-21T16:08:00.569Z"
   },
   {
    "duration": 520,
    "start_time": "2021-12-21T16:08:00.827Z"
   },
   {
    "duration": 32,
    "start_time": "2021-12-21T16:08:01.350Z"
   },
   {
    "duration": 19,
    "start_time": "2021-12-21T16:08:01.384Z"
   },
   {
    "duration": 67,
    "start_time": "2021-12-21T16:08:01.406Z"
   },
   {
    "duration": 172,
    "start_time": "2021-12-21T16:08:01.476Z"
   },
   {
    "duration": 168,
    "start_time": "2021-12-21T16:08:01.651Z"
   },
   {
    "duration": 79,
    "start_time": "2021-12-21T16:08:01.822Z"
   },
   {
    "duration": 12,
    "start_time": "2021-12-21T16:08:01.904Z"
   },
   {
    "duration": 17,
    "start_time": "2021-12-21T16:08:01.919Z"
   },
   {
    "duration": 34,
    "start_time": "2021-12-21T16:08:01.939Z"
   },
   {
    "duration": 13,
    "start_time": "2021-12-21T16:08:01.975Z"
   },
   {
    "duration": 97,
    "start_time": "2021-12-21T16:08:01.990Z"
   },
   {
    "duration": 83,
    "start_time": "2021-12-21T16:08:02.090Z"
   },
   {
    "duration": 44,
    "start_time": "2021-12-21T16:08:02.176Z"
   },
   {
    "duration": 71,
    "start_time": "2021-12-21T16:08:02.226Z"
   },
   {
    "duration": 74,
    "start_time": "2021-12-21T16:08:02.301Z"
   },
   {
    "duration": 55,
    "start_time": "2021-12-21T16:08:02.378Z"
   },
   {
    "duration": 61,
    "start_time": "2021-12-21T16:08:02.436Z"
   },
   {
    "duration": 9,
    "start_time": "2021-12-21T16:08:02.499Z"
   },
   {
    "duration": 523,
    "start_time": "2021-12-21T16:08:02.511Z"
   },
   {
    "duration": 70,
    "start_time": "2021-12-21T16:08:03.037Z"
   },
   {
    "duration": 683,
    "start_time": "2021-12-21T16:08:03.110Z"
   },
   {
    "duration": 687,
    "start_time": "2021-12-21T16:08:03.796Z"
   },
   {
    "duration": 436,
    "start_time": "2021-12-21T16:08:04.486Z"
   },
   {
    "duration": 611,
    "start_time": "2021-12-21T16:08:04.925Z"
   },
   {
    "duration": 465,
    "start_time": "2021-12-21T16:08:05.539Z"
   },
   {
    "duration": 430,
    "start_time": "2021-12-21T16:08:06.006Z"
   },
   {
    "duration": 691,
    "start_time": "2021-12-21T16:08:06.440Z"
   },
   {
    "duration": 488,
    "start_time": "2021-12-21T16:08:07.134Z"
   },
   {
    "duration": 407,
    "start_time": "2021-12-21T16:08:07.625Z"
   },
   {
    "duration": 8,
    "start_time": "2021-12-21T16:08:08.034Z"
   },
   {
    "duration": 24,
    "start_time": "2021-12-21T16:08:08.044Z"
   },
   {
    "duration": 31,
    "start_time": "2021-12-21T16:08:08.071Z"
   },
   {
    "duration": 42,
    "start_time": "2021-12-21T16:08:08.104Z"
   },
   {
    "duration": 22,
    "start_time": "2021-12-21T16:08:08.149Z"
   },
   {
    "duration": 26,
    "start_time": "2021-12-21T16:08:08.173Z"
   },
   {
    "duration": 28,
    "start_time": "2021-12-21T16:08:08.202Z"
   },
   {
    "duration": 16,
    "start_time": "2021-12-21T16:21:56.254Z"
   },
   {
    "duration": 3191,
    "start_time": "2021-12-21T16:22:24.832Z"
   },
   {
    "duration": 2072,
    "start_time": "2021-12-21T16:22:28.027Z"
   },
   {
    "duration": 759,
    "start_time": "2021-12-21T16:22:30.103Z"
   },
   {
    "duration": 69,
    "start_time": "2021-12-21T16:22:30.866Z"
   },
   {
    "duration": 434,
    "start_time": "2021-12-21T16:22:30.939Z"
   },
   {
    "duration": 564,
    "start_time": "2021-12-21T16:22:31.376Z"
   },
   {
    "duration": 126,
    "start_time": "2021-12-21T16:22:31.943Z"
   },
   {
    "duration": 356,
    "start_time": "2021-12-21T16:22:32.074Z"
   },
   {
    "duration": 752,
    "start_time": "2021-12-21T16:22:32.434Z"
   },
   {
    "duration": 31,
    "start_time": "2021-12-21T16:22:33.188Z"
   },
   {
    "duration": 56,
    "start_time": "2021-12-21T16:22:33.222Z"
   },
   {
    "duration": 42,
    "start_time": "2021-12-21T16:22:33.281Z"
   },
   {
    "duration": 205,
    "start_time": "2021-12-21T16:22:33.326Z"
   },
   {
    "duration": 172,
    "start_time": "2021-12-21T16:22:33.534Z"
   },
   {
    "duration": 94,
    "start_time": "2021-12-21T16:22:33.709Z"
   },
   {
    "duration": 16,
    "start_time": "2021-12-21T16:22:33.807Z"
   },
   {
    "duration": 46,
    "start_time": "2021-12-21T16:22:33.826Z"
   },
   {
    "duration": 14,
    "start_time": "2021-12-21T16:22:33.874Z"
   },
   {
    "duration": 42,
    "start_time": "2021-12-21T16:22:33.890Z"
   },
   {
    "duration": 99,
    "start_time": "2021-12-21T16:22:33.934Z"
   },
   {
    "duration": 79,
    "start_time": "2021-12-21T16:22:34.036Z"
   },
   {
    "duration": 66,
    "start_time": "2021-12-21T16:22:34.117Z"
   },
   {
    "duration": 89,
    "start_time": "2021-12-21T16:22:34.189Z"
   },
   {
    "duration": 92,
    "start_time": "2021-12-21T16:22:34.283Z"
   },
   {
    "duration": 91,
    "start_time": "2021-12-21T16:22:34.378Z"
   },
   {
    "duration": 57,
    "start_time": "2021-12-21T16:22:34.472Z"
   },
   {
    "duration": 32,
    "start_time": "2021-12-21T16:22:34.532Z"
   },
   {
    "duration": 522,
    "start_time": "2021-12-21T16:22:34.567Z"
   },
   {
    "duration": 82,
    "start_time": "2021-12-21T16:22:35.092Z"
   },
   {
    "duration": 453,
    "start_time": "2021-12-21T16:22:35.177Z"
   },
   {
    "duration": 463,
    "start_time": "2021-12-21T16:22:35.632Z"
   },
   {
    "duration": 421,
    "start_time": "2021-12-21T16:22:36.098Z"
   },
   {
    "duration": 557,
    "start_time": "2021-12-21T16:22:36.524Z"
   },
   {
    "duration": 495,
    "start_time": "2021-12-21T16:22:37.083Z"
   },
   {
    "duration": 477,
    "start_time": "2021-12-21T16:22:37.581Z"
   },
   {
    "duration": 483,
    "start_time": "2021-12-21T16:22:38.062Z"
   },
   {
    "duration": 468,
    "start_time": "2021-12-21T16:22:38.547Z"
   },
   {
    "duration": 462,
    "start_time": "2021-12-21T16:22:39.017Z"
   },
   {
    "duration": 11,
    "start_time": "2021-12-21T16:22:39.481Z"
   },
   {
    "duration": 6,
    "start_time": "2021-12-21T16:22:39.495Z"
   },
   {
    "duration": 10,
    "start_time": "2021-12-21T16:22:39.503Z"
   },
   {
    "duration": 62,
    "start_time": "2021-12-21T16:22:39.515Z"
   },
   {
    "duration": 6,
    "start_time": "2021-12-21T16:22:39.580Z"
   },
   {
    "duration": 16,
    "start_time": "2021-12-21T16:22:39.589Z"
   },
   {
    "duration": 58,
    "start_time": "2021-12-21T16:22:39.607Z"
   },
   {
    "duration": 18,
    "start_time": "2021-12-21T16:25:07.065Z"
   },
   {
    "duration": 37,
    "start_time": "2021-12-21T16:25:36.246Z"
   },
   {
    "duration": 3308,
    "start_time": "2021-12-21T16:26:59.743Z"
   },
   {
    "duration": 1485,
    "start_time": "2021-12-21T16:27:03.055Z"
   },
   {
    "duration": 516,
    "start_time": "2021-12-21T16:27:04.543Z"
   },
   {
    "duration": 48,
    "start_time": "2021-12-21T16:27:05.063Z"
   },
   {
    "duration": 294,
    "start_time": "2021-12-21T16:27:05.114Z"
   },
   {
    "duration": 504,
    "start_time": "2021-12-21T16:27:05.412Z"
   },
   {
    "duration": 111,
    "start_time": "2021-12-21T16:27:05.919Z"
   },
   {
    "duration": 264,
    "start_time": "2021-12-21T16:27:06.034Z"
   },
   {
    "duration": 534,
    "start_time": "2021-12-21T16:27:06.301Z"
   },
   {
    "duration": 38,
    "start_time": "2021-12-21T16:27:06.837Z"
   },
   {
    "duration": 20,
    "start_time": "2021-12-21T16:27:06.877Z"
   },
   {
    "duration": 72,
    "start_time": "2021-12-21T16:27:06.900Z"
   },
   {
    "duration": 230,
    "start_time": "2021-12-21T16:27:06.975Z"
   },
   {
    "duration": 223,
    "start_time": "2021-12-21T16:27:07.209Z"
   },
   {
    "duration": 86,
    "start_time": "2021-12-21T16:27:07.436Z"
   },
   {
    "duration": 12,
    "start_time": "2021-12-21T16:27:07.525Z"
   },
   {
    "duration": 17,
    "start_time": "2021-12-21T16:27:07.564Z"
   },
   {
    "duration": 18,
    "start_time": "2021-12-21T16:27:07.584Z"
   },
   {
    "duration": 84,
    "start_time": "2021-12-21T16:27:07.605Z"
   },
   {
    "duration": 137,
    "start_time": "2021-12-21T16:27:07.692Z"
   },
   {
    "duration": 110,
    "start_time": "2021-12-21T16:27:07.833Z"
   },
   {
    "duration": 89,
    "start_time": "2021-12-21T16:27:07.946Z"
   },
   {
    "duration": 73,
    "start_time": "2021-12-21T16:27:08.065Z"
   },
   {
    "duration": 119,
    "start_time": "2021-12-21T16:27:08.143Z"
   },
   {
    "duration": 57,
    "start_time": "2021-12-21T16:27:08.265Z"
   },
   {
    "duration": 73,
    "start_time": "2021-12-21T16:27:08.325Z"
   },
   {
    "duration": 9,
    "start_time": "2021-12-21T16:27:08.401Z"
   },
   {
    "duration": 572,
    "start_time": "2021-12-21T16:27:08.412Z"
   },
   {
    "duration": 79,
    "start_time": "2021-12-21T16:27:08.986Z"
   },
   {
    "duration": 464,
    "start_time": "2021-12-21T16:27:09.067Z"
   },
   {
    "duration": 478,
    "start_time": "2021-12-21T16:27:09.535Z"
   },
   {
    "duration": 623,
    "start_time": "2021-12-21T16:27:10.018Z"
   },
   {
    "duration": 732,
    "start_time": "2021-12-21T16:27:10.644Z"
   },
   {
    "duration": 528,
    "start_time": "2021-12-21T16:27:11.380Z"
   },
   {
    "duration": 456,
    "start_time": "2021-12-21T16:27:11.911Z"
   },
   {
    "duration": 491,
    "start_time": "2021-12-21T16:27:12.371Z"
   },
   {
    "duration": 463,
    "start_time": "2021-12-21T16:27:12.865Z"
   },
   {
    "duration": 614,
    "start_time": "2021-12-21T16:27:13.331Z"
   },
   {
    "duration": 17,
    "start_time": "2021-12-21T16:27:13.947Z"
   },
   {
    "duration": 8,
    "start_time": "2021-12-21T16:27:13.966Z"
   },
   {
    "duration": 10,
    "start_time": "2021-12-21T16:27:13.977Z"
   },
   {
    "duration": 72,
    "start_time": "2021-12-21T16:27:13.991Z"
   },
   {
    "duration": 7,
    "start_time": "2021-12-21T16:27:14.066Z"
   },
   {
    "duration": 19,
    "start_time": "2021-12-21T16:27:14.076Z"
   },
   {
    "duration": 9,
    "start_time": "2021-12-21T16:27:14.098Z"
   },
   {
    "duration": 24,
    "start_time": "2021-12-21T16:31:55.379Z"
   },
   {
    "duration": 115,
    "start_time": "2021-12-21T16:42:24.252Z"
   },
   {
    "duration": 45,
    "start_time": "2021-12-21T16:42:31.819Z"
   },
   {
    "duration": 3847,
    "start_time": "2021-12-21T16:44:09.705Z"
   },
   {
    "duration": 1733,
    "start_time": "2021-12-21T16:44:13.555Z"
   },
   {
    "duration": 564,
    "start_time": "2021-12-21T16:44:15.292Z"
   },
   {
    "duration": 74,
    "start_time": "2021-12-21T16:44:15.860Z"
   },
   {
    "duration": 418,
    "start_time": "2021-12-21T16:44:15.937Z"
   },
   {
    "duration": 723,
    "start_time": "2021-12-21T16:44:16.363Z"
   },
   {
    "duration": 135,
    "start_time": "2021-12-21T16:44:17.090Z"
   },
   {
    "duration": 306,
    "start_time": "2021-12-21T16:44:17.230Z"
   },
   {
    "duration": 591,
    "start_time": "2021-12-21T16:44:17.539Z"
   },
   {
    "duration": 42,
    "start_time": "2021-12-21T16:44:18.132Z"
   },
   {
    "duration": 20,
    "start_time": "2021-12-21T16:44:18.176Z"
   },
   {
    "duration": 22,
    "start_time": "2021-12-21T16:44:18.199Z"
   },
   {
    "duration": 177,
    "start_time": "2021-12-21T16:44:18.263Z"
   },
   {
    "duration": 212,
    "start_time": "2021-12-21T16:44:18.444Z"
   },
   {
    "duration": 78,
    "start_time": "2021-12-21T16:44:18.659Z"
   },
   {
    "duration": 35,
    "start_time": "2021-12-21T16:44:18.739Z"
   },
   {
    "duration": 13,
    "start_time": "2021-12-21T16:44:18.777Z"
   },
   {
    "duration": 15,
    "start_time": "2021-12-21T16:44:18.792Z"
   },
   {
    "duration": 64,
    "start_time": "2021-12-21T16:44:18.809Z"
   },
   {
    "duration": 88,
    "start_time": "2021-12-21T16:44:18.875Z"
   },
   {
    "duration": 65,
    "start_time": "2021-12-21T16:44:18.965Z"
   },
   {
    "duration": 64,
    "start_time": "2021-12-21T16:44:19.032Z"
   },
   {
    "duration": 73,
    "start_time": "2021-12-21T16:44:19.103Z"
   },
   {
    "duration": 54,
    "start_time": "2021-12-21T16:44:19.178Z"
   },
   {
    "duration": 67,
    "start_time": "2021-12-21T16:44:19.235Z"
   },
   {
    "duration": 67,
    "start_time": "2021-12-21T16:44:19.305Z"
   },
   {
    "duration": 10,
    "start_time": "2021-12-21T16:44:19.374Z"
   },
   {
    "duration": 9497,
    "start_time": "2021-12-21T16:44:19.387Z"
   },
   {
    "duration": -9723,
    "start_time": "2021-12-21T16:44:38.611Z"
   },
   {
    "duration": -9725,
    "start_time": "2021-12-21T16:44:38.615Z"
   },
   {
    "duration": -9737,
    "start_time": "2021-12-21T16:44:38.629Z"
   },
   {
    "duration": -9741,
    "start_time": "2021-12-21T16:44:38.635Z"
   },
   {
    "duration": -9748,
    "start_time": "2021-12-21T16:44:38.645Z"
   },
   {
    "duration": -9752,
    "start_time": "2021-12-21T16:44:38.651Z"
   },
   {
    "duration": -9757,
    "start_time": "2021-12-21T16:44:38.659Z"
   },
   {
    "duration": -9761,
    "start_time": "2021-12-21T16:44:38.664Z"
   },
   {
    "duration": -9768,
    "start_time": "2021-12-21T16:44:38.672Z"
   },
   {
    "duration": -9771,
    "start_time": "2021-12-21T16:44:38.677Z"
   },
   {
    "duration": -9855,
    "start_time": "2021-12-21T16:44:38.762Z"
   },
   {
    "duration": -9865,
    "start_time": "2021-12-21T16:44:38.773Z"
   },
   {
    "duration": -9868,
    "start_time": "2021-12-21T16:44:38.777Z"
   },
   {
    "duration": -9872,
    "start_time": "2021-12-21T16:44:38.782Z"
   },
   {
    "duration": -9882,
    "start_time": "2021-12-21T16:44:38.793Z"
   },
   {
    "duration": -9886,
    "start_time": "2021-12-21T16:44:38.798Z"
   },
   {
    "duration": -9894,
    "start_time": "2021-12-21T16:44:38.808Z"
   },
   {
    "duration": 8136,
    "start_time": "2021-12-21T16:47:35.201Z"
   },
   {
    "duration": 224,
    "start_time": "2021-12-21T16:48:03.929Z"
   },
   {
    "duration": 61,
    "start_time": "2021-12-21T16:48:17.562Z"
   },
   {
    "duration": 3887,
    "start_time": "2021-12-21T16:49:06.772Z"
   },
   {
    "duration": 1587,
    "start_time": "2021-12-21T16:49:10.661Z"
   },
   {
    "duration": 750,
    "start_time": "2021-12-21T16:49:12.250Z"
   },
   {
    "duration": 48,
    "start_time": "2021-12-21T16:49:13.002Z"
   },
   {
    "duration": 260,
    "start_time": "2021-12-21T16:49:13.052Z"
   },
   {
    "duration": 482,
    "start_time": "2021-12-21T16:49:13.314Z"
   },
   {
    "duration": 110,
    "start_time": "2021-12-21T16:49:13.798Z"
   },
   {
    "duration": 257,
    "start_time": "2021-12-21T16:49:13.912Z"
   },
   {
    "duration": 505,
    "start_time": "2021-12-21T16:49:14.173Z"
   },
   {
    "duration": 30,
    "start_time": "2021-12-21T16:49:14.681Z"
   },
   {
    "duration": 50,
    "start_time": "2021-12-21T16:49:14.713Z"
   },
   {
    "duration": 23,
    "start_time": "2021-12-21T16:49:14.766Z"
   },
   {
    "duration": 179,
    "start_time": "2021-12-21T16:49:14.791Z"
   },
   {
    "duration": 169,
    "start_time": "2021-12-21T16:49:14.973Z"
   },
   {
    "duration": 73,
    "start_time": "2021-12-21T16:49:15.144Z"
   },
   {
    "duration": 13,
    "start_time": "2021-12-21T16:49:15.219Z"
   },
   {
    "duration": 39,
    "start_time": "2021-12-21T16:49:15.235Z"
   },
   {
    "duration": 16,
    "start_time": "2021-12-21T16:49:15.277Z"
   },
   {
    "duration": 22,
    "start_time": "2021-12-21T16:49:15.296Z"
   },
   {
    "duration": 170,
    "start_time": "2021-12-21T16:49:15.320Z"
   },
   {
    "duration": 99,
    "start_time": "2021-12-21T16:49:15.493Z"
   },
   {
    "duration": 46,
    "start_time": "2021-12-21T16:49:15.595Z"
   },
   {
    "duration": 50,
    "start_time": "2021-12-21T16:49:15.662Z"
   },
   {
    "duration": 70,
    "start_time": "2021-12-21T16:49:15.715Z"
   },
   {
    "duration": 45,
    "start_time": "2021-12-21T16:49:15.787Z"
   },
   {
    "duration": 37,
    "start_time": "2021-12-21T16:49:15.835Z"
   },
   {
    "duration": 66,
    "start_time": "2021-12-21T16:49:15.875Z"
   },
   {
    "duration": 21,
    "start_time": "2021-12-21T16:49:15.944Z"
   },
   {
    "duration": 517,
    "start_time": "2021-12-21T16:49:15.968Z"
   },
   {
    "duration": 75,
    "start_time": "2021-12-21T16:49:16.488Z"
   },
   {
    "duration": 602,
    "start_time": "2021-12-21T16:49:16.565Z"
   },
   {
    "duration": 658,
    "start_time": "2021-12-21T16:49:17.171Z"
   },
   {
    "duration": 594,
    "start_time": "2021-12-21T16:49:17.832Z"
   },
   {
    "duration": 585,
    "start_time": "2021-12-21T16:49:18.429Z"
   },
   {
    "duration": 460,
    "start_time": "2021-12-21T16:49:19.017Z"
   },
   {
    "duration": 447,
    "start_time": "2021-12-21T16:49:19.480Z"
   },
   {
    "duration": 470,
    "start_time": "2021-12-21T16:49:19.929Z"
   },
   {
    "duration": 449,
    "start_time": "2021-12-21T16:49:20.402Z"
   },
   {
    "duration": 429,
    "start_time": "2021-12-21T16:49:20.854Z"
   },
   {
    "duration": 8,
    "start_time": "2021-12-21T16:49:21.286Z"
   },
   {
    "duration": 8,
    "start_time": "2021-12-21T16:49:21.297Z"
   },
   {
    "duration": 7,
    "start_time": "2021-12-21T16:49:21.307Z"
   },
   {
    "duration": 59,
    "start_time": "2021-12-21T16:49:21.317Z"
   },
   {
    "duration": 10,
    "start_time": "2021-12-21T16:49:21.379Z"
   },
   {
    "duration": 18,
    "start_time": "2021-12-21T16:49:21.391Z"
   },
   {
    "duration": 7,
    "start_time": "2021-12-21T16:49:21.411Z"
   },
   {
    "duration": 15,
    "start_time": "2021-12-21T16:51:02.788Z"
   },
   {
    "duration": 3765,
    "start_time": "2021-12-21T16:52:26.357Z"
   },
   {
    "duration": 2027,
    "start_time": "2021-12-21T16:52:30.126Z"
   },
   {
    "duration": 535,
    "start_time": "2021-12-21T16:52:32.156Z"
   },
   {
    "duration": 45,
    "start_time": "2021-12-21T16:52:32.695Z"
   },
   {
    "duration": 606,
    "start_time": "2021-12-21T16:52:32.744Z"
   },
   {
    "duration": 763,
    "start_time": "2021-12-21T16:52:33.354Z"
   },
   {
    "duration": 153,
    "start_time": "2021-12-21T16:52:34.121Z"
   },
   {
    "duration": 390,
    "start_time": "2021-12-21T16:52:34.280Z"
   },
   {
    "duration": 755,
    "start_time": "2021-12-21T16:52:34.675Z"
   },
   {
    "duration": 46,
    "start_time": "2021-12-21T16:52:35.433Z"
   },
   {
    "duration": 21,
    "start_time": "2021-12-21T16:52:35.482Z"
   },
   {
    "duration": 60,
    "start_time": "2021-12-21T16:52:35.505Z"
   },
   {
    "duration": 162,
    "start_time": "2021-12-21T16:52:35.568Z"
   },
   {
    "duration": 166,
    "start_time": "2021-12-21T16:52:35.733Z"
   },
   {
    "duration": 117,
    "start_time": "2021-12-21T16:52:35.902Z"
   },
   {
    "duration": 12,
    "start_time": "2021-12-21T16:52:36.022Z"
   },
   {
    "duration": 32,
    "start_time": "2021-12-21T16:52:36.037Z"
   },
   {
    "duration": 21,
    "start_time": "2021-12-21T16:52:36.072Z"
   },
   {
    "duration": 23,
    "start_time": "2021-12-21T16:52:36.096Z"
   },
   {
    "duration": 100,
    "start_time": "2021-12-21T16:52:36.122Z"
   },
   {
    "duration": 78,
    "start_time": "2021-12-21T16:52:36.225Z"
   },
   {
    "duration": 87,
    "start_time": "2021-12-21T16:52:36.306Z"
   },
   {
    "duration": 87,
    "start_time": "2021-12-21T16:52:36.401Z"
   },
   {
    "duration": 87,
    "start_time": "2021-12-21T16:52:36.491Z"
   },
   {
    "duration": 56,
    "start_time": "2021-12-21T16:52:36.581Z"
   },
   {
    "duration": 57,
    "start_time": "2021-12-21T16:52:36.640Z"
   },
   {
    "duration": 48,
    "start_time": "2021-12-21T16:52:36.699Z"
   },
   {
    "duration": 18,
    "start_time": "2021-12-21T16:52:36.750Z"
   },
   {
    "duration": 547,
    "start_time": "2021-12-21T16:52:36.773Z"
   },
   {
    "duration": 73,
    "start_time": "2021-12-21T16:52:37.323Z"
   },
   {
    "duration": 658,
    "start_time": "2021-12-21T16:52:37.398Z"
   },
   {
    "duration": 497,
    "start_time": "2021-12-21T16:52:38.059Z"
   },
   {
    "duration": 454,
    "start_time": "2021-12-21T16:52:38.559Z"
   },
   {
    "duration": 617,
    "start_time": "2021-12-21T16:52:39.017Z"
   },
   {
    "duration": 531,
    "start_time": "2021-12-21T16:52:39.638Z"
   },
   {
    "duration": 473,
    "start_time": "2021-12-21T16:52:40.172Z"
   },
   {
    "duration": 567,
    "start_time": "2021-12-21T16:52:40.647Z"
   },
   {
    "duration": 487,
    "start_time": "2021-12-21T16:52:41.217Z"
   },
   {
    "duration": 419,
    "start_time": "2021-12-21T16:52:41.706Z"
   },
   {
    "duration": 9,
    "start_time": "2021-12-21T16:52:42.127Z"
   },
   {
    "duration": 27,
    "start_time": "2021-12-21T16:52:42.139Z"
   },
   {
    "duration": 26,
    "start_time": "2021-12-21T16:52:42.169Z"
   },
   {
    "duration": 29,
    "start_time": "2021-12-21T16:52:42.198Z"
   },
   {
    "duration": 25,
    "start_time": "2021-12-21T16:52:42.230Z"
   },
   {
    "duration": 27,
    "start_time": "2021-12-21T16:52:42.257Z"
   },
   {
    "duration": 35,
    "start_time": "2021-12-21T16:52:42.287Z"
   },
   {
    "duration": 19,
    "start_time": "2021-12-21T16:53:52.608Z"
   },
   {
    "duration": 19,
    "start_time": "2021-12-21T16:54:16.607Z"
   },
   {
    "duration": 17,
    "start_time": "2021-12-21T17:00:58.963Z"
   },
   {
    "duration": 18,
    "start_time": "2021-12-21T17:01:22.653Z"
   },
   {
    "duration": 17,
    "start_time": "2021-12-21T17:01:41.018Z"
   },
   {
    "duration": 20,
    "start_time": "2021-12-21T17:02:07.474Z"
   },
   {
    "duration": 18,
    "start_time": "2021-12-21T17:02:33.364Z"
   },
   {
    "duration": 22,
    "start_time": "2021-12-21T17:03:39.107Z"
   },
   {
    "duration": 125,
    "start_time": "2021-12-21T17:04:12.344Z"
   },
   {
    "duration": 26,
    "start_time": "2021-12-21T17:04:15.015Z"
   },
   {
    "duration": 18,
    "start_time": "2021-12-21T17:04:45.367Z"
   },
   {
    "duration": 18,
    "start_time": "2021-12-21T17:05:47.487Z"
   },
   {
    "duration": 21,
    "start_time": "2021-12-21T17:06:01.418Z"
   },
   {
    "duration": 18,
    "start_time": "2021-12-21T17:06:11.574Z"
   },
   {
    "duration": 24,
    "start_time": "2021-12-21T17:06:31.196Z"
   },
   {
    "duration": 19,
    "start_time": "2021-12-21T17:12:21.295Z"
   },
   {
    "duration": 16,
    "start_time": "2021-12-21T17:12:51.398Z"
   },
   {
    "duration": 580,
    "start_time": "2021-12-21T18:00:11.346Z"
   },
   {
    "duration": 301,
    "start_time": "2021-12-21T18:00:37.473Z"
   },
   {
    "duration": 297,
    "start_time": "2021-12-21T18:00:43.223Z"
   },
   {
    "duration": 21,
    "start_time": "2021-12-21T18:00:59.882Z"
   },
   {
    "duration": 420,
    "start_time": "2021-12-21T18:01:13.313Z"
   },
   {
    "duration": 515,
    "start_time": "2021-12-21T18:01:19.962Z"
   },
   {
    "duration": 18,
    "start_time": "2021-12-21T18:01:33.372Z"
   },
   {
    "duration": 20,
    "start_time": "2021-12-21T18:02:16.153Z"
   },
   {
    "duration": 18,
    "start_time": "2021-12-21T18:03:23.322Z"
   },
   {
    "duration": 18,
    "start_time": "2021-12-21T18:03:42.189Z"
   },
   {
    "duration": 23,
    "start_time": "2021-12-21T18:03:50.157Z"
   },
   {
    "duration": 18,
    "start_time": "2021-12-21T18:04:39.939Z"
   },
   {
    "duration": 18,
    "start_time": "2021-12-21T18:05:02.527Z"
   },
   {
    "duration": 18,
    "start_time": "2021-12-21T18:05:11.857Z"
   },
   {
    "duration": 396,
    "start_time": "2021-12-21T18:09:23.100Z"
   },
   {
    "duration": 278,
    "start_time": "2021-12-21T18:10:42.176Z"
   },
   {
    "duration": 301,
    "start_time": "2021-12-21T18:10:51.326Z"
   },
   {
    "duration": 290,
    "start_time": "2021-12-21T18:11:03.526Z"
   },
   {
    "duration": 292,
    "start_time": "2021-12-21T18:11:28.317Z"
   },
   {
    "duration": 302,
    "start_time": "2021-12-21T18:11:35.626Z"
   },
   {
    "duration": 20,
    "start_time": "2021-12-21T18:11:51.937Z"
   },
   {
    "duration": 22,
    "start_time": "2021-12-21T18:12:27.016Z"
   },
   {
    "duration": 52,
    "start_time": "2021-12-21T18:13:22.647Z"
   },
   {
    "duration": 48,
    "start_time": "2021-12-21T18:15:48.953Z"
   },
   {
    "duration": 46,
    "start_time": "2021-12-21T18:16:01.893Z"
   },
   {
    "duration": 51,
    "start_time": "2021-12-21T18:16:28.769Z"
   },
   {
    "duration": 106,
    "start_time": "2021-12-21T18:17:01.795Z"
   },
   {
    "duration": 61,
    "start_time": "2021-12-21T18:17:05.150Z"
   },
   {
    "duration": 13,
    "start_time": "2021-12-21T18:17:11.493Z"
   },
   {
    "duration": 536,
    "start_time": "2021-12-21T18:17:13.628Z"
   },
   {
    "duration": 17,
    "start_time": "2021-12-21T18:21:05.859Z"
   },
   {
    "duration": 10,
    "start_time": "2021-12-21T18:26:02.503Z"
   },
   {
    "duration": 568,
    "start_time": "2021-12-21T18:26:08.932Z"
   },
   {
    "duration": 310,
    "start_time": "2021-12-21T18:28:21.273Z"
   },
   {
    "duration": 844,
    "start_time": "2021-12-21T18:29:13.788Z"
   },
   {
    "duration": 14204,
    "start_time": "2021-12-21T18:32:58.512Z"
   },
   {
    "duration": 478,
    "start_time": "2021-12-21T18:34:26.198Z"
   },
   {
    "duration": 438,
    "start_time": "2021-12-21T18:36:53.292Z"
   },
   {
    "duration": 466,
    "start_time": "2021-12-21T18:38:23.803Z"
   },
   {
    "duration": 455,
    "start_time": "2021-12-21T18:39:10.232Z"
   },
   {
    "duration": 637,
    "start_time": "2021-12-21T18:39:48.494Z"
   },
   {
    "duration": 603,
    "start_time": "2021-12-21T18:40:03.534Z"
   },
   {
    "duration": 465,
    "start_time": "2021-12-21T18:42:56.325Z"
   },
   {
    "duration": 479,
    "start_time": "2021-12-21T18:43:19.692Z"
   },
   {
    "duration": 449,
    "start_time": "2021-12-21T18:44:58.094Z"
   },
   {
    "duration": 467,
    "start_time": "2021-12-21T18:45:11.383Z"
   },
   {
    "duration": 449,
    "start_time": "2021-12-21T18:45:17.794Z"
   },
   {
    "duration": 463,
    "start_time": "2021-12-21T18:50:08.468Z"
   },
   {
    "duration": 162,
    "start_time": "2021-12-21T18:52:53.716Z"
   },
   {
    "duration": 106,
    "start_time": "2021-12-21T18:53:03.728Z"
   },
   {
    "duration": 3242,
    "start_time": "2021-12-21T18:54:18.612Z"
   },
   {
    "duration": 1491,
    "start_time": "2021-12-21T18:54:21.857Z"
   },
   {
    "duration": 541,
    "start_time": "2021-12-21T18:54:23.351Z"
   },
   {
    "duration": 45,
    "start_time": "2021-12-21T18:54:23.895Z"
   },
   {
    "duration": 281,
    "start_time": "2021-12-21T18:54:23.943Z"
   },
   {
    "duration": 488,
    "start_time": "2021-12-21T18:54:24.227Z"
   },
   {
    "duration": 110,
    "start_time": "2021-12-21T18:54:24.718Z"
   },
   {
    "duration": 270,
    "start_time": "2021-12-21T18:54:24.832Z"
   },
   {
    "duration": 496,
    "start_time": "2021-12-21T18:54:25.106Z"
   },
   {
    "duration": 28,
    "start_time": "2021-12-21T18:54:25.605Z"
   },
   {
    "duration": 44,
    "start_time": "2021-12-21T18:54:25.636Z"
   },
   {
    "duration": 22,
    "start_time": "2021-12-21T18:54:25.683Z"
   },
   {
    "duration": 193,
    "start_time": "2021-12-21T18:54:25.708Z"
   },
   {
    "duration": 164,
    "start_time": "2021-12-21T18:54:25.903Z"
   },
   {
    "duration": 70,
    "start_time": "2021-12-21T18:54:26.070Z"
   },
   {
    "duration": 29,
    "start_time": "2021-12-21T18:54:26.142Z"
   },
   {
    "duration": 32,
    "start_time": "2021-12-21T18:54:26.173Z"
   },
   {
    "duration": 25,
    "start_time": "2021-12-21T18:54:26.207Z"
   },
   {
    "duration": 35,
    "start_time": "2021-12-21T18:54:26.234Z"
   },
   {
    "duration": 77,
    "start_time": "2021-12-21T18:54:26.272Z"
   },
   {
    "duration": 95,
    "start_time": "2021-12-21T18:54:26.352Z"
   },
   {
    "duration": 80,
    "start_time": "2021-12-21T18:54:26.463Z"
   },
   {
    "duration": 77,
    "start_time": "2021-12-21T18:54:26.549Z"
   },
   {
    "duration": 115,
    "start_time": "2021-12-21T18:54:26.630Z"
   },
   {
    "duration": 79,
    "start_time": "2021-12-21T18:54:26.748Z"
   },
   {
    "duration": 68,
    "start_time": "2021-12-21T18:54:26.829Z"
   },
   {
    "duration": 11,
    "start_time": "2021-12-21T18:54:26.899Z"
   },
   {
    "duration": 583,
    "start_time": "2021-12-21T18:54:26.912Z"
   },
   {
    "duration": 71,
    "start_time": "2021-12-21T18:54:27.498Z"
   },
   {
    "duration": 456,
    "start_time": "2021-12-21T18:54:27.572Z"
   },
   {
    "duration": 597,
    "start_time": "2021-12-21T18:54:28.031Z"
   },
   {
    "duration": 94,
    "start_time": "2021-12-21T18:54:28.631Z"
   },
   {
    "duration": -148,
    "start_time": "2021-12-21T18:54:28.876Z"
   },
   {
    "duration": -156,
    "start_time": "2021-12-21T18:54:28.886Z"
   },
   {
    "duration": -160,
    "start_time": "2021-12-21T18:54:28.891Z"
   },
   {
    "duration": -164,
    "start_time": "2021-12-21T18:54:28.897Z"
   },
   {
    "duration": -170,
    "start_time": "2021-12-21T18:54:28.905Z"
   },
   {
    "duration": -173,
    "start_time": "2021-12-21T18:54:28.910Z"
   },
   {
    "duration": -180,
    "start_time": "2021-12-21T18:54:28.918Z"
   },
   {
    "duration": -184,
    "start_time": "2021-12-21T18:54:28.924Z"
   },
   {
    "duration": -187,
    "start_time": "2021-12-21T18:54:28.928Z"
   },
   {
    "duration": -193,
    "start_time": "2021-12-21T18:54:28.936Z"
   },
   {
    "duration": -197,
    "start_time": "2021-12-21T18:54:28.941Z"
   },
   {
    "duration": -200,
    "start_time": "2021-12-21T18:54:28.946Z"
   },
   {
    "duration": -206,
    "start_time": "2021-12-21T18:54:28.954Z"
   },
   {
    "duration": 411,
    "start_time": "2021-12-21T18:56:41.933Z"
   },
   {
    "duration": 466,
    "start_time": "2021-12-21T18:57:50.972Z"
   },
   {
    "duration": 515,
    "start_time": "2021-12-21T18:58:04.589Z"
   },
   {
    "duration": 491,
    "start_time": "2021-12-21T18:58:05.107Z"
   },
   {
    "duration": 457,
    "start_time": "2021-12-21T18:58:05.602Z"
   },
   {
    "duration": 466,
    "start_time": "2021-12-21T18:58:06.062Z"
   },
   {
    "duration": 611,
    "start_time": "2021-12-21T18:58:06.532Z"
   },
   {
    "duration": 544,
    "start_time": "2021-12-21T18:58:07.146Z"
   },
   {
    "duration": 8,
    "start_time": "2021-12-21T18:58:07.693Z"
   },
   {
    "duration": 7,
    "start_time": "2021-12-21T18:58:07.706Z"
   },
   {
    "duration": 7,
    "start_time": "2021-12-21T18:58:07.716Z"
   },
   {
    "duration": 17,
    "start_time": "2021-12-21T18:58:07.762Z"
   },
   {
    "duration": 8,
    "start_time": "2021-12-21T18:58:07.781Z"
   },
   {
    "duration": 16,
    "start_time": "2021-12-21T18:58:07.792Z"
   },
   {
    "duration": 60,
    "start_time": "2021-12-21T18:58:07.811Z"
   },
   {
    "duration": 537,
    "start_time": "2021-12-21T18:59:41.329Z"
   },
   {
    "duration": 449,
    "start_time": "2021-12-21T19:00:43.068Z"
   },
   {
    "duration": 7,
    "start_time": "2021-12-21T19:04:20.445Z"
   },
   {
    "duration": 16,
    "start_time": "2021-12-21T19:13:09.877Z"
   },
   {
    "duration": 44,
    "start_time": "2021-12-21T19:17:40.088Z"
   },
   {
    "duration": 37,
    "start_time": "2021-12-21T19:18:29.279Z"
   },
   {
    "duration": 31,
    "start_time": "2021-12-21T19:18:47.514Z"
   },
   {
    "duration": 28,
    "start_time": "2021-12-21T19:19:26.795Z"
   },
   {
    "duration": 551,
    "start_time": "2021-12-21T19:20:04.521Z"
   },
   {
    "duration": 33,
    "start_time": "2021-12-21T19:20:08.504Z"
   },
   {
    "duration": 289,
    "start_time": "2021-12-21T19:23:03.171Z"
   },
   {
    "duration": 27,
    "start_time": "2021-12-21T19:23:14.446Z"
   },
   {
    "duration": 26,
    "start_time": "2021-12-21T19:23:21.386Z"
   },
   {
    "duration": 8,
    "start_time": "2021-12-21T19:28:42.504Z"
   },
   {
    "duration": 8,
    "start_time": "2021-12-21T19:30:47.166Z"
   },
   {
    "duration": 7,
    "start_time": "2021-12-21T19:31:35.797Z"
   },
   {
    "duration": 15,
    "start_time": "2021-12-21T19:31:49.619Z"
   },
   {
    "duration": 8,
    "start_time": "2021-12-21T19:31:53.487Z"
   },
   {
    "duration": 3566,
    "start_time": "2021-12-21T19:32:42.918Z"
   },
   {
    "duration": 1600,
    "start_time": "2021-12-21T19:32:46.488Z"
   },
   {
    "duration": 593,
    "start_time": "2021-12-21T19:32:48.091Z"
   },
   {
    "duration": 46,
    "start_time": "2021-12-21T19:32:48.691Z"
   },
   {
    "duration": 328,
    "start_time": "2021-12-21T19:32:48.739Z"
   },
   {
    "duration": 603,
    "start_time": "2021-12-21T19:32:49.070Z"
   },
   {
    "duration": 122,
    "start_time": "2021-12-21T19:32:49.677Z"
   },
   {
    "duration": 283,
    "start_time": "2021-12-21T19:32:49.803Z"
   },
   {
    "duration": 652,
    "start_time": "2021-12-21T19:32:50.090Z"
   },
   {
    "duration": 48,
    "start_time": "2021-12-21T19:32:50.745Z"
   },
   {
    "duration": 21,
    "start_time": "2021-12-21T19:32:50.796Z"
   },
   {
    "duration": 61,
    "start_time": "2021-12-21T19:32:50.820Z"
   },
   {
    "duration": 199,
    "start_time": "2021-12-21T19:32:50.884Z"
   },
   {
    "duration": 191,
    "start_time": "2021-12-21T19:32:51.086Z"
   },
   {
    "duration": 97,
    "start_time": "2021-12-21T19:32:51.280Z"
   },
   {
    "duration": 14,
    "start_time": "2021-12-21T19:32:51.380Z"
   },
   {
    "duration": 19,
    "start_time": "2021-12-21T19:32:51.397Z"
   },
   {
    "duration": 64,
    "start_time": "2021-12-21T19:32:51.419Z"
   },
   {
    "duration": 29,
    "start_time": "2021-12-21T19:32:51.487Z"
   },
   {
    "duration": 113,
    "start_time": "2021-12-21T19:32:51.519Z"
   },
   {
    "duration": 100,
    "start_time": "2021-12-21T19:32:51.636Z"
   },
   {
    "duration": 94,
    "start_time": "2021-12-21T19:32:51.740Z"
   },
   {
    "duration": 75,
    "start_time": "2021-12-21T19:32:51.842Z"
   },
   {
    "duration": 82,
    "start_time": "2021-12-21T19:32:51.922Z"
   },
   {
    "duration": 74,
    "start_time": "2021-12-21T19:32:52.006Z"
   },
   {
    "duration": 55,
    "start_time": "2021-12-21T19:32:52.085Z"
   },
   {
    "duration": 33,
    "start_time": "2021-12-21T19:32:52.143Z"
   },
   {
    "duration": 667,
    "start_time": "2021-12-21T19:32:52.180Z"
   },
   {
    "duration": 72,
    "start_time": "2021-12-21T19:32:52.849Z"
   },
   {
    "duration": 495,
    "start_time": "2021-12-21T19:32:52.924Z"
   },
   {
    "duration": 499,
    "start_time": "2021-12-21T19:32:53.421Z"
   },
   {
    "duration": 462,
    "start_time": "2021-12-21T19:32:53.923Z"
   },
   {
    "duration": 581,
    "start_time": "2021-12-21T19:32:54.389Z"
   },
   {
    "duration": 494,
    "start_time": "2021-12-21T19:32:54.973Z"
   },
   {
    "duration": 514,
    "start_time": "2021-12-21T19:32:55.471Z"
   },
   {
    "duration": 518,
    "start_time": "2021-12-21T19:32:55.987Z"
   },
   {
    "duration": 503,
    "start_time": "2021-12-21T19:32:56.508Z"
   },
   {
    "duration": 437,
    "start_time": "2021-12-21T19:32:57.014Z"
   },
   {
    "duration": 15,
    "start_time": "2021-12-21T19:32:57.454Z"
   },
   {
    "duration": 8,
    "start_time": "2021-12-21T19:32:57.473Z"
   },
   {
    "duration": 9,
    "start_time": "2021-12-21T19:32:57.484Z"
   },
   {
    "duration": 77,
    "start_time": "2021-12-21T19:32:57.496Z"
   },
   {
    "duration": 22,
    "start_time": "2021-12-21T19:32:57.578Z"
   },
   {
    "duration": 7,
    "start_time": "2021-12-21T19:32:57.603Z"
   },
   {
    "duration": 17,
    "start_time": "2021-12-21T19:32:57.612Z"
   },
   {
    "duration": 8,
    "start_time": "2021-12-21T19:32:57.664Z"
   },
   {
    "duration": 436,
    "start_time": "2021-12-21T19:36:16.401Z"
   },
   {
    "duration": 7,
    "start_time": "2021-12-21T19:36:29.131Z"
   },
   {
    "duration": 9,
    "start_time": "2021-12-21T19:36:41.563Z"
   },
   {
    "duration": 246,
    "start_time": "2021-12-21T19:43:38.390Z"
   },
   {
    "duration": 253,
    "start_time": "2021-12-21T19:44:58.109Z"
   },
   {
    "duration": 540,
    "start_time": "2021-12-21T19:46:04.400Z"
   },
   {
    "duration": 586,
    "start_time": "2021-12-21T19:46:24.261Z"
   },
   {
    "duration": 251,
    "start_time": "2021-12-21T19:47:27.209Z"
   },
   {
    "duration": 817,
    "start_time": "2021-12-21T19:47:54.460Z"
   },
   {
    "duration": 561,
    "start_time": "2021-12-21T19:48:10.749Z"
   },
   {
    "duration": 258,
    "start_time": "2021-12-21T19:48:15.672Z"
   },
   {
    "duration": 511,
    "start_time": "2021-12-21T19:48:36.872Z"
   },
   {
    "duration": 524,
    "start_time": "2021-12-21T19:49:11.580Z"
   },
   {
    "duration": 345,
    "start_time": "2021-12-21T19:49:30.350Z"
   },
   {
    "duration": 690,
    "start_time": "2021-12-21T19:49:46.250Z"
   },
   {
    "duration": 322,
    "start_time": "2021-12-21T19:50:24.572Z"
   },
   {
    "duration": 606,
    "start_time": "2021-12-21T19:50:37.583Z"
   },
   {
    "duration": 576,
    "start_time": "2021-12-21T19:50:41.910Z"
   },
   {
    "duration": 616,
    "start_time": "2021-12-21T19:50:46.860Z"
   },
   {
    "duration": 402,
    "start_time": "2021-12-21T19:51:02.740Z"
   },
   {
    "duration": 326,
    "start_time": "2021-12-21T19:51:32.930Z"
   },
   {
    "duration": 317,
    "start_time": "2021-12-21T19:51:41.164Z"
   },
   {
    "duration": 273,
    "start_time": "2021-12-21T19:52:18.198Z"
   },
   {
    "duration": 60,
    "start_time": "2021-12-21T19:55:59.998Z"
   },
   {
    "duration": 58,
    "start_time": "2021-12-21T19:56:37.471Z"
   },
   {
    "duration": 59,
    "start_time": "2021-12-21T19:56:43.112Z"
   },
   {
    "duration": 51,
    "start_time": "2021-12-21T19:56:56.397Z"
   },
   {
    "duration": 375,
    "start_time": "2021-12-21T19:57:19.493Z"
   },
   {
    "duration": 461,
    "start_time": "2021-12-21T19:57:26.928Z"
   },
   {
    "duration": 461,
    "start_time": "2021-12-21T19:57:45.390Z"
   },
   {
    "duration": 509,
    "start_time": "2021-12-21T19:59:29.732Z"
   },
   {
    "duration": 56637,
    "start_time": "2021-12-22T08:05:26.885Z"
   },
   {
    "duration": 1058,
    "start_time": "2021-12-22T08:06:23.524Z"
   },
   {
    "duration": 411,
    "start_time": "2021-12-22T08:06:24.584Z"
   },
   {
    "duration": 33,
    "start_time": "2021-12-22T08:06:24.997Z"
   },
   {
    "duration": 206,
    "start_time": "2021-12-22T08:06:25.032Z"
   },
   {
    "duration": 317,
    "start_time": "2021-12-22T08:06:25.240Z"
   },
   {
    "duration": 78,
    "start_time": "2021-12-22T08:06:25.559Z"
   },
   {
    "duration": 174,
    "start_time": "2021-12-22T08:06:25.640Z"
   },
   {
    "duration": 327,
    "start_time": "2021-12-22T08:06:25.817Z"
   },
   {
    "duration": 21,
    "start_time": "2021-12-22T08:06:26.145Z"
   },
   {
    "duration": 32,
    "start_time": "2021-12-22T08:06:26.167Z"
   },
   {
    "duration": 14,
    "start_time": "2021-12-22T08:06:26.200Z"
   },
   {
    "duration": 122,
    "start_time": "2021-12-22T08:06:26.216Z"
   },
   {
    "duration": 104,
    "start_time": "2021-12-22T08:06:26.340Z"
   },
   {
    "duration": 56,
    "start_time": "2021-12-22T08:06:26.446Z"
   },
   {
    "duration": 8,
    "start_time": "2021-12-22T08:06:26.503Z"
   },
   {
    "duration": 11,
    "start_time": "2021-12-22T08:06:26.513Z"
   },
   {
    "duration": 9,
    "start_time": "2021-12-22T08:06:26.526Z"
   },
   {
    "duration": 13,
    "start_time": "2021-12-22T08:06:26.536Z"
   },
   {
    "duration": 73,
    "start_time": "2021-12-22T08:06:26.551Z"
   },
   {
    "duration": 44,
    "start_time": "2021-12-22T08:06:26.625Z"
   },
   {
    "duration": 46,
    "start_time": "2021-12-22T08:06:26.671Z"
   },
   {
    "duration": 33,
    "start_time": "2021-12-22T08:06:26.720Z"
   },
   {
    "duration": 51,
    "start_time": "2021-12-22T08:06:26.754Z"
   },
   {
    "duration": 33,
    "start_time": "2021-12-22T08:06:26.807Z"
   },
   {
    "duration": 55,
    "start_time": "2021-12-22T08:06:26.842Z"
   },
   {
    "duration": 7,
    "start_time": "2021-12-22T08:06:26.899Z"
   },
   {
    "duration": 302,
    "start_time": "2021-12-22T08:06:26.907Z"
   },
   {
    "duration": 33,
    "start_time": "2021-12-22T08:06:27.211Z"
   },
   {
    "duration": 277,
    "start_time": "2021-12-22T08:06:27.245Z"
   },
   {
    "duration": 269,
    "start_time": "2021-12-22T08:06:27.523Z"
   },
   {
    "duration": 287,
    "start_time": "2021-12-22T08:06:27.794Z"
   },
   {
    "duration": 334,
    "start_time": "2021-12-22T08:06:28.083Z"
   },
   {
    "duration": 276,
    "start_time": "2021-12-22T08:06:28.419Z"
   },
   {
    "duration": 302,
    "start_time": "2021-12-22T08:06:28.696Z"
   },
   {
    "duration": 274,
    "start_time": "2021-12-22T08:06:29.000Z"
   },
   {
    "duration": 269,
    "start_time": "2021-12-22T08:06:29.276Z"
   },
   {
    "duration": 324,
    "start_time": "2021-12-22T08:06:29.547Z"
   },
   {
    "duration": 4,
    "start_time": "2021-12-22T08:06:29.873Z"
   },
   {
    "duration": 20,
    "start_time": "2021-12-22T08:06:29.891Z"
   },
   {
    "duration": 24,
    "start_time": "2021-12-22T08:06:29.913Z"
   },
   {
    "duration": 39,
    "start_time": "2021-12-22T08:06:29.938Z"
   },
   {
    "duration": 21,
    "start_time": "2021-12-22T08:06:29.979Z"
   },
   {
    "duration": 66,
    "start_time": "2021-12-22T08:06:30.002Z"
   },
   {
    "duration": 29,
    "start_time": "2021-12-22T08:06:30.070Z"
   },
   {
    "duration": 25,
    "start_time": "2021-12-22T08:06:30.100Z"
   },
   {
    "duration": 6822,
    "start_time": "2021-12-22T08:33:23.621Z"
   },
   {
    "duration": 1547,
    "start_time": "2021-12-22T08:33:30.445Z"
   },
   {
    "duration": 513,
    "start_time": "2021-12-22T08:33:31.994Z"
   },
   {
    "duration": 45,
    "start_time": "2021-12-22T08:33:32.510Z"
   },
   {
    "duration": 318,
    "start_time": "2021-12-22T08:33:32.558Z"
   },
   {
    "duration": 516,
    "start_time": "2021-12-22T08:33:32.880Z"
   },
   {
    "duration": 102,
    "start_time": "2021-12-22T08:33:33.399Z"
   },
   {
    "duration": 325,
    "start_time": "2021-12-22T08:33:33.518Z"
   },
   {
    "duration": 810,
    "start_time": "2021-12-22T08:33:33.847Z"
   },
   {
    "duration": 28,
    "start_time": "2021-12-22T08:33:34.661Z"
   },
   {
    "duration": 43,
    "start_time": "2021-12-22T08:33:34.691Z"
   },
   {
    "duration": 28,
    "start_time": "2021-12-22T08:33:34.737Z"
   },
   {
    "duration": 204,
    "start_time": "2021-12-22T08:33:34.768Z"
   },
   {
    "duration": 183,
    "start_time": "2021-12-22T08:33:34.974Z"
   },
   {
    "duration": 95,
    "start_time": "2021-12-22T08:33:35.160Z"
   },
   {
    "duration": 13,
    "start_time": "2021-12-22T08:33:35.258Z"
   },
   {
    "duration": 26,
    "start_time": "2021-12-22T08:33:35.274Z"
   },
   {
    "duration": 29,
    "start_time": "2021-12-22T08:33:35.302Z"
   },
   {
    "duration": 34,
    "start_time": "2021-12-22T08:33:35.333Z"
   },
   {
    "duration": 95,
    "start_time": "2021-12-22T08:33:35.369Z"
   },
   {
    "duration": 80,
    "start_time": "2021-12-22T08:33:35.467Z"
   },
   {
    "duration": 47,
    "start_time": "2021-12-22T08:33:35.549Z"
   },
   {
    "duration": 69,
    "start_time": "2021-12-22T08:33:35.598Z"
   },
   {
    "duration": 72,
    "start_time": "2021-12-22T08:33:35.670Z"
   },
   {
    "duration": 73,
    "start_time": "2021-12-22T08:33:35.744Z"
   },
   {
    "duration": 49,
    "start_time": "2021-12-22T08:33:35.820Z"
   },
   {
    "duration": 9,
    "start_time": "2021-12-22T08:33:35.874Z"
   },
   {
    "duration": 606,
    "start_time": "2021-12-22T08:33:35.886Z"
   },
   {
    "duration": 73,
    "start_time": "2021-12-22T08:33:36.495Z"
   },
   {
    "duration": 476,
    "start_time": "2021-12-22T08:33:36.571Z"
   },
   {
    "duration": 467,
    "start_time": "2021-12-22T08:33:37.050Z"
   },
   {
    "duration": 451,
    "start_time": "2021-12-22T08:33:37.519Z"
   },
   {
    "duration": 514,
    "start_time": "2021-12-22T08:33:37.972Z"
   },
   {
    "duration": 462,
    "start_time": "2021-12-22T08:33:38.489Z"
   },
   {
    "duration": 439,
    "start_time": "2021-12-22T08:33:38.953Z"
   },
   {
    "duration": 466,
    "start_time": "2021-12-22T08:33:39.395Z"
   },
   {
    "duration": 449,
    "start_time": "2021-12-22T08:33:39.864Z"
   },
   {
    "duration": 449,
    "start_time": "2021-12-22T08:33:40.318Z"
   },
   {
    "duration": 7,
    "start_time": "2021-12-22T08:33:40.769Z"
   },
   {
    "duration": 7,
    "start_time": "2021-12-22T08:33:40.779Z"
   },
   {
    "duration": 31,
    "start_time": "2021-12-22T08:33:40.788Z"
   },
   {
    "duration": 25,
    "start_time": "2021-12-22T08:33:40.822Z"
   },
   {
    "duration": 18,
    "start_time": "2021-12-22T08:33:40.849Z"
   },
   {
    "duration": 8,
    "start_time": "2021-12-22T08:33:40.869Z"
   },
   {
    "duration": 18,
    "start_time": "2021-12-22T08:33:40.918Z"
   },
   {
    "duration": 8,
    "start_time": "2021-12-22T08:33:40.938Z"
   },
   {
    "duration": 86876,
    "start_time": "2021-12-22T17:19:08.574Z"
   },
   {
    "duration": 1665,
    "start_time": "2021-12-22T17:20:35.452Z"
   },
   {
    "duration": 526,
    "start_time": "2021-12-22T17:20:37.120Z"
   },
   {
    "duration": 45,
    "start_time": "2021-12-22T17:20:37.649Z"
   },
   {
    "duration": 521,
    "start_time": "2021-12-22T17:20:37.698Z"
   },
   {
    "duration": 536,
    "start_time": "2021-12-22T17:20:38.222Z"
   },
   {
    "duration": 116,
    "start_time": "2021-12-22T17:20:38.760Z"
   },
   {
    "duration": 355,
    "start_time": "2021-12-22T17:20:38.880Z"
   },
   {
    "duration": 520,
    "start_time": "2021-12-22T17:20:39.238Z"
   },
   {
    "duration": 27,
    "start_time": "2021-12-22T17:20:39.761Z"
   },
   {
    "duration": 86,
    "start_time": "2021-12-22T17:20:39.790Z"
   },
   {
    "duration": 163,
    "start_time": "2021-12-22T17:20:39.879Z"
   },
   {
    "duration": 440,
    "start_time": "2021-12-22T17:20:40.044Z"
   },
   {
    "duration": 206,
    "start_time": "2021-12-22T17:20:40.486Z"
   },
   {
    "duration": 107,
    "start_time": "2021-12-22T17:20:40.694Z"
   },
   {
    "duration": 100,
    "start_time": "2021-12-22T17:20:40.803Z"
   },
   {
    "duration": 575,
    "start_time": "2021-12-22T17:20:40.905Z"
   },
   {
    "duration": 233,
    "start_time": "2021-12-22T17:20:41.482Z"
   },
   {
    "duration": 376,
    "start_time": "2021-12-22T17:20:41.718Z"
   },
   {
    "duration": 234,
    "start_time": "2021-12-22T17:20:42.096Z"
   },
   {
    "duration": 228,
    "start_time": "2021-12-22T17:20:42.333Z"
   },
   {
    "duration": 205,
    "start_time": "2021-12-22T17:20:42.563Z"
   },
   {
    "duration": 311,
    "start_time": "2021-12-22T17:20:42.775Z"
   },
   {
    "duration": 225,
    "start_time": "2021-12-22T17:20:43.090Z"
   },
   {
    "duration": 319,
    "start_time": "2021-12-22T17:20:43.318Z"
   },
   {
    "duration": 116,
    "start_time": "2021-12-22T17:20:43.640Z"
   },
   {
    "duration": 356,
    "start_time": "2021-12-22T17:20:43.759Z"
   },
   {
    "duration": 1067,
    "start_time": "2021-12-22T17:20:44.118Z"
   },
   {
    "duration": 64,
    "start_time": "2021-12-22T17:20:45.187Z"
   },
   {
    "duration": 816,
    "start_time": "2021-12-22T17:20:45.253Z"
   },
   {
    "duration": 451,
    "start_time": "2021-12-22T17:20:46.071Z"
   },
   {
    "duration": 472,
    "start_time": "2021-12-22T17:20:46.524Z"
   },
   {
    "duration": 524,
    "start_time": "2021-12-22T17:20:46.999Z"
   },
   {
    "duration": 569,
    "start_time": "2021-12-22T17:20:47.525Z"
   },
   {
    "duration": 455,
    "start_time": "2021-12-22T17:20:48.096Z"
   },
   {
    "duration": 489,
    "start_time": "2021-12-22T17:20:48.553Z"
   },
   {
    "duration": 461,
    "start_time": "2021-12-22T17:20:49.045Z"
   },
   {
    "duration": 460,
    "start_time": "2021-12-22T17:20:49.516Z"
   },
   {
    "duration": 9,
    "start_time": "2021-12-22T17:20:49.978Z"
   },
   {
    "duration": 210,
    "start_time": "2021-12-22T17:20:49.989Z"
   },
   {
    "duration": 146,
    "start_time": "2021-12-22T17:20:50.202Z"
   },
   {
    "duration": 211,
    "start_time": "2021-12-22T17:20:50.350Z"
   },
   {
    "duration": 631,
    "start_time": "2021-12-22T17:20:50.564Z"
   },
   {
    "duration": 471,
    "start_time": "2021-12-22T17:20:51.198Z"
   },
   {
    "duration": 361,
    "start_time": "2021-12-22T17:20:51.672Z"
   },
   {
    "duration": 273,
    "start_time": "2021-12-22T17:20:52.035Z"
   },
   {
    "duration": 23,
    "start_time": "2021-12-22T17:29:39.380Z"
   },
   {
    "duration": 360,
    "start_time": "2021-12-22T17:30:00.348Z"
   },
   {
    "duration": 6,
    "start_time": "2021-12-22T17:30:09.406Z"
   },
   {
    "duration": 395,
    "start_time": "2021-12-22T17:30:22.159Z"
   },
   {
    "duration": 6,
    "start_time": "2021-12-22T17:30:36.364Z"
   },
   {
    "duration": 670,
    "start_time": "2021-12-22T17:31:55.679Z"
   },
   {
    "duration": 385,
    "start_time": "2021-12-22T17:31:57.686Z"
   },
   {
    "duration": 366,
    "start_time": "2021-12-22T17:32:08.085Z"
   },
   {
    "duration": 7,
    "start_time": "2021-12-22T17:32:13.410Z"
   },
   {
    "duration": 6655,
    "start_time": "2022-02-13T07:31:42.164Z"
   },
   {
    "duration": 1493,
    "start_time": "2022-02-13T07:31:48.821Z"
   },
   {
    "duration": 485,
    "start_time": "2022-02-13T07:31:50.317Z"
   },
   {
    "duration": 44,
    "start_time": "2022-02-13T07:31:50.805Z"
   },
   {
    "duration": 313,
    "start_time": "2022-02-13T07:31:50.852Z"
   },
   {
    "duration": 509,
    "start_time": "2022-02-13T07:31:51.168Z"
   },
   {
    "duration": 105,
    "start_time": "2022-02-13T07:31:51.679Z"
   },
   {
    "duration": 272,
    "start_time": "2022-02-13T07:31:51.788Z"
   },
   {
    "duration": 510,
    "start_time": "2022-02-13T07:31:52.063Z"
   },
   {
    "duration": 28,
    "start_time": "2022-02-13T07:31:52.575Z"
   },
   {
    "duration": 43,
    "start_time": "2022-02-13T07:31:52.605Z"
   },
   {
    "duration": 23,
    "start_time": "2022-02-13T07:31:52.651Z"
   },
   {
    "duration": 181,
    "start_time": "2022-02-13T07:31:52.676Z"
   },
   {
    "duration": 159,
    "start_time": "2022-02-13T07:31:52.860Z"
   },
   {
    "duration": 119,
    "start_time": "2022-02-13T07:31:53.022Z"
   },
   {
    "duration": 12,
    "start_time": "2022-02-13T07:31:53.143Z"
   },
   {
    "duration": 22,
    "start_time": "2022-02-13T07:31:53.158Z"
   },
   {
    "duration": 52,
    "start_time": "2022-02-13T07:31:53.183Z"
   },
   {
    "duration": 34,
    "start_time": "2022-02-13T07:31:53.238Z"
   },
   {
    "duration": 93,
    "start_time": "2022-02-13T07:31:53.275Z"
   },
   {
    "duration": 82,
    "start_time": "2022-02-13T07:31:53.370Z"
   },
   {
    "duration": 44,
    "start_time": "2022-02-13T07:31:53.454Z"
   },
   {
    "duration": 46,
    "start_time": "2022-02-13T07:31:53.532Z"
   },
   {
    "duration": 74,
    "start_time": "2022-02-13T07:31:53.582Z"
   },
   {
    "duration": 73,
    "start_time": "2022-02-13T07:31:53.659Z"
   },
   {
    "duration": 48,
    "start_time": "2022-02-13T07:31:53.735Z"
   },
   {
    "duration": 10,
    "start_time": "2022-02-13T07:31:53.787Z"
   },
   {
    "duration": 532,
    "start_time": "2022-02-13T07:31:53.832Z"
   },
   {
    "duration": 83,
    "start_time": "2022-02-13T07:31:54.368Z"
   },
   {
    "duration": 441,
    "start_time": "2022-02-13T07:31:54.454Z"
   },
   {
    "duration": 498,
    "start_time": "2022-02-13T07:31:54.898Z"
   },
   {
    "duration": 400,
    "start_time": "2022-02-13T07:31:55.399Z"
   },
   {
    "duration": 514,
    "start_time": "2022-02-13T07:31:55.801Z"
   },
   {
    "duration": 433,
    "start_time": "2022-02-13T07:31:56.318Z"
   },
   {
    "duration": 505,
    "start_time": "2022-02-13T07:31:56.754Z"
   },
   {
    "duration": 673,
    "start_time": "2022-02-13T07:31:57.262Z"
   },
   {
    "duration": 654,
    "start_time": "2022-02-13T07:31:57.939Z"
   },
   {
    "duration": 436,
    "start_time": "2022-02-13T07:31:58.596Z"
   },
   {
    "duration": 7,
    "start_time": "2022-02-13T07:31:59.035Z"
   },
   {
    "duration": 9,
    "start_time": "2022-02-13T07:31:59.044Z"
   },
   {
    "duration": 11,
    "start_time": "2022-02-13T07:31:59.055Z"
   },
   {
    "duration": 66,
    "start_time": "2022-02-13T07:31:59.069Z"
   },
   {
    "duration": 18,
    "start_time": "2022-02-13T07:31:59.137Z"
   },
   {
    "duration": 12,
    "start_time": "2022-02-13T07:31:59.158Z"
   },
   {
    "duration": 18,
    "start_time": "2022-02-13T07:31:59.173Z"
   },
   {
    "duration": 9,
    "start_time": "2022-02-13T07:31:59.233Z"
   }
  ],
  "kernelspec": {
   "display_name": "Python 3 (ipykernel)",
   "language": "python",
   "name": "python3"
  },
  "language_info": {
   "codemirror_mode": {
    "name": "ipython",
    "version": 3
   },
   "file_extension": ".py",
   "mimetype": "text/x-python",
   "name": "python",
   "nbconvert_exporter": "python",
   "pygments_lexer": "ipython3",
   "version": "3.9.13"
  },
  "notebookId": "ec45f80d-2753-436c-962b-9bbc29210825",
  "notebookPath": "da-ds-statistics.ipynb",
  "toc": {
   "base_numbering": 1,
   "nav_menu": {},
   "number_sections": true,
   "sideBar": true,
   "skip_h1_title": false,
   "title_cell": "Содержание",
   "title_sidebar": "Contents",
   "toc_cell": true,
   "toc_position": {
    "height": "calc(100% - 180px)",
    "left": "10px",
    "top": "150px",
    "width": "203.733px"
   },
   "toc_section_display": true,
   "toc_window_display": false
  }
 },
 "nbformat": 4,
 "nbformat_minor": 4
}
