{
 "cells": [
  {
   "cell_type": "markdown",
   "metadata": {},
   "source": [
    "# Восстановление золота из руды"
   ]
  },
  {
   "cell_type": "markdown",
   "metadata": {},
   "source": [
    "Задача: построить модель, которая должна предсказать коэффициент восстановления золота из золотосодержащей руды. \n",
    "Модель поможет оптимизировать производство, чтобы не запускать предприятие с убыточными характеристиками."
   ]
  },
  {
   "cell_type": "markdown",
   "metadata": {},
   "source": [
    "Для начала импортируем все бибилиотеки, необходимые для работы"
   ]
  },
  {
   "cell_type": "code",
   "execution_count": 1,
   "metadata": {},
   "outputs": [],
   "source": [
    "import os\n",
    "import numpy as np\n",
    "import pandas as pd\n",
    "import seaborn as sns\n",
    "import matplotlib.pyplot as plt\n",
    "from sklearn.metrics import make_scorer, mean_absolute_error\n",
    "from sklearn.model_selection import GridSearchCV, cross_val_score, train_test_split, TimeSeriesSplit\n",
    "from sklearn.linear_model import LinearRegression\n",
    "from sklearn.ensemble import RandomForestRegressor\n",
    "from sklearn.tree import DecisionTreeRegressor\n",
    "from sklearn.impute import SimpleImputer\n",
    "from sklearn.preprocessing import StandardScaler\n",
    "from collections import defaultdict\n",
    "from sklearn.dummy import DummyRegressor\n"
   ]
  },
  {
   "cell_type": "code",
   "execution_count": 2,
   "metadata": {},
   "outputs": [],
   "source": [
    "RS = 12345"
   ]
  },
  {
   "cell_type": "markdown",
   "metadata": {},
   "source": [
    "## Подготовка данных"
   ]
  },
  {
   "cell_type": "markdown",
   "metadata": {},
   "source": [
    "### Изучение данных"
   ]
  },
  {
   "cell_type": "markdown",
   "metadata": {},
   "source": [
    "Необходимо изучить данные. Сохраним их в переменные."
   ]
  },
  {
   "cell_type": "code",
   "execution_count": 3,
   "metadata": {},
   "outputs": [],
   "source": [
    "df_train = pd.read_csv('/datasets/gold_recovery_train_new.csv',\n",
    "                    index_col='date',\n",
    "                    parse_dates=True)\n",
    "df_test = pd.read_csv('/datasets/gold_recovery_test_new.csv',\n",
    "                    index_col='date',\n",
    "                    parse_dates=True)\n",
    "df_full = pd.read_csv('/datasets/gold_recovery_full_new.csv',\n",
    "                    index_col='date',\n",
    "                    parse_dates=True)"
   ]
  },
  {
   "cell_type": "markdown",
   "metadata": {},
   "source": [
    "Посмотрим размеры разных таблиц"
   ]
  },
  {
   "cell_type": "code",
   "execution_count": 4,
   "metadata": {
    "scrolled": true
   },
   "outputs": [
    {
     "name": "stdout",
     "output_type": "stream",
     "text": [
      "Размер обучающих данных: (14149, 86)\n",
      "Размер тестовых данных: (5290, 52)\n",
      "Размер данных общей таблицы: (19439, 86)\n"
     ]
    }
   ],
   "source": [
    "print('''Размер обучающих данных: {}\n",
    "Размер тестовых данных: {}\n",
    "Размер данных общей таблицы: {}'''.\n",
    "      format(df_train.shape, df_test.shape, df_full.shape))"
   ]
  },
  {
   "cell_type": "markdown",
   "metadata": {},
   "source": [
    "Просмотрим типы данных в таблицах"
   ]
  },
  {
   "cell_type": "code",
   "execution_count": 5,
   "metadata": {
    "scrolled": true
   },
   "outputs": [
    {
     "name": "stdout",
     "output_type": "stream",
     "text": [
      "Типы данных в обучающей таблице: \n",
      "\n",
      "final.output.concentrate_ag                   float64\n",
      "final.output.concentrate_pb                   float64\n",
      "final.output.concentrate_sol                  float64\n",
      "final.output.concentrate_au                   float64\n",
      "final.output.recovery                         float64\n",
      "                                               ...   \n",
      "secondary_cleaner.state.floatbank5_a_level    float64\n",
      "secondary_cleaner.state.floatbank5_b_air      float64\n",
      "secondary_cleaner.state.floatbank5_b_level    float64\n",
      "secondary_cleaner.state.floatbank6_a_air      float64\n",
      "secondary_cleaner.state.floatbank6_a_level    float64\n",
      "Length: 86, dtype: object\n",
      "\n",
      "Типы данных в тестовой таблице: \n",
      "\n",
      "primary_cleaner.input.sulfate                 float64\n",
      "primary_cleaner.input.depressant              float64\n",
      "primary_cleaner.input.feed_size               float64\n",
      "primary_cleaner.input.xanthate                float64\n",
      "primary_cleaner.state.floatbank8_a_air        float64\n",
      "primary_cleaner.state.floatbank8_a_level      float64\n",
      "primary_cleaner.state.floatbank8_b_air        float64\n",
      "primary_cleaner.state.floatbank8_b_level      float64\n",
      "primary_cleaner.state.floatbank8_c_air        float64\n",
      "primary_cleaner.state.floatbank8_c_level      float64\n",
      "primary_cleaner.state.floatbank8_d_air        float64\n",
      "primary_cleaner.state.floatbank8_d_level      float64\n",
      "rougher.input.feed_ag                         float64\n",
      "rougher.input.feed_pb                         float64\n",
      "rougher.input.feed_rate                       float64\n",
      "rougher.input.feed_size                       float64\n",
      "rougher.input.feed_sol                        float64\n",
      "rougher.input.feed_au                         float64\n",
      "rougher.input.floatbank10_sulfate             float64\n",
      "rougher.input.floatbank10_xanthate            float64\n",
      "rougher.input.floatbank11_sulfate             float64\n",
      "rougher.input.floatbank11_xanthate            float64\n",
      "rougher.state.floatbank10_a_air               float64\n",
      "rougher.state.floatbank10_a_level             float64\n",
      "rougher.state.floatbank10_b_air               float64\n",
      "rougher.state.floatbank10_b_level             float64\n",
      "rougher.state.floatbank10_c_air               float64\n",
      "rougher.state.floatbank10_c_level             float64\n",
      "rougher.state.floatbank10_d_air               float64\n",
      "rougher.state.floatbank10_d_level             float64\n",
      "rougher.state.floatbank10_e_air               float64\n",
      "rougher.state.floatbank10_e_level             float64\n",
      "rougher.state.floatbank10_f_air               float64\n",
      "rougher.state.floatbank10_f_level             float64\n",
      "secondary_cleaner.state.floatbank2_a_air      float64\n",
      "secondary_cleaner.state.floatbank2_a_level    float64\n",
      "secondary_cleaner.state.floatbank2_b_air      float64\n",
      "secondary_cleaner.state.floatbank2_b_level    float64\n",
      "secondary_cleaner.state.floatbank3_a_air      float64\n",
      "secondary_cleaner.state.floatbank3_a_level    float64\n",
      "secondary_cleaner.state.floatbank3_b_air      float64\n",
      "secondary_cleaner.state.floatbank3_b_level    float64\n",
      "secondary_cleaner.state.floatbank4_a_air      float64\n",
      "secondary_cleaner.state.floatbank4_a_level    float64\n",
      "secondary_cleaner.state.floatbank4_b_air      float64\n",
      "secondary_cleaner.state.floatbank4_b_level    float64\n",
      "secondary_cleaner.state.floatbank5_a_air      float64\n",
      "secondary_cleaner.state.floatbank5_a_level    float64\n",
      "secondary_cleaner.state.floatbank5_b_air      float64\n",
      "secondary_cleaner.state.floatbank5_b_level    float64\n",
      "secondary_cleaner.state.floatbank6_a_air      float64\n",
      "secondary_cleaner.state.floatbank6_a_level    float64\n",
      "dtype: object\n",
      "\n",
      "Типы данных в общей таблицы: \n",
      "\n",
      "final.output.concentrate_ag                   float64\n",
      "final.output.concentrate_pb                   float64\n",
      "final.output.concentrate_sol                  float64\n",
      "final.output.concentrate_au                   float64\n",
      "final.output.recovery                         float64\n",
      "                                               ...   \n",
      "secondary_cleaner.state.floatbank5_a_level    float64\n",
      "secondary_cleaner.state.floatbank5_b_air      float64\n",
      "secondary_cleaner.state.floatbank5_b_level    float64\n",
      "secondary_cleaner.state.floatbank6_a_air      float64\n",
      "secondary_cleaner.state.floatbank6_a_level    float64\n",
      "Length: 86, dtype: object\n"
     ]
    }
   ],
   "source": [
    "print('''Типы данных в обучающей таблице: \\n\\n{}\\n\n",
    "Типы данных в тестовой таблице: \\n\\n{}\\n\n",
    "Типы данных в общей таблицы: \\n\\n{}'''.\n",
    "      format(df_train.dtypes, df_test.dtypes, df_full.dtypes))"
   ]
  },
  {
   "cell_type": "markdown",
   "metadata": {},
   "source": [
    "В таблицах содержатся данные типов `object` и `float`."
   ]
  },
  {
   "cell_type": "markdown",
   "metadata": {},
   "source": [
    "Проверим количество пропусков каждой таблицы"
   ]
  },
  {
   "cell_type": "code",
   "execution_count": 6,
   "metadata": {
    "scrolled": true
   },
   "outputs": [
    {
     "name": "stdout",
     "output_type": "stream",
     "text": [
      "Количество пропусков в обучающей таблице: \n",
      "\n",
      "final.output.concentrate_ag                     1\n",
      "final.output.concentrate_pb                     1\n",
      "final.output.concentrate_sol                  211\n",
      "final.output.concentrate_au                     0\n",
      "final.output.recovery                           0\n",
      "                                             ... \n",
      "secondary_cleaner.state.floatbank5_a_level      1\n",
      "secondary_cleaner.state.floatbank5_b_air        1\n",
      "secondary_cleaner.state.floatbank5_b_level      1\n",
      "secondary_cleaner.state.floatbank6_a_air        2\n",
      "secondary_cleaner.state.floatbank6_a_level      1\n",
      "Length: 86, dtype: int64\n",
      "\n",
      "Количество пропусков в тестовой таблице: \n",
      "\n",
      "primary_cleaner.input.sulfate                  4\n",
      "primary_cleaner.input.depressant               5\n",
      "primary_cleaner.input.feed_size                0\n",
      "primary_cleaner.input.xanthate                 4\n",
      "primary_cleaner.state.floatbank8_a_air         0\n",
      "primary_cleaner.state.floatbank8_a_level       0\n",
      "primary_cleaner.state.floatbank8_b_air         0\n",
      "primary_cleaner.state.floatbank8_b_level       0\n",
      "primary_cleaner.state.floatbank8_c_air         0\n",
      "primary_cleaner.state.floatbank8_c_level       0\n",
      "primary_cleaner.state.floatbank8_d_air         0\n",
      "primary_cleaner.state.floatbank8_d_level       0\n",
      "rougher.input.feed_ag                          0\n",
      "rougher.input.feed_pb                          0\n",
      "rougher.input.feed_rate                        3\n",
      "rougher.input.feed_size                        1\n",
      "rougher.input.feed_sol                        21\n",
      "rougher.input.feed_au                          0\n",
      "rougher.input.floatbank10_sulfate              5\n",
      "rougher.input.floatbank10_xanthate             0\n",
      "rougher.input.floatbank11_sulfate              8\n",
      "rougher.input.floatbank11_xanthate            25\n",
      "rougher.state.floatbank10_a_air                0\n",
      "rougher.state.floatbank10_a_level              0\n",
      "rougher.state.floatbank10_b_air                0\n",
      "rougher.state.floatbank10_b_level              0\n",
      "rougher.state.floatbank10_c_air                0\n",
      "rougher.state.floatbank10_c_level              0\n",
      "rougher.state.floatbank10_d_air                0\n",
      "rougher.state.floatbank10_d_level              0\n",
      "rougher.state.floatbank10_e_air                0\n",
      "rougher.state.floatbank10_e_level              0\n",
      "rougher.state.floatbank10_f_air                0\n",
      "rougher.state.floatbank10_f_level              0\n",
      "secondary_cleaner.state.floatbank2_a_air       3\n",
      "secondary_cleaner.state.floatbank2_a_level     0\n",
      "secondary_cleaner.state.floatbank2_b_air       2\n",
      "secondary_cleaner.state.floatbank2_b_level     0\n",
      "secondary_cleaner.state.floatbank3_a_air       9\n",
      "secondary_cleaner.state.floatbank3_a_level     0\n",
      "secondary_cleaner.state.floatbank3_b_air       0\n",
      "secondary_cleaner.state.floatbank3_b_level     0\n",
      "secondary_cleaner.state.floatbank4_a_air       0\n",
      "secondary_cleaner.state.floatbank4_a_level     0\n",
      "secondary_cleaner.state.floatbank4_b_air       0\n",
      "secondary_cleaner.state.floatbank4_b_level     0\n",
      "secondary_cleaner.state.floatbank5_a_air       0\n",
      "secondary_cleaner.state.floatbank5_a_level     0\n",
      "secondary_cleaner.state.floatbank5_b_air       0\n",
      "secondary_cleaner.state.floatbank5_b_level     0\n",
      "secondary_cleaner.state.floatbank6_a_air       0\n",
      "secondary_cleaner.state.floatbank6_a_level     0\n",
      "dtype: int64\n",
      "\n",
      "Количество пропусков в общей таблицы: \n",
      "\n",
      "final.output.concentrate_ag                     1\n",
      "final.output.concentrate_pb                     1\n",
      "final.output.concentrate_sol                  211\n",
      "final.output.concentrate_au                     0\n",
      "final.output.recovery                           0\n",
      "                                             ... \n",
      "secondary_cleaner.state.floatbank5_a_level      1\n",
      "secondary_cleaner.state.floatbank5_b_air        1\n",
      "secondary_cleaner.state.floatbank5_b_level      1\n",
      "secondary_cleaner.state.floatbank6_a_air        2\n",
      "secondary_cleaner.state.floatbank6_a_level      1\n",
      "Length: 86, dtype: int64\n"
     ]
    }
   ],
   "source": [
    "print('''Количество пропусков в обучающей таблице: \\n\\n{}\\n\n",
    "Количество пропусков в тестовой таблице: \\n\\n{}\\n\n",
    "Количество пропусков в общей таблицы: \\n\\n{}'''.\n",
    "      format(df_train.isna().sum(), \n",
    "             df_test.isna().sum(), \n",
    "             df_full.isna().sum()))"
   ]
  },
  {
   "cell_type": "markdown",
   "metadata": {},
   "source": [
    "Имеются пропуски в строках, однако по первому обзору их немного в сравнении с общим количеством строк\n"
   ]
  },
  {
   "cell_type": "markdown",
   "metadata": {},
   "source": [
    "Просмотрим внешний вид таблицы"
   ]
  },
  {
   "cell_type": "code",
   "execution_count": 7,
   "metadata": {
    "scrolled": false
   },
   "outputs": [
    {
     "data": {
      "text/plain": [
       "'Обучающая таблица:'"
      ]
     },
     "metadata": {},
     "output_type": "display_data"
    },
    {
     "data": {
      "text/html": [
       "<div>\n",
       "<style scoped>\n",
       "    .dataframe tbody tr th:only-of-type {\n",
       "        vertical-align: middle;\n",
       "    }\n",
       "\n",
       "    .dataframe tbody tr th {\n",
       "        vertical-align: top;\n",
       "    }\n",
       "\n",
       "    .dataframe thead th {\n",
       "        text-align: right;\n",
       "    }\n",
       "</style>\n",
       "<table border=\"1\" class=\"dataframe\">\n",
       "  <thead>\n",
       "    <tr style=\"text-align: right;\">\n",
       "      <th></th>\n",
       "      <th>final.output.concentrate_ag</th>\n",
       "      <th>final.output.concentrate_pb</th>\n",
       "      <th>final.output.concentrate_sol</th>\n",
       "      <th>final.output.concentrate_au</th>\n",
       "      <th>final.output.recovery</th>\n",
       "      <th>final.output.tail_ag</th>\n",
       "      <th>final.output.tail_pb</th>\n",
       "      <th>final.output.tail_sol</th>\n",
       "      <th>final.output.tail_au</th>\n",
       "      <th>primary_cleaner.input.sulfate</th>\n",
       "      <th>...</th>\n",
       "      <th>secondary_cleaner.state.floatbank4_a_air</th>\n",
       "      <th>secondary_cleaner.state.floatbank4_a_level</th>\n",
       "      <th>secondary_cleaner.state.floatbank4_b_air</th>\n",
       "      <th>secondary_cleaner.state.floatbank4_b_level</th>\n",
       "      <th>secondary_cleaner.state.floatbank5_a_air</th>\n",
       "      <th>secondary_cleaner.state.floatbank5_a_level</th>\n",
       "      <th>secondary_cleaner.state.floatbank5_b_air</th>\n",
       "      <th>secondary_cleaner.state.floatbank5_b_level</th>\n",
       "      <th>secondary_cleaner.state.floatbank6_a_air</th>\n",
       "      <th>secondary_cleaner.state.floatbank6_a_level</th>\n",
       "    </tr>\n",
       "    <tr>\n",
       "      <th>date</th>\n",
       "      <th></th>\n",
       "      <th></th>\n",
       "      <th></th>\n",
       "      <th></th>\n",
       "      <th></th>\n",
       "      <th></th>\n",
       "      <th></th>\n",
       "      <th></th>\n",
       "      <th></th>\n",
       "      <th></th>\n",
       "      <th></th>\n",
       "      <th></th>\n",
       "      <th></th>\n",
       "      <th></th>\n",
       "      <th></th>\n",
       "      <th></th>\n",
       "      <th></th>\n",
       "      <th></th>\n",
       "      <th></th>\n",
       "      <th></th>\n",
       "      <th></th>\n",
       "    </tr>\n",
       "  </thead>\n",
       "  <tbody>\n",
       "    <tr>\n",
       "      <td>2016-01-15 00:00:00</td>\n",
       "      <td>6.055403</td>\n",
       "      <td>9.889648</td>\n",
       "      <td>5.507324</td>\n",
       "      <td>42.192020</td>\n",
       "      <td>70.541216</td>\n",
       "      <td>10.411962</td>\n",
       "      <td>0.895447</td>\n",
       "      <td>16.904297</td>\n",
       "      <td>2.143149</td>\n",
       "      <td>127.092003</td>\n",
       "      <td>...</td>\n",
       "      <td>14.016835</td>\n",
       "      <td>-502.488007</td>\n",
       "      <td>12.099931</td>\n",
       "      <td>-504.715942</td>\n",
       "      <td>9.925633</td>\n",
       "      <td>-498.310211</td>\n",
       "      <td>8.079666</td>\n",
       "      <td>-500.470978</td>\n",
       "      <td>14.151341</td>\n",
       "      <td>-605.841980</td>\n",
       "    </tr>\n",
       "    <tr>\n",
       "      <td>2016-01-15 01:00:00</td>\n",
       "      <td>6.029369</td>\n",
       "      <td>9.968944</td>\n",
       "      <td>5.257781</td>\n",
       "      <td>42.701629</td>\n",
       "      <td>69.266198</td>\n",
       "      <td>10.462676</td>\n",
       "      <td>0.927452</td>\n",
       "      <td>16.634514</td>\n",
       "      <td>2.224930</td>\n",
       "      <td>125.629232</td>\n",
       "      <td>...</td>\n",
       "      <td>13.992281</td>\n",
       "      <td>-505.503262</td>\n",
       "      <td>11.950531</td>\n",
       "      <td>-501.331529</td>\n",
       "      <td>10.039245</td>\n",
       "      <td>-500.169983</td>\n",
       "      <td>7.984757</td>\n",
       "      <td>-500.582168</td>\n",
       "      <td>13.998353</td>\n",
       "      <td>-599.787184</td>\n",
       "    </tr>\n",
       "    <tr>\n",
       "      <td>2016-01-15 02:00:00</td>\n",
       "      <td>6.055926</td>\n",
       "      <td>10.213995</td>\n",
       "      <td>5.383759</td>\n",
       "      <td>42.657501</td>\n",
       "      <td>68.116445</td>\n",
       "      <td>10.507046</td>\n",
       "      <td>0.953716</td>\n",
       "      <td>16.208849</td>\n",
       "      <td>2.257889</td>\n",
       "      <td>123.819808</td>\n",
       "      <td>...</td>\n",
       "      <td>14.015015</td>\n",
       "      <td>-502.520901</td>\n",
       "      <td>11.912783</td>\n",
       "      <td>-501.133383</td>\n",
       "      <td>10.070913</td>\n",
       "      <td>-500.129135</td>\n",
       "      <td>8.013877</td>\n",
       "      <td>-500.517572</td>\n",
       "      <td>14.028663</td>\n",
       "      <td>-601.427363</td>\n",
       "    </tr>\n",
       "    <tr>\n",
       "      <td>2016-01-15 03:00:00</td>\n",
       "      <td>6.047977</td>\n",
       "      <td>9.977019</td>\n",
       "      <td>4.858634</td>\n",
       "      <td>42.689819</td>\n",
       "      <td>68.347543</td>\n",
       "      <td>10.422762</td>\n",
       "      <td>0.883763</td>\n",
       "      <td>16.532835</td>\n",
       "      <td>2.146849</td>\n",
       "      <td>122.270188</td>\n",
       "      <td>...</td>\n",
       "      <td>14.036510</td>\n",
       "      <td>-500.857308</td>\n",
       "      <td>11.999550</td>\n",
       "      <td>-501.193686</td>\n",
       "      <td>9.970366</td>\n",
       "      <td>-499.201640</td>\n",
       "      <td>7.977324</td>\n",
       "      <td>-500.255908</td>\n",
       "      <td>14.005551</td>\n",
       "      <td>-599.996129</td>\n",
       "    </tr>\n",
       "    <tr>\n",
       "      <td>2016-01-15 04:00:00</td>\n",
       "      <td>6.148599</td>\n",
       "      <td>10.142511</td>\n",
       "      <td>4.939416</td>\n",
       "      <td>42.774141</td>\n",
       "      <td>66.927016</td>\n",
       "      <td>10.360302</td>\n",
       "      <td>0.792826</td>\n",
       "      <td>16.525686</td>\n",
       "      <td>2.055292</td>\n",
       "      <td>117.988169</td>\n",
       "      <td>...</td>\n",
       "      <td>14.027298</td>\n",
       "      <td>-499.838632</td>\n",
       "      <td>11.953070</td>\n",
       "      <td>-501.053894</td>\n",
       "      <td>9.925709</td>\n",
       "      <td>-501.686727</td>\n",
       "      <td>7.894242</td>\n",
       "      <td>-500.356035</td>\n",
       "      <td>13.996647</td>\n",
       "      <td>-601.496691</td>\n",
       "    </tr>\n",
       "  </tbody>\n",
       "</table>\n",
       "<p>5 rows × 86 columns</p>\n",
       "</div>"
      ],
      "text/plain": [
       "                     final.output.concentrate_ag  final.output.concentrate_pb  \\\n",
       "date                                                                            \n",
       "2016-01-15 00:00:00                     6.055403                     9.889648   \n",
       "2016-01-15 01:00:00                     6.029369                     9.968944   \n",
       "2016-01-15 02:00:00                     6.055926                    10.213995   \n",
       "2016-01-15 03:00:00                     6.047977                     9.977019   \n",
       "2016-01-15 04:00:00                     6.148599                    10.142511   \n",
       "\n",
       "                     final.output.concentrate_sol  \\\n",
       "date                                                \n",
       "2016-01-15 00:00:00                      5.507324   \n",
       "2016-01-15 01:00:00                      5.257781   \n",
       "2016-01-15 02:00:00                      5.383759   \n",
       "2016-01-15 03:00:00                      4.858634   \n",
       "2016-01-15 04:00:00                      4.939416   \n",
       "\n",
       "                     final.output.concentrate_au  final.output.recovery  \\\n",
       "date                                                                      \n",
       "2016-01-15 00:00:00                    42.192020              70.541216   \n",
       "2016-01-15 01:00:00                    42.701629              69.266198   \n",
       "2016-01-15 02:00:00                    42.657501              68.116445   \n",
       "2016-01-15 03:00:00                    42.689819              68.347543   \n",
       "2016-01-15 04:00:00                    42.774141              66.927016   \n",
       "\n",
       "                     final.output.tail_ag  final.output.tail_pb  \\\n",
       "date                                                              \n",
       "2016-01-15 00:00:00             10.411962              0.895447   \n",
       "2016-01-15 01:00:00             10.462676              0.927452   \n",
       "2016-01-15 02:00:00             10.507046              0.953716   \n",
       "2016-01-15 03:00:00             10.422762              0.883763   \n",
       "2016-01-15 04:00:00             10.360302              0.792826   \n",
       "\n",
       "                     final.output.tail_sol  final.output.tail_au  \\\n",
       "date                                                               \n",
       "2016-01-15 00:00:00              16.904297              2.143149   \n",
       "2016-01-15 01:00:00              16.634514              2.224930   \n",
       "2016-01-15 02:00:00              16.208849              2.257889   \n",
       "2016-01-15 03:00:00              16.532835              2.146849   \n",
       "2016-01-15 04:00:00              16.525686              2.055292   \n",
       "\n",
       "                     primary_cleaner.input.sulfate  ...  \\\n",
       "date                                                ...   \n",
       "2016-01-15 00:00:00                     127.092003  ...   \n",
       "2016-01-15 01:00:00                     125.629232  ...   \n",
       "2016-01-15 02:00:00                     123.819808  ...   \n",
       "2016-01-15 03:00:00                     122.270188  ...   \n",
       "2016-01-15 04:00:00                     117.988169  ...   \n",
       "\n",
       "                     secondary_cleaner.state.floatbank4_a_air  \\\n",
       "date                                                            \n",
       "2016-01-15 00:00:00                                 14.016835   \n",
       "2016-01-15 01:00:00                                 13.992281   \n",
       "2016-01-15 02:00:00                                 14.015015   \n",
       "2016-01-15 03:00:00                                 14.036510   \n",
       "2016-01-15 04:00:00                                 14.027298   \n",
       "\n",
       "                     secondary_cleaner.state.floatbank4_a_level  \\\n",
       "date                                                              \n",
       "2016-01-15 00:00:00                                 -502.488007   \n",
       "2016-01-15 01:00:00                                 -505.503262   \n",
       "2016-01-15 02:00:00                                 -502.520901   \n",
       "2016-01-15 03:00:00                                 -500.857308   \n",
       "2016-01-15 04:00:00                                 -499.838632   \n",
       "\n",
       "                     secondary_cleaner.state.floatbank4_b_air  \\\n",
       "date                                                            \n",
       "2016-01-15 00:00:00                                 12.099931   \n",
       "2016-01-15 01:00:00                                 11.950531   \n",
       "2016-01-15 02:00:00                                 11.912783   \n",
       "2016-01-15 03:00:00                                 11.999550   \n",
       "2016-01-15 04:00:00                                 11.953070   \n",
       "\n",
       "                     secondary_cleaner.state.floatbank4_b_level  \\\n",
       "date                                                              \n",
       "2016-01-15 00:00:00                                 -504.715942   \n",
       "2016-01-15 01:00:00                                 -501.331529   \n",
       "2016-01-15 02:00:00                                 -501.133383   \n",
       "2016-01-15 03:00:00                                 -501.193686   \n",
       "2016-01-15 04:00:00                                 -501.053894   \n",
       "\n",
       "                     secondary_cleaner.state.floatbank5_a_air  \\\n",
       "date                                                            \n",
       "2016-01-15 00:00:00                                  9.925633   \n",
       "2016-01-15 01:00:00                                 10.039245   \n",
       "2016-01-15 02:00:00                                 10.070913   \n",
       "2016-01-15 03:00:00                                  9.970366   \n",
       "2016-01-15 04:00:00                                  9.925709   \n",
       "\n",
       "                     secondary_cleaner.state.floatbank5_a_level  \\\n",
       "date                                                              \n",
       "2016-01-15 00:00:00                                 -498.310211   \n",
       "2016-01-15 01:00:00                                 -500.169983   \n",
       "2016-01-15 02:00:00                                 -500.129135   \n",
       "2016-01-15 03:00:00                                 -499.201640   \n",
       "2016-01-15 04:00:00                                 -501.686727   \n",
       "\n",
       "                     secondary_cleaner.state.floatbank5_b_air  \\\n",
       "date                                                            \n",
       "2016-01-15 00:00:00                                  8.079666   \n",
       "2016-01-15 01:00:00                                  7.984757   \n",
       "2016-01-15 02:00:00                                  8.013877   \n",
       "2016-01-15 03:00:00                                  7.977324   \n",
       "2016-01-15 04:00:00                                  7.894242   \n",
       "\n",
       "                     secondary_cleaner.state.floatbank5_b_level  \\\n",
       "date                                                              \n",
       "2016-01-15 00:00:00                                 -500.470978   \n",
       "2016-01-15 01:00:00                                 -500.582168   \n",
       "2016-01-15 02:00:00                                 -500.517572   \n",
       "2016-01-15 03:00:00                                 -500.255908   \n",
       "2016-01-15 04:00:00                                 -500.356035   \n",
       "\n",
       "                     secondary_cleaner.state.floatbank6_a_air  \\\n",
       "date                                                            \n",
       "2016-01-15 00:00:00                                 14.151341   \n",
       "2016-01-15 01:00:00                                 13.998353   \n",
       "2016-01-15 02:00:00                                 14.028663   \n",
       "2016-01-15 03:00:00                                 14.005551   \n",
       "2016-01-15 04:00:00                                 13.996647   \n",
       "\n",
       "                     secondary_cleaner.state.floatbank6_a_level  \n",
       "date                                                             \n",
       "2016-01-15 00:00:00                                 -605.841980  \n",
       "2016-01-15 01:00:00                                 -599.787184  \n",
       "2016-01-15 02:00:00                                 -601.427363  \n",
       "2016-01-15 03:00:00                                 -599.996129  \n",
       "2016-01-15 04:00:00                                 -601.496691  \n",
       "\n",
       "[5 rows x 86 columns]"
      ]
     },
     "metadata": {},
     "output_type": "display_data"
    },
    {
     "data": {
      "text/plain": [
       "'Тестовая таблица:'"
      ]
     },
     "metadata": {},
     "output_type": "display_data"
    },
    {
     "data": {
      "text/html": [
       "<div>\n",
       "<style scoped>\n",
       "    .dataframe tbody tr th:only-of-type {\n",
       "        vertical-align: middle;\n",
       "    }\n",
       "\n",
       "    .dataframe tbody tr th {\n",
       "        vertical-align: top;\n",
       "    }\n",
       "\n",
       "    .dataframe thead th {\n",
       "        text-align: right;\n",
       "    }\n",
       "</style>\n",
       "<table border=\"1\" class=\"dataframe\">\n",
       "  <thead>\n",
       "    <tr style=\"text-align: right;\">\n",
       "      <th></th>\n",
       "      <th>primary_cleaner.input.sulfate</th>\n",
       "      <th>primary_cleaner.input.depressant</th>\n",
       "      <th>primary_cleaner.input.feed_size</th>\n",
       "      <th>primary_cleaner.input.xanthate</th>\n",
       "      <th>primary_cleaner.state.floatbank8_a_air</th>\n",
       "      <th>primary_cleaner.state.floatbank8_a_level</th>\n",
       "      <th>primary_cleaner.state.floatbank8_b_air</th>\n",
       "      <th>primary_cleaner.state.floatbank8_b_level</th>\n",
       "      <th>primary_cleaner.state.floatbank8_c_air</th>\n",
       "      <th>primary_cleaner.state.floatbank8_c_level</th>\n",
       "      <th>...</th>\n",
       "      <th>secondary_cleaner.state.floatbank4_a_air</th>\n",
       "      <th>secondary_cleaner.state.floatbank4_a_level</th>\n",
       "      <th>secondary_cleaner.state.floatbank4_b_air</th>\n",
       "      <th>secondary_cleaner.state.floatbank4_b_level</th>\n",
       "      <th>secondary_cleaner.state.floatbank5_a_air</th>\n",
       "      <th>secondary_cleaner.state.floatbank5_a_level</th>\n",
       "      <th>secondary_cleaner.state.floatbank5_b_air</th>\n",
       "      <th>secondary_cleaner.state.floatbank5_b_level</th>\n",
       "      <th>secondary_cleaner.state.floatbank6_a_air</th>\n",
       "      <th>secondary_cleaner.state.floatbank6_a_level</th>\n",
       "    </tr>\n",
       "    <tr>\n",
       "      <th>date</th>\n",
       "      <th></th>\n",
       "      <th></th>\n",
       "      <th></th>\n",
       "      <th></th>\n",
       "      <th></th>\n",
       "      <th></th>\n",
       "      <th></th>\n",
       "      <th></th>\n",
       "      <th></th>\n",
       "      <th></th>\n",
       "      <th></th>\n",
       "      <th></th>\n",
       "      <th></th>\n",
       "      <th></th>\n",
       "      <th></th>\n",
       "      <th></th>\n",
       "      <th></th>\n",
       "      <th></th>\n",
       "      <th></th>\n",
       "      <th></th>\n",
       "      <th></th>\n",
       "    </tr>\n",
       "  </thead>\n",
       "  <tbody>\n",
       "    <tr>\n",
       "      <td>2016-09-01 00:59:59</td>\n",
       "      <td>210.800909</td>\n",
       "      <td>14.993118</td>\n",
       "      <td>8.080000</td>\n",
       "      <td>1.005021</td>\n",
       "      <td>1398.981301</td>\n",
       "      <td>-500.225577</td>\n",
       "      <td>1399.144926</td>\n",
       "      <td>-499.919735</td>\n",
       "      <td>1400.102998</td>\n",
       "      <td>-500.704369</td>\n",
       "      <td>...</td>\n",
       "      <td>12.023554</td>\n",
       "      <td>-497.795834</td>\n",
       "      <td>8.016656</td>\n",
       "      <td>-501.289139</td>\n",
       "      <td>7.946562</td>\n",
       "      <td>-432.317850</td>\n",
       "      <td>4.872511</td>\n",
       "      <td>-500.037437</td>\n",
       "      <td>26.705889</td>\n",
       "      <td>-499.709414</td>\n",
       "    </tr>\n",
       "    <tr>\n",
       "      <td>2016-09-01 01:59:59</td>\n",
       "      <td>215.392455</td>\n",
       "      <td>14.987471</td>\n",
       "      <td>8.080000</td>\n",
       "      <td>0.990469</td>\n",
       "      <td>1398.777912</td>\n",
       "      <td>-500.057435</td>\n",
       "      <td>1398.055362</td>\n",
       "      <td>-499.778182</td>\n",
       "      <td>1396.151033</td>\n",
       "      <td>-499.240168</td>\n",
       "      <td>...</td>\n",
       "      <td>12.058140</td>\n",
       "      <td>-498.695773</td>\n",
       "      <td>8.130979</td>\n",
       "      <td>-499.634209</td>\n",
       "      <td>7.958270</td>\n",
       "      <td>-525.839648</td>\n",
       "      <td>4.878850</td>\n",
       "      <td>-500.162375</td>\n",
       "      <td>25.019940</td>\n",
       "      <td>-499.819438</td>\n",
       "    </tr>\n",
       "    <tr>\n",
       "      <td>2016-09-01 02:59:59</td>\n",
       "      <td>215.259946</td>\n",
       "      <td>12.884934</td>\n",
       "      <td>7.786667</td>\n",
       "      <td>0.996043</td>\n",
       "      <td>1398.493666</td>\n",
       "      <td>-500.868360</td>\n",
       "      <td>1398.860436</td>\n",
       "      <td>-499.764529</td>\n",
       "      <td>1398.075709</td>\n",
       "      <td>-502.151509</td>\n",
       "      <td>...</td>\n",
       "      <td>11.962366</td>\n",
       "      <td>-498.767484</td>\n",
       "      <td>8.096893</td>\n",
       "      <td>-500.827423</td>\n",
       "      <td>8.071056</td>\n",
       "      <td>-500.801673</td>\n",
       "      <td>4.905125</td>\n",
       "      <td>-499.828510</td>\n",
       "      <td>24.994862</td>\n",
       "      <td>-500.622559</td>\n",
       "    </tr>\n",
       "    <tr>\n",
       "      <td>2016-09-01 03:59:59</td>\n",
       "      <td>215.336236</td>\n",
       "      <td>12.006805</td>\n",
       "      <td>7.640000</td>\n",
       "      <td>0.863514</td>\n",
       "      <td>1399.618111</td>\n",
       "      <td>-498.863574</td>\n",
       "      <td>1397.440120</td>\n",
       "      <td>-499.211024</td>\n",
       "      <td>1400.129303</td>\n",
       "      <td>-498.355873</td>\n",
       "      <td>...</td>\n",
       "      <td>12.033091</td>\n",
       "      <td>-498.350935</td>\n",
       "      <td>8.074946</td>\n",
       "      <td>-499.474407</td>\n",
       "      <td>7.897085</td>\n",
       "      <td>-500.868509</td>\n",
       "      <td>4.931400</td>\n",
       "      <td>-499.963623</td>\n",
       "      <td>24.948919</td>\n",
       "      <td>-498.709987</td>\n",
       "    </tr>\n",
       "    <tr>\n",
       "      <td>2016-09-01 04:59:59</td>\n",
       "      <td>199.099327</td>\n",
       "      <td>10.682530</td>\n",
       "      <td>7.530000</td>\n",
       "      <td>0.805575</td>\n",
       "      <td>1401.268123</td>\n",
       "      <td>-500.808305</td>\n",
       "      <td>1398.128818</td>\n",
       "      <td>-499.504543</td>\n",
       "      <td>1402.172226</td>\n",
       "      <td>-500.810606</td>\n",
       "      <td>...</td>\n",
       "      <td>12.025367</td>\n",
       "      <td>-500.786497</td>\n",
       "      <td>8.054678</td>\n",
       "      <td>-500.397500</td>\n",
       "      <td>8.107890</td>\n",
       "      <td>-509.526725</td>\n",
       "      <td>4.957674</td>\n",
       "      <td>-500.360026</td>\n",
       "      <td>25.003331</td>\n",
       "      <td>-500.856333</td>\n",
       "    </tr>\n",
       "  </tbody>\n",
       "</table>\n",
       "<p>5 rows × 52 columns</p>\n",
       "</div>"
      ],
      "text/plain": [
       "                     primary_cleaner.input.sulfate  \\\n",
       "date                                                 \n",
       "2016-09-01 00:59:59                     210.800909   \n",
       "2016-09-01 01:59:59                     215.392455   \n",
       "2016-09-01 02:59:59                     215.259946   \n",
       "2016-09-01 03:59:59                     215.336236   \n",
       "2016-09-01 04:59:59                     199.099327   \n",
       "\n",
       "                     primary_cleaner.input.depressant  \\\n",
       "date                                                    \n",
       "2016-09-01 00:59:59                         14.993118   \n",
       "2016-09-01 01:59:59                         14.987471   \n",
       "2016-09-01 02:59:59                         12.884934   \n",
       "2016-09-01 03:59:59                         12.006805   \n",
       "2016-09-01 04:59:59                         10.682530   \n",
       "\n",
       "                     primary_cleaner.input.feed_size  \\\n",
       "date                                                   \n",
       "2016-09-01 00:59:59                         8.080000   \n",
       "2016-09-01 01:59:59                         8.080000   \n",
       "2016-09-01 02:59:59                         7.786667   \n",
       "2016-09-01 03:59:59                         7.640000   \n",
       "2016-09-01 04:59:59                         7.530000   \n",
       "\n",
       "                     primary_cleaner.input.xanthate  \\\n",
       "date                                                  \n",
       "2016-09-01 00:59:59                        1.005021   \n",
       "2016-09-01 01:59:59                        0.990469   \n",
       "2016-09-01 02:59:59                        0.996043   \n",
       "2016-09-01 03:59:59                        0.863514   \n",
       "2016-09-01 04:59:59                        0.805575   \n",
       "\n",
       "                     primary_cleaner.state.floatbank8_a_air  \\\n",
       "date                                                          \n",
       "2016-09-01 00:59:59                             1398.981301   \n",
       "2016-09-01 01:59:59                             1398.777912   \n",
       "2016-09-01 02:59:59                             1398.493666   \n",
       "2016-09-01 03:59:59                             1399.618111   \n",
       "2016-09-01 04:59:59                             1401.268123   \n",
       "\n",
       "                     primary_cleaner.state.floatbank8_a_level  \\\n",
       "date                                                            \n",
       "2016-09-01 00:59:59                               -500.225577   \n",
       "2016-09-01 01:59:59                               -500.057435   \n",
       "2016-09-01 02:59:59                               -500.868360   \n",
       "2016-09-01 03:59:59                               -498.863574   \n",
       "2016-09-01 04:59:59                               -500.808305   \n",
       "\n",
       "                     primary_cleaner.state.floatbank8_b_air  \\\n",
       "date                                                          \n",
       "2016-09-01 00:59:59                             1399.144926   \n",
       "2016-09-01 01:59:59                             1398.055362   \n",
       "2016-09-01 02:59:59                             1398.860436   \n",
       "2016-09-01 03:59:59                             1397.440120   \n",
       "2016-09-01 04:59:59                             1398.128818   \n",
       "\n",
       "                     primary_cleaner.state.floatbank8_b_level  \\\n",
       "date                                                            \n",
       "2016-09-01 00:59:59                               -499.919735   \n",
       "2016-09-01 01:59:59                               -499.778182   \n",
       "2016-09-01 02:59:59                               -499.764529   \n",
       "2016-09-01 03:59:59                               -499.211024   \n",
       "2016-09-01 04:59:59                               -499.504543   \n",
       "\n",
       "                     primary_cleaner.state.floatbank8_c_air  \\\n",
       "date                                                          \n",
       "2016-09-01 00:59:59                             1400.102998   \n",
       "2016-09-01 01:59:59                             1396.151033   \n",
       "2016-09-01 02:59:59                             1398.075709   \n",
       "2016-09-01 03:59:59                             1400.129303   \n",
       "2016-09-01 04:59:59                             1402.172226   \n",
       "\n",
       "                     primary_cleaner.state.floatbank8_c_level  ...  \\\n",
       "date                                                           ...   \n",
       "2016-09-01 00:59:59                               -500.704369  ...   \n",
       "2016-09-01 01:59:59                               -499.240168  ...   \n",
       "2016-09-01 02:59:59                               -502.151509  ...   \n",
       "2016-09-01 03:59:59                               -498.355873  ...   \n",
       "2016-09-01 04:59:59                               -500.810606  ...   \n",
       "\n",
       "                     secondary_cleaner.state.floatbank4_a_air  \\\n",
       "date                                                            \n",
       "2016-09-01 00:59:59                                 12.023554   \n",
       "2016-09-01 01:59:59                                 12.058140   \n",
       "2016-09-01 02:59:59                                 11.962366   \n",
       "2016-09-01 03:59:59                                 12.033091   \n",
       "2016-09-01 04:59:59                                 12.025367   \n",
       "\n",
       "                     secondary_cleaner.state.floatbank4_a_level  \\\n",
       "date                                                              \n",
       "2016-09-01 00:59:59                                 -497.795834   \n",
       "2016-09-01 01:59:59                                 -498.695773   \n",
       "2016-09-01 02:59:59                                 -498.767484   \n",
       "2016-09-01 03:59:59                                 -498.350935   \n",
       "2016-09-01 04:59:59                                 -500.786497   \n",
       "\n",
       "                     secondary_cleaner.state.floatbank4_b_air  \\\n",
       "date                                                            \n",
       "2016-09-01 00:59:59                                  8.016656   \n",
       "2016-09-01 01:59:59                                  8.130979   \n",
       "2016-09-01 02:59:59                                  8.096893   \n",
       "2016-09-01 03:59:59                                  8.074946   \n",
       "2016-09-01 04:59:59                                  8.054678   \n",
       "\n",
       "                     secondary_cleaner.state.floatbank4_b_level  \\\n",
       "date                                                              \n",
       "2016-09-01 00:59:59                                 -501.289139   \n",
       "2016-09-01 01:59:59                                 -499.634209   \n",
       "2016-09-01 02:59:59                                 -500.827423   \n",
       "2016-09-01 03:59:59                                 -499.474407   \n",
       "2016-09-01 04:59:59                                 -500.397500   \n",
       "\n",
       "                     secondary_cleaner.state.floatbank5_a_air  \\\n",
       "date                                                            \n",
       "2016-09-01 00:59:59                                  7.946562   \n",
       "2016-09-01 01:59:59                                  7.958270   \n",
       "2016-09-01 02:59:59                                  8.071056   \n",
       "2016-09-01 03:59:59                                  7.897085   \n",
       "2016-09-01 04:59:59                                  8.107890   \n",
       "\n",
       "                     secondary_cleaner.state.floatbank5_a_level  \\\n",
       "date                                                              \n",
       "2016-09-01 00:59:59                                 -432.317850   \n",
       "2016-09-01 01:59:59                                 -525.839648   \n",
       "2016-09-01 02:59:59                                 -500.801673   \n",
       "2016-09-01 03:59:59                                 -500.868509   \n",
       "2016-09-01 04:59:59                                 -509.526725   \n",
       "\n",
       "                     secondary_cleaner.state.floatbank5_b_air  \\\n",
       "date                                                            \n",
       "2016-09-01 00:59:59                                  4.872511   \n",
       "2016-09-01 01:59:59                                  4.878850   \n",
       "2016-09-01 02:59:59                                  4.905125   \n",
       "2016-09-01 03:59:59                                  4.931400   \n",
       "2016-09-01 04:59:59                                  4.957674   \n",
       "\n",
       "                     secondary_cleaner.state.floatbank5_b_level  \\\n",
       "date                                                              \n",
       "2016-09-01 00:59:59                                 -500.037437   \n",
       "2016-09-01 01:59:59                                 -500.162375   \n",
       "2016-09-01 02:59:59                                 -499.828510   \n",
       "2016-09-01 03:59:59                                 -499.963623   \n",
       "2016-09-01 04:59:59                                 -500.360026   \n",
       "\n",
       "                     secondary_cleaner.state.floatbank6_a_air  \\\n",
       "date                                                            \n",
       "2016-09-01 00:59:59                                 26.705889   \n",
       "2016-09-01 01:59:59                                 25.019940   \n",
       "2016-09-01 02:59:59                                 24.994862   \n",
       "2016-09-01 03:59:59                                 24.948919   \n",
       "2016-09-01 04:59:59                                 25.003331   \n",
       "\n",
       "                     secondary_cleaner.state.floatbank6_a_level  \n",
       "date                                                             \n",
       "2016-09-01 00:59:59                                 -499.709414  \n",
       "2016-09-01 01:59:59                                 -499.819438  \n",
       "2016-09-01 02:59:59                                 -500.622559  \n",
       "2016-09-01 03:59:59                                 -498.709987  \n",
       "2016-09-01 04:59:59                                 -500.856333  \n",
       "\n",
       "[5 rows x 52 columns]"
      ]
     },
     "metadata": {},
     "output_type": "display_data"
    },
    {
     "data": {
      "text/plain": [
       "'Общая таблица:'"
      ]
     },
     "metadata": {},
     "output_type": "display_data"
    },
    {
     "data": {
      "text/html": [
       "<div>\n",
       "<style scoped>\n",
       "    .dataframe tbody tr th:only-of-type {\n",
       "        vertical-align: middle;\n",
       "    }\n",
       "\n",
       "    .dataframe tbody tr th {\n",
       "        vertical-align: top;\n",
       "    }\n",
       "\n",
       "    .dataframe thead th {\n",
       "        text-align: right;\n",
       "    }\n",
       "</style>\n",
       "<table border=\"1\" class=\"dataframe\">\n",
       "  <thead>\n",
       "    <tr style=\"text-align: right;\">\n",
       "      <th></th>\n",
       "      <th>final.output.concentrate_ag</th>\n",
       "      <th>final.output.concentrate_pb</th>\n",
       "      <th>final.output.concentrate_sol</th>\n",
       "      <th>final.output.concentrate_au</th>\n",
       "      <th>final.output.recovery</th>\n",
       "      <th>final.output.tail_ag</th>\n",
       "      <th>final.output.tail_pb</th>\n",
       "      <th>final.output.tail_sol</th>\n",
       "      <th>final.output.tail_au</th>\n",
       "      <th>primary_cleaner.input.sulfate</th>\n",
       "      <th>...</th>\n",
       "      <th>secondary_cleaner.state.floatbank4_a_air</th>\n",
       "      <th>secondary_cleaner.state.floatbank4_a_level</th>\n",
       "      <th>secondary_cleaner.state.floatbank4_b_air</th>\n",
       "      <th>secondary_cleaner.state.floatbank4_b_level</th>\n",
       "      <th>secondary_cleaner.state.floatbank5_a_air</th>\n",
       "      <th>secondary_cleaner.state.floatbank5_a_level</th>\n",
       "      <th>secondary_cleaner.state.floatbank5_b_air</th>\n",
       "      <th>secondary_cleaner.state.floatbank5_b_level</th>\n",
       "      <th>secondary_cleaner.state.floatbank6_a_air</th>\n",
       "      <th>secondary_cleaner.state.floatbank6_a_level</th>\n",
       "    </tr>\n",
       "    <tr>\n",
       "      <th>date</th>\n",
       "      <th></th>\n",
       "      <th></th>\n",
       "      <th></th>\n",
       "      <th></th>\n",
       "      <th></th>\n",
       "      <th></th>\n",
       "      <th></th>\n",
       "      <th></th>\n",
       "      <th></th>\n",
       "      <th></th>\n",
       "      <th></th>\n",
       "      <th></th>\n",
       "      <th></th>\n",
       "      <th></th>\n",
       "      <th></th>\n",
       "      <th></th>\n",
       "      <th></th>\n",
       "      <th></th>\n",
       "      <th></th>\n",
       "      <th></th>\n",
       "      <th></th>\n",
       "    </tr>\n",
       "  </thead>\n",
       "  <tbody>\n",
       "    <tr>\n",
       "      <td>2016-01-15 00:00:00</td>\n",
       "      <td>6.055403</td>\n",
       "      <td>9.889648</td>\n",
       "      <td>5.507324</td>\n",
       "      <td>42.192020</td>\n",
       "      <td>70.541216</td>\n",
       "      <td>10.411962</td>\n",
       "      <td>0.895447</td>\n",
       "      <td>16.904297</td>\n",
       "      <td>2.143149</td>\n",
       "      <td>127.092003</td>\n",
       "      <td>...</td>\n",
       "      <td>14.016835</td>\n",
       "      <td>-502.488007</td>\n",
       "      <td>12.099931</td>\n",
       "      <td>-504.715942</td>\n",
       "      <td>9.925633</td>\n",
       "      <td>-498.310211</td>\n",
       "      <td>8.079666</td>\n",
       "      <td>-500.470978</td>\n",
       "      <td>14.151341</td>\n",
       "      <td>-605.841980</td>\n",
       "    </tr>\n",
       "    <tr>\n",
       "      <td>2016-01-15 01:00:00</td>\n",
       "      <td>6.029369</td>\n",
       "      <td>9.968944</td>\n",
       "      <td>5.257781</td>\n",
       "      <td>42.701629</td>\n",
       "      <td>69.266198</td>\n",
       "      <td>10.462676</td>\n",
       "      <td>0.927452</td>\n",
       "      <td>16.634514</td>\n",
       "      <td>2.224930</td>\n",
       "      <td>125.629232</td>\n",
       "      <td>...</td>\n",
       "      <td>13.992281</td>\n",
       "      <td>-505.503262</td>\n",
       "      <td>11.950531</td>\n",
       "      <td>-501.331529</td>\n",
       "      <td>10.039245</td>\n",
       "      <td>-500.169983</td>\n",
       "      <td>7.984757</td>\n",
       "      <td>-500.582168</td>\n",
       "      <td>13.998353</td>\n",
       "      <td>-599.787184</td>\n",
       "    </tr>\n",
       "    <tr>\n",
       "      <td>2016-01-15 02:00:00</td>\n",
       "      <td>6.055926</td>\n",
       "      <td>10.213995</td>\n",
       "      <td>5.383759</td>\n",
       "      <td>42.657501</td>\n",
       "      <td>68.116445</td>\n",
       "      <td>10.507046</td>\n",
       "      <td>0.953716</td>\n",
       "      <td>16.208849</td>\n",
       "      <td>2.257889</td>\n",
       "      <td>123.819808</td>\n",
       "      <td>...</td>\n",
       "      <td>14.015015</td>\n",
       "      <td>-502.520901</td>\n",
       "      <td>11.912783</td>\n",
       "      <td>-501.133383</td>\n",
       "      <td>10.070913</td>\n",
       "      <td>-500.129135</td>\n",
       "      <td>8.013877</td>\n",
       "      <td>-500.517572</td>\n",
       "      <td>14.028663</td>\n",
       "      <td>-601.427363</td>\n",
       "    </tr>\n",
       "    <tr>\n",
       "      <td>2016-01-15 03:00:00</td>\n",
       "      <td>6.047977</td>\n",
       "      <td>9.977019</td>\n",
       "      <td>4.858634</td>\n",
       "      <td>42.689819</td>\n",
       "      <td>68.347543</td>\n",
       "      <td>10.422762</td>\n",
       "      <td>0.883763</td>\n",
       "      <td>16.532835</td>\n",
       "      <td>2.146849</td>\n",
       "      <td>122.270188</td>\n",
       "      <td>...</td>\n",
       "      <td>14.036510</td>\n",
       "      <td>-500.857308</td>\n",
       "      <td>11.999550</td>\n",
       "      <td>-501.193686</td>\n",
       "      <td>9.970366</td>\n",
       "      <td>-499.201640</td>\n",
       "      <td>7.977324</td>\n",
       "      <td>-500.255908</td>\n",
       "      <td>14.005551</td>\n",
       "      <td>-599.996129</td>\n",
       "    </tr>\n",
       "    <tr>\n",
       "      <td>2016-01-15 04:00:00</td>\n",
       "      <td>6.148599</td>\n",
       "      <td>10.142511</td>\n",
       "      <td>4.939416</td>\n",
       "      <td>42.774141</td>\n",
       "      <td>66.927016</td>\n",
       "      <td>10.360302</td>\n",
       "      <td>0.792826</td>\n",
       "      <td>16.525686</td>\n",
       "      <td>2.055292</td>\n",
       "      <td>117.988169</td>\n",
       "      <td>...</td>\n",
       "      <td>14.027298</td>\n",
       "      <td>-499.838632</td>\n",
       "      <td>11.953070</td>\n",
       "      <td>-501.053894</td>\n",
       "      <td>9.925709</td>\n",
       "      <td>-501.686727</td>\n",
       "      <td>7.894242</td>\n",
       "      <td>-500.356035</td>\n",
       "      <td>13.996647</td>\n",
       "      <td>-601.496691</td>\n",
       "    </tr>\n",
       "  </tbody>\n",
       "</table>\n",
       "<p>5 rows × 86 columns</p>\n",
       "</div>"
      ],
      "text/plain": [
       "                     final.output.concentrate_ag  final.output.concentrate_pb  \\\n",
       "date                                                                            \n",
       "2016-01-15 00:00:00                     6.055403                     9.889648   \n",
       "2016-01-15 01:00:00                     6.029369                     9.968944   \n",
       "2016-01-15 02:00:00                     6.055926                    10.213995   \n",
       "2016-01-15 03:00:00                     6.047977                     9.977019   \n",
       "2016-01-15 04:00:00                     6.148599                    10.142511   \n",
       "\n",
       "                     final.output.concentrate_sol  \\\n",
       "date                                                \n",
       "2016-01-15 00:00:00                      5.507324   \n",
       "2016-01-15 01:00:00                      5.257781   \n",
       "2016-01-15 02:00:00                      5.383759   \n",
       "2016-01-15 03:00:00                      4.858634   \n",
       "2016-01-15 04:00:00                      4.939416   \n",
       "\n",
       "                     final.output.concentrate_au  final.output.recovery  \\\n",
       "date                                                                      \n",
       "2016-01-15 00:00:00                    42.192020              70.541216   \n",
       "2016-01-15 01:00:00                    42.701629              69.266198   \n",
       "2016-01-15 02:00:00                    42.657501              68.116445   \n",
       "2016-01-15 03:00:00                    42.689819              68.347543   \n",
       "2016-01-15 04:00:00                    42.774141              66.927016   \n",
       "\n",
       "                     final.output.tail_ag  final.output.tail_pb  \\\n",
       "date                                                              \n",
       "2016-01-15 00:00:00             10.411962              0.895447   \n",
       "2016-01-15 01:00:00             10.462676              0.927452   \n",
       "2016-01-15 02:00:00             10.507046              0.953716   \n",
       "2016-01-15 03:00:00             10.422762              0.883763   \n",
       "2016-01-15 04:00:00             10.360302              0.792826   \n",
       "\n",
       "                     final.output.tail_sol  final.output.tail_au  \\\n",
       "date                                                               \n",
       "2016-01-15 00:00:00              16.904297              2.143149   \n",
       "2016-01-15 01:00:00              16.634514              2.224930   \n",
       "2016-01-15 02:00:00              16.208849              2.257889   \n",
       "2016-01-15 03:00:00              16.532835              2.146849   \n",
       "2016-01-15 04:00:00              16.525686              2.055292   \n",
       "\n",
       "                     primary_cleaner.input.sulfate  ...  \\\n",
       "date                                                ...   \n",
       "2016-01-15 00:00:00                     127.092003  ...   \n",
       "2016-01-15 01:00:00                     125.629232  ...   \n",
       "2016-01-15 02:00:00                     123.819808  ...   \n",
       "2016-01-15 03:00:00                     122.270188  ...   \n",
       "2016-01-15 04:00:00                     117.988169  ...   \n",
       "\n",
       "                     secondary_cleaner.state.floatbank4_a_air  \\\n",
       "date                                                            \n",
       "2016-01-15 00:00:00                                 14.016835   \n",
       "2016-01-15 01:00:00                                 13.992281   \n",
       "2016-01-15 02:00:00                                 14.015015   \n",
       "2016-01-15 03:00:00                                 14.036510   \n",
       "2016-01-15 04:00:00                                 14.027298   \n",
       "\n",
       "                     secondary_cleaner.state.floatbank4_a_level  \\\n",
       "date                                                              \n",
       "2016-01-15 00:00:00                                 -502.488007   \n",
       "2016-01-15 01:00:00                                 -505.503262   \n",
       "2016-01-15 02:00:00                                 -502.520901   \n",
       "2016-01-15 03:00:00                                 -500.857308   \n",
       "2016-01-15 04:00:00                                 -499.838632   \n",
       "\n",
       "                     secondary_cleaner.state.floatbank4_b_air  \\\n",
       "date                                                            \n",
       "2016-01-15 00:00:00                                 12.099931   \n",
       "2016-01-15 01:00:00                                 11.950531   \n",
       "2016-01-15 02:00:00                                 11.912783   \n",
       "2016-01-15 03:00:00                                 11.999550   \n",
       "2016-01-15 04:00:00                                 11.953070   \n",
       "\n",
       "                     secondary_cleaner.state.floatbank4_b_level  \\\n",
       "date                                                              \n",
       "2016-01-15 00:00:00                                 -504.715942   \n",
       "2016-01-15 01:00:00                                 -501.331529   \n",
       "2016-01-15 02:00:00                                 -501.133383   \n",
       "2016-01-15 03:00:00                                 -501.193686   \n",
       "2016-01-15 04:00:00                                 -501.053894   \n",
       "\n",
       "                     secondary_cleaner.state.floatbank5_a_air  \\\n",
       "date                                                            \n",
       "2016-01-15 00:00:00                                  9.925633   \n",
       "2016-01-15 01:00:00                                 10.039245   \n",
       "2016-01-15 02:00:00                                 10.070913   \n",
       "2016-01-15 03:00:00                                  9.970366   \n",
       "2016-01-15 04:00:00                                  9.925709   \n",
       "\n",
       "                     secondary_cleaner.state.floatbank5_a_level  \\\n",
       "date                                                              \n",
       "2016-01-15 00:00:00                                 -498.310211   \n",
       "2016-01-15 01:00:00                                 -500.169983   \n",
       "2016-01-15 02:00:00                                 -500.129135   \n",
       "2016-01-15 03:00:00                                 -499.201640   \n",
       "2016-01-15 04:00:00                                 -501.686727   \n",
       "\n",
       "                     secondary_cleaner.state.floatbank5_b_air  \\\n",
       "date                                                            \n",
       "2016-01-15 00:00:00                                  8.079666   \n",
       "2016-01-15 01:00:00                                  7.984757   \n",
       "2016-01-15 02:00:00                                  8.013877   \n",
       "2016-01-15 03:00:00                                  7.977324   \n",
       "2016-01-15 04:00:00                                  7.894242   \n",
       "\n",
       "                     secondary_cleaner.state.floatbank5_b_level  \\\n",
       "date                                                              \n",
       "2016-01-15 00:00:00                                 -500.470978   \n",
       "2016-01-15 01:00:00                                 -500.582168   \n",
       "2016-01-15 02:00:00                                 -500.517572   \n",
       "2016-01-15 03:00:00                                 -500.255908   \n",
       "2016-01-15 04:00:00                                 -500.356035   \n",
       "\n",
       "                     secondary_cleaner.state.floatbank6_a_air  \\\n",
       "date                                                            \n",
       "2016-01-15 00:00:00                                 14.151341   \n",
       "2016-01-15 01:00:00                                 13.998353   \n",
       "2016-01-15 02:00:00                                 14.028663   \n",
       "2016-01-15 03:00:00                                 14.005551   \n",
       "2016-01-15 04:00:00                                 13.996647   \n",
       "\n",
       "                     secondary_cleaner.state.floatbank6_a_level  \n",
       "date                                                             \n",
       "2016-01-15 00:00:00                                 -605.841980  \n",
       "2016-01-15 01:00:00                                 -599.787184  \n",
       "2016-01-15 02:00:00                                 -601.427363  \n",
       "2016-01-15 03:00:00                                 -599.996129  \n",
       "2016-01-15 04:00:00                                 -601.496691  \n",
       "\n",
       "[5 rows x 86 columns]"
      ]
     },
     "metadata": {},
     "output_type": "display_data"
    }
   ],
   "source": [
    "display('Обучающая таблица:', df_train.head(),\n",
    "        'Тестовая таблица:', df_test.head(), \n",
    "        'Общая таблица:', df_full.head())"
   ]
  },
  {
   "cell_type": "markdown",
   "metadata": {},
   "source": [
    "Проверим количество явных дубликатов таблиц"
   ]
  },
  {
   "cell_type": "code",
   "execution_count": 8,
   "metadata": {},
   "outputs": [
    {
     "name": "stdout",
     "output_type": "stream",
     "text": [
      "Количество явных дубликатов в обучающей таблице: 0\n",
      "\n",
      "Количество явных дубликатов в тестовой таблице: 0\n",
      "\n",
      "Количество явных дубликатов в общей таблице: 0\n"
     ]
    }
   ],
   "source": [
    "print('''Количество явных дубликатов в обучающей таблице: {}\\n\n",
    "Количество явных дубликатов в тестовой таблице: {}\\n\n",
    "Количество явных дубликатов в общей таблице: {}'''.\n",
    "      format(df_train.duplicated().sum(), \n",
    "             df_test.duplicated().sum(), \n",
    "             df_full.duplicated().sum()))"
   ]
  },
  {
   "cell_type": "markdown",
   "metadata": {},
   "source": [
    "Проверим, какие есть сходства в столбцах тренировочных данных и тестовых для определния целевых признаков"
   ]
  },
  {
   "cell_type": "code",
   "execution_count": 9,
   "metadata": {},
   "outputs": [],
   "source": [
    "df_diff = []"
   ]
  },
  {
   "cell_type": "code",
   "execution_count": 10,
   "metadata": {
    "scrolled": true
   },
   "outputs": [
    {
     "name": "stderr",
     "output_type": "stream",
     "text": [
      "/opt/conda/lib/python3.7/site-packages/ipykernel_launcher.py:2: DeprecationWarning: elementwise comparison failed; this will raise an error in the future.\n",
      "  \n"
     ]
    }
   ],
   "source": [
    "for i in df_train.columns:\n",
    "    if df_train.columns.values != df_test.columns.values:\n",
    "        df_diff.append(i)"
   ]
  },
  {
   "cell_type": "code",
   "execution_count": 11,
   "metadata": {
    "scrolled": true
   },
   "outputs": [
    {
     "data": {
      "text/plain": [
       "['final.output.concentrate_ag',\n",
       " 'final.output.concentrate_pb',\n",
       " 'final.output.concentrate_sol',\n",
       " 'final.output.concentrate_au',\n",
       " 'final.output.recovery',\n",
       " 'final.output.tail_ag',\n",
       " 'final.output.tail_pb',\n",
       " 'final.output.tail_sol',\n",
       " 'final.output.tail_au',\n",
       " 'primary_cleaner.input.sulfate',\n",
       " 'primary_cleaner.input.depressant',\n",
       " 'primary_cleaner.input.feed_size',\n",
       " 'primary_cleaner.input.xanthate',\n",
       " 'primary_cleaner.output.concentrate_ag',\n",
       " 'primary_cleaner.output.concentrate_pb',\n",
       " 'primary_cleaner.output.concentrate_sol',\n",
       " 'primary_cleaner.output.concentrate_au',\n",
       " 'primary_cleaner.output.tail_ag',\n",
       " 'primary_cleaner.output.tail_pb',\n",
       " 'primary_cleaner.output.tail_sol',\n",
       " 'primary_cleaner.output.tail_au',\n",
       " 'primary_cleaner.state.floatbank8_a_air',\n",
       " 'primary_cleaner.state.floatbank8_a_level',\n",
       " 'primary_cleaner.state.floatbank8_b_air',\n",
       " 'primary_cleaner.state.floatbank8_b_level',\n",
       " 'primary_cleaner.state.floatbank8_c_air',\n",
       " 'primary_cleaner.state.floatbank8_c_level',\n",
       " 'primary_cleaner.state.floatbank8_d_air',\n",
       " 'primary_cleaner.state.floatbank8_d_level',\n",
       " 'rougher.calculation.sulfate_to_au_concentrate',\n",
       " 'rougher.calculation.floatbank10_sulfate_to_au_feed',\n",
       " 'rougher.calculation.floatbank11_sulfate_to_au_feed',\n",
       " 'rougher.calculation.au_pb_ratio',\n",
       " 'rougher.input.feed_ag',\n",
       " 'rougher.input.feed_pb',\n",
       " 'rougher.input.feed_rate',\n",
       " 'rougher.input.feed_size',\n",
       " 'rougher.input.feed_sol',\n",
       " 'rougher.input.feed_au',\n",
       " 'rougher.input.floatbank10_sulfate',\n",
       " 'rougher.input.floatbank10_xanthate',\n",
       " 'rougher.input.floatbank11_sulfate',\n",
       " 'rougher.input.floatbank11_xanthate',\n",
       " 'rougher.output.concentrate_ag',\n",
       " 'rougher.output.concentrate_pb',\n",
       " 'rougher.output.concentrate_sol',\n",
       " 'rougher.output.concentrate_au',\n",
       " 'rougher.output.recovery',\n",
       " 'rougher.output.tail_ag',\n",
       " 'rougher.output.tail_pb',\n",
       " 'rougher.output.tail_sol',\n",
       " 'rougher.output.tail_au',\n",
       " 'rougher.state.floatbank10_a_air',\n",
       " 'rougher.state.floatbank10_a_level',\n",
       " 'rougher.state.floatbank10_b_air',\n",
       " 'rougher.state.floatbank10_b_level',\n",
       " 'rougher.state.floatbank10_c_air',\n",
       " 'rougher.state.floatbank10_c_level',\n",
       " 'rougher.state.floatbank10_d_air',\n",
       " 'rougher.state.floatbank10_d_level',\n",
       " 'rougher.state.floatbank10_e_air',\n",
       " 'rougher.state.floatbank10_e_level',\n",
       " 'rougher.state.floatbank10_f_air',\n",
       " 'rougher.state.floatbank10_f_level',\n",
       " 'secondary_cleaner.output.tail_ag',\n",
       " 'secondary_cleaner.output.tail_pb',\n",
       " 'secondary_cleaner.output.tail_sol',\n",
       " 'secondary_cleaner.output.tail_au',\n",
       " 'secondary_cleaner.state.floatbank2_a_air',\n",
       " 'secondary_cleaner.state.floatbank2_a_level',\n",
       " 'secondary_cleaner.state.floatbank2_b_air',\n",
       " 'secondary_cleaner.state.floatbank2_b_level',\n",
       " 'secondary_cleaner.state.floatbank3_a_air',\n",
       " 'secondary_cleaner.state.floatbank3_a_level',\n",
       " 'secondary_cleaner.state.floatbank3_b_air',\n",
       " 'secondary_cleaner.state.floatbank3_b_level',\n",
       " 'secondary_cleaner.state.floatbank4_a_air',\n",
       " 'secondary_cleaner.state.floatbank4_a_level',\n",
       " 'secondary_cleaner.state.floatbank4_b_air',\n",
       " 'secondary_cleaner.state.floatbank4_b_level',\n",
       " 'secondary_cleaner.state.floatbank5_a_air',\n",
       " 'secondary_cleaner.state.floatbank5_a_level',\n",
       " 'secondary_cleaner.state.floatbank5_b_air',\n",
       " 'secondary_cleaner.state.floatbank5_b_level',\n",
       " 'secondary_cleaner.state.floatbank6_a_air',\n",
       " 'secondary_cleaner.state.floatbank6_a_level']"
      ]
     },
     "execution_count": 11,
     "metadata": {},
     "output_type": "execute_result"
    }
   ],
   "source": [
    "df_diff"
   ]
  },
  {
   "cell_type": "markdown",
   "metadata": {},
   "source": [
    "Получили список, в которых имеются целевые признаки"
   ]
  },
  {
   "cell_type": "markdown",
   "metadata": {},
   "source": [
    "Необходимо избавиться от пропусков в нужных нам столбцах. Заполним их предыдущими значениями (согласно условию в описании задачи). Сразу же преобразуем и тестовую выборку."
   ]
  },
  {
   "cell_type": "code",
   "execution_count": 12,
   "metadata": {},
   "outputs": [],
   "source": [
    "df_train = df_train.ffill() \n",
    "df_test = df_test.ffill() "
   ]
  },
  {
   "cell_type": "markdown",
   "metadata": {},
   "source": [
    "Создадим формулу для подсчета эффективности (`recovery`)"
   ]
  },
  {
   "cell_type": "code",
   "execution_count": 13,
   "metadata": {},
   "outputs": [],
   "source": [
    "def recovery(C, F, T):\n",
    "    # отдельно разделим частное и знаменатель, \n",
    "    # чтобы легче было в дальнейшем управлять ими\n",
    "    numerator = (C * (F - T))\n",
    "    denominator = (F * (C - T))\n",
    "    \n",
    "    # итоговое вычисление\n",
    "    recovery = numerator / denominator * 100\n",
    "    \n",
    "    # избавимся от очень больших и очень маленьких значений, \n",
    "    # заполнив их NaN-ми\n",
    "    recovery[recovery < 0] = np.nan\n",
    "    recovery[recovery > 100] = np.nan\n",
    "    \n",
    "    return recovery"
   ]
  },
  {
   "cell_type": "markdown",
   "metadata": {},
   "source": [
    "Вычислим `recovery` из сырых значений, проверим сколько из них совпало с предоставленными"
   ]
  },
  {
   "cell_type": "code",
   "execution_count": 14,
   "metadata": {
    "scrolled": true
   },
   "outputs": [
    {
     "data": {
      "text/plain": [
       "(14149, 0)"
      ]
     },
     "execution_count": 14,
     "metadata": {},
     "output_type": "execute_result"
    }
   ],
   "source": [
    "t, f, c = df_train['rougher.output.tail_au'], df_train['rougher.input.feed_au'], df_train['rougher.output.concentrate_au']\n",
    "rec = recovery(c, f, t)\n",
    "right_recovery_sum = np.isclose(df_train['rougher.output.recovery'], rec).sum()\n",
    "right_recovery_sum, df_train.shape[0] - right_recovery_sum"
   ]
  },
  {
   "cell_type": "markdown",
   "metadata": {},
   "source": [
    "Проверим распределение значений и сравним с результутами подсчитанной эффективности"
   ]
  },
  {
   "cell_type": "code",
   "execution_count": 15,
   "metadata": {
    "scrolled": true
   },
   "outputs": [
    {
     "data": {
      "text/plain": [
       "count    14149.000000\n",
       "mean        82.704502\n",
       "std         14.479156\n",
       "min         -0.000000\n",
       "25%         79.993067\n",
       "50%         85.299462\n",
       "75%         90.165021\n",
       "max        100.000000\n",
       "dtype: float64"
      ]
     },
     "execution_count": 15,
     "metadata": {},
     "output_type": "execute_result"
    }
   ],
   "source": [
    "rec.describe()"
   ]
  },
  {
   "cell_type": "markdown",
   "metadata": {},
   "source": [
    "Совпало 14321 рассчетных с иходными данными"
   ]
  },
  {
   "cell_type": "markdown",
   "metadata": {},
   "source": [
    "Вычислим значение метрики MAE"
   ]
  },
  {
   "cell_type": "code",
   "execution_count": 16,
   "metadata": {
    "scrolled": true
   },
   "outputs": [
    {
     "data": {
      "text/plain": [
       "9.682896147825551e-15"
      ]
     },
     "execution_count": 16,
     "metadata": {},
     "output_type": "execute_result"
    }
   ],
   "source": [
    "mean_absolute_error(df_train['rougher.output.recovery'].ffill(),\n",
    "                    rec.ffill())"
   ]
  },
  {
   "cell_type": "markdown",
   "metadata": {},
   "source": [
    "Значение MAE достаточно низкое, соответственно значение `recovery` имеет корректное значение"
   ]
  },
  {
   "cell_type": "markdown",
   "metadata": {},
   "source": [
    "Подготовим данные для машииного обучения"
   ]
  },
  {
   "cell_type": "code",
   "execution_count": 17,
   "metadata": {},
   "outputs": [],
   "source": [
    "# используем только столбцы тестовой выборки\n",
    "features_train = df_train[df_test.columns]\n",
    "\n",
    "# отфильтруем нужные нам признаки для интересующего нас металла\n",
    "# для этапа флотации\n",
    "rougher_cols = features_train.columns.str.contains('rougher')\n",
    "features_train_rougher = features_train.loc[:, rougher_cols].interpolate(method='time')\n",
    "features_test_rougher = df_test.loc[:, rougher_cols].interpolate(method='time')\n",
    "target_train_rougher = df_train[['rougher.output.recovery', 'final.output.recovery']]\n",
    "\n",
    "target_test_rougher = (df_full[['rougher.output.recovery', 'final.output.recovery']].\n",
    "                       loc[df_test.index].reset_index(drop=True))\n",
    "\n",
    "# и для этапа очистки\n",
    "final_cols = features_train.columns.str.contains('cleaner')\n",
    "features_train_cleaner = features_train.loc[:, final_cols].interpolate(method='time')\n",
    "features_test_cleaner = df_test.loc[:, final_cols].interpolate(method='time')\n",
    "target_train_cleaner = df_train[['rougher.output.recovery', 'final.output.recovery']]\n"
   ]
  },
  {
   "cell_type": "markdown",
   "metadata": {},
   "source": [
    "Таким образом, данные для обучения модели подготовлены"
   ]
  },
  {
   "cell_type": "code",
   "execution_count": 18,
   "metadata": {},
   "outputs": [
    {
     "data": {
      "text/plain": [
       "(14149, 22)"
      ]
     },
     "execution_count": 18,
     "metadata": {},
     "output_type": "execute_result"
    }
   ],
   "source": [
    "features_train_rougher.shape"
   ]
  },
  {
   "cell_type": "code",
   "execution_count": 19,
   "metadata": {
    "scrolled": true
   },
   "outputs": [
    {
     "data": {
      "text/plain": [
       "((14149, 22), (5290, 22))"
      ]
     },
     "execution_count": 19,
     "metadata": {},
     "output_type": "execute_result"
    }
   ],
   "source": [
    "features_train_rougher.shape, features_test_rougher.shape"
   ]
  },
  {
   "cell_type": "code",
   "execution_count": 20,
   "metadata": {},
   "outputs": [],
   "source": [
    "targets_1 = ['rougher.output.recovery', 'final.output.recovery']"
   ]
  },
  {
   "cell_type": "markdown",
   "metadata": {},
   "source": [
    "## Анализ данных"
   ]
  },
  {
   "cell_type": "markdown",
   "metadata": {},
   "source": [
    "Построим распределения концентраций металов на выходе каждого процесса и в хвостах"
   ]
  },
  {
   "cell_type": "code",
   "execution_count": 21,
   "metadata": {},
   "outputs": [
    {
     "data": {
      "image/png": "[encoded data removed]",
      "text/plain": [
       "<Figure size 1440x432 with 4 Axes>"
      ]
     },
     "metadata": {
      "needs_background": "light"
     },
     "output_type": "display_data"
    },
    {
     "data": {
      "image/png": "[encoded data removed]",
      "text/plain": [
       "<Figure size 1440x432 with 4 Axes>"
      ]
     },
     "metadata": {
      "needs_background": "light"
     },
     "output_type": "display_data"
    }
   ],
   "source": [
    "# создадим список концентрации металлов на выходе процессов\n",
    "process = ['rougher.input.feed',\n",
    "           'rougher.output.concentrate',\n",
    "           'primary_cleaner.output.concentrate',\n",
    "           'final.output.concentrate']\n",
    "\n",
    "\n",
    "# создадим список концентрации металлов в хвостах процессов\n",
    "process_tail = ['rougher.input.feed',\n",
    "                'rougher.output.tail',\n",
    "                'primary_cleaner.output.tail',\n",
    "                'final.output.tail']\n",
    "\n",
    "# создадим список интересующих нас металлов\n",
    "metals = ['au', 'ag', 'pb']\n",
    "\n",
    "# приступим к созданию графиков\n",
    "fig, axs = plt.subplots(1, len(process), figsize=(20, 6), constrained_layout=True)\n",
    "fig.suptitle('Концентрация металлов на каждом шаге', fontsize=24)\n",
    "\n",
    "# создадим цикл перебора значений (используем параллельный перебор значений с помощью функции zip)\n",
    "for stage, ax in zip(process, axs):\n",
    "    \n",
    "    # название каждого шага\n",
    "    ax.set_title(stage)\n",
    "    \n",
    "    # цикл перебора для каждого металла\n",
    "    for metal in metals: \n",
    "        # перебор знаений в соответствии содержанием строк каждого металла на каждом шаге\n",
    "        cols = df_train.columns.str.contains(stage + '_' + metal)\n",
    "        sns_ax = sns.distplot(df_train.loc[:, cols].dropna(), label=metal, ax=ax)    \n",
    "\n",
    "plt.legend()\n",
    "\n",
    "fig, axs = plt.subplots(1, 4, figsize=(20, 6), constrained_layout=True)\n",
    "fig.suptitle('Концентрация металлов в хвостах на каждом шаге', fontsize=24)\n",
    "\n",
    "for stage, ax in zip(process_tail, axs):\n",
    "    \n",
    "    # название каждого шага\n",
    "    ax.set_title(stage)\n",
    "    \n",
    "    for metal in metals: \n",
    "        # перебор знаений в соответствии содержанием строк каждого металла на каждом шаге\n",
    "        cols = df_train.columns.str.contains(stage + '_' + metal)\n",
    "        sns_ax = sns.distplot(df_train.loc[:, cols].dropna(), label=metal, ax=ax)   \n",
    "\n",
    "plt.legend()\n",
    "plt.show()"
   ]
  },
  {
   "cell_type": "markdown",
   "metadata": {},
   "source": [
    "Можно отметить, что в процессе очистики концентрация золота возрастает.\n",
    "Также можно видеть, что имеется большое количество нулевых значений, видимо это технологический недочет, либо ошибка в исходных данных, что требует уточенния у производителя об их природе.\n",
    "Выявляется различная кноцентрация металлов в хвостовых отвалах на различных этапах."
   ]
  },
  {
   "cell_type": "markdown",
   "metadata": {},
   "source": [
    "Проверим размер гранул сырья в обучающих данных и в тестовой выборке"
   ]
  },
  {
   "cell_type": "code",
   "execution_count": 22,
   "metadata": {
    "scrolled": true
   },
   "outputs": [
    {
     "data": {
      "text/plain": [
       "<matplotlib.legend.Legend at 0x7f10c2593650>"
      ]
     },
     "execution_count": 22,
     "metadata": {},
     "output_type": "execute_result"
    },
    {
     "data": {
      "image/png": "[encoded data removed]",
      "text/plain": [
       "<Figure size 432x288 with 1 Axes>"
      ]
     },
     "metadata": {
      "needs_background": "light"
     },
     "output_type": "display_data"
    }
   ],
   "source": [
    "sns.distplot(df_train['rougher.input.feed_size'].dropna(), label='Обучающие данные')\n",
    "sns.distplot(df_test['rougher.input.feed_size'].dropna(), label='Тестовые данные')\n",
    "plt.legend()"
   ]
  },
  {
   "cell_type": "markdown",
   "metadata": {},
   "source": [
    "Распределения весьма схожи"
   ]
  },
  {
   "cell_type": "markdown",
   "metadata": {},
   "source": [
    "Таким образом, данные достаточно подготовлены для этапа создания модели."
   ]
  },
  {
   "attachments": {
    "image.png": {
     "image/png": "[encoded data removed]"
    }
   },
   "cell_type": "markdown",
   "metadata": {},
   "source": [
    "![image.png](attachment:image.png)"
   ]
  },
  {
   "cell_type": "code",
   "execution_count": 23,
   "metadata": {
    "scrolled": true
   },
   "outputs": [
    {
     "data": {
      "image/png": "[encoded data removed]",
      "text/plain": [
       "<Figure size 1440x432 with 4 Axes>"
      ]
     },
     "metadata": {
      "needs_background": "light"
     },
     "output_type": "display_data"
    }
   ],
   "source": [
    "fig, axs = plt.subplots(1, len(process), figsize=(20, 6), constrained_layout=True)\n",
    "fig.suptitle('Суммарная концентарция металлов на каждом шаге', fontsize=24)\n",
    "\n",
    "for stage, ax in zip(process_tail, axs):\n",
    "    ax.set_title(stage)\n",
    "    sum_train = (df_train[stage + '_ag'] + \n",
    "                 df_train[stage+ '_au'] + \n",
    "                 df_train[stage+ '_pb'])\n",
    "    sns.distplot(sum_train.dropna(), label='Обучающая выборка', ax=ax) \n",
    "    try:\n",
    "        sum_test = (df_test[stage+ '_ag'] + \n",
    "                    df_test[stage+ '_au'] + \n",
    "                    df_test[stage+ '_pb'])\n",
    "        sns.distplot(sum_test.dropna(), label='Тестовая выборка', ax=ax) \n",
    "    except KeyError:\n",
    "        pass\n",
    "    \n",
    "plt.legend()\n",
    "plt.show()"
   ]
  },
  {
   "cell_type": "markdown",
   "metadata": {},
   "source": [
    "Действительно, по суммарным концентрациям имеются нули на входе, после очистки (в обучающей выборке) в хвостах"
   ]
  },
  {
   "cell_type": "markdown",
   "metadata": {},
   "source": [
    "## Обучение модели"
   ]
  },
  {
   "cell_type": "markdown",
   "metadata": {},
   "source": [
    "Приступим к получению метрики sMAPE\n",
    "\n"
   ]
  },
  {
   "cell_type": "code",
   "execution_count": 25,
   "metadata": {},
   "outputs": [],
   "source": [
    "def sMAPE(target_true, target_pred, multioutput='uniform_average'):\n",
    "    # воспользуемся multioutput - рассчетом метрики для двух и более столбцов\n",
    "    \n",
    "    \n",
    "    numerator = np.abs(target_true - target_pred)\n",
    "    denominator = (np.abs(target_true) + np.abs(target_pred)) / 2\n",
    "    \n",
    "    output_errors = np.divide(numerator, denominator)\n",
    "    \n",
    "    # исключим 0 в знаменателе\n",
    "    nonzero_denominator = denominator != 0   \n",
    "    output_errors[~nonzero_denominator] = 0\n",
    "    \n",
    "    \n",
    "    output_scores = np.average(output_errors, axis=0)\n",
    "    \n",
    "    if multioutput == 'raw_values':\n",
    "        return output_scores\n",
    "    elif multioutput == 'uniform_average':\n",
    "        pass\n",
    "    return np.average(output_scores)\n",
    "\n",
    "# воспользуемся функцией make_scorer для кросс-валидации из библиотеки sklearn\n",
    "# с параметром выбора меньшего значения\n",
    "# и сохраним ее в переменную\n",
    "smape = make_scorer(sMAPE, greater_is_better=False)"
   ]
  },
  {
   "cell_type": "markdown",
   "metadata": {},
   "source": [
    "С помощью кросс-валидизации обучим несколько моделей обучения и выберем лучшую модель"
   ]
  },
  {
   "cell_type": "code",
   "execution_count": 42,
   "metadata": {},
   "outputs": [
    {
     "name": "stderr",
     "output_type": "stream",
     "text": [
      "/opt/conda/lib/python3.7/site-packages/ipykernel_launcher.py:8: RuntimeWarning: invalid value encountered in true_divide\n",
      "  \n",
      "/opt/conda/lib/python3.7/site-packages/ipykernel_launcher.py:8: RuntimeWarning: invalid value encountered in true_divide\n",
      "  \n",
      "/opt/conda/lib/python3.7/site-packages/ipykernel_launcher.py:8: RuntimeWarning: invalid value encountered in true_divide\n",
      "  \n",
      "/opt/conda/lib/python3.7/site-packages/ipykernel_launcher.py:8: RuntimeWarning: invalid value encountered in true_divide\n",
      "  \n",
      "/opt/conda/lib/python3.7/site-packages/ipykernel_launcher.py:8: RuntimeWarning: invalid value encountered in true_divide\n",
      "  \n",
      "/opt/conda/lib/python3.7/site-packages/sklearn/ensemble/forest.py:245: FutureWarning: The default value of n_estimators will change from 10 in version 0.20 to 100 in 0.22.\n",
      "  \"10 in version 0.20 to 100 in 0.22.\", FutureWarning)\n",
      "/opt/conda/lib/python3.7/site-packages/sklearn/ensemble/forest.py:245: FutureWarning: The default value of n_estimators will change from 10 in version 0.20 to 100 in 0.22.\n",
      "  \"10 in version 0.20 to 100 in 0.22.\", FutureWarning)\n",
      "/opt/conda/lib/python3.7/site-packages/sklearn/ensemble/forest.py:245: FutureWarning: The default value of n_estimators will change from 10 in version 0.20 to 100 in 0.22.\n",
      "  \"10 in version 0.20 to 100 in 0.22.\", FutureWarning)\n",
      "/opt/conda/lib/python3.7/site-packages/sklearn/ensemble/forest.py:245: FutureWarning: The default value of n_estimators will change from 10 in version 0.20 to 100 in 0.22.\n",
      "  \"10 in version 0.20 to 100 in 0.22.\", FutureWarning)\n",
      "/opt/conda/lib/python3.7/site-packages/sklearn/ensemble/forest.py:245: FutureWarning: The default value of n_estimators will change from 10 in version 0.20 to 100 in 0.22.\n",
      "  \"10 in version 0.20 to 100 in 0.22.\", FutureWarning)\n",
      "/opt/conda/lib/python3.7/site-packages/sklearn/ensemble/forest.py:245: FutureWarning: The default value of n_estimators will change from 10 in version 0.20 to 100 in 0.22.\n",
      "  \"10 in version 0.20 to 100 in 0.22.\", FutureWarning)\n",
      "/opt/conda/lib/python3.7/site-packages/sklearn/ensemble/forest.py:245: FutureWarning: The default value of n_estimators will change from 10 in version 0.20 to 100 in 0.22.\n",
      "  \"10 in version 0.20 to 100 in 0.22.\", FutureWarning)\n",
      "/opt/conda/lib/python3.7/site-packages/sklearn/ensemble/forest.py:245: FutureWarning: The default value of n_estimators will change from 10 in version 0.20 to 100 in 0.22.\n",
      "  \"10 in version 0.20 to 100 in 0.22.\", FutureWarning)\n",
      "/opt/conda/lib/python3.7/site-packages/sklearn/ensemble/forest.py:245: FutureWarning: The default value of n_estimators will change from 10 in version 0.20 to 100 in 0.22.\n",
      "  \"10 in version 0.20 to 100 in 0.22.\", FutureWarning)\n",
      "/opt/conda/lib/python3.7/site-packages/sklearn/ensemble/forest.py:245: FutureWarning: The default value of n_estimators will change from 10 in version 0.20 to 100 in 0.22.\n",
      "  \"10 in version 0.20 to 100 in 0.22.\", FutureWarning)\n"
     ]
    },
    {
     "data": {
      "text/html": [
       "<div>\n",
       "<style scoped>\n",
       "    .dataframe tbody tr th:only-of-type {\n",
       "        vertical-align: middle;\n",
       "    }\n",
       "\n",
       "    .dataframe tbody tr th {\n",
       "        vertical-align: top;\n",
       "    }\n",
       "\n",
       "    .dataframe thead th {\n",
       "        text-align: right;\n",
       "    }\n",
       "</style>\n",
       "<table border=\"1\" class=\"dataframe\">\n",
       "  <thead>\n",
       "    <tr style=\"text-align: right;\">\n",
       "      <th></th>\n",
       "      <th>model name</th>\n",
       "      <th>cross_val_score_rougher</th>\n",
       "      <th>cross_val_score_final</th>\n",
       "    </tr>\n",
       "  </thead>\n",
       "  <tbody>\n",
       "    <tr>\n",
       "      <td>0</td>\n",
       "      <td>DecisionTreeRegressor</td>\n",
       "      <td>-0.209378</td>\n",
       "      <td>-0.212096</td>\n",
       "    </tr>\n",
       "    <tr>\n",
       "      <td>1</td>\n",
       "      <td>RandomForestRegressor</td>\n",
       "      <td>-0.137516</td>\n",
       "      <td>-0.138648</td>\n",
       "    </tr>\n",
       "    <tr>\n",
       "      <td>2</td>\n",
       "      <td>LinearRegression</td>\n",
       "      <td>-0.116142</td>\n",
       "      <td>-0.109685</td>\n",
       "    </tr>\n",
       "  </tbody>\n",
       "</table>\n",
       "</div>"
      ],
      "text/plain": [
       "              model name  cross_val_score_rougher  cross_val_score_final\n",
       "0  DecisionTreeRegressor                -0.209378              -0.212096\n",
       "1  RandomForestRegressor                -0.137516              -0.138648\n",
       "2       LinearRegression                -0.116142              -0.109685"
      ]
     },
     "execution_count": 42,
     "metadata": {},
     "output_type": "execute_result"
    }
   ],
   "source": [
    "random_state = 123\n",
    "cv = 5\n",
    "models = [DecisionTreeRegressor(random_state=RS), \n",
    "          RandomForestRegressor(random_state=RS), \n",
    "          LinearRegression()]\n",
    "\n",
    "\n",
    "results_cross_val = []\n",
    "\n",
    "for model in models: \n",
    "    \n",
    "    scorer = make_scorer(sMAPE, greater_is_better=False) \n",
    "    \n",
    "    cross_val_score_rougher = cross_val_score(model, \n",
    "                                              features_train_rougher, \n",
    "                                              target_train_rougher, \n",
    "                                              cv=cv, scoring=scorer).mean()\n",
    "    cross_val_score_final = cross_val_score(model, \n",
    "                                            features_train_cleaner, \n",
    "                                            target_train_cleaner, \n",
    "                                            cv=cv, scoring=scorer).mean()\n",
    "\n",
    "    results_cross_val.append({'model name': model.__class__.__name__, \n",
    "                              'cross_val_score_rougher': cross_val_score_rougher, \n",
    "                              'cross_val_score_final': cross_val_score_final}) \n",
    "              \n",
    "pd.DataFrame(results_cross_val)"
   ]
  },
  {
   "cell_type": "markdown",
   "metadata": {},
   "source": [
    "# Общий вывод"
   ]
  },
  {
   "cell_type": "markdown",
   "metadata": {},
   "source": [
    "В результате работы с помощью кросс-валидизации, отработанной на трех моделях (случайного леса, дерева решений, линейной регрессии), было установлено итоговое значение метрики sMAPE на уровне 0.15."
   ]
  }
 ],
 "metadata": {
  "ExecuteTimeLog": [
   {
    "duration": 2485,
    "start_time": "2022-02-23T20:40:24.635Z"
   },
   {
    "duration": 927,
    "start_time": "2022-02-23T20:40:30.066Z"
   },
   {
    "duration": 2879,
    "start_time": "2022-02-23T20:40:30.995Z"
   },
   {
    "duration": 8,
    "start_time": "2022-02-23T20:42:09.882Z"
   },
   {
    "duration": 36632,
    "start_time": "2022-02-23T20:42:24.251Z"
   },
   {
    "duration": 6,
    "start_time": "2022-02-23T20:44:59.876Z"
   },
   {
    "duration": 16,
    "start_time": "2022-02-23T20:45:47.937Z"
   },
   {
    "duration": 300,
    "start_time": "2022-02-23T20:46:17.796Z"
   },
   {
    "duration": 4,
    "start_time": "2022-02-23T20:46:21.057Z"
   },
   {
    "duration": 33,
    "start_time": "2022-02-23T20:46:35.484Z"
   },
   {
    "duration": 25,
    "start_time": "2022-02-23T20:46:44.069Z"
   },
   {
    "duration": 11,
    "start_time": "2022-02-23T20:47:29.169Z"
   },
   {
    "duration": 407,
    "start_time": "2022-02-23T20:47:55.364Z"
   },
   {
    "duration": 300,
    "start_time": "2022-02-23T20:47:59.319Z"
   },
   {
    "duration": 271,
    "start_time": "2022-02-23T20:48:13.971Z"
   },
   {
    "duration": 78,
    "start_time": "2022-02-23T20:48:22.598Z"
   },
   {
    "duration": 54172,
    "start_time": "2022-02-23T20:49:50.752Z"
   },
   {
    "duration": 755,
    "start_time": "2022-02-23T20:50:56.876Z"
   },
   {
    "duration": 66461,
    "start_time": "2022-02-23T20:52:10.865Z"
   },
   {
    "duration": 4,
    "start_time": "2022-02-23T20:53:30.182Z"
   },
   {
    "duration": 287,
    "start_time": "2022-02-23T20:53:40.933Z"
   },
   {
    "duration": 274,
    "start_time": "2022-02-23T20:53:45.186Z"
   },
   {
    "duration": 4,
    "start_time": "2022-02-23T20:53:55.678Z"
   },
   {
    "duration": 270,
    "start_time": "2022-02-23T20:54:17.197Z"
   },
   {
    "duration": 903,
    "start_time": "2022-02-23T20:54:33.007Z"
   },
   {
    "duration": 33,
    "start_time": "2022-02-23T20:55:17.088Z"
   },
   {
    "duration": 287,
    "start_time": "2022-02-23T20:55:22.920Z"
   },
   {
    "duration": 714,
    "start_time": "2022-02-23T20:56:12.015Z"
   },
   {
    "duration": 252,
    "start_time": "2022-02-23T20:56:32.202Z"
   },
   {
    "duration": 260,
    "start_time": "2022-02-23T21:01:48.185Z"
   },
   {
    "duration": 318,
    "start_time": "2022-02-23T21:02:00.855Z"
   },
   {
    "duration": 256,
    "start_time": "2022-02-23T21:02:08.670Z"
   },
   {
    "duration": 6,
    "start_time": "2022-02-26T15:38:43.105Z"
   },
   {
    "duration": 104422,
    "start_time": "2022-02-26T15:38:43.113Z"
   },
   {
    "duration": 859,
    "start_time": "2022-02-26T15:40:27.537Z"
   },
   {
    "duration": -36,
    "start_time": "2022-02-26T15:40:28.438Z"
   },
   {
    "duration": -38,
    "start_time": "2022-02-26T15:40:28.441Z"
   },
   {
    "duration": -44,
    "start_time": "2022-02-26T15:40:28.448Z"
   },
   {
    "duration": -46,
    "start_time": "2022-02-26T15:40:28.451Z"
   },
   {
    "duration": -47,
    "start_time": "2022-02-26T15:40:28.453Z"
   },
   {
    "duration": -49,
    "start_time": "2022-02-26T15:40:28.456Z"
   },
   {
    "duration": -48,
    "start_time": "2022-02-26T15:40:28.457Z"
   },
   {
    "duration": -49,
    "start_time": "2022-02-26T15:40:28.459Z"
   },
   {
    "duration": 5,
    "start_time": "2022-02-26T15:52:55.202Z"
   },
   {
    "duration": 20,
    "start_time": "2022-02-26T15:52:55.209Z"
   },
   {
    "duration": 577,
    "start_time": "2022-02-26T15:52:55.231Z"
   },
   {
    "duration": 7070,
    "start_time": "2022-02-26T15:52:55.810Z"
   },
   {
    "duration": 891,
    "start_time": "2022-02-26T15:53:02.882Z"
   },
   {
    "duration": 10,
    "start_time": "2022-02-26T15:53:03.775Z"
   },
   {
    "duration": 20,
    "start_time": "2022-02-26T15:53:03.787Z"
   },
   {
    "duration": 112,
    "start_time": "2022-02-26T15:53:03.810Z"
   },
   {
    "duration": 3235,
    "start_time": "2022-02-26T15:53:03.924Z"
   },
   {
    "duration": 269,
    "start_time": "2022-02-26T15:53:07.162Z"
   },
   {
    "duration": -56,
    "start_time": "2022-02-26T15:53:07.489Z"
   },
   {
    "duration": 5,
    "start_time": "2022-02-26T15:54:35.441Z"
   },
   {
    "duration": 7,
    "start_time": "2022-02-26T15:54:35.448Z"
   },
   {
    "duration": 575,
    "start_time": "2022-02-26T15:54:35.457Z"
   },
   {
    "duration": 703,
    "start_time": "2022-02-26T15:54:36.034Z"
   },
   {
    "duration": 15,
    "start_time": "2022-02-26T15:54:36.739Z"
   },
   {
    "duration": 10,
    "start_time": "2022-02-26T15:54:36.755Z"
   },
   {
    "duration": 20,
    "start_time": "2022-02-26T15:54:36.766Z"
   },
   {
    "duration": 10,
    "start_time": "2022-02-26T15:54:36.787Z"
   },
   {
    "duration": 93,
    "start_time": "2022-02-26T15:54:36.799Z"
   },
   {
    "duration": 322,
    "start_time": "2022-02-26T15:54:36.893Z"
   },
   {
    "duration": -66,
    "start_time": "2022-02-26T15:54:37.283Z"
   },
   {
    "duration": 6,
    "start_time": "2022-02-26T19:20:08.280Z"
   },
   {
    "duration": 6,
    "start_time": "2022-02-26T19:20:08.289Z"
   },
   {
    "duration": 561,
    "start_time": "2022-02-26T19:20:08.297Z"
   },
   {
    "duration": 736,
    "start_time": "2022-02-26T19:20:08.860Z"
   },
   {
    "duration": 16,
    "start_time": "2022-02-26T19:20:09.598Z"
   },
   {
    "duration": 9,
    "start_time": "2022-02-26T19:20:09.616Z"
   },
   {
    "duration": 38,
    "start_time": "2022-02-26T19:20:09.626Z"
   },
   {
    "duration": 11,
    "start_time": "2022-02-26T19:20:09.666Z"
   },
   {
    "duration": 97,
    "start_time": "2022-02-26T19:20:09.679Z"
   },
   {
    "duration": 234,
    "start_time": "2022-02-26T19:20:09.778Z"
   },
   {
    "duration": 251,
    "start_time": "2022-02-27T16:14:26.987Z"
   },
   {
    "duration": 620,
    "start_time": "2022-02-27T16:14:31.264Z"
   },
   {
    "duration": 1049,
    "start_time": "2022-02-27T16:14:32.553Z"
   },
   {
    "duration": 19,
    "start_time": "2022-02-27T16:21:54.688Z"
   },
   {
    "duration": 10,
    "start_time": "2022-02-27T18:49:34.068Z"
   },
   {
    "duration": 18,
    "start_time": "2022-02-27T18:49:52.123Z"
   },
   {
    "duration": 13,
    "start_time": "2022-02-27T18:49:58.506Z"
   },
   {
    "duration": 274,
    "start_time": "2022-02-27T18:51:09.101Z"
   },
   {
    "duration": 262,
    "start_time": "2022-02-27T18:51:22.025Z"
   },
   {
    "duration": 17522,
    "start_time": "2022-02-27T18:54:49.353Z"
   },
   {
    "duration": 8074,
    "start_time": "2022-02-27T18:55:27.721Z"
   },
   {
    "duration": 211,
    "start_time": "2022-02-27T18:56:17.138Z"
   },
   {
    "duration": 17747,
    "start_time": "2022-02-27T18:56:51.098Z"
   },
   {
    "duration": 229,
    "start_time": "2022-02-28T13:20:05.968Z"
   },
   {
    "duration": 534,
    "start_time": "2022-02-28T13:20:12.881Z"
   },
   {
    "duration": 1027,
    "start_time": "2022-02-28T13:20:13.417Z"
   },
   {
    "duration": 23,
    "start_time": "2022-02-28T13:20:14.447Z"
   },
   {
    "duration": 20,
    "start_time": "2022-02-28T13:20:14.473Z"
   },
   {
    "duration": 24967,
    "start_time": "2022-02-28T13:20:14.495Z"
   },
   {
    "duration": 22,
    "start_time": "2022-02-28T13:20:39.464Z"
   },
   {
    "duration": 332,
    "start_time": "2022-02-28T13:20:39.488Z"
   },
   {
    "duration": 259,
    "start_time": "2022-02-28T13:20:39.823Z"
   },
   {
    "duration": 191,
    "start_time": "2022-02-28T13:21:00.277Z"
   },
   {
    "duration": 248,
    "start_time": "2022-02-28T13:21:27.433Z"
   },
   {
    "duration": 263,
    "start_time": "2022-02-28T13:22:23.481Z"
   },
   {
    "duration": 462,
    "start_time": "2022-02-28T13:22:28.383Z"
   },
   {
    "duration": 1175,
    "start_time": "2022-02-28T13:22:32.104Z"
   },
   {
    "duration": 217,
    "start_time": "2022-03-02T19:44:19.372Z"
   },
   {
    "duration": 1054,
    "start_time": "2022-03-02T19:48:14.505Z"
   },
   {
    "duration": 800,
    "start_time": "2022-03-02T19:48:15.560Z"
   },
   {
    "duration": 58,
    "start_time": "2022-03-02T19:48:16.362Z"
   },
   {
    "duration": -1098,
    "start_time": "2022-03-02T19:48:17.520Z"
   },
   {
    "duration": -1124,
    "start_time": "2022-03-02T19:48:17.548Z"
   },
   {
    "duration": -1127,
    "start_time": "2022-03-02T19:48:17.552Z"
   },
   {
    "duration": -1129,
    "start_time": "2022-03-02T19:48:17.555Z"
   },
   {
    "duration": -1131,
    "start_time": "2022-03-02T19:48:17.558Z"
   },
   {
    "duration": 291,
    "start_time": "2022-03-02T19:48:26.376Z"
   },
   {
    "duration": 39,
    "start_time": "2022-03-02T19:48:31.251Z"
   },
   {
    "duration": 4,
    "start_time": "2022-03-02T19:48:54.799Z"
   },
   {
    "duration": 3,
    "start_time": "2022-03-02T19:49:22.863Z"
   },
   {
    "duration": 3,
    "start_time": "2022-03-02T19:49:27.561Z"
   },
   {
    "duration": 4,
    "start_time": "2022-03-02T19:49:33.803Z"
   },
   {
    "duration": 4,
    "start_time": "2022-03-02T19:49:42.457Z"
   },
   {
    "duration": 183,
    "start_time": "2022-03-02T20:06:09.150Z"
   },
   {
    "duration": 204,
    "start_time": "2022-03-02T20:06:20.566Z"
   },
   {
    "duration": 7,
    "start_time": "2022-03-02T20:07:04.649Z"
   },
   {
    "duration": 7,
    "start_time": "2022-03-02T20:07:28.927Z"
   },
   {
    "duration": 10,
    "start_time": "2022-03-02T20:08:07.847Z"
   },
   {
    "duration": 37,
    "start_time": "2022-03-02T20:09:08.108Z"
   },
   {
    "duration": 8,
    "start_time": "2022-03-02T20:09:41.729Z"
   },
   {
    "duration": 5,
    "start_time": "2022-03-02T20:12:26.849Z"
   },
   {
    "duration": 6,
    "start_time": "2022-03-02T20:12:45.783Z"
   },
   {
    "duration": 194,
    "start_time": "2022-03-02T20:12:52.959Z"
   },
   {
    "duration": 184,
    "start_time": "2022-03-02T20:13:00.846Z"
   },
   {
    "duration": 5,
    "start_time": "2022-03-02T20:13:11.764Z"
   },
   {
    "duration": 187,
    "start_time": "2022-03-02T20:16:04.501Z"
   },
   {
    "duration": 6,
    "start_time": "2022-03-02T20:16:12.373Z"
   },
   {
    "duration": 7,
    "start_time": "2022-03-02T20:16:26.984Z"
   },
   {
    "duration": 16,
    "start_time": "2022-03-02T20:32:49.546Z"
   },
   {
    "duration": 17,
    "start_time": "2022-03-02T20:33:33.146Z"
   },
   {
    "duration": 216,
    "start_time": "2022-03-02T20:33:53.498Z"
   },
   {
    "duration": 16,
    "start_time": "2022-03-02T20:36:22.101Z"
   },
   {
    "duration": 21,
    "start_time": "2022-03-02T20:36:51.031Z"
   },
   {
    "duration": 19395,
    "start_time": "2022-03-02T20:48:35.748Z"
   },
   {
    "duration": 89,
    "start_time": "2022-03-02T20:49:03.379Z"
   },
   {
    "duration": 26,
    "start_time": "2022-03-02T20:49:13.940Z"
   },
   {
    "duration": 95,
    "start_time": "2022-03-02T20:49:20.299Z"
   },
   {
    "duration": 92,
    "start_time": "2022-03-02T20:49:24.645Z"
   },
   {
    "duration": 50,
    "start_time": "2022-03-02T20:53:29.276Z"
   },
   {
    "duration": 26,
    "start_time": "2022-03-02T20:53:33.992Z"
   },
   {
    "duration": 26,
    "start_time": "2022-03-02T20:53:40.749Z"
   },
   {
    "duration": 66,
    "start_time": "2022-03-02T20:55:32.013Z"
   },
   {
    "duration": 26,
    "start_time": "2022-03-02T20:55:38.766Z"
   },
   {
    "duration": 71,
    "start_time": "2022-03-02T20:55:45.066Z"
   },
   {
    "duration": 67,
    "start_time": "2022-03-02T20:55:57.236Z"
   },
   {
    "duration": 71,
    "start_time": "2022-03-02T20:56:02.558Z"
   },
   {
    "duration": 54,
    "start_time": "2022-03-02T20:56:09.161Z"
   },
   {
    "duration": 67,
    "start_time": "2022-03-02T20:56:11.988Z"
   },
   {
    "duration": 77,
    "start_time": "2022-03-02T20:56:19.651Z"
   },
   {
    "duration": 62,
    "start_time": "2022-03-02T20:56:33.640Z"
   },
   {
    "duration": 54,
    "start_time": "2022-03-02T20:56:48.167Z"
   },
   {
    "duration": 56,
    "start_time": "2022-03-02T20:57:07.267Z"
   },
   {
    "duration": 58,
    "start_time": "2022-03-02T20:57:17.011Z"
   },
   {
    "duration": 192,
    "start_time": "2022-03-02T21:10:40.115Z"
   },
   {
    "duration": 199,
    "start_time": "2022-03-02T21:11:02.835Z"
   },
   {
    "duration": 194,
    "start_time": "2022-03-02T21:14:36.394Z"
   },
   {
    "duration": 171,
    "start_time": "2022-03-02T21:14:52.157Z"
   },
   {
    "duration": 182,
    "start_time": "2022-03-02T21:16:55.170Z"
   },
   {
    "duration": 3,
    "start_time": "2022-03-02T21:25:24.297Z"
   },
   {
    "duration": 4,
    "start_time": "2022-03-02T21:25:33.497Z"
   },
   {
    "duration": 5,
    "start_time": "2022-03-02T21:25:44.442Z"
   },
   {
    "duration": 4,
    "start_time": "2022-03-02T21:25:46.196Z"
   },
   {
    "duration": 195,
    "start_time": "2022-03-02T21:27:34.046Z"
   },
   {
    "duration": 190,
    "start_time": "2022-03-02T21:27:46.597Z"
   },
   {
    "duration": 3,
    "start_time": "2022-03-02T21:27:52.440Z"
   },
   {
    "duration": 4,
    "start_time": "2022-03-02T21:27:52.687Z"
   },
   {
    "duration": 5,
    "start_time": "2022-03-02T21:27:54.157Z"
   },
   {
    "duration": 171,
    "start_time": "2022-03-02T21:29:58.546Z"
   },
   {
    "duration": 6,
    "start_time": "2022-03-02T21:29:59.607Z"
   },
   {
    "duration": 5,
    "start_time": "2022-03-02T21:30:11.121Z"
   },
   {
    "duration": 8,
    "start_time": "2022-03-02T21:30:11.801Z"
   },
   {
    "duration": 1484,
    "start_time": "2022-03-03T13:25:35.921Z"
   },
   {
    "duration": 4997,
    "start_time": "2022-03-03T13:25:37.407Z"
   },
   {
    "duration": 4,
    "start_time": "2022-03-03T13:25:42.408Z"
   },
   {
    "duration": 19,
    "start_time": "2022-03-03T13:25:42.415Z"
   },
   {
    "duration": 23,
    "start_time": "2022-03-03T13:25:42.437Z"
   },
   {
    "duration": 125,
    "start_time": "2022-03-03T13:25:42.463Z"
   },
   {
    "duration": 365,
    "start_time": "2022-03-03T13:25:42.591Z"
   },
   {
    "duration": 3,
    "start_time": "2022-03-03T13:25:42.959Z"
   },
   {
    "duration": 7,
    "start_time": "2022-03-03T13:25:42.966Z"
   },
   {
    "duration": 9,
    "start_time": "2022-03-03T13:25:42.975Z"
   },
   {
    "duration": 1479,
    "start_time": "2022-03-03T13:27:47.807Z"
   },
   {
    "duration": 1048,
    "start_time": "2022-03-03T13:27:49.289Z"
   },
   {
    "duration": 5,
    "start_time": "2022-03-03T13:27:50.340Z"
   },
   {
    "duration": 15,
    "start_time": "2022-03-03T13:27:50.348Z"
   },
   {
    "duration": 31,
    "start_time": "2022-03-03T13:27:50.367Z"
   },
   {
    "duration": 147,
    "start_time": "2022-03-03T13:27:50.401Z"
   },
   {
    "duration": 355,
    "start_time": "2022-03-03T13:27:50.550Z"
   },
   {
    "duration": 4,
    "start_time": "2022-03-03T13:27:50.910Z"
   },
   {
    "duration": 20,
    "start_time": "2022-03-03T13:27:50.917Z"
   },
   {
    "duration": 17,
    "start_time": "2022-03-03T13:27:50.940Z"
   },
   {
    "duration": 8,
    "start_time": "2022-03-03T13:27:50.959Z"
   },
   {
    "duration": 470,
    "start_time": "2022-03-03T13:27:50.970Z"
   },
   {
    "duration": 765,
    "start_time": "2022-03-03T13:29:14.230Z"
   },
   {
    "duration": 3,
    "start_time": "2022-03-03T13:29:45.278Z"
   },
   {
    "duration": 1504,
    "start_time": "2022-03-03T13:30:11.811Z"
   },
   {
    "duration": 935,
    "start_time": "2022-03-03T13:30:13.318Z"
   },
   {
    "duration": 5,
    "start_time": "2022-03-03T13:30:14.256Z"
   },
   {
    "duration": 11,
    "start_time": "2022-03-03T13:30:14.264Z"
   },
   {
    "duration": 24,
    "start_time": "2022-03-03T13:30:14.278Z"
   },
   {
    "duration": 132,
    "start_time": "2022-03-03T13:30:14.332Z"
   },
   {
    "duration": 359,
    "start_time": "2022-03-03T13:30:14.467Z"
   },
   {
    "duration": 7,
    "start_time": "2022-03-03T13:30:14.828Z"
   },
   {
    "duration": 12,
    "start_time": "2022-03-03T13:30:14.839Z"
   },
   {
    "duration": 11,
    "start_time": "2022-03-03T13:30:14.854Z"
   },
   {
    "duration": 5,
    "start_time": "2022-03-03T13:30:14.868Z"
   },
   {
    "duration": 21,
    "start_time": "2022-03-03T13:30:14.875Z"
   },
   {
    "duration": 10,
    "start_time": "2022-03-03T13:30:42.350Z"
   },
   {
    "duration": 1884,
    "start_time": "2022-03-03T13:44:58.759Z"
   },
   {
    "duration": 1337,
    "start_time": "2022-03-03T13:45:00.647Z"
   },
   {
    "duration": 7,
    "start_time": "2022-03-03T13:45:01.988Z"
   },
   {
    "duration": 37,
    "start_time": "2022-03-03T13:45:01.998Z"
   },
   {
    "duration": 32,
    "start_time": "2022-03-03T13:45:02.040Z"
   },
   {
    "duration": 135,
    "start_time": "2022-03-03T13:45:02.075Z"
   },
   {
    "duration": 368,
    "start_time": "2022-03-03T13:45:02.213Z"
   },
   {
    "duration": 4,
    "start_time": "2022-03-03T13:45:02.585Z"
   },
   {
    "duration": 9,
    "start_time": "2022-03-03T13:45:02.591Z"
   },
   {
    "duration": 32,
    "start_time": "2022-03-03T13:45:02.602Z"
   },
   {
    "duration": 19,
    "start_time": "2022-03-03T13:45:02.636Z"
   },
   {
    "duration": 14,
    "start_time": "2022-03-03T13:45:02.657Z"
   },
   {
    "duration": 11,
    "start_time": "2022-03-03T13:45:02.673Z"
   },
   {
    "duration": 1228,
    "start_time": "2022-03-04T09:11:49.260Z"
   },
   {
    "duration": 772,
    "start_time": "2022-03-04T09:11:50.490Z"
   },
   {
    "duration": 4,
    "start_time": "2022-03-04T09:11:51.264Z"
   },
   {
    "duration": 11,
    "start_time": "2022-03-04T09:11:51.270Z"
   },
   {
    "duration": 27,
    "start_time": "2022-03-04T09:11:51.283Z"
   },
   {
    "duration": 87,
    "start_time": "2022-03-04T09:11:51.311Z"
   },
   {
    "duration": 200,
    "start_time": "2022-03-04T09:11:51.399Z"
   },
   {
    "duration": 4,
    "start_time": "2022-03-04T09:11:51.602Z"
   },
   {
    "duration": 7,
    "start_time": "2022-03-04T09:11:51.608Z"
   },
   {
    "duration": 8,
    "start_time": "2022-03-04T09:11:51.617Z"
   },
   {
    "duration": 6,
    "start_time": "2022-03-04T09:11:51.626Z"
   },
   {
    "duration": 17,
    "start_time": "2022-03-04T09:11:51.634Z"
   },
   {
    "duration": 25,
    "start_time": "2022-03-04T09:11:51.653Z"
   },
   {
    "duration": 368,
    "start_time": "2022-03-04T09:11:51.680Z"
   },
   {
    "duration": 30,
    "start_time": "2022-03-04T09:12:32.367Z"
   },
   {
    "duration": 7051,
    "start_time": "2022-03-04T09:12:42.939Z"
   },
   {
    "duration": 398,
    "start_time": "2022-03-04T09:15:01.832Z"
   },
   {
    "duration": 291,
    "start_time": "2022-03-04T09:15:42.609Z"
   },
   {
    "duration": 3,
    "start_time": "2022-03-04T09:16:42.360Z"
   },
   {
    "duration": 22,
    "start_time": "2022-03-04T09:16:42.663Z"
   },
   {
    "duration": 258,
    "start_time": "2022-03-04T09:16:43.607Z"
   },
   {
    "duration": 9,
    "start_time": "2022-03-04T09:16:53.082Z"
   },
   {
    "duration": 7,
    "start_time": "2022-03-04T09:16:57.088Z"
   },
   {
    "duration": 3,
    "start_time": "2022-03-04T09:17:19.881Z"
   },
   {
    "duration": 8,
    "start_time": "2022-03-04T09:17:20.367Z"
   },
   {
    "duration": 1283,
    "start_time": "2022-03-04T09:17:39.555Z"
   },
   {
    "duration": 789,
    "start_time": "2022-03-04T09:17:40.840Z"
   },
   {
    "duration": 4,
    "start_time": "2022-03-04T09:17:41.631Z"
   },
   {
    "duration": 10,
    "start_time": "2022-03-04T09:17:41.638Z"
   },
   {
    "duration": 37,
    "start_time": "2022-03-04T09:17:41.650Z"
   },
   {
    "duration": 91,
    "start_time": "2022-03-04T09:17:41.689Z"
   },
   {
    "duration": 208,
    "start_time": "2022-03-04T09:17:41.782Z"
   },
   {
    "duration": 2,
    "start_time": "2022-03-04T09:17:41.993Z"
   },
   {
    "duration": 8,
    "start_time": "2022-03-04T09:17:41.997Z"
   },
   {
    "duration": 21,
    "start_time": "2022-03-04T09:17:42.007Z"
   },
   {
    "duration": 9,
    "start_time": "2022-03-04T09:17:42.030Z"
   },
   {
    "duration": 15,
    "start_time": "2022-03-04T09:17:42.041Z"
   },
   {
    "duration": 11,
    "start_time": "2022-03-04T09:17:42.058Z"
   },
   {
    "duration": 504,
    "start_time": "2022-03-04T09:17:42.077Z"
   },
   {
    "duration": 3,
    "start_time": "2022-03-04T09:24:37.235Z"
   },
   {
    "duration": 285,
    "start_time": "2022-03-04T09:24:37.874Z"
   },
   {
    "duration": 8615,
    "start_time": "2022-03-04T09:24:44.886Z"
   },
   {
    "duration": 282,
    "start_time": "2022-03-04T09:32:41.443Z"
   },
   {
    "duration": 252,
    "start_time": "2022-03-04T09:32:47.298Z"
   },
   {
    "duration": 9,
    "start_time": "2022-03-04T09:32:53.610Z"
   },
   {
    "duration": 5,
    "start_time": "2022-03-04T09:32:55.615Z"
   },
   {
    "duration": 8079,
    "start_time": "2022-03-04T09:32:56.172Z"
   },
   {
    "duration": 21343,
    "start_time": "2022-03-04T09:34:59.087Z"
   },
   {
    "duration": 4,
    "start_time": "2022-03-04T09:36:05.617Z"
   },
   {
    "duration": 15105,
    "start_time": "2022-03-04T09:36:05.928Z"
   },
   {
    "duration": 316,
    "start_time": "2022-03-04T09:37:05.003Z"
   },
   {
    "duration": 4,
    "start_time": "2022-03-04T09:37:07.604Z"
   },
   {
    "duration": 264,
    "start_time": "2022-03-04T09:37:10.898Z"
   },
   {
    "duration": 265,
    "start_time": "2022-03-04T09:37:45.037Z"
   },
   {
    "duration": 45,
    "start_time": "2022-03-04T09:37:55.599Z"
   },
   {
    "duration": 1126,
    "start_time": "2022-03-04T09:38:15.136Z"
   },
   {
    "duration": 760,
    "start_time": "2022-03-04T09:38:16.264Z"
   },
   {
    "duration": 4,
    "start_time": "2022-03-04T09:38:17.026Z"
   },
   {
    "duration": 12,
    "start_time": "2022-03-04T09:38:17.032Z"
   },
   {
    "duration": 31,
    "start_time": "2022-03-04T09:38:17.045Z"
   },
   {
    "duration": 63,
    "start_time": "2022-03-04T09:38:17.078Z"
   },
   {
    "duration": 218,
    "start_time": "2022-03-04T09:38:17.142Z"
   },
   {
    "duration": 3,
    "start_time": "2022-03-04T09:38:17.362Z"
   },
   {
    "duration": 19,
    "start_time": "2022-03-04T09:38:17.367Z"
   },
   {
    "duration": 18,
    "start_time": "2022-03-04T09:38:17.388Z"
   },
   {
    "duration": 23,
    "start_time": "2022-03-04T09:38:17.408Z"
   },
   {
    "duration": 15,
    "start_time": "2022-03-04T09:38:17.433Z"
   },
   {
    "duration": 16,
    "start_time": "2022-03-04T09:38:17.449Z"
   },
   {
    "duration": 17,
    "start_time": "2022-03-04T09:38:17.467Z"
   },
   {
    "duration": 13,
    "start_time": "2022-03-04T09:38:38.230Z"
   },
   {
    "duration": 4,
    "start_time": "2022-03-04T09:38:38.657Z"
   },
   {
    "duration": 2,
    "start_time": "2022-03-04T09:38:38.883Z"
   },
   {
    "duration": 10,
    "start_time": "2022-03-04T09:38:39.807Z"
   },
   {
    "duration": 757,
    "start_time": "2022-03-04T09:39:58.292Z"
   },
   {
    "duration": 4,
    "start_time": "2022-03-04T09:40:00.357Z"
   },
   {
    "duration": 7,
    "start_time": "2022-03-04T09:40:01.270Z"
   },
   {
    "duration": 14,
    "start_time": "2022-03-04T09:40:07.285Z"
   },
   {
    "duration": 67,
    "start_time": "2022-03-04T09:40:17.182Z"
   },
   {
    "duration": 175,
    "start_time": "2022-03-04T09:40:17.953Z"
   },
   {
    "duration": 3,
    "start_time": "2022-03-04T09:40:20.173Z"
   },
   {
    "duration": 4,
    "start_time": "2022-03-04T09:40:20.444Z"
   },
   {
    "duration": 5,
    "start_time": "2022-03-04T09:40:21.039Z"
   },
   {
    "duration": 12,
    "start_time": "2022-03-04T09:40:25.992Z"
   },
   {
    "duration": 15,
    "start_time": "2022-03-04T09:40:36.292Z"
   },
   {
    "duration": 11,
    "start_time": "2022-03-04T09:42:28.826Z"
   },
   {
    "duration": 4,
    "start_time": "2022-03-04T09:42:29.934Z"
   },
   {
    "duration": 3,
    "start_time": "2022-03-04T09:42:30.198Z"
   },
   {
    "duration": 10,
    "start_time": "2022-03-04T09:42:30.951Z"
   },
   {
    "duration": 1126,
    "start_time": "2022-03-04T09:42:39.029Z"
   },
   {
    "duration": 791,
    "start_time": "2022-03-04T09:42:40.157Z"
   },
   {
    "duration": 4,
    "start_time": "2022-03-04T09:42:40.950Z"
   },
   {
    "duration": 24,
    "start_time": "2022-03-04T09:42:40.956Z"
   },
   {
    "duration": 32,
    "start_time": "2022-03-04T09:42:40.982Z"
   },
   {
    "duration": 73,
    "start_time": "2022-03-04T09:42:41.016Z"
   },
   {
    "duration": 211,
    "start_time": "2022-03-04T09:42:41.091Z"
   },
   {
    "duration": 3,
    "start_time": "2022-03-04T09:42:41.305Z"
   },
   {
    "duration": 18,
    "start_time": "2022-03-04T09:42:41.310Z"
   },
   {
    "duration": 28,
    "start_time": "2022-03-04T09:42:41.330Z"
   },
   {
    "duration": 20,
    "start_time": "2022-03-04T09:42:41.360Z"
   },
   {
    "duration": 20,
    "start_time": "2022-03-04T09:42:41.382Z"
   },
   {
    "duration": 19,
    "start_time": "2022-03-04T09:42:41.404Z"
   },
   {
    "duration": 34,
    "start_time": "2022-03-04T09:42:41.425Z"
   },
   {
    "duration": 41,
    "start_time": "2022-03-04T09:43:21.671Z"
   },
   {
    "duration": 1191,
    "start_time": "2022-03-04T09:43:29.407Z"
   },
   {
    "duration": 827,
    "start_time": "2022-03-04T09:43:30.601Z"
   },
   {
    "duration": 4,
    "start_time": "2022-03-04T09:43:31.431Z"
   },
   {
    "duration": 19,
    "start_time": "2022-03-04T09:43:31.437Z"
   },
   {
    "duration": 27,
    "start_time": "2022-03-04T09:43:31.458Z"
   },
   {
    "duration": 68,
    "start_time": "2022-03-04T09:43:31.487Z"
   },
   {
    "duration": 208,
    "start_time": "2022-03-04T09:43:31.577Z"
   },
   {
    "duration": 3,
    "start_time": "2022-03-04T09:43:31.788Z"
   },
   {
    "duration": 25,
    "start_time": "2022-03-04T09:43:31.794Z"
   },
   {
    "duration": 20,
    "start_time": "2022-03-04T09:43:31.821Z"
   },
   {
    "duration": 29,
    "start_time": "2022-03-04T09:43:31.843Z"
   },
   {
    "duration": 13,
    "start_time": "2022-03-04T09:43:31.874Z"
   },
   {
    "duration": 13,
    "start_time": "2022-03-04T09:43:31.889Z"
   },
   {
    "duration": 32,
    "start_time": "2022-03-04T09:43:31.904Z"
   },
   {
    "duration": 382,
    "start_time": "2022-03-04T09:44:38.955Z"
   },
   {
    "duration": 8,
    "start_time": "2022-03-04T09:44:50.210Z"
   },
   {
    "duration": 4,
    "start_time": "2022-03-04T09:45:20.613Z"
   },
   {
    "duration": 2,
    "start_time": "2022-03-04T09:45:21.382Z"
   },
   {
    "duration": 11,
    "start_time": "2022-03-04T09:45:22.216Z"
   },
   {
    "duration": 1168,
    "start_time": "2022-03-04T09:45:36.635Z"
   },
   {
    "duration": 757,
    "start_time": "2022-03-04T09:45:37.805Z"
   },
   {
    "duration": 4,
    "start_time": "2022-03-04T09:45:38.564Z"
   },
   {
    "duration": 13,
    "start_time": "2022-03-04T09:45:38.570Z"
   },
   {
    "duration": 17,
    "start_time": "2022-03-04T09:45:38.585Z"
   },
   {
    "duration": 92,
    "start_time": "2022-03-04T09:45:38.603Z"
   },
   {
    "duration": 196,
    "start_time": "2022-03-04T09:45:38.697Z"
   },
   {
    "duration": 2,
    "start_time": "2022-03-04T09:45:38.896Z"
   },
   {
    "duration": 8,
    "start_time": "2022-03-04T09:45:38.900Z"
   },
   {
    "duration": 8,
    "start_time": "2022-03-04T09:45:38.910Z"
   },
   {
    "duration": 5,
    "start_time": "2022-03-04T09:45:38.920Z"
   },
   {
    "duration": 6,
    "start_time": "2022-03-04T09:45:38.927Z"
   },
   {
    "duration": 6,
    "start_time": "2022-03-04T09:45:38.935Z"
   },
   {
    "duration": 14,
    "start_time": "2022-03-04T09:45:38.942Z"
   },
   {
    "duration": 10,
    "start_time": "2022-03-04T09:45:38.978Z"
   },
   {
    "duration": 8,
    "start_time": "2022-03-04T09:46:28.423Z"
   },
   {
    "duration": 5,
    "start_time": "2022-03-04T09:47:27.789Z"
   },
   {
    "duration": 15,
    "start_time": "2022-03-04T09:48:08.943Z"
   },
   {
    "duration": 15,
    "start_time": "2022-03-04T09:48:44.947Z"
   },
   {
    "duration": 11,
    "start_time": "2022-03-04T09:48:50.134Z"
   },
   {
    "duration": 434,
    "start_time": "2022-03-04T09:52:56.008Z"
   },
   {
    "duration": 19,
    "start_time": "2022-03-04T09:53:10.678Z"
   },
   {
    "duration": 1611,
    "start_time": "2022-03-04T09:53:26.690Z"
   },
   {
    "duration": 1680,
    "start_time": "2022-03-04T09:53:59.532Z"
   },
   {
    "duration": 1497,
    "start_time": "2022-03-04T09:54:25.983Z"
   },
   {
    "duration": 7611,
    "start_time": "2022-03-04T09:54:55.963Z"
   },
   {
    "duration": 7057,
    "start_time": "2022-03-04T09:55:54.289Z"
   },
   {
    "duration": 457,
    "start_time": "2022-03-04T09:56:25.466Z"
   },
   {
    "duration": 2469,
    "start_time": "2022-03-04T09:57:22.983Z"
   },
   {
    "duration": 1276,
    "start_time": "2022-03-04T11:01:25.013Z"
   },
   {
    "duration": 802,
    "start_time": "2022-03-04T11:01:26.291Z"
   },
   {
    "duration": 4,
    "start_time": "2022-03-04T11:01:27.095Z"
   },
   {
    "duration": 17,
    "start_time": "2022-03-04T11:01:27.101Z"
   },
   {
    "duration": 25,
    "start_time": "2022-03-04T11:01:27.120Z"
   },
   {
    "duration": 76,
    "start_time": "2022-03-04T11:01:27.146Z"
   },
   {
    "duration": 204,
    "start_time": "2022-03-04T11:01:27.224Z"
   },
   {
    "duration": 3,
    "start_time": "2022-03-04T11:01:27.430Z"
   },
   {
    "duration": 12,
    "start_time": "2022-03-04T11:01:27.434Z"
   },
   {
    "duration": 7,
    "start_time": "2022-03-04T11:01:27.448Z"
   },
   {
    "duration": 5,
    "start_time": "2022-03-04T11:01:27.457Z"
   },
   {
    "duration": 4,
    "start_time": "2022-03-04T11:01:27.477Z"
   },
   {
    "duration": 7,
    "start_time": "2022-03-04T11:01:27.482Z"
   },
   {
    "duration": 17,
    "start_time": "2022-03-04T11:01:27.490Z"
   },
   {
    "duration": 8,
    "start_time": "2022-03-04T11:01:27.509Z"
   },
   {
    "duration": 11,
    "start_time": "2022-03-04T11:01:27.519Z"
   },
   {
    "duration": 5,
    "start_time": "2022-03-04T11:01:27.531Z"
   },
   {
    "duration": 50,
    "start_time": "2022-03-04T11:01:27.537Z"
   },
   {
    "duration": 10,
    "start_time": "2022-03-04T11:01:27.589Z"
   },
   {
    "duration": 15,
    "start_time": "2022-03-04T11:01:27.601Z"
   },
   {
    "duration": 7542,
    "start_time": "2022-03-04T11:01:27.618Z"
   },
   {
    "duration": 7240,
    "start_time": "2022-03-04T11:01:35.163Z"
   },
   {
    "duration": 487,
    "start_time": "2022-03-04T11:01:42.407Z"
   },
   {
    "duration": 2618,
    "start_time": "2022-03-04T11:01:42.896Z"
   },
   {
    "duration": 4,
    "start_time": "2022-03-04T11:01:45.516Z"
   },
   {
    "duration": 401,
    "start_time": "2022-03-04T11:01:45.522Z"
   },
   {
    "duration": -48,
    "start_time": "2022-03-04T11:01:45.973Z"
   },
   {
    "duration": -49,
    "start_time": "2022-03-04T11:01:45.976Z"
   },
   {
    "duration": -51,
    "start_time": "2022-03-04T11:01:45.979Z"
   },
   {
    "duration": -54,
    "start_time": "2022-03-04T11:01:45.984Z"
   },
   {
    "duration": -56,
    "start_time": "2022-03-04T11:01:45.987Z"
   },
   {
    "duration": -56,
    "start_time": "2022-03-04T11:01:45.989Z"
   },
   {
    "duration": -58,
    "start_time": "2022-03-04T11:01:45.992Z"
   },
   {
    "duration": -59,
    "start_time": "2022-03-04T11:01:45.995Z"
   },
   {
    "duration": -62,
    "start_time": "2022-03-04T11:01:45.999Z"
   },
   {
    "duration": 1338,
    "start_time": "2022-03-04T11:03:09.665Z"
   },
   {
    "duration": 2,
    "start_time": "2022-03-04T11:03:11.005Z"
   },
   {
    "duration": 810,
    "start_time": "2022-03-04T11:03:11.009Z"
   },
   {
    "duration": 3,
    "start_time": "2022-03-04T11:03:11.821Z"
   },
   {
    "duration": 18,
    "start_time": "2022-03-04T11:03:11.826Z"
   },
   {
    "duration": 39,
    "start_time": "2022-03-04T11:03:11.846Z"
   },
   {
    "duration": 79,
    "start_time": "2022-03-04T11:03:11.887Z"
   },
   {
    "duration": 187,
    "start_time": "2022-03-04T11:03:11.969Z"
   },
   {
    "duration": 2,
    "start_time": "2022-03-04T11:03:12.158Z"
   },
   {
    "duration": 15,
    "start_time": "2022-03-04T11:03:12.162Z"
   },
   {
    "duration": 17,
    "start_time": "2022-03-04T11:03:12.179Z"
   },
   {
    "duration": 17,
    "start_time": "2022-03-04T11:03:12.198Z"
   },
   {
    "duration": 13,
    "start_time": "2022-03-04T11:03:12.216Z"
   },
   {
    "duration": 11,
    "start_time": "2022-03-04T11:03:12.230Z"
   },
   {
    "duration": 19,
    "start_time": "2022-03-04T11:03:12.243Z"
   },
   {
    "duration": 39,
    "start_time": "2022-03-04T11:03:12.264Z"
   },
   {
    "duration": 10,
    "start_time": "2022-03-04T11:03:12.305Z"
   },
   {
    "duration": 23,
    "start_time": "2022-03-04T11:03:12.317Z"
   },
   {
    "duration": 17,
    "start_time": "2022-03-04T11:03:12.341Z"
   },
   {
    "duration": 12,
    "start_time": "2022-03-04T11:03:12.360Z"
   },
   {
    "duration": 28,
    "start_time": "2022-03-04T11:03:12.373Z"
   },
   {
    "duration": 7414,
    "start_time": "2022-03-04T11:03:12.402Z"
   },
   {
    "duration": 7385,
    "start_time": "2022-03-04T11:03:19.820Z"
   },
   {
    "duration": 490,
    "start_time": "2022-03-04T11:03:27.207Z"
   },
   {
    "duration": 2477,
    "start_time": "2022-03-04T11:03:27.700Z"
   },
   {
    "duration": 4,
    "start_time": "2022-03-04T11:03:30.179Z"
   },
   {
    "duration": 14,
    "start_time": "2022-03-04T11:03:30.185Z"
   },
   {
    "duration": 469,
    "start_time": "2022-03-04T11:03:30.201Z"
   },
   {
    "duration": -105,
    "start_time": "2022-03-04T11:03:30.777Z"
   },
   {
    "duration": -108,
    "start_time": "2022-03-04T11:03:30.781Z"
   },
   {
    "duration": -109,
    "start_time": "2022-03-04T11:03:30.783Z"
   },
   {
    "duration": -110,
    "start_time": "2022-03-04T11:03:30.785Z"
   },
   {
    "duration": -112,
    "start_time": "2022-03-04T11:03:30.788Z"
   },
   {
    "duration": -113,
    "start_time": "2022-03-04T11:03:30.790Z"
   },
   {
    "duration": -114,
    "start_time": "2022-03-04T11:03:30.792Z"
   },
   {
    "duration": -116,
    "start_time": "2022-03-04T11:03:30.795Z"
   },
   {
    "duration": 21,
    "start_time": "2022-03-04T11:06:19.730Z"
   },
   {
    "duration": 1326,
    "start_time": "2022-03-04T11:06:30.454Z"
   },
   {
    "duration": 3,
    "start_time": "2022-03-04T11:06:31.782Z"
   },
   {
    "duration": 824,
    "start_time": "2022-03-04T11:06:31.788Z"
   },
   {
    "duration": 4,
    "start_time": "2022-03-04T11:06:32.614Z"
   },
   {
    "duration": 15,
    "start_time": "2022-03-04T11:06:32.620Z"
   },
   {
    "duration": 15,
    "start_time": "2022-03-04T11:06:32.637Z"
   },
   {
    "duration": 86,
    "start_time": "2022-03-04T11:06:32.655Z"
   },
   {
    "duration": 219,
    "start_time": "2022-03-04T11:06:32.744Z"
   },
   {
    "duration": 10,
    "start_time": "2022-03-04T11:06:32.967Z"
   },
   {
    "duration": 7,
    "start_time": "2022-03-04T11:06:32.979Z"
   },
   {
    "duration": 11,
    "start_time": "2022-03-04T11:06:32.988Z"
   },
   {
    "duration": 19,
    "start_time": "2022-03-04T11:06:33.001Z"
   },
   {
    "duration": 17,
    "start_time": "2022-03-04T11:06:33.022Z"
   },
   {
    "duration": 9,
    "start_time": "2022-03-04T11:06:33.041Z"
   },
   {
    "duration": 51,
    "start_time": "2022-03-04T11:06:33.052Z"
   },
   {
    "duration": 25,
    "start_time": "2022-03-04T11:06:33.105Z"
   },
   {
    "duration": 16,
    "start_time": "2022-03-04T11:06:33.132Z"
   },
   {
    "duration": 17,
    "start_time": "2022-03-04T11:06:33.150Z"
   },
   {
    "duration": 32,
    "start_time": "2022-03-04T11:06:33.169Z"
   },
   {
    "duration": 11,
    "start_time": "2022-03-04T11:06:33.202Z"
   },
   {
    "duration": 18,
    "start_time": "2022-03-04T11:06:33.215Z"
   },
   {
    "duration": 7636,
    "start_time": "2022-03-04T11:06:33.234Z"
   },
   {
    "duration": 7231,
    "start_time": "2022-03-04T11:06:40.877Z"
   },
   {
    "duration": 462,
    "start_time": "2022-03-04T11:06:48.110Z"
   },
   {
    "duration": 2494,
    "start_time": "2022-03-04T11:06:48.576Z"
   },
   {
    "duration": 5,
    "start_time": "2022-03-04T11:06:51.072Z"
   },
   {
    "duration": 20,
    "start_time": "2022-03-04T11:06:51.081Z"
   },
   {
    "duration": 54,
    "start_time": "2022-03-04T11:06:51.103Z"
   },
   {
    "duration": 280,
    "start_time": "2022-03-04T11:06:51.159Z"
   },
   {
    "duration": 330,
    "start_time": "2022-03-04T11:06:51.441Z"
   },
   {
    "duration": -63,
    "start_time": "2022-03-04T11:06:51.836Z"
   },
   {
    "duration": -66,
    "start_time": "2022-03-04T11:06:51.840Z"
   },
   {
    "duration": -69,
    "start_time": "2022-03-04T11:06:51.844Z"
   },
   {
    "duration": -71,
    "start_time": "2022-03-04T11:06:51.847Z"
   },
   {
    "duration": -72,
    "start_time": "2022-03-04T11:06:51.850Z"
   },
   {
    "duration": -73,
    "start_time": "2022-03-04T11:06:51.852Z"
   },
   {
    "duration": 205,
    "start_time": "2022-03-04T11:09:46.125Z"
   },
   {
    "duration": 3,
    "start_time": "2022-03-04T11:09:57.972Z"
   },
   {
    "duration": 1275,
    "start_time": "2022-03-04T11:10:29.740Z"
   },
   {
    "duration": 2,
    "start_time": "2022-03-04T11:10:31.018Z"
   },
   {
    "duration": 814,
    "start_time": "2022-03-04T11:10:31.023Z"
   },
   {
    "duration": 4,
    "start_time": "2022-03-04T11:10:31.839Z"
   },
   {
    "duration": 13,
    "start_time": "2022-03-04T11:10:31.844Z"
   },
   {
    "duration": 27,
    "start_time": "2022-03-04T11:10:31.859Z"
   },
   {
    "duration": 67,
    "start_time": "2022-03-04T11:10:31.888Z"
   },
   {
    "duration": 198,
    "start_time": "2022-03-04T11:10:31.977Z"
   },
   {
    "duration": 2,
    "start_time": "2022-03-04T11:10:32.178Z"
   },
   {
    "duration": 7,
    "start_time": "2022-03-04T11:10:32.183Z"
   },
   {
    "duration": 7,
    "start_time": "2022-03-04T11:10:32.192Z"
   },
   {
    "duration": 7,
    "start_time": "2022-03-04T11:10:32.200Z"
   },
   {
    "duration": 11,
    "start_time": "2022-03-04T11:10:32.208Z"
   },
   {
    "duration": 7,
    "start_time": "2022-03-04T11:10:32.221Z"
   },
   {
    "duration": 15,
    "start_time": "2022-03-04T11:10:32.229Z"
   },
   {
    "duration": 9,
    "start_time": "2022-03-04T11:10:32.246Z"
   },
   {
    "duration": 29,
    "start_time": "2022-03-04T11:10:32.256Z"
   },
   {
    "duration": 6,
    "start_time": "2022-03-04T11:10:32.287Z"
   },
   {
    "duration": 19,
    "start_time": "2022-03-04T11:10:32.295Z"
   },
   {
    "duration": 11,
    "start_time": "2022-03-04T11:10:32.315Z"
   },
   {
    "duration": 50,
    "start_time": "2022-03-04T11:10:32.328Z"
   },
   {
    "duration": 7625,
    "start_time": "2022-03-04T11:10:32.379Z"
   },
   {
    "duration": 7446,
    "start_time": "2022-03-04T11:10:40.005Z"
   },
   {
    "duration": 479,
    "start_time": "2022-03-04T11:10:47.453Z"
   },
   {
    "duration": 2581,
    "start_time": "2022-03-04T11:10:47.934Z"
   },
   {
    "duration": 5,
    "start_time": "2022-03-04T11:10:50.517Z"
   },
   {
    "duration": 6,
    "start_time": "2022-03-04T11:10:50.525Z"
   },
   {
    "duration": 48,
    "start_time": "2022-03-04T11:10:50.533Z"
   },
   {
    "duration": 3,
    "start_time": "2022-03-04T11:10:50.583Z"
   },
   {
    "duration": 344,
    "start_time": "2022-03-04T11:10:50.587Z"
   },
   {
    "duration": 276,
    "start_time": "2022-03-04T11:10:50.933Z"
   },
   {
    "duration": -41,
    "start_time": "2022-03-04T11:10:51.252Z"
   },
   {
    "duration": -44,
    "start_time": "2022-03-04T11:10:51.256Z"
   },
   {
    "duration": -46,
    "start_time": "2022-03-04T11:10:51.259Z"
   },
   {
    "duration": -49,
    "start_time": "2022-03-04T11:10:51.263Z"
   },
   {
    "duration": -51,
    "start_time": "2022-03-04T11:10:51.265Z"
   },
   {
    "duration": -52,
    "start_time": "2022-03-04T11:10:51.268Z"
   },
   {
    "duration": 1486,
    "start_time": "2022-03-04T11:13:00.440Z"
   },
   {
    "duration": 4,
    "start_time": "2022-03-04T11:13:01.928Z"
   },
   {
    "duration": 844,
    "start_time": "2022-03-04T11:13:01.935Z"
   },
   {
    "duration": 4,
    "start_time": "2022-03-04T11:13:02.781Z"
   },
   {
    "duration": 35,
    "start_time": "2022-03-04T11:13:02.786Z"
   },
   {
    "duration": 30,
    "start_time": "2022-03-04T11:13:02.822Z"
   },
   {
    "duration": 74,
    "start_time": "2022-03-04T11:13:02.854Z"
   },
   {
    "duration": 203,
    "start_time": "2022-03-04T11:13:02.931Z"
   },
   {
    "duration": 2,
    "start_time": "2022-03-04T11:13:03.137Z"
   },
   {
    "duration": 23,
    "start_time": "2022-03-04T11:13:03.141Z"
   },
   {
    "duration": 9,
    "start_time": "2022-03-04T11:13:03.166Z"
   },
   {
    "duration": 28,
    "start_time": "2022-03-04T11:13:03.177Z"
   },
   {
    "duration": 3,
    "start_time": "2022-03-04T11:13:03.207Z"
   },
   {
    "duration": 8,
    "start_time": "2022-03-04T11:13:03.212Z"
   },
   {
    "duration": 33,
    "start_time": "2022-03-04T11:13:03.221Z"
   },
   {
    "duration": 22,
    "start_time": "2022-03-04T11:13:03.256Z"
   },
   {
    "duration": 27,
    "start_time": "2022-03-04T11:13:03.280Z"
   },
   {
    "duration": 39,
    "start_time": "2022-03-04T11:13:03.309Z"
   },
   {
    "duration": 30,
    "start_time": "2022-03-04T11:13:03.350Z"
   },
   {
    "duration": 27,
    "start_time": "2022-03-04T11:13:03.382Z"
   },
   {
    "duration": 30,
    "start_time": "2022-03-04T11:13:03.411Z"
   },
   {
    "duration": 7482,
    "start_time": "2022-03-04T11:13:03.443Z"
   },
   {
    "duration": 7186,
    "start_time": "2022-03-04T11:13:10.929Z"
   },
   {
    "duration": 475,
    "start_time": "2022-03-04T11:13:18.118Z"
   },
   {
    "duration": 2461,
    "start_time": "2022-03-04T11:13:18.595Z"
   },
   {
    "duration": 5,
    "start_time": "2022-03-04T11:13:21.058Z"
   },
   {
    "duration": 17,
    "start_time": "2022-03-04T11:13:21.065Z"
   },
   {
    "duration": 24,
    "start_time": "2022-03-04T11:13:21.084Z"
   },
   {
    "duration": 4,
    "start_time": "2022-03-04T11:13:21.110Z"
   },
   {
    "duration": 149274,
    "start_time": "2022-03-04T11:13:21.116Z"
   },
   {
    "duration": 4,
    "start_time": "2022-03-04T11:15:50.392Z"
   },
   {
    "duration": 5,
    "start_time": "2022-03-04T11:15:50.398Z"
   },
   {
    "duration": 283092,
    "start_time": "2022-03-04T11:15:50.405Z"
   },
   {
    "duration": 9,
    "start_time": "2022-03-04T11:20:33.584Z"
   },
   {
    "duration": 518,
    "start_time": "2022-03-04T11:20:33.595Z"
   },
   {
    "duration": -132,
    "start_time": "2022-03-04T11:20:34.247Z"
   },
   {
    "duration": -134,
    "start_time": "2022-03-04T11:20:34.250Z"
   },
   {
    "duration": 328,
    "start_time": "2022-03-04T11:21:59.141Z"
   },
   {
    "duration": 131,
    "start_time": "2022-03-04T11:22:16.954Z"
   },
   {
    "duration": 208,
    "start_time": "2022-03-04T11:22:18.481Z"
   },
   {
    "duration": 4,
    "start_time": "2022-03-04T11:22:19.891Z"
   },
   {
    "duration": 4,
    "start_time": "2022-03-04T11:26:50.946Z"
   },
   {
    "duration": 5,
    "start_time": "2022-03-04T11:27:25.812Z"
   },
   {
    "duration": 3,
    "start_time": "2022-03-04T11:27:28.656Z"
   },
   {
    "duration": 6,
    "start_time": "2022-03-04T11:28:41.513Z"
   },
   {
    "duration": 4,
    "start_time": "2022-03-04T11:29:00.775Z"
   },
   {
    "duration": 4,
    "start_time": "2022-03-04T11:29:15.179Z"
   },
   {
    "duration": 5,
    "start_time": "2022-03-04T11:33:24.550Z"
   },
   {
    "duration": 1429,
    "start_time": "2022-03-04T11:40:04.011Z"
   },
   {
    "duration": 3,
    "start_time": "2022-03-04T11:40:05.442Z"
   },
   {
    "duration": 865,
    "start_time": "2022-03-04T11:40:05.447Z"
   },
   {
    "duration": 4,
    "start_time": "2022-03-04T11:40:06.313Z"
   },
   {
    "duration": 15,
    "start_time": "2022-03-04T11:40:06.319Z"
   },
   {
    "duration": 18,
    "start_time": "2022-03-04T11:40:06.335Z"
   },
   {
    "duration": 84,
    "start_time": "2022-03-04T11:40:06.355Z"
   },
   {
    "duration": 212,
    "start_time": "2022-03-04T11:40:06.442Z"
   },
   {
    "duration": 2,
    "start_time": "2022-03-04T11:40:06.657Z"
   },
   {
    "duration": 17,
    "start_time": "2022-03-04T11:40:06.661Z"
   },
   {
    "duration": 7,
    "start_time": "2022-03-04T11:40:06.680Z"
   },
   {
    "duration": 15,
    "start_time": "2022-03-04T11:40:06.689Z"
   },
   {
    "duration": 4,
    "start_time": "2022-03-04T11:40:06.706Z"
   },
   {
    "duration": 8,
    "start_time": "2022-03-04T11:40:06.711Z"
   },
   {
    "duration": 13,
    "start_time": "2022-03-04T11:40:06.720Z"
   },
   {
    "duration": 4,
    "start_time": "2022-03-04T11:40:06.735Z"
   },
   {
    "duration": 40,
    "start_time": "2022-03-04T11:40:06.741Z"
   },
   {
    "duration": 8,
    "start_time": "2022-03-04T11:40:06.783Z"
   },
   {
    "duration": 5,
    "start_time": "2022-03-04T11:40:06.793Z"
   },
   {
    "duration": 20,
    "start_time": "2022-03-04T11:40:06.799Z"
   },
   {
    "duration": 12,
    "start_time": "2022-03-04T11:40:06.821Z"
   },
   {
    "duration": 53,
    "start_time": "2022-03-04T11:40:06.835Z"
   },
   {
    "duration": 7568,
    "start_time": "2022-03-04T11:40:06.892Z"
   },
   {
    "duration": 7152,
    "start_time": "2022-03-04T11:40:14.463Z"
   },
   {
    "duration": 472,
    "start_time": "2022-03-04T11:40:21.617Z"
   },
   {
    "duration": 2465,
    "start_time": "2022-03-04T11:40:22.090Z"
   },
   {
    "duration": 4,
    "start_time": "2022-03-04T11:40:24.557Z"
   },
   {
    "duration": 16,
    "start_time": "2022-03-04T11:40:24.563Z"
   },
   {
    "duration": 24,
    "start_time": "2022-03-04T11:40:24.581Z"
   },
   {
    "duration": 3,
    "start_time": "2022-03-04T11:40:24.607Z"
   },
   {
    "duration": 145874,
    "start_time": "2022-03-04T11:40:24.612Z"
   },
   {
    "duration": 4,
    "start_time": "2022-03-04T11:42:50.487Z"
   },
   {
    "duration": 7,
    "start_time": "2022-03-04T11:42:50.493Z"
   },
   {
    "duration": 5,
    "start_time": "2022-03-04T11:42:50.502Z"
   },
   {
    "duration": 260673,
    "start_time": "2022-03-04T11:42:50.509Z"
   },
   {
    "duration": 5,
    "start_time": "2022-03-04T11:47:11.189Z"
   },
   {
    "duration": 9,
    "start_time": "2022-03-04T11:47:11.196Z"
   },
   {
    "duration": 281,
    "start_time": "2022-03-04T11:47:11.207Z"
   },
   {
    "duration": 191,
    "start_time": "2022-03-04T11:47:11.490Z"
   },
   {
    "duration": 11,
    "start_time": "2022-03-04T11:47:11.684Z"
   },
   {
    "duration": 4,
    "start_time": "2022-03-04T12:15:44.945Z"
   },
   {
    "duration": 5,
    "start_time": "2022-03-04T12:15:48.647Z"
   },
   {
    "duration": 18,
    "start_time": "2022-03-04T12:15:48.808Z"
   },
   {
    "duration": 3,
    "start_time": "2022-03-04T12:15:48.984Z"
   },
   {
    "duration": 145209,
    "start_time": "2022-03-04T12:15:49.174Z"
   },
   {
    "duration": 3,
    "start_time": "2022-03-04T12:18:14.385Z"
   },
   {
    "duration": 7,
    "start_time": "2022-03-04T12:18:14.390Z"
   },
   {
    "duration": 4,
    "start_time": "2022-03-04T12:18:14.399Z"
   },
   {
    "duration": 230685,
    "start_time": "2022-03-04T12:18:14.404Z"
   },
   {
    "duration": 4,
    "start_time": "2022-03-04T12:22:05.091Z"
   },
   {
    "duration": 13,
    "start_time": "2022-03-04T12:22:05.096Z"
   },
   {
    "duration": 266,
    "start_time": "2022-03-04T12:22:05.111Z"
   },
   {
    "duration": 200,
    "start_time": "2022-03-04T12:22:05.379Z"
   },
   {
    "duration": 97,
    "start_time": "2022-03-04T12:22:05.582Z"
   },
   {
    "duration": 1710,
    "start_time": "2022-03-04T12:35:07.302Z"
   },
   {
    "duration": 3,
    "start_time": "2022-03-04T12:35:09.014Z"
   },
   {
    "duration": 841,
    "start_time": "2022-03-04T12:35:09.019Z"
   },
   {
    "duration": 4,
    "start_time": "2022-03-04T12:35:09.862Z"
   },
   {
    "duration": 19,
    "start_time": "2022-03-04T12:35:09.868Z"
   },
   {
    "duration": 18,
    "start_time": "2022-03-04T12:35:09.889Z"
   },
   {
    "duration": 96,
    "start_time": "2022-03-04T12:35:09.909Z"
   },
   {
    "duration": 204,
    "start_time": "2022-03-04T12:35:10.008Z"
   },
   {
    "duration": 3,
    "start_time": "2022-03-04T12:35:10.214Z"
   },
   {
    "duration": 7,
    "start_time": "2022-03-04T12:35:10.219Z"
   },
   {
    "duration": 6,
    "start_time": "2022-03-04T12:35:10.228Z"
   },
   {
    "duration": 16,
    "start_time": "2022-03-04T12:35:10.236Z"
   },
   {
    "duration": 36,
    "start_time": "2022-03-04T12:35:10.254Z"
   },
   {
    "duration": 5,
    "start_time": "2022-03-04T12:35:10.292Z"
   },
   {
    "duration": 11,
    "start_time": "2022-03-04T12:35:10.298Z"
   },
   {
    "duration": 4,
    "start_time": "2022-03-04T12:35:10.311Z"
   },
   {
    "duration": 13,
    "start_time": "2022-03-04T12:35:10.317Z"
   },
   {
    "duration": 3249,
    "start_time": "2022-03-04T12:35:10.332Z"
   },
   {
    "duration": -59,
    "start_time": "2022-03-04T12:35:13.643Z"
   },
   {
    "duration": -62,
    "start_time": "2022-03-04T12:35:13.648Z"
   },
   {
    "duration": -65,
    "start_time": "2022-03-04T12:35:13.652Z"
   },
   {
    "duration": -68,
    "start_time": "2022-03-04T12:35:13.656Z"
   },
   {
    "duration": -70,
    "start_time": "2022-03-04T12:35:13.659Z"
   },
   {
    "duration": -71,
    "start_time": "2022-03-04T12:35:13.661Z"
   },
   {
    "duration": -73,
    "start_time": "2022-03-04T12:35:13.664Z"
   },
   {
    "duration": -74,
    "start_time": "2022-03-04T12:35:13.666Z"
   },
   {
    "duration": -76,
    "start_time": "2022-03-04T12:35:13.670Z"
   },
   {
    "duration": -78,
    "start_time": "2022-03-04T12:35:13.673Z"
   },
   {
    "duration": -80,
    "start_time": "2022-03-04T12:35:13.676Z"
   },
   {
    "duration": -81,
    "start_time": "2022-03-04T12:35:13.678Z"
   },
   {
    "duration": -82,
    "start_time": "2022-03-04T12:35:13.680Z"
   },
   {
    "duration": -84,
    "start_time": "2022-03-04T12:35:13.683Z"
   },
   {
    "duration": -85,
    "start_time": "2022-03-04T12:35:13.685Z"
   },
   {
    "duration": -87,
    "start_time": "2022-03-04T12:35:13.688Z"
   },
   {
    "duration": -114,
    "start_time": "2022-03-04T12:35:13.716Z"
   },
   {
    "duration": -118,
    "start_time": "2022-03-04T12:35:13.721Z"
   },
   {
    "duration": -121,
    "start_time": "2022-03-04T12:35:13.725Z"
   },
   {
    "duration": 4,
    "start_time": "2022-03-04T12:36:45.126Z"
   },
   {
    "duration": 4,
    "start_time": "2022-03-04T12:36:45.816Z"
   },
   {
    "duration": 4,
    "start_time": "2022-03-04T12:36:46.604Z"
   },
   {
    "duration": 2,
    "start_time": "2022-03-04T12:36:46.852Z"
   },
   {
    "duration": 11,
    "start_time": "2022-03-04T12:36:47.351Z"
   },
   {
    "duration": 5,
    "start_time": "2022-03-04T12:36:47.629Z"
   },
   {
    "duration": 9,
    "start_time": "2022-03-04T12:36:48.459Z"
   },
   {
    "duration": 8,
    "start_time": "2022-03-04T12:36:49.087Z"
   },
   {
    "duration": 7,
    "start_time": "2022-03-04T12:40:00.005Z"
   },
   {
    "duration": 277,
    "start_time": "2022-03-04T12:42:50.004Z"
   },
   {
    "duration": 1311,
    "start_time": "2022-03-04T12:43:15.190Z"
   },
   {
    "duration": 2,
    "start_time": "2022-03-04T12:43:16.503Z"
   },
   {
    "duration": 865,
    "start_time": "2022-03-04T12:43:16.508Z"
   },
   {
    "duration": 8,
    "start_time": "2022-03-04T12:43:17.375Z"
   },
   {
    "duration": 20,
    "start_time": "2022-03-04T12:43:17.389Z"
   },
   {
    "duration": 29,
    "start_time": "2022-03-04T12:43:17.411Z"
   },
   {
    "duration": 79,
    "start_time": "2022-03-04T12:43:17.442Z"
   },
   {
    "duration": 207,
    "start_time": "2022-03-04T12:43:17.523Z"
   },
   {
    "duration": 2,
    "start_time": "2022-03-04T12:43:17.733Z"
   },
   {
    "duration": 11,
    "start_time": "2022-03-04T12:43:17.737Z"
   },
   {
    "duration": 8,
    "start_time": "2022-03-04T12:43:17.750Z"
   },
   {
    "duration": 27,
    "start_time": "2022-03-04T12:43:17.760Z"
   },
   {
    "duration": 4,
    "start_time": "2022-03-04T12:43:17.789Z"
   },
   {
    "duration": 8,
    "start_time": "2022-03-04T12:43:17.795Z"
   },
   {
    "duration": 13,
    "start_time": "2022-03-04T12:43:17.804Z"
   },
   {
    "duration": 4,
    "start_time": "2022-03-04T12:43:17.819Z"
   },
   {
    "duration": 12,
    "start_time": "2022-03-04T12:43:17.825Z"
   },
   {
    "duration": 6,
    "start_time": "2022-03-04T12:43:17.838Z"
   },
   {
    "duration": 49,
    "start_time": "2022-03-04T12:43:17.845Z"
   },
   {
    "duration": 7969,
    "start_time": "2022-03-04T12:43:17.896Z"
   },
   {
    "duration": 7531,
    "start_time": "2022-03-04T12:43:25.867Z"
   },
   {
    "duration": 506,
    "start_time": "2022-03-04T12:43:33.400Z"
   },
   {
    "duration": 2591,
    "start_time": "2022-03-04T12:43:33.908Z"
   },
   {
    "duration": 5,
    "start_time": "2022-03-04T12:43:36.501Z"
   },
   {
    "duration": 8,
    "start_time": "2022-03-04T12:43:36.508Z"
   },
   {
    "duration": 36,
    "start_time": "2022-03-04T12:43:36.517Z"
   },
   {
    "duration": 3,
    "start_time": "2022-03-04T12:43:36.557Z"
   },
   {
    "duration": 185529,
    "start_time": "2022-03-04T12:43:36.562Z"
   },
   {
    "duration": 4,
    "start_time": "2022-03-04T12:46:42.093Z"
   },
   {
    "duration": 13,
    "start_time": "2022-03-04T12:46:42.099Z"
   },
   {
    "duration": 23,
    "start_time": "2022-03-04T12:46:42.114Z"
   },
   {
    "duration": 269250,
    "start_time": "2022-03-04T12:46:42.139Z"
   },
   {
    "duration": 4,
    "start_time": "2022-03-04T12:51:11.391Z"
   },
   {
    "duration": 9,
    "start_time": "2022-03-04T12:51:11.397Z"
   },
   {
    "duration": 282,
    "start_time": "2022-03-04T12:51:11.408Z"
   },
   {
    "duration": 195,
    "start_time": "2022-03-04T12:51:11.692Z"
   },
   {
    "duration": 7,
    "start_time": "2022-03-04T12:51:11.890Z"
   },
   {
    "duration": 824,
    "start_time": "2022-03-04T12:58:42.990Z"
   },
   {
    "duration": 3,
    "start_time": "2022-03-04T12:58:43.816Z"
   },
   {
    "duration": 10,
    "start_time": "2022-03-04T12:58:43.821Z"
   },
   {
    "duration": 19,
    "start_time": "2022-03-04T12:58:44.238Z"
   },
   {
    "duration": 67,
    "start_time": "2022-03-04T12:58:45.629Z"
   },
   {
    "duration": 194,
    "start_time": "2022-03-04T12:58:46.394Z"
   },
   {
    "duration": 3,
    "start_time": "2022-03-04T12:58:48.548Z"
   },
   {
    "duration": 5,
    "start_time": "2022-03-04T12:58:49.168Z"
   },
   {
    "duration": 95,
    "start_time": "2022-03-04T13:00:10.822Z"
   },
   {
    "duration": 5,
    "start_time": "2022-03-04T13:01:47.161Z"
   },
   {
    "duration": 12,
    "start_time": "2022-03-04T13:04:34.217Z"
   },
   {
    "duration": 12,
    "start_time": "2022-03-04T13:04:38.580Z"
   },
   {
    "duration": 1174,
    "start_time": "2022-03-04T13:05:23.428Z"
   },
   {
    "duration": 3,
    "start_time": "2022-03-04T13:05:24.604Z"
   },
   {
    "duration": 810,
    "start_time": "2022-03-04T13:05:24.609Z"
   },
   {
    "duration": 4,
    "start_time": "2022-03-04T13:05:25.421Z"
   },
   {
    "duration": 30,
    "start_time": "2022-03-04T13:05:25.426Z"
   },
   {
    "duration": 37,
    "start_time": "2022-03-04T13:05:25.458Z"
   },
   {
    "duration": 86,
    "start_time": "2022-03-04T13:05:25.496Z"
   },
   {
    "duration": 216,
    "start_time": "2022-03-04T13:05:25.585Z"
   },
   {
    "duration": 2,
    "start_time": "2022-03-04T13:05:25.804Z"
   },
   {
    "duration": 12,
    "start_time": "2022-03-04T13:05:25.808Z"
   },
   {
    "duration": 20,
    "start_time": "2022-03-04T13:05:25.822Z"
   },
   {
    "duration": 23,
    "start_time": "2022-03-04T13:05:25.844Z"
   },
   {
    "duration": 4,
    "start_time": "2022-03-04T13:05:25.869Z"
   },
   {
    "duration": 25,
    "start_time": "2022-03-04T13:05:25.876Z"
   },
   {
    "duration": 8,
    "start_time": "2022-03-04T13:05:25.902Z"
   },
   {
    "duration": 26,
    "start_time": "2022-03-04T13:05:25.912Z"
   },
   {
    "duration": 27,
    "start_time": "2022-03-04T13:05:25.939Z"
   },
   {
    "duration": 36,
    "start_time": "2022-03-04T13:05:25.967Z"
   },
   {
    "duration": 7912,
    "start_time": "2022-03-04T13:05:26.004Z"
   },
   {
    "duration": 7366,
    "start_time": "2022-03-04T13:05:33.918Z"
   },
   {
    "duration": 499,
    "start_time": "2022-03-04T13:05:41.286Z"
   },
   {
    "duration": 2524,
    "start_time": "2022-03-04T13:05:41.787Z"
   },
   {
    "duration": 5,
    "start_time": "2022-03-04T13:05:44.314Z"
   },
   {
    "duration": 14,
    "start_time": "2022-03-04T13:05:44.320Z"
   },
   {
    "duration": 22,
    "start_time": "2022-03-04T13:05:44.336Z"
   },
   {
    "duration": 17,
    "start_time": "2022-03-04T13:05:44.360Z"
   },
   {
    "duration": 145512,
    "start_time": "2022-03-04T13:05:44.379Z"
   },
   {
    "duration": 5,
    "start_time": "2022-03-04T13:08:09.893Z"
   },
   {
    "duration": 13,
    "start_time": "2022-03-04T13:08:09.899Z"
   },
   {
    "duration": 14,
    "start_time": "2022-03-04T13:08:09.914Z"
   },
   {
    "duration": 236355,
    "start_time": "2022-03-04T13:08:09.930Z"
   },
   {
    "duration": 6,
    "start_time": "2022-03-04T13:12:06.288Z"
   },
   {
    "duration": 12,
    "start_time": "2022-03-04T13:12:06.297Z"
   },
   {
    "duration": 767,
    "start_time": "2022-03-04T13:12:06.311Z"
   },
   {
    "duration": -95,
    "start_time": "2022-03-04T13:12:07.176Z"
   },
   {
    "duration": -98,
    "start_time": "2022-03-04T13:12:07.180Z"
   },
   {
    "duration": -101,
    "start_time": "2022-03-04T13:12:07.185Z"
   },
   {
    "duration": -106,
    "start_time": "2022-03-04T13:12:07.191Z"
   },
   {
    "duration": -108,
    "start_time": "2022-03-04T13:12:07.196Z"
   },
   {
    "duration": 4,
    "start_time": "2022-03-04T13:28:53.939Z"
   },
   {
    "duration": 5,
    "start_time": "2022-03-04T13:30:25.106Z"
   },
   {
    "duration": 11,
    "start_time": "2022-03-04T13:30:30.665Z"
   },
   {
    "duration": 7953,
    "start_time": "2022-03-04T13:38:56.883Z"
   },
   {
    "duration": 7885,
    "start_time": "2022-03-04T13:39:10.720Z"
   },
   {
    "duration": 7886,
    "start_time": "2022-03-04T13:39:35.826Z"
   },
   {
    "duration": 2468,
    "start_time": "2022-03-04T13:40:05.925Z"
   },
   {
    "duration": 7849,
    "start_time": "2022-03-04T13:40:16.979Z"
   },
   {
    "duration": 480,
    "start_time": "2022-03-04T13:51:39.278Z"
   },
   {
    "duration": 466,
    "start_time": "2022-03-04T13:51:54.213Z"
   },
   {
    "duration": 2597,
    "start_time": "2022-03-04T13:54:41.285Z"
   },
   {
    "duration": 2445,
    "start_time": "2022-03-04T13:55:20.765Z"
   },
   {
    "duration": 8060,
    "start_time": "2022-03-04T13:57:06.219Z"
   },
   {
    "duration": 2543,
    "start_time": "2022-03-04T13:57:57.751Z"
   },
   {
    "duration": 2460,
    "start_time": "2022-03-04T13:58:36.631Z"
   },
   {
    "duration": 2649,
    "start_time": "2022-03-04T14:00:53.352Z"
   },
   {
    "duration": 5,
    "start_time": "2022-03-04T14:08:05.663Z"
   },
   {
    "duration": 4,
    "start_time": "2022-03-04T14:19:57.557Z"
   },
   {
    "duration": 6,
    "start_time": "2022-03-04T14:19:58.570Z"
   },
   {
    "duration": 17,
    "start_time": "2022-03-04T14:19:58.739Z"
   },
   {
    "duration": 3,
    "start_time": "2022-03-04T14:19:58.895Z"
   },
   {
    "duration": 408,
    "start_time": "2022-03-04T14:20:17.225Z"
   },
   {
    "duration": -133,
    "start_time": "2022-03-04T14:20:17.768Z"
   },
   {
    "duration": -136,
    "start_time": "2022-03-04T14:20:17.772Z"
   },
   {
    "duration": -138,
    "start_time": "2022-03-04T14:20:17.775Z"
   },
   {
    "duration": -140,
    "start_time": "2022-03-04T14:20:17.778Z"
   },
   {
    "duration": -142,
    "start_time": "2022-03-04T14:20:17.781Z"
   },
   {
    "duration": -143,
    "start_time": "2022-03-04T14:20:17.783Z"
   },
   {
    "duration": -145,
    "start_time": "2022-03-04T14:20:17.786Z"
   },
   {
    "duration": -156,
    "start_time": "2022-03-04T14:20:17.798Z"
   },
   {
    "duration": -159,
    "start_time": "2022-03-04T14:20:17.802Z"
   },
   {
    "duration": -161,
    "start_time": "2022-03-04T14:20:17.805Z"
   },
   {
    "duration": 258,
    "start_time": "2022-03-04T14:22:01.241Z"
   },
   {
    "duration": 750,
    "start_time": "2022-03-04T14:22:02.017Z"
   },
   {
    "duration": -76,
    "start_time": "2022-03-04T14:22:02.845Z"
   },
   {
    "duration": 19,
    "start_time": "2022-03-04T14:22:07.180Z"
   },
   {
    "duration": 3,
    "start_time": "2022-03-04T14:22:07.696Z"
   },
   {
    "duration": 558,
    "start_time": "2022-03-04T14:22:08.144Z"
   },
   {
    "duration": 263,
    "start_time": "2022-03-04T14:22:08.704Z"
   },
   {
    "duration": 4,
    "start_time": "2022-03-04T14:23:28.902Z"
   },
   {
    "duration": 7,
    "start_time": "2022-03-04T14:23:29.689Z"
   },
   {
    "duration": 18,
    "start_time": "2022-03-04T14:23:29.890Z"
   },
   {
    "duration": 3,
    "start_time": "2022-03-04T14:23:30.340Z"
   },
   {
    "duration": 580,
    "start_time": "2022-03-04T14:23:30.941Z"
   },
   {
    "duration": 276,
    "start_time": "2022-03-04T14:23:31.673Z"
   },
   {
    "duration": 5,
    "start_time": "2022-03-04T14:25:29.598Z"
   },
   {
    "duration": 6,
    "start_time": "2022-03-04T14:25:30.653Z"
   },
   {
    "duration": 23,
    "start_time": "2022-03-04T14:25:31.828Z"
   },
   {
    "duration": 4,
    "start_time": "2022-03-04T14:25:32.485Z"
   },
   {
    "duration": 25324,
    "start_time": "2022-03-04T14:25:33.005Z"
   },
   {
    "duration": 313,
    "start_time": "2022-03-04T14:25:58.331Z"
   },
   {
    "duration": 274,
    "start_time": "2022-03-04T14:27:52.113Z"
   },
   {
    "duration": 1325,
    "start_time": "2022-03-04T14:31:56.454Z"
   },
   {
    "duration": 3,
    "start_time": "2022-03-04T14:31:57.781Z"
   },
   {
    "duration": 849,
    "start_time": "2022-03-04T14:31:57.787Z"
   },
   {
    "duration": 4,
    "start_time": "2022-03-04T14:31:58.638Z"
   },
   {
    "duration": 13,
    "start_time": "2022-03-04T14:31:58.644Z"
   },
   {
    "duration": 31,
    "start_time": "2022-03-04T14:31:58.659Z"
   },
   {
    "duration": 89,
    "start_time": "2022-03-04T14:31:58.692Z"
   },
   {
    "duration": 206,
    "start_time": "2022-03-04T14:31:58.785Z"
   },
   {
    "duration": 3,
    "start_time": "2022-03-04T14:31:58.994Z"
   },
   {
    "duration": 8,
    "start_time": "2022-03-04T14:31:58.999Z"
   },
   {
    "duration": 6,
    "start_time": "2022-03-04T14:31:59.010Z"
   },
   {
    "duration": 22,
    "start_time": "2022-03-04T14:31:59.018Z"
   },
   {
    "duration": 5,
    "start_time": "2022-03-04T14:31:59.042Z"
   },
   {
    "duration": 425,
    "start_time": "2022-03-04T14:31:59.048Z"
   },
   {
    "duration": -33,
    "start_time": "2022-03-04T14:31:59.508Z"
   },
   {
    "duration": -35,
    "start_time": "2022-03-04T14:31:59.511Z"
   },
   {
    "duration": -36,
    "start_time": "2022-03-04T14:31:59.513Z"
   },
   {
    "duration": -38,
    "start_time": "2022-03-04T14:31:59.516Z"
   },
   {
    "duration": -40,
    "start_time": "2022-03-04T14:31:59.519Z"
   },
   {
    "duration": -43,
    "start_time": "2022-03-04T14:31:59.523Z"
   },
   {
    "duration": -44,
    "start_time": "2022-03-04T14:31:59.525Z"
   },
   {
    "duration": -45,
    "start_time": "2022-03-04T14:31:59.527Z"
   },
   {
    "duration": -47,
    "start_time": "2022-03-04T14:31:59.530Z"
   },
   {
    "duration": -48,
    "start_time": "2022-03-04T14:31:59.532Z"
   },
   {
    "duration": -50,
    "start_time": "2022-03-04T14:31:59.535Z"
   },
   {
    "duration": -50,
    "start_time": "2022-03-04T14:31:59.537Z"
   },
   {
    "duration": -53,
    "start_time": "2022-03-04T14:31:59.541Z"
   },
   {
    "duration": -55,
    "start_time": "2022-03-04T14:31:59.544Z"
   },
   {
    "duration": -56,
    "start_time": "2022-03-04T14:31:59.546Z"
   },
   {
    "duration": -57,
    "start_time": "2022-03-04T14:31:59.549Z"
   },
   {
    "duration": -58,
    "start_time": "2022-03-04T14:31:59.551Z"
   },
   {
    "duration": -59,
    "start_time": "2022-03-04T14:31:59.554Z"
   },
   {
    "duration": -67,
    "start_time": "2022-03-04T14:31:59.563Z"
   },
   {
    "duration": -69,
    "start_time": "2022-03-04T14:31:59.567Z"
   },
   {
    "duration": -70,
    "start_time": "2022-03-04T14:31:59.569Z"
   },
   {
    "duration": 279,
    "start_time": "2022-03-04T14:33:13.840Z"
   },
   {
    "duration": 337,
    "start_time": "2022-03-04T14:33:37.545Z"
   },
   {
    "duration": 5,
    "start_time": "2022-03-04T14:33:57.338Z"
   },
   {
    "duration": 9,
    "start_time": "2022-03-04T14:34:07.524Z"
   },
   {
    "duration": 2596,
    "start_time": "2022-03-04T14:35:12.359Z"
   },
   {
    "duration": -154,
    "start_time": "2022-03-04T14:35:15.110Z"
   },
   {
    "duration": -155,
    "start_time": "2022-03-04T14:35:15.113Z"
   },
   {
    "duration": 9,
    "start_time": "2022-03-04T14:35:28.426Z"
   },
   {
    "duration": 5,
    "start_time": "2022-03-04T14:35:28.665Z"
   },
   {
    "duration": 9,
    "start_time": "2022-03-04T14:35:29.034Z"
   },
   {
    "duration": 18006,
    "start_time": "2022-03-04T14:38:59.897Z"
   },
   {
    "duration": -122,
    "start_time": "2022-03-04T14:39:18.028Z"
   },
   {
    "duration": 9,
    "start_time": "2022-03-04T14:39:21.457Z"
   },
   {
    "duration": 3,
    "start_time": "2022-03-04T14:39:22.058Z"
   },
   {
    "duration": 3,
    "start_time": "2022-03-04T14:39:22.247Z"
   },
   {
    "duration": 310,
    "start_time": "2022-03-04T14:39:22.908Z"
   },
   {
    "duration": 6,
    "start_time": "2022-03-04T14:39:38.633Z"
   },
   {
    "duration": 5,
    "start_time": "2022-03-04T14:39:46.172Z"
   },
   {
    "duration": 4,
    "start_time": "2022-03-04T14:41:26.643Z"
   },
   {
    "duration": 17,
    "start_time": "2022-03-04T14:41:26.650Z"
   },
   {
    "duration": 805,
    "start_time": "2022-03-04T14:41:26.670Z"
   },
   {
    "duration": 4,
    "start_time": "2022-03-04T14:41:27.477Z"
   },
   {
    "duration": 34,
    "start_time": "2022-03-04T14:41:27.483Z"
   },
   {
    "duration": 40,
    "start_time": "2022-03-04T14:41:27.518Z"
   },
   {
    "duration": 68,
    "start_time": "2022-03-04T14:41:27.561Z"
   },
   {
    "duration": 206,
    "start_time": "2022-03-04T14:41:27.631Z"
   },
   {
    "duration": 3,
    "start_time": "2022-03-04T14:41:27.839Z"
   },
   {
    "duration": 24,
    "start_time": "2022-03-04T14:41:27.844Z"
   },
   {
    "duration": 22,
    "start_time": "2022-03-04T14:41:27.870Z"
   },
   {
    "duration": 42,
    "start_time": "2022-03-04T14:41:27.894Z"
   },
   {
    "duration": 8,
    "start_time": "2022-03-04T14:41:27.938Z"
   },
   {
    "duration": 426,
    "start_time": "2022-03-04T14:41:27.948Z"
   },
   {
    "duration": -108,
    "start_time": "2022-03-04T14:41:28.484Z"
   },
   {
    "duration": -112,
    "start_time": "2022-03-04T14:41:28.489Z"
   },
   {
    "duration": 11,
    "start_time": "2022-03-04T14:41:40.664Z"
   },
   {
    "duration": 2,
    "start_time": "2022-03-04T14:41:41.240Z"
   },
   {
    "duration": 3,
    "start_time": "2022-03-04T14:41:42.038Z"
   },
   {
    "duration": 667,
    "start_time": "2022-03-04T14:41:43.178Z"
   },
   {
    "duration": 1803,
    "start_time": "2022-03-04T14:41:58.175Z"
   },
   {
    "duration": 12155,
    "start_time": "2022-03-04T14:42:00.120Z"
   },
   {
    "duration": -124,
    "start_time": "2022-03-04T14:42:12.401Z"
   },
   {
    "duration": 549,
    "start_time": "2022-03-04T14:42:33.761Z"
   },
   {
    "duration": 556,
    "start_time": "2022-03-04T14:42:53.811Z"
   },
   {
    "duration": 6,
    "start_time": "2022-03-04T14:43:13.862Z"
   },
   {
    "duration": 7,
    "start_time": "2022-03-04T14:43:41.380Z"
   },
   {
    "duration": 6,
    "start_time": "2022-03-04T14:44:02.970Z"
   },
   {
    "duration": 15,
    "start_time": "2022-03-04T14:44:14.321Z"
   },
   {
    "duration": 7514,
    "start_time": "2022-03-04T14:44:15.902Z"
   },
   {
    "duration": 8,
    "start_time": "2022-03-04T14:44:38.526Z"
   },
   {
    "duration": 5,
    "start_time": "2022-03-04T14:47:12.393Z"
   },
   {
    "duration": 22,
    "start_time": "2022-03-04T14:48:06.832Z"
   },
   {
    "duration": 13,
    "start_time": "2022-03-04T14:48:07.100Z"
   },
   {
    "duration": 1256,
    "start_time": "2022-03-04T14:49:20.442Z"
   },
   {
    "duration": 3,
    "start_time": "2022-03-04T14:49:21.700Z"
   },
   {
    "duration": 813,
    "start_time": "2022-03-04T14:49:21.705Z"
   },
   {
    "duration": 4,
    "start_time": "2022-03-04T14:49:22.520Z"
   },
   {
    "duration": 12,
    "start_time": "2022-03-04T14:49:22.526Z"
   },
   {
    "duration": 21,
    "start_time": "2022-03-04T14:49:22.539Z"
   },
   {
    "duration": 76,
    "start_time": "2022-03-04T14:49:22.561Z"
   },
   {
    "duration": 219,
    "start_time": "2022-03-04T14:49:22.640Z"
   },
   {
    "duration": 2,
    "start_time": "2022-03-04T14:49:22.861Z"
   },
   {
    "duration": 12,
    "start_time": "2022-03-04T14:49:22.865Z"
   },
   {
    "duration": 7,
    "start_time": "2022-03-04T14:49:22.879Z"
   },
   {
    "duration": 17,
    "start_time": "2022-03-04T14:49:22.888Z"
   },
   {
    "duration": 4,
    "start_time": "2022-03-04T14:49:22.907Z"
   },
   {
    "duration": 19,
    "start_time": "2022-03-04T14:49:22.912Z"
   },
   {
    "duration": 8,
    "start_time": "2022-03-04T14:49:22.933Z"
   },
   {
    "duration": 37,
    "start_time": "2022-03-04T14:49:22.942Z"
   },
   {
    "duration": 19,
    "start_time": "2022-03-04T14:49:22.980Z"
   },
   {
    "duration": 7586,
    "start_time": "2022-03-04T14:49:23.000Z"
   },
   {
    "duration": 519,
    "start_time": "2022-03-04T14:49:30.588Z"
   },
   {
    "duration": 2373,
    "start_time": "2022-03-04T14:49:31.109Z"
   },
   {
    "duration": 4,
    "start_time": "2022-03-04T14:49:33.484Z"
   },
   {
    "duration": 18,
    "start_time": "2022-03-04T14:49:33.490Z"
   },
   {
    "duration": 16,
    "start_time": "2022-03-04T14:49:33.512Z"
   },
   {
    "duration": 192892,
    "start_time": "2022-03-04T14:49:33.530Z"
   },
   {
    "duration": 4,
    "start_time": "2022-03-04T14:52:46.423Z"
   },
   {
    "duration": 6,
    "start_time": "2022-03-04T14:52:46.429Z"
   },
   {
    "duration": 97,
    "start_time": "2022-03-04T14:52:46.437Z"
   },
   {
    "duration": -35,
    "start_time": "2022-03-04T14:52:46.571Z"
   },
   {
    "duration": -37,
    "start_time": "2022-03-04T14:52:46.574Z"
   },
   {
    "duration": -40,
    "start_time": "2022-03-04T14:52:46.577Z"
   },
   {
    "duration": -41,
    "start_time": "2022-03-04T14:52:46.579Z"
   },
   {
    "duration": -43,
    "start_time": "2022-03-04T14:52:46.582Z"
   },
   {
    "duration": -44,
    "start_time": "2022-03-04T14:52:46.584Z"
   },
   {
    "duration": -45,
    "start_time": "2022-03-04T14:52:46.586Z"
   },
   {
    "duration": 3,
    "start_time": "2022-03-04T14:54:09.873Z"
   },
   {
    "duration": 381814,
    "start_time": "2022-03-04T14:54:09.994Z"
   },
   {
    "duration": 4,
    "start_time": "2022-03-04T15:00:31.810Z"
   },
   {
    "duration": 17,
    "start_time": "2022-03-04T15:00:31.816Z"
   },
   {
    "duration": 30313,
    "start_time": "2022-03-04T15:00:31.834Z"
   },
   {
    "duration": -146,
    "start_time": "2022-03-04T15:01:02.296Z"
   },
   {
    "duration": -149,
    "start_time": "2022-03-04T15:01:02.300Z"
   },
   {
    "duration": 30431,
    "start_time": "2022-03-04T15:02:13.795Z"
   },
   {
    "duration": 1309,
    "start_time": "2022-03-04T15:04:01.206Z"
   },
   {
    "duration": 3,
    "start_time": "2022-03-04T15:04:02.517Z"
   },
   {
    "duration": 829,
    "start_time": "2022-03-04T15:04:02.525Z"
   },
   {
    "duration": 5,
    "start_time": "2022-03-04T15:04:03.356Z"
   },
   {
    "duration": 20,
    "start_time": "2022-03-04T15:04:03.363Z"
   },
   {
    "duration": 21,
    "start_time": "2022-03-04T15:04:03.385Z"
   },
   {
    "duration": 86,
    "start_time": "2022-03-04T15:04:03.408Z"
   },
   {
    "duration": 224,
    "start_time": "2022-03-04T15:04:03.497Z"
   },
   {
    "duration": 3,
    "start_time": "2022-03-04T15:04:03.723Z"
   },
   {
    "duration": 7,
    "start_time": "2022-03-04T15:04:03.728Z"
   },
   {
    "duration": 7,
    "start_time": "2022-03-04T15:04:03.737Z"
   },
   {
    "duration": 36,
    "start_time": "2022-03-04T15:04:03.746Z"
   },
   {
    "duration": 4,
    "start_time": "2022-03-04T15:04:03.783Z"
   },
   {
    "duration": 14,
    "start_time": "2022-03-04T15:04:03.789Z"
   },
   {
    "duration": 8,
    "start_time": "2022-03-04T15:04:03.805Z"
   },
   {
    "duration": 6,
    "start_time": "2022-03-04T15:04:03.815Z"
   },
   {
    "duration": 61,
    "start_time": "2022-03-04T15:04:03.822Z"
   },
   {
    "duration": 7754,
    "start_time": "2022-03-04T15:04:03.885Z"
   },
   {
    "duration": 504,
    "start_time": "2022-03-04T15:04:11.641Z"
   },
   {
    "duration": 4,
    "start_time": "2022-03-04T15:04:12.147Z"
   },
   {
    "duration": 38,
    "start_time": "2022-03-04T15:04:12.153Z"
   },
   {
    "duration": 25,
    "start_time": "2022-03-04T15:04:12.193Z"
   },
   {
    "duration": 84644,
    "start_time": "2022-03-04T15:04:12.220Z"
   },
   {
    "duration": 256,
    "start_time": "2022-03-04T15:05:36.866Z"
   },
   {
    "duration": -20,
    "start_time": "2022-03-04T15:05:37.144Z"
   },
   {
    "duration": -24,
    "start_time": "2022-03-04T15:05:37.149Z"
   },
   {
    "duration": -27,
    "start_time": "2022-03-04T15:05:37.154Z"
   },
   {
    "duration": -30,
    "start_time": "2022-03-04T15:05:37.158Z"
   },
   {
    "duration": -32,
    "start_time": "2022-03-04T15:05:37.161Z"
   },
   {
    "duration": -38,
    "start_time": "2022-03-04T15:05:37.168Z"
   },
   {
    "duration": -40,
    "start_time": "2022-03-04T15:05:37.171Z"
   },
   {
    "duration": -52,
    "start_time": "2022-03-04T15:05:37.185Z"
   },
   {
    "duration": 6,
    "start_time": "2022-03-04T15:13:18.902Z"
   },
   {
    "duration": 1338,
    "start_time": "2022-03-04T15:13:26.249Z"
   },
   {
    "duration": 3,
    "start_time": "2022-03-04T15:13:27.589Z"
   },
   {
    "duration": 818,
    "start_time": "2022-03-04T15:13:27.594Z"
   },
   {
    "duration": 3,
    "start_time": "2022-03-04T15:13:28.414Z"
   },
   {
    "duration": 11,
    "start_time": "2022-03-04T15:13:28.419Z"
   },
   {
    "duration": 21,
    "start_time": "2022-03-04T15:13:28.431Z"
   },
   {
    "duration": 65,
    "start_time": "2022-03-04T15:13:28.477Z"
   },
   {
    "duration": 235,
    "start_time": "2022-03-04T15:13:28.545Z"
   },
   {
    "duration": 3,
    "start_time": "2022-03-04T15:13:28.782Z"
   },
   {
    "duration": 8,
    "start_time": "2022-03-04T15:13:28.786Z"
   },
   {
    "duration": 7,
    "start_time": "2022-03-04T15:13:28.795Z"
   },
   {
    "duration": 19,
    "start_time": "2022-03-04T15:13:28.803Z"
   },
   {
    "duration": 3,
    "start_time": "2022-03-04T15:13:28.824Z"
   },
   {
    "duration": 48,
    "start_time": "2022-03-04T15:13:28.829Z"
   },
   {
    "duration": 9,
    "start_time": "2022-03-04T15:13:28.879Z"
   },
   {
    "duration": 6,
    "start_time": "2022-03-04T15:13:28.889Z"
   },
   {
    "duration": 22,
    "start_time": "2022-03-04T15:13:28.897Z"
   },
   {
    "duration": 7921,
    "start_time": "2022-03-04T15:13:28.920Z"
   },
   {
    "duration": 480,
    "start_time": "2022-03-04T15:13:36.843Z"
   },
   {
    "duration": 5,
    "start_time": "2022-03-04T15:13:37.325Z"
   },
   {
    "duration": 43,
    "start_time": "2022-03-04T15:13:37.331Z"
   },
   {
    "duration": 26,
    "start_time": "2022-03-04T15:13:37.376Z"
   },
   {
    "duration": 36148,
    "start_time": "2022-03-04T15:13:37.405Z"
   },
   {
    "duration": 5,
    "start_time": "2022-03-04T15:14:13.555Z"
   },
   {
    "duration": 16,
    "start_time": "2022-03-04T15:14:13.562Z"
   },
   {
    "duration": 4,
    "start_time": "2022-03-04T15:14:13.581Z"
   },
   {
    "duration": 76022,
    "start_time": "2022-03-04T15:14:13.587Z"
   },
   {
    "duration": 5,
    "start_time": "2022-03-04T15:15:29.610Z"
   },
   {
    "duration": 9,
    "start_time": "2022-03-04T15:15:29.616Z"
   },
   {
    "duration": 367,
    "start_time": "2022-03-04T15:15:29.627Z"
   },
   {
    "duration": -129,
    "start_time": "2022-03-04T15:15:30.125Z"
   },
   {
    "duration": -131,
    "start_time": "2022-03-04T15:15:30.128Z"
   },
   {
    "duration": 3477,
    "start_time": "2022-03-04T15:16:40.824Z"
   },
   {
    "duration": 4,
    "start_time": "2022-03-04T15:17:36.990Z"
   },
   {
    "duration": 3,
    "start_time": "2022-03-04T15:17:38.004Z"
   },
   {
    "duration": 70471,
    "start_time": "2022-03-04T15:17:39.204Z"
   },
   {
    "duration": 300,
    "start_time": "2022-03-04T15:18:49.678Z"
   },
   {
    "duration": -102,
    "start_time": "2022-03-04T15:18:50.082Z"
   },
   {
    "duration": -104,
    "start_time": "2022-03-04T15:18:50.085Z"
   },
   {
    "duration": -107,
    "start_time": "2022-03-04T15:18:50.089Z"
   },
   {
    "duration": 3,
    "start_time": "2022-03-04T15:18:51.409Z"
   },
   {
    "duration": 280383,
    "start_time": "2022-03-04T15:18:51.753Z"
   },
   {
    "duration": 6,
    "start_time": "2022-03-04T15:23:32.138Z"
   },
   {
    "duration": 16,
    "start_time": "2022-03-04T15:23:32.146Z"
   },
   {
    "duration": 13,
    "start_time": "2022-03-04T15:23:32.165Z"
   },
   {
    "duration": 214824,
    "start_time": "2022-03-04T15:23:32.180Z"
   },
   {
    "duration": 5,
    "start_time": "2022-03-04T15:27:07.006Z"
   },
   {
    "duration": 8,
    "start_time": "2022-03-04T15:27:07.012Z"
   },
   {
    "duration": 3489,
    "start_time": "2022-03-04T15:27:07.022Z"
   },
   {
    "duration": -136,
    "start_time": "2022-03-04T15:27:10.649Z"
   },
   {
    "duration": -138,
    "start_time": "2022-03-04T15:27:10.652Z"
   },
   {
    "duration": 3046,
    "start_time": "2022-03-04T15:28:39.322Z"
   },
   {
    "duration": 64821,
    "start_time": "2022-03-04T15:28:44.223Z"
   },
   {
    "duration": 5,
    "start_time": "2022-03-04T15:29:49.046Z"
   },
   {
    "duration": 277,
    "start_time": "2022-03-04T15:37:24.989Z"
   },
   {
    "duration": 4,
    "start_time": "2022-03-04T15:38:22.929Z"
   },
   {
    "duration": 338,
    "start_time": "2022-03-04T15:38:27.267Z"
   },
   {
    "duration": 608,
    "start_time": "2022-03-04T15:39:01.305Z"
   },
   {
    "duration": 272,
    "start_time": "2022-03-04T15:39:54.471Z"
   },
   {
    "duration": 7,
    "start_time": "2022-03-04T15:40:31.120Z"
   },
   {
    "duration": 4,
    "start_time": "2022-03-04T15:40:38.781Z"
   },
   {
    "duration": 282582,
    "start_time": "2022-03-04T15:40:39.086Z"
   },
   {
    "duration": 9,
    "start_time": "2022-03-04T15:45:21.670Z"
   },
   {
    "duration": 23,
    "start_time": "2022-03-04T15:45:21.682Z"
   },
   {
    "duration": 12,
    "start_time": "2022-03-04T15:45:21.707Z"
   },
   {
    "duration": 216730,
    "start_time": "2022-03-04T15:45:21.721Z"
   },
   {
    "duration": 4,
    "start_time": "2022-03-04T15:48:58.453Z"
   },
   {
    "duration": 14,
    "start_time": "2022-03-04T15:48:58.458Z"
   },
   {
    "duration": 2997,
    "start_time": "2022-03-04T15:48:58.478Z"
   },
   {
    "duration": 63113,
    "start_time": "2022-03-04T15:49:01.477Z"
   },
   {
    "duration": 4,
    "start_time": "2022-03-04T15:50:04.591Z"
   },
   {
    "duration": 29195,
    "start_time": "2022-03-04T15:50:04.597Z"
   },
   {
    "duration": 63241,
    "start_time": "2022-03-04T15:50:33.793Z"
   },
   {
    "duration": 29503,
    "start_time": "2022-03-04T15:51:37.035Z"
   },
   {
    "duration": 63701,
    "start_time": "2022-03-04T15:52:06.540Z"
   },
   {
    "duration": 4,
    "start_time": "2022-03-04T15:53:10.243Z"
   },
   {
    "duration": 18,
    "start_time": "2022-03-04T15:53:10.248Z"
   },
   {
    "duration": 1173,
    "start_time": "2022-03-04T23:25:50.299Z"
   },
   {
    "duration": 3,
    "start_time": "2022-03-04T23:25:51.473Z"
   },
   {
    "duration": 3510,
    "start_time": "2022-03-04T23:25:53.491Z"
   },
   {
    "duration": 4,
    "start_time": "2022-03-04T23:25:57.003Z"
   },
   {
    "duration": 7,
    "start_time": "2022-03-04T23:27:20.877Z"
   },
   {
    "duration": 15,
    "start_time": "2022-03-04T23:27:24.161Z"
   },
   {
    "duration": 46,
    "start_time": "2022-03-04T23:27:33.394Z"
   },
   {
    "duration": 160,
    "start_time": "2022-03-04T23:27:40.321Z"
   },
   {
    "duration": 380,
    "start_time": "2022-03-04T23:28:13.293Z"
   },
   {
    "duration": 2,
    "start_time": "2022-03-04T23:28:17.567Z"
   },
   {
    "duration": 4,
    "start_time": "2022-03-04T23:28:18.172Z"
   },
   {
    "duration": 5,
    "start_time": "2022-03-04T23:28:18.582Z"
   },
   {
    "duration": 13,
    "start_time": "2022-03-04T23:29:10.568Z"
   },
   {
    "duration": 3,
    "start_time": "2022-03-04T23:30:51.728Z"
   },
   {
    "duration": 12,
    "start_time": "2022-03-04T23:30:53.176Z"
   },
   {
    "duration": 8,
    "start_time": "2022-03-04T23:30:54.766Z"
   },
   {
    "duration": 5,
    "start_time": "2022-03-04T23:30:56.663Z"
   },
   {
    "duration": 16,
    "start_time": "2022-03-04T23:31:21.312Z"
   },
   {
    "duration": 3,
    "start_time": "2022-03-04T23:32:52.374Z"
   },
   {
    "duration": 3,
    "start_time": "2022-03-04T23:33:28.913Z"
   },
   {
    "duration": 5617,
    "start_time": "2022-03-04T23:33:41.797Z"
   },
   {
    "duration": 328,
    "start_time": "2022-03-04T23:34:16.610Z"
   },
   {
    "duration": 4,
    "start_time": "2022-03-04T23:39:56.896Z"
   },
   {
    "duration": 4,
    "start_time": "2022-03-04T23:41:10.663Z"
   },
   {
    "duration": 3,
    "start_time": "2022-03-04T23:41:25.679Z"
   },
   {
    "duration": 117220,
    "start_time": "2022-03-04T23:41:36.798Z"
   },
   {
    "duration": 3,
    "start_time": "2022-03-04T23:46:54.989Z"
   },
   {
    "duration": 5,
    "start_time": "2022-03-04T23:46:56.457Z"
   },
   {
    "duration": 3,
    "start_time": "2022-03-04T23:46:57.854Z"
   },
   {
    "duration": 235042,
    "start_time": "2022-03-04T23:46:58.770Z"
   },
   {
    "duration": 3,
    "start_time": "2022-03-04T23:50:53.814Z"
   },
   {
    "duration": 7,
    "start_time": "2022-03-04T23:50:53.819Z"
   },
   {
    "duration": 3,
    "start_time": "2022-03-05T00:03:23.879Z"
   },
   {
    "duration": 2,
    "start_time": "2022-03-05T00:03:39.370Z"
   },
   {
    "duration": 12,
    "start_time": "2022-03-05T00:03:59.804Z"
   },
   {
    "duration": 294,
    "start_time": "2022-03-05T00:09:03.804Z"
   },
   {
    "duration": 36841,
    "start_time": "2022-03-05T00:09:10.695Z"
   },
   {
    "duration": 412,
    "start_time": "2022-03-05T00:09:47.538Z"
   },
   {
    "duration": 3,
    "start_time": "2022-03-05T00:09:47.952Z"
   },
   {
    "duration": 4,
    "start_time": "2022-03-05T00:10:28.537Z"
   },
   {
    "duration": 5,
    "start_time": "2022-03-05T00:10:36.942Z"
   },
   {
    "duration": 1211,
    "start_time": "2022-03-06T10:42:21.140Z"
   },
   {
    "duration": 1207,
    "start_time": "2022-03-06T11:26:21.536Z"
   },
   {
    "duration": 3,
    "start_time": "2022-03-06T11:26:22.745Z"
   },
   {
    "duration": 712,
    "start_time": "2022-03-06T11:26:22.752Z"
   },
   {
    "duration": 4,
    "start_time": "2022-03-06T11:26:23.465Z"
   },
   {
    "duration": 23,
    "start_time": "2022-03-06T11:26:23.471Z"
   },
   {
    "duration": 38,
    "start_time": "2022-03-06T11:26:23.496Z"
   },
   {
    "duration": 67,
    "start_time": "2022-03-06T11:26:23.536Z"
   },
   {
    "duration": 301,
    "start_time": "2022-03-06T11:26:23.605Z"
   },
   {
    "duration": 2,
    "start_time": "2022-03-06T11:26:23.908Z"
   },
   {
    "duration": 24,
    "start_time": "2022-03-06T11:26:23.912Z"
   },
   {
    "duration": 20,
    "start_time": "2022-03-06T11:26:23.937Z"
   },
   {
    "duration": 33,
    "start_time": "2022-03-06T11:26:23.959Z"
   },
   {
    "duration": 27,
    "start_time": "2022-03-06T11:26:23.994Z"
   },
   {
    "duration": 33,
    "start_time": "2022-03-06T11:26:24.023Z"
   },
   {
    "duration": 17,
    "start_time": "2022-03-06T11:26:24.058Z"
   },
   {
    "duration": 9,
    "start_time": "2022-03-06T11:26:24.077Z"
   },
   {
    "duration": 35,
    "start_time": "2022-03-06T11:26:24.088Z"
   },
   {
    "duration": 13,
    "start_time": "2022-03-06T11:26:24.125Z"
   },
   {
    "duration": 6497,
    "start_time": "2022-03-06T11:26:24.140Z"
   },
   {
    "duration": 369,
    "start_time": "2022-03-06T11:26:30.639Z"
   },
   {
    "duration": 5,
    "start_time": "2022-03-06T11:26:31.010Z"
   },
   {
    "duration": 11,
    "start_time": "2022-03-06T11:26:31.018Z"
   },
   {
    "duration": 10,
    "start_time": "2022-03-06T11:26:31.031Z"
   },
   {
    "duration": 128012,
    "start_time": "2022-03-06T11:26:31.043Z"
   },
   {
    "duration": 8,
    "start_time": "2022-03-06T11:28:39.057Z"
   },
   {
    "duration": 10,
    "start_time": "2022-03-06T11:28:39.067Z"
   },
   {
    "duration": 9,
    "start_time": "2022-03-06T11:28:39.078Z"
   },
   {
    "duration": 251734,
    "start_time": "2022-03-06T11:28:39.088Z"
   },
   {
    "duration": 4,
    "start_time": "2022-03-06T11:32:50.824Z"
   },
   {
    "duration": 29,
    "start_time": "2022-03-06T11:32:50.829Z"
   },
   {
    "duration": 39571,
    "start_time": "2022-03-06T11:32:50.859Z"
   },
   {
    "duration": 344,
    "start_time": "2022-03-06T11:33:30.431Z"
   },
   {
    "duration": 3,
    "start_time": "2022-03-06T11:33:30.777Z"
   },
   {
    "duration": 317,
    "start_time": "2022-03-06T11:33:30.781Z"
   },
   {
    "duration": 1322,
    "start_time": "2022-03-06T18:17:47.584Z"
   },
   {
    "duration": 1091,
    "start_time": "2022-03-06T18:18:21.617Z"
   },
   {
    "duration": 1958,
    "start_time": "2022-03-06T18:18:39.426Z"
   },
   {
    "duration": 1857,
    "start_time": "2022-03-06T18:19:07.455Z"
   },
   {
    "duration": 1426,
    "start_time": "2022-03-06T18:19:26.487Z"
   },
   {
    "duration": 7045,
    "start_time": "2022-03-06T18:19:58.337Z"
   },
   {
    "duration": 7031,
    "start_time": "2022-03-06T18:20:31.388Z"
   },
   {
    "duration": 7091,
    "start_time": "2022-03-06T18:23:19.910Z"
   },
   {
    "duration": 6903,
    "start_time": "2022-03-06T18:24:09.316Z"
   },
   {
    "duration": 6948,
    "start_time": "2022-03-06T18:24:28.254Z"
   },
   {
    "duration": 6980,
    "start_time": "2022-03-06T18:24:53.186Z"
   },
   {
    "duration": 6766,
    "start_time": "2022-03-06T18:25:23.475Z"
   },
   {
    "duration": 1893,
    "start_time": "2022-03-06T18:26:37.427Z"
   },
   {
    "duration": 6888,
    "start_time": "2022-03-06T20:26:52.432Z"
   },
   {
    "duration": 1877,
    "start_time": "2022-03-06T20:27:47.739Z"
   },
   {
    "duration": 2110,
    "start_time": "2022-03-06T20:28:37.211Z"
   },
   {
    "duration": 1657,
    "start_time": "2022-03-06T20:29:01.251Z"
   },
   {
    "duration": 2148,
    "start_time": "2022-03-06T20:29:07.256Z"
   },
   {
    "duration": 1954,
    "start_time": "2022-03-06T20:29:22.592Z"
   },
   {
    "duration": 2091,
    "start_time": "2022-03-06T20:30:33.371Z"
   },
   {
    "duration": 4,
    "start_time": "2022-03-06T20:39:00.638Z"
   },
   {
    "duration": 23,
    "start_time": "2022-03-06T20:39:09.913Z"
   },
   {
    "duration": 209,
    "start_time": "2022-03-06T20:39:47.321Z"
   },
   {
    "duration": 2425,
    "start_time": "2022-03-06T20:39:52.185Z"
   },
   {
    "duration": 1963,
    "start_time": "2022-03-06T20:40:25.688Z"
   },
   {
    "duration": 9545,
    "start_time": "2022-03-06T20:41:16.226Z"
   },
   {
    "duration": 463,
    "start_time": "2022-03-06T20:42:18.377Z"
   },
   {
    "duration": 257,
    "start_time": "2022-03-06T20:42:31.125Z"
   },
   {
    "duration": 9579,
    "start_time": "2022-03-06T20:42:37.668Z"
   },
   {
    "duration": 9328,
    "start_time": "2022-03-06T20:43:03.191Z"
   },
   {
    "duration": 36,
    "start_time": "2022-03-06T20:44:05.175Z"
   },
   {
    "duration": 2164,
    "start_time": "2022-03-06T20:44:07.186Z"
   },
   {
    "duration": 31,
    "start_time": "2022-03-06T20:44:24.412Z"
   },
   {
    "duration": 1617,
    "start_time": "2022-03-06T20:44:26.006Z"
   },
   {
    "duration": 4,
    "start_time": "2022-03-06T20:44:42.023Z"
   },
   {
    "duration": 6,
    "start_time": "2022-03-06T20:44:42.028Z"
   },
   {
    "duration": 731,
    "start_time": "2022-03-06T20:44:42.036Z"
   },
   {
    "duration": 3,
    "start_time": "2022-03-06T20:44:42.769Z"
   },
   {
    "duration": 10,
    "start_time": "2022-03-06T20:44:42.774Z"
   },
   {
    "duration": 20,
    "start_time": "2022-03-06T20:44:42.785Z"
   },
   {
    "duration": 72,
    "start_time": "2022-03-06T20:44:42.807Z"
   },
   {
    "duration": 178,
    "start_time": "2022-03-06T20:44:42.881Z"
   },
   {
    "duration": 2,
    "start_time": "2022-03-06T20:44:43.061Z"
   },
   {
    "duration": 8,
    "start_time": "2022-03-06T20:44:43.065Z"
   },
   {
    "duration": 8,
    "start_time": "2022-03-06T20:44:43.075Z"
   },
   {
    "duration": 14,
    "start_time": "2022-03-06T20:44:43.085Z"
   },
   {
    "duration": 3,
    "start_time": "2022-03-06T20:44:43.101Z"
   },
   {
    "duration": 12,
    "start_time": "2022-03-06T20:44:43.107Z"
   },
   {
    "duration": 7,
    "start_time": "2022-03-06T20:44:43.120Z"
   },
   {
    "duration": 35,
    "start_time": "2022-03-06T20:44:43.128Z"
   },
   {
    "duration": 16,
    "start_time": "2022-03-06T20:44:43.165Z"
   },
   {
    "duration": 23,
    "start_time": "2022-03-06T20:44:43.183Z"
   },
   {
    "duration": 4,
    "start_time": "2022-03-06T20:44:43.208Z"
   },
   {
    "duration": 5954,
    "start_time": "2022-03-06T20:44:43.214Z"
   },
   {
    "duration": 934,
    "start_time": "2022-03-06T20:44:49.170Z"
   },
   {
    "duration": 34,
    "start_time": "2022-03-06T20:44:50.106Z"
   },
   {
    "duration": 1960,
    "start_time": "2022-03-06T20:44:52.079Z"
   },
   {
    "duration": 4662,
    "start_time": "2022-03-06T20:45:58.168Z"
   },
   {
    "duration": 2035,
    "start_time": "2022-03-06T20:46:02.832Z"
   },
   {
    "duration": 1135,
    "start_time": "2022-03-06T20:46:20.388Z"
   },
   {
    "duration": 2,
    "start_time": "2022-03-06T20:46:21.525Z"
   },
   {
    "duration": 764,
    "start_time": "2022-03-06T20:46:21.529Z"
   },
   {
    "duration": 3,
    "start_time": "2022-03-06T20:46:22.296Z"
   },
   {
    "duration": 11,
    "start_time": "2022-03-06T20:46:22.301Z"
   },
   {
    "duration": 22,
    "start_time": "2022-03-06T20:46:22.313Z"
   },
   {
    "duration": 65,
    "start_time": "2022-03-06T20:46:22.337Z"
   },
   {
    "duration": 193,
    "start_time": "2022-03-06T20:46:22.405Z"
   },
   {
    "duration": 2,
    "start_time": "2022-03-06T20:46:22.600Z"
   },
   {
    "duration": 7,
    "start_time": "2022-03-06T20:46:22.604Z"
   },
   {
    "duration": 7,
    "start_time": "2022-03-06T20:46:22.612Z"
   },
   {
    "duration": 15,
    "start_time": "2022-03-06T20:46:22.621Z"
   },
   {
    "duration": 3,
    "start_time": "2022-03-06T20:46:22.638Z"
   },
   {
    "duration": 13,
    "start_time": "2022-03-06T20:46:22.663Z"
   },
   {
    "duration": 6,
    "start_time": "2022-03-06T20:46:22.678Z"
   },
   {
    "duration": 5,
    "start_time": "2022-03-06T20:46:22.686Z"
   },
   {
    "duration": 18,
    "start_time": "2022-03-06T20:46:22.692Z"
   },
   {
    "duration": 23,
    "start_time": "2022-03-06T20:46:22.711Z"
   },
   {
    "duration": 29,
    "start_time": "2022-03-06T20:46:22.735Z"
   },
   {
    "duration": 6956,
    "start_time": "2022-03-06T20:46:22.766Z"
   },
   {
    "duration": 417,
    "start_time": "2022-03-06T20:46:29.724Z"
   },
   {
    "duration": 4968,
    "start_time": "2022-03-06T20:46:30.143Z"
   },
   {
    "duration": 1954,
    "start_time": "2022-03-06T20:46:35.115Z"
   },
   {
    "duration": 4,
    "start_time": "2022-03-06T20:46:37.071Z"
   },
   {
    "duration": 17,
    "start_time": "2022-03-06T20:46:37.076Z"
   },
   {
    "duration": 9,
    "start_time": "2022-03-06T20:46:37.095Z"
   },
   {
    "duration": 124473,
    "start_time": "2022-03-06T20:46:37.105Z"
   },
   {
    "duration": 4,
    "start_time": "2022-03-06T20:48:41.580Z"
   },
   {
    "duration": 6,
    "start_time": "2022-03-06T20:48:41.585Z"
   },
   {
    "duration": 6,
    "start_time": "2022-03-06T20:48:41.592Z"
   },
   {
    "duration": 246406,
    "start_time": "2022-03-06T20:48:41.600Z"
   },
   {
    "duration": 4,
    "start_time": "2022-03-06T20:52:48.007Z"
   },
   {
    "duration": 5,
    "start_time": "2022-03-06T20:52:48.013Z"
   },
   {
    "duration": 38869,
    "start_time": "2022-03-06T20:52:48.020Z"
   },
   {
    "duration": 353,
    "start_time": "2022-03-06T20:53:26.891Z"
   },
   {
    "duration": 3,
    "start_time": "2022-03-06T20:53:27.246Z"
   },
   {
    "duration": 307,
    "start_time": "2022-03-06T20:53:27.250Z"
   },
   {
    "duration": 4,
    "start_time": "2022-03-06T21:04:42.695Z"
   },
   {
    "duration": 221,
    "start_time": "2022-03-06T21:04:51.625Z"
   },
   {
    "duration": 227,
    "start_time": "2022-03-06T21:05:10.304Z"
   },
   {
    "duration": 216,
    "start_time": "2022-03-06T21:05:57.998Z"
   },
   {
    "duration": 221,
    "start_time": "2022-03-06T21:10:18.618Z"
   },
   {
    "duration": 41076,
    "start_time": "2022-03-06T21:15:44.253Z"
   },
   {
    "duration": 212,
    "start_time": "2022-03-06T21:17:35.837Z"
   },
   {
    "duration": 1172,
    "start_time": "2022-03-06T21:18:01.993Z"
   },
   {
    "duration": 2,
    "start_time": "2022-03-06T21:18:03.167Z"
   },
   {
    "duration": 787,
    "start_time": "2022-03-06T21:18:03.171Z"
   },
   {
    "duration": 3,
    "start_time": "2022-03-06T21:18:03.961Z"
   },
   {
    "duration": 38,
    "start_time": "2022-03-06T21:18:03.966Z"
   },
   {
    "duration": 29,
    "start_time": "2022-03-06T21:18:04.006Z"
   },
   {
    "duration": 74,
    "start_time": "2022-03-06T21:18:04.037Z"
   },
   {
    "duration": 205,
    "start_time": "2022-03-06T21:18:04.113Z"
   },
   {
    "duration": 2,
    "start_time": "2022-03-06T21:18:04.320Z"
   },
   {
    "duration": 21,
    "start_time": "2022-03-06T21:18:04.324Z"
   },
   {
    "duration": 17,
    "start_time": "2022-03-06T21:18:04.347Z"
   },
   {
    "duration": 37,
    "start_time": "2022-03-06T21:18:04.366Z"
   },
   {
    "duration": 8,
    "start_time": "2022-03-06T21:18:04.405Z"
   },
   {
    "duration": 48,
    "start_time": "2022-03-06T21:18:04.415Z"
   },
   {
    "duration": 26,
    "start_time": "2022-03-06T21:18:04.465Z"
   },
   {
    "duration": 430,
    "start_time": "2022-03-06T21:18:04.493Z"
   },
   {
    "duration": -79,
    "start_time": "2022-03-06T21:18:05.005Z"
   },
   {
    "duration": -83,
    "start_time": "2022-03-06T21:18:05.010Z"
   },
   {
    "duration": -87,
    "start_time": "2022-03-06T21:18:05.015Z"
   },
   {
    "duration": -92,
    "start_time": "2022-03-06T21:18:05.021Z"
   },
   {
    "duration": -96,
    "start_time": "2022-03-06T21:18:05.026Z"
   },
   {
    "duration": -98,
    "start_time": "2022-03-06T21:18:05.029Z"
   },
   {
    "duration": -101,
    "start_time": "2022-03-06T21:18:05.033Z"
   },
   {
    "duration": -130,
    "start_time": "2022-03-06T21:18:05.063Z"
   },
   {
    "duration": -134,
    "start_time": "2022-03-06T21:18:05.068Z"
   },
   {
    "duration": -139,
    "start_time": "2022-03-06T21:18:05.074Z"
   },
   {
    "duration": -142,
    "start_time": "2022-03-06T21:18:05.078Z"
   },
   {
    "duration": -146,
    "start_time": "2022-03-06T21:18:05.083Z"
   },
   {
    "duration": -149,
    "start_time": "2022-03-06T21:18:05.087Z"
   },
   {
    "duration": -153,
    "start_time": "2022-03-06T21:18:05.092Z"
   },
   {
    "duration": -156,
    "start_time": "2022-03-06T21:18:05.096Z"
   },
   {
    "duration": -158,
    "start_time": "2022-03-06T21:18:05.099Z"
   },
   {
    "duration": -160,
    "start_time": "2022-03-06T21:18:05.102Z"
   },
   {
    "duration": -163,
    "start_time": "2022-03-06T21:18:05.106Z"
   },
   {
    "duration": -166,
    "start_time": "2022-03-06T21:18:05.110Z"
   },
   {
    "duration": -168,
    "start_time": "2022-03-06T21:18:05.113Z"
   },
   {
    "duration": 1135,
    "start_time": "2022-03-06T21:21:45.712Z"
   },
   {
    "duration": 3,
    "start_time": "2022-03-06T21:21:46.849Z"
   },
   {
    "duration": 792,
    "start_time": "2022-03-06T21:21:46.854Z"
   },
   {
    "duration": 3,
    "start_time": "2022-03-06T21:21:47.648Z"
   },
   {
    "duration": 18,
    "start_time": "2022-03-06T21:21:47.653Z"
   },
   {
    "duration": 18,
    "start_time": "2022-03-06T21:21:47.672Z"
   },
   {
    "duration": 72,
    "start_time": "2022-03-06T21:21:47.692Z"
   },
   {
    "duration": 196,
    "start_time": "2022-03-06T21:21:47.767Z"
   },
   {
    "duration": 2,
    "start_time": "2022-03-06T21:21:47.965Z"
   },
   {
    "duration": 7,
    "start_time": "2022-03-06T21:21:47.968Z"
   },
   {
    "duration": 6,
    "start_time": "2022-03-06T21:21:47.977Z"
   },
   {
    "duration": 16,
    "start_time": "2022-03-06T21:21:47.985Z"
   },
   {
    "duration": 4,
    "start_time": "2022-03-06T21:21:48.003Z"
   },
   {
    "duration": 20,
    "start_time": "2022-03-06T21:21:48.009Z"
   },
   {
    "duration": 33,
    "start_time": "2022-03-06T21:21:48.031Z"
   },
   {
    "duration": 321,
    "start_time": "2022-03-06T21:21:48.066Z"
   },
   {
    "duration": -126,
    "start_time": "2022-03-06T21:21:48.515Z"
   },
   {
    "duration": -132,
    "start_time": "2022-03-06T21:21:48.522Z"
   },
   {
    "duration": -136,
    "start_time": "2022-03-06T21:21:48.527Z"
   },
   {
    "duration": -141,
    "start_time": "2022-03-06T21:21:48.533Z"
   },
   {
    "duration": -146,
    "start_time": "2022-03-06T21:21:48.539Z"
   },
   {
    "duration": -154,
    "start_time": "2022-03-06T21:21:48.548Z"
   },
   {
    "duration": -159,
    "start_time": "2022-03-06T21:21:48.554Z"
   },
   {
    "duration": -165,
    "start_time": "2022-03-06T21:21:48.561Z"
   },
   {
    "duration": -170,
    "start_time": "2022-03-06T21:21:48.567Z"
   },
   {
    "duration": -175,
    "start_time": "2022-03-06T21:21:48.573Z"
   },
   {
    "duration": -181,
    "start_time": "2022-03-06T21:21:48.580Z"
   },
   {
    "duration": -186,
    "start_time": "2022-03-06T21:21:48.586Z"
   },
   {
    "duration": -191,
    "start_time": "2022-03-06T21:21:48.592Z"
   },
   {
    "duration": -240,
    "start_time": "2022-03-06T21:21:48.642Z"
   },
   {
    "duration": -247,
    "start_time": "2022-03-06T21:21:48.650Z"
   },
   {
    "duration": -253,
    "start_time": "2022-03-06T21:21:48.657Z"
   },
   {
    "duration": -257,
    "start_time": "2022-03-06T21:21:48.662Z"
   },
   {
    "duration": -264,
    "start_time": "2022-03-06T21:21:48.670Z"
   },
   {
    "duration": -268,
    "start_time": "2022-03-06T21:21:48.675Z"
   },
   {
    "duration": -275,
    "start_time": "2022-03-06T21:21:48.683Z"
   },
   {
    "duration": 12,
    "start_time": "2022-03-06T21:22:28.032Z"
   },
   {
    "duration": 8,
    "start_time": "2022-03-06T21:22:29.811Z"
   },
   {
    "duration": 7,
    "start_time": "2022-03-06T21:22:49.131Z"
   },
   {
    "duration": 7,
    "start_time": "2022-03-06T21:22:53.132Z"
   },
   {
    "duration": 4,
    "start_time": "2022-03-06T21:22:53.141Z"
   },
   {
    "duration": 18,
    "start_time": "2022-03-06T21:22:54.202Z"
   },
   {
    "duration": 28,
    "start_time": "2022-03-06T21:22:54.578Z"
   },
   {
    "duration": 3,
    "start_time": "2022-03-06T21:22:56.619Z"
   },
   {
    "duration": 6330,
    "start_time": "2022-03-06T21:23:01.693Z"
   },
   {
    "duration": 390,
    "start_time": "2022-03-06T21:23:08.424Z"
   },
   {
    "duration": 2138,
    "start_time": "2022-03-06T21:23:09.230Z"
   },
   {
    "duration": 5,
    "start_time": "2022-03-06T21:23:17.840Z"
   },
   {
    "duration": 5,
    "start_time": "2022-03-06T21:23:21.244Z"
   },
   {
    "duration": 5,
    "start_time": "2022-03-06T21:23:27.251Z"
   },
   {
    "duration": 3,
    "start_time": "2022-03-06T21:23:28.259Z"
   },
   {
    "duration": 128454,
    "start_time": "2022-03-06T21:23:28.789Z"
   },
   {
    "duration": 16,
    "start_time": "2022-03-06T21:25:37.246Z"
   },
   {
    "duration": 4,
    "start_time": "2022-03-06T21:25:37.265Z"
   },
   {
    "duration": 5,
    "start_time": "2022-03-06T21:25:37.272Z"
   },
   {
    "duration": 256918,
    "start_time": "2022-03-06T21:25:37.278Z"
   },
   {
    "duration": 5,
    "start_time": "2022-03-06T21:29:54.198Z"
   },
   {
    "duration": 14,
    "start_time": "2022-03-06T21:29:54.205Z"
   },
   {
    "duration": 41652,
    "start_time": "2022-03-06T21:29:54.222Z"
   },
   {
    "duration": -211,
    "start_time": "2022-03-06T21:30:36.087Z"
   },
   {
    "duration": -216,
    "start_time": "2022-03-06T21:30:36.092Z"
   },
   {
    "duration": -228,
    "start_time": "2022-03-06T21:30:36.106Z"
   },
   {
    "duration": -232,
    "start_time": "2022-03-06T21:30:36.111Z"
   },
   {
    "duration": 30,
    "start_time": "2022-03-06T21:34:29.791Z"
   },
   {
    "duration": 5,
    "start_time": "2022-03-06T21:35:29.649Z"
   },
   {
    "duration": 796,
    "start_time": "2022-03-06T21:39:02.383Z"
   },
   {
    "duration": 4,
    "start_time": "2022-03-06T21:39:04.449Z"
   },
   {
    "duration": 7,
    "start_time": "2022-03-06T21:39:06.939Z"
   },
   {
    "duration": 16,
    "start_time": "2022-03-06T21:39:07.058Z"
   },
   {
    "duration": 56,
    "start_time": "2022-03-06T21:39:07.196Z"
   },
   {
    "duration": 170,
    "start_time": "2022-03-06T21:39:07.269Z"
   },
   {
    "duration": 2,
    "start_time": "2022-03-06T21:39:07.441Z"
   },
   {
    "duration": 7,
    "start_time": "2022-03-06T21:39:07.445Z"
   },
   {
    "duration": 5,
    "start_time": "2022-03-06T21:39:07.468Z"
   },
   {
    "duration": 13,
    "start_time": "2022-03-06T21:39:07.633Z"
   },
   {
    "duration": 4,
    "start_time": "2022-03-06T21:39:07.753Z"
   },
   {
    "duration": 10,
    "start_time": "2022-03-06T21:39:07.833Z"
   },
   {
    "duration": 8,
    "start_time": "2022-03-06T21:39:07.923Z"
   },
   {
    "duration": 6,
    "start_time": "2022-03-06T21:39:08.046Z"
   },
   {
    "duration": 15,
    "start_time": "2022-03-06T21:39:08.205Z"
   },
   {
    "duration": 25,
    "start_time": "2022-03-06T21:39:08.234Z"
   },
   {
    "duration": 4,
    "start_time": "2022-03-06T21:39:08.307Z"
   },
   {
    "duration": 6409,
    "start_time": "2022-03-06T21:39:08.517Z"
   },
   {
    "duration": 571,
    "start_time": "2022-03-06T21:39:14.928Z"
   },
   {
    "duration": 2012,
    "start_time": "2022-03-06T21:39:15.501Z"
   },
   {
    "duration": 4,
    "start_time": "2022-03-06T21:39:17.516Z"
   },
   {
    "duration": 7,
    "start_time": "2022-03-06T21:39:17.522Z"
   },
   {
    "duration": 7,
    "start_time": "2022-03-06T21:39:17.531Z"
   },
   {
    "duration": 128846,
    "start_time": "2022-03-06T21:39:17.540Z"
   },
   {
    "duration": 4,
    "start_time": "2022-03-06T21:41:26.389Z"
   },
   {
    "duration": 7,
    "start_time": "2022-03-06T21:41:26.395Z"
   },
   {
    "duration": 5,
    "start_time": "2022-03-06T21:41:26.404Z"
   },
   {
    "duration": 258406,
    "start_time": "2022-03-06T21:41:26.411Z"
   },
   {
    "duration": 4,
    "start_time": "2022-03-06T21:45:44.819Z"
   },
   {
    "duration": 7,
    "start_time": "2022-03-06T21:45:44.825Z"
   },
   {
    "duration": 6,
    "start_time": "2022-03-06T21:45:44.834Z"
   },
   {
    "duration": 40125,
    "start_time": "2022-03-06T21:45:44.842Z"
   },
   {
    "duration": 352,
    "start_time": "2022-03-06T21:46:24.968Z"
   },
   {
    "duration": 2,
    "start_time": "2022-03-06T21:46:25.322Z"
   },
   {
    "duration": 243,
    "start_time": "2022-03-06T21:46:25.326Z"
   },
   {
    "duration": -154,
    "start_time": "2022-03-06T21:46:25.725Z"
   },
   {
    "duration": 5,
    "start_time": "2022-03-06T21:50:39.514Z"
   },
   {
    "duration": 217,
    "start_time": "2022-03-06T21:50:40.785Z"
   },
   {
    "duration": 256,
    "start_time": "2022-03-06T21:50:57.438Z"
   },
   {
    "duration": 6,
    "start_time": "2022-03-06T21:54:42.436Z"
   },
   {
    "duration": 81,
    "start_time": "2022-03-06T21:55:38.719Z"
   },
   {
    "duration": 341,
    "start_time": "2022-03-06T21:55:47.234Z"
   },
   {
    "duration": 335,
    "start_time": "2022-03-06T21:55:58.298Z"
   },
   {
    "duration": 5,
    "start_time": "2022-03-06T22:11:20.042Z"
   },
   {
    "duration": 6,
    "start_time": "2022-03-06T22:11:21.002Z"
   },
   {
    "duration": 204,
    "start_time": "2022-03-06T22:11:22.088Z"
   },
   {
    "duration": 4,
    "start_time": "2022-03-06T22:11:41.788Z"
   },
   {
    "duration": 231,
    "start_time": "2022-03-06T22:13:53.243Z"
   },
   {
    "duration": 4,
    "start_time": "2022-03-06T22:14:49.408Z"
   },
   {
    "duration": 6,
    "start_time": "2022-03-06T22:14:49.906Z"
   },
   {
    "duration": 5,
    "start_time": "2022-03-06T22:15:15.230Z"
   },
   {
    "duration": 25,
    "start_time": "2022-03-06T22:15:15.743Z"
   },
   {
    "duration": 245,
    "start_time": "2022-03-06T22:52:23.578Z"
   },
   {
    "duration": 16,
    "start_time": "2022-03-06T22:53:10.764Z"
   },
   {
    "duration": 10,
    "start_time": "2022-03-06T22:53:23.008Z"
   },
   {
    "duration": 10,
    "start_time": "2022-03-06T22:53:33.847Z"
   },
   {
    "duration": 5,
    "start_time": "2022-03-06T22:53:44.528Z"
   },
   {
    "duration": 9,
    "start_time": "2022-03-06T22:53:58.906Z"
   },
   {
    "duration": 5119,
    "start_time": "2022-03-06T22:54:22.193Z"
   },
   {
    "duration": 10,
    "start_time": "2022-03-06T22:54:28.504Z"
   },
   {
    "duration": 5234,
    "start_time": "2022-03-06T22:54:43.024Z"
   },
   {
    "duration": 5011,
    "start_time": "2022-03-06T22:54:57.002Z"
   },
   {
    "duration": 5220,
    "start_time": "2022-03-06T22:55:12.651Z"
   },
   {
    "duration": 4981,
    "start_time": "2022-03-06T22:55:24.789Z"
   },
   {
    "duration": 9,
    "start_time": "2022-03-06T22:55:37.304Z"
   },
   {
    "duration": 7,
    "start_time": "2022-03-06T22:55:57.356Z"
   },
   {
    "duration": 10,
    "start_time": "2022-03-06T23:01:58.072Z"
   },
   {
    "duration": 11,
    "start_time": "2022-03-06T23:02:10.903Z"
   },
   {
    "duration": 3,
    "start_time": "2022-03-06T23:02:25.673Z"
   },
   {
    "duration": 10,
    "start_time": "2022-03-06T23:02:30.917Z"
   },
   {
    "duration": 5088,
    "start_time": "2022-03-06T23:02:36.932Z"
   },
   {
    "duration": 5034,
    "start_time": "2022-03-06T23:02:46.840Z"
   },
   {
    "duration": 9,
    "start_time": "2022-03-06T23:02:55.716Z"
   },
   {
    "duration": 6,
    "start_time": "2022-03-06T23:03:12.377Z"
   },
   {
    "duration": 237,
    "start_time": "2022-03-06T23:03:37.865Z"
   },
   {
    "duration": 221,
    "start_time": "2022-03-06T23:03:48.311Z"
   },
   {
    "duration": 9,
    "start_time": "2022-03-06T23:03:56.535Z"
   },
   {
    "duration": 5103,
    "start_time": "2022-03-06T23:04:03.950Z"
   },
   {
    "duration": 6,
    "start_time": "2022-03-06T23:04:12.863Z"
   },
   {
    "duration": 222,
    "start_time": "2022-03-06T23:04:19.275Z"
   },
   {
    "duration": 240,
    "start_time": "2022-03-06T23:06:41.873Z"
   },
   {
    "duration": 5,
    "start_time": "2022-03-06T23:07:37.216Z"
   },
   {
    "duration": 72,
    "start_time": "2022-03-06T23:08:14.906Z"
   },
   {
    "duration": 104,
    "start_time": "2022-03-06T23:08:32.024Z"
   },
   {
    "duration": 16,
    "start_time": "2022-03-06T23:08:37.016Z"
   },
   {
    "duration": 4,
    "start_time": "2022-03-06T23:08:39.595Z"
   },
   {
    "duration": 4,
    "start_time": "2022-03-06T23:08:39.939Z"
   },
   {
    "duration": 15,
    "start_time": "2022-03-06T23:09:23.555Z"
   },
   {
    "duration": 4,
    "start_time": "2022-03-06T23:09:24.387Z"
   },
   {
    "duration": 4,
    "start_time": "2022-03-06T23:09:24.795Z"
   },
   {
    "duration": 212,
    "start_time": "2022-03-06T23:09:48.821Z"
   },
   {
    "duration": 20,
    "start_time": "2022-03-06T23:09:59.529Z"
   },
   {
    "duration": 4,
    "start_time": "2022-03-06T23:10:01.277Z"
   },
   {
    "duration": 4,
    "start_time": "2022-03-06T23:10:01.550Z"
   },
   {
    "duration": 219,
    "start_time": "2022-03-06T23:17:28.254Z"
   },
   {
    "duration": 229,
    "start_time": "2022-03-06T23:18:07.269Z"
   },
   {
    "duration": 227,
    "start_time": "2022-03-06T23:18:28.585Z"
   },
   {
    "duration": 208,
    "start_time": "2022-03-06T23:18:55.337Z"
   },
   {
    "duration": 243,
    "start_time": "2022-03-06T23:20:02.163Z"
   },
   {
    "duration": 750,
    "start_time": "2022-03-06T23:21:55.116Z"
   },
   {
    "duration": 2707,
    "start_time": "2022-03-06T23:22:16.288Z"
   },
   {
    "duration": 231,
    "start_time": "2022-03-06T23:43:20.847Z"
   },
   {
    "duration": 6,
    "start_time": "2022-03-06T23:43:30.073Z"
   },
   {
    "duration": 260,
    "start_time": "2022-03-06T23:43:34.139Z"
   },
   {
    "duration": 5,
    "start_time": "2022-03-06T23:43:48.994Z"
   },
   {
    "duration": 5,
    "start_time": "2022-03-06T23:46:04.651Z"
   },
   {
    "duration": 5,
    "start_time": "2022-03-06T23:46:05.763Z"
   },
   {
    "duration": 5,
    "start_time": "2022-03-06T23:47:36.710Z"
   },
   {
    "duration": 13,
    "start_time": "2022-03-06T23:47:37.576Z"
   },
   {
    "duration": 5,
    "start_time": "2022-03-06T23:47:47.923Z"
   },
   {
    "duration": 1699,
    "start_time": "2022-03-06T23:50:59.660Z"
   },
   {
    "duration": 18,
    "start_time": "2022-03-06T23:51:31.004Z"
   },
   {
    "duration": 4,
    "start_time": "2022-03-06T23:51:37.801Z"
   },
   {
    "duration": 4,
    "start_time": "2022-03-06T23:51:38.355Z"
   },
   {
    "duration": 4,
    "start_time": "2022-03-06T23:52:01.280Z"
   },
   {
    "duration": 588,
    "start_time": "2022-03-06T23:52:16.631Z"
   },
   {
    "duration": 5,
    "start_time": "2022-03-06T23:53:05.060Z"
   },
   {
    "duration": 5,
    "start_time": "2022-03-06T23:53:10.084Z"
   },
   {
    "duration": 5,
    "start_time": "2022-03-06T23:53:13.440Z"
   },
   {
    "duration": 6,
    "start_time": "2022-03-06T23:53:21.832Z"
   },
   {
    "duration": 18,
    "start_time": "2022-03-06T23:53:48.005Z"
   },
   {
    "duration": 4,
    "start_time": "2022-03-06T23:53:49.091Z"
   },
   {
    "duration": 4,
    "start_time": "2022-03-06T23:53:49.550Z"
   },
   {
    "duration": 5,
    "start_time": "2022-03-06T23:53:49.990Z"
   },
   {
    "duration": 215,
    "start_time": "2022-03-06T23:53:57.324Z"
   },
   {
    "duration": 5,
    "start_time": "2022-03-06T23:54:09.536Z"
   },
   {
    "duration": 4,
    "start_time": "2022-03-06T23:54:16.326Z"
   },
   {
    "duration": 4,
    "start_time": "2022-03-06T23:55:36.051Z"
   },
   {
    "duration": 216,
    "start_time": "2022-03-06T23:55:42.577Z"
   },
   {
    "duration": 231,
    "start_time": "2022-03-07T00:15:11.284Z"
   },
   {
    "duration": 223,
    "start_time": "2022-03-07T00:16:10.579Z"
   },
   {
    "duration": 5,
    "start_time": "2022-03-07T00:16:38.437Z"
   },
   {
    "duration": 238,
    "start_time": "2022-03-07T00:16:47.727Z"
   },
   {
    "duration": 4,
    "start_time": "2022-03-07T00:16:55.413Z"
   },
   {
    "duration": 4,
    "start_time": "2022-03-07T00:17:04.199Z"
   },
   {
    "duration": 267,
    "start_time": "2022-03-07T00:17:52.826Z"
   },
   {
    "duration": 3,
    "start_time": "2022-03-07T00:17:58.616Z"
   },
   {
    "duration": 257,
    "start_time": "2022-03-07T00:18:16.656Z"
   },
   {
    "duration": 220,
    "start_time": "2022-03-07T00:18:28.267Z"
   },
   {
    "duration": 4,
    "start_time": "2022-03-07T00:18:47.307Z"
   },
   {
    "duration": 224,
    "start_time": "2022-03-07T00:18:51.088Z"
   },
   {
    "duration": 5,
    "start_time": "2022-03-07T00:18:55.545Z"
   },
   {
    "duration": 233,
    "start_time": "2022-03-07T00:22:00.052Z"
   },
   {
    "duration": 4,
    "start_time": "2022-03-07T00:22:10.502Z"
   },
   {
    "duration": 220,
    "start_time": "2022-03-07T00:22:26.217Z"
   },
   {
    "duration": 4,
    "start_time": "2022-03-07T00:22:31.493Z"
   },
   {
    "duration": 1210,
    "start_time": "2022-03-07T00:23:09.729Z"
   },
   {
    "duration": 3,
    "start_time": "2022-03-07T00:23:10.941Z"
   },
   {
    "duration": 782,
    "start_time": "2022-03-07T00:23:10.946Z"
   },
   {
    "duration": 4,
    "start_time": "2022-03-07T00:23:11.730Z"
   },
   {
    "duration": 9,
    "start_time": "2022-03-07T00:23:11.736Z"
   },
   {
    "duration": 35,
    "start_time": "2022-03-07T00:23:11.747Z"
   },
   {
    "duration": 50,
    "start_time": "2022-03-07T00:23:11.784Z"
   },
   {
    "duration": 192,
    "start_time": "2022-03-07T00:23:11.865Z"
   },
   {
    "duration": 3,
    "start_time": "2022-03-07T00:23:12.060Z"
   },
   {
    "duration": 10,
    "start_time": "2022-03-07T00:23:12.064Z"
   },
   {
    "duration": 12,
    "start_time": "2022-03-07T00:23:12.076Z"
   },
   {
    "duration": 21,
    "start_time": "2022-03-07T00:23:12.090Z"
   },
   {
    "duration": 4,
    "start_time": "2022-03-07T00:23:12.112Z"
   },
   {
    "duration": 15,
    "start_time": "2022-03-07T00:23:12.118Z"
   },
   {
    "duration": 7,
    "start_time": "2022-03-07T00:23:12.134Z"
   },
   {
    "duration": 8,
    "start_time": "2022-03-07T00:23:12.164Z"
   },
   {
    "duration": 28,
    "start_time": "2022-03-07T00:23:12.174Z"
   },
   {
    "duration": 4,
    "start_time": "2022-03-07T00:23:12.203Z"
   },
   {
    "duration": 5,
    "start_time": "2022-03-07T00:23:12.209Z"
   },
   {
    "duration": 6521,
    "start_time": "2022-03-07T00:23:12.216Z"
   },
   {
    "duration": 408,
    "start_time": "2022-03-07T00:23:18.739Z"
   },
   {
    "duration": 1999,
    "start_time": "2022-03-07T00:23:19.149Z"
   },
   {
    "duration": 17,
    "start_time": "2022-03-07T00:23:21.152Z"
   },
   {
    "duration": 11,
    "start_time": "2022-03-07T00:23:21.172Z"
   },
   {
    "duration": 11,
    "start_time": "2022-03-07T00:23:21.185Z"
   },
   {
    "duration": 123294,
    "start_time": "2022-03-07T00:23:21.198Z"
   },
   {
    "duration": 4,
    "start_time": "2022-03-07T00:25:24.493Z"
   },
   {
    "duration": 7,
    "start_time": "2022-03-07T00:25:24.498Z"
   },
   {
    "duration": 6,
    "start_time": "2022-03-07T00:25:24.507Z"
   },
   {
    "duration": 249003,
    "start_time": "2022-03-07T00:25:24.515Z"
   },
   {
    "duration": 4,
    "start_time": "2022-03-07T00:29:33.520Z"
   },
   {
    "duration": 10,
    "start_time": "2022-03-07T00:29:33.526Z"
   },
   {
    "duration": 40659,
    "start_time": "2022-03-07T00:29:33.538Z"
   },
   {
    "duration": -141,
    "start_time": "2022-03-07T00:30:14.340Z"
   },
   {
    "duration": -145,
    "start_time": "2022-03-07T00:30:14.345Z"
   },
   {
    "duration": -149,
    "start_time": "2022-03-07T00:30:14.350Z"
   },
   {
    "duration": -153,
    "start_time": "2022-03-07T00:30:14.355Z"
   },
   {
    "duration": -157,
    "start_time": "2022-03-07T00:30:14.360Z"
   },
   {
    "duration": 1218,
    "start_time": "2022-03-07T00:31:22.626Z"
   },
   {
    "duration": 3,
    "start_time": "2022-03-07T00:31:23.846Z"
   },
   {
    "duration": 770,
    "start_time": "2022-03-07T00:31:23.852Z"
   },
   {
    "duration": 5,
    "start_time": "2022-03-07T00:31:24.624Z"
   },
   {
    "duration": 9,
    "start_time": "2022-03-07T00:31:24.631Z"
   },
   {
    "duration": 30,
    "start_time": "2022-03-07T00:31:24.641Z"
   },
   {
    "duration": 52,
    "start_time": "2022-03-07T00:31:24.672Z"
   },
   {
    "duration": 194,
    "start_time": "2022-03-07T00:31:24.727Z"
   },
   {
    "duration": 3,
    "start_time": "2022-03-07T00:31:24.923Z"
   },
   {
    "duration": 6,
    "start_time": "2022-03-07T00:31:24.928Z"
   },
   {
    "duration": 9,
    "start_time": "2022-03-07T00:31:24.936Z"
   },
   {
    "duration": 29,
    "start_time": "2022-03-07T00:31:24.947Z"
   },
   {
    "duration": 5,
    "start_time": "2022-03-07T00:31:24.977Z"
   },
   {
    "duration": 17,
    "start_time": "2022-03-07T00:31:24.983Z"
   },
   {
    "duration": 10,
    "start_time": "2022-03-07T00:31:25.001Z"
   },
   {
    "duration": 7,
    "start_time": "2022-03-07T00:31:25.013Z"
   },
   {
    "duration": 60,
    "start_time": "2022-03-07T00:31:25.022Z"
   },
   {
    "duration": 4,
    "start_time": "2022-03-07T00:31:25.084Z"
   },
   {
    "duration": 5,
    "start_time": "2022-03-07T00:31:25.090Z"
   },
   {
    "duration": 6273,
    "start_time": "2022-03-07T00:31:25.097Z"
   },
   {
    "duration": 380,
    "start_time": "2022-03-07T00:31:31.372Z"
   },
   {
    "duration": 1884,
    "start_time": "2022-03-07T00:31:31.755Z"
   },
   {
    "duration": 4,
    "start_time": "2022-03-07T00:31:33.644Z"
   },
   {
    "duration": 18,
    "start_time": "2022-03-07T00:31:33.650Z"
   },
   {
    "duration": 24,
    "start_time": "2022-03-07T00:31:33.670Z"
   },
   {
    "duration": 121971,
    "start_time": "2022-03-07T00:31:33.696Z"
   },
   {
    "duration": 4,
    "start_time": "2022-03-07T00:33:35.668Z"
   },
   {
    "duration": 8,
    "start_time": "2022-03-07T00:33:35.674Z"
   },
   {
    "duration": 9,
    "start_time": "2022-03-07T00:33:35.684Z"
   },
   {
    "duration": 244112,
    "start_time": "2022-03-07T00:33:35.695Z"
   },
   {
    "duration": 4,
    "start_time": "2022-03-07T00:37:39.809Z"
   },
   {
    "duration": 9,
    "start_time": "2022-03-07T00:37:39.814Z"
   },
   {
    "duration": 39119,
    "start_time": "2022-03-07T00:37:39.824Z"
   },
   {
    "duration": 338,
    "start_time": "2022-03-07T00:38:18.945Z"
   },
   {
    "duration": 3,
    "start_time": "2022-03-07T00:38:19.285Z"
   },
   {
    "duration": 309,
    "start_time": "2022-03-07T00:38:19.289Z"
   },
   {
    "duration": -105,
    "start_time": "2022-03-07T00:38:19.704Z"
   },
   {
    "duration": -110,
    "start_time": "2022-03-07T00:38:19.710Z"
   },
   {
    "duration": 4,
    "start_time": "2022-03-07T00:38:51.274Z"
   },
   {
    "duration": 4,
    "start_time": "2022-03-07T00:39:00.100Z"
   },
   {
    "duration": 4,
    "start_time": "2022-03-07T00:39:04.294Z"
   },
   {
    "duration": 215,
    "start_time": "2022-03-07T00:39:13.206Z"
   },
   {
    "duration": 227,
    "start_time": "2022-03-07T00:39:49.370Z"
   },
   {
    "duration": 223,
    "start_time": "2022-03-07T00:40:08.121Z"
   },
   {
    "duration": 217,
    "start_time": "2022-03-07T00:40:59.290Z"
   },
   {
    "duration": 243,
    "start_time": "2022-03-07T00:41:09.804Z"
   },
   {
    "duration": 213,
    "start_time": "2022-03-07T00:42:07.473Z"
   },
   {
    "duration": 282,
    "start_time": "2022-03-07T00:42:14.652Z"
   },
   {
    "duration": 303,
    "start_time": "2022-03-07T00:42:30.563Z"
   },
   {
    "duration": 228,
    "start_time": "2022-03-07T00:43:13.755Z"
   },
   {
    "duration": 609,
    "start_time": "2022-03-07T00:47:41.948Z"
   },
   {
    "duration": 419,
    "start_time": "2022-03-07T00:47:57.831Z"
   },
   {
    "duration": 437,
    "start_time": "2022-03-07T00:48:53.597Z"
   },
   {
    "duration": 73,
    "start_time": "2022-03-07T00:49:27.342Z"
   },
   {
    "duration": 416,
    "start_time": "2022-03-07T00:49:42.335Z"
   },
   {
    "duration": 439,
    "start_time": "2022-03-07T00:50:16.871Z"
   },
   {
    "duration": 4,
    "start_time": "2022-03-07T00:50:41.793Z"
   },
   {
    "duration": 1178,
    "start_time": "2022-03-07T00:51:19.250Z"
   },
   {
    "duration": 2,
    "start_time": "2022-03-07T00:51:20.430Z"
   },
   {
    "duration": 733,
    "start_time": "2022-03-07T00:51:20.434Z"
   },
   {
    "duration": 3,
    "start_time": "2022-03-07T00:51:21.169Z"
   },
   {
    "duration": 12,
    "start_time": "2022-03-07T00:51:21.173Z"
   },
   {
    "duration": 15,
    "start_time": "2022-03-07T00:51:21.186Z"
   },
   {
    "duration": 73,
    "start_time": "2022-03-07T00:51:21.203Z"
   },
   {
    "duration": 178,
    "start_time": "2022-03-07T00:51:21.278Z"
   },
   {
    "duration": 4,
    "start_time": "2022-03-07T00:51:21.458Z"
   },
   {
    "duration": 6,
    "start_time": "2022-03-07T00:51:21.464Z"
   },
   {
    "duration": 8,
    "start_time": "2022-03-07T00:51:21.471Z"
   },
   {
    "duration": 15,
    "start_time": "2022-03-07T00:51:21.480Z"
   },
   {
    "duration": 3,
    "start_time": "2022-03-07T00:51:21.496Z"
   },
   {
    "duration": 15,
    "start_time": "2022-03-07T00:51:21.500Z"
   },
   {
    "duration": 7,
    "start_time": "2022-03-07T00:51:21.516Z"
   },
   {
    "duration": 4,
    "start_time": "2022-03-07T00:51:21.525Z"
   },
   {
    "duration": 52,
    "start_time": "2022-03-07T00:51:21.530Z"
   },
   {
    "duration": 4,
    "start_time": "2022-03-07T00:51:21.584Z"
   },
   {
    "duration": 7,
    "start_time": "2022-03-07T00:51:21.589Z"
   },
   {
    "duration": 6185,
    "start_time": "2022-03-07T00:51:21.598Z"
   },
   {
    "duration": 368,
    "start_time": "2022-03-07T00:51:27.784Z"
   },
   {
    "duration": 1856,
    "start_time": "2022-03-07T00:51:28.153Z"
   },
   {
    "duration": 4,
    "start_time": "2022-03-07T00:51:30.013Z"
   },
   {
    "duration": 11,
    "start_time": "2022-03-07T00:51:30.019Z"
   },
   {
    "duration": 11,
    "start_time": "2022-03-07T00:51:30.032Z"
   },
   {
    "duration": 121398,
    "start_time": "2022-03-07T00:51:30.044Z"
   },
   {
    "duration": 3,
    "start_time": "2022-03-07T00:53:31.444Z"
   },
   {
    "duration": 15,
    "start_time": "2022-03-07T00:53:31.449Z"
   },
   {
    "duration": 3,
    "start_time": "2022-03-07T00:53:31.465Z"
   },
   {
    "duration": 244411,
    "start_time": "2022-03-07T00:53:31.469Z"
   },
   {
    "duration": 4,
    "start_time": "2022-03-07T00:57:35.882Z"
   },
   {
    "duration": 8,
    "start_time": "2022-03-07T00:57:35.888Z"
   },
   {
    "duration": 38608,
    "start_time": "2022-03-07T00:57:35.897Z"
   },
   {
    "duration": 331,
    "start_time": "2022-03-07T00:58:14.506Z"
   },
   {
    "duration": 3,
    "start_time": "2022-03-07T00:58:14.839Z"
   },
   {
    "duration": 507,
    "start_time": "2022-03-07T00:58:14.843Z"
   },
   {
    "duration": -91,
    "start_time": "2022-03-07T00:58:15.442Z"
   },
   {
    "duration": -98,
    "start_time": "2022-03-07T00:58:15.450Z"
   },
   {
    "duration": -102,
    "start_time": "2022-03-07T00:58:15.455Z"
   },
   {
    "duration": 416,
    "start_time": "2022-03-07T00:58:39.771Z"
   },
   {
    "duration": 221,
    "start_time": "2022-03-07T00:58:53.879Z"
   },
   {
    "duration": 444,
    "start_time": "2022-03-07T01:03:14.616Z"
   },
   {
    "duration": 432,
    "start_time": "2022-03-07T01:03:18.926Z"
   },
   {
    "duration": 426,
    "start_time": "2022-03-07T01:03:25.200Z"
   },
   {
    "duration": 450,
    "start_time": "2022-03-07T01:03:31.252Z"
   },
   {
    "duration": 419,
    "start_time": "2022-03-07T01:03:40.303Z"
   },
   {
    "duration": 471,
    "start_time": "2022-03-07T01:03:51.101Z"
   },
   {
    "duration": 4,
    "start_time": "2022-03-07T01:04:04.761Z"
   },
   {
    "duration": 434,
    "start_time": "2022-03-07T01:05:07.782Z"
   },
   {
    "duration": 75,
    "start_time": "2022-03-07T01:05:22.924Z"
   },
   {
    "duration": 467,
    "start_time": "2022-03-07T01:05:31.848Z"
   },
   {
    "duration": 419,
    "start_time": "2022-03-07T01:05:47.405Z"
   },
   {
    "duration": 226,
    "start_time": "2022-03-07T01:05:57.070Z"
   },
   {
    "duration": 1404,
    "start_time": "2022-03-07T09:33:46.589Z"
   },
   {
    "duration": 3,
    "start_time": "2022-03-07T09:33:47.996Z"
   },
   {
    "duration": 893,
    "start_time": "2022-03-07T09:33:48.002Z"
   },
   {
    "duration": 5,
    "start_time": "2022-03-07T09:33:49.181Z"
   },
   {
    "duration": 10,
    "start_time": "2022-03-07T09:33:50.407Z"
   },
   {
    "duration": 17,
    "start_time": "2022-03-07T09:33:51.269Z"
   },
   {
    "duration": 90,
    "start_time": "2022-03-07T09:33:52.875Z"
   },
   {
    "duration": 322,
    "start_time": "2022-03-07T09:33:54.139Z"
   },
   {
    "duration": 3,
    "start_time": "2022-03-07T09:33:55.872Z"
   },
   {
    "duration": 6,
    "start_time": "2022-03-07T09:33:56.068Z"
   },
   {
    "duration": 7,
    "start_time": "2022-03-07T09:33:56.980Z"
   },
   {
    "duration": 15,
    "start_time": "2022-03-07T09:33:58.159Z"
   },
   {
    "duration": 5,
    "start_time": "2022-03-07T09:33:59.916Z"
   },
   {
    "duration": 15,
    "start_time": "2022-03-07T09:34:00.517Z"
   },
   {
    "duration": 11,
    "start_time": "2022-03-07T09:34:02.210Z"
   },
   {
    "duration": 8,
    "start_time": "2022-03-07T09:34:03.832Z"
   },
   {
    "duration": 33,
    "start_time": "2022-03-07T09:34:06.111Z"
   },
   {
    "duration": 5,
    "start_time": "2022-03-07T09:34:07.622Z"
   },
   {
    "duration": 6,
    "start_time": "2022-03-07T09:34:08.175Z"
   },
   {
    "duration": 9943,
    "start_time": "2022-03-07T09:34:10.877Z"
   },
   {
    "duration": 640,
    "start_time": "2022-03-07T09:34:20.823Z"
   },
   {
    "duration": 3162,
    "start_time": "2022-03-07T09:34:21.466Z"
   },
   {
    "duration": 7,
    "start_time": "2022-03-07T09:34:24.630Z"
   },
   {
    "duration": 14,
    "start_time": "2022-03-07T09:34:24.639Z"
   },
   {
    "duration": 4,
    "start_time": "2022-03-07T09:34:43.557Z"
   },
   {
    "duration": 181222,
    "start_time": "2022-03-07T09:34:44.137Z"
   },
   {
    "duration": 5,
    "start_time": "2022-03-07T09:37:45.362Z"
   },
   {
    "duration": 8,
    "start_time": "2022-03-07T09:37:45.370Z"
   },
   {
    "duration": 8,
    "start_time": "2022-03-07T09:37:45.381Z"
   },
   {
    "duration": 319091,
    "start_time": "2022-03-07T09:37:45.391Z"
   },
   {
    "duration": 6,
    "start_time": "2022-03-07T09:43:04.485Z"
   },
   {
    "duration": 9,
    "start_time": "2022-03-07T09:43:04.493Z"
   },
   {
    "duration": 50300,
    "start_time": "2022-03-07T09:43:04.505Z"
   },
   {
    "duration": 12,
    "start_time": "2022-03-07T09:52:15.791Z"
   },
   {
    "duration": 6,
    "start_time": "2022-03-07T09:53:34.605Z"
   },
   {
    "duration": 6,
    "start_time": "2022-03-07T09:53:43.115Z"
   },
   {
    "duration": 18,
    "start_time": "2022-03-07T09:54:06.745Z"
   },
   {
    "duration": 13,
    "start_time": "2022-03-07T09:54:55.427Z"
   },
   {
    "duration": 8,
    "start_time": "2022-03-07T09:58:56.073Z"
   },
   {
    "duration": 9,
    "start_time": "2022-03-07T09:59:13.045Z"
   },
   {
    "duration": 72,
    "start_time": "2022-03-07T10:02:27.941Z"
   },
   {
    "duration": 610,
    "start_time": "2022-03-07T10:02:34.705Z"
   },
   {
    "duration": 8,
    "start_time": "2022-03-07T10:03:22.298Z"
   },
   {
    "duration": 8,
    "start_time": "2022-03-07T10:03:38.752Z"
   },
   {
    "duration": 6,
    "start_time": "2022-03-07T10:03:55.184Z"
   },
   {
    "duration": 231,
    "start_time": "2022-03-07T11:56:30.905Z"
   },
   {
    "duration": 1118,
    "start_time": "2022-03-07T11:56:32.828Z"
   },
   {
    "duration": 2,
    "start_time": "2022-03-07T11:56:33.948Z"
   },
   {
    "duration": 713,
    "start_time": "2022-03-07T11:56:34.478Z"
   },
   {
    "duration": 20,
    "start_time": "2022-03-07T12:00:33.075Z"
   },
   {
    "duration": 6,
    "start_time": "2022-03-07T12:00:35.348Z"
   },
   {
    "duration": 249,
    "start_time": "2022-03-07T12:00:35.598Z"
   },
   {
    "duration": 1054,
    "start_time": "2022-03-07T12:00:45.478Z"
   },
   {
    "duration": 11,
    "start_time": "2022-03-07T12:00:52.647Z"
   },
   {
    "duration": 1412,
    "start_time": "2022-03-07T12:01:08.054Z"
   },
   {
    "duration": 21,
    "start_time": "2022-03-07T12:11:17.153Z"
   },
   {
    "duration": 4,
    "start_time": "2022-03-07T12:11:17.669Z"
   },
   {
    "duration": 2,
    "start_time": "2022-03-07T12:11:18.171Z"
   },
   {
    "duration": 10,
    "start_time": "2022-03-07T12:11:18.664Z"
   },
   {
    "duration": 3,
    "start_time": "2022-03-07T12:11:25.431Z"
   },
   {
    "duration": 1528,
    "start_time": "2022-03-07T12:11:26.494Z"
   },
   {
    "duration": 7178,
    "start_time": "2022-03-07T12:11:55.834Z"
   },
   {
    "duration": 392,
    "start_time": "2022-03-07T12:12:07.547Z"
   },
   {
    "duration": 431,
    "start_time": "2022-03-07T12:12:29.585Z"
   },
   {
    "duration": 1631,
    "start_time": "2022-03-07T12:12:34.948Z"
   },
   {
    "duration": 2217,
    "start_time": "2022-03-07T12:12:53.179Z"
   },
   {
    "duration": 5,
    "start_time": "2022-03-07T12:13:01.162Z"
   },
   {
    "duration": 5,
    "start_time": "2022-03-07T12:13:04.301Z"
   },
   {
    "duration": 3,
    "start_time": "2022-03-07T12:13:05.403Z"
   },
   {
    "duration": 178,
    "start_time": "2022-03-07T12:13:05.986Z"
   },
   {
    "duration": 27,
    "start_time": "2022-03-07T12:14:51.710Z"
   },
   {
    "duration": 4,
    "start_time": "2022-03-07T12:14:53.166Z"
   },
   {
    "duration": 2,
    "start_time": "2022-03-07T12:14:54.193Z"
   },
   {
    "duration": 9,
    "start_time": "2022-03-07T12:14:54.493Z"
   },
   {
    "duration": 3,
    "start_time": "2022-03-07T12:14:56.837Z"
   },
   {
    "duration": 1417,
    "start_time": "2022-03-07T12:14:58.839Z"
   },
   {
    "duration": 26,
    "start_time": "2022-03-07T12:15:28.902Z"
   },
   {
    "duration": 4,
    "start_time": "2022-03-07T12:15:30.008Z"
   },
   {
    "duration": 2,
    "start_time": "2022-03-07T12:15:31.678Z"
   },
   {
    "duration": 9,
    "start_time": "2022-03-07T12:15:31.982Z"
   },
   {
    "duration": 3,
    "start_time": "2022-03-07T12:15:37.426Z"
   },
   {
    "duration": 1530,
    "start_time": "2022-03-07T12:15:38.648Z"
   },
   {
    "duration": 16,
    "start_time": "2022-03-07T12:15:57.095Z"
   },
   {
    "duration": 4,
    "start_time": "2022-03-07T12:15:58.789Z"
   },
   {
    "duration": 1473,
    "start_time": "2022-03-07T12:16:14.584Z"
   },
   {
    "duration": 7283,
    "start_time": "2022-03-07T12:16:22.151Z"
   },
   {
    "duration": 379,
    "start_time": "2022-03-07T12:16:29.436Z"
   },
   {
    "duration": 431,
    "start_time": "2022-03-07T12:16:38.619Z"
   },
   {
    "duration": 2235,
    "start_time": "2022-03-07T12:16:49.560Z"
   },
   {
    "duration": 3,
    "start_time": "2022-03-07T12:17:31.892Z"
   },
   {
    "duration": 161,
    "start_time": "2022-03-07T12:17:32.183Z"
   },
   {
    "duration": 72,
    "start_time": "2022-03-07T12:18:18.689Z"
   },
   {
    "duration": 4,
    "start_time": "2022-03-07T12:18:19.691Z"
   },
   {
    "duration": 2,
    "start_time": "2022-03-07T12:18:20.551Z"
   },
   {
    "duration": 9,
    "start_time": "2022-03-07T12:18:20.785Z"
   },
   {
    "duration": 2,
    "start_time": "2022-03-07T12:18:22.108Z"
   },
   {
    "duration": 7350,
    "start_time": "2022-03-07T12:18:23.795Z"
   },
   {
    "duration": 1386,
    "start_time": "2022-03-07T12:18:39.455Z"
   },
   {
    "duration": 7166,
    "start_time": "2022-03-07T12:18:49.850Z"
   },
   {
    "duration": 4,
    "start_time": "2022-03-07T12:21:58.857Z"
   },
   {
    "duration": 6,
    "start_time": "2022-03-07T12:21:59.659Z"
   },
   {
    "duration": 4,
    "start_time": "2022-03-07T12:22:00.419Z"
   },
   {
    "duration": 160,
    "start_time": "2022-03-07T12:22:00.779Z"
   },
   {
    "duration": 9,
    "start_time": "2022-03-07T12:23:22.201Z"
   },
   {
    "duration": 324,
    "start_time": "2022-03-07T12:32:11.762Z"
   },
   {
    "duration": 344,
    "start_time": "2022-03-07T12:32:22.960Z"
   },
   {
    "duration": 310,
    "start_time": "2022-03-07T12:32:36.124Z"
   },
   {
    "duration": 20,
    "start_time": "2022-03-07T12:32:46.276Z"
   },
   {
    "duration": 4,
    "start_time": "2022-03-07T12:33:32.029Z"
   },
   {
    "duration": 5,
    "start_time": "2022-03-07T12:33:33.099Z"
   },
   {
    "duration": 3,
    "start_time": "2022-03-07T12:33:33.906Z"
   },
   {
    "duration": 115951,
    "start_time": "2022-03-07T12:33:34.409Z"
   },
   {
    "duration": 4,
    "start_time": "2022-03-07T12:35:30.362Z"
   },
   {
    "duration": 13,
    "start_time": "2022-03-07T12:35:30.367Z"
   },
   {
    "duration": 5,
    "start_time": "2022-03-07T12:35:30.382Z"
   },
   {
    "duration": 212705,
    "start_time": "2022-03-07T12:35:30.389Z"
   },
   {
    "duration": 4,
    "start_time": "2022-03-07T12:39:03.096Z"
   },
   {
    "duration": 20,
    "start_time": "2022-03-07T12:39:03.101Z"
   },
   {
    "duration": 256,
    "start_time": "2022-03-07T12:39:03.124Z"
   },
   {
    "duration": -14,
    "start_time": "2022-03-07T12:39:03.396Z"
   },
   {
    "duration": -20,
    "start_time": "2022-03-07T12:39:03.403Z"
   },
   {
    "duration": -24,
    "start_time": "2022-03-07T12:39:03.408Z"
   },
   {
    "duration": -29,
    "start_time": "2022-03-07T12:39:03.415Z"
   },
   {
    "duration": -32,
    "start_time": "2022-03-07T12:39:03.419Z"
   },
   {
    "duration": -37,
    "start_time": "2022-03-07T12:39:03.425Z"
   },
   {
    "duration": -43,
    "start_time": "2022-03-07T12:39:03.431Z"
   },
   {
    "duration": -46,
    "start_time": "2022-03-07T12:39:03.436Z"
   },
   {
    "duration": -50,
    "start_time": "2022-03-07T12:39:03.440Z"
   },
   {
    "duration": -56,
    "start_time": "2022-03-07T12:39:03.447Z"
   },
   {
    "duration": -59,
    "start_time": "2022-03-07T12:39:03.451Z"
   },
   {
    "duration": 310,
    "start_time": "2022-03-07T12:46:53.783Z"
   },
   {
    "duration": 289,
    "start_time": "2022-03-07T12:47:01.246Z"
   },
   {
    "duration": 174,
    "start_time": "2022-03-07T12:47:19.594Z"
   },
   {
    "duration": 3,
    "start_time": "2022-03-07T12:47:22.611Z"
   },
   {
    "duration": 9,
    "start_time": "2022-03-07T12:47:24.977Z"
   },
   {
    "duration": 9,
    "start_time": "2022-03-07T12:47:26.960Z"
   },
   {
    "duration": 96,
    "start_time": "2022-03-07T12:47:36.272Z"
   },
   {
    "duration": 10,
    "start_time": "2022-03-07T12:47:38.529Z"
   },
   {
    "duration": 321,
    "start_time": "2022-03-07T12:47:39.853Z"
   },
   {
    "duration": 3,
    "start_time": "2022-03-07T12:47:40.388Z"
   },
   {
    "duration": 317,
    "start_time": "2022-03-07T12:47:54.322Z"
   },
   {
    "duration": 4,
    "start_time": "2022-03-07T12:47:56.429Z"
   },
   {
    "duration": 7,
    "start_time": "2022-03-07T12:47:59.726Z"
   },
   {
    "duration": 199,
    "start_time": "2022-03-07T12:48:01.234Z"
   },
   {
    "duration": 5,
    "start_time": "2022-03-07T12:48:05.285Z"
   },
   {
    "duration": 378,
    "start_time": "2022-03-07T12:48:08.909Z"
   },
   {
    "duration": 172,
    "start_time": "2022-03-07T12:48:39.213Z"
   },
   {
    "duration": 197,
    "start_time": "2022-03-07T12:49:05.893Z"
   },
   {
    "duration": 9,
    "start_time": "2022-03-07T12:49:32.691Z"
   },
   {
    "duration": 6,
    "start_time": "2022-03-07T12:49:51.701Z"
   },
   {
    "duration": 4,
    "start_time": "2022-03-07T12:50:01.746Z"
   },
   {
    "duration": 182,
    "start_time": "2022-03-07T12:50:09.572Z"
   },
   {
    "duration": 5,
    "start_time": "2022-03-07T12:50:18.683Z"
   },
   {
    "duration": 4,
    "start_time": "2022-03-07T12:50:24.525Z"
   },
   {
    "duration": 17,
    "start_time": "2022-03-07T12:51:12.108Z"
   },
   {
    "duration": 2329,
    "start_time": "2022-03-07T12:51:36.637Z"
   },
   {
    "duration": 1526,
    "start_time": "2022-03-07T12:52:07.574Z"
   },
   {
    "duration": 3,
    "start_time": "2022-03-07T12:52:09.102Z"
   },
   {
    "duration": 737,
    "start_time": "2022-03-07T12:52:09.107Z"
   },
   {
    "duration": 4,
    "start_time": "2022-03-07T12:52:09.846Z"
   },
   {
    "duration": 7,
    "start_time": "2022-03-07T12:52:09.858Z"
   },
   {
    "duration": 15,
    "start_time": "2022-03-07T12:52:09.867Z"
   },
   {
    "duration": 87,
    "start_time": "2022-03-07T12:52:09.883Z"
   },
   {
    "duration": 186,
    "start_time": "2022-03-07T12:52:09.972Z"
   },
   {
    "duration": 2,
    "start_time": "2022-03-07T12:52:10.160Z"
   },
   {
    "duration": 7,
    "start_time": "2022-03-07T12:52:10.164Z"
   },
   {
    "duration": 6,
    "start_time": "2022-03-07T12:52:10.172Z"
   },
   {
    "duration": 20,
    "start_time": "2022-03-07T12:52:10.180Z"
   },
   {
    "duration": 4,
    "start_time": "2022-03-07T12:52:10.201Z"
   },
   {
    "duration": 12,
    "start_time": "2022-03-07T12:52:10.207Z"
   },
   {
    "duration": 38,
    "start_time": "2022-03-07T12:52:10.221Z"
   },
   {
    "duration": 6,
    "start_time": "2022-03-07T12:52:10.261Z"
   },
   {
    "duration": 34,
    "start_time": "2022-03-07T12:52:10.268Z"
   },
   {
    "duration": 8,
    "start_time": "2022-03-07T12:52:10.304Z"
   },
   {
    "duration": 5,
    "start_time": "2022-03-07T12:52:10.314Z"
   },
   {
    "duration": 5,
    "start_time": "2022-03-07T12:52:10.321Z"
   },
   {
    "duration": 7206,
    "start_time": "2022-03-07T12:52:10.327Z"
   },
   {
    "duration": 443,
    "start_time": "2022-03-07T12:52:17.535Z"
   },
   {
    "duration": 2222,
    "start_time": "2022-03-07T12:52:17.981Z"
   },
   {
    "duration": 20,
    "start_time": "2022-03-07T12:52:20.205Z"
   },
   {
    "duration": 4,
    "start_time": "2022-03-07T12:52:20.227Z"
   },
   {
    "duration": 26,
    "start_time": "2022-03-07T12:52:20.233Z"
   },
   {
    "duration": 3,
    "start_time": "2022-03-07T12:52:20.263Z"
   },
   {
    "duration": 114802,
    "start_time": "2022-03-07T12:52:20.268Z"
   },
   {
    "duration": 89,
    "start_time": "2022-03-07T12:54:15.073Z"
   },
   {
    "duration": 10,
    "start_time": "2022-03-07T12:54:15.164Z"
   },
   {
    "duration": 5,
    "start_time": "2022-03-07T12:54:15.176Z"
   },
   {
    "duration": 213143,
    "start_time": "2022-03-07T12:54:15.183Z"
   },
   {
    "duration": 4,
    "start_time": "2022-03-07T12:57:48.327Z"
   },
   {
    "duration": 22,
    "start_time": "2022-03-07T12:57:48.333Z"
   },
   {
    "duration": 107,
    "start_time": "2022-03-07T12:57:48.357Z"
   },
   {
    "duration": 409,
    "start_time": "2022-03-07T12:57:48.466Z"
   },
   {
    "duration": 4,
    "start_time": "2022-03-07T12:57:48.876Z"
   },
   {
    "duration": 5,
    "start_time": "2022-03-07T12:57:48.881Z"
   },
   {
    "duration": 4,
    "start_time": "2022-03-07T12:57:48.888Z"
   },
   {
    "duration": 6,
    "start_time": "2022-03-07T12:57:48.894Z"
   },
   {
    "duration": 301,
    "start_time": "2022-03-07T12:57:48.902Z"
   },
   {
    "duration": -84,
    "start_time": "2022-03-07T12:57:49.289Z"
   },
   {
    "duration": -88,
    "start_time": "2022-03-07T12:57:49.295Z"
   },
   {
    "duration": -91,
    "start_time": "2022-03-07T12:57:49.299Z"
   },
   {
    "duration": -95,
    "start_time": "2022-03-07T12:57:49.304Z"
   },
   {
    "duration": 10,
    "start_time": "2022-03-07T12:58:06.411Z"
   },
   {
    "duration": 5,
    "start_time": "2022-03-07T12:58:14.144Z"
   },
   {
    "duration": 188,
    "start_time": "2022-03-07T12:58:28.157Z"
   },
   {
    "duration": 4,
    "start_time": "2022-03-07T12:58:29.576Z"
   },
   {
    "duration": 209,
    "start_time": "2022-03-07T12:58:30.167Z"
   },
   {
    "duration": 192,
    "start_time": "2022-03-07T12:58:47.824Z"
   },
   {
    "duration": 181,
    "start_time": "2022-03-07T12:58:56.455Z"
   },
   {
    "duration": 4642,
    "start_time": "2022-03-07T13:01:56.491Z"
   },
   {
    "duration": 4590,
    "start_time": "2022-03-07T13:02:11.544Z"
   },
   {
    "duration": 4522,
    "start_time": "2022-03-07T13:02:21.290Z"
   },
   {
    "duration": 4614,
    "start_time": "2022-03-07T13:02:33.083Z"
   },
   {
    "duration": 4722,
    "start_time": "2022-03-07T13:03:07.219Z"
   },
   {
    "duration": 4,
    "start_time": "2022-03-07T13:03:15.609Z"
   },
   {
    "duration": 4675,
    "start_time": "2022-03-07T13:03:17.819Z"
   },
   {
    "duration": 9,
    "start_time": "2022-03-07T13:03:33.407Z"
   },
   {
    "duration": 182,
    "start_time": "2022-03-07T13:03:50.431Z"
   },
   {
    "duration": 62,
    "start_time": "2022-03-07T13:03:53.849Z"
   },
   {
    "duration": 191,
    "start_time": "2022-03-07T13:03:58.410Z"
   },
   {
    "duration": 223,
    "start_time": "2022-03-07T13:04:08.794Z"
   },
   {
    "duration": 191,
    "start_time": "2022-03-07T13:04:20.344Z"
   },
   {
    "duration": 191,
    "start_time": "2022-03-07T13:04:36.972Z"
   },
   {
    "duration": 4,
    "start_time": "2022-03-07T13:04:54.180Z"
   },
   {
    "duration": 205,
    "start_time": "2022-03-07T13:07:55.479Z"
   },
   {
    "duration": 1228,
    "start_time": "2022-03-07T13:41:19.825Z"
   },
   {
    "duration": 3,
    "start_time": "2022-03-07T13:41:21.055Z"
   },
   {
    "duration": 767,
    "start_time": "2022-03-07T13:41:21.060Z"
   },
   {
    "duration": 3,
    "start_time": "2022-03-07T13:41:21.829Z"
   },
   {
    "duration": 10,
    "start_time": "2022-03-07T13:41:21.834Z"
   },
   {
    "duration": 25,
    "start_time": "2022-03-07T13:41:21.846Z"
   },
   {
    "duration": 91,
    "start_time": "2022-03-07T13:41:21.873Z"
   },
   {
    "duration": 196,
    "start_time": "2022-03-07T13:41:21.967Z"
   },
   {
    "duration": 2,
    "start_time": "2022-03-07T13:41:22.165Z"
   },
   {
    "duration": 8,
    "start_time": "2022-03-07T13:41:22.169Z"
   },
   {
    "duration": 11,
    "start_time": "2022-03-07T13:41:22.179Z"
   },
   {
    "duration": 14,
    "start_time": "2022-03-07T13:41:22.192Z"
   },
   {
    "duration": 4,
    "start_time": "2022-03-07T13:41:22.208Z"
   },
   {
    "duration": 12,
    "start_time": "2022-03-07T13:41:22.214Z"
   },
   {
    "duration": 8,
    "start_time": "2022-03-07T13:41:22.260Z"
   },
   {
    "duration": 7,
    "start_time": "2022-03-07T13:41:22.270Z"
   },
   {
    "duration": 37,
    "start_time": "2022-03-07T13:41:22.280Z"
   },
   {
    "duration": 45,
    "start_time": "2022-03-07T13:41:22.319Z"
   },
   {
    "duration": 5,
    "start_time": "2022-03-07T13:41:22.366Z"
   },
   {
    "duration": 4,
    "start_time": "2022-03-07T13:41:22.373Z"
   },
   {
    "duration": 7144,
    "start_time": "2022-03-07T13:41:22.379Z"
   },
   {
    "duration": 460,
    "start_time": "2022-03-07T13:41:29.525Z"
   },
   {
    "duration": 2231,
    "start_time": "2022-03-07T13:41:29.988Z"
   },
   {
    "duration": 21,
    "start_time": "2022-03-07T13:41:32.221Z"
   },
   {
    "duration": 6,
    "start_time": "2022-03-07T13:41:32.267Z"
   },
   {
    "duration": 7,
    "start_time": "2022-03-07T13:41:32.276Z"
   },
   {
    "duration": 18,
    "start_time": "2022-03-07T13:41:32.286Z"
   },
   {
    "duration": 113467,
    "start_time": "2022-03-07T13:41:32.306Z"
   },
   {
    "duration": 3,
    "start_time": "2022-03-07T13:43:25.860Z"
   },
   {
    "duration": 5,
    "start_time": "2022-03-07T13:43:25.865Z"
   },
   {
    "duration": 3,
    "start_time": "2022-03-07T13:43:25.872Z"
   },
   {
    "duration": 212189,
    "start_time": "2022-03-07T13:43:25.877Z"
   },
   {
    "duration": 4,
    "start_time": "2022-03-07T13:46:58.067Z"
   },
   {
    "duration": 5,
    "start_time": "2022-03-07T13:46:58.073Z"
   },
   {
    "duration": 85,
    "start_time": "2022-03-07T13:46:58.079Z"
   },
   {
    "duration": 423,
    "start_time": "2022-03-07T13:46:58.167Z"
   },
   {
    "duration": 3,
    "start_time": "2022-03-07T13:46:58.592Z"
   },
   {
    "duration": 9,
    "start_time": "2022-03-07T13:46:58.597Z"
   },
   {
    "duration": 11,
    "start_time": "2022-03-07T13:46:58.608Z"
   },
   {
    "duration": 290,
    "start_time": "2022-03-07T13:46:58.621Z"
   },
   {
    "duration": -35,
    "start_time": "2022-03-07T13:46:58.947Z"
   },
   {
    "duration": -40,
    "start_time": "2022-03-07T13:46:58.953Z"
   },
   {
    "duration": -42,
    "start_time": "2022-03-07T13:46:58.956Z"
   },
   {
    "duration": -44,
    "start_time": "2022-03-07T13:46:58.959Z"
   },
   {
    "duration": 4,
    "start_time": "2022-03-07T13:49:46.984Z"
   },
   {
    "duration": 522,
    "start_time": "2022-03-07T13:49:50.084Z"
   },
   {
    "duration": 4,
    "start_time": "2022-03-07T13:50:34.568Z"
   },
   {
    "duration": 17,
    "start_time": "2022-03-07T13:54:13.806Z"
   },
   {
    "duration": 1228,
    "start_time": "2022-03-07T16:00:41.638Z"
   },
   {
    "duration": 3,
    "start_time": "2022-03-07T16:00:42.867Z"
   },
   {
    "duration": 759,
    "start_time": "2022-03-07T16:00:44.072Z"
   },
   {
    "duration": 4,
    "start_time": "2022-03-07T16:00:44.832Z"
   },
   {
    "duration": 7,
    "start_time": "2022-03-07T16:00:45.200Z"
   },
   {
    "duration": 12,
    "start_time": "2022-03-07T16:00:45.799Z"
   },
   {
    "duration": 51,
    "start_time": "2022-03-07T16:00:46.500Z"
   },
   {
    "duration": 163,
    "start_time": "2022-03-07T16:00:47.097Z"
   },
   {
    "duration": 2,
    "start_time": "2022-03-07T16:00:47.598Z"
   },
   {
    "duration": 5,
    "start_time": "2022-03-07T16:00:47.730Z"
   },
   {
    "duration": 4,
    "start_time": "2022-03-07T16:00:47.894Z"
   },
   {
    "duration": 14,
    "start_time": "2022-03-07T16:00:50.249Z"
   },
   {
    "duration": 4,
    "start_time": "2022-03-07T16:00:50.724Z"
   },
   {
    "duration": 11,
    "start_time": "2022-03-07T16:00:51.044Z"
   },
   {
    "duration": 8,
    "start_time": "2022-03-07T16:00:51.349Z"
   },
   {
    "duration": 5,
    "start_time": "2022-03-07T16:00:51.798Z"
   },
   {
    "duration": 32,
    "start_time": "2022-03-07T16:00:52.385Z"
   },
   {
    "duration": 8,
    "start_time": "2022-03-07T16:00:52.847Z"
   },
   {
    "duration": 4,
    "start_time": "2022-03-07T16:00:53.192Z"
   },
   {
    "duration": 2,
    "start_time": "2022-03-07T16:00:53.789Z"
   },
   {
    "duration": 6050,
    "start_time": "2022-03-07T16:00:54.612Z"
   },
   {
    "duration": 373,
    "start_time": "2022-03-07T16:01:00.664Z"
   },
   {
    "duration": 1934,
    "start_time": "2022-03-07T16:01:01.039Z"
   },
   {
    "duration": 20,
    "start_time": "2022-03-07T16:01:03.143Z"
   },
   {
    "duration": 4,
    "start_time": "2022-03-07T16:01:10.324Z"
   },
   {
    "duration": 5,
    "start_time": "2022-03-07T16:01:11.621Z"
   },
   {
    "duration": 3,
    "start_time": "2022-03-07T16:01:14.810Z"
   },
   {
    "duration": 11,
    "start_time": "2022-03-07T16:01:37.504Z"
   },
   {
    "duration": 9,
    "start_time": "2022-03-07T16:04:35.704Z"
   },
   {
    "duration": 388,
    "start_time": "2022-03-07T16:04:50.701Z"
   },
   {
    "duration": 17,
    "start_time": "2022-03-07T16:05:58.934Z"
   },
   {
    "duration": 16,
    "start_time": "2022-03-07T16:07:51.114Z"
   },
   {
    "duration": 4,
    "start_time": "2022-03-07T16:08:25.114Z"
   },
   {
    "duration": 4,
    "start_time": "2022-03-07T16:09:25.539Z"
   },
   {
    "duration": 3,
    "start_time": "2022-03-07T16:10:55.816Z"
   },
   {
    "duration": 308,
    "start_time": "2022-03-07T16:10:56.918Z"
   },
   {
    "duration": 1624,
    "start_time": "2022-03-07T17:09:09.145Z"
   },
   {
    "duration": 4,
    "start_time": "2022-03-07T17:09:10.774Z"
   },
   {
    "duration": 997,
    "start_time": "2022-03-07T17:09:10.782Z"
   },
   {
    "duration": 6,
    "start_time": "2022-03-07T17:09:11.782Z"
   },
   {
    "duration": 18,
    "start_time": "2022-03-07T17:09:11.791Z"
   },
   {
    "duration": 21,
    "start_time": "2022-03-07T17:09:11.811Z"
   },
   {
    "duration": 162,
    "start_time": "2022-03-07T17:09:11.834Z"
   },
   {
    "duration": 357,
    "start_time": "2022-03-07T17:09:12.000Z"
   },
   {
    "duration": 14,
    "start_time": "2022-03-07T17:09:12.360Z"
   },
   {
    "duration": 8,
    "start_time": "2022-03-07T17:09:12.376Z"
   },
   {
    "duration": 8,
    "start_time": "2022-03-07T17:09:12.386Z"
   },
   {
    "duration": 19,
    "start_time": "2022-03-07T17:09:12.396Z"
   },
   {
    "duration": 5,
    "start_time": "2022-03-07T17:09:12.418Z"
   },
   {
    "duration": 63,
    "start_time": "2022-03-07T17:09:12.425Z"
   },
   {
    "duration": 11,
    "start_time": "2022-03-07T17:09:12.490Z"
   },
   {
    "duration": 9,
    "start_time": "2022-03-07T17:09:12.506Z"
   },
   {
    "duration": 99,
    "start_time": "2022-03-07T17:09:12.518Z"
   },
   {
    "duration": 5,
    "start_time": "2022-03-07T17:09:12.619Z"
   },
   {
    "duration": 48,
    "start_time": "2022-03-07T17:09:12.626Z"
   },
   {
    "duration": 8,
    "start_time": "2022-03-07T17:09:12.676Z"
   },
   {
    "duration": 5,
    "start_time": "2022-03-07T17:09:12.686Z"
   },
   {
    "duration": 10597,
    "start_time": "2022-03-07T17:09:12.694Z"
   },
   {
    "duration": 683,
    "start_time": "2022-03-07T17:09:23.296Z"
   },
   {
    "duration": 3226,
    "start_time": "2022-03-07T17:09:23.982Z"
   },
   {
    "duration": 29,
    "start_time": "2022-03-07T17:09:27.211Z"
   },
   {
    "duration": 35,
    "start_time": "2022-03-07T17:09:27.242Z"
   },
   {
    "duration": 11,
    "start_time": "2022-03-07T17:09:27.280Z"
   },
   {
    "duration": 8,
    "start_time": "2022-03-07T17:09:27.294Z"
   },
   {
    "duration": 148883,
    "start_time": "2022-03-07T17:09:27.304Z"
   },
   {
    "duration": 19,
    "start_time": "2022-03-07T17:11:56.274Z"
   },
   {
    "duration": 25,
    "start_time": "2022-03-07T17:11:56.296Z"
   },
   {
    "duration": 11,
    "start_time": "2022-03-07T17:11:56.324Z"
   },
   {
    "duration": 271021,
    "start_time": "2022-03-07T17:11:56.338Z"
   },
   {
    "duration": 14,
    "start_time": "2022-03-07T17:16:27.362Z"
   },
   {
    "duration": 8,
    "start_time": "2022-03-07T17:16:27.378Z"
   },
   {
    "duration": 186,
    "start_time": "2022-03-07T17:16:27.388Z"
   },
   {
    "duration": 564,
    "start_time": "2022-03-07T17:16:27.577Z"
   },
   {
    "duration": 6,
    "start_time": "2022-03-07T17:16:28.144Z"
   },
   {
    "duration": 25,
    "start_time": "2022-03-07T17:16:28.153Z"
   },
   {
    "duration": 400,
    "start_time": "2022-03-07T17:16:28.181Z"
   },
   {
    "duration": -143,
    "start_time": "2022-03-07T17:16:28.728Z"
   },
   {
    "duration": -147,
    "start_time": "2022-03-07T17:16:28.733Z"
   },
   {
    "duration": -150,
    "start_time": "2022-03-07T17:16:28.738Z"
   },
   {
    "duration": -152,
    "start_time": "2022-03-07T17:16:28.742Z"
   },
   {
    "duration": -161,
    "start_time": "2022-03-07T17:16:28.753Z"
   },
   {
    "duration": 20,
    "start_time": "2022-03-07T17:16:57.520Z"
   },
   {
    "duration": 5,
    "start_time": "2022-03-07T17:17:11.508Z"
   },
   {
    "duration": 306,
    "start_time": "2022-03-07T17:18:04.724Z"
   },
   {
    "duration": 6,
    "start_time": "2022-03-07T17:18:49.186Z"
   },
   {
    "duration": 260,
    "start_time": "2022-03-07T17:18:51.671Z"
   },
   {
    "duration": 271,
    "start_time": "2022-03-07T17:18:58.529Z"
   },
   {
    "duration": 48,
    "start_time": "2022-03-07T17:23:52.061Z"
   },
   {
    "duration": 5,
    "start_time": "2022-03-07T17:23:53.807Z"
   },
   {
    "duration": 8,
    "start_time": "2022-03-07T17:23:54.286Z"
   },
   {
    "duration": 11455,
    "start_time": "2022-03-07T17:24:04.575Z"
   },
   {
    "duration": 645,
    "start_time": "2022-03-07T17:24:21.196Z"
   },
   {
    "duration": 3555,
    "start_time": "2022-03-07T17:24:25.773Z"
   },
   {
    "duration": 32,
    "start_time": "2022-03-07T17:24:44.444Z"
   },
   {
    "duration": 19,
    "start_time": "2022-03-07T17:25:03.531Z"
   },
   {
    "duration": 19,
    "start_time": "2022-03-07T17:25:14.816Z"
   },
   {
    "duration": 247,
    "start_time": "2022-03-07T17:25:18.832Z"
   },
   {
    "duration": 20,
    "start_time": "2022-03-07T17:25:30.535Z"
   },
   {
    "duration": 6,
    "start_time": "2022-03-07T17:25:59.530Z"
   },
   {
    "duration": 256,
    "start_time": "2022-03-07T17:26:00.699Z"
   },
   {
    "duration": 290,
    "start_time": "2022-03-07T17:26:01.194Z"
   },
   {
    "duration": 273,
    "start_time": "2022-03-07T17:26:11.262Z"
   },
   {
    "duration": 42,
    "start_time": "2022-03-07T17:27:33.358Z"
   },
   {
    "duration": 6,
    "start_time": "2022-03-07T17:27:34.137Z"
   },
   {
    "duration": 6,
    "start_time": "2022-03-07T17:27:34.646Z"
   },
   {
    "duration": 25,
    "start_time": "2022-03-07T17:27:47.853Z"
   },
   {
    "duration": 7,
    "start_time": "2022-03-07T17:28:00.682Z"
   },
   {
    "duration": 18,
    "start_time": "2022-03-07T17:28:02.673Z"
   },
   {
    "duration": 19,
    "start_time": "2022-03-07T17:28:04.801Z"
   },
   {
    "duration": 268,
    "start_time": "2022-03-07T17:28:10.507Z"
   },
   {
    "duration": 489,
    "start_time": "2022-03-07T17:28:19.279Z"
   },
   {
    "duration": 278,
    "start_time": "2022-03-07T17:28:31.261Z"
   },
   {
    "duration": 18,
    "start_time": "2022-03-07T17:28:35.898Z"
   },
   {
    "duration": 124,
    "start_time": "2022-03-07T17:31:16.851Z"
   },
   {
    "duration": 6,
    "start_time": "2022-03-07T17:31:22.258Z"
   },
   {
    "duration": 79,
    "start_time": "2022-03-07T17:31:23.308Z"
   },
   {
    "duration": 385,
    "start_time": "2022-03-07T17:31:25.191Z"
   },
   {
    "duration": 1661,
    "start_time": "2022-03-07T17:32:08.078Z"
   },
   {
    "duration": 3,
    "start_time": "2022-03-07T17:32:09.742Z"
   },
   {
    "duration": 1007,
    "start_time": "2022-03-07T17:32:09.748Z"
   },
   {
    "duration": 5,
    "start_time": "2022-03-07T17:32:10.758Z"
   },
   {
    "duration": 11,
    "start_time": "2022-03-07T17:32:10.775Z"
   },
   {
    "duration": 21,
    "start_time": "2022-03-07T17:32:10.788Z"
   },
   {
    "duration": 130,
    "start_time": "2022-03-07T17:32:10.812Z"
   },
   {
    "duration": 422,
    "start_time": "2022-03-07T17:32:10.947Z"
   },
   {
    "duration": 4,
    "start_time": "2022-03-07T17:32:11.372Z"
   },
   {
    "duration": 9,
    "start_time": "2022-03-07T17:32:11.378Z"
   },
   {
    "duration": 8,
    "start_time": "2022-03-07T17:32:11.389Z"
   },
   {
    "duration": 22,
    "start_time": "2022-03-07T17:32:11.399Z"
   },
   {
    "duration": 5,
    "start_time": "2022-03-07T17:32:11.423Z"
   },
   {
    "duration": 59,
    "start_time": "2022-03-07T17:32:11.430Z"
   },
   {
    "duration": 11,
    "start_time": "2022-03-07T17:32:11.491Z"
   },
   {
    "duration": 8,
    "start_time": "2022-03-07T17:32:11.504Z"
   },
   {
    "duration": 104,
    "start_time": "2022-03-07T17:32:11.515Z"
   },
   {
    "duration": 7,
    "start_time": "2022-03-07T17:32:11.622Z"
   },
   {
    "duration": 19,
    "start_time": "2022-03-07T17:32:11.632Z"
   },
   {
    "duration": 30,
    "start_time": "2022-03-07T17:32:11.654Z"
   },
   {
    "duration": 11376,
    "start_time": "2022-03-07T17:32:11.687Z"
   },
   {
    "duration": 685,
    "start_time": "2022-03-07T17:32:23.073Z"
   },
   {
    "duration": 3505,
    "start_time": "2022-03-07T17:32:23.763Z"
   },
   {
    "duration": 30,
    "start_time": "2022-03-07T17:32:27.274Z"
   },
   {
    "duration": 7,
    "start_time": "2022-03-07T17:32:27.306Z"
   },
   {
    "duration": 14,
    "start_time": "2022-03-07T17:32:27.316Z"
   },
   {
    "duration": 11,
    "start_time": "2022-03-07T17:32:27.332Z"
   },
   {
    "duration": 145328,
    "start_time": "2022-03-07T17:32:27.346Z"
   },
   {
    "duration": 5,
    "start_time": "2022-03-07T17:34:52.677Z"
   },
   {
    "duration": 9,
    "start_time": "2022-03-07T17:34:52.685Z"
   },
   {
    "duration": 6,
    "start_time": "2022-03-07T17:34:52.696Z"
   },
   {
    "duration": 207881,
    "start_time": "2022-03-07T17:34:52.704Z"
   },
   {
    "duration": 5,
    "start_time": "2022-03-07T17:38:20.588Z"
   },
   {
    "duration": 8,
    "start_time": "2022-03-07T17:38:20.596Z"
   },
   {
    "duration": 331,
    "start_time": "2022-03-07T17:38:20.606Z"
   },
   {
    "duration": 249,
    "start_time": "2022-03-07T17:38:20.940Z"
   },
   {
    "duration": 5,
    "start_time": "2022-03-07T17:38:21.192Z"
   },
   {
    "duration": 13,
    "start_time": "2022-03-07T17:38:21.275Z"
   },
   {
    "duration": 6,
    "start_time": "2022-03-07T17:38:21.291Z"
   },
   {
    "duration": 20,
    "start_time": "2022-03-07T17:38:21.299Z"
   },
   {
    "duration": 56,
    "start_time": "2022-03-07T17:38:21.321Z"
   },
   {
    "duration": 6,
    "start_time": "2022-03-07T17:38:21.381Z"
   },
   {
    "duration": 415,
    "start_time": "2022-03-07T17:38:21.390Z"
   },
   {
    "duration": 327,
    "start_time": "2022-03-07T17:57:30.195Z"
   },
   {
    "duration": 363,
    "start_time": "2022-03-07T17:59:18.672Z"
   },
   {
    "duration": 305,
    "start_time": "2022-03-07T17:59:40.685Z"
   },
   {
    "duration": 316,
    "start_time": "2022-03-07T17:59:51.682Z"
   },
   {
    "duration": 281,
    "start_time": "2022-03-07T18:00:48.127Z"
   },
   {
    "duration": 335,
    "start_time": "2022-03-07T18:00:55.082Z"
   },
   {
    "duration": 5,
    "start_time": "2022-03-07T18:01:03.683Z"
   },
   {
    "duration": 1016,
    "start_time": "2022-03-07T18:01:14.495Z"
   },
   {
    "duration": 5,
    "start_time": "2022-03-07T18:01:15.514Z"
   },
   {
    "duration": 11,
    "start_time": "2022-03-07T18:01:20.349Z"
   },
   {
    "duration": 3,
    "start_time": "2022-03-07T18:01:25.829Z"
   },
   {
    "duration": 5,
    "start_time": "2022-03-07T18:01:26.139Z"
   },
   {
    "duration": 7,
    "start_time": "2022-03-07T18:01:27.092Z"
   },
   {
    "duration": 15,
    "start_time": "2022-03-07T18:02:03.916Z"
   },
   {
    "duration": 5,
    "start_time": "2022-03-07T18:02:05.010Z"
   },
   {
    "duration": 15,
    "start_time": "2022-03-07T18:02:06.078Z"
   },
   {
    "duration": 12,
    "start_time": "2022-03-07T18:02:07.621Z"
   },
   {
    "duration": 9,
    "start_time": "2022-03-07T18:02:13.672Z"
   },
   {
    "duration": 43,
    "start_time": "2022-03-07T18:02:21.617Z"
   },
   {
    "duration": 5,
    "start_time": "2022-03-07T18:02:24.005Z"
   },
   {
    "duration": 6,
    "start_time": "2022-03-07T18:02:24.768Z"
   },
   {
    "duration": 11261,
    "start_time": "2022-03-07T18:02:45.227Z"
   },
   {
    "duration": 26,
    "start_time": "2022-03-07T18:03:06.350Z"
   },
   {
    "duration": 37,
    "start_time": "2022-03-07T18:03:22.111Z"
   },
   {
    "duration": 5,
    "start_time": "2022-03-07T18:03:24.245Z"
   },
   {
    "duration": 5,
    "start_time": "2022-03-07T18:03:24.448Z"
   },
   {
    "duration": 7,
    "start_time": "2022-03-07T18:03:34.249Z"
   },
   {
    "duration": 9,
    "start_time": "2022-03-07T18:03:39.527Z"
   },
   {
    "duration": 5,
    "start_time": "2022-03-07T18:03:42.346Z"
   },
   {
    "duration": 272,
    "start_time": "2022-03-07T18:03:50.319Z"
   },
   {
    "duration": 4,
    "start_time": "2022-03-07T18:03:57.236Z"
   },
   {
    "duration": 229291,
    "start_time": "2022-03-07T18:04:01.594Z"
   },
   {
    "duration": 5,
    "start_time": "2022-03-07T18:07:50.888Z"
   },
   {
    "duration": 16,
    "start_time": "2022-03-07T18:07:50.896Z"
   },
   {
    "duration": 305,
    "start_time": "2022-03-07T18:07:50.915Z"
   },
   {
    "duration": -130,
    "start_time": "2022-03-07T18:07:51.352Z"
   },
   {
    "duration": -133,
    "start_time": "2022-03-07T18:07:51.357Z"
   },
   {
    "duration": -144,
    "start_time": "2022-03-07T18:07:51.369Z"
   },
   {
    "duration": -147,
    "start_time": "2022-03-07T18:07:51.374Z"
   },
   {
    "duration": -151,
    "start_time": "2022-03-07T18:07:51.379Z"
   },
   {
    "duration": -153,
    "start_time": "2022-03-07T18:07:51.383Z"
   },
   {
    "duration": -156,
    "start_time": "2022-03-07T18:07:51.387Z"
   },
   {
    "duration": -158,
    "start_time": "2022-03-07T18:07:51.391Z"
   },
   {
    "duration": 263,
    "start_time": "2022-03-07T18:13:26.893Z"
   },
   {
    "duration": 1555,
    "start_time": "2022-03-07T18:13:35.902Z"
   },
   {
    "duration": 3,
    "start_time": "2022-03-07T18:13:37.460Z"
   },
   {
    "duration": 981,
    "start_time": "2022-03-07T18:13:37.474Z"
   },
   {
    "duration": 5,
    "start_time": "2022-03-07T18:13:38.458Z"
   },
   {
    "duration": 16,
    "start_time": "2022-03-07T18:13:38.466Z"
   },
   {
    "duration": 20,
    "start_time": "2022-03-07T18:13:38.485Z"
   },
   {
    "duration": 136,
    "start_time": "2022-03-07T18:13:38.507Z"
   },
   {
    "duration": 372,
    "start_time": "2022-03-07T18:13:38.647Z"
   },
   {
    "duration": 3,
    "start_time": "2022-03-07T18:13:39.022Z"
   },
   {
    "duration": 14,
    "start_time": "2022-03-07T18:13:39.028Z"
   },
   {
    "duration": 8,
    "start_time": "2022-03-07T18:13:39.044Z"
   },
   {
    "duration": 16,
    "start_time": "2022-03-07T18:13:39.073Z"
   },
   {
    "duration": 5,
    "start_time": "2022-03-07T18:13:39.092Z"
   },
   {
    "duration": 21,
    "start_time": "2022-03-07T18:13:39.100Z"
   },
   {
    "duration": 13,
    "start_time": "2022-03-07T18:13:39.123Z"
   },
   {
    "duration": 7,
    "start_time": "2022-03-07T18:13:39.173Z"
   },
   {
    "duration": 49,
    "start_time": "2022-03-07T18:13:39.183Z"
   },
   {
    "duration": 6,
    "start_time": "2022-03-07T18:13:39.234Z"
   },
   {
    "duration": 5,
    "start_time": "2022-03-07T18:13:39.273Z"
   },
   {
    "duration": 6,
    "start_time": "2022-03-07T18:13:39.280Z"
   },
   {
    "duration": 11220,
    "start_time": "2022-03-07T18:13:39.289Z"
   },
   {
    "duration": 683,
    "start_time": "2022-03-07T18:13:50.512Z"
   },
   {
    "duration": 3273,
    "start_time": "2022-03-07T18:13:51.200Z"
   },
   {
    "duration": 3,
    "start_time": "2022-03-07T18:13:54.477Z"
   },
   {
    "duration": 17,
    "start_time": "2022-03-07T18:13:54.484Z"
   },
   {
    "duration": 8,
    "start_time": "2022-03-07T18:13:54.504Z"
   },
   {
    "duration": 10,
    "start_time": "2022-03-07T18:13:54.515Z"
   },
   {
    "duration": 166850,
    "start_time": "2022-03-07T18:13:54.527Z"
   },
   {
    "duration": 6,
    "start_time": "2022-03-07T18:16:41.380Z"
   },
   {
    "duration": 8,
    "start_time": "2022-03-07T18:16:41.388Z"
   },
   {
    "duration": 4,
    "start_time": "2022-03-07T18:16:41.398Z"
   },
   {
    "duration": 230676,
    "start_time": "2022-03-07T18:16:41.404Z"
   },
   {
    "duration": 7,
    "start_time": "2022-03-07T18:20:32.083Z"
   },
   {
    "duration": 11,
    "start_time": "2022-03-07T18:20:32.092Z"
   },
   {
    "duration": 175,
    "start_time": "2022-03-07T18:20:32.107Z"
   },
   {
    "duration": 415,
    "start_time": "2022-03-07T18:20:32.286Z"
   },
   {
    "duration": 6,
    "start_time": "2022-03-07T18:20:32.775Z"
   },
   {
    "duration": 17,
    "start_time": "2022-03-07T18:20:32.784Z"
   },
   {
    "duration": 13,
    "start_time": "2022-03-07T18:20:32.804Z"
   },
   {
    "duration": 26,
    "start_time": "2022-03-07T18:20:32.873Z"
   },
   {
    "duration": 28,
    "start_time": "2022-03-07T18:20:32.902Z"
   },
   {
    "duration": 7,
    "start_time": "2022-03-07T18:20:32.934Z"
   },
   {
    "duration": 53,
    "start_time": "2022-03-07T18:20:32.944Z"
   },
   {
    "duration": 452,
    "start_time": "2022-03-07T18:36:33.355Z"
   },
   {
    "duration": 305,
    "start_time": "2022-03-07T18:36:43.479Z"
   },
   {
    "duration": 259,
    "start_time": "2022-03-07T18:37:39.686Z"
   },
   {
    "duration": 57476,
    "start_time": "2022-03-07T18:38:00.011Z"
   },
   {
    "duration": 166,
    "start_time": "2022-03-07T18:48:58.408Z"
   },
   {
    "duration": 144,
    "start_time": "2022-03-07T18:50:22.730Z"
   },
   {
    "duration": 928,
    "start_time": "2022-03-07T18:52:15.489Z"
   },
   {
    "duration": 5,
    "start_time": "2022-03-07T18:52:17.790Z"
   },
   {
    "duration": 1643,
    "start_time": "2022-03-07T18:52:39.320Z"
   },
   {
    "duration": 7,
    "start_time": "2022-03-07T18:52:40.966Z"
   },
   {
    "duration": 943,
    "start_time": "2022-03-07T18:52:40.977Z"
   },
   {
    "duration": 5,
    "start_time": "2022-03-07T18:52:41.923Z"
   },
   {
    "duration": 15,
    "start_time": "2022-03-07T18:52:41.930Z"
   },
   {
    "duration": 41,
    "start_time": "2022-03-07T18:52:41.948Z"
   },
   {
    "duration": 122,
    "start_time": "2022-03-07T18:52:41.992Z"
   },
   {
    "duration": 404,
    "start_time": "2022-03-07T18:52:42.118Z"
   },
   {
    "duration": 4,
    "start_time": "2022-03-07T18:52:42.525Z"
   },
   {
    "duration": 8,
    "start_time": "2022-03-07T18:52:42.531Z"
   },
   {
    "duration": 34,
    "start_time": "2022-03-07T18:52:42.541Z"
   },
   {
    "duration": 16,
    "start_time": "2022-03-07T18:52:42.578Z"
   },
   {
    "duration": 6,
    "start_time": "2022-03-07T18:52:42.596Z"
   },
   {
    "duration": 21,
    "start_time": "2022-03-07T18:52:42.606Z"
   },
   {
    "duration": 46,
    "start_time": "2022-03-07T18:52:42.632Z"
   },
   {
    "duration": 9,
    "start_time": "2022-03-07T18:52:42.681Z"
   },
   {
    "duration": 85,
    "start_time": "2022-03-07T18:52:42.693Z"
   },
   {
    "duration": 6,
    "start_time": "2022-03-07T18:52:42.781Z"
   },
   {
    "duration": 8,
    "start_time": "2022-03-07T18:52:42.790Z"
   },
   {
    "duration": 4,
    "start_time": "2022-03-07T18:52:42.801Z"
   },
   {
    "duration": 11159,
    "start_time": "2022-03-07T18:52:42.808Z"
   },
   {
    "duration": 678,
    "start_time": "2022-03-07T18:52:53.973Z"
   },
   {
    "duration": 3502,
    "start_time": "2022-03-07T18:52:54.656Z"
   },
   {
    "duration": 12,
    "start_time": "2022-03-07T18:52:58.161Z"
   },
   {
    "duration": 7,
    "start_time": "2022-03-07T18:52:58.175Z"
   },
   {
    "duration": 13,
    "start_time": "2022-03-07T18:52:58.184Z"
   },
   {
    "duration": 8,
    "start_time": "2022-03-07T18:52:58.199Z"
   },
   {
    "duration": 135988,
    "start_time": "2022-03-07T18:52:58.210Z"
   },
   {
    "duration": 6,
    "start_time": "2022-03-07T18:55:14.200Z"
   },
   {
    "duration": 23,
    "start_time": "2022-03-07T18:55:14.209Z"
   },
   {
    "duration": 22,
    "start_time": "2022-03-07T18:55:14.235Z"
   },
   {
    "duration": 180830,
    "start_time": "2022-03-07T18:55:14.259Z"
   },
   {
    "duration": 6,
    "start_time": "2022-03-07T18:58:15.091Z"
   },
   {
    "duration": 9,
    "start_time": "2022-03-07T18:58:15.100Z"
   },
   {
    "duration": 41741,
    "start_time": "2022-03-07T18:58:15.112Z"
   },
   {
    "duration": 324,
    "start_time": "2022-03-07T18:58:56.857Z"
   },
   {
    "duration": 90,
    "start_time": "2022-03-07T18:58:57.185Z"
   },
   {
    "duration": 10,
    "start_time": "2022-03-07T18:58:57.278Z"
   },
   {
    "duration": 7,
    "start_time": "2022-03-07T18:58:57.291Z"
   },
   {
    "duration": 24,
    "start_time": "2022-03-07T18:58:57.301Z"
   },
   {
    "duration": 51,
    "start_time": "2022-03-07T18:58:57.327Z"
   },
   {
    "duration": 5,
    "start_time": "2022-03-07T18:58:57.381Z"
   },
   {
    "duration": 26,
    "start_time": "2022-03-07T18:58:57.388Z"
   },
   {
    "duration": 44968,
    "start_time": "2022-03-07T18:58:57.416Z"
   },
   {
    "duration": 18,
    "start_time": "2022-03-07T19:02:54.730Z"
   },
   {
    "duration": 25,
    "start_time": "2022-03-07T19:04:50.967Z"
   },
   {
    "duration": 6,
    "start_time": "2022-03-07T19:04:56.481Z"
   },
   {
    "duration": 36707,
    "start_time": "2022-03-07T19:05:00.783Z"
   },
   {
    "duration": 1595,
    "start_time": "2022-03-07T19:05:40.366Z"
   },
   {
    "duration": 9,
    "start_time": "2022-03-07T19:05:41.964Z"
   },
   {
    "duration": 939,
    "start_time": "2022-03-07T19:05:41.977Z"
   },
   {
    "duration": 6,
    "start_time": "2022-03-07T19:05:42.919Z"
   },
   {
    "duration": 25,
    "start_time": "2022-03-07T19:05:42.928Z"
   },
   {
    "duration": 41,
    "start_time": "2022-03-07T19:05:42.956Z"
   },
   {
    "duration": 126,
    "start_time": "2022-03-07T19:05:43.000Z"
   },
   {
    "duration": 405,
    "start_time": "2022-03-07T19:05:43.129Z"
   },
   {
    "duration": 4,
    "start_time": "2022-03-07T19:05:43.539Z"
   },
   {
    "duration": 8,
    "start_time": "2022-03-07T19:05:43.546Z"
   },
   {
    "duration": 9,
    "start_time": "2022-03-07T19:05:43.575Z"
   },
   {
    "duration": 17,
    "start_time": "2022-03-07T19:05:43.587Z"
   },
   {
    "duration": 7,
    "start_time": "2022-03-07T19:05:43.606Z"
   },
   {
    "duration": 63,
    "start_time": "2022-03-07T19:05:43.616Z"
   },
   {
    "duration": 11,
    "start_time": "2022-03-07T19:05:43.682Z"
   },
   {
    "duration": 7,
    "start_time": "2022-03-07T19:05:43.695Z"
   },
   {
    "duration": 77,
    "start_time": "2022-03-07T19:05:43.704Z"
   },
   {
    "duration": 6,
    "start_time": "2022-03-07T19:05:43.783Z"
   },
   {
    "duration": 17,
    "start_time": "2022-03-07T19:05:43.791Z"
   },
   {
    "duration": 11,
    "start_time": "2022-03-07T19:05:43.810Z"
   },
   {
    "duration": 11106,
    "start_time": "2022-03-07T19:05:43.823Z"
   },
   {
    "duration": 679,
    "start_time": "2022-03-07T19:05:54.932Z"
   },
   {
    "duration": 3334,
    "start_time": "2022-03-07T19:05:55.616Z"
   },
   {
    "duration": 37,
    "start_time": "2022-03-07T19:05:58.954Z"
   },
   {
    "duration": 6,
    "start_time": "2022-03-07T19:05:58.994Z"
   },
   {
    "duration": 14,
    "start_time": "2022-03-07T19:05:59.003Z"
   },
   {
    "duration": 9,
    "start_time": "2022-03-07T19:05:59.019Z"
   },
   {
    "duration": 119805,
    "start_time": "2022-03-07T19:05:59.031Z"
   },
   {
    "duration": 6,
    "start_time": "2022-03-07T19:07:58.839Z"
   },
   {
    "duration": 29,
    "start_time": "2022-03-07T19:07:58.847Z"
   },
   {
    "duration": 5,
    "start_time": "2022-03-07T19:07:58.879Z"
   },
   {
    "duration": 170191,
    "start_time": "2022-03-07T19:07:58.887Z"
   },
   {
    "duration": 6,
    "start_time": "2022-03-07T19:10:49.081Z"
   },
   {
    "duration": 6,
    "start_time": "2022-03-07T19:10:49.090Z"
   },
   {
    "duration": 24743,
    "start_time": "2022-03-07T19:10:49.099Z"
   },
   {
    "duration": 33196,
    "start_time": "2022-03-07T19:11:13.845Z"
   },
   {
    "duration": 5,
    "start_time": "2022-03-07T19:11:47.044Z"
   },
   {
    "duration": 24,
    "start_time": "2022-03-07T19:11:47.051Z"
   },
   {
    "duration": 7,
    "start_time": "2022-03-07T19:11:47.077Z"
   },
   {
    "duration": 22,
    "start_time": "2022-03-07T19:11:47.086Z"
   },
   {
    "duration": 17,
    "start_time": "2022-03-07T19:11:47.111Z"
   },
   {
    "duration": 4,
    "start_time": "2022-03-07T19:11:47.131Z"
   },
   {
    "duration": 415,
    "start_time": "2022-03-07T19:11:47.174Z"
   },
   {
    "duration": -141,
    "start_time": "2022-03-07T19:11:47.733Z"
   },
   {
    "duration": 2586,
    "start_time": "2022-03-07T19:13:07.071Z"
   },
   {
    "duration": 4,
    "start_time": "2022-03-07T19:13:42.181Z"
   },
   {
    "duration": 1981,
    "start_time": "2022-03-07T19:19:46.599Z"
   },
   {
    "duration": 3,
    "start_time": "2022-03-07T19:19:48.583Z"
   },
   {
    "duration": 967,
    "start_time": "2022-03-07T19:19:48.589Z"
   },
   {
    "duration": 5,
    "start_time": "2022-03-07T19:19:49.559Z"
   },
   {
    "duration": 10,
    "start_time": "2022-03-07T19:19:49.574Z"
   },
   {
    "duration": 24,
    "start_time": "2022-03-07T19:19:49.586Z"
   },
   {
    "duration": 129,
    "start_time": "2022-03-07T19:19:49.613Z"
   },
   {
    "duration": 399,
    "start_time": "2022-03-07T19:19:49.744Z"
   },
   {
    "duration": 3,
    "start_time": "2022-03-07T19:19:50.146Z"
   },
   {
    "duration": 22,
    "start_time": "2022-03-07T19:19:50.152Z"
   },
   {
    "duration": 12,
    "start_time": "2022-03-07T19:19:50.176Z"
   },
   {
    "duration": 19,
    "start_time": "2022-03-07T19:19:50.190Z"
   },
   {
    "duration": 5,
    "start_time": "2022-03-07T19:19:50.211Z"
   },
   {
    "duration": 18,
    "start_time": "2022-03-07T19:19:50.218Z"
   },
   {
    "duration": 40,
    "start_time": "2022-03-07T19:19:50.238Z"
   },
   {
    "duration": 7,
    "start_time": "2022-03-07T19:19:50.280Z"
   },
   {
    "duration": 42,
    "start_time": "2022-03-07T19:19:50.289Z"
   },
   {
    "duration": 5,
    "start_time": "2022-03-07T19:19:50.333Z"
   },
   {
    "duration": 37,
    "start_time": "2022-03-07T19:19:50.340Z"
   },
   {
    "duration": 5,
    "start_time": "2022-03-07T19:19:50.379Z"
   },
   {
    "duration": 10961,
    "start_time": "2022-03-07T19:19:50.387Z"
   },
   {
    "duration": 687,
    "start_time": "2022-03-07T19:20:01.350Z"
   },
   {
    "duration": 3316,
    "start_time": "2022-03-07T19:20:02.040Z"
   },
   {
    "duration": 4,
    "start_time": "2022-03-07T19:20:05.358Z"
   },
   {
    "duration": 23,
    "start_time": "2022-03-07T19:20:05.364Z"
   },
   {
    "duration": 20,
    "start_time": "2022-03-07T19:20:05.390Z"
   },
   {
    "duration": 6,
    "start_time": "2022-03-07T19:20:05.416Z"
   },
   {
    "duration": 134716,
    "start_time": "2022-03-07T19:20:05.425Z"
   },
   {
    "duration": 7,
    "start_time": "2022-03-07T19:22:20.144Z"
   },
   {
    "duration": 22,
    "start_time": "2022-03-07T19:22:20.153Z"
   },
   {
    "duration": 4,
    "start_time": "2022-03-07T19:22:20.178Z"
   },
   {
    "duration": 179397,
    "start_time": "2022-03-07T19:22:20.184Z"
   },
   {
    "duration": 5,
    "start_time": "2022-03-07T19:25:19.584Z"
   },
   {
    "duration": 8,
    "start_time": "2022-03-07T19:25:19.591Z"
   },
   {
    "duration": 41153,
    "start_time": "2022-03-07T19:25:19.602Z"
   },
   {
    "duration": 319,
    "start_time": "2022-03-07T19:26:00.758Z"
   },
   {
    "duration": 4,
    "start_time": "2022-03-07T19:26:01.080Z"
   },
   {
    "duration": 18,
    "start_time": "2022-03-07T19:26:01.087Z"
   },
   {
    "duration": 74,
    "start_time": "2022-03-07T19:26:01.107Z"
   },
   {
    "duration": 20,
    "start_time": "2022-03-07T19:26:01.184Z"
   },
   {
    "duration": 54,
    "start_time": "2022-03-07T19:26:01.207Z"
   },
   {
    "duration": 44611,
    "start_time": "2022-03-07T19:26:01.264Z"
   }
  ],
  "kernelspec": {
   "display_name": "Python 3 (ipykernel)",
   "language": "python",
   "name": "python3"
  },
  "language_info": {
   "codemirror_mode": {
    "name": "ipython",
    "version": 3
   },
   "file_extension": ".py",
   "mimetype": "text/x-python",
   "name": "python",
   "nbconvert_exporter": "python",
   "pygments_lexer": "ipython3",
   "version": "3.9.13"
  },
  "toc": {
   "base_numbering": 1,
   "nav_menu": {},
   "number_sections": true,
   "sideBar": true,
   "skip_h1_title": true,
   "title_cell": "Содержание",
   "title_sidebar": "Contents",
   "toc_cell": true,
   "toc_position": {},
   "toc_section_display": true,
   "toc_window_display": false
  }
 },
 "nbformat": 4,
 "nbformat_minor": 2
}
