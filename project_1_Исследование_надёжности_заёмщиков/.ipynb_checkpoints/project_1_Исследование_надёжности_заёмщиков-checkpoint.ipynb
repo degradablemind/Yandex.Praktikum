{
 "cells": [
  {
   "cell_type": "markdown",
   "metadata": {},
   "source": [
    "# Исследование надёжности заёмщиков\n",
    "\n",
    "Задача - выяснить, влияет ли семейное положение и количество детей клиента на факт погашения кредита в срок. "
   ]
  },
  {
   "cell_type": "markdown",
   "metadata": {},
   "source": [
    "## Шаг 1. Откроем файл с данными и изучим общую информацию"
   ]
  },
  {
   "cell_type": "code",
   "execution_count": 1,
   "metadata": {},
   "outputs": [],
   "source": [
    "# импотрируем все необходимые библиотеки для работы над проектом\n",
    "import pandas as pd\n",
    "from pymystem3 import Mystem\n",
    "from collections import Counter\n",
    "import numpy as np"
   ]
  },
  {
   "cell_type": "code",
   "execution_count": 2,
   "metadata": {},
   "outputs": [
    {
     "name": "stdout",
     "output_type": "stream",
     "text": [
      "<class 'pandas.core.frame.DataFrame'>\n",
      "RangeIndex: 21525 entries, 0 to 21524\n",
      "Data columns (total 12 columns):\n",
      "children            21525 non-null int64\n",
      "days_employed       19351 non-null float64\n",
      "dob_years           21525 non-null int64\n",
      "education           21525 non-null object\n",
      "education_id        21525 non-null int64\n",
      "family_status       21525 non-null object\n",
      "family_status_id    21525 non-null int64\n",
      "gender              21525 non-null object\n",
      "income_type         21525 non-null object\n",
      "debt                21525 non-null int64\n",
      "total_income        19351 non-null float64\n",
      "purpose             21525 non-null object\n",
      "dtypes: float64(2), int64(5), object(5)\n",
      "memory usage: 2.0+ MB\n"
     ]
    },
    {
     "data": {
      "text/html": [
       "<div>\n",
       "<style scoped>\n",
       "    .dataframe tbody tr th:only-of-type {\n",
       "        vertical-align: middle;\n",
       "    }\n",
       "\n",
       "    .dataframe tbody tr th {\n",
       "        vertical-align: top;\n",
       "    }\n",
       "\n",
       "    .dataframe thead th {\n",
       "        text-align: right;\n",
       "    }\n",
       "</style>\n",
       "<table border=\"1\" class=\"dataframe\">\n",
       "  <thead>\n",
       "    <tr style=\"text-align: right;\">\n",
       "      <th></th>\n",
       "      <th>children</th>\n",
       "      <th>days_employed</th>\n",
       "      <th>dob_years</th>\n",
       "      <th>education</th>\n",
       "      <th>education_id</th>\n",
       "      <th>family_status</th>\n",
       "      <th>family_status_id</th>\n",
       "      <th>gender</th>\n",
       "      <th>income_type</th>\n",
       "      <th>debt</th>\n",
       "      <th>total_income</th>\n",
       "      <th>purpose</th>\n",
       "    </tr>\n",
       "  </thead>\n",
       "  <tbody>\n",
       "    <tr>\n",
       "      <td>0</td>\n",
       "      <td>1</td>\n",
       "      <td>-8437.673028</td>\n",
       "      <td>42</td>\n",
       "      <td>высшее</td>\n",
       "      <td>0</td>\n",
       "      <td>женат / замужем</td>\n",
       "      <td>0</td>\n",
       "      <td>F</td>\n",
       "      <td>сотрудник</td>\n",
       "      <td>0</td>\n",
       "      <td>253875.639453</td>\n",
       "      <td>покупка жилья</td>\n",
       "    </tr>\n",
       "    <tr>\n",
       "      <td>1</td>\n",
       "      <td>1</td>\n",
       "      <td>-4024.803754</td>\n",
       "      <td>36</td>\n",
       "      <td>среднее</td>\n",
       "      <td>1</td>\n",
       "      <td>женат / замужем</td>\n",
       "      <td>0</td>\n",
       "      <td>F</td>\n",
       "      <td>сотрудник</td>\n",
       "      <td>0</td>\n",
       "      <td>112080.014102</td>\n",
       "      <td>приобретение автомобиля</td>\n",
       "    </tr>\n",
       "    <tr>\n",
       "      <td>2</td>\n",
       "      <td>0</td>\n",
       "      <td>-5623.422610</td>\n",
       "      <td>33</td>\n",
       "      <td>Среднее</td>\n",
       "      <td>1</td>\n",
       "      <td>женат / замужем</td>\n",
       "      <td>0</td>\n",
       "      <td>M</td>\n",
       "      <td>сотрудник</td>\n",
       "      <td>0</td>\n",
       "      <td>145885.952297</td>\n",
       "      <td>покупка жилья</td>\n",
       "    </tr>\n",
       "    <tr>\n",
       "      <td>3</td>\n",
       "      <td>3</td>\n",
       "      <td>-4124.747207</td>\n",
       "      <td>32</td>\n",
       "      <td>среднее</td>\n",
       "      <td>1</td>\n",
       "      <td>женат / замужем</td>\n",
       "      <td>0</td>\n",
       "      <td>M</td>\n",
       "      <td>сотрудник</td>\n",
       "      <td>0</td>\n",
       "      <td>267628.550329</td>\n",
       "      <td>дополнительное образование</td>\n",
       "    </tr>\n",
       "    <tr>\n",
       "      <td>4</td>\n",
       "      <td>0</td>\n",
       "      <td>340266.072047</td>\n",
       "      <td>53</td>\n",
       "      <td>среднее</td>\n",
       "      <td>1</td>\n",
       "      <td>гражданский брак</td>\n",
       "      <td>1</td>\n",
       "      <td>F</td>\n",
       "      <td>пенсионер</td>\n",
       "      <td>0</td>\n",
       "      <td>158616.077870</td>\n",
       "      <td>сыграть свадьбу</td>\n",
       "    </tr>\n",
       "    <tr>\n",
       "      <td>5</td>\n",
       "      <td>0</td>\n",
       "      <td>-926.185831</td>\n",
       "      <td>27</td>\n",
       "      <td>высшее</td>\n",
       "      <td>0</td>\n",
       "      <td>гражданский брак</td>\n",
       "      <td>1</td>\n",
       "      <td>M</td>\n",
       "      <td>компаньон</td>\n",
       "      <td>0</td>\n",
       "      <td>255763.565419</td>\n",
       "      <td>покупка жилья</td>\n",
       "    </tr>\n",
       "    <tr>\n",
       "      <td>6</td>\n",
       "      <td>0</td>\n",
       "      <td>-2879.202052</td>\n",
       "      <td>43</td>\n",
       "      <td>высшее</td>\n",
       "      <td>0</td>\n",
       "      <td>женат / замужем</td>\n",
       "      <td>0</td>\n",
       "      <td>F</td>\n",
       "      <td>компаньон</td>\n",
       "      <td>0</td>\n",
       "      <td>240525.971920</td>\n",
       "      <td>операции с жильем</td>\n",
       "    </tr>\n",
       "    <tr>\n",
       "      <td>7</td>\n",
       "      <td>0</td>\n",
       "      <td>-152.779569</td>\n",
       "      <td>50</td>\n",
       "      <td>СРЕДНЕЕ</td>\n",
       "      <td>1</td>\n",
       "      <td>женат / замужем</td>\n",
       "      <td>0</td>\n",
       "      <td>M</td>\n",
       "      <td>сотрудник</td>\n",
       "      <td>0</td>\n",
       "      <td>135823.934197</td>\n",
       "      <td>образование</td>\n",
       "    </tr>\n",
       "    <tr>\n",
       "      <td>8</td>\n",
       "      <td>2</td>\n",
       "      <td>-6929.865299</td>\n",
       "      <td>35</td>\n",
       "      <td>ВЫСШЕЕ</td>\n",
       "      <td>0</td>\n",
       "      <td>гражданский брак</td>\n",
       "      <td>1</td>\n",
       "      <td>F</td>\n",
       "      <td>сотрудник</td>\n",
       "      <td>0</td>\n",
       "      <td>95856.832424</td>\n",
       "      <td>на проведение свадьбы</td>\n",
       "    </tr>\n",
       "    <tr>\n",
       "      <td>9</td>\n",
       "      <td>0</td>\n",
       "      <td>-2188.756445</td>\n",
       "      <td>41</td>\n",
       "      <td>среднее</td>\n",
       "      <td>1</td>\n",
       "      <td>женат / замужем</td>\n",
       "      <td>0</td>\n",
       "      <td>M</td>\n",
       "      <td>сотрудник</td>\n",
       "      <td>0</td>\n",
       "      <td>144425.938277</td>\n",
       "      <td>покупка жилья для семьи</td>\n",
       "    </tr>\n",
       "  </tbody>\n",
       "</table>\n",
       "</div>"
      ],
      "text/plain": [
       "   children  days_employed  dob_years education  education_id  \\\n",
       "0         1   -8437.673028         42    высшее             0   \n",
       "1         1   -4024.803754         36   среднее             1   \n",
       "2         0   -5623.422610         33   Среднее             1   \n",
       "3         3   -4124.747207         32   среднее             1   \n",
       "4         0  340266.072047         53   среднее             1   \n",
       "5         0    -926.185831         27    высшее             0   \n",
       "6         0   -2879.202052         43    высшее             0   \n",
       "7         0    -152.779569         50   СРЕДНЕЕ             1   \n",
       "8         2   -6929.865299         35    ВЫСШЕЕ             0   \n",
       "9         0   -2188.756445         41   среднее             1   \n",
       "\n",
       "      family_status  family_status_id gender income_type  debt   total_income  \\\n",
       "0   женат / замужем                 0      F   сотрудник     0  253875.639453   \n",
       "1   женат / замужем                 0      F   сотрудник     0  112080.014102   \n",
       "2   женат / замужем                 0      M   сотрудник     0  145885.952297   \n",
       "3   женат / замужем                 0      M   сотрудник     0  267628.550329   \n",
       "4  гражданский брак                 1      F   пенсионер     0  158616.077870   \n",
       "5  гражданский брак                 1      M   компаньон     0  255763.565419   \n",
       "6   женат / замужем                 0      F   компаньон     0  240525.971920   \n",
       "7   женат / замужем                 0      M   сотрудник     0  135823.934197   \n",
       "8  гражданский брак                 1      F   сотрудник     0   95856.832424   \n",
       "9   женат / замужем                 0      M   сотрудник     0  144425.938277   \n",
       "\n",
       "                      purpose  \n",
       "0               покупка жилья  \n",
       "1     приобретение автомобиля  \n",
       "2               покупка жилья  \n",
       "3  дополнительное образование  \n",
       "4             сыграть свадьбу  \n",
       "5               покупка жилья  \n",
       "6           операции с жильем  \n",
       "7                 образование  \n",
       "8       на проведение свадьбы  \n",
       "9     покупка жилья для семьи  "
      ]
     },
     "execution_count": 2,
     "metadata": {},
     "output_type": "execute_result"
    }
   ],
   "source": [
    "# считает данные датасета\n",
    "statistic_score = pd.read_csv('/datasets/data.csv')\n",
    "statistic_score.info()\n",
    "statistic_score.head(10)"
   ]
  },
  {
   "cell_type": "markdown",
   "metadata": {},
   "source": [
    "**Вывод**\n",
    "В таблице 12 столбцов с корректными названиями и 21 525 строк.\n",
    "Значения ячеек представлены типами: вещественные числа (float), целочисленные значения (int), строки (либо иной тип данных,  не подходящих под другой тип) (object).\n",
    "В двух столбцах days_emplyed и total_income, строк одинаковое количество и их меньше чем остальных. Это пропуски, которые вероятно были получены ввиду того, что произошла ошибка обработки данных учета трудового стажа и дохода.\n",
    "\n",
    "Можно отметить различные названия значений в ячейках, дубликаты, которые разберем в соответствующем разделе."
   ]
  },
  {
   "cell_type": "markdown",
   "metadata": {},
   "source": [
    "## Шаг 2. Предобработка данных"
   ]
  },
  {
   "cell_type": "markdown",
   "metadata": {},
   "source": [
    "### Обработка пропусков"
   ]
  },
  {
   "cell_type": "code",
   "execution_count": 3,
   "metadata": {},
   "outputs": [
    {
     "data": {
      "text/plain": [
       "children               0\n",
       "days_employed       2174\n",
       "dob_years              0\n",
       "education              0\n",
       "education_id           0\n",
       "family_status          0\n",
       "family_status_id       0\n",
       "gender                 0\n",
       "income_type            0\n",
       "debt                   0\n",
       "total_income        2174\n",
       "purpose                0\n",
       "dtype: int64"
      ]
     },
     "execution_count": 3,
     "metadata": {},
     "output_type": "execute_result"
    }
   ],
   "source": [
    "# подсчитываем пропуски\n",
    "statistic_score.isna().sum()"
   ]
  },
  {
   "cell_type": "code",
   "execution_count": 4,
   "metadata": {},
   "outputs": [
    {
     "name": "stdout",
     "output_type": "stream",
     "text": [
      "children [ 1  0  3  2 -1  4 20  5]\n",
      "\n",
      "days_employed [-8437.67302776 -4024.80375385 -5623.42261023 ... -2113.3468877\n",
      " -3112.4817052  -1984.50758853]\n",
      "\n",
      "education ['высшее' 'среднее' 'Среднее' 'СРЕДНЕЕ' 'ВЫСШЕЕ' 'неоконченное высшее'\n",
      " 'начальное' 'Высшее' 'НЕОКОНЧЕННОЕ ВЫСШЕЕ' 'Неоконченное высшее'\n",
      " 'НАЧАЛЬНОЕ' 'Начальное' 'Ученая степень' 'УЧЕНАЯ СТЕПЕНЬ'\n",
      " 'ученая степень']\n",
      "\n",
      "education_id [0 1 2 3 4]\n",
      "\n",
      "family_status ['женат / замужем' 'гражданский брак' 'вдовец / вдова' 'в разводе'\n",
      " 'Не женат / не замужем']\n",
      "\n",
      "family_status_id [0 1 2 3 4]\n",
      "\n",
      "gender ['F' 'M' 'XNA']\n",
      "\n",
      "income_type ['сотрудник' 'пенсионер' 'компаньон' 'госслужащий' 'безработный'\n",
      " 'предприниматель' 'студент' 'в декрете']\n",
      "\n",
      "debt [0 1]\n",
      "\n",
      "total_income [253875.6394526  112080.01410244 145885.95229686 ...  89672.56115303\n",
      " 244093.05050043  82047.41889948]\n",
      "\n",
      "purpose ['покупка жилья' 'приобретение автомобиля' 'дополнительное образование'\n",
      " 'сыграть свадьбу' 'операции с жильем' 'образование'\n",
      " 'на проведение свадьбы' 'покупка жилья для семьи' 'покупка недвижимости'\n",
      " 'покупка коммерческой недвижимости' 'покупка жилой недвижимости'\n",
      " 'строительство собственной недвижимости' 'недвижимость'\n",
      " 'строительство недвижимости' 'на покупку подержанного автомобиля'\n",
      " 'на покупку своего автомобиля' 'операции с коммерческой недвижимостью'\n",
      " 'строительство жилой недвижимости' 'жилье'\n",
      " 'операции со своей недвижимостью' 'автомобили' 'заняться образованием'\n",
      " 'сделка с подержанным автомобилем' 'получение образования' 'автомобиль'\n",
      " 'свадьба' 'получение дополнительного образования' 'покупка своего жилья'\n",
      " 'операции с недвижимостью' 'получение высшего образования'\n",
      " 'свой автомобиль' 'сделка с автомобилем' 'профильное образование'\n",
      " 'высшее образование' 'покупка жилья для сдачи' 'на покупку автомобиля'\n",
      " 'ремонт жилью' 'заняться высшим образованием']\n",
      "\n"
     ]
    }
   ],
   "source": [
    "# найдем уникальные пропущенные значения каждого столбца\n",
    "columns_unique = ['children', 'days_employed', 'education', 'education_id', 'family_status', 'family_status_id', \n",
    "                  'gender', 'income_type', 'debt', 'total_income', 'purpose']\n",
    "for column in columns_unique:\n",
    "    print(column, statistic_score[column].unique())\n",
    "    print()"
   ]
  },
  {
   "cell_type": "code",
   "execution_count": 5,
   "metadata": {},
   "outputs": [
    {
     "name": "stdout",
     "output_type": "stream",
     "text": [
      "['высшее' 'среднее' 'неоконченное высшее' 'начальное' 'ученая степень']\n"
     ]
    }
   ],
   "source": [
    "# заменим значения столбца education и family_status на нижний регистр и проверим исправление\n",
    "statistic_score['education'] = statistic_score['education'].str.lower()\n",
    "statistic_score['family_status'] = statistic_score['family_status'].str.lower()\n",
    "print(statistic_score['education'].unique())"
   ]
  },
  {
   "cell_type": "code",
   "execution_count": 6,
   "metadata": {},
   "outputs": [
    {
     "name": "stdout",
     "output_type": "stream",
     "text": [
      "[ 1  0  3  2  4 20  5]\n",
      "[8437.67302776 4024.80375385 5623.42261023 ... 2113.3468877  3112.4817052\n",
      " 1984.50758853]\n"
     ]
    }
   ],
   "source": [
    "# заменим отрицательные данные на абсолютные и проверим исправление\n",
    "statistic_score['children'] = abs(statistic_score['children'])\n",
    "print(statistic_score['children'].unique())\n",
    "statistic_score['days_employed'] = abs(statistic_score['days_employed'])\n",
    "print(statistic_score['days_employed'].unique())"
   ]
  },
  {
   "cell_type": "markdown",
   "metadata": {},
   "source": [
    "Можно заменить значение пола XNA на 'unknown' в силу его малозначимости для проверки наших гипотез.\n",
    "Вероятно, это ошибка техническая, случайная. Данная ошибка единична в датафрейме.\n"
   ]
  },
  {
   "cell_type": "code",
   "execution_count": 7,
   "metadata": {},
   "outputs": [
    {
     "data": {
      "text/plain": [
       "F      14236\n",
       "M       7288\n",
       "XNA        1\n",
       "Name: gender, dtype: int64"
      ]
     },
     "execution_count": 7,
     "metadata": {},
     "output_type": "execute_result"
    }
   ],
   "source": [
    "# Проверим количество повторов уникальных значений столбца gender\n",
    "statistic_score['gender'].value_counts()"
   ]
  },
  {
   "cell_type": "code",
   "execution_count": 8,
   "metadata": {},
   "outputs": [
    {
     "data": {
      "text/plain": [
       "F          14236\n",
       "M           7288\n",
       "unknown        1\n",
       "Name: gender, dtype: int64"
      ]
     },
     "execution_count": 8,
     "metadata": {},
     "output_type": "execute_result"
    }
   ],
   "source": [
    "# Заменим значение XNA на 'unknown'\n",
    "statistic_score = statistic_score.replace('XNA', 'unknown')\n",
    "statistic_score['gender'].value_counts()"
   ]
  },
  {
   "cell_type": "code",
   "execution_count": 9,
   "metadata": {},
   "outputs": [
    {
     "data": {
      "text/plain": [
       "children               0\n",
       "days_employed          0\n",
       "dob_years              0\n",
       "education              0\n",
       "education_id           0\n",
       "family_status          0\n",
       "family_status_id       0\n",
       "gender                 0\n",
       "income_type            0\n",
       "debt                   0\n",
       "total_income        2174\n",
       "purpose                0\n",
       "dtype: int64"
      ]
     },
     "execution_count": 9,
     "metadata": {},
     "output_type": "execute_result"
    }
   ],
   "source": [
    "# заменим пропущенные значения столбца трудового стажа на 0 в силу того,\n",
    "# что для проверки наших гипотез это незначимо\n",
    "statistic_score['days_employed'] =  statistic_score['days_employed'].fillna(0)\n",
    "# проверим, все ли пропуски исправлены\n",
    "statistic_score.isna().sum()"
   ]
  },
  {
   "cell_type": "markdown",
   "metadata": {},
   "source": [
    "Начнем подготовку к заполнению пропусков в столбце total_income с помощью медианного значения в группах, соответствующих по уровню обрзованию (education), типу занятости (income_type) и возрасту (dob_years)."
   ]
  },
  {
   "cell_type": "code",
   "execution_count": 10,
   "metadata": {
    "scrolled": true
   },
   "outputs": [
    {
     "data": {
      "text/html": [
       "<div>\n",
       "<style scoped>\n",
       "    .dataframe tbody tr th:only-of-type {\n",
       "        vertical-align: middle;\n",
       "    }\n",
       "\n",
       "    .dataframe tbody tr th {\n",
       "        vertical-align: top;\n",
       "    }\n",
       "\n",
       "    .dataframe thead th {\n",
       "        text-align: right;\n",
       "    }\n",
       "</style>\n",
       "<table border=\"1\" class=\"dataframe\">\n",
       "  <thead>\n",
       "    <tr style=\"text-align: right;\">\n",
       "      <th></th>\n",
       "      <th>education_id</th>\n",
       "      <th>0</th>\n",
       "      <th>1</th>\n",
       "      <th>2</th>\n",
       "      <th>3</th>\n",
       "      <th>4</th>\n",
       "    </tr>\n",
       "    <tr>\n",
       "      <th>dob_years</th>\n",
       "      <th>income_type</th>\n",
       "      <th></th>\n",
       "      <th></th>\n",
       "      <th></th>\n",
       "      <th></th>\n",
       "      <th></th>\n",
       "    </tr>\n",
       "  </thead>\n",
       "  <tbody>\n",
       "    <tr>\n",
       "      <td rowspan=\"4\" valign=\"top\">0</td>\n",
       "      <td>госслужащий</td>\n",
       "      <td>147473.884045</td>\n",
       "      <td>116853.411466</td>\n",
       "      <td>NaN</td>\n",
       "      <td>NaN</td>\n",
       "      <td>NaN</td>\n",
       "    </tr>\n",
       "    <tr>\n",
       "      <td>компаньон</td>\n",
       "      <td>224510.589360</td>\n",
       "      <td>167713.212064</td>\n",
       "      <td>NaN</td>\n",
       "      <td>NaN</td>\n",
       "      <td>NaN</td>\n",
       "    </tr>\n",
       "    <tr>\n",
       "      <td>пенсионер</td>\n",
       "      <td>137674.117012</td>\n",
       "      <td>102621.701671</td>\n",
       "      <td>NaN</td>\n",
       "      <td>NaN</td>\n",
       "      <td>NaN</td>\n",
       "    </tr>\n",
       "    <tr>\n",
       "      <td>сотрудник</td>\n",
       "      <td>157362.970952</td>\n",
       "      <td>129945.107346</td>\n",
       "      <td>192158.594143</td>\n",
       "      <td>NaN</td>\n",
       "      <td>NaN</td>\n",
       "    </tr>\n",
       "    <tr>\n",
       "      <td rowspan=\"3\" valign=\"top\">19</td>\n",
       "      <td>госслужащий</td>\n",
       "      <td>NaN</td>\n",
       "      <td>NaN</td>\n",
       "      <td>75787.415536</td>\n",
       "      <td>NaN</td>\n",
       "      <td>NaN</td>\n",
       "    </tr>\n",
       "    <tr>\n",
       "      <td>компаньон</td>\n",
       "      <td>NaN</td>\n",
       "      <td>103676.482282</td>\n",
       "      <td>166240.210560</td>\n",
       "      <td>NaN</td>\n",
       "      <td>NaN</td>\n",
       "    </tr>\n",
       "    <tr>\n",
       "      <td>сотрудник</td>\n",
       "      <td>NaN</td>\n",
       "      <td>93343.132708</td>\n",
       "      <td>85955.190475</td>\n",
       "      <td>NaN</td>\n",
       "      <td>NaN</td>\n",
       "    </tr>\n",
       "    <tr>\n",
       "      <td rowspan=\"3\" valign=\"top\">20</td>\n",
       "      <td>госслужащий</td>\n",
       "      <td>71105.377210</td>\n",
       "      <td>248725.327979</td>\n",
       "      <td>NaN</td>\n",
       "      <td>NaN</td>\n",
       "      <td>NaN</td>\n",
       "    </tr>\n",
       "    <tr>\n",
       "      <td>компаньон</td>\n",
       "      <td>100002.327317</td>\n",
       "      <td>144986.205432</td>\n",
       "      <td>86565.423291</td>\n",
       "      <td>NaN</td>\n",
       "      <td>NaN</td>\n",
       "    </tr>\n",
       "    <tr>\n",
       "      <td>сотрудник</td>\n",
       "      <td>98287.203541</td>\n",
       "      <td>117511.968537</td>\n",
       "      <td>86927.446323</td>\n",
       "      <td>NaN</td>\n",
       "      <td>NaN</td>\n",
       "    </tr>\n",
       "  </tbody>\n",
       "</table>\n",
       "</div>"
      ],
      "text/plain": [
       "education_id                       0              1              2   3   4\n",
       "dob_years income_type                                                     \n",
       "0         госслужащий  147473.884045  116853.411466            NaN NaN NaN\n",
       "          компаньон    224510.589360  167713.212064            NaN NaN NaN\n",
       "          пенсионер    137674.117012  102621.701671            NaN NaN NaN\n",
       "          сотрудник    157362.970952  129945.107346  192158.594143 NaN NaN\n",
       "19        госслужащий            NaN            NaN   75787.415536 NaN NaN\n",
       "          компаньон              NaN  103676.482282  166240.210560 NaN NaN\n",
       "          сотрудник              NaN   93343.132708   85955.190475 NaN NaN\n",
       "20        госслужащий   71105.377210  248725.327979            NaN NaN NaN\n",
       "          компаньон    100002.327317  144986.205432   86565.423291 NaN NaN\n",
       "          сотрудник     98287.203541  117511.968537   86927.446323 NaN NaN"
      ]
     },
     "execution_count": 10,
     "metadata": {},
     "output_type": "execute_result"
    }
   ],
   "source": [
    "# создадим сводную таблицу медианных значений каждой строки по столбцу ежемесячных доходов\n",
    "# (совет наставника по проекту) и выведем ее на экран\n",
    "median_total_score = statistic_score.pivot_table(index=['dob_years', 'income_type'], columns='education_id', values='total_income', aggfunc='median')\n",
    "median_total_score.head(10)"
   ]
  },
  {
   "cell_type": "code",
   "execution_count": null,
   "metadata": {},
   "outputs": [],
   "source": [
    "# напишем и применим функцию к данным по несколькиv группам для поиска медианных значений по столбцу total_income\n",
    "def fillna_total_income(dob_years, income_type, education_id):\n",
    "    try:\n",
    "        return median_total_score[education_id][dob_years][income_type]\n",
    "    except:\n",
    "        return 'ошибка'\n",
    "# запишем данные результаты в новый столбец исходного датафрейма\n",
    "statistic_score['median_total_income'] = statistic_score.apply(lambda row: fillna_total_income(row['dob_years'], row['income_type'],  row['education_id']), axis=1)\n",
    "# заменим пропуски в столбце 'total_income' из нового столбца полученных медаин\n",
    "statistic_score['total_income'] = statistic_score['total_income'].fillna(statistic_score['median_total_income']) \n",
    "# проверим результат пропусков\n",
    "statistic_score.isna().sum()"
   ]
  },
  {
   "cell_type": "code",
   "execution_count": 12,
   "metadata": {
    "scrolled": true
   },
   "outputs": [
    {
     "data": {
      "text/html": [
       "<div>\n",
       "<style scoped>\n",
       "    .dataframe tbody tr th:only-of-type {\n",
       "        vertical-align: middle;\n",
       "    }\n",
       "\n",
       "    .dataframe tbody tr th {\n",
       "        vertical-align: top;\n",
       "    }\n",
       "\n",
       "    .dataframe thead th {\n",
       "        text-align: right;\n",
       "    }\n",
       "</style>\n",
       "<table border=\"1\" class=\"dataframe\">\n",
       "  <thead>\n",
       "    <tr style=\"text-align: right;\">\n",
       "      <th></th>\n",
       "      <th>children</th>\n",
       "      <th>days_employed</th>\n",
       "      <th>dob_years</th>\n",
       "      <th>education</th>\n",
       "      <th>education_id</th>\n",
       "      <th>family_status</th>\n",
       "      <th>family_status_id</th>\n",
       "      <th>gender</th>\n",
       "      <th>income_type</th>\n",
       "      <th>debt</th>\n",
       "      <th>total_income</th>\n",
       "      <th>purpose</th>\n",
       "      <th>median_total_income</th>\n",
       "    </tr>\n",
       "  </thead>\n",
       "  <tbody>\n",
       "    <tr>\n",
       "      <td>1303</td>\n",
       "      <td>1</td>\n",
       "      <td>0.0</td>\n",
       "      <td>70</td>\n",
       "      <td>начальное</td>\n",
       "      <td>3</td>\n",
       "      <td>гражданский брак</td>\n",
       "      <td>1</td>\n",
       "      <td>F</td>\n",
       "      <td>сотрудник</td>\n",
       "      <td>0</td>\n",
       "      <td>NaN</td>\n",
       "      <td>операции с коммерческой недвижимостью</td>\n",
       "      <td>NaN</td>\n",
       "    </tr>\n",
       "    <tr>\n",
       "      <td>1520</td>\n",
       "      <td>0</td>\n",
       "      <td>0.0</td>\n",
       "      <td>53</td>\n",
       "      <td>начальное</td>\n",
       "      <td>3</td>\n",
       "      <td>женат / замужем</td>\n",
       "      <td>0</td>\n",
       "      <td>F</td>\n",
       "      <td>сотрудник</td>\n",
       "      <td>0</td>\n",
       "      <td>NaN</td>\n",
       "      <td>операции со своей недвижимостью</td>\n",
       "      <td>NaN</td>\n",
       "    </tr>\n",
       "    <tr>\n",
       "      <td>3612</td>\n",
       "      <td>0</td>\n",
       "      <td>0.0</td>\n",
       "      <td>40</td>\n",
       "      <td>высшее</td>\n",
       "      <td>0</td>\n",
       "      <td>женат / замужем</td>\n",
       "      <td>0</td>\n",
       "      <td>M</td>\n",
       "      <td>пенсионер</td>\n",
       "      <td>0</td>\n",
       "      <td>NaN</td>\n",
       "      <td>ремонт жилью</td>\n",
       "      <td>NaN</td>\n",
       "    </tr>\n",
       "    <tr>\n",
       "      <td>3891</td>\n",
       "      <td>1</td>\n",
       "      <td>0.0</td>\n",
       "      <td>68</td>\n",
       "      <td>неоконченное высшее</td>\n",
       "      <td>2</td>\n",
       "      <td>в разводе</td>\n",
       "      <td>3</td>\n",
       "      <td>F</td>\n",
       "      <td>сотрудник</td>\n",
       "      <td>0</td>\n",
       "      <td>NaN</td>\n",
       "      <td>строительство недвижимости</td>\n",
       "      <td>NaN</td>\n",
       "    </tr>\n",
       "    <tr>\n",
       "      <td>5530</td>\n",
       "      <td>0</td>\n",
       "      <td>0.0</td>\n",
       "      <td>23</td>\n",
       "      <td>высшее</td>\n",
       "      <td>0</td>\n",
       "      <td>не женат / не замужем</td>\n",
       "      <td>4</td>\n",
       "      <td>M</td>\n",
       "      <td>госслужащий</td>\n",
       "      <td>0</td>\n",
       "      <td>NaN</td>\n",
       "      <td>покупка жилья для семьи</td>\n",
       "      <td>NaN</td>\n",
       "    </tr>\n",
       "    <tr>\n",
       "      <td>8142</td>\n",
       "      <td>0</td>\n",
       "      <td>0.0</td>\n",
       "      <td>64</td>\n",
       "      <td>начальное</td>\n",
       "      <td>3</td>\n",
       "      <td>гражданский брак</td>\n",
       "      <td>1</td>\n",
       "      <td>F</td>\n",
       "      <td>госслужащий</td>\n",
       "      <td>0</td>\n",
       "      <td>NaN</td>\n",
       "      <td>сыграть свадьбу</td>\n",
       "      <td>NaN</td>\n",
       "    </tr>\n",
       "    <tr>\n",
       "      <td>16091</td>\n",
       "      <td>0</td>\n",
       "      <td>0.0</td>\n",
       "      <td>49</td>\n",
       "      <td>неоконченное высшее</td>\n",
       "      <td>2</td>\n",
       "      <td>гражданский брак</td>\n",
       "      <td>1</td>\n",
       "      <td>M</td>\n",
       "      <td>компаньон</td>\n",
       "      <td>0</td>\n",
       "      <td>NaN</td>\n",
       "      <td>на проведение свадьбы</td>\n",
       "      <td>NaN</td>\n",
       "    </tr>\n",
       "    <tr>\n",
       "      <td>17014</td>\n",
       "      <td>0</td>\n",
       "      <td>0.0</td>\n",
       "      <td>39</td>\n",
       "      <td>начальное</td>\n",
       "      <td>3</td>\n",
       "      <td>женат / замужем</td>\n",
       "      <td>0</td>\n",
       "      <td>F</td>\n",
       "      <td>госслужащий</td>\n",
       "      <td>0</td>\n",
       "      <td>NaN</td>\n",
       "      <td>операции с коммерческой недвижимостью</td>\n",
       "      <td>NaN</td>\n",
       "    </tr>\n",
       "    <tr>\n",
       "      <td>17646</td>\n",
       "      <td>0</td>\n",
       "      <td>0.0</td>\n",
       "      <td>49</td>\n",
       "      <td>неоконченное высшее</td>\n",
       "      <td>2</td>\n",
       "      <td>женат / замужем</td>\n",
       "      <td>0</td>\n",
       "      <td>M</td>\n",
       "      <td>компаньон</td>\n",
       "      <td>0</td>\n",
       "      <td>NaN</td>\n",
       "      <td>получение образования</td>\n",
       "      <td>NaN</td>\n",
       "    </tr>\n",
       "    <tr>\n",
       "      <td>17696</td>\n",
       "      <td>1</td>\n",
       "      <td>0.0</td>\n",
       "      <td>45</td>\n",
       "      <td>начальное</td>\n",
       "      <td>3</td>\n",
       "      <td>женат / замужем</td>\n",
       "      <td>0</td>\n",
       "      <td>F</td>\n",
       "      <td>пенсионер</td>\n",
       "      <td>0</td>\n",
       "      <td>NaN</td>\n",
       "      <td>операции с недвижимостью</td>\n",
       "      <td>NaN</td>\n",
       "    </tr>\n",
       "  </tbody>\n",
       "</table>\n",
       "</div>"
      ],
      "text/plain": [
       "       children  days_employed  dob_years            education  education_id  \\\n",
       "1303          1            0.0         70            начальное             3   \n",
       "1520          0            0.0         53            начальное             3   \n",
       "3612          0            0.0         40               высшее             0   \n",
       "3891          1            0.0         68  неоконченное высшее             2   \n",
       "5530          0            0.0         23               высшее             0   \n",
       "8142          0            0.0         64            начальное             3   \n",
       "16091         0            0.0         49  неоконченное высшее             2   \n",
       "17014         0            0.0         39            начальное             3   \n",
       "17646         0            0.0         49  неоконченное высшее             2   \n",
       "17696         1            0.0         45            начальное             3   \n",
       "\n",
       "               family_status  family_status_id gender  income_type  debt  \\\n",
       "1303        гражданский брак                 1      F    сотрудник     0   \n",
       "1520         женат / замужем                 0      F    сотрудник     0   \n",
       "3612         женат / замужем                 0      M    пенсионер     0   \n",
       "3891               в разводе                 3      F    сотрудник     0   \n",
       "5530   не женат / не замужем                 4      M  госслужащий     0   \n",
       "8142        гражданский брак                 1      F  госслужащий     0   \n",
       "16091       гражданский брак                 1      M    компаньон     0   \n",
       "17014        женат / замужем                 0      F  госслужащий     0   \n",
       "17646        женат / замужем                 0      M    компаньон     0   \n",
       "17696        женат / замужем                 0      F    пенсионер     0   \n",
       "\n",
       "      total_income                                purpose median_total_income  \n",
       "1303           NaN  операции с коммерческой недвижимостью                 NaN  \n",
       "1520           NaN        операции со своей недвижимостью                 NaN  \n",
       "3612           NaN                           ремонт жилью                 NaN  \n",
       "3891           NaN             строительство недвижимости                 NaN  \n",
       "5530           NaN                покупка жилья для семьи                 NaN  \n",
       "8142           NaN                        сыграть свадьбу                 NaN  \n",
       "16091          NaN                  на проведение свадьбы                 NaN  \n",
       "17014          NaN  операции с коммерческой недвижимостью                 NaN  \n",
       "17646          NaN                  получение образования                 NaN  \n",
       "17696          NaN               операции с недвижимостью                 NaN  "
      ]
     },
     "execution_count": 12,
     "metadata": {},
     "output_type": "execute_result"
    }
   ],
   "source": [
    "# узнаем, что это за пропуски\n",
    "statistic_score[statistic_score['total_income'].isna()]"
   ]
  },
  {
   "cell_type": "code",
   "execution_count": 13,
   "metadata": {},
   "outputs": [
    {
     "data": {
      "text/plain": [
       "children               4\n",
       "days_employed          4\n",
       "dob_years              4\n",
       "education              4\n",
       "education_id           4\n",
       "family_status          4\n",
       "family_status_id       4\n",
       "gender                 4\n",
       "income_type            4\n",
       "debt                   4\n",
       "total_income           4\n",
       "purpose                4\n",
       "median_total_income    4\n",
       "dtype: int64"
      ]
     },
     "execution_count": 13,
     "metadata": {},
     "output_type": "execute_result"
    }
   ],
   "source": [
    "# в столбце 'total_income' также остались значения с \"ошибкой\"\n",
    "statistic_score[statistic_score['total_income'] == 'ошибка'].count()"
   ]
  },
  {
   "cell_type": "code",
   "execution_count": 14,
   "metadata": {},
   "outputs": [],
   "source": [
    "statistic_score = statistic_score.dropna()\n",
    "statistic_score = statistic_score[statistic_score['total_income'] != 'ошибка']"
   ]
  },
  {
   "cell_type": "markdown",
   "metadata": {},
   "source": [
    "Значения столбца days_employd (общий трудовой стаж в днях) не скажутся на проверямых нами гипотезах.\n",
    "Вероятно, данные значения были пропущенны или не указаны при оформлении клиентской базы данных, пропуски - случайны.\n",
    "Заменим их на значение 0.\n",
    "\n"
   ]
  },
  {
   "cell_type": "code",
   "execution_count": 15,
   "metadata": {},
   "outputs": [
    {
     "data": {
      "text/plain": [
       "0        True\n",
       "1        True\n",
       "2        True\n",
       "3        True\n",
       "4        True\n",
       "         ... \n",
       "21520    True\n",
       "21521    True\n",
       "21522    True\n",
       "21523    True\n",
       "21524    True\n",
       "Name: total_income, Length: 21511, dtype: bool"
      ]
     },
     "execution_count": 15,
     "metadata": {},
     "output_type": "execute_result"
    }
   ],
   "source": [
    "statistic_score['total_income'] != 'ошибка'"
   ]
  },
  {
   "cell_type": "code",
   "execution_count": 16,
   "metadata": {},
   "outputs": [
    {
     "name": "stdout",
     "output_type": "stream",
     "text": [
      "children [ 1  0  3  2  4 20  5]\n",
      "\n",
      "days_employed [8437.67302776 4024.80375385 5623.42261023 ... 2113.3468877  3112.4817052\n",
      " 1984.50758853]\n",
      "\n",
      "education ['высшее' 'среднее' 'неоконченное высшее' 'начальное' 'ученая степень']\n",
      "\n",
      "education_id [0 1 2 3 4]\n",
      "\n",
      "family_status ['женат / замужем' 'гражданский брак' 'вдовец / вдова' 'в разводе'\n",
      " 'не женат / не замужем']\n",
      "\n",
      "family_status_id [0 1 2 3 4]\n",
      "\n",
      "gender ['F' 'M' 'unknown']\n",
      "\n",
      "income_type ['сотрудник' 'пенсионер' 'компаньон' 'госслужащий' 'безработный' 'студент'\n",
      " 'предприниматель' 'в декрете']\n",
      "\n",
      "debt [0 1]\n",
      "\n",
      "total_income [253875.6394525987 112080.01410244203 145885.95229686378 ...\n",
      " 89672.56115303475 244093.0505004255 82047.41889948228]\n",
      "\n",
      "purpose ['покупка жилья' 'приобретение автомобиля' 'дополнительное образование'\n",
      " 'сыграть свадьбу' 'операции с жильем' 'образование'\n",
      " 'на проведение свадьбы' 'покупка жилья для семьи' 'покупка недвижимости'\n",
      " 'покупка коммерческой недвижимости' 'покупка жилой недвижимости'\n",
      " 'строительство собственной недвижимости' 'недвижимость'\n",
      " 'строительство недвижимости' 'на покупку подержанного автомобиля'\n",
      " 'на покупку своего автомобиля' 'операции с коммерческой недвижимостью'\n",
      " 'строительство жилой недвижимости' 'жилье'\n",
      " 'операции со своей недвижимостью' 'автомобили' 'заняться образованием'\n",
      " 'сделка с подержанным автомобилем' 'получение образования' 'автомобиль'\n",
      " 'свадьба' 'получение дополнительного образования' 'покупка своего жилья'\n",
      " 'операции с недвижимостью' 'получение высшего образования'\n",
      " 'свой автомобиль' 'сделка с автомобилем' 'профильное образование'\n",
      " 'высшее образование' 'покупка жилья для сдачи' 'на покупку автомобиля'\n",
      " 'ремонт жилью' 'заняться высшим образованием']\n",
      "\n"
     ]
    }
   ],
   "source": [
    "# проверим уникальные значения после обработки таблицы\n",
    "for column in columns_unique:\n",
    "    print(column, statistic_score[column].unique())\n",
    "    print()"
   ]
  },
  {
   "cell_type": "code",
   "execution_count": 17,
   "metadata": {},
   "outputs": [
    {
     "name": "stdout",
     "output_type": "stream",
     "text": [
      "<class 'pandas.core.frame.DataFrame'>\n",
      "Int64Index: 21511 entries, 0 to 21524\n",
      "Data columns (total 13 columns):\n",
      "children               21511 non-null int64\n",
      "days_employed          21511 non-null float64\n",
      "dob_years              21511 non-null int64\n",
      "education              21511 non-null object\n",
      "education_id           21511 non-null int64\n",
      "family_status          21511 non-null object\n",
      "family_status_id       21511 non-null int64\n",
      "gender                 21511 non-null object\n",
      "income_type            21511 non-null object\n",
      "debt                   21511 non-null int64\n",
      "total_income           21511 non-null object\n",
      "purpose                21511 non-null object\n",
      "median_total_income    21511 non-null object\n",
      "dtypes: float64(1), int64(5), object(7)\n",
      "memory usage: 2.3+ MB\n"
     ]
    }
   ],
   "source": [
    "#еще раз проверим общую информацию о таблице\n",
    "statistic_score.info()"
   ]
  },
  {
   "cell_type": "markdown",
   "metadata": {},
   "source": [
    "**Вывод**\n",
    "\n",
    "Пропущенные значения в таблице: \n",
    "- days_employd - общий трудовой стаж в днях\n",
    "\n",
    "Данные общего трудового стажа можно заменить на медианные значения в соответствии с возрастом клиентов. Однако общий трудовой стаж может быть нам не важен в свете исследования наших гипотез. Их заменили на '0'.\n",
    "\n",
    "- total_income - ежемесячный доход\n",
    "\n",
    "Для обработки пропусков ежемесячного дохода была найдена медиану ежемесячного дохода по соответствию с возрастом клиента, его образования и типа занятости.\n",
    "\n",
    "Обнаруженные отрицательные значения в количестве дней трудового стажа были исправлены на абсолютные. Видимо ошибка в сохранении данных (случайная).\n",
    "Отрицательное значение в количестве детей было исправлено. Видимо ошибка в записи данных (случайная).\n",
    "Ошибка в сохранении пола - некорректное значение XNA - исправленно.\n",
    "Выявляется различный регистр в записи степени образования, исправлено."
   ]
  },
  {
   "cell_type": "markdown",
   "metadata": {},
   "source": [
    "### Замена типа данных"
   ]
  },
  {
   "cell_type": "code",
   "execution_count": 18,
   "metadata": {},
   "outputs": [
    {
     "name": "stdout",
     "output_type": "stream",
     "text": [
      "<class 'pandas.core.frame.DataFrame'>\n",
      "Int64Index: 21511 entries, 0 to 21524\n",
      "Data columns (total 13 columns):\n",
      "children               21511 non-null int64\n",
      "days_employed          21511 non-null int64\n",
      "dob_years              21511 non-null int64\n",
      "education              21511 non-null object\n",
      "education_id           21511 non-null int64\n",
      "family_status          21511 non-null object\n",
      "family_status_id       21511 non-null int64\n",
      "gender                 21511 non-null object\n",
      "income_type            21511 non-null object\n",
      "debt                   21511 non-null int64\n",
      "total_income           21511 non-null int64\n",
      "purpose                21511 non-null object\n",
      "median_total_income    21511 non-null int64\n",
      "dtypes: int64(8), object(5)\n",
      "memory usage: 2.3+ MB\n"
     ]
    }
   ],
   "source": [
    "# заменим тип данных в столбце ежемесячного дохода в вещественный тип для удобства проведения арифметических операций\n",
    "statistic_score['total_income'] = pd.to_numeric(statistic_score['total_income'])\n",
    "statistic_score['total_income'] = statistic_score['total_income'].astype('int')\n",
    "statistic_score['days_employed'] = statistic_score['days_employed'].astype('int')\n",
    "statistic_score['median_total_income'] = pd.to_numeric(statistic_score['median_total_income'])\n",
    "statistic_score['median_total_income'] = statistic_score['median_total_income'].astype('int')\n",
    "statistic_score.info()"
   ]
  },
  {
   "cell_type": "markdown",
   "metadata": {},
   "source": [
    "**Вывод**\n",
    "\n",
    "Получили однородную таблицу по типам данных в столбцах, теперь удобно выполнять с ними различные целевые манипуляции"
   ]
  },
  {
   "cell_type": "markdown",
   "metadata": {},
   "source": [
    "### Обработка дубликатов"
   ]
  },
  {
   "cell_type": "code",
   "execution_count": 19,
   "metadata": {},
   "outputs": [
    {
     "name": "stdout",
     "output_type": "stream",
     "text": [
      "Количество явных дубликатов до обработки: 71\n"
     ]
    }
   ],
   "source": [
    "# проверим количество явных дубликатов\n",
    "print('Количество явных дубликатов до обработки:', statistic_score.duplicated().sum())"
   ]
  },
  {
   "cell_type": "code",
   "execution_count": 20,
   "metadata": {},
   "outputs": [
    {
     "name": "stdout",
     "output_type": "stream",
     "text": [
      "Количество явных дубликатов после обработки: 0\n"
     ]
    }
   ],
   "source": [
    "# удалим явные дубликаты, для этого воспользуемся методом drop_duplicated() со сбросом индексов .reset_index()\n",
    "statistic_score = statistic_score.drop_duplicates().reset_index(drop=True)\n",
    "# проверим количество дубликатов после проведения операции \n",
    "print('Количество явных дубликатов после обработки:', statistic_score.duplicated().sum())\n",
    "# идем дальше"
   ]
  },
  {
   "cell_type": "markdown",
   "metadata": {},
   "source": [
    "**Вывод**\n",
    "\n",
    "Проведена очистка явных дубликатов (в количестве 71). Видимо, указанные дубликаты были занесены в таблицу в связи с повторным введением данных клиентов при оформлении новых заявок на кредиты"
   ]
  },
  {
   "cell_type": "markdown",
   "metadata": {},
   "source": [
    "### Лемматизация"
   ]
  },
  {
   "cell_type": "code",
   "execution_count": 21,
   "metadata": {},
   "outputs": [
    {
     "name": "stdout",
     "output_type": "stream",
     "text": [
      "Список уникальных значений столбца целей кредита: \n",
      " ['автомобили' 'автомобиль' 'высшее образование'\n",
      " 'дополнительное образование' 'жилье' 'заняться высшим образованием'\n",
      " 'заняться образованием' 'на покупку автомобиля'\n",
      " 'на покупку подержанного автомобиля' 'на покупку своего автомобиля'\n",
      " 'на проведение свадьбы' 'недвижимость' 'образование' 'операции с жильем'\n",
      " 'операции с коммерческой недвижимостью' 'операции с недвижимостью'\n",
      " 'операции со своей недвижимостью' 'покупка жилой недвижимости'\n",
      " 'покупка жилья' 'покупка жилья для сдачи' 'покупка жилья для семьи'\n",
      " 'покупка коммерческой недвижимости' 'покупка недвижимости'\n",
      " 'покупка своего жилья' 'получение высшего образования'\n",
      " 'получение дополнительного образования' 'получение образования'\n",
      " 'приобретение автомобиля' 'профильное образование' 'ремонт жилью'\n",
      " 'свадьба' 'свой автомобиль' 'сделка с автомобилем'\n",
      " 'сделка с подержанным автомобилем' 'строительство жилой недвижимости'\n",
      " 'строительство недвижимости' 'строительство собственной недвижимости'\n",
      " 'сыграть свадьбу']\n"
     ]
    }
   ],
   "source": [
    "# импортируем библиотеку для лемматизации (вынесем импорт в самое начало проекта)\n",
    "m = Mystem()\n",
    "# для начала определим уникальные значения в столбцах, которые подвергнутся лемматизации\n",
    "# это столбцы с целями получения кредитов (purpose)\n",
    "print('Список уникальных значений столбца целей кредита: \\n', statistic_score['purpose'].sort_values().unique())"
   ]
  },
  {
   "cell_type": "code",
   "execution_count": 22,
   "metadata": {},
   "outputs": [],
   "source": [
    "# далее создадим функцию для обработки лемм\n",
    "def lemmatize_purpose(row):\n",
    "    lemmas = m.lemmatize(row)\n",
    "    for lemm in lemmas:\n",
    "        if 'авто' in ''.join(lemmas).strip():\n",
    "            return 'автомобиль'\n",
    "        if 'образов' in ''.join(lemmas).strip():\n",
    "            return 'образование'\n",
    "        if 'свадьб' in ''.join(lemmas).strip():\n",
    "            return 'свадьба'\n",
    "        if 'ремонт' in ''.join(lemmas).strip():\n",
    "            return 'ремонт жилья'\n",
    "        if 'жиль' in ''.join(lemmas).strip():\n",
    "            return 'недвижимость'\n",
    "        if 'недвиж' in ''.join(lemmas).strip():\n",
    "            return 'недвижимость'\n",
    "# поместим через метод .apply созданную функцию через дополнительную функцию lambda для получения леммы каждого столбца\n",
    "# исходного списка 'purpose' и сразу запишем их в новый столбец 'clean_purpse'\n",
    "statistic_score['clean_purpose'] = statistic_score.apply(lambda row: lemmatize_purpose(row['purpose']), axis=1)"
   ]
  },
  {
   "cell_type": "code",
   "execution_count": 23,
   "metadata": {},
   "outputs": [
    {
     "name": "stdout",
     "output_type": "stream",
     "text": [
      "\n",
      "Список лемм:\n",
      " ['автомобиль' 'недвижимость' 'образование' 'ремонт жилья' 'свадьба']\n"
     ]
    }
   ],
   "source": [
    "# выведем список уникальных лемм\n",
    "print('\\nСписок лемм:\\n', statistic_score['clean_purpose'].sort_values().unique())"
   ]
  },
  {
   "cell_type": "markdown",
   "metadata": {},
   "source": [
    "**Вывод**\n",
    "\n",
    "Выделили список лемм для удобства категоризации целей полученяи кредита. Выявилось множество схожих целей, которые достаточно легко объединить в категории. Создали столбец с леммами, по которому и будет проходить категоризация. Выделили 5 категорий целей: недвижимость, образование, автомобиль, свадьба, ремонт жилья"
   ]
  },
  {
   "cell_type": "markdown",
   "metadata": {},
   "source": [
    "### Категоризация данных"
   ]
  },
  {
   "cell_type": "markdown",
   "metadata": {},
   "source": [
    "Категоризуем данные по количеству детей и уровню дохода "
   ]
  },
  {
   "cell_type": "code",
   "execution_count": 24,
   "metadata": {},
   "outputs": [],
   "source": [
    "# создадим функцию для определения стстуса многодетности семьи для применения ее к общему датафрейму\n",
    "def child_fam_status(child):\n",
    "    if child == 0:\n",
    "        return 'бездетные'\n",
    "    if child == 1:\n",
    "        return 'однодетные'\n",
    "    if child == 2:\n",
    "        return 'малодетные'\n",
    "    else:\n",
    "        return 'многодетные'"
   ]
  },
  {
   "cell_type": "code",
   "execution_count": 25,
   "metadata": {
    "scrolled": true
   },
   "outputs": [
    {
     "data": {
      "text/html": [
       "<div>\n",
       "<style scoped>\n",
       "    .dataframe tbody tr th:only-of-type {\n",
       "        vertical-align: middle;\n",
       "    }\n",
       "\n",
       "    .dataframe tbody tr th {\n",
       "        vertical-align: top;\n",
       "    }\n",
       "\n",
       "    .dataframe thead th {\n",
       "        text-align: right;\n",
       "    }\n",
       "</style>\n",
       "<table border=\"1\" class=\"dataframe\">\n",
       "  <thead>\n",
       "    <tr style=\"text-align: right;\">\n",
       "      <th>education</th>\n",
       "      <th>высшее</th>\n",
       "      <th>начальное</th>\n",
       "      <th>неоконченное высшее</th>\n",
       "      <th>среднее</th>\n",
       "      <th>ученая степень</th>\n",
       "    </tr>\n",
       "    <tr>\n",
       "      <th>children_status</th>\n",
       "      <th></th>\n",
       "      <th></th>\n",
       "      <th></th>\n",
       "      <th></th>\n",
       "      <th></th>\n",
       "    </tr>\n",
       "  </thead>\n",
       "  <tbody>\n",
       "    <tr>\n",
       "      <td>бездетные</td>\n",
       "      <td>3255.0</td>\n",
       "      <td>186.0</td>\n",
       "      <td>484.0</td>\n",
       "      <td>10152.0</td>\n",
       "      <td>4.0</td>\n",
       "    </tr>\n",
       "    <tr>\n",
       "      <td>малодетные</td>\n",
       "      <td>555.0</td>\n",
       "      <td>25.0</td>\n",
       "      <td>72.0</td>\n",
       "      <td>1399.0</td>\n",
       "      <td>NaN</td>\n",
       "    </tr>\n",
       "    <tr>\n",
       "      <td>многодетные</td>\n",
       "      <td>106.0</td>\n",
       "      <td>8.0</td>\n",
       "      <td>10.0</td>\n",
       "      <td>331.0</td>\n",
       "      <td>1.0</td>\n",
       "    </tr>\n",
       "    <tr>\n",
       "      <td>однодетные</td>\n",
       "      <td>1330.0</td>\n",
       "      <td>58.0</td>\n",
       "      <td>175.0</td>\n",
       "      <td>3288.0</td>\n",
       "      <td>1.0</td>\n",
       "    </tr>\n",
       "  </tbody>\n",
       "</table>\n",
       "</div>"
      ],
      "text/plain": [
       "education        высшее  начальное  неоконченное высшее  среднее  \\\n",
       "children_status                                                    \n",
       "бездетные        3255.0      186.0                484.0  10152.0   \n",
       "малодетные        555.0       25.0                 72.0   1399.0   \n",
       "многодетные       106.0        8.0                 10.0    331.0   \n",
       "однодетные       1330.0       58.0                175.0   3288.0   \n",
       "\n",
       "education        ученая степень  \n",
       "children_status                  \n",
       "бездетные                   4.0  \n",
       "малодетные                  NaN  \n",
       "многодетные                 1.0  \n",
       "однодетные                  1.0  "
      ]
     },
     "execution_count": 25,
     "metadata": {},
     "output_type": "execute_result"
    }
   ],
   "source": [
    "# добавим столбец в общую таблицу\n",
    "statistic_score['children_status'] = statistic_score['children'].apply(child_fam_status)\n",
    "# выведем сводную таблицу по новой категории\n",
    "children_status_table = statistic_score.pivot_table(index='children_status', columns='education', values='clean_purpose', aggfunc='count')\n",
    "children_status_table"
   ]
  },
  {
   "cell_type": "code",
   "execution_count": 26,
   "metadata": {},
   "outputs": [],
   "source": [
    "# создадим функцию для категоризации по уровню дохода\n",
    "def income_status(money):\n",
    "    if money < 50000:\n",
    "        return 'низкий доход'\n",
    "    if 50000 <= money < 100000:\n",
    "        return 'средний доход'\n",
    "    if 100000 <= money < 200000:\n",
    "        return 'доход выше среднего'\n",
    "    else:\n",
    "        return 'запредельный доход'"
   ]
  },
  {
   "cell_type": "code",
   "execution_count": 27,
   "metadata": {},
   "outputs": [
    {
     "data": {
      "text/html": [
       "<div>\n",
       "<style scoped>\n",
       "    .dataframe tbody tr th:only-of-type {\n",
       "        vertical-align: middle;\n",
       "    }\n",
       "\n",
       "    .dataframe tbody tr th {\n",
       "        vertical-align: top;\n",
       "    }\n",
       "\n",
       "    .dataframe thead th {\n",
       "        text-align: right;\n",
       "    }\n",
       "</style>\n",
       "<table border=\"1\" class=\"dataframe\">\n",
       "  <thead>\n",
       "    <tr style=\"text-align: right;\">\n",
       "      <th>education</th>\n",
       "      <th>высшее</th>\n",
       "      <th>начальное</th>\n",
       "      <th>неоконченное высшее</th>\n",
       "      <th>среднее</th>\n",
       "      <th>ученая степень</th>\n",
       "    </tr>\n",
       "    <tr>\n",
       "      <th>income_status</th>\n",
       "      <th></th>\n",
       "      <th></th>\n",
       "      <th></th>\n",
       "      <th></th>\n",
       "      <th></th>\n",
       "    </tr>\n",
       "  </thead>\n",
       "  <tbody>\n",
       "    <tr>\n",
       "      <td>доход выше среднего</td>\n",
       "      <td>2628.0</td>\n",
       "      <td>139.0</td>\n",
       "      <td>396.0</td>\n",
       "      <td>8580.0</td>\n",
       "      <td>3.0</td>\n",
       "    </tr>\n",
       "    <tr>\n",
       "      <td>запредельный доход</td>\n",
       "      <td>2010.0</td>\n",
       "      <td>42.0</td>\n",
       "      <td>227.0</td>\n",
       "      <td>2933.0</td>\n",
       "      <td>2.0</td>\n",
       "    </tr>\n",
       "    <tr>\n",
       "      <td>низкий доход</td>\n",
       "      <td>31.0</td>\n",
       "      <td>15.0</td>\n",
       "      <td>3.0</td>\n",
       "      <td>323.0</td>\n",
       "      <td>NaN</td>\n",
       "    </tr>\n",
       "    <tr>\n",
       "      <td>средний доход</td>\n",
       "      <td>577.0</td>\n",
       "      <td>81.0</td>\n",
       "      <td>115.0</td>\n",
       "      <td>3334.0</td>\n",
       "      <td>1.0</td>\n",
       "    </tr>\n",
       "  </tbody>\n",
       "</table>\n",
       "</div>"
      ],
      "text/plain": [
       "education            высшее  начальное  неоконченное высшее  среднее  \\\n",
       "income_status                                                          \n",
       "доход выше среднего  2628.0      139.0                396.0   8580.0   \n",
       "запредельный доход   2010.0       42.0                227.0   2933.0   \n",
       "низкий доход           31.0       15.0                  3.0    323.0   \n",
       "средний доход         577.0       81.0                115.0   3334.0   \n",
       "\n",
       "education            ученая степень  \n",
       "income_status                        \n",
       "доход выше среднего             3.0  \n",
       "запредельный доход              2.0  \n",
       "низкий доход                    NaN  \n",
       "средний доход                   1.0  "
      ]
     },
     "execution_count": 27,
     "metadata": {},
     "output_type": "execute_result"
    }
   ],
   "source": [
    "# добавим новую категорию в общую таблицу\n",
    "statistic_score['income_status'] = statistic_score['total_income'].apply(income_status)\n",
    "# выведем сводную таблицу по новой категории\n",
    "income_status_table = statistic_score.pivot_table(index='income_status', columns='education', values='clean_purpose', aggfunc='count')\n",
    "income_status_table"
   ]
  },
  {
   "cell_type": "code",
   "execution_count": 30,
   "metadata": {},
   "outputs": [],
   "source": [
    "def categorize_value(value):\n",
    "    if value < 0.5:\n",
    "        return 'lower'\n",
    "    elif value < 0.75:\n",
    "        return 'middle'\n",
    "    else:\n",
    "        return 'high'"
   ]
  },
  {
   "cell_type": "code",
   "execution_count": 31,
   "metadata": {},
   "outputs": [],
   "source": [
    "df['category_value'] = df['value'].map(categorize_value)"
   ]
  },
  {
   "cell_type": "markdown",
   "metadata": {},
   "source": [
    "**Вывод**\n",
    "\n",
    "Добавлены новые качественные категории на основе количесственных показателей. С такими категориями будет удобно проверять гипотезы."
   ]
  },
  {
   "cell_type": "markdown",
   "metadata": {},
   "source": [
    "## Шаг 3. Ответы на вопросы"
   ]
  },
  {
   "cell_type": "markdown",
   "metadata": {},
   "source": [
    "- Есть ли зависимость между наличием детей и возвратом кредита в срок?"
   ]
  },
  {
   "cell_type": "code",
   "execution_count": 32,
   "metadata": {},
   "outputs": [
    {
     "data": {
      "text/html": [
       "<div>\n",
       "<style scoped>\n",
       "    .dataframe tbody tr th:only-of-type {\n",
       "        vertical-align: middle;\n",
       "    }\n",
       "\n",
       "    .dataframe tbody tr th {\n",
       "        vertical-align: top;\n",
       "    }\n",
       "\n",
       "    .dataframe thead th {\n",
       "        text-align: right;\n",
       "    }\n",
       "</style>\n",
       "<table border=\"1\" class=\"dataframe\">\n",
       "  <thead>\n",
       "    <tr style=\"text-align: right;\">\n",
       "      <th></th>\n",
       "      <th>debt</th>\n",
       "    </tr>\n",
       "    <tr>\n",
       "      <th>children_status</th>\n",
       "      <th></th>\n",
       "    </tr>\n",
       "  </thead>\n",
       "  <tbody>\n",
       "    <tr>\n",
       "      <td>малодетные</td>\n",
       "      <td>0.094588</td>\n",
       "    </tr>\n",
       "    <tr>\n",
       "      <td>однодетные</td>\n",
       "      <td>0.091715</td>\n",
       "    </tr>\n",
       "    <tr>\n",
       "      <td>многодетные</td>\n",
       "      <td>0.085526</td>\n",
       "    </tr>\n",
       "    <tr>\n",
       "      <td>бездетные</td>\n",
       "      <td>0.075492</td>\n",
       "    </tr>\n",
       "  </tbody>\n",
       "</table>\n",
       "</div>"
      ],
      "text/plain": [
       "                     debt\n",
       "children_status          \n",
       "малодетные       0.094588\n",
       "однодетные       0.091715\n",
       "многодетные      0.085526\n",
       "бездетные        0.075492"
      ]
     },
     "execution_count": 32,
     "metadata": {},
     "output_type": "execute_result"
    }
   ],
   "source": [
    "# выведем таблицу соотношения вероятности возвращения кредитов в зависимости от наличия детей\n",
    "statistic_score.groupby('children_status').agg({'debt': 'mean'}).sort_values(by='debt', ascending=False)"
   ]
  },
  {
   "cell_type": "code",
   "execution_count": 33,
   "metadata": {},
   "outputs": [
    {
     "data": {
      "text/html": [
       "<div>\n",
       "<style scoped>\n",
       "    .dataframe tbody tr th:only-of-type {\n",
       "        vertical-align: middle;\n",
       "    }\n",
       "\n",
       "    .dataframe tbody tr th {\n",
       "        vertical-align: top;\n",
       "    }\n",
       "\n",
       "    .dataframe thead th {\n",
       "        text-align: right;\n",
       "    }\n",
       "</style>\n",
       "<table border=\"1\" class=\"dataframe\">\n",
       "  <thead>\n",
       "    <tr style=\"text-align: right;\">\n",
       "      <th></th>\n",
       "      <th>debt</th>\n",
       "    </tr>\n",
       "    <tr>\n",
       "      <th>children_status</th>\n",
       "      <th></th>\n",
       "    </tr>\n",
       "  </thead>\n",
       "  <tbody>\n",
       "    <tr>\n",
       "      <td>бездетные</td>\n",
       "      <td>14081</td>\n",
       "    </tr>\n",
       "    <tr>\n",
       "      <td>однодетные</td>\n",
       "      <td>4852</td>\n",
       "    </tr>\n",
       "    <tr>\n",
       "      <td>малодетные</td>\n",
       "      <td>2051</td>\n",
       "    </tr>\n",
       "    <tr>\n",
       "      <td>многодетные</td>\n",
       "      <td>456</td>\n",
       "    </tr>\n",
       "  </tbody>\n",
       "</table>\n",
       "</div>"
      ],
      "text/plain": [
       "                  debt\n",
       "children_status       \n",
       "бездетные        14081\n",
       "однодетные        4852\n",
       "малодетные        2051\n",
       "многодетные        456"
      ]
     },
     "execution_count": 33,
     "metadata": {},
     "output_type": "execute_result"
    }
   ],
   "source": [
    "# сравним с количеством людей соответствующих групп\n",
    "statistic_score.groupby('children_status').agg({'debt': 'count'}).sort_values(by='debt', ascending=False)"
   ]
  },
  {
   "cell_type": "markdown",
   "metadata": {},
   "source": [
    "**Вывод**\n",
    "\n",
    "Предположу выводы: малодетные и однодетные семьи имеют схожую и большую вероятность сложности с возвратом кредита в срок. Возможно это связано с тем, что многодетные семьи меньше оформляют кредиты. Бездетным же заемщикам легче выплатить кредит в срок."
   ]
  },
  {
   "cell_type": "code",
   "execution_count": 35,
   "metadata": {},
   "outputs": [],
   "source": [
    "# для большего эффекта сгенерим большее кол-во данных + искусственный столбец с debt\n",
    "df = pd.DataFrame({\n",
    "    'value': [random.random() for _ in range(100)],\n",
    "    'is_debt': np.random.binomial(2, 0.1, size=(100,))\n",
    "})\n",
    "\n",
    "# категоризуем\n",
    "df['category_value'] = df['value'].map(categorize_value)"
   ]
  },
  {
   "cell_type": "code",
   "execution_count": 36,
   "metadata": {
    "scrolled": true
   },
   "outputs": [
    {
     "data": {
      "text/html": [
       "<div>\n",
       "<style scoped>\n",
       "    .dataframe tbody tr th:only-of-type {\n",
       "        vertical-align: middle;\n",
       "    }\n",
       "\n",
       "    .dataframe tbody tr th {\n",
       "        vertical-align: top;\n",
       "    }\n",
       "\n",
       "    .dataframe thead th {\n",
       "        text-align: right;\n",
       "    }\n",
       "</style>\n",
       "<table border=\"1\" class=\"dataframe\">\n",
       "  <thead>\n",
       "    <tr style=\"text-align: right;\">\n",
       "      <th></th>\n",
       "      <th>is_debt</th>\n",
       "    </tr>\n",
       "    <tr>\n",
       "      <th>category_value</th>\n",
       "      <th></th>\n",
       "    </tr>\n",
       "  </thead>\n",
       "  <tbody>\n",
       "    <tr>\n",
       "      <td>lower</td>\n",
       "      <td>0.326087</td>\n",
       "    </tr>\n",
       "    <tr>\n",
       "      <td>middle</td>\n",
       "      <td>0.275862</td>\n",
       "    </tr>\n",
       "    <tr>\n",
       "      <td>high</td>\n",
       "      <td>0.200000</td>\n",
       "    </tr>\n",
       "  </tbody>\n",
       "</table>\n",
       "</div>"
      ],
      "text/plain": [
       "                 is_debt\n",
       "category_value          \n",
       "lower           0.326087\n",
       "middle          0.275862\n",
       "high            0.200000"
      ]
     },
     "execution_count": 36,
     "metadata": {},
     "output_type": "execute_result"
    }
   ],
   "source": [
    "# группируем по категориям и считаем среднее по is_debt - получаем долю по категориям\n",
    "df.groupby('category_value').agg({'is_debt': 'mean'}).sort_values(by='is_debt', ascending=False)"
   ]
  },
  {
   "cell_type": "markdown",
   "metadata": {},
   "source": [
    "На основе моей искуственно созданной таблице, видим, что доля больше у группы"
   ]
  },
  {
   "cell_type": "code",
   "execution_count": 45,
   "metadata": {},
   "outputs": [
    {
     "data": {
      "text/html": [
       "<div>\n",
       "<style scoped>\n",
       "    .dataframe tbody tr th:only-of-type {\n",
       "        vertical-align: middle;\n",
       "    }\n",
       "\n",
       "    .dataframe tbody tr th {\n",
       "        vertical-align: top;\n",
       "    }\n",
       "\n",
       "    .dataframe thead tr th {\n",
       "        text-align: left;\n",
       "    }\n",
       "\n",
       "    .dataframe thead tr:last-of-type th {\n",
       "        text-align: right;\n",
       "    }\n",
       "</style>\n",
       "<table border=\"1\" class=\"dataframe\">\n",
       "  <thead>\n",
       "    <tr>\n",
       "      <th></th>\n",
       "      <th colspan=\"2\" halign=\"left\">debt</th>\n",
       "    </tr>\n",
       "    <tr>\n",
       "      <th></th>\n",
       "      <th>mean</th>\n",
       "      <th>count</th>\n",
       "    </tr>\n",
       "    <tr>\n",
       "      <th>children_status</th>\n",
       "      <th></th>\n",
       "      <th></th>\n",
       "    </tr>\n",
       "  </thead>\n",
       "  <tbody>\n",
       "    <tr>\n",
       "      <td>бездетные</td>\n",
       "      <td>0.075492</td>\n",
       "      <td>14081</td>\n",
       "    </tr>\n",
       "    <tr>\n",
       "      <td>малодетные</td>\n",
       "      <td>0.094588</td>\n",
       "      <td>2051</td>\n",
       "    </tr>\n",
       "    <tr>\n",
       "      <td>многодетные</td>\n",
       "      <td>0.085526</td>\n",
       "      <td>456</td>\n",
       "    </tr>\n",
       "    <tr>\n",
       "      <td>однодетные</td>\n",
       "      <td>0.091715</td>\n",
       "      <td>4852</td>\n",
       "    </tr>\n",
       "  </tbody>\n",
       "</table>\n",
       "</div>"
      ],
      "text/plain": [
       "                     debt       \n",
       "                     mean  count\n",
       "children_status                 \n",
       "бездетные        0.075492  14081\n",
       "малодетные       0.094588   2051\n",
       "многодетные      0.085526    456\n",
       "однодетные       0.091715   4852"
      ]
     },
     "execution_count": 45,
     "metadata": {},
     "output_type": "execute_result"
    }
   ],
   "source": [
    "statistic_score.groupby('children_status').agg({'debt': ['mean', 'count']})"
   ]
  },
  {
   "cell_type": "markdown",
   "metadata": {},
   "source": [
    "- Есть ли зависимость между семейным положением и возвратом кредита в срок?"
   ]
  },
  {
   "cell_type": "code",
   "execution_count": 37,
   "metadata": {},
   "outputs": [
    {
     "data": {
      "text/html": [
       "<div>\n",
       "<style scoped>\n",
       "    .dataframe tbody tr th:only-of-type {\n",
       "        vertical-align: middle;\n",
       "    }\n",
       "\n",
       "    .dataframe tbody tr th {\n",
       "        vertical-align: top;\n",
       "    }\n",
       "\n",
       "    .dataframe thead th {\n",
       "        text-align: right;\n",
       "    }\n",
       "</style>\n",
       "<table border=\"1\" class=\"dataframe\">\n",
       "  <thead>\n",
       "    <tr style=\"text-align: right;\">\n",
       "      <th></th>\n",
       "      <th>debt</th>\n",
       "    </tr>\n",
       "    <tr>\n",
       "      <th>family_status</th>\n",
       "      <th></th>\n",
       "    </tr>\n",
       "  </thead>\n",
       "  <tbody>\n",
       "    <tr>\n",
       "      <td>не женат / не замужем</td>\n",
       "      <td>0.097578</td>\n",
       "    </tr>\n",
       "    <tr>\n",
       "      <td>гражданский брак</td>\n",
       "      <td>0.093562</td>\n",
       "    </tr>\n",
       "    <tr>\n",
       "      <td>женат / замужем</td>\n",
       "      <td>0.075495</td>\n",
       "    </tr>\n",
       "    <tr>\n",
       "      <td>в разводе</td>\n",
       "      <td>0.071189</td>\n",
       "    </tr>\n",
       "    <tr>\n",
       "      <td>вдовец / вдова</td>\n",
       "      <td>0.065693</td>\n",
       "    </tr>\n",
       "  </tbody>\n",
       "</table>\n",
       "</div>"
      ],
      "text/plain": [
       "                           debt\n",
       "family_status                  \n",
       "не женат / не замужем  0.097578\n",
       "гражданский брак       0.093562\n",
       "женат / замужем        0.075495\n",
       "в разводе              0.071189\n",
       "вдовец / вдова         0.065693"
      ]
     },
     "execution_count": 37,
     "metadata": {},
     "output_type": "execute_result"
    }
   ],
   "source": [
    "# выведем таблицу соотношения вероятности возвращения кредитов в зависимости от семейного положения заемщиков\n",
    "statistic_score.groupby('family_status').agg({'debt': 'mean'}).sort_values(by='debt', ascending=False)"
   ]
  },
  {
   "cell_type": "code",
   "execution_count": 38,
   "metadata": {},
   "outputs": [
    {
     "data": {
      "text/html": [
       "<div>\n",
       "<style scoped>\n",
       "    .dataframe tbody tr th:only-of-type {\n",
       "        vertical-align: middle;\n",
       "    }\n",
       "\n",
       "    .dataframe tbody tr th {\n",
       "        vertical-align: top;\n",
       "    }\n",
       "\n",
       "    .dataframe thead th {\n",
       "        text-align: right;\n",
       "    }\n",
       "</style>\n",
       "<table border=\"1\" class=\"dataframe\">\n",
       "  <thead>\n",
       "    <tr style=\"text-align: right;\">\n",
       "      <th></th>\n",
       "      <th>debt</th>\n",
       "    </tr>\n",
       "    <tr>\n",
       "      <th>family_status</th>\n",
       "      <th></th>\n",
       "    </tr>\n",
       "  </thead>\n",
       "  <tbody>\n",
       "    <tr>\n",
       "      <td>женат / замужем</td>\n",
       "      <td>12332</td>\n",
       "    </tr>\n",
       "    <tr>\n",
       "      <td>гражданский брак</td>\n",
       "      <td>4147</td>\n",
       "    </tr>\n",
       "    <tr>\n",
       "      <td>не женат / не замужем</td>\n",
       "      <td>2808</td>\n",
       "    </tr>\n",
       "    <tr>\n",
       "      <td>в разводе</td>\n",
       "      <td>1194</td>\n",
       "    </tr>\n",
       "    <tr>\n",
       "      <td>вдовец / вдова</td>\n",
       "      <td>959</td>\n",
       "    </tr>\n",
       "  </tbody>\n",
       "</table>\n",
       "</div>"
      ],
      "text/plain": [
       "                        debt\n",
       "family_status               \n",
       "женат / замужем        12332\n",
       "гражданский брак        4147\n",
       "не женат / не замужем   2808\n",
       "в разводе               1194\n",
       "вдовец / вдова           959"
      ]
     },
     "execution_count": 38,
     "metadata": {},
     "output_type": "execute_result"
    }
   ],
   "source": [
    "# сравним с количеством людей соответствующих групп\n",
    "statistic_score.groupby('family_status').agg({'debt': 'count'}).sort_values(by='debt', ascending=False)"
   ]
  },
  {
   "cell_type": "markdown",
   "metadata": {},
   "source": [
    "**Вывод**\n",
    "\n",
    "Более высокая доля затруднений в возврате кредитов в срок у группы заемщиков, не состоящих в браке. Схожая позиция у семей, находящихся в т.н. \"гражданском браке\". Овдовевшие имеют меньший риск невыплаты кредитов в срок, вероятно, в силу невысокого кредитного заема (исключительно предположение)."
   ]
  },
  {
   "cell_type": "markdown",
   "metadata": {},
   "source": [
    "- Есть ли зависимость между уровнем дохода и возвратом кредита в срок?"
   ]
  },
  {
   "cell_type": "code",
   "execution_count": 39,
   "metadata": {},
   "outputs": [
    {
     "data": {
      "text/html": [
       "<div>\n",
       "<style scoped>\n",
       "    .dataframe tbody tr th:only-of-type {\n",
       "        vertical-align: middle;\n",
       "    }\n",
       "\n",
       "    .dataframe tbody tr th {\n",
       "        vertical-align: top;\n",
       "    }\n",
       "\n",
       "    .dataframe thead th {\n",
       "        text-align: right;\n",
       "    }\n",
       "</style>\n",
       "<table border=\"1\" class=\"dataframe\">\n",
       "  <thead>\n",
       "    <tr style=\"text-align: right;\">\n",
       "      <th></th>\n",
       "      <th>debt</th>\n",
       "    </tr>\n",
       "    <tr>\n",
       "      <th>income_status</th>\n",
       "      <th></th>\n",
       "    </tr>\n",
       "  </thead>\n",
       "  <tbody>\n",
       "    <tr>\n",
       "      <td>доход выше среднего</td>\n",
       "      <td>0.086753</td>\n",
       "    </tr>\n",
       "    <tr>\n",
       "      <td>средний доход</td>\n",
       "      <td>0.081061</td>\n",
       "    </tr>\n",
       "    <tr>\n",
       "      <td>запредельный доход</td>\n",
       "      <td>0.070196</td>\n",
       "    </tr>\n",
       "    <tr>\n",
       "      <td>низкий доход</td>\n",
       "      <td>0.061828</td>\n",
       "    </tr>\n",
       "  </tbody>\n",
       "</table>\n",
       "</div>"
      ],
      "text/plain": [
       "                         debt\n",
       "income_status                \n",
       "доход выше среднего  0.086753\n",
       "средний доход        0.081061\n",
       "запредельный доход   0.070196\n",
       "низкий доход         0.061828"
      ]
     },
     "execution_count": 39,
     "metadata": {},
     "output_type": "execute_result"
    }
   ],
   "source": [
    "# выведем таблицу соотношения вероятности возвращения кредитов в зависимости от уровня доходов\n",
    "statistic_score.groupby('income_status').agg({'debt': 'mean'}).sort_values(by='debt', ascending=False)"
   ]
  },
  {
   "cell_type": "code",
   "execution_count": 40,
   "metadata": {},
   "outputs": [
    {
     "data": {
      "text/html": [
       "<div>\n",
       "<style scoped>\n",
       "    .dataframe tbody tr th:only-of-type {\n",
       "        vertical-align: middle;\n",
       "    }\n",
       "\n",
       "    .dataframe tbody tr th {\n",
       "        vertical-align: top;\n",
       "    }\n",
       "\n",
       "    .dataframe thead th {\n",
       "        text-align: right;\n",
       "    }\n",
       "</style>\n",
       "<table border=\"1\" class=\"dataframe\">\n",
       "  <thead>\n",
       "    <tr style=\"text-align: right;\">\n",
       "      <th></th>\n",
       "      <th>debt</th>\n",
       "    </tr>\n",
       "    <tr>\n",
       "      <th>income_status</th>\n",
       "      <th></th>\n",
       "    </tr>\n",
       "  </thead>\n",
       "  <tbody>\n",
       "    <tr>\n",
       "      <td>доход выше среднего</td>\n",
       "      <td>11746</td>\n",
       "    </tr>\n",
       "    <tr>\n",
       "      <td>запредельный доход</td>\n",
       "      <td>5214</td>\n",
       "    </tr>\n",
       "    <tr>\n",
       "      <td>средний доход</td>\n",
       "      <td>4108</td>\n",
       "    </tr>\n",
       "    <tr>\n",
       "      <td>низкий доход</td>\n",
       "      <td>372</td>\n",
       "    </tr>\n",
       "  </tbody>\n",
       "</table>\n",
       "</div>"
      ],
      "text/plain": [
       "                      debt\n",
       "income_status             \n",
       "доход выше среднего  11746\n",
       "запредельный доход    5214\n",
       "средний доход         4108\n",
       "низкий доход           372"
      ]
     },
     "execution_count": 40,
     "metadata": {},
     "output_type": "execute_result"
    }
   ],
   "source": [
    "# сравним с количеством взявших кредит с соответствующим уровнем доходов\n",
    "statistic_score.groupby('income_status').agg({'debt': 'count'}).sort_values(by='debt', ascending=False)"
   ]
  },
  {
   "cell_type": "markdown",
   "metadata": {},
   "source": [
    "**Вывод**\n",
    "\n",
    "Выше вероятность невыплаты кредитных сумм у группы заемщиков с доходом выше среднего. Веротяно, это наиболее обширная группа, в которой имеется влияение различных факторов. Меньшие риски имеет группа с \"запредельным доходом\" и низким доходом - веротяно у первой есть возможность их выплатить, у второй - малая сумма заемных средств."
   ]
  },
  {
   "cell_type": "markdown",
   "metadata": {},
   "source": [
    "- Как разные цели кредита влияют на его возврат в срок?"
   ]
  },
  {
   "cell_type": "code",
   "execution_count": 41,
   "metadata": {},
   "outputs": [
    {
     "data": {
      "text/html": [
       "<div>\n",
       "<style scoped>\n",
       "    .dataframe tbody tr th:only-of-type {\n",
       "        vertical-align: middle;\n",
       "    }\n",
       "\n",
       "    .dataframe tbody tr th {\n",
       "        vertical-align: top;\n",
       "    }\n",
       "\n",
       "    .dataframe thead th {\n",
       "        text-align: right;\n",
       "    }\n",
       "</style>\n",
       "<table border=\"1\" class=\"dataframe\">\n",
       "  <thead>\n",
       "    <tr style=\"text-align: right;\">\n",
       "      <th></th>\n",
       "      <th>debt</th>\n",
       "    </tr>\n",
       "    <tr>\n",
       "      <th>clean_purpose</th>\n",
       "      <th></th>\n",
       "    </tr>\n",
       "  </thead>\n",
       "  <tbody>\n",
       "    <tr>\n",
       "      <td>автомобиль</td>\n",
       "      <td>0.093612</td>\n",
       "    </tr>\n",
       "    <tr>\n",
       "      <td>образование</td>\n",
       "      <td>0.092223</td>\n",
       "    </tr>\n",
       "    <tr>\n",
       "      <td>свадьба</td>\n",
       "      <td>0.080138</td>\n",
       "    </tr>\n",
       "    <tr>\n",
       "      <td>недвижимость</td>\n",
       "      <td>0.073264</td>\n",
       "    </tr>\n",
       "    <tr>\n",
       "      <td>ремонт жилья</td>\n",
       "      <td>0.057756</td>\n",
       "    </tr>\n",
       "  </tbody>\n",
       "</table>\n",
       "</div>"
      ],
      "text/plain": [
       "                   debt\n",
       "clean_purpose          \n",
       "автомобиль     0.093612\n",
       "образование    0.092223\n",
       "свадьба        0.080138\n",
       "недвижимость   0.073264\n",
       "ремонт жилья   0.057756"
      ]
     },
     "execution_count": 41,
     "metadata": {},
     "output_type": "execute_result"
    }
   ],
   "source": [
    "# выведем таблицу соотношения вероятности возвращения кредитов в зависимости от цели\n",
    "statistic_score.groupby('clean_purpose').agg({'debt': 'mean'}).sort_values(by='debt', ascending=False)"
   ]
  },
  {
   "cell_type": "code",
   "execution_count": 42,
   "metadata": {},
   "outputs": [
    {
     "data": {
      "text/html": [
       "<div>\n",
       "<style scoped>\n",
       "    .dataframe tbody tr th:only-of-type {\n",
       "        vertical-align: middle;\n",
       "    }\n",
       "\n",
       "    .dataframe tbody tr th {\n",
       "        vertical-align: top;\n",
       "    }\n",
       "\n",
       "    .dataframe thead th {\n",
       "        text-align: right;\n",
       "    }\n",
       "</style>\n",
       "<table border=\"1\" class=\"dataframe\">\n",
       "  <thead>\n",
       "    <tr style=\"text-align: right;\">\n",
       "      <th></th>\n",
       "      <th>debt</th>\n",
       "    </tr>\n",
       "    <tr>\n",
       "      <th>clean_purpose</th>\n",
       "      <th></th>\n",
       "    </tr>\n",
       "  </thead>\n",
       "  <tbody>\n",
       "    <tr>\n",
       "      <td>недвижимость</td>\n",
       "      <td>10196</td>\n",
       "    </tr>\n",
       "    <tr>\n",
       "      <td>автомобиль</td>\n",
       "      <td>4305</td>\n",
       "    </tr>\n",
       "    <tr>\n",
       "      <td>образование</td>\n",
       "      <td>4012</td>\n",
       "    </tr>\n",
       "    <tr>\n",
       "      <td>свадьба</td>\n",
       "      <td>2321</td>\n",
       "    </tr>\n",
       "    <tr>\n",
       "      <td>ремонт жилья</td>\n",
       "      <td>606</td>\n",
       "    </tr>\n",
       "  </tbody>\n",
       "</table>\n",
       "</div>"
      ],
      "text/plain": [
       "                debt\n",
       "clean_purpose       \n",
       "недвижимость   10196\n",
       "автомобиль      4305\n",
       "образование     4012\n",
       "свадьба         2321\n",
       "ремонт жилья     606"
      ]
     },
     "execution_count": 42,
     "metadata": {},
     "output_type": "execute_result"
    }
   ],
   "source": [
    "# сравним с количеством взявших кредит на соответствующие цели\n",
    "statistic_score.groupby('clean_purpose').agg({'debt': 'count'}).sort_values(by='debt', ascending=False)"
   ]
  },
  {
   "cell_type": "markdown",
   "metadata": {},
   "source": [
    "**Вывод**\n",
    "\n",
    "Наибольшие сложности с выплатой кредитов возникают у людей, взявших автокредит и людей, выбравших целью получение образования. Выплата кредитных средств на ремонт жилья не представляет существенной трудности, вероятно, в силу их небольших сумм."
   ]
  },
  {
   "cell_type": "markdown",
   "metadata": {},
   "source": [
    "## Шаг 4. Общий вывод"
   ]
  },
  {
   "cell_type": "markdown",
   "metadata": {},
   "source": [
    "В каждой гипотезе предположил причины возникновения зависимостей, однако для более точных выводов, конечно, треубется выяснения соотношений совокупности факторов. Для этого требуется более глубой анализ имеющейся таблицы. Ну и требуются новые гипотезы.\n",
    "Пока же можно подытожить следующее.\n",
    "\n",
    "- Малодетные и однодетные семьи имеют схожую и большую вероятность сложности с возвратом кредита в срок. Бездетным же заемщикам легче выплатить кредит в срок.\n",
    "\n",
    "- Более высокая доля затруднений в возврате кредитов в срок у группы заемщиков, не состоящих в браке. Схожая позиция у семей, находящихся в т.н. \"гражданском браке\". Овдовевшие имеют меньший риск невыплаты кредитов в срок.\n",
    "\n",
    "- Существует зависимость невыплаты кредитных сумм у группы заемщиков с доходом выше среднего. Меньшие риски имеет группа с \"запредельным доходом\" и низким доходом - веротяно у первой из них есть возможность их выплатить, у второй - малая сумма заемных средств.\n",
    "\n",
    "- Наибольшие сложности с выплатой кредитов возникают у людей, взявших автокредит и людей, выбравших целью получение образования. Выплата кредитных средств на ремонт жилья не представляет существенной трудности, вероятно, в силу их небольших сумм."
   ]
  }
 ],
 "metadata": {
  "ExecuteTimeLog": [
   {
    "duration": 829,
    "start_time": "2021-11-13T20:55:28.881Z"
   },
   {
    "duration": 89,
    "start_time": "2021-11-13T21:01:00.348Z"
   },
   {
    "duration": 315,
    "start_time": "2021-11-14T20:29:08.065Z"
   },
   {
    "duration": 273,
    "start_time": "2021-11-14T20:29:14.802Z"
   },
   {
    "duration": 955,
    "start_time": "2021-11-14T20:29:25.481Z"
   },
   {
    "duration": 317,
    "start_time": "2021-11-14T20:29:29.601Z"
   },
   {
    "duration": 7,
    "start_time": "2021-11-14T20:42:18.157Z"
   },
   {
    "duration": 7,
    "start_time": "2021-11-14T20:42:39.563Z"
   },
   {
    "duration": 6,
    "start_time": "2021-11-14T20:42:53.272Z"
   },
   {
    "duration": 6,
    "start_time": "2021-11-14T20:44:02.326Z"
   },
   {
    "duration": 7,
    "start_time": "2021-11-14T20:44:19.740Z"
   },
   {
    "duration": 8,
    "start_time": "2021-11-14T20:45:03.420Z"
   },
   {
    "duration": 6,
    "start_time": "2021-11-14T20:45:40.743Z"
   },
   {
    "duration": 6,
    "start_time": "2021-11-14T20:45:51.370Z"
   },
   {
    "duration": 6,
    "start_time": "2021-11-14T20:46:00.874Z"
   },
   {
    "duration": 7,
    "start_time": "2021-11-14T20:47:08.414Z"
   },
   {
    "duration": 6,
    "start_time": "2021-11-14T20:47:19.432Z"
   },
   {
    "duration": 7,
    "start_time": "2021-11-14T20:47:26.618Z"
   },
   {
    "duration": 9,
    "start_time": "2021-11-14T20:47:40.884Z"
   },
   {
    "duration": 252,
    "start_time": "2021-11-14T20:49:41.566Z"
   },
   {
    "duration": 10,
    "start_time": "2021-11-14T20:49:52.084Z"
   },
   {
    "duration": 9,
    "start_time": "2021-11-14T20:50:02.995Z"
   },
   {
    "duration": 9,
    "start_time": "2021-11-14T20:50:16.254Z"
   },
   {
    "duration": 7,
    "start_time": "2021-11-14T20:50:23.287Z"
   },
   {
    "duration": 10,
    "start_time": "2021-11-14T20:50:30.422Z"
   },
   {
    "duration": 9,
    "start_time": "2021-11-14T20:50:44.445Z"
   },
   {
    "duration": 8,
    "start_time": "2021-11-14T20:50:56.437Z"
   },
   {
    "duration": 10,
    "start_time": "2021-11-14T20:51:04.210Z"
   },
   {
    "duration": 11,
    "start_time": "2021-11-14T20:51:12.296Z"
   },
   {
    "duration": 278,
    "start_time": "2021-11-14T20:52:19.164Z"
   },
   {
    "duration": 9,
    "start_time": "2021-11-14T20:55:46.158Z"
   },
   {
    "duration": 89,
    "start_time": "2021-11-14T20:59:45.516Z"
   },
   {
    "duration": 89,
    "start_time": "2021-11-14T21:00:01.013Z"
   },
   {
    "duration": 10,
    "start_time": "2021-11-14T21:21:19.472Z"
   },
   {
    "duration": 8,
    "start_time": "2021-11-14T21:21:26.522Z"
   },
   {
    "duration": 12,
    "start_time": "2021-11-14T21:21:36.866Z"
   },
   {
    "duration": 8,
    "start_time": "2021-11-14T21:21:46.840Z"
   },
   {
    "duration": 7,
    "start_time": "2021-11-14T21:22:00.807Z"
   },
   {
    "duration": 9,
    "start_time": "2021-11-14T21:22:12.269Z"
   },
   {
    "duration": 8,
    "start_time": "2021-11-14T21:22:25.738Z"
   },
   {
    "duration": 9,
    "start_time": "2021-11-14T21:22:37.939Z"
   },
   {
    "duration": 7,
    "start_time": "2021-11-14T21:22:47.031Z"
   },
   {
    "duration": 10,
    "start_time": "2021-11-14T21:22:54.055Z"
   },
   {
    "duration": 8,
    "start_time": "2021-11-14T21:28:02.947Z"
   },
   {
    "duration": 274,
    "start_time": "2021-11-14T21:28:17.248Z"
   },
   {
    "duration": 80,
    "start_time": "2021-11-14T21:28:36.971Z"
   },
   {
    "duration": 275,
    "start_time": "2021-11-14T21:28:49.525Z"
   },
   {
    "duration": 644,
    "start_time": "2021-11-15T17:08:51.183Z"
   },
   {
    "duration": 334,
    "start_time": "2021-11-15T17:08:54.484Z"
   },
   {
    "duration": 258,
    "start_time": "2021-11-15T17:08:56.025Z"
   },
   {
    "duration": 4,
    "start_time": "2021-11-15T17:18:32.309Z"
   },
   {
    "duration": 10,
    "start_time": "2021-11-15T17:20:50.369Z"
   },
   {
    "duration": 25,
    "start_time": "2021-11-15T17:51:52.001Z"
   },
   {
    "duration": 38,
    "start_time": "2021-11-15T17:52:44.761Z"
   },
   {
    "duration": 89,
    "start_time": "2021-11-15T17:59:28.502Z"
   },
   {
    "duration": 36,
    "start_time": "2021-11-15T17:59:28.594Z"
   },
   {
    "duration": 36,
    "start_time": "2021-11-15T17:59:54.685Z"
   },
   {
    "duration": 10,
    "start_time": "2021-11-15T18:10:27.254Z"
   },
   {
    "duration": 5,
    "start_time": "2021-11-15T18:29:16.732Z"
   },
   {
    "duration": 396,
    "start_time": "2021-11-15T18:29:46.001Z"
   },
   {
    "duration": 7,
    "start_time": "2021-11-15T18:29:57.371Z"
   },
   {
    "duration": 7,
    "start_time": "2021-11-15T18:30:10.579Z"
   },
   {
    "duration": 5,
    "start_time": "2021-11-15T18:30:15.501Z"
   },
   {
    "duration": 274,
    "start_time": "2021-11-15T18:30:35.002Z"
   },
   {
    "duration": 279,
    "start_time": "2021-11-15T18:30:49.331Z"
   },
   {
    "duration": 5,
    "start_time": "2021-11-15T18:33:07.986Z"
   },
   {
    "duration": 6,
    "start_time": "2021-11-15T18:33:41.852Z"
   },
   {
    "duration": 6,
    "start_time": "2021-11-15T18:33:45.401Z"
   },
   {
    "duration": 6,
    "start_time": "2021-11-15T18:33:54.984Z"
   },
   {
    "duration": 7,
    "start_time": "2021-11-15T18:34:17.092Z"
   },
   {
    "duration": 7,
    "start_time": "2021-11-15T18:34:22.272Z"
   },
   {
    "duration": 6,
    "start_time": "2021-11-15T18:34:33.702Z"
   },
   {
    "duration": 279,
    "start_time": "2021-11-15T18:48:58.417Z"
   },
   {
    "duration": 68,
    "start_time": "2021-11-15T18:49:03.559Z"
   },
   {
    "duration": 9,
    "start_time": "2021-11-15T18:49:03.629Z"
   },
   {
    "duration": 7,
    "start_time": "2021-11-15T18:49:03.640Z"
   },
   {
    "duration": 298,
    "start_time": "2021-11-15T18:49:03.648Z"
   },
   {
    "duration": 270,
    "start_time": "2021-11-15T18:49:17.569Z"
   },
   {
    "duration": 17,
    "start_time": "2021-11-15T18:50:48.609Z"
   },
   {
    "duration": 6,
    "start_time": "2021-11-15T18:51:01.348Z"
   },
   {
    "duration": 5,
    "start_time": "2021-11-15T18:51:12.237Z"
   },
   {
    "duration": 5,
    "start_time": "2021-11-15T18:52:45.678Z"
   },
   {
    "duration": 23,
    "start_time": "2021-11-15T18:55:09.136Z"
   },
   {
    "duration": 14,
    "start_time": "2021-11-15T18:56:20.836Z"
   },
   {
    "duration": 24,
    "start_time": "2021-11-15T18:56:46.874Z"
   },
   {
    "duration": 23,
    "start_time": "2021-11-15T18:57:32.424Z"
   },
   {
    "duration": 7,
    "start_time": "2021-11-15T18:58:04.364Z"
   },
   {
    "duration": 8,
    "start_time": "2021-11-15T18:59:44.754Z"
   },
   {
    "duration": 9,
    "start_time": "2021-11-15T19:00:31.365Z"
   },
   {
    "duration": 8,
    "start_time": "2021-11-15T19:01:00.935Z"
   },
   {
    "duration": 10,
    "start_time": "2021-11-15T19:05:50.728Z"
   },
   {
    "duration": 23,
    "start_time": "2021-11-15T19:09:16.788Z"
   },
   {
    "duration": 127,
    "start_time": "2021-11-15T19:10:15.313Z"
   },
   {
    "duration": 93,
    "start_time": "2021-11-15T19:10:22.308Z"
   },
   {
    "duration": 102,
    "start_time": "2021-11-15T19:10:51.673Z"
   },
   {
    "duration": 19,
    "start_time": "2021-11-15T19:11:02.727Z"
   },
   {
    "duration": 16,
    "start_time": "2021-11-15T19:12:20.705Z"
   },
   {
    "duration": 19,
    "start_time": "2021-11-15T19:12:44.012Z"
   },
   {
    "duration": 21,
    "start_time": "2021-11-15T19:14:48.943Z"
   },
   {
    "duration": 14,
    "start_time": "2021-11-15T20:38:56.400Z"
   },
   {
    "duration": 14,
    "start_time": "2021-11-15T20:39:24.289Z"
   },
   {
    "duration": 3,
    "start_time": "2021-11-15T20:41:01.544Z"
   },
   {
    "duration": 14,
    "start_time": "2021-11-15T20:42:49.155Z"
   },
   {
    "duration": 67,
    "start_time": "2021-11-15T20:43:06.345Z"
   },
   {
    "duration": 10,
    "start_time": "2021-11-15T20:43:06.415Z"
   },
   {
    "duration": 37,
    "start_time": "2021-11-15T20:43:06.428Z"
   },
   {
    "duration": 3,
    "start_time": "2021-11-15T20:43:06.467Z"
   },
   {
    "duration": 14,
    "start_time": "2021-11-15T20:43:08.504Z"
   },
   {
    "duration": 12,
    "start_time": "2021-11-15T20:43:18.818Z"
   },
   {
    "duration": 438,
    "start_time": "2021-11-16T18:56:54.625Z"
   },
   {
    "duration": 890,
    "start_time": "2021-11-16T18:56:58.524Z"
   },
   {
    "duration": 13,
    "start_time": "2021-11-16T18:56:59.417Z"
   },
   {
    "duration": 31,
    "start_time": "2021-11-16T18:56:59.433Z"
   },
   {
    "duration": 36,
    "start_time": "2021-11-16T18:56:59.467Z"
   },
   {
    "duration": 7,
    "start_time": "2021-11-16T18:56:59.505Z"
   },
   {
    "duration": 22,
    "start_time": "2021-11-16T18:57:01.120Z"
   },
   {
    "duration": 28,
    "start_time": "2021-11-16T18:58:26.869Z"
   },
   {
    "duration": 26,
    "start_time": "2021-11-16T18:59:05.419Z"
   },
   {
    "duration": 30,
    "start_time": "2021-11-16T18:59:59.219Z"
   },
   {
    "duration": 1265,
    "start_time": "2021-11-16T19:21:41.763Z"
   },
   {
    "duration": 1220,
    "start_time": "2021-11-16T19:21:44.783Z"
   },
   {
    "duration": 145,
    "start_time": "2021-11-16T19:22:00.423Z"
   },
   {
    "duration": 106,
    "start_time": "2021-11-16T19:26:47.113Z"
   },
   {
    "duration": 131,
    "start_time": "2021-11-16T19:29:57.253Z"
   },
   {
    "duration": 149,
    "start_time": "2021-11-16T19:42:18.896Z"
   },
   {
    "duration": 134,
    "start_time": "2021-11-16T19:42:23.836Z"
   },
   {
    "duration": 430,
    "start_time": "2021-11-16T19:42:31.317Z"
   },
   {
    "duration": 93,
    "start_time": "2021-11-16T19:42:38.606Z"
   },
   {
    "duration": 13,
    "start_time": "2021-11-16T19:42:38.702Z"
   },
   {
    "duration": 29,
    "start_time": "2021-11-16T19:42:38.718Z"
   },
   {
    "duration": 400,
    "start_time": "2021-11-16T19:42:38.750Z"
   },
   {
    "duration": 405,
    "start_time": "2021-11-16T19:42:40.616Z"
   },
   {
    "duration": 1012,
    "start_time": "2021-11-16T19:43:20.226Z"
   },
   {
    "duration": 484,
    "start_time": "2021-11-16T19:43:31.587Z"
   },
   {
    "duration": 377,
    "start_time": "2021-11-16T19:43:39.296Z"
   },
   {
    "duration": 54,
    "start_time": "2021-11-16T19:44:06.816Z"
   },
   {
    "duration": 26,
    "start_time": "2021-11-16T19:46:01.816Z"
   },
   {
    "duration": 55,
    "start_time": "2021-11-16T19:48:36.464Z"
   },
   {
    "duration": 829,
    "start_time": "2021-11-16T19:59:08.886Z"
   },
   {
    "duration": 717,
    "start_time": "2021-11-16T20:00:30.990Z"
   },
   {
    "duration": 678,
    "start_time": "2021-11-16T20:00:39.190Z"
   },
   {
    "duration": 98,
    "start_time": "2021-11-16T20:01:32.272Z"
   },
   {
    "duration": 13,
    "start_time": "2021-11-16T20:01:32.373Z"
   },
   {
    "duration": 27,
    "start_time": "2021-11-16T20:01:32.401Z"
   },
   {
    "duration": 827,
    "start_time": "2021-11-16T20:01:34.092Z"
   },
   {
    "duration": 483,
    "start_time": "2021-11-16T20:04:29.262Z"
   },
   {
    "duration": 681,
    "start_time": "2021-11-16T20:04:38.713Z"
   },
   {
    "duration": 2573,
    "start_time": "2021-11-16T20:05:15.963Z"
   },
   {
    "duration": 2641,
    "start_time": "2021-11-16T20:05:32.233Z"
   },
   {
    "duration": 2609,
    "start_time": "2021-11-16T20:05:39.593Z"
   },
   {
    "duration": 1367,
    "start_time": "2021-11-16T20:10:32.523Z"
   },
   {
    "duration": 1217,
    "start_time": "2021-11-16T20:10:42.552Z"
   },
   {
    "duration": 1638,
    "start_time": "2021-11-16T20:10:53.953Z"
   },
   {
    "duration": 1596,
    "start_time": "2021-11-16T20:11:10.501Z"
   },
   {
    "duration": 2115,
    "start_time": "2021-11-16T20:14:14.507Z"
   },
   {
    "duration": 1654,
    "start_time": "2021-11-16T20:14:23.735Z"
   },
   {
    "duration": 1225,
    "start_time": "2021-11-16T20:14:33.097Z"
   },
   {
    "duration": 1904,
    "start_time": "2021-11-16T20:14:46.845Z"
   },
   {
    "duration": 1583,
    "start_time": "2021-11-16T20:15:54.586Z"
   },
   {
    "duration": 1242,
    "start_time": "2021-11-16T20:17:05.625Z"
   },
   {
    "duration": 1203,
    "start_time": "2021-11-16T20:17:14.605Z"
   },
   {
    "duration": 1621,
    "start_time": "2021-11-16T20:17:22.132Z"
   },
   {
    "duration": 1266,
    "start_time": "2021-11-16T20:17:28.542Z"
   },
   {
    "duration": 1522,
    "start_time": "2021-11-16T20:21:17.271Z"
   },
   {
    "duration": 1663,
    "start_time": "2021-11-16T20:21:46.481Z"
   },
   {
    "duration": 1400,
    "start_time": "2021-11-16T20:21:57.580Z"
   },
   {
    "duration": 3256,
    "start_time": "2021-11-16T20:23:38.718Z"
   },
   {
    "duration": 12263,
    "start_time": "2021-11-16T20:25:17.269Z"
   },
   {
    "duration": 11542,
    "start_time": "2021-11-16T20:25:36.753Z"
   },
   {
    "duration": 1348,
    "start_time": "2021-11-16T20:26:14.406Z"
   },
   {
    "duration": 1689,
    "start_time": "2021-11-16T20:26:40.881Z"
   },
   {
    "duration": 1381,
    "start_time": "2021-11-16T20:26:52.021Z"
   },
   {
    "duration": 10859,
    "start_time": "2021-11-16T20:27:20.389Z"
   },
   {
    "duration": 1316,
    "start_time": "2021-11-16T20:28:11.966Z"
   },
   {
    "duration": 17,
    "start_time": "2021-11-16T20:29:51.883Z"
   },
   {
    "duration": 91,
    "start_time": "2021-11-16T20:30:02.574Z"
   },
   {
    "duration": 13,
    "start_time": "2021-11-16T20:30:02.668Z"
   },
   {
    "duration": 44,
    "start_time": "2021-11-16T20:30:02.684Z"
   },
   {
    "duration": 34,
    "start_time": "2021-11-16T20:30:02.731Z"
   },
   {
    "duration": 1330,
    "start_time": "2021-11-16T20:30:16.772Z"
   },
   {
    "duration": 1286,
    "start_time": "2021-11-16T20:31:07.115Z"
   },
   {
    "duration": 1253,
    "start_time": "2021-11-16T20:39:59.375Z"
   },
   {
    "duration": 1327,
    "start_time": "2021-11-16T20:40:45.740Z"
   },
   {
    "duration": 1434,
    "start_time": "2021-11-16T20:41:27.343Z"
   },
   {
    "duration": 26,
    "start_time": "2021-11-16T20:42:46.873Z"
   },
   {
    "duration": 436,
    "start_time": "2021-11-16T20:42:49.806Z"
   },
   {
    "duration": 96,
    "start_time": "2021-11-16T20:42:55.825Z"
   },
   {
    "duration": 13,
    "start_time": "2021-11-16T20:42:55.924Z"
   },
   {
    "duration": 29,
    "start_time": "2021-11-16T20:42:55.939Z"
   },
   {
    "duration": 58,
    "start_time": "2021-11-16T20:42:55.971Z"
   },
   {
    "duration": 413,
    "start_time": "2021-11-16T20:42:57.855Z"
   },
   {
    "duration": 29,
    "start_time": "2021-11-16T20:44:35.446Z"
   },
   {
    "duration": 31,
    "start_time": "2021-11-16T20:45:00.636Z"
   },
   {
    "duration": 34,
    "start_time": "2021-11-16T20:45:09.995Z"
   },
   {
    "duration": 490,
    "start_time": "2021-11-16T20:45:20.706Z"
   },
   {
    "duration": 502,
    "start_time": "2021-11-16T20:46:52.425Z"
   },
   {
    "duration": 404,
    "start_time": "2021-11-16T20:47:26.605Z"
   },
   {
    "duration": 424,
    "start_time": "2021-11-16T20:48:00.214Z"
   },
   {
    "duration": 101,
    "start_time": "2021-11-16T20:48:45.924Z"
   },
   {
    "duration": 12,
    "start_time": "2021-11-16T20:48:46.028Z"
   },
   {
    "duration": 27,
    "start_time": "2021-11-16T20:48:46.043Z"
   },
   {
    "duration": 56,
    "start_time": "2021-11-16T20:48:46.073Z"
   },
   {
    "duration": 1407,
    "start_time": "2021-11-16T20:48:47.624Z"
   },
   {
    "duration": 1374,
    "start_time": "2021-11-16T20:49:08.844Z"
   },
   {
    "duration": 1410,
    "start_time": "2021-11-16T20:49:26.734Z"
   },
   {
    "duration": 411,
    "start_time": "2021-11-16T20:49:47.364Z"
   },
   {
    "duration": 398,
    "start_time": "2021-11-16T20:49:55.954Z"
   },
   {
    "duration": 731,
    "start_time": "2021-11-16T20:50:03.454Z"
   },
   {
    "duration": 29,
    "start_time": "2021-11-16T20:50:04.187Z"
   },
   {
    "duration": 31,
    "start_time": "2021-11-16T20:50:04.220Z"
   },
   {
    "duration": 57,
    "start_time": "2021-11-16T20:50:04.254Z"
   },
   {
    "duration": 1391,
    "start_time": "2021-11-16T20:50:05.184Z"
   },
   {
    "duration": 409,
    "start_time": "2021-11-16T20:50:11.344Z"
   },
   {
    "duration": 426,
    "start_time": "2021-11-16T20:51:31.489Z"
   },
   {
    "duration": 408,
    "start_time": "2021-11-16T20:51:46.441Z"
   },
   {
    "duration": 461,
    "start_time": "2021-11-16T20:51:54.180Z"
   },
   {
    "duration": 411,
    "start_time": "2021-11-16T20:54:31.776Z"
   },
   {
    "duration": 102,
    "start_time": "2021-11-16T20:54:40.456Z"
   },
   {
    "duration": 13,
    "start_time": "2021-11-16T20:54:40.561Z"
   },
   {
    "duration": 52,
    "start_time": "2021-11-16T20:54:40.576Z"
   },
   {
    "duration": 27,
    "start_time": "2021-11-16T20:54:40.631Z"
   },
   {
    "duration": 1448,
    "start_time": "2021-11-16T20:54:42.656Z"
   },
   {
    "duration": 22,
    "start_time": "2021-11-16T20:57:27.839Z"
   },
   {
    "duration": 10,
    "start_time": "2021-11-16T20:57:37.349Z"
   },
   {
    "duration": 466,
    "start_time": "2021-11-16T20:57:59.092Z"
   },
   {
    "duration": 505,
    "start_time": "2021-11-16T20:59:02.507Z"
   },
   {
    "duration": 133,
    "start_time": "2021-11-16T20:59:06.421Z"
   },
   {
    "duration": 408,
    "start_time": "2021-11-16T20:59:10.620Z"
   },
   {
    "duration": 421,
    "start_time": "2021-11-16T20:59:24.201Z"
   },
   {
    "duration": 93,
    "start_time": "2021-11-16T20:59:29.360Z"
   },
   {
    "duration": 12,
    "start_time": "2021-11-16T20:59:29.456Z"
   },
   {
    "duration": 44,
    "start_time": "2021-11-16T20:59:29.471Z"
   },
   {
    "duration": 20,
    "start_time": "2021-11-16T20:59:29.518Z"
   },
   {
    "duration": 10,
    "start_time": "2021-11-16T20:59:29.540Z"
   },
   {
    "duration": 1357,
    "start_time": "2021-11-16T20:59:31.100Z"
   },
   {
    "duration": 436,
    "start_time": "2021-11-16T21:01:06.792Z"
   },
   {
    "duration": 1257,
    "start_time": "2021-11-16T21:01:34.802Z"
   },
   {
    "duration": 392,
    "start_time": "2021-11-16T21:02:38.441Z"
   },
   {
    "duration": 97,
    "start_time": "2021-11-16T21:02:42.320Z"
   },
   {
    "duration": 13,
    "start_time": "2021-11-16T21:02:42.420Z"
   },
   {
    "duration": 28,
    "start_time": "2021-11-16T21:02:42.436Z"
   },
   {
    "duration": 23,
    "start_time": "2021-11-16T21:02:42.502Z"
   },
   {
    "duration": 13,
    "start_time": "2021-11-16T21:02:42.528Z"
   },
   {
    "duration": 73,
    "start_time": "2021-11-16T21:02:42.543Z"
   },
   {
    "duration": 38,
    "start_time": "2021-11-16T21:02:54.631Z"
   },
   {
    "duration": 1295,
    "start_time": "2021-11-16T21:03:02.220Z"
   },
   {
    "duration": 18,
    "start_time": "2021-11-16T21:06:35.671Z"
   },
   {
    "duration": 125,
    "start_time": "2021-11-16T21:17:14.214Z"
   },
   {
    "duration": 98,
    "start_time": "2021-11-16T21:17:26.493Z"
   },
   {
    "duration": 15,
    "start_time": "2021-11-16T21:17:26.602Z"
   },
   {
    "duration": 27,
    "start_time": "2021-11-16T21:17:26.620Z"
   },
   {
    "duration": 54,
    "start_time": "2021-11-16T21:17:26.650Z"
   },
   {
    "duration": 12,
    "start_time": "2021-11-16T21:17:26.707Z"
   },
   {
    "duration": 398,
    "start_time": "2021-11-16T21:17:28.414Z"
   },
   {
    "duration": 131,
    "start_time": "2021-11-16T21:17:57.586Z"
   },
   {
    "duration": 381,
    "start_time": "2021-11-16T21:18:40.776Z"
   },
   {
    "duration": 365,
    "start_time": "2021-11-16T21:23:28.714Z"
   },
   {
    "duration": 438,
    "start_time": "2021-11-16T21:24:02.916Z"
   },
   {
    "duration": 418,
    "start_time": "2021-11-16T21:24:19.921Z"
   },
   {
    "duration": 399,
    "start_time": "2021-11-16T21:24:33.500Z"
   },
   {
    "duration": 364,
    "start_time": "2021-11-16T21:24:49.350Z"
   },
   {
    "duration": 463,
    "start_time": "2021-11-16T21:25:13.530Z"
   },
   {
    "duration": 7,
    "start_time": "2021-11-16T21:25:53.911Z"
   },
   {
    "duration": 11,
    "start_time": "2021-11-16T21:26:15.410Z"
   },
   {
    "duration": 11,
    "start_time": "2021-11-16T21:26:30.163Z"
   },
   {
    "duration": 391,
    "start_time": "2021-11-16T21:26:47.230Z"
   },
   {
    "duration": 10,
    "start_time": "2021-11-16T21:26:59.150Z"
   },
   {
    "duration": 388,
    "start_time": "2021-11-16T21:27:16.990Z"
   },
   {
    "duration": 20,
    "start_time": "2021-11-16T21:27:23.950Z"
   },
   {
    "duration": 8,
    "start_time": "2021-11-16T21:27:31.980Z"
   },
   {
    "duration": 10,
    "start_time": "2021-11-16T21:29:17.692Z"
   },
   {
    "duration": 10,
    "start_time": "2021-11-16T21:31:06.771Z"
   },
   {
    "duration": 6,
    "start_time": "2021-11-16T21:32:03.920Z"
   },
   {
    "duration": 964,
    "start_time": "2021-11-16T21:32:52.866Z"
   },
   {
    "duration": 14,
    "start_time": "2021-11-16T21:32:53.834Z"
   },
   {
    "duration": 51,
    "start_time": "2021-11-16T21:32:53.851Z"
   },
   {
    "duration": 21,
    "start_time": "2021-11-16T21:32:53.905Z"
   },
   {
    "duration": 12,
    "start_time": "2021-11-16T21:32:53.928Z"
   },
   {
    "duration": 9,
    "start_time": "2021-11-16T21:32:53.943Z"
   },
   {
    "duration": 46,
    "start_time": "2021-11-16T21:32:53.955Z"
   },
   {
    "duration": 39,
    "start_time": "2021-11-16T21:32:54.003Z"
   },
   {
    "duration": 1272,
    "start_time": "2021-11-16T21:32:54.045Z"
   },
   {
    "duration": 17,
    "start_time": "2021-11-16T21:32:55.319Z"
   },
   {
    "duration": 3,
    "start_time": "2021-11-16T21:32:55.338Z"
   },
   {
    "duration": 492,
    "start_time": "2021-11-16T21:34:34.925Z"
   },
   {
    "duration": 911,
    "start_time": "2021-11-16T21:34:45.556Z"
   },
   {
    "duration": 32,
    "start_time": "2021-11-16T21:35:43.596Z"
   },
   {
    "duration": 7,
    "start_time": "2021-11-16T21:35:58.275Z"
   },
   {
    "duration": 29,
    "start_time": "2021-11-16T21:36:02.626Z"
   },
   {
    "duration": 1194,
    "start_time": "2021-11-16T21:36:27.755Z"
   },
   {
    "duration": 56,
    "start_time": "2021-11-16T21:37:48.179Z"
   },
   {
    "duration": 960,
    "start_time": "2021-11-16T21:38:00.440Z"
   },
   {
    "duration": 15,
    "start_time": "2021-11-16T21:38:01.404Z"
   },
   {
    "duration": 41,
    "start_time": "2021-11-16T21:38:01.422Z"
   },
   {
    "duration": 40,
    "start_time": "2021-11-16T21:38:01.466Z"
   },
   {
    "duration": 36,
    "start_time": "2021-11-16T21:38:01.508Z"
   },
   {
    "duration": 37,
    "start_time": "2021-11-16T21:38:01.546Z"
   },
   {
    "duration": 76,
    "start_time": "2021-11-16T21:38:01.586Z"
   },
   {
    "duration": 36,
    "start_time": "2021-11-16T21:38:01.665Z"
   },
   {
    "duration": 1357,
    "start_time": "2021-11-16T21:38:01.704Z"
   },
   {
    "duration": 18,
    "start_time": "2021-11-16T21:38:03.064Z"
   },
   {
    "duration": 44,
    "start_time": "2021-11-16T21:38:03.084Z"
   },
   {
    "duration": 3,
    "start_time": "2021-11-16T21:38:03.130Z"
   },
   {
    "duration": 16,
    "start_time": "2021-11-16T21:39:15.173Z"
   },
   {
    "duration": 865,
    "start_time": "2021-11-16T21:40:52.145Z"
   },
   {
    "duration": 17,
    "start_time": "2021-11-16T21:40:53.013Z"
   },
   {
    "duration": 28,
    "start_time": "2021-11-16T21:40:53.034Z"
   },
   {
    "duration": 53,
    "start_time": "2021-11-16T21:40:53.065Z"
   },
   {
    "duration": 11,
    "start_time": "2021-11-16T21:40:53.120Z"
   },
   {
    "duration": 10,
    "start_time": "2021-11-16T21:40:53.133Z"
   },
   {
    "duration": 85,
    "start_time": "2021-11-16T21:40:53.145Z"
   },
   {
    "duration": 36,
    "start_time": "2021-11-16T21:40:53.233Z"
   },
   {
    "duration": 1257,
    "start_time": "2021-11-16T21:40:53.272Z"
   },
   {
    "duration": 18,
    "start_time": "2021-11-16T21:40:54.532Z"
   },
   {
    "duration": 56,
    "start_time": "2021-11-16T21:40:54.553Z"
   },
   {
    "duration": 3,
    "start_time": "2021-11-16T21:40:54.612Z"
   },
   {
    "duration": 3,
    "start_time": "2021-11-16T21:41:32.658Z"
   },
   {
    "duration": 719,
    "start_time": "2021-11-17T16:38:33.668Z"
   },
   {
    "duration": 10,
    "start_time": "2021-11-17T16:38:34.389Z"
   },
   {
    "duration": 28,
    "start_time": "2021-11-17T16:38:34.402Z"
   },
   {
    "duration": 30,
    "start_time": "2021-11-17T16:38:34.433Z"
   },
   {
    "duration": 7,
    "start_time": "2021-11-17T16:38:34.465Z"
   },
   {
    "duration": 17,
    "start_time": "2021-11-17T16:38:34.474Z"
   },
   {
    "duration": 39,
    "start_time": "2021-11-17T16:38:34.494Z"
   },
   {
    "duration": 45,
    "start_time": "2021-11-17T16:38:34.535Z"
   },
   {
    "duration": 689,
    "start_time": "2021-11-17T16:38:34.583Z"
   },
   {
    "duration": 14,
    "start_time": "2021-11-17T16:38:35.274Z"
   },
   {
    "duration": 21,
    "start_time": "2021-11-17T16:38:35.290Z"
   },
   {
    "duration": 12,
    "start_time": "2021-11-17T16:38:50.508Z"
   },
   {
    "duration": 307,
    "start_time": "2021-11-17T16:41:16.817Z"
   },
   {
    "duration": 1000,
    "start_time": "2021-11-17T16:41:22.733Z"
   },
   {
    "duration": 1813,
    "start_time": "2021-11-17T16:44:20.787Z"
   },
   {
    "duration": 14,
    "start_time": "2021-11-17T16:44:50.248Z"
   },
   {
    "duration": 1830,
    "start_time": "2021-11-17T16:45:15.276Z"
   },
   {
    "duration": 17,
    "start_time": "2021-11-17T16:46:43.588Z"
   },
   {
    "duration": 264,
    "start_time": "2021-11-17T16:47:12.128Z"
   },
   {
    "duration": 259,
    "start_time": "2021-11-17T16:47:28.187Z"
   },
   {
    "duration": 13,
    "start_time": "2021-11-17T16:47:34.729Z"
   },
   {
    "duration": 12,
    "start_time": "2021-11-17T16:55:16.395Z"
   },
   {
    "duration": 30,
    "start_time": "2021-11-17T17:02:54.540Z"
   },
   {
    "duration": 67,
    "start_time": "2021-11-17T17:03:08.137Z"
   },
   {
    "duration": 8,
    "start_time": "2021-11-17T17:03:08.206Z"
   },
   {
    "duration": 16,
    "start_time": "2021-11-17T17:03:08.216Z"
   },
   {
    "duration": 29,
    "start_time": "2021-11-17T17:03:08.234Z"
   },
   {
    "duration": 6,
    "start_time": "2021-11-17T17:03:08.265Z"
   },
   {
    "duration": 12,
    "start_time": "2021-11-17T17:03:08.273Z"
   },
   {
    "duration": 36,
    "start_time": "2021-11-17T17:03:08.287Z"
   },
   {
    "duration": 49,
    "start_time": "2021-11-17T17:03:08.325Z"
   },
   {
    "duration": 3,
    "start_time": "2021-11-17T17:03:08.376Z"
   },
   {
    "duration": 15,
    "start_time": "2021-11-17T17:03:08.380Z"
   },
   {
    "duration": 21,
    "start_time": "2021-11-17T17:03:08.397Z"
   },
   {
    "duration": 11,
    "start_time": "2021-11-17T17:03:13.755Z"
   },
   {
    "duration": 75,
    "start_time": "2021-11-17T17:04:33.636Z"
   },
   {
    "duration": 11,
    "start_time": "2021-11-17T17:04:33.713Z"
   },
   {
    "duration": 18,
    "start_time": "2021-11-17T17:04:33.726Z"
   },
   {
    "duration": 15,
    "start_time": "2021-11-17T17:04:33.764Z"
   },
   {
    "duration": 8,
    "start_time": "2021-11-17T17:04:33.781Z"
   },
   {
    "duration": 10,
    "start_time": "2021-11-17T17:04:33.791Z"
   },
   {
    "duration": 74,
    "start_time": "2021-11-17T17:04:33.803Z"
   },
   {
    "duration": 31,
    "start_time": "2021-11-17T17:04:33.880Z"
   },
   {
    "duration": 796,
    "start_time": "2021-11-17T17:04:33.913Z"
   },
   {
    "duration": 18,
    "start_time": "2021-11-17T17:04:34.711Z"
   },
   {
    "duration": 12,
    "start_time": "2021-11-17T17:04:44.481Z"
   },
   {
    "duration": 22,
    "start_time": "2021-11-17T17:04:47.254Z"
   },
   {
    "duration": 708,
    "start_time": "2021-11-17T17:05:13.600Z"
   },
   {
    "duration": 15,
    "start_time": "2021-11-17T17:05:17.905Z"
   },
   {
    "duration": 25,
    "start_time": "2021-11-17T17:05:20.277Z"
   },
   {
    "duration": 29,
    "start_time": "2021-11-17T17:05:40.159Z"
   },
   {
    "duration": 2,
    "start_time": "2021-11-17T17:07:13.395Z"
   },
   {
    "duration": 17,
    "start_time": "2021-11-17T17:07:14.746Z"
   },
   {
    "duration": 72,
    "start_time": "2021-11-17T17:07:21.246Z"
   },
   {
    "duration": 14,
    "start_time": "2021-11-17T17:07:21.320Z"
   },
   {
    "duration": 41,
    "start_time": "2021-11-17T17:07:21.336Z"
   },
   {
    "duration": 16,
    "start_time": "2021-11-17T17:07:21.379Z"
   },
   {
    "duration": 9,
    "start_time": "2021-11-17T17:07:21.397Z"
   },
   {
    "duration": 8,
    "start_time": "2021-11-17T17:07:21.408Z"
   },
   {
    "duration": 71,
    "start_time": "2021-11-17T17:07:21.418Z"
   },
   {
    "duration": 32,
    "start_time": "2021-11-17T17:07:21.491Z"
   },
   {
    "duration": 2,
    "start_time": "2021-11-17T17:07:21.526Z"
   },
   {
    "duration": 22,
    "start_time": "2021-11-17T17:07:21.530Z"
   },
   {
    "duration": 23,
    "start_time": "2021-11-17T17:07:29.860Z"
   },
   {
    "duration": 24,
    "start_time": "2021-11-17T17:08:16.535Z"
   },
   {
    "duration": 27,
    "start_time": "2021-11-17T17:08:22.042Z"
   },
   {
    "duration": 306,
    "start_time": "2021-11-17T17:16:18.761Z"
   },
   {
    "duration": 30,
    "start_time": "2021-11-17T17:16:27.620Z"
   },
   {
    "duration": 19,
    "start_time": "2021-11-17T17:24:41.625Z"
   },
   {
    "duration": 12,
    "start_time": "2021-11-17T17:24:50.021Z"
   },
   {
    "duration": 73,
    "start_time": "2021-11-17T17:25:05.212Z"
   },
   {
    "duration": 11,
    "start_time": "2021-11-17T17:25:05.288Z"
   },
   {
    "duration": 20,
    "start_time": "2021-11-17T17:25:05.302Z"
   },
   {
    "duration": 47,
    "start_time": "2021-11-17T17:25:05.323Z"
   },
   {
    "duration": 8,
    "start_time": "2021-11-17T17:25:05.372Z"
   },
   {
    "duration": 11,
    "start_time": "2021-11-17T17:25:05.382Z"
   },
   {
    "duration": 36,
    "start_time": "2021-11-17T17:25:05.395Z"
   },
   {
    "duration": 60,
    "start_time": "2021-11-17T17:25:05.433Z"
   },
   {
    "duration": 2,
    "start_time": "2021-11-17T17:25:05.495Z"
   },
   {
    "duration": 8,
    "start_time": "2021-11-17T17:25:05.499Z"
   },
   {
    "duration": 22,
    "start_time": "2021-11-17T17:25:05.509Z"
   },
   {
    "duration": 30,
    "start_time": "2021-11-17T17:25:05.533Z"
   },
   {
    "duration": 18,
    "start_time": "2021-11-17T17:25:05.565Z"
   },
   {
    "duration": 16,
    "start_time": "2021-11-17T17:25:14.357Z"
   },
   {
    "duration": 10,
    "start_time": "2021-11-17T17:25:19.635Z"
   },
   {
    "duration": 12,
    "start_time": "2021-11-17T17:25:27.162Z"
   },
   {
    "duration": 12,
    "start_time": "2021-11-17T17:25:37.665Z"
   },
   {
    "duration": 11,
    "start_time": "2021-11-17T17:25:47.037Z"
   },
   {
    "duration": 16,
    "start_time": "2021-11-17T17:25:58.070Z"
   },
   {
    "duration": 71,
    "start_time": "2021-11-17T17:26:07.195Z"
   },
   {
    "duration": 834,
    "start_time": "2021-11-17T17:26:28.382Z"
   },
   {
    "duration": 9,
    "start_time": "2021-11-17T17:26:29.218Z"
   },
   {
    "duration": 18,
    "start_time": "2021-11-17T17:26:29.229Z"
   },
   {
    "duration": 16,
    "start_time": "2021-11-17T17:26:29.276Z"
   },
   {
    "duration": 11,
    "start_time": "2021-11-17T17:26:29.294Z"
   },
   {
    "duration": 7,
    "start_time": "2021-11-17T17:26:29.307Z"
   },
   {
    "duration": 76,
    "start_time": "2021-11-17T17:26:29.316Z"
   },
   {
    "duration": 42,
    "start_time": "2021-11-17T17:26:29.394Z"
   },
   {
    "duration": 3,
    "start_time": "2021-11-17T17:26:29.438Z"
   },
   {
    "duration": 21,
    "start_time": "2021-11-17T17:26:29.442Z"
   },
   {
    "duration": 12,
    "start_time": "2021-11-17T17:26:29.465Z"
   },
   {
    "duration": 21,
    "start_time": "2021-11-17T17:26:29.479Z"
   },
   {
    "duration": 13,
    "start_time": "2021-11-17T17:26:29.502Z"
   },
   {
    "duration": 17,
    "start_time": "2021-11-17T17:26:47.515Z"
   },
   {
    "duration": 11,
    "start_time": "2021-11-17T17:29:36.153Z"
   },
   {
    "duration": 64,
    "start_time": "2021-11-17T17:29:41.384Z"
   },
   {
    "duration": 9,
    "start_time": "2021-11-17T17:29:41.450Z"
   },
   {
    "duration": 19,
    "start_time": "2021-11-17T17:29:41.466Z"
   },
   {
    "duration": 15,
    "start_time": "2021-11-17T17:29:41.490Z"
   },
   {
    "duration": 7,
    "start_time": "2021-11-17T17:29:41.549Z"
   },
   {
    "duration": 8,
    "start_time": "2021-11-17T17:29:41.581Z"
   },
   {
    "duration": 36,
    "start_time": "2021-11-17T17:29:41.623Z"
   },
   {
    "duration": 30,
    "start_time": "2021-11-17T17:29:41.703Z"
   },
   {
    "duration": 3,
    "start_time": "2021-11-17T17:29:41.847Z"
   },
   {
    "duration": 2,
    "start_time": "2021-11-17T17:29:41.928Z"
   },
   {
    "duration": 14,
    "start_time": "2021-11-17T17:29:41.932Z"
   },
   {
    "duration": 19,
    "start_time": "2021-11-17T17:29:42.025Z"
   },
   {
    "duration": 10,
    "start_time": "2021-11-17T17:29:42.054Z"
   },
   {
    "duration": 10,
    "start_time": "2021-11-17T17:29:46.988Z"
   },
   {
    "duration": 11,
    "start_time": "2021-11-17T17:29:50.329Z"
   },
   {
    "duration": 26,
    "start_time": "2021-11-17T17:34:55.950Z"
   },
   {
    "duration": 3,
    "start_time": "2021-11-17T17:36:24.871Z"
   },
   {
    "duration": 5,
    "start_time": "2021-11-17T17:36:33.553Z"
   },
   {
    "duration": 6,
    "start_time": "2021-11-17T17:37:09.723Z"
   },
   {
    "duration": 71,
    "start_time": "2021-11-17T17:37:21.215Z"
   },
   {
    "duration": 12,
    "start_time": "2021-11-17T17:37:21.289Z"
   },
   {
    "duration": 19,
    "start_time": "2021-11-17T17:37:21.333Z"
   },
   {
    "duration": 13,
    "start_time": "2021-11-17T17:37:21.354Z"
   },
   {
    "duration": 9,
    "start_time": "2021-11-17T17:37:21.369Z"
   },
   {
    "duration": 7,
    "start_time": "2021-11-17T17:37:21.382Z"
   },
   {
    "duration": 35,
    "start_time": "2021-11-17T17:37:21.395Z"
   },
   {
    "duration": 27,
    "start_time": "2021-11-17T17:37:21.456Z"
   },
   {
    "duration": 2,
    "start_time": "2021-11-17T17:37:21.486Z"
   },
   {
    "duration": 13,
    "start_time": "2021-11-17T17:37:21.491Z"
   },
   {
    "duration": 6,
    "start_time": "2021-11-17T17:37:23.688Z"
   },
   {
    "duration": 6,
    "start_time": "2021-11-17T17:37:26.572Z"
   },
   {
    "duration": 654,
    "start_time": "2021-11-17T17:50:12.464Z"
   },
   {
    "duration": 15,
    "start_time": "2021-11-17T17:50:18.667Z"
   },
   {
    "duration": 23,
    "start_time": "2021-11-17T17:50:26.193Z"
   },
   {
    "duration": 14,
    "start_time": "2021-11-17T17:50:33.470Z"
   },
   {
    "duration": 19,
    "start_time": "2021-11-17T17:50:46.763Z"
   },
   {
    "duration": 315,
    "start_time": "2021-11-17T17:54:21.941Z"
   },
   {
    "duration": 348,
    "start_time": "2021-11-17T17:54:25.524Z"
   },
   {
    "duration": 14,
    "start_time": "2021-11-17T17:54:51.889Z"
   },
   {
    "duration": 12,
    "start_time": "2021-11-17T17:57:09.543Z"
   },
   {
    "duration": 6,
    "start_time": "2021-11-17T17:57:23.655Z"
   },
   {
    "duration": 6,
    "start_time": "2021-11-17T17:57:43.247Z"
   },
   {
    "duration": 12,
    "start_time": "2021-11-17T17:57:52.735Z"
   },
   {
    "duration": 288,
    "start_time": "2021-11-17T18:00:58.508Z"
   },
   {
    "duration": 263,
    "start_time": "2021-11-17T18:01:06.425Z"
   },
   {
    "duration": 273,
    "start_time": "2021-11-17T18:01:18.687Z"
   },
   {
    "duration": 5,
    "start_time": "2021-11-17T18:01:54.027Z"
   },
   {
    "duration": 305,
    "start_time": "2021-11-17T18:02:05.305Z"
   },
   {
    "duration": 9,
    "start_time": "2021-11-17T18:02:09.161Z"
   },
   {
    "duration": 8,
    "start_time": "2021-11-17T18:02:20.963Z"
   },
   {
    "duration": 473,
    "start_time": "2021-11-17T18:04:21.471Z"
   },
   {
    "duration": 881,
    "start_time": "2021-11-17T18:04:32.335Z"
   },
   {
    "duration": 12,
    "start_time": "2021-11-17T18:04:38.195Z"
   },
   {
    "duration": 259,
    "start_time": "2021-11-17T18:04:56.458Z"
   },
   {
    "duration": 13,
    "start_time": "2021-11-17T18:05:07.647Z"
   },
   {
    "duration": 67,
    "start_time": "2021-11-17T18:05:11.792Z"
   },
   {
    "duration": 10,
    "start_time": "2021-11-17T18:05:11.861Z"
   },
   {
    "duration": 20,
    "start_time": "2021-11-17T18:05:11.872Z"
   },
   {
    "duration": 13,
    "start_time": "2021-11-17T18:05:11.896Z"
   },
   {
    "duration": 7,
    "start_time": "2021-11-17T18:05:11.938Z"
   },
   {
    "duration": 7,
    "start_time": "2021-11-17T18:05:11.956Z"
   },
   {
    "duration": 33,
    "start_time": "2021-11-17T18:05:11.987Z"
   },
   {
    "duration": 24,
    "start_time": "2021-11-17T18:05:12.022Z"
   },
   {
    "duration": 629,
    "start_time": "2021-11-17T18:05:12.074Z"
   },
   {
    "duration": 14,
    "start_time": "2021-11-17T18:05:12.705Z"
   },
   {
    "duration": 41,
    "start_time": "2021-11-17T18:05:12.722Z"
   },
   {
    "duration": 1751,
    "start_time": "2021-11-17T18:05:12.765Z"
   },
   {
    "duration": 1826,
    "start_time": "2021-11-17T18:05:15.772Z"
   },
   {
    "duration": 12,
    "start_time": "2021-11-17T18:05:36.177Z"
   },
   {
    "duration": 727,
    "start_time": "2021-11-17T18:05:39.683Z"
   },
   {
    "duration": 1811,
    "start_time": "2021-11-17T18:05:47.325Z"
   },
   {
    "duration": 13,
    "start_time": "2021-11-17T18:06:13.639Z"
   },
   {
    "duration": 684,
    "start_time": "2021-11-17T18:12:04.208Z"
   },
   {
    "duration": 703,
    "start_time": "2021-11-17T18:12:09.638Z"
   },
   {
    "duration": 759,
    "start_time": "2021-11-17T18:13:00.325Z"
   },
   {
    "duration": 6,
    "start_time": "2021-11-17T18:13:17.955Z"
   },
   {
    "duration": 13,
    "start_time": "2021-11-17T18:13:33.465Z"
   },
   {
    "duration": 336,
    "start_time": "2021-11-17T18:13:50.783Z"
   },
   {
    "duration": 13,
    "start_time": "2021-11-17T18:14:10.311Z"
   },
   {
    "duration": 12,
    "start_time": "2021-11-17T18:14:17.197Z"
   },
   {
    "duration": 701,
    "start_time": "2021-11-17T18:17:32.063Z"
   },
   {
    "duration": 9,
    "start_time": "2021-11-17T18:17:32.766Z"
   },
   {
    "duration": 20,
    "start_time": "2021-11-17T18:17:32.777Z"
   },
   {
    "duration": 14,
    "start_time": "2021-11-17T18:17:32.799Z"
   },
   {
    "duration": 23,
    "start_time": "2021-11-17T18:17:32.815Z"
   },
   {
    "duration": 30,
    "start_time": "2021-11-17T18:17:32.840Z"
   },
   {
    "duration": 40,
    "start_time": "2021-11-17T18:17:32.872Z"
   },
   {
    "duration": 26,
    "start_time": "2021-11-17T18:17:32.914Z"
   },
   {
    "duration": 673,
    "start_time": "2021-11-17T18:17:32.962Z"
   },
   {
    "duration": 3,
    "start_time": "2021-11-17T18:17:33.637Z"
   },
   {
    "duration": 25,
    "start_time": "2021-11-17T18:17:33.642Z"
   },
   {
    "duration": 22,
    "start_time": "2021-11-17T18:17:33.669Z"
   },
   {
    "duration": 12,
    "start_time": "2021-11-17T18:17:33.693Z"
   },
   {
    "duration": 335,
    "start_time": "2021-11-17T18:25:00.649Z"
   },
   {
    "duration": 280,
    "start_time": "2021-11-17T18:25:07.218Z"
   },
   {
    "duration": 66,
    "start_time": "2021-11-17T18:25:16.850Z"
   },
   {
    "duration": 10,
    "start_time": "2021-11-17T18:25:16.941Z"
   },
   {
    "duration": 17,
    "start_time": "2021-11-17T18:25:17.042Z"
   },
   {
    "duration": 14,
    "start_time": "2021-11-17T18:25:17.121Z"
   },
   {
    "duration": 8,
    "start_time": "2021-11-17T18:25:17.313Z"
   },
   {
    "duration": 8,
    "start_time": "2021-11-17T18:25:17.477Z"
   },
   {
    "duration": 33,
    "start_time": "2021-11-17T18:25:17.544Z"
   },
   {
    "duration": 25,
    "start_time": "2021-11-17T18:25:21.550Z"
   },
   {
    "duration": 301,
    "start_time": "2021-11-17T18:35:01.499Z"
   },
   {
    "duration": 666,
    "start_time": "2021-11-17T18:44:34.864Z"
   },
   {
    "duration": 1019,
    "start_time": "2021-11-17T19:05:35.469Z"
   },
   {
    "duration": 667,
    "start_time": "2021-11-17T19:06:03.406Z"
   },
   {
    "duration": 10,
    "start_time": "2021-11-17T19:06:04.075Z"
   },
   {
    "duration": 44,
    "start_time": "2021-11-17T19:06:04.087Z"
   },
   {
    "duration": 15,
    "start_time": "2021-11-17T19:06:04.133Z"
   },
   {
    "duration": 10,
    "start_time": "2021-11-17T19:06:04.150Z"
   },
   {
    "duration": 8,
    "start_time": "2021-11-17T19:06:04.161Z"
   },
   {
    "duration": 48,
    "start_time": "2021-11-17T19:06:04.170Z"
   },
   {
    "duration": 27,
    "start_time": "2021-11-17T19:06:04.220Z"
   },
   {
    "duration": 979,
    "start_time": "2021-11-17T19:06:04.249Z"
   },
   {
    "duration": 3,
    "start_time": "2021-11-17T19:06:05.231Z"
   },
   {
    "duration": 6735,
    "start_time": "2021-11-17T19:06:05.236Z"
   },
   {
    "duration": -8750,
    "start_time": "2021-11-17T19:06:20.723Z"
   },
   {
    "duration": -8763,
    "start_time": "2021-11-17T19:06:20.737Z"
   },
   {
    "duration": 6957,
    "start_time": "2021-11-17T19:08:07.371Z"
   },
   {
    "duration": 75,
    "start_time": "2021-11-17T19:08:33.346Z"
   },
   {
    "duration": 9,
    "start_time": "2021-11-17T19:08:33.423Z"
   },
   {
    "duration": 45,
    "start_time": "2021-11-17T19:08:33.434Z"
   },
   {
    "duration": 16,
    "start_time": "2021-11-17T19:08:33.482Z"
   },
   {
    "duration": 10,
    "start_time": "2021-11-17T19:08:33.500Z"
   },
   {
    "duration": 8,
    "start_time": "2021-11-17T19:08:33.511Z"
   },
   {
    "duration": 76,
    "start_time": "2021-11-17T19:08:33.521Z"
   },
   {
    "duration": 28,
    "start_time": "2021-11-17T19:08:33.600Z"
   },
   {
    "duration": 734,
    "start_time": "2021-11-17T19:08:57.947Z"
   },
   {
    "duration": 7005,
    "start_time": "2021-11-17T19:09:34.081Z"
   },
   {
    "duration": 70,
    "start_time": "2021-11-17T19:10:02.217Z"
   },
   {
    "duration": 10,
    "start_time": "2021-11-17T19:10:02.289Z"
   },
   {
    "duration": 24,
    "start_time": "2021-11-17T19:10:02.302Z"
   },
   {
    "duration": 36,
    "start_time": "2021-11-17T19:10:02.328Z"
   },
   {
    "duration": 7,
    "start_time": "2021-11-17T19:10:02.367Z"
   },
   {
    "duration": 15,
    "start_time": "2021-11-17T19:10:02.376Z"
   },
   {
    "duration": 41,
    "start_time": "2021-11-17T19:10:02.393Z"
   },
   {
    "duration": 41,
    "start_time": "2021-11-17T19:10:02.437Z"
   },
   {
    "duration": 682,
    "start_time": "2021-11-17T19:10:04.147Z"
   },
   {
    "duration": 6763,
    "start_time": "2021-11-17T19:10:40.833Z"
   },
   {
    "duration": 6861,
    "start_time": "2021-11-17T19:11:16.303Z"
   },
   {
    "duration": 7208,
    "start_time": "2021-11-17T19:11:33.430Z"
   },
   {
    "duration": 709,
    "start_time": "2021-11-17T19:11:53.277Z"
   },
   {
    "duration": 10,
    "start_time": "2021-11-17T19:11:53.988Z"
   },
   {
    "duration": 19,
    "start_time": "2021-11-17T19:11:54.000Z"
   },
   {
    "duration": 15,
    "start_time": "2021-11-17T19:11:54.021Z"
   },
   {
    "duration": 8,
    "start_time": "2021-11-17T19:11:54.064Z"
   },
   {
    "duration": 8,
    "start_time": "2021-11-17T19:11:54.074Z"
   },
   {
    "duration": 38,
    "start_time": "2021-11-17T19:11:54.084Z"
   },
   {
    "duration": 55,
    "start_time": "2021-11-17T19:11:54.125Z"
   },
   {
    "duration": 699,
    "start_time": "2021-11-17T19:11:54.182Z"
   },
   {
    "duration": 2,
    "start_time": "2021-11-17T19:11:54.883Z"
   },
   {
    "duration": 14,
    "start_time": "2021-11-17T19:11:54.887Z"
   },
   {
    "duration": 18,
    "start_time": "2021-11-17T19:11:54.903Z"
   },
   {
    "duration": 43,
    "start_time": "2021-11-17T19:11:54.923Z"
   },
   {
    "duration": 715,
    "start_time": "2021-11-17T19:15:22.824Z"
   },
   {
    "duration": 164,
    "start_time": "2021-11-17T19:44:45.007Z"
   },
   {
    "duration": 70,
    "start_time": "2021-11-17T19:44:55.718Z"
   },
   {
    "duration": 9,
    "start_time": "2021-11-17T19:44:55.791Z"
   },
   {
    "duration": 29,
    "start_time": "2021-11-17T19:44:55.802Z"
   },
   {
    "duration": 14,
    "start_time": "2021-11-17T19:44:55.833Z"
   },
   {
    "duration": 7,
    "start_time": "2021-11-17T19:44:55.864Z"
   },
   {
    "duration": 13,
    "start_time": "2021-11-17T19:44:55.873Z"
   },
   {
    "duration": 43,
    "start_time": "2021-11-17T19:44:55.887Z"
   },
   {
    "duration": 2,
    "start_time": "2021-11-17T19:44:55.932Z"
   },
   {
    "duration": 271,
    "start_time": "2021-11-17T19:44:55.936Z"
   },
   {
    "duration": 97,
    "start_time": "2021-11-17T19:45:04.502Z"
   },
   {
    "duration": 104,
    "start_time": "2021-11-17T19:45:17.223Z"
   },
   {
    "duration": 17,
    "start_time": "2021-11-17T19:46:02.644Z"
   },
   {
    "duration": 8153,
    "start_time": "2021-11-17T19:46:12.848Z"
   },
   {
    "duration": 7391,
    "start_time": "2021-11-17T19:46:28.618Z"
   },
   {
    "duration": 7234,
    "start_time": "2021-11-17T19:47:12.674Z"
   },
   {
    "duration": 6588,
    "start_time": "2021-11-17T19:49:38.075Z"
   },
   {
    "duration": 6487,
    "start_time": "2021-11-17T19:53:02.656Z"
   },
   {
    "duration": 7718,
    "start_time": "2021-11-17T19:53:24.862Z"
   },
   {
    "duration": 627,
    "start_time": "2021-11-17T19:53:45.911Z"
   },
   {
    "duration": 11,
    "start_time": "2021-11-17T19:53:46.540Z"
   },
   {
    "duration": 18,
    "start_time": "2021-11-17T19:53:46.553Z"
   },
   {
    "duration": 15,
    "start_time": "2021-11-17T19:53:46.573Z"
   },
   {
    "duration": 7,
    "start_time": "2021-11-17T19:53:46.590Z"
   },
   {
    "duration": 7,
    "start_time": "2021-11-17T19:53:46.599Z"
   },
   {
    "duration": 70,
    "start_time": "2021-11-17T19:53:46.608Z"
   },
   {
    "duration": 3,
    "start_time": "2021-11-17T19:53:46.681Z"
   },
   {
    "duration": 6960,
    "start_time": "2021-11-17T19:53:46.686Z"
   },
   {
    "duration": -340,
    "start_time": "2021-11-17T19:53:53.988Z"
   },
   {
    "duration": -343,
    "start_time": "2021-11-17T19:53:53.992Z"
   },
   {
    "duration": -351,
    "start_time": "2021-11-17T19:53:54.001Z"
   },
   {
    "duration": 6499,
    "start_time": "2021-11-17T19:54:05.366Z"
   },
   {
    "duration": 13,
    "start_time": "2021-11-17T19:55:28.473Z"
   },
   {
    "duration": 11,
    "start_time": "2021-11-17T19:55:39.898Z"
   },
   {
    "duration": 10,
    "start_time": "2021-11-17T19:55:45.669Z"
   },
   {
    "duration": 10,
    "start_time": "2021-11-17T19:55:49.136Z"
   },
   {
    "duration": 260,
    "start_time": "2021-11-17T19:57:18.856Z"
   },
   {
    "duration": 10,
    "start_time": "2021-11-17T19:58:03.978Z"
   },
   {
    "duration": 23,
    "start_time": "2021-11-17T19:58:07.992Z"
   },
   {
    "duration": 282,
    "start_time": "2021-11-17T20:09:45.026Z"
   },
   {
    "duration": 7458,
    "start_time": "2021-11-17T20:09:51.261Z"
   },
   {
    "duration": 65,
    "start_time": "2021-11-17T20:10:04.683Z"
   },
   {
    "duration": 9,
    "start_time": "2021-11-17T20:10:04.750Z"
   },
   {
    "duration": 19,
    "start_time": "2021-11-17T20:10:04.761Z"
   },
   {
    "duration": 14,
    "start_time": "2021-11-17T20:10:04.782Z"
   },
   {
    "duration": 10,
    "start_time": "2021-11-17T20:10:04.798Z"
   },
   {
    "duration": 11,
    "start_time": "2021-11-17T20:10:04.809Z"
   },
   {
    "duration": 60,
    "start_time": "2021-11-17T20:10:04.822Z"
   },
   {
    "duration": 2,
    "start_time": "2021-11-17T20:10:04.884Z"
   },
   {
    "duration": 7953,
    "start_time": "2021-11-17T20:10:07.038Z"
   },
   {
    "duration": 20,
    "start_time": "2021-11-17T20:10:28.130Z"
   },
   {
    "duration": 34,
    "start_time": "2021-11-17T20:35:05.660Z"
   },
   {
    "duration": 31,
    "start_time": "2021-11-17T20:35:20.440Z"
   },
   {
    "duration": 271,
    "start_time": "2021-11-17T20:37:15.504Z"
   },
   {
    "duration": 266,
    "start_time": "2021-11-17T20:37:53.933Z"
   },
   {
    "duration": 1119,
    "start_time": "2021-11-17T20:41:02.178Z"
   },
   {
    "duration": 356,
    "start_time": "2021-11-17T20:42:08.334Z"
   },
   {
    "duration": -270,
    "start_time": "2021-11-17T20:43:58.096Z"
   },
   {
    "duration": 1073,
    "start_time": "2021-11-17T20:44:44.017Z"
   },
   {
    "duration": 444,
    "start_time": "2021-11-17T20:44:55.016Z"
   },
   {
    "duration": 446,
    "start_time": "2021-11-17T20:45:17.549Z"
   },
   {
    "duration": 841,
    "start_time": "2021-11-17T20:45:36.016Z"
   },
   {
    "duration": 843,
    "start_time": "2021-11-17T20:46:05.511Z"
   },
   {
    "duration": 930,
    "start_time": "2021-11-17T20:46:13.764Z"
   },
   {
    "duration": 853,
    "start_time": "2021-11-17T20:46:20.391Z"
   },
   {
    "duration": 808,
    "start_time": "2021-11-17T20:46:39.015Z"
   },
   {
    "duration": 321,
    "start_time": "2021-11-17T20:46:48.507Z"
   },
   {
    "duration": 260,
    "start_time": "2021-11-17T20:47:10.739Z"
   },
   {
    "duration": 270,
    "start_time": "2021-11-17T20:47:24.036Z"
   },
   {
    "duration": 264,
    "start_time": "2021-11-17T20:47:33.981Z"
   },
   {
    "duration": 251,
    "start_time": "2021-11-17T20:47:42.643Z"
   },
   {
    "duration": 248,
    "start_time": "2021-11-17T20:47:49.197Z"
   },
   {
    "duration": 760,
    "start_time": "2021-11-17T20:48:02.932Z"
   },
   {
    "duration": 9,
    "start_time": "2021-11-17T20:48:03.694Z"
   },
   {
    "duration": 20,
    "start_time": "2021-11-17T20:48:03.705Z"
   },
   {
    "duration": 39,
    "start_time": "2021-11-17T20:48:03.727Z"
   },
   {
    "duration": 8,
    "start_time": "2021-11-17T20:48:03.768Z"
   },
   {
    "duration": 15,
    "start_time": "2021-11-17T20:48:03.778Z"
   },
   {
    "duration": 43,
    "start_time": "2021-11-17T20:48:03.795Z"
   },
   {
    "duration": 22,
    "start_time": "2021-11-17T20:48:03.841Z"
   },
   {
    "duration": 1036,
    "start_time": "2021-11-17T20:48:03.866Z"
   },
   {
    "duration": -114,
    "start_time": "2021-11-17T20:48:05.018Z"
   },
   {
    "duration": -117,
    "start_time": "2021-11-17T20:48:05.022Z"
   },
   {
    "duration": -121,
    "start_time": "2021-11-17T20:48:05.027Z"
   },
   {
    "duration": 996,
    "start_time": "2021-11-17T20:48:19.181Z"
   },
   {
    "duration": 1258,
    "start_time": "2021-11-17T20:48:33.835Z"
   },
   {
    "duration": 10,
    "start_time": "2021-11-17T20:48:35.096Z"
   },
   {
    "duration": 20,
    "start_time": "2021-11-17T20:48:35.108Z"
   },
   {
    "duration": 34,
    "start_time": "2021-11-17T20:48:35.130Z"
   },
   {
    "duration": 9,
    "start_time": "2021-11-17T20:48:35.167Z"
   },
   {
    "duration": 7,
    "start_time": "2021-11-17T20:48:35.178Z"
   },
   {
    "duration": 40,
    "start_time": "2021-11-17T20:48:35.187Z"
   },
   {
    "duration": 2,
    "start_time": "2021-11-17T20:48:35.229Z"
   },
   {
    "duration": 1085,
    "start_time": "2021-11-17T20:48:35.233Z"
   },
   {
    "duration": -460,
    "start_time": "2021-11-17T20:48:36.780Z"
   },
   {
    "duration": -635,
    "start_time": "2021-11-17T20:48:36.956Z"
   },
   {
    "duration": -1559,
    "start_time": "2021-11-17T20:48:37.881Z"
   },
   {
    "duration": 874,
    "start_time": "2021-11-17T20:48:48.052Z"
   },
   {
    "duration": 854,
    "start_time": "2021-11-17T20:49:25.588Z"
   },
   {
    "duration": 19,
    "start_time": "2021-11-17T20:49:35.180Z"
   },
   {
    "duration": 11,
    "start_time": "2021-11-17T20:49:39.222Z"
   },
   {
    "duration": 271,
    "start_time": "2021-11-17T20:51:31.488Z"
   },
   {
    "duration": 695,
    "start_time": "2021-11-17T20:53:16.139Z"
   },
   {
    "duration": 9,
    "start_time": "2021-11-17T20:53:16.836Z"
   },
   {
    "duration": 21,
    "start_time": "2021-11-17T20:53:16.847Z"
   },
   {
    "duration": 13,
    "start_time": "2021-11-17T20:53:16.870Z"
   },
   {
    "duration": 11,
    "start_time": "2021-11-17T20:53:16.885Z"
   },
   {
    "duration": 8,
    "start_time": "2021-11-17T20:53:16.897Z"
   },
   {
    "duration": 37,
    "start_time": "2021-11-17T20:53:16.906Z"
   },
   {
    "duration": 2,
    "start_time": "2021-11-17T20:53:16.964Z"
   },
   {
    "duration": 1286,
    "start_time": "2021-11-17T20:53:16.968Z"
   },
   {
    "duration": 16,
    "start_time": "2021-11-17T20:53:18.256Z"
   },
   {
    "duration": 18,
    "start_time": "2021-11-17T20:53:18.273Z"
   },
   {
    "duration": 10,
    "start_time": "2021-11-17T20:53:18.293Z"
   },
   {
    "duration": 328,
    "start_time": "2021-11-17T20:54:18.211Z"
   },
   {
    "duration": 64,
    "start_time": "2021-11-17T20:54:23.818Z"
   },
   {
    "duration": 9,
    "start_time": "2021-11-17T20:54:23.884Z"
   },
   {
    "duration": 18,
    "start_time": "2021-11-17T20:54:23.894Z"
   },
   {
    "duration": 14,
    "start_time": "2021-11-17T20:54:23.913Z"
   },
   {
    "duration": 41,
    "start_time": "2021-11-17T20:54:23.928Z"
   },
   {
    "duration": 7,
    "start_time": "2021-11-17T20:54:23.970Z"
   },
   {
    "duration": 103,
    "start_time": "2021-11-17T20:54:23.979Z"
   },
   {
    "duration": 5,
    "start_time": "2021-11-17T20:54:24.085Z"
   },
   {
    "duration": 499,
    "start_time": "2021-11-17T20:54:26.685Z"
   },
   {
    "duration": 264,
    "start_time": "2021-11-17T20:55:01.337Z"
   },
   {
    "duration": 65,
    "start_time": "2021-11-17T20:55:06.356Z"
   },
   {
    "duration": 8,
    "start_time": "2021-11-17T20:55:06.423Z"
   },
   {
    "duration": 38,
    "start_time": "2021-11-17T20:55:06.433Z"
   },
   {
    "duration": 14,
    "start_time": "2021-11-17T20:55:06.473Z"
   },
   {
    "duration": 10,
    "start_time": "2021-11-17T20:55:06.489Z"
   },
   {
    "duration": 6,
    "start_time": "2021-11-17T20:55:06.501Z"
   },
   {
    "duration": 58,
    "start_time": "2021-11-17T20:55:06.509Z"
   },
   {
    "duration": 2,
    "start_time": "2021-11-17T20:55:06.569Z"
   },
   {
    "duration": 580,
    "start_time": "2021-11-17T20:55:08.901Z"
   },
   {
    "duration": 689,
    "start_time": "2021-11-17T20:57:02.161Z"
   },
   {
    "duration": 9,
    "start_time": "2021-11-17T20:57:02.852Z"
   },
   {
    "duration": 23,
    "start_time": "2021-11-17T20:57:02.863Z"
   },
   {
    "duration": 14,
    "start_time": "2021-11-17T20:57:02.888Z"
   },
   {
    "duration": 36,
    "start_time": "2021-11-17T20:57:02.904Z"
   },
   {
    "duration": 7,
    "start_time": "2021-11-17T20:57:02.942Z"
   },
   {
    "duration": 39,
    "start_time": "2021-11-17T20:57:02.951Z"
   },
   {
    "duration": 8915,
    "start_time": "2021-11-17T20:57:33.548Z"
   },
   {
    "duration": 11,
    "start_time": "2021-11-17T20:57:54.253Z"
   },
   {
    "duration": 25,
    "start_time": "2021-11-17T20:57:59.566Z"
   },
   {
    "duration": 11,
    "start_time": "2021-11-17T20:58:06.489Z"
   },
   {
    "duration": 1024,
    "start_time": "2021-11-17T20:58:41.427Z"
   },
   {
    "duration": 69,
    "start_time": "2021-11-17T20:58:50.093Z"
   },
   {
    "duration": 9,
    "start_time": "2021-11-17T20:58:50.164Z"
   },
   {
    "duration": 22,
    "start_time": "2021-11-17T20:58:50.175Z"
   },
   {
    "duration": 14,
    "start_time": "2021-11-17T20:58:50.199Z"
   },
   {
    "duration": 11,
    "start_time": "2021-11-17T20:58:50.215Z"
   },
   {
    "duration": 40,
    "start_time": "2021-11-17T20:58:50.228Z"
   },
   {
    "duration": 36,
    "start_time": "2021-11-17T20:58:50.269Z"
   },
   {
    "duration": 3,
    "start_time": "2021-11-17T20:58:50.307Z"
   },
   {
    "duration": 1125,
    "start_time": "2021-11-17T20:58:53.473Z"
   },
   {
    "duration": 978,
    "start_time": "2021-11-17T20:59:05.228Z"
   },
   {
    "duration": 63,
    "start_time": "2021-11-17T20:59:09.632Z"
   },
   {
    "duration": 10,
    "start_time": "2021-11-17T20:59:09.697Z"
   },
   {
    "duration": 17,
    "start_time": "2021-11-17T20:59:09.709Z"
   },
   {
    "duration": 12,
    "start_time": "2021-11-17T20:59:09.728Z"
   },
   {
    "duration": 26,
    "start_time": "2021-11-17T20:59:09.742Z"
   },
   {
    "duration": 7,
    "start_time": "2021-11-17T20:59:09.770Z"
   },
   {
    "duration": 36,
    "start_time": "2021-11-17T20:59:09.779Z"
   },
   {
    "duration": 2,
    "start_time": "2021-11-17T20:59:09.817Z"
   },
   {
    "duration": 970,
    "start_time": "2021-11-17T20:59:12.169Z"
   },
   {
    "duration": 1229,
    "start_time": "2021-11-17T21:00:47.566Z"
   },
   {
    "duration": 668,
    "start_time": "2021-11-17T21:01:05.861Z"
   },
   {
    "duration": 9,
    "start_time": "2021-11-17T21:01:06.531Z"
   },
   {
    "duration": 25,
    "start_time": "2021-11-17T21:01:06.542Z"
   },
   {
    "duration": 16,
    "start_time": "2021-11-17T21:01:06.569Z"
   },
   {
    "duration": 8,
    "start_time": "2021-11-17T21:01:06.587Z"
   },
   {
    "duration": 10,
    "start_time": "2021-11-17T21:01:06.597Z"
   },
   {
    "duration": 64,
    "start_time": "2021-11-17T21:01:06.609Z"
   },
   {
    "duration": 2,
    "start_time": "2021-11-17T21:01:06.675Z"
   },
   {
    "duration": 1082,
    "start_time": "2021-11-17T21:01:06.679Z"
   },
   {
    "duration": -324,
    "start_time": "2021-11-17T21:01:08.087Z"
   },
   {
    "duration": -328,
    "start_time": "2021-11-17T21:01:08.092Z"
   },
   {
    "duration": -331,
    "start_time": "2021-11-17T21:01:08.096Z"
   },
   {
    "duration": 643,
    "start_time": "2021-11-17T21:02:20.113Z"
   },
   {
    "duration": 9,
    "start_time": "2021-11-17T21:02:20.758Z"
   },
   {
    "duration": 18,
    "start_time": "2021-11-17T21:02:20.769Z"
   },
   {
    "duration": 14,
    "start_time": "2021-11-17T21:02:20.789Z"
   },
   {
    "duration": 26,
    "start_time": "2021-11-17T21:02:20.804Z"
   },
   {
    "duration": 10,
    "start_time": "2021-11-17T21:02:20.831Z"
   },
   {
    "duration": 51,
    "start_time": "2021-11-17T21:02:20.842Z"
   },
   {
    "duration": 3,
    "start_time": "2021-11-17T21:02:20.895Z"
   },
   {
    "duration": 663,
    "start_time": "2021-11-17T21:04:03.591Z"
   },
   {
    "duration": 8,
    "start_time": "2021-11-17T21:04:04.256Z"
   },
   {
    "duration": 17,
    "start_time": "2021-11-17T21:04:04.266Z"
   },
   {
    "duration": 14,
    "start_time": "2021-11-17T21:04:04.285Z"
   },
   {
    "duration": 12,
    "start_time": "2021-11-17T21:04:04.300Z"
   },
   {
    "duration": 8,
    "start_time": "2021-11-17T21:04:04.313Z"
   },
   {
    "duration": 55,
    "start_time": "2021-11-17T21:04:04.322Z"
   },
   {
    "duration": 10,
    "start_time": "2021-11-17T21:04:04.380Z"
   },
   {
    "duration": 2,
    "start_time": "2021-11-17T21:04:04.392Z"
   },
   {
    "duration": 641,
    "start_time": "2021-11-17T21:04:56.994Z"
   },
   {
    "duration": 8,
    "start_time": "2021-11-17T21:04:57.637Z"
   },
   {
    "duration": 23,
    "start_time": "2021-11-17T21:04:57.647Z"
   },
   {
    "duration": 17,
    "start_time": "2021-11-17T21:04:57.672Z"
   },
   {
    "duration": 13,
    "start_time": "2021-11-17T21:04:57.691Z"
   },
   {
    "duration": 11,
    "start_time": "2021-11-17T21:04:57.706Z"
   },
   {
    "duration": 54,
    "start_time": "2021-11-17T21:04:57.719Z"
   },
   {
    "duration": 11,
    "start_time": "2021-11-17T21:04:57.776Z"
   },
   {
    "duration": 6,
    "start_time": "2021-11-17T21:04:57.789Z"
   },
   {
    "duration": 694,
    "start_time": "2021-11-17T21:05:32.582Z"
   },
   {
    "duration": 11,
    "start_time": "2021-11-17T21:05:33.279Z"
   },
   {
    "duration": 20,
    "start_time": "2021-11-17T21:05:33.293Z"
   },
   {
    "duration": 16,
    "start_time": "2021-11-17T21:05:33.315Z"
   },
   {
    "duration": 36,
    "start_time": "2021-11-17T21:05:33.334Z"
   },
   {
    "duration": 9,
    "start_time": "2021-11-17T21:05:33.372Z"
   },
   {
    "duration": 42,
    "start_time": "2021-11-17T21:05:33.382Z"
   },
   {
    "duration": 38,
    "start_time": "2021-11-17T21:05:33.426Z"
   },
   {
    "duration": 3,
    "start_time": "2021-11-17T21:05:33.465Z"
   },
   {
    "duration": 675,
    "start_time": "2021-11-17T21:06:55.440Z"
   },
   {
    "duration": 8,
    "start_time": "2021-11-17T21:06:56.117Z"
   },
   {
    "duration": 17,
    "start_time": "2021-11-17T21:06:56.127Z"
   },
   {
    "duration": 26,
    "start_time": "2021-11-17T21:06:56.146Z"
   },
   {
    "duration": 12,
    "start_time": "2021-11-17T21:06:56.174Z"
   },
   {
    "duration": 6,
    "start_time": "2021-11-17T21:06:56.188Z"
   },
   {
    "duration": 40,
    "start_time": "2021-11-17T21:06:56.196Z"
   },
   {
    "duration": 30,
    "start_time": "2021-11-17T21:06:56.238Z"
   },
   {
    "duration": 2,
    "start_time": "2021-11-17T21:06:56.270Z"
   },
   {
    "duration": 8960,
    "start_time": "2021-11-17T21:06:56.274Z"
   },
   {
    "duration": 4775,
    "start_time": "2021-11-17T21:07:05.235Z"
   },
   {
    "duration": -253,
    "start_time": "2021-11-17T21:07:10.265Z"
   },
   {
    "duration": 263,
    "start_time": "2021-11-17T21:08:05.526Z"
   },
   {
    "duration": 647,
    "start_time": "2021-11-17T21:08:13.825Z"
   },
   {
    "duration": 8,
    "start_time": "2021-11-17T21:08:14.474Z"
   },
   {
    "duration": 17,
    "start_time": "2021-11-17T21:08:14.484Z"
   },
   {
    "duration": 13,
    "start_time": "2021-11-17T21:08:14.503Z"
   },
   {
    "duration": 9,
    "start_time": "2021-11-17T21:08:14.518Z"
   },
   {
    "duration": 36,
    "start_time": "2021-11-17T21:08:14.528Z"
   },
   {
    "duration": 40,
    "start_time": "2021-11-17T21:08:14.566Z"
   },
   {
    "duration": 10,
    "start_time": "2021-11-17T21:08:14.608Z"
   },
   {
    "duration": 2,
    "start_time": "2021-11-17T21:08:14.620Z"
   },
   {
    "duration": 1060,
    "start_time": "2021-11-17T21:08:14.623Z"
   },
   {
    "duration": -197,
    "start_time": "2021-11-17T21:08:15.882Z"
   },
   {
    "duration": -201,
    "start_time": "2021-11-17T21:08:15.887Z"
   },
   {
    "duration": 9180,
    "start_time": "2021-11-17T21:08:37.221Z"
   },
   {
    "duration": 18,
    "start_time": "2021-11-17T21:08:52.364Z"
   },
   {
    "duration": 10,
    "start_time": "2021-11-17T21:09:12.353Z"
   },
   {
    "duration": 635,
    "start_time": "2021-11-17T21:09:58.183Z"
   },
   {
    "duration": 19,
    "start_time": "2021-11-17T21:10:02.524Z"
   },
   {
    "duration": 13,
    "start_time": "2021-11-17T21:10:08.110Z"
   },
   {
    "duration": 99,
    "start_time": "2021-11-17T21:11:30.892Z"
   },
   {
    "duration": 1092,
    "start_time": "2021-11-17T21:11:51.010Z"
   },
   {
    "duration": 675,
    "start_time": "2021-11-17T21:12:02.067Z"
   },
   {
    "duration": 10,
    "start_time": "2021-11-17T21:12:02.744Z"
   },
   {
    "duration": 27,
    "start_time": "2021-11-17T21:12:02.756Z"
   },
   {
    "duration": 21,
    "start_time": "2021-11-17T21:12:02.785Z"
   },
   {
    "duration": 29,
    "start_time": "2021-11-17T21:12:02.808Z"
   },
   {
    "duration": 18,
    "start_time": "2021-11-17T21:12:02.839Z"
   },
   {
    "duration": 53,
    "start_time": "2021-11-17T21:12:02.858Z"
   },
   {
    "duration": 10,
    "start_time": "2021-11-17T21:12:02.913Z"
   },
   {
    "duration": 2,
    "start_time": "2021-11-17T21:12:02.925Z"
   },
   {
    "duration": 337,
    "start_time": "2021-11-17T21:12:02.929Z"
   },
   {
    "duration": -876,
    "start_time": "2021-11-17T21:12:04.144Z"
   },
   {
    "duration": -882,
    "start_time": "2021-11-17T21:12:04.151Z"
   },
   {
    "duration": 1742,
    "start_time": "2021-11-17T21:13:17.977Z"
   },
   {
    "duration": 614,
    "start_time": "2021-11-17T21:13:27.416Z"
   },
   {
    "duration": 8,
    "start_time": "2021-11-17T21:13:28.032Z"
   },
   {
    "duration": 26,
    "start_time": "2021-11-17T21:13:28.042Z"
   },
   {
    "duration": 16,
    "start_time": "2021-11-17T21:13:28.069Z"
   },
   {
    "duration": 8,
    "start_time": "2021-11-17T21:13:28.087Z"
   },
   {
    "duration": 7,
    "start_time": "2021-11-17T21:13:28.097Z"
   },
   {
    "duration": 82,
    "start_time": "2021-11-17T21:13:28.106Z"
   },
   {
    "duration": 11,
    "start_time": "2021-11-17T21:13:28.190Z"
   },
   {
    "duration": 2,
    "start_time": "2021-11-17T21:13:28.203Z"
   },
   {
    "duration": 1815,
    "start_time": "2021-11-17T21:13:28.206Z"
   },
   {
    "duration": -501,
    "start_time": "2021-11-17T21:13:30.524Z"
   },
   {
    "duration": -509,
    "start_time": "2021-11-17T21:13:30.534Z"
   },
   {
    "duration": 1727,
    "start_time": "2021-11-17T21:14:06.473Z"
   },
   {
    "duration": 710,
    "start_time": "2021-11-17T21:15:56.127Z"
   },
   {
    "duration": 9,
    "start_time": "2021-11-17T21:15:56.839Z"
   },
   {
    "duration": 26,
    "start_time": "2021-11-17T21:15:56.850Z"
   },
   {
    "duration": 14,
    "start_time": "2021-11-17T21:15:56.878Z"
   },
   {
    "duration": 8,
    "start_time": "2021-11-17T21:15:56.894Z"
   },
   {
    "duration": 8,
    "start_time": "2021-11-17T21:15:56.904Z"
   },
   {
    "duration": 60,
    "start_time": "2021-11-17T21:15:56.914Z"
   },
   {
    "duration": 11,
    "start_time": "2021-11-17T21:15:56.976Z"
   },
   {
    "duration": 2,
    "start_time": "2021-11-17T21:15:56.989Z"
   },
   {
    "duration": 1888,
    "start_time": "2021-11-17T21:15:56.993Z"
   },
   {
    "duration": -501,
    "start_time": "2021-11-17T21:15:59.384Z"
   },
   {
    "duration": -506,
    "start_time": "2021-11-17T21:15:59.390Z"
   },
   {
    "duration": 338,
    "start_time": "2021-11-17T21:17:48.612Z"
   },
   {
    "duration": 341,
    "start_time": "2021-11-17T21:18:11.988Z"
   },
   {
    "duration": 653,
    "start_time": "2021-11-17T21:18:31.871Z"
   },
   {
    "duration": 9,
    "start_time": "2021-11-17T21:18:32.526Z"
   },
   {
    "duration": 29,
    "start_time": "2021-11-17T21:18:32.537Z"
   },
   {
    "duration": 13,
    "start_time": "2021-11-17T21:18:32.568Z"
   },
   {
    "duration": 10,
    "start_time": "2021-11-17T21:18:32.583Z"
   },
   {
    "duration": 13,
    "start_time": "2021-11-17T21:18:32.595Z"
   },
   {
    "duration": 56,
    "start_time": "2021-11-17T21:18:32.609Z"
   },
   {
    "duration": 11,
    "start_time": "2021-11-17T21:18:32.667Z"
   },
   {
    "duration": 10,
    "start_time": "2021-11-17T21:18:32.680Z"
   },
   {
    "duration": 408,
    "start_time": "2021-11-17T21:18:32.692Z"
   },
   {
    "duration": -144,
    "start_time": "2021-11-17T21:18:33.246Z"
   },
   {
    "duration": -148,
    "start_time": "2021-11-17T21:18:33.251Z"
   },
   {
    "duration": 272,
    "start_time": "2021-11-17T21:19:31.824Z"
   },
   {
    "duration": 641,
    "start_time": "2021-11-17T21:20:10.488Z"
   },
   {
    "duration": 10,
    "start_time": "2021-11-17T21:20:11.131Z"
   },
   {
    "duration": 28,
    "start_time": "2021-11-17T21:20:11.143Z"
   },
   {
    "duration": 14,
    "start_time": "2021-11-17T21:20:11.172Z"
   },
   {
    "duration": 7,
    "start_time": "2021-11-17T21:20:11.188Z"
   },
   {
    "duration": 9,
    "start_time": "2021-11-17T21:20:11.197Z"
   },
   {
    "duration": 63,
    "start_time": "2021-11-17T21:20:11.207Z"
   },
   {
    "duration": 10,
    "start_time": "2021-11-17T21:20:11.272Z"
   },
   {
    "duration": 2,
    "start_time": "2021-11-17T21:20:11.284Z"
   },
   {
    "duration": 338,
    "start_time": "2021-11-17T21:20:11.288Z"
   },
   {
    "duration": -197,
    "start_time": "2021-11-17T21:20:11.824Z"
   },
   {
    "duration": -203,
    "start_time": "2021-11-17T21:20:11.831Z"
   },
   {
    "duration": 278,
    "start_time": "2021-11-17T21:20:39.411Z"
   },
   {
    "duration": 676,
    "start_time": "2021-11-17T21:20:46.245Z"
   },
   {
    "duration": 8,
    "start_time": "2021-11-17T21:20:46.923Z"
   },
   {
    "duration": 35,
    "start_time": "2021-11-17T21:20:46.933Z"
   },
   {
    "duration": 15,
    "start_time": "2021-11-17T21:20:46.970Z"
   },
   {
    "duration": 13,
    "start_time": "2021-11-17T21:20:46.987Z"
   },
   {
    "duration": 19,
    "start_time": "2021-11-17T21:20:47.002Z"
   },
   {
    "duration": 51,
    "start_time": "2021-11-17T21:20:47.023Z"
   },
   {
    "duration": 10,
    "start_time": "2021-11-17T21:20:47.076Z"
   },
   {
    "duration": 14,
    "start_time": "2021-11-17T21:20:47.087Z"
   },
   {
    "duration": 330,
    "start_time": "2021-11-17T21:20:47.103Z"
   },
   {
    "duration": -108,
    "start_time": "2021-11-17T21:20:47.543Z"
   },
   {
    "duration": -112,
    "start_time": "2021-11-17T21:20:47.548Z"
   },
   {
    "duration": 668,
    "start_time": "2021-11-17T21:25:58.865Z"
   },
   {
    "duration": 8,
    "start_time": "2021-11-17T21:25:59.535Z"
   },
   {
    "duration": 23,
    "start_time": "2021-11-17T21:25:59.545Z"
   },
   {
    "duration": 13,
    "start_time": "2021-11-17T21:25:59.569Z"
   },
   {
    "duration": 6,
    "start_time": "2021-11-17T21:25:59.584Z"
   },
   {
    "duration": 6,
    "start_time": "2021-11-17T21:25:59.592Z"
   },
   {
    "duration": 41,
    "start_time": "2021-11-17T21:25:59.600Z"
   },
   {
    "duration": 29,
    "start_time": "2021-11-17T21:25:59.643Z"
   },
   {
    "duration": 2,
    "start_time": "2021-11-17T21:25:59.674Z"
   },
   {
    "duration": 340,
    "start_time": "2021-11-17T21:25:59.678Z"
   },
   {
    "duration": -161,
    "start_time": "2021-11-17T21:26:00.181Z"
   },
   {
    "duration": -168,
    "start_time": "2021-11-17T21:26:00.189Z"
   },
   {
    "duration": 267,
    "start_time": "2021-11-17T21:29:37.749Z"
   },
   {
    "duration": 656,
    "start_time": "2021-11-17T21:29:46.372Z"
   },
   {
    "duration": 9,
    "start_time": "2021-11-17T21:29:47.030Z"
   },
   {
    "duration": 28,
    "start_time": "2021-11-17T21:29:47.040Z"
   },
   {
    "duration": 14,
    "start_time": "2021-11-17T21:29:47.070Z"
   },
   {
    "duration": 10,
    "start_time": "2021-11-17T21:29:47.086Z"
   },
   {
    "duration": 9,
    "start_time": "2021-11-17T21:29:47.097Z"
   },
   {
    "duration": 58,
    "start_time": "2021-11-17T21:29:47.108Z"
   },
   {
    "duration": 10,
    "start_time": "2021-11-17T21:29:47.168Z"
   },
   {
    "duration": 6,
    "start_time": "2021-11-17T21:29:47.179Z"
   },
   {
    "duration": 332,
    "start_time": "2021-11-17T21:29:47.186Z"
   },
   {
    "duration": -99,
    "start_time": "2021-11-17T21:29:47.619Z"
   },
   {
    "duration": -106,
    "start_time": "2021-11-17T21:29:47.627Z"
   },
   {
    "duration": 367,
    "start_time": "2021-11-17T21:30:31.726Z"
   },
   {
    "duration": 31,
    "start_time": "2021-11-17T21:30:45.675Z"
   },
   {
    "duration": 28,
    "start_time": "2021-11-17T21:30:57.442Z"
   },
   {
    "duration": 257,
    "start_time": "2021-11-17T21:31:01.366Z"
   },
   {
    "duration": 669,
    "start_time": "2021-11-17T21:31:10.152Z"
   },
   {
    "duration": 9,
    "start_time": "2021-11-17T21:31:10.823Z"
   },
   {
    "duration": 28,
    "start_time": "2021-11-17T21:31:10.835Z"
   },
   {
    "duration": 16,
    "start_time": "2021-11-17T21:31:10.864Z"
   },
   {
    "duration": 7,
    "start_time": "2021-11-17T21:31:10.881Z"
   },
   {
    "duration": 7,
    "start_time": "2021-11-17T21:31:10.890Z"
   },
   {
    "duration": 65,
    "start_time": "2021-11-17T21:31:10.899Z"
   },
   {
    "duration": 12,
    "start_time": "2021-11-17T21:31:10.967Z"
   },
   {
    "duration": 3,
    "start_time": "2021-11-17T21:31:10.981Z"
   },
   {
    "duration": 31,
    "start_time": "2021-11-17T21:31:10.985Z"
   },
   {
    "duration": 3339,
    "start_time": "2021-11-17T21:31:11.018Z"
   },
   {
    "duration": -294,
    "start_time": "2021-11-17T21:31:14.653Z"
   },
   {
    "duration": 265,
    "start_time": "2021-11-17T21:31:51.222Z"
   },
   {
    "duration": 641,
    "start_time": "2021-11-17T21:32:00.116Z"
   },
   {
    "duration": 9,
    "start_time": "2021-11-17T21:32:00.758Z"
   },
   {
    "duration": 26,
    "start_time": "2021-11-17T21:32:00.769Z"
   },
   {
    "duration": 15,
    "start_time": "2021-11-17T21:32:00.797Z"
   },
   {
    "duration": 9,
    "start_time": "2021-11-17T21:32:00.814Z"
   },
   {
    "duration": 11,
    "start_time": "2021-11-17T21:32:00.824Z"
   },
   {
    "duration": 63,
    "start_time": "2021-11-17T21:32:00.837Z"
   },
   {
    "duration": 12,
    "start_time": "2021-11-17T21:32:00.902Z"
   },
   {
    "duration": 15,
    "start_time": "2021-11-17T21:32:00.916Z"
   },
   {
    "duration": 65,
    "start_time": "2021-11-17T21:32:00.933Z"
   },
   {
    "duration": 22,
    "start_time": "2021-11-17T21:32:00.999Z"
   },
   {
    "duration": 14,
    "start_time": "2021-11-17T21:32:01.023Z"
   },
   {
    "duration": 319,
    "start_time": "2021-11-17T21:32:49.532Z"
   },
   {
    "duration": 672,
    "start_time": "2021-11-17T21:32:59.922Z"
   },
   {
    "duration": 11,
    "start_time": "2021-11-17T21:33:00.597Z"
   },
   {
    "duration": 22,
    "start_time": "2021-11-17T21:33:00.611Z"
   },
   {
    "duration": 36,
    "start_time": "2021-11-17T21:33:00.636Z"
   },
   {
    "duration": 12,
    "start_time": "2021-11-17T21:33:00.674Z"
   },
   {
    "duration": 20,
    "start_time": "2021-11-17T21:33:00.688Z"
   },
   {
    "duration": 55,
    "start_time": "2021-11-17T21:33:00.710Z"
   },
   {
    "duration": 12,
    "start_time": "2021-11-17T21:33:00.768Z"
   },
   {
    "duration": 14,
    "start_time": "2021-11-17T21:33:00.782Z"
   },
   {
    "duration": 45,
    "start_time": "2021-11-17T21:33:00.798Z"
   },
   {
    "duration": 34,
    "start_time": "2021-11-17T21:33:00.845Z"
   },
   {
    "duration": 12,
    "start_time": "2021-11-17T21:33:00.881Z"
   },
   {
    "duration": 327,
    "start_time": "2021-11-17T21:35:22.796Z"
   },
   {
    "duration": 639,
    "start_time": "2021-11-17T21:36:10.373Z"
   },
   {
    "duration": 9,
    "start_time": "2021-11-17T21:36:11.014Z"
   },
   {
    "duration": 19,
    "start_time": "2021-11-17T21:36:11.025Z"
   },
   {
    "duration": 15,
    "start_time": "2021-11-17T21:36:11.065Z"
   },
   {
    "duration": 13,
    "start_time": "2021-11-17T21:36:11.082Z"
   },
   {
    "duration": 7,
    "start_time": "2021-11-17T21:36:11.097Z"
   },
   {
    "duration": 59,
    "start_time": "2021-11-17T21:36:11.106Z"
   },
   {
    "duration": 11,
    "start_time": "2021-11-17T21:36:11.168Z"
   },
   {
    "duration": 2,
    "start_time": "2021-11-17T21:36:11.181Z"
   },
   {
    "duration": 483,
    "start_time": "2021-11-17T21:36:11.184Z"
   },
   {
    "duration": -162,
    "start_time": "2021-11-17T21:36:11.831Z"
   },
   {
    "duration": -167,
    "start_time": "2021-11-17T21:36:11.837Z"
   },
   {
    "duration": 19,
    "start_time": "2021-11-17T21:36:54.017Z"
   },
   {
    "duration": 11,
    "start_time": "2021-11-17T21:37:02.748Z"
   },
   {
    "duration": 451,
    "start_time": "2021-11-17T21:38:10.895Z"
   },
   {
    "duration": 1994,
    "start_time": "2021-11-17T21:39:31.809Z"
   },
   {
    "duration": 696,
    "start_time": "2021-11-17T21:39:50.752Z"
   },
   {
    "duration": 9,
    "start_time": "2021-11-17T21:39:51.450Z"
   },
   {
    "duration": 24,
    "start_time": "2021-11-17T21:39:51.461Z"
   },
   {
    "duration": 14,
    "start_time": "2021-11-17T21:39:51.487Z"
   },
   {
    "duration": 14,
    "start_time": "2021-11-17T21:39:51.503Z"
   },
   {
    "duration": 7,
    "start_time": "2021-11-17T21:39:51.519Z"
   },
   {
    "duration": 62,
    "start_time": "2021-11-17T21:39:51.528Z"
   },
   {
    "duration": 12,
    "start_time": "2021-11-17T21:39:51.593Z"
   },
   {
    "duration": 3,
    "start_time": "2021-11-17T21:39:51.607Z"
   },
   {
    "duration": 2055,
    "start_time": "2021-11-17T21:39:51.611Z"
   },
   {
    "duration": -170,
    "start_time": "2021-11-17T21:39:53.838Z"
   },
   {
    "duration": -172,
    "start_time": "2021-11-17T21:39:53.841Z"
   },
   {
    "duration": 680,
    "start_time": "2021-11-17T21:41:24.952Z"
   },
   {
    "duration": 9,
    "start_time": "2021-11-17T21:41:25.633Z"
   },
   {
    "duration": 18,
    "start_time": "2021-11-17T21:41:25.644Z"
   },
   {
    "duration": 13,
    "start_time": "2021-11-17T21:41:25.663Z"
   },
   {
    "duration": 8,
    "start_time": "2021-11-17T21:41:25.678Z"
   },
   {
    "duration": 22,
    "start_time": "2021-11-17T21:41:25.688Z"
   },
   {
    "duration": 53,
    "start_time": "2021-11-17T21:41:25.711Z"
   },
   {
    "duration": 10,
    "start_time": "2021-11-17T21:41:25.767Z"
   },
   {
    "duration": 2,
    "start_time": "2021-11-17T21:41:25.779Z"
   },
   {
    "duration": 499,
    "start_time": "2021-11-17T21:41:25.783Z"
   },
   {
    "duration": -93,
    "start_time": "2021-11-17T21:41:26.377Z"
   },
   {
    "duration": -96,
    "start_time": "2021-11-17T21:41:26.381Z"
   },
   {
    "duration": 20,
    "start_time": "2021-11-17T21:42:57.993Z"
   },
   {
    "duration": 353,
    "start_time": "2021-11-17T21:44:40.872Z"
   },
   {
    "duration": 640,
    "start_time": "2021-11-17T21:44:48.824Z"
   },
   {
    "duration": 10,
    "start_time": "2021-11-17T21:44:49.466Z"
   },
   {
    "duration": 24,
    "start_time": "2021-11-17T21:44:49.478Z"
   },
   {
    "duration": 16,
    "start_time": "2021-11-17T21:44:49.504Z"
   },
   {
    "duration": 11,
    "start_time": "2021-11-17T21:44:49.522Z"
   },
   {
    "duration": 11,
    "start_time": "2021-11-17T21:44:49.568Z"
   },
   {
    "duration": 39,
    "start_time": "2021-11-17T21:44:49.581Z"
   },
   {
    "duration": 11,
    "start_time": "2021-11-17T21:44:49.623Z"
   },
   {
    "duration": 2,
    "start_time": "2021-11-17T21:44:49.636Z"
   },
   {
    "duration": 359,
    "start_time": "2021-11-17T21:44:49.640Z"
   },
   {
    "duration": -176,
    "start_time": "2021-11-17T21:44:50.177Z"
   },
   {
    "duration": -179,
    "start_time": "2021-11-17T21:44:50.181Z"
   },
   {
    "duration": 284,
    "start_time": "2021-11-17T21:46:44.923Z"
   },
   {
    "duration": 8480,
    "start_time": "2021-11-17T21:47:15.830Z"
   },
   {
    "duration": 261,
    "start_time": "2021-11-17T21:47:46.523Z"
   },
   {
    "duration": 6555,
    "start_time": "2021-11-17T21:47:57.773Z"
   },
   {
    "duration": 10,
    "start_time": "2021-11-17T21:49:16.411Z"
   },
   {
    "duration": 21,
    "start_time": "2021-11-17T21:49:24.075Z"
   },
   {
    "duration": 6403,
    "start_time": "2021-11-17T21:50:37.693Z"
   },
   {
    "duration": 28,
    "start_time": "2021-11-17T21:52:03.214Z"
   },
   {
    "duration": 5983,
    "start_time": "2021-11-17T21:52:32.353Z"
   },
   {
    "duration": 26,
    "start_time": "2021-11-17T21:52:59.792Z"
   },
   {
    "duration": 418,
    "start_time": "2021-11-17T21:55:15.967Z"
   },
   {
    "duration": 1478,
    "start_time": "2021-11-17T22:01:18.786Z"
   },
   {
    "duration": 268,
    "start_time": "2021-11-17T22:01:49.460Z"
   },
   {
    "duration": 649,
    "start_time": "2021-11-17T22:02:10.968Z"
   },
   {
    "duration": 9,
    "start_time": "2021-11-17T22:02:11.619Z"
   },
   {
    "duration": 17,
    "start_time": "2021-11-17T22:02:11.630Z"
   },
   {
    "duration": 28,
    "start_time": "2021-11-17T22:02:11.649Z"
   },
   {
    "duration": 8,
    "start_time": "2021-11-17T22:02:11.678Z"
   },
   {
    "duration": 6,
    "start_time": "2021-11-17T22:02:11.687Z"
   },
   {
    "duration": 41,
    "start_time": "2021-11-17T22:02:11.695Z"
   },
   {
    "duration": 34,
    "start_time": "2021-11-17T22:02:11.738Z"
   },
   {
    "duration": 2,
    "start_time": "2021-11-17T22:02:11.774Z"
   },
   {
    "duration": 326,
    "start_time": "2021-11-17T22:02:11.778Z"
   },
   {
    "duration": -157,
    "start_time": "2021-11-17T22:02:12.262Z"
   },
   {
    "duration": -160,
    "start_time": "2021-11-17T22:02:12.267Z"
   },
   {
    "duration": 280,
    "start_time": "2021-11-17T22:02:54.830Z"
   },
   {
    "duration": 294,
    "start_time": "2021-11-17T22:03:24.008Z"
   },
   {
    "duration": 641,
    "start_time": "2021-11-17T22:03:33.287Z"
   },
   {
    "duration": 8,
    "start_time": "2021-11-17T22:03:33.930Z"
   },
   {
    "duration": 28,
    "start_time": "2021-11-17T22:03:33.940Z"
   },
   {
    "duration": 13,
    "start_time": "2021-11-17T22:03:33.970Z"
   },
   {
    "duration": 8,
    "start_time": "2021-11-17T22:03:33.985Z"
   },
   {
    "duration": 7,
    "start_time": "2021-11-17T22:03:33.994Z"
   },
   {
    "duration": 63,
    "start_time": "2021-11-17T22:03:34.003Z"
   },
   {
    "duration": 11,
    "start_time": "2021-11-17T22:03:34.068Z"
   },
   {
    "duration": 5,
    "start_time": "2021-11-17T22:03:34.081Z"
   },
   {
    "duration": 333,
    "start_time": "2021-11-17T22:03:34.087Z"
   },
   {
    "duration": -185,
    "start_time": "2021-11-17T22:03:34.607Z"
   },
   {
    "duration": -193,
    "start_time": "2021-11-17T22:03:34.616Z"
   },
   {
    "duration": 1036,
    "start_time": "2021-11-17T22:03:59.799Z"
   },
   {
    "duration": 279,
    "start_time": "2021-11-17T22:04:36.810Z"
   },
   {
    "duration": 381,
    "start_time": "2021-11-18T13:08:06.649Z"
   },
   {
    "duration": 862,
    "start_time": "2021-11-18T13:08:20.488Z"
   },
   {
    "duration": 12,
    "start_time": "2021-11-18T13:08:21.352Z"
   },
   {
    "duration": 39,
    "start_time": "2021-11-18T13:08:21.366Z"
   },
   {
    "duration": 36,
    "start_time": "2021-11-18T13:08:21.407Z"
   },
   {
    "duration": 30,
    "start_time": "2021-11-18T13:08:21.446Z"
   },
   {
    "duration": 29,
    "start_time": "2021-11-18T13:08:21.478Z"
   },
   {
    "duration": 72,
    "start_time": "2021-11-18T13:08:21.509Z"
   },
   {
    "duration": 14,
    "start_time": "2021-11-18T13:08:21.585Z"
   },
   {
    "duration": 39,
    "start_time": "2021-11-18T13:08:30.601Z"
   },
   {
    "duration": 677,
    "start_time": "2021-11-18T13:59:07.469Z"
   },
   {
    "duration": 93,
    "start_time": "2021-11-18T14:00:20.833Z"
   },
   {
    "duration": 19,
    "start_time": "2021-11-18T14:00:20.930Z"
   },
   {
    "duration": 40,
    "start_time": "2021-11-18T14:00:20.953Z"
   },
   {
    "duration": 22,
    "start_time": "2021-11-18T14:00:21.029Z"
   },
   {
    "duration": 11,
    "start_time": "2021-11-18T14:00:21.054Z"
   },
   {
    "duration": 15,
    "start_time": "2021-11-18T14:00:21.068Z"
   },
   {
    "duration": 99,
    "start_time": "2021-11-18T14:00:21.086Z"
   },
   {
    "duration": 14,
    "start_time": "2021-11-18T14:00:21.188Z"
   },
   {
    "duration": 79,
    "start_time": "2021-11-18T14:00:21.205Z"
   },
   {
    "duration": 41,
    "start_time": "2021-11-18T14:00:23.736Z"
   },
   {
    "duration": 486,
    "start_time": "2021-11-18T14:00:28.180Z"
   },
   {
    "duration": 832,
    "start_time": "2021-11-18T14:00:48.910Z"
   },
   {
    "duration": 820,
    "start_time": "2021-11-18T14:01:11.257Z"
   },
   {
    "duration": 15,
    "start_time": "2021-11-18T14:01:12.080Z"
   },
   {
    "duration": 48,
    "start_time": "2021-11-18T14:01:12.099Z"
   },
   {
    "duration": 21,
    "start_time": "2021-11-18T14:01:12.150Z"
   },
   {
    "duration": 10,
    "start_time": "2021-11-18T14:01:12.174Z"
   },
   {
    "duration": 42,
    "start_time": "2021-11-18T14:01:12.186Z"
   },
   {
    "duration": 62,
    "start_time": "2021-11-18T14:01:12.231Z"
   },
   {
    "duration": 35,
    "start_time": "2021-11-18T14:01:12.296Z"
   },
   {
    "duration": 41,
    "start_time": "2021-11-18T14:01:12.334Z"
   },
   {
    "duration": 857,
    "start_time": "2021-11-18T14:01:12.377Z"
   },
   {
    "duration": 30,
    "start_time": "2021-11-18T14:01:13.237Z"
   },
   {
    "duration": 15,
    "start_time": "2021-11-18T14:01:13.270Z"
   },
   {
    "duration": 845,
    "start_time": "2021-11-18T14:02:27.212Z"
   },
   {
    "duration": 29,
    "start_time": "2021-11-18T14:11:29.953Z"
   },
   {
    "duration": 390,
    "start_time": "2021-11-18T14:11:45.493Z"
   },
   {
    "duration": 14,
    "start_time": "2021-11-18T14:11:49.037Z"
   },
   {
    "duration": 20,
    "start_time": "2021-11-18T14:12:06.192Z"
   },
   {
    "duration": 29,
    "start_time": "2021-11-18T14:12:58.271Z"
   },
   {
    "duration": 787,
    "start_time": "2021-11-18T14:13:09.775Z"
   },
   {
    "duration": 18,
    "start_time": "2021-11-18T14:13:10.564Z"
   },
   {
    "duration": 59,
    "start_time": "2021-11-18T14:13:10.586Z"
   },
   {
    "duration": 32,
    "start_time": "2021-11-18T14:13:10.649Z"
   },
   {
    "duration": 12,
    "start_time": "2021-11-18T14:13:10.683Z"
   },
   {
    "duration": 41,
    "start_time": "2021-11-18T14:13:10.697Z"
   },
   {
    "duration": 118,
    "start_time": "2021-11-18T14:13:10.741Z"
   },
   {
    "duration": 20,
    "start_time": "2021-11-18T14:13:10.863Z"
   },
   {
    "duration": 76,
    "start_time": "2021-11-18T14:13:10.885Z"
   },
   {
    "duration": 1305,
    "start_time": "2021-11-18T14:13:10.963Z"
   },
   {
    "duration": 59,
    "start_time": "2021-11-18T14:13:12.271Z"
   },
   {
    "duration": 23,
    "start_time": "2021-11-18T14:13:12.333Z"
   },
   {
    "duration": 483,
    "start_time": "2021-11-18T14:13:40.464Z"
   },
   {
    "duration": 32,
    "start_time": "2021-11-18T14:13:50.175Z"
   },
   {
    "duration": 832,
    "start_time": "2021-11-18T14:14:25.244Z"
   },
   {
    "duration": 17,
    "start_time": "2021-11-18T14:14:26.079Z"
   },
   {
    "duration": 49,
    "start_time": "2021-11-18T14:14:26.100Z"
   },
   {
    "duration": 20,
    "start_time": "2021-11-18T14:14:26.151Z"
   },
   {
    "duration": 34,
    "start_time": "2021-11-18T14:14:26.174Z"
   },
   {
    "duration": 37,
    "start_time": "2021-11-18T14:14:26.210Z"
   },
   {
    "duration": 81,
    "start_time": "2021-11-18T14:14:26.249Z"
   },
   {
    "duration": 14,
    "start_time": "2021-11-18T14:14:26.333Z"
   },
   {
    "duration": 48,
    "start_time": "2021-11-18T14:14:26.349Z"
   },
   {
    "duration": 882,
    "start_time": "2021-11-18T14:14:26.399Z"
   },
   {
    "duration": 47,
    "start_time": "2021-11-18T14:14:27.283Z"
   },
   {
    "duration": 17,
    "start_time": "2021-11-18T14:14:27.332Z"
   },
   {
    "duration": 17,
    "start_time": "2021-11-18T14:27:02.467Z"
   },
   {
    "duration": 879,
    "start_time": "2021-11-18T14:27:35.895Z"
   },
   {
    "duration": 13,
    "start_time": "2021-11-18T14:27:36.777Z"
   },
   {
    "duration": 56,
    "start_time": "2021-11-18T14:27:36.794Z"
   },
   {
    "duration": 22,
    "start_time": "2021-11-18T14:27:36.854Z"
   },
   {
    "duration": 14,
    "start_time": "2021-11-18T14:27:36.879Z"
   },
   {
    "duration": 44,
    "start_time": "2021-11-18T14:27:36.896Z"
   },
   {
    "duration": 70,
    "start_time": "2021-11-18T14:27:36.943Z"
   },
   {
    "duration": 24,
    "start_time": "2021-11-18T14:27:37.017Z"
   },
   {
    "duration": 39,
    "start_time": "2021-11-18T14:27:37.043Z"
   },
   {
    "duration": 845,
    "start_time": "2021-11-18T14:27:37.084Z"
   },
   {
    "duration": 30,
    "start_time": "2021-11-18T14:27:37.931Z"
   },
   {
    "duration": 18,
    "start_time": "2021-11-18T14:27:37.964Z"
   },
   {
    "duration": 9313,
    "start_time": "2021-11-18T14:45:51.982Z"
   },
   {
    "duration": 8051,
    "start_time": "2021-11-18T14:46:33.559Z"
   },
   {
    "duration": 842,
    "start_time": "2021-11-18T14:47:13.827Z"
   },
   {
    "duration": 829,
    "start_time": "2021-11-18T14:55:53.719Z"
   },
   {
    "duration": 657,
    "start_time": "2021-11-18T14:56:17.629Z"
   },
   {
    "duration": 9882,
    "start_time": "2021-11-18T14:58:44.405Z"
   },
   {
    "duration": 823,
    "start_time": "2021-11-18T14:59:33.833Z"
   },
   {
    "duration": 13,
    "start_time": "2021-11-18T14:59:34.659Z"
   },
   {
    "duration": 26,
    "start_time": "2021-11-18T14:59:34.675Z"
   },
   {
    "duration": 45,
    "start_time": "2021-11-18T14:59:34.703Z"
   },
   {
    "duration": 10,
    "start_time": "2021-11-18T14:59:34.751Z"
   },
   {
    "duration": 12,
    "start_time": "2021-11-18T14:59:34.763Z"
   },
   {
    "duration": 87,
    "start_time": "2021-11-18T14:59:34.777Z"
   },
   {
    "duration": 14,
    "start_time": "2021-11-18T14:59:34.867Z"
   },
   {
    "duration": 65,
    "start_time": "2021-11-18T14:59:34.884Z"
   },
   {
    "duration": 9452,
    "start_time": "2021-11-18T14:59:34.952Z"
   },
   {
    "duration": 40,
    "start_time": "2021-11-18T14:59:44.407Z"
   },
   {
    "duration": 16,
    "start_time": "2021-11-18T14:59:44.450Z"
   },
   {
    "duration": 19,
    "start_time": "2021-11-18T15:00:18.089Z"
   },
   {
    "duration": 10014,
    "start_time": "2021-11-18T15:01:04.005Z"
   },
   {
    "duration": 9672,
    "start_time": "2021-11-18T15:01:38.474Z"
   },
   {
    "duration": 9539,
    "start_time": "2021-11-18T15:03:39.399Z"
   },
   {
    "duration": 10060,
    "start_time": "2021-11-18T15:04:23.564Z"
   },
   {
    "duration": 10187,
    "start_time": "2021-11-18T15:04:45.483Z"
   },
   {
    "duration": 10217,
    "start_time": "2021-11-18T15:06:07.391Z"
   },
   {
    "duration": 10471,
    "start_time": "2021-11-18T15:06:32.549Z"
   },
   {
    "duration": 10287,
    "start_time": "2021-11-18T15:06:51.414Z"
   },
   {
    "duration": 10015,
    "start_time": "2021-11-18T15:07:12.558Z"
   },
   {
    "duration": 10131,
    "start_time": "2021-11-18T15:08:06.421Z"
   },
   {
    "duration": 9594,
    "start_time": "2021-11-18T15:08:32.016Z"
   },
   {
    "duration": 9576,
    "start_time": "2021-11-18T15:08:56.545Z"
   },
   {
    "duration": 9497,
    "start_time": "2021-11-18T15:09:29.035Z"
   },
   {
    "duration": 10208,
    "start_time": "2021-11-18T15:09:48.785Z"
   },
   {
    "duration": 9888,
    "start_time": "2021-11-18T15:10:20.785Z"
   },
   {
    "duration": 9504,
    "start_time": "2021-11-18T15:12:57.472Z"
   },
   {
    "duration": 9964,
    "start_time": "2021-11-18T15:15:22.640Z"
   },
   {
    "duration": 10026,
    "start_time": "2021-11-18T15:16:19.871Z"
   },
   {
    "duration": 943,
    "start_time": "2021-11-18T15:16:36.798Z"
   },
   {
    "duration": 13,
    "start_time": "2021-11-18T15:16:37.743Z"
   },
   {
    "duration": 28,
    "start_time": "2021-11-18T15:16:37.758Z"
   },
   {
    "duration": 54,
    "start_time": "2021-11-18T15:16:37.789Z"
   },
   {
    "duration": 10,
    "start_time": "2021-11-18T15:16:37.846Z"
   },
   {
    "duration": 11,
    "start_time": "2021-11-18T15:16:37.859Z"
   },
   {
    "duration": 108,
    "start_time": "2021-11-18T15:16:37.873Z"
   },
   {
    "duration": 16,
    "start_time": "2021-11-18T15:16:37.986Z"
   },
   {
    "duration": 60,
    "start_time": "2021-11-18T15:16:38.005Z"
   },
   {
    "duration": 10610,
    "start_time": "2021-11-18T15:16:38.068Z"
   },
   {
    "duration": -111,
    "start_time": "2021-11-18T15:16:48.791Z"
   },
   {
    "duration": -116,
    "start_time": "2021-11-18T15:16:48.798Z"
   },
   {
    "duration": -154,
    "start_time": "2021-11-18T15:16:59.035Z"
   },
   {
    "duration": 13355,
    "start_time": "2021-11-18T15:18:07.700Z"
   },
   {
    "duration": 849,
    "start_time": "2021-11-18T15:18:31.413Z"
   },
   {
    "duration": 13,
    "start_time": "2021-11-18T15:18:32.265Z"
   },
   {
    "duration": 50,
    "start_time": "2021-11-18T15:18:32.282Z"
   },
   {
    "duration": 20,
    "start_time": "2021-11-18T15:18:32.335Z"
   },
   {
    "duration": 11,
    "start_time": "2021-11-18T15:18:32.358Z"
   },
   {
    "duration": 26,
    "start_time": "2021-11-18T15:18:32.372Z"
   },
   {
    "duration": 74,
    "start_time": "2021-11-18T15:18:32.401Z"
   },
   {
    "duration": 13,
    "start_time": "2021-11-18T15:18:32.478Z"
   },
   {
    "duration": 61,
    "start_time": "2021-11-18T15:18:32.494Z"
   },
   {
    "duration": 9964,
    "start_time": "2021-11-18T15:18:32.557Z"
   },
   {
    "duration": 35,
    "start_time": "2021-11-18T15:18:42.523Z"
   },
   {
    "duration": 15,
    "start_time": "2021-11-18T15:18:42.560Z"
   },
   {
    "duration": 9862,
    "start_time": "2021-11-18T15:19:13.314Z"
   },
   {
    "duration": 10502,
    "start_time": "2021-11-18T15:20:01.735Z"
   },
   {
    "duration": 10029,
    "start_time": "2021-11-18T15:26:18.066Z"
   },
   {
    "duration": 10020,
    "start_time": "2021-11-18T15:26:55.025Z"
   },
   {
    "duration": 10329,
    "start_time": "2021-11-18T15:28:30.155Z"
   },
   {
    "duration": 34,
    "start_time": "2021-11-18T15:29:22.100Z"
   },
   {
    "duration": 16,
    "start_time": "2021-11-18T15:29:29.460Z"
   },
   {
    "duration": 10282,
    "start_time": "2021-11-18T15:30:48.178Z"
   },
   {
    "duration": 53,
    "start_time": "2021-11-18T15:38:01.695Z"
   },
   {
    "duration": 22,
    "start_time": "2021-11-18T15:39:29.854Z"
   },
   {
    "duration": 789,
    "start_time": "2021-11-18T15:42:28.870Z"
   },
   {
    "duration": 13,
    "start_time": "2021-11-18T15:42:29.661Z"
   },
   {
    "duration": 53,
    "start_time": "2021-11-18T15:42:29.677Z"
   },
   {
    "duration": 21,
    "start_time": "2021-11-18T15:42:29.733Z"
   },
   {
    "duration": 10,
    "start_time": "2021-11-18T15:42:29.756Z"
   },
   {
    "duration": 9,
    "start_time": "2021-11-18T15:42:29.768Z"
   },
   {
    "duration": 93,
    "start_time": "2021-11-18T15:42:29.780Z"
   },
   {
    "duration": 15,
    "start_time": "2021-11-18T15:42:29.875Z"
   },
   {
    "duration": 63,
    "start_time": "2021-11-18T15:42:29.894Z"
   },
   {
    "duration": 9938,
    "start_time": "2021-11-18T15:42:29.960Z"
   },
   {
    "duration": 40,
    "start_time": "2021-11-18T15:42:39.901Z"
   },
   {
    "duration": 33,
    "start_time": "2021-11-18T15:42:39.944Z"
   },
   {
    "duration": 52,
    "start_time": "2021-11-18T15:42:39.980Z"
   },
   {
    "duration": 373,
    "start_time": "2021-11-18T15:44:34.232Z"
   },
   {
    "duration": 787,
    "start_time": "2021-11-18T15:44:48.770Z"
   },
   {
    "duration": 11,
    "start_time": "2021-11-18T15:44:49.560Z"
   },
   {
    "duration": 26,
    "start_time": "2021-11-18T15:44:49.574Z"
   },
   {
    "duration": 43,
    "start_time": "2021-11-18T15:44:49.603Z"
   },
   {
    "duration": 10,
    "start_time": "2021-11-18T15:44:49.649Z"
   },
   {
    "duration": 9,
    "start_time": "2021-11-18T15:44:49.662Z"
   },
   {
    "duration": 90,
    "start_time": "2021-11-18T15:44:49.673Z"
   },
   {
    "duration": 13,
    "start_time": "2021-11-18T15:44:49.766Z"
   },
   {
    "duration": 49,
    "start_time": "2021-11-18T15:44:49.782Z"
   },
   {
    "duration": 10254,
    "start_time": "2021-11-18T15:44:49.834Z"
   },
   {
    "duration": 39,
    "start_time": "2021-11-18T15:45:00.090Z"
   },
   {
    "duration": 36,
    "start_time": "2021-11-18T15:45:00.131Z"
   },
   {
    "duration": 16,
    "start_time": "2021-11-18T15:45:00.169Z"
   },
   {
    "duration": 480,
    "start_time": "2021-11-18T15:46:30.312Z"
   },
   {
    "duration": 826,
    "start_time": "2021-11-18T15:46:39.140Z"
   },
   {
    "duration": 12,
    "start_time": "2021-11-18T15:46:39.968Z"
   },
   {
    "duration": 46,
    "start_time": "2021-11-18T15:46:39.983Z"
   },
   {
    "duration": 35,
    "start_time": "2021-11-18T15:46:40.032Z"
   },
   {
    "duration": 18,
    "start_time": "2021-11-18T15:46:40.069Z"
   },
   {
    "duration": 34,
    "start_time": "2021-11-18T15:46:40.090Z"
   },
   {
    "duration": 73,
    "start_time": "2021-11-18T15:46:40.127Z"
   },
   {
    "duration": 14,
    "start_time": "2021-11-18T15:46:40.203Z"
   },
   {
    "duration": 58,
    "start_time": "2021-11-18T15:46:40.219Z"
   },
   {
    "duration": 9454,
    "start_time": "2021-11-18T15:46:40.279Z"
   },
   {
    "duration": 23,
    "start_time": "2021-11-18T15:46:49.736Z"
   },
   {
    "duration": 31,
    "start_time": "2021-11-18T15:46:49.762Z"
   },
   {
    "duration": 44,
    "start_time": "2021-11-18T15:46:49.796Z"
   },
   {
    "duration": 371,
    "start_time": "2021-11-18T16:03:55.003Z"
   },
   {
    "duration": 286,
    "start_time": "2021-11-18T16:04:04.225Z"
   },
   {
    "duration": 852,
    "start_time": "2021-11-18T16:04:16.221Z"
   },
   {
    "duration": 12,
    "start_time": "2021-11-18T16:04:17.076Z"
   },
   {
    "duration": 52,
    "start_time": "2021-11-18T16:04:17.090Z"
   },
   {
    "duration": 21,
    "start_time": "2021-11-18T16:04:17.144Z"
   },
   {
    "duration": 9,
    "start_time": "2021-11-18T16:04:17.167Z"
   },
   {
    "duration": 16,
    "start_time": "2021-11-18T16:04:17.178Z"
   },
   {
    "duration": 86,
    "start_time": "2021-11-18T16:04:17.196Z"
   },
   {
    "duration": 13,
    "start_time": "2021-11-18T16:04:17.285Z"
   },
   {
    "duration": 66,
    "start_time": "2021-11-18T16:04:17.301Z"
   },
   {
    "duration": 9465,
    "start_time": "2021-11-18T16:04:17.370Z"
   },
   {
    "duration": 23,
    "start_time": "2021-11-18T16:04:26.837Z"
   },
   {
    "duration": 37,
    "start_time": "2021-11-18T16:04:26.862Z"
   },
   {
    "duration": 41,
    "start_time": "2021-11-18T16:04:26.901Z"
   },
   {
    "duration": 23,
    "start_time": "2021-11-18T16:06:23.082Z"
   },
   {
    "duration": 31,
    "start_time": "2021-11-18T16:06:52.877Z"
   },
   {
    "duration": 16,
    "start_time": "2021-11-18T16:14:56.818Z"
   },
   {
    "duration": 38,
    "start_time": "2021-11-18T16:15:23.978Z"
   },
   {
    "duration": 2418,
    "start_time": "2021-11-18T16:16:16.308Z"
   },
   {
    "duration": 827,
    "start_time": "2021-11-18T16:16:27.188Z"
   },
   {
    "duration": 19,
    "start_time": "2021-11-18T16:16:28.018Z"
   },
   {
    "duration": 27,
    "start_time": "2021-11-18T16:16:28.041Z"
   },
   {
    "duration": 57,
    "start_time": "2021-11-18T16:16:28.072Z"
   },
   {
    "duration": 11,
    "start_time": "2021-11-18T16:16:28.132Z"
   },
   {
    "duration": 11,
    "start_time": "2021-11-18T16:16:28.146Z"
   },
   {
    "duration": 90,
    "start_time": "2021-11-18T16:16:28.160Z"
   },
   {
    "duration": 15,
    "start_time": "2021-11-18T16:16:28.256Z"
   },
   {
    "duration": 72,
    "start_time": "2021-11-18T16:16:28.274Z"
   },
   {
    "duration": 9758,
    "start_time": "2021-11-18T16:16:28.348Z"
   },
   {
    "duration": 32,
    "start_time": "2021-11-18T16:16:38.108Z"
   },
   {
    "duration": 33,
    "start_time": "2021-11-18T16:16:38.143Z"
   },
   {
    "duration": 43,
    "start_time": "2021-11-18T16:16:38.178Z"
   },
   {
    "duration": 2321,
    "start_time": "2021-11-18T16:16:38.228Z"
   },
   {
    "duration": 17,
    "start_time": "2021-11-18T16:17:31.272Z"
   },
   {
    "duration": 13242,
    "start_time": "2021-11-18T16:21:47.861Z"
   },
   {
    "duration": -135,
    "start_time": "2021-11-18T16:22:01.241Z"
   },
   {
    "duration": 812,
    "start_time": "2021-11-18T16:22:12.662Z"
   },
   {
    "duration": 13,
    "start_time": "2021-11-18T16:22:13.476Z"
   },
   {
    "duration": 41,
    "start_time": "2021-11-18T16:22:13.492Z"
   },
   {
    "duration": 21,
    "start_time": "2021-11-18T16:22:13.536Z"
   },
   {
    "duration": 14,
    "start_time": "2021-11-18T16:22:13.559Z"
   },
   {
    "duration": 9,
    "start_time": "2021-11-18T16:22:13.576Z"
   },
   {
    "duration": 87,
    "start_time": "2021-11-18T16:22:13.587Z"
   },
   {
    "duration": 13,
    "start_time": "2021-11-18T16:22:13.676Z"
   },
   {
    "duration": 63,
    "start_time": "2021-11-18T16:22:13.692Z"
   },
   {
    "duration": 11819,
    "start_time": "2021-11-18T16:22:13.757Z"
   },
   {
    "duration": -399,
    "start_time": "2021-11-18T16:22:25.978Z"
   },
   {
    "duration": -412,
    "start_time": "2021-11-18T16:22:25.992Z"
   },
   {
    "duration": -417,
    "start_time": "2021-11-18T16:22:25.998Z"
   },
   {
    "duration": -425,
    "start_time": "2021-11-18T16:22:26.007Z"
   },
   {
    "duration": -427,
    "start_time": "2021-11-18T16:22:26.011Z"
   },
   {
    "duration": 10196,
    "start_time": "2021-11-18T16:23:45.948Z"
   },
   {
    "duration": 283,
    "start_time": "2021-11-18T16:24:49.997Z"
   },
   {
    "duration": 973,
    "start_time": "2021-11-18T16:25:11.532Z"
   },
   {
    "duration": 22,
    "start_time": "2021-11-18T16:25:12.508Z"
   },
   {
    "duration": 41,
    "start_time": "2021-11-18T16:25:12.535Z"
   },
   {
    "duration": 23,
    "start_time": "2021-11-18T16:25:12.580Z"
   },
   {
    "duration": 32,
    "start_time": "2021-11-18T16:25:12.606Z"
   },
   {
    "duration": 44,
    "start_time": "2021-11-18T16:25:12.641Z"
   },
   {
    "duration": 69,
    "start_time": "2021-11-18T16:25:12.688Z"
   },
   {
    "duration": 14,
    "start_time": "2021-11-18T16:25:12.759Z"
   },
   {
    "duration": 60,
    "start_time": "2021-11-18T16:25:12.777Z"
   },
   {
    "duration": 9722,
    "start_time": "2021-11-18T16:25:12.840Z"
   },
   {
    "duration": 22,
    "start_time": "2021-11-18T16:25:22.564Z"
   },
   {
    "duration": 41,
    "start_time": "2021-11-18T16:25:22.590Z"
   },
   {
    "duration": 33,
    "start_time": "2021-11-18T16:25:22.634Z"
   },
   {
    "duration": 16,
    "start_time": "2021-11-18T16:25:22.670Z"
   },
   {
    "duration": 2035,
    "start_time": "2021-11-18T16:25:22.689Z"
   },
   {
    "duration": 37,
    "start_time": "2021-11-18T16:30:49.752Z"
   },
   {
    "duration": 858,
    "start_time": "2021-11-18T16:30:59.305Z"
   },
   {
    "duration": 15,
    "start_time": "2021-11-18T16:31:00.167Z"
   },
   {
    "duration": 58,
    "start_time": "2021-11-18T16:31:00.186Z"
   },
   {
    "duration": 35,
    "start_time": "2021-11-18T16:31:00.247Z"
   },
   {
    "duration": 37,
    "start_time": "2021-11-18T16:31:00.284Z"
   },
   {
    "duration": 27,
    "start_time": "2021-11-18T16:31:00.323Z"
   },
   {
    "duration": 70,
    "start_time": "2021-11-18T16:31:00.353Z"
   },
   {
    "duration": 14,
    "start_time": "2021-11-18T16:31:00.426Z"
   },
   {
    "duration": 47,
    "start_time": "2021-11-18T16:31:00.442Z"
   },
   {
    "duration": 9789,
    "start_time": "2021-11-18T16:31:00.491Z"
   },
   {
    "duration": 22,
    "start_time": "2021-11-18T16:31:10.282Z"
   },
   {
    "duration": 32,
    "start_time": "2021-11-18T16:31:10.307Z"
   },
   {
    "duration": 37,
    "start_time": "2021-11-18T16:31:10.342Z"
   },
   {
    "duration": 47,
    "start_time": "2021-11-18T16:31:10.382Z"
   },
   {
    "duration": 1930,
    "start_time": "2021-11-18T16:31:10.432Z"
   },
   {
    "duration": 17,
    "start_time": "2021-11-18T16:33:00.348Z"
   },
   {
    "duration": 24,
    "start_time": "2021-11-18T16:34:35.967Z"
   },
   {
    "duration": 24,
    "start_time": "2021-11-18T16:34:51.338Z"
   },
   {
    "duration": 289,
    "start_time": "2021-11-18T16:35:08.707Z"
   },
   {
    "duration": 23,
    "start_time": "2021-11-18T16:35:17.480Z"
   },
   {
    "duration": 49,
    "start_time": "2021-11-18T16:37:44.348Z"
   },
   {
    "duration": 38,
    "start_time": "2021-11-18T16:39:17.387Z"
   },
   {
    "duration": 17,
    "start_time": "2021-11-18T16:39:23.958Z"
   },
   {
    "duration": 95,
    "start_time": "2021-11-18T16:43:02.214Z"
   },
   {
    "duration": 316,
    "start_time": "2021-11-18T16:43:08.820Z"
   },
   {
    "duration": 304,
    "start_time": "2021-11-18T16:43:31.343Z"
   },
   {
    "duration": 320,
    "start_time": "2021-11-18T16:43:42.857Z"
   },
   {
    "duration": 335,
    "start_time": "2021-11-18T16:43:57.585Z"
   },
   {
    "duration": 328,
    "start_time": "2021-11-18T16:44:01.498Z"
   },
   {
    "duration": 414,
    "start_time": "2021-11-18T16:45:17.254Z"
   },
   {
    "duration": 330,
    "start_time": "2021-11-18T16:48:43.222Z"
   },
   {
    "duration": 850,
    "start_time": "2021-11-18T16:48:53.468Z"
   },
   {
    "duration": 16,
    "start_time": "2021-11-18T16:48:54.320Z"
   },
   {
    "duration": 32,
    "start_time": "2021-11-18T16:48:54.339Z"
   },
   {
    "duration": 59,
    "start_time": "2021-11-18T16:48:54.374Z"
   },
   {
    "duration": 9,
    "start_time": "2021-11-18T16:48:54.435Z"
   },
   {
    "duration": 26,
    "start_time": "2021-11-18T16:48:54.446Z"
   },
   {
    "duration": 77,
    "start_time": "2021-11-18T16:48:54.474Z"
   },
   {
    "duration": 20,
    "start_time": "2021-11-18T16:48:54.554Z"
   },
   {
    "duration": 53,
    "start_time": "2021-11-18T16:48:54.577Z"
   },
   {
    "duration": 10176,
    "start_time": "2021-11-18T16:48:54.633Z"
   },
   {
    "duration": 31,
    "start_time": "2021-11-18T16:49:04.811Z"
   },
   {
    "duration": 27,
    "start_time": "2021-11-18T16:49:04.845Z"
   },
   {
    "duration": 424,
    "start_time": "2021-11-18T16:49:04.875Z"
   },
   {
    "duration": -276,
    "start_time": "2021-11-18T16:49:05.577Z"
   },
   {
    "duration": -288,
    "start_time": "2021-11-18T16:49:05.592Z"
   },
   {
    "duration": -291,
    "start_time": "2021-11-18T16:49:05.597Z"
   },
   {
    "duration": 306,
    "start_time": "2021-11-18T16:50:20.035Z"
   },
   {
    "duration": 833,
    "start_time": "2021-11-18T16:57:45.077Z"
   },
   {
    "duration": 28,
    "start_time": "2021-11-18T16:57:45.913Z"
   },
   {
    "duration": 42,
    "start_time": "2021-11-18T16:57:45.944Z"
   },
   {
    "duration": 56,
    "start_time": "2021-11-18T16:57:45.989Z"
   },
   {
    "duration": 10,
    "start_time": "2021-11-18T16:57:46.047Z"
   },
   {
    "duration": 21,
    "start_time": "2021-11-18T16:57:46.060Z"
   },
   {
    "duration": 87,
    "start_time": "2021-11-18T16:57:46.083Z"
   },
   {
    "duration": 23,
    "start_time": "2021-11-18T16:57:46.174Z"
   },
   {
    "duration": 55,
    "start_time": "2021-11-18T16:57:46.200Z"
   },
   {
    "duration": 9794,
    "start_time": "2021-11-18T16:57:46.257Z"
   },
   {
    "duration": 26,
    "start_time": "2021-11-18T16:57:56.053Z"
   },
   {
    "duration": 23,
    "start_time": "2021-11-18T16:57:56.081Z"
   },
   {
    "duration": 486,
    "start_time": "2021-11-18T16:57:56.130Z"
   },
   {
    "duration": -82,
    "start_time": "2021-11-18T16:57:56.701Z"
   },
   {
    "duration": -85,
    "start_time": "2021-11-18T16:57:56.706Z"
   },
   {
    "duration": -94,
    "start_time": "2021-11-18T16:57:56.717Z"
   },
   {
    "duration": 332,
    "start_time": "2021-11-18T18:08:36.011Z"
   },
   {
    "duration": 48,
    "start_time": "2021-11-18T18:09:03.911Z"
   },
   {
    "duration": 35,
    "start_time": "2021-11-18T18:09:07.185Z"
   },
   {
    "duration": 28,
    "start_time": "2021-11-18T18:09:15.262Z"
   },
   {
    "duration": 794,
    "start_time": "2021-11-18T18:09:48.069Z"
   },
   {
    "duration": 14,
    "start_time": "2021-11-18T18:09:48.867Z"
   },
   {
    "duration": 46,
    "start_time": "2021-11-18T18:09:48.885Z"
   },
   {
    "duration": 36,
    "start_time": "2021-11-18T18:09:48.934Z"
   },
   {
    "duration": 10,
    "start_time": "2021-11-18T18:09:48.973Z"
   },
   {
    "duration": 44,
    "start_time": "2021-11-18T18:09:48.985Z"
   },
   {
    "duration": 111,
    "start_time": "2021-11-18T18:09:49.032Z"
   },
   {
    "duration": 13,
    "start_time": "2021-11-18T18:09:49.146Z"
   },
   {
    "duration": 61,
    "start_time": "2021-11-18T18:09:49.162Z"
   },
   {
    "duration": 12374,
    "start_time": "2021-11-18T18:09:49.230Z"
   },
   {
    "duration": 33,
    "start_time": "2021-11-18T18:10:01.607Z"
   },
   {
    "duration": 58,
    "start_time": "2021-11-18T18:10:01.642Z"
   },
   {
    "duration": 60,
    "start_time": "2021-11-18T18:10:01.703Z"
   },
   {
    "duration": 39,
    "start_time": "2021-11-18T18:10:01.766Z"
   },
   {
    "duration": 33,
    "start_time": "2021-11-18T18:10:01.808Z"
   },
   {
    "duration": 39,
    "start_time": "2021-11-18T18:10:01.843Z"
   },
   {
    "duration": 18,
    "start_time": "2021-11-18T18:10:55.154Z"
   },
   {
    "duration": 18,
    "start_time": "2021-11-18T18:11:00.273Z"
   },
   {
    "duration": 17,
    "start_time": "2021-11-18T18:11:56.581Z"
   },
   {
    "duration": 3,
    "start_time": "2021-11-18T18:12:30.388Z"
   },
   {
    "duration": 21,
    "start_time": "2021-11-18T18:13:03.139Z"
   },
   {
    "duration": 29,
    "start_time": "2021-11-18T18:13:37.149Z"
   },
   {
    "duration": 29,
    "start_time": "2021-11-18T18:14:36.709Z"
   },
   {
    "duration": 33,
    "start_time": "2021-11-18T18:16:17.660Z"
   },
   {
    "duration": 58,
    "start_time": "2021-11-18T18:16:58.189Z"
   },
   {
    "duration": 49,
    "start_time": "2021-11-18T18:30:11.855Z"
   },
   {
    "duration": 829,
    "start_time": "2021-11-18T18:30:28.342Z"
   },
   {
    "duration": 12,
    "start_time": "2021-11-18T18:30:29.173Z"
   },
   {
    "duration": 51,
    "start_time": "2021-11-18T18:30:29.187Z"
   },
   {
    "duration": 38,
    "start_time": "2021-11-18T18:30:29.241Z"
   },
   {
    "duration": 15,
    "start_time": "2021-11-18T18:30:29.281Z"
   },
   {
    "duration": 32,
    "start_time": "2021-11-18T18:30:29.298Z"
   },
   {
    "duration": 69,
    "start_time": "2021-11-18T18:30:29.333Z"
   },
   {
    "duration": 25,
    "start_time": "2021-11-18T18:30:29.405Z"
   },
   {
    "duration": 51,
    "start_time": "2021-11-18T18:30:29.433Z"
   },
   {
    "duration": 10201,
    "start_time": "2021-11-18T18:30:29.486Z"
   },
   {
    "duration": 40,
    "start_time": "2021-11-18T18:30:39.690Z"
   },
   {
    "duration": 23,
    "start_time": "2021-11-18T18:30:39.732Z"
   },
   {
    "duration": 39,
    "start_time": "2021-11-18T18:30:39.757Z"
   },
   {
    "duration": 58,
    "start_time": "2021-11-18T18:30:39.798Z"
   },
   {
    "duration": 16,
    "start_time": "2021-11-18T18:30:39.859Z"
   },
   {
    "duration": 52,
    "start_time": "2021-11-18T18:30:39.877Z"
   },
   {
    "duration": 51,
    "start_time": "2021-11-18T18:30:39.931Z"
   },
   {
    "duration": 77,
    "start_time": "2021-11-18T18:30:39.985Z"
   },
   {
    "duration": 50,
    "start_time": "2021-11-18T18:31:41.679Z"
   },
   {
    "duration": 27,
    "start_time": "2021-11-18T18:31:52.625Z"
   },
   {
    "duration": 7,
    "start_time": "2021-11-18T18:58:26.536Z"
   },
   {
    "duration": 380,
    "start_time": "2021-11-18T18:58:47.778Z"
   },
   {
    "duration": 262,
    "start_time": "2021-11-18T18:58:54.120Z"
   },
   {
    "duration": 275,
    "start_time": "2021-11-18T18:59:02.847Z"
   },
   {
    "duration": 31,
    "start_time": "2021-11-18T18:59:52.471Z"
   },
   {
    "duration": 23,
    "start_time": "2021-11-18T19:00:54.397Z"
   },
   {
    "duration": 1836,
    "start_time": "2021-11-18T19:02:19.310Z"
   },
   {
    "duration": 763,
    "start_time": "2021-11-18T19:02:50.544Z"
   },
   {
    "duration": 99,
    "start_time": "2021-11-18T19:02:51.310Z"
   },
   {
    "duration": 18,
    "start_time": "2021-11-18T19:02:51.412Z"
   },
   {
    "duration": 49,
    "start_time": "2021-11-18T19:02:51.434Z"
   },
   {
    "duration": 35,
    "start_time": "2021-11-18T19:02:51.485Z"
   },
   {
    "duration": 25,
    "start_time": "2021-11-18T19:02:51.530Z"
   },
   {
    "duration": 24,
    "start_time": "2021-11-18T19:02:51.558Z"
   },
   {
    "duration": 114,
    "start_time": "2021-11-18T19:02:51.584Z"
   },
   {
    "duration": 28,
    "start_time": "2021-11-18T19:02:51.703Z"
   },
   {
    "duration": 48,
    "start_time": "2021-11-18T19:02:51.735Z"
   },
   {
    "duration": 11055,
    "start_time": "2021-11-18T19:02:51.786Z"
   },
   {
    "duration": 23,
    "start_time": "2021-11-18T19:03:02.843Z"
   },
   {
    "duration": 36,
    "start_time": "2021-11-18T19:03:02.869Z"
   },
   {
    "duration": 83,
    "start_time": "2021-11-18T19:03:02.907Z"
   },
   {
    "duration": 51,
    "start_time": "2021-11-18T19:03:02.994Z"
   },
   {
    "duration": 18,
    "start_time": "2021-11-18T19:03:03.047Z"
   },
   {
    "duration": 30,
    "start_time": "2021-11-18T19:03:03.067Z"
   },
   {
    "duration": 54,
    "start_time": "2021-11-18T19:03:03.100Z"
   },
   {
    "duration": 78,
    "start_time": "2021-11-18T19:03:03.156Z"
   },
   {
    "duration": 26,
    "start_time": "2021-11-18T19:03:03.236Z"
   },
   {
    "duration": 26,
    "start_time": "2021-11-18T19:03:17.628Z"
   },
   {
    "duration": 47,
    "start_time": "2021-11-18T19:03:32.338Z"
   },
   {
    "duration": 46,
    "start_time": "2021-11-18T19:04:01.929Z"
   },
   {
    "duration": 4,
    "start_time": "2021-11-18T19:08:03.229Z"
   },
   {
    "duration": 418,
    "start_time": "2021-11-18T19:08:56.628Z"
   },
   {
    "duration": 314,
    "start_time": "2021-11-18T19:09:20.217Z"
   },
   {
    "duration": 1278,
    "start_time": "2021-11-18T19:10:18.012Z"
   },
   {
    "duration": 331,
    "start_time": "2021-11-18T19:10:42.258Z"
   },
   {
    "duration": 985,
    "start_time": "2021-11-18T19:10:56.489Z"
   },
   {
    "duration": 334,
    "start_time": "2021-11-18T19:11:40.635Z"
   },
   {
    "duration": 979,
    "start_time": "2021-11-18T19:12:00.371Z"
   },
   {
    "duration": 1026,
    "start_time": "2021-11-18T19:13:02.511Z"
   },
   {
    "duration": 1006,
    "start_time": "2021-11-18T19:13:16.114Z"
   },
   {
    "duration": 1012,
    "start_time": "2021-11-18T19:13:28.042Z"
   },
   {
    "duration": 347,
    "start_time": "2021-11-18T19:19:42.314Z"
   },
   {
    "duration": 534,
    "start_time": "2021-11-18T19:19:55.829Z"
   },
   {
    "duration": 364,
    "start_time": "2021-11-18T19:21:06.648Z"
   },
   {
    "duration": 294,
    "start_time": "2021-11-18T19:21:26.064Z"
   },
   {
    "duration": 660,
    "start_time": "2021-11-18T19:27:52.389Z"
   },
   {
    "duration": 1039,
    "start_time": "2021-11-18T19:28:21.287Z"
   },
   {
    "duration": 1104,
    "start_time": "2021-11-18T19:35:17.258Z"
   },
   {
    "duration": 292,
    "start_time": "2021-11-18T19:35:41.805Z"
   },
   {
    "duration": 1641,
    "start_time": "2021-11-18T19:35:59.875Z"
   },
   {
    "duration": 1222,
    "start_time": "2021-11-18T19:36:56.445Z"
   },
   {
    "duration": 1223,
    "start_time": "2021-11-18T19:37:08.286Z"
   },
   {
    "duration": 5921,
    "start_time": "2021-11-18T19:38:51.431Z"
   },
   {
    "duration": 22,
    "start_time": "2021-11-18T19:39:20.747Z"
   },
   {
    "duration": 6198,
    "start_time": "2021-11-18T19:40:08.247Z"
   },
   {
    "duration": 26,
    "start_time": "2021-11-18T19:40:14.449Z"
   },
   {
    "duration": 1570,
    "start_time": "2021-11-18T19:42:26.018Z"
   },
   {
    "duration": 6259,
    "start_time": "2021-11-18T19:42:41.948Z"
   },
   {
    "duration": 25,
    "start_time": "2021-11-18T19:42:48.360Z"
   },
   {
    "duration": 6108,
    "start_time": "2021-11-18T19:43:13.056Z"
   },
   {
    "duration": 23,
    "start_time": "2021-11-18T19:43:19.167Z"
   },
   {
    "duration": 6310,
    "start_time": "2021-11-18T19:43:41.518Z"
   },
   {
    "duration": 6444,
    "start_time": "2021-11-18T19:43:54.173Z"
   },
   {
    "duration": 20,
    "start_time": "2021-11-18T20:02:39.392Z"
   },
   {
    "duration": 36,
    "start_time": "2021-11-18T20:02:42.445Z"
   },
   {
    "duration": 17,
    "start_time": "2021-11-18T20:02:46.849Z"
   },
   {
    "duration": 1915,
    "start_time": "2021-11-18T20:02:50.232Z"
   },
   {
    "duration": 39,
    "start_time": "2021-11-18T20:03:03.740Z"
   },
   {
    "duration": 766,
    "start_time": "2021-11-18T20:03:11.921Z"
   },
   {
    "duration": 99,
    "start_time": "2021-11-18T20:03:12.690Z"
   },
   {
    "duration": 13,
    "start_time": "2021-11-18T20:03:12.793Z"
   },
   {
    "duration": 44,
    "start_time": "2021-11-18T20:03:12.809Z"
   },
   {
    "duration": 36,
    "start_time": "2021-11-18T20:03:12.855Z"
   },
   {
    "duration": 46,
    "start_time": "2021-11-18T20:03:12.893Z"
   },
   {
    "duration": 21,
    "start_time": "2021-11-18T20:03:12.942Z"
   },
   {
    "duration": 78,
    "start_time": "2021-11-18T20:03:12.967Z"
   },
   {
    "duration": 14,
    "start_time": "2021-11-18T20:03:13.048Z"
   },
   {
    "duration": 62,
    "start_time": "2021-11-18T20:03:13.064Z"
   },
   {
    "duration": 9472,
    "start_time": "2021-11-18T20:03:13.128Z"
   },
   {
    "duration": 31,
    "start_time": "2021-11-18T20:03:22.602Z"
   },
   {
    "duration": 28,
    "start_time": "2021-11-18T20:03:22.635Z"
   },
   {
    "duration": 43,
    "start_time": "2021-11-18T20:03:22.665Z"
   },
   {
    "duration": 55,
    "start_time": "2021-11-18T20:03:22.710Z"
   },
   {
    "duration": 16,
    "start_time": "2021-11-18T20:03:22.768Z"
   },
   {
    "duration": 51,
    "start_time": "2021-11-18T20:03:22.787Z"
   },
   {
    "duration": 27,
    "start_time": "2021-11-18T20:03:22.840Z"
   },
   {
    "duration": 84,
    "start_time": "2021-11-18T20:03:22.869Z"
   },
   {
    "duration": 5790,
    "start_time": "2021-11-18T20:03:22.955Z"
   },
   {
    "duration": 5657,
    "start_time": "2021-11-18T20:05:19.507Z"
   },
   {
    "duration": 5539,
    "start_time": "2021-11-18T20:07:39.225Z"
   },
   {
    "duration": 6140,
    "start_time": "2021-11-18T20:08:32.241Z"
   },
   {
    "duration": 5631,
    "start_time": "2021-11-18T20:09:26.855Z"
   },
   {
    "duration": 5655,
    "start_time": "2021-11-18T20:11:26.265Z"
   },
   {
    "duration": 97,
    "start_time": "2021-11-18T20:11:34.556Z"
   },
   {
    "duration": 5923,
    "start_time": "2021-11-18T20:11:43.535Z"
   },
   {
    "duration": 5748,
    "start_time": "2021-11-18T20:11:49.825Z"
   },
   {
    "duration": 5655,
    "start_time": "2021-11-18T20:12:04.436Z"
   },
   {
    "duration": 6013,
    "start_time": "2021-11-18T20:17:44.345Z"
   },
   {
    "duration": 6216,
    "start_time": "2021-11-18T20:33:19.192Z"
   },
   {
    "duration": 6160,
    "start_time": "2021-11-18T20:35:56.903Z"
   },
   {
    "duration": 8270,
    "start_time": "2021-11-18T20:38:08.852Z"
   },
   {
    "duration": 6004,
    "start_time": "2021-11-18T20:38:26.742Z"
   },
   {
    "duration": 2555,
    "start_time": "2021-11-18T20:38:44.368Z"
   },
   {
    "duration": 8278,
    "start_time": "2021-11-18T20:38:56.478Z"
   },
   {
    "duration": 6317,
    "start_time": "2021-11-18T20:39:24.342Z"
   },
   {
    "duration": 6158,
    "start_time": "2021-11-18T20:39:55.386Z"
   },
   {
    "duration": 6151,
    "start_time": "2021-11-18T20:42:47.578Z"
   },
   {
    "duration": 5946,
    "start_time": "2021-11-18T20:48:54.350Z"
   },
   {
    "duration": 6238,
    "start_time": "2021-11-18T20:50:38.712Z"
   },
   {
    "duration": 6076,
    "start_time": "2021-11-18T20:51:12.033Z"
   },
   {
    "duration": 6176,
    "start_time": "2021-11-18T20:51:34.886Z"
   },
   {
    "duration": 6398,
    "start_time": "2021-11-18T20:52:37.133Z"
   },
   {
    "duration": 6103,
    "start_time": "2021-11-18T20:53:35.649Z"
   },
   {
    "duration": 111,
    "start_time": "2021-11-18T20:54:12.000Z"
   },
   {
    "duration": 6193,
    "start_time": "2021-11-18T20:54:15.258Z"
   },
   {
    "duration": 6299,
    "start_time": "2021-11-18T20:56:17.979Z"
   },
   {
    "duration": 6263,
    "start_time": "2021-11-18T20:57:49.869Z"
   },
   {
    "duration": 6225,
    "start_time": "2021-11-18T20:58:24.518Z"
   },
   {
    "duration": 7,
    "start_time": "2021-11-18T21:13:41.306Z"
   },
   {
    "duration": 15,
    "start_time": "2021-11-18T21:13:52.093Z"
   },
   {
    "duration": 15,
    "start_time": "2021-11-18T21:14:22.584Z"
   },
   {
    "duration": 5969,
    "start_time": "2021-11-18T21:15:05.120Z"
   },
   {
    "duration": 5913,
    "start_time": "2021-11-18T21:16:45.858Z"
   },
   {
    "duration": 6013,
    "start_time": "2021-11-18T21:17:21.389Z"
   },
   {
    "duration": 7524,
    "start_time": "2021-11-18T21:18:09.268Z"
   },
   {
    "duration": 6022,
    "start_time": "2021-11-18T21:19:03.319Z"
   },
   {
    "duration": 5858,
    "start_time": "2021-11-18T21:19:53.225Z"
   },
   {
    "duration": 14,
    "start_time": "2021-11-18T21:20:10.790Z"
   },
   {
    "duration": 114,
    "start_time": "2021-11-18T21:20:31.359Z"
   },
   {
    "duration": 105,
    "start_time": "2021-11-18T21:20:53.699Z"
   },
   {
    "duration": 87,
    "start_time": "2021-11-18T21:21:06.238Z"
   },
   {
    "duration": 117,
    "start_time": "2021-11-18T21:21:12.748Z"
   },
   {
    "duration": 299,
    "start_time": "2021-11-18T21:25:02.758Z"
   },
   {
    "duration": 6,
    "start_time": "2021-11-18T21:26:28.729Z"
   },
   {
    "duration": 8,
    "start_time": "2021-11-18T21:32:03.481Z"
   },
   {
    "duration": 7,
    "start_time": "2021-11-18T21:33:02.171Z"
   },
   {
    "duration": 728,
    "start_time": "2021-11-18T21:36:18.880Z"
   },
   {
    "duration": 97,
    "start_time": "2021-11-18T21:36:19.611Z"
   },
   {
    "duration": 24,
    "start_time": "2021-11-18T21:36:19.711Z"
   },
   {
    "duration": 26,
    "start_time": "2021-11-18T21:36:19.738Z"
   },
   {
    "duration": 34,
    "start_time": "2021-11-18T21:36:19.766Z"
   },
   {
    "duration": 10,
    "start_time": "2021-11-18T21:36:19.829Z"
   },
   {
    "duration": 11,
    "start_time": "2021-11-18T21:36:19.841Z"
   },
   {
    "duration": 86,
    "start_time": "2021-11-18T21:36:19.855Z"
   },
   {
    "duration": 14,
    "start_time": "2021-11-18T21:36:19.943Z"
   },
   {
    "duration": 34,
    "start_time": "2021-11-18T21:36:19.959Z"
   },
   {
    "duration": 9772,
    "start_time": "2021-11-18T21:36:19.995Z"
   },
   {
    "duration": 25,
    "start_time": "2021-11-18T21:36:29.769Z"
   },
   {
    "duration": 52,
    "start_time": "2021-11-18T21:36:29.797Z"
   },
   {
    "duration": 42,
    "start_time": "2021-11-18T21:36:29.852Z"
   },
   {
    "duration": 58,
    "start_time": "2021-11-18T21:36:29.896Z"
   },
   {
    "duration": 18,
    "start_time": "2021-11-18T21:36:29.957Z"
   },
   {
    "duration": 57,
    "start_time": "2021-11-18T21:36:29.978Z"
   },
   {
    "duration": 28,
    "start_time": "2021-11-18T21:36:30.037Z"
   },
   {
    "duration": 85,
    "start_time": "2021-11-18T21:36:30.068Z"
   },
   {
    "duration": 5923,
    "start_time": "2021-11-18T21:36:30.155Z"
   },
   {
    "duration": 7,
    "start_time": "2021-11-18T21:36:36.081Z"
   },
   {
    "duration": 84,
    "start_time": "2021-11-18T21:37:43.732Z"
   },
   {
    "duration": 384,
    "start_time": "2021-11-18T21:37:48.361Z"
   },
   {
    "duration": 1897,
    "start_time": "2021-11-18T21:37:56.530Z"
   },
   {
    "duration": 1846,
    "start_time": "2021-11-18T21:38:16.610Z"
   },
   {
    "duration": 22,
    "start_time": "2021-11-18T21:40:14.670Z"
   },
   {
    "duration": 273,
    "start_time": "2021-11-18T21:41:23.385Z"
   },
   {
    "duration": 30,
    "start_time": "2021-11-18T21:41:36.340Z"
   },
   {
    "duration": 18,
    "start_time": "2021-11-18T21:41:48.424Z"
   },
   {
    "duration": 27,
    "start_time": "2021-11-18T21:42:09.247Z"
   },
   {
    "duration": 31,
    "start_time": "2021-11-18T21:43:06.408Z"
   },
   {
    "duration": 19,
    "start_time": "2021-11-18T21:43:16.219Z"
   },
   {
    "duration": 21,
    "start_time": "2021-11-18T21:45:36.293Z"
   },
   {
    "duration": 34,
    "start_time": "2021-11-18T21:45:44.916Z"
   },
   {
    "duration": 275,
    "start_time": "2021-11-18T21:46:09.721Z"
   },
   {
    "duration": 450,
    "start_time": "2021-11-18T21:46:20.350Z"
   },
   {
    "duration": 31,
    "start_time": "2021-11-18T21:46:37.820Z"
   },
   {
    "duration": 99,
    "start_time": "2021-11-18T21:47:53.764Z"
   },
   {
    "duration": 28,
    "start_time": "2021-11-18T21:47:57.565Z"
   },
   {
    "duration": 30,
    "start_time": "2021-11-18T21:48:27.919Z"
   },
   {
    "duration": 740,
    "start_time": "2021-11-18T21:48:54.789Z"
   },
   {
    "duration": 98,
    "start_time": "2021-11-18T21:48:55.532Z"
   },
   {
    "duration": 11,
    "start_time": "2021-11-18T21:48:55.633Z"
   },
   {
    "duration": 29,
    "start_time": "2021-11-18T21:48:55.647Z"
   },
   {
    "duration": 67,
    "start_time": "2021-11-18T21:48:55.678Z"
   },
   {
    "duration": 9,
    "start_time": "2021-11-18T21:48:55.748Z"
   },
   {
    "duration": 28,
    "start_time": "2021-11-18T21:48:55.759Z"
   },
   {
    "duration": 67,
    "start_time": "2021-11-18T21:48:55.790Z"
   },
   {
    "duration": 13,
    "start_time": "2021-11-18T21:48:55.861Z"
   },
   {
    "duration": 54,
    "start_time": "2021-11-18T21:48:55.877Z"
   },
   {
    "duration": 9736,
    "start_time": "2021-11-18T21:48:55.933Z"
   },
   {
    "duration": 23,
    "start_time": "2021-11-18T21:49:05.671Z"
   },
   {
    "duration": 40,
    "start_time": "2021-11-18T21:49:05.697Z"
   },
   {
    "duration": 42,
    "start_time": "2021-11-18T21:49:05.739Z"
   },
   {
    "duration": 51,
    "start_time": "2021-11-18T21:49:05.783Z"
   },
   {
    "duration": 18,
    "start_time": "2021-11-18T21:49:05.837Z"
   },
   {
    "duration": 24,
    "start_time": "2021-11-18T21:49:05.858Z"
   },
   {
    "duration": 63,
    "start_time": "2021-11-18T21:49:05.885Z"
   },
   {
    "duration": 55,
    "start_time": "2021-11-18T21:49:05.951Z"
   },
   {
    "duration": 6027,
    "start_time": "2021-11-18T21:49:06.009Z"
   },
   {
    "duration": 35,
    "start_time": "2021-11-18T21:49:12.039Z"
   },
   {
    "duration": 39,
    "start_time": "2021-11-18T21:49:33.341Z"
   },
   {
    "duration": 20,
    "start_time": "2021-11-18T21:51:54.681Z"
   },
   {
    "duration": 43,
    "start_time": "2021-11-18T21:52:10.762Z"
   },
   {
    "duration": 31,
    "start_time": "2021-11-18T21:53:37.763Z"
   },
   {
    "duration": 30,
    "start_time": "2021-11-18T22:01:46.430Z"
   },
   {
    "duration": 31,
    "start_time": "2021-11-18T22:01:54.765Z"
   },
   {
    "duration": 30,
    "start_time": "2021-11-18T22:03:45.740Z"
   },
   {
    "duration": 30,
    "start_time": "2021-11-18T22:04:21.438Z"
   },
   {
    "duration": 32,
    "start_time": "2021-11-18T22:04:37.690Z"
   },
   {
    "duration": 29,
    "start_time": "2021-11-18T22:04:43.569Z"
   },
   {
    "duration": 809,
    "start_time": "2021-11-18T22:05:31.679Z"
   },
   {
    "duration": 486,
    "start_time": "2021-11-18T22:05:44.377Z"
   },
   {
    "duration": 291,
    "start_time": "2021-11-18T22:06:34.040Z"
   },
   {
    "duration": 294,
    "start_time": "2021-11-18T22:06:55.468Z"
   },
   {
    "duration": 13,
    "start_time": "2021-11-18T22:07:07.747Z"
   },
   {
    "duration": 285,
    "start_time": "2021-11-18T22:07:35.268Z"
   },
   {
    "duration": 301,
    "start_time": "2021-11-18T22:07:40.720Z"
   },
   {
    "duration": 283,
    "start_time": "2021-11-18T22:07:53.682Z"
   },
   {
    "duration": 3,
    "start_time": "2021-11-18T22:09:48.880Z"
   },
   {
    "duration": 21,
    "start_time": "2021-11-18T22:10:07.562Z"
   },
   {
    "duration": 59,
    "start_time": "2021-11-18T22:14:11.385Z"
   },
   {
    "duration": 28,
    "start_time": "2021-11-18T22:14:39.561Z"
   },
   {
    "duration": 54,
    "start_time": "2021-11-18T22:15:16.547Z"
   },
   {
    "duration": 328,
    "start_time": "2021-11-18T22:16:45.499Z"
   },
   {
    "duration": 314,
    "start_time": "2021-11-18T22:17:01.067Z"
   },
   {
    "duration": 49,
    "start_time": "2021-11-18T22:17:56.644Z"
   },
   {
    "duration": 7,
    "start_time": "2021-11-18T22:24:21.928Z"
   },
   {
    "duration": 7,
    "start_time": "2021-11-18T22:24:31.959Z"
   },
   {
    "duration": 4,
    "start_time": "2021-11-18T22:25:00.750Z"
   },
   {
    "duration": 147,
    "start_time": "2021-11-18T22:25:00.757Z"
   },
   {
    "duration": 24,
    "start_time": "2021-11-18T22:25:00.907Z"
   },
   {
    "duration": 43,
    "start_time": "2021-11-18T22:25:00.934Z"
   },
   {
    "duration": 61,
    "start_time": "2021-11-18T22:25:00.980Z"
   },
   {
    "duration": 23,
    "start_time": "2021-11-18T22:25:01.044Z"
   },
   {
    "duration": 58,
    "start_time": "2021-11-18T22:25:01.071Z"
   },
   {
    "duration": 120,
    "start_time": "2021-11-18T22:25:01.132Z"
   },
   {
    "duration": 16,
    "start_time": "2021-11-18T22:25:01.256Z"
   },
   {
    "duration": 90,
    "start_time": "2021-11-18T22:25:01.276Z"
   },
   {
    "duration": 10329,
    "start_time": "2021-11-18T22:25:01.369Z"
   },
   {
    "duration": 29,
    "start_time": "2021-11-18T22:25:11.701Z"
   },
   {
    "duration": 23,
    "start_time": "2021-11-18T22:25:11.733Z"
   },
   {
    "duration": 36,
    "start_time": "2021-11-18T22:25:11.759Z"
   },
   {
    "duration": 61,
    "start_time": "2021-11-18T22:25:11.798Z"
   },
   {
    "duration": 16,
    "start_time": "2021-11-18T22:25:11.862Z"
   },
   {
    "duration": 61,
    "start_time": "2021-11-18T22:25:11.881Z"
   },
   {
    "duration": 28,
    "start_time": "2021-11-18T22:25:11.944Z"
   },
   {
    "duration": 89,
    "start_time": "2021-11-18T22:25:11.974Z"
   },
   {
    "duration": 6190,
    "start_time": "2021-11-18T22:25:12.066Z"
   },
   {
    "duration": 93,
    "start_time": "2021-11-18T22:25:18.259Z"
   },
   {
    "duration": 8,
    "start_time": "2021-11-18T22:25:18.356Z"
   },
   {
    "duration": 6,
    "start_time": "2021-11-18T22:25:43.134Z"
   },
   {
    "duration": 5,
    "start_time": "2021-11-18T22:25:59.020Z"
   },
   {
    "duration": 9,
    "start_time": "2021-11-18T22:26:03.785Z"
   },
   {
    "duration": 8,
    "start_time": "2021-11-18T22:26:14.609Z"
   },
   {
    "duration": 9,
    "start_time": "2021-11-18T22:26:25.836Z"
   },
   {
    "duration": 4060,
    "start_time": "2021-11-18T22:26:56.769Z"
   },
   {
    "duration": 5108,
    "start_time": "2021-11-18T22:28:46.635Z"
   },
   {
    "duration": 7,
    "start_time": "2021-11-18T22:29:00.858Z"
   },
   {
    "duration": 279,
    "start_time": "2021-11-18T22:32:39.734Z"
   },
   {
    "duration": 30,
    "start_time": "2021-11-18T22:33:13.138Z"
   },
   {
    "duration": 28,
    "start_time": "2021-11-18T22:34:04.784Z"
   },
   {
    "duration": 26,
    "start_time": "2021-11-18T22:35:28.020Z"
   },
   {
    "duration": 370,
    "start_time": "2021-11-18T22:36:50.731Z"
   },
   {
    "duration": 54,
    "start_time": "2021-11-18T22:37:29.306Z"
   },
   {
    "duration": 559,
    "start_time": "2021-11-18T22:37:35.643Z"
   },
   {
    "duration": 48,
    "start_time": "2021-11-18T22:37:43.757Z"
   },
   {
    "duration": 325,
    "start_time": "2021-11-18T22:37:49.387Z"
   },
   {
    "duration": 284,
    "start_time": "2021-11-18T22:38:21.661Z"
   },
   {
    "duration": 31,
    "start_time": "2021-11-18T22:38:46.958Z"
   },
   {
    "duration": 70,
    "start_time": "2021-11-18T22:40:26.386Z"
   },
   {
    "duration": 292,
    "start_time": "2021-11-18T22:40:40.667Z"
   },
   {
    "duration": 49,
    "start_time": "2021-11-18T22:40:53.313Z"
   },
   {
    "duration": 27,
    "start_time": "2021-11-18T22:41:13.851Z"
   },
   {
    "duration": 46,
    "start_time": "2021-11-18T22:42:11.659Z"
   },
   {
    "duration": 421,
    "start_time": "2021-11-19T12:42:25.281Z"
   },
   {
    "duration": 321,
    "start_time": "2021-11-19T12:42:36.670Z"
   },
   {
    "duration": 870,
    "start_time": "2021-11-19T12:42:46.291Z"
   },
   {
    "duration": 150,
    "start_time": "2021-11-19T12:42:47.164Z"
   },
   {
    "duration": 16,
    "start_time": "2021-11-19T12:42:47.319Z"
   },
   {
    "duration": 28,
    "start_time": "2021-11-19T12:42:47.339Z"
   },
   {
    "duration": 43,
    "start_time": "2021-11-19T12:42:47.404Z"
   },
   {
    "duration": 12,
    "start_time": "2021-11-19T12:42:47.449Z"
   },
   {
    "duration": 46,
    "start_time": "2021-11-19T12:42:47.464Z"
   },
   {
    "duration": 124,
    "start_time": "2021-11-19T12:42:47.514Z"
   },
   {
    "duration": 14,
    "start_time": "2021-11-19T12:42:47.642Z"
   },
   {
    "duration": 61,
    "start_time": "2021-11-19T12:42:47.659Z"
   },
   {
    "duration": 10311,
    "start_time": "2021-11-19T12:42:47.722Z"
   },
   {
    "duration": 23,
    "start_time": "2021-11-19T12:42:58.035Z"
   },
   {
    "duration": 50,
    "start_time": "2021-11-19T12:42:58.060Z"
   },
   {
    "duration": 39,
    "start_time": "2021-11-19T12:42:58.114Z"
   },
   {
    "duration": 66,
    "start_time": "2021-11-19T12:42:58.156Z"
   },
   {
    "duration": 17,
    "start_time": "2021-11-19T12:42:58.225Z"
   },
   {
    "duration": 25,
    "start_time": "2021-11-19T12:42:58.244Z"
   },
   {
    "duration": 65,
    "start_time": "2021-11-19T12:42:58.271Z"
   },
   {
    "duration": 100,
    "start_time": "2021-11-19T12:42:58.339Z"
   },
   {
    "duration": 6623,
    "start_time": "2021-11-19T12:42:58.442Z"
   },
   {
    "duration": 494,
    "start_time": "2021-11-19T12:43:05.068Z"
   },
   {
    "duration": -535,
    "start_time": "2021-11-19T12:43:06.100Z"
   },
   {
    "duration": -537,
    "start_time": "2021-11-19T12:43:06.105Z"
   },
   {
    "duration": 332,
    "start_time": "2021-11-19T12:43:14.969Z"
   },
   {
    "duration": 27,
    "start_time": "2021-11-19T12:43:23.268Z"
   },
   {
    "duration": 52,
    "start_time": "2021-11-19T12:45:33.408Z"
   },
   {
    "duration": 387,
    "start_time": "2021-11-19T12:47:15.709Z"
   },
   {
    "duration": 4,
    "start_time": "2021-11-19T12:47:27.870Z"
   },
   {
    "duration": 107,
    "start_time": "2021-11-19T12:47:27.878Z"
   },
   {
    "duration": 24,
    "start_time": "2021-11-19T12:47:27.989Z"
   },
   {
    "duration": 29,
    "start_time": "2021-11-19T12:47:28.017Z"
   },
   {
    "duration": 78,
    "start_time": "2021-11-19T12:47:28.049Z"
   },
   {
    "duration": 10,
    "start_time": "2021-11-19T12:47:28.130Z"
   },
   {
    "duration": 9,
    "start_time": "2021-11-19T12:47:28.143Z"
   },
   {
    "duration": 98,
    "start_time": "2021-11-19T12:47:28.155Z"
   },
   {
    "duration": 16,
    "start_time": "2021-11-19T12:47:28.257Z"
   },
   {
    "duration": 36,
    "start_time": "2021-11-19T12:47:28.300Z"
   },
   {
    "duration": 9649,
    "start_time": "2021-11-19T12:47:28.338Z"
   },
   {
    "duration": 30,
    "start_time": "2021-11-19T12:47:37.990Z"
   },
   {
    "duration": 27,
    "start_time": "2021-11-19T12:47:38.023Z"
   },
   {
    "duration": 70,
    "start_time": "2021-11-19T12:47:38.053Z"
   },
   {
    "duration": 36,
    "start_time": "2021-11-19T12:47:38.126Z"
   },
   {
    "duration": 37,
    "start_time": "2021-11-19T12:47:38.164Z"
   },
   {
    "duration": 25,
    "start_time": "2021-11-19T12:47:38.203Z"
   },
   {
    "duration": 26,
    "start_time": "2021-11-19T12:47:38.231Z"
   },
   {
    "duration": 95,
    "start_time": "2021-11-19T12:47:38.259Z"
   },
   {
    "duration": 7228,
    "start_time": "2021-11-19T12:47:38.356Z"
   },
   {
    "duration": 7182,
    "start_time": "2021-11-19T12:48:54.428Z"
   },
   {
    "duration": 461,
    "start_time": "2021-11-19T12:50:00.644Z"
   },
   {
    "duration": 539,
    "start_time": "2021-11-19T12:50:07.254Z"
   },
   {
    "duration": 425,
    "start_time": "2021-11-19T12:50:15.674Z"
   },
   {
    "duration": 454,
    "start_time": "2021-11-19T12:50:28.264Z"
   },
   {
    "duration": 296,
    "start_time": "2021-11-19T18:26:45.363Z"
   },
   {
    "duration": 628,
    "start_time": "2021-11-19T18:26:54.017Z"
   },
   {
    "duration": 71,
    "start_time": "2021-11-19T18:26:54.647Z"
   },
   {
    "duration": 8,
    "start_time": "2021-11-19T18:26:54.720Z"
   },
   {
    "duration": 26,
    "start_time": "2021-11-19T18:26:54.730Z"
   },
   {
    "duration": 22,
    "start_time": "2021-11-19T18:26:54.758Z"
   },
   {
    "duration": 8,
    "start_time": "2021-11-19T18:26:54.782Z"
   },
   {
    "duration": 7,
    "start_time": "2021-11-19T18:26:54.792Z"
   },
   {
    "duration": 70,
    "start_time": "2021-11-19T18:26:54.802Z"
   },
   {
    "duration": 10,
    "start_time": "2021-11-19T18:26:54.875Z"
   },
   {
    "duration": 22,
    "start_time": "2021-11-19T18:26:54.887Z"
   },
   {
    "duration": 4910,
    "start_time": "2021-11-19T18:26:54.911Z"
   },
   {
    "duration": 14,
    "start_time": "2021-11-19T18:26:59.822Z"
   },
   {
    "duration": 15,
    "start_time": "2021-11-19T18:26:59.844Z"
   },
   {
    "duration": 25,
    "start_time": "2021-11-19T18:26:59.861Z"
   },
   {
    "duration": 25,
    "start_time": "2021-11-19T18:26:59.888Z"
   },
   {
    "duration": 37,
    "start_time": "2021-11-19T18:26:59.914Z"
   },
   {
    "duration": 17,
    "start_time": "2021-11-19T18:26:59.953Z"
   },
   {
    "duration": 18,
    "start_time": "2021-11-19T18:26:59.972Z"
   },
   {
    "duration": 66,
    "start_time": "2021-11-19T18:26:59.992Z"
   },
   {
    "duration": 4260,
    "start_time": "2021-11-19T18:27:00.060Z"
   },
   {
    "duration": 401,
    "start_time": "2021-11-19T18:27:04.322Z"
   },
   {
    "duration": -64,
    "start_time": "2021-11-19T18:27:04.789Z"
   },
   {
    "duration": -74,
    "start_time": "2021-11-19T18:27:04.800Z"
   },
   {
    "duration": 296,
    "start_time": "2021-11-19T18:32:57.770Z"
   },
   {
    "duration": 57,
    "start_time": "2021-11-19T18:33:02.199Z"
   },
   {
    "duration": 25,
    "start_time": "2021-11-19T18:35:54.828Z"
   },
   {
    "duration": 31,
    "start_time": "2021-11-19T18:40:33.730Z"
   },
   {
    "duration": 15,
    "start_time": "2021-11-19T18:40:49.833Z"
   },
   {
    "duration": 294,
    "start_time": "2021-11-19T18:41:26.751Z"
   },
   {
    "duration": 278,
    "start_time": "2021-11-19T18:41:32.931Z"
   },
   {
    "duration": 17,
    "start_time": "2021-11-19T18:41:43.932Z"
   },
   {
    "duration": 278,
    "start_time": "2021-11-19T18:42:04.990Z"
   },
   {
    "duration": 16,
    "start_time": "2021-11-19T18:42:42.578Z"
   },
   {
    "duration": 21,
    "start_time": "2021-11-19T18:42:55.161Z"
   },
   {
    "duration": 28,
    "start_time": "2021-11-19T18:43:37.639Z"
   },
   {
    "duration": 27,
    "start_time": "2021-11-19T18:43:49.953Z"
   },
   {
    "duration": 39,
    "start_time": "2021-11-19T18:44:38.021Z"
   },
   {
    "duration": 271,
    "start_time": "2021-11-19T18:46:06.838Z"
   },
   {
    "duration": 19,
    "start_time": "2021-11-19T18:46:18.078Z"
   },
   {
    "duration": 16,
    "start_time": "2021-11-19T19:47:00.364Z"
   },
   {
    "duration": 17,
    "start_time": "2021-11-19T19:47:05.747Z"
   },
   {
    "duration": 20,
    "start_time": "2021-11-19T19:49:11.266Z"
   },
   {
    "duration": 16,
    "start_time": "2021-11-19T19:50:00.887Z"
   },
   {
    "duration": 630,
    "start_time": "2021-11-19T19:50:13.810Z"
   },
   {
    "duration": 76,
    "start_time": "2021-11-19T19:50:14.444Z"
   },
   {
    "duration": 11,
    "start_time": "2021-11-19T19:50:14.523Z"
   },
   {
    "duration": 21,
    "start_time": "2021-11-19T19:50:14.545Z"
   },
   {
    "duration": 32,
    "start_time": "2021-11-19T19:50:14.568Z"
   },
   {
    "duration": 8,
    "start_time": "2021-11-19T19:50:14.602Z"
   },
   {
    "duration": 8,
    "start_time": "2021-11-19T19:50:14.644Z"
   },
   {
    "duration": 45,
    "start_time": "2021-11-19T19:50:14.655Z"
   },
   {
    "duration": 14,
    "start_time": "2021-11-19T19:50:14.703Z"
   },
   {
    "duration": 50,
    "start_time": "2021-11-19T19:50:14.719Z"
   },
   {
    "duration": 5254,
    "start_time": "2021-11-19T19:50:14.771Z"
   },
   {
    "duration": 23,
    "start_time": "2021-11-19T19:50:20.026Z"
   },
   {
    "duration": 19,
    "start_time": "2021-11-19T19:50:20.051Z"
   },
   {
    "duration": 35,
    "start_time": "2021-11-19T19:50:20.071Z"
   },
   {
    "duration": 43,
    "start_time": "2021-11-19T19:50:20.107Z"
   },
   {
    "duration": 11,
    "start_time": "2021-11-19T19:50:20.152Z"
   },
   {
    "duration": 34,
    "start_time": "2021-11-19T19:50:20.165Z"
   },
   {
    "duration": 50,
    "start_time": "2021-11-19T19:50:20.202Z"
   },
   {
    "duration": 61,
    "start_time": "2021-11-19T19:50:20.254Z"
   },
   {
    "duration": 5154,
    "start_time": "2021-11-19T19:50:20.318Z"
   },
   {
    "duration": 35,
    "start_time": "2021-11-19T19:50:25.474Z"
   },
   {
    "duration": 42,
    "start_time": "2021-11-19T19:50:25.511Z"
   },
   {
    "duration": 18,
    "start_time": "2021-11-19T19:50:25.556Z"
   },
   {
    "duration": 22,
    "start_time": "2021-11-19T19:51:54.594Z"
   },
   {
    "duration": 18,
    "start_time": "2021-11-19T19:51:57.604Z"
   },
   {
    "duration": 349,
    "start_time": "2021-11-19T19:52:34.842Z"
   },
   {
    "duration": 283,
    "start_time": "2021-11-19T19:53:19.052Z"
   },
   {
    "duration": 19,
    "start_time": "2021-11-19T19:53:37.734Z"
   },
   {
    "duration": 20,
    "start_time": "2021-11-19T19:53:54.633Z"
   },
   {
    "duration": 346,
    "start_time": "2021-11-19T19:54:28.289Z"
   },
   {
    "duration": 265,
    "start_time": "2021-11-19T19:54:35.077Z"
   },
   {
    "duration": 132,
    "start_time": "2021-11-19T19:54:39.964Z"
   },
   {
    "duration": 286,
    "start_time": "2021-11-19T19:55:02.252Z"
   },
   {
    "duration": 280,
    "start_time": "2021-11-19T19:55:05.552Z"
   },
   {
    "duration": 30,
    "start_time": "2021-11-19T19:55:29.844Z"
   },
   {
    "duration": 40,
    "start_time": "2021-11-19T19:55:53.493Z"
   },
   {
    "duration": 42,
    "start_time": "2021-11-19T19:56:02.727Z"
   },
   {
    "duration": 28,
    "start_time": "2021-11-19T19:56:20.961Z"
   },
   {
    "duration": 33,
    "start_time": "2021-11-19T19:57:12.634Z"
   },
   {
    "duration": 27,
    "start_time": "2021-11-19T19:57:27.836Z"
   },
   {
    "duration": 574,
    "start_time": "2021-11-19T20:04:33.593Z"
   },
   {
    "duration": 72,
    "start_time": "2021-11-19T20:04:34.169Z"
   },
   {
    "duration": 8,
    "start_time": "2021-11-19T20:04:34.243Z"
   },
   {
    "duration": 17,
    "start_time": "2021-11-19T20:04:34.254Z"
   },
   {
    "duration": 25,
    "start_time": "2021-11-19T20:04:34.273Z"
   },
   {
    "duration": 7,
    "start_time": "2021-11-19T20:04:34.300Z"
   },
   {
    "duration": 40,
    "start_time": "2021-11-19T20:04:34.309Z"
   },
   {
    "duration": 42,
    "start_time": "2021-11-19T20:04:34.351Z"
   },
   {
    "duration": 11,
    "start_time": "2021-11-19T20:04:34.395Z"
   },
   {
    "duration": 53,
    "start_time": "2021-11-19T20:04:34.407Z"
   },
   {
    "duration": 4891,
    "start_time": "2021-11-19T20:04:34.462Z"
   },
   {
    "duration": 15,
    "start_time": "2021-11-19T20:04:39.354Z"
   },
   {
    "duration": 41,
    "start_time": "2021-11-19T20:04:39.370Z"
   },
   {
    "duration": 44,
    "start_time": "2021-11-19T20:04:39.413Z"
   },
   {
    "duration": 24,
    "start_time": "2021-11-19T20:04:39.459Z"
   },
   {
    "duration": 12,
    "start_time": "2021-11-19T20:04:39.484Z"
   },
   {
    "duration": 31,
    "start_time": "2021-11-19T20:04:39.497Z"
   },
   {
    "duration": 15,
    "start_time": "2021-11-19T20:04:39.545Z"
   },
   {
    "duration": 40,
    "start_time": "2021-11-19T20:04:39.562Z"
   },
   {
    "duration": 4122,
    "start_time": "2021-11-19T20:04:39.603Z"
   },
   {
    "duration": 38,
    "start_time": "2021-11-19T20:04:43.726Z"
   },
   {
    "duration": 20,
    "start_time": "2021-11-19T20:04:43.766Z"
   },
   {
    "duration": 15,
    "start_time": "2021-11-19T20:04:43.789Z"
   },
   {
    "duration": 49,
    "start_time": "2021-11-19T20:04:43.806Z"
   },
   {
    "duration": 34,
    "start_time": "2021-11-19T20:04:43.857Z"
   },
   {
    "duration": 21,
    "start_time": "2021-11-19T20:04:43.893Z"
   },
   {
    "duration": 28,
    "start_time": "2021-11-19T20:07:54.434Z"
   },
   {
    "duration": 114,
    "start_time": "2021-11-19T20:15:28.322Z"
   },
   {
    "duration": 41,
    "start_time": "2021-11-19T20:15:35.686Z"
   },
   {
    "duration": 18,
    "start_time": "2021-11-19T20:15:47.247Z"
   },
   {
    "duration": 3,
    "start_time": "2021-11-19T20:17:43.836Z"
   },
   {
    "duration": 72,
    "start_time": "2021-11-19T20:17:43.841Z"
   },
   {
    "duration": 9,
    "start_time": "2021-11-19T20:17:43.915Z"
   },
   {
    "duration": 31,
    "start_time": "2021-11-19T20:17:43.926Z"
   },
   {
    "duration": 24,
    "start_time": "2021-11-19T20:17:43.959Z"
   },
   {
    "duration": 17,
    "start_time": "2021-11-19T20:17:43.985Z"
   },
   {
    "duration": 8,
    "start_time": "2021-11-19T20:17:44.004Z"
   },
   {
    "duration": 63,
    "start_time": "2021-11-19T20:17:44.014Z"
   },
   {
    "duration": 10,
    "start_time": "2021-11-19T20:17:44.078Z"
   },
   {
    "duration": 32,
    "start_time": "2021-11-19T20:17:44.090Z"
   },
   {
    "duration": 5146,
    "start_time": "2021-11-19T20:17:44.124Z"
   },
   {
    "duration": 15,
    "start_time": "2021-11-19T20:17:49.271Z"
   },
   {
    "duration": 22,
    "start_time": "2021-11-19T20:17:49.287Z"
   },
   {
    "duration": 46,
    "start_time": "2021-11-19T20:17:49.310Z"
   },
   {
    "duration": 24,
    "start_time": "2021-11-19T20:17:49.358Z"
   },
   {
    "duration": 13,
    "start_time": "2021-11-19T20:17:49.384Z"
   },
   {
    "duration": 45,
    "start_time": "2021-11-19T20:17:49.399Z"
   },
   {
    "duration": 16,
    "start_time": "2021-11-19T20:17:49.446Z"
   },
   {
    "duration": 33,
    "start_time": "2021-11-19T20:17:49.465Z"
   },
   {
    "duration": 66,
    "start_time": "2021-11-19T20:17:49.500Z"
   },
   {
    "duration": 4195,
    "start_time": "2021-11-19T20:17:49.568Z"
   },
   {
    "duration": 16,
    "start_time": "2021-11-19T20:17:53.765Z"
   },
   {
    "duration": 13,
    "start_time": "2021-11-19T20:19:24.418Z"
   },
   {
    "duration": 11,
    "start_time": "2021-11-19T20:20:18.521Z"
   },
   {
    "duration": 13,
    "start_time": "2021-11-19T20:20:32.145Z"
   },
   {
    "duration": 14,
    "start_time": "2021-11-19T20:20:47.243Z"
   },
   {
    "duration": 11,
    "start_time": "2021-11-19T20:32:19.345Z"
   },
   {
    "duration": 10,
    "start_time": "2021-11-19T20:32:35.582Z"
   },
   {
    "duration": 9,
    "start_time": "2021-11-19T20:33:27.479Z"
   },
   {
    "duration": 328,
    "start_time": "2021-11-19T20:34:19.302Z"
   },
   {
    "duration": 284,
    "start_time": "2021-11-19T20:34:29.806Z"
   },
   {
    "duration": 814,
    "start_time": "2021-11-19T20:34:40.953Z"
   },
   {
    "duration": 262,
    "start_time": "2021-11-19T20:34:59.007Z"
   },
   {
    "duration": 18,
    "start_time": "2021-11-19T20:35:02.953Z"
   },
   {
    "duration": 551,
    "start_time": "2021-11-20T04:37:53.805Z"
   },
   {
    "duration": 80,
    "start_time": "2021-11-20T04:37:54.358Z"
   },
   {
    "duration": 9,
    "start_time": "2021-11-20T04:37:54.441Z"
   },
   {
    "duration": 17,
    "start_time": "2021-11-20T04:37:54.452Z"
   },
   {
    "duration": 24,
    "start_time": "2021-11-20T04:37:54.492Z"
   },
   {
    "duration": 6,
    "start_time": "2021-11-20T04:37:54.518Z"
   },
   {
    "duration": 6,
    "start_time": "2021-11-20T04:37:54.526Z"
   },
   {
    "duration": 65,
    "start_time": "2021-11-20T04:37:54.535Z"
   },
   {
    "duration": 10,
    "start_time": "2021-11-20T04:37:54.602Z"
   },
   {
    "duration": 31,
    "start_time": "2021-11-20T04:37:54.614Z"
   },
   {
    "duration": 4715,
    "start_time": "2021-11-20T04:37:54.647Z"
   },
   {
    "duration": 13,
    "start_time": "2021-11-20T04:37:59.364Z"
   },
   {
    "duration": 20,
    "start_time": "2021-11-20T04:37:59.378Z"
   },
   {
    "duration": 28,
    "start_time": "2021-11-20T04:37:59.400Z"
   },
   {
    "duration": 23,
    "start_time": "2021-11-20T04:37:59.429Z"
   },
   {
    "duration": 11,
    "start_time": "2021-11-20T04:37:59.454Z"
   },
   {
    "duration": 43,
    "start_time": "2021-11-20T04:37:59.466Z"
   },
   {
    "duration": 14,
    "start_time": "2021-11-20T04:37:59.511Z"
   },
   {
    "duration": 28,
    "start_time": "2021-11-20T04:37:59.527Z"
   },
   {
    "duration": 40,
    "start_time": "2021-11-20T04:37:59.557Z"
   },
   {
    "duration": 4115,
    "start_time": "2021-11-20T04:37:59.599Z"
   },
   {
    "duration": 15,
    "start_time": "2021-11-20T04:38:03.716Z"
   },
   {
    "duration": 234,
    "start_time": "2021-11-20T04:38:03.734Z"
   },
   {
    "duration": 133,
    "start_time": "2021-11-20T04:38:03.837Z"
   },
   {
    "duration": 124,
    "start_time": "2021-11-20T04:38:03.847Z"
   },
   {
    "duration": 117,
    "start_time": "2021-11-20T04:38:03.855Z"
   },
   {
    "duration": 114,
    "start_time": "2021-11-20T04:38:03.859Z"
   },
   {
    "duration": 110,
    "start_time": "2021-11-20T04:38:03.864Z"
   },
   {
    "duration": 107,
    "start_time": "2021-11-20T04:38:03.868Z"
   },
   {
    "duration": 11,
    "start_time": "2021-11-20T04:39:17.007Z"
   },
   {
    "duration": 508,
    "start_time": "2021-11-20T04:39:31.136Z"
   },
   {
    "duration": 74,
    "start_time": "2021-11-20T04:39:31.645Z"
   },
   {
    "duration": 8,
    "start_time": "2021-11-20T04:39:31.721Z"
   },
   {
    "duration": 18,
    "start_time": "2021-11-20T04:39:31.731Z"
   },
   {
    "duration": 48,
    "start_time": "2021-11-20T04:39:31.750Z"
   },
   {
    "duration": 6,
    "start_time": "2021-11-20T04:39:31.799Z"
   },
   {
    "duration": 8,
    "start_time": "2021-11-20T04:39:31.807Z"
   },
   {
    "duration": 43,
    "start_time": "2021-11-20T04:39:31.817Z"
   },
   {
    "duration": 29,
    "start_time": "2021-11-20T04:39:31.863Z"
   },
   {
    "duration": 23,
    "start_time": "2021-11-20T04:39:31.894Z"
   },
   {
    "duration": 4732,
    "start_time": "2021-11-20T04:39:31.918Z"
   },
   {
    "duration": 13,
    "start_time": "2021-11-20T04:39:36.652Z"
   },
   {
    "duration": 26,
    "start_time": "2021-11-20T04:39:36.666Z"
   },
   {
    "duration": 29,
    "start_time": "2021-11-20T04:39:36.694Z"
   },
   {
    "duration": 21,
    "start_time": "2021-11-20T04:39:36.724Z"
   },
   {
    "duration": 10,
    "start_time": "2021-11-20T04:39:36.747Z"
   },
   {
    "duration": 39,
    "start_time": "2021-11-20T04:39:36.758Z"
   },
   {
    "duration": 15,
    "start_time": "2021-11-20T04:39:36.798Z"
   },
   {
    "duration": 31,
    "start_time": "2021-11-20T04:39:36.815Z"
   },
   {
    "duration": 17,
    "start_time": "2021-11-20T04:39:36.848Z"
   },
   {
    "duration": 3857,
    "start_time": "2021-11-20T04:39:36.866Z"
   },
   {
    "duration": 15,
    "start_time": "2021-11-20T04:39:40.725Z"
   },
   {
    "duration": 11,
    "start_time": "2021-11-20T04:39:40.743Z"
   },
   {
    "duration": 232,
    "start_time": "2021-11-20T04:39:40.755Z"
   },
   {
    "duration": 8,
    "start_time": "2021-11-20T04:39:40.981Z"
   },
   {
    "duration": 5,
    "start_time": "2021-11-20T04:39:40.985Z"
   },
   {
    "duration": 3,
    "start_time": "2021-11-20T04:39:40.988Z"
   },
   {
    "duration": -1,
    "start_time": "2021-11-20T04:39:40.993Z"
   },
   {
    "duration": -9,
    "start_time": "2021-11-20T04:39:41.001Z"
   },
   {
    "duration": 11,
    "start_time": "2021-11-20T04:41:10.653Z"
   },
   {
    "duration": 570,
    "start_time": "2021-11-20T04:41:20.383Z"
   },
   {
    "duration": 71,
    "start_time": "2021-11-20T04:41:20.955Z"
   },
   {
    "duration": 8,
    "start_time": "2021-11-20T04:41:21.027Z"
   },
   {
    "duration": 16,
    "start_time": "2021-11-20T04:41:21.037Z"
   },
   {
    "duration": 42,
    "start_time": "2021-11-20T04:41:21.055Z"
   },
   {
    "duration": 6,
    "start_time": "2021-11-20T04:41:21.099Z"
   },
   {
    "duration": 7,
    "start_time": "2021-11-20T04:41:21.106Z"
   },
   {
    "duration": 41,
    "start_time": "2021-11-20T04:41:21.115Z"
   },
   {
    "duration": 9,
    "start_time": "2021-11-20T04:41:21.158Z"
   },
   {
    "duration": 22,
    "start_time": "2021-11-20T04:41:21.192Z"
   },
   {
    "duration": 5022,
    "start_time": "2021-11-20T04:41:21.215Z"
   },
   {
    "duration": 14,
    "start_time": "2021-11-20T04:41:26.238Z"
   },
   {
    "duration": 16,
    "start_time": "2021-11-20T04:41:26.254Z"
   },
   {
    "duration": 39,
    "start_time": "2021-11-20T04:41:26.272Z"
   },
   {
    "duration": 22,
    "start_time": "2021-11-20T04:41:26.312Z"
   },
   {
    "duration": 11,
    "start_time": "2021-11-20T04:41:26.335Z"
   },
   {
    "duration": 45,
    "start_time": "2021-11-20T04:41:26.347Z"
   },
   {
    "duration": 14,
    "start_time": "2021-11-20T04:41:26.394Z"
   },
   {
    "duration": 31,
    "start_time": "2021-11-20T04:41:26.409Z"
   },
   {
    "duration": 17,
    "start_time": "2021-11-20T04:41:26.442Z"
   },
   {
    "duration": 3801,
    "start_time": "2021-11-20T04:41:26.461Z"
   },
   {
    "duration": 16,
    "start_time": "2021-11-20T04:41:30.264Z"
   },
   {
    "duration": 13,
    "start_time": "2021-11-20T04:41:30.293Z"
   },
   {
    "duration": 28,
    "start_time": "2021-11-20T04:41:30.308Z"
   },
   {
    "duration": 31,
    "start_time": "2021-11-20T04:41:30.337Z"
   },
   {
    "duration": 43,
    "start_time": "2021-11-20T04:41:30.370Z"
   },
   {
    "duration": 23,
    "start_time": "2021-11-20T04:41:30.414Z"
   },
   {
    "duration": 31,
    "start_time": "2021-11-20T04:41:30.439Z"
   },
   {
    "duration": 24,
    "start_time": "2021-11-20T04:41:30.471Z"
   },
   {
    "duration": 7,
    "start_time": "2021-11-20T04:51:31.352Z"
   },
   {
    "duration": 19,
    "start_time": "2021-11-20T04:54:43.328Z"
   },
   {
    "duration": 19,
    "start_time": "2021-11-20T04:57:56.769Z"
   },
   {
    "duration": 237,
    "start_time": "2021-11-20T05:02:43.298Z"
   },
   {
    "duration": 19,
    "start_time": "2021-11-20T05:02:49.855Z"
   },
   {
    "duration": 3,
    "start_time": "2021-11-20T05:03:37.951Z"
   },
   {
    "duration": 8,
    "start_time": "2021-11-20T05:03:43.963Z"
   },
   {
    "duration": 3,
    "start_time": "2021-11-20T05:04:59.321Z"
   },
   {
    "duration": 169,
    "start_time": "2021-11-20T05:05:09.724Z"
   },
   {
    "duration": 166,
    "start_time": "2021-11-20T05:05:20.056Z"
   },
   {
    "duration": 5,
    "start_time": "2021-11-20T05:05:31.529Z"
   },
   {
    "duration": 4,
    "start_time": "2021-11-20T05:05:44.326Z"
   },
   {
    "duration": 7,
    "start_time": "2021-11-20T05:05:48.788Z"
   },
   {
    "duration": 5,
    "start_time": "2021-11-20T05:10:42.690Z"
   },
   {
    "duration": 10,
    "start_time": "2021-11-20T05:11:09.479Z"
   },
   {
    "duration": 3,
    "start_time": "2021-11-20T05:13:20.953Z"
   },
   {
    "duration": 210,
    "start_time": "2021-11-20T05:14:06.530Z"
   },
   {
    "duration": 5,
    "start_time": "2021-11-20T05:14:12.540Z"
   },
   {
    "duration": 4,
    "start_time": "2021-11-20T05:14:35.563Z"
   },
   {
    "duration": 4,
    "start_time": "2021-11-20T05:14:41.631Z"
   },
   {
    "duration": 4,
    "start_time": "2021-11-20T05:14:50.522Z"
   },
   {
    "duration": 4,
    "start_time": "2021-11-20T05:14:53.644Z"
   },
   {
    "duration": 5,
    "start_time": "2021-11-20T05:14:59.092Z"
   },
   {
    "duration": 8,
    "start_time": "2021-11-20T05:15:03.415Z"
   },
   {
    "duration": 10,
    "start_time": "2021-11-20T05:15:23.465Z"
   },
   {
    "duration": 6,
    "start_time": "2021-11-20T05:15:28.231Z"
   },
   {
    "duration": 9,
    "start_time": "2021-11-20T05:15:29.098Z"
   },
   {
    "duration": 527,
    "start_time": "2021-11-20T16:46:14.091Z"
   },
   {
    "duration": 858,
    "start_time": "2021-11-20T16:46:25.461Z"
   },
   {
    "duration": 99,
    "start_time": "2021-11-20T16:46:26.321Z"
   },
   {
    "duration": 12,
    "start_time": "2021-11-20T16:46:26.422Z"
   },
   {
    "duration": 494,
    "start_time": "2021-11-20T16:46:35.475Z"
   },
   {
    "duration": 448,
    "start_time": "2021-11-20T16:46:49.325Z"
   },
   {
    "duration": 1122,
    "start_time": "2021-11-20T16:47:02.472Z"
   },
   {
    "duration": 383,
    "start_time": "2021-11-20T16:47:13.660Z"
   },
   {
    "duration": 450,
    "start_time": "2021-11-20T16:47:55.093Z"
   },
   {
    "duration": 422,
    "start_time": "2021-11-20T16:49:41.793Z"
   },
   {
    "duration": 178,
    "start_time": "2021-11-20T16:49:54.032Z"
   },
   {
    "duration": 133,
    "start_time": "2021-11-20T16:50:05.792Z"
   },
   {
    "duration": 122,
    "start_time": "2021-11-20T16:50:09.945Z"
   },
   {
    "duration": 396,
    "start_time": "2021-11-20T16:50:22.531Z"
   },
   {
    "duration": 413,
    "start_time": "2021-11-20T16:50:50.916Z"
   },
   {
    "duration": 12280,
    "start_time": "2021-11-20T17:35:00.804Z"
   },
   {
    "duration": 9708,
    "start_time": "2021-11-20T17:35:38.513Z"
   },
   {
    "duration": 4,
    "start_time": "2021-11-20T17:36:33.351Z"
   },
   {
    "duration": 88,
    "start_time": "2021-11-20T17:36:33.363Z"
   },
   {
    "duration": 13,
    "start_time": "2021-11-20T17:36:33.454Z"
   },
   {
    "duration": 2693,
    "start_time": "2021-11-20T17:36:36.309Z"
   },
   {
    "duration": 11157,
    "start_time": "2021-11-20T17:36:51.011Z"
   },
   {
    "duration": 25,
    "start_time": "2021-11-20T17:40:58.951Z"
   },
   {
    "duration": 410,
    "start_time": "2021-11-20T17:53:26.968Z"
   },
   {
    "duration": 47,
    "start_time": "2021-11-20T17:53:43.320Z"
   },
   {
    "duration": 4,
    "start_time": "2021-11-20T17:54:42.974Z"
   },
   {
    "duration": 100,
    "start_time": "2021-11-20T17:54:42.981Z"
   },
   {
    "duration": 12,
    "start_time": "2021-11-20T17:54:43.084Z"
   },
   {
    "duration": 24,
    "start_time": "2021-11-20T17:54:43.098Z"
   },
   {
    "duration": 34,
    "start_time": "2021-11-20T17:54:43.160Z"
   },
   {
    "duration": 11,
    "start_time": "2021-11-20T17:54:43.196Z"
   },
   {
    "duration": 10,
    "start_time": "2021-11-20T17:54:43.210Z"
   },
   {
    "duration": 60,
    "start_time": "2021-11-20T17:54:43.262Z"
   },
   {
    "duration": 45,
    "start_time": "2021-11-20T17:54:43.326Z"
   },
   {
    "duration": 37,
    "start_time": "2021-11-20T17:54:43.374Z"
   },
   {
    "duration": 10413,
    "start_time": "2021-11-20T17:54:43.414Z"
   },
   {
    "duration": 31,
    "start_time": "2021-11-20T17:54:53.830Z"
   },
   {
    "duration": 24,
    "start_time": "2021-11-20T17:54:53.864Z"
   },
   {
    "duration": 68,
    "start_time": "2021-11-20T17:54:53.891Z"
   },
   {
    "duration": 3,
    "start_time": "2021-11-20T17:54:53.962Z"
   },
   {
    "duration": 34,
    "start_time": "2021-11-20T17:54:56.440Z"
   },
   {
    "duration": 17,
    "start_time": "2021-11-20T17:56:21.388Z"
   },
   {
    "duration": 400,
    "start_time": "2021-11-20T17:56:58.371Z"
   },
   {
    "duration": 402,
    "start_time": "2021-11-20T17:57:12.610Z"
   },
   {
    "duration": 2706,
    "start_time": "2021-11-20T17:57:21.077Z"
   },
   {
    "duration": 37,
    "start_time": "2021-11-20T17:58:12.338Z"
   },
   {
    "duration": 21,
    "start_time": "2021-11-20T17:58:39.275Z"
   },
   {
    "duration": 4,
    "start_time": "2021-11-20T17:59:02.704Z"
   },
   {
    "duration": 95,
    "start_time": "2021-11-20T17:59:02.714Z"
   },
   {
    "duration": 12,
    "start_time": "2021-11-20T17:59:02.812Z"
   },
   {
    "duration": 46,
    "start_time": "2021-11-20T17:59:02.827Z"
   },
   {
    "duration": 35,
    "start_time": "2021-11-20T17:59:02.876Z"
   },
   {
    "duration": 48,
    "start_time": "2021-11-20T17:59:02.914Z"
   },
   {
    "duration": 13,
    "start_time": "2021-11-20T17:59:02.966Z"
   },
   {
    "duration": 86,
    "start_time": "2021-11-20T17:59:02.983Z"
   },
   {
    "duration": 21,
    "start_time": "2021-11-20T17:59:03.072Z"
   },
   {
    "duration": 36,
    "start_time": "2021-11-20T17:59:03.096Z"
   },
   {
    "duration": 10092,
    "start_time": "2021-11-20T17:59:03.160Z"
   },
   {
    "duration": 23,
    "start_time": "2021-11-20T17:59:13.259Z"
   },
   {
    "duration": 27,
    "start_time": "2021-11-20T17:59:13.289Z"
   },
   {
    "duration": 62,
    "start_time": "2021-11-20T17:59:13.319Z"
   },
   {
    "duration": 21,
    "start_time": "2021-11-20T17:59:13.384Z"
   },
   {
    "duration": 51,
    "start_time": "2021-11-20T17:59:13.408Z"
   },
   {
    "duration": 19,
    "start_time": "2021-11-20T17:59:13.461Z"
   },
   {
    "duration": 420,
    "start_time": "2021-11-20T17:59:13.484Z"
   },
   {
    "duration": 775,
    "start_time": "2021-11-20T17:59:46.509Z"
   },
   {
    "duration": 104,
    "start_time": "2021-11-20T17:59:47.286Z"
   },
   {
    "duration": 12,
    "start_time": "2021-11-20T17:59:47.393Z"
   },
   {
    "duration": 22,
    "start_time": "2021-11-20T17:59:47.408Z"
   },
   {
    "duration": 41,
    "start_time": "2021-11-20T17:59:47.465Z"
   },
   {
    "duration": 11,
    "start_time": "2021-11-20T17:59:47.509Z"
   },
   {
    "duration": 42,
    "start_time": "2021-11-20T17:59:47.523Z"
   },
   {
    "duration": 66,
    "start_time": "2021-11-20T17:59:47.569Z"
   },
   {
    "duration": 34,
    "start_time": "2021-11-20T17:59:47.638Z"
   },
   {
    "duration": 38,
    "start_time": "2021-11-20T17:59:47.675Z"
   },
   {
    "duration": 11063,
    "start_time": "2021-11-20T17:59:47.716Z"
   },
   {
    "duration": 23,
    "start_time": "2021-11-20T17:59:58.781Z"
   },
   {
    "duration": 23,
    "start_time": "2021-11-20T17:59:58.807Z"
   },
   {
    "duration": 39,
    "start_time": "2021-11-20T17:59:58.859Z"
   },
   {
    "duration": 25,
    "start_time": "2021-11-20T17:59:58.901Z"
   },
   {
    "duration": 65,
    "start_time": "2021-11-20T17:59:58.930Z"
   },
   {
    "duration": 19,
    "start_time": "2021-11-20T17:59:58.998Z"
   },
   {
    "duration": 526,
    "start_time": "2021-11-20T17:59:59.020Z"
   },
   {
    "duration": -290,
    "start_time": "2021-11-20T17:59:59.839Z"
   },
   {
    "duration": -296,
    "start_time": "2021-11-20T17:59:59.847Z"
   },
   {
    "duration": -301,
    "start_time": "2021-11-20T17:59:59.853Z"
   },
   {
    "duration": -304,
    "start_time": "2021-11-20T17:59:59.857Z"
   },
   {
    "duration": -310,
    "start_time": "2021-11-20T17:59:59.865Z"
   },
   {
    "duration": -314,
    "start_time": "2021-11-20T17:59:59.870Z"
   },
   {
    "duration": -315,
    "start_time": "2021-11-20T17:59:59.873Z"
   },
   {
    "duration": -320,
    "start_time": "2021-11-20T17:59:59.881Z"
   },
   {
    "duration": -323,
    "start_time": "2021-11-20T17:59:59.886Z"
   },
   {
    "duration": -324,
    "start_time": "2021-11-20T17:59:59.889Z"
   },
   {
    "duration": -330,
    "start_time": "2021-11-20T17:59:59.897Z"
   },
   {
    "duration": -332,
    "start_time": "2021-11-20T17:59:59.901Z"
   },
   {
    "duration": -334,
    "start_time": "2021-11-20T17:59:59.905Z"
   },
   {
    "duration": -333,
    "start_time": "2021-11-20T17:59:59.908Z"
   },
   {
    "duration": -337,
    "start_time": "2021-11-20T17:59:59.914Z"
   },
   {
    "duration": -340,
    "start_time": "2021-11-20T17:59:59.919Z"
   },
   {
    "duration": -341,
    "start_time": "2021-11-20T17:59:59.922Z"
   },
   {
    "duration": -343,
    "start_time": "2021-11-20T17:59:59.925Z"
   },
   {
    "duration": -349,
    "start_time": "2021-11-20T17:59:59.933Z"
   },
   {
    "duration": -350,
    "start_time": "2021-11-20T17:59:59.935Z"
   },
   {
    "duration": 24,
    "start_time": "2021-11-20T18:01:02.890Z"
   },
   {
    "duration": 12,
    "start_time": "2021-11-20T18:01:08.380Z"
   },
   {
    "duration": 23,
    "start_time": "2021-11-20T18:01:12.209Z"
   },
   {
    "duration": 18,
    "start_time": "2021-11-20T18:01:16.780Z"
   },
   {
    "duration": 4,
    "start_time": "2021-11-20T18:08:57.638Z"
   },
   {
    "duration": 118,
    "start_time": "2021-11-20T18:08:57.645Z"
   },
   {
    "duration": 12,
    "start_time": "2021-11-20T18:08:57.766Z"
   },
   {
    "duration": 31,
    "start_time": "2021-11-20T18:08:57.782Z"
   },
   {
    "duration": 75,
    "start_time": "2021-11-20T18:08:57.816Z"
   },
   {
    "duration": 12,
    "start_time": "2021-11-20T18:08:57.894Z"
   },
   {
    "duration": 9,
    "start_time": "2021-11-20T18:08:57.908Z"
   },
   {
    "duration": 58,
    "start_time": "2021-11-20T18:08:57.920Z"
   },
   {
    "duration": 15,
    "start_time": "2021-11-20T18:08:57.981Z"
   },
   {
    "duration": 36,
    "start_time": "2021-11-20T18:08:57.998Z"
   },
   {
    "duration": 10138,
    "start_time": "2021-11-20T18:08:59.460Z"
   },
   {
    "duration": 24,
    "start_time": "2021-11-20T18:09:09.600Z"
   },
   {
    "duration": 49,
    "start_time": "2021-11-20T18:09:09.627Z"
   },
   {
    "duration": 18,
    "start_time": "2021-11-20T18:09:09.679Z"
   },
   {
    "duration": 2795,
    "start_time": "2021-11-20T18:09:17.103Z"
   },
   {
    "duration": 21,
    "start_time": "2021-11-20T18:10:06.213Z"
   },
   {
    "duration": 10609,
    "start_time": "2021-11-20T18:10:34.232Z"
   },
   {
    "duration": 18,
    "start_time": "2021-11-20T18:10:44.843Z"
   },
   {
    "duration": 858,
    "start_time": "2021-11-20T18:11:00.854Z"
   },
   {
    "duration": 103,
    "start_time": "2021-11-20T18:11:01.715Z"
   },
   {
    "duration": 13,
    "start_time": "2021-11-20T18:11:01.822Z"
   },
   {
    "duration": 51,
    "start_time": "2021-11-20T18:11:01.837Z"
   },
   {
    "duration": 38,
    "start_time": "2021-11-20T18:11:01.890Z"
   },
   {
    "duration": 35,
    "start_time": "2021-11-20T18:11:01.931Z"
   },
   {
    "duration": 24,
    "start_time": "2021-11-20T18:11:01.968Z"
   },
   {
    "duration": 65,
    "start_time": "2021-11-20T18:11:01.996Z"
   },
   {
    "duration": 16,
    "start_time": "2021-11-20T18:11:02.065Z"
   },
   {
    "duration": 37,
    "start_time": "2021-11-20T18:11:02.087Z"
   },
   {
    "duration": 10043,
    "start_time": "2021-11-20T18:11:02.127Z"
   },
   {
    "duration": 25,
    "start_time": "2021-11-20T18:11:12.172Z"
   },
   {
    "duration": 25,
    "start_time": "2021-11-20T18:11:12.199Z"
   },
   {
    "duration": 53,
    "start_time": "2021-11-20T18:11:12.227Z"
   },
   {
    "duration": 24,
    "start_time": "2021-11-20T18:11:12.283Z"
   },
   {
    "duration": 23,
    "start_time": "2021-11-20T18:11:12.310Z"
   },
   {
    "duration": 51,
    "start_time": "2021-11-20T18:11:12.335Z"
   },
   {
    "duration": 20,
    "start_time": "2021-11-20T18:11:12.388Z"
   },
   {
    "duration": 2873,
    "start_time": "2021-11-20T18:11:12.410Z"
   },
   {
    "duration": -145,
    "start_time": "2021-11-20T18:11:15.432Z"
   },
   {
    "duration": -148,
    "start_time": "2021-11-20T18:11:15.437Z"
   },
   {
    "duration": -155,
    "start_time": "2021-11-20T18:11:15.445Z"
   },
   {
    "duration": -158,
    "start_time": "2021-11-20T18:11:15.450Z"
   },
   {
    "duration": -160,
    "start_time": "2021-11-20T18:11:15.453Z"
   },
   {
    "duration": -167,
    "start_time": "2021-11-20T18:11:15.462Z"
   },
   {
    "duration": -170,
    "start_time": "2021-11-20T18:11:15.466Z"
   },
   {
    "duration": -173,
    "start_time": "2021-11-20T18:11:15.471Z"
   },
   {
    "duration": -175,
    "start_time": "2021-11-20T18:11:15.474Z"
   },
   {
    "duration": -182,
    "start_time": "2021-11-20T18:11:15.482Z"
   },
   {
    "duration": -183,
    "start_time": "2021-11-20T18:11:15.485Z"
   },
   {
    "duration": -187,
    "start_time": "2021-11-20T18:11:15.490Z"
   },
   {
    "duration": -191,
    "start_time": "2021-11-20T18:11:15.496Z"
   },
   {
    "duration": -195,
    "start_time": "2021-11-20T18:11:15.501Z"
   },
   {
    "duration": -198,
    "start_time": "2021-11-20T18:11:15.505Z"
   },
   {
    "duration": -204,
    "start_time": "2021-11-20T18:11:15.513Z"
   },
   {
    "duration": -207,
    "start_time": "2021-11-20T18:11:15.517Z"
   },
   {
    "duration": -210,
    "start_time": "2021-11-20T18:11:15.521Z"
   },
   {
    "duration": -216,
    "start_time": "2021-11-20T18:11:15.528Z"
   },
   {
    "duration": -219,
    "start_time": "2021-11-20T18:11:15.532Z"
   },
   {
    "duration": 40,
    "start_time": "2021-11-20T18:11:57.154Z"
   },
   {
    "duration": 28,
    "start_time": "2021-11-20T18:12:02.404Z"
   },
   {
    "duration": 17,
    "start_time": "2021-11-20T18:12:07.143Z"
   },
   {
    "duration": 579,
    "start_time": "2021-11-20T18:12:13.013Z"
   },
   {
    "duration": 26,
    "start_time": "2021-11-20T18:12:25.614Z"
   },
   {
    "duration": 807,
    "start_time": "2021-11-20T18:12:57.448Z"
   },
   {
    "duration": 99,
    "start_time": "2021-11-20T18:12:58.258Z"
   },
   {
    "duration": 16,
    "start_time": "2021-11-20T18:12:58.360Z"
   },
   {
    "duration": 23,
    "start_time": "2021-11-20T18:12:58.379Z"
   },
   {
    "duration": 71,
    "start_time": "2021-11-20T18:12:58.406Z"
   },
   {
    "duration": 14,
    "start_time": "2021-11-20T18:12:58.480Z"
   },
   {
    "duration": 9,
    "start_time": "2021-11-20T18:12:58.497Z"
   },
   {
    "duration": 89,
    "start_time": "2021-11-20T18:12:58.508Z"
   },
   {
    "duration": 14,
    "start_time": "2021-11-20T18:12:58.601Z"
   },
   {
    "duration": 64,
    "start_time": "2021-11-20T18:12:58.619Z"
   },
   {
    "duration": 10008,
    "start_time": "2021-11-20T18:12:58.686Z"
   },
   {
    "duration": 22,
    "start_time": "2021-11-20T18:13:08.696Z"
   },
   {
    "duration": 46,
    "start_time": "2021-11-20T18:13:08.720Z"
   },
   {
    "duration": 19,
    "start_time": "2021-11-20T18:13:08.769Z"
   },
   {
    "duration": 25,
    "start_time": "2021-11-20T18:13:08.791Z"
   },
   {
    "duration": 58,
    "start_time": "2021-11-20T18:13:08.819Z"
   },
   {
    "duration": 15,
    "start_time": "2021-11-20T18:13:08.880Z"
   },
   {
    "duration": 3132,
    "start_time": "2021-11-20T18:13:08.898Z"
   },
   {
    "duration": -134,
    "start_time": "2021-11-20T18:13:12.167Z"
   },
   {
    "duration": -137,
    "start_time": "2021-11-20T18:13:12.171Z"
   },
   {
    "duration": -145,
    "start_time": "2021-11-20T18:13:12.181Z"
   },
   {
    "duration": -149,
    "start_time": "2021-11-20T18:13:12.186Z"
   },
   {
    "duration": -151,
    "start_time": "2021-11-20T18:13:12.190Z"
   },
   {
    "duration": -158,
    "start_time": "2021-11-20T18:13:12.198Z"
   },
   {
    "duration": -160,
    "start_time": "2021-11-20T18:13:12.201Z"
   },
   {
    "duration": -162,
    "start_time": "2021-11-20T18:13:12.205Z"
   },
   {
    "duration": -166,
    "start_time": "2021-11-20T18:13:12.210Z"
   },
   {
    "duration": -170,
    "start_time": "2021-11-20T18:13:12.216Z"
   },
   {
    "duration": -173,
    "start_time": "2021-11-20T18:13:12.220Z"
   },
   {
    "duration": -176,
    "start_time": "2021-11-20T18:13:12.224Z"
   },
   {
    "duration": -181,
    "start_time": "2021-11-20T18:13:12.230Z"
   },
   {
    "duration": -183,
    "start_time": "2021-11-20T18:13:12.234Z"
   },
   {
    "duration": -186,
    "start_time": "2021-11-20T18:13:12.238Z"
   },
   {
    "duration": -189,
    "start_time": "2021-11-20T18:13:12.243Z"
   },
   {
    "duration": -193,
    "start_time": "2021-11-20T18:13:12.248Z"
   },
   {
    "duration": -196,
    "start_time": "2021-11-20T18:13:12.252Z"
   },
   {
    "duration": -199,
    "start_time": "2021-11-20T18:13:12.257Z"
   },
   {
    "duration": -203,
    "start_time": "2021-11-20T18:13:12.262Z"
   },
   {
    "duration": 38,
    "start_time": "2021-11-20T18:13:38.978Z"
   },
   {
    "duration": 6,
    "start_time": "2021-11-20T18:13:53.269Z"
   },
   {
    "duration": 105,
    "start_time": "2021-11-20T18:13:53.278Z"
   },
   {
    "duration": 12,
    "start_time": "2021-11-20T18:13:53.385Z"
   },
   {
    "duration": 37,
    "start_time": "2021-11-20T18:13:53.400Z"
   },
   {
    "duration": 55,
    "start_time": "2021-11-20T18:13:53.439Z"
   },
   {
    "duration": 16,
    "start_time": "2021-11-20T18:13:53.496Z"
   },
   {
    "duration": 23,
    "start_time": "2021-11-20T18:13:53.514Z"
   },
   {
    "duration": 81,
    "start_time": "2021-11-20T18:13:53.540Z"
   },
   {
    "duration": 14,
    "start_time": "2021-11-20T18:13:53.624Z"
   },
   {
    "duration": 50,
    "start_time": "2021-11-20T18:13:53.640Z"
   },
   {
    "duration": 10117,
    "start_time": "2021-11-20T18:13:53.693Z"
   },
   {
    "duration": 21,
    "start_time": "2021-11-20T18:14:03.812Z"
   },
   {
    "duration": 51,
    "start_time": "2021-11-20T18:14:03.835Z"
   },
   {
    "duration": 35,
    "start_time": "2021-11-20T18:14:03.888Z"
   },
   {
    "duration": 38,
    "start_time": "2021-11-20T18:14:03.926Z"
   },
   {
    "duration": 39,
    "start_time": "2021-11-20T18:14:03.967Z"
   },
   {
    "duration": 36,
    "start_time": "2021-11-20T18:14:18.250Z"
   },
   {
    "duration": 3,
    "start_time": "2021-11-20T18:16:46.247Z"
   },
   {
    "duration": 644,
    "start_time": "2021-11-20T18:16:47.927Z"
   },
   {
    "duration": 379,
    "start_time": "2021-11-20T18:16:49.678Z"
   },
   {
    "duration": 693,
    "start_time": "2021-11-20T18:16:52.208Z"
   },
   {
    "duration": 910,
    "start_time": "2021-11-20T18:17:08.386Z"
   },
   {
    "duration": 111,
    "start_time": "2021-11-20T18:17:09.298Z"
   },
   {
    "duration": 13,
    "start_time": "2021-11-20T18:17:09.412Z"
   },
   {
    "duration": 47,
    "start_time": "2021-11-20T18:17:09.428Z"
   },
   {
    "duration": 36,
    "start_time": "2021-11-20T18:17:09.478Z"
   },
   {
    "duration": 11,
    "start_time": "2021-11-20T18:17:09.517Z"
   },
   {
    "duration": 42,
    "start_time": "2021-11-20T18:17:09.530Z"
   },
   {
    "duration": 62,
    "start_time": "2021-11-20T18:17:09.575Z"
   },
   {
    "duration": 39,
    "start_time": "2021-11-20T18:17:09.640Z"
   },
   {
    "duration": 36,
    "start_time": "2021-11-20T18:17:10.287Z"
   },
   {
    "duration": 10956,
    "start_time": "2021-11-20T18:17:10.326Z"
   },
   {
    "duration": 27,
    "start_time": "2021-11-20T18:17:21.286Z"
   },
   {
    "duration": 51,
    "start_time": "2021-11-20T18:17:21.316Z"
   },
   {
    "duration": 41,
    "start_time": "2021-11-20T18:17:21.370Z"
   },
   {
    "duration": 21,
    "start_time": "2021-11-20T18:17:21.413Z"
   },
   {
    "duration": 64,
    "start_time": "2021-11-20T18:17:21.437Z"
   },
   {
    "duration": 24,
    "start_time": "2021-11-20T18:17:21.506Z"
   },
   {
    "duration": 47,
    "start_time": "2021-11-20T18:17:21.559Z"
   },
   {
    "duration": 53,
    "start_time": "2021-11-20T18:17:21.609Z"
   },
   {
    "duration": 50,
    "start_time": "2021-11-20T18:17:21.665Z"
   },
   {
    "duration": 47,
    "start_time": "2021-11-20T18:17:21.718Z"
   },
   {
    "duration": 7227,
    "start_time": "2021-11-20T18:17:21.768Z"
   },
   {
    "duration": 11428,
    "start_time": "2021-11-20T18:17:28.998Z"
   },
   {
    "duration": -230,
    "start_time": "2021-11-20T18:17:40.661Z"
   },
   {
    "duration": -231,
    "start_time": "2021-11-20T18:17:40.665Z"
   },
   {
    "duration": -230,
    "start_time": "2021-11-20T18:17:40.667Z"
   },
   {
    "duration": -237,
    "start_time": "2021-11-20T18:17:40.676Z"
   },
   {
    "duration": -239,
    "start_time": "2021-11-20T18:17:40.680Z"
   },
   {
    "duration": -240,
    "start_time": "2021-11-20T18:17:40.683Z"
   },
   {
    "duration": -242,
    "start_time": "2021-11-20T18:17:40.687Z"
   },
   {
    "duration": -247,
    "start_time": "2021-11-20T18:17:40.694Z"
   },
   {
    "duration": -248,
    "start_time": "2021-11-20T18:17:40.697Z"
   },
   {
    "duration": -252,
    "start_time": "2021-11-20T18:17:40.702Z"
   },
   {
    "duration": -257,
    "start_time": "2021-11-20T18:17:40.709Z"
   },
   {
    "duration": -259,
    "start_time": "2021-11-20T18:17:40.713Z"
   },
   {
    "duration": -261,
    "start_time": "2021-11-20T18:17:40.716Z"
   },
   {
    "duration": -264,
    "start_time": "2021-11-20T18:17:40.721Z"
   },
   {
    "duration": -268,
    "start_time": "2021-11-20T18:17:40.728Z"
   },
   {
    "duration": 79,
    "start_time": "2021-11-20T18:17:49.460Z"
   },
   {
    "duration": 878,
    "start_time": "2021-11-20T18:17:59.122Z"
   },
   {
    "duration": 116,
    "start_time": "2021-11-20T18:18:00.003Z"
   },
   {
    "duration": 13,
    "start_time": "2021-11-20T18:18:00.123Z"
   },
   {
    "duration": 53,
    "start_time": "2021-11-20T18:18:00.139Z"
   },
   {
    "duration": 38,
    "start_time": "2021-11-20T18:18:00.195Z"
   },
   {
    "duration": 36,
    "start_time": "2021-11-20T18:18:00.235Z"
   },
   {
    "duration": 21,
    "start_time": "2021-11-20T18:18:00.274Z"
   },
   {
    "duration": 128,
    "start_time": "2021-11-20T18:18:00.301Z"
   },
   {
    "duration": 27,
    "start_time": "2021-11-20T18:18:00.434Z"
   },
   {
    "duration": 51,
    "start_time": "2021-11-20T18:18:00.464Z"
   },
   {
    "duration": 10616,
    "start_time": "2021-11-20T18:18:00.518Z"
   },
   {
    "duration": 45,
    "start_time": "2021-11-20T18:18:11.136Z"
   },
   {
    "duration": 41,
    "start_time": "2021-11-20T18:18:11.184Z"
   },
   {
    "duration": 58,
    "start_time": "2021-11-20T18:18:11.228Z"
   },
   {
    "duration": 22,
    "start_time": "2021-11-20T18:18:11.288Z"
   },
   {
    "duration": 55,
    "start_time": "2021-11-20T18:18:11.313Z"
   },
   {
    "duration": 23,
    "start_time": "2021-11-20T18:18:11.371Z"
   },
   {
    "duration": 71,
    "start_time": "2021-11-20T18:18:11.397Z"
   },
   {
    "duration": 31,
    "start_time": "2021-11-20T18:18:11.471Z"
   },
   {
    "duration": 84,
    "start_time": "2021-11-20T18:18:11.504Z"
   },
   {
    "duration": 38,
    "start_time": "2021-11-20T18:18:11.591Z"
   },
   {
    "duration": 580,
    "start_time": "2021-11-20T18:18:11.632Z"
   },
   {
    "duration": -194,
    "start_time": "2021-11-20T18:18:12.410Z"
   },
   {
    "duration": -203,
    "start_time": "2021-11-20T18:18:12.422Z"
   },
   {
    "duration": -205,
    "start_time": "2021-11-20T18:18:12.426Z"
   },
   {
    "duration": -207,
    "start_time": "2021-11-20T18:18:12.430Z"
   },
   {
    "duration": -214,
    "start_time": "2021-11-20T18:18:12.439Z"
   },
   {
    "duration": -215,
    "start_time": "2021-11-20T18:18:12.442Z"
   },
   {
    "duration": -217,
    "start_time": "2021-11-20T18:18:12.446Z"
   },
   {
    "duration": -219,
    "start_time": "2021-11-20T18:18:12.450Z"
   },
   {
    "duration": -224,
    "start_time": "2021-11-20T18:18:12.457Z"
   },
   {
    "duration": -225,
    "start_time": "2021-11-20T18:18:12.460Z"
   },
   {
    "duration": -226,
    "start_time": "2021-11-20T18:18:12.463Z"
   },
   {
    "duration": -231,
    "start_time": "2021-11-20T18:18:12.471Z"
   },
   {
    "duration": -232,
    "start_time": "2021-11-20T18:18:12.474Z"
   },
   {
    "duration": -234,
    "start_time": "2021-11-20T18:18:12.478Z"
   },
   {
    "duration": -234,
    "start_time": "2021-11-20T18:18:12.480Z"
   },
   {
    "duration": -239,
    "start_time": "2021-11-20T18:18:12.487Z"
   },
   {
    "duration": 6769,
    "start_time": "2021-11-20T18:19:15.242Z"
   },
   {
    "duration": 34,
    "start_time": "2021-11-20T18:19:27.304Z"
   },
   {
    "duration": 26,
    "start_time": "2021-11-20T18:19:44.755Z"
   },
   {
    "duration": 17,
    "start_time": "2021-11-20T18:19:48.092Z"
   },
   {
    "duration": 501,
    "start_time": "2021-11-20T18:19:56.523Z"
   },
   {
    "duration": 16,
    "start_time": "2021-11-20T18:20:03.892Z"
   },
   {
    "duration": 4,
    "start_time": "2021-11-20T18:41:56.113Z"
   },
   {
    "duration": 11,
    "start_time": "2021-11-20T18:41:57.550Z"
   },
   {
    "duration": 4,
    "start_time": "2021-11-20T18:42:00.261Z"
   },
   {
    "duration": 5,
    "start_time": "2021-11-20T18:42:01.520Z"
   },
   {
    "duration": 9,
    "start_time": "2021-11-20T18:42:04.162Z"
   },
   {
    "duration": 5,
    "start_time": "2021-11-20T18:42:28.557Z"
   },
   {
    "duration": 9,
    "start_time": "2021-11-20T18:42:33.258Z"
   },
   {
    "duration": 5,
    "start_time": "2021-11-20T18:42:42.966Z"
   },
   {
    "duration": 10,
    "start_time": "2021-11-20T18:42:44.501Z"
   },
   {
    "duration": 14,
    "start_time": "2021-11-20T18:43:36.316Z"
   },
   {
    "duration": 14,
    "start_time": "2021-11-20T18:43:43.341Z"
   },
   {
    "duration": 376,
    "start_time": "2021-11-20T18:45:45.197Z"
   },
   {
    "duration": 4,
    "start_time": "2021-11-20T18:46:00.877Z"
   },
   {
    "duration": 6,
    "start_time": "2021-11-20T18:46:06.677Z"
   },
   {
    "duration": 4,
    "start_time": "2021-11-20T18:46:17.943Z"
   },
   {
    "duration": 6,
    "start_time": "2021-11-20T18:46:26.045Z"
   },
   {
    "duration": 7,
    "start_time": "2021-11-20T18:47:06.708Z"
   },
   {
    "duration": -496,
    "start_time": "2021-11-20T18:47:43.568Z"
   },
   {
    "duration": -532,
    "start_time": "2021-11-20T18:47:43.606Z"
   },
   {
    "duration": -540,
    "start_time": "2021-11-20T18:47:43.615Z"
   },
   {
    "duration": 9945,
    "start_time": "2021-11-20T18:47:48.848Z"
   },
   {
    "duration": -325,
    "start_time": "2021-11-20T18:47:59.121Z"
   },
   {
    "duration": -336,
    "start_time": "2021-11-20T18:47:59.134Z"
   },
   {
    "duration": 386,
    "start_time": "2021-11-20T18:48:08.572Z"
   },
   {
    "duration": -249,
    "start_time": "2021-11-20T18:48:09.210Z"
   },
   {
    "duration": -254,
    "start_time": "2021-11-20T18:48:09.216Z"
   },
   {
    "duration": -306,
    "start_time": "2021-11-20T18:48:09.270Z"
   },
   {
    "duration": -330,
    "start_time": "2021-11-20T18:48:09.296Z"
   },
   {
    "duration": -338,
    "start_time": "2021-11-20T18:48:09.305Z"
   },
   {
    "duration": -340,
    "start_time": "2021-11-20T18:48:09.309Z"
   },
   {
    "duration": 27,
    "start_time": "2021-11-20T18:48:23.178Z"
   },
   {
    "duration": 4,
    "start_time": "2021-11-20T21:12:05.966Z"
   },
   {
    "duration": 201,
    "start_time": "2021-11-20T21:13:26.919Z"
   },
   {
    "duration": 542,
    "start_time": "2021-11-20T21:13:39.661Z"
   },
   {
    "duration": 68,
    "start_time": "2021-11-20T21:13:40.205Z"
   },
   {
    "duration": 17,
    "start_time": "2021-11-20T21:13:40.275Z"
   },
   {
    "duration": 15,
    "start_time": "2021-11-20T21:13:40.293Z"
   },
   {
    "duration": 22,
    "start_time": "2021-11-20T21:13:40.310Z"
   },
   {
    "duration": 7,
    "start_time": "2021-11-20T21:13:40.333Z"
   },
   {
    "duration": 8,
    "start_time": "2021-11-20T21:13:40.341Z"
   },
   {
    "duration": 67,
    "start_time": "2021-11-20T21:13:40.351Z"
   },
   {
    "duration": 10,
    "start_time": "2021-11-20T21:13:40.419Z"
   },
   {
    "duration": 21,
    "start_time": "2021-11-20T21:13:40.430Z"
   },
   {
    "duration": 5100,
    "start_time": "2021-11-20T21:13:40.452Z"
   },
   {
    "duration": 13,
    "start_time": "2021-11-20T21:13:45.553Z"
   },
   {
    "duration": 29,
    "start_time": "2021-11-20T21:13:45.568Z"
   },
   {
    "duration": 25,
    "start_time": "2021-11-20T21:13:45.598Z"
   },
   {
    "duration": 13,
    "start_time": "2021-11-20T21:13:45.625Z"
   },
   {
    "duration": 21,
    "start_time": "2021-11-20T21:13:45.640Z"
   },
   {
    "duration": 31,
    "start_time": "2021-11-20T21:13:45.662Z"
   },
   {
    "duration": 22,
    "start_time": "2021-11-20T21:13:45.695Z"
   },
   {
    "duration": 14,
    "start_time": "2021-11-20T21:13:45.718Z"
   },
   {
    "duration": 28,
    "start_time": "2021-11-20T21:13:45.733Z"
   },
   {
    "duration": 40,
    "start_time": "2021-11-20T21:13:45.763Z"
   },
   {
    "duration": 3901,
    "start_time": "2021-11-20T21:13:45.805Z"
   },
   {
    "duration": 15,
    "start_time": "2021-11-20T21:13:49.711Z"
   },
   {
    "duration": 9,
    "start_time": "2021-11-20T21:13:49.728Z"
   },
   {
    "duration": 686,
    "start_time": "2021-11-20T21:13:49.738Z"
   },
   {
    "duration": -173,
    "start_time": "2021-11-20T21:13:50.599Z"
   },
   {
    "duration": -179,
    "start_time": "2021-11-20T21:13:50.606Z"
   },
   {
    "duration": -187,
    "start_time": "2021-11-20T21:13:50.614Z"
   },
   {
    "duration": -190,
    "start_time": "2021-11-20T21:13:50.618Z"
   },
   {
    "duration": -193,
    "start_time": "2021-11-20T21:13:50.622Z"
   },
   {
    "duration": -200,
    "start_time": "2021-11-20T21:13:50.630Z"
   },
   {
    "duration": -202,
    "start_time": "2021-11-20T21:13:50.633Z"
   },
   {
    "duration": -205,
    "start_time": "2021-11-20T21:13:50.638Z"
   },
   {
    "duration": -212,
    "start_time": "2021-11-20T21:13:50.646Z"
   },
   {
    "duration": -214,
    "start_time": "2021-11-20T21:13:50.649Z"
   },
   {
    "duration": -217,
    "start_time": "2021-11-20T21:13:50.653Z"
   },
   {
    "duration": -224,
    "start_time": "2021-11-20T21:13:50.661Z"
   },
   {
    "duration": -226,
    "start_time": "2021-11-20T21:13:50.664Z"
   },
   {
    "duration": -229,
    "start_time": "2021-11-20T21:13:50.668Z"
   },
   {
    "duration": 633,
    "start_time": "2021-11-20T21:17:39.261Z"
   },
   {
    "duration": 178,
    "start_time": "2021-11-20T21:17:58.432Z"
   },
   {
    "duration": 19,
    "start_time": "2021-11-20T21:18:42.436Z"
   },
   {
    "duration": 15,
    "start_time": "2021-11-20T21:18:51.867Z"
   },
   {
    "duration": 18,
    "start_time": "2021-11-20T21:19:48.386Z"
   },
   {
    "duration": 17,
    "start_time": "2021-11-20T21:19:57.868Z"
   },
   {
    "duration": 578,
    "start_time": "2021-11-20T21:20:09.773Z"
   },
   {
    "duration": 73,
    "start_time": "2021-11-20T21:20:10.353Z"
   },
   {
    "duration": 8,
    "start_time": "2021-11-20T21:20:10.428Z"
   },
   {
    "duration": 15,
    "start_time": "2021-11-20T21:20:10.438Z"
   },
   {
    "duration": 50,
    "start_time": "2021-11-20T21:20:10.455Z"
   },
   {
    "duration": 8,
    "start_time": "2021-11-20T21:20:10.507Z"
   },
   {
    "duration": 12,
    "start_time": "2021-11-20T21:20:10.516Z"
   },
   {
    "duration": 42,
    "start_time": "2021-11-20T21:20:10.530Z"
   },
   {
    "duration": 27,
    "start_time": "2021-11-20T21:20:10.573Z"
   },
   {
    "duration": 23,
    "start_time": "2021-11-20T21:20:10.601Z"
   },
   {
    "duration": 4980,
    "start_time": "2021-11-20T21:20:10.626Z"
   },
   {
    "duration": 15,
    "start_time": "2021-11-20T21:20:15.608Z"
   },
   {
    "duration": 42,
    "start_time": "2021-11-20T21:20:15.625Z"
   },
   {
    "duration": 29,
    "start_time": "2021-11-20T21:20:15.669Z"
   },
   {
    "duration": 17,
    "start_time": "2021-11-20T21:20:15.700Z"
   },
   {
    "duration": 25,
    "start_time": "2021-11-20T21:20:15.718Z"
   },
   {
    "duration": 11,
    "start_time": "2021-11-20T21:20:15.744Z"
   },
   {
    "duration": 40,
    "start_time": "2021-11-20T21:20:15.757Z"
   },
   {
    "duration": 14,
    "start_time": "2021-11-20T21:20:15.799Z"
   },
   {
    "duration": 31,
    "start_time": "2021-11-20T21:20:15.815Z"
   },
   {
    "duration": 17,
    "start_time": "2021-11-20T21:20:15.847Z"
   },
   {
    "duration": 3881,
    "start_time": "2021-11-20T21:20:15.865Z"
   },
   {
    "duration": 15,
    "start_time": "2021-11-20T21:20:19.748Z"
   },
   {
    "duration": 8,
    "start_time": "2021-11-20T21:20:19.765Z"
   },
   {
    "duration": 247,
    "start_time": "2021-11-20T21:20:19.774Z"
   },
   {
    "duration": -298,
    "start_time": "2021-11-20T21:20:20.322Z"
   },
   {
    "duration": -302,
    "start_time": "2021-11-20T21:20:20.327Z"
   },
   {
    "duration": -310,
    "start_time": "2021-11-20T21:20:20.336Z"
   },
   {
    "duration": -313,
    "start_time": "2021-11-20T21:20:20.340Z"
   },
   {
    "duration": -315,
    "start_time": "2021-11-20T21:20:20.343Z"
   },
   {
    "duration": -322,
    "start_time": "2021-11-20T21:20:20.351Z"
   },
   {
    "duration": -594,
    "start_time": "2021-11-20T21:20:20.624Z"
   },
   {
    "duration": -616,
    "start_time": "2021-11-20T21:20:20.647Z"
   },
   {
    "duration": -625,
    "start_time": "2021-11-20T21:20:20.657Z"
   },
   {
    "duration": -628,
    "start_time": "2021-11-20T21:20:20.661Z"
   },
   {
    "duration": -635,
    "start_time": "2021-11-20T21:20:20.669Z"
   },
   {
    "duration": -639,
    "start_time": "2021-11-20T21:20:20.674Z"
   },
   {
    "duration": -641,
    "start_time": "2021-11-20T21:20:20.678Z"
   },
   {
    "duration": -648,
    "start_time": "2021-11-20T21:20:20.686Z"
   },
   {
    "duration": 166,
    "start_time": "2021-11-20T21:20:56.941Z"
   },
   {
    "duration": 1374,
    "start_time": "2021-11-20T21:21:13.087Z"
   },
   {
    "duration": 23,
    "start_time": "2021-11-20T21:21:30.101Z"
   },
   {
    "duration": 24,
    "start_time": "2021-11-20T21:23:39.692Z"
   },
   {
    "duration": 162,
    "start_time": "2021-11-20T21:24:58.938Z"
   },
   {
    "duration": 64,
    "start_time": "2021-11-20T21:28:02.176Z"
   },
   {
    "duration": 24,
    "start_time": "2021-11-20T21:28:16.308Z"
   },
   {
    "duration": 163,
    "start_time": "2021-11-20T21:28:54.738Z"
   },
   {
    "duration": 168,
    "start_time": "2021-11-20T21:29:01.918Z"
   },
   {
    "duration": 179,
    "start_time": "2021-11-20T21:29:23.647Z"
   },
   {
    "duration": 170,
    "start_time": "2021-11-20T21:29:38.674Z"
   },
   {
    "duration": 22,
    "start_time": "2021-11-20T21:29:45.258Z"
   },
   {
    "duration": 10,
    "start_time": "2021-11-20T21:30:19.177Z"
   },
   {
    "duration": 9,
    "start_time": "2021-11-20T21:31:11.840Z"
   },
   {
    "duration": 12,
    "start_time": "2021-11-20T21:31:38.621Z"
   },
   {
    "duration": 26,
    "start_time": "2021-11-20T21:31:46.530Z"
   },
   {
    "duration": 24,
    "start_time": "2021-11-20T21:32:00.299Z"
   },
   {
    "duration": 29,
    "start_time": "2021-11-20T22:05:48.049Z"
   },
   {
    "duration": 31,
    "start_time": "2021-11-20T22:06:39.231Z"
   },
   {
    "duration": 26,
    "start_time": "2021-11-20T22:08:16.374Z"
   },
   {
    "duration": 28,
    "start_time": "2021-11-20T22:08:41.480Z"
   },
   {
    "duration": 27,
    "start_time": "2021-11-20T22:09:48.131Z"
   },
   {
    "duration": 3,
    "start_time": "2021-11-20T22:10:05.974Z"
   },
   {
    "duration": 26,
    "start_time": "2021-11-20T22:10:07.743Z"
   },
   {
    "duration": 552,
    "start_time": "2021-11-20T22:15:23.409Z"
   },
   {
    "duration": 75,
    "start_time": "2021-11-20T22:15:23.963Z"
   },
   {
    "duration": 8,
    "start_time": "2021-11-20T22:15:24.040Z"
   },
   {
    "duration": 15,
    "start_time": "2021-11-20T22:15:24.050Z"
   },
   {
    "duration": 41,
    "start_time": "2021-11-20T22:15:24.067Z"
   },
   {
    "duration": 7,
    "start_time": "2021-11-20T22:15:24.109Z"
   },
   {
    "duration": 7,
    "start_time": "2021-11-20T22:15:24.117Z"
   },
   {
    "duration": 39,
    "start_time": "2021-11-20T22:15:24.126Z"
   },
   {
    "duration": 11,
    "start_time": "2021-11-20T22:15:24.190Z"
   },
   {
    "duration": 22,
    "start_time": "2021-11-20T22:15:24.202Z"
   },
   {
    "duration": 4991,
    "start_time": "2021-11-20T22:15:24.226Z"
   },
   {
    "duration": 13,
    "start_time": "2021-11-20T22:15:29.218Z"
   },
   {
    "duration": 17,
    "start_time": "2021-11-20T22:15:29.233Z"
   },
   {
    "duration": 41,
    "start_time": "2021-11-20T22:15:29.251Z"
   },
   {
    "duration": 14,
    "start_time": "2021-11-20T22:15:29.294Z"
   },
   {
    "duration": 25,
    "start_time": "2021-11-20T22:15:29.310Z"
   },
   {
    "duration": 13,
    "start_time": "2021-11-20T22:15:29.337Z"
   },
   {
    "duration": 46,
    "start_time": "2021-11-20T22:15:29.352Z"
   },
   {
    "duration": 16,
    "start_time": "2021-11-20T22:15:29.400Z"
   },
   {
    "duration": 32,
    "start_time": "2021-11-20T22:15:29.418Z"
   },
   {
    "duration": 42,
    "start_time": "2021-11-20T22:15:29.452Z"
   },
   {
    "duration": 4006,
    "start_time": "2021-11-20T22:15:29.496Z"
   },
   {
    "duration": 14,
    "start_time": "2021-11-20T22:15:33.506Z"
   },
   {
    "duration": 52,
    "start_time": "2021-11-20T22:15:33.522Z"
   },
   {
    "duration": -88,
    "start_time": "2021-11-20T22:15:33.664Z"
   },
   {
    "duration": -96,
    "start_time": "2021-11-20T22:15:33.672Z"
   },
   {
    "duration": -98,
    "start_time": "2021-11-20T22:15:33.675Z"
   },
   {
    "duration": -102,
    "start_time": "2021-11-20T22:15:33.680Z"
   },
   {
    "duration": -107,
    "start_time": "2021-11-20T22:15:33.686Z"
   },
   {
    "duration": -110,
    "start_time": "2021-11-20T22:15:33.690Z"
   },
   {
    "duration": -113,
    "start_time": "2021-11-20T22:15:33.693Z"
   },
   {
    "duration": -115,
    "start_time": "2021-11-20T22:15:33.696Z"
   },
   {
    "duration": -117,
    "start_time": "2021-11-20T22:15:33.699Z"
   },
   {
    "duration": -122,
    "start_time": "2021-11-20T22:15:33.705Z"
   },
   {
    "duration": -125,
    "start_time": "2021-11-20T22:15:33.709Z"
   },
   {
    "duration": -129,
    "start_time": "2021-11-20T22:15:33.713Z"
   },
   {
    "duration": -134,
    "start_time": "2021-11-20T22:15:33.719Z"
   },
   {
    "duration": -137,
    "start_time": "2021-11-20T22:15:33.723Z"
   },
   {
    "duration": 60,
    "start_time": "2021-11-20T22:42:32.282Z"
   },
   {
    "duration": 14,
    "start_time": "2021-11-20T22:42:38.444Z"
   },
   {
    "duration": 224,
    "start_time": "2021-11-20T22:43:46.626Z"
   },
   {
    "duration": 169,
    "start_time": "2021-11-20T22:44:16.763Z"
   },
   {
    "duration": 516,
    "start_time": "2021-11-20T22:44:35.936Z"
   },
   {
    "duration": 72,
    "start_time": "2021-11-20T22:44:36.454Z"
   },
   {
    "duration": 8,
    "start_time": "2021-11-20T22:44:36.528Z"
   },
   {
    "duration": 15,
    "start_time": "2021-11-20T22:44:36.538Z"
   },
   {
    "duration": 42,
    "start_time": "2021-11-20T22:44:36.554Z"
   },
   {
    "duration": 10,
    "start_time": "2021-11-20T22:44:36.597Z"
   },
   {
    "duration": 6,
    "start_time": "2021-11-20T22:44:36.609Z"
   },
   {
    "duration": 41,
    "start_time": "2021-11-20T22:44:36.616Z"
   },
   {
    "duration": 38,
    "start_time": "2021-11-20T22:44:36.659Z"
   },
   {
    "duration": 23,
    "start_time": "2021-11-20T22:44:36.699Z"
   },
   {
    "duration": 4847,
    "start_time": "2021-11-20T22:44:36.723Z"
   },
   {
    "duration": 21,
    "start_time": "2021-11-20T22:44:41.571Z"
   },
   {
    "duration": 15,
    "start_time": "2021-11-20T22:44:41.593Z"
   },
   {
    "duration": 25,
    "start_time": "2021-11-20T22:44:41.610Z"
   },
   {
    "duration": 14,
    "start_time": "2021-11-20T22:44:41.636Z"
   },
   {
    "duration": 46,
    "start_time": "2021-11-20T22:44:41.651Z"
   },
   {
    "duration": 12,
    "start_time": "2021-11-20T22:44:41.698Z"
   },
   {
    "duration": 22,
    "start_time": "2021-11-20T22:44:41.711Z"
   },
   {
    "duration": 16,
    "start_time": "2021-11-20T22:44:41.734Z"
   },
   {
    "duration": 58,
    "start_time": "2021-11-20T22:44:41.752Z"
   },
   {
    "duration": 17,
    "start_time": "2021-11-20T22:44:41.811Z"
   },
   {
    "duration": 3925,
    "start_time": "2021-11-20T22:44:41.830Z"
   },
   {
    "duration": 15,
    "start_time": "2021-11-20T22:44:45.757Z"
   },
   {
    "duration": 52,
    "start_time": "2021-11-20T22:44:45.774Z"
   },
   {
    "duration": -129,
    "start_time": "2021-11-20T22:44:45.957Z"
   },
   {
    "duration": -132,
    "start_time": "2021-11-20T22:44:45.961Z"
   },
   {
    "duration": -134,
    "start_time": "2021-11-20T22:44:45.964Z"
   },
   {
    "duration": -142,
    "start_time": "2021-11-20T22:44:45.973Z"
   },
   {
    "duration": -144,
    "start_time": "2021-11-20T22:44:45.976Z"
   },
   {
    "duration": -146,
    "start_time": "2021-11-20T22:44:45.979Z"
   },
   {
    "duration": -148,
    "start_time": "2021-11-20T22:44:45.982Z"
   },
   {
    "duration": -155,
    "start_time": "2021-11-20T22:44:45.990Z"
   },
   {
    "duration": -158,
    "start_time": "2021-11-20T22:44:45.994Z"
   },
   {
    "duration": -162,
    "start_time": "2021-11-20T22:44:45.998Z"
   },
   {
    "duration": -164,
    "start_time": "2021-11-20T22:44:46.001Z"
   },
   {
    "duration": -171,
    "start_time": "2021-11-20T22:44:46.009Z"
   },
   {
    "duration": -172,
    "start_time": "2021-11-20T22:44:46.011Z"
   },
   {
    "duration": -175,
    "start_time": "2021-11-20T22:44:46.015Z"
   },
   {
    "duration": 3,
    "start_time": "2021-11-20T22:45:06.959Z"
   },
   {
    "duration": 3,
    "start_time": "2021-11-20T22:45:14.941Z"
   },
   {
    "duration": 31,
    "start_time": "2021-11-20T22:45:14.947Z"
   },
   {
    "duration": 3,
    "start_time": "2021-11-20T22:45:14.980Z"
   },
   {
    "duration": 34,
    "start_time": "2021-11-20T22:45:14.985Z"
   },
   {
    "duration": 3,
    "start_time": "2021-11-20T22:45:15.021Z"
   },
   {
    "duration": 13,
    "start_time": "2021-11-20T22:45:15.025Z"
   },
   {
    "duration": 5,
    "start_time": "2021-11-20T22:45:15.039Z"
   },
   {
    "duration": 10,
    "start_time": "2021-11-20T22:45:15.046Z"
   },
   {
    "duration": 33,
    "start_time": "2021-11-20T22:45:15.058Z"
   },
   {
    "duration": 3,
    "start_time": "2021-11-20T22:45:15.093Z"
   },
   {
    "duration": 8,
    "start_time": "2021-11-20T22:45:15.097Z"
   },
   {
    "duration": 11,
    "start_time": "2021-11-20T22:45:15.107Z"
   },
   {
    "duration": 12,
    "start_time": "2021-11-20T22:45:15.119Z"
   },
   {
    "duration": 8,
    "start_time": "2021-11-20T22:45:15.133Z"
   },
   {
    "duration": 217,
    "start_time": "2021-11-20T22:45:15.143Z"
   },
   {
    "duration": 10,
    "start_time": "2021-11-20T22:46:43.117Z"
   },
   {
    "duration": 11,
    "start_time": "2021-11-20T22:46:52.681Z"
   },
   {
    "duration": 10,
    "start_time": "2021-11-20T22:47:12.078Z"
   },
   {
    "duration": 10,
    "start_time": "2021-11-20T22:47:39.938Z"
   },
   {
    "duration": 20,
    "start_time": "2021-11-20T22:54:08.212Z"
   },
   {
    "duration": 25,
    "start_time": "2021-11-20T22:54:20.876Z"
   },
   {
    "duration": 24,
    "start_time": "2021-11-20T22:55:45.589Z"
   },
   {
    "duration": 48,
    "start_time": "2021-11-20T22:55:58.218Z"
   },
   {
    "duration": 25,
    "start_time": "2021-11-20T22:56:20.679Z"
   },
   {
    "duration": 28,
    "start_time": "2021-11-20T22:57:21.496Z"
   },
   {
    "duration": 27,
    "start_time": "2021-11-20T22:58:04.666Z"
   },
   {
    "duration": 26,
    "start_time": "2021-11-20T22:58:38.174Z"
   },
   {
    "duration": 184,
    "start_time": "2021-11-20T23:00:04.837Z"
   },
   {
    "duration": 10,
    "start_time": "2021-11-20T23:00:41.577Z"
   },
   {
    "duration": 506,
    "start_time": "2021-11-20T23:01:35.053Z"
   },
   {
    "duration": 71,
    "start_time": "2021-11-20T23:01:35.561Z"
   },
   {
    "duration": 8,
    "start_time": "2021-11-20T23:01:35.634Z"
   },
   {
    "duration": 16,
    "start_time": "2021-11-20T23:01:35.644Z"
   },
   {
    "duration": 45,
    "start_time": "2021-11-20T23:01:35.661Z"
   },
   {
    "duration": 7,
    "start_time": "2021-11-20T23:01:35.708Z"
   },
   {
    "duration": 7,
    "start_time": "2021-11-20T23:01:35.717Z"
   },
   {
    "duration": 39,
    "start_time": "2021-11-20T23:01:35.726Z"
   },
   {
    "duration": 35,
    "start_time": "2021-11-20T23:01:35.766Z"
   },
   {
    "duration": 25,
    "start_time": "2021-11-20T23:01:35.803Z"
   },
   {
    "duration": 5276,
    "start_time": "2021-11-20T23:01:35.830Z"
   },
   {
    "duration": 14,
    "start_time": "2021-11-20T23:01:41.108Z"
   },
   {
    "duration": 44,
    "start_time": "2021-11-20T23:01:41.124Z"
   },
   {
    "duration": 43,
    "start_time": "2021-11-20T23:01:41.170Z"
   },
   {
    "duration": 26,
    "start_time": "2021-11-20T23:01:41.216Z"
   },
   {
    "duration": 87,
    "start_time": "2021-11-20T23:01:41.244Z"
   },
   {
    "duration": 38,
    "start_time": "2021-11-20T23:01:41.332Z"
   },
   {
    "duration": 71,
    "start_time": "2021-11-20T23:01:41.372Z"
   },
   {
    "duration": 41,
    "start_time": "2021-11-20T23:01:41.445Z"
   },
   {
    "duration": 73,
    "start_time": "2021-11-20T23:01:41.488Z"
   },
   {
    "duration": 27,
    "start_time": "2021-11-20T23:01:41.562Z"
   },
   {
    "duration": 4368,
    "start_time": "2021-11-20T23:01:41.592Z"
   },
   {
    "duration": 28,
    "start_time": "2021-11-20T23:01:45.963Z"
   },
   {
    "duration": 7,
    "start_time": "2021-11-20T23:01:45.994Z"
   },
   {
    "duration": 48,
    "start_time": "2021-11-20T23:01:46.004Z"
   },
   {
    "duration": 4,
    "start_time": "2021-11-20T23:01:46.055Z"
   },
   {
    "duration": 79,
    "start_time": "2021-11-20T23:01:46.061Z"
   },
   {
    "duration": 3,
    "start_time": "2021-11-20T23:01:46.143Z"
   },
   {
    "duration": 9,
    "start_time": "2021-11-20T23:01:46.147Z"
   },
   {
    "duration": 6,
    "start_time": "2021-11-20T23:01:46.158Z"
   },
   {
    "duration": 7,
    "start_time": "2021-11-20T23:01:46.165Z"
   },
   {
    "duration": 27,
    "start_time": "2021-11-20T23:01:46.174Z"
   },
   {
    "duration": 3,
    "start_time": "2021-11-20T23:01:46.203Z"
   },
   {
    "duration": 7,
    "start_time": "2021-11-20T23:01:46.209Z"
   },
   {
    "duration": 21,
    "start_time": "2021-11-20T23:01:46.219Z"
   },
   {
    "duration": 11,
    "start_time": "2021-11-20T23:01:46.242Z"
   },
   {
    "duration": 37,
    "start_time": "2021-11-20T23:01:46.255Z"
   },
   {
    "duration": 12,
    "start_time": "2021-11-20T23:01:46.294Z"
   },
   {
    "duration": 71,
    "start_time": "2021-11-20T23:08:50.459Z"
   },
   {
    "duration": 28,
    "start_time": "2021-11-20T23:08:59.267Z"
   },
   {
    "duration": 22,
    "start_time": "2021-11-20T23:49:16.665Z"
   },
   {
    "duration": 8,
    "start_time": "2021-11-20T23:49:43.747Z"
   },
   {
    "duration": 7,
    "start_time": "2021-11-20T23:50:30.935Z"
   },
   {
    "duration": 824,
    "start_time": "2021-11-20T23:52:18.352Z"
   },
   {
    "duration": 164,
    "start_time": "2021-11-20T23:52:26.240Z"
   },
   {
    "duration": 10,
    "start_time": "2021-11-20T23:52:43.079Z"
   },
   {
    "duration": 185,
    "start_time": "2021-11-20T23:55:14.882Z"
   },
   {
    "duration": 12,
    "start_time": "2021-11-20T23:56:14.819Z"
   },
   {
    "duration": 329,
    "start_time": "2021-11-20T23:56:33.595Z"
   },
   {
    "duration": 245,
    "start_time": "2021-11-20T23:56:44.961Z"
   },
   {
    "duration": 62,
    "start_time": "2021-11-20T23:56:50.844Z"
   },
   {
    "duration": 166,
    "start_time": "2021-11-20T23:56:57.099Z"
   },
   {
    "duration": 12,
    "start_time": "2021-11-20T23:57:04.823Z"
   },
   {
    "duration": 174,
    "start_time": "2021-11-20T23:57:20.746Z"
   },
   {
    "duration": 13,
    "start_time": "2021-11-20T23:57:50.983Z"
   },
   {
    "duration": 10,
    "start_time": "2021-11-20T23:59:38.908Z"
   },
   {
    "duration": 12,
    "start_time": "2021-11-20T23:59:48.878Z"
   },
   {
    "duration": 174,
    "start_time": "2021-11-21T00:01:16.744Z"
   },
   {
    "duration": 181,
    "start_time": "2021-11-21T00:01:28.284Z"
   },
   {
    "duration": 9,
    "start_time": "2021-11-21T00:01:43.025Z"
   },
   {
    "duration": 9,
    "start_time": "2021-11-21T00:06:07.698Z"
   },
   {
    "duration": 11,
    "start_time": "2021-11-21T00:08:48.646Z"
   },
   {
    "duration": 10,
    "start_time": "2021-11-21T00:10:29.656Z"
   },
   {
    "duration": 525,
    "start_time": "2021-11-21T00:40:13.925Z"
   },
   {
    "duration": 76,
    "start_time": "2021-11-21T00:40:14.452Z"
   },
   {
    "duration": 8,
    "start_time": "2021-11-21T00:40:14.530Z"
   },
   {
    "duration": 16,
    "start_time": "2021-11-21T00:40:14.540Z"
   },
   {
    "duration": 53,
    "start_time": "2021-11-21T00:40:14.558Z"
   },
   {
    "duration": 7,
    "start_time": "2021-11-21T00:40:14.612Z"
   },
   {
    "duration": 8,
    "start_time": "2021-11-21T00:40:14.620Z"
   },
   {
    "duration": 70,
    "start_time": "2021-11-21T00:40:14.631Z"
   },
   {
    "duration": 11,
    "start_time": "2021-11-21T00:40:14.703Z"
   },
   {
    "duration": 23,
    "start_time": "2021-11-21T00:40:14.716Z"
   },
   {
    "duration": 5063,
    "start_time": "2021-11-21T00:40:14.740Z"
   },
   {
    "duration": 13,
    "start_time": "2021-11-21T00:40:19.805Z"
   },
   {
    "duration": 19,
    "start_time": "2021-11-21T00:40:19.819Z"
   },
   {
    "duration": 24,
    "start_time": "2021-11-21T00:40:19.839Z"
   },
   {
    "duration": 36,
    "start_time": "2021-11-21T00:40:19.865Z"
   },
   {
    "duration": 21,
    "start_time": "2021-11-21T00:40:19.903Z"
   },
   {
    "duration": 11,
    "start_time": "2021-11-21T00:40:19.925Z"
   },
   {
    "duration": 19,
    "start_time": "2021-11-21T00:40:19.937Z"
   },
   {
    "duration": 43,
    "start_time": "2021-11-21T00:40:19.958Z"
   },
   {
    "duration": 39,
    "start_time": "2021-11-21T00:40:20.002Z"
   },
   {
    "duration": 25,
    "start_time": "2021-11-21T00:40:20.043Z"
   },
   {
    "duration": 4249,
    "start_time": "2021-11-21T00:40:20.071Z"
   },
   {
    "duration": 15,
    "start_time": "2021-11-21T00:40:24.322Z"
   },
   {
    "duration": 3,
    "start_time": "2021-11-21T00:40:24.339Z"
   },
   {
    "duration": 32,
    "start_time": "2021-11-21T00:40:24.343Z"
   },
   {
    "duration": 18,
    "start_time": "2021-11-21T00:40:24.377Z"
   },
   {
    "duration": 41,
    "start_time": "2021-11-21T00:40:24.397Z"
   },
   {
    "duration": 3,
    "start_time": "2021-11-21T00:40:24.440Z"
   },
   {
    "duration": 9,
    "start_time": "2021-11-21T00:40:24.445Z"
   },
   {
    "duration": 4,
    "start_time": "2021-11-21T00:40:24.455Z"
   },
   {
    "duration": 33,
    "start_time": "2021-11-21T00:40:24.460Z"
   },
   {
    "duration": 13,
    "start_time": "2021-11-21T00:40:24.495Z"
   },
   {
    "duration": 10,
    "start_time": "2021-11-21T00:40:24.509Z"
   },
   {
    "duration": 2,
    "start_time": "2021-11-21T00:40:24.521Z"
   },
   {
    "duration": 9,
    "start_time": "2021-11-21T00:40:24.525Z"
   },
   {
    "duration": 11,
    "start_time": "2021-11-21T00:40:24.535Z"
   },
   {
    "duration": 49,
    "start_time": "2021-11-21T00:40:24.548Z"
   },
   {
    "duration": 11,
    "start_time": "2021-11-21T00:40:24.599Z"
   },
   {
    "duration": 11,
    "start_time": "2021-11-21T00:40:24.612Z"
   },
   {
    "duration": 9,
    "start_time": "2021-11-21T00:40:24.625Z"
   },
   {
    "duration": 10,
    "start_time": "2021-11-21T00:40:24.636Z"
   },
   {
    "duration": 52,
    "start_time": "2021-11-21T00:40:24.648Z"
   },
   {
    "duration": 526,
    "start_time": "2021-11-21T00:42:54.932Z"
   },
   {
    "duration": 77,
    "start_time": "2021-11-21T00:42:55.459Z"
   },
   {
    "duration": 10,
    "start_time": "2021-11-21T00:42:55.538Z"
   },
   {
    "duration": 15,
    "start_time": "2021-11-21T00:42:55.550Z"
   },
   {
    "duration": 57,
    "start_time": "2021-11-21T00:42:55.567Z"
   },
   {
    "duration": 6,
    "start_time": "2021-11-21T00:42:55.625Z"
   },
   {
    "duration": 7,
    "start_time": "2021-11-21T00:42:55.633Z"
   },
   {
    "duration": 65,
    "start_time": "2021-11-21T00:42:55.642Z"
   },
   {
    "duration": 10,
    "start_time": "2021-11-21T00:42:55.709Z"
   },
   {
    "duration": 24,
    "start_time": "2021-11-21T00:42:55.721Z"
   },
   {
    "duration": 5033,
    "start_time": "2021-11-21T00:42:55.747Z"
   },
   {
    "duration": 20,
    "start_time": "2021-11-21T00:43:00.782Z"
   },
   {
    "duration": 29,
    "start_time": "2021-11-21T00:43:00.804Z"
   },
   {
    "duration": 26,
    "start_time": "2021-11-21T00:43:00.835Z"
   },
   {
    "duration": 14,
    "start_time": "2021-11-21T00:43:00.863Z"
   },
   {
    "duration": 38,
    "start_time": "2021-11-21T00:43:00.879Z"
   },
   {
    "duration": 11,
    "start_time": "2021-11-21T00:43:00.919Z"
   },
   {
    "duration": 36,
    "start_time": "2021-11-21T00:43:00.932Z"
   },
   {
    "duration": 30,
    "start_time": "2021-11-21T00:43:00.970Z"
   },
   {
    "duration": 33,
    "start_time": "2021-11-21T00:43:01.001Z"
   },
   {
    "duration": 58,
    "start_time": "2021-11-21T00:43:01.036Z"
   },
   {
    "duration": 4428,
    "start_time": "2021-11-21T00:43:01.096Z"
   },
   {
    "duration": 14,
    "start_time": "2021-11-21T00:43:05.528Z"
   },
   {
    "duration": 4,
    "start_time": "2021-11-21T00:43:05.545Z"
   },
   {
    "duration": 44,
    "start_time": "2021-11-21T00:43:05.551Z"
   },
   {
    "duration": 4,
    "start_time": "2021-11-21T00:43:05.597Z"
   },
   {
    "duration": 34,
    "start_time": "2021-11-21T00:43:05.603Z"
   },
   {
    "duration": 2,
    "start_time": "2021-11-21T00:43:05.639Z"
   },
   {
    "duration": 14,
    "start_time": "2021-11-21T00:43:05.643Z"
   },
   {
    "duration": 35,
    "start_time": "2021-11-21T00:43:05.659Z"
   },
   {
    "duration": 38,
    "start_time": "2021-11-21T00:43:05.696Z"
   },
   {
    "duration": 49,
    "start_time": "2021-11-21T00:43:05.736Z"
   },
   {
    "duration": 26,
    "start_time": "2021-11-21T00:43:05.786Z"
   },
   {
    "duration": 38,
    "start_time": "2021-11-21T00:43:05.814Z"
   },
   {
    "duration": 28,
    "start_time": "2021-11-21T00:43:05.854Z"
   },
   {
    "duration": 29,
    "start_time": "2021-11-21T00:43:05.883Z"
   },
   {
    "duration": 51,
    "start_time": "2021-11-21T00:43:05.914Z"
   },
   {
    "duration": 36,
    "start_time": "2021-11-21T00:43:05.967Z"
   },
   {
    "duration": 31,
    "start_time": "2021-11-21T00:43:06.004Z"
   },
   {
    "duration": 27,
    "start_time": "2021-11-21T00:43:06.037Z"
   },
   {
    "duration": 32,
    "start_time": "2021-11-21T00:43:06.066Z"
   },
   {
    "duration": 41,
    "start_time": "2021-11-21T00:43:06.100Z"
   },
   {
    "duration": 861,
    "start_time": "2021-11-21T04:20:15.514Z"
   },
   {
    "duration": 101,
    "start_time": "2021-11-21T04:20:16.378Z"
   },
   {
    "duration": 15,
    "start_time": "2021-11-21T04:20:16.483Z"
   },
   {
    "duration": 25,
    "start_time": "2021-11-21T04:20:16.501Z"
   },
   {
    "duration": 71,
    "start_time": "2021-11-21T04:20:16.529Z"
   },
   {
    "duration": 14,
    "start_time": "2021-11-21T04:20:16.603Z"
   },
   {
    "duration": 48,
    "start_time": "2021-11-21T04:20:16.619Z"
   },
   {
    "duration": 57,
    "start_time": "2021-11-21T04:20:16.673Z"
   },
   {
    "duration": 37,
    "start_time": "2021-11-21T04:20:16.735Z"
   },
   {
    "duration": 36,
    "start_time": "2021-11-21T04:20:16.775Z"
   },
   {
    "duration": 9740,
    "start_time": "2021-11-21T04:20:16.814Z"
   },
   {
    "duration": 24,
    "start_time": "2021-11-21T04:20:26.567Z"
   },
   {
    "duration": 24,
    "start_time": "2021-11-21T04:20:26.594Z"
   },
   {
    "duration": 66,
    "start_time": "2021-11-21T04:20:26.621Z"
   },
   {
    "duration": 24,
    "start_time": "2021-11-21T04:20:26.689Z"
   },
   {
    "duration": 56,
    "start_time": "2021-11-21T04:20:26.716Z"
   },
   {
    "duration": 17,
    "start_time": "2021-11-21T04:20:26.775Z"
   },
   {
    "duration": 32,
    "start_time": "2021-11-21T04:20:26.794Z"
   },
   {
    "duration": 57,
    "start_time": "2021-11-21T04:20:26.828Z"
   },
   {
    "duration": 52,
    "start_time": "2021-11-21T04:20:26.887Z"
   },
   {
    "duration": 45,
    "start_time": "2021-11-21T04:20:26.942Z"
   },
   {
    "duration": 5734,
    "start_time": "2021-11-21T04:20:26.990Z"
   },
   {
    "duration": 23,
    "start_time": "2021-11-21T04:20:32.729Z"
   },
   {
    "duration": 4,
    "start_time": "2021-11-21T04:20:32.768Z"
   },
   {
    "duration": 48,
    "start_time": "2021-11-21T04:20:32.775Z"
   },
   {
    "duration": 4,
    "start_time": "2021-11-21T04:20:32.826Z"
   },
   {
    "duration": 79,
    "start_time": "2021-11-21T04:20:32.832Z"
   },
   {
    "duration": 3,
    "start_time": "2021-11-21T04:20:32.914Z"
   },
   {
    "duration": 14,
    "start_time": "2021-11-21T04:20:32.919Z"
   },
   {
    "duration": 5,
    "start_time": "2021-11-21T04:20:32.935Z"
   },
   {
    "duration": 28,
    "start_time": "2021-11-21T04:20:32.942Z"
   },
   {
    "duration": 19,
    "start_time": "2021-11-21T04:20:32.972Z"
   },
   {
    "duration": 15,
    "start_time": "2021-11-21T04:20:32.994Z"
   },
   {
    "duration": 4,
    "start_time": "2021-11-21T04:20:33.012Z"
   },
   {
    "duration": 51,
    "start_time": "2021-11-21T04:20:33.018Z"
   },
   {
    "duration": 15,
    "start_time": "2021-11-21T04:20:33.071Z"
   },
   {
    "duration": 16,
    "start_time": "2021-11-21T04:20:33.089Z"
   },
   {
    "duration": 14,
    "start_time": "2021-11-21T04:20:33.107Z"
   },
   {
    "duration": 47,
    "start_time": "2021-11-21T04:20:33.123Z"
   },
   {
    "duration": 14,
    "start_time": "2021-11-21T04:20:33.172Z"
   },
   {
    "duration": 15,
    "start_time": "2021-11-21T04:20:33.189Z"
   },
   {
    "duration": 13,
    "start_time": "2021-11-21T04:20:33.207Z"
   },
   {
    "duration": 10039,
    "start_time": "2021-11-21T04:23:51.113Z"
   },
   {
    "duration": 448,
    "start_time": "2021-11-21T04:26:45.241Z"
   },
   {
    "duration": 20,
    "start_time": "2021-11-21T04:26:59.155Z"
   }
  ],
  "kernelspec": {
   "display_name": "Python 3 (ipykernel)",
   "language": "python",
   "name": "python3"
  },
  "language_info": {
   "codemirror_mode": {
    "name": "ipython",
    "version": 3
   },
   "file_extension": ".py",
   "mimetype": "text/x-python",
   "name": "python",
   "nbconvert_exporter": "python",
   "pygments_lexer": "ipython3",
   "version": "3.9.13"
  },
  "toc": {
   "base_numbering": 1,
   "nav_menu": {},
   "number_sections": true,
   "sideBar": true,
   "skip_h1_title": true,
   "title_cell": "Table of Contents",
   "title_sidebar": "Contents",
   "toc_cell": false,
   "toc_position": {},
   "toc_section_display": true,
   "toc_window_display": false
  }
 },
 "nbformat": 4,
 "nbformat_minor": 2
}
